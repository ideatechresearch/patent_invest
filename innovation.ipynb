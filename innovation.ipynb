{
 "cells": [
  {
   "cell_type": "code",
   "execution_count": 18,
   "id": "fe6aa97b-550c-4906-a35c-ccbba5268224",
   "metadata": {},
   "outputs": [],
   "source": [
    "import pandas as pd\n",
    "import numpy as np\n",
    "suffix=f'先进制造未上市'\n",
    "doc_lda_w2v_0=pd.read_parquet(f'data\\\\documents_vec_{suffix}.parquet')  \n",
    "\n",
    "suffix=f'先进制造上市'#,'制造业上市'\n",
    "doc_lda_w2v_1=pd.read_parquet(f'data\\\\documents_vec_{suffix}.parquet')\n",
    "\n",
    "doc_lda_w2v=pd.concat([doc_lda_w2v_0,doc_lda_w2v_1])\n",
    "\n",
    "patent_co=pd.read_csv('data\\patent_co_1953_16k_202407.csv',index_col=0)\n",
    "patent_co['申请日']=pd.to_datetime(patent_co['申请日'])\n",
    "patent_co_1=patent_co[(patent_co.行业=='先进制造')]\n",
    "\n",
    "df_patent_invest=pd.read_csv('data\\\\patent_invest_202407_发明授权_发明申请.csv',index_col=0)#patent_invest_202408_先进制造\n",
    "df_patent_invest['融资时间']=pd.to_datetime(df_patent_invest['融资时间'])\n",
    "final_invest_data_tech_1=df_patent_invest[(df_patent_invest.行业=='先进制造')].sort_values(by=['公司序号','融资时间'])#&(final_invest_data_tech.上市Days.isna())\n",
    "final_invest_data_tech_1.shape"
   ]
  },
  {
   "cell_type": "code",
   "execution_count": 4,
   "id": "4a87eac4-afa7-4fe0-b38f-8d6f5254b214",
   "metadata": {},
   "outputs": [
    {
     "data": {
      "text/plain": [
       "((1348153, 250), (1203317, 39))"
      ]
     },
     "execution_count": 4,
     "metadata": {},
     "output_type": "execute_result"
    }
   ],
   "source": [
    "doc_lda_w2v.shape,patent_co_1.shape"
   ]
  },
  {
   "cell_type": "code",
   "execution_count": 18,
   "id": "f5f9e16c-e534-4080-9a34-8f6ae4442409",
   "metadata": {},
   "outputs": [
    {
     "data": {
      "text/plain": [
       "序号\n",
       "CN106370313B    4\n",
       "CN104183435B    4\n",
       "CN204067280U    4\n",
       "CN204067282U    4\n",
       "CN204067283U    4\n",
       "               ..\n",
       "CN105244535B    1\n",
       "CN105239082B    1\n",
       "CN105226318B    1\n",
       "CN105244543B    1\n",
       "CN3044990D      1\n",
       "Name: count, Length: 1171534, dtype: int64"
      ]
     },
     "execution_count": 18,
     "metadata": {},
     "output_type": "execute_result"
    }
   ],
   "source": [
    "doc_lda_w2v.index.value_counts()"
   ]
  },
  {
   "cell_type": "code",
   "execution_count": 5,
   "id": "e6a3d0ca-2eb7-4922-9f74-f7513f6ae218",
   "metadata": {},
   "outputs": [
    {
     "data": {
      "text/plain": [
       "(1171534, 250)"
      ]
     },
     "execution_count": 5,
     "metadata": {},
     "output_type": "execute_result"
    }
   ],
   "source": [
    "doc_lda_w2v=doc_lda_w2v.groupby(doc_lda_w2v.index).mean()\n",
    "doc_lda_w2v.shape"
   ]
  },
  {
   "cell_type": "code",
   "execution_count": 37,
   "id": "449997d8-bdcd-4be8-8c44-73fd4fa0c3d9",
   "metadata": {},
   "outputs": [
    {
     "data": {
      "text/plain": [
       "set()"
      ]
     },
     "execution_count": 37,
     "metadata": {},
     "output_type": "execute_result"
    }
   ],
   "source": [
    "set(doc_lda_w2v.index)-set(patent_co_1['公开（公告）号'])"
   ]
  },
  {
   "cell_type": "code",
   "execution_count": 7,
   "id": "f5face14-1ef9-4c8d-a6b6-5544c40079eb",
   "metadata": {},
   "outputs": [
    {
     "name": "stdout",
     "output_type": "stream",
     "text": [
      "<class 'pandas.core.frame.DataFrame'>\n",
      "Index: 107145 entries, 20629 to 127770\n",
      "Data columns (total 62 columns):\n",
      " #   Column           Non-Null Count   Dtype         \n",
      "---  ------           --------------   -----         \n",
      " 0   公司序号             107145 non-null  int64         \n",
      " 1   公司简称             107145 non-null  object        \n",
      " 2   工商全称             106926 non-null  object        \n",
      " 3   成立时间             107145 non-null  object        \n",
      " 4   公司简介             107145 non-null  object        \n",
      " 5   省                107145 non-null  object        \n",
      " 6   市                107145 non-null  object        \n",
      " 7   行业               107145 non-null  object        \n",
      " 8   子行业              107145 non-null  object        \n",
      " 9   估算估值             99741 non-null   float64       \n",
      " 10  北上广深             107145 non-null  int64         \n",
      " 11  IPO上市日期          26292 non-null   object        \n",
      " 12  首次上市日期           24372 non-null   object        \n",
      " 13  目前已上市            107145 non-null  int64         \n",
      " 14  高科技企业            107145 non-null  float64       \n",
      " 15  经度               107145 non-null  float64       \n",
      " 16  纬度               107145 non-null  float64       \n",
      " 17  融资时间             20384 non-null   datetime64[ns]\n",
      " 18  轮次               20384 non-null   object        \n",
      " 19  金额               20384 non-null   object        \n",
      " 20  币种               20384 non-null   object        \n",
      " 21  等值人民币（万）         20300 non-null   float64       \n",
      " 22  投资机构             15981 non-null   object        \n",
      " 23  VC_Amount        20300 non-null   float64       \n",
      " 24  Cum_invset       20384 non-null   float64       \n",
      " 25  Age              20384 non-null   float64       \n",
      " 26  VC-num           15981 non-null   float64       \n",
      " 27  融资阶段_初创/商业化      20384 non-null   object        \n",
      " 28  有披露              20384 non-null   float64       \n",
      " 29  vc_first         12804 non-null   object        \n",
      " 30  vc_distance      8840 non-null    float64       \n",
      " 31  VC行业经验           12804 non-null   float64       \n",
      " 32  vc_mktexp        9120 non-null    float64       \n",
      " 33  vc_rep           9269 non-null    float64       \n",
      " 34  成立年份             107145 non-null  float64       \n",
      " 35  融资年份             20384 non-null   float64       \n",
      " 36  上市Days           1872 non-null    float64       \n",
      " 37  观察年              107145 non-null  float64       \n",
      " 38  是否融资             107145 non-null  int64         \n",
      " 39  投资时间_Shift       39647 non-null   object        \n",
      " 40  Application_num  40297 non-null   float64       \n",
      " 41  IPC主分类_去重        40297 non-null   float64       \n",
      " 42  IPC主分类_平均        40297 non-null   float64       \n",
      " 43  IPC_个数_去重        40297 non-null   float64       \n",
      " 44  IPC_个数_平均        40297 non-null   float64       \n",
      " 45  知识宽度             40297 non-null   float64       \n",
      " 46  被引证次数            40297 non-null   float64       \n",
      " 47  引证数量             40297 non-null   float64       \n",
      " 48  引证数量_去重          40297 non-null   float64       \n",
      " 49  引证数量_平均          37025 non-null   float64       \n",
      " 50  简单同族个数           40297 non-null   float64       \n",
      " 51  简单同族_去重          40297 non-null   float64       \n",
      " 52  简单同族美日欧_比例       40297 non-null   float64       \n",
      " 53  发明人数量            40297 non-null   float64       \n",
      " 54  发明人数量_去重         40297 non-null   float64       \n",
      " 55  发明人数量_平均         40296 non-null   float64       \n",
      " 56  权利要求数量           40297 non-null   float64       \n",
      " 57  引证科技文献数量         40297 non-null   float64       \n",
      " 58  有效数量             40297 non-null   float64       \n",
      " 59  有效_比例            40297 non-null   float64       \n",
      " 60  发明授权             40297 non-null   float64       \n",
      " 61  发明申请             40297 non-null   float64       \n",
      "dtypes: datetime64[ns](1), float64(40), int64(4), object(17)\n",
      "memory usage: 51.5+ MB\n"
     ]
    }
   ],
   "source": [
    "final_invest_data_tech_1.info()"
   ]
  },
  {
   "cell_type": "code",
   "execution_count": 17,
   "id": "1caa717a-f456-475b-a8f0-3bccd3e37177",
   "metadata": {},
   "outputs": [
    {
     "data": {
      "text/plain": [
       "0"
      ]
     },
     "execution_count": 17,
     "metadata": {},
     "output_type": "execute_result"
    }
   ],
   "source": [
    "final_invest_data_tech_1['观察日']=np.where(final_invest_data_tech_1.融资时间.notna(), final_invest_data_tech_1.融资时间,\n",
    "                                         pd.to_datetime(final_invest_data_tech_1['观察年'], format='%Y')+ pd.offsets.YearEnd())\n",
    "final_invest_data_tech_1['观察日'].isna().sum()"
   ]
  },
  {
   "cell_type": "code",
   "execution_count": 39,
   "id": "64195ecf-2f53-497f-872b-608e266fccc4",
   "metadata": {},
   "outputs": [],
   "source": [
    "from sklearn.metrics.pairwise import cosine_similarity"
   ]
  },
  {
   "cell_type": "code",
   "execution_count": 56,
   "id": "e202fa82-d1ed-4198-96a1-4ed597ff8c47",
   "metadata": {},
   "outputs": [
    {
     "data": {
      "text/plain": [
       "1721380    F21\n",
       "1739616    F21\n",
       "1739617    H05\n",
       "Name: IPC主分类, dtype: object"
      ]
     },
     "execution_count": 56,
     "metadata": {},
     "output_type": "execute_result"
    }
   ],
   "source": [
    "tech_category"
   ]
  },
  {
   "cell_type": "code",
   "execution_count": 65,
   "id": "fa1ce3f8-74e7-41e1-a137-042f2b0a42be",
   "metadata": {},
   "outputs": [
    {
     "data": {
      "text/plain": [
       "array([0., 0., 0., 0.])"
      ]
     },
     "execution_count": 65,
     "metadata": {},
     "output_type": "execute_result"
    }
   ],
   "source": [
    " np.empty(len(base_category))"
   ]
  },
  {
   "cell_type": "code",
   "execution_count": 67,
   "id": "180e4cc2-59b0-49a2-9db3-967843e9fd7b",
   "metadata": {},
   "outputs": [
    {
     "name": "stderr",
     "output_type": "stream",
     "text": [
      "C:\\Users\\Prime\\AppData\\Local\\Temp\\ipykernel_24800\\1958649803.py:1: SettingWithCopyWarning: \n",
      "A value is trying to be set on a copy of a slice from a DataFrame.\n",
      "Try using .loc[row_indexer,col_indexer] = value instead\n",
      "\n",
      "See the caveats in the documentation: https://pandas.pydata.org/pandas-docs/stable/user_guide/indexing.html#returning-a-view-versus-a-copy\n",
      "  patent_co_1['技术大类']=patent_co_1.IPC主分类.str.strip().str[:3]\n"
     ]
    }
   ],
   "source": [
    "patent_co_1['技术大类']=patent_co_1.IPC主分类.str.strip().str[:3]"
   ]
  },
  {
   "cell_type": "code",
   "execution_count": null,
   "id": "46d11b38-5a0c-42b0-b47a-170a5504a3a2",
   "metadata": {},
   "outputs": [
    {
     "name": "stdout",
     "output_type": "stream",
     "text": [
      "1971\n",
      "1972\n",
      "1973\n",
      "1974\n",
      "1975\n",
      "1976\n",
      "1977\n",
      "1978\n",
      "1979\n",
      "1980\n",
      "1981\n",
      "1982\n",
      "1983\n",
      "1984\n",
      "1985\n",
      "1986\n",
      "1987\n",
      "1988\n",
      "1989\n",
      "1990\n",
      "1991\n",
      "1992\n",
      "1993\n",
      "1994\n",
      "1995\n",
      "1996\n",
      "1997\n",
      "1998\n",
      "1999\n",
      "2000\n",
      "2001\n",
      "2002\n",
      "2003\n",
      "2004\n",
      "2005\n",
      "2006\n",
      "2007\n",
      "2008\n",
      "2009\n",
      "2010\n",
      "2011\n",
      "2012\n",
      "2013\n",
      "2014\n",
      "2015\n",
      "2016\n",
      "2017\n"
     ]
    }
   ],
   "source": [
    "%%time\n",
    "tuple_list = [(1, 4), (2, 4), (1, 5), (2, 5), (2, 6), (3, 4), (3, 5)]\n",
    "Threshold=0.8\n",
    "Year=None\n",
    "for date in sorted(final_invest_data_tech_1['观察日'].unique()):\n",
    "    if date.year!=Year:\n",
    "        print(date.year)\n",
    "        Year=date.year\n",
    "        \n",
    "    fiter_invest=final_invest_data_tech_1[final_invest_data_tech_1['观察日']==date]\n",
    "    filter_value=patent_co_1[patent_co_1.申请日<date]\n",
    "    if filter_value.empty:\n",
    "        continue\n",
    "    \n",
    "    for index,row in fiter_invest.iterrows():\n",
    "        filter_value_0=filter_value[filter_value.工商全称==row.工商全称]\n",
    "        if filter_value_0.empty:\n",
    "            continue\n",
    "            \n",
    "        metrics = {}\n",
    "        for m,n in tuple_list:\n",
    "            suffix=f'{m,n}'\n",
    "            M=m*365\n",
    "            N=n*365\n",
    "            filter_value_1=filter_value_0[filter_value_0.申请日>=date-pd.Timedelta(days=N)]\n",
    "            if filter_value_1.empty:\n",
    "                continue\n",
    "                \n",
    "            mask=filter_value_1.申请日 <  date-pd.Timedelta(days=(N - M))\n",
    "            tech_category_value = filter_value_1[mask]\n",
    "            base_category_value = filter_value_1[~mask]\n",
    "            \n",
    "            tech_category= doc_lda_w2v.loc[doc_lda_w2v.index.isin(tech_category_value['公开（公告）号'])]\n",
    "            base_category= doc_lda_w2v.loc[doc_lda_w2v.index.isin(base_category_value['公开（公告）号'])]\n",
    "            if not tech_category.empty and not base_category.empty:\n",
    "                cosine_sim = cosine_similarity(tech_category.values,base_category.values)#shape:len(tech_category) x len(base_category)\n",
    "                tech_base_i = cosine_sim.mean(axis=0) #len(base_category)\n",
    "                innovation_patent_num = (tech_base_i < Threshold).sum() #统计base_category中小于threshold的专利个数\n",
    "                \n",
    "                metrics[f'innovation_patent_num_{suffix}']=innovation_patent_num\n",
    "                metrics[f'tech_closeness_innovation_{suffix}']=innovation_patent_num / len(filter_value_1)\n",
    "                metrics[f'tech_base_i_mean_{suffix}']= tech_base_i.mean()      \n",
    "    \n",
    "        #--------\n",
    "            diff_ipcs=set(tech_category_value.技术大类)^set(base_category_value.技术大类)\n",
    "            innovation_patent_num=len(diff_ipcs)\n",
    "            \n",
    "            metrics[f'innovation_patent_num_ipc_{suffix}']=innovation_patent_num\n",
    "            metrics[f'ipc_innovationc_{suffix}']=innovation_patent_num / len(filter_value_1)\n",
    "           \n",
    "            metrics[f'overlap_patent_num_{suffix}'] = len(set(base_category.index) & set(filter_value_1.loc[filter_value_1.技术大类.isin(diff_ipcs),'公开（公告）号']))# 计算 tech_base_i 和 IPC 分类差集的重合部分\n",
    "    \n",
    "            \n",
    "        final_invest_data_tech_1.loc[index, metrics.keys()] = pd.Series(metrics) \n",
    "\n",
    "\n",
    "    \n",
    "final_invest_data_tech_1"
   ]
  },
  {
   "cell_type": "code",
   "execution_count": 72,
   "id": "db03442d-d28f-45d3-88c3-a04d5b1b3f03",
   "metadata": {},
   "outputs": [
    {
     "data": {
      "text/plain": [
       "innovation_patent_num_(1, 4)        35589.000000\n",
       "tech_closeness_innovation_(1, 4)        0.690003\n",
       "tech_base_i_mean_(1, 4)                 0.731518\n",
       "innovation_patent_num_ipc_(1, 4)       25.000000\n",
       "ipc_innovationc_(1, 4)                  0.000485\n",
       "overlap_patent_num_(1, 4)             258.000000\n",
       "innovation_patent_num_(2, 4)        19597.000000\n",
       "tech_closeness_innovation_(2, 4)        0.379949\n",
       "tech_base_i_mean_(2, 4)                 0.734651\n",
       "innovation_patent_num_ipc_(2, 4)       18.000000\n",
       "ipc_innovationc_(2, 4)                  0.000349\n",
       "overlap_patent_num_(2, 4)              64.000000\n",
       "innovation_patent_num_(1, 5)        49244.000000\n",
       "tech_closeness_innovation_(1, 5)        0.760220\n",
       "tech_base_i_mean_(1, 5)                 0.735229\n",
       "innovation_patent_num_ipc_(1, 5)       20.000000\n",
       "ipc_innovationc_(1, 5)                  0.000309\n",
       "overlap_patent_num_(1, 5)             167.000000\n",
       "innovation_patent_num_(2, 5)        35281.000000\n",
       "tech_closeness_innovation_(2, 5)        0.544662\n",
       "tech_base_i_mean_(2, 5)                 0.734033\n",
       "innovation_patent_num_ipc_(2, 5)       17.000000\n",
       "ipc_innovationc_(2, 5)                  0.000262\n",
       "overlap_patent_num_(2, 5)             121.000000\n",
       "dtype: float64"
      ]
     },
     "execution_count": 72,
     "metadata": {},
     "output_type": "execute_result"
    }
   ],
   "source": [
    "pd.Series(metrics) "
   ]
  },
  {
   "cell_type": "code",
   "execution_count": 77,
   "id": "8f563214-94dd-45a7-8c0b-79a466b031f1",
   "metadata": {},
   "outputs": [],
   "source": [
    "final_invest_data_tech_1['成立时间']=pd.to_datetime(final_invest_data_tech_1['成立时间'])\n",
    "final_invest_data_tech_1['成立到首次融资']=(final_invest_data_tech_1.groupby('公司序号')['融资时间'].transform('min')-final_invest_data_tech_1['成立时间']).dt.days"
   ]
  },
  {
   "cell_type": "code",
   "execution_count": 78,
   "id": "a6413550-9a8d-4574-ae89-b7381ab01e05",
   "metadata": {},
   "outputs": [],
   "source": [
    "final_invest_data_tech_1.to_excel('data/patent_innovation_202407_先进制造.xlsx')"
   ]
  },
  {
   "cell_type": "code",
   "execution_count": 9,
   "id": "7af8a8ff-05a5-4df0-b894-e55986272893",
   "metadata": {},
   "outputs": [
    {
     "data": {
      "text/plain": [
       "['公司序号',\n",
       " '公司简称',\n",
       " '工商全称',\n",
       " '成立时间',\n",
       " '公司简介',\n",
       " '省',\n",
       " '市',\n",
       " '行业',\n",
       " '子行业',\n",
       " '估算估值',\n",
       " '北上广深',\n",
       " 'IPO上市日期',\n",
       " '首次上市日期',\n",
       " '目前已上市',\n",
       " '高科技企业',\n",
       " '经度',\n",
       " '纬度',\n",
       " '融资时间',\n",
       " '轮次',\n",
       " '金额',\n",
       " '币种',\n",
       " '等值人民币（万）',\n",
       " '投资机构',\n",
       " 'VC_Amount',\n",
       " 'Cum_invset',\n",
       " 'Age',\n",
       " 'VC-num',\n",
       " '融资阶段_初创/商业化',\n",
       " '有披露',\n",
       " 'vc_first',\n",
       " 'vc_distance',\n",
       " 'VC行业经验',\n",
       " 'vc_mktexp',\n",
       " 'vc_rep',\n",
       " '成立年份',\n",
       " '融资年份',\n",
       " '上市Days',\n",
       " '观察年',\n",
       " '是否融资',\n",
       " '投资时间_Shift',\n",
       " 'Application_num',\n",
       " 'IPC主分类_去重',\n",
       " 'IPC主分类_平均',\n",
       " 'IPC_个数_去重',\n",
       " 'IPC_个数_平均',\n",
       " '知识宽度',\n",
       " '被引证次数',\n",
       " '引证数量',\n",
       " '引证数量_去重',\n",
       " '引证数量_平均',\n",
       " '简单同族个数',\n",
       " '简单同族_去重',\n",
       " '简单同族美日欧_比例',\n",
       " '发明人数量',\n",
       " '发明人数量_去重',\n",
       " '发明人数量_平均',\n",
       " '权利要求数量',\n",
       " '引证科技文献数量',\n",
       " '有效数量',\n",
       " '有效_比例',\n",
       " '发明授权',\n",
       " '发明申请',\n",
       " '观察日',\n",
       " 'innovation_patent_num_ipc_(1, 4)',\n",
       " 'ipc_innovationc_(1, 4)',\n",
       " 'innovation_patent_num_ipc_(2, 4)',\n",
       " 'ipc_innovationc_(2, 4)',\n",
       " 'innovation_patent_num_ipc_(1, 5)',\n",
       " 'ipc_innovationc_(1, 5)',\n",
       " 'innovation_patent_num_ipc_(2, 5)',\n",
       " 'ipc_innovationc_(2, 5)',\n",
       " 'innovation_patent_num_ipc_(2, 6)',\n",
       " 'ipc_innovationc_(2, 6)',\n",
       " 'innovation_patent_num_(3, 4)',\n",
       " 'tech_closeness_innovation_(3, 4)',\n",
       " 'tech_base_i_mean_(3, 4)',\n",
       " 'innovation_patent_num_ipc_(3, 4)',\n",
       " 'ipc_innovationc_(3, 4)',\n",
       " 'innovation_patent_num_ipc_(3, 5)',\n",
       " 'ipc_innovationc_(3, 5)',\n",
       " 'innovation_patent_num_(2, 4)',\n",
       " 'tech_closeness_innovation_(2, 4)',\n",
       " 'tech_base_i_mean_(2, 4)',\n",
       " 'innovation_patent_num_(3, 5)',\n",
       " 'tech_closeness_innovation_(3, 5)',\n",
       " 'tech_base_i_mean_(3, 5)',\n",
       " 'innovation_patent_num_(1, 4)',\n",
       " 'tech_closeness_innovation_(1, 4)',\n",
       " 'tech_base_i_mean_(1, 4)',\n",
       " 'innovation_patent_num_(2, 5)',\n",
       " 'tech_closeness_innovation_(2, 5)',\n",
       " 'tech_base_i_mean_(2, 5)',\n",
       " 'innovation_patent_num_(1, 5)',\n",
       " 'tech_closeness_innovation_(1, 5)',\n",
       " 'tech_base_i_mean_(1, 5)',\n",
       " 'innovation_patent_num_(2, 6)',\n",
       " 'tech_closeness_innovation_(2, 6)',\n",
       " 'tech_base_i_mean_(2, 6)',\n",
       " 'overlap_patent_num_(1, 4)',\n",
       " 'overlap_patent_num_(2, 4)',\n",
       " 'overlap_patent_num_(1, 5)',\n",
       " 'overlap_patent_num_(2, 5)',\n",
       " 'overlap_patent_num_(2, 6)',\n",
       " 'overlap_patent_num_(3, 4)',\n",
       " 'overlap_patent_num_(3, 5)',\n",
       " '成立到首次融资']"
      ]
     },
     "execution_count": 9,
     "metadata": {},
     "output_type": "execute_result"
    }
   ],
   "source": [
    "final_invest_data_tech_1.columns.to_list()"
   ]
  },
  {
   "cell_type": "code",
   "execution_count": 10,
   "id": "29f85f5e-cf6a-481d-855a-e2a9e9e266b0",
   "metadata": {},
   "outputs": [],
   "source": [
    "fields = [\n",
    "    # (1, 4)\n",
    "    [\n",
    "        'innovation_patent_num_ipc_(1, 4)',\n",
    "        'ipc_innovationc_(1, 4)',\n",
    "        'innovation_patent_num_(1, 4)',\n",
    "        'tech_closeness_innovation_(1, 4)',\n",
    "        'tech_base_i_mean_(1, 4)',\n",
    "        'overlap_patent_num_(1, 4)'\n",
    "    ],\n",
    "    # (2, 4)\n",
    "    [\n",
    "        'innovation_patent_num_ipc_(2, 4)',\n",
    "        'ipc_innovationc_(2, 4)',\n",
    "        'innovation_patent_num_(2, 4)',\n",
    "        'tech_closeness_innovation_(2, 4)',\n",
    "        'tech_base_i_mean_(2, 4)',\n",
    "        'overlap_patent_num_(2, 4)'\n",
    "    ],\n",
    "    # (3, 4)\n",
    "    [\n",
    "        'innovation_patent_num_ipc_(3, 4)',\n",
    "        'ipc_innovationc_(3, 4)',\n",
    "        'innovation_patent_num_(3, 4)',\n",
    "        'tech_closeness_innovation_(3, 4)',\n",
    "        'tech_base_i_mean_(3, 4)',\n",
    "        'overlap_patent_num_(3, 4)'\n",
    "    ],\n",
    "    # (1, 5)\n",
    "    [\n",
    "        'innovation_patent_num_ipc_(1, 5)',\n",
    "        'ipc_innovationc_(1, 5)',\n",
    "        'innovation_patent_num_(1, 5)',\n",
    "        'tech_closeness_innovation_(1, 5)',\n",
    "        'tech_base_i_mean_(1, 5)',\n",
    "        'overlap_patent_num_(1, 5)'\n",
    "    ],\n",
    "    # (2, 5)\n",
    "    [\n",
    "        'innovation_patent_num_ipc_(2, 5)',\n",
    "        'ipc_innovationc_(2, 5)',\n",
    "        'innovation_patent_num_(2, 5)',\n",
    "        'tech_closeness_innovation_(2, 5)',\n",
    "        'tech_base_i_mean_(2, 5)',\n",
    "        'overlap_patent_num_(2, 5)'\n",
    "    ],\n",
    "    # (3, 5)\n",
    "    [\n",
    "        'innovation_patent_num_ipc_(3, 5)',\n",
    "        'ipc_innovationc_(3, 5)',\n",
    "        'innovation_patent_num_(3, 5)',\n",
    "        'tech_closeness_innovation_(3, 5)',\n",
    "        'tech_base_i_mean_(3, 5)',\n",
    "        'overlap_patent_num_(3, 5)'\n",
    "    ],\n",
    "    # (2, 6)\n",
    "    [\n",
    "        'innovation_patent_num_ipc_(2, 6)',\n",
    "        'ipc_innovationc_(2, 6)',\n",
    "        'innovation_patent_num_(2, 6)',\n",
    "        'tech_closeness_innovation_(2, 6)',\n",
    "        'tech_base_i_mean_(2, 6)',\n",
    "        'overlap_patent_num_(2, 6)'\n",
    "    ]\n",
    "]"
   ]
  },
  {
   "cell_type": "code",
   "execution_count": 14,
   "id": "0f89fde6-5e1d-4525-9b25-e71c5b657a4a",
   "metadata": {},
   "outputs": [
    {
     "data": {
      "text/plain": [
       "10018"
      ]
     },
     "execution_count": 14,
     "metadata": {},
     "output_type": "execute_result"
    }
   ],
   "source": [
    "final_invest_data_tech_1['是否首轮融资']=(final_invest_data_tech_1['融资时间'] == final_invest_data_tech_1.groupby('公司序号')['融资时间'].transform('min')).astype(int)\n",
    "final_invest_data_tech_1['是否首轮融资'].sum()"
   ]
  },
  {
   "cell_type": "code",
   "execution_count": 16,
   "id": "8532c739-57a9-4ca0-a1d9-3363547d93a4",
   "metadata": {},
   "outputs": [
    {
     "data": {
      "text/html": [
       "<div>\n",
       "<style scoped>\n",
       "    .dataframe tbody tr th:only-of-type {\n",
       "        vertical-align: middle;\n",
       "    }\n",
       "\n",
       "    .dataframe tbody tr th {\n",
       "        vertical-align: top;\n",
       "    }\n",
       "\n",
       "    .dataframe thead th {\n",
       "        text-align: right;\n",
       "    }\n",
       "</style>\n",
       "<table border=\"1\" class=\"dataframe\">\n",
       "  <thead>\n",
       "    <tr style=\"text-align: right;\">\n",
       "      <th></th>\n",
       "      <th>融资时间</th>\n",
       "      <th>融资阶段_初创/商业化</th>\n",
       "      <th>融资年份</th>\n",
       "      <th>是否融资</th>\n",
       "      <th>成立到首次融资</th>\n",
       "      <th>是否首轮融资</th>\n",
       "    </tr>\n",
       "  </thead>\n",
       "  <tbody>\n",
       "    <tr>\n",
       "      <th>20629</th>\n",
       "      <td>2013-03-01</td>\n",
       "      <td>初创融资阶段</td>\n",
       "      <td>2013.0</td>\n",
       "      <td>1</td>\n",
       "      <td>731</td>\n",
       "      <td>1</td>\n",
       "    </tr>\n",
       "    <tr>\n",
       "      <th>20630</th>\n",
       "      <td>2014-09-01</td>\n",
       "      <td>初创融资阶段</td>\n",
       "      <td>2014.0</td>\n",
       "      <td>1</td>\n",
       "      <td>731</td>\n",
       "      <td>0</td>\n",
       "    </tr>\n",
       "    <tr>\n",
       "      <th>20627</th>\n",
       "      <td>NaT</td>\n",
       "      <td>NaN</td>\n",
       "      <td>NaN</td>\n",
       "      <td>0</td>\n",
       "      <td>731</td>\n",
       "      <td>0</td>\n",
       "    </tr>\n",
       "    <tr>\n",
       "      <th>20628</th>\n",
       "      <td>NaT</td>\n",
       "      <td>NaN</td>\n",
       "      <td>NaN</td>\n",
       "      <td>0</td>\n",
       "      <td>731</td>\n",
       "      <td>0</td>\n",
       "    </tr>\n",
       "    <tr>\n",
       "      <th>20632</th>\n",
       "      <td>2012-04-04</td>\n",
       "      <td>初创融资阶段</td>\n",
       "      <td>2012.0</td>\n",
       "      <td>1</td>\n",
       "      <td>247</td>\n",
       "      <td>1</td>\n",
       "    </tr>\n",
       "    <tr>\n",
       "      <th>...</th>\n",
       "      <td>...</td>\n",
       "      <td>...</td>\n",
       "      <td>...</td>\n",
       "      <td>...</td>\n",
       "      <td>...</td>\n",
       "      <td>...</td>\n",
       "    </tr>\n",
       "    <tr>\n",
       "      <th>127766</th>\n",
       "      <td>NaT</td>\n",
       "      <td>NaN</td>\n",
       "      <td>NaN</td>\n",
       "      <td>0</td>\n",
       "      <td>3561</td>\n",
       "      <td>0</td>\n",
       "    </tr>\n",
       "    <tr>\n",
       "      <th>127767</th>\n",
       "      <td>NaT</td>\n",
       "      <td>NaN</td>\n",
       "      <td>NaN</td>\n",
       "      <td>0</td>\n",
       "      <td>3561</td>\n",
       "      <td>0</td>\n",
       "    </tr>\n",
       "    <tr>\n",
       "      <th>127768</th>\n",
       "      <td>NaT</td>\n",
       "      <td>NaN</td>\n",
       "      <td>NaN</td>\n",
       "      <td>0</td>\n",
       "      <td>3561</td>\n",
       "      <td>0</td>\n",
       "    </tr>\n",
       "    <tr>\n",
       "      <th>127769</th>\n",
       "      <td>NaT</td>\n",
       "      <td>NaN</td>\n",
       "      <td>NaN</td>\n",
       "      <td>0</td>\n",
       "      <td>3561</td>\n",
       "      <td>0</td>\n",
       "    </tr>\n",
       "    <tr>\n",
       "      <th>127770</th>\n",
       "      <td>NaT</td>\n",
       "      <td>NaN</td>\n",
       "      <td>NaN</td>\n",
       "      <td>0</td>\n",
       "      <td>3561</td>\n",
       "      <td>0</td>\n",
       "    </tr>\n",
       "  </tbody>\n",
       "</table>\n",
       "<p>107145 rows × 6 columns</p>\n",
       "</div>"
      ],
      "text/plain": [
       "             融资时间 融资阶段_初创/商业化    融资年份  是否融资  成立到首次融资  是否首轮融资\n",
       "20629  2013-03-01      初创融资阶段  2013.0     1      731       1\n",
       "20630  2014-09-01      初创融资阶段  2014.0     1      731       0\n",
       "20627         NaT         NaN     NaN     0      731       0\n",
       "20628         NaT         NaN     NaN     0      731       0\n",
       "20632  2012-04-04      初创融资阶段  2012.0     1      247       1\n",
       "...           ...         ...     ...   ...      ...     ...\n",
       "127766        NaT         NaN     NaN     0     3561       0\n",
       "127767        NaT         NaN     NaN     0     3561       0\n",
       "127768        NaT         NaN     NaN     0     3561       0\n",
       "127769        NaT         NaN     NaN     0     3561       0\n",
       "127770        NaT         NaN     NaN     0     3561       0\n",
       "\n",
       "[107145 rows x 6 columns]"
      ]
     },
     "execution_count": 16,
     "metadata": {},
     "output_type": "execute_result"
    }
   ],
   "source": [
    "final_invest_data_tech_1.filter(like='融资')"
   ]
  }
 ],
 "metadata": {
  "kernelspec": {
   "display_name": "Python 3 (ipykernel)",
   "language": "python",
   "name": "python3"
  },
  "language_info": {
   "codemirror_mode": {
    "name": "ipython",
    "version": 3
   },
   "file_extension": ".py",
   "mimetype": "text/x-python",
   "name": "python",
   "nbconvert_exporter": "python",
   "pygments_lexer": "ipython3",
   "version": "3.9.13"
  }
 },
 "nbformat": 4,
 "nbformat_minor": 5
}
