{
 "cells": [
  {
   "cell_type": "code",
   "execution_count": 2,
   "id": "ec118fa6-4f96-4125-8652-62ef5731ccb4",
   "metadata": {},
   "outputs": [],
   "source": [
    "import pandas as pd"
   ]
  },
  {
   "cell_type": "code",
   "execution_count": 3,
   "id": "1c39fb39-4a6a-4328-974a-9b20039b27f7",
   "metadata": {},
   "outputs": [
    {
     "data": {
      "text/html": [
       "<div>\n",
       "<style scoped>\n",
       "    .dataframe tbody tr th:only-of-type {\n",
       "        vertical-align: middle;\n",
       "    }\n",
       "\n",
       "    .dataframe tbody tr th {\n",
       "        vertical-align: top;\n",
       "    }\n",
       "\n",
       "    .dataframe thead th {\n",
       "        text-align: right;\n",
       "    }\n",
       "</style>\n",
       "<table border=\"1\" class=\"dataframe\">\n",
       "  <thead>\n",
       "    <tr style=\"text-align: right;\">\n",
       "      <th></th>\n",
       "      <th>VC_fullname</th>\n",
       "      <th>Alias</th>\n",
       "    </tr>\n",
       "  </thead>\n",
       "  <tbody>\n",
       "    <tr>\n",
       "      <th>0</th>\n",
       "      <td>10T Holdings</td>\n",
       "      <td>10T</td>\n",
       "    </tr>\n",
       "    <tr>\n",
       "      <th>1</th>\n",
       "      <td>123RF LIMITED</td>\n",
       "      <td>123RF</td>\n",
       "    </tr>\n",
       "    <tr>\n",
       "      <th>2</th>\n",
       "      <td>1535创投</td>\n",
       "      <td>杭州壹伍叁伍创业投资管理有限公司</td>\n",
       "    </tr>\n",
       "    <tr>\n",
       "      <th>3</th>\n",
       "      <td>1982 Ventures Pte.Ltd.</td>\n",
       "      <td>1982 Ventures</td>\n",
       "    </tr>\n",
       "    <tr>\n",
       "      <th>4</th>\n",
       "      <td>20/20 HealthCare Partners</td>\n",
       "      <td>20/20 HealthCare</td>\n",
       "    </tr>\n",
       "    <tr>\n",
       "      <th>...</th>\n",
       "      <td>...</td>\n",
       "      <td>...</td>\n",
       "    </tr>\n",
       "    <tr>\n",
       "      <th>43423</th>\n",
       "      <td>龙芯中科技术股份有限公司</td>\n",
       "      <td>龙芯中科技术</td>\n",
       "    </tr>\n",
       "    <tr>\n",
       "      <th>43424</th>\n",
       "      <td>龙芯中科技术股份有限公司</td>\n",
       "      <td>龙芯中科技术有限公司</td>\n",
       "    </tr>\n",
       "    <tr>\n",
       "      <th>43425</th>\n",
       "      <td>龙赢富泽资产管理(北京)有限公司</td>\n",
       "      <td>龙赢富泽资产</td>\n",
       "    </tr>\n",
       "    <tr>\n",
       "      <th>43426</th>\n",
       "      <td>龙赢富泽资产管理(北京)有限公司</td>\n",
       "      <td>龙赢富泽资产管理（北京）有限公司</td>\n",
       "    </tr>\n",
       "    <tr>\n",
       "      <th>43427</th>\n",
       "      <td>龙金（北京）投资管理有限公司</td>\n",
       "      <td>龙金（北京）投资管理</td>\n",
       "    </tr>\n",
       "  </tbody>\n",
       "</table>\n",
       "<p>43428 rows × 2 columns</p>\n",
       "</div>"
      ],
      "text/plain": [
       "                     VC_fullname             Alias\n",
       "0                   10T Holdings               10T\n",
       "1                  123RF LIMITED             123RF\n",
       "2                         1535创投  杭州壹伍叁伍创业投资管理有限公司\n",
       "3         1982 Ventures Pte.Ltd.     1982 Ventures\n",
       "4      20/20 HealthCare Partners  20/20 HealthCare\n",
       "...                          ...               ...\n",
       "43423               龙芯中科技术股份有限公司            龙芯中科技术\n",
       "43424               龙芯中科技术股份有限公司        龙芯中科技术有限公司\n",
       "43425           龙赢富泽资产管理(北京)有限公司            龙赢富泽资产\n",
       "43426           龙赢富泽资产管理(北京)有限公司  龙赢富泽资产管理（北京）有限公司\n",
       "43427             龙金（北京）投资管理有限公司        龙金（北京）投资管理\n",
       "\n",
       "[43428 rows x 2 columns]"
      ]
     },
     "execution_count": 3,
     "metadata": {},
     "output_type": "execute_result"
    }
   ],
   "source": [
    "Alias=pd.read_csv('data/Alias.csv')\n",
    "Alias"
   ]
  },
  {
   "cell_type": "code",
   "execution_count": 4,
   "id": "65fd3d5d-3663-4bc3-8ad0-d55be91ba518",
   "metadata": {},
   "outputs": [
    {
     "data": {
      "text/html": [
       "<div>\n",
       "<style scoped>\n",
       "    .dataframe tbody tr th:only-of-type {\n",
       "        vertical-align: middle;\n",
       "    }\n",
       "\n",
       "    .dataframe tbody tr th {\n",
       "        vertical-align: top;\n",
       "    }\n",
       "\n",
       "    .dataframe thead th {\n",
       "        text-align: right;\n",
       "    }\n",
       "</style>\n",
       "<table border=\"1\" class=\"dataframe\">\n",
       "  <thead>\n",
       "    <tr style=\"text-align: right;\">\n",
       "      <th></th>\n",
       "      <th>VC_fullname</th>\n",
       "      <th>Unified_social_credit_ID</th>\n",
       "      <th>GVCagency_ne</th>\n",
       "      <th>GVCagency_equity</th>\n",
       "      <th>GVCsoe_ne</th>\n",
       "      <th>GVCsoe_equity</th>\n",
       "      <th>IVC_ne</th>\n",
       "      <th>CVC_ne</th>\n",
       "      <th>BVC_ne</th>\n",
       "      <th>FVC_ne</th>\n",
       "      <th>...</th>\n",
       "      <th>UVC_excl</th>\n",
       "      <th>PenVC_excl</th>\n",
       "      <th>Unknown</th>\n",
       "      <th>Direct_judge</th>\n",
       "      <th>Corporate_parent</th>\n",
       "      <th>Parent_unified_social_credit_ID</th>\n",
       "      <th>Parent_industry_qcc</th>\n",
       "      <th>Parent_listed</th>\n",
       "      <th>Parent_listedmarket</th>\n",
       "      <th>Parent_stockcode</th>\n",
       "    </tr>\n",
       "  </thead>\n",
       "  <tbody>\n",
       "    <tr>\n",
       "      <th>0</th>\n",
       "      <td>1535创投</td>\n",
       "      <td>91330102341958567N</td>\n",
       "      <td>0.0</td>\n",
       "      <td>0.0</td>\n",
       "      <td>0.0</td>\n",
       "      <td>0.000000</td>\n",
       "      <td>1.0</td>\n",
       "      <td>1.0</td>\n",
       "      <td>0.0</td>\n",
       "      <td>0.0</td>\n",
       "      <td>...</td>\n",
       "      <td>0</td>\n",
       "      <td>0</td>\n",
       "      <td>0</td>\n",
       "      <td>No</td>\n",
       "      <td>NaN</td>\n",
       "      <td>NaN</td>\n",
       "      <td>NaN</td>\n",
       "      <td>NaN</td>\n",
       "      <td>NaN</td>\n",
       "      <td>NaN</td>\n",
       "    </tr>\n",
       "    <tr>\n",
       "      <th>1</th>\n",
       "      <td>3M New Ventures</td>\n",
       "      <td>NaN</td>\n",
       "      <td>0.0</td>\n",
       "      <td>0.0</td>\n",
       "      <td>0.0</td>\n",
       "      <td>0.000000</td>\n",
       "      <td>0.0</td>\n",
       "      <td>1.0</td>\n",
       "      <td>0.0</td>\n",
       "      <td>0.0</td>\n",
       "      <td>...</td>\n",
       "      <td>0</td>\n",
       "      <td>0</td>\n",
       "      <td>0</td>\n",
       "      <td>No</td>\n",
       "      <td>明尼苏达矿业制造（中国）投资有限公司</td>\n",
       "      <td>913100006073666908</td>\n",
       "      <td>租赁和商务服务业</td>\n",
       "      <td>NaN</td>\n",
       "      <td>NaN</td>\n",
       "      <td>NaN</td>\n",
       "    </tr>\n",
       "    <tr>\n",
       "      <th>2</th>\n",
       "      <td>Amino Capital Management Company,LLC</td>\n",
       "      <td>NaN</td>\n",
       "      <td>0.0</td>\n",
       "      <td>0.0</td>\n",
       "      <td>1.0</td>\n",
       "      <td>99.989998</td>\n",
       "      <td>1.0</td>\n",
       "      <td>0.0</td>\n",
       "      <td>0.0</td>\n",
       "      <td>1.0</td>\n",
       "      <td>...</td>\n",
       "      <td>0</td>\n",
       "      <td>0</td>\n",
       "      <td>0</td>\n",
       "      <td>No</td>\n",
       "      <td>NaN</td>\n",
       "      <td>NaN</td>\n",
       "      <td>NaN</td>\n",
       "      <td>NaN</td>\n",
       "      <td>NaN</td>\n",
       "      <td>NaN</td>\n",
       "    </tr>\n",
       "    <tr>\n",
       "      <th>3</th>\n",
       "      <td>AppWorks Ventures之初创投</td>\n",
       "      <td>NaN</td>\n",
       "      <td>0.0</td>\n",
       "      <td>0.0</td>\n",
       "      <td>0.0</td>\n",
       "      <td>0.000000</td>\n",
       "      <td>1.0</td>\n",
       "      <td>0.0</td>\n",
       "      <td>0.0</td>\n",
       "      <td>0.0</td>\n",
       "      <td>...</td>\n",
       "      <td>0</td>\n",
       "      <td>0</td>\n",
       "      <td>0</td>\n",
       "      <td>No</td>\n",
       "      <td>NaN</td>\n",
       "      <td>NaN</td>\n",
       "      <td>NaN</td>\n",
       "      <td>NaN</td>\n",
       "      <td>NaN</td>\n",
       "      <td>NaN</td>\n",
       "    </tr>\n",
       "    <tr>\n",
       "      <th>4</th>\n",
       "      <td>Ares Management LLC</td>\n",
       "      <td>NaN</td>\n",
       "      <td>0.0</td>\n",
       "      <td>0.0</td>\n",
       "      <td>0.0</td>\n",
       "      <td>0.000000</td>\n",
       "      <td>1.0</td>\n",
       "      <td>0.0</td>\n",
       "      <td>0.0</td>\n",
       "      <td>0.0</td>\n",
       "      <td>...</td>\n",
       "      <td>0</td>\n",
       "      <td>0</td>\n",
       "      <td>0</td>\n",
       "      <td>No</td>\n",
       "      <td>NaN</td>\n",
       "      <td>NaN</td>\n",
       "      <td>NaN</td>\n",
       "      <td>NaN</td>\n",
       "      <td>NaN</td>\n",
       "      <td>NaN</td>\n",
       "    </tr>\n",
       "    <tr>\n",
       "      <th>...</th>\n",
       "      <td>...</td>\n",
       "      <td>...</td>\n",
       "      <td>...</td>\n",
       "      <td>...</td>\n",
       "      <td>...</td>\n",
       "      <td>...</td>\n",
       "      <td>...</td>\n",
       "      <td>...</td>\n",
       "      <td>...</td>\n",
       "      <td>...</td>\n",
       "      <td>...</td>\n",
       "      <td>...</td>\n",
       "      <td>...</td>\n",
       "      <td>...</td>\n",
       "      <td>...</td>\n",
       "      <td>...</td>\n",
       "      <td>...</td>\n",
       "      <td>...</td>\n",
       "      <td>...</td>\n",
       "      <td>...</td>\n",
       "      <td>...</td>\n",
       "    </tr>\n",
       "    <tr>\n",
       "      <th>49182</th>\n",
       "      <td>龙旗控股</td>\n",
       "      <td>91460000MA5U1HC28G</td>\n",
       "      <td>0.0</td>\n",
       "      <td>NaN</td>\n",
       "      <td>0.0</td>\n",
       "      <td>NaN</td>\n",
       "      <td>NaN</td>\n",
       "      <td>NaN</td>\n",
       "      <td>NaN</td>\n",
       "      <td>NaN</td>\n",
       "      <td>...</td>\n",
       "      <td>0</td>\n",
       "      <td>0</td>\n",
       "      <td>0</td>\n",
       "      <td>Human Coding</td>\n",
       "      <td>NaN</td>\n",
       "      <td>NaN</td>\n",
       "      <td>NaN</td>\n",
       "      <td>NaN</td>\n",
       "      <td>NaN</td>\n",
       "      <td>NaN</td>\n",
       "    </tr>\n",
       "    <tr>\n",
       "      <th>49183</th>\n",
       "      <td>龙洲股份</td>\n",
       "      <td>91350000753125975Q</td>\n",
       "      <td>0.0</td>\n",
       "      <td>NaN</td>\n",
       "      <td>1.0</td>\n",
       "      <td>NaN</td>\n",
       "      <td>NaN</td>\n",
       "      <td>NaN</td>\n",
       "      <td>NaN</td>\n",
       "      <td>NaN</td>\n",
       "      <td>...</td>\n",
       "      <td>0</td>\n",
       "      <td>0</td>\n",
       "      <td>0</td>\n",
       "      <td>Human Coding</td>\n",
       "      <td>NaN</td>\n",
       "      <td>NaN</td>\n",
       "      <td>NaN</td>\n",
       "      <td>NaN</td>\n",
       "      <td>NaN</td>\n",
       "      <td>NaN</td>\n",
       "    </tr>\n",
       "    <tr>\n",
       "      <th>49184</th>\n",
       "      <td>龙马新三板进取基金1号（管理）</td>\n",
       "      <td>NaN</td>\n",
       "      <td>0.0</td>\n",
       "      <td>NaN</td>\n",
       "      <td>0.0</td>\n",
       "      <td>NaN</td>\n",
       "      <td>NaN</td>\n",
       "      <td>NaN</td>\n",
       "      <td>NaN</td>\n",
       "      <td>NaN</td>\n",
       "      <td>...</td>\n",
       "      <td>0</td>\n",
       "      <td>0</td>\n",
       "      <td>0</td>\n",
       "      <td>Human Coding</td>\n",
       "      <td>NaN</td>\n",
       "      <td>NaN</td>\n",
       "      <td>NaN</td>\n",
       "      <td>NaN</td>\n",
       "      <td>NaN</td>\n",
       "      <td>NaN</td>\n",
       "    </tr>\n",
       "    <tr>\n",
       "      <th>49185</th>\n",
       "      <td>龚洁伟</td>\n",
       "      <td>NaN</td>\n",
       "      <td>0.0</td>\n",
       "      <td>NaN</td>\n",
       "      <td>0.0</td>\n",
       "      <td>NaN</td>\n",
       "      <td>NaN</td>\n",
       "      <td>NaN</td>\n",
       "      <td>NaN</td>\n",
       "      <td>NaN</td>\n",
       "      <td>...</td>\n",
       "      <td>0</td>\n",
       "      <td>0</td>\n",
       "      <td>0</td>\n",
       "      <td>Human Coding</td>\n",
       "      <td>NaN</td>\n",
       "      <td>NaN</td>\n",
       "      <td>NaN</td>\n",
       "      <td>NaN</td>\n",
       "      <td>NaN</td>\n",
       "      <td>NaN</td>\n",
       "    </tr>\n",
       "    <tr>\n",
       "      <th>49186</th>\n",
       "      <td>龚鸣</td>\n",
       "      <td>92421321MA49YTK55L</td>\n",
       "      <td>0.0</td>\n",
       "      <td>NaN</td>\n",
       "      <td>0.0</td>\n",
       "      <td>NaN</td>\n",
       "      <td>NaN</td>\n",
       "      <td>NaN</td>\n",
       "      <td>NaN</td>\n",
       "      <td>NaN</td>\n",
       "      <td>...</td>\n",
       "      <td>0</td>\n",
       "      <td>0</td>\n",
       "      <td>0</td>\n",
       "      <td>Human Coding</td>\n",
       "      <td>NaN</td>\n",
       "      <td>NaN</td>\n",
       "      <td>NaN</td>\n",
       "      <td>NaN</td>\n",
       "      <td>NaN</td>\n",
       "      <td>NaN</td>\n",
       "    </tr>\n",
       "  </tbody>\n",
       "</table>\n",
       "<p>49187 rows × 28 columns</p>\n",
       "</div>"
      ],
      "text/plain": [
       "                                VC_fullname Unified_social_credit_ID  \\\n",
       "0                                    1535创投       91330102341958567N   \n",
       "1                           3M New Ventures                      NaN   \n",
       "2      Amino Capital Management Company,LLC                      NaN   \n",
       "3                     AppWorks Ventures之初创投                      NaN   \n",
       "4                       Ares Management LLC                      NaN   \n",
       "...                                     ...                      ...   \n",
       "49182                                  龙旗控股       91460000MA5U1HC28G   \n",
       "49183                                  龙洲股份       91350000753125975Q   \n",
       "49184                       龙马新三板进取基金1号（管理）                      NaN   \n",
       "49185                                   龚洁伟                      NaN   \n",
       "49186                                    龚鸣       92421321MA49YTK55L   \n",
       "\n",
       "       GVCagency_ne  GVCagency_equity  GVCsoe_ne  GVCsoe_equity  IVC_ne  \\\n",
       "0               0.0               0.0        0.0       0.000000     1.0   \n",
       "1               0.0               0.0        0.0       0.000000     0.0   \n",
       "2               0.0               0.0        1.0      99.989998     1.0   \n",
       "3               0.0               0.0        0.0       0.000000     1.0   \n",
       "4               0.0               0.0        0.0       0.000000     1.0   \n",
       "...             ...               ...        ...            ...     ...   \n",
       "49182           0.0               NaN        0.0            NaN     NaN   \n",
       "49183           0.0               NaN        1.0            NaN     NaN   \n",
       "49184           0.0               NaN        0.0            NaN     NaN   \n",
       "49185           0.0               NaN        0.0            NaN     NaN   \n",
       "49186           0.0               NaN        0.0            NaN     NaN   \n",
       "\n",
       "       CVC_ne  BVC_ne  FVC_ne  ...  UVC_excl  PenVC_excl  Unknown  \\\n",
       "0         1.0     0.0     0.0  ...         0           0        0   \n",
       "1         1.0     0.0     0.0  ...         0           0        0   \n",
       "2         0.0     0.0     1.0  ...         0           0        0   \n",
       "3         0.0     0.0     0.0  ...         0           0        0   \n",
       "4         0.0     0.0     0.0  ...         0           0        0   \n",
       "...       ...     ...     ...  ...       ...         ...      ...   \n",
       "49182     NaN     NaN     NaN  ...         0           0        0   \n",
       "49183     NaN     NaN     NaN  ...         0           0        0   \n",
       "49184     NaN     NaN     NaN  ...         0           0        0   \n",
       "49185     NaN     NaN     NaN  ...         0           0        0   \n",
       "49186     NaN     NaN     NaN  ...         0           0        0   \n",
       "\n",
       "       Direct_judge    Corporate_parent  Parent_unified_social_credit_ID  \\\n",
       "0                No                 NaN                              NaN   \n",
       "1                No  明尼苏达矿业制造（中国）投资有限公司               913100006073666908   \n",
       "2                No                 NaN                              NaN   \n",
       "3                No                 NaN                              NaN   \n",
       "4                No                 NaN                              NaN   \n",
       "...             ...                 ...                              ...   \n",
       "49182  Human Coding                 NaN                              NaN   \n",
       "49183  Human Coding                 NaN                              NaN   \n",
       "49184  Human Coding                 NaN                              NaN   \n",
       "49185  Human Coding                 NaN                              NaN   \n",
       "49186  Human Coding                 NaN                              NaN   \n",
       "\n",
       "       Parent_industry_qcc  Parent_listed  Parent_listedmarket  \\\n",
       "0                      NaN            NaN                  NaN   \n",
       "1                 租赁和商务服务业            NaN                  NaN   \n",
       "2                      NaN            NaN                  NaN   \n",
       "3                      NaN            NaN                  NaN   \n",
       "4                      NaN            NaN                  NaN   \n",
       "...                    ...            ...                  ...   \n",
       "49182                  NaN            NaN                  NaN   \n",
       "49183                  NaN            NaN                  NaN   \n",
       "49184                  NaN            NaN                  NaN   \n",
       "49185                  NaN            NaN                  NaN   \n",
       "49186                  NaN            NaN                  NaN   \n",
       "\n",
       "       Parent_stockcode  \n",
       "0                   NaN  \n",
       "1                   NaN  \n",
       "2                   NaN  \n",
       "3                   NaN  \n",
       "4                   NaN  \n",
       "...                 ...  \n",
       "49182               NaN  \n",
       "49183               NaN  \n",
       "49184               NaN  \n",
       "49185               NaN  \n",
       "49186               NaN  \n",
       "\n",
       "[49187 rows x 28 columns]"
      ]
     },
     "execution_count": 4,
     "metadata": {},
     "output_type": "execute_result"
    }
   ],
   "source": [
    "ChinaVCtype=pd.read_csv('data/ChinaVCtype.csv')\n",
    "ChinaVCtype"
   ]
  },
  {
   "cell_type": "code",
   "execution_count": 5,
   "id": "686afb6b-635a-4e87-a1af-ec97d36c76f3",
   "metadata": {},
   "outputs": [
    {
     "data": {
      "text/plain": [
       "Index(['VC_fullname', 'Unified_social_credit_ID', 'GVCagency_ne',\n",
       "       'GVCagency_equity', 'GVCsoe_ne', 'GVCsoe_equity', 'IVC_ne', 'CVC_ne',\n",
       "       'BVC_ne', 'FVC_ne', 'UVC_ne', 'PenVC_ne', 'GVC_excl', 'GVC_equity',\n",
       "       'CVC_excl', 'IVC_excl', 'BVC_excl', 'FVC_excl', 'UVC_excl',\n",
       "       'PenVC_excl', 'Unknown', 'Direct_judge', 'Corporate_parent',\n",
       "       'Parent_unified_social_credit_ID', 'Parent_industry_qcc',\n",
       "       'Parent_listed', 'Parent_listedmarket', 'Parent_stockcode'],\n",
       "      dtype='object')"
      ]
     },
     "execution_count": 5,
     "metadata": {},
     "output_type": "execute_result"
    }
   ],
   "source": [
    "ChinaVCtype.columns"
   ]
  },
  {
   "cell_type": "markdown",
   "id": "7c78bbf5-6e2f-4b4f-a32a-3ac96ca17a27",
   "metadata": {},
   "source": [
    "现在这部分数据里面有两个文件，一个是Alias，一个是ChinaVCtype，两个文件是通过vcfullname连接的，现在要先把这两个文件整合，整合完之后和invest_all的文件里面的拆分后投资方名称匹配（on=alias），匹配到的字段包括'VC_fullname','GVCagency_ne','GVCsoe_ne','GVC_excl'。也就是现在根据投资方名称先把投资事件拆分成不同投资方，然后再根据不同的投资方的名称和GVC type里面的alias匹配，新加入'VC_fullname','GVCagency_ne','GVCsoe_ne','GVC_excl'这几个字段。之后再把他们整合到投资事件层面，整合的规则是：1）GVC_DUMMY: 对于每一个投资事件，只要有一个投资方里面的GVC_excl是1，则这个投资事件的GVC就是1，2）GVC_Continuous：对于每一个投资事件，计算投资方中GVC_excl是1的比例"
   ]
  },
  {
   "cell_type": "code",
   "execution_count": 15,
   "id": "61b67d28-e996-4717-8d91-3764f97b3418",
   "metadata": {},
   "outputs": [
    {
     "data": {
      "text/plain": [
       "49187"
      ]
     },
     "execution_count": 15,
     "metadata": {},
     "output_type": "execute_result"
    }
   ],
   "source": [
    "ChinaVCtype.VC_fullname.nunique()"
   ]
  },
  {
   "cell_type": "code",
   "execution_count": 8,
   "id": "a75dabef-0fe8-4413-8eb6-0ff5c026b820",
   "metadata": {},
   "outputs": [
    {
     "data": {
      "text/plain": [
       "Alias\n",
       "(Ad)Ventures    1\n",
       "108度集团          1\n",
       "10T             1\n",
       "11.2 Capital    1\n",
       "123RF           1\n",
       "               ..\n",
       "通和资本            2\n",
       "源渡创投            2\n",
       "微光创投            2\n",
       "日本SBI控股株式会社     2\n",
       "溪山天使会           2\n",
       "Name: VC_fullname, Length: 43305, dtype: int64"
      ]
     },
     "execution_count": 8,
     "metadata": {},
     "output_type": "execute_result"
    }
   ],
   "source": [
    "Alias.groupby('Alias').VC_fullname.nunique().sort_values()"
   ]
  },
  {
   "cell_type": "code",
   "execution_count": 9,
   "id": "e3a875fa-0158-467c-8ba3-4dd481173887",
   "metadata": {},
   "outputs": [
    {
     "data": {
      "text/html": [
       "<div>\n",
       "<style scoped>\n",
       "    .dataframe tbody tr th:only-of-type {\n",
       "        vertical-align: middle;\n",
       "    }\n",
       "\n",
       "    .dataframe tbody tr th {\n",
       "        vertical-align: top;\n",
       "    }\n",
       "\n",
       "    .dataframe thead th {\n",
       "        text-align: right;\n",
       "    }\n",
       "</style>\n",
       "<table border=\"1\" class=\"dataframe\">\n",
       "  <thead>\n",
       "    <tr style=\"text-align: right;\">\n",
       "      <th></th>\n",
       "      <th>VC_fullname</th>\n",
       "      <th>Alias</th>\n",
       "    </tr>\n",
       "  </thead>\n",
       "  <tbody>\n",
       "    <tr>\n",
       "      <th>36418</th>\n",
       "      <td>溪山股权投资基金管理(深圳)有限公司</td>\n",
       "      <td>溪山天使会</td>\n",
       "    </tr>\n",
       "    <tr>\n",
       "      <th>36419</th>\n",
       "      <td>溪山股权投资基金管理（深圳）有限公司</td>\n",
       "      <td>溪山天使会</td>\n",
       "    </tr>\n",
       "  </tbody>\n",
       "</table>\n",
       "</div>"
      ],
      "text/plain": [
       "              VC_fullname  Alias\n",
       "36418  溪山股权投资基金管理(深圳)有限公司  溪山天使会\n",
       "36419  溪山股权投资基金管理（深圳）有限公司  溪山天使会"
      ]
     },
     "execution_count": 9,
     "metadata": {},
     "output_type": "execute_result"
    }
   ],
   "source": [
    "Alias[Alias.Alias=='溪山天使会']"
   ]
  },
  {
   "cell_type": "code",
   "execution_count": 10,
   "id": "db8ee4d5-bdc6-4b51-9a47-69495e9c9ae8",
   "metadata": {},
   "outputs": [
    {
     "data": {
      "text/html": [
       "<div>\n",
       "<style scoped>\n",
       "    .dataframe tbody tr th:only-of-type {\n",
       "        vertical-align: middle;\n",
       "    }\n",
       "\n",
       "    .dataframe tbody tr th {\n",
       "        vertical-align: top;\n",
       "    }\n",
       "\n",
       "    .dataframe thead th {\n",
       "        text-align: right;\n",
       "    }\n",
       "</style>\n",
       "<table border=\"1\" class=\"dataframe\">\n",
       "  <thead>\n",
       "    <tr style=\"text-align: right;\">\n",
       "      <th></th>\n",
       "      <th>VC_fullname</th>\n",
       "      <th>Alias</th>\n",
       "    </tr>\n",
       "  </thead>\n",
       "  <tbody>\n",
       "    <tr>\n",
       "      <th>1785</th>\n",
       "      <td>SBI Holdings</td>\n",
       "      <td>日本SBI控股株式会社</td>\n",
       "    </tr>\n",
       "    <tr>\n",
       "      <th>26403</th>\n",
       "      <td>日本SBI控股株式会社北京代表处</td>\n",
       "      <td>日本SBI控股株式会社</td>\n",
       "    </tr>\n",
       "  </tbody>\n",
       "</table>\n",
       "</div>"
      ],
      "text/plain": [
       "            VC_fullname        Alias\n",
       "1785       SBI Holdings  日本SBI控股株式会社\n",
       "26403  日本SBI控股株式会社北京代表处  日本SBI控股株式会社"
      ]
     },
     "execution_count": 10,
     "metadata": {},
     "output_type": "execute_result"
    }
   ],
   "source": [
    "Alias[Alias.Alias=='日本SBI控股株式会社']"
   ]
  },
  {
   "cell_type": "code",
   "execution_count": 16,
   "id": "c633ac18-0ffe-4916-a0d1-f719e8f40780",
   "metadata": {},
   "outputs": [
    {
     "data": {
      "text/plain": [
       "VC_fullname\n",
       "4BIO Partners LLP            1\n",
       "123RF LIMITED                1\n",
       "1535创投                       1\n",
       "1982 Ventures Pte.Ltd.       1\n",
       "20/20 HealthCare Partners    1\n",
       "                            ..\n",
       "安吉兴平股权投资合伙企业（有限合伙）           3\n",
       "广东德和信企业科技有限公司                3\n",
       "简道众创投资股份有限公司                 3\n",
       "宁波创达创业投资合伙企业（有限合伙）           3\n",
       "贵州省科技风险投资有限公司                3\n",
       "Name: Alias, Length: 41283, dtype: int64"
      ]
     },
     "execution_count": 16,
     "metadata": {},
     "output_type": "execute_result"
    }
   ],
   "source": [
    "Alias.groupby('VC_fullname').Alias.nunique().sort_values()"
   ]
  },
  {
   "cell_type": "code",
   "execution_count": 17,
   "id": "6a2b8ea6-dd0a-4196-afc9-cf298fb6fddd",
   "metadata": {},
   "outputs": [
    {
     "data": {
      "text/html": [
       "<div>\n",
       "<style scoped>\n",
       "    .dataframe tbody tr th:only-of-type {\n",
       "        vertical-align: middle;\n",
       "    }\n",
       "\n",
       "    .dataframe tbody tr th {\n",
       "        vertical-align: top;\n",
       "    }\n",
       "\n",
       "    .dataframe thead th {\n",
       "        text-align: right;\n",
       "    }\n",
       "</style>\n",
       "<table border=\"1\" class=\"dataframe\">\n",
       "  <thead>\n",
       "    <tr style=\"text-align: right;\">\n",
       "      <th></th>\n",
       "      <th>VC_fullname</th>\n",
       "      <th>Alias</th>\n",
       "    </tr>\n",
       "  </thead>\n",
       "  <tbody>\n",
       "    <tr>\n",
       "      <th>40721</th>\n",
       "      <td>贵州省科技风险投资有限公司</td>\n",
       "      <td>贵州省科技风险投资公司</td>\n",
       "    </tr>\n",
       "    <tr>\n",
       "      <th>40722</th>\n",
       "      <td>贵州省科技风险投资有限公司</td>\n",
       "      <td>贵州风投</td>\n",
       "    </tr>\n",
       "    <tr>\n",
       "      <th>40723</th>\n",
       "      <td>贵州省科技风险投资有限公司</td>\n",
       "      <td>贵阳市科技风险投资有限公司</td>\n",
       "    </tr>\n",
       "  </tbody>\n",
       "</table>\n",
       "</div>"
      ],
      "text/plain": [
       "         VC_fullname          Alias\n",
       "40721  贵州省科技风险投资有限公司    贵州省科技风险投资公司\n",
       "40722  贵州省科技风险投资有限公司           贵州风投\n",
       "40723  贵州省科技风险投资有限公司  贵阳市科技风险投资有限公司"
      ]
     },
     "execution_count": 17,
     "metadata": {},
     "output_type": "execute_result"
    }
   ],
   "source": [
    "Alias[Alias.VC_fullname=='贵州省科技风险投资有限公司']"
   ]
  },
  {
   "cell_type": "code",
   "execution_count": 18,
   "id": "7473479b-22db-4675-93a2-bb56b8a495d0",
   "metadata": {},
   "outputs": [
    {
     "data": {
      "text/html": [
       "<div>\n",
       "<style scoped>\n",
       "    .dataframe tbody tr th:only-of-type {\n",
       "        vertical-align: middle;\n",
       "    }\n",
       "\n",
       "    .dataframe tbody tr th {\n",
       "        vertical-align: top;\n",
       "    }\n",
       "\n",
       "    .dataframe thead th {\n",
       "        text-align: right;\n",
       "    }\n",
       "</style>\n",
       "<table border=\"1\" class=\"dataframe\">\n",
       "  <thead>\n",
       "    <tr style=\"text-align: right;\">\n",
       "      <th></th>\n",
       "      <th>VC_fullname</th>\n",
       "      <th>Alias</th>\n",
       "    </tr>\n",
       "  </thead>\n",
       "  <tbody>\n",
       "    <tr>\n",
       "      <th>20274</th>\n",
       "      <td>宁波创达创业投资合伙企业（有限合伙）</td>\n",
       "      <td>创达创业投资</td>\n",
       "    </tr>\n",
       "    <tr>\n",
       "      <th>20275</th>\n",
       "      <td>宁波创达创业投资合伙企业（有限合伙）</td>\n",
       "      <td>苏州创达创业投资企业(有限合伙)</td>\n",
       "    </tr>\n",
       "    <tr>\n",
       "      <th>20276</th>\n",
       "      <td>宁波创达创业投资合伙企业（有限合伙）</td>\n",
       "      <td>衢州创达投资合伙企业（有限合伙）</td>\n",
       "    </tr>\n",
       "  </tbody>\n",
       "</table>\n",
       "</div>"
      ],
      "text/plain": [
       "              VC_fullname             Alias\n",
       "20274  宁波创达创业投资合伙企业（有限合伙）            创达创业投资\n",
       "20275  宁波创达创业投资合伙企业（有限合伙）  苏州创达创业投资企业(有限合伙)\n",
       "20276  宁波创达创业投资合伙企业（有限合伙）  衢州创达投资合伙企业（有限合伙）"
      ]
     },
     "execution_count": 18,
     "metadata": {},
     "output_type": "execute_result"
    }
   ],
   "source": [
    "Alias[Alias.VC_fullname=='宁波创达创业投资合伙企业（有限合伙）']"
   ]
  },
  {
   "cell_type": "code",
   "execution_count": 22,
   "id": "b49f7874-f806-4687-80df-0aa501974639",
   "metadata": {},
   "outputs": [
    {
     "data": {
      "text/html": [
       "<div>\n",
       "<style scoped>\n",
       "    .dataframe tbody tr th:only-of-type {\n",
       "        vertical-align: middle;\n",
       "    }\n",
       "\n",
       "    .dataframe tbody tr th {\n",
       "        vertical-align: top;\n",
       "    }\n",
       "\n",
       "    .dataframe thead th {\n",
       "        text-align: right;\n",
       "    }\n",
       "</style>\n",
       "<table border=\"1\" class=\"dataframe\">\n",
       "  <thead>\n",
       "    <tr style=\"text-align: right;\">\n",
       "      <th></th>\n",
       "      <th>VC_fullname</th>\n",
       "      <th>Alias</th>\n",
       "    </tr>\n",
       "  </thead>\n",
       "  <tbody>\n",
       "    <tr>\n",
       "      <th>20274</th>\n",
       "      <td>宁波创达创业投资合伙企业（有限合伙）</td>\n",
       "      <td>创达创业投资</td>\n",
       "    </tr>\n",
       "  </tbody>\n",
       "</table>\n",
       "</div>"
      ],
      "text/plain": [
       "              VC_fullname   Alias\n",
       "20274  宁波创达创业投资合伙企业（有限合伙）  创达创业投资"
      ]
     },
     "execution_count": 22,
     "metadata": {},
     "output_type": "execute_result"
    }
   ],
   "source": [
    "Alias[Alias.Alias=='创达创业投资']"
   ]
  },
  {
   "cell_type": "code",
   "execution_count": 7,
   "id": "1df250af-7a7f-4970-87b2-d3ec3b45416e",
   "metadata": {},
   "outputs": [
    {
     "data": {
      "text/plain": [
       "VC_fullname\n",
       "10T Holdings                                     10T\n",
       "123RF LIMITED                                  123RF\n",
       "1535创投                              杭州壹伍叁伍创业投资管理有限公司\n",
       "1982 Ventures Pte.Ltd.                 1982 Ventures\n",
       "20/20 HealthCare Partners           20/20 HealthCare\n",
       "                                      ...           \n",
       "龙腾荣盛投资管理有限公司                                  龙腾荣盛投资\n",
       "龙腾资本有限公司                                        龙腾资本\n",
       "龙芯中科技术股份有限公司                       龙芯中科技术;龙芯中科技术有限公司\n",
       "龙赢富泽资产管理(北京)有限公司             龙赢富泽资产;龙赢富泽资产管理（北京）有限公司\n",
       "龙金（北京）投资管理有限公司                            龙金（北京）投资管理\n",
       "Name: Alias, Length: 41283, dtype: object"
      ]
     },
     "execution_count": 7,
     "metadata": {},
     "output_type": "execute_result"
    }
   ],
   "source": [
    "map_fullname = Alias.groupby('VC_fullname')['Alias'].unique().map(';'.join)\n",
    "map_fullname"
   ]
  },
  {
   "cell_type": "code",
   "execution_count": 9,
   "id": "c0bd1c21-3833-4f17-9a27-e8bf668b30bb",
   "metadata": {},
   "outputs": [
    {
     "data": {
      "text/plain": [
       "'创达创业投资;苏州创达创业投资企业(有限合伙);衢州创达投资合伙企业（有限合伙）'"
      ]
     },
     "execution_count": 9,
     "metadata": {},
     "output_type": "execute_result"
    }
   ],
   "source": [
    "map_fullname.loc['宁波创达创业投资合伙企业（有限合伙）']"
   ]
  },
  {
   "cell_type": "code",
   "execution_count": 11,
   "id": "f0f8722d-a5e4-425b-be67-6235ac334b4c",
   "metadata": {},
   "outputs": [
    {
     "data": {
      "text/plain": [
       "np.int64(40754)"
      ]
     },
     "execution_count": 11,
     "metadata": {},
     "output_type": "execute_result"
    }
   ],
   "source": [
    "ChinaVCtype['Alias']=ChinaVCtype['VC_fullname'].map(map_fullname)\n",
    "ChinaVCtype['Alias'].count()"
   ]
  },
  {
   "cell_type": "code",
   "execution_count": 14,
   "id": "6c5dad85-1dae-47c0-b21c-2db33c0bcfd5",
   "metadata": {},
   "outputs": [
    {
     "name": "stdout",
     "output_type": "stream",
     "text": [
      "<class 'pandas.core.frame.DataFrame'>\n",
      "RangeIndex: 49187 entries, 0 to 49186\n",
      "Data columns (total 29 columns):\n",
      " #   Column                           Non-Null Count  Dtype  \n",
      "---  ------                           --------------  -----  \n",
      " 0   VC_fullname                      49187 non-null  object \n",
      " 1   Unified_social_credit_ID         31871 non-null  object \n",
      " 2   GVCagency_ne                     43681 non-null  float64\n",
      " 3   GVCagency_equity                 34731 non-null  float64\n",
      " 4   GVCsoe_ne                        43681 non-null  float64\n",
      " 5   GVCsoe_equity                    34731 non-null  float64\n",
      " 6   IVC_ne                           36458 non-null  float64\n",
      " 7   CVC_ne                           36458 non-null  float64\n",
      " 8   BVC_ne                           36458 non-null  float64\n",
      " 9   FVC_ne                           36458 non-null  float64\n",
      " 10  UVC_ne                           36458 non-null  float64\n",
      " 11  PenVC_ne                         36458 non-null  float64\n",
      " 12  GVC_excl                         49187 non-null  int64  \n",
      " 13  GVC_equity                       34698 non-null  float64\n",
      " 14  CVC_excl                         49187 non-null  int64  \n",
      " 15  IVC_excl                         49187 non-null  int64  \n",
      " 16  BVC_excl                         49187 non-null  int64  \n",
      " 17  FVC_excl                         49187 non-null  int64  \n",
      " 18  UVC_excl                         49187 non-null  int64  \n",
      " 19  PenVC_excl                       49187 non-null  int64  \n",
      " 20  Unknown                          49187 non-null  int64  \n",
      " 21  Direct_judge                     49187 non-null  object \n",
      " 22  Corporate_parent                 3507 non-null   object \n",
      " 23  Parent_unified_social_credit_ID  2991 non-null   object \n",
      " 24  Parent_industry_qcc              2980 non-null   object \n",
      " 25  Parent_listed                    521 non-null    object \n",
      " 26  Parent_listedmarket              520 non-null    object \n",
      " 27  Parent_stockcode                 521 non-null    object \n",
      " 28  Alias                            40754 non-null  object \n",
      "dtypes: float64(11), int64(8), object(10)\n",
      "memory usage: 10.9+ MB\n"
     ]
    }
   ],
   "source": [
    "ChinaVCtype.info()"
   ]
  },
  {
   "cell_type": "code",
   "execution_count": 21,
   "id": "a36c5542-1664-4254-a027-761ccac59cfc",
   "metadata": {},
   "outputs": [
    {
     "data": {
      "text/plain": [
       "(array([nan, 'Listed', 'Delisted'], dtype=object), 3146)"
      ]
     },
     "execution_count": 21,
     "metadata": {},
     "output_type": "execute_result"
    }
   ],
   "source": [
    "ChinaVCtype['Parent_listed'].unique(),ChinaVCtype['Corporate_parent'].nunique()"
   ]
  },
  {
   "cell_type": "code",
   "execution_count": 13,
   "id": "3c3f88a0-0063-4ed4-b194-41597a2a4824",
   "metadata": {},
   "outputs": [],
   "source": [
    "ChinaVCtype.to_csv('data/ChinaVCtype.csv')"
   ]
  },
  {
   "cell_type": "code",
   "execution_count": 14,
   "id": "bfa0e970-e07e-46b4-8b06-348d946560bd",
   "metadata": {},
   "outputs": [
    {
     "data": {
      "text/plain": [
       "Index(['企业简称', '企业全称', '业务描述', '所在行业', '所在地', '企业简介', '详细地址', '联系电话', '企业网址',\n",
       "       '邮箱', '成立时间', '统一信用代码', '法人代表', '注册资本', '经营状态', '经营范围', '注册地址', '上市状态',\n",
       "       '股票代码', '交易所', '交易轮次', '交易金额', '单位', '交易股权', '投后估值', '单位.1', '交易时间',\n",
       "       '交易状态', '本次交易股份数量', '每股价格', '单位.2', '交易类型', '交易方式', '支付方式', '是否关联交易',\n",
       "       '重大资产重组', '是否跨境交易', '投资方名称', '投资方基金名称', '投资机构类型', '交易地区类型', '投资金额',\n",
       "       '单位.3', '本次交易股权比例', '投资方上市状态', '投资方股票代码', '投资方交易所', '退出方名称', '退出方基金名称',\n",
       "       '退出机构类型', '退出方式', '退出方上市状态', '退出方股票代码', '退出方交易所', '中介名称', '中介类型',\n",
       "       '投资方名称_A', '投资方基金名称_A', '政府引导基金的管理机构_机构全称', '政府引导基金的管理机构_机构简称', '行业',\n",
       "       '子行业'],\n",
       "      dtype='object')"
      ]
     },
     "execution_count": 14,
     "metadata": {},
     "output_type": "execute_result"
    }
   ],
   "source": [
    "invest_all=pd.read_excel('data/source/invest_all.xlsx',index_col=0)\n",
    "invest_all.columns"
   ]
  },
  {
   "cell_type": "code",
   "execution_count": 24,
   "id": "81537d7d-90ea-4dde-9756-804f61e50897",
   "metadata": {},
   "outputs": [
    {
     "data": {
      "text/plain": [
       "0                          上海领汇创投\n",
       "1         祥峰投资中国基金 ;火山石投资 ;西藏高榕资本\n",
       "2                   金顺东投资 ;奥都百升网络\n",
       "3                            真格基金\n",
       "4                            时代伯乐\n",
       "                   ...           \n",
       "155304                   富华睿银基金管理\n",
       "155305                        深创投\n",
       "155306                   CVC Asia\n",
       "155307                       四维图新\n",
       "155308                      及时雨创投\n",
       "Name: 投资方名称, Length: 155309, dtype: object"
      ]
     },
     "execution_count": 24,
     "metadata": {},
     "output_type": "execute_result"
    }
   ],
   "source": [
    "invest_all['投资方名称']"
   ]
  },
  {
   "cell_type": "code",
   "execution_count": 30,
   "id": "e237a3bd-5ead-4dd7-9d0d-88b660baaf96",
   "metadata": {},
   "outputs": [
    {
     "data": {
      "text/plain": [
       "0                          [上海领汇创投]\n",
       "1         [祥峰投资中国基金, 火山石投资, 西藏高榕资本]\n",
       "2                   [金顺东投资, 奥都百升网络]\n",
       "3                            [真格基金]\n",
       "4                            [时代伯乐]\n",
       "                    ...            \n",
       "155304                   [富华睿银基金管理]\n",
       "155305                        [深创投]\n",
       "155306                   [CVC Asia]\n",
       "155307                       [四维图新]\n",
       "155308                      [及时雨创投]\n",
       "Name: 投资方名称_A, Length: 155309, dtype: object"
      ]
     },
     "execution_count": 30,
     "metadata": {},
     "output_type": "execute_result"
    }
   ],
   "source": [
    "invest_all['投资方名称_A']=invest_all['投资方名称'].str.split(';').dropna().map(lambda x:[i.strip() for i in x])\n",
    "invest_all['投资方名称_A']"
   ]
  },
  {
   "cell_type": "code",
   "execution_count": 40,
   "id": "d44fda05-a31a-4c15-b6d9-bc0bc5360029",
   "metadata": {},
   "outputs": [],
   "source": [
    "map_alias_dict = Alias.groupby('Alias')['VC_fullname'].unique().to_dict()\n",
    "alias_set = set(map_alias_dict.keys())"
   ]
  },
  {
   "cell_type": "code",
   "execution_count": 38,
   "id": "d79fba5d-9628-405a-8e39-2b79ce3a6da3",
   "metadata": {},
   "outputs": [
    {
     "data": {
      "text/plain": [
       "(36057, np.int64(36884))"
      ]
     },
     "execution_count": 38,
     "metadata": {},
     "output_type": "execute_result"
    }
   ],
   "source": [
    "invest_all['ChinaVC_alias']=invest_all['投资方名称_A'].dropna().apply(lambda x:';'.join(set(x)&alias_set)).replace('',pd.NA)\n",
    "invest_all['ChinaVC_alias'].str.split(';').explode().nunique(),invest_all['ChinaVC_alias'].isna().sum()"
   ]
  },
  {
   "cell_type": "code",
   "execution_count": 75,
   "id": "99aa5d69-ba6a-4588-8cf2-d56f54239875",
   "metadata": {},
   "outputs": [
    {
     "data": {
      "text/plain": [
       "0                          上海领汇创业投资有限公司\n",
       "1                          西藏高榕资本管理有限公司\n",
       "2          上海金顺东投资管理有限公司;北京奥都百升网络科技有限公司\n",
       "3         北京真格天成投资管理有限公司;天津真格天地投资管理有限公司\n",
       "4                     深圳市时代伯乐创业投资管理有限公司\n",
       "                      ...              \n",
       "155304                              NaN\n",
       "155305                    深圳市创新投资集团有限公司\n",
       "155306            CVC Asia Pacific,Ltd.\n",
       "155307                   北京四维图新科技股份有限公司\n",
       "155308                    深圳市汤乔电子科技有限公司\n",
       "Name: VC_fullname, Length: 155309, dtype: object"
      ]
     },
     "execution_count": 75,
     "metadata": {},
     "output_type": "execute_result"
    }
   ],
   "source": [
    "invest_all['VC_fullname'] =invest_all['ChinaVC_alias'].dropna().map(lambda x: ';'.join({fullname for alias in x.split(';') for fullname in map_alias_dict[alias]}))\n",
    "invest_all['VC_fullname'] "
   ]
  },
  {
   "cell_type": "code",
   "execution_count": 49,
   "id": "57d0c84b-a825-4705-85c7-8d8ffbaf480e",
   "metadata": {},
   "outputs": [
    {
     "data": {
      "text/plain": [
       "0            [0]\n",
       "1            [0]\n",
       "2         [0, 0]\n",
       "3         [0, 0]\n",
       "4            [0]\n",
       "           ...  \n",
       "155304       NaN\n",
       "155305       [1]\n",
       "155306       [0]\n",
       "155307       [0]\n",
       "155308       [0]\n",
       "Name: GVC, Length: 155309, dtype: object"
      ]
     },
     "execution_count": 49,
     "metadata": {},
     "output_type": "execute_result"
    }
   ],
   "source": [
    "vc2gvc = ChinaVCtype.set_index('VC_fullname')['GVC_excl'].to_dict()\n",
    "invest_all['GVC'] = invest_all['VC_fullname'].dropna().str.split(';').map( lambda vc_list: [vc2gvc.get(vc, 0) for vc in vc_list])# if vc in vc2gvc\n",
    "invest_all['GVC'] "
   ]
  },
  {
   "cell_type": "code",
   "execution_count": 51,
   "id": "b8a4b9ef-e680-4428-ba0f-d16e26634472",
   "metadata": {},
   "outputs": [
    {
     "data": {
      "text/plain": [
       "28186"
      ]
     },
     "execution_count": 51,
     "metadata": {},
     "output_type": "execute_result"
    }
   ],
   "source": [
    "invest_all['GVC'].explode().sum()"
   ]
  },
  {
   "cell_type": "code",
   "execution_count": 57,
   "id": "c625b575-4351-4376-b9e1-fec35a319e70",
   "metadata": {},
   "outputs": [
    {
     "data": {
      "text/plain": [
       "np.float64(22923.0)"
      ]
     },
     "execution_count": 57,
     "metadata": {},
     "output_type": "execute_result"
    }
   ],
   "source": [
    "invest_all['GVC_DUMMY']=invest_all['GVC'].dropna().map(any).astype(int)#.map(lambda x: 1 if 1 in x else 0)\n",
    "invest_all['GVC_DUMMY'].sum()"
   ]
  },
  {
   "cell_type": "code",
   "execution_count": 62,
   "id": "ffdca9a4-7dd1-44fe-a9ba-532d31b67a8c",
   "metadata": {},
   "outputs": [
    {
     "data": {
      "text/plain": [
       "np.float64(0.13929885744424478)"
      ]
     },
     "execution_count": 62,
     "metadata": {},
     "output_type": "execute_result"
    }
   ],
   "source": [
    "import numpy as np\n",
    "invest_all['GVC_Continuous']= invest_all['GVC'].dropna().map(np.mean)#.map(lambda x: sum(x) / len(x))\n",
    "invest_all['GVC_Continuous'].mean()"
   ]
  },
  {
   "cell_type": "code",
   "execution_count": null,
   "id": "3062ff76-5f77-4443-ad6c-bba5578d602e",
   "metadata": {},
   "outputs": [],
   "source": [
    "invest_all['GVC_Continuous'].describe()"
   ]
  },
  {
   "cell_type": "code",
   "execution_count": 67,
   "id": "5ea8af66-ba6e-4e91-adbd-c5666a17f407",
   "metadata": {},
   "outputs": [],
   "source": [
    "invest_all['GVC']=invest_all['GVC'].dropna().map(lambda x: ';'.join(str(i).strip() for i in x) )"
   ]
  },
  {
   "cell_type": "code",
   "execution_count": 69,
   "id": "450612eb-9d0a-4299-8fcd-a03fe0e34d2b",
   "metadata": {},
   "outputs": [],
   "source": [
    "invest_all.to_excel('data/invest_all_gvc.xlsx')"
   ]
  },
  {
   "cell_type": "code",
   "execution_count": 76,
   "id": "9fce83a1-5dd1-4ae9-b7bf-7f081691397f",
   "metadata": {},
   "outputs": [
    {
     "data": {
      "text/plain": [
       "(np.int64(0), (218426, 67))"
      ]
     },
     "execution_count": 76,
     "metadata": {},
     "output_type": "execute_result"
    }
   ],
   "source": [
    "invest_all['VC_fullname']=invest_all['VC_fullname'].dropna().str.split(';')\n",
    "invest_vc=invest_all.dropna(subset=['VC_fullname']).explode('VC_fullname')\n",
    "invest_vc['VC_fullname'].isna().sum(),invest_vc.shape"
   ]
  },
  {
   "cell_type": "code",
   "execution_count": 88,
   "id": "a58a54c9-7207-4a04-bef9-25e091f2f23e",
   "metadata": {},
   "outputs": [
    {
     "data": {
      "text/plain": [
       "np.int64(0)"
      ]
     },
     "execution_count": 88,
     "metadata": {},
     "output_type": "execute_result"
    }
   ],
   "source": [
    "(invest_vc['VC_fullname']=='').sum()"
   ]
  },
  {
   "cell_type": "code",
   "execution_count": 83,
   "id": "a60d9064-5b16-4b94-92cb-7fd5abdce87d",
   "metadata": {},
   "outputs": [
    {
     "data": {
      "text/plain": [
       "np.int64(0)"
      ]
     },
     "execution_count": 83,
     "metadata": {},
     "output_type": "execute_result"
    }
   ],
   "source": [
    "ChinaVCtype[['VC_fullname','GVCagency_ne','GVCsoe_ne','GVC_excl']].duplicated().sum()"
   ]
  },
  {
   "cell_type": "code",
   "execution_count": 85,
   "id": "d6cc5c71-20aa-4f74-9d4b-250c4fd8fa22",
   "metadata": {},
   "outputs": [
    {
     "data": {
      "text/plain": [
       "(218426, 70)"
      ]
     },
     "execution_count": 85,
     "metadata": {},
     "output_type": "execute_result"
    }
   ],
   "source": [
    "invest_vc=invest_vc.merge(ChinaVCtype[['VC_fullname','GVCagency_ne','GVCsoe_ne','GVC_excl']],on='VC_fullname',how='left')\n",
    "invest_vc.shape"
   ]
  },
  {
   "cell_type": "code",
   "execution_count": 90,
   "id": "f772ef36-6cc7-4ab2-b419-72d98b886e12",
   "metadata": {},
   "outputs": [],
   "source": [
    "invest_vc.to_csv('data/invest_all_vctype.csv')"
   ]
  }
 ],
 "metadata": {
  "kernelspec": {
   "display_name": "Python 3 (ipykernel)",
   "language": "python",
   "name": "python3"
  },
  "language_info": {
   "codemirror_mode": {
    "name": "ipython",
    "version": 3
   },
   "file_extension": ".py",
   "mimetype": "text/x-python",
   "name": "python",
   "nbconvert_exporter": "python",
   "pygments_lexer": "ipython3",
   "version": "3.13.0"
  }
 },
 "nbformat": 4,
 "nbformat_minor": 5
}
