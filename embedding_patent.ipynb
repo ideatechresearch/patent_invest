{
 "cells": [
  {
   "cell_type": "code",
   "execution_count": 2,
   "id": "00c589de-7774-4bae-afa8-3f1def03a354",
   "metadata": {},
   "outputs": [],
   "source": [
    "from sentence_transformers import SentenceTransformer\n",
    "from FlagEmbedding import FlagModel\n",
    "import torch\n",
    "import pandas as pd\n",
    "import numpy as np"
   ]
  },
  {
   "cell_type": "code",
   "execution_count": 3,
   "id": "b12213ec-2e36-43ed-a058-2c2cd55a5c22",
   "metadata": {},
   "outputs": [
    {
     "data": {
      "text/plain": [
       "SentenceTransformer(\n",
       "  (0): Transformer({'max_seq_length': 512, 'do_lower_case': True}) with Transformer model: BertModel \n",
       "  (1): Pooling({'word_embedding_dimension': 1024, 'pooling_mode_cls_token': True, 'pooling_mode_mean_tokens': False, 'pooling_mode_max_tokens': False, 'pooling_mode_mean_sqrt_len_tokens': False, 'pooling_mode_weightedmean_tokens': False, 'pooling_mode_lasttoken': False, 'include_prompt': True})\n",
       "  (2): Normalize()\n",
       ")"
      ]
     },
     "execution_count": 3,
     "metadata": {},
     "output_type": "execute_result"
    }
   ],
   "source": [
    "model = SentenceTransformer(\"bge-large-zh\",device='cuda')\n",
    "model.eval()"
   ]
  },
  {
   "cell_type": "code",
   "execution_count": 6,
   "id": "e21f6020-442d-4e98-b13e-cfe73ec63bfe",
   "metadata": {},
   "outputs": [],
   "source": [
    "import pandas as pd\n",
    "import numpy as np"
   ]
  },
  {
   "cell_type": "code",
   "execution_count": 3,
   "id": "ac27023a-0198-46bb-a7aa-26fbb41a3b27",
   "metadata": {},
   "outputs": [],
   "source": [
    "patent_co=pd.read_csv('E:\\Documents\\Jupyter/data/融资公司专利2024.csv',usecols=['序号', '标题 (中文)', '摘要 (中文)', 'Co','申请号','申请人','申请日','专利类型','公开（公告）号','table'])"
   ]
  },
  {
   "cell_type": "code",
   "execution_count": 8,
   "id": "d04e704a-7a89-4096-a3f5-26fd8a891418",
   "metadata": {},
   "outputs": [
    {
     "data": {
      "text/plain": [
       "Index(['Co', '序号', '标题 (中文)', '摘要 (中文)', '申请人', '申请日', '申请号', '公开（公告）号',\n",
       "       '专利类型'],\n",
       "      dtype='object')"
      ]
     },
     "execution_count": 8,
     "metadata": {},
     "output_type": "execute_result"
    }
   ],
   "source": [
    "patent_co.columns"
   ]
  },
  {
   "cell_type": "code",
   "execution_count": 30,
   "id": "88e9d0d7-c0dc-4fc5-b938-e32c341abc97",
   "metadata": {},
   "outputs": [
    {
     "data": {
      "text/plain": [
       "0          竖式烧结矿冷却机:本发明为一种具有环形风道和全密闭结构的竖式烧结矿冷却机，属冷却机技术领域；...\n",
       "1          具有抗静电性的轻垢液体洗衣洗涤剂:本发明提供一种透明或半透明的具有抗静电性 的轻垢液体洗衣洗...\n",
       "2          麦白霉素胃溶片的生产工艺技术:一种麦白霉素胃溶片的生产工艺技术，以国产原 料组成新的配方，替...\n",
       "3                                              药品包装盒:省略其它视图。\n",
       "4          变幅摇头电风扇:一种变幅摇头电风扇，包括有扇座、扇体，其特征 在于扇体变幅摇头机构由电机驱动...\n",
       "                                 ...                        \n",
       "1897512    机器人标定方法、系统及机器人:本发明涉及机器人标定技术领域，具体而言，涉及一种机器人标定方法...\n",
       "1897513    一种多普勒激光测风雷达径向风速标定方法:本发明旨在提供一种满足高精度要求、目标校准不确定度低...\n",
       "1897514    一种晶圆激光开槽装置及开槽方法:本发明旨在提供一种能实现双通道光路调节，能同时进行定位开槽和...\n",
       "1897515    一种微型塑料件激光焊接系统以及焊接方法:本发明提供一种微型塑料件激光焊接系统以及焊接方法，本...\n",
       "1897516    可拆卸式电池模块:本实用新型公开了可拆卸式电池模块，涉及电池模块技术领域，包括壳体，所述壳体...\n",
       "Name: 标题 (中文), Length: 1897517, dtype: object"
      ]
     },
     "execution_count": 30,
     "metadata": {},
     "output_type": "execute_result"
    }
   ],
   "source": [
    "patent_doc=patent_co['标题 (中文)'].str.cat(patent_co['摘要 (中文)'].replace(np.nan,''),sep=':')\n",
    "patent_doc"
   ]
  },
  {
   "cell_type": "code",
   "execution_count": 8,
   "id": "c4e465e9-8903-4bea-aab8-cc4d63f3ba68",
   "metadata": {},
   "outputs": [],
   "source": [
    "patent_co['摘要长度']=patent_co['摘要 (中文)'].replace(np.nan,'').str.len()"
   ]
  },
  {
   "cell_type": "code",
   "execution_count": 31,
   "id": "a65acb8c-a0c2-4c44-88b9-b3c2c110a715",
   "metadata": {},
   "outputs": [
    {
     "data": {
      "text/plain": [
       "count    1.897517e+06\n",
       "mean     2.560255e+02\n",
       "std      7.372450e+01\n",
       "min      3.000000e+00\n",
       "25%      2.180000e+02\n",
       "50%      2.750000e+02\n",
       "75%      3.050000e+02\n",
       "max      1.283900e+04\n",
       "Name: 标题 (中文), dtype: float64"
      ]
     },
     "execution_count": 31,
     "metadata": {},
     "output_type": "execute_result"
    }
   ],
   "source": [
    "patent_doc.str.len().describe()"
   ]
  },
  {
   "cell_type": "code",
   "execution_count": 22,
   "id": "799d1df4-329b-445c-993a-38841129154c",
   "metadata": {
    "scrolled": true
   },
   "outputs": [
    {
     "data": {
      "text/plain": [
       "['省略其它视图。',\n",
       " '打开门的主视图',\n",
       " '省略其它视图。',\n",
       " '请求保护色彩。',\n",
       " '请求保护色彩。',\n",
       " '请求保护色彩。',\n",
       " '请求保护色彩。',\n",
       " '省略仰视图。',\n",
       " '省略仰视图。',\n",
       " '省略后视图。',\n",
       " '省略仰视图。',\n",
       " '省略其它视图。',\n",
       " '省略其它视图。',\n",
       " '省略其它视图。',\n",
       " '请求保护色彩。',\n",
       " '请求保护色彩。',\n",
       " '请求保护色彩。',\n",
       " '请求保护色彩。',\n",
       " '请求保护色彩。',\n",
       " '省略其它视图。',\n",
       " '请求保护色彩。',\n",
       " '省略其它视图。',\n",
       " '省略后视图。',\n",
       " '省略其它视图。',\n",
       " '请求保护色彩。',\n",
       " '省略其它视图。',\n",
       " '省略仰视图。',\n",
       " '省略仰视图。',\n",
       " '省略其它视图。',\n",
       " '省略其它视图。',\n",
       " '省略其它视图。',\n",
       " '请求保护色彩。',\n",
       " '请求保护色彩。',\n",
       " '省略其它视图。',\n",
       " '省略其它视图。',\n",
       " '请求保护色彩。',\n",
       " '请求保护色彩。',\n",
       " '请求保护色彩。',\n",
       " '省略其它视图。',\n",
       " '省略后视图。',\n",
       " '请求保护色彩。',\n",
       " '请求保护色彩。',\n",
       " '省略仰视图。',\n",
       " '省略其它视图。',\n",
       " '省略其它视图。',\n",
       " '请求保护色彩。',\n",
       " '请求保护色彩。',\n",
       " '请求保护色彩。',\n",
       " '请求保护色彩。',\n",
       " '省略其它视图。',\n",
       " '省略其它视图。',\n",
       " '省略其它视图。',\n",
       " '省略其它视图。',\n",
       " '省略其它视图。',\n",
       " '请求保护色彩。',\n",
       " '省略其它视图。',\n",
       " '省略其它视图。',\n",
       " '省略其它视图。',\n",
       " '省略其它视图。',\n",
       " '省略后视图。',\n",
       " '省略其它视图。',\n",
       " '请求保护色彩。',\n",
       " '省略其它视图。',\n",
       " '省略其它视图。',\n",
       " '省略其它视图。',\n",
       " '省略其它视图。',\n",
       " '省略其它视图。',\n",
       " '省略其它视图。',\n",
       " '省略其它视图。',\n",
       " '省略其它视图。',\n",
       " '省略仰视图。',\n",
       " '省略其它视图。',\n",
       " '省略仰视图。',\n",
       " '省略仰视图。',\n",
       " '省略仰视图。',\n",
       " '省略仰视图。',\n",
       " '省略仰视图。',\n",
       " '省略仰视图。',\n",
       " '省略仰视图。',\n",
       " '省略仰视图。',\n",
       " '省略其它视图。',\n",
       " '省略仰视图。',\n",
       " '省略其它视图。',\n",
       " '请求保护色彩。',\n",
       " '省略其它视图。',\n",
       " '省略其它视图。',\n",
       " '省略俯视图。',\n",
       " '省略其它视图。',\n",
       " '请求保护色彩。',\n",
       " '省略其它视图。',\n",
       " '省略其它视图。',\n",
       " '省略其它视图。',\n",
       " '省略其它视图。',\n",
       " '省略其它视图。',\n",
       " '省略其它视图。',\n",
       " '省略其他视图。',\n",
       " '省略其它视图。',\n",
       " '省略其它视图。',\n",
       " '省略其它视图。',\n",
       " '省略其它视图。',\n",
       " '请求保护色彩。',\n",
       " '请求保护色彩。',\n",
       " '请求保护色彩。',\n",
       " '请求保护色彩。',\n",
       " '请求保护色彩。',\n",
       " '请求保护色彩。',\n",
       " '请求保护色彩。',\n",
       " '请求保护色彩。',\n",
       " '请求保护色彩。',\n",
       " '请求保护色彩。',\n",
       " '请求保护色彩。',\n",
       " '请求保护色彩。',\n",
       " '请求保护色彩。',\n",
       " '请求保护色彩。',\n",
       " '省略其它视图。',\n",
       " '省略其它视图。',\n",
       " '省略仰视图。',\n",
       " '省略仰视图。',\n",
       " '省略仰视图。',\n",
       " '请求保护色彩。',\n",
       " '请求保护色彩。',\n",
       " '省略仰视图。',\n",
       " '省略其它视图。',\n",
       " '省略其他视图。',\n",
       " '省略其他视图。',\n",
       " '省略其它视图。',\n",
       " '省略后视图。',\n",
       " '省略其它视图。',\n",
       " '省略其它视图。',\n",
       " '省略其他视图。',\n",
       " '省略其它视图。',\n",
       " '省略其它视图。',\n",
       " '省略后视图。',\n",
       " '省略后视图。',\n",
       " '省略后视图。',\n",
       " '省略后视图。',\n",
       " '省略后视图。',\n",
       " '省略其它视图。',\n",
       " '省略其它视图。',\n",
       " '省略其它视图。',\n",
       " '省略其它视图。',\n",
       " '请求保护色彩。',\n",
       " '省略仰视图。',\n",
       " '省略仰视图。',\n",
       " '省略仰视图。',\n",
       " '省略其他视图。',\n",
       " '省略其他视图。',\n",
       " '其它视图省略。',\n",
       " '省略其它视图。',\n",
       " '省略其它视图。',\n",
       " '省略其它视图。',\n",
       " '省略仰视图。',\n",
       " '省略仰视图。',\n",
       " '省略仰视图。',\n",
       " '省略仰视图。',\n",
       " '省略仰视图。',\n",
       " '省略仰视图。',\n",
       " '省略其它视图。',\n",
       " '省略其它视图。',\n",
       " '省略其它视图。',\n",
       " '省略仰视图。',\n",
       " '省略仰视图。',\n",
       " '省略仰视图。',\n",
       " '省略其它视图。',\n",
       " '省略其它视图。',\n",
       " '省略其它视图。',\n",
       " '省略其它视图。',\n",
       " '省略其它视图。',\n",
       " '省略其它视图。',\n",
       " '省略其它视图。',\n",
       " '省略其它视图。',\n",
       " '省略仰视图。',\n",
       " '省略后视图。',\n",
       " '省略后视图。',\n",
       " '省略其它视图。',\n",
       " 'A部为透明部分。',\n",
       " '省略其它视图。',\n",
       " '省略其他视图。',\n",
       " '省略其它视图。',\n",
       " '请求保护色彩。',\n",
       " '省略其它视图。',\n",
       " '请求保护色彩。',\n",
       " '请求保护色彩。',\n",
       " '省略后视图。',\n",
       " '省略其它视图。',\n",
       " '省略仰视图。',\n",
       " '省略仰视图。',\n",
       " '省略仰视图。',\n",
       " '省略其他视图。',\n",
       " '省略仰视图。',\n",
       " '省略仰视图。',\n",
       " '省略仰视图。',\n",
       " '省略仰视图。',\n",
       " '省略仰视图。',\n",
       " '省略仰视图。',\n",
       " '省略仰视图。',\n",
       " '省略其它视图。',\n",
       " '省略其它视图。',\n",
       " '省略后视图。',\n",
       " 'A部为透明部分。',\n",
       " '省略后视图。',\n",
       " '省略仰视图。',\n",
       " '省略其他视图。',\n",
       " '省略其它视图。',\n",
       " '省略右视图。',\n",
       " '省略其它视图。',\n",
       " '省略其它视图。',\n",
       " '省略其它视图。',\n",
       " '省略其它视图。',\n",
       " '省略其它视图。',\n",
       " '省略其它视图。',\n",
       " '省略其他视图。',\n",
       " '省略后视图。',\n",
       " '省略其它视图。',\n",
       " '省略其它视图。',\n",
       " '省略其它视图。',\n",
       " '省略其它视图。',\n",
       " '省略仰视图。',\n",
       " '省略仰视图。',\n",
       " '省略其他视图。',\n",
       " '省略其它视图。',\n",
       " '省略其它视图。',\n",
       " '省略其它视图',\n",
       " '省略其它视图。',\n",
       " '省略其它视图。',\n",
       " '省略其它视图。',\n",
       " 'A部位镂空。',\n",
       " '省略其它视图。',\n",
       " '省略其它视图。',\n",
       " '省略仰视图。',\n",
       " '省略仰视图。',\n",
       " '省略其它视图。',\n",
       " '省略仰视图。',\n",
       " '省略其它视图。',\n",
       " '省略其它视图。',\n",
       " '省略其它视图。',\n",
       " '省略其它视图。',\n",
       " '省略其它视图。',\n",
       " '省略其它视图。',\n",
       " '省略其它视图。',\n",
       " '省略其它视图。',\n",
       " '省略其它视图。',\n",
       " '省略其它视图。',\n",
       " '省略其他视图。',\n",
       " '省略其他视图。',\n",
       " '省略其他视图。',\n",
       " '省略其它视图。',\n",
       " '省略仰视图。',\n",
       " '省略仰视图。',\n",
       " '省略其它视图。',\n",
       " '省略后视图。',\n",
       " '省略其他视图。',\n",
       " '省略其他视图。',\n",
       " '省略其它视图。',\n",
       " '省略仰视图。',\n",
       " '省略仰视图。',\n",
       " '省略仰视图。',\n",
       " '省略仰视图。',\n",
       " '省略其他视图。',\n",
       " '省略仰视图。',\n",
       " '省略仰视图。',\n",
       " '省略仰视图。',\n",
       " '省略仰视图。',\n",
       " '机壳为不锈钢材质。',\n",
       " '省略仰视图。',\n",
       " '省略仰视图。',\n",
       " '省略仰视图。',\n",
       " '省略仰视图。',\n",
       " '省略仰视图。',\n",
       " '省略仰视图。',\n",
       " '省略后视图。',\n",
       " '省略仰视图。',\n",
       " '省略仰视图。',\n",
       " '省略其它视图。',\n",
       " '省略其他视图。',\n",
       " '省略其他视图。',\n",
       " '省略其他视图。',\n",
       " '省略其他视图。',\n",
       " '省略其它视图。',\n",
       " '省略其他视图。',\n",
       " '省略其它视图。',\n",
       " '省略其他视图。',\n",
       " '省略仰视图。',\n",
       " '省略仰视图。',\n",
       " '省略后视图。',\n",
       " '省略其他视图。',\n",
       " '省略后视图。',\n",
       " '省略仰视图。',\n",
       " '省略仰视图。',\n",
       " '省略仰视图。',\n",
       " '省略后视图。',\n",
       " '省略后视图。',\n",
       " '省略仰视图。',\n",
       " '省略仰视图。',\n",
       " '省略仰视图。',\n",
       " '省略其他视图。',\n",
       " '省略仰视图。',\n",
       " '省略其它视图。',\n",
       " 'A处为透明材料。',\n",
       " '省略仰视图。',\n",
       " '省略其它视图。',\n",
       " '省略后视图。',\n",
       " '省略仰视图。',\n",
       " '省略仰视图。',\n",
       " '请求保护色彩。',\n",
       " '设计要点在俯视图。',\n",
       " '杯A为透明体。',\n",
       " '请求保护色彩。',\n",
       " '省略其它视图。',\n",
       " '请求保护色彩。',\n",
       " '省略其它视图。',\n",
       " '省略仰视图。',\n",
       " '省略其他视图。',\n",
       " '省略仰视图。',\n",
       " '省略其他视图。',\n",
       " '省略其他视图。',\n",
       " '省略仰视图。',\n",
       " '省略其他视图。',\n",
       " '省略其他视图。',\n",
       " '省略其他视图。',\n",
       " '省略其它视图。',\n",
       " '省略其他视图。',\n",
       " '省略其他视图。',\n",
       " '省略其它视图。',\n",
       " '省略其他视图。',\n",
       " '省略其他视图。',\n",
       " '省略其它视图。',\n",
       " '省略其它视图。',\n",
       " '省略其他视图。',\n",
       " '请求保护色彩。',\n",
       " '省略后视图。',\n",
       " '省略其他视图。',\n",
       " '省略其他视图。',\n",
       " '省略右视图。',\n",
       " '省略其他视图。',\n",
       " '省略其他视图。',\n",
       " '省略其它视图。',\n",
       " '省略其它视图。',\n",
       " '省略其他视图。',\n",
       " '省略其它视图。',\n",
       " '省略其他视图。',\n",
       " '请求保护色彩。',\n",
       " '请求保护色彩。',\n",
       " 'A为液晶屏。',\n",
       " '图中A：液晶屏。',\n",
       " 'A为液晶屏。',\n",
       " '省略其它视图。',\n",
       " '省略其他视图。']"
      ]
     },
     "execution_count": 22,
     "metadata": {},
     "output_type": "execute_result"
    }
   ],
   "source": [
    "patent_co.loc[patent_co['摘要长度']<10,'摘要 (中文)'].dropna().to_list()"
   ]
  },
  {
   "cell_type": "code",
   "execution_count": 24,
   "id": "e31ee342-27b7-4fef-aedb-6352426a045f",
   "metadata": {},
   "outputs": [],
   "source": [
    "patent_co.loc[patent_co['摘要长度']<10,'摘要长度']=0"
   ]
  },
  {
   "cell_type": "code",
   "execution_count": 9,
   "id": "a2cef5a7-4572-483e-afba-12725cc67b2b",
   "metadata": {},
   "outputs": [
    {
     "ename": "NameError",
     "evalue": "name 'patent_doc' is not defined",
     "output_type": "error",
     "traceback": [
      "\u001b[1;31m---------------------------------------------------------------------------\u001b[0m",
      "\u001b[1;31mNameError\u001b[0m                                 Traceback (most recent call last)",
      "Cell \u001b[1;32mIn[9], line 1\u001b[0m\n\u001b[1;32m----> 1\u001b[0m \u001b[43mpatent_doc\u001b[49m\u001b[38;5;241m.\u001b[39mindex\n",
      "\u001b[1;31mNameError\u001b[0m: name 'patent_doc' is not defined"
     ]
    }
   ],
   "source": [
    "patent_doc.index"
   ]
  },
  {
   "cell_type": "code",
   "execution_count": 18,
   "id": "fe869e24-bb56-4680-bafd-5dd4ff83db89",
   "metadata": {},
   "outputs": [
    {
     "data": {
      "text/plain": [
       "892140    电脑的图形用户界面:1.本外观设计产品的名称：电脑的图形用户界面。2.本外观设计产品的用途：...\n",
       "Name: 标题 (中文), dtype: object"
      ]
     },
     "execution_count": 18,
     "metadata": {},
     "output_type": "execute_result"
    }
   ],
   "source": [
    "patent_doc[patent_doc.str.len()>12000]"
   ]
  },
  {
   "cell_type": "code",
   "execution_count": 20,
   "id": "598d96b0-0bb7-48f7-84f3-ba3cefa86bab",
   "metadata": {},
   "outputs": [
    {
     "data": {
      "text/plain": [
       "array([-0.00272806, -0.02407967, -0.02734151, ...,  0.02709071,\n",
       "        0.01606625, -0.02833204], dtype=float32)"
      ]
     },
     "execution_count": 20,
     "metadata": {},
     "output_type": "execute_result"
    }
   ],
   "source": [
    "model.encode(patent_doc.iloc[892140])"
   ]
  },
  {
   "cell_type": "code",
   "execution_count": 24,
   "id": "12c95b7c-b6e5-4251-9a2b-9c81af31670e",
   "metadata": {},
   "outputs": [
    {
     "data": {
      "text/plain": [
       "(5, 1024)"
      ]
     },
     "execution_count": 24,
     "metadata": {},
     "output_type": "execute_result"
    }
   ],
   "source": [
    "sentences_embeddings  = model.encode(patent_doc[:5], normalize_embeddings=True)\n",
    "sentences_embeddings.shape"
   ]
  },
  {
   "cell_type": "code",
   "execution_count": 33,
   "id": "43abfba4-a58f-445b-8c27-8ee5333fa3f3",
   "metadata": {},
   "outputs": [
    {
     "data": {
      "text/html": [
       "<div>\n",
       "<style scoped>\n",
       "    .dataframe tbody tr th:only-of-type {\n",
       "        vertical-align: middle;\n",
       "    }\n",
       "\n",
       "    .dataframe tbody tr th {\n",
       "        vertical-align: top;\n",
       "    }\n",
       "\n",
       "    .dataframe thead th {\n",
       "        text-align: right;\n",
       "    }\n",
       "</style>\n",
       "<table border=\"1\" class=\"dataframe\">\n",
       "  <thead>\n",
       "    <tr style=\"text-align: right;\">\n",
       "      <th></th>\n",
       "      <th>Co</th>\n",
       "      <th>序号</th>\n",
       "      <th>标题 (中文)</th>\n",
       "      <th>摘要 (中文)</th>\n",
       "      <th>申请人</th>\n",
       "      <th>申请日</th>\n",
       "      <th>申请号</th>\n",
       "      <th>公开（公告）号</th>\n",
       "      <th>专利类型</th>\n",
       "    </tr>\n",
       "  </thead>\n",
       "  <tbody>\n",
       "  </tbody>\n",
       "</table>\n",
       "</div>"
      ],
      "text/plain": [
       "Empty DataFrame\n",
       "Columns: [Co, 序号, 标题 (中文), 摘要 (中文), 申请人, 申请日, 申请号, 公开（公告）号, 专利类型]\n",
       "Index: []"
      ]
     },
     "execution_count": 33,
     "metadata": {},
     "output_type": "execute_result"
    }
   ],
   "source": [
    "patent_co[patent_doc.isna()]"
   ]
  },
  {
   "cell_type": "code",
   "execution_count": 34,
   "id": "93ad6ed4-ea3d-49fe-81ad-f36d5ebf5499",
   "metadata": {},
   "outputs": [
    {
     "data": {
      "text/plain": [
       "True"
      ]
     },
     "execution_count": 34,
     "metadata": {},
     "output_type": "execute_result"
    }
   ],
   "source": [
    "torch.cuda.is_available()"
   ]
  },
  {
   "cell_type": "code",
   "execution_count": 35,
   "id": "1febad2c-6e17-46c0-8fc1-bdae915bbd07",
   "metadata": {},
   "outputs": [
    {
     "name": "stdout",
     "output_type": "stream",
     "text": [
      "CPU times: total: 7h 44min 30s\n",
      "Wall time: 7h 7min 13s\n"
     ]
    }
   ],
   "source": [
    "%%time\n",
    "embeddings=model.encode(patent_doc,convert_to_tensor=True,  normalize_embeddings=True, device='cuda')"
   ]
  },
  {
   "cell_type": "code",
   "execution_count": 37,
   "id": "c30887d5-6623-4133-bb8a-3ba4b9dc791e",
   "metadata": {},
   "outputs": [
    {
     "data": {
      "text/plain": [
       "(1897517, 1024)"
      ]
     },
     "execution_count": 37,
     "metadata": {},
     "output_type": "execute_result"
    }
   ],
   "source": [
    "sentences_embeddings=embeddings.cpu().numpy()\n",
    "sentences_embeddings.shape"
   ]
  },
  {
   "cell_type": "code",
   "execution_count": 38,
   "id": "7bc40a79-ccff-4a10-950d-e9f0f842d9d9",
   "metadata": {},
   "outputs": [],
   "source": [
    "np.save('E:\\Documents\\Jupyter\\data\\融资公司专利2024_embeddings.npy',sentences_embeddings)"
   ]
  },
  {
   "cell_type": "code",
   "execution_count": 25,
   "id": "7d5549fa-8438-4570-8871-3280f54760f9",
   "metadata": {},
   "outputs": [],
   "source": [
    "import pickle"
   ]
  },
  {
   "cell_type": "code",
   "execution_count": 58,
   "id": "005fe0a5-03d6-44f0-b4ef-429304e43525",
   "metadata": {},
   "outputs": [],
   "source": [
    "payload=patent_co[['Co','序号','申请号','公开（公告）号','标题 (中文)']].to_dict(orient=\"records\")"
   ]
  },
  {
   "cell_type": "code",
   "execution_count": 26,
   "id": "51116a28-80b5-4ba7-936a-66ed2eae5e7e",
   "metadata": {},
   "outputs": [],
   "source": [
    "payload_1=patent_co[['摘要长度','table']].to_dict(orient=\"records\")"
   ]
  },
  {
   "cell_type": "code",
   "execution_count": 63,
   "id": "ceca77b8-cbe9-4723-847a-42e6c5a4ae79",
   "metadata": {},
   "outputs": [
    {
     "data": {
      "text/plain": [
       "(1897517,\n",
       " {'Co': '重庆钢铁股份有限公司',\n",
       "  '序号': 123,\n",
       "  '申请号': 'CN93117175.X',\n",
       "  '公开（公告）号': 'CN1050661C',\n",
       "  '标题 (中文)': '竖式烧结矿冷却机'})"
      ]
     },
     "execution_count": 63,
     "metadata": {},
     "output_type": "execute_result"
    }
   ],
   "source": [
    "len(payload),payload[0]"
   ]
  },
  {
   "cell_type": "code",
   "execution_count": 28,
   "id": "736a681c-4334-498f-928d-3008eac9d476",
   "metadata": {},
   "outputs": [
    {
     "data": {
      "text/plain": [
       "(1897517, {'摘要长度': 160, 'table': 'patent202210'})"
      ]
     },
     "execution_count": 28,
     "metadata": {},
     "output_type": "execute_result"
    }
   ],
   "source": [
    "len(payload_1),payload_1[0]"
   ]
  },
  {
   "cell_type": "code",
   "execution_count": 61,
   "id": "dbcef06f-c10c-482d-9431-3ab2a3c201b9",
   "metadata": {},
   "outputs": [],
   "source": [
    "with open('E:\\Documents\\Jupyter\\data\\融资公司专利2024_payloads.pkl', 'wb') as file:\n",
    "    pickle.dump(payload, file)"
   ]
  },
  {
   "cell_type": "code",
   "execution_count": 30,
   "id": "9a3fcf7f-a8ae-4db6-a0e4-6f1cbd9c73f3",
   "metadata": {},
   "outputs": [],
   "source": [
    "with open('E:\\Documents\\Jupyter\\data\\融资公司专利2024_payloads_1.pkl', 'wb') as file:\n",
    "    pickle.dump(payload_1, file)"
   ]
  },
  {
   "cell_type": "code",
   "execution_count": 54,
   "id": "61066668-871c-4e76-a81f-0f861cfc850a",
   "metadata": {},
   "outputs": [
    {
     "data": {
      "text/plain": [
       "标题 (中文)\n",
       "问答交互方法和装置、计算机设备及计算机可读存储介质        0.902388\n",
       "问答交互方法和装置、计算机设备及计算机可读存储介质        0.902388\n",
       "人机交互方法及装置、存储介质、终端                0.898434\n",
       "一种应答方法和装置                        0.889229\n",
       "一种应答方法和装置                        0.889229\n",
       "一种会话交互方法                         0.880753\n",
       "一种FAQ问答库泛化方法、装置及设备               0.866741\n",
       "情感交互方法及装置、计算机可读存储介质、计算机设备        0.863018\n",
       "情感交互方法及装置、计算机可读存储介质、计算机设备        0.863018\n",
       "知识库构建、基于知识库的智能问答方法及装置、存储介质、终端    0.859648\n",
       "Name: 问答交互方法和装置, dtype: float32"
      ]
     },
     "execution_count": 54,
     "metadata": {},
     "output_type": "execute_result"
    }
   ],
   "source": [
    "queries='问答交互方法和装置'\n",
    "queries_embeddings  = model.encode(queries, normalize_embeddings=True)\n",
    "similarity = queries_embeddings @ sentences_embeddings.T\n",
    "res=pd.Series(similarity.flatten(),index=patent_co['标题 (中文)'],name=queries)\n",
    "res.sort_values(ascending=False).head(10)"
   ]
  },
  {
   "cell_type": "code",
   "execution_count": 47,
   "id": "2c26cc01-ede6-48c8-a852-41c0055e8ba8",
   "metadata": {},
   "outputs": [
    {
     "data": {
      "text/plain": [
       "array([0.6941302 , 0.6752223 , 0.6931166 , ..., 0.71921104, 0.69920707,\n",
       "       0.7082873 ], dtype=float32)"
      ]
     },
     "execution_count": 47,
     "metadata": {},
     "output_type": "execute_result"
    }
   ],
   "source": [
    "similarity.reshape(-1)"
   ]
  },
  {
   "cell_type": "code",
   "execution_count": 55,
   "id": "3555dcda-3dde-4b45-9925-255eec1bedc2",
   "metadata": {},
   "outputs": [
    {
     "data": {
      "text/plain": [
       "(805646    问答交互方法和装置、计算机设备及计算机可读存储介质\n",
       " 805647    问答交互方法和装置、计算机设备及计算机可读存储介质\n",
       " 805634            人机交互方法及装置、存储介质、终端\n",
       " 954563                    一种应答方法和装置\n",
       " 954557                    一种应答方法和装置\n",
       " Name: 标题 (中文), dtype: object,\n",
       " array([0.9023882 , 0.9023882 , 0.8984344 , 0.88922876, 0.88922876],\n",
       "       dtype=float32))"
      ]
     },
     "execution_count": 55,
     "metadata": {},
     "output_type": "execute_result"
    }
   ],
   "source": [
    "largest_idx = np.argsort(similarity.reshape(-1))[-5:][::-1]#flatten [:-6:-1]\n",
    "patent_co['标题 (中文)'].iloc[largest_idx],similarity.reshape(-1)[largest_idx]"
   ]
  },
  {
   "cell_type": "code",
   "execution_count": 53,
   "id": "e0645457-37c9-4252-b0e3-a33b51e6562f",
   "metadata": {},
   "outputs": [
    {
     "data": {
      "text/plain": [
       "Co                  上海智臻智能网络科技股份有限公司\n",
       "序号                           1301366\n",
       "标题 (中文)    问答交互方法和装置、计算机设备及计算机可读存储介质\n",
       "摘要 (中文)                          NaN\n",
       "申请人                 上海智臻智能网络科技股份有限公司\n",
       "申请日                       2018-11-21\n",
       "申请号                     HK18114906.4\n",
       "公开（公告）号                   HK1255831B\n",
       "专利类型                            发明授权\n",
       "Name: 805646, dtype: object"
      ]
     },
     "execution_count": 53,
     "metadata": {},
     "output_type": "execute_result"
    }
   ],
   "source": [
    "patent_co.iloc[similarity.argmax()]"
   ]
  },
  {
   "cell_type": "code",
   "execution_count": 65,
   "id": "8a4a0991-774f-42f8-8950-7e5452044ad2",
   "metadata": {},
   "outputs": [
    {
     "data": {
      "text/plain": [
       "(47920, 5)"
      ]
     },
     "execution_count": 65,
     "metadata": {},
     "output_type": "execute_result"
    }
   ],
   "source": [
    "df_co=pd.read_excel('E:\\Documents\\Jupyter\\data\\公司融资变量2_20240301.xlsx',usecols=['公司序号','公司简称','工商全称','公司简介','行业'])\n",
    "df_co.shape"
   ]
  },
  {
   "cell_type": "code",
   "execution_count": 66,
   "id": "a69bf403-ccb7-4bc0-8504-899ac826fe28",
   "metadata": {},
   "outputs": [
    {
     "data": {
      "text/plain": [
       "(3206, 4)"
      ]
     },
     "execution_count": 66,
     "metadata": {},
     "output_type": "execute_result"
    }
   ],
   "source": [
    "df_co_1=pd.read_excel('E:\\Documents\\Jupyter\\data\\df_patent_invest_diff.xlsx',usecols=['序号','公司名','公司全称','简介'])\n",
    "df_co_1.shape"
   ]
  },
  {
   "cell_type": "code",
   "execution_count": 67,
   "id": "5c642d3f-ff04-4468-a0a4-e8aa6e3b4ab1",
   "metadata": {},
   "outputs": [],
   "source": [
    "df_co_1['公司序号']=df_co['公司序号'].max()+df_co_1['序号']\n",
    "df_co_1['行业']='金融科技'"
   ]
  },
  {
   "cell_type": "code",
   "execution_count": 70,
   "id": "00a93c5c-0212-4b2c-b240-1ccbdb88f2fc",
   "metadata": {},
   "outputs": [
    {
     "data": {
      "text/plain": [
       "(258, 5)"
      ]
     },
     "execution_count": 70,
     "metadata": {},
     "output_type": "execute_result"
    }
   ],
   "source": [
    "df_co_1[df_co.columns]=df_co_1[['公司序号','公司名','公司全称','简介','行业']]\n",
    "df_co_11=df_co_1[df_co.columns].drop_duplicates()\n",
    "df_co_11.shape"
   ]
  },
  {
   "cell_type": "code",
   "execution_count": 73,
   "id": "60d3b3b6-12ed-4a17-94e2-67f75e7d3b43",
   "metadata": {},
   "outputs": [
    {
     "data": {
      "text/plain": [
       "(25413, 5)"
      ]
     },
     "execution_count": 73,
     "metadata": {},
     "output_type": "execute_result"
    }
   ],
   "source": [
    "df_co_all=pd.concat([df_co.drop_duplicates('公司序号'),df_co_11],axis=0)\n",
    "df_co_all.shape"
   ]
  },
  {
   "cell_type": "code",
   "execution_count": 77,
   "id": "badb0e27-0044-4ffb-9605-c9c54f98cf20",
   "metadata": {},
   "outputs": [],
   "source": [
    "df_co_all.reset_index(drop=True).to_excel('E:\\Documents\\Jupyter\\data\\行业公司名简介_2024.xlsx')"
   ]
  },
  {
   "cell_type": "code",
   "execution_count": 31,
   "id": "00ac7dfd-f0e3-4796-b14f-ab5a087fd5bc",
   "metadata": {},
   "outputs": [],
   "source": [
    "df_co_all=pd.read_excel('E:\\Documents\\Jupyter\\data\\行业公司名简介_2024.xlsx',index_col=0)"
   ]
  },
  {
   "cell_type": "code",
   "execution_count": 79,
   "id": "18e6a5bf-664e-4965-ace4-99abc4e5942f",
   "metadata": {},
   "outputs": [],
   "source": [
    "df_co_all.reset_index(drop=True,inplace=True)"
   ]
  },
  {
   "cell_type": "code",
   "execution_count": 34,
   "id": "78202fc8-ae3f-45fa-9870-3205b8257119",
   "metadata": {},
   "outputs": [
    {
     "data": {
      "text/plain": [
       "公司序号    25413\n",
       "公司简称    25413\n",
       "工商全称    25285\n",
       "公司简介    25400\n",
       "行业      25413\n",
       "dtype: int64"
      ]
     },
     "execution_count": 34,
     "metadata": {},
     "output_type": "execute_result"
    }
   ],
   "source": [
    "df_co_all.count()"
   ]
  },
  {
   "cell_type": "code",
   "execution_count": 43,
   "id": "65a55f4d-0350-4a06-98ae-518f49694b94",
   "metadata": {},
   "outputs": [
    {
     "data": {
      "text/plain": [
       "count    25400.000000\n",
       "mean       104.535709\n",
       "std         48.140552\n",
       "min          3.000000\n",
       "25%         76.000000\n",
       "50%         95.000000\n",
       "75%        124.000000\n",
       "max       1040.000000\n",
       "Name: 简介长度, dtype: float64"
      ]
     },
     "execution_count": 43,
     "metadata": {},
     "output_type": "execute_result"
    }
   ],
   "source": [
    "df_co_all['简介长度']=df_co_all['公司简介'].str.len()\n",
    "df_co_all['简介长度'].describe()"
   ]
  },
  {
   "cell_type": "code",
   "execution_count": 37,
   "id": "533ca0c8-71e1-4faf-9138-8897961b5c96",
   "metadata": {},
   "outputs": [
    {
     "data": {
      "text/plain": [
       "83"
      ]
     },
     "execution_count": 37,
     "metadata": {},
     "output_type": "execute_result"
    }
   ],
   "source": [
    "(df_co_all['简介长度']<10).sum()"
   ]
  },
  {
   "cell_type": "code",
   "execution_count": 41,
   "id": "09a32e46-db52-4eeb-9e00-20a83910b931",
   "metadata": {},
   "outputs": [
    {
     "data": {
      "text/plain": [
       "18812    爱瘦APP\n",
       "19753      已倒闭\n",
       "25201     民营银行\n",
       "25252     民营银行\n",
       "25315     民营银行\n",
       "25335     财险公司\n",
       "25361    综合性企业\n",
       "Name: 公司简介, dtype: object"
      ]
     },
     "execution_count": 41,
     "metadata": {},
     "output_type": "execute_result"
    }
   ],
   "source": [
    "df_co_all.loc[df_co_all['简介长度']<=5,'公司简介']"
   ]
  },
  {
   "cell_type": "code",
   "execution_count": 92,
   "id": "9571220a-2f08-481c-96c8-1d7e02134856",
   "metadata": {},
   "outputs": [],
   "source": [
    "df_co_all['公司简称']=df_co_all['公司简称'].astype(str)"
   ]
  },
  {
   "cell_type": "code",
   "execution_count": 89,
   "id": "a973dee9-ffea-4773-89e1-c4ea09da7286",
   "metadata": {},
   "outputs": [],
   "source": [
    "df_co_all['工商全称']=df_co_all['工商全称'].replace(np.nan,'').astype(str)\n",
    "df_co_all['公司简介']=df_co_all['公司简介'].replace(np.nan,'').astype(str)"
   ]
  },
  {
   "cell_type": "code",
   "execution_count": 90,
   "id": "abae50f2-5da6-448f-b08e-576b6022f063",
   "metadata": {},
   "outputs": [
    {
     "data": {
      "text/plain": [
       "公司序号    25413\n",
       "公司简称    25413\n",
       "工商全称    25413\n",
       "公司简介    25413\n",
       "行业      25413\n",
       "dtype: int64"
      ]
     },
     "execution_count": 90,
     "metadata": {},
     "output_type": "execute_result"
    }
   ],
   "source": [
    "df_co_all.count()"
   ]
  },
  {
   "cell_type": "code",
   "execution_count": 94,
   "id": "981eba85-f926-4f94-857d-2bbe4f703f36",
   "metadata": {},
   "outputs": [
    {
     "data": {
      "text/plain": [
       "0        SciXair空气净化器 天津蔚蓝科技有限公司:SciXair是一家空气净化器开发设计和销售...\n",
       "1        iKair家庭环境管家 北京超感时空科技有限公司:iKair家庭环境管家是一个专注于家庭室内...\n",
       "2        云印技术 云印技术（深圳）有限公司:云印技术专注包装产业的数字化商业价值探索，通过云计算、大...\n",
       "3        第一人居 第一摩码人居环境科技（北京）有限公司:第一人居是一家智能空气净化产品研发商，公司致...\n",
       "4        R2专业物品管理 上海合阖信息科技有限公司:R2专业物品管理是一家致力于信息化、数字化提供更...\n",
       "                               ...                        \n",
       "25408                          连连数字 连连数字科技股份有限公司:跨境支付金融服务商\n",
       "25409                              快钱 快钱支付清算信息有限公司:互联网金融平台\n",
       "25410                      九次方大数据 九次方大数据信息集团有限公司:金融大数据服务平台\n",
       "25411                      平安医保科技 平安医疗健康管理股份有限公司:医保/商保管理平台\n",
       "25412                     爱因互动 爱因互动科技发展（北京）有限公司:智能对话机器人提供商\n",
       "Name: 公司简称, Length: 25413, dtype: object"
      ]
     },
     "execution_count": 94,
     "metadata": {},
     "output_type": "execute_result"
    }
   ],
   "source": [
    "co_doc=df_co_all['公司简称'].str.cat(df_co_all['工商全称'],sep=' ').str.cat(df_co_all['公司简介'],sep=':')\n",
    "co_doc"
   ]
  },
  {
   "cell_type": "code",
   "execution_count": 95,
   "id": "66295064-c9f9-44a7-ac8e-aedefd7f10ca",
   "metadata": {},
   "outputs": [
    {
     "name": "stdout",
     "output_type": "stream",
     "text": [
      "CPU times: total: 2min 49s\n",
      "Wall time: 2min 33s\n"
     ]
    }
   ],
   "source": [
    "%%time\n",
    "co_embeddings=model.encode(co_doc,convert_to_tensor=True,  normalize_embeddings=True, device='cuda')"
   ]
  },
  {
   "cell_type": "code",
   "execution_count": 98,
   "id": "d974e1ee-44b5-489f-b2b5-bdc0283555af",
   "metadata": {},
   "outputs": [
    {
     "name": "stdout",
     "output_type": "stream",
     "text": [
      "CPU times: total: 234 ms\n",
      "Wall time: 401 ms\n"
     ]
    }
   ],
   "source": [
    "%%time\n",
    "sentences_embeddings=co_embeddings.cpu().numpy()\n",
    "np.save('E:\\Documents\\Jupyter\\data\\行业公司名简介2024_embeddings.npy',sentences_embeddings)\n",
    "payload=df_co_all[['公司序号','公司简称','工商全称','行业']].to_dict(orient=\"records\")\n",
    "with open('E:\\Documents\\Jupyter\\data\\行业公司名简介2024_payloads.pkl', 'wb') as file:\n",
    "    pickle.dump(payload, file)"
   ]
  },
  {
   "cell_type": "code",
   "execution_count": 99,
   "id": "0ef6c9b2-8c79-4023-b615-10631e3908ab",
   "metadata": {},
   "outputs": [
    {
     "data": {
      "text/plain": [
       "{'公司序号': 1024, '公司简称': '海印环保', '工商全称': '上海海印环保科技股份有限公司', '行业': '传统制造'}"
      ]
     },
     "execution_count": 99,
     "metadata": {},
     "output_type": "execute_result"
    }
   ],
   "source": [
    "payload[1024]"
   ]
  },
  {
   "cell_type": "code",
   "execution_count": 103,
   "id": "1c0b0c3a-4214-420c-9e41-748a89c834b5",
   "metadata": {},
   "outputs": [
    {
     "data": {
      "text/plain": [
       "(1620       上海环境节能工程股份有限公司\n",
       " 3839         上海环境集团股份有限公司\n",
       " 25156       深圳市金证科技股份有限公司\n",
       " 25366    星环信息科技（上海）股份有限公司\n",
       " 1819       上海复洁环保科技股份有限公司\n",
       " Name: 工商全称, dtype: object,\n",
       " array([0.83436865, 0.8272115 , 0.82697636, 0.8203628 , 0.82031786],\n",
       "       dtype=float32))"
      ]
     },
     "execution_count": 103,
     "metadata": {},
     "output_type": "execute_result"
    }
   ],
   "source": [
    "queries='上海海印环保科技股份有限公司'\n",
    "queries_embeddings  = model.encode(queries, normalize_embeddings=True)\n",
    "similarity = queries_embeddings @ sentences_embeddings.T\n",
    "largest_idx = np.argsort(similarity.reshape(-1))[-5:][::-1]#flatten [:-6:-1]\n",
    "df_co_all['工商全称'].iloc[largest_idx],similarity.reshape(-1)[largest_idx]"
   ]
  },
  {
   "cell_type": "code",
   "execution_count": 105,
   "id": "7ce51f4c-951d-4d02-b7bf-0d77debe5623",
   "metadata": {},
   "outputs": [
    {
     "data": {
      "text/plain": [
       "0.9901897"
      ]
     },
     "execution_count": 105,
     "metadata": {},
     "output_type": "execute_result"
    }
   ],
   "source": [
    "queries_1='海印环保 上海海印环保科技股份有限公司'\n",
    "queries_1_embeddings  = model.encode(queries_1, normalize_embeddings=True)\n",
    "similarity = queries_embeddings @ queries_1_embeddings.T\n",
    "similarity"
   ]
  },
  {
   "cell_type": "code",
   "execution_count": 106,
   "id": "1dcff5ae-4979-41c7-b223-c38899bb4684",
   "metadata": {},
   "outputs": [],
   "source": [
    "co_name_embeddings=model.encode(df_co_all['公司简称'].str.cat(df_co_all['工商全称'],sep=' '),convert_to_tensor=True,  normalize_embeddings=True, device='cuda')\n",
    "co_sentences_embeddings=co_name_embeddings.cpu().numpy()"
   ]
  },
  {
   "cell_type": "code",
   "execution_count": 111,
   "id": "0a98c010-6daa-4a85-a927-0386a6a66555",
   "metadata": {},
   "outputs": [],
   "source": [
    "sentences_embeddings=np.vstack((co_sentences_embeddings,sentences_embeddings))\n",
    "payload+=df_co_all[['公司序号','公司简称','工商全称','行业']].to_dict(orient=\"records\")"
   ]
  },
  {
   "cell_type": "code",
   "execution_count": 113,
   "id": "ce2540e6-7ade-4258-bc88-2c82d7635ff8",
   "metadata": {},
   "outputs": [
    {
     "data": {
      "text/plain": [
       "((50826, 1024), 50826)"
      ]
     },
     "execution_count": 113,
     "metadata": {},
     "output_type": "execute_result"
    }
   ],
   "source": [
    "sentences_embeddings.shape,len(payload)"
   ]
  },
  {
   "cell_type": "code",
   "execution_count": 119,
   "id": "81317eaf-ff2a-4244-98eb-066d94180d72",
   "metadata": {},
   "outputs": [
    {
     "data": {
      "text/plain": [
       "(array([{'公司序号': 202, '公司简称': '海泰环保', '工商全称': '天津海泰环保科技发展股份有限公司', '行业': '传统制造'},\n",
       "        {'公司序号': 4568, '公司简称': '海云环保', '工商全称': '浙江海云环保有限公司', '行业': '传统制造'},\n",
       "        {'公司序号': 4545, '公司简称': '国泰环保', '工商全称': '杭州国泰环保科技股份有限公司', '行业': '传统制造'},\n",
       "        {'公司序号': 3300, '公司简称': '海岳环境', '工商全称': '山东海岳环境科技股份有限公司', '行业': '传统制造'},\n",
       "        {'公司序号': 1024, '公司简称': '海印环保', '工商全称': '上海海印环保科技股份有限公司', '行业': '传统制造'}],\n",
       "       dtype=object),\n",
       " array([0.9557438 , 0.9164884 , 0.91337204, 0.9105132 , 0.9074804 ],\n",
       "       dtype=float32))"
      ]
     },
     "execution_count": 119,
     "metadata": {},
     "output_type": "execute_result"
    }
   ],
   "source": [
    "queries='海泰环保科技'\n",
    "queries_embeddings  = model.encode(queries, normalize_embeddings=True)\n",
    "similarity = queries_embeddings @ sentences_embeddings.T\n",
    "largest_idx = np.argsort(similarity.reshape(-1))[-5:][::-1]#flatten [:-6:-1]\n",
    "np.array(payload)[largest_idx],similarity.reshape(-1)[largest_idx]"
   ]
  },
  {
   "cell_type": "code",
   "execution_count": 117,
   "id": "df5503d7-cdeb-4c22-aa07-002f205b62e5",
   "metadata": {},
   "outputs": [],
   "source": [
    "np.save('E:\\Documents\\Jupyter\\data\\行业公司名简介2024_embeddings.npy',sentences_embeddings)\n",
    "payload=df_co_all[['公司序号','公司简称','工商全称','行业']].to_dict(orient=\"records\")\n",
    "with open('E:\\Documents\\Jupyter\\data\\行业公司名简介2024_payloads.pkl', 'wb') as file:\n",
    "    pickle.dump(payload, file)"
   ]
  },
  {
   "cell_type": "code",
   "execution_count": 123,
   "id": "74dad8cd-3bda-4ccc-9db9-81cb396a5d28",
   "metadata": {},
   "outputs": [
    {
     "data": {
      "text/plain": [
       "25413"
      ]
     },
     "execution_count": 123,
     "metadata": {},
     "output_type": "execute_result"
    }
   ],
   "source": [
    "len(payload)"
   ]
  },
  {
   "cell_type": "code",
   "execution_count": 128,
   "id": "66a627e6-8906-432b-91c1-5972d114e689",
   "metadata": {},
   "outputs": [],
   "source": [
    "from qdrant_client import QdrantClient\n",
    "from qdrant_client.models import Distance,Batch, VectorParams,PointStruct,OptimizersConfigDiff,HnswConfigDiff,CollectionStatus,Filter, FieldCondition, MatchValue,Range,SearchParams,PointIdsList\n",
    "client = QdrantClient(host=\"10.10.10.5\", grpc_port=6334, prefer_grpc=True)"
   ]
  },
  {
   "cell_type": "code",
   "execution_count": 125,
   "id": "72e59fbb-cd08-4527-b265-3737d3b94dba",
   "metadata": {},
   "outputs": [],
   "source": [
    "tmp1=df_co_all[['公司序号','公司简称','工商全称','行业']]\n",
    "tmp1['profile']=0"
   ]
  },
  {
   "cell_type": "code",
   "execution_count": 126,
   "id": "e5bb1de2-2503-4296-80ba-51086c772155",
   "metadata": {},
   "outputs": [],
   "source": [
    "payload=df_co_all[['公司序号','公司简称','工商全称','行业']].to_dict(orient=\"records\")+df_co_all[['公司序号','公司简称','工商全称','行业','profile']].to_dict(orient=\"records\")"
   ]
  },
  {
   "cell_type": "code",
   "execution_count": 44,
   "id": "f74159bc-bab1-4b72-bf21-1c87c2f8ac7a",
   "metadata": {},
   "outputs": [],
   "source": [
    "payload=df_co_all[['公司序号','公司简称','工商全称','行业','简介长度']].to_dict(orient=\"records\")+df_co_all[['公司序号','公司简称','工商全称','行业']].to_dict(orient=\"records\")"
   ]
  },
  {
   "cell_type": "code",
   "execution_count": 47,
   "id": "a7097677-35f9-4010-85c3-bdb9bfbd2362",
   "metadata": {},
   "outputs": [],
   "source": [
    "with open('E:\\Documents\\Jupyter\\data\\行业公司名简介2024_payloads.pkl', 'wb') as file:\n",
    "    pickle.dump(payload, file)"
   ]
  },
  {
   "cell_type": "code",
   "execution_count": 46,
   "id": "d413401f-32b1-4542-9370-51072c5b2161",
   "metadata": {},
   "outputs": [
    {
     "data": {
      "text/plain": [
       "50826"
      ]
     },
     "execution_count": 46,
     "metadata": {},
     "output_type": "execute_result"
    }
   ],
   "source": [
    "len(payload)"
   ]
  },
  {
   "cell_type": "code",
   "execution_count": 130,
   "id": "3655501f-31d6-476c-ae9c-06958086e21e",
   "metadata": {},
   "outputs": [],
   "source": [
    "points=Batch(\n",
    "    ids= list(range(len(payload))),\n",
    "    vectors=sentences_embeddings.tolist(),\n",
    "    payloads=payload,\n",
    ")"
   ]
  },
  {
   "cell_type": "code",
   "execution_count": 133,
   "id": "3c5d79c2-7b1c-4e9d-92e9-7e58758d3cf0",
   "metadata": {},
   "outputs": [
    {
     "data": {
      "text/plain": [
       "<enum 'Distance'>"
      ]
     },
     "execution_count": 133,
     "metadata": {},
     "output_type": "execute_result"
    }
   ],
   "source": [
    "Distance"
   ]
  },
  {
   "cell_type": "code",
   "execution_count": 135,
   "id": "d14a702f-656a-415f-a56d-78b0b4ccabe0",
   "metadata": {},
   "outputs": [
    {
     "data": {
      "text/plain": [
       "1024"
      ]
     },
     "execution_count": 135,
     "metadata": {},
     "output_type": "execute_result"
    }
   ],
   "source": [
    "sentences_embeddings.shape[1]"
   ]
  },
  {
   "cell_type": "code",
   "execution_count": 136,
   "id": "98a95d8d-946b-4231-81db-9e8a90aa3bfe",
   "metadata": {},
   "outputs": [
    {
     "data": {
      "text/plain": [
       "True"
      ]
     },
     "execution_count": 136,
     "metadata": {},
     "output_type": "execute_result"
    }
   ],
   "source": [
    "client.create_collection(\n",
    "    collection_name='行业公司名简介_2.5w',\n",
    "    vectors_config=VectorParams(size=sentences_embeddings.shape[1], distance=Distance.DOT),)"
   ]
  },
  {
   "cell_type": "code",
   "execution_count": 137,
   "id": "abe13f1d-a92f-48de-973c-9a958ba3c90e",
   "metadata": {},
   "outputs": [
    {
     "data": {
      "text/plain": [
       "UpdateResult(operation_id=0, status=<UpdateStatus.COMPLETED: 'completed'>)"
      ]
     },
     "execution_count": 137,
     "metadata": {},
     "output_type": "execute_result"
    }
   ],
   "source": [
    "client.upsert(collection_name='行业公司名简介_2.5w',points = points)"
   ]
  },
  {
   "cell_type": "code",
   "execution_count": null,
   "id": "6b053cc9-44b1-4dc1-98dc-2ab69621980e",
   "metadata": {},
   "outputs": [],
   "source": [
    "def get_embedding(text):\n",
    "    inputs = tokenizer(text, return_tensors='pt', truncation=True, padding=True)\n",
    "    with torch.no_grad():\n",
    "        outputs = model(**inputs)\n",
    "    return outputs.last_hidden_state.mean(dim=1).squeeze()"
   ]
  },
  {
   "cell_type": "code",
   "execution_count": null,
   "id": "6d3f8849-7cbf-4eae-bebb-b56cbc5232fe",
   "metadata": {},
   "outputs": [],
   "source": [
    "from torch.utils.data import DataLoader, Dataset\n",
    "class MyDataset(Dataset):\n",
    "    def __init__(self, texts):\n",
    "        self.texts = texts\n",
    "    \n",
    "    def __len__(self):\n",
    "        return len(self.texts)\n",
    "    \n",
    "    def __getitem__(self, idx):\n",
    "        return self.texts[idx]\n",
    "\n",
    "device = 'cuda' if torch.cuda.is_available() else 'cpu'\n",
    "batch_size = 64  # 根据GPU的内存情况调整批处理大小\n",
    "dataset = MyDataset(patent_doc)\n",
    "dataloader = DataLoader(dataset, batch_size=batch_size, shuffle=False)\n",
    "\n",
    "all_embeddings = []\n",
    "for batch in dataloader:\n",
    "    # 将批次数据加载到GPU\n",
    "    embeddings = model.encode(batch, convert_to_tensor=True, normalize_embeddings=True, device=device)\n",
    "    # 将结果移动到CPU并转换为numpy数组，然后存储\n",
    "    all_embeddings.append(embeddings.cpu().numpy())\n",
    "\n",
    "all_embeddings = np.vstack(all_embeddings)\n",
    "all_embeddings.shape"
   ]
  }
 ],
 "metadata": {
  "kernelspec": {
   "display_name": "Python [conda env:Anaconda-pytorch]",
   "language": "python",
   "name": "conda-env-Anaconda-pytorch-py"
  },
  "language_info": {
   "codemirror_mode": {
    "name": "ipython",
    "version": 3
   },
   "file_extension": ".py",
   "mimetype": "text/x-python",
   "name": "python",
   "nbconvert_exporter": "python",
   "pygments_lexer": "ipython3",
   "version": "3.10.14"
  }
 },
 "nbformat": 4,
 "nbformat_minor": 5
}
