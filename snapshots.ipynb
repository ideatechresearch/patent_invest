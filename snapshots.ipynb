{
 "cells": [
  {
   "cell_type": "code",
   "execution_count": 38,
   "metadata": {},
   "outputs": [],
   "source": [
    "from qdrant_client import QdrantClient\n",
    "import requests\n",
    "import json\n",
    "import pickle\n",
    "client = QdrantClient(host=\"10.10.10.5\", grpc_port=6334, prefer_grpc=True)"
   ]
  },
  {
   "cell_type": "code",
   "execution_count": 10,
   "metadata": {},
   "outputs": [],
   "source": [
    "from qdrant_client.models import Batch,Distance,Batch,VectorParams,PointStruct,HnswConfigDiff"
   ]
  },
  {
   "cell_type": "code",
   "execution_count": 9,
   "metadata": {},
   "outputs": [
    {
     "ename": "_InactiveRpcError",
     "evalue": "<_InactiveRpcError of RPC that terminated with:\n\tstatus = StatusCode.UNAVAILABLE\n\tdetails = \"failed to connect to all addresses; last error: UNAVAILABLE: ipv4:10.10.10.5:6334: Connection refused\"\n\tdebug_error_string = \"UNKNOWN:Error received from peer  {grpc_message:\"failed to connect to all addresses; last error: UNAVAILABLE: ipv4:10.10.10.5:6334: Connection refused\", grpc_status:14, created_time:\"2024-07-04T07:19:54.5318287+00:00\"}\"\n>",
     "output_type": "error",
     "traceback": [
      "\u001b[1;31m---------------------------------------------------------------------------\u001b[0m",
      "\u001b[1;31m_InactiveRpcError\u001b[0m                         Traceback (most recent call last)",
      "Cell \u001b[1;32mIn[9], line 1\u001b[0m\n\u001b[1;32m----> 1\u001b[0m \u001b[43mclient\u001b[49m\u001b[38;5;241;43m.\u001b[39;49m\u001b[43mlist_full_snapshots\u001b[49m\u001b[43m(\u001b[49m\u001b[43m)\u001b[49m\n",
      "File \u001b[1;32md:\\ProgramData\\Python\\Python39\\lib\\site-packages\\qdrant_client\\qdrant_client.py:2145\u001b[0m, in \u001b[0;36mQdrantClient.list_full_snapshots\u001b[1;34m(self, **kwargs)\u001b[0m\n\u001b[0;32m   2138\u001b[0m \u001b[38;5;250m\u001b[39m\u001b[38;5;124;03m\"\"\"List all snapshots for a whole storage\u001b[39;00m\n\u001b[0;32m   2139\u001b[0m \n\u001b[0;32m   2140\u001b[0m \u001b[38;5;124;03mReturns:\u001b[39;00m\n\u001b[0;32m   2141\u001b[0m \u001b[38;5;124;03m    List of snapshots\u001b[39;00m\n\u001b[0;32m   2142\u001b[0m \u001b[38;5;124;03m\"\"\"\u001b[39;00m\n\u001b[0;32m   2143\u001b[0m \u001b[38;5;28;01massert\u001b[39;00m \u001b[38;5;28mlen\u001b[39m(kwargs) \u001b[38;5;241m==\u001b[39m \u001b[38;5;241m0\u001b[39m, \u001b[38;5;124mf\u001b[39m\u001b[38;5;124m\"\u001b[39m\u001b[38;5;124mUnknown arguments: \u001b[39m\u001b[38;5;132;01m{\u001b[39;00m\u001b[38;5;28mlist\u001b[39m(kwargs\u001b[38;5;241m.\u001b[39mkeys())\u001b[38;5;132;01m}\u001b[39;00m\u001b[38;5;124m\"\u001b[39m\n\u001b[1;32m-> 2145\u001b[0m \u001b[38;5;28;01mreturn\u001b[39;00m \u001b[38;5;28mself\u001b[39m\u001b[38;5;241m.\u001b[39m_client\u001b[38;5;241m.\u001b[39mlist_full_snapshots(\u001b[38;5;241m*\u001b[39m\u001b[38;5;241m*\u001b[39mkwargs)\n",
      "File \u001b[1;32md:\\ProgramData\\Python\\Python39\\lib\\site-packages\\qdrant_client\\qdrant_remote.py:2592\u001b[0m, in \u001b[0;36mQdrantRemote.list_full_snapshots\u001b[1;34m(self, **kwargs)\u001b[0m\n\u001b[0;32m   2590\u001b[0m \u001b[38;5;28;01mdef\u001b[39;00m \u001b[38;5;21mlist_full_snapshots\u001b[39m(\u001b[38;5;28mself\u001b[39m, \u001b[38;5;241m*\u001b[39m\u001b[38;5;241m*\u001b[39mkwargs: Any) \u001b[38;5;241m-\u001b[39m\u001b[38;5;241m>\u001b[39m List[types\u001b[38;5;241m.\u001b[39mSnapshotDescription]:\n\u001b[0;32m   2591\u001b[0m     \u001b[38;5;28;01mif\u001b[39;00m \u001b[38;5;28mself\u001b[39m\u001b[38;5;241m.\u001b[39m_prefer_grpc:\n\u001b[1;32m-> 2592\u001b[0m         snapshots \u001b[38;5;241m=\u001b[39m \u001b[38;5;28;43mself\u001b[39;49m\u001b[38;5;241;43m.\u001b[39;49m\u001b[43mgrpc_snapshots\u001b[49m\u001b[38;5;241;43m.\u001b[39;49m\u001b[43mListFull\u001b[49m\u001b[43m(\u001b[49m\n\u001b[0;32m   2593\u001b[0m \u001b[43m            \u001b[49m\u001b[43mgrpc\u001b[49m\u001b[38;5;241;43m.\u001b[39;49m\u001b[43mListFullSnapshotsRequest\u001b[49m\u001b[43m(\u001b[49m\u001b[43m)\u001b[49m\n\u001b[0;32m   2594\u001b[0m \u001b[43m        \u001b[49m\u001b[43m)\u001b[49m\u001b[38;5;241m.\u001b[39msnapshot_descriptions\n\u001b[0;32m   2595\u001b[0m         \u001b[38;5;28;01mreturn\u001b[39;00m [GrpcToRest\u001b[38;5;241m.\u001b[39mconvert_snapshot_description(snapshot) \u001b[38;5;28;01mfor\u001b[39;00m snapshot \u001b[38;5;129;01min\u001b[39;00m snapshots]\n\u001b[0;32m   2597\u001b[0m     snapshots \u001b[38;5;241m=\u001b[39m \u001b[38;5;28mself\u001b[39m\u001b[38;5;241m.\u001b[39mopenapi_client\u001b[38;5;241m.\u001b[39msnapshots_api\u001b[38;5;241m.\u001b[39mlist_full_snapshots()\u001b[38;5;241m.\u001b[39mresult\n",
      "File \u001b[1;32md:\\ProgramData\\Python\\Python39\\lib\\site-packages\\grpc\\_interceptor.py:277\u001b[0m, in \u001b[0;36m_UnaryUnaryMultiCallable.__call__\u001b[1;34m(self, request, timeout, metadata, credentials, wait_for_ready, compression)\u001b[0m\n\u001b[0;32m    268\u001b[0m \u001b[38;5;28;01mdef\u001b[39;00m \u001b[38;5;21m__call__\u001b[39m(\n\u001b[0;32m    269\u001b[0m     \u001b[38;5;28mself\u001b[39m,\n\u001b[0;32m    270\u001b[0m     request: Any,\n\u001b[1;32m   (...)\u001b[0m\n\u001b[0;32m    275\u001b[0m     compression: Optional[grpc\u001b[38;5;241m.\u001b[39mCompression] \u001b[38;5;241m=\u001b[39m \u001b[38;5;28;01mNone\u001b[39;00m,\n\u001b[0;32m    276\u001b[0m ) \u001b[38;5;241m-\u001b[39m\u001b[38;5;241m>\u001b[39m Any:\n\u001b[1;32m--> 277\u001b[0m     response, ignored_call \u001b[38;5;241m=\u001b[39m \u001b[38;5;28;43mself\u001b[39;49m\u001b[38;5;241;43m.\u001b[39;49m\u001b[43m_with_call\u001b[49m\u001b[43m(\u001b[49m\n\u001b[0;32m    278\u001b[0m \u001b[43m        \u001b[49m\u001b[43mrequest\u001b[49m\u001b[43m,\u001b[49m\n\u001b[0;32m    279\u001b[0m \u001b[43m        \u001b[49m\u001b[43mtimeout\u001b[49m\u001b[38;5;241;43m=\u001b[39;49m\u001b[43mtimeout\u001b[49m\u001b[43m,\u001b[49m\n\u001b[0;32m    280\u001b[0m \u001b[43m        \u001b[49m\u001b[43mmetadata\u001b[49m\u001b[38;5;241;43m=\u001b[39;49m\u001b[43mmetadata\u001b[49m\u001b[43m,\u001b[49m\n\u001b[0;32m    281\u001b[0m \u001b[43m        \u001b[49m\u001b[43mcredentials\u001b[49m\u001b[38;5;241;43m=\u001b[39;49m\u001b[43mcredentials\u001b[49m\u001b[43m,\u001b[49m\n\u001b[0;32m    282\u001b[0m \u001b[43m        \u001b[49m\u001b[43mwait_for_ready\u001b[49m\u001b[38;5;241;43m=\u001b[39;49m\u001b[43mwait_for_ready\u001b[49m\u001b[43m,\u001b[49m\n\u001b[0;32m    283\u001b[0m \u001b[43m        \u001b[49m\u001b[43mcompression\u001b[49m\u001b[38;5;241;43m=\u001b[39;49m\u001b[43mcompression\u001b[49m\u001b[43m,\u001b[49m\n\u001b[0;32m    284\u001b[0m \u001b[43m    \u001b[49m\u001b[43m)\u001b[49m\n\u001b[0;32m    285\u001b[0m     \u001b[38;5;28;01mreturn\u001b[39;00m response\n",
      "File \u001b[1;32md:\\ProgramData\\Python\\Python39\\lib\\site-packages\\grpc\\_interceptor.py:332\u001b[0m, in \u001b[0;36m_UnaryUnaryMultiCallable._with_call\u001b[1;34m(self, request, timeout, metadata, credentials, wait_for_ready, compression)\u001b[0m\n\u001b[0;32m    327\u001b[0m         \u001b[38;5;28;01mreturn\u001b[39;00m _FailureOutcome(exception, sys\u001b[38;5;241m.\u001b[39mexc_info()[\u001b[38;5;241m2\u001b[39m])\n\u001b[0;32m    329\u001b[0m call \u001b[38;5;241m=\u001b[39m \u001b[38;5;28mself\u001b[39m\u001b[38;5;241m.\u001b[39m_interceptor\u001b[38;5;241m.\u001b[39mintercept_unary_unary(\n\u001b[0;32m    330\u001b[0m     continuation, client_call_details, request\n\u001b[0;32m    331\u001b[0m )\n\u001b[1;32m--> 332\u001b[0m \u001b[38;5;28;01mreturn\u001b[39;00m \u001b[43mcall\u001b[49m\u001b[38;5;241;43m.\u001b[39;49m\u001b[43mresult\u001b[49m\u001b[43m(\u001b[49m\u001b[43m)\u001b[49m, call\n",
      "File \u001b[1;32md:\\ProgramData\\Python\\Python39\\lib\\site-packages\\grpc\\_channel.py:440\u001b[0m, in \u001b[0;36m_InactiveRpcError.result\u001b[1;34m(self, timeout)\u001b[0m\n\u001b[0;32m    436\u001b[0m \u001b[38;5;28;01mdef\u001b[39;00m \u001b[38;5;21mresult\u001b[39m(\n\u001b[0;32m    437\u001b[0m     \u001b[38;5;28mself\u001b[39m, timeout: Optional[\u001b[38;5;28mfloat\u001b[39m] \u001b[38;5;241m=\u001b[39m \u001b[38;5;28;01mNone\u001b[39;00m\n\u001b[0;32m    438\u001b[0m ) \u001b[38;5;241m-\u001b[39m\u001b[38;5;241m>\u001b[39m Any:  \u001b[38;5;66;03m# pylint: disable=unused-argument\u001b[39;00m\n\u001b[0;32m    439\u001b[0m \u001b[38;5;250m    \u001b[39m\u001b[38;5;124;03m\"\"\"See grpc.Future.result.\"\"\"\u001b[39;00m\n\u001b[1;32m--> 440\u001b[0m     \u001b[38;5;28;01mraise\u001b[39;00m \u001b[38;5;28mself\u001b[39m\n",
      "File \u001b[1;32md:\\ProgramData\\Python\\Python39\\lib\\site-packages\\grpc\\_interceptor.py:315\u001b[0m, in \u001b[0;36m_UnaryUnaryMultiCallable._with_call.<locals>.continuation\u001b[1;34m(new_details, request)\u001b[0m\n\u001b[0;32m    306\u001b[0m (\n\u001b[0;32m    307\u001b[0m     new_method,\n\u001b[0;32m    308\u001b[0m     new_timeout,\n\u001b[1;32m   (...)\u001b[0m\n\u001b[0;32m    312\u001b[0m     new_compression,\n\u001b[0;32m    313\u001b[0m ) \u001b[38;5;241m=\u001b[39m _unwrap_client_call_details(new_details, client_call_details)\n\u001b[0;32m    314\u001b[0m \u001b[38;5;28;01mtry\u001b[39;00m:\n\u001b[1;32m--> 315\u001b[0m     response, call \u001b[38;5;241m=\u001b[39m \u001b[38;5;28;43mself\u001b[39;49m\u001b[38;5;241;43m.\u001b[39;49m\u001b[43m_thunk\u001b[49m\u001b[43m(\u001b[49m\u001b[43mnew_method\u001b[49m\u001b[43m)\u001b[49m\u001b[38;5;241;43m.\u001b[39;49m\u001b[43mwith_call\u001b[49m\u001b[43m(\u001b[49m\n\u001b[0;32m    316\u001b[0m \u001b[43m        \u001b[49m\u001b[43mrequest\u001b[49m\u001b[43m,\u001b[49m\n\u001b[0;32m    317\u001b[0m \u001b[43m        \u001b[49m\u001b[43mtimeout\u001b[49m\u001b[38;5;241;43m=\u001b[39;49m\u001b[43mnew_timeout\u001b[49m\u001b[43m,\u001b[49m\n\u001b[0;32m    318\u001b[0m \u001b[43m        \u001b[49m\u001b[43mmetadata\u001b[49m\u001b[38;5;241;43m=\u001b[39;49m\u001b[43mnew_metadata\u001b[49m\u001b[43m,\u001b[49m\n\u001b[0;32m    319\u001b[0m \u001b[43m        \u001b[49m\u001b[43mcredentials\u001b[49m\u001b[38;5;241;43m=\u001b[39;49m\u001b[43mnew_credentials\u001b[49m\u001b[43m,\u001b[49m\n\u001b[0;32m    320\u001b[0m \u001b[43m        \u001b[49m\u001b[43mwait_for_ready\u001b[49m\u001b[38;5;241;43m=\u001b[39;49m\u001b[43mnew_wait_for_ready\u001b[49m\u001b[43m,\u001b[49m\n\u001b[0;32m    321\u001b[0m \u001b[43m        \u001b[49m\u001b[43mcompression\u001b[49m\u001b[38;5;241;43m=\u001b[39;49m\u001b[43mnew_compression\u001b[49m\u001b[43m,\u001b[49m\n\u001b[0;32m    322\u001b[0m \u001b[43m    \u001b[49m\u001b[43m)\u001b[49m\n\u001b[0;32m    323\u001b[0m     \u001b[38;5;28;01mreturn\u001b[39;00m _UnaryOutcome(response, call)\n\u001b[0;32m    324\u001b[0m \u001b[38;5;28;01mexcept\u001b[39;00m grpc\u001b[38;5;241m.\u001b[39mRpcError \u001b[38;5;28;01mas\u001b[39;00m rpc_error:\n",
      "File \u001b[1;32md:\\ProgramData\\Python\\Python39\\lib\\site-packages\\grpc\\_channel.py:1198\u001b[0m, in \u001b[0;36m_UnaryUnaryMultiCallable.with_call\u001b[1;34m(self, request, timeout, metadata, credentials, wait_for_ready, compression)\u001b[0m\n\u001b[0;32m   1183\u001b[0m \u001b[38;5;28;01mdef\u001b[39;00m \u001b[38;5;21mwith_call\u001b[39m(\n\u001b[0;32m   1184\u001b[0m     \u001b[38;5;28mself\u001b[39m,\n\u001b[0;32m   1185\u001b[0m     request: Any,\n\u001b[1;32m   (...)\u001b[0m\n\u001b[0;32m   1190\u001b[0m     compression: Optional[grpc\u001b[38;5;241m.\u001b[39mCompression] \u001b[38;5;241m=\u001b[39m \u001b[38;5;28;01mNone\u001b[39;00m,\n\u001b[0;32m   1191\u001b[0m ) \u001b[38;5;241m-\u001b[39m\u001b[38;5;241m>\u001b[39m Tuple[Any, grpc\u001b[38;5;241m.\u001b[39mCall]:\n\u001b[0;32m   1192\u001b[0m     (\n\u001b[0;32m   1193\u001b[0m         state,\n\u001b[0;32m   1194\u001b[0m         call,\n\u001b[0;32m   1195\u001b[0m     ) \u001b[38;5;241m=\u001b[39m \u001b[38;5;28mself\u001b[39m\u001b[38;5;241m.\u001b[39m_blocking(\n\u001b[0;32m   1196\u001b[0m         request, timeout, metadata, credentials, wait_for_ready, compression\n\u001b[0;32m   1197\u001b[0m     )\n\u001b[1;32m-> 1198\u001b[0m     \u001b[38;5;28;01mreturn\u001b[39;00m \u001b[43m_end_unary_response_blocking\u001b[49m\u001b[43m(\u001b[49m\u001b[43mstate\u001b[49m\u001b[43m,\u001b[49m\u001b[43m \u001b[49m\u001b[43mcall\u001b[49m\u001b[43m,\u001b[49m\u001b[43m \u001b[49m\u001b[38;5;28;43;01mTrue\u001b[39;49;00m\u001b[43m,\u001b[49m\u001b[43m \u001b[49m\u001b[38;5;28;43;01mNone\u001b[39;49;00m\u001b[43m)\u001b[49m\n",
      "File \u001b[1;32md:\\ProgramData\\Python\\Python39\\lib\\site-packages\\grpc\\_channel.py:1006\u001b[0m, in \u001b[0;36m_end_unary_response_blocking\u001b[1;34m(state, call, with_call, deadline)\u001b[0m\n\u001b[0;32m   1004\u001b[0m         \u001b[38;5;28;01mreturn\u001b[39;00m state\u001b[38;5;241m.\u001b[39mresponse\n\u001b[0;32m   1005\u001b[0m \u001b[38;5;28;01melse\u001b[39;00m:\n\u001b[1;32m-> 1006\u001b[0m     \u001b[38;5;28;01mraise\u001b[39;00m _InactiveRpcError(state)\n",
      "\u001b[1;31m_InactiveRpcError\u001b[0m: <_InactiveRpcError of RPC that terminated with:\n\tstatus = StatusCode.UNAVAILABLE\n\tdetails = \"failed to connect to all addresses; last error: UNAVAILABLE: ipv4:10.10.10.5:6334: Connection refused\"\n\tdebug_error_string = \"UNKNOWN:Error received from peer  {grpc_message:\"failed to connect to all addresses; last error: UNAVAILABLE: ipv4:10.10.10.5:6334: Connection refused\", grpc_status:14, created_time:\"2024-07-04T07:19:54.5318287+00:00\"}\"\n>"
     ]
    }
   ],
   "source": [
    "client.list_full_snapshots()"
   ]
  },
  {
   "cell_type": "code",
   "execution_count": null,
   "metadata": {},
   "outputs": [],
   "source": [
    "# curl -X POST \"http://localhost:6333/collections/your_collection_name/snapshots\"\n",
    "client.create_snapshot(collection_name=collection_name)"
   ]
  },
  {
   "cell_type": "code",
   "execution_count": null,
   "metadata": {},
   "outputs": [],
   "source": [
    "# curl -X POST \"http://target_host:6333/collections/your_collection_name/snapshots/recover\" \\\n",
    "# -H \"Content-Type: application/json\" \\\n",
    "# -d '{\"snapshot_path\": \"/path/to/target_backup_directory/snapshot_file\"}'"
   ]
  },
  {
   "cell_type": "code",
   "execution_count": null,
   "metadata": {},
   "outputs": [],
   "source": [
    "'http://10.10.10.5:6333/snapshots/full-snapshot-2024-06-18-07-55-26.snapshot'"
   ]
  },
  {
   "cell_type": "code",
   "execution_count": 44,
   "metadata": {},
   "outputs": [
    {
     "data": {
      "text/plain": [
       "CollectionsResponse(collections=[CollectionDescription(name='行业公司名简介_25k'), CollectionDescription(name='places_bank'), CollectionDescription(name='专利_w2v'), CollectionDescription(name='my_collection'), CollectionDescription(name='企业_w2v_lda'), CollectionDescription(name='专利_bge_189')])"
      ]
     },
     "execution_count": 44,
     "metadata": {},
     "output_type": "execute_result"
    }
   ],
   "source": [
    "client_1 = QdrantClient(host=\"47.110.156.41\", grpc_port=6334, prefer_grpc=True)\n",
    "client_1.get_collections()"
   ]
  },
  {
   "cell_type": "code",
   "execution_count": 10,
   "metadata": {},
   "outputs": [],
   "source": [
    "# collection_name='places_bank'\n",
    "# client_1.recover_snapshot(\n",
    "#     collection_name,\n",
    "#     \"E:/Downloads/places_bank-4931977184024862-2024-06-18-07-44-25.snapshot\",#file:///\n",
    "# )"
   ]
  },
  {
   "cell_type": "code",
   "execution_count": null,
   "metadata": {},
   "outputs": [],
   "source": [
    "#curl -X POST \"http://localhost:6333/snapshots/{snapshot_id}/restore\""
   ]
  },
  {
   "cell_type": "code",
   "execution_count": 22,
   "metadata": {},
   "outputs": [],
   "source": [
    "\n",
    "# curl -X POST http://localhost:6333/collections/places_bank/snapshots/upload \\\n",
    "#      -H \"api-key: your_api_key\" \\\n",
    "#      -F snapshot=@E:\\Downloads\\places_bank-4931977184024862-2024-06-18-07-44-25.snapshot"
   ]
  },
  {
   "cell_type": "code",
   "execution_count": 29,
   "metadata": {},
   "outputs": [
    {
     "data": {
      "text/plain": [
       "<Response [200]>"
      ]
     },
     "execution_count": 29,
     "metadata": {},
     "output_type": "execute_result"
    }
   ],
   "source": [
    "\n",
    "file_path=\"E:\\Downloads\\places_bank-4931977184024862-2024-06-18-07-44-25.snapshot\"\n",
    "with open(file_path, 'rb') as f:\n",
    "    files = {'snapshot': f}\n",
    "    #headers={\"Content-Type\": \"multipart/form-data\"}\n",
    "    res=requests.post(\"http://47.110.156.41:6333/collections/places_bank/snapshots/upload\",\n",
    "                files=files,\n",
    "                #   headers= headers,\n",
    "                #   data=json.dumps({\"snapshot_path\": \n",
    "                #                    \"E:/Downloads/places_bank-4931977184024862-2024-06-18-07-44-25.snapshot\"})\n",
    "                )\n",
    "res"
   ]
  },
  {
   "cell_type": "code",
   "execution_count": 33,
   "metadata": {},
   "outputs": [
    {
     "data": {
      "text/plain": [
       "('{\"result\":true,\"status\":\"ok\",\"time\":0.469759098}',\n",
       " b'{\"result\":true,\"status\":\"ok\",\"time\":0.469759098}',\n",
       " {'result': True, 'status': 'ok', 'time': 0.469759098})"
      ]
     },
     "execution_count": 33,
     "metadata": {},
     "output_type": "execute_result"
    }
   ],
   "source": [
    "res.text,res.content,res.json()"
   ]
  },
  {
   "cell_type": "code",
   "execution_count": 45,
   "metadata": {},
   "outputs": [],
   "source": [
    "def recover_snapshots_upload(host,collection_name,file_path):\n",
    "    url=f\"http://{host}:6333/collections/{collection_name}/snapshots/upload\"\n",
    "    with open(file_path, 'rb') as f:\n",
    "        files = {'snapshot': f}\n",
    "        #headers={\"Content-Type\": \"multipart/form-data\"}\n",
    "        response=requests.post(url,files=files)\n",
    "\n",
    "    return response.json()"
   ]
  },
  {
   "cell_type": "code",
   "execution_count": null,
   "metadata": {},
   "outputs": [],
   "source": [
    "# client.recover_snapshot(\n",
    "#     \"{collection_name}\",\n",
    "#     \"http://example.com/path/to/snapshot.shapshot\",\n",
    "# )#file:///qdrant/snapshots/test_collection-2022-08-04-10-49-10.snapshot\n",
    "r\"E:\\Downloads\\places_bank-4931977184024862-2024-06-18-07-44-25.snapshot\""
   ]
  },
  {
   "cell_type": "code",
   "execution_count": 37,
   "metadata": {},
   "outputs": [
    {
     "data": {
      "text/plain": [
       "SnapshotDescription(name='企业_w2v_lda-4931977184024862-2024-06-18-10-06-45.snapshot', creation_time='2024-06-18T10:06:46', size=79509504, checksum=None)"
      ]
     },
     "execution_count": 37,
     "metadata": {},
     "output_type": "execute_result"
    }
   ],
   "source": [
    "client.create_snapshot(collection_name='企业_w2v_lda')"
   ]
  },
  {
   "cell_type": "code",
   "execution_count": 40,
   "metadata": {},
   "outputs": [],
   "source": [
    "url='http://10.10.10.5:6333/collections/企业_w2v_lda/snapshots/企业_w2v_lda-4931977184024862-2024-06-18-10-06-45.snapshot'"
   ]
  },
  {
   "cell_type": "code",
   "execution_count": 44,
   "metadata": {},
   "outputs": [
    {
     "data": {
      "text/plain": [
       "{'result': True, 'status': 'ok', 'time': 0.710806932}"
      ]
     },
     "execution_count": 44,
     "metadata": {},
     "output_type": "execute_result"
    }
   ],
   "source": [
    "recover_snapshots_upload('47.110.156.41','企业_w2v_lda',\n",
    "                         \"E:\\Downloads\\企业_w2v_lda-4931977184024862-2024-06-18-10-06-45.snapshot\")"
   ]
  },
  {
   "cell_type": "code",
   "execution_count": 45,
   "metadata": {},
   "outputs": [
    {
     "data": {
      "text/plain": [
       "SnapshotDescription(name='专利_w2v-4931977184024862-2024-06-19-01-49-08.snapshot', creation_time='2024-06-19T01:49:25', size=801428992, checksum=None)"
      ]
     },
     "execution_count": 45,
     "metadata": {},
     "output_type": "execute_result"
    }
   ],
   "source": [
    "client.create_snapshot(collection_name='专利_w2v')"
   ]
  },
  {
   "cell_type": "code",
   "execution_count": 57,
   "metadata": {},
   "outputs": [
    {
     "data": {
      "text/plain": [
       "'http://10.10.10.5:6333/collections/专利_w2v/snapshots/专利_w2v-4931977184024862-2024-06-19-01-49-08.snapshot'"
      ]
     },
     "execution_count": 57,
     "metadata": {},
     "output_type": "execute_result"
    }
   ],
   "source": [
    "collection_name='专利_w2v'\n",
    "snapshots_name=client.list_snapshots(collection_name)[0].name\n",
    "url=f'http://10.10.10.5:6333/collections/{collection_name}/snapshots/{snapshots_name}'\n",
    "url"
   ]
  },
  {
   "cell_type": "code",
   "execution_count": 56,
   "metadata": {},
   "outputs": [
    {
     "ename": "ResponseHandlingException",
     "evalue": "timed out",
     "output_type": "error",
     "traceback": [
      "\u001b[1;31m---------------------------------------------------------------------------\u001b[0m",
      "\u001b[1;31mtimeout\u001b[0m                                   Traceback (most recent call last)",
      "File \u001b[1;32md:\\ProgramData\\Python\\Python39\\lib\\site-packages\\httpcore\\_exceptions.py:10\u001b[0m, in \u001b[0;36mmap_exceptions\u001b[1;34m(map)\u001b[0m\n\u001b[0;32m      9\u001b[0m \u001b[38;5;28;01mtry\u001b[39;00m:\n\u001b[1;32m---> 10\u001b[0m     \u001b[38;5;28;01myield\u001b[39;00m\n\u001b[0;32m     11\u001b[0m \u001b[38;5;28;01mexcept\u001b[39;00m \u001b[38;5;167;01mException\u001b[39;00m \u001b[38;5;28;01mas\u001b[39;00m exc:  \u001b[38;5;66;03m# noqa: PIE786\u001b[39;00m\n",
      "File \u001b[1;32md:\\ProgramData\\Python\\Python39\\lib\\site-packages\\httpcore\\backends\\sync.py:28\u001b[0m, in \u001b[0;36mSyncStream.read\u001b[1;34m(self, max_bytes, timeout)\u001b[0m\n\u001b[0;32m     27\u001b[0m \u001b[38;5;28mself\u001b[39m\u001b[38;5;241m.\u001b[39m_sock\u001b[38;5;241m.\u001b[39msettimeout(timeout)\n\u001b[1;32m---> 28\u001b[0m \u001b[38;5;28;01mreturn\u001b[39;00m \u001b[38;5;28;43mself\u001b[39;49m\u001b[38;5;241;43m.\u001b[39;49m\u001b[43m_sock\u001b[49m\u001b[38;5;241;43m.\u001b[39;49m\u001b[43mrecv\u001b[49m\u001b[43m(\u001b[49m\u001b[43mmax_bytes\u001b[49m\u001b[43m)\u001b[49m\n",
      "\u001b[1;31mtimeout\u001b[0m: timed out",
      "\nDuring handling of the above exception, another exception occurred:\n",
      "\u001b[1;31mReadTimeout\u001b[0m                               Traceback (most recent call last)",
      "File \u001b[1;32md:\\ProgramData\\Python\\Python39\\lib\\site-packages\\httpx\\_transports\\default.py:60\u001b[0m, in \u001b[0;36mmap_httpcore_exceptions\u001b[1;34m()\u001b[0m\n\u001b[0;32m     59\u001b[0m \u001b[38;5;28;01mtry\u001b[39;00m:\n\u001b[1;32m---> 60\u001b[0m     \u001b[38;5;28;01myield\u001b[39;00m\n\u001b[0;32m     61\u001b[0m \u001b[38;5;28;01mexcept\u001b[39;00m \u001b[38;5;167;01mException\u001b[39;00m \u001b[38;5;28;01mas\u001b[39;00m exc:  \u001b[38;5;66;03m# noqa: PIE-786\u001b[39;00m\n",
      "File \u001b[1;32md:\\ProgramData\\Python\\Python39\\lib\\site-packages\\httpx\\_transports\\default.py:218\u001b[0m, in \u001b[0;36mHTTPTransport.handle_request\u001b[1;34m(self, request)\u001b[0m\n\u001b[0;32m    217\u001b[0m \u001b[38;5;28;01mwith\u001b[39;00m map_httpcore_exceptions():\n\u001b[1;32m--> 218\u001b[0m     resp \u001b[38;5;241m=\u001b[39m \u001b[38;5;28;43mself\u001b[39;49m\u001b[38;5;241;43m.\u001b[39;49m\u001b[43m_pool\u001b[49m\u001b[38;5;241;43m.\u001b[39;49m\u001b[43mhandle_request\u001b[49m\u001b[43m(\u001b[49m\u001b[43mreq\u001b[49m\u001b[43m)\u001b[49m\n\u001b[0;32m    220\u001b[0m \u001b[38;5;28;01massert\u001b[39;00m \u001b[38;5;28misinstance\u001b[39m(resp\u001b[38;5;241m.\u001b[39mstream, typing\u001b[38;5;241m.\u001b[39mIterable)\n",
      "File \u001b[1;32md:\\ProgramData\\Python\\Python39\\lib\\site-packages\\httpcore\\_sync\\connection_pool.py:253\u001b[0m, in \u001b[0;36mConnectionPool.handle_request\u001b[1;34m(self, request)\u001b[0m\n\u001b[0;32m    252\u001b[0m     \u001b[38;5;28mself\u001b[39m\u001b[38;5;241m.\u001b[39mresponse_closed(status)\n\u001b[1;32m--> 253\u001b[0m     \u001b[38;5;28;01mraise\u001b[39;00m exc\n\u001b[0;32m    254\u001b[0m \u001b[38;5;28;01melse\u001b[39;00m:\n",
      "File \u001b[1;32md:\\ProgramData\\Python\\Python39\\lib\\site-packages\\httpcore\\_sync\\connection_pool.py:237\u001b[0m, in \u001b[0;36mConnectionPool.handle_request\u001b[1;34m(self, request)\u001b[0m\n\u001b[0;32m    236\u001b[0m \u001b[38;5;28;01mtry\u001b[39;00m:\n\u001b[1;32m--> 237\u001b[0m     response \u001b[38;5;241m=\u001b[39m \u001b[43mconnection\u001b[49m\u001b[38;5;241;43m.\u001b[39;49m\u001b[43mhandle_request\u001b[49m\u001b[43m(\u001b[49m\u001b[43mrequest\u001b[49m\u001b[43m)\u001b[49m\n\u001b[0;32m    238\u001b[0m \u001b[38;5;28;01mexcept\u001b[39;00m ConnectionNotAvailable:\n\u001b[0;32m    239\u001b[0m     \u001b[38;5;66;03m# The ConnectionNotAvailable exception is a special case, that\u001b[39;00m\n\u001b[0;32m    240\u001b[0m     \u001b[38;5;66;03m# indicates we need to retry the request on a new connection.\u001b[39;00m\n\u001b[1;32m   (...)\u001b[0m\n\u001b[0;32m    244\u001b[0m     \u001b[38;5;66;03m# might end up as an HTTP/2 connection, but which actually ends\u001b[39;00m\n\u001b[0;32m    245\u001b[0m     \u001b[38;5;66;03m# up as HTTP/1.1.\u001b[39;00m\n",
      "File \u001b[1;32md:\\ProgramData\\Python\\Python39\\lib\\site-packages\\httpcore\\_sync\\connection.py:90\u001b[0m, in \u001b[0;36mHTTPConnection.handle_request\u001b[1;34m(self, request)\u001b[0m\n\u001b[0;32m     88\u001b[0m         \u001b[38;5;28;01mraise\u001b[39;00m ConnectionNotAvailable()\n\u001b[1;32m---> 90\u001b[0m \u001b[38;5;28;01mreturn\u001b[39;00m \u001b[38;5;28;43mself\u001b[39;49m\u001b[38;5;241;43m.\u001b[39;49m\u001b[43m_connection\u001b[49m\u001b[38;5;241;43m.\u001b[39;49m\u001b[43mhandle_request\u001b[49m\u001b[43m(\u001b[49m\u001b[43mrequest\u001b[49m\u001b[43m)\u001b[49m\n",
      "File \u001b[1;32md:\\ProgramData\\Python\\Python39\\lib\\site-packages\\httpcore\\_sync\\http11.py:112\u001b[0m, in \u001b[0;36mHTTP11Connection.handle_request\u001b[1;34m(self, request)\u001b[0m\n\u001b[0;32m    111\u001b[0m     \u001b[38;5;28mself\u001b[39m\u001b[38;5;241m.\u001b[39m_response_closed()\n\u001b[1;32m--> 112\u001b[0m \u001b[38;5;28;01mraise\u001b[39;00m exc\n",
      "File \u001b[1;32md:\\ProgramData\\Python\\Python39\\lib\\site-packages\\httpcore\\_sync\\http11.py:91\u001b[0m, in \u001b[0;36mHTTP11Connection.handle_request\u001b[1;34m(self, request)\u001b[0m\n\u001b[0;32m     83\u001b[0m \u001b[38;5;28;01mwith\u001b[39;00m Trace(\n\u001b[0;32m     84\u001b[0m     \u001b[38;5;124m\"\u001b[39m\u001b[38;5;124mhttp11.receive_response_headers\u001b[39m\u001b[38;5;124m\"\u001b[39m, request, kwargs\n\u001b[0;32m     85\u001b[0m ) \u001b[38;5;28;01mas\u001b[39;00m trace:\n\u001b[0;32m     86\u001b[0m     (\n\u001b[0;32m     87\u001b[0m         http_version,\n\u001b[0;32m     88\u001b[0m         status,\n\u001b[0;32m     89\u001b[0m         reason_phrase,\n\u001b[0;32m     90\u001b[0m         headers,\n\u001b[1;32m---> 91\u001b[0m     ) \u001b[38;5;241m=\u001b[39m \u001b[38;5;28mself\u001b[39m\u001b[38;5;241m.\u001b[39m_receive_response_headers(\u001b[38;5;241m*\u001b[39m\u001b[38;5;241m*\u001b[39mkwargs)\n\u001b[0;32m     92\u001b[0m     trace\u001b[38;5;241m.\u001b[39mreturn_value \u001b[38;5;241m=\u001b[39m (\n\u001b[0;32m     93\u001b[0m         http_version,\n\u001b[0;32m     94\u001b[0m         status,\n\u001b[0;32m     95\u001b[0m         reason_phrase,\n\u001b[0;32m     96\u001b[0m         headers,\n\u001b[0;32m     97\u001b[0m     )\n",
      "File \u001b[1;32md:\\ProgramData\\Python\\Python39\\lib\\site-packages\\httpcore\\_sync\\http11.py:155\u001b[0m, in \u001b[0;36mHTTP11Connection._receive_response_headers\u001b[1;34m(self, request)\u001b[0m\n\u001b[0;32m    154\u001b[0m \u001b[38;5;28;01mwhile\u001b[39;00m \u001b[38;5;28;01mTrue\u001b[39;00m:\n\u001b[1;32m--> 155\u001b[0m     event \u001b[38;5;241m=\u001b[39m \u001b[38;5;28;43mself\u001b[39;49m\u001b[38;5;241;43m.\u001b[39;49m\u001b[43m_receive_event\u001b[49m\u001b[43m(\u001b[49m\u001b[43mtimeout\u001b[49m\u001b[38;5;241;43m=\u001b[39;49m\u001b[43mtimeout\u001b[49m\u001b[43m)\u001b[49m\n\u001b[0;32m    156\u001b[0m     \u001b[38;5;28;01mif\u001b[39;00m \u001b[38;5;28misinstance\u001b[39m(event, h11\u001b[38;5;241m.\u001b[39mResponse):\n",
      "File \u001b[1;32md:\\ProgramData\\Python\\Python39\\lib\\site-packages\\httpcore\\_sync\\http11.py:191\u001b[0m, in \u001b[0;36mHTTP11Connection._receive_event\u001b[1;34m(self, timeout)\u001b[0m\n\u001b[0;32m    190\u001b[0m \u001b[38;5;28;01mif\u001b[39;00m event \u001b[38;5;129;01mis\u001b[39;00m h11\u001b[38;5;241m.\u001b[39mNEED_DATA:\n\u001b[1;32m--> 191\u001b[0m     data \u001b[38;5;241m=\u001b[39m \u001b[38;5;28;43mself\u001b[39;49m\u001b[38;5;241;43m.\u001b[39;49m\u001b[43m_network_stream\u001b[49m\u001b[38;5;241;43m.\u001b[39;49m\u001b[43mread\u001b[49m\u001b[43m(\u001b[49m\n\u001b[0;32m    192\u001b[0m \u001b[43m        \u001b[49m\u001b[38;5;28;43mself\u001b[39;49m\u001b[38;5;241;43m.\u001b[39;49m\u001b[43mREAD_NUM_BYTES\u001b[49m\u001b[43m,\u001b[49m\u001b[43m \u001b[49m\u001b[43mtimeout\u001b[49m\u001b[38;5;241;43m=\u001b[39;49m\u001b[43mtimeout\u001b[49m\n\u001b[0;32m    193\u001b[0m \u001b[43m    \u001b[49m\u001b[43m)\u001b[49m\n\u001b[0;32m    195\u001b[0m     \u001b[38;5;66;03m# If we feed this case through h11 we'll raise an exception like:\u001b[39;00m\n\u001b[0;32m    196\u001b[0m     \u001b[38;5;66;03m#\u001b[39;00m\n\u001b[0;32m    197\u001b[0m     \u001b[38;5;66;03m#     httpcore.RemoteProtocolError: can't handle event type\u001b[39;00m\n\u001b[1;32m   (...)\u001b[0m\n\u001b[0;32m    201\u001b[0m     \u001b[38;5;66;03m# perspective. Instead we handle this case distinctly and treat\u001b[39;00m\n\u001b[0;32m    202\u001b[0m     \u001b[38;5;66;03m# it as a ConnectError.\u001b[39;00m\n",
      "File \u001b[1;32md:\\ProgramData\\Python\\Python39\\lib\\site-packages\\httpcore\\backends\\sync.py:28\u001b[0m, in \u001b[0;36mSyncStream.read\u001b[1;34m(self, max_bytes, timeout)\u001b[0m\n\u001b[0;32m     27\u001b[0m \u001b[38;5;28mself\u001b[39m\u001b[38;5;241m.\u001b[39m_sock\u001b[38;5;241m.\u001b[39msettimeout(timeout)\n\u001b[1;32m---> 28\u001b[0m \u001b[38;5;28;01mreturn\u001b[39;00m \u001b[38;5;28mself\u001b[39m\u001b[38;5;241m.\u001b[39m_sock\u001b[38;5;241m.\u001b[39mrecv(max_bytes)\n",
      "File \u001b[1;32md:\\ProgramData\\Python\\Python39\\lib\\contextlib.py:137\u001b[0m, in \u001b[0;36m_GeneratorContextManager.__exit__\u001b[1;34m(self, typ, value, traceback)\u001b[0m\n\u001b[0;32m    136\u001b[0m \u001b[38;5;28;01mtry\u001b[39;00m:\n\u001b[1;32m--> 137\u001b[0m     \u001b[38;5;28;43mself\u001b[39;49m\u001b[38;5;241;43m.\u001b[39;49m\u001b[43mgen\u001b[49m\u001b[38;5;241;43m.\u001b[39;49m\u001b[43mthrow\u001b[49m\u001b[43m(\u001b[49m\u001b[43mtyp\u001b[49m\u001b[43m,\u001b[49m\u001b[43m \u001b[49m\u001b[43mvalue\u001b[49m\u001b[43m,\u001b[49m\u001b[43m \u001b[49m\u001b[43mtraceback\u001b[49m\u001b[43m)\u001b[49m\n\u001b[0;32m    138\u001b[0m \u001b[38;5;28;01mexcept\u001b[39;00m \u001b[38;5;167;01mStopIteration\u001b[39;00m \u001b[38;5;28;01mas\u001b[39;00m exc:\n\u001b[0;32m    139\u001b[0m     \u001b[38;5;66;03m# Suppress StopIteration *unless* it's the same exception that\u001b[39;00m\n\u001b[0;32m    140\u001b[0m     \u001b[38;5;66;03m# was passed to throw().  This prevents a StopIteration\u001b[39;00m\n\u001b[0;32m    141\u001b[0m     \u001b[38;5;66;03m# raised inside the \"with\" statement from being suppressed.\u001b[39;00m\n",
      "File \u001b[1;32md:\\ProgramData\\Python\\Python39\\lib\\site-packages\\httpcore\\_exceptions.py:14\u001b[0m, in \u001b[0;36mmap_exceptions\u001b[1;34m(map)\u001b[0m\n\u001b[0;32m     13\u001b[0m     \u001b[38;5;28;01mif\u001b[39;00m \u001b[38;5;28misinstance\u001b[39m(exc, from_exc):\n\u001b[1;32m---> 14\u001b[0m         \u001b[38;5;28;01mraise\u001b[39;00m to_exc(exc)\n\u001b[0;32m     15\u001b[0m \u001b[38;5;28;01mraise\u001b[39;00m\n",
      "\u001b[1;31mReadTimeout\u001b[0m: timed out",
      "\nThe above exception was the direct cause of the following exception:\n",
      "\u001b[1;31mReadTimeout\u001b[0m                               Traceback (most recent call last)",
      "File \u001b[1;32md:\\ProgramData\\Python\\Python39\\lib\\site-packages\\qdrant_client\\http\\api_client.py:103\u001b[0m, in \u001b[0;36mApiClient.send_inner\u001b[1;34m(self, request)\u001b[0m\n\u001b[0;32m    102\u001b[0m \u001b[38;5;28;01mtry\u001b[39;00m:\n\u001b[1;32m--> 103\u001b[0m     response \u001b[38;5;241m=\u001b[39m \u001b[38;5;28;43mself\u001b[39;49m\u001b[38;5;241;43m.\u001b[39;49m\u001b[43m_client\u001b[49m\u001b[38;5;241;43m.\u001b[39;49m\u001b[43msend\u001b[49m\u001b[43m(\u001b[49m\u001b[43mrequest\u001b[49m\u001b[43m)\u001b[49m\n\u001b[0;32m    104\u001b[0m \u001b[38;5;28;01mexcept\u001b[39;00m \u001b[38;5;167;01mException\u001b[39;00m \u001b[38;5;28;01mas\u001b[39;00m e:\n",
      "File \u001b[1;32md:\\ProgramData\\Python\\Python39\\lib\\site-packages\\httpx\\_client.py:908\u001b[0m, in \u001b[0;36mClient.send\u001b[1;34m(self, request, stream, auth, follow_redirects)\u001b[0m\n\u001b[0;32m    906\u001b[0m auth \u001b[38;5;241m=\u001b[39m \u001b[38;5;28mself\u001b[39m\u001b[38;5;241m.\u001b[39m_build_request_auth(request, auth)\n\u001b[1;32m--> 908\u001b[0m response \u001b[38;5;241m=\u001b[39m \u001b[38;5;28;43mself\u001b[39;49m\u001b[38;5;241;43m.\u001b[39;49m\u001b[43m_send_handling_auth\u001b[49m\u001b[43m(\u001b[49m\n\u001b[0;32m    909\u001b[0m \u001b[43m    \u001b[49m\u001b[43mrequest\u001b[49m\u001b[43m,\u001b[49m\n\u001b[0;32m    910\u001b[0m \u001b[43m    \u001b[49m\u001b[43mauth\u001b[49m\u001b[38;5;241;43m=\u001b[39;49m\u001b[43mauth\u001b[49m\u001b[43m,\u001b[49m\n\u001b[0;32m    911\u001b[0m \u001b[43m    \u001b[49m\u001b[43mfollow_redirects\u001b[49m\u001b[38;5;241;43m=\u001b[39;49m\u001b[43mfollow_redirects\u001b[49m\u001b[43m,\u001b[49m\n\u001b[0;32m    912\u001b[0m \u001b[43m    \u001b[49m\u001b[43mhistory\u001b[49m\u001b[38;5;241;43m=\u001b[39;49m\u001b[43m[\u001b[49m\u001b[43m]\u001b[49m\u001b[43m,\u001b[49m\n\u001b[0;32m    913\u001b[0m \u001b[43m\u001b[49m\u001b[43m)\u001b[49m\n\u001b[0;32m    914\u001b[0m \u001b[38;5;28;01mtry\u001b[39;00m:\n",
      "File \u001b[1;32md:\\ProgramData\\Python\\Python39\\lib\\site-packages\\httpx\\_client.py:936\u001b[0m, in \u001b[0;36mClient._send_handling_auth\u001b[1;34m(self, request, auth, follow_redirects, history)\u001b[0m\n\u001b[0;32m    935\u001b[0m \u001b[38;5;28;01mwhile\u001b[39;00m \u001b[38;5;28;01mTrue\u001b[39;00m:\n\u001b[1;32m--> 936\u001b[0m     response \u001b[38;5;241m=\u001b[39m \u001b[38;5;28;43mself\u001b[39;49m\u001b[38;5;241;43m.\u001b[39;49m\u001b[43m_send_handling_redirects\u001b[49m\u001b[43m(\u001b[49m\n\u001b[0;32m    937\u001b[0m \u001b[43m        \u001b[49m\u001b[43mrequest\u001b[49m\u001b[43m,\u001b[49m\n\u001b[0;32m    938\u001b[0m \u001b[43m        \u001b[49m\u001b[43mfollow_redirects\u001b[49m\u001b[38;5;241;43m=\u001b[39;49m\u001b[43mfollow_redirects\u001b[49m\u001b[43m,\u001b[49m\n\u001b[0;32m    939\u001b[0m \u001b[43m        \u001b[49m\u001b[43mhistory\u001b[49m\u001b[38;5;241;43m=\u001b[39;49m\u001b[43mhistory\u001b[49m\u001b[43m,\u001b[49m\n\u001b[0;32m    940\u001b[0m \u001b[43m    \u001b[49m\u001b[43m)\u001b[49m\n\u001b[0;32m    941\u001b[0m     \u001b[38;5;28;01mtry\u001b[39;00m:\n",
      "File \u001b[1;32md:\\ProgramData\\Python\\Python39\\lib\\site-packages\\httpx\\_client.py:973\u001b[0m, in \u001b[0;36mClient._send_handling_redirects\u001b[1;34m(self, request, follow_redirects, history)\u001b[0m\n\u001b[0;32m    971\u001b[0m     hook(request)\n\u001b[1;32m--> 973\u001b[0m response \u001b[38;5;241m=\u001b[39m \u001b[38;5;28;43mself\u001b[39;49m\u001b[38;5;241;43m.\u001b[39;49m\u001b[43m_send_single_request\u001b[49m\u001b[43m(\u001b[49m\u001b[43mrequest\u001b[49m\u001b[43m)\u001b[49m\n\u001b[0;32m    974\u001b[0m \u001b[38;5;28;01mtry\u001b[39;00m:\n",
      "File \u001b[1;32md:\\ProgramData\\Python\\Python39\\lib\\site-packages\\httpx\\_client.py:1009\u001b[0m, in \u001b[0;36mClient._send_single_request\u001b[1;34m(self, request)\u001b[0m\n\u001b[0;32m   1008\u001b[0m \u001b[38;5;28;01mwith\u001b[39;00m request_context(request\u001b[38;5;241m=\u001b[39mrequest):\n\u001b[1;32m-> 1009\u001b[0m     response \u001b[38;5;241m=\u001b[39m \u001b[43mtransport\u001b[49m\u001b[38;5;241;43m.\u001b[39;49m\u001b[43mhandle_request\u001b[49m\u001b[43m(\u001b[49m\u001b[43mrequest\u001b[49m\u001b[43m)\u001b[49m\n\u001b[0;32m   1011\u001b[0m \u001b[38;5;28;01massert\u001b[39;00m \u001b[38;5;28misinstance\u001b[39m(response\u001b[38;5;241m.\u001b[39mstream, SyncByteStream)\n",
      "File \u001b[1;32md:\\ProgramData\\Python\\Python39\\lib\\site-packages\\httpx\\_transports\\default.py:218\u001b[0m, in \u001b[0;36mHTTPTransport.handle_request\u001b[1;34m(self, request)\u001b[0m\n\u001b[0;32m    217\u001b[0m \u001b[38;5;28;01mwith\u001b[39;00m map_httpcore_exceptions():\n\u001b[1;32m--> 218\u001b[0m     resp \u001b[38;5;241m=\u001b[39m \u001b[38;5;28mself\u001b[39m\u001b[38;5;241m.\u001b[39m_pool\u001b[38;5;241m.\u001b[39mhandle_request(req)\n\u001b[0;32m    220\u001b[0m \u001b[38;5;28;01massert\u001b[39;00m \u001b[38;5;28misinstance\u001b[39m(resp\u001b[38;5;241m.\u001b[39mstream, typing\u001b[38;5;241m.\u001b[39mIterable)\n",
      "File \u001b[1;32md:\\ProgramData\\Python\\Python39\\lib\\contextlib.py:137\u001b[0m, in \u001b[0;36m_GeneratorContextManager.__exit__\u001b[1;34m(self, typ, value, traceback)\u001b[0m\n\u001b[0;32m    136\u001b[0m \u001b[38;5;28;01mtry\u001b[39;00m:\n\u001b[1;32m--> 137\u001b[0m     \u001b[38;5;28;43mself\u001b[39;49m\u001b[38;5;241;43m.\u001b[39;49m\u001b[43mgen\u001b[49m\u001b[38;5;241;43m.\u001b[39;49m\u001b[43mthrow\u001b[49m\u001b[43m(\u001b[49m\u001b[43mtyp\u001b[49m\u001b[43m,\u001b[49m\u001b[43m \u001b[49m\u001b[43mvalue\u001b[49m\u001b[43m,\u001b[49m\u001b[43m \u001b[49m\u001b[43mtraceback\u001b[49m\u001b[43m)\u001b[49m\n\u001b[0;32m    138\u001b[0m \u001b[38;5;28;01mexcept\u001b[39;00m \u001b[38;5;167;01mStopIteration\u001b[39;00m \u001b[38;5;28;01mas\u001b[39;00m exc:\n\u001b[0;32m    139\u001b[0m     \u001b[38;5;66;03m# Suppress StopIteration *unless* it's the same exception that\u001b[39;00m\n\u001b[0;32m    140\u001b[0m     \u001b[38;5;66;03m# was passed to throw().  This prevents a StopIteration\u001b[39;00m\n\u001b[0;32m    141\u001b[0m     \u001b[38;5;66;03m# raised inside the \"with\" statement from being suppressed.\u001b[39;00m\n",
      "File \u001b[1;32md:\\ProgramData\\Python\\Python39\\lib\\site-packages\\httpx\\_transports\\default.py:77\u001b[0m, in \u001b[0;36mmap_httpcore_exceptions\u001b[1;34m()\u001b[0m\n\u001b[0;32m     76\u001b[0m message \u001b[38;5;241m=\u001b[39m \u001b[38;5;28mstr\u001b[39m(exc)\n\u001b[1;32m---> 77\u001b[0m \u001b[38;5;28;01mraise\u001b[39;00m mapped_exc(message) \u001b[38;5;28;01mfrom\u001b[39;00m \u001b[38;5;21;01mexc\u001b[39;00m\n",
      "\u001b[1;31mReadTimeout\u001b[0m: timed out",
      "\nDuring handling of the above exception, another exception occurred:\n",
      "\u001b[1;31mResponseHandlingException\u001b[0m                 Traceback (most recent call last)",
      "Cell \u001b[1;32mIn[56], line 1\u001b[0m\n\u001b[1;32m----> 1\u001b[0m \u001b[43mclient_1\u001b[49m\u001b[38;5;241;43m.\u001b[39;49m\u001b[43mrecover_snapshot\u001b[49m\u001b[43m(\u001b[49m\n\u001b[0;32m      2\u001b[0m \u001b[43m    \u001b[49m\u001b[43mcollection_name\u001b[49m\u001b[43m,\u001b[49m\n\u001b[0;32m      3\u001b[0m \u001b[43m    \u001b[49m\u001b[43mlocation\u001b[49m\u001b[38;5;241;43m=\u001b[39;49m\u001b[43murl\u001b[49m\u001b[43m,\u001b[49m\n\u001b[0;32m      4\u001b[0m \u001b[43m    \u001b[49m\u001b[43mwait\u001b[49m\u001b[38;5;241;43m=\u001b[39;49m\u001b[38;5;28;43;01mTrue\u001b[39;49;00m\n\u001b[0;32m      5\u001b[0m \u001b[43m)\u001b[49m\n",
      "File \u001b[1;32md:\\ProgramData\\Python\\Python39\\lib\\site-packages\\qdrant_client\\qdrant_client.py:2217\u001b[0m, in \u001b[0;36mQdrantClient.recover_snapshot\u001b[1;34m(self, collection_name, location, priority, wait, **kwargs)\u001b[0m\n\u001b[0;32m   2192\u001b[0m \u001b[38;5;250m\u001b[39m\u001b[38;5;124;03m\"\"\"Recover collection from snapshot.\u001b[39;00m\n\u001b[0;32m   2193\u001b[0m \n\u001b[0;32m   2194\u001b[0m \u001b[38;5;124;03mArgs:\u001b[39;00m\n\u001b[1;32m   (...)\u001b[0m\n\u001b[0;32m   2213\u001b[0m \u001b[38;5;124;03m    True if snapshot was recovered\u001b[39;00m\n\u001b[0;32m   2214\u001b[0m \u001b[38;5;124;03m\"\"\"\u001b[39;00m\n\u001b[0;32m   2215\u001b[0m \u001b[38;5;28;01massert\u001b[39;00m \u001b[38;5;28mlen\u001b[39m(kwargs) \u001b[38;5;241m==\u001b[39m \u001b[38;5;241m0\u001b[39m, \u001b[38;5;124mf\u001b[39m\u001b[38;5;124m\"\u001b[39m\u001b[38;5;124mUnknown arguments: \u001b[39m\u001b[38;5;132;01m{\u001b[39;00m\u001b[38;5;28mlist\u001b[39m(kwargs\u001b[38;5;241m.\u001b[39mkeys())\u001b[38;5;132;01m}\u001b[39;00m\u001b[38;5;124m\"\u001b[39m\n\u001b[1;32m-> 2217\u001b[0m \u001b[38;5;28;01mreturn\u001b[39;00m \u001b[38;5;28mself\u001b[39m\u001b[38;5;241m.\u001b[39m_client\u001b[38;5;241m.\u001b[39mrecover_snapshot(\n\u001b[0;32m   2218\u001b[0m     collection_name\u001b[38;5;241m=\u001b[39mcollection_name,\n\u001b[0;32m   2219\u001b[0m     location\u001b[38;5;241m=\u001b[39mlocation,\n\u001b[0;32m   2220\u001b[0m     priority\u001b[38;5;241m=\u001b[39mpriority,\n\u001b[0;32m   2221\u001b[0m     wait\u001b[38;5;241m=\u001b[39mwait,\n\u001b[0;32m   2222\u001b[0m     \u001b[38;5;241m*\u001b[39m\u001b[38;5;241m*\u001b[39mkwargs,\n\u001b[0;32m   2223\u001b[0m )\n",
      "File \u001b[1;32md:\\ProgramData\\Python\\Python39\\lib\\site-packages\\qdrant_client\\qdrant_remote.py:2631\u001b[0m, in \u001b[0;36mQdrantRemote.recover_snapshot\u001b[1;34m(self, collection_name, location, priority, wait, **kwargs)\u001b[0m\n\u001b[0;32m   2623\u001b[0m \u001b[38;5;28;01mdef\u001b[39;00m \u001b[38;5;21mrecover_snapshot\u001b[39m(\n\u001b[0;32m   2624\u001b[0m     \u001b[38;5;28mself\u001b[39m,\n\u001b[0;32m   2625\u001b[0m     collection_name: \u001b[38;5;28mstr\u001b[39m,\n\u001b[1;32m   (...)\u001b[0m\n\u001b[0;32m   2629\u001b[0m     \u001b[38;5;241m*\u001b[39m\u001b[38;5;241m*\u001b[39mkwargs: Any,\n\u001b[0;32m   2630\u001b[0m ) \u001b[38;5;241m-\u001b[39m\u001b[38;5;241m>\u001b[39m Optional[\u001b[38;5;28mbool\u001b[39m]:\n\u001b[1;32m-> 2631\u001b[0m     \u001b[38;5;28;01mreturn\u001b[39;00m \u001b[38;5;28;43mself\u001b[39;49m\u001b[38;5;241;43m.\u001b[39;49m\u001b[43mopenapi_client\u001b[49m\u001b[38;5;241;43m.\u001b[39;49m\u001b[43msnapshots_api\u001b[49m\u001b[38;5;241;43m.\u001b[39;49m\u001b[43mrecover_from_snapshot\u001b[49m\u001b[43m(\u001b[49m\n\u001b[0;32m   2632\u001b[0m \u001b[43m        \u001b[49m\u001b[43mcollection_name\u001b[49m\u001b[38;5;241;43m=\u001b[39;49m\u001b[43mcollection_name\u001b[49m\u001b[43m,\u001b[49m\n\u001b[0;32m   2633\u001b[0m \u001b[43m        \u001b[49m\u001b[43mwait\u001b[49m\u001b[38;5;241;43m=\u001b[39;49m\u001b[43mwait\u001b[49m\u001b[43m,\u001b[49m\n\u001b[0;32m   2634\u001b[0m \u001b[43m        \u001b[49m\u001b[43msnapshot_recover\u001b[49m\u001b[38;5;241;43m=\u001b[39;49m\u001b[43mmodels\u001b[49m\u001b[38;5;241;43m.\u001b[39;49m\u001b[43mSnapshotRecover\u001b[49m\u001b[43m(\u001b[49m\u001b[43mlocation\u001b[49m\u001b[38;5;241;43m=\u001b[39;49m\u001b[43mlocation\u001b[49m\u001b[43m,\u001b[49m\u001b[43m \u001b[49m\u001b[43mpriority\u001b[49m\u001b[38;5;241;43m=\u001b[39;49m\u001b[43mpriority\u001b[49m\u001b[43m)\u001b[49m\u001b[43m,\u001b[49m\n\u001b[0;32m   2635\u001b[0m \u001b[43m    \u001b[49m\u001b[43m)\u001b[49m\u001b[38;5;241m.\u001b[39mresult\n",
      "File \u001b[1;32md:\\ProgramData\\Python\\Python39\\lib\\site-packages\\qdrant_client\\http\\api\\snapshots_api.py:876\u001b[0m, in \u001b[0;36mSyncSnapshotsApi.recover_from_snapshot\u001b[1;34m(self, collection_name, wait, snapshot_recover)\u001b[0m\n\u001b[0;32m    867\u001b[0m \u001b[38;5;28;01mdef\u001b[39;00m \u001b[38;5;21mrecover_from_snapshot\u001b[39m(\n\u001b[0;32m    868\u001b[0m     \u001b[38;5;28mself\u001b[39m,\n\u001b[0;32m    869\u001b[0m     collection_name: \u001b[38;5;28mstr\u001b[39m,\n\u001b[0;32m    870\u001b[0m     wait: \u001b[38;5;28mbool\u001b[39m \u001b[38;5;241m=\u001b[39m \u001b[38;5;28;01mNone\u001b[39;00m,\n\u001b[0;32m    871\u001b[0m     snapshot_recover: m\u001b[38;5;241m.\u001b[39mSnapshotRecover \u001b[38;5;241m=\u001b[39m \u001b[38;5;28;01mNone\u001b[39;00m,\n\u001b[0;32m    872\u001b[0m ) \u001b[38;5;241m-\u001b[39m\u001b[38;5;241m>\u001b[39m m\u001b[38;5;241m.\u001b[39mInlineResponse200:\n\u001b[0;32m    873\u001b[0m \u001b[38;5;250m    \u001b[39m\u001b[38;5;124;03m\"\"\"\u001b[39;00m\n\u001b[0;32m    874\u001b[0m \u001b[38;5;124;03m    Recover local collection data from a snapshot. This will overwrite any data, stored on this node, for the collection. If collection does not exist - it will be created.\u001b[39;00m\n\u001b[0;32m    875\u001b[0m \u001b[38;5;124;03m    \"\"\"\u001b[39;00m\n\u001b[1;32m--> 876\u001b[0m     \u001b[38;5;28;01mreturn\u001b[39;00m \u001b[38;5;28;43mself\u001b[39;49m\u001b[38;5;241;43m.\u001b[39;49m\u001b[43m_build_for_recover_from_snapshot\u001b[49m\u001b[43m(\u001b[49m\n\u001b[0;32m    877\u001b[0m \u001b[43m        \u001b[49m\u001b[43mcollection_name\u001b[49m\u001b[38;5;241;43m=\u001b[39;49m\u001b[43mcollection_name\u001b[49m\u001b[43m,\u001b[49m\n\u001b[0;32m    878\u001b[0m \u001b[43m        \u001b[49m\u001b[43mwait\u001b[49m\u001b[38;5;241;43m=\u001b[39;49m\u001b[43mwait\u001b[49m\u001b[43m,\u001b[49m\n\u001b[0;32m    879\u001b[0m \u001b[43m        \u001b[49m\u001b[43msnapshot_recover\u001b[49m\u001b[38;5;241;43m=\u001b[39;49m\u001b[43msnapshot_recover\u001b[49m\u001b[43m,\u001b[49m\n\u001b[0;32m    880\u001b[0m \u001b[43m    \u001b[49m\u001b[43m)\u001b[49m\n",
      "File \u001b[1;32md:\\ProgramData\\Python\\Python39\\lib\\site-packages\\qdrant_client\\http\\api\\snapshots_api.py:356\u001b[0m, in \u001b[0;36m_SnapshotsApi._build_for_recover_from_snapshot\u001b[1;34m(self, collection_name, wait, snapshot_recover)\u001b[0m\n\u001b[0;32m    354\u001b[0m \u001b[38;5;28;01mif\u001b[39;00m \u001b[38;5;124m\"\u001b[39m\u001b[38;5;124mContent-Type\u001b[39m\u001b[38;5;124m\"\u001b[39m \u001b[38;5;129;01mnot\u001b[39;00m \u001b[38;5;129;01min\u001b[39;00m headers:\n\u001b[0;32m    355\u001b[0m     headers[\u001b[38;5;124m\"\u001b[39m\u001b[38;5;124mContent-Type\u001b[39m\u001b[38;5;124m\"\u001b[39m] \u001b[38;5;241m=\u001b[39m \u001b[38;5;124m\"\u001b[39m\u001b[38;5;124mapplication/json\u001b[39m\u001b[38;5;124m\"\u001b[39m\n\u001b[1;32m--> 356\u001b[0m \u001b[38;5;28;01mreturn\u001b[39;00m \u001b[38;5;28;43mself\u001b[39;49m\u001b[38;5;241;43m.\u001b[39;49m\u001b[43mapi_client\u001b[49m\u001b[38;5;241;43m.\u001b[39;49m\u001b[43mrequest\u001b[49m\u001b[43m(\u001b[49m\n\u001b[0;32m    357\u001b[0m \u001b[43m    \u001b[49m\u001b[43mtype_\u001b[49m\u001b[38;5;241;43m=\u001b[39;49m\u001b[43mm\u001b[49m\u001b[38;5;241;43m.\u001b[39;49m\u001b[43mInlineResponse200\u001b[49m\u001b[43m,\u001b[49m\n\u001b[0;32m    358\u001b[0m \u001b[43m    \u001b[49m\u001b[43mmethod\u001b[49m\u001b[38;5;241;43m=\u001b[39;49m\u001b[38;5;124;43m\"\u001b[39;49m\u001b[38;5;124;43mPUT\u001b[39;49m\u001b[38;5;124;43m\"\u001b[39;49m\u001b[43m,\u001b[49m\n\u001b[0;32m    359\u001b[0m \u001b[43m    \u001b[49m\u001b[43murl\u001b[49m\u001b[38;5;241;43m=\u001b[39;49m\u001b[38;5;124;43m\"\u001b[39;49m\u001b[38;5;124;43m/collections/\u001b[39;49m\u001b[38;5;132;43;01m{collection_name}\u001b[39;49;00m\u001b[38;5;124;43m/snapshots/recover\u001b[39;49m\u001b[38;5;124;43m\"\u001b[39;49m\u001b[43m,\u001b[49m\n\u001b[0;32m    360\u001b[0m \u001b[43m    \u001b[49m\u001b[43mheaders\u001b[49m\u001b[38;5;241;43m=\u001b[39;49m\u001b[43mheaders\u001b[49m\u001b[43m \u001b[49m\u001b[38;5;28;43;01mif\u001b[39;49;00m\u001b[43m \u001b[49m\u001b[43mheaders\u001b[49m\u001b[43m \u001b[49m\u001b[38;5;28;43;01melse\u001b[39;49;00m\u001b[43m \u001b[49m\u001b[38;5;28;43;01mNone\u001b[39;49;00m\u001b[43m,\u001b[49m\n\u001b[0;32m    361\u001b[0m \u001b[43m    \u001b[49m\u001b[43mpath_params\u001b[49m\u001b[38;5;241;43m=\u001b[39;49m\u001b[43mpath_params\u001b[49m\u001b[43m,\u001b[49m\n\u001b[0;32m    362\u001b[0m \u001b[43m    \u001b[49m\u001b[43mparams\u001b[49m\u001b[38;5;241;43m=\u001b[39;49m\u001b[43mquery_params\u001b[49m\u001b[43m,\u001b[49m\n\u001b[0;32m    363\u001b[0m \u001b[43m    \u001b[49m\u001b[43mcontent\u001b[49m\u001b[38;5;241;43m=\u001b[39;49m\u001b[43mbody\u001b[49m\u001b[43m,\u001b[49m\n\u001b[0;32m    364\u001b[0m \u001b[43m\u001b[49m\u001b[43m)\u001b[49m\n",
      "File \u001b[1;32md:\\ProgramData\\Python\\Python39\\lib\\site-packages\\qdrant_client\\http\\api_client.py:76\u001b[0m, in \u001b[0;36mApiClient.request\u001b[1;34m(self, type_, method, url, path_params, **kwargs)\u001b[0m\n\u001b[0;32m     74\u001b[0m     kwargs[\u001b[38;5;124m\"\u001b[39m\u001b[38;5;124mtimeout\u001b[39m\u001b[38;5;124m\"\u001b[39m] \u001b[38;5;241m=\u001b[39m \u001b[38;5;28mint\u001b[39m(kwargs[\u001b[38;5;124m\"\u001b[39m\u001b[38;5;124mparams\u001b[39m\u001b[38;5;124m\"\u001b[39m][\u001b[38;5;124m\"\u001b[39m\u001b[38;5;124mtimeout\u001b[39m\u001b[38;5;124m\"\u001b[39m])\n\u001b[0;32m     75\u001b[0m request \u001b[38;5;241m=\u001b[39m \u001b[38;5;28mself\u001b[39m\u001b[38;5;241m.\u001b[39m_client\u001b[38;5;241m.\u001b[39mbuild_request(method, url, \u001b[38;5;241m*\u001b[39m\u001b[38;5;241m*\u001b[39mkwargs)\n\u001b[1;32m---> 76\u001b[0m \u001b[38;5;28;01mreturn\u001b[39;00m \u001b[38;5;28;43mself\u001b[39;49m\u001b[38;5;241;43m.\u001b[39;49m\u001b[43msend\u001b[49m\u001b[43m(\u001b[49m\u001b[43mrequest\u001b[49m\u001b[43m,\u001b[49m\u001b[43m \u001b[49m\u001b[43mtype_\u001b[49m\u001b[43m)\u001b[49m\n",
      "File \u001b[1;32md:\\ProgramData\\Python\\Python39\\lib\\site-packages\\qdrant_client\\http\\api_client.py:93\u001b[0m, in \u001b[0;36mApiClient.send\u001b[1;34m(self, request, type_)\u001b[0m\n\u001b[0;32m     92\u001b[0m \u001b[38;5;28;01mdef\u001b[39;00m \u001b[38;5;21msend\u001b[39m(\u001b[38;5;28mself\u001b[39m, request: Request, type_: Type[T]) \u001b[38;5;241m-\u001b[39m\u001b[38;5;241m>\u001b[39m T:\n\u001b[1;32m---> 93\u001b[0m     response \u001b[38;5;241m=\u001b[39m \u001b[38;5;28;43mself\u001b[39;49m\u001b[38;5;241;43m.\u001b[39;49m\u001b[43mmiddleware\u001b[49m\u001b[43m(\u001b[49m\u001b[43mrequest\u001b[49m\u001b[43m,\u001b[49m\u001b[43m \u001b[49m\u001b[38;5;28;43mself\u001b[39;49m\u001b[38;5;241;43m.\u001b[39;49m\u001b[43msend_inner\u001b[49m\u001b[43m)\u001b[49m\n\u001b[0;32m     94\u001b[0m     \u001b[38;5;28;01mif\u001b[39;00m response\u001b[38;5;241m.\u001b[39mstatus_code \u001b[38;5;129;01min\u001b[39;00m [\u001b[38;5;241m200\u001b[39m, \u001b[38;5;241m201\u001b[39m, \u001b[38;5;241m202\u001b[39m]:\n\u001b[0;32m     95\u001b[0m         \u001b[38;5;28;01mtry\u001b[39;00m:\n",
      "File \u001b[1;32md:\\ProgramData\\Python\\Python39\\lib\\site-packages\\qdrant_client\\http\\api_client.py:202\u001b[0m, in \u001b[0;36mBaseMiddleware.__call__\u001b[1;34m(self, request, call_next)\u001b[0m\n\u001b[0;32m    201\u001b[0m \u001b[38;5;28;01mdef\u001b[39;00m \u001b[38;5;21m__call__\u001b[39m(\u001b[38;5;28mself\u001b[39m, request: Request, call_next: Send) \u001b[38;5;241m-\u001b[39m\u001b[38;5;241m>\u001b[39m Response:\n\u001b[1;32m--> 202\u001b[0m     \u001b[38;5;28;01mreturn\u001b[39;00m \u001b[43mcall_next\u001b[49m\u001b[43m(\u001b[49m\u001b[43mrequest\u001b[49m\u001b[43m)\u001b[49m\n",
      "File \u001b[1;32md:\\ProgramData\\Python\\Python39\\lib\\site-packages\\qdrant_client\\http\\api_client.py:105\u001b[0m, in \u001b[0;36mApiClient.send_inner\u001b[1;34m(self, request)\u001b[0m\n\u001b[0;32m    103\u001b[0m     response \u001b[38;5;241m=\u001b[39m \u001b[38;5;28mself\u001b[39m\u001b[38;5;241m.\u001b[39m_client\u001b[38;5;241m.\u001b[39msend(request)\n\u001b[0;32m    104\u001b[0m \u001b[38;5;28;01mexcept\u001b[39;00m \u001b[38;5;167;01mException\u001b[39;00m \u001b[38;5;28;01mas\u001b[39;00m e:\n\u001b[1;32m--> 105\u001b[0m     \u001b[38;5;28;01mraise\u001b[39;00m ResponseHandlingException(e)\n\u001b[0;32m    106\u001b[0m \u001b[38;5;28;01mreturn\u001b[39;00m response\n",
      "\u001b[1;31mResponseHandlingException\u001b[0m: timed out"
     ]
    }
   ],
   "source": [
    "client_1.recover_snapshot(\n",
    "    collection_name,\n",
    "    location=url,\n",
    "    wait=True\n",
    ")"
   ]
  },
  {
   "cell_type": "code",
   "execution_count": 46,
   "metadata": {},
   "outputs": [],
   "source": [
    "def download_file(url, local_filename):\n",
    "    \"\"\"\n",
    "    Downloads a file from the given URL and saves it to the local system.\n",
    "    \"\"\"\n",
    "    with requests.get(url, stream=True) as response:\n",
    "        response.raise_for_status()\n",
    "        with open(local_filename, 'wb') as file:\n",
    "            for chunk in response.iter_content(chunk_size=8192):\n",
    "                file.write(chunk)\n",
    "    return local_filename\n"
   ]
  },
  {
   "cell_type": "code",
   "execution_count": null,
   "metadata": {},
   "outputs": [],
   "source": [
    "local_filename=f'E:\\Downloads\\{snapshots_name}'\n",
    "download_file(url, local_filename)"
   ]
  },
  {
   "cell_type": "code",
   "execution_count": 61,
   "metadata": {},
   "outputs": [
    {
     "data": {
      "text/plain": [
       "('47.110.156.41', '企业_w2v_lda')"
      ]
     },
     "execution_count": 61,
     "metadata": {},
     "output_type": "execute_result"
    }
   ],
   "source": [
    "recover_snapshots_upload('47.110.156.41', collection_name, local_filename)"
   ]
  },
  {
   "cell_type": "code",
   "execution_count": 84,
   "metadata": {},
   "outputs": [
    {
     "data": {
      "text/plain": [
       "'BAAI/bge-small-en'"
      ]
     },
     "execution_count": 84,
     "metadata": {},
     "output_type": "execute_result"
    }
   ],
   "source": [
    "client.embedding_model_name"
   ]
  },
  {
   "cell_type": "code",
   "execution_count": 51,
   "metadata": {},
   "outputs": [
    {
     "data": {
      "text/plain": [
       "True"
      ]
     },
     "execution_count": 51,
     "metadata": {},
     "output_type": "execute_result"
    }
   ],
   "source": [
    "#client.list_snapshots(collection_name)\n",
    "client.delete_snapshot(collection_name,'专利_w2v_188_37-4931977184024862-2024-06-26-08-00-39.snapshot')"
   ]
  },
  {
   "cell_type": "code",
   "execution_count": 54,
   "metadata": {},
   "outputs": [
    {
     "data": {
      "text/plain": [
       "True"
      ]
     },
     "execution_count": 54,
     "metadata": {},
     "output_type": "execute_result"
    }
   ],
   "source": [
    "#client.list_full_snapshots()\n",
    "client.delete_full_snapshot(snapshot_name='full-snapshot-2024-06-19-02-44-02.snapshot')"
   ]
  },
  {
   "cell_type": "code",
   "execution_count": 49,
   "metadata": {},
   "outputs": [
    {
     "ename": "KeyboardInterrupt",
     "evalue": "",
     "output_type": "error",
     "traceback": [
      "\u001b[1;31m---------------------------------------------------------------------------\u001b[0m",
      "\u001b[1;31mKeyboardInterrupt\u001b[0m                         Traceback (most recent call last)",
      "Cell \u001b[1;32mIn[49], line 6\u001b[0m\n\u001b[0;32m      1\u001b[0m \u001b[38;5;66;03m# collection_name='专利_w2v_188_37'\u001b[39;00m\n\u001b[0;32m      2\u001b[0m \u001b[38;5;66;03m# client.create_snapshot(collection_name=collection_name)\u001b[39;00m\n\u001b[0;32m      3\u001b[0m \u001b[38;5;66;03m# snapshots_name=client.list_snapshots(collection_name)[0].name\u001b[39;00m\n\u001b[0;32m      4\u001b[0m \u001b[38;5;66;03m# url=f'http://10.10.10.5:6333/collections/{collection_name}/snapshots/{snapshots_name}'\u001b[39;00m\n\u001b[0;32m      5\u001b[0m \u001b[38;5;66;03m# local_filename=f'E:\\Downloads\\{snapshots_name}'\u001b[39;00m\n\u001b[1;32m----> 6\u001b[0m \u001b[43mdownload_file\u001b[49m\u001b[43m(\u001b[49m\u001b[43murl\u001b[49m\u001b[43m,\u001b[49m\u001b[43m \u001b[49m\u001b[43mlocal_filename\u001b[49m\u001b[43m)\u001b[49m\n\u001b[0;32m      7\u001b[0m recover_snapshots_upload(\u001b[38;5;124m'\u001b[39m\u001b[38;5;124m47.110.156.41\u001b[39m\u001b[38;5;124m'\u001b[39m, collection_name, local_filename)\n\u001b[0;32m      8\u001b[0m client\u001b[38;5;241m.\u001b[39mdelete_snapshot(\n\u001b[0;32m      9\u001b[0m collection_name\u001b[38;5;241m=\u001b[39mcollection_name, snapshot_name\u001b[38;5;241m=\u001b[39msnapshots_name\n\u001b[0;32m     10\u001b[0m )\n",
      "Cell \u001b[1;32mIn[46], line 8\u001b[0m, in \u001b[0;36mdownload_file\u001b[1;34m(url, local_filename)\u001b[0m\n\u001b[0;32m      6\u001b[0m     response\u001b[38;5;241m.\u001b[39mraise_for_status()\n\u001b[0;32m      7\u001b[0m     \u001b[38;5;28;01mwith\u001b[39;00m \u001b[38;5;28mopen\u001b[39m(local_filename, \u001b[38;5;124m'\u001b[39m\u001b[38;5;124mwb\u001b[39m\u001b[38;5;124m'\u001b[39m) \u001b[38;5;28;01mas\u001b[39;00m file:\n\u001b[1;32m----> 8\u001b[0m         \u001b[38;5;28;01mfor\u001b[39;00m chunk \u001b[38;5;129;01min\u001b[39;00m response\u001b[38;5;241m.\u001b[39miter_content(chunk_size\u001b[38;5;241m=\u001b[39m\u001b[38;5;241m8192\u001b[39m):\n\u001b[0;32m      9\u001b[0m             file\u001b[38;5;241m.\u001b[39mwrite(chunk)\n\u001b[0;32m     10\u001b[0m \u001b[38;5;28;01mreturn\u001b[39;00m local_filename\n",
      "File \u001b[1;32md:\\ProgramData\\Python\\Python39\\lib\\site-packages\\requests\\models.py:820\u001b[0m, in \u001b[0;36mResponse.iter_content.<locals>.generate\u001b[1;34m()\u001b[0m\n\u001b[0;32m    818\u001b[0m \u001b[38;5;28;01mif\u001b[39;00m \u001b[38;5;28mhasattr\u001b[39m(\u001b[38;5;28mself\u001b[39m\u001b[38;5;241m.\u001b[39mraw, \u001b[38;5;124m\"\u001b[39m\u001b[38;5;124mstream\u001b[39m\u001b[38;5;124m\"\u001b[39m):\n\u001b[0;32m    819\u001b[0m     \u001b[38;5;28;01mtry\u001b[39;00m:\n\u001b[1;32m--> 820\u001b[0m         \u001b[38;5;28;01myield from\u001b[39;00m \u001b[38;5;28mself\u001b[39m\u001b[38;5;241m.\u001b[39mraw\u001b[38;5;241m.\u001b[39mstream(chunk_size, decode_content\u001b[38;5;241m=\u001b[39m\u001b[38;5;28;01mTrue\u001b[39;00m)\n\u001b[0;32m    821\u001b[0m     \u001b[38;5;28;01mexcept\u001b[39;00m ProtocolError \u001b[38;5;28;01mas\u001b[39;00m e:\n\u001b[0;32m    822\u001b[0m         \u001b[38;5;28;01mraise\u001b[39;00m ChunkedEncodingError(e)\n",
      "File \u001b[1;32md:\\ProgramData\\Python\\Python39\\lib\\site-packages\\urllib3\\response.py:937\u001b[0m, in \u001b[0;36mHTTPResponse.stream\u001b[1;34m(self, amt, decode_content)\u001b[0m\n\u001b[0;32m    921\u001b[0m \u001b[38;5;250m\u001b[39m\u001b[38;5;124;03m\"\"\"\u001b[39;00m\n\u001b[0;32m    922\u001b[0m \u001b[38;5;124;03mA generator wrapper for the read() method. A call will block until\u001b[39;00m\n\u001b[0;32m    923\u001b[0m \u001b[38;5;124;03m``amt`` bytes have been read from the connection or until the\u001b[39;00m\n\u001b[1;32m   (...)\u001b[0m\n\u001b[0;32m    934\u001b[0m \u001b[38;5;124;03m    'content-encoding' header.\u001b[39;00m\n\u001b[0;32m    935\u001b[0m \u001b[38;5;124;03m\"\"\"\u001b[39;00m\n\u001b[0;32m    936\u001b[0m \u001b[38;5;28;01mif\u001b[39;00m \u001b[38;5;28mself\u001b[39m\u001b[38;5;241m.\u001b[39mchunked \u001b[38;5;129;01mand\u001b[39;00m \u001b[38;5;28mself\u001b[39m\u001b[38;5;241m.\u001b[39msupports_chunked_reads():\n\u001b[1;32m--> 937\u001b[0m     \u001b[38;5;28;01myield from\u001b[39;00m \u001b[38;5;28mself\u001b[39m\u001b[38;5;241m.\u001b[39mread_chunked(amt, decode_content\u001b[38;5;241m=\u001b[39mdecode_content)\n\u001b[0;32m    938\u001b[0m \u001b[38;5;28;01melse\u001b[39;00m:\n\u001b[0;32m    939\u001b[0m     \u001b[38;5;28;01mwhile\u001b[39;00m \u001b[38;5;129;01mnot\u001b[39;00m is_fp_closed(\u001b[38;5;28mself\u001b[39m\u001b[38;5;241m.\u001b[39m_fp) \u001b[38;5;129;01mor\u001b[39;00m \u001b[38;5;28mlen\u001b[39m(\u001b[38;5;28mself\u001b[39m\u001b[38;5;241m.\u001b[39m_decoded_buffer) \u001b[38;5;241m>\u001b[39m \u001b[38;5;241m0\u001b[39m:\n",
      "File \u001b[1;32md:\\ProgramData\\Python\\Python39\\lib\\site-packages\\urllib3\\response.py:1080\u001b[0m, in \u001b[0;36mHTTPResponse.read_chunked\u001b[1;34m(self, amt, decode_content)\u001b[0m\n\u001b[0;32m   1078\u001b[0m \u001b[38;5;28;01mif\u001b[39;00m \u001b[38;5;28mself\u001b[39m\u001b[38;5;241m.\u001b[39mchunk_left \u001b[38;5;241m==\u001b[39m \u001b[38;5;241m0\u001b[39m:\n\u001b[0;32m   1079\u001b[0m     \u001b[38;5;28;01mbreak\u001b[39;00m\n\u001b[1;32m-> 1080\u001b[0m chunk \u001b[38;5;241m=\u001b[39m \u001b[38;5;28;43mself\u001b[39;49m\u001b[38;5;241;43m.\u001b[39;49m\u001b[43m_handle_chunk\u001b[49m\u001b[43m(\u001b[49m\u001b[43mamt\u001b[49m\u001b[43m)\u001b[49m\n\u001b[0;32m   1081\u001b[0m decoded \u001b[38;5;241m=\u001b[39m \u001b[38;5;28mself\u001b[39m\u001b[38;5;241m.\u001b[39m_decode(\n\u001b[0;32m   1082\u001b[0m     chunk, decode_content\u001b[38;5;241m=\u001b[39mdecode_content, flush_decoder\u001b[38;5;241m=\u001b[39m\u001b[38;5;28;01mFalse\u001b[39;00m\n\u001b[0;32m   1083\u001b[0m )\n\u001b[0;32m   1084\u001b[0m \u001b[38;5;28;01mif\u001b[39;00m decoded:\n",
      "File \u001b[1;32md:\\ProgramData\\Python\\Python39\\lib\\site-packages\\urllib3\\response.py:1022\u001b[0m, in \u001b[0;36mHTTPResponse._handle_chunk\u001b[1;34m(self, amt)\u001b[0m\n\u001b[0;32m   1020\u001b[0m     \u001b[38;5;28mself\u001b[39m\u001b[38;5;241m.\u001b[39mchunk_left \u001b[38;5;241m=\u001b[39m \u001b[38;5;28;01mNone\u001b[39;00m\n\u001b[0;32m   1021\u001b[0m \u001b[38;5;28;01melif\u001b[39;00m \u001b[38;5;28mself\u001b[39m\u001b[38;5;241m.\u001b[39mchunk_left \u001b[38;5;129;01mis\u001b[39;00m \u001b[38;5;129;01mnot\u001b[39;00m \u001b[38;5;28;01mNone\u001b[39;00m \u001b[38;5;129;01mand\u001b[39;00m amt \u001b[38;5;241m<\u001b[39m \u001b[38;5;28mself\u001b[39m\u001b[38;5;241m.\u001b[39mchunk_left:\n\u001b[1;32m-> 1022\u001b[0m     value \u001b[38;5;241m=\u001b[39m \u001b[38;5;28;43mself\u001b[39;49m\u001b[38;5;241;43m.\u001b[39;49m\u001b[43m_fp\u001b[49m\u001b[38;5;241;43m.\u001b[39;49m\u001b[43m_safe_read\u001b[49m\u001b[43m(\u001b[49m\u001b[43mamt\u001b[49m\u001b[43m)\u001b[49m  \u001b[38;5;66;03m# type: ignore[union-attr]\u001b[39;00m\n\u001b[0;32m   1023\u001b[0m     \u001b[38;5;28mself\u001b[39m\u001b[38;5;241m.\u001b[39mchunk_left \u001b[38;5;241m=\u001b[39m \u001b[38;5;28mself\u001b[39m\u001b[38;5;241m.\u001b[39mchunk_left \u001b[38;5;241m-\u001b[39m amt\n\u001b[0;32m   1024\u001b[0m     returned_chunk \u001b[38;5;241m=\u001b[39m value\n",
      "File \u001b[1;32md:\\ProgramData\\Python\\Python39\\lib\\http\\client.py:626\u001b[0m, in \u001b[0;36mHTTPResponse._safe_read\u001b[1;34m(self, amt)\u001b[0m\n\u001b[0;32m    624\u001b[0m s \u001b[38;5;241m=\u001b[39m []\n\u001b[0;32m    625\u001b[0m \u001b[38;5;28;01mwhile\u001b[39;00m amt \u001b[38;5;241m>\u001b[39m \u001b[38;5;241m0\u001b[39m:\n\u001b[1;32m--> 626\u001b[0m     chunk \u001b[38;5;241m=\u001b[39m \u001b[38;5;28;43mself\u001b[39;49m\u001b[38;5;241;43m.\u001b[39;49m\u001b[43mfp\u001b[49m\u001b[38;5;241;43m.\u001b[39;49m\u001b[43mread\u001b[49m\u001b[43m(\u001b[49m\u001b[38;5;28;43mmin\u001b[39;49m\u001b[43m(\u001b[49m\u001b[43mamt\u001b[49m\u001b[43m,\u001b[49m\u001b[43m \u001b[49m\u001b[43mMAXAMOUNT\u001b[49m\u001b[43m)\u001b[49m\u001b[43m)\u001b[49m\n\u001b[0;32m    627\u001b[0m     \u001b[38;5;28;01mif\u001b[39;00m \u001b[38;5;129;01mnot\u001b[39;00m chunk:\n\u001b[0;32m    628\u001b[0m         \u001b[38;5;28;01mraise\u001b[39;00m IncompleteRead(\u001b[38;5;124mb\u001b[39m\u001b[38;5;124m'\u001b[39m\u001b[38;5;124m'\u001b[39m\u001b[38;5;241m.\u001b[39mjoin(s), amt)\n",
      "File \u001b[1;32md:\\ProgramData\\Python\\Python39\\lib\\socket.py:704\u001b[0m, in \u001b[0;36mSocketIO.readinto\u001b[1;34m(self, b)\u001b[0m\n\u001b[0;32m    702\u001b[0m \u001b[38;5;28;01mwhile\u001b[39;00m \u001b[38;5;28;01mTrue\u001b[39;00m:\n\u001b[0;32m    703\u001b[0m     \u001b[38;5;28;01mtry\u001b[39;00m:\n\u001b[1;32m--> 704\u001b[0m         \u001b[38;5;28;01mreturn\u001b[39;00m \u001b[38;5;28;43mself\u001b[39;49m\u001b[38;5;241;43m.\u001b[39;49m\u001b[43m_sock\u001b[49m\u001b[38;5;241;43m.\u001b[39;49m\u001b[43mrecv_into\u001b[49m\u001b[43m(\u001b[49m\u001b[43mb\u001b[49m\u001b[43m)\u001b[49m\n\u001b[0;32m    705\u001b[0m     \u001b[38;5;28;01mexcept\u001b[39;00m timeout:\n\u001b[0;32m    706\u001b[0m         \u001b[38;5;28mself\u001b[39m\u001b[38;5;241m.\u001b[39m_timeout_occurred \u001b[38;5;241m=\u001b[39m \u001b[38;5;28;01mTrue\u001b[39;00m\n",
      "\u001b[1;31mKeyboardInterrupt\u001b[0m: "
     ]
    }
   ],
   "source": [
    "collection_name='专利_w2v_188_37'\n",
    "client.create_snapshot(collection_name=collection_name)\n",
    "snapshots_name=client.list_snapshots(collection_name)[0].name\n",
    "url=f'http://10.10.10.5:6333/collections/{collection_name}/snapshots/{snapshots_name}'\n",
    "local_filename=f'E:\\Downloads\\{snapshots_name}'\n",
    "download_file(url, local_filename)\n",
    "recover_snapshots_upload('47.110.156.41', collection_name, local_filename)\n",
    "client.delete_snapshot(\n",
    "collection_name=collection_name, snapshot_name=snapshots_name\n",
    ")\n",
    "#     to_client.recover_snapshot(\n",
    "#     collection_name,\n",
    "#     location=url,\n",
    "#     wait=True\n",
    "# )\n",
    "  \n",
    "client_1.count(collection_name)"
   ]
  },
  {
   "cell_type": "code",
   "execution_count": 83,
   "metadata": {},
   "outputs": [
    {
     "name": "stdout",
     "output_type": "stream",
     "text": [
      "企业_w2v_lda []\n",
      "专利_w2v []\n",
      "专利_w2v_188_37 []\n",
      "places_bank []\n"
     ]
    }
   ],
   "source": [
    "for collection  in client.get_collections().collections:\n",
    "    snapshots_names=client.list_snapshots(collection.name)\n",
    "    print(collection.name ,snapshots_names)\n",
    "    if snapshots_names:\n",
    "        snapshots_name=snapshots_names[0].name\n",
    "        client.delete_snapshot(\n",
    "        collection_name=collection.name, snapshot_name=snapshots_name)"
   ]
  },
  {
   "cell_type": "code",
   "execution_count": 86,
   "metadata": {},
   "outputs": [
    {
     "data": {
      "text/plain": [
       "[]"
      ]
     },
     "execution_count": 86,
     "metadata": {},
     "output_type": "execute_result"
    }
   ],
   "source": [
    "#client.create_full_snapshot()\n",
    "client.list_full_snapshots()"
   ]
  },
  {
   "cell_type": "code",
   "execution_count": 3,
   "metadata": {},
   "outputs": [],
   "source": [
    "import pickle\n",
    "import numpy as np\n",
    "\n",
    "def read_pickle_in_batches(file_path, batch_size):\n",
    "    with open(file_path, 'rb') as f:\n",
    "        while True:\n",
    "            batch = []\n",
    "            try:\n",
    "                for _ in range(batch_size):\n",
    "                    batch.append(pickle.load(f))\n",
    "            except EOFError:\n",
    "                break\n",
    "            yield batch\n",
    "\n",
    "def read_npy_in_batches(file_path, batch_size):\n",
    "    data = np.load(file_path, mmap_mode='r')\n",
    "    total_rows = data.shape[0]\n",
    "    \n",
    "    for i in range(0, total_rows, batch_size):\n",
    "        yield data[i:i + batch_size]"
   ]
  },
  {
   "cell_type": "code",
   "execution_count": 41,
   "metadata": {},
   "outputs": [],
   "source": [
    "pkl_path = 'Y:\\Downloads\\Patent\\融资公司专利2024_payloads.pkl'\n",
    "npy_path = 'Y:\\Downloads\\Patent\\融资公司专利2024_bge_embeddings.npy'\n",
    "batch_size = 1000\n",
    "pkl_batches = read_pickle_in_batches(pkl_path, batch_size)\n",
    "npy_batches = read_npy_in_batches(npy_path, batch_size)\n",
    "\n",
    "\n",
    "# while True:\n",
    "#     try:\n",
    "#         pkl_batch = next(pkl_batches)\n",
    "#         npy_batch = next(npy_batches)\n",
    "#         print(f\"Processing batch of size {len(pkl_batch)}\")\n",
    "#         for pkl_item, npy_item in zip(pkl_batch, npy_batch):\n",
    "#             print(f\"Pickle: {pkl_item}, Numpy: {npy_item}\")\n",
    "\n",
    "#     except StopIteration:\n",
    "#         break\n"
   ]
  },
  {
   "cell_type": "code",
   "execution_count": 40,
   "metadata": {},
   "outputs": [
    {
     "ename": "NameError",
     "evalue": "name 'pkl_batches' is not defined",
     "output_type": "error",
     "traceback": [
      "\u001b[1;31m---------------------------------------------------------------------------\u001b[0m",
      "\u001b[1;31mNameError\u001b[0m                                 Traceback (most recent call last)",
      "Cell \u001b[1;32mIn[40], line 1\u001b[0m\n\u001b[1;32m----> 1\u001b[0m \u001b[38;5;28;01mdel\u001b[39;00m pkl_batches\n\u001b[0;32m      2\u001b[0m \u001b[38;5;28;01mdel\u001b[39;00m npy_batches\n",
      "\u001b[1;31mNameError\u001b[0m: name 'pkl_batches' is not defined"
     ]
    }
   ],
   "source": [
    "del pkl_batches\n",
    "del npy_batches"
   ]
  },
  {
   "cell_type": "code",
   "execution_count": 36,
   "metadata": {},
   "outputs": [],
   "source": [
    "i=0\n",
    "while True:\n",
    "    try:\n",
    "        pkl_batch = next(pkl_batches)\n",
    "        npy_batch = next(npy_batches)\n",
    "        size=len(pkl_batch)\n",
    "        index = list(range(i,i + size))\n",
    "        print(f\"{i},Processing batch of size {size,len(npy_batch)}\")\n",
    "        points=Batch(ids= index,payloads=pkl_batch,vectors=npy_batch.tolist())\n",
    "        client_1.upsert(collection_name=collection_name,points = points)     \n",
    "        i+=size\n",
    "\n",
    "    except StopIteration:\n",
    "        break"
   ]
  },
  {
   "cell_type": "code",
   "execution_count": 7,
   "metadata": {},
   "outputs": [],
   "source": [
    "with open(pkl_path, 'rb') as f:\n",
    "    pkls=pickle.load(f)"
   ]
  },
  {
   "cell_type": "code",
   "execution_count": 9,
   "metadata": {},
   "outputs": [
    {
     "data": {
      "text/plain": [
       "{'Co': '重庆钢铁股份有限公司',\n",
       " '序号': 123,\n",
       " '申请号': 'CN93117175.X',\n",
       " '公开（公告）号': 'CN1050661C',\n",
       " '标题 (中文)': '竖式烧结矿冷却机'}"
      ]
     },
     "execution_count": 9,
     "metadata": {},
     "output_type": "execute_result"
    }
   ],
   "source": [
    "pkls[0]"
   ]
  },
  {
   "cell_type": "code",
   "execution_count": 8,
   "metadata": {},
   "outputs": [
    {
     "data": {
      "text/plain": [
       "1897517"
      ]
     },
     "execution_count": 8,
     "metadata": {},
     "output_type": "execute_result"
    }
   ],
   "source": [
    "len(pkls)"
   ]
  },
  {
   "cell_type": "code",
   "execution_count": 31,
   "metadata": {},
   "outputs": [
    {
     "name": "stderr",
     "output_type": "stream",
     "text": [
      "C:\\Users\\Administrator\\AppData\\Local\\Temp\\ipykernel_28544\\1782672481.py:2: DeprecationWarning: `recreate_collection` method is deprecated and will be removed in the future. Use `collection_exists` to check collection existence and `create_collection` instead.\n",
      "  client_1.recreate_collection(\n"
     ]
    },
    {
     "data": {
      "text/plain": [
       "True"
      ]
     },
     "execution_count": 31,
     "metadata": {},
     "output_type": "execute_result"
    }
   ],
   "source": [
    "collection_name='专利_bge_189'\n",
    "client_1.recreate_collection(\n",
    "    collection_name=collection_name,\n",
    "    vectors_config=VectorParams(size=1024, distance=Distance.COSINE))"
   ]
  },
  {
   "cell_type": "code",
   "execution_count": 1,
   "metadata": {},
   "outputs": [
    {
     "ename": "NameError",
     "evalue": "name 'npy_batches' is not defined",
     "output_type": "error",
     "traceback": [
      "\u001b[1;31m---------------------------------------------------------------------------\u001b[0m",
      "\u001b[1;31mNameError\u001b[0m                                 Traceback (most recent call last)",
      "Cell \u001b[1;32mIn[1], line 1\u001b[0m\n\u001b[1;32m----> 1\u001b[0m \u001b[38;5;28;01mdel\u001b[39;00m npy_batches\n",
      "\u001b[1;31mNameError\u001b[0m: name 'npy_batches' is not defined"
     ]
    }
   ],
   "source": [
    "del npy_batches"
   ]
  },
  {
   "cell_type": "code",
   "execution_count": 21,
   "metadata": {},
   "outputs": [],
   "source": [
    "client_1=QdrantClient(host=\"47.110.156.41\", grpc_port=6334, prefer_grpc=True)"
   ]
  },
  {
   "cell_type": "code",
   "execution_count": 32,
   "metadata": {},
   "outputs": [
    {
     "data": {
      "text/plain": [
       "CountResult(count=0)"
      ]
     },
     "execution_count": 32,
     "metadata": {},
     "output_type": "execute_result"
    }
   ],
   "source": [
    "client_1.count(collection_name=collection_name)"
   ]
  },
  {
   "cell_type": "code",
   "execution_count": 19,
   "metadata": {},
   "outputs": [
    {
     "data": {
      "text/plain": [
       "237000"
      ]
     },
     "execution_count": 19,
     "metadata": {},
     "output_type": "execute_result"
    }
   ],
   "source": [
    "i,1896000"
   ]
  },
  {
   "cell_type": "code",
   "execution_count": 27,
   "metadata": {},
   "outputs": [
    {
     "data": {
      "text/plain": [
       "517"
      ]
     },
     "execution_count": 27,
     "metadata": {},
     "output_type": "execute_result"
    }
   ],
   "source": [
    "len(pkls[1897000:1897000 + batch_size])"
   ]
  },
  {
   "cell_type": "code",
   "execution_count": 42,
   "metadata": {
    "scrolled": true
   },
   "outputs": [
    {
     "name": "stdout",
     "output_type": "stream",
     "text": [
      "0,Processing batch of size (1000, 1000)\n",
      "1000,Processing batch of size (1000, 1000)\n",
      "2000,Processing batch of size (1000, 1000)\n",
      "3000,Processing batch of size (1000, 1000)\n",
      "4000,Processing batch of size (1000, 1000)\n",
      "5000,Processing batch of size (1000, 1000)\n",
      "6000,Processing batch of size (1000, 1000)\n",
      "7000,Processing batch of size (1000, 1000)\n",
      "8000,Processing batch of size (1000, 1000)\n",
      "9000,Processing batch of size (1000, 1000)\n",
      "10000,Processing batch of size (1000, 1000)\n",
      "11000,Processing batch of size (1000, 1000)\n",
      "12000,Processing batch of size (1000, 1000)\n",
      "13000,Processing batch of size (1000, 1000)\n",
      "14000,Processing batch of size (1000, 1000)\n",
      "15000,Processing batch of size (1000, 1000)\n",
      "16000,Processing batch of size (1000, 1000)\n",
      "17000,Processing batch of size (1000, 1000)\n",
      "18000,Processing batch of size (1000, 1000)\n",
      "19000,Processing batch of size (1000, 1000)\n",
      "20000,Processing batch of size (1000, 1000)\n",
      "21000,Processing batch of size (1000, 1000)\n",
      "22000,Processing batch of size (1000, 1000)\n",
      "23000,Processing batch of size (1000, 1000)\n",
      "24000,Processing batch of size (1000, 1000)\n",
      "25000,Processing batch of size (1000, 1000)\n",
      "26000,Processing batch of size (1000, 1000)\n",
      "27000,Processing batch of size (1000, 1000)\n",
      "28000,Processing batch of size (1000, 1000)\n",
      "29000,Processing batch of size (1000, 1000)\n",
      "30000,Processing batch of size (1000, 1000)\n",
      "31000,Processing batch of size (1000, 1000)\n",
      "32000,Processing batch of size (1000, 1000)\n",
      "33000,Processing batch of size (1000, 1000)\n",
      "34000,Processing batch of size (1000, 1000)\n",
      "35000,Processing batch of size (1000, 1000)\n",
      "36000,Processing batch of size (1000, 1000)\n",
      "37000,Processing batch of size (1000, 1000)\n",
      "38000,Processing batch of size (1000, 1000)\n",
      "39000,Processing batch of size (1000, 1000)\n",
      "40000,Processing batch of size (1000, 1000)\n",
      "41000,Processing batch of size (1000, 1000)\n",
      "42000,Processing batch of size (1000, 1000)\n",
      "43000,Processing batch of size (1000, 1000)\n",
      "44000,Processing batch of size (1000, 1000)\n",
      "45000,Processing batch of size (1000, 1000)\n",
      "46000,Processing batch of size (1000, 1000)\n",
      "47000,Processing batch of size (1000, 1000)\n",
      "48000,Processing batch of size (1000, 1000)\n",
      "49000,Processing batch of size (1000, 1000)\n",
      "50000,Processing batch of size (1000, 1000)\n",
      "51000,Processing batch of size (1000, 1000)\n",
      "52000,Processing batch of size (1000, 1000)\n",
      "53000,Processing batch of size (1000, 1000)\n",
      "54000,Processing batch of size (1000, 1000)\n",
      "55000,Processing batch of size (1000, 1000)\n",
      "56000,Processing batch of size (1000, 1000)\n",
      "57000,Processing batch of size (1000, 1000)\n",
      "58000,Processing batch of size (1000, 1000)\n",
      "59000,Processing batch of size (1000, 1000)\n",
      "60000,Processing batch of size (1000, 1000)\n",
      "61000,Processing batch of size (1000, 1000)\n",
      "62000,Processing batch of size (1000, 1000)\n",
      "63000,Processing batch of size (1000, 1000)\n",
      "64000,Processing batch of size (1000, 1000)\n",
      "65000,Processing batch of size (1000, 1000)\n",
      "66000,Processing batch of size (1000, 1000)\n",
      "67000,Processing batch of size (1000, 1000)\n",
      "68000,Processing batch of size (1000, 1000)\n",
      "69000,Processing batch of size (1000, 1000)\n",
      "70000,Processing batch of size (1000, 1000)\n",
      "71000,Processing batch of size (1000, 1000)\n",
      "72000,Processing batch of size (1000, 1000)\n",
      "73000,Processing batch of size (1000, 1000)\n",
      "74000,Processing batch of size (1000, 1000)\n",
      "75000,Processing batch of size (1000, 1000)\n",
      "76000,Processing batch of size (1000, 1000)\n",
      "77000,Processing batch of size (1000, 1000)\n",
      "78000,Processing batch of size (1000, 1000)\n",
      "79000,Processing batch of size (1000, 1000)\n",
      "80000,Processing batch of size (1000, 1000)\n",
      "81000,Processing batch of size (1000, 1000)\n",
      "82000,Processing batch of size (1000, 1000)\n",
      "83000,Processing batch of size (1000, 1000)\n",
      "84000,Processing batch of size (1000, 1000)\n",
      "85000,Processing batch of size (1000, 1000)\n",
      "86000,Processing batch of size (1000, 1000)\n",
      "87000,Processing batch of size (1000, 1000)\n",
      "88000,Processing batch of size (1000, 1000)\n",
      "89000,Processing batch of size (1000, 1000)\n",
      "90000,Processing batch of size (1000, 1000)\n",
      "91000,Processing batch of size (1000, 1000)\n",
      "92000,Processing batch of size (1000, 1000)\n",
      "93000,Processing batch of size (1000, 1000)\n",
      "94000,Processing batch of size (1000, 1000)\n",
      "95000,Processing batch of size (1000, 1000)\n",
      "96000,Processing batch of size (1000, 1000)\n",
      "97000,Processing batch of size (1000, 1000)\n",
      "98000,Processing batch of size (1000, 1000)\n",
      "99000,Processing batch of size (1000, 1000)\n",
      "100000,Processing batch of size (1000, 1000)\n",
      "101000,Processing batch of size (1000, 1000)\n",
      "102000,Processing batch of size (1000, 1000)\n",
      "103000,Processing batch of size (1000, 1000)\n",
      "104000,Processing batch of size (1000, 1000)\n",
      "105000,Processing batch of size (1000, 1000)\n",
      "106000,Processing batch of size (1000, 1000)\n",
      "107000,Processing batch of size (1000, 1000)\n",
      "108000,Processing batch of size (1000, 1000)\n",
      "109000,Processing batch of size (1000, 1000)\n",
      "110000,Processing batch of size (1000, 1000)\n",
      "111000,Processing batch of size (1000, 1000)\n",
      "112000,Processing batch of size (1000, 1000)\n",
      "113000,Processing batch of size (1000, 1000)\n",
      "114000,Processing batch of size (1000, 1000)\n",
      "115000,Processing batch of size (1000, 1000)\n",
      "116000,Processing batch of size (1000, 1000)\n",
      "117000,Processing batch of size (1000, 1000)\n",
      "118000,Processing batch of size (1000, 1000)\n",
      "119000,Processing batch of size (1000, 1000)\n",
      "120000,Processing batch of size (1000, 1000)\n",
      "121000,Processing batch of size (1000, 1000)\n",
      "122000,Processing batch of size (1000, 1000)\n",
      "123000,Processing batch of size (1000, 1000)\n",
      "124000,Processing batch of size (1000, 1000)\n",
      "125000,Processing batch of size (1000, 1000)\n",
      "126000,Processing batch of size (1000, 1000)\n",
      "127000,Processing batch of size (1000, 1000)\n",
      "128000,Processing batch of size (1000, 1000)\n",
      "129000,Processing batch of size (1000, 1000)\n",
      "130000,Processing batch of size (1000, 1000)\n",
      "131000,Processing batch of size (1000, 1000)\n",
      "132000,Processing batch of size (1000, 1000)\n",
      "133000,Processing batch of size (1000, 1000)\n",
      "134000,Processing batch of size (1000, 1000)\n",
      "135000,Processing batch of size (1000, 1000)\n",
      "136000,Processing batch of size (1000, 1000)\n",
      "137000,Processing batch of size (1000, 1000)\n",
      "138000,Processing batch of size (1000, 1000)\n",
      "139000,Processing batch of size (1000, 1000)\n",
      "140000,Processing batch of size (1000, 1000)\n",
      "141000,Processing batch of size (1000, 1000)\n",
      "142000,Processing batch of size (1000, 1000)\n",
      "143000,Processing batch of size (1000, 1000)\n",
      "144000,Processing batch of size (1000, 1000)\n",
      "145000,Processing batch of size (1000, 1000)\n",
      "146000,Processing batch of size (1000, 1000)\n",
      "147000,Processing batch of size (1000, 1000)\n",
      "148000,Processing batch of size (1000, 1000)\n",
      "149000,Processing batch of size (1000, 1000)\n",
      "150000,Processing batch of size (1000, 1000)\n",
      "151000,Processing batch of size (1000, 1000)\n",
      "152000,Processing batch of size (1000, 1000)\n",
      "153000,Processing batch of size (1000, 1000)\n",
      "154000,Processing batch of size (1000, 1000)\n",
      "155000,Processing batch of size (1000, 1000)\n",
      "156000,Processing batch of size (1000, 1000)\n",
      "157000,Processing batch of size (1000, 1000)\n",
      "158000,Processing batch of size (1000, 1000)\n",
      "159000,Processing batch of size (1000, 1000)\n",
      "160000,Processing batch of size (1000, 1000)\n",
      "161000,Processing batch of size (1000, 1000)\n",
      "162000,Processing batch of size (1000, 1000)\n",
      "163000,Processing batch of size (1000, 1000)\n",
      "164000,Processing batch of size (1000, 1000)\n",
      "165000,Processing batch of size (1000, 1000)\n",
      "166000,Processing batch of size (1000, 1000)\n",
      "167000,Processing batch of size (1000, 1000)\n",
      "168000,Processing batch of size (1000, 1000)\n",
      "169000,Processing batch of size (1000, 1000)\n",
      "170000,Processing batch of size (1000, 1000)\n",
      "171000,Processing batch of size (1000, 1000)\n",
      "172000,Processing batch of size (1000, 1000)\n",
      "173000,Processing batch of size (1000, 1000)\n",
      "174000,Processing batch of size (1000, 1000)\n",
      "175000,Processing batch of size (1000, 1000)\n",
      "176000,Processing batch of size (1000, 1000)\n",
      "177000,Processing batch of size (1000, 1000)\n",
      "178000,Processing batch of size (1000, 1000)\n",
      "179000,Processing batch of size (1000, 1000)\n",
      "180000,Processing batch of size (1000, 1000)\n",
      "181000,Processing batch of size (1000, 1000)\n",
      "182000,Processing batch of size (1000, 1000)\n",
      "183000,Processing batch of size (1000, 1000)\n",
      "184000,Processing batch of size (1000, 1000)\n",
      "185000,Processing batch of size (1000, 1000)\n",
      "186000,Processing batch of size (1000, 1000)\n",
      "187000,Processing batch of size (1000, 1000)\n",
      "188000,Processing batch of size (1000, 1000)\n",
      "189000,Processing batch of size (1000, 1000)\n",
      "190000,Processing batch of size (1000, 1000)\n",
      "191000,Processing batch of size (1000, 1000)\n",
      "192000,Processing batch of size (1000, 1000)\n",
      "193000,Processing batch of size (1000, 1000)\n",
      "194000,Processing batch of size (1000, 1000)\n",
      "195000,Processing batch of size (1000, 1000)\n",
      "196000,Processing batch of size (1000, 1000)\n",
      "197000,Processing batch of size (1000, 1000)\n",
      "198000,Processing batch of size (1000, 1000)\n",
      "199000,Processing batch of size (1000, 1000)\n",
      "200000,Processing batch of size (1000, 1000)\n",
      "201000,Processing batch of size (1000, 1000)\n",
      "202000,Processing batch of size (1000, 1000)\n",
      "203000,Processing batch of size (1000, 1000)\n",
      "204000,Processing batch of size (1000, 1000)\n",
      "205000,Processing batch of size (1000, 1000)\n",
      "206000,Processing batch of size (1000, 1000)\n",
      "207000,Processing batch of size (1000, 1000)\n",
      "208000,Processing batch of size (1000, 1000)\n",
      "209000,Processing batch of size (1000, 1000)\n",
      "210000,Processing batch of size (1000, 1000)\n",
      "211000,Processing batch of size (1000, 1000)\n",
      "212000,Processing batch of size (1000, 1000)\n",
      "213000,Processing batch of size (1000, 1000)\n",
      "214000,Processing batch of size (1000, 1000)\n",
      "215000,Processing batch of size (1000, 1000)\n",
      "216000,Processing batch of size (1000, 1000)\n",
      "217000,Processing batch of size (1000, 1000)\n",
      "218000,Processing batch of size (1000, 1000)\n",
      "219000,Processing batch of size (1000, 1000)\n",
      "220000,Processing batch of size (1000, 1000)\n",
      "221000,Processing batch of size (1000, 1000)\n",
      "222000,Processing batch of size (1000, 1000)\n",
      "223000,Processing batch of size (1000, 1000)\n",
      "224000,Processing batch of size (1000, 1000)\n",
      "225000,Processing batch of size (1000, 1000)\n",
      "226000,Processing batch of size (1000, 1000)\n",
      "227000,Processing batch of size (1000, 1000)\n",
      "228000,Processing batch of size (1000, 1000)\n",
      "229000,Processing batch of size (1000, 1000)\n",
      "230000,Processing batch of size (1000, 1000)\n",
      "231000,Processing batch of size (1000, 1000)\n",
      "232000,Processing batch of size (1000, 1000)\n",
      "233000,Processing batch of size (1000, 1000)\n",
      "234000,Processing batch of size (1000, 1000)\n",
      "235000,Processing batch of size (1000, 1000)\n",
      "236000,Processing batch of size (1000, 1000)\n",
      "237000,Processing batch of size (1000, 1000)\n",
      "238000,Processing batch of size (1000, 1000)\n",
      "239000,Processing batch of size (1000, 1000)\n",
      "240000,Processing batch of size (1000, 1000)\n",
      "241000,Processing batch of size (1000, 1000)\n",
      "242000,Processing batch of size (1000, 1000)\n",
      "243000,Processing batch of size (1000, 1000)\n",
      "244000,Processing batch of size (1000, 1000)\n",
      "245000,Processing batch of size (1000, 1000)\n",
      "246000,Processing batch of size (1000, 1000)\n",
      "247000,Processing batch of size (1000, 1000)\n",
      "248000,Processing batch of size (1000, 1000)\n",
      "249000,Processing batch of size (1000, 1000)\n",
      "250000,Processing batch of size (1000, 1000)\n",
      "251000,Processing batch of size (1000, 1000)\n",
      "252000,Processing batch of size (1000, 1000)\n",
      "253000,Processing batch of size (1000, 1000)\n",
      "254000,Processing batch of size (1000, 1000)\n",
      "255000,Processing batch of size (1000, 1000)\n",
      "256000,Processing batch of size (1000, 1000)\n",
      "257000,Processing batch of size (1000, 1000)\n",
      "258000,Processing batch of size (1000, 1000)\n",
      "259000,Processing batch of size (1000, 1000)\n",
      "260000,Processing batch of size (1000, 1000)\n",
      "261000,Processing batch of size (1000, 1000)\n",
      "262000,Processing batch of size (1000, 1000)\n",
      "263000,Processing batch of size (1000, 1000)\n",
      "264000,Processing batch of size (1000, 1000)\n",
      "265000,Processing batch of size (1000, 1000)\n",
      "266000,Processing batch of size (1000, 1000)\n",
      "267000,Processing batch of size (1000, 1000)\n",
      "268000,Processing batch of size (1000, 1000)\n",
      "269000,Processing batch of size (1000, 1000)\n",
      "270000,Processing batch of size (1000, 1000)\n",
      "271000,Processing batch of size (1000, 1000)\n",
      "272000,Processing batch of size (1000, 1000)\n",
      "273000,Processing batch of size (1000, 1000)\n",
      "274000,Processing batch of size (1000, 1000)\n",
      "275000,Processing batch of size (1000, 1000)\n",
      "276000,Processing batch of size (1000, 1000)\n",
      "277000,Processing batch of size (1000, 1000)\n",
      "278000,Processing batch of size (1000, 1000)\n",
      "279000,Processing batch of size (1000, 1000)\n",
      "280000,Processing batch of size (1000, 1000)\n",
      "281000,Processing batch of size (1000, 1000)\n",
      "282000,Processing batch of size (1000, 1000)\n",
      "283000,Processing batch of size (1000, 1000)\n",
      "284000,Processing batch of size (1000, 1000)\n",
      "285000,Processing batch of size (1000, 1000)\n",
      "286000,Processing batch of size (1000, 1000)\n",
      "287000,Processing batch of size (1000, 1000)\n",
      "288000,Processing batch of size (1000, 1000)\n",
      "289000,Processing batch of size (1000, 1000)\n",
      "290000,Processing batch of size (1000, 1000)\n",
      "291000,Processing batch of size (1000, 1000)\n",
      "292000,Processing batch of size (1000, 1000)\n",
      "293000,Processing batch of size (1000, 1000)\n",
      "294000,Processing batch of size (1000, 1000)\n",
      "295000,Processing batch of size (1000, 1000)\n",
      "296000,Processing batch of size (1000, 1000)\n",
      "297000,Processing batch of size (1000, 1000)\n",
      "298000,Processing batch of size (1000, 1000)\n",
      "299000,Processing batch of size (1000, 1000)\n",
      "300000,Processing batch of size (1000, 1000)\n",
      "301000,Processing batch of size (1000, 1000)\n",
      "302000,Processing batch of size (1000, 1000)\n",
      "303000,Processing batch of size (1000, 1000)\n",
      "304000,Processing batch of size (1000, 1000)\n",
      "305000,Processing batch of size (1000, 1000)\n",
      "306000,Processing batch of size (1000, 1000)\n",
      "307000,Processing batch of size (1000, 1000)\n",
      "308000,Processing batch of size (1000, 1000)\n",
      "309000,Processing batch of size (1000, 1000)\n",
      "310000,Processing batch of size (1000, 1000)\n",
      "311000,Processing batch of size (1000, 1000)\n",
      "312000,Processing batch of size (1000, 1000)\n",
      "313000,Processing batch of size (1000, 1000)\n",
      "314000,Processing batch of size (1000, 1000)\n",
      "315000,Processing batch of size (1000, 1000)\n",
      "316000,Processing batch of size (1000, 1000)\n",
      "317000,Processing batch of size (1000, 1000)\n",
      "318000,Processing batch of size (1000, 1000)\n",
      "319000,Processing batch of size (1000, 1000)\n",
      "320000,Processing batch of size (1000, 1000)\n",
      "321000,Processing batch of size (1000, 1000)\n",
      "322000,Processing batch of size (1000, 1000)\n",
      "323000,Processing batch of size (1000, 1000)\n",
      "324000,Processing batch of size (1000, 1000)\n",
      "325000,Processing batch of size (1000, 1000)\n",
      "326000,Processing batch of size (1000, 1000)\n",
      "327000,Processing batch of size (1000, 1000)\n",
      "328000,Processing batch of size (1000, 1000)\n",
      "329000,Processing batch of size (1000, 1000)\n",
      "330000,Processing batch of size (1000, 1000)\n",
      "331000,Processing batch of size (1000, 1000)\n",
      "332000,Processing batch of size (1000, 1000)\n",
      "333000,Processing batch of size (1000, 1000)\n",
      "334000,Processing batch of size (1000, 1000)\n",
      "335000,Processing batch of size (1000, 1000)\n",
      "336000,Processing batch of size (1000, 1000)\n",
      "337000,Processing batch of size (1000, 1000)\n",
      "338000,Processing batch of size (1000, 1000)\n",
      "339000,Processing batch of size (1000, 1000)\n",
      "340000,Processing batch of size (1000, 1000)\n",
      "341000,Processing batch of size (1000, 1000)\n",
      "342000,Processing batch of size (1000, 1000)\n",
      "343000,Processing batch of size (1000, 1000)\n",
      "344000,Processing batch of size (1000, 1000)\n",
      "345000,Processing batch of size (1000, 1000)\n",
      "346000,Processing batch of size (1000, 1000)\n",
      "347000,Processing batch of size (1000, 1000)\n",
      "348000,Processing batch of size (1000, 1000)\n",
      "349000,Processing batch of size (1000, 1000)\n",
      "350000,Processing batch of size (1000, 1000)\n",
      "351000,Processing batch of size (1000, 1000)\n",
      "352000,Processing batch of size (1000, 1000)\n",
      "353000,Processing batch of size (1000, 1000)\n",
      "354000,Processing batch of size (1000, 1000)\n",
      "355000,Processing batch of size (1000, 1000)\n",
      "356000,Processing batch of size (1000, 1000)\n",
      "357000,Processing batch of size (1000, 1000)\n",
      "358000,Processing batch of size (1000, 1000)\n",
      "359000,Processing batch of size (1000, 1000)\n",
      "360000,Processing batch of size (1000, 1000)\n",
      "361000,Processing batch of size (1000, 1000)\n",
      "362000,Processing batch of size (1000, 1000)\n",
      "363000,Processing batch of size (1000, 1000)\n",
      "364000,Processing batch of size (1000, 1000)\n",
      "365000,Processing batch of size (1000, 1000)\n",
      "366000,Processing batch of size (1000, 1000)\n",
      "367000,Processing batch of size (1000, 1000)\n",
      "368000,Processing batch of size (1000, 1000)\n",
      "369000,Processing batch of size (1000, 1000)\n",
      "370000,Processing batch of size (1000, 1000)\n",
      "371000,Processing batch of size (1000, 1000)\n",
      "372000,Processing batch of size (1000, 1000)\n",
      "373000,Processing batch of size (1000, 1000)\n",
      "374000,Processing batch of size (1000, 1000)\n",
      "375000,Processing batch of size (1000, 1000)\n",
      "376000,Processing batch of size (1000, 1000)\n",
      "377000,Processing batch of size (1000, 1000)\n",
      "378000,Processing batch of size (1000, 1000)\n",
      "379000,Processing batch of size (1000, 1000)\n",
      "380000,Processing batch of size (1000, 1000)\n",
      "381000,Processing batch of size (1000, 1000)\n",
      "382000,Processing batch of size (1000, 1000)\n",
      "383000,Processing batch of size (1000, 1000)\n",
      "384000,Processing batch of size (1000, 1000)\n",
      "385000,Processing batch of size (1000, 1000)\n",
      "386000,Processing batch of size (1000, 1000)\n",
      "387000,Processing batch of size (1000, 1000)\n",
      "388000,Processing batch of size (1000, 1000)\n",
      "389000,Processing batch of size (1000, 1000)\n",
      "390000,Processing batch of size (1000, 1000)\n",
      "391000,Processing batch of size (1000, 1000)\n",
      "392000,Processing batch of size (1000, 1000)\n",
      "393000,Processing batch of size (1000, 1000)\n",
      "394000,Processing batch of size (1000, 1000)\n",
      "395000,Processing batch of size (1000, 1000)\n",
      "396000,Processing batch of size (1000, 1000)\n",
      "397000,Processing batch of size (1000, 1000)\n",
      "398000,Processing batch of size (1000, 1000)\n",
      "399000,Processing batch of size (1000, 1000)\n",
      "400000,Processing batch of size (1000, 1000)\n",
      "401000,Processing batch of size (1000, 1000)\n",
      "402000,Processing batch of size (1000, 1000)\n",
      "403000,Processing batch of size (1000, 1000)\n",
      "404000,Processing batch of size (1000, 1000)\n",
      "405000,Processing batch of size (1000, 1000)\n",
      "406000,Processing batch of size (1000, 1000)\n",
      "407000,Processing batch of size (1000, 1000)\n",
      "408000,Processing batch of size (1000, 1000)\n",
      "409000,Processing batch of size (1000, 1000)\n",
      "410000,Processing batch of size (1000, 1000)\n",
      "411000,Processing batch of size (1000, 1000)\n",
      "412000,Processing batch of size (1000, 1000)\n",
      "413000,Processing batch of size (1000, 1000)\n",
      "414000,Processing batch of size (1000, 1000)\n",
      "415000,Processing batch of size (1000, 1000)\n",
      "416000,Processing batch of size (1000, 1000)\n",
      "417000,Processing batch of size (1000, 1000)\n",
      "418000,Processing batch of size (1000, 1000)\n",
      "419000,Processing batch of size (1000, 1000)\n",
      "420000,Processing batch of size (1000, 1000)\n",
      "421000,Processing batch of size (1000, 1000)\n",
      "422000,Processing batch of size (1000, 1000)\n",
      "423000,Processing batch of size (1000, 1000)\n",
      "424000,Processing batch of size (1000, 1000)\n",
      "425000,Processing batch of size (1000, 1000)\n",
      "426000,Processing batch of size (1000, 1000)\n",
      "427000,Processing batch of size (1000, 1000)\n",
      "428000,Processing batch of size (1000, 1000)\n",
      "429000,Processing batch of size (1000, 1000)\n",
      "430000,Processing batch of size (1000, 1000)\n",
      "431000,Processing batch of size (1000, 1000)\n",
      "432000,Processing batch of size (1000, 1000)\n",
      "433000,Processing batch of size (1000, 1000)\n",
      "434000,Processing batch of size (1000, 1000)\n",
      "435000,Processing batch of size (1000, 1000)\n",
      "436000,Processing batch of size (1000, 1000)\n",
      "437000,Processing batch of size (1000, 1000)\n",
      "438000,Processing batch of size (1000, 1000)\n",
      "439000,Processing batch of size (1000, 1000)\n",
      "440000,Processing batch of size (1000, 1000)\n",
      "441000,Processing batch of size (1000, 1000)\n",
      "442000,Processing batch of size (1000, 1000)\n",
      "443000,Processing batch of size (1000, 1000)\n",
      "444000,Processing batch of size (1000, 1000)\n",
      "445000,Processing batch of size (1000, 1000)\n",
      "446000,Processing batch of size (1000, 1000)\n",
      "447000,Processing batch of size (1000, 1000)\n",
      "448000,Processing batch of size (1000, 1000)\n",
      "449000,Processing batch of size (1000, 1000)\n",
      "450000,Processing batch of size (1000, 1000)\n",
      "451000,Processing batch of size (1000, 1000)\n",
      "452000,Processing batch of size (1000, 1000)\n",
      "453000,Processing batch of size (1000, 1000)\n",
      "454000,Processing batch of size (1000, 1000)\n",
      "455000,Processing batch of size (1000, 1000)\n",
      "456000,Processing batch of size (1000, 1000)\n",
      "457000,Processing batch of size (1000, 1000)\n",
      "458000,Processing batch of size (1000, 1000)\n",
      "459000,Processing batch of size (1000, 1000)\n",
      "460000,Processing batch of size (1000, 1000)\n",
      "461000,Processing batch of size (1000, 1000)\n",
      "462000,Processing batch of size (1000, 1000)\n",
      "463000,Processing batch of size (1000, 1000)\n",
      "464000,Processing batch of size (1000, 1000)\n",
      "465000,Processing batch of size (1000, 1000)\n",
      "466000,Processing batch of size (1000, 1000)\n",
      "467000,Processing batch of size (1000, 1000)\n",
      "468000,Processing batch of size (1000, 1000)\n",
      "469000,Processing batch of size (1000, 1000)\n",
      "470000,Processing batch of size (1000, 1000)\n",
      "471000,Processing batch of size (1000, 1000)\n",
      "472000,Processing batch of size (1000, 1000)\n",
      "473000,Processing batch of size (1000, 1000)\n",
      "474000,Processing batch of size (1000, 1000)\n",
      "475000,Processing batch of size (1000, 1000)\n",
      "476000,Processing batch of size (1000, 1000)\n",
      "477000,Processing batch of size (1000, 1000)\n",
      "478000,Processing batch of size (1000, 1000)\n",
      "479000,Processing batch of size (1000, 1000)\n",
      "480000,Processing batch of size (1000, 1000)\n",
      "481000,Processing batch of size (1000, 1000)\n",
      "482000,Processing batch of size (1000, 1000)\n",
      "483000,Processing batch of size (1000, 1000)\n",
      "484000,Processing batch of size (1000, 1000)\n",
      "485000,Processing batch of size (1000, 1000)\n",
      "486000,Processing batch of size (1000, 1000)\n",
      "487000,Processing batch of size (1000, 1000)\n",
      "488000,Processing batch of size (1000, 1000)\n",
      "489000,Processing batch of size (1000, 1000)\n",
      "490000,Processing batch of size (1000, 1000)\n",
      "491000,Processing batch of size (1000, 1000)\n",
      "492000,Processing batch of size (1000, 1000)\n",
      "493000,Processing batch of size (1000, 1000)\n",
      "494000,Processing batch of size (1000, 1000)\n",
      "495000,Processing batch of size (1000, 1000)\n",
      "496000,Processing batch of size (1000, 1000)\n",
      "497000,Processing batch of size (1000, 1000)\n",
      "498000,Processing batch of size (1000, 1000)\n",
      "499000,Processing batch of size (1000, 1000)\n",
      "500000,Processing batch of size (1000, 1000)\n",
      "501000,Processing batch of size (1000, 1000)\n",
      "502000,Processing batch of size (1000, 1000)\n",
      "503000,Processing batch of size (1000, 1000)\n",
      "504000,Processing batch of size (1000, 1000)\n",
      "505000,Processing batch of size (1000, 1000)\n",
      "506000,Processing batch of size (1000, 1000)\n",
      "507000,Processing batch of size (1000, 1000)\n",
      "508000,Processing batch of size (1000, 1000)\n",
      "509000,Processing batch of size (1000, 1000)\n",
      "510000,Processing batch of size (1000, 1000)\n",
      "511000,Processing batch of size (1000, 1000)\n",
      "512000,Processing batch of size (1000, 1000)\n",
      "513000,Processing batch of size (1000, 1000)\n",
      "514000,Processing batch of size (1000, 1000)\n",
      "515000,Processing batch of size (1000, 1000)\n",
      "516000,Processing batch of size (1000, 1000)\n",
      "517000,Processing batch of size (1000, 1000)\n",
      "518000,Processing batch of size (1000, 1000)\n",
      "519000,Processing batch of size (1000, 1000)\n",
      "520000,Processing batch of size (1000, 1000)\n",
      "521000,Processing batch of size (1000, 1000)\n",
      "522000,Processing batch of size (1000, 1000)\n",
      "523000,Processing batch of size (1000, 1000)\n",
      "524000,Processing batch of size (1000, 1000)\n",
      "525000,Processing batch of size (1000, 1000)\n",
      "526000,Processing batch of size (1000, 1000)\n",
      "527000,Processing batch of size (1000, 1000)\n",
      "528000,Processing batch of size (1000, 1000)\n",
      "529000,Processing batch of size (1000, 1000)\n",
      "530000,Processing batch of size (1000, 1000)\n",
      "531000,Processing batch of size (1000, 1000)\n",
      "532000,Processing batch of size (1000, 1000)\n",
      "533000,Processing batch of size (1000, 1000)\n",
      "534000,Processing batch of size (1000, 1000)\n",
      "535000,Processing batch of size (1000, 1000)\n",
      "536000,Processing batch of size (1000, 1000)\n",
      "537000,Processing batch of size (1000, 1000)\n",
      "538000,Processing batch of size (1000, 1000)\n",
      "539000,Processing batch of size (1000, 1000)\n",
      "540000,Processing batch of size (1000, 1000)\n",
      "541000,Processing batch of size (1000, 1000)\n",
      "542000,Processing batch of size (1000, 1000)\n",
      "543000,Processing batch of size (1000, 1000)\n",
      "544000,Processing batch of size (1000, 1000)\n",
      "545000,Processing batch of size (1000, 1000)\n",
      "546000,Processing batch of size (1000, 1000)\n",
      "547000,Processing batch of size (1000, 1000)\n",
      "548000,Processing batch of size (1000, 1000)\n",
      "549000,Processing batch of size (1000, 1000)\n",
      "550000,Processing batch of size (1000, 1000)\n",
      "551000,Processing batch of size (1000, 1000)\n",
      "552000,Processing batch of size (1000, 1000)\n",
      "553000,Processing batch of size (1000, 1000)\n",
      "554000,Processing batch of size (1000, 1000)\n",
      "555000,Processing batch of size (1000, 1000)\n",
      "556000,Processing batch of size (1000, 1000)\n",
      "557000,Processing batch of size (1000, 1000)\n",
      "558000,Processing batch of size (1000, 1000)\n",
      "559000,Processing batch of size (1000, 1000)\n",
      "560000,Processing batch of size (1000, 1000)\n",
      "561000,Processing batch of size (1000, 1000)\n",
      "562000,Processing batch of size (1000, 1000)\n",
      "563000,Processing batch of size (1000, 1000)\n",
      "564000,Processing batch of size (1000, 1000)\n",
      "565000,Processing batch of size (1000, 1000)\n",
      "566000,Processing batch of size (1000, 1000)\n",
      "567000,Processing batch of size (1000, 1000)\n",
      "568000,Processing batch of size (1000, 1000)\n",
      "569000,Processing batch of size (1000, 1000)\n",
      "570000,Processing batch of size (1000, 1000)\n",
      "571000,Processing batch of size (1000, 1000)\n",
      "572000,Processing batch of size (1000, 1000)\n",
      "573000,Processing batch of size (1000, 1000)\n",
      "574000,Processing batch of size (1000, 1000)\n",
      "575000,Processing batch of size (1000, 1000)\n",
      "576000,Processing batch of size (1000, 1000)\n",
      "577000,Processing batch of size (1000, 1000)\n",
      "578000,Processing batch of size (1000, 1000)\n",
      "579000,Processing batch of size (1000, 1000)\n",
      "580000,Processing batch of size (1000, 1000)\n",
      "581000,Processing batch of size (1000, 1000)\n",
      "582000,Processing batch of size (1000, 1000)\n",
      "583000,Processing batch of size (1000, 1000)\n",
      "584000,Processing batch of size (1000, 1000)\n",
      "585000,Processing batch of size (1000, 1000)\n",
      "586000,Processing batch of size (1000, 1000)\n",
      "587000,Processing batch of size (1000, 1000)\n",
      "588000,Processing batch of size (1000, 1000)\n",
      "589000,Processing batch of size (1000, 1000)\n",
      "590000,Processing batch of size (1000, 1000)\n",
      "591000,Processing batch of size (1000, 1000)\n",
      "592000,Processing batch of size (1000, 1000)\n",
      "593000,Processing batch of size (1000, 1000)\n",
      "594000,Processing batch of size (1000, 1000)\n",
      "595000,Processing batch of size (1000, 1000)\n",
      "596000,Processing batch of size (1000, 1000)\n",
      "597000,Processing batch of size (1000, 1000)\n",
      "598000,Processing batch of size (1000, 1000)\n",
      "599000,Processing batch of size (1000, 1000)\n",
      "600000,Processing batch of size (1000, 1000)\n",
      "601000,Processing batch of size (1000, 1000)\n",
      "602000,Processing batch of size (1000, 1000)\n",
      "603000,Processing batch of size (1000, 1000)\n",
      "604000,Processing batch of size (1000, 1000)\n",
      "605000,Processing batch of size (1000, 1000)\n",
      "606000,Processing batch of size (1000, 1000)\n",
      "607000,Processing batch of size (1000, 1000)\n",
      "608000,Processing batch of size (1000, 1000)\n",
      "609000,Processing batch of size (1000, 1000)\n",
      "610000,Processing batch of size (1000, 1000)\n",
      "611000,Processing batch of size (1000, 1000)\n",
      "612000,Processing batch of size (1000, 1000)\n",
      "613000,Processing batch of size (1000, 1000)\n",
      "614000,Processing batch of size (1000, 1000)\n",
      "615000,Processing batch of size (1000, 1000)\n",
      "616000,Processing batch of size (1000, 1000)\n",
      "617000,Processing batch of size (1000, 1000)\n",
      "618000,Processing batch of size (1000, 1000)\n",
      "619000,Processing batch of size (1000, 1000)\n",
      "620000,Processing batch of size (1000, 1000)\n",
      "621000,Processing batch of size (1000, 1000)\n",
      "622000,Processing batch of size (1000, 1000)\n",
      "623000,Processing batch of size (1000, 1000)\n",
      "624000,Processing batch of size (1000, 1000)\n",
      "625000,Processing batch of size (1000, 1000)\n",
      "626000,Processing batch of size (1000, 1000)\n",
      "627000,Processing batch of size (1000, 1000)\n",
      "628000,Processing batch of size (1000, 1000)\n",
      "629000,Processing batch of size (1000, 1000)\n",
      "630000,Processing batch of size (1000, 1000)\n",
      "631000,Processing batch of size (1000, 1000)\n",
      "632000,Processing batch of size (1000, 1000)\n",
      "633000,Processing batch of size (1000, 1000)\n",
      "634000,Processing batch of size (1000, 1000)\n",
      "635000,Processing batch of size (1000, 1000)\n",
      "636000,Processing batch of size (1000, 1000)\n",
      "637000,Processing batch of size (1000, 1000)\n",
      "638000,Processing batch of size (1000, 1000)\n",
      "639000,Processing batch of size (1000, 1000)\n",
      "640000,Processing batch of size (1000, 1000)\n",
      "641000,Processing batch of size (1000, 1000)\n",
      "642000,Processing batch of size (1000, 1000)\n",
      "643000,Processing batch of size (1000, 1000)\n",
      "644000,Processing batch of size (1000, 1000)\n",
      "645000,Processing batch of size (1000, 1000)\n",
      "646000,Processing batch of size (1000, 1000)\n",
      "647000,Processing batch of size (1000, 1000)\n",
      "648000,Processing batch of size (1000, 1000)\n",
      "649000,Processing batch of size (1000, 1000)\n",
      "650000,Processing batch of size (1000, 1000)\n",
      "651000,Processing batch of size (1000, 1000)\n",
      "652000,Processing batch of size (1000, 1000)\n",
      "653000,Processing batch of size (1000, 1000)\n",
      "654000,Processing batch of size (1000, 1000)\n",
      "655000,Processing batch of size (1000, 1000)\n",
      "656000,Processing batch of size (1000, 1000)\n",
      "657000,Processing batch of size (1000, 1000)\n",
      "658000,Processing batch of size (1000, 1000)\n",
      "659000,Processing batch of size (1000, 1000)\n",
      "660000,Processing batch of size (1000, 1000)\n",
      "661000,Processing batch of size (1000, 1000)\n",
      "662000,Processing batch of size (1000, 1000)\n",
      "663000,Processing batch of size (1000, 1000)\n",
      "664000,Processing batch of size (1000, 1000)\n",
      "665000,Processing batch of size (1000, 1000)\n",
      "666000,Processing batch of size (1000, 1000)\n",
      "667000,Processing batch of size (1000, 1000)\n",
      "668000,Processing batch of size (1000, 1000)\n",
      "669000,Processing batch of size (1000, 1000)\n",
      "670000,Processing batch of size (1000, 1000)\n",
      "671000,Processing batch of size (1000, 1000)\n",
      "672000,Processing batch of size (1000, 1000)\n",
      "673000,Processing batch of size (1000, 1000)\n",
      "674000,Processing batch of size (1000, 1000)\n",
      "675000,Processing batch of size (1000, 1000)\n",
      "676000,Processing batch of size (1000, 1000)\n",
      "677000,Processing batch of size (1000, 1000)\n",
      "678000,Processing batch of size (1000, 1000)\n",
      "679000,Processing batch of size (1000, 1000)\n",
      "680000,Processing batch of size (1000, 1000)\n",
      "681000,Processing batch of size (1000, 1000)\n",
      "682000,Processing batch of size (1000, 1000)\n",
      "683000,Processing batch of size (1000, 1000)\n",
      "684000,Processing batch of size (1000, 1000)\n",
      "685000,Processing batch of size (1000, 1000)\n",
      "686000,Processing batch of size (1000, 1000)\n",
      "687000,Processing batch of size (1000, 1000)\n",
      "688000,Processing batch of size (1000, 1000)\n",
      "689000,Processing batch of size (1000, 1000)\n",
      "690000,Processing batch of size (1000, 1000)\n",
      "691000,Processing batch of size (1000, 1000)\n",
      "692000,Processing batch of size (1000, 1000)\n",
      "693000,Processing batch of size (1000, 1000)\n",
      "694000,Processing batch of size (1000, 1000)\n",
      "695000,Processing batch of size (1000, 1000)\n",
      "696000,Processing batch of size (1000, 1000)\n",
      "697000,Processing batch of size (1000, 1000)\n",
      "698000,Processing batch of size (1000, 1000)\n",
      "699000,Processing batch of size (1000, 1000)\n",
      "700000,Processing batch of size (1000, 1000)\n",
      "701000,Processing batch of size (1000, 1000)\n",
      "702000,Processing batch of size (1000, 1000)\n",
      "703000,Processing batch of size (1000, 1000)\n",
      "704000,Processing batch of size (1000, 1000)\n",
      "705000,Processing batch of size (1000, 1000)\n",
      "706000,Processing batch of size (1000, 1000)\n",
      "707000,Processing batch of size (1000, 1000)\n",
      "708000,Processing batch of size (1000, 1000)\n",
      "709000,Processing batch of size (1000, 1000)\n",
      "710000,Processing batch of size (1000, 1000)\n",
      "711000,Processing batch of size (1000, 1000)\n",
      "712000,Processing batch of size (1000, 1000)\n",
      "713000,Processing batch of size (1000, 1000)\n",
      "714000,Processing batch of size (1000, 1000)\n",
      "715000,Processing batch of size (1000, 1000)\n",
      "716000,Processing batch of size (1000, 1000)\n",
      "717000,Processing batch of size (1000, 1000)\n",
      "718000,Processing batch of size (1000, 1000)\n",
      "719000,Processing batch of size (1000, 1000)\n",
      "720000,Processing batch of size (1000, 1000)\n",
      "721000,Processing batch of size (1000, 1000)\n",
      "722000,Processing batch of size (1000, 1000)\n",
      "723000,Processing batch of size (1000, 1000)\n",
      "724000,Processing batch of size (1000, 1000)\n",
      "725000,Processing batch of size (1000, 1000)\n",
      "726000,Processing batch of size (1000, 1000)\n",
      "727000,Processing batch of size (1000, 1000)\n",
      "728000,Processing batch of size (1000, 1000)\n",
      "729000,Processing batch of size (1000, 1000)\n",
      "730000,Processing batch of size (1000, 1000)\n",
      "731000,Processing batch of size (1000, 1000)\n",
      "732000,Processing batch of size (1000, 1000)\n",
      "733000,Processing batch of size (1000, 1000)\n",
      "734000,Processing batch of size (1000, 1000)\n",
      "735000,Processing batch of size (1000, 1000)\n",
      "736000,Processing batch of size (1000, 1000)\n",
      "737000,Processing batch of size (1000, 1000)\n",
      "738000,Processing batch of size (1000, 1000)\n",
      "739000,Processing batch of size (1000, 1000)\n",
      "740000,Processing batch of size (1000, 1000)\n",
      "741000,Processing batch of size (1000, 1000)\n",
      "742000,Processing batch of size (1000, 1000)\n",
      "743000,Processing batch of size (1000, 1000)\n",
      "744000,Processing batch of size (1000, 1000)\n",
      "745000,Processing batch of size (1000, 1000)\n",
      "746000,Processing batch of size (1000, 1000)\n",
      "747000,Processing batch of size (1000, 1000)\n",
      "748000,Processing batch of size (1000, 1000)\n",
      "749000,Processing batch of size (1000, 1000)\n",
      "750000,Processing batch of size (1000, 1000)\n",
      "751000,Processing batch of size (1000, 1000)\n",
      "752000,Processing batch of size (1000, 1000)\n",
      "753000,Processing batch of size (1000, 1000)\n",
      "754000,Processing batch of size (1000, 1000)\n",
      "755000,Processing batch of size (1000, 1000)\n",
      "756000,Processing batch of size (1000, 1000)\n",
      "757000,Processing batch of size (1000, 1000)\n",
      "758000,Processing batch of size (1000, 1000)\n",
      "759000,Processing batch of size (1000, 1000)\n",
      "760000,Processing batch of size (1000, 1000)\n",
      "761000,Processing batch of size (1000, 1000)\n",
      "762000,Processing batch of size (1000, 1000)\n",
      "763000,Processing batch of size (1000, 1000)\n",
      "764000,Processing batch of size (1000, 1000)\n",
      "765000,Processing batch of size (1000, 1000)\n",
      "766000,Processing batch of size (1000, 1000)\n",
      "767000,Processing batch of size (1000, 1000)\n",
      "768000,Processing batch of size (1000, 1000)\n",
      "769000,Processing batch of size (1000, 1000)\n",
      "770000,Processing batch of size (1000, 1000)\n",
      "771000,Processing batch of size (1000, 1000)\n",
      "772000,Processing batch of size (1000, 1000)\n",
      "773000,Processing batch of size (1000, 1000)\n",
      "774000,Processing batch of size (1000, 1000)\n",
      "775000,Processing batch of size (1000, 1000)\n",
      "776000,Processing batch of size (1000, 1000)\n",
      "777000,Processing batch of size (1000, 1000)\n",
      "778000,Processing batch of size (1000, 1000)\n",
      "779000,Processing batch of size (1000, 1000)\n",
      "780000,Processing batch of size (1000, 1000)\n",
      "781000,Processing batch of size (1000, 1000)\n",
      "782000,Processing batch of size (1000, 1000)\n",
      "783000,Processing batch of size (1000, 1000)\n",
      "784000,Processing batch of size (1000, 1000)\n",
      "785000,Processing batch of size (1000, 1000)\n",
      "786000,Processing batch of size (1000, 1000)\n",
      "787000,Processing batch of size (1000, 1000)\n",
      "788000,Processing batch of size (1000, 1000)\n",
      "789000,Processing batch of size (1000, 1000)\n",
      "790000,Processing batch of size (1000, 1000)\n",
      "791000,Processing batch of size (1000, 1000)\n",
      "792000,Processing batch of size (1000, 1000)\n",
      "793000,Processing batch of size (1000, 1000)\n",
      "794000,Processing batch of size (1000, 1000)\n",
      "795000,Processing batch of size (1000, 1000)\n",
      "796000,Processing batch of size (1000, 1000)\n",
      "797000,Processing batch of size (1000, 1000)\n",
      "798000,Processing batch of size (1000, 1000)\n",
      "799000,Processing batch of size (1000, 1000)\n",
      "800000,Processing batch of size (1000, 1000)\n",
      "801000,Processing batch of size (1000, 1000)\n",
      "802000,Processing batch of size (1000, 1000)\n",
      "803000,Processing batch of size (1000, 1000)\n",
      "804000,Processing batch of size (1000, 1000)\n",
      "805000,Processing batch of size (1000, 1000)\n",
      "806000,Processing batch of size (1000, 1000)\n",
      "807000,Processing batch of size (1000, 1000)\n",
      "808000,Processing batch of size (1000, 1000)\n",
      "809000,Processing batch of size (1000, 1000)\n",
      "810000,Processing batch of size (1000, 1000)\n",
      "811000,Processing batch of size (1000, 1000)\n",
      "812000,Processing batch of size (1000, 1000)\n",
      "813000,Processing batch of size (1000, 1000)\n",
      "814000,Processing batch of size (1000, 1000)\n",
      "815000,Processing batch of size (1000, 1000)\n",
      "816000,Processing batch of size (1000, 1000)\n",
      "817000,Processing batch of size (1000, 1000)\n",
      "818000,Processing batch of size (1000, 1000)\n",
      "819000,Processing batch of size (1000, 1000)\n",
      "820000,Processing batch of size (1000, 1000)\n",
      "821000,Processing batch of size (1000, 1000)\n",
      "822000,Processing batch of size (1000, 1000)\n",
      "823000,Processing batch of size (1000, 1000)\n",
      "824000,Processing batch of size (1000, 1000)\n",
      "825000,Processing batch of size (1000, 1000)\n",
      "826000,Processing batch of size (1000, 1000)\n",
      "827000,Processing batch of size (1000, 1000)\n",
      "828000,Processing batch of size (1000, 1000)\n",
      "829000,Processing batch of size (1000, 1000)\n",
      "830000,Processing batch of size (1000, 1000)\n",
      "831000,Processing batch of size (1000, 1000)\n",
      "832000,Processing batch of size (1000, 1000)\n",
      "833000,Processing batch of size (1000, 1000)\n",
      "834000,Processing batch of size (1000, 1000)\n",
      "835000,Processing batch of size (1000, 1000)\n",
      "836000,Processing batch of size (1000, 1000)\n",
      "837000,Processing batch of size (1000, 1000)\n",
      "838000,Processing batch of size (1000, 1000)\n",
      "839000,Processing batch of size (1000, 1000)\n",
      "840000,Processing batch of size (1000, 1000)\n",
      "841000,Processing batch of size (1000, 1000)\n",
      "842000,Processing batch of size (1000, 1000)\n",
      "843000,Processing batch of size (1000, 1000)\n",
      "844000,Processing batch of size (1000, 1000)\n",
      "845000,Processing batch of size (1000, 1000)\n",
      "846000,Processing batch of size (1000, 1000)\n",
      "847000,Processing batch of size (1000, 1000)\n",
      "848000,Processing batch of size (1000, 1000)\n",
      "849000,Processing batch of size (1000, 1000)\n",
      "850000,Processing batch of size (1000, 1000)\n",
      "851000,Processing batch of size (1000, 1000)\n",
      "852000,Processing batch of size (1000, 1000)\n",
      "853000,Processing batch of size (1000, 1000)\n",
      "854000,Processing batch of size (1000, 1000)\n",
      "855000,Processing batch of size (1000, 1000)\n",
      "856000,Processing batch of size (1000, 1000)\n",
      "857000,Processing batch of size (1000, 1000)\n",
      "858000,Processing batch of size (1000, 1000)\n",
      "859000,Processing batch of size (1000, 1000)\n",
      "860000,Processing batch of size (1000, 1000)\n",
      "861000,Processing batch of size (1000, 1000)\n",
      "862000,Processing batch of size (1000, 1000)\n",
      "863000,Processing batch of size (1000, 1000)\n",
      "864000,Processing batch of size (1000, 1000)\n",
      "865000,Processing batch of size (1000, 1000)\n",
      "866000,Processing batch of size (1000, 1000)\n",
      "867000,Processing batch of size (1000, 1000)\n",
      "868000,Processing batch of size (1000, 1000)\n",
      "869000,Processing batch of size (1000, 1000)\n",
      "870000,Processing batch of size (1000, 1000)\n",
      "871000,Processing batch of size (1000, 1000)\n",
      "872000,Processing batch of size (1000, 1000)\n",
      "873000,Processing batch of size (1000, 1000)\n",
      "874000,Processing batch of size (1000, 1000)\n",
      "875000,Processing batch of size (1000, 1000)\n",
      "876000,Processing batch of size (1000, 1000)\n",
      "877000,Processing batch of size (1000, 1000)\n",
      "878000,Processing batch of size (1000, 1000)\n",
      "879000,Processing batch of size (1000, 1000)\n",
      "880000,Processing batch of size (1000, 1000)\n",
      "881000,Processing batch of size (1000, 1000)\n",
      "882000,Processing batch of size (1000, 1000)\n",
      "883000,Processing batch of size (1000, 1000)\n",
      "884000,Processing batch of size (1000, 1000)\n",
      "885000,Processing batch of size (1000, 1000)\n",
      "886000,Processing batch of size (1000, 1000)\n",
      "887000,Processing batch of size (1000, 1000)\n",
      "888000,Processing batch of size (1000, 1000)\n",
      "889000,Processing batch of size (1000, 1000)\n",
      "890000,Processing batch of size (1000, 1000)\n",
      "891000,Processing batch of size (1000, 1000)\n",
      "892000,Processing batch of size (1000, 1000)\n",
      "893000,Processing batch of size (1000, 1000)\n",
      "894000,Processing batch of size (1000, 1000)\n",
      "895000,Processing batch of size (1000, 1000)\n",
      "896000,Processing batch of size (1000, 1000)\n",
      "897000,Processing batch of size (1000, 1000)\n",
      "898000,Processing batch of size (1000, 1000)\n",
      "899000,Processing batch of size (1000, 1000)\n",
      "900000,Processing batch of size (1000, 1000)\n",
      "901000,Processing batch of size (1000, 1000)\n",
      "902000,Processing batch of size (1000, 1000)\n",
      "903000,Processing batch of size (1000, 1000)\n",
      "904000,Processing batch of size (1000, 1000)\n",
      "905000,Processing batch of size (1000, 1000)\n",
      "906000,Processing batch of size (1000, 1000)\n",
      "907000,Processing batch of size (1000, 1000)\n",
      "908000,Processing batch of size (1000, 1000)\n",
      "909000,Processing batch of size (1000, 1000)\n",
      "910000,Processing batch of size (1000, 1000)\n",
      "911000,Processing batch of size (1000, 1000)\n",
      "912000,Processing batch of size (1000, 1000)\n",
      "913000,Processing batch of size (1000, 1000)\n",
      "914000,Processing batch of size (1000, 1000)\n",
      "915000,Processing batch of size (1000, 1000)\n",
      "916000,Processing batch of size (1000, 1000)\n",
      "917000,Processing batch of size (1000, 1000)\n",
      "918000,Processing batch of size (1000, 1000)\n",
      "919000,Processing batch of size (1000, 1000)\n",
      "920000,Processing batch of size (1000, 1000)\n",
      "921000,Processing batch of size (1000, 1000)\n",
      "922000,Processing batch of size (1000, 1000)\n",
      "923000,Processing batch of size (1000, 1000)\n",
      "924000,Processing batch of size (1000, 1000)\n",
      "925000,Processing batch of size (1000, 1000)\n",
      "926000,Processing batch of size (1000, 1000)\n",
      "927000,Processing batch of size (1000, 1000)\n",
      "928000,Processing batch of size (1000, 1000)\n",
      "929000,Processing batch of size (1000, 1000)\n",
      "930000,Processing batch of size (1000, 1000)\n",
      "931000,Processing batch of size (1000, 1000)\n",
      "932000,Processing batch of size (1000, 1000)\n",
      "933000,Processing batch of size (1000, 1000)\n",
      "934000,Processing batch of size (1000, 1000)\n",
      "935000,Processing batch of size (1000, 1000)\n",
      "936000,Processing batch of size (1000, 1000)\n",
      "937000,Processing batch of size (1000, 1000)\n",
      "938000,Processing batch of size (1000, 1000)\n",
      "939000,Processing batch of size (1000, 1000)\n",
      "940000,Processing batch of size (1000, 1000)\n",
      "941000,Processing batch of size (1000, 1000)\n",
      "942000,Processing batch of size (1000, 1000)\n",
      "943000,Processing batch of size (1000, 1000)\n",
      "944000,Processing batch of size (1000, 1000)\n",
      "945000,Processing batch of size (1000, 1000)\n",
      "946000,Processing batch of size (1000, 1000)\n",
      "947000,Processing batch of size (1000, 1000)\n",
      "948000,Processing batch of size (1000, 1000)\n",
      "949000,Processing batch of size (1000, 1000)\n",
      "950000,Processing batch of size (1000, 1000)\n",
      "951000,Processing batch of size (1000, 1000)\n",
      "952000,Processing batch of size (1000, 1000)\n",
      "953000,Processing batch of size (1000, 1000)\n",
      "954000,Processing batch of size (1000, 1000)\n",
      "955000,Processing batch of size (1000, 1000)\n",
      "956000,Processing batch of size (1000, 1000)\n",
      "957000,Processing batch of size (1000, 1000)\n",
      "958000,Processing batch of size (1000, 1000)\n",
      "959000,Processing batch of size (1000, 1000)\n",
      "960000,Processing batch of size (1000, 1000)\n",
      "961000,Processing batch of size (1000, 1000)\n",
      "962000,Processing batch of size (1000, 1000)\n",
      "963000,Processing batch of size (1000, 1000)\n",
      "964000,Processing batch of size (1000, 1000)\n",
      "965000,Processing batch of size (1000, 1000)\n",
      "966000,Processing batch of size (1000, 1000)\n",
      "967000,Processing batch of size (1000, 1000)\n",
      "968000,Processing batch of size (1000, 1000)\n",
      "969000,Processing batch of size (1000, 1000)\n",
      "970000,Processing batch of size (1000, 1000)\n",
      "971000,Processing batch of size (1000, 1000)\n",
      "972000,Processing batch of size (1000, 1000)\n",
      "973000,Processing batch of size (1000, 1000)\n",
      "974000,Processing batch of size (1000, 1000)\n",
      "975000,Processing batch of size (1000, 1000)\n",
      "976000,Processing batch of size (1000, 1000)\n",
      "977000,Processing batch of size (1000, 1000)\n",
      "978000,Processing batch of size (1000, 1000)\n",
      "979000,Processing batch of size (1000, 1000)\n",
      "980000,Processing batch of size (1000, 1000)\n",
      "981000,Processing batch of size (1000, 1000)\n",
      "982000,Processing batch of size (1000, 1000)\n",
      "983000,Processing batch of size (1000, 1000)\n",
      "984000,Processing batch of size (1000, 1000)\n",
      "985000,Processing batch of size (1000, 1000)\n",
      "986000,Processing batch of size (1000, 1000)\n",
      "987000,Processing batch of size (1000, 1000)\n",
      "988000,Processing batch of size (1000, 1000)\n",
      "989000,Processing batch of size (1000, 1000)\n",
      "990000,Processing batch of size (1000, 1000)\n",
      "991000,Processing batch of size (1000, 1000)\n",
      "992000,Processing batch of size (1000, 1000)\n",
      "993000,Processing batch of size (1000, 1000)\n",
      "994000,Processing batch of size (1000, 1000)\n",
      "995000,Processing batch of size (1000, 1000)\n",
      "996000,Processing batch of size (1000, 1000)\n",
      "997000,Processing batch of size (1000, 1000)\n",
      "998000,Processing batch of size (1000, 1000)\n",
      "999000,Processing batch of size (1000, 1000)\n",
      "1000000,Processing batch of size (1000, 1000)\n",
      "1001000,Processing batch of size (1000, 1000)\n",
      "1002000,Processing batch of size (1000, 1000)\n",
      "1003000,Processing batch of size (1000, 1000)\n",
      "1004000,Processing batch of size (1000, 1000)\n",
      "1005000,Processing batch of size (1000, 1000)\n",
      "1006000,Processing batch of size (1000, 1000)\n",
      "1007000,Processing batch of size (1000, 1000)\n",
      "1008000,Processing batch of size (1000, 1000)\n",
      "1009000,Processing batch of size (1000, 1000)\n",
      "1010000,Processing batch of size (1000, 1000)\n",
      "1011000,Processing batch of size (1000, 1000)\n",
      "1012000,Processing batch of size (1000, 1000)\n",
      "1013000,Processing batch of size (1000, 1000)\n",
      "1014000,Processing batch of size (1000, 1000)\n",
      "1015000,Processing batch of size (1000, 1000)\n",
      "1016000,Processing batch of size (1000, 1000)\n",
      "1017000,Processing batch of size (1000, 1000)\n",
      "1018000,Processing batch of size (1000, 1000)\n",
      "1019000,Processing batch of size (1000, 1000)\n",
      "1020000,Processing batch of size (1000, 1000)\n",
      "1021000,Processing batch of size (1000, 1000)\n",
      "1022000,Processing batch of size (1000, 1000)\n",
      "1023000,Processing batch of size (1000, 1000)\n",
      "1024000,Processing batch of size (1000, 1000)\n",
      "1025000,Processing batch of size (1000, 1000)\n",
      "1026000,Processing batch of size (1000, 1000)\n",
      "1027000,Processing batch of size (1000, 1000)\n",
      "1028000,Processing batch of size (1000, 1000)\n",
      "1029000,Processing batch of size (1000, 1000)\n",
      "1030000,Processing batch of size (1000, 1000)\n",
      "1031000,Processing batch of size (1000, 1000)\n",
      "1032000,Processing batch of size (1000, 1000)\n",
      "1033000,Processing batch of size (1000, 1000)\n",
      "1034000,Processing batch of size (1000, 1000)\n",
      "1035000,Processing batch of size (1000, 1000)\n",
      "1036000,Processing batch of size (1000, 1000)\n",
      "1037000,Processing batch of size (1000, 1000)\n",
      "1038000,Processing batch of size (1000, 1000)\n",
      "1039000,Processing batch of size (1000, 1000)\n",
      "1040000,Processing batch of size (1000, 1000)\n",
      "1041000,Processing batch of size (1000, 1000)\n",
      "1042000,Processing batch of size (1000, 1000)\n",
      "1043000,Processing batch of size (1000, 1000)\n",
      "1044000,Processing batch of size (1000, 1000)\n",
      "1045000,Processing batch of size (1000, 1000)\n",
      "1046000,Processing batch of size (1000, 1000)\n",
      "1047000,Processing batch of size (1000, 1000)\n",
      "1048000,Processing batch of size (1000, 1000)\n",
      "1049000,Processing batch of size (1000, 1000)\n",
      "1050000,Processing batch of size (1000, 1000)\n",
      "1051000,Processing batch of size (1000, 1000)\n",
      "1052000,Processing batch of size (1000, 1000)\n",
      "1053000,Processing batch of size (1000, 1000)\n",
      "1054000,Processing batch of size (1000, 1000)\n",
      "1055000,Processing batch of size (1000, 1000)\n",
      "1056000,Processing batch of size (1000, 1000)\n",
      "1057000,Processing batch of size (1000, 1000)\n",
      "1058000,Processing batch of size (1000, 1000)\n",
      "1059000,Processing batch of size (1000, 1000)\n",
      "1060000,Processing batch of size (1000, 1000)\n",
      "1061000,Processing batch of size (1000, 1000)\n",
      "1062000,Processing batch of size (1000, 1000)\n",
      "1063000,Processing batch of size (1000, 1000)\n",
      "1064000,Processing batch of size (1000, 1000)\n",
      "1065000,Processing batch of size (1000, 1000)\n",
      "1066000,Processing batch of size (1000, 1000)\n",
      "1067000,Processing batch of size (1000, 1000)\n",
      "1068000,Processing batch of size (1000, 1000)\n",
      "1069000,Processing batch of size (1000, 1000)\n",
      "1070000,Processing batch of size (1000, 1000)\n",
      "1071000,Processing batch of size (1000, 1000)\n",
      "1072000,Processing batch of size (1000, 1000)\n",
      "1073000,Processing batch of size (1000, 1000)\n",
      "1074000,Processing batch of size (1000, 1000)\n",
      "1075000,Processing batch of size (1000, 1000)\n",
      "1076000,Processing batch of size (1000, 1000)\n",
      "1077000,Processing batch of size (1000, 1000)\n",
      "1078000,Processing batch of size (1000, 1000)\n",
      "1079000,Processing batch of size (1000, 1000)\n",
      "1080000,Processing batch of size (1000, 1000)\n",
      "1081000,Processing batch of size (1000, 1000)\n",
      "1082000,Processing batch of size (1000, 1000)\n",
      "1083000,Processing batch of size (1000, 1000)\n",
      "1084000,Processing batch of size (1000, 1000)\n",
      "1085000,Processing batch of size (1000, 1000)\n",
      "1086000,Processing batch of size (1000, 1000)\n",
      "1087000,Processing batch of size (1000, 1000)\n",
      "1088000,Processing batch of size (1000, 1000)\n",
      "1089000,Processing batch of size (1000, 1000)\n",
      "1090000,Processing batch of size (1000, 1000)\n",
      "1091000,Processing batch of size (1000, 1000)\n",
      "1092000,Processing batch of size (1000, 1000)\n",
      "1093000,Processing batch of size (1000, 1000)\n",
      "1094000,Processing batch of size (1000, 1000)\n",
      "1095000,Processing batch of size (1000, 1000)\n",
      "1096000,Processing batch of size (1000, 1000)\n",
      "1097000,Processing batch of size (1000, 1000)\n",
      "1098000,Processing batch of size (1000, 1000)\n",
      "1099000,Processing batch of size (1000, 1000)\n",
      "1100000,Processing batch of size (1000, 1000)\n",
      "1101000,Processing batch of size (1000, 1000)\n",
      "1102000,Processing batch of size (1000, 1000)\n",
      "1103000,Processing batch of size (1000, 1000)\n",
      "1104000,Processing batch of size (1000, 1000)\n",
      "1105000,Processing batch of size (1000, 1000)\n",
      "1106000,Processing batch of size (1000, 1000)\n",
      "1107000,Processing batch of size (1000, 1000)\n",
      "1108000,Processing batch of size (1000, 1000)\n",
      "1109000,Processing batch of size (1000, 1000)\n",
      "1110000,Processing batch of size (1000, 1000)\n",
      "1111000,Processing batch of size (1000, 1000)\n",
      "1112000,Processing batch of size (1000, 1000)\n",
      "1113000,Processing batch of size (1000, 1000)\n",
      "1114000,Processing batch of size (1000, 1000)\n",
      "1115000,Processing batch of size (1000, 1000)\n",
      "1116000,Processing batch of size (1000, 1000)\n",
      "1117000,Processing batch of size (1000, 1000)\n",
      "1118000,Processing batch of size (1000, 1000)\n",
      "1119000,Processing batch of size (1000, 1000)\n",
      "1120000,Processing batch of size (1000, 1000)\n",
      "1121000,Processing batch of size (1000, 1000)\n",
      "1122000,Processing batch of size (1000, 1000)\n",
      "1123000,Processing batch of size (1000, 1000)\n",
      "1124000,Processing batch of size (1000, 1000)\n",
      "1125000,Processing batch of size (1000, 1000)\n",
      "1126000,Processing batch of size (1000, 1000)\n",
      "1127000,Processing batch of size (1000, 1000)\n",
      "1128000,Processing batch of size (1000, 1000)\n",
      "1129000,Processing batch of size (1000, 1000)\n",
      "1130000,Processing batch of size (1000, 1000)\n",
      "1131000,Processing batch of size (1000, 1000)\n",
      "1132000,Processing batch of size (1000, 1000)\n",
      "1133000,Processing batch of size (1000, 1000)\n",
      "1134000,Processing batch of size (1000, 1000)\n",
      "1135000,Processing batch of size (1000, 1000)\n",
      "1136000,Processing batch of size (1000, 1000)\n",
      "1137000,Processing batch of size (1000, 1000)\n",
      "1138000,Processing batch of size (1000, 1000)\n",
      "1139000,Processing batch of size (1000, 1000)\n",
      "1140000,Processing batch of size (1000, 1000)\n",
      "1141000,Processing batch of size (1000, 1000)\n",
      "1142000,Processing batch of size (1000, 1000)\n",
      "1143000,Processing batch of size (1000, 1000)\n",
      "1144000,Processing batch of size (1000, 1000)\n",
      "1145000,Processing batch of size (1000, 1000)\n",
      "1146000,Processing batch of size (1000, 1000)\n",
      "1147000,Processing batch of size (1000, 1000)\n",
      "1148000,Processing batch of size (1000, 1000)\n",
      "1149000,Processing batch of size (1000, 1000)\n",
      "1150000,Processing batch of size (1000, 1000)\n",
      "1151000,Processing batch of size (1000, 1000)\n",
      "1152000,Processing batch of size (1000, 1000)\n",
      "1153000,Processing batch of size (1000, 1000)\n",
      "1154000,Processing batch of size (1000, 1000)\n",
      "1155000,Processing batch of size (1000, 1000)\n",
      "1156000,Processing batch of size (1000, 1000)\n",
      "1157000,Processing batch of size (1000, 1000)\n",
      "1158000,Processing batch of size (1000, 1000)\n",
      "1159000,Processing batch of size (1000, 1000)\n",
      "1160000,Processing batch of size (1000, 1000)\n",
      "1161000,Processing batch of size (1000, 1000)\n",
      "1162000,Processing batch of size (1000, 1000)\n",
      "1163000,Processing batch of size (1000, 1000)\n",
      "1164000,Processing batch of size (1000, 1000)\n",
      "1165000,Processing batch of size (1000, 1000)\n",
      "1166000,Processing batch of size (1000, 1000)\n",
      "1167000,Processing batch of size (1000, 1000)\n",
      "1168000,Processing batch of size (1000, 1000)\n",
      "1169000,Processing batch of size (1000, 1000)\n",
      "1170000,Processing batch of size (1000, 1000)\n",
      "1171000,Processing batch of size (1000, 1000)\n",
      "1172000,Processing batch of size (1000, 1000)\n",
      "1173000,Processing batch of size (1000, 1000)\n",
      "1174000,Processing batch of size (1000, 1000)\n",
      "1175000,Processing batch of size (1000, 1000)\n",
      "1176000,Processing batch of size (1000, 1000)\n",
      "1177000,Processing batch of size (1000, 1000)\n",
      "1178000,Processing batch of size (1000, 1000)\n",
      "1179000,Processing batch of size (1000, 1000)\n",
      "1180000,Processing batch of size (1000, 1000)\n",
      "1181000,Processing batch of size (1000, 1000)\n",
      "1182000,Processing batch of size (1000, 1000)\n",
      "1183000,Processing batch of size (1000, 1000)\n",
      "1184000,Processing batch of size (1000, 1000)\n",
      "1185000,Processing batch of size (1000, 1000)\n",
      "1186000,Processing batch of size (1000, 1000)\n",
      "1187000,Processing batch of size (1000, 1000)\n",
      "1188000,Processing batch of size (1000, 1000)\n",
      "1189000,Processing batch of size (1000, 1000)\n",
      "1190000,Processing batch of size (1000, 1000)\n",
      "1191000,Processing batch of size (1000, 1000)\n",
      "1192000,Processing batch of size (1000, 1000)\n",
      "1193000,Processing batch of size (1000, 1000)\n",
      "1194000,Processing batch of size (1000, 1000)\n",
      "1195000,Processing batch of size (1000, 1000)\n",
      "1196000,Processing batch of size (1000, 1000)\n",
      "1197000,Processing batch of size (1000, 1000)\n",
      "1198000,Processing batch of size (1000, 1000)\n",
      "1199000,Processing batch of size (1000, 1000)\n",
      "1200000,Processing batch of size (1000, 1000)\n",
      "1201000,Processing batch of size (1000, 1000)\n",
      "1202000,Processing batch of size (1000, 1000)\n",
      "1203000,Processing batch of size (1000, 1000)\n",
      "1204000,Processing batch of size (1000, 1000)\n",
      "1205000,Processing batch of size (1000, 1000)\n",
      "1206000,Processing batch of size (1000, 1000)\n",
      "1207000,Processing batch of size (1000, 1000)\n",
      "1208000,Processing batch of size (1000, 1000)\n",
      "1209000,Processing batch of size (1000, 1000)\n",
      "1210000,Processing batch of size (1000, 1000)\n",
      "1211000,Processing batch of size (1000, 1000)\n",
      "1212000,Processing batch of size (1000, 1000)\n",
      "1213000,Processing batch of size (1000, 1000)\n",
      "1214000,Processing batch of size (1000, 1000)\n",
      "1215000,Processing batch of size (1000, 1000)\n",
      "1216000,Processing batch of size (1000, 1000)\n",
      "1217000,Processing batch of size (1000, 1000)\n",
      "1218000,Processing batch of size (1000, 1000)\n",
      "1219000,Processing batch of size (1000, 1000)\n",
      "1220000,Processing batch of size (1000, 1000)\n",
      "1221000,Processing batch of size (1000, 1000)\n",
      "1222000,Processing batch of size (1000, 1000)\n",
      "1223000,Processing batch of size (1000, 1000)\n",
      "1224000,Processing batch of size (1000, 1000)\n",
      "1225000,Processing batch of size (1000, 1000)\n",
      "1226000,Processing batch of size (1000, 1000)\n",
      "1227000,Processing batch of size (1000, 1000)\n",
      "1228000,Processing batch of size (1000, 1000)\n",
      "1229000,Processing batch of size (1000, 1000)\n",
      "1230000,Processing batch of size (1000, 1000)\n",
      "1231000,Processing batch of size (1000, 1000)\n",
      "1232000,Processing batch of size (1000, 1000)\n",
      "1233000,Processing batch of size (1000, 1000)\n",
      "1234000,Processing batch of size (1000, 1000)\n",
      "1235000,Processing batch of size (1000, 1000)\n",
      "1236000,Processing batch of size (1000, 1000)\n",
      "1237000,Processing batch of size (1000, 1000)\n",
      "1238000,Processing batch of size (1000, 1000)\n",
      "1239000,Processing batch of size (1000, 1000)\n",
      "1240000,Processing batch of size (1000, 1000)\n",
      "1241000,Processing batch of size (1000, 1000)\n",
      "1242000,Processing batch of size (1000, 1000)\n",
      "1243000,Processing batch of size (1000, 1000)\n",
      "1244000,Processing batch of size (1000, 1000)\n",
      "1245000,Processing batch of size (1000, 1000)\n",
      "1246000,Processing batch of size (1000, 1000)\n",
      "1247000,Processing batch of size (1000, 1000)\n",
      "1248000,Processing batch of size (1000, 1000)\n",
      "1249000,Processing batch of size (1000, 1000)\n",
      "1250000,Processing batch of size (1000, 1000)\n",
      "1251000,Processing batch of size (1000, 1000)\n",
      "1252000,Processing batch of size (1000, 1000)\n",
      "1253000,Processing batch of size (1000, 1000)\n",
      "1254000,Processing batch of size (1000, 1000)\n",
      "1255000,Processing batch of size (1000, 1000)\n",
      "1256000,Processing batch of size (1000, 1000)\n",
      "1257000,Processing batch of size (1000, 1000)\n",
      "1258000,Processing batch of size (1000, 1000)\n",
      "1259000,Processing batch of size (1000, 1000)\n",
      "1260000,Processing batch of size (1000, 1000)\n",
      "1261000,Processing batch of size (1000, 1000)\n",
      "1262000,Processing batch of size (1000, 1000)\n",
      "1263000,Processing batch of size (1000, 1000)\n",
      "1264000,Processing batch of size (1000, 1000)\n",
      "1265000,Processing batch of size (1000, 1000)\n",
      "1266000,Processing batch of size (1000, 1000)\n",
      "1267000,Processing batch of size (1000, 1000)\n",
      "1268000,Processing batch of size (1000, 1000)\n",
      "1269000,Processing batch of size (1000, 1000)\n",
      "1270000,Processing batch of size (1000, 1000)\n",
      "1271000,Processing batch of size (1000, 1000)\n",
      "1272000,Processing batch of size (1000, 1000)\n",
      "1273000,Processing batch of size (1000, 1000)\n",
      "1274000,Processing batch of size (1000, 1000)\n",
      "1275000,Processing batch of size (1000, 1000)\n",
      "1276000,Processing batch of size (1000, 1000)\n",
      "1277000,Processing batch of size (1000, 1000)\n",
      "1278000,Processing batch of size (1000, 1000)\n",
      "1279000,Processing batch of size (1000, 1000)\n",
      "1280000,Processing batch of size (1000, 1000)\n",
      "1281000,Processing batch of size (1000, 1000)\n",
      "1282000,Processing batch of size (1000, 1000)\n",
      "1283000,Processing batch of size (1000, 1000)\n",
      "1284000,Processing batch of size (1000, 1000)\n",
      "1285000,Processing batch of size (1000, 1000)\n",
      "1286000,Processing batch of size (1000, 1000)\n",
      "1287000,Processing batch of size (1000, 1000)\n",
      "1288000,Processing batch of size (1000, 1000)\n",
      "1289000,Processing batch of size (1000, 1000)\n",
      "1290000,Processing batch of size (1000, 1000)\n",
      "1291000,Processing batch of size (1000, 1000)\n",
      "1292000,Processing batch of size (1000, 1000)\n",
      "1293000,Processing batch of size (1000, 1000)\n",
      "1294000,Processing batch of size (1000, 1000)\n",
      "1295000,Processing batch of size (1000, 1000)\n",
      "1296000,Processing batch of size (1000, 1000)\n",
      "1297000,Processing batch of size (1000, 1000)\n",
      "1298000,Processing batch of size (1000, 1000)\n",
      "1299000,Processing batch of size (1000, 1000)\n",
      "1300000,Processing batch of size (1000, 1000)\n",
      "1301000,Processing batch of size (1000, 1000)\n",
      "1302000,Processing batch of size (1000, 1000)\n",
      "1303000,Processing batch of size (1000, 1000)\n",
      "1304000,Processing batch of size (1000, 1000)\n",
      "1305000,Processing batch of size (1000, 1000)\n",
      "1306000,Processing batch of size (1000, 1000)\n",
      "1307000,Processing batch of size (1000, 1000)\n",
      "1308000,Processing batch of size (1000, 1000)\n",
      "1309000,Processing batch of size (1000, 1000)\n",
      "1310000,Processing batch of size (1000, 1000)\n",
      "1311000,Processing batch of size (1000, 1000)\n",
      "1312000,Processing batch of size (1000, 1000)\n",
      "1313000,Processing batch of size (1000, 1000)\n",
      "1314000,Processing batch of size (1000, 1000)\n",
      "1315000,Processing batch of size (1000, 1000)\n",
      "1316000,Processing batch of size (1000, 1000)\n",
      "1317000,Processing batch of size (1000, 1000)\n",
      "1318000,Processing batch of size (1000, 1000)\n",
      "1319000,Processing batch of size (1000, 1000)\n",
      "1320000,Processing batch of size (1000, 1000)\n",
      "1321000,Processing batch of size (1000, 1000)\n",
      "1322000,Processing batch of size (1000, 1000)\n",
      "1323000,Processing batch of size (1000, 1000)\n",
      "1324000,Processing batch of size (1000, 1000)\n",
      "1325000,Processing batch of size (1000, 1000)\n",
      "1326000,Processing batch of size (1000, 1000)\n",
      "1327000,Processing batch of size (1000, 1000)\n",
      "1328000,Processing batch of size (1000, 1000)\n",
      "1329000,Processing batch of size (1000, 1000)\n",
      "1330000,Processing batch of size (1000, 1000)\n",
      "1331000,Processing batch of size (1000, 1000)\n",
      "1332000,Processing batch of size (1000, 1000)\n",
      "1333000,Processing batch of size (1000, 1000)\n",
      "1334000,Processing batch of size (1000, 1000)\n",
      "1335000,Processing batch of size (1000, 1000)\n",
      "1336000,Processing batch of size (1000, 1000)\n",
      "1337000,Processing batch of size (1000, 1000)\n",
      "1338000,Processing batch of size (1000, 1000)\n",
      "1339000,Processing batch of size (1000, 1000)\n",
      "1340000,Processing batch of size (1000, 1000)\n",
      "1341000,Processing batch of size (1000, 1000)\n",
      "1342000,Processing batch of size (1000, 1000)\n",
      "1343000,Processing batch of size (1000, 1000)\n",
      "1344000,Processing batch of size (1000, 1000)\n",
      "1345000,Processing batch of size (1000, 1000)\n",
      "1346000,Processing batch of size (1000, 1000)\n",
      "1347000,Processing batch of size (1000, 1000)\n",
      "1348000,Processing batch of size (1000, 1000)\n",
      "1349000,Processing batch of size (1000, 1000)\n",
      "1350000,Processing batch of size (1000, 1000)\n",
      "1351000,Processing batch of size (1000, 1000)\n",
      "1352000,Processing batch of size (1000, 1000)\n",
      "1353000,Processing batch of size (1000, 1000)\n",
      "1354000,Processing batch of size (1000, 1000)\n",
      "1355000,Processing batch of size (1000, 1000)\n",
      "1356000,Processing batch of size (1000, 1000)\n",
      "1357000,Processing batch of size (1000, 1000)\n",
      "1358000,Processing batch of size (1000, 1000)\n",
      "1359000,Processing batch of size (1000, 1000)\n",
      "1360000,Processing batch of size (1000, 1000)\n",
      "1361000,Processing batch of size (1000, 1000)\n",
      "1362000,Processing batch of size (1000, 1000)\n",
      "1363000,Processing batch of size (1000, 1000)\n",
      "1364000,Processing batch of size (1000, 1000)\n",
      "1365000,Processing batch of size (1000, 1000)\n",
      "1366000,Processing batch of size (1000, 1000)\n",
      "1367000,Processing batch of size (1000, 1000)\n",
      "1368000,Processing batch of size (1000, 1000)\n",
      "1369000,Processing batch of size (1000, 1000)\n",
      "1370000,Processing batch of size (1000, 1000)\n",
      "1371000,Processing batch of size (1000, 1000)\n",
      "1372000,Processing batch of size (1000, 1000)\n",
      "1373000,Processing batch of size (1000, 1000)\n",
      "1374000,Processing batch of size (1000, 1000)\n",
      "1375000,Processing batch of size (1000, 1000)\n",
      "1376000,Processing batch of size (1000, 1000)\n",
      "1377000,Processing batch of size (1000, 1000)\n",
      "1378000,Processing batch of size (1000, 1000)\n",
      "1379000,Processing batch of size (1000, 1000)\n",
      "1380000,Processing batch of size (1000, 1000)\n",
      "1381000,Processing batch of size (1000, 1000)\n",
      "1382000,Processing batch of size (1000, 1000)\n",
      "1383000,Processing batch of size (1000, 1000)\n",
      "1384000,Processing batch of size (1000, 1000)\n",
      "1385000,Processing batch of size (1000, 1000)\n",
      "1386000,Processing batch of size (1000, 1000)\n",
      "1387000,Processing batch of size (1000, 1000)\n",
      "1388000,Processing batch of size (1000, 1000)\n",
      "1389000,Processing batch of size (1000, 1000)\n",
      "1390000,Processing batch of size (1000, 1000)\n",
      "1391000,Processing batch of size (1000, 1000)\n",
      "1392000,Processing batch of size (1000, 1000)\n",
      "1393000,Processing batch of size (1000, 1000)\n",
      "1394000,Processing batch of size (1000, 1000)\n",
      "1395000,Processing batch of size (1000, 1000)\n",
      "1396000,Processing batch of size (1000, 1000)\n",
      "1397000,Processing batch of size (1000, 1000)\n",
      "1398000,Processing batch of size (1000, 1000)\n",
      "1399000,Processing batch of size (1000, 1000)\n",
      "1400000,Processing batch of size (1000, 1000)\n",
      "1401000,Processing batch of size (1000, 1000)\n",
      "1402000,Processing batch of size (1000, 1000)\n",
      "1403000,Processing batch of size (1000, 1000)\n",
      "1404000,Processing batch of size (1000, 1000)\n",
      "1405000,Processing batch of size (1000, 1000)\n",
      "1406000,Processing batch of size (1000, 1000)\n",
      "1407000,Processing batch of size (1000, 1000)\n",
      "1408000,Processing batch of size (1000, 1000)\n",
      "1409000,Processing batch of size (1000, 1000)\n",
      "1410000,Processing batch of size (1000, 1000)\n",
      "1411000,Processing batch of size (1000, 1000)\n",
      "1412000,Processing batch of size (1000, 1000)\n",
      "1413000,Processing batch of size (1000, 1000)\n",
      "1414000,Processing batch of size (1000, 1000)\n",
      "1415000,Processing batch of size (1000, 1000)\n",
      "1416000,Processing batch of size (1000, 1000)\n",
      "1417000,Processing batch of size (1000, 1000)\n",
      "1418000,Processing batch of size (1000, 1000)\n",
      "1419000,Processing batch of size (1000, 1000)\n",
      "1420000,Processing batch of size (1000, 1000)\n",
      "1421000,Processing batch of size (1000, 1000)\n",
      "1422000,Processing batch of size (1000, 1000)\n",
      "1423000,Processing batch of size (1000, 1000)\n",
      "1424000,Processing batch of size (1000, 1000)\n",
      "1425000,Processing batch of size (1000, 1000)\n",
      "1426000,Processing batch of size (1000, 1000)\n",
      "1427000,Processing batch of size (1000, 1000)\n",
      "1428000,Processing batch of size (1000, 1000)\n",
      "1429000,Processing batch of size (1000, 1000)\n",
      "1430000,Processing batch of size (1000, 1000)\n",
      "1431000,Processing batch of size (1000, 1000)\n",
      "1432000,Processing batch of size (1000, 1000)\n",
      "1433000,Processing batch of size (1000, 1000)\n",
      "1434000,Processing batch of size (1000, 1000)\n",
      "1435000,Processing batch of size (1000, 1000)\n",
      "1436000,Processing batch of size (1000, 1000)\n",
      "1437000,Processing batch of size (1000, 1000)\n",
      "1438000,Processing batch of size (1000, 1000)\n",
      "1439000,Processing batch of size (1000, 1000)\n",
      "1440000,Processing batch of size (1000, 1000)\n",
      "1441000,Processing batch of size (1000, 1000)\n",
      "1442000,Processing batch of size (1000, 1000)\n",
      "1443000,Processing batch of size (1000, 1000)\n",
      "1444000,Processing batch of size (1000, 1000)\n",
      "1445000,Processing batch of size (1000, 1000)\n",
      "1446000,Processing batch of size (1000, 1000)\n",
      "1447000,Processing batch of size (1000, 1000)\n",
      "1448000,Processing batch of size (1000, 1000)\n",
      "1449000,Processing batch of size (1000, 1000)\n",
      "1450000,Processing batch of size (1000, 1000)\n",
      "1451000,Processing batch of size (1000, 1000)\n",
      "1452000,Processing batch of size (1000, 1000)\n",
      "1453000,Processing batch of size (1000, 1000)\n",
      "1454000,Processing batch of size (1000, 1000)\n",
      "1455000,Processing batch of size (1000, 1000)\n",
      "1456000,Processing batch of size (1000, 1000)\n",
      "1457000,Processing batch of size (1000, 1000)\n",
      "1458000,Processing batch of size (1000, 1000)\n",
      "1459000,Processing batch of size (1000, 1000)\n",
      "1460000,Processing batch of size (1000, 1000)\n",
      "1461000,Processing batch of size (1000, 1000)\n",
      "1462000,Processing batch of size (1000, 1000)\n",
      "1463000,Processing batch of size (1000, 1000)\n",
      "1464000,Processing batch of size (1000, 1000)\n",
      "1465000,Processing batch of size (1000, 1000)\n",
      "1466000,Processing batch of size (1000, 1000)\n",
      "1467000,Processing batch of size (1000, 1000)\n",
      "1468000,Processing batch of size (1000, 1000)\n",
      "1469000,Processing batch of size (1000, 1000)\n",
      "1470000,Processing batch of size (1000, 1000)\n",
      "1471000,Processing batch of size (1000, 1000)\n",
      "1472000,Processing batch of size (1000, 1000)\n",
      "1473000,Processing batch of size (1000, 1000)\n",
      "1474000,Processing batch of size (1000, 1000)\n",
      "1475000,Processing batch of size (1000, 1000)\n",
      "1476000,Processing batch of size (1000, 1000)\n",
      "1477000,Processing batch of size (1000, 1000)\n",
      "1478000,Processing batch of size (1000, 1000)\n",
      "1479000,Processing batch of size (1000, 1000)\n",
      "1480000,Processing batch of size (1000, 1000)\n",
      "1481000,Processing batch of size (1000, 1000)\n",
      "1482000,Processing batch of size (1000, 1000)\n",
      "1483000,Processing batch of size (1000, 1000)\n",
      "1484000,Processing batch of size (1000, 1000)\n",
      "1485000,Processing batch of size (1000, 1000)\n",
      "1486000,Processing batch of size (1000, 1000)\n",
      "1487000,Processing batch of size (1000, 1000)\n",
      "1488000,Processing batch of size (1000, 1000)\n",
      "1489000,Processing batch of size (1000, 1000)\n",
      "1490000,Processing batch of size (1000, 1000)\n",
      "1491000,Processing batch of size (1000, 1000)\n",
      "1492000,Processing batch of size (1000, 1000)\n",
      "1493000,Processing batch of size (1000, 1000)\n",
      "1494000,Processing batch of size (1000, 1000)\n",
      "1495000,Processing batch of size (1000, 1000)\n",
      "1496000,Processing batch of size (1000, 1000)\n",
      "1497000,Processing batch of size (1000, 1000)\n",
      "1498000,Processing batch of size (1000, 1000)\n",
      "1499000,Processing batch of size (1000, 1000)\n",
      "1500000,Processing batch of size (1000, 1000)\n",
      "1501000,Processing batch of size (1000, 1000)\n",
      "1502000,Processing batch of size (1000, 1000)\n",
      "1503000,Processing batch of size (1000, 1000)\n",
      "1504000,Processing batch of size (1000, 1000)\n",
      "1505000,Processing batch of size (1000, 1000)\n",
      "1506000,Processing batch of size (1000, 1000)\n",
      "1507000,Processing batch of size (1000, 1000)\n",
      "1508000,Processing batch of size (1000, 1000)\n",
      "1509000,Processing batch of size (1000, 1000)\n",
      "1510000,Processing batch of size (1000, 1000)\n",
      "1511000,Processing batch of size (1000, 1000)\n",
      "1512000,Processing batch of size (1000, 1000)\n",
      "1513000,Processing batch of size (1000, 1000)\n",
      "1514000,Processing batch of size (1000, 1000)\n",
      "1515000,Processing batch of size (1000, 1000)\n",
      "1516000,Processing batch of size (1000, 1000)\n",
      "1517000,Processing batch of size (1000, 1000)\n",
      "1518000,Processing batch of size (1000, 1000)\n",
      "1519000,Processing batch of size (1000, 1000)\n",
      "1520000,Processing batch of size (1000, 1000)\n",
      "1521000,Processing batch of size (1000, 1000)\n",
      "1522000,Processing batch of size (1000, 1000)\n",
      "1523000,Processing batch of size (1000, 1000)\n",
      "1524000,Processing batch of size (1000, 1000)\n",
      "1525000,Processing batch of size (1000, 1000)\n",
      "1526000,Processing batch of size (1000, 1000)\n",
      "1527000,Processing batch of size (1000, 1000)\n",
      "1528000,Processing batch of size (1000, 1000)\n",
      "1529000,Processing batch of size (1000, 1000)\n",
      "1530000,Processing batch of size (1000, 1000)\n",
      "1531000,Processing batch of size (1000, 1000)\n",
      "1532000,Processing batch of size (1000, 1000)\n",
      "1533000,Processing batch of size (1000, 1000)\n",
      "1534000,Processing batch of size (1000, 1000)\n",
      "1535000,Processing batch of size (1000, 1000)\n",
      "1536000,Processing batch of size (1000, 1000)\n",
      "1537000,Processing batch of size (1000, 1000)\n",
      "1538000,Processing batch of size (1000, 1000)\n",
      "1539000,Processing batch of size (1000, 1000)\n",
      "1540000,Processing batch of size (1000, 1000)\n",
      "1541000,Processing batch of size (1000, 1000)\n",
      "1542000,Processing batch of size (1000, 1000)\n",
      "1543000,Processing batch of size (1000, 1000)\n",
      "1544000,Processing batch of size (1000, 1000)\n",
      "1545000,Processing batch of size (1000, 1000)\n",
      "1546000,Processing batch of size (1000, 1000)\n",
      "1547000,Processing batch of size (1000, 1000)\n",
      "1548000,Processing batch of size (1000, 1000)\n",
      "1549000,Processing batch of size (1000, 1000)\n",
      "1550000,Processing batch of size (1000, 1000)\n",
      "1551000,Processing batch of size (1000, 1000)\n",
      "1552000,Processing batch of size (1000, 1000)\n",
      "1553000,Processing batch of size (1000, 1000)\n",
      "1554000,Processing batch of size (1000, 1000)\n",
      "1555000,Processing batch of size (1000, 1000)\n",
      "1556000,Processing batch of size (1000, 1000)\n",
      "1557000,Processing batch of size (1000, 1000)\n",
      "1558000,Processing batch of size (1000, 1000)\n",
      "1559000,Processing batch of size (1000, 1000)\n",
      "1560000,Processing batch of size (1000, 1000)\n",
      "1561000,Processing batch of size (1000, 1000)\n",
      "1562000,Processing batch of size (1000, 1000)\n",
      "1563000,Processing batch of size (1000, 1000)\n",
      "1564000,Processing batch of size (1000, 1000)\n",
      "1565000,Processing batch of size (1000, 1000)\n",
      "1566000,Processing batch of size (1000, 1000)\n",
      "1567000,Processing batch of size (1000, 1000)\n",
      "1568000,Processing batch of size (1000, 1000)\n",
      "1569000,Processing batch of size (1000, 1000)\n",
      "1570000,Processing batch of size (1000, 1000)\n",
      "1571000,Processing batch of size (1000, 1000)\n",
      "1572000,Processing batch of size (1000, 1000)\n",
      "1573000,Processing batch of size (1000, 1000)\n",
      "1574000,Processing batch of size (1000, 1000)\n",
      "1575000,Processing batch of size (1000, 1000)\n",
      "1576000,Processing batch of size (1000, 1000)\n",
      "1577000,Processing batch of size (1000, 1000)\n",
      "1578000,Processing batch of size (1000, 1000)\n",
      "1579000,Processing batch of size (1000, 1000)\n",
      "1580000,Processing batch of size (1000, 1000)\n",
      "1581000,Processing batch of size (1000, 1000)\n",
      "1582000,Processing batch of size (1000, 1000)\n",
      "1583000,Processing batch of size (1000, 1000)\n",
      "1584000,Processing batch of size (1000, 1000)\n",
      "1585000,Processing batch of size (1000, 1000)\n",
      "1586000,Processing batch of size (1000, 1000)\n",
      "1587000,Processing batch of size (1000, 1000)\n",
      "1588000,Processing batch of size (1000, 1000)\n",
      "1589000,Processing batch of size (1000, 1000)\n",
      "1590000,Processing batch of size (1000, 1000)\n",
      "1591000,Processing batch of size (1000, 1000)\n",
      "1592000,Processing batch of size (1000, 1000)\n",
      "1593000,Processing batch of size (1000, 1000)\n",
      "1594000,Processing batch of size (1000, 1000)\n",
      "1595000,Processing batch of size (1000, 1000)\n",
      "1596000,Processing batch of size (1000, 1000)\n",
      "1597000,Processing batch of size (1000, 1000)\n",
      "1598000,Processing batch of size (1000, 1000)\n",
      "1599000,Processing batch of size (1000, 1000)\n",
      "1600000,Processing batch of size (1000, 1000)\n",
      "1601000,Processing batch of size (1000, 1000)\n",
      "1602000,Processing batch of size (1000, 1000)\n",
      "1603000,Processing batch of size (1000, 1000)\n",
      "1604000,Processing batch of size (1000, 1000)\n",
      "1605000,Processing batch of size (1000, 1000)\n",
      "1606000,Processing batch of size (1000, 1000)\n",
      "1607000,Processing batch of size (1000, 1000)\n",
      "1608000,Processing batch of size (1000, 1000)\n",
      "1609000,Processing batch of size (1000, 1000)\n",
      "1610000,Processing batch of size (1000, 1000)\n",
      "1611000,Processing batch of size (1000, 1000)\n",
      "1612000,Processing batch of size (1000, 1000)\n",
      "1613000,Processing batch of size (1000, 1000)\n",
      "1614000,Processing batch of size (1000, 1000)\n",
      "1615000,Processing batch of size (1000, 1000)\n",
      "1616000,Processing batch of size (1000, 1000)\n",
      "1617000,Processing batch of size (1000, 1000)\n",
      "1618000,Processing batch of size (1000, 1000)\n",
      "1619000,Processing batch of size (1000, 1000)\n",
      "1620000,Processing batch of size (1000, 1000)\n",
      "1621000,Processing batch of size (1000, 1000)\n",
      "1622000,Processing batch of size (1000, 1000)\n",
      "1623000,Processing batch of size (1000, 1000)\n",
      "1624000,Processing batch of size (1000, 1000)\n",
      "1625000,Processing batch of size (1000, 1000)\n",
      "1626000,Processing batch of size (1000, 1000)\n",
      "1627000,Processing batch of size (1000, 1000)\n",
      "1628000,Processing batch of size (1000, 1000)\n",
      "1629000,Processing batch of size (1000, 1000)\n",
      "1630000,Processing batch of size (1000, 1000)\n",
      "1631000,Processing batch of size (1000, 1000)\n",
      "1632000,Processing batch of size (1000, 1000)\n",
      "1633000,Processing batch of size (1000, 1000)\n",
      "1634000,Processing batch of size (1000, 1000)\n",
      "1635000,Processing batch of size (1000, 1000)\n",
      "1636000,Processing batch of size (1000, 1000)\n",
      "1637000,Processing batch of size (1000, 1000)\n",
      "1638000,Processing batch of size (1000, 1000)\n",
      "1639000,Processing batch of size (1000, 1000)\n",
      "1640000,Processing batch of size (1000, 1000)\n",
      "1641000,Processing batch of size (1000, 1000)\n",
      "1642000,Processing batch of size (1000, 1000)\n",
      "1643000,Processing batch of size (1000, 1000)\n",
      "1644000,Processing batch of size (1000, 1000)\n",
      "1645000,Processing batch of size (1000, 1000)\n",
      "1646000,Processing batch of size (1000, 1000)\n",
      "1647000,Processing batch of size (1000, 1000)\n",
      "1648000,Processing batch of size (1000, 1000)\n",
      "1649000,Processing batch of size (1000, 1000)\n",
      "1650000,Processing batch of size (1000, 1000)\n",
      "1651000,Processing batch of size (1000, 1000)\n",
      "1652000,Processing batch of size (1000, 1000)\n",
      "1653000,Processing batch of size (1000, 1000)\n",
      "1654000,Processing batch of size (1000, 1000)\n",
      "1655000,Processing batch of size (1000, 1000)\n",
      "1656000,Processing batch of size (1000, 1000)\n",
      "1657000,Processing batch of size (1000, 1000)\n",
      "1658000,Processing batch of size (1000, 1000)\n",
      "1659000,Processing batch of size (1000, 1000)\n",
      "1660000,Processing batch of size (1000, 1000)\n",
      "1661000,Processing batch of size (1000, 1000)\n",
      "1662000,Processing batch of size (1000, 1000)\n",
      "1663000,Processing batch of size (1000, 1000)\n",
      "1664000,Processing batch of size (1000, 1000)\n",
      "1665000,Processing batch of size (1000, 1000)\n",
      "1666000,Processing batch of size (1000, 1000)\n",
      "1667000,Processing batch of size (1000, 1000)\n",
      "1668000,Processing batch of size (1000, 1000)\n",
      "1669000,Processing batch of size (1000, 1000)\n",
      "1670000,Processing batch of size (1000, 1000)\n",
      "1671000,Processing batch of size (1000, 1000)\n",
      "1672000,Processing batch of size (1000, 1000)\n",
      "1673000,Processing batch of size (1000, 1000)\n",
      "1674000,Processing batch of size (1000, 1000)\n",
      "1675000,Processing batch of size (1000, 1000)\n",
      "1676000,Processing batch of size (1000, 1000)\n",
      "1677000,Processing batch of size (1000, 1000)\n",
      "1678000,Processing batch of size (1000, 1000)\n",
      "1679000,Processing batch of size (1000, 1000)\n",
      "1680000,Processing batch of size (1000, 1000)\n",
      "1681000,Processing batch of size (1000, 1000)\n",
      "1682000,Processing batch of size (1000, 1000)\n",
      "1683000,Processing batch of size (1000, 1000)\n",
      "1684000,Processing batch of size (1000, 1000)\n",
      "1685000,Processing batch of size (1000, 1000)\n",
      "1686000,Processing batch of size (1000, 1000)\n",
      "1687000,Processing batch of size (1000, 1000)\n",
      "1688000,Processing batch of size (1000, 1000)\n",
      "1689000,Processing batch of size (1000, 1000)\n",
      "1690000,Processing batch of size (1000, 1000)\n",
      "1691000,Processing batch of size (1000, 1000)\n",
      "1692000,Processing batch of size (1000, 1000)\n",
      "1693000,Processing batch of size (1000, 1000)\n",
      "1694000,Processing batch of size (1000, 1000)\n",
      "1695000,Processing batch of size (1000, 1000)\n",
      "1696000,Processing batch of size (1000, 1000)\n",
      "1697000,Processing batch of size (1000, 1000)\n",
      "1698000,Processing batch of size (1000, 1000)\n",
      "1699000,Processing batch of size (1000, 1000)\n",
      "1700000,Processing batch of size (1000, 1000)\n",
      "1701000,Processing batch of size (1000, 1000)\n",
      "1702000,Processing batch of size (1000, 1000)\n",
      "1703000,Processing batch of size (1000, 1000)\n",
      "1704000,Processing batch of size (1000, 1000)\n",
      "1705000,Processing batch of size (1000, 1000)\n",
      "1706000,Processing batch of size (1000, 1000)\n",
      "1707000,Processing batch of size (1000, 1000)\n",
      "1708000,Processing batch of size (1000, 1000)\n",
      "1709000,Processing batch of size (1000, 1000)\n",
      "1710000,Processing batch of size (1000, 1000)\n",
      "1711000,Processing batch of size (1000, 1000)\n",
      "1712000,Processing batch of size (1000, 1000)\n",
      "1713000,Processing batch of size (1000, 1000)\n",
      "1714000,Processing batch of size (1000, 1000)\n",
      "1715000,Processing batch of size (1000, 1000)\n",
      "1716000,Processing batch of size (1000, 1000)\n",
      "1717000,Processing batch of size (1000, 1000)\n",
      "1718000,Processing batch of size (1000, 1000)\n",
      "1719000,Processing batch of size (1000, 1000)\n",
      "1720000,Processing batch of size (1000, 1000)\n",
      "1721000,Processing batch of size (1000, 1000)\n",
      "1722000,Processing batch of size (1000, 1000)\n",
      "1723000,Processing batch of size (1000, 1000)\n",
      "1724000,Processing batch of size (1000, 1000)\n",
      "1725000,Processing batch of size (1000, 1000)\n",
      "1726000,Processing batch of size (1000, 1000)\n",
      "1727000,Processing batch of size (1000, 1000)\n",
      "1728000,Processing batch of size (1000, 1000)\n",
      "1729000,Processing batch of size (1000, 1000)\n",
      "1730000,Processing batch of size (1000, 1000)\n",
      "1731000,Processing batch of size (1000, 1000)\n",
      "1732000,Processing batch of size (1000, 1000)\n",
      "1733000,Processing batch of size (1000, 1000)\n",
      "1734000,Processing batch of size (1000, 1000)\n",
      "1735000,Processing batch of size (1000, 1000)\n",
      "1736000,Processing batch of size (1000, 1000)\n",
      "1737000,Processing batch of size (1000, 1000)\n",
      "1738000,Processing batch of size (1000, 1000)\n",
      "1739000,Processing batch of size (1000, 1000)\n",
      "1740000,Processing batch of size (1000, 1000)\n",
      "1741000,Processing batch of size (1000, 1000)\n",
      "1742000,Processing batch of size (1000, 1000)\n",
      "1743000,Processing batch of size (1000, 1000)\n",
      "1744000,Processing batch of size (1000, 1000)\n",
      "1745000,Processing batch of size (1000, 1000)\n",
      "1746000,Processing batch of size (1000, 1000)\n",
      "1747000,Processing batch of size (1000, 1000)\n",
      "1748000,Processing batch of size (1000, 1000)\n",
      "1749000,Processing batch of size (1000, 1000)\n",
      "1750000,Processing batch of size (1000, 1000)\n",
      "1751000,Processing batch of size (1000, 1000)\n",
      "1752000,Processing batch of size (1000, 1000)\n",
      "1753000,Processing batch of size (1000, 1000)\n",
      "1754000,Processing batch of size (1000, 1000)\n",
      "1755000,Processing batch of size (1000, 1000)\n",
      "1756000,Processing batch of size (1000, 1000)\n",
      "1757000,Processing batch of size (1000, 1000)\n",
      "1758000,Processing batch of size (1000, 1000)\n",
      "1759000,Processing batch of size (1000, 1000)\n",
      "1760000,Processing batch of size (1000, 1000)\n",
      "1761000,Processing batch of size (1000, 1000)\n",
      "1762000,Processing batch of size (1000, 1000)\n",
      "1763000,Processing batch of size (1000, 1000)\n",
      "1764000,Processing batch of size (1000, 1000)\n",
      "1765000,Processing batch of size (1000, 1000)\n",
      "1766000,Processing batch of size (1000, 1000)\n",
      "1767000,Processing batch of size (1000, 1000)\n",
      "1768000,Processing batch of size (1000, 1000)\n",
      "1769000,Processing batch of size (1000, 1000)\n",
      "1770000,Processing batch of size (1000, 1000)\n",
      "1771000,Processing batch of size (1000, 1000)\n",
      "1772000,Processing batch of size (1000, 1000)\n",
      "1773000,Processing batch of size (1000, 1000)\n",
      "1774000,Processing batch of size (1000, 1000)\n",
      "1775000,Processing batch of size (1000, 1000)\n",
      "1776000,Processing batch of size (1000, 1000)\n",
      "1777000,Processing batch of size (1000, 1000)\n",
      "1778000,Processing batch of size (1000, 1000)\n",
      "1779000,Processing batch of size (1000, 1000)\n",
      "1780000,Processing batch of size (1000, 1000)\n",
      "1781000,Processing batch of size (1000, 1000)\n",
      "1782000,Processing batch of size (1000, 1000)\n",
      "1783000,Processing batch of size (1000, 1000)\n",
      "1784000,Processing batch of size (1000, 1000)\n",
      "1785000,Processing batch of size (1000, 1000)\n",
      "1786000,Processing batch of size (1000, 1000)\n",
      "1787000,Processing batch of size (1000, 1000)\n",
      "1788000,Processing batch of size (1000, 1000)\n",
      "1789000,Processing batch of size (1000, 1000)\n",
      "1790000,Processing batch of size (1000, 1000)\n",
      "1791000,Processing batch of size (1000, 1000)\n",
      "1792000,Processing batch of size (1000, 1000)\n",
      "1793000,Processing batch of size (1000, 1000)\n",
      "1794000,Processing batch of size (1000, 1000)\n",
      "1795000,Processing batch of size (1000, 1000)\n",
      "1796000,Processing batch of size (1000, 1000)\n",
      "1797000,Processing batch of size (1000, 1000)\n",
      "1798000,Processing batch of size (1000, 1000)\n",
      "1799000,Processing batch of size (1000, 1000)\n",
      "1800000,Processing batch of size (1000, 1000)\n",
      "1801000,Processing batch of size (1000, 1000)\n",
      "1802000,Processing batch of size (1000, 1000)\n",
      "1803000,Processing batch of size (1000, 1000)\n",
      "1804000,Processing batch of size (1000, 1000)\n",
      "1805000,Processing batch of size (1000, 1000)\n",
      "1806000,Processing batch of size (1000, 1000)\n",
      "1807000,Processing batch of size (1000, 1000)\n",
      "1808000,Processing batch of size (1000, 1000)\n",
      "1809000,Processing batch of size (1000, 1000)\n",
      "1810000,Processing batch of size (1000, 1000)\n",
      "1811000,Processing batch of size (1000, 1000)\n",
      "1812000,Processing batch of size (1000, 1000)\n",
      "1813000,Processing batch of size (1000, 1000)\n",
      "1814000,Processing batch of size (1000, 1000)\n",
      "1815000,Processing batch of size (1000, 1000)\n",
      "1816000,Processing batch of size (1000, 1000)\n",
      "1817000,Processing batch of size (1000, 1000)\n",
      "1818000,Processing batch of size (1000, 1000)\n",
      "1819000,Processing batch of size (1000, 1000)\n",
      "1820000,Processing batch of size (1000, 1000)\n",
      "1821000,Processing batch of size (1000, 1000)\n",
      "1822000,Processing batch of size (1000, 1000)\n",
      "1823000,Processing batch of size (1000, 1000)\n",
      "1824000,Processing batch of size (1000, 1000)\n",
      "1825000,Processing batch of size (1000, 1000)\n",
      "1826000,Processing batch of size (1000, 1000)\n",
      "1827000,Processing batch of size (1000, 1000)\n",
      "1828000,Processing batch of size (1000, 1000)\n",
      "1829000,Processing batch of size (1000, 1000)\n",
      "1830000,Processing batch of size (1000, 1000)\n",
      "1831000,Processing batch of size (1000, 1000)\n",
      "1832000,Processing batch of size (1000, 1000)\n",
      "1833000,Processing batch of size (1000, 1000)\n",
      "1834000,Processing batch of size (1000, 1000)\n",
      "1835000,Processing batch of size (1000, 1000)\n",
      "1836000,Processing batch of size (1000, 1000)\n",
      "1837000,Processing batch of size (1000, 1000)\n",
      "1838000,Processing batch of size (1000, 1000)\n",
      "1839000,Processing batch of size (1000, 1000)\n",
      "1840000,Processing batch of size (1000, 1000)\n",
      "1841000,Processing batch of size (1000, 1000)\n",
      "1842000,Processing batch of size (1000, 1000)\n",
      "1843000,Processing batch of size (1000, 1000)\n",
      "1844000,Processing batch of size (1000, 1000)\n",
      "1845000,Processing batch of size (1000, 1000)\n",
      "1846000,Processing batch of size (1000, 1000)\n",
      "1847000,Processing batch of size (1000, 1000)\n",
      "1848000,Processing batch of size (1000, 1000)\n",
      "1849000,Processing batch of size (1000, 1000)\n",
      "1850000,Processing batch of size (1000, 1000)\n",
      "1851000,Processing batch of size (1000, 1000)\n",
      "1852000,Processing batch of size (1000, 1000)\n",
      "1853000,Processing batch of size (1000, 1000)\n",
      "1854000,Processing batch of size (1000, 1000)\n",
      "1855000,Processing batch of size (1000, 1000)\n",
      "1856000,Processing batch of size (1000, 1000)\n",
      "1857000,Processing batch of size (1000, 1000)\n",
      "1858000,Processing batch of size (1000, 1000)\n",
      "1859000,Processing batch of size (1000, 1000)\n",
      "1860000,Processing batch of size (1000, 1000)\n",
      "1861000,Processing batch of size (1000, 1000)\n",
      "1862000,Processing batch of size (1000, 1000)\n",
      "1863000,Processing batch of size (1000, 1000)\n",
      "1864000,Processing batch of size (1000, 1000)\n",
      "1865000,Processing batch of size (1000, 1000)\n",
      "1866000,Processing batch of size (1000, 1000)\n",
      "1867000,Processing batch of size (1000, 1000)\n",
      "1868000,Processing batch of size (1000, 1000)\n",
      "1869000,Processing batch of size (1000, 1000)\n",
      "1870000,Processing batch of size (1000, 1000)\n",
      "1871000,Processing batch of size (1000, 1000)\n",
      "1872000,Processing batch of size (1000, 1000)\n",
      "1873000,Processing batch of size (1000, 1000)\n",
      "1874000,Processing batch of size (1000, 1000)\n",
      "1875000,Processing batch of size (1000, 1000)\n",
      "1876000,Processing batch of size (1000, 1000)\n",
      "1877000,Processing batch of size (1000, 1000)\n",
      "1878000,Processing batch of size (1000, 1000)\n",
      "1879000,Processing batch of size (1000, 1000)\n",
      "1880000,Processing batch of size (1000, 1000)\n",
      "1881000,Processing batch of size (1000, 1000)\n",
      "1882000,Processing batch of size (1000, 1000)\n",
      "1883000,Processing batch of size (1000, 1000)\n",
      "1884000,Processing batch of size (1000, 1000)\n",
      "1885000,Processing batch of size (1000, 1000)\n",
      "1886000,Processing batch of size (1000, 1000)\n",
      "1887000,Processing batch of size (1000, 1000)\n",
      "1888000,Processing batch of size (1000, 1000)\n",
      "1889000,Processing batch of size (1000, 1000)\n",
      "1890000,Processing batch of size (1000, 1000)\n",
      "1891000,Processing batch of size (1000, 1000)\n",
      "1892000,Processing batch of size (1000, 1000)\n",
      "1893000,Processing batch of size (1000, 1000)\n",
      "1894000,Processing batch of size (1000, 1000)\n",
      "1895000,Processing batch of size (1000, 1000)\n",
      "1896000,Processing batch of size (1000, 1000)\n",
      "1897000,Processing batch of size (517, 517)\n",
      "CPU times: total: 14min 26s\n",
      "Wall time: 1h 19min 19s\n"
     ]
    }
   ],
   "source": [
    "%%time\n",
    "for i in range(0, len(pkls), batch_size):\n",
    "    # if i<=237000:\n",
    "    #     continue\n",
    "    try:\n",
    "        payload = pkls[i:i + batch_size]\n",
    "        npy_batch = next(npy_batches)\n",
    "        size=len(payload)\n",
    "        index = list(range(i,i + size))\n",
    "        print(f\"{i},Processing batch of size {size,len(npy_batch)}\")\n",
    "        points=Batch(ids= index,payloads=payload,vectors=npy_batch.tolist())\n",
    "        client_1.upsert(collection_name=collection_name,points = points)     \n",
    "        #   points = [PointStruct(id=id_max+idx, vector=wo.wv[word].tolist(), \n",
    "        #                 payload={\"word\": word,\"行业\": col,'index':idx,\n",
    "        #                          'tf':tf.get(word,1),\n",
    "        #                          'df':df.get(word,1)})\n",
    "        #         for word, idx in batch]\n",
    "    except StopIteration:\n",
    "        break"
   ]
  },
  {
   "cell_type": "code",
   "execution_count": 11,
   "metadata": {},
   "outputs": [
    {
     "data": {
      "text/plain": [
       "26942"
      ]
     },
     "execution_count": 11,
     "metadata": {},
     "output_type": "execute_result"
    }
   ],
   "source": [
    "220713221//1024//8"
   ]
  },
  {
   "cell_type": "code",
   "execution_count": 12,
   "metadata": {},
   "outputs": [
    {
     "data": {
      "text/plain": [
       "6.577766567468643"
      ]
     },
     "execution_count": 12,
     "metadata": {},
     "output_type": "execute_result"
    }
   ],
   "source": [
    "220713221/33554432"
   ]
  },
  {
   "cell_type": "code",
   "execution_count": 2,
   "metadata": {},
   "outputs": [],
   "source": [
    "from gensim import corpora\n",
    "from gensim.models import Word2Vec"
   ]
  },
  {
   "cell_type": "code",
   "execution_count": 3,
   "metadata": {},
   "outputs": [],
   "source": [
    "from qdrant_client.models import Batch,Distance,VectorParams"
   ]
  },
  {
   "cell_type": "code",
   "execution_count": 4,
   "metadata": {},
   "outputs": [],
   "source": [
    "import pandas as pd\n",
    "word_tf_df=pd.read_csv('Y:\\Downloads\\Patent\\patent_word_tf_df_188.csv',index_col=0)\n",
    "tf=word_tf_df.tf.to_dict()\n",
    "df=word_tf_df.df.to_dict()"
   ]
  },
  {
   "cell_type": "code",
   "execution_count": 5,
   "metadata": {},
   "outputs": [],
   "source": [
    "suffix='188_37'\n",
    "wo = Word2Vec.load(f'Y:\\Downloads\\Patent\\patent_w2v_{suffix}.model') "
   ]
  },
  {
   "cell_type": "code",
   "execution_count": 6,
   "metadata": {},
   "outputs": [],
   "source": [
    "index=list(range(len(wo.wv)))\n",
    "payload=[{\"word\": word,'index':idx,'tf':tf.get(word,1),'df':df.get(word,1)} for word,idx in wo.wv.key_to_index.items()]\n",
    "points=Batch(\n",
    "    ids=index,\n",
    "    vectors=wo.wv.vectors.tolist(),\n",
    "    payloads=payload\n",
    ")"
   ]
  },
  {
   "cell_type": "code",
   "execution_count": 39,
   "metadata": {},
   "outputs": [],
   "source": [
    "client = QdrantClient(host=\"47.110.156.41\", grpc_port=6334, prefer_grpc=True)"
   ]
  },
  {
   "cell_type": "code",
   "execution_count": 9,
   "metadata": {},
   "outputs": [
    {
     "data": {
      "text/plain": [
       "UpdateResult(operation_id=0, status=<UpdateStatus.COMPLETED: 'completed'>)"
      ]
     },
     "execution_count": 9,
     "metadata": {},
     "output_type": "execute_result"
    }
   ],
   "source": [
    "collection_name=f'专利_w2v_{suffix}'\n",
    "client.create_collection(collection_name,vectors_config=VectorParams(size=wo.wv.vectors.shape[1],distance=Distance.COSINE))\n",
    "client.upsert(collection_name=collection_name,points = points) "
   ]
  },
  {
   "cell_type": "code",
   "execution_count": 10,
   "metadata": {},
   "outputs": [
    {
     "data": {
      "text/plain": [
       "CountResult(count=369401)"
      ]
     },
     "execution_count": 10,
     "metadata": {},
     "output_type": "execute_result"
    }
   ],
   "source": [
    "client.count(collection_name)"
   ]
  },
  {
   "cell_type": "code",
   "execution_count": 11,
   "metadata": {},
   "outputs": [
    {
     "data": {
      "text/plain": [
       "CollectionInfo(status=<CollectionStatus.GREEN: 'green'>, optimizer_status=<OptimizersStatusOneOf.OK: 'ok'>, vectors_count=None, indexed_vectors_count=369401, points_count=369401, segments_count=4, config=CollectionConfig(params=CollectionParams(vectors=VectorParams(size=250, distance=<Distance.COSINE: 'Cosine'>, hnsw_config=None, quantization_config=None, on_disk=None, datatype=None), shard_number=1, sharding_method=None, replication_factor=1, write_consistency_factor=1, read_fan_out_factor=None, on_disk_payload=True, sparse_vectors=None), hnsw_config=HnswConfig(m=16, ef_construct=100, full_scan_threshold=10000, max_indexing_threads=0, on_disk=False, payload_m=None), optimizer_config=OptimizersConfig(deleted_threshold=0.2, vacuum_min_vector_number=1000, default_segment_number=0, max_segment_size=None, memmap_threshold=None, indexing_threshold=20000, flush_interval_sec=5, max_optimization_threads=None), wal_config=WalConfig(wal_capacity_mb=32, wal_segments_ahead=0), quantization_config=None), payload_schema={})"
      ]
     },
     "execution_count": 11,
     "metadata": {},
     "output_type": "execute_result"
    }
   ],
   "source": [
    "client.get_collection(collection_name)"
   ]
  },
  {
   "cell_type": "code",
   "execution_count": 12,
   "metadata": {},
   "outputs": [],
   "source": [
    "del payload\n",
    "del points\n",
    "del wo"
   ]
  },
  {
   "cell_type": "code",
   "execution_count": 13,
   "metadata": {},
   "outputs": [
    {
     "data": {
      "text/plain": [
       "CountResult(count=50826)"
      ]
     },
     "execution_count": 13,
     "metadata": {},
     "output_type": "execute_result"
    }
   ],
   "source": [
    "collection_name='行业公司名简介_25k'\n",
    "client.count('行业公司名简介_25k')"
   ]
  },
  {
   "cell_type": "code",
   "execution_count": 14,
   "metadata": {},
   "outputs": [
    {
     "data": {
      "text/plain": [
       "25413.0"
      ]
     },
     "execution_count": 14,
     "metadata": {},
     "output_type": "execute_result"
    }
   ],
   "source": [
    "50826/2"
   ]
  },
  {
   "cell_type": "code",
   "execution_count": 16,
   "metadata": {},
   "outputs": [
    {
     "data": {
      "text/plain": [
       "UpdateResult(operation_id=1, status=<UpdateStatus.COMPLETED: 'completed'>)"
      ]
     },
     "execution_count": 16,
     "metadata": {},
     "output_type": "execute_result"
    }
   ],
   "source": [
    "client.delete_payload(\n",
    "    collection_name=collection_name,\n",
    "    keys=[\"profile\"],\n",
    "    points=list(range(25413,50826)),\n",
    ")"
   ]
  },
  {
   "cell_type": "code",
   "execution_count": 19,
   "metadata": {},
   "outputs": [
    {
     "data": {
      "text/plain": [
       "[Record(id=50825, payload={'行业': '金融科技', '工商全称': '爱因互动科技发展（北京）有限公司', '公司序号': 25511, '公司简称': '爱因互动'}, vector=None, shard_key=None),\n",
       " Record(id=25413, payload={'行业': '传统制造', '工商全称': '天津蔚蓝科技有限公司', '公司序号': 0, '公司简称': 'SciXair空气净化器'}, vector=None, shard_key=None),\n",
       " Record(id=25412, payload={'行业': '金融科技', '工商全称': '爱因互动科技发展（北京）有限公司', '公司序号': 25511, '公司简称': '爱因互动'}, vector=None, shard_key=None)]"
      ]
     },
     "execution_count": 19,
     "metadata": {},
     "output_type": "execute_result"
    }
   ],
   "source": [
    "client.retrieve(\n",
    "    collection_name=collection_name,\n",
    "    ids=[50825,25413,25412],\n",
    ")"
   ]
  },
  {
   "cell_type": "code",
   "execution_count": 3,
   "metadata": {},
   "outputs": [],
   "source": [
    "import pickle"
   ]
  },
  {
   "cell_type": "code",
   "execution_count": 22,
   "metadata": {},
   "outputs": [],
   "source": [
    "with open('Y:\\Downloads\\Patent\\行业公司名简介2024_payloads.pkl', 'rb') as file:\n",
    "    playload = pickle.load(file)"
   ]
  },
  {
   "cell_type": "code",
   "execution_count": 24,
   "metadata": {},
   "outputs": [
    {
     "data": {
      "text/plain": [
       "50826"
      ]
     },
     "execution_count": 24,
     "metadata": {},
     "output_type": "execute_result"
    }
   ],
   "source": [
    "len(playload)"
   ]
  },
  {
   "cell_type": "code",
   "execution_count": 25,
   "metadata": {},
   "outputs": [
    {
     "data": {
      "text/plain": [
       "{'公司序号': 0,\n",
       " '公司简称': 'SciXair空气净化器',\n",
       " '工商全称': '天津蔚蓝科技有限公司',\n",
       " '行业': '传统制造',\n",
       " '简介长度': 64.0}"
      ]
     },
     "execution_count": 25,
     "metadata": {},
     "output_type": "execute_result"
    }
   ],
   "source": [
    "playload[0]"
   ]
  },
  {
   "cell_type": "code",
   "execution_count": 26,
   "metadata": {},
   "outputs": [
    {
     "data": {
      "text/plain": [
       "64.0"
      ]
     },
     "execution_count": 26,
     "metadata": {},
     "output_type": "execute_result"
    }
   ],
   "source": [
    "playload[0]['简介长度']"
   ]
  },
  {
   "cell_type": "code",
   "execution_count": 29,
   "metadata": {},
   "outputs": [
    {
     "data": {
      "text/plain": [
       "CountResult(count=50826)"
      ]
     },
     "execution_count": 29,
     "metadata": {},
     "output_type": "execute_result"
    }
   ],
   "source": [
    "client.count('行业公司名简介_25k')"
   ]
  },
  {
   "cell_type": "code",
   "execution_count": 33,
   "metadata": {},
   "outputs": [
    {
     "data": {
      "text/plain": [
       "{'公司序号': 5951,\n",
       " '公司简称': '连山融资项目',\n",
       " '工商全称': '上海富捷信息技术有限公司',\n",
       " '行业': '金融',\n",
       " '简介长度': nan}"
      ]
     },
     "execution_count": 33,
     "metadata": {},
     "output_type": "execute_result"
    }
   ],
   "source": [
    "playload[5951]"
   ]
  },
  {
   "cell_type": "code",
   "execution_count": 36,
   "metadata": {},
   "outputs": [
    {
     "data": {
      "text/plain": [
       "False"
      ]
     },
     "execution_count": 36,
     "metadata": {},
     "output_type": "execute_result"
    }
   ],
   "source": [
    "playload[5951]['简介长度']>5"
   ]
  },
  {
   "cell_type": "code",
   "execution_count": 37,
   "metadata": {},
   "outputs": [],
   "source": [
    "for i,p in enumerate(playload):\n",
    "    if i<5951:\n",
    "        continue\n",
    "    if '简介长度' in p and p['简介长度']>5:\n",
    "        client.set_payload(\n",
    "            collection_name=collection_name,\n",
    "            payload={\n",
    "                '简介长度': p['简介长度'],\n",
    "            },\n",
    "            points=[i],\n",
    "        )"
   ]
  },
  {
   "cell_type": "code",
   "execution_count": 28,
   "metadata": {
    "scrolled": true
   },
   "outputs": [
    {
     "data": {
      "text/plain": [
       "5951"
      ]
     },
     "execution_count": 28,
     "metadata": {},
     "output_type": "execute_result"
    }
   ],
   "source": [
    "i"
   ]
  },
  {
   "cell_type": "code",
   "execution_count": 2,
   "metadata": {},
   "outputs": [
    {
     "data": {
      "text/plain": [
       "SetPayloadOperation(set_payload=SetPayload(payload={'test_payload_2': 2, 'test_payload_3': 3}, points=[1], filter=None, shard_key=None, key=None))"
      ]
     },
     "execution_count": 2,
     "metadata": {},
     "output_type": "execute_result"
    }
   ],
   "source": [
    "from qdrant_client.models import  SetPayloadOperation,SetPayload\n",
    "\n",
    "operation=SetPayloadOperation(\n",
    "            set_payload=SetPayload(\n",
    "                payload={\n",
    "                    \"test_payload_2\": 2,\n",
    "                    \"test_payload_3\": 3,\n",
    "                },\n",
    "                points=[1],\n",
    "            )\n",
    ")\n",
    "operation"
   ]
  },
  {
   "cell_type": "code",
   "execution_count": 5,
   "metadata": {},
   "outputs": [],
   "source": [
    "with open('Y:\\Downloads\\Patent\\融资公司专利2024_payloads_1.pkl', 'rb') as file:\n",
    "    playload = pickle.load(file)"
   ]
  },
  {
   "cell_type": "code",
   "execution_count": 6,
   "metadata": {},
   "outputs": [
    {
     "data": {
      "text/plain": [
       "(1897517, {'摘要长度': 160, 'table': 'patent202210'})"
      ]
     },
     "execution_count": 6,
     "metadata": {},
     "output_type": "execute_result"
    }
   ],
   "source": [
    "len(playload),playload[0]"
   ]
  },
  {
   "cell_type": "code",
   "execution_count": 49,
   "metadata": {},
   "outputs": [
    {
     "data": {
      "text/plain": [
       "SetPayloadOperation(set_payload=SetPayload(payload={'摘要长度': 172, 'table': 'patent202210'}, points=[9], filter=None, shard_key=None, key=None))"
      ]
     },
     "execution_count": 49,
     "metadata": {},
     "output_type": "execute_result"
    }
   ],
   "source": [
    "for i,p in enumerate(playload[:10]):\n",
    "    operation=SetPayloadOperation(\n",
    "        set_payload=SetPayload(\n",
    "            payload=p if p.get('摘要长度',0)>0 else {'table':p.get('table')} ,\n",
    "            points=[i],\n",
    "        )\n",
    "    )\n",
    "operation"
   ]
  },
  {
   "cell_type": "code",
   "execution_count": 8,
   "metadata": {},
   "outputs": [
    {
     "data": {
      "text/plain": [
       "(1897517,\n",
       " SetPayloadOperation(set_payload=SetPayload(payload={'摘要长度': 160, 'table': 'patent202210'}, points=[0], filter=None, shard_key=None, key=None)))"
      ]
     },
     "execution_count": 8,
     "metadata": {},
     "output_type": "execute_result"
    }
   ],
   "source": [
    "update_operations=[SetPayloadOperation(\n",
    "                        set_payload=SetPayload(\n",
    "                            payload=p if p.get('摘要长度',0)>0 else {'table':p.get('table')} ,\n",
    "                            points=[i],\n",
    "                        )\n",
    "                    ) for  i,p in enumerate(playload)]\n",
    "len(update_operations),update_operations[0]"
   ]
  },
  {
   "cell_type": "code",
   "execution_count": 19,
   "metadata": {},
   "outputs": [
    {
     "data": {
      "text/plain": [
       "CountResult(count=594225)"
      ]
     },
     "execution_count": 19,
     "metadata": {},
     "output_type": "execute_result"
    }
   ],
   "source": [
    "collection_name='专利_w2v'\n",
    "client.count(collection_name)"
   ]
  },
  {
   "cell_type": "code",
   "execution_count": 12,
   "metadata": {},
   "outputs": [],
   "source": [
    "# %%time\n",
    "# client.batch_update_points(collection_name=collection_name,update_operations=update_operations,)"
   ]
  },
  {
   "cell_type": "code",
   "execution_count": 104,
   "metadata": {},
   "outputs": [],
   "source": [
    "from qdrant_client.models import PayloadFieldSchema,PayloadSchemaType,PayloadSchemaParams,VectorParams,IntegerIndexParams,TextIndexParams,VectorsConfigDiff,VectorsConfig,SparseVectorsConfig,VectorParamsDiff,ScalarQuantization,ScalarQuantizationConfig,CollectionParamsDiff,OptimizersConfigDiff,VectorsConfigDiff,HnswConfigDiff,HnswConfig,CollectionParams,CollectionConfig\n",
    "from qdrant_client.models import Filter, PayloadField,FieldCondition, HasIdCondition, IsEmptyCondition, MatchValue,SparseVectorParams,Distance,ScalarType,UpdateCollection#稀疏向量索引"
   ]
  },
  {
   "cell_type": "code",
   "execution_count": null,
   "metadata": {},
   "outputs": [],
   "source": [
    "hnsw_config=HnswConfig(m=16, ef_construct=100, full_scan_threshold=10000, max_indexing_threads=0, on_disk=False, payload_m=None)\n",
    "#vectors=VectorParams(size=1024, distance=<Distance.COSINE: 'Cosine'>, hnsw_config=None, quantization_config=None, on_disk=None, datatype=None), \n",
    "#config=CollectionConfig(params=CollectionParams(vectors=VectorParams(size=1024, distance=<Distance.COSINE: 'Cosine'>, hnsw_config=None, quantization_config=None, on_disk=None, datatype=None), "
   ]
  },
  {
   "cell_type": "code",
   "execution_count": null,
   "metadata": {},
   "outputs": [],
   "source": [
    "#search_params=models.SearchParams(hnsw_ef=128, exact=False),"
   ]
  },
  {
   "cell_type": "code",
   "execution_count": 21,
   "metadata": {},
   "outputs": [
    {
     "data": {
      "text/plain": [
       "CollectionInfo(status=<CollectionStatus.YELLOW: 'yellow'>, optimizer_status=<OptimizersStatusOneOf.OK: 'ok'>, vectors_count=None, indexed_vectors_count=594225, points_count=594225, segments_count=4, config=CollectionConfig(params=CollectionParams(vectors=VectorParams(size=250, distance=<Distance.COSINE: 'Cosine'>, hnsw_config=None, quantization_config=None, on_disk=None, datatype=None), shard_number=1, sharding_method=None, replication_factor=1, write_consistency_factor=1, read_fan_out_factor=None, on_disk_payload=True, sparse_vectors=None), hnsw_config=HnswConfig(m=16, ef_construct=100, full_scan_threshold=10000, max_indexing_threads=0, on_disk=True, payload_m=None), optimizer_config=OptimizersConfig(deleted_threshold=0.2, vacuum_min_vector_number=1000, default_segment_number=0, max_segment_size=None, memmap_threshold=None, indexing_threshold=20000, flush_interval_sec=5, max_optimization_threads=None), wal_config=WalConfig(wal_capacity_mb=32, wal_segments_ahead=0), quantization_config=None), payload_schema={'行业': PayloadIndexInfo(data_type=<PayloadSchemaType.KEYWORD: 'keyword'>, params=None, points=594225), 'word': PayloadIndexInfo(data_type=<PayloadSchemaType.KEYWORD: 'keyword'>, params=None, points=594225)})"
      ]
     },
     "execution_count": 21,
     "metadata": {},
     "output_type": "execute_result"
    }
   ],
   "source": [
    "client.get_collection('专利_w2v')"
   ]
  },
  {
   "cell_type": "code",
   "execution_count": 38,
   "metadata": {},
   "outputs": [],
   "source": [
    "#If true, vectors are served from disk, improving RAM usage at the cost of latency\n",
    "#启用磁盘向量和 HNSW 索引\n",
    "vectors_config=VectorParams(\n",
    "        size=768, distance=Distance.COSINE, on_disk=True\n",
    "    )"
   ]
  },
  {
   "cell_type": "code",
   "execution_count": 54,
   "metadata": {},
   "outputs": [],
   "source": [
    "# collection_name: str, \n",
    "# optimizers_config:qdrant_client.conversions.common_types.OptimizersConfigDiff | None = None, \n",
    "# collection_params: qdrant_client.conversions.common_types.CollectionParamsDiff | None = None, \n",
    "# vectors_config: qdrant_client.conversions.common_types.VectorsConfigDiff | None = None,\n",
    "# hnsw_config: qdrant_client.conversions.common_types.HnswConfigDiff | None = None, \n",
    "# quantization_config: qdrant_client.conversions.common_types.QuantizationConfigDiff | None = None, \n",
    "# timeout: int | None = None,"
   ]
  },
  {
   "cell_type": "code",
   "execution_count": 20,
   "metadata": {},
   "outputs": [
    {
     "data": {
      "text/plain": [
       "True"
      ]
     },
     "execution_count": 20,
     "metadata": {},
     "output_type": "execute_result"
    }
   ],
   "source": [
    "client.update_collection(\n",
    "    collection_name=\"专利_w2v\",hnsw_config=HnswConfigDiff(on_disk=True))#向量索引\n",
    "#vectors_config="
   ]
  },
  {
   "cell_type": "code",
   "execution_count": 50,
   "metadata": {},
   "outputs": [
    {
     "data": {
      "text/plain": [
       "True"
      ]
     },
     "execution_count": 50,
     "metadata": {},
     "output_type": "execute_result"
    }
   ],
   "source": [
    "client.update_collection(\n",
    "collection_name=\"专利_bge_189\",hnsw_config=HnswConfigDiff(on_disk=True) ,)"
   ]
  },
  {
   "cell_type": "code",
   "execution_count": 57,
   "metadata": {},
   "outputs": [
    {
     "data": {
      "text/plain": [
       "{'_inst': False,\n",
       " '_name': 'Dict',\n",
       " '__origin__': dict,\n",
       " '__slots__': None,\n",
       " '__args__': (str, ForwardRef('VectorParamsDiff')),\n",
       " '__parameters__': ()}"
      ]
     },
     "execution_count": 57,
     "metadata": {},
     "output_type": "execute_result"
    }
   ],
   "source": [
    "VectorsConfigDiff.__dict__"
   ]
  },
  {
   "cell_type": "code",
   "execution_count": 69,
   "metadata": {},
   "outputs": [
    {
     "data": {
      "text/plain": [
       "VectorParamsDiff(hnsw_config=None, quantization_config=None, on_disk=True)"
      ]
     },
     "execution_count": 69,
     "metadata": {},
     "output_type": "execute_result"
    }
   ],
   "source": [
    "VectorParamsDiff(on_disk=True)#vectors_config="
   ]
  },
  {
   "cell_type": "code",
   "execution_count": 77,
   "metadata": {},
   "outputs": [
    {
     "data": {
      "text/plain": [
       "{'hnsw_config': None, 'quantization_config': None, 'on_disk': True}"
      ]
     },
     "execution_count": 77,
     "metadata": {},
     "output_type": "execute_result"
    }
   ],
   "source": [
    "VectorParamsDiff(on_disk=True).dict()"
   ]
  },
  {
   "cell_type": "code",
   "execution_count": 125,
   "metadata": {},
   "outputs": [
    {
     "ename": "TypeError",
     "evalue": "Type Dict cannot be instantiated; use dict() instead",
     "output_type": "error",
     "traceback": [
      "\u001b[1;31m---------------------------------------------------------------------------\u001b[0m",
      "\u001b[1;31mTypeError\u001b[0m                                 Traceback (most recent call last)",
      "Cell \u001b[1;32mIn[125], line 2\u001b[0m\n\u001b[0;32m      1\u001b[0m \u001b[38;5;28;01mfrom\u001b[39;00m \u001b[38;5;21;01mtyping\u001b[39;00m \u001b[38;5;28;01mimport\u001b[39;00m Dict\n\u001b[1;32m----> 2\u001b[0m vectors_config_diff \u001b[38;5;241m=\u001b[39m \u001b[43mVectorsConfigDiff\u001b[49m\u001b[43m(\u001b[49m\u001b[43m{\u001b[49m\u001b[38;5;124;43m\"\u001b[39;49m\u001b[38;5;124;43mon_disk\u001b[39;49m\u001b[38;5;124;43m\"\u001b[39;49m\u001b[43m:\u001b[49m\u001b[43m \u001b[49m\u001b[43mVectorParamsDiff\u001b[49m\u001b[43m(\u001b[49m\u001b[43mon_disk\u001b[49m\u001b[38;5;241;43m=\u001b[39;49m\u001b[38;5;28;43;01mTrue\u001b[39;49;00m\u001b[43m)\u001b[49m\u001b[43m}\u001b[49m\u001b[43m)\u001b[49m\n",
      "File \u001b[1;32md:\\ProgramData\\Python\\Python39\\lib\\typing.py:685\u001b[0m, in \u001b[0;36m_BaseGenericAlias.__call__\u001b[1;34m(self, *args, **kwargs)\u001b[0m\n\u001b[0;32m    683\u001b[0m \u001b[38;5;28;01mdef\u001b[39;00m \u001b[38;5;21m__call__\u001b[39m(\u001b[38;5;28mself\u001b[39m, \u001b[38;5;241m*\u001b[39margs, \u001b[38;5;241m*\u001b[39m\u001b[38;5;241m*\u001b[39mkwargs):\n\u001b[0;32m    684\u001b[0m     \u001b[38;5;28;01mif\u001b[39;00m \u001b[38;5;129;01mnot\u001b[39;00m \u001b[38;5;28mself\u001b[39m\u001b[38;5;241m.\u001b[39m_inst:\n\u001b[1;32m--> 685\u001b[0m         \u001b[38;5;28;01mraise\u001b[39;00m \u001b[38;5;167;01mTypeError\u001b[39;00m(\u001b[38;5;124mf\u001b[39m\u001b[38;5;124m\"\u001b[39m\u001b[38;5;124mType \u001b[39m\u001b[38;5;132;01m{\u001b[39;00m\u001b[38;5;28mself\u001b[39m\u001b[38;5;241m.\u001b[39m_name\u001b[38;5;132;01m}\u001b[39;00m\u001b[38;5;124m cannot be instantiated; \u001b[39m\u001b[38;5;124m\"\u001b[39m\n\u001b[0;32m    686\u001b[0m                         \u001b[38;5;124mf\u001b[39m\u001b[38;5;124m\"\u001b[39m\u001b[38;5;124muse \u001b[39m\u001b[38;5;132;01m{\u001b[39;00m\u001b[38;5;28mself\u001b[39m\u001b[38;5;241m.\u001b[39m__origin__\u001b[38;5;241m.\u001b[39m\u001b[38;5;18m__name__\u001b[39m\u001b[38;5;132;01m}\u001b[39;00m\u001b[38;5;124m() instead\u001b[39m\u001b[38;5;124m\"\u001b[39m)\n\u001b[0;32m    687\u001b[0m     result \u001b[38;5;241m=\u001b[39m \u001b[38;5;28mself\u001b[39m\u001b[38;5;241m.\u001b[39m__origin__(\u001b[38;5;241m*\u001b[39margs, \u001b[38;5;241m*\u001b[39m\u001b[38;5;241m*\u001b[39mkwargs)\n\u001b[0;32m    688\u001b[0m     \u001b[38;5;28;01mtry\u001b[39;00m:\n",
      "\u001b[1;31mTypeError\u001b[0m: Type Dict cannot be instantiated; use dict() instead"
     ]
    }
   ],
   "source": [
    "from typing import Dict\n",
    "vectors_config_diff = VectorsConfigDiff({\"on_disk\": VectorParamsDiff(on_disk=True)})"
   ]
  },
  {
   "cell_type": "code",
   "execution_count": 39,
   "metadata": {},
   "outputs": [
    {
     "data": {
      "text/plain": [
       "OptimizersConfigDiff(deleted_threshold=None, vacuum_min_vector_number=None, default_segment_number=None, max_segment_size=None, memmap_threshold=20000, indexing_threshold=None, flush_interval_sec=None, max_optimization_threads=None)"
      ]
     },
     "execution_count": 39,
     "metadata": {},
     "output_type": "execute_result"
    }
   ],
   "source": [
    "#Memmap 存储 - 创建与磁盘上的文件关联的虚拟地址空间，映射文件不会直接加载到 RAM 中。相反，它们使用页面缓存来访问文件的内容。 此方案允许灵活使用可用内存。有了足够的RAM，它几乎和内存存储一样快。\n",
    "#每个段要存储内存中的矢量的最大大小（以千字节为单位）。大于此阈值的段将存储为只读 memmaped 文件。\n",
    "#默认情况下，Memmap 存储处于禁用状态，要启用它，请将此阈值设置为合理的值。\n",
    "OptimizersConfigDiff(memmap_threshold=20000)#全局设置阈值"
   ]
  },
  {
   "cell_type": "code",
   "execution_count": 43,
   "metadata": {},
   "outputs": [
    {
     "data": {
      "text/plain": [
       "ScalarQuantizationConfig(type=<ScalarType.INT8: 'int8'>, quantile=None, always_ram=True)"
      ]
     },
     "execution_count": 43,
     "metadata": {},
     "output_type": "execute_result"
    }
   ],
   "source": [
    "scalar=ScalarQuantizationConfig(\n",
    "            type=ScalarType.INT8,\n",
    "            always_ram=True,\n",
    "        )\n",
    "scalar#量化将向量转换为更紧凑的表示形式，可以存储在内存中并用于搜索。使用较小的向量"
   ]
  },
  {
   "cell_type": "code",
   "execution_count": 73,
   "metadata": {},
   "outputs": [
    {
     "data": {
      "text/plain": [
       "ScalarQuantization(scalar=ScalarQuantizationConfig(type=<ScalarType.INT8: 'int8'>, quantile=None, always_ram=True))"
      ]
     },
     "execution_count": 73,
     "metadata": {},
     "output_type": "execute_result"
    }
   ],
   "source": [
    "ScalarQuantization(\n",
    "        scalar=scalar,\n",
    "        )"
   ]
  },
  {
   "cell_type": "code",
   "execution_count": 96,
   "metadata": {},
   "outputs": [
    {
     "ename": "TypeError",
     "evalue": "Message must be initialized with a dict: qdrant.UpdateCollection",
     "output_type": "error",
     "traceback": [
      "\u001b[1;31m---------------------------------------------------------------------------\u001b[0m",
      "\u001b[1;31mTypeError\u001b[0m                                 Traceback (most recent call last)",
      "Cell \u001b[1;32mIn[96], line 1\u001b[0m\n\u001b[1;32m----> 1\u001b[0m \u001b[43mclient\u001b[49m\u001b[38;5;241;43m.\u001b[39;49m\u001b[43mupdate_collection\u001b[49m\u001b[43m(\u001b[49m\n\u001b[0;32m      2\u001b[0m \u001b[43mcollection_name\u001b[49m\u001b[38;5;241;43m=\u001b[39;49m\u001b[38;5;124;43m\"\u001b[39;49m\u001b[38;5;124;43mplaces_bank\u001b[39;49m\u001b[38;5;124;43m\"\u001b[39;49m\u001b[43m,\u001b[49m\u001b[43mvectors_config\u001b[49m\u001b[38;5;241;43m=\u001b[39;49m\u001b[43mVectorParamsDiff\u001b[49m\u001b[43m(\u001b[49m\u001b[43mon_disk\u001b[49m\u001b[38;5;241;43m=\u001b[39;49m\u001b[38;5;28;43;01mTrue\u001b[39;49;00m\u001b[43m)\u001b[49m\u001b[43m,\u001b[49m\n\u001b[0;32m      3\u001b[0m \u001b[43mquantization_config\u001b[49m\u001b[38;5;241;43m=\u001b[39;49m\u001b[43mScalarQuantization\u001b[49m\u001b[43m(\u001b[49m\u001b[43mscalar\u001b[49m\u001b[38;5;241;43m=\u001b[39;49m\u001b[43mScalarQuantizationConfig\u001b[49m\u001b[43m(\u001b[49m\u001b[38;5;28;43mtype\u001b[39;49m\u001b[38;5;241;43m=\u001b[39;49m\u001b[43mScalarType\u001b[49m\u001b[38;5;241;43m.\u001b[39;49m\u001b[43mINT8\u001b[49m\u001b[43m,\u001b[49m\u001b[43malways_ram\u001b[49m\u001b[38;5;241;43m=\u001b[39;49m\u001b[38;5;28;43;01mTrue\u001b[39;49;00m\u001b[43m,\u001b[49m\u001b[43m)\u001b[49m\u001b[43m)\u001b[49m\u001b[43m,\u001b[49m\u001b[43m)\u001b[49m\n",
      "File \u001b[1;32md:\\ProgramData\\Python\\Python39\\lib\\site-packages\\qdrant_client\\qdrant_client.py:1631\u001b[0m, in \u001b[0;36mQdrantClient.update_collection\u001b[1;34m(self, collection_name, optimizers_config, collection_params, vectors_config, hnsw_config, quantization_config, timeout, sparse_vectors_config, **kwargs)\u001b[0m\n\u001b[0;32m   1627\u001b[0m     optimizers_config \u001b[38;5;241m=\u001b[39m kwargs\u001b[38;5;241m.\u001b[39mpop(\u001b[38;5;124m\"\u001b[39m\u001b[38;5;124moptimizer_config\u001b[39m\u001b[38;5;124m\"\u001b[39m)\n\u001b[0;32m   1629\u001b[0m \u001b[38;5;28;01massert\u001b[39;00m \u001b[38;5;28mlen\u001b[39m(kwargs) \u001b[38;5;241m==\u001b[39m \u001b[38;5;241m0\u001b[39m, \u001b[38;5;124mf\u001b[39m\u001b[38;5;124m\"\u001b[39m\u001b[38;5;124mUnknown arguments: \u001b[39m\u001b[38;5;132;01m{\u001b[39;00m\u001b[38;5;28mlist\u001b[39m(kwargs\u001b[38;5;241m.\u001b[39mkeys())\u001b[38;5;132;01m}\u001b[39;00m\u001b[38;5;124m\"\u001b[39m\n\u001b[1;32m-> 1631\u001b[0m \u001b[38;5;28;01mreturn\u001b[39;00m \u001b[38;5;28mself\u001b[39m\u001b[38;5;241m.\u001b[39m_client\u001b[38;5;241m.\u001b[39mupdate_collection(\n\u001b[0;32m   1632\u001b[0m     collection_name\u001b[38;5;241m=\u001b[39mcollection_name,\n\u001b[0;32m   1633\u001b[0m     optimizers_config\u001b[38;5;241m=\u001b[39moptimizers_config,\n\u001b[0;32m   1634\u001b[0m     collection_params\u001b[38;5;241m=\u001b[39mcollection_params,\n\u001b[0;32m   1635\u001b[0m     vectors_config\u001b[38;5;241m=\u001b[39mvectors_config,\n\u001b[0;32m   1636\u001b[0m     hnsw_config\u001b[38;5;241m=\u001b[39mhnsw_config,\n\u001b[0;32m   1637\u001b[0m     quantization_config\u001b[38;5;241m=\u001b[39mquantization_config,\n\u001b[0;32m   1638\u001b[0m     timeout\u001b[38;5;241m=\u001b[39mtimeout,\n\u001b[0;32m   1639\u001b[0m     sparse_vectors_config\u001b[38;5;241m=\u001b[39msparse_vectors_config,\n\u001b[0;32m   1640\u001b[0m     \u001b[38;5;241m*\u001b[39m\u001b[38;5;241m*\u001b[39mkwargs,\n\u001b[0;32m   1641\u001b[0m )\n",
      "File \u001b[1;32md:\\ProgramData\\Python\\Python39\\lib\\site-packages\\qdrant_client\\qdrant_remote.py:2105\u001b[0m, in \u001b[0;36mQdrantRemote.update_collection\u001b[1;34m(self, collection_name, optimizers_config, collection_params, vectors_config, hnsw_config, quantization_config, timeout, sparse_vectors_config, **kwargs)\u001b[0m\n\u001b[0;32m   2099\u001b[0m     \u001b[38;5;28;01mif\u001b[39;00m \u001b[38;5;28misinstance\u001b[39m(sparse_vectors_config, \u001b[38;5;28mdict\u001b[39m):\n\u001b[0;32m   2100\u001b[0m         sparse_vectors_config \u001b[38;5;241m=\u001b[39m RestToGrpc\u001b[38;5;241m.\u001b[39mconvert_sparse_vector_config(\n\u001b[0;32m   2101\u001b[0m             sparse_vectors_config\n\u001b[0;32m   2102\u001b[0m         )\n\u001b[0;32m   2104\u001b[0m     \u001b[38;5;28;01mreturn\u001b[39;00m \u001b[38;5;28mself\u001b[39m\u001b[38;5;241m.\u001b[39mgrpc_collections\u001b[38;5;241m.\u001b[39mUpdate(\n\u001b[1;32m-> 2105\u001b[0m         \u001b[43mgrpc\u001b[49m\u001b[38;5;241;43m.\u001b[39;49m\u001b[43mUpdateCollection\u001b[49m\u001b[43m(\u001b[49m\n\u001b[0;32m   2106\u001b[0m \u001b[43m            \u001b[49m\u001b[43mcollection_name\u001b[49m\u001b[38;5;241;43m=\u001b[39;49m\u001b[43mcollection_name\u001b[49m\u001b[43m,\u001b[49m\n\u001b[0;32m   2107\u001b[0m \u001b[43m            \u001b[49m\u001b[43moptimizers_config\u001b[49m\u001b[38;5;241;43m=\u001b[39;49m\u001b[43moptimizers_config\u001b[49m\u001b[43m,\u001b[49m\n\u001b[0;32m   2108\u001b[0m \u001b[43m            \u001b[49m\u001b[43mparams\u001b[49m\u001b[38;5;241;43m=\u001b[39;49m\u001b[43mcollection_params\u001b[49m\u001b[43m,\u001b[49m\n\u001b[0;32m   2109\u001b[0m \u001b[43m            \u001b[49m\u001b[43mvectors_config\u001b[49m\u001b[38;5;241;43m=\u001b[39;49m\u001b[43mvectors_config\u001b[49m\u001b[43m,\u001b[49m\n\u001b[0;32m   2110\u001b[0m \u001b[43m            \u001b[49m\u001b[43mhnsw_config\u001b[49m\u001b[38;5;241;43m=\u001b[39;49m\u001b[43mhnsw_config\u001b[49m\u001b[43m,\u001b[49m\n\u001b[0;32m   2111\u001b[0m \u001b[43m            \u001b[49m\u001b[43mquantization_config\u001b[49m\u001b[38;5;241;43m=\u001b[39;49m\u001b[43mquantization_config\u001b[49m\u001b[43m,\u001b[49m\n\u001b[0;32m   2112\u001b[0m \u001b[43m            \u001b[49m\u001b[43msparse_vectors_config\u001b[49m\u001b[38;5;241;43m=\u001b[39;49m\u001b[43msparse_vectors_config\u001b[49m\u001b[43m,\u001b[49m\n\u001b[0;32m   2113\u001b[0m \u001b[43m        \u001b[49m\u001b[43m)\u001b[49m,\n\u001b[0;32m   2114\u001b[0m         timeout\u001b[38;5;241m=\u001b[39m\u001b[38;5;28mself\u001b[39m\u001b[38;5;241m.\u001b[39m_timeout,\n\u001b[0;32m   2115\u001b[0m     )\u001b[38;5;241m.\u001b[39mresult\n\u001b[0;32m   2117\u001b[0m \u001b[38;5;28;01mif\u001b[39;00m \u001b[38;5;28misinstance\u001b[39m(optimizers_config, grpc\u001b[38;5;241m.\u001b[39mOptimizersConfigDiff):\n\u001b[0;32m   2118\u001b[0m     optimizers_config \u001b[38;5;241m=\u001b[39m GrpcToRest\u001b[38;5;241m.\u001b[39mconvert_optimizers_config_diff(optimizers_config)\n",
      "\u001b[1;31mTypeError\u001b[0m: Message must be initialized with a dict: qdrant.UpdateCollection"
     ]
    }
   ],
   "source": [
    "client.update_collection(\n",
    "collection_name=\"places_bank\",vectors_config=VectorParamsDiff(on_disk=True),\n",
    "quantization_config=ScalarQuantization(scalar=ScalarQuantizationConfig(type=ScalarType.INT8,always_ram=True,)),)\n",
    "                                       "
   ]
  },
  {
   "cell_type": "code",
   "execution_count": 127,
   "metadata": {},
   "outputs": [],
   "source": [
    "payload = json.dumps({\n",
    "    \"vectors\": {\n",
    "        \"\": {\n",
    "            \"on_disk\": True\n",
    "        }\n",
    "    },\n",
    "    \"quantization_config\": {\n",
    "        \"scalar\": {\n",
    "            \"type\": \"int8\",\n",
    "            \"always_ram\": True #如果为 true - 量化的向量将始终存储在 RAM 中，忽略主存储的配置\n",
    "        }\n",
    "    }\n",
    "})\n",
    "headers = {\"Content-Type\": \"application/json\"}"
   ]
  },
  {
   "cell_type": "code",
   "execution_count": 124,
   "metadata": {},
   "outputs": [
    {
     "data": {
      "text/plain": [
       "{'result': True, 'status': 'ok', 'time': 0.015046173}"
      ]
     },
     "execution_count": 124,
     "metadata": {},
     "output_type": "execute_result"
    }
   ],
   "source": [
    "host='47.110.156.41'\n",
    "collection_name='places_bank'\n",
    "response = requests.patch(f'http://{host}:6333/collections/{collection_name}',headers =headers, data=payload)\n",
    "response.json()"
   ]
  },
  {
   "cell_type": "code",
   "execution_count": 129,
   "metadata": {},
   "outputs": [
    {
     "data": {
      "text/plain": [
       "[ScoredPoint(id=20, version=0, score=0.3438778221607208, payload={'bank_name': '中国光大银行股份有限公司宁波余姚支行', 'bank': '光大银行', 'area': 'ningbo'}, vector=None, shard_key=None),\n",
       " ScoredPoint(id=3, version=0, score=0.3461451232433319, payload={'area': 'ningbo', 'bank': '平安银行', 'bank_name': '平安银行宁波余姚支行'}, vector=None, shard_key=None),\n",
       " ScoredPoint(id=18, version=0, score=0.37911152839660645, payload={'bank_name': '中国光大银行股份有限公司宁波余慈支行', 'bank': '光大银行', 'area': 'ningbo'}, vector=None, shard_key=None),\n",
       " ScoredPoint(id=5, version=0, score=0.491935670375824, payload={'bank_name': '平安银行宁波慈溪支行', 'bank': '平安银行', 'area': 'ningbo'}, vector=None, shard_key=None),\n",
       " ScoredPoint(id=26, version=0, score=0.5124711394309998, payload={'bank_name': '中国光大银行股份有限公司宁波慈溪支行', 'bank': '光大银行', 'area': 'ningbo'}, vector=None, shard_key=None),\n",
       " ScoredPoint(id=11, version=0, score=0.6754504442214966, payload={'area': 'ningbo', 'bank': '平安银行', 'bank_name': '平安银行宁波奉化支行'}, vector=None, shard_key=None),\n",
       " ScoredPoint(id=19, version=0, score=0.7004094123840332, payload={'bank_name': '中国光大银行股份有限公司宁波奉化支行', 'bank': '光大银行', 'area': 'ningbo'}, vector=None, shard_key=None),\n",
       " ScoredPoint(id=45, version=0, score=0.7097537517547607, payload={'area': 'ningbo', 'bank': '兴业银行', 'bank_name': '兴业银行股份有限公司宁波联丰支行'}, vector=None, shard_key=None),\n",
       " ScoredPoint(id=51, version=0, score=0.7227824926376343, payload={'area': 'ningbo', 'bank': '工商银行', 'bank_name': '中国工商银行股份有限公司宁波世纪苑支行'}, vector=None, shard_key=None),\n",
       " ScoredPoint(id=27, version=0, score=0.727897047996521, payload={'bank_name': '中国光大银行股份有限公司宁波联丰支行', 'bank': '光大银行', 'area': 'ningbo'}, vector=None, shard_key=None)]"
      ]
     },
     "execution_count": 129,
     "metadata": {},
     "output_type": "execute_result"
    }
   ],
   "source": [
    "client.search('places_bank',query_vector=[30,120.8])"
   ]
  },
  {
   "cell_type": "code",
   "execution_count": 130,
   "metadata": {},
   "outputs": [
    {
     "data": {
      "text/plain": [
       "CollectionInfo(status=<CollectionStatus.GREEN: 'green'>, optimizer_status=<OptimizersStatusOneOf.OK: 'ok'>, vectors_count=None, indexed_vectors_count=0, points_count=54, segments_count=3, config=CollectionConfig(params=CollectionParams(vectors=VectorParams(size=2, distance=<Distance.EUCLID: 'Euclid'>, hnsw_config=None, quantization_config=None, on_disk=True, datatype=None), shard_number=1, sharding_method=None, replication_factor=1, write_consistency_factor=1, read_fan_out_factor=None, on_disk_payload=True, sparse_vectors=None), hnsw_config=HnswConfig(m=32, ef_construct=200, full_scan_threshold=10000, max_indexing_threads=0, on_disk=False, payload_m=None), optimizer_config=OptimizersConfig(deleted_threshold=0.2, vacuum_min_vector_number=1000, default_segment_number=0, max_segment_size=None, memmap_threshold=None, indexing_threshold=20000, flush_interval_sec=5, max_optimization_threads=None), wal_config=WalConfig(wal_capacity_mb=32, wal_segments_ahead=0), quantization_config=ScalarQuantization(scalar=ScalarQuantizationConfig(type=<ScalarType.INT8: 'int8'>, quantile=None, always_ram=True))), payload_schema={'bank': PayloadIndexInfo(data_type=<PayloadSchemaType.KEYWORD: 'keyword'>, params=None, points=54)})"
      ]
     },
     "execution_count": 130,
     "metadata": {},
     "output_type": "execute_result"
    }
   ],
   "source": [
    "client.get_collection('places_bank')"
   ]
  },
  {
   "cell_type": "code",
   "execution_count": 126,
   "metadata": {},
   "outputs": [
    {
     "data": {
      "text/plain": [
       "{'result': True, 'status': 'ok', 'time': 0.008995901}"
      ]
     },
     "execution_count": 126,
     "metadata": {},
     "output_type": "execute_result"
    }
   ],
   "source": [
    "collection_name='专利_bge_189'\n",
    "response = requests.patch(f'http://{host}:6333/collections/{collection_name}',headers =headers, data=payload)\n",
    "response.json()"
   ]
  },
  {
   "cell_type": "code",
   "execution_count": 132,
   "metadata": {},
   "outputs": [
    {
     "data": {
      "text/plain": [
       "True"
      ]
     },
     "execution_count": 132,
     "metadata": {},
     "output_type": "execute_result"
    }
   ],
   "source": [
    "client.update_collection(\n",
    "collection_name=\"专利_bge_189\",hnsw_config=HnswConfigDiff(on_disk=False) ,)"
   ]
  },
  {
   "cell_type": "code",
   "execution_count": 136,
   "metadata": {},
   "outputs": [
    {
     "data": {
      "text/plain": [
       "CollectionInfo(status=<CollectionStatus.GREEN: 'green'>, optimizer_status=<OptimizersStatusOneOf.OK: 'ok'>, vectors_count=None, indexed_vectors_count=1897517, points_count=1897517, segments_count=12, config=CollectionConfig(params=CollectionParams(vectors=VectorParams(size=1024, distance=<Distance.COSINE: 'Cosine'>, hnsw_config=None, quantization_config=None, on_disk=True, datatype=None), shard_number=1, sharding_method=None, replication_factor=1, write_consistency_factor=1, read_fan_out_factor=None, on_disk_payload=True, sparse_vectors=None), hnsw_config=HnswConfig(m=16, ef_construct=100, full_scan_threshold=10000, max_indexing_threads=0, on_disk=False, payload_m=None), optimizer_config=OptimizersConfig(deleted_threshold=0.2, vacuum_min_vector_number=1000, default_segment_number=0, max_segment_size=None, memmap_threshold=None, indexing_threshold=20000, flush_interval_sec=5, max_optimization_threads=None), wal_config=WalConfig(wal_capacity_mb=32, wal_segments_ahead=0), quantization_config=ScalarQuantization(scalar=ScalarQuantizationConfig(type=<ScalarType.INT8: 'int8'>, quantile=None, always_ram=True))), payload_schema={'摘要长度': PayloadIndexInfo(data_type=<PayloadSchemaType.INTEGER: 'integer'>, params=None, points=1891374)})"
      ]
     },
     "execution_count": 136,
     "metadata": {},
     "output_type": "execute_result"
    }
   ],
   "source": [
    "client.get_collection('专利_bge_189')"
   ]
  },
  {
   "cell_type": "code",
   "execution_count": 137,
   "metadata": {},
   "outputs": [
    {
     "data": {
      "text/plain": [
       "{'result': True, 'status': 'ok', 'time': 0.006941608}"
      ]
     },
     "execution_count": 137,
     "metadata": {},
     "output_type": "execute_result"
    }
   ],
   "source": [
    "payload = json.dumps({\n",
    "    \"vectors\": {\n",
    "        \"\": {\n",
    "            \"on_disk\": True\n",
    "        }\n",
    "    }\n",
    "})\n",
    "collection_name='专利_w2v'\n",
    "response = requests.patch(f'http://{host}:6333/collections/{collection_name}',headers =headers, data=payload)\n",
    "response.json()"
   ]
  },
  {
   "cell_type": "code",
   "execution_count": null,
   "metadata": {},
   "outputs": [],
   "source": [
    "client.create_payload_index(\n",
    "    collection_name=\"{collection_name}\",\n",
    "    field_name=\"name_of_the_field_to_index\",\n",
    "    field_schema=\"keyword\",\n",
    ")"
   ]
  },
  {
   "cell_type": "markdown",
   "metadata": {},
   "source": [
    "参数化索引  \n",
    "IntegerIndexParams(type=models.IntegerIndexType.INTEGER,lookup=False,range=True,  \n",
    "全文索引  \n",
    "TextIndexParams(\n",
    "        type=\"text\",\n",
    "        tokenizer=models.TokenizerType.WORD,\n",
    "        min_token_len=2,\n",
    "        max_token_len=15,\n",
    "        lowercase=True,\n",
    "    ),"
   ]
  },
  {
   "cell_type": "code",
   "execution_count": 19,
   "metadata": {},
   "outputs": [
    {
     "data": {
      "text/plain": [
       "UpdateResult(operation_id=25398, status=<UpdateStatus.COMPLETED: 'completed'>)"
      ]
     },
     "execution_count": 19,
     "metadata": {},
     "output_type": "execute_result"
    }
   ],
   "source": [
    "client.create_payload_index(\n",
    "    collection_name=\"行业公司名简介_25k\",\n",
    "    field_name=\"简介长度\",\n",
    "    field_schema=PayloadSchemaType(\"integer\"),\n",
    ")"
   ]
  },
  {
   "cell_type": "code",
   "execution_count": 20,
   "metadata": {},
   "outputs": [
    {
     "data": {
      "text/plain": [
       "UpdateResult(operation_id=1899416, status=<UpdateStatus.COMPLETED: 'completed'>)"
      ]
     },
     "execution_count": 20,
     "metadata": {},
     "output_type": "execute_result"
    }
   ],
   "source": [
    "client.create_payload_index(\n",
    "    collection_name=\"专利_bge_189\",\n",
    "    field_name=\"摘要长度\",\n",
    "    field_schema=PayloadSchemaType(\"integer\"),\n",
    ")"
   ]
  },
  {
   "cell_type": "code",
   "execution_count": 145,
   "metadata": {},
   "outputs": [
    {
     "data": {
      "text/plain": [
       "[0.03180668130517006,\n",
       " -0.020956439897418022,\n",
       " -0.00612410344183445,\n",
       " 0.010814242996275425,\n",
       " 0.01716265268623829,\n",
       " -0.001597241498529911,\n",
       " -0.02715976908802986,\n",
       " -0.01438081543892622,\n",
       " 0.017202043905854225,\n",
       " 0.020065171644091606,\n",
       " 0.0020439752843230963,\n",
       " 0.04171101748943329,\n",
       " 0.010596370324492455,\n",
       " -0.03856956213712692,\n",
       " -0.030774783343076706,\n",
       " -0.00620531290769577,\n",
       " 0.013026579283177853,\n",
       " 0.011924387887120247,\n",
       " 0.015517737716436386,\n",
       " -0.005444876383990049,\n",
       " 0.020678961649537086,\n",
       " 0.0033271973952651024,\n",
       " -0.008741476573050022,\n",
       " 0.0113316485658288,\n",
       " 0.03135519474744797,\n",
       " 0.0014711013063788414,\n",
       " 0.013645828701555729,\n",
       " 0.002847616095095873,\n",
       " -0.002997361123561859,\n",
       " -0.0339239202439785,\n",
       " -0.005655971355736256,\n",
       " 0.003792912932112813,\n",
       " -0.008928515017032623,\n",
       " 0.0031156574841588736,\n",
       " -0.006073251832276583,\n",
       " -0.014159825630486012,\n",
       " 0.01316780038177967,\n",
       " -0.007948610000312328,\n",
       " 0.011621534824371338,\n",
       " -0.004912414588034153,\n",
       " -0.0009058211580850184,\n",
       " -0.002862044842913747,\n",
       " -0.0037436001002788544,\n",
       " -0.03267011418938637,\n",
       " 0.0219659935683012,\n",
       " 0.012400449253618717,\n",
       " -0.010805523954331875,\n",
       " -0.038759052753448486,\n",
       " 0.02088744379580021,\n",
       " -0.0064860074780881405,\n",
       " 0.03230312466621399,\n",
       " -0.005835730116814375,\n",
       " -0.025276999920606613,\n",
       " 0.016247674822807312,\n",
       " -0.02770853228867054,\n",
       " 0.009440464898943901,\n",
       " 0.0011628339998424053,\n",
       " 0.0060849240981042385,\n",
       " 0.022724410519003868,\n",
       " 0.005704496521502733,\n",
       " 0.013681004755198956,\n",
       " 0.17343547940254211,\n",
       " 0.006074036471545696,\n",
       " 0.0241830013692379,\n",
       " 0.034028422087430954,\n",
       " -0.024705762043595314,\n",
       " -0.00998408067971468,\n",
       " 0.01059067901223898,\n",
       " -0.0046415142714977264,\n",
       " -0.010795322246849537,\n",
       " -0.010296458378434181,\n",
       " -0.0004995716735720634,\n",
       " -0.013005508109927177,\n",
       " 0.00893322192132473,\n",
       " -0.013817008584737778,\n",
       " -0.011479964479804039,\n",
       " -0.04919252544641495,\n",
       " -0.01033942960202694,\n",
       " -0.01861782930791378,\n",
       " -0.022531192749738693,\n",
       " -0.025872796773910522,\n",
       " -0.002498240675777197,\n",
       " 0.024655068293213844,\n",
       " 0.012328675016760826,\n",
       " -0.007431215140968561,\n",
       " 0.006451886147260666,\n",
       " -0.024318786337971687,\n",
       " 0.736891508102417,\n",
       " -0.023881006985902786,\n",
       " 0.012604652903974056,\n",
       " -0.020049840211868286,\n",
       " 0.03062770515680313,\n",
       " 0.004583704750984907,\n",
       " -0.004842200316488743,\n",
       " -0.02106795646250248,\n",
       " -0.01983705535531044,\n",
       " -0.01772306114435196,\n",
       " 0.018615975975990295,\n",
       " 0.030341055244207382,\n",
       " -0.031761955469846725,\n",
       " 0.03570270165801048,\n",
       " 0.007582094520330429,\n",
       " -0.0192102063447237,\n",
       " -0.015593508258461952,\n",
       " -0.020350581035017967,\n",
       " -0.026019828394055367,\n",
       " -0.010937927290797234,\n",
       " 0.0013349171495065093,\n",
       " -0.015685776248574257,\n",
       " 0.02636522427201271,\n",
       " 0.04326633736491203,\n",
       " -0.011844505555927753,\n",
       " -0.02886670082807541,\n",
       " 0.010919679887592793,\n",
       " -0.007873870432376862,\n",
       " -0.005907712038606405,\n",
       " -0.012901777401566505,\n",
       " 0.0022582467645406723,\n",
       " 0.0040004439651966095,\n",
       " 0.014789989218115807,\n",
       " 0.04872402176260948,\n",
       " -0.038908809423446655,\n",
       " -0.00934667605906725,\n",
       " 0.009533969685435295,\n",
       " 0.0035504172556102276,\n",
       " -0.005536150652915239,\n",
       " -0.020678693428635597,\n",
       " -0.030479108914732933,\n",
       " 0.025586243718862534,\n",
       " 0.00783947017043829,\n",
       " 0.0011749484110623598,\n",
       " 0.023983485996723175,\n",
       " 0.01962641067802906,\n",
       " 0.033548202365636826,\n",
       " -0.03562133014202118,\n",
       " 0.013847744092345238,\n",
       " 0.009831087663769722,\n",
       " 0.0043028066866099834,\n",
       " -8.789799176156521e-05,\n",
       " -0.0073431567288935184,\n",
       " 0.01179321389645338,\n",
       " -0.030616573989391327,\n",
       " 0.030051393434405327,\n",
       " -0.022667987272143364,\n",
       " 0.02558973990380764,\n",
       " 0.009349485859274864,\n",
       " 0.018545974045991898,\n",
       " 0.013609509915113449,\n",
       " 0.036990776658058167,\n",
       " -0.002528783865272999,\n",
       " 0.058371465653181076,\n",
       " -0.01987278275191784,\n",
       " 0.006325014401227236,\n",
       " -0.03749837353825569,\n",
       " 0.008924978785216808,\n",
       " 0.014257412403821945,\n",
       " 0.02700013481080532,\n",
       " 0.014156755991280079,\n",
       " 0.005327701102942228,\n",
       " -0.0185275599360466,\n",
       " -0.0035535660572350025,\n",
       " -0.004630217794328928,\n",
       " 0.003185313194990158,\n",
       " 0.004490996245294809,\n",
       " -0.027177982032299042,\n",
       " -0.05238725244998932,\n",
       " 0.008203517645597458,\n",
       " -0.026057805866003036,\n",
       " -0.009550572372972965,\n",
       " 0.021255822852253914,\n",
       " -0.0007789430092088878,\n",
       " 0.05197620019316673,\n",
       " 0.015422756783664227,\n",
       " 0.014381777495145798,\n",
       " 0.016831958666443825,\n",
       " 0.019838640466332436,\n",
       " -0.0061432113870978355,\n",
       " 0.018864307552576065,\n",
       " -0.018172364681959152,\n",
       " 0.014986423775553703,\n",
       " 0.01488569751381874,\n",
       " 0.0016958668129518628,\n",
       " -0.006624174304306507,\n",
       " -0.031799305230379105,\n",
       " 0.01846178062260151,\n",
       " 0.01093708723783493,\n",
       " 0.008203752338886261,\n",
       " 0.011982420459389687,\n",
       " 0.00869839359074831,\n",
       " 0.015783658251166344,\n",
       " 0.012174557894468307,\n",
       " 0.007077782414853573,\n",
       " -0.0022943629883229733,\n",
       " -0.012107335031032562,\n",
       " -0.005914581939578056,\n",
       " -0.031350113451480865,\n",
       " -0.021621983498334885,\n",
       " 0.011009087786078453,\n",
       " 0.03597361594438553,\n",
       " -0.01407563779503107,\n",
       " -0.008590619079768658,\n",
       " 0.018019065260887146,\n",
       " 0.002823434304445982,\n",
       " -0.0004606826405506581,\n",
       " 0.0012951154494658113,\n",
       " 0.0013076741015538573,\n",
       " 0.03375784680247307,\n",
       " 0.01763668842613697,\n",
       " -0.00408056890591979,\n",
       " 0.013121422380208969,\n",
       " -0.022314002737402916,\n",
       " 0.008002202026546001,\n",
       " 0.010312486439943314,\n",
       " -0.006080633029341698,\n",
       " -0.02562444657087326,\n",
       " -0.020829344168305397,\n",
       " -0.03589492663741112,\n",
       " -0.0037304048892110586,\n",
       " 0.0021715143229812384,\n",
       " 0.013751767575740814,\n",
       " -0.025263002142310143,\n",
       " 0.0029011336155235767,\n",
       " 0.01826528087258339,\n",
       " 0.008652552030980587,\n",
       " 0.001985567156225443,\n",
       " 0.021179819479584694,\n",
       " 0.0022577005438506603,\n",
       " -0.01364356279373169,\n",
       " -0.022021688520908356,\n",
       " 0.01465265080332756,\n",
       " 0.0062042949721217155,\n",
       " 0.00793588999658823,\n",
       " -0.013167046941816807,\n",
       " 0.0029239014256745577,\n",
       " -0.020876063033938408,\n",
       " -0.0004442796634975821,\n",
       " 0.007086737081408501,\n",
       " -0.04290913790464401,\n",
       " -0.027094587683677673,\n",
       " 0.03683723881840706,\n",
       " -0.057026129215955734,\n",
       " 0.010657694190740585,\n",
       " -0.024684498086571693,\n",
       " -0.030322566628456116,\n",
       " -0.002994223264977336,\n",
       " -0.003571621375158429,\n",
       " 0.006222943309694529,\n",
       " -0.007022317498922348,\n",
       " 0.017160892486572266,\n",
       " -0.0006353657809086144,\n",
       " -0.0434362068772316,\n",
       " -0.014607001096010208,\n",
       " 0.01250168215483427,\n",
       " -0.0539858341217041,\n",
       " 0.010466838255524635,\n",
       " -0.005107503850013018,\n",
       " 0.01831575483083725,\n",
       " 0.01219173427671194,\n",
       " -0.004719557240605354,\n",
       " -0.009857610799372196,\n",
       " -0.010741428472101688,\n",
       " 0.02430024743080139,\n",
       " 0.015077297575771809,\n",
       " -0.016276834532618523,\n",
       " -0.02427220158278942,\n",
       " -0.01934470795094967,\n",
       " -0.012595667503774166,\n",
       " 0.0200029406696558,\n",
       " -0.017241448163986206,\n",
       " -0.014838493429124355,\n",
       " -0.00048641336616128683,\n",
       " -0.010354595258831978,\n",
       " -0.012600766494870186,\n",
       " -0.024726208299398422,\n",
       " 0.005468821153044701,\n",
       " 0.014849510975182056,\n",
       " -0.01900617592036724,\n",
       " 0.039507780224084854,\n",
       " -0.007590355817228556,\n",
       " -0.03206608444452286,\n",
       " -0.01645071990787983,\n",
       " 0.004082630388438702,\n",
       " 0.0057188719511032104,\n",
       " 0.021055035293102264,\n",
       " 0.0011608930071815848,\n",
       " 0.0053925770334899426,\n",
       " -0.021162671968340874,\n",
       " -0.006551072001457214,\n",
       " 0.016148177906870842,\n",
       " -0.02970195561647415,\n",
       " -0.02320011518895626,\n",
       " -0.00534832151606679,\n",
       " -0.02915029041469097,\n",
       " -0.028944462537765503,\n",
       " -0.010277501307427883,\n",
       " 0.01136228907853365,\n",
       " 0.0173016507178545,\n",
       " 0.006367298308759928,\n",
       " 0.01910408027470112,\n",
       " -0.008295219391584396,\n",
       " 0.01744888350367546,\n",
       " -0.004015014972537756,\n",
       " 0.0033721865620464087,\n",
       " -0.02987225167453289,\n",
       " -0.008871953934431076,\n",
       " 0.006769503466784954,\n",
       " -0.01755727268755436,\n",
       " 0.01096186414361,\n",
       " 0.026871690526604652,\n",
       " 0.030394770205020905,\n",
       " 0.0012679294450208545,\n",
       " -0.009987507946789265,\n",
       " -0.004895308520644903,\n",
       " 0.011100482195615768,\n",
       " -0.034812524914741516,\n",
       " -0.003226366126909852,\n",
       " 0.00866772886365652,\n",
       " -0.00040977823664434254,\n",
       " -0.011972333304584026,\n",
       " 0.04243912920355797,\n",
       " 0.028561951592564583,\n",
       " 0.018126271665096283,\n",
       " -0.021131262183189392,\n",
       " -0.05162211135029793,\n",
       " 0.024073313921689987,\n",
       " 0.009659603238105774,\n",
       " -0.01097969338297844,\n",
       " -0.003810318885371089,\n",
       " -0.0017409558640792966,\n",
       " -0.0014903410337865353,\n",
       " -0.006373376585543156,\n",
       " 0.024169865995645523,\n",
       " -0.020411904901266098,\n",
       " 0.02624988928437233,\n",
       " 0.01295006088912487,\n",
       " 0.03274669870734215,\n",
       " -0.017344463616609573,\n",
       " 0.03886496275663376,\n",
       " -0.018651083111763,\n",
       " -0.004442663863301277,\n",
       " 0.01230613049119711,\n",
       " -0.026828814297914505,\n",
       " 0.003843142418190837,\n",
       " 0.005205100402235985,\n",
       " 0.027082987129688263,\n",
       " -0.00395183265209198,\n",
       " 0.009867644868791103,\n",
       " 0.015626782551407814,\n",
       " -0.0067955548875033855,\n",
       " -0.0008444648701697588,\n",
       " 0.0017699128948152065,\n",
       " 0.019056854769587517,\n",
       " 0.022968782112002373,\n",
       " -0.00640746857970953,\n",
       " -0.027326207607984543,\n",
       " 0.02433803305029869,\n",
       " -0.003602496115490794,\n",
       " -0.025468293577432632,\n",
       " 0.0251497533172369,\n",
       " -0.014258596114814281,\n",
       " -0.02474324405193329,\n",
       " -0.022022252902388573,\n",
       " 0.024437272921204567,\n",
       " 0.006448238622397184,\n",
       " 0.04133782908320427,\n",
       " -0.03616299107670784,\n",
       " -0.0216904915869236,\n",
       " 0.027117369696497917,\n",
       " -0.02801884338259697,\n",
       " -0.03473806753754616,\n",
       " 0.016096193343400955,\n",
       " 0.019483765587210655,\n",
       " 0.04170934855937958,\n",
       " -0.038869988173246384,\n",
       " -0.019301094114780426,\n",
       " -0.011514937505126,\n",
       " 0.016006041318178177,\n",
       " -0.010894516482949257,\n",
       " -0.00017168100748676807,\n",
       " -0.022488851100206375,\n",
       " -0.01392792072147131,\n",
       " 0.0084921196103096,\n",
       " -0.0040090507827699184,\n",
       " -0.009990832768380642,\n",
       " 0.00023839404457248747,\n",
       " 0.0010692743817344308,\n",
       " -0.0060141258873045444,\n",
       " 0.00788072682917118,\n",
       " 0.0005103446310386062,\n",
       " 0.03152473270893097,\n",
       " -0.006363519001752138,\n",
       " -0.006397285498678684,\n",
       " 0.009615409187972546,\n",
       " -0.002448702696710825,\n",
       " -0.016417095437645912,\n",
       " 0.04135691002011299,\n",
       " -0.012791207060217857,\n",
       " 0.02617965266108513,\n",
       " -0.029018225148320198,\n",
       " -0.0027230349369347095,\n",
       " -0.01805165782570839,\n",
       " 0.007241087034344673,\n",
       " -0.008602213114500046,\n",
       " -0.16638804972171783,\n",
       " 0.023166730999946594,\n",
       " 0.0030393495690077543,\n",
       " 0.030668586492538452,\n",
       " -0.027809157967567444,\n",
       " 0.00581434927880764,\n",
       " 0.012923511676490307,\n",
       " -0.02850230596959591,\n",
       " -0.009410558268427849,\n",
       " -0.028126966208219528,\n",
       " -0.03410108759999275,\n",
       " -0.039357252418994904,\n",
       " -0.02425685152411461,\n",
       " -0.013653515838086605,\n",
       " 0.01788276992738247,\n",
       " 0.007272222079336643,\n",
       " 0.0036600001621991396,\n",
       " 0.00954118650406599,\n",
       " 0.005284697283059359,\n",
       " -0.022262439131736755,\n",
       " 0.0014269036473706365,\n",
       " -0.02250264212489128,\n",
       " -0.007527813781052828,\n",
       " -0.01251484826207161,\n",
       " 0.0027366639114916325,\n",
       " 0.009033102542161942,\n",
       " -0.013522431254386902,\n",
       " -0.0012875483371317387,\n",
       " -0.0037861994933336973,\n",
       " -0.005069344770163298,\n",
       " -0.02856915444135666,\n",
       " -0.028255468234419823,\n",
       " -0.003824858460575342,\n",
       " -0.025109732523560524,\n",
       " -0.014846413396298885,\n",
       " -0.04945370927453041,\n",
       " 0.0014619756257161498,\n",
       " -0.01126366388052702,\n",
       " 0.01406494714319706,\n",
       " -0.007590749301016331,\n",
       " -0.016016831621527672,\n",
       " 0.0003622424555942416,\n",
       " -0.04085162281990051,\n",
       " -0.02657226100564003,\n",
       " -0.007620573975145817,\n",
       " 0.01990143395960331,\n",
       " -0.02821623533964157,\n",
       " 0.038515590131282806,\n",
       " 0.009540930390357971,\n",
       " 0.01860436052083969,\n",
       " 0.010139120742678642,\n",
       " -0.006965477950870991,\n",
       " -0.006557266227900982,\n",
       " -0.001961556961759925,\n",
       " 0.012180930003523827,\n",
       " -0.007735400460660458,\n",
       " -0.0051194289699196815,\n",
       " -0.003981975372880697,\n",
       " 0.05179407075047493,\n",
       " -0.01968182437121868,\n",
       " 0.0072354101575911045,\n",
       " 0.006477762013673782,\n",
       " -0.04938559606671333,\n",
       " 0.01725606992840767,\n",
       " 0.004465898498892784,\n",
       " 0.014803820289671421,\n",
       " -0.00623909430578351,\n",
       " -0.038356829434633255,\n",
       " 0.0019384876359254122,\n",
       " -0.009719864465296268,\n",
       " 0.01252541970461607,\n",
       " 0.023979010060429573,\n",
       " 0.01538785733282566,\n",
       " -0.010501603595912457,\n",
       " -0.0017634418327361345,\n",
       " 0.0038811771664768457,\n",
       " -0.017551042139530182,\n",
       " -0.0052071260288357735,\n",
       " -0.01792006567120552,\n",
       " -0.014187480323016644,\n",
       " -0.017428403720259666,\n",
       " 0.03363079950213432,\n",
       " -0.0005375766777433455,\n",
       " 0.021373407915234566,\n",
       " -0.004919035360217094,\n",
       " -0.005840499419718981,\n",
       " -0.020744724199175835,\n",
       " -0.0068944282829761505,\n",
       " -0.018631188198924065,\n",
       " -0.007597632706165314,\n",
       " -0.02605133131146431,\n",
       " 0.0068491618148982525,\n",
       " -0.0050756498239934444,\n",
       " 0.023181062191724777,\n",
       " -0.020584678277373314,\n",
       " 0.0023470257874578238,\n",
       " -0.004727143328636885,\n",
       " 0.009608748368918896,\n",
       " -0.002524394541978836,\n",
       " -0.013154463842511177,\n",
       " 0.016118323430418968,\n",
       " 0.007702173199504614,\n",
       " -0.0006626607500948012,\n",
       " -0.05787422135472298,\n",
       " -0.022125760093331337,\n",
       " 0.011429022066295147,\n",
       " -0.02740699239075184,\n",
       " -0.005916406866163015,\n",
       " -0.04245051369071007,\n",
       " 0.042948003858327866,\n",
       " 0.008764498867094517,\n",
       " 0.017553139477968216,\n",
       " -0.00800942163914442,\n",
       " 0.04381132125854492,\n",
       " 0.011962591670453548,\n",
       " 0.007200968451797962,\n",
       " -0.02434578910470009,\n",
       " 0.01201711781322956,\n",
       " 0.00359816150739789,\n",
       " 0.021309519186615944,\n",
       " 0.022127050906419754,\n",
       " -0.0012816376984119415,\n",
       " -0.03950873762369156,\n",
       " 0.0230548232793808,\n",
       " -0.0013362595345824957,\n",
       " 0.0012044704053550959,\n",
       " -0.004526636563241482,\n",
       " -0.030999237671494484,\n",
       " -0.009914688766002655,\n",
       " -0.008961166255176067,\n",
       " 0.0023912470787763596,\n",
       " -0.0067610242404043674,\n",
       " -0.05610068142414093,\n",
       " 0.02355051226913929,\n",
       " 0.029612591490149498,\n",
       " 0.02064761146903038,\n",
       " 0.008983643725514412,\n",
       " -0.015688151121139526,\n",
       " -0.01650579646229744,\n",
       " -0.027650905773043633,\n",
       " -0.005682527553290129,\n",
       " 0.01489829272031784,\n",
       " 0.0069463481195271015,\n",
       " 0.027755239978432655,\n",
       " 0.03346748650074005,\n",
       " 0.011965491808950901,\n",
       " -0.01793823204934597,\n",
       " 0.016065198928117752,\n",
       " 0.02615915611386299,\n",
       " -0.010493600741028786,\n",
       " -0.007146897725760937,\n",
       " -0.0030716368928551674,\n",
       " -0.015411621890962124,\n",
       " -0.012757886201143265,\n",
       " -0.011227630078792572,\n",
       " -0.020705362781882286,\n",
       " -0.02263682335615158,\n",
       " -0.007294735871255398,\n",
       " 0.012894566170871258,\n",
       " -0.00025318728876300156,\n",
       " 0.021777546033263206,\n",
       " 0.016401849687099457,\n",
       " -0.0014667692594230175,\n",
       " 0.03134356439113617,\n",
       " -0.022049689665436745,\n",
       " -0.012198508717119694,\n",
       " -0.012805060483515263,\n",
       " -0.005065623205155134,\n",
       " 0.011430623941123486,\n",
       " 0.002453928580507636,\n",
       " 0.005656254477798939,\n",
       " -0.004921147134155035,\n",
       " 0.007628107909113169,\n",
       " -0.005644008982926607,\n",
       " 0.007972214370965958,\n",
       " 0.020759643986821175,\n",
       " -0.016250314190983772,\n",
       " -0.002033611759543419,\n",
       " -0.00527659198269248,\n",
       " 0.0021017310209572315,\n",
       " 0.034520018845796585,\n",
       " 0.01668422855436802,\n",
       " 0.013250057585537434,\n",
       " 0.00336834997870028,\n",
       " 0.0034444043412804604,\n",
       " -0.00035195666714571416,\n",
       " 0.027646195143461227,\n",
       " -0.032775286585092545,\n",
       " -0.003369986079633236,\n",
       " -0.002920157043263316,\n",
       " -0.0010478663025423884,\n",
       " 0.002731597749516368,\n",
       " 0.025555115193128586,\n",
       " 0.0057356650941073895,\n",
       " -0.01871231570839882,\n",
       " 0.0017315276199951768,\n",
       " 0.0153069868683815,\n",
       " -0.05877090245485306,\n",
       " -0.015447814017534256,\n",
       " 0.0016802502796053886,\n",
       " 0.010987197048962116,\n",
       " 0.0033248341642320156,\n",
       " 0.001602650503627956,\n",
       " -0.0176513884216547,\n",
       " -0.0016747243935242295,\n",
       " 0.010947742499411106,\n",
       " -0.01879079081118107,\n",
       " 0.02688487060368061,\n",
       " 0.002914530923590064,\n",
       " 0.0027383617125451565,\n",
       " 0.01475865114480257,\n",
       " -0.024197440594434738,\n",
       " -0.01851463131606579,\n",
       " 0.011608666740357876,\n",
       " 0.008859376423060894,\n",
       " -0.0510869137942791,\n",
       " 0.0018516601994633675,\n",
       " -0.024444572627544403,\n",
       " -0.01691797375679016,\n",
       " -0.012804724276065826,\n",
       " -0.012693660333752632,\n",
       " -0.013098516501486301,\n",
       " -0.0034251855686306953,\n",
       " 0.013280381448566914,\n",
       " 0.0009198710904456675,\n",
       " -0.000967481464613229,\n",
       " -0.020510545000433922,\n",
       " -0.006151185370981693,\n",
       " -0.00807782169431448,\n",
       " -0.005625008139759302,\n",
       " 0.010017176158726215,\n",
       " 0.007095181383192539,\n",
       " -0.005885022226721048,\n",
       " 0.0062290970236063,\n",
       " -0.019491000100970268,\n",
       " 0.008749762549996376,\n",
       " -0.009486799128353596,\n",
       " -0.045415304601192474,\n",
       " 0.0005901418044231832,\n",
       " -0.02301757223904133,\n",
       " -0.0008128886111080647,\n",
       " -0.022032862529158592,\n",
       " -0.0033430338371545076,\n",
       " -0.008407192304730415,\n",
       " -0.010299045592546463,\n",
       " -0.014757707715034485,\n",
       " -0.008209088817238808,\n",
       " -0.028657376766204834,\n",
       " -0.001726955291815102,\n",
       " 0.018152626231312752,\n",
       " -0.02622893638908863,\n",
       " -0.010191578418016434,\n",
       " -0.0022027974482625723,\n",
       " -0.01136394590139389,\n",
       " -0.03771807998418808,\n",
       " -0.029014931991696358,\n",
       " 0.009973331354558468,\n",
       " -0.049749549478292465,\n",
       " 0.003365876618772745,\n",
       " 0.0034154418390244246,\n",
       " -0.00973549298942089,\n",
       " -0.011967494152486324,\n",
       " -0.03276318684220314,\n",
       " -0.02308768406510353,\n",
       " -0.003362403716892004,\n",
       " -0.004991320427507162,\n",
       " 0.009081735275685787,\n",
       " -0.0015961001627147198,\n",
       " -0.01538894884288311,\n",
       " -0.024733321741223335,\n",
       " -0.021922355517745018,\n",
       " 0.0045577846467494965,\n",
       " -0.0030451600905507803,\n",
       " 0.02145407348871231,\n",
       " 0.021359609439969063,\n",
       " -0.00848254095762968,\n",
       " -0.02141760289669037,\n",
       " 0.012068080715835094,\n",
       " -0.030859438702464104,\n",
       " 0.0060487547889351845,\n",
       " 0.01778528466820717,\n",
       " -0.0188538059592247,\n",
       " 0.003658903297036886,\n",
       " -0.03215117007493973,\n",
       " 0.025877999141812325,\n",
       " -0.03542850539088249,\n",
       " 0.0078122555278241634,\n",
       " -0.03073451854288578,\n",
       " -0.0389411523938179,\n",
       " 0.011611595749855042,\n",
       " -0.0042690709233284,\n",
       " -0.014308682642877102,\n",
       " -0.014946828596293926,\n",
       " 0.0005238548619672656,\n",
       " -0.021460114046931267,\n",
       " 0.0003074748383369297,\n",
       " -0.003334273351356387,\n",
       " -0.021397067233920097,\n",
       " 0.013833951205015182,\n",
       " 0.005758598446846008,\n",
       " -0.020231671631336212,\n",
       " 0.039879437536001205,\n",
       " 0.012117543257772923,\n",
       " -0.018833627924323082,\n",
       " -0.012126287445425987,\n",
       " -0.01355936098843813,\n",
       " -0.01021772250533104,\n",
       " 0.009851890616118908,\n",
       " 0.0066016134805977345,\n",
       " -0.04105915501713753,\n",
       " -0.01421018410474062,\n",
       " -0.04074880853295326,\n",
       " 0.016867978498339653,\n",
       " -0.02431601658463478,\n",
       " -0.009278432466089725,\n",
       " -0.007988174445927143,\n",
       " -0.003862957935780287,\n",
       " -0.009646679274737835,\n",
       " -0.0046236650086939335,\n",
       " 0.00036478080437518656,\n",
       " 0.012649240903556347,\n",
       " -0.013743005692958832,\n",
       " -0.031865425407886505,\n",
       " 0.021072618663311005,\n",
       " -0.019360734149813652,\n",
       " -0.0037552400026470423,\n",
       " 0.04747297987341881,\n",
       " -0.009903320111334324,\n",
       " -0.04311639443039894,\n",
       " -0.018146077170968056,\n",
       " -0.013810141012072563,\n",
       " 0.006266721058636904,\n",
       " 0.010873083025217056,\n",
       " 0.02198149263858795,\n",
       " -0.011804885230958462,\n",
       " -0.028252577409148216,\n",
       " -0.02262505330145359,\n",
       " 0.009611944667994976,\n",
       " 0.016892824321985245,\n",
       " 0.010216335766017437,\n",
       " -0.004375646356493235,\n",
       " -0.003307282691821456,\n",
       " -0.0014170152135193348,\n",
       " 0.008945801295340061,\n",
       " -0.028874274343252182,\n",
       " 0.014537162147462368,\n",
       " 0.005906419828534126,\n",
       " 0.003488026326522231,\n",
       " -0.014323943294584751,\n",
       " -0.017020490020513535,\n",
       " -0.009409438818693161,\n",
       " 0.01197274774312973,\n",
       " -0.012989619746804237,\n",
       " 0.02761651761829853,\n",
       " 0.0014062760164961219,\n",
       " -0.010958505794405937,\n",
       " 0.012709349393844604,\n",
       " -0.02771318517625332,\n",
       " -0.013226786628365517,\n",
       " 0.006249008700251579,\n",
       " -0.02643713355064392,\n",
       " -0.003467363305389881,\n",
       " -0.0073577542789280415,\n",
       " 0.01789223961532116,\n",
       " -0.021981971338391304,\n",
       " -0.020142292603850365,\n",
       " -0.01014940720051527,\n",
       " -0.0011248925002291799,\n",
       " -0.010640084743499756,\n",
       " -0.01594632863998413,\n",
       " -0.018323630094528198,\n",
       " -0.037139493972063065,\n",
       " -0.026292677968740463,\n",
       " -0.01190145779401064,\n",
       " -0.003895294154062867,\n",
       " 0.04258882999420166,\n",
       " -0.01448026392608881,\n",
       " -0.0119019765406847,\n",
       " -0.011681702919304371,\n",
       " -0.0004123894905205816,\n",
       " -0.017547741532325745,\n",
       " -0.011227400042116642,\n",
       " -0.007471224758774042,\n",
       " 0.0058076209388673306,\n",
       " -0.021084461361169815,\n",
       " 0.025885405018925667,\n",
       " 0.0018122068140655756,\n",
       " -0.017116963863372803,\n",
       " -0.012153323739767075,\n",
       " 0.010403316468000412,\n",
       " -0.042390257120132446,\n",
       " -0.014413799159228802,\n",
       " -0.02029367722570896,\n",
       " -0.013139871880412102,\n",
       " 0.007569184992462397,\n",
       " -0.014624779112637043,\n",
       " 0.00420807721093297,\n",
       " 0.02882438711822033,\n",
       " -0.005686568561941385,\n",
       " 0.0037023823242634535,\n",
       " 0.029114291071891785,\n",
       " 0.0031483450438827276,\n",
       " -0.012671553529798985,\n",
       " 0.009447060525417328,\n",
       " -0.00458100950345397,\n",
       " -0.030198341235518456,\n",
       " -0.034270718693733215,\n",
       " -0.008695933036506176,\n",
       " -0.021955443546175957,\n",
       " 0.021640561521053314,\n",
       " 0.01329747587442398,\n",
       " 0.0015302535612136126,\n",
       " -0.04427938908338547,\n",
       " 0.024993235245347023,\n",
       " -0.001861278316937387,\n",
       " 0.026213519275188446,\n",
       " 0.0035418111365288496,\n",
       " 0.017842069268226624,\n",
       " -0.039439622312784195,\n",
       " -0.030377091839909554,\n",
       " 0.009424107149243355,\n",
       " -0.009977640584111214,\n",
       " 0.033478837460279465,\n",
       " -0.014495030045509338,\n",
       " -0.003893369808793068,\n",
       " 0.0022736622486263514,\n",
       " 0.005722312722355127,\n",
       " 0.02097523957490921,\n",
       " -0.03228643536567688,\n",
       " 0.04067131504416466,\n",
       " 0.03227705880999565,\n",
       " -0.012089922092854977,\n",
       " -0.009080732241272926,\n",
       " -0.019542036578059196,\n",
       " -0.004862826317548752,\n",
       " -0.015225520357489586,\n",
       " 0.032540250569581985,\n",
       " 0.015984350815415382,\n",
       " 0.002426144201308489,\n",
       " -0.015865107998251915,\n",
       " -0.0398409329354763,\n",
       " 0.005104114767163992,\n",
       " -0.004640441387891769,\n",
       " -0.03377240151166916,\n",
       " -0.00511985644698143,\n",
       " -0.0007274973904713988,\n",
       " 0.004738895688205957,\n",
       " -0.01662992499768734,\n",
       " 0.017797479405999184,\n",
       " -9.059182048076764e-05,\n",
       " 0.007223834749311209,\n",
       " 0.013965372927486897,\n",
       " 0.03242538124322891,\n",
       " -0.0014806335093453526,\n",
       " -0.005981389433145523,\n",
       " 0.025927523151040077,\n",
       " 0.003361517796292901,\n",
       " 0.01976374350488186,\n",
       " -0.018616126850247383,\n",
       " -0.023084644228219986,\n",
       " -0.012967999093234539,\n",
       " -0.0021377087105065584,\n",
       " -0.0014426099369302392,\n",
       " 0.006637477315962315,\n",
       " 0.019017549231648445,\n",
       " 0.022808970883488655,\n",
       " 0.008955532684922218,\n",
       " -0.015842856839299202,\n",
       " 0.01748165674507618,\n",
       " -0.015740705654025078,\n",
       " -0.005469472613185644,\n",
       " -0.012979011982679367,\n",
       " -0.00046336802188307047,\n",
       " -0.03260093182325363,\n",
       " -0.011444391682744026,\n",
       " -0.007383969612419605,\n",
       " 0.02026321180164814,\n",
       " -0.015395443886518478,\n",
       " 0.009891250170767307,\n",
       " -0.02376231923699379,\n",
       " -0.02419622801244259,\n",
       " 0.019442657008767128,\n",
       " -0.01897485740482807,\n",
       " -0.01418745331466198,\n",
       " -0.02496502548456192,\n",
       " 0.038581132888793945,\n",
       " 0.01052031759172678,\n",
       " -0.0026430832222104073,\n",
       " -0.004544983152300119,\n",
       " 0.030663367360830307,\n",
       " 0.03667766600847244,\n",
       " 0.03420192748308182,\n",
       " 0.021670393645763397,\n",
       " 0.015687771141529083,\n",
       " -0.02558240108191967,\n",
       " 0.029479600489139557,\n",
       " 0.02223592810332775,\n",
       " -0.010319625027477741,\n",
       " -0.011446492746472359,\n",
       " 0.023515967652201653,\n",
       " -0.013135424815118313,\n",
       " -0.0006096643046475947,\n",
       " -0.0018991217948496342,\n",
       " -0.023741241544485092,\n",
       " 0.025754353031516075,\n",
       " -0.016945041716098785,\n",
       " -0.022573940455913544,\n",
       " -0.04291621968150139,\n",
       " -0.057137519121170044,\n",
       " -0.016176382079720497,\n",
       " 0.03301864117383957,\n",
       " -0.0036701825447380543,\n",
       " 0.03225437179207802,\n",
       " -0.01705670915544033,\n",
       " -0.01706358976662159,\n",
       " 0.00029188545886427164,\n",
       " 0.008308800868690014,\n",
       " -0.004778986796736717,\n",
       " -0.0002737008617259562,\n",
       " -0.014370734803378582,\n",
       " -0.003875748021528125,\n",
       " 0.02385871857404709,\n",
       " -0.00324938353151083,\n",
       " -0.010733007453382015,\n",
       " 0.007528831250965595,\n",
       " -0.01842128299176693,\n",
       " -0.011159410700201988,\n",
       " -0.027081627398729324,\n",
       " 0.0418270081281662,\n",
       " -0.023114504292607307,\n",
       " 0.0034346578177064657,\n",
       " 0.031207585707306862,\n",
       " 0.017768604680895805,\n",
       " 0.020490584895014763,\n",
       " -0.02279181033372879,\n",
       " 0.018355462700128555,\n",
       " 0.005857627373188734,\n",
       " -0.036790989339351654,\n",
       " -0.0006356679368764162,\n",
       " -0.026623131707310677,\n",
       " 0.00936933234333992,\n",
       " 0.02361971326172352,\n",
       " 0.016317982226610184,\n",
       " 0.002215807558968663,\n",
       " 0.021375611424446106,\n",
       " 0.00894340593367815,\n",
       " 0.014746913686394691,\n",
       " 0.01566775143146515,\n",
       " 0.034644488245248795,\n",
       " -0.012622655369341373,\n",
       " 0.015761956572532654,\n",
       " -0.036015529185533524,\n",
       " -0.00020779545593541116,\n",
       " -0.03645538166165352,\n",
       " -0.019586382433772087,\n",
       " 0.02504129521548748,\n",
       " -0.004991848953068256,\n",
       " -0.033499713987112045,\n",
       " 0.003361807204782963,\n",
       " 0.00021093271789141,\n",
       " -0.017946725711226463,\n",
       " -0.019324814900755882,\n",
       " -0.038005489856004715,\n",
       " -0.0034321369603276253,\n",
       " -0.006468231324106455,\n",
       " 0.009626173414289951,\n",
       " 0.0003603864461183548,\n",
       " -0.03368443623185158,\n",
       " -0.04022907838225365,\n",
       " -0.0169240552932024,\n",
       " -0.008103289641439915,\n",
       " -0.005835359450429678,\n",
       " -0.03119478188455105,\n",
       " -0.01644768752157688,\n",
       " -0.02415112592279911,\n",
       " 0.025738893076777458,\n",
       " -0.02857275679707527,\n",
       " 0.02780512161552906,\n",
       " -0.013616981916129589,\n",
       " 0.023682579398155212,\n",
       " 0.009924469515681267,\n",
       " -0.010642919689416885,\n",
       " 0.023209335282444954,\n",
       " 0.0011745123192667961,\n",
       " 0.03032092936336994,\n",
       " -0.0192012507468462,\n",
       " 0.035872019827365875,\n",
       " 0.013135774061083794,\n",
       " -0.061326175928115845,\n",
       " -0.014912933111190796,\n",
       " -0.011507785879075527,\n",
       " 0.02825975976884365,\n",
       " 0.009170028381049633,\n",
       " 0.043518487364053726,\n",
       " 0.012272993102669716,\n",
       " -0.008323880843818188,\n",
       " 0.014329497702419758,\n",
       " ...]"
      ]
     },
     "execution_count": 145,
     "metadata": {},
     "output_type": "execute_result"
    }
   ],
   "source": [
    "i2=client.retrieve(collection_name=\"专利_bge_189\", ids=[2], with_vectors=True)\n",
    "i2[0].vector"
   ]
  },
  {
   "cell_type": "code",
   "execution_count": 146,
   "metadata": {},
   "outputs": [
    {
     "data": {
      "text/plain": [
       "[ScoredPoint(id=2, version=1900, score=1.0298233032226562, payload={'申请号': 'CN94110662.4', '序号': 154, '摘要长度': 202, '标题 (中文)': '麦白霉素胃溶片的生产工艺技术', 'Co': '山东鲁抗医药股份有限公司', 'table': 'patent202210', '公开（公告）号': 'CN1104887A'}, vector=None, shard_key=None),\n",
       " ScoredPoint(id=189584, version=191482, score=0.9342460632324219, payload={'申请号': 'CN201310097794.3', '序号': 366016, '摘要长度': 177, '标题 (中文)': '一种艾普拉唑肠溶口崩片及其制备方法', 'Co': '丽珠医药集团股份有限公司', 'table': 'patent202210', '公开（公告）号': 'CN103169684B'}, vector=None, shard_key=None),\n",
       " ScoredPoint(id=189583, version=191481, score=0.9298553466796875, payload={'申请号': 'CN201310097715.9', '序号': 366015, '摘要长度': 181, '标题 (中文)': '一种艾普拉唑钠肠溶口崩片及其制备方法', 'Co': '丽珠医药集团股份有限公司', 'table': 'patent202210', '公开（公告）号': 'CN103169683B'}, vector=None, shard_key=None),\n",
       " ScoredPoint(id=844810, version=846708, score=0.9223175048828125, payload={'申请号': 'CN201910060247.5', '序号': 1357801, '摘要长度': 251, '标题 (中文)': '一种阿奇霉素干混悬剂', 'Co': '江西赣南海欣药业股份有限公司', 'table': 'patent202404', '公开（公告）号': 'CN109875965B'}, vector=None, shard_key=None),\n",
       " ScoredPoint(id=844818, version=846716, score=0.9223175048828125, payload={'申请号': 'CN201910060247.5', '序号': 1357811, '摘要长度': 251, '标题 (中文)': '一种阿奇霉素干混悬剂', 'Co': '江西赣南海欣药业股份有限公司', 'table': 'patent202404', '公开（公告）号': 'CN109875965A'}, vector=None, shard_key=None),\n",
       " ScoredPoint(id=1243584, version=1245482, score=0.9222297668457031, payload={'申请号': 'CN202011570445.5', '序号': 1911459, '摘要长度': 175, '标题 (中文)': '一种阿奇霉素肠溶胶囊及其制备方法', 'Co': '海南葫芦娃药业集团股份有限公司', 'table': 'patent202210', '公开（公告）号': 'CN112656774A'}, vector=None, shard_key=None),\n",
       " ScoredPoint(id=239585, version=241483, score=0.9195709228515625, payload={'申请号': 'CN201410033371.X', '序号': 460201, '摘要长度': 176, '标题 (中文)': '阿立哌唑片及其制备方法', 'Co': '浙江美华鼎昌医药科技有限公司', 'table': 'patent202404', '公开（公告）号': 'CN103860494A'}, vector=None, shard_key=None),\n",
       " ScoredPoint(id=239583, version=241481, score=0.9195709228515625, payload={'申请号': 'CN201410033371.X', '序号': 460199, '摘要长度': 176, '标题 (中文)': '阿立哌唑片及其制备方法', 'Co': '浙江美华鼎昌医药科技有限公司', 'table': 'patent202404', '公开（公告）号': 'CN103860494B'}, vector=None, shard_key=None),\n",
       " ScoredPoint(id=113014, version=114912, score=0.9186325073242188, payload={'申请号': 'CN201110205047.8', '序号': 222755, '摘要长度': 165, '标题 (中文)': '一种口腔崩解片', 'Co': '成都康弘药业集团股份有限公司', 'table': 'patent202210', '公开（公告）号': 'CN102885798B'}, vector=None, shard_key=None),\n",
       " ScoredPoint(id=113044, version=114942, score=0.9186325073242188, payload={'申请号': 'CN201110205047.8', '序号': 222790, '摘要长度': 165, '标题 (中文)': '一种口腔崩解片', 'Co': '成都康弘药业集团股份有限公司', 'table': 'patent202404', '公开（公告）号': 'CN102885798A'}, vector=None, shard_key=None)]"
      ]
     },
     "execution_count": 146,
     "metadata": {},
     "output_type": "execute_result"
    }
   ],
   "source": [
    "client.search(collection_name=\"专利_bge_189\",query_vector=i2[0].vector)"
   ]
  },
  {
   "cell_type": "code",
   "execution_count": 141,
   "metadata": {},
   "outputs": [
    {
     "data": {
      "text/plain": [
       "UpdateResult(operation_id=1899418, status=<UpdateStatus.COMPLETED: 'completed'>)"
      ]
     },
     "execution_count": 141,
     "metadata": {},
     "output_type": "execute_result"
    }
   ],
   "source": [
    "client.create_payload_index(\n",
    "    collection_name=\"专利_bge_189\",\n",
    "    field_name='序号',\n",
    "    field_schema=PayloadSchemaType(\"integer\"),\n",
    ")"
   ]
  },
  {
   "cell_type": "markdown",
   "metadata": {},
   "source": [
    "负载索引"
   ]
  },
  {
   "cell_type": "code",
   "execution_count": null,
   "metadata": {},
   "outputs": [],
   "source": [
    "client.create_payload_index(\n",
    "    collection_name=\"企业_w2v_lda\",\n",
    "    field_name=\"行业\",\n",
    "    field_schema=PayloadSchemaType(\"keyword\"),\n",
    ")"
   ]
  },
  {
   "cell_type": "code",
   "execution_count": 24,
   "metadata": {},
   "outputs": [
    {
     "data": {
      "text/plain": [
       "UpdateResult(operation_id=6, status=<UpdateStatus.COMPLETED: 'completed'>)"
      ]
     },
     "execution_count": 24,
     "metadata": {},
     "output_type": "execute_result"
    }
   ],
   "source": [
    "client.create_payload_index(\n",
    "    collection_name=\"企业_w2v_lda\",\n",
    "    field_name=\"co\",\n",
    "    field_schema=PayloadSchemaType(\"keyword\"),\n",
    ")"
   ]
  },
  {
   "cell_type": "code",
   "execution_count": 18,
   "metadata": {},
   "outputs": [
    {
     "data": {
      "text/plain": [
       "UpdateResult(operation_id=2, status=<UpdateStatus.COMPLETED: 'completed'>)"
      ]
     },
     "execution_count": 18,
     "metadata": {},
     "output_type": "execute_result"
    }
   ],
   "source": [
    "client.create_payload_index(\n",
    "    collection_name=\"专利_w2v_188_37\",\n",
    "    field_name=\"word\",\n",
    "    field_schema=PayloadSchemaType(\"keyword\"),\n",
    ")"
   ]
  },
  {
   "cell_type": "code",
   "execution_count": 16,
   "metadata": {},
   "outputs": [
    {
     "data": {
      "text/plain": [
       "UpdateResult(operation_id=117, status=<UpdateStatus.COMPLETED: 'completed'>)"
      ]
     },
     "execution_count": 16,
     "metadata": {},
     "output_type": "execute_result"
    }
   ],
   "source": [
    "client.create_payload_index(\n",
    "    collection_name=\"专利_w2v\",\n",
    "    field_name=\"word\",\n",
    "    field_schema=PayloadSchemaType(\"keyword\"),\n",
    ")"
   ]
  },
  {
   "cell_type": "code",
   "execution_count": 17,
   "metadata": {},
   "outputs": [
    {
     "data": {
      "text/plain": [
       "UpdateResult(operation_id=119, status=<UpdateStatus.COMPLETED: 'completed'>)"
      ]
     },
     "execution_count": 17,
     "metadata": {},
     "output_type": "execute_result"
    }
   ],
   "source": [
    "client.create_payload_index(\n",
    "    collection_name=\"专利_w2v\",\n",
    "    field_name=\"行业\",\n",
    "    field_schema=PayloadSchemaType(\"keyword\"),\n",
    ")"
   ]
  },
  {
   "cell_type": "code",
   "execution_count": 23,
   "metadata": {},
   "outputs": [
    {
     "data": {
      "text/plain": [
       "UpdateResult(operation_id=2, status=<UpdateStatus.COMPLETED: 'completed'>)"
      ]
     },
     "execution_count": 23,
     "metadata": {},
     "output_type": "execute_result"
    }
   ],
   "source": [
    "client.create_payload_index(\n",
    "    collection_name=\"places_bank\",\n",
    "    field_name=\"bank\",\n",
    "    field_schema=PayloadSchemaType(\"keyword\"),\n",
    ")"
   ]
  },
  {
   "cell_type": "code",
   "execution_count": 25,
   "metadata": {},
   "outputs": [
    {
     "data": {
      "text/plain": [
       "True"
      ]
     },
     "execution_count": 25,
     "metadata": {},
     "output_type": "execute_result"
    }
   ],
   "source": [
    "client.update_collection(\n",
    "    collection_name=\"places_bank\",collection_params=CollectionParamsDiff(on_disk_payload=True)\n",
    ")"
   ]
  },
  {
   "cell_type": "code",
   "execution_count": 26,
   "metadata": {},
   "outputs": [
    {
     "data": {
      "text/plain": [
       "True"
      ]
     },
     "execution_count": 26,
     "metadata": {},
     "output_type": "execute_result"
    }
   ],
   "source": [
    "client.update_collection(\n",
    "    collection_name=\"企业_w2v_lda\",collection_params=CollectionParamsDiff(on_disk_payload=True)\n",
    ")"
   ]
  },
  {
   "cell_type": "code",
   "execution_count": 27,
   "metadata": {},
   "outputs": [
    {
     "data": {
      "text/plain": [
       "True"
      ]
     },
     "execution_count": 27,
     "metadata": {},
     "output_type": "execute_result"
    }
   ],
   "source": [
    "client.update_collection(\n",
    "    collection_name=\"专利_w2v\",collection_params=CollectionParamsDiff(on_disk_payload=True)\n",
    ")"
   ]
  },
  {
   "cell_type": "code",
   "execution_count": 28,
   "metadata": {},
   "outputs": [
    {
     "data": {
      "text/plain": [
       "CountResult(count=1891374)"
      ]
     },
     "execution_count": 28,
     "metadata": {},
     "output_type": "execute_result"
    }
   ],
   "source": [
    "match=[IsEmptyCondition(is_empty=PayloadField(key='摘要长度'), )]\n",
    "query_filter = Filter(must=[], must_not=match) \n",
    "client.count('专利_bge_189',count_filter=query_filter)"
   ]
  },
  {
   "cell_type": "code",
   "execution_count": 29,
   "metadata": {},
   "outputs": [
    {
     "data": {
      "text/plain": [
       "CountResult(count=6143)"
      ]
     },
     "execution_count": 29,
     "metadata": {},
     "output_type": "execute_result"
    }
   ],
   "source": [
    "match=[IsEmptyCondition(is_empty=PayloadField(key='摘要长度'), )]\n",
    "query_filter = Filter(must=match) \n",
    "client.count('专利_bge_189',count_filter=query_filter)"
   ]
  },
  {
   "cell_type": "code",
   "execution_count": 31,
   "metadata": {},
   "outputs": [
    {
     "data": {
      "text/plain": [
       "CountResult(count=25433)"
      ]
     },
     "execution_count": 31,
     "metadata": {},
     "output_type": "execute_result"
    }
   ],
   "source": [
    "match=[IsEmptyCondition(is_empty=PayloadField(key='简介长度'), )]\n",
    "query_filter = Filter(must=match, must_not=[]) \n",
    "client.count('行业公司名简介_25k',count_filter=query_filter)"
   ]
  },
  {
   "cell_type": "code",
   "execution_count": 13,
   "metadata": {},
   "outputs": [
    {
     "data": {
      "text/plain": [
       "CollectionInfo(status=<CollectionStatus.GREEN: 'green'>, optimizer_status=<OptimizersStatusOneOf.OK: 'ok'>, vectors_count=None, indexed_vectors_count=1897517, points_count=1897517, segments_count=12, config=CollectionConfig(params=CollectionParams(vectors=VectorParams(size=1024, distance=<Distance.COSINE: 'Cosine'>, hnsw_config=None, quantization_config=None, on_disk=None, datatype=None), shard_number=1, sharding_method=None, replication_factor=1, write_consistency_factor=1, read_fan_out_factor=None, on_disk_payload=True, sparse_vectors=None), hnsw_config=HnswConfig(m=16, ef_construct=100, full_scan_threshold=10000, max_indexing_threads=0, on_disk=False, payload_m=None), optimizer_config=OptimizersConfig(deleted_threshold=0.2, vacuum_min_vector_number=1000, default_segment_number=0, max_segment_size=None, memmap_threshold=None, indexing_threshold=20000, flush_interval_sec=5, max_optimization_threads=None), wal_config=WalConfig(wal_capacity_mb=32, wal_segments_ahead=0), quantization_config=None), payload_schema={'摘要长度': PayloadIndexInfo(data_type=<PayloadSchemaType.INTEGER: 'integer'>, params=None, points=1891374)})"
      ]
     },
     "execution_count": 13,
     "metadata": {},
     "output_type": "execute_result"
    }
   ],
   "source": [
    "client.get_collection('专利_bge_189')"
   ]
  },
  {
   "cell_type": "code",
   "execution_count": 7,
   "metadata": {},
   "outputs": [],
   "source": [
    "import requests\n",
    "def qdrant_livez(host, https=False,api_key=''):\n",
    "    url = f\"https://{host}:6333/livez\" if https else f\"http://{host}:6333/livez\" \n",
    "    headers = {\"api-key\": api_key} if api_key else {}\n",
    "    try:\n",
    "        response = requests.get(url, headers=headers, timeout=3)\n",
    "        return response.text, response.status_code\n",
    "    except requests.exceptions.RequestException as e:\n",
    "        return e, 400\n",
    "    except Exception as e:\n",
    "        return e, 500"
   ]
  },
  {
   "cell_type": "code",
   "execution_count": 6,
   "metadata": {},
   "outputs": [
    {
     "data": {
      "text/plain": [
       "('healthz check passed', 200)"
      ]
     },
     "execution_count": 6,
     "metadata": {},
     "output_type": "execute_result"
    }
   ],
   "source": [
    "qdrant_livez('47.110.156.41', api_key='')"
   ]
  },
  {
   "cell_type": "code",
   "execution_count": 8,
   "metadata": {},
   "outputs": [],
   "source": [
    "with open('Y:\\Downloads\\Patent\\patent_co_payloads_先进制造.pkl', 'rb') as file:\n",
    "    payload = pickle.load(file)"
   ]
  },
  {
   "cell_type": "code",
   "execution_count": 6,
   "metadata": {},
   "outputs": [],
   "source": [
    "with open('Y:\\Downloads\\Patent\\patent_co_vectors_先进制造.pkl', 'rb') as file:\n",
    "    vectors = pickle.load(file)"
   ]
  },
  {
   "cell_type": "code",
   "execution_count": 7,
   "metadata": {},
   "outputs": [
    {
     "data": {
      "text/plain": [
       "(58803, 58803)"
      ]
     },
     "execution_count": 7,
     "metadata": {},
     "output_type": "execute_result"
    }
   ],
   "source": [
    "len(vectors),len(payload)"
   ]
  },
  {
   "cell_type": "code",
   "execution_count": 9,
   "metadata": {},
   "outputs": [
    {
     "data": {
      "text/plain": [
       "{'Co': '上海贝岭股份有限公司', '公司序号': 14716, '公司简称': '上海贝岭', '观察年': 2000}"
      ]
     },
     "execution_count": 9,
     "metadata": {},
     "output_type": "execute_result"
    }
   ],
   "source": [
    "payload[0]"
   ]
  },
  {
   "cell_type": "code",
   "execution_count": 13,
   "metadata": {},
   "outputs": [],
   "source": [
    "for item in payload:\n",
    "    item['co'] = item.pop('Co')"
   ]
  },
  {
   "cell_type": "code",
   "execution_count": 5,
   "metadata": {},
   "outputs": [],
   "source": [
    "client= QdrantClient(host=\"47.110.156.41\", grpc_port=6334, prefer_grpc=True)"
   ]
  },
  {
   "cell_type": "code",
   "execution_count": 15,
   "metadata": {},
   "outputs": [],
   "source": [
    "index=list(range(len(vectors)))\n",
    "points=Batch(\n",
    "    ids=index,\n",
    "    vectors=vectors,\n",
    "    payloads=payload\n",
    ")"
   ]
  },
  {
   "cell_type": "code",
   "execution_count": 22,
   "metadata": {},
   "outputs": [
    {
     "data": {
      "text/plain": [
       "True"
      ]
     },
     "execution_count": 22,
     "metadata": {},
     "output_type": "execute_result"
    }
   ],
   "source": [
    "client.delete_collection('企业_w2v_lda_year')"
   ]
  },
  {
   "cell_type": "code",
   "execution_count": 23,
   "metadata": {},
   "outputs": [
    {
     "name": "stdout",
     "output_type": "stream",
     "text": [
      "CPU times: total: 7.2 s\n",
      "Wall time: 17.3 s\n"
     ]
    },
    {
     "data": {
      "text/plain": [
       "UpdateResult(operation_id=0, status=<UpdateStatus.COMPLETED: 'completed'>)"
      ]
     },
     "execution_count": 23,
     "metadata": {},
     "output_type": "execute_result"
    }
   ],
   "source": [
    "%%time\n",
    "collection_name='企业_先进制造_w2v_lda_year'\n",
    "client.create_collection(collection_name,\n",
    "    vectors_config=VectorParams(size=len(vectors[0]),distance=Distance.COSINE, on_disk=True),\n",
    "    hnsw_config=HnswConfigDiff(on_disk=True),)\n",
    "client.upsert(collection_name=collection_name,points = points) "
   ]
  },
  {
   "cell_type": "code",
   "execution_count": 6,
   "metadata": {},
   "outputs": [],
   "source": [
    "with open('Y:\\Downloads\\Patent\\patent_payload_先进制造_2024.pkl', 'rb') as file:\n",
    "    payload = pickle.load(file)"
   ]
  },
  {
   "cell_type": "code",
   "execution_count": 7,
   "metadata": {},
   "outputs": [
    {
     "data": {
      "text/plain": [
       "({'Co': '珠海格力电器股份有限公司',\n",
       "  '标题 (中文)': '变幅摇头电风扇',\n",
       "  '申请日': Timestamp('1994-08-31 00:00:00'),\n",
       "  '申请号': 'CN94219339.3',\n",
       "  '公开（公告）号': 'CN2201504Y',\n",
       "  'table': 'patent202210',\n",
       "  '文档长度': 60},\n",
       " {'Co': '长安绿电科技有限公司',\n",
       "  '标题 (中文)': '可拆卸式电池模块',\n",
       "  '申请日': Timestamp('2024-03-04 00:00:00'),\n",
       "  '申请号': 'CN202420403622.8',\n",
       "  '公开（公告）号': 'CN220710520U',\n",
       "  'table': 'patent202404',\n",
       "  '文档长度': 88})"
      ]
     },
     "execution_count": 7,
     "metadata": {},
     "output_type": "execute_result"
    }
   ],
   "source": [
    "payload[0],payload[-1]"
   ]
  },
  {
   "cell_type": "code",
   "execution_count": 8,
   "metadata": {},
   "outputs": [
    {
     "data": {
      "text/plain": [
       "1196876"
      ]
     },
     "execution_count": 8,
     "metadata": {},
     "output_type": "execute_result"
    }
   ],
   "source": [
    "len(payload)"
   ]
  },
  {
   "cell_type": "code",
   "execution_count": 12,
   "metadata": {},
   "outputs": [
    {
     "data": {
      "text/plain": [
       "True"
      ]
     },
     "execution_count": 12,
     "metadata": {},
     "output_type": "execute_result"
    }
   ],
   "source": [
    "collection_name='专利_先进制造_w2v_lda_120'\n",
    "if client.collection_exists(collection_name):\n",
    "    client.delete_collection(collection_name)\n",
    "\n",
    "client.create_collection(collection_name,\n",
    "    vectors_config=VectorParams(size=250,distance=Distance.COSINE, on_disk=True),\n",
    "    hnsw_config=HnswConfigDiff(on_disk=True),)"
   ]
  },
  {
   "cell_type": "code",
   "execution_count": 1,
   "metadata": {},
   "outputs": [],
   "source": [
    "import pandas as pd\n",
    "import pyarrow.parquet as pq"
   ]
  },
  {
   "cell_type": "code",
   "execution_count": 41,
   "metadata": {},
   "outputs": [
    {
     "data": {
      "text/plain": [
       "(2, 1196876)"
      ]
     },
     "execution_count": 41,
     "metadata": {},
     "output_type": "execute_result"
    }
   ],
   "source": [
    "parquet_file = pq.ParquetFile('Y:\\Downloads\\Patent\\documents_vec_先进制造.parquet')\n",
    "parquet_file.num_row_groups,parquet_file.metadata.num_rows"
   ]
  },
  {
   "cell_type": "code",
   "execution_count": 44,
   "metadata": {},
   "outputs": [],
   "source": [
    "def read_parquet_in_batches(file_path, batch_size):\n",
    "    import pyarrow.parquet as pq\n",
    "    parquet_file = pq.ParquetFile(file_path)\n",
    "    total_rows = parquet_file.metadata.num_rows\n",
    "    current_row = 0\n",
    "\n",
    "    for row_group_index in range(parquet_file.num_row_groups):\n",
    "        row_group = parquet_file.read_row_group(row_group_index)\n",
    "        df = row_group.to_pandas()\n",
    "        total_rows = df.shape[0] #row_group.num_rows\n",
    "        \n",
    "        for start in range(0, total_rows, batch_size):\n",
    "            end = min(start + batch_size, total_rows)\n",
    "            yield df.iloc[start:end]"
   ]
  },
  {
   "cell_type": "code",
   "execution_count": 3,
   "metadata": {},
   "outputs": [
    {
     "ename": "TypeError",
     "evalue": "can only use an iterator or chunksize on a table",
     "output_type": "error",
     "traceback": [
      "\u001b[1;31m---------------------------------------------------------------------------\u001b[0m",
      "\u001b[1;31mTypeError\u001b[0m                                 Traceback (most recent call last)",
      "File \u001b[1;32m<timed exec>:5\u001b[0m\n",
      "File \u001b[1;32md:\\ProgramData\\Python\\Python39\\lib\\site-packages\\pandas\\io\\pytables.py:446\u001b[0m, in \u001b[0;36mread_hdf\u001b[1;34m(path_or_buf, key, mode, errors, where, start, stop, columns, iterator, chunksize, **kwargs)\u001b[0m\n\u001b[0;32m    441\u001b[0m                 \u001b[38;5;28;01mraise\u001b[39;00m \u001b[38;5;167;01mValueError\u001b[39;00m(\n\u001b[0;32m    442\u001b[0m                     \u001b[38;5;124m\"\u001b[39m\u001b[38;5;124mkey must be provided when HDF5 \u001b[39m\u001b[38;5;124m\"\u001b[39m\n\u001b[0;32m    443\u001b[0m                     \u001b[38;5;124m\"\u001b[39m\u001b[38;5;124mfile contains multiple datasets.\u001b[39m\u001b[38;5;124m\"\u001b[39m\n\u001b[0;32m    444\u001b[0m                 )\n\u001b[0;32m    445\u001b[0m         key \u001b[38;5;241m=\u001b[39m candidate_only_group\u001b[38;5;241m.\u001b[39m_v_pathname\n\u001b[1;32m--> 446\u001b[0m     \u001b[38;5;28;01mreturn\u001b[39;00m \u001b[43mstore\u001b[49m\u001b[38;5;241;43m.\u001b[39;49m\u001b[43mselect\u001b[49m\u001b[43m(\u001b[49m\n\u001b[0;32m    447\u001b[0m \u001b[43m        \u001b[49m\u001b[43mkey\u001b[49m\u001b[43m,\u001b[49m\n\u001b[0;32m    448\u001b[0m \u001b[43m        \u001b[49m\u001b[43mwhere\u001b[49m\u001b[38;5;241;43m=\u001b[39;49m\u001b[43mwhere\u001b[49m\u001b[43m,\u001b[49m\n\u001b[0;32m    449\u001b[0m \u001b[43m        \u001b[49m\u001b[43mstart\u001b[49m\u001b[38;5;241;43m=\u001b[39;49m\u001b[43mstart\u001b[49m\u001b[43m,\u001b[49m\n\u001b[0;32m    450\u001b[0m \u001b[43m        \u001b[49m\u001b[43mstop\u001b[49m\u001b[38;5;241;43m=\u001b[39;49m\u001b[43mstop\u001b[49m\u001b[43m,\u001b[49m\n\u001b[0;32m    451\u001b[0m \u001b[43m        \u001b[49m\u001b[43mcolumns\u001b[49m\u001b[38;5;241;43m=\u001b[39;49m\u001b[43mcolumns\u001b[49m\u001b[43m,\u001b[49m\n\u001b[0;32m    452\u001b[0m \u001b[43m        \u001b[49m\u001b[43miterator\u001b[49m\u001b[38;5;241;43m=\u001b[39;49m\u001b[43miterator\u001b[49m\u001b[43m,\u001b[49m\n\u001b[0;32m    453\u001b[0m \u001b[43m        \u001b[49m\u001b[43mchunksize\u001b[49m\u001b[38;5;241;43m=\u001b[39;49m\u001b[43mchunksize\u001b[49m\u001b[43m,\u001b[49m\n\u001b[0;32m    454\u001b[0m \u001b[43m        \u001b[49m\u001b[43mauto_close\u001b[49m\u001b[38;5;241;43m=\u001b[39;49m\u001b[43mauto_close\u001b[49m\u001b[43m,\u001b[49m\n\u001b[0;32m    455\u001b[0m \u001b[43m    \u001b[49m\u001b[43m)\u001b[49m\n\u001b[0;32m    456\u001b[0m \u001b[38;5;28;01mexcept\u001b[39;00m (\u001b[38;5;167;01mValueError\u001b[39;00m, \u001b[38;5;167;01mTypeError\u001b[39;00m, \u001b[38;5;167;01mKeyError\u001b[39;00m):\n\u001b[0;32m    457\u001b[0m     \u001b[38;5;28;01mif\u001b[39;00m \u001b[38;5;129;01mnot\u001b[39;00m \u001b[38;5;28misinstance\u001b[39m(path_or_buf, HDFStore):\n\u001b[0;32m    458\u001b[0m         \u001b[38;5;66;03m# if there is an error, close the store if we opened it.\u001b[39;00m\n",
      "File \u001b[1;32md:\\ProgramData\\Python\\Python39\\lib\\site-packages\\pandas\\io\\pytables.py:866\u001b[0m, in \u001b[0;36mHDFStore.select\u001b[1;34m(self, key, where, start, stop, columns, iterator, chunksize, auto_close)\u001b[0m\n\u001b[0;32m    852\u001b[0m \u001b[38;5;66;03m# create the iterator\u001b[39;00m\n\u001b[0;32m    853\u001b[0m it \u001b[38;5;241m=\u001b[39m TableIterator(\n\u001b[0;32m    854\u001b[0m     \u001b[38;5;28mself\u001b[39m,\n\u001b[0;32m    855\u001b[0m     s,\n\u001b[1;32m   (...)\u001b[0m\n\u001b[0;32m    863\u001b[0m     auto_close\u001b[38;5;241m=\u001b[39mauto_close,\n\u001b[0;32m    864\u001b[0m )\n\u001b[1;32m--> 866\u001b[0m \u001b[38;5;28;01mreturn\u001b[39;00m \u001b[43mit\u001b[49m\u001b[38;5;241;43m.\u001b[39;49m\u001b[43mget_result\u001b[49m\u001b[43m(\u001b[49m\u001b[43m)\u001b[49m\n",
      "File \u001b[1;32md:\\ProgramData\\Python\\Python39\\lib\\site-packages\\pandas\\io\\pytables.py:1920\u001b[0m, in \u001b[0;36mTableIterator.get_result\u001b[1;34m(self, coordinates)\u001b[0m\n\u001b[0;32m   1918\u001b[0m \u001b[38;5;28;01mif\u001b[39;00m \u001b[38;5;28mself\u001b[39m\u001b[38;5;241m.\u001b[39mchunksize \u001b[38;5;129;01mis\u001b[39;00m \u001b[38;5;129;01mnot\u001b[39;00m \u001b[38;5;28;01mNone\u001b[39;00m:\n\u001b[0;32m   1919\u001b[0m     \u001b[38;5;28;01mif\u001b[39;00m \u001b[38;5;129;01mnot\u001b[39;00m \u001b[38;5;28misinstance\u001b[39m(\u001b[38;5;28mself\u001b[39m\u001b[38;5;241m.\u001b[39ms, Table):\n\u001b[1;32m-> 1920\u001b[0m         \u001b[38;5;28;01mraise\u001b[39;00m \u001b[38;5;167;01mTypeError\u001b[39;00m(\u001b[38;5;124m\"\u001b[39m\u001b[38;5;124mcan only use an iterator or chunksize on a table\u001b[39m\u001b[38;5;124m\"\u001b[39m)\n\u001b[0;32m   1922\u001b[0m     \u001b[38;5;28mself\u001b[39m\u001b[38;5;241m.\u001b[39mcoordinates \u001b[38;5;241m=\u001b[39m \u001b[38;5;28mself\u001b[39m\u001b[38;5;241m.\u001b[39ms\u001b[38;5;241m.\u001b[39mread_coordinates(where\u001b[38;5;241m=\u001b[39m\u001b[38;5;28mself\u001b[39m\u001b[38;5;241m.\u001b[39mwhere)\n\u001b[0;32m   1924\u001b[0m     \u001b[38;5;28;01mreturn\u001b[39;00m \u001b[38;5;28mself\u001b[39m\n",
      "\u001b[1;31mTypeError\u001b[0m: can only use an iterator or chunksize on a table"
     ]
    }
   ],
   "source": [
    "%%time\n",
    "batch_size = 3000 \n",
    "file_path='Y:\\Downloads\\Patent\\documents_vec_先进制造.parquet'\n",
    "#chunks = pd.read_parquet(file_path, chunksize=chunksize)\n",
    "#pd.read_hdf('Y:\\Downloads\\Patent\\documents_vec_先进制造.h5', chunksize=batch_size)\n",
    "\n",
    "for i, chunk in enumerate(pd.read_hdf('Y:\\Downloads\\Patent\\documents_vec_先进制造.h5', chunksize=batch_size)):\n",
    "    start = i * batch_size\n",
    "    end = start + len(chunk)\n",
    "\n",
    "    payload_i = payload[start:end]\n",
    "    index = list(range(start,end))\n",
    "    print(f\"Processing chunk {i+1} size{len(chunk),end}\")\n",
    "\n",
    "    points=Batch(ids= index,payloads=payload_i,vectors=chunks.values.tolist())\n",
    "    client.upsert(collection_name=collection_name, points = points)   \n"
   ]
  },
  {
   "cell_type": "code",
   "execution_count": 13,
   "metadata": {},
   "outputs": [],
   "source": [
    "batch_size = 5000 \n",
    "npy_path = 'Y:\\Downloads\\Patent\\documents_vec_先进制造.npy'\n",
    "npy_batches = read_npy_in_batches(npy_path, batch_size)"
   ]
  },
  {
   "cell_type": "code",
   "execution_count": 14,
   "metadata": {},
   "outputs": [
    {
     "name": "stdout",
     "output_type": "stream",
     "text": [
      "0,Processing batch of size (5000, 5000)\n",
      "5000,Processing batch of size (5000, 5000)\n",
      "10000,Processing batch of size (5000, 5000)\n",
      "15000,Processing batch of size (5000, 5000)\n",
      "20000,Processing batch of size (5000, 5000)\n",
      "25000,Processing batch of size (5000, 5000)\n",
      "30000,Processing batch of size (5000, 5000)\n",
      "35000,Processing batch of size (5000, 5000)\n",
      "40000,Processing batch of size (5000, 5000)\n",
      "45000,Processing batch of size (5000, 5000)\n",
      "50000,Processing batch of size (5000, 5000)\n",
      "55000,Processing batch of size (5000, 5000)\n",
      "60000,Processing batch of size (5000, 5000)\n",
      "65000,Processing batch of size (5000, 5000)\n",
      "70000,Processing batch of size (5000, 5000)\n",
      "75000,Processing batch of size (5000, 5000)\n",
      "80000,Processing batch of size (5000, 5000)\n",
      "85000,Processing batch of size (5000, 5000)\n",
      "90000,Processing batch of size (5000, 5000)\n",
      "95000,Processing batch of size (5000, 5000)\n",
      "100000,Processing batch of size (5000, 5000)\n",
      "105000,Processing batch of size (5000, 5000)\n",
      "110000,Processing batch of size (5000, 5000)\n",
      "115000,Processing batch of size (5000, 5000)\n",
      "120000,Processing batch of size (5000, 5000)\n",
      "125000,Processing batch of size (5000, 5000)\n",
      "130000,Processing batch of size (5000, 5000)\n",
      "135000,Processing batch of size (5000, 5000)\n",
      "140000,Processing batch of size (5000, 5000)\n",
      "145000,Processing batch of size (5000, 5000)\n",
      "150000,Processing batch of size (5000, 5000)\n",
      "155000,Processing batch of size (5000, 5000)\n",
      "160000,Processing batch of size (5000, 5000)\n",
      "165000,Processing batch of size (5000, 5000)\n",
      "170000,Processing batch of size (5000, 5000)\n",
      "175000,Processing batch of size (5000, 5000)\n",
      "180000,Processing batch of size (5000, 5000)\n",
      "185000,Processing batch of size (5000, 5000)\n",
      "190000,Processing batch of size (5000, 5000)\n",
      "195000,Processing batch of size (5000, 5000)\n",
      "200000,Processing batch of size (5000, 5000)\n",
      "205000,Processing batch of size (5000, 5000)\n",
      "210000,Processing batch of size (5000, 5000)\n",
      "215000,Processing batch of size (5000, 5000)\n",
      "220000,Processing batch of size (5000, 5000)\n",
      "225000,Processing batch of size (5000, 5000)\n",
      "230000,Processing batch of size (5000, 5000)\n",
      "235000,Processing batch of size (5000, 5000)\n",
      "240000,Processing batch of size (5000, 5000)\n",
      "245000,Processing batch of size (5000, 5000)\n",
      "250000,Processing batch of size (5000, 5000)\n",
      "255000,Processing batch of size (5000, 5000)\n",
      "260000,Processing batch of size (5000, 5000)\n",
      "265000,Processing batch of size (5000, 5000)\n",
      "270000,Processing batch of size (5000, 5000)\n",
      "275000,Processing batch of size (5000, 5000)\n",
      "280000,Processing batch of size (5000, 5000)\n",
      "285000,Processing batch of size (5000, 5000)\n",
      "290000,Processing batch of size (5000, 5000)\n",
      "295000,Processing batch of size (5000, 5000)\n",
      "300000,Processing batch of size (5000, 5000)\n",
      "305000,Processing batch of size (5000, 5000)\n",
      "310000,Processing batch of size (5000, 5000)\n",
      "315000,Processing batch of size (5000, 5000)\n",
      "320000,Processing batch of size (5000, 5000)\n",
      "325000,Processing batch of size (5000, 5000)\n",
      "330000,Processing batch of size (5000, 5000)\n",
      "335000,Processing batch of size (5000, 5000)\n",
      "340000,Processing batch of size (5000, 5000)\n",
      "345000,Processing batch of size (5000, 5000)\n",
      "350000,Processing batch of size (5000, 5000)\n",
      "355000,Processing batch of size (5000, 5000)\n",
      "360000,Processing batch of size (5000, 5000)\n",
      "365000,Processing batch of size (5000, 5000)\n",
      "370000,Processing batch of size (5000, 5000)\n",
      "375000,Processing batch of size (5000, 5000)\n",
      "380000,Processing batch of size (5000, 5000)\n",
      "385000,Processing batch of size (5000, 5000)\n",
      "390000,Processing batch of size (5000, 5000)\n",
      "395000,Processing batch of size (5000, 5000)\n",
      "400000,Processing batch of size (5000, 5000)\n",
      "405000,Processing batch of size (5000, 5000)\n",
      "410000,Processing batch of size (5000, 5000)\n",
      "415000,Processing batch of size (5000, 5000)\n",
      "420000,Processing batch of size (5000, 5000)\n",
      "425000,Processing batch of size (5000, 5000)\n",
      "430000,Processing batch of size (5000, 5000)\n",
      "435000,Processing batch of size (5000, 5000)\n",
      "440000,Processing batch of size (5000, 5000)\n",
      "445000,Processing batch of size (5000, 5000)\n",
      "450000,Processing batch of size (5000, 5000)\n",
      "455000,Processing batch of size (5000, 5000)\n",
      "460000,Processing batch of size (5000, 5000)\n",
      "465000,Processing batch of size (5000, 5000)\n",
      "470000,Processing batch of size (5000, 5000)\n",
      "475000,Processing batch of size (5000, 5000)\n",
      "480000,Processing batch of size (5000, 5000)\n",
      "485000,Processing batch of size (5000, 5000)\n",
      "490000,Processing batch of size (5000, 5000)\n",
      "495000,Processing batch of size (5000, 5000)\n",
      "500000,Processing batch of size (5000, 5000)\n",
      "505000,Processing batch of size (5000, 5000)\n",
      "510000,Processing batch of size (5000, 5000)\n",
      "515000,Processing batch of size (5000, 5000)\n",
      "520000,Processing batch of size (5000, 5000)\n",
      "525000,Processing batch of size (5000, 5000)\n",
      "530000,Processing batch of size (5000, 5000)\n",
      "535000,Processing batch of size (5000, 5000)\n",
      "540000,Processing batch of size (5000, 5000)\n",
      "545000,Processing batch of size (5000, 5000)\n",
      "550000,Processing batch of size (5000, 5000)\n",
      "555000,Processing batch of size (5000, 5000)\n",
      "560000,Processing batch of size (5000, 5000)\n",
      "565000,Processing batch of size (5000, 5000)\n",
      "570000,Processing batch of size (5000, 5000)\n",
      "575000,Processing batch of size (5000, 5000)\n",
      "580000,Processing batch of size (5000, 5000)\n",
      "585000,Processing batch of size (5000, 5000)\n",
      "590000,Processing batch of size (5000, 5000)\n",
      "595000,Processing batch of size (5000, 5000)\n",
      "600000,Processing batch of size (5000, 5000)\n",
      "605000,Processing batch of size (5000, 5000)\n",
      "610000,Processing batch of size (5000, 5000)\n",
      "615000,Processing batch of size (5000, 5000)\n",
      "620000,Processing batch of size (5000, 5000)\n",
      "625000,Processing batch of size (5000, 5000)\n",
      "630000,Processing batch of size (5000, 5000)\n",
      "635000,Processing batch of size (5000, 5000)\n",
      "640000,Processing batch of size (5000, 5000)\n",
      "645000,Processing batch of size (5000, 5000)\n",
      "650000,Processing batch of size (5000, 5000)\n",
      "655000,Processing batch of size (5000, 5000)\n",
      "660000,Processing batch of size (5000, 5000)\n",
      "665000,Processing batch of size (5000, 5000)\n",
      "670000,Processing batch of size (5000, 5000)\n",
      "675000,Processing batch of size (5000, 5000)\n",
      "680000,Processing batch of size (5000, 5000)\n",
      "685000,Processing batch of size (5000, 5000)\n",
      "690000,Processing batch of size (5000, 5000)\n",
      "695000,Processing batch of size (5000, 5000)\n",
      "700000,Processing batch of size (5000, 5000)\n",
      "705000,Processing batch of size (5000, 5000)\n",
      "710000,Processing batch of size (5000, 5000)\n",
      "715000,Processing batch of size (5000, 5000)\n",
      "720000,Processing batch of size (5000, 5000)\n",
      "725000,Processing batch of size (5000, 5000)\n",
      "730000,Processing batch of size (5000, 5000)\n",
      "735000,Processing batch of size (5000, 5000)\n",
      "740000,Processing batch of size (5000, 5000)\n",
      "745000,Processing batch of size (5000, 5000)\n",
      "750000,Processing batch of size (5000, 5000)\n",
      "755000,Processing batch of size (5000, 5000)\n",
      "760000,Processing batch of size (5000, 5000)\n",
      "765000,Processing batch of size (5000, 5000)\n",
      "770000,Processing batch of size (5000, 5000)\n",
      "775000,Processing batch of size (5000, 5000)\n",
      "780000,Processing batch of size (5000, 5000)\n",
      "785000,Processing batch of size (5000, 5000)\n",
      "790000,Processing batch of size (5000, 5000)\n",
      "795000,Processing batch of size (5000, 5000)\n",
      "800000,Processing batch of size (5000, 5000)\n",
      "805000,Processing batch of size (5000, 5000)\n",
      "810000,Processing batch of size (5000, 5000)\n",
      "815000,Processing batch of size (5000, 5000)\n",
      "820000,Processing batch of size (5000, 5000)\n",
      "825000,Processing batch of size (5000, 5000)\n",
      "830000,Processing batch of size (5000, 5000)\n",
      "835000,Processing batch of size (5000, 5000)\n",
      "840000,Processing batch of size (5000, 5000)\n",
      "845000,Processing batch of size (5000, 5000)\n",
      "850000,Processing batch of size (5000, 5000)\n",
      "855000,Processing batch of size (5000, 5000)\n",
      "860000,Processing batch of size (5000, 5000)\n",
      "865000,Processing batch of size (5000, 5000)\n",
      "870000,Processing batch of size (5000, 5000)\n",
      "875000,Processing batch of size (5000, 5000)\n",
      "880000,Processing batch of size (5000, 5000)\n",
      "885000,Processing batch of size (5000, 5000)\n",
      "890000,Processing batch of size (5000, 5000)\n",
      "895000,Processing batch of size (5000, 5000)\n",
      "900000,Processing batch of size (5000, 5000)\n",
      "905000,Processing batch of size (5000, 5000)\n",
      "910000,Processing batch of size (5000, 5000)\n",
      "915000,Processing batch of size (5000, 5000)\n",
      "920000,Processing batch of size (5000, 5000)\n",
      "925000,Processing batch of size (5000, 5000)\n",
      "930000,Processing batch of size (5000, 5000)\n",
      "935000,Processing batch of size (5000, 5000)\n",
      "940000,Processing batch of size (5000, 5000)\n",
      "945000,Processing batch of size (5000, 5000)\n",
      "950000,Processing batch of size (5000, 5000)\n",
      "955000,Processing batch of size (5000, 5000)\n",
      "960000,Processing batch of size (5000, 5000)\n",
      "965000,Processing batch of size (5000, 5000)\n",
      "970000,Processing batch of size (5000, 5000)\n",
      "975000,Processing batch of size (5000, 5000)\n",
      "980000,Processing batch of size (5000, 5000)\n",
      "985000,Processing batch of size (5000, 5000)\n",
      "990000,Processing batch of size (5000, 5000)\n",
      "995000,Processing batch of size (5000, 5000)\n",
      "1000000,Processing batch of size (5000, 5000)\n",
      "1005000,Processing batch of size (5000, 5000)\n",
      "1010000,Processing batch of size (5000, 5000)\n",
      "1015000,Processing batch of size (5000, 5000)\n",
      "1020000,Processing batch of size (5000, 5000)\n",
      "1025000,Processing batch of size (5000, 5000)\n",
      "1030000,Processing batch of size (5000, 5000)\n",
      "1035000,Processing batch of size (5000, 5000)\n",
      "1040000,Processing batch of size (5000, 5000)\n",
      "1045000,Processing batch of size (5000, 5000)\n",
      "1050000,Processing batch of size (5000, 5000)\n",
      "1055000,Processing batch of size (5000, 5000)\n",
      "1060000,Processing batch of size (5000, 5000)\n",
      "1065000,Processing batch of size (5000, 5000)\n",
      "1070000,Processing batch of size (5000, 5000)\n",
      "1075000,Processing batch of size (5000, 5000)\n",
      "1080000,Processing batch of size (5000, 5000)\n",
      "1085000,Processing batch of size (5000, 5000)\n",
      "1090000,Processing batch of size (5000, 5000)\n",
      "1095000,Processing batch of size (5000, 5000)\n",
      "1100000,Processing batch of size (5000, 5000)\n",
      "1105000,Processing batch of size (5000, 5000)\n",
      "1110000,Processing batch of size (5000, 5000)\n",
      "1115000,Processing batch of size (5000, 5000)\n",
      "1120000,Processing batch of size (5000, 5000)\n",
      "1125000,Processing batch of size (5000, 5000)\n",
      "1130000,Processing batch of size (5000, 5000)\n",
      "1135000,Processing batch of size (5000, 5000)\n",
      "1140000,Processing batch of size (5000, 5000)\n",
      "1145000,Processing batch of size (5000, 5000)\n",
      "1150000,Processing batch of size (5000, 5000)\n",
      "1155000,Processing batch of size (5000, 5000)\n",
      "1160000,Processing batch of size (5000, 5000)\n",
      "1165000,Processing batch of size (5000, 5000)\n",
      "1170000,Processing batch of size (5000, 5000)\n",
      "1175000,Processing batch of size (5000, 5000)\n",
      "1180000,Processing batch of size (5000, 5000)\n",
      "1185000,Processing batch of size (5000, 5000)\n",
      "1190000,Processing batch of size (5000, 5000)\n",
      "1195000,Processing batch of size (1876, 1876)\n",
      "CPU times: total: 3min 45s\n",
      "Wall time: 1h 30min 2s\n"
     ]
    }
   ],
   "source": [
    "%%time\n",
    "for i in range(0, len(payload), batch_size):\n",
    "    # if i<=237000:\n",
    "    #     continue\n",
    "    try:\n",
    "        payload_i = payload[i:i + batch_size]\n",
    "        npy_batch = next(npy_batches)\n",
    "        size=len(payload_i)\n",
    "        index = list(range(i,i + size))\n",
    "\n",
    "        print(f\"{i},Processing batch of size {size,len(npy_batch)}\")\n",
    "\n",
    "        points=Batch(ids= index,payloads=payload_i,vectors=npy_batch.tolist())\n",
    "        client.upsert(collection_name=collection_name,points = points)   \n",
    "\n",
    "    except StopIteration:\n",
    "        break"
   ]
  },
  {
   "cell_type": "code",
   "execution_count": 19,
   "metadata": {},
   "outputs": [],
   "source": [
    "from qdrant_client import  models\n",
    "strategy=models.RecommendStrategy.AVERAGE_VECTOR,"
   ]
  },
  {
   "cell_type": "code",
   "execution_count": 27,
   "metadata": {},
   "outputs": [
    {
     "data": {
      "text/plain": [
       "[Record(id=100, payload={'文档长度': 65, '申请号': 'CN99122287.3', '标题 (中文)': '硫磺制酸的液硫净化方法', '申请日': '1999-11-10T00:00:00', 'Co': '安泰科技股份有限公司', 'table': 'patent202210', '公开（公告）号': 'CN1094897C'}, vector=[0.08597225695848465, 0.029269050806760788, -0.024849016219377518, -0.0005552192451432347, -0.13135701417922974, 0.03668932989239693, 0.08108130842447281, 0.05687345564365387, 0.04128987342119217, -0.02822926454246044, 0.05504604056477547, 0.08989646285772324, -0.11613858491182327, -0.03221840783953667, 0.06137710064649582, -0.04583076760172844, -0.03700369596481323, 0.052035000175237656, -0.0029902495443820953, 0.11328061670064926, -0.02889779396355152, -0.06595127284526825, 0.11368515342473984, -0.018871553242206573, -0.031178252771496773, -0.013175060041248798, -0.038907740265131, 0.035303398966789246, -0.07388689368963242, -0.09455443173646927, 0.02452455274760723, 0.08679549396038055, -0.1519034504890442, -0.031229546293616295, -0.06157489866018295, 0.026069486513733864, -0.10814545303583145, -0.03941037505865097, -0.03487089276313782, 0.0009719579247757792, 0.03482944890856743, 0.16856300830841064, 0.01258841808885336, -0.04775433614850044, 0.061149779707193375, -0.03285416215658188, -0.015954481437802315, -0.012484880164265633, 0.06409598141908646, -0.008399550803005695, -0.005738761276006699, 0.09355635941028595, 0.0494140088558197, -0.07422632724046707, 0.036025840789079666, -0.048737939447164536, -0.007438317406922579, 0.04056859388947487, -0.05632397532463074, -0.11920692771673203, 0.04336772486567497, -0.04369460046291351, 0.017821818590164185, 0.08908306062221527, 0.03642158955335617, 0.0206366665661335, 0.07179490476846695, 0.03744092211127281, -0.007934882305562496, 0.03308109566569328, 0.052586741745471954, -0.010820074938237667, -0.053494665771722794, -0.008128827437758446, 0.1025412455201149, 0.09030970185995102, -0.02627258002758026, -0.04500039294362068, 0.02363848313689232, -0.05118284001946449, -0.11665111780166626, 0.0070865582674741745, -0.06681446731090546, 0.05553916469216347, -0.08051326125860214, -0.010477632284164429, 0.03981834650039673, 0.018739309161901474, -0.09628333151340485, -0.07195285707712173, 0.12209231406450272, -0.06730663776397705, -0.10555537045001984, -0.06749402731657028, 0.09406236559152603, -0.05232558399438858, 0.04273737221956253, 0.04678567126393318, 0.03087341971695423, 0.07178465276956558, -0.03409075364470482, 0.13498114049434662, -0.048966094851493835, 0.030919428914785385, -0.03743348643183708, 0.06645321846008301, 0.012826313264667988, 0.029138723388314247, -0.017240891233086586, -0.09312240779399872, -0.01712101139128208, -0.027809280902147293, 0.057005465030670166, 0.009765319526195526, -0.0670211911201477, 0.0724029615521431, 0.03024614043533802, -0.07575636357069016, -0.008051993325352669, -0.010377135127782822, 0.09954654425382614, -0.01612740568816662, -0.007205466274172068, -0.019404282793402672, -0.1562264859676361, -0.08471892029047012, -0.02714359015226364, 0.08336547762155533, -0.07096076756715775, 0.008605667389929295, 0.040571052581071854, -0.012474956922233105, 0.13723203539848328, -0.018412472680211067, -0.04337203875184059, 0.11079981178045273, -0.02410033904016018, -0.0005107930628582835, -0.043865978717803955, -0.0871703028678894, -0.07705198228359222, -0.03391924500465393, 0.06997228413820267, -0.1454392820596695, 0.007753617130219936, 0.025368843227624893, 0.013848821632564068, -0.045875921845436096, 0.0024132784456014633, 0.04685961827635765, 0.047186046838760376, -0.044534292072057724, 0.018606897443532944, 0.035454146564006805, -0.05311981961131096, -0.014060105197131634, 0.060893137007951736, 0.020459692925214767, -0.05298052728176117, 0.07004734128713608, 0.087506003677845, 0.04322942718863487, -0.0202423557639122, -0.11092976480722427, 0.03383539989590645, 0.12965945899486542, 0.03456469997763634, 0.03657464310526848, 0.08453307300806046, -0.014819420874118805, 0.05080224201083183, 0.024653960019350052, -0.007891107350587845, -0.0011132733197882771, -0.01946859247982502, -0.06413742899894714, -0.011515363119542599, -0.02563673071563244, -0.031172016635537148, -0.022920487448573112, -0.039584606885910034, 0.012367336079478264, 0.002511604456230998, -0.03109268844127655, -0.0036617768928408623, -0.03130267933011055, -0.05643785372376442, 0.05884259194135666, 0.02132897824048996, -0.011144984513521194, 0.10272884368896484, -0.027182795107364655, 0.06731870770454407, -0.019088605418801308, 0.1091536283493042, -0.051883697509765625, 0.02005520649254322, -0.010120510123670101, -0.07347113639116287, 0.13537783920764923, 0.00939954910427332, 0.04217315465211868, 0.07228627800941467, -0.08281674981117249, 0.03185379505157471, -0.04309231415390968, -0.02997126616537571, -0.05909501761198044, 0.021700501441955566, 0.06425240635871887, 0.011678311973810196, 0.1160101518034935, -0.15036745369434357, -0.055728644132614136, -0.00038025033427402377, -0.04999828711152077, -0.05729471147060394, -0.1359470784664154, -0.09528762847185135, 0.03412695229053497, 0.017650043591856956, 0.08347250521183014, 0.049945682287216187, 0.0008644550107419491, 0.059428632259368896, -0.023400329053401947, 0.1599901020526886, -0.04291173815727234, 0.0034749957267194986, -0.05034734308719635, 0.019572367891669273, -0.08818554878234863, -0.016227014362812042, 0.13131287693977356, -0.015987014397978783, 0.012463059276342392, 0.11271128803491592, 0.051001518964767456, 0.05352180451154709, -0.06397024542093277, 0.04169822111725807, -0.10307533293962479, -0.0067389658652246, 0.06827091425657272, 0.07660125941038132, 0.04988355189561844, -0.11107151955366135, -0.11986818164587021, 0.03146405518054962, 0.017463402822613716], shard_key=None)]"
      ]
     },
     "execution_count": 27,
     "metadata": {},
     "output_type": "execute_result"
    }
   ],
   "source": [
    "p=client.retrieve(\n",
    "    collection_name,\n",
    "    ids=[100],\n",
    "    with_vectors=True\n",
    ")\n",
    "p"
   ]
  },
  {
   "cell_type": "code",
   "execution_count": 31,
   "metadata": {},
   "outputs": [
    {
     "data": {
      "text/plain": [
       "[ScoredPoint(id=101, version=0, score=0.9996365904808044, payload={'申请号': 'CN99122287.3', '文档长度': 63, '标题 (中文)': '硫磺制酸的液硫净化方法', '申请日': '1999-11-10T00:00:00', 'Co': '安泰科技股份有限公司', 'table': 'patent202404', '公开（公告）号': 'CN1260321A'}, vector=None, shard_key=None),\n",
       " ScoredPoint(id=196087, version=39, score=0.9982055425643921, payload={'申请号': 'CN201520290021.1', '文档长度': 55, '标题 (中文)': '一种进水阀水击缓冲结构', '申请日': '2015-05-07T00:00:00', 'Co': '厦门瑞尔特卫浴科技股份有限公司', 'table': 'patent202210', '公开（公告）号': 'CN204677882U'}, vector=None, shard_key=None),\n",
       " ScoredPoint(id=137688, version=27, score=0.993016242980957, payload={'文档长度': 104, '申请号': 'CN201310653363.0', '标题 (中文)': '洗碗机和用于洗碗机的软水器装置', '申请日': '2013-12-04T00:00:00', 'Co': '美的集团股份有限公司', 'table': 'patent202210', '公开（公告）号': 'CN104688154B'}, vector=None, shard_key=None),\n",
       " ScoredPoint(id=137715, version=27, score=0.9930098652839661, payload={'文档长度': 104, '申请号': 'CN201310653363.0', '标题 (中文)': '洗碗机和用于洗碗机的软水器装置', '申请日': '2013-12-04T00:00:00', 'Co': '美的集团股份有限公司', 'table': 'patent202404', '公开（公告）号': 'CN104688154A'}, vector=None, shard_key=None),\n",
       " ScoredPoint(id=1079784, version=215, score=0.992301881313324, payload={'文档长度': 92, '申请号': 'CN202211382695.5', '标题 (中文)': '一种用于锂云母脱氟的流化床装置与方法', '申请日': '2022-11-07T00:00:00', 'Co': '沈阳鑫博工业技术股份有限公司', 'table': 'patent202404', '公开（公告）号': 'CN115627347A'}, vector=None, shard_key=None)]"
      ]
     },
     "execution_count": 31,
     "metadata": {},
     "output_type": "execute_result"
    }
   ],
   "source": [
    "client.search(\n",
    "    collection_name,\n",
    "    query_vector=p[0].vector,\n",
    "    limit=5,\n",
    "    offset=1\n",
    ")"
   ]
  },
  {
   "cell_type": "code",
   "execution_count": 32,
   "metadata": {},
   "outputs": [
    {
     "data": {
      "text/plain": [
       "[ScoredPoint(id=101, version=0, score=0.9996365904808044, payload={'申请号': 'CN99122287.3', '文档长度': 63, '标题 (中文)': '硫磺制酸的液硫净化方法', '申请日': '1999-11-10T00:00:00', 'Co': '安泰科技股份有限公司', 'table': 'patent202404', '公开（公告）号': 'CN1260321A'}, vector=None, shard_key=None),\n",
       " ScoredPoint(id=196087, version=39, score=0.9982055425643921, payload={'文档长度': 55, '申请号': 'CN201520290021.1', '标题 (中文)': '一种进水阀水击缓冲结构', '申请日': '2015-05-07T00:00:00', 'Co': '厦门瑞尔特卫浴科技股份有限公司', 'table': 'patent202210', '公开（公告）号': 'CN204677882U'}, vector=None, shard_key=None),\n",
       " ScoredPoint(id=137688, version=27, score=0.993016242980957, payload={'文档长度': 104, '申请号': 'CN201310653363.0', '标题 (中文)': '洗碗机和用于洗碗机的软水器装置', '申请日': '2013-12-04T00:00:00', 'Co': '美的集团股份有限公司', 'table': 'patent202210', '公开（公告）号': 'CN104688154B'}, vector=None, shard_key=None),\n",
       " ScoredPoint(id=137715, version=27, score=0.9930098652839661, payload={'文档长度': 104, '申请号': 'CN201310653363.0', '标题 (中文)': '洗碗机和用于洗碗机的软水器装置', '申请日': '2013-12-04T00:00:00', 'Co': '美的集团股份有限公司', 'table': 'patent202404', '公开（公告）号': 'CN104688154A'}, vector=None, shard_key=None),\n",
       " ScoredPoint(id=1079784, version=215, score=0.992301881313324, payload={'文档长度': 92, '申请号': 'CN202211382695.5', '标题 (中文)': '一种用于锂云母脱氟的流化床装置与方法', '申请日': '2022-11-07T00:00:00', 'Co': '沈阳鑫博工业技术股份有限公司', 'table': 'patent202404', '公开（公告）号': 'CN115627347A'}, vector=None, shard_key=None)]"
      ]
     },
     "execution_count": 32,
     "metadata": {},
     "output_type": "execute_result"
    }
   ],
   "source": [
    "client.recommend(collection_name=collection_name, positive=[100],limit=5)"
   ]
  },
  {
   "cell_type": "code",
   "execution_count": null,
   "metadata": {},
   "outputs": [],
   "source": [
    "#检索:retrieve\n",
    "#搜索search、推荐recommend、发现discover、查询(Filter筛选器 Order排序)"
   ]
  },
  {
   "cell_type": "code",
   "execution_count": 36,
   "metadata": {},
   "outputs": [
    {
     "data": {
      "text/plain": [
       "[[ScoredPoint(id=101, version=0, score=0.9996365904808044, payload=None, vector=None, shard_key=None),\n",
       "  ScoredPoint(id=196087, version=39, score=0.9982055425643921, payload=None, vector=None, shard_key=None),\n",
       "  ScoredPoint(id=137688, version=27, score=0.993016242980957, payload=None, vector=None, shard_key=None)],\n",
       " [ScoredPoint(id=51650, version=10, score=0.999764084815979, payload=None, vector=None, shard_key=None),\n",
       "  ScoredPoint(id=50645, version=10, score=0.9997316598892212, payload=None, vector=None, shard_key=None),\n",
       "  ScoredPoint(id=828286, version=165, score=0.9992884993553162, payload=None, vector=None, shard_key=None),\n",
       "  ScoredPoint(id=733065, version=146, score=0.9992659091949463, payload=None, vector=None, shard_key=None),\n",
       "  ScoredPoint(id=675398, version=135, score=0.9992152452468872, payload=None, vector=None, shard_key=None)]]"
      ]
     },
     "execution_count": 36,
     "metadata": {},
     "output_type": "execute_result"
    }
   ],
   "source": [
    "recommend_queries = [\n",
    "    models.RecommendRequest(positive=[100], limit=3),\n",
    "    models.RecommendRequest(positive=[120], limit=5),\n",
    "]\n",
    "\n",
    "client.recommend_batch(collection_name,requests=recommend_queries)"
   ]
  },
  {
   "cell_type": "markdown",
   "metadata": {},
   "source": [
    "检索与给定目标最相似的点，受所提供上下文的约束。  \n",
    "上下文搜索：当仅提供上下文（没有目标）时，使用成对的点来生成损失，将搜索引导到大多数正面示例重叠的区域。  \n",
    "该分数最大限度地减少了更接近负面示例而不是正面示例的查找点。一个点可以达到的最高分数是 0.0，这意味着许多分数的分数可能是 0.0。  \n",
    "目标搜索：当提供目标（有或没有上下文）时，分数由两部分组成：整数部分表示相对于上下文的排名，小数部分与到目标的距离有关。如果该点更接近正面示例而不是负面示例，则每对的上下文得分为 +1，否则为 -1。"
   ]
  },
  {
   "cell_type": "markdown",
   "metadata": {},
   "source": [
    "上下文搜索：在仅提供上下文而没有具体目标时，算法根据点对之间的损失来确定相似度。损失函数的设计可以通过计算正面示例重叠区域的多数分数来指导搜索，以尽量减少接近负面示例而非正面示例的查找点。  \n",
    "\n",
    "目标搜索：当有具体目标时，评分分为两部分：  \n",
    "\n",
    "整数部分表示点在与上下文相关的排序中的位置，通常是基于与正面示例的相似性排名。  \n",
    "小数部分表示点到目标的距离或者与目标的相似度度量。  \n",
    "如果点更接近正面示例而不是负面示例，则每对的上下文得分为正，反之为负。  "
   ]
  },
  {
   "cell_type": "code",
   "execution_count": 56,
   "metadata": {},
   "outputs": [
    {
     "data": {
      "text/plain": [
       "[ScoredPoint(id=1176425, version=235, score=0.0, payload={'申请号': 'CN202311318890.6', '文档长度': 79, '标题 (中文)': '船用折叠跳板的组装方法', '申请日': '2023-10-12T00:00:00', 'Co': '广船国际有限公司', 'table': 'patent_incopat_202212_202312', '公开（公告）号': 'CN117104446A'}, vector=None, shard_key=None),\n",
       " ScoredPoint(id=1173757, version=234, score=0.0, payload={'文档长度': 100, '申请号': 'CN202311265339.X', '标题 (中文)': '一种输送机构、等离子清洗设备以及等离子清洗方法', '申请日': '2023-09-26T00:00:00', 'Co': '广东安达智能装备股份有限公司', 'table': 'patent202404', '公开（公告）号': 'CN117361056A'}, vector=None, shard_key=None),\n",
       " ScoredPoint(id=1170908, version=234, score=0.0, payload={'申请号': 'CN202311166420.2', '文档长度': 105, '标题 (中文)': '一种立式展示柜的温控模块装配工艺', '申请日': '2023-09-11T00:00:00', 'Co': '浙江星星冷链集成股份有限公司', 'table': 'patent202404', '公开（公告）号': 'CN117204709A'}, vector=None, shard_key=None),\n",
       " ScoredPoint(id=562581, version=112, score=0.0, payload={'申请号': 'CN201920703341.3', '文档长度': 75, '标题 (中文)': '一种碗篮和水槽式清洗机', '申请日': '2019-05-17T00:00:00', 'Co': '九阳股份有限公司', 'table': 'patent202404', '公开（公告）号': 'CN210541180U'}, vector=None, shard_key=None),\n",
       " ScoredPoint(id=1175195, version=235, score=0.0, payload={'申请号': 'CN202311304899.1', '文档长度': 85, '标题 (中文)': '板卡固定结构', '申请日': '2023-10-08T00:00:00', 'Co': '深圳市汇川技术股份有限公司', 'table': 'patent_incopat_202212_202312', '公开（公告）号': 'CN117255521A'}, vector=None, shard_key=None),\n",
       " ScoredPoint(id=1099849, version=219, score=0.0, payload={'文档长度': 105, '申请号': 'CN202223537489.5', '标题 (中文)': '一种热失控定向喷发的软包动力电池模组', '申请日': '2022-12-28T00:00:00', 'Co': '天津市捷威动力工业有限公司', 'table': 'patent202404', '公开（公告）号': 'CN219811609U'}, vector=None, shard_key=None),\n",
       " ScoredPoint(id=72455, version=14, score=0.0, payload={'申请号': 'CN201120199582.2', '文档长度': 89, '标题 (中文)': '具有磁卡纠偏机构的磁卡处理装置', '申请日': '2011-06-14T00:00:00', 'Co': '山东新北洋信息技术股份有限公司', 'table': 'patent202210', '公开（公告）号': 'CN202171813U'}, vector=None, shard_key=None),\n",
       " ScoredPoint(id=81774, version=16, score=0.0, payload={'申请号': 'CN201120454470.7', '文档长度': 74, '标题 (中文)': '地面单柱立式固定倾角太阳能接收板安装支架', '申请日': '2011-11-16T00:00:00', 'Co': '深圳市新天光电科技有限公司', 'table': 'patent202404', '公开（公告）号': 'CN202363478U'}, vector=None, shard_key=None),\n",
       " ScoredPoint(id=353023, version=70, score=0.0, payload={'文档长度': 93, '申请号': 'CN201720586351.4', '标题 (中文)': '轨道交通接触网可视化接地装置的自动化室', '申请日': '2017-05-24T00:00:00', 'Co': '天津凯发电气股份有限公司', 'table': 'patent202210', '公开（公告）号': 'CN207089045U'}, vector=None, shard_key=None),\n",
       " ScoredPoint(id=254630, version=50, score=0.0, payload={'文档长度': 81, '申请号': 'CN201620199591.4', '标题 (中文)': '一种光模块解锁机构', '申请日': '2016-03-15T00:00:00', 'Co': '成都新易盛通信技术股份有限公司', 'table': 'patent202210', '公开（公告）号': 'CN205427250U'}, vector=None, shard_key=None)]"
      ]
     },
     "execution_count": 56,
     "metadata": {},
     "output_type": "execute_result"
    }
   ],
   "source": [
    "client.discover(\n",
    "    collection_name,\n",
    "    context=[\n",
    "        models.ContextExamplePair(positive=100, negative=300),#or Sparse Vector\n",
    "        models.ContextExamplePair(positive=120, negative=700),\n",
    "    ], \n",
    "    #成对的 { positive， negative } 示例来约束搜索。\n",
    "    #将搜索引导到大多数正面示例重叠的区域。这意味着分数最小化了找到一个更接近负数而不是正数的点的情况。\n",
    "    limit=10,\n",
    "    #lookup_from=models.LookupLocation(collection='企业_w2v_lda_year')\n",
    ")"
   ]
  },
  {
   "cell_type": "code",
   "execution_count": 54,
   "metadata": {},
   "outputs": [
    {
     "data": {
      "text/plain": [
       "LookupLocation(collection='企业_w2v_lda_year', vector=None, shard_key=None)"
      ]
     },
     "execution_count": 54,
     "metadata": {},
     "output_type": "execute_result"
    }
   ],
   "source": []
  },
  {
   "cell_type": "code",
   "execution_count": 40,
   "metadata": {},
   "outputs": [
    {
     "ename": "AttributeError",
     "evalue": "'QdrantClient' object has no attribute 'query_points'",
     "output_type": "error",
     "traceback": [
      "\u001b[1;31m---------------------------------------------------------------------------\u001b[0m",
      "\u001b[1;31mAttributeError\u001b[0m                            Traceback (most recent call last)",
      "Cell \u001b[1;32mIn[40], line 1\u001b[0m\n\u001b[1;32m----> 1\u001b[0m nearest \u001b[38;5;241m=\u001b[39m \u001b[43mclient\u001b[49m\u001b[38;5;241;43m.\u001b[39;49m\u001b[43mquery_points\u001b[49m(\n\u001b[0;32m      2\u001b[0m     collection_name,\n\u001b[0;32m      3\u001b[0m     query\u001b[38;5;241m=\u001b[39m\u001b[38;5;124m\"\u001b[39m\u001b[38;5;124m43cf51e2-8777-4f52-bc74-c2cbde0c8b04\u001b[39m\u001b[38;5;124m\"\u001b[39m,\n\u001b[0;32m      4\u001b[0m )\n",
      "\u001b[1;31mAttributeError\u001b[0m: 'QdrantClient' object has no attribute 'query_points'"
     ]
    }
   ],
   "source": [
    "nearest = client.query_points(\n",
    "    collection_name,\n",
    "    query=\"43cf51e2-8777-4f52-bc74-c2cbde0c8b04\",\n",
    ")"
   ]
  }
 ],
 "metadata": {
  "kernelspec": {
   "display_name": "Python 3 (ipykernel)",
   "language": "python",
   "name": "python3"
  },
  "language_info": {
   "codemirror_mode": {
    "name": "ipython",
    "version": 3
   },
   "file_extension": ".py",
   "mimetype": "text/x-python",
   "name": "python",
   "nbconvert_exporter": "python",
   "pygments_lexer": "ipython3",
   "version": "3.9.13"
  }
 },
 "nbformat": 4,
 "nbformat_minor": 4
}
