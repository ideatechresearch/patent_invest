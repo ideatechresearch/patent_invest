{
 "cells": [
  {
   "cell_type": "code",
   "execution_count": 1,
   "id": "d03e9a8a-73ab-4611-84f7-abe99dcd8975",
   "metadata": {},
   "outputs": [],
   "source": [
    "import pandas as pd"
   ]
  },
  {
   "cell_type": "code",
   "execution_count": 58,
   "id": "5212fb80-54a9-4cd1-98d3-c8df7e2c35b0",
   "metadata": {},
   "outputs": [
    {
     "name": "stderr",
     "output_type": "stream",
     "text": [
      "<timed exec>:4: DtypeWarning: Columns (1,15) have mixed types. Specify dtype option on import or set low_memory=False.\n"
     ]
    },
    {
     "name": "stdout",
     "output_type": "stream",
     "text": [
      "(1000003, 17)\n"
     ]
    },
    {
     "name": "stderr",
     "output_type": "stream",
     "text": [
      "<timed exec>:4: DtypeWarning: Columns (15) have mixed types. Specify dtype option on import or set low_memory=False.\n"
     ]
    },
    {
     "name": "stdout",
     "output_type": "stream",
     "text": [
      "(1000005, 17)\n",
      "(31805, 17)\n",
      "CPU times: total: 41.5 s\n",
      "Wall time: 42 s\n"
     ]
    },
    {
     "data": {
      "text/plain": [
       "(2031813, 17)"
      ]
     },
     "execution_count": 58,
     "metadata": {},
     "output_type": "execute_result"
    }
   ],
   "source": [
    "%%time\n",
    "import pandas as pd\n",
    "patent_info=pd.DataFrame()\n",
    "for i in range(3):\n",
    "    data=pd.read_csv(f'data\\SRDI_EntPatentInfo{i}.csv', usecols=range(17))#,on_bad_lines='warn'。,on_bad_lines='skip'\n",
    "    print(data.shape)\n",
    "    patent_info=pd.concat([patent_info,data])\n",
    "    del data\n",
    "    \n",
    "patent_info.shape#2031638"
   ]
  },
  {
   "cell_type": "code",
   "execution_count": 59,
   "id": "7e700936-1c7c-45de-9a85-e00699858d92",
   "metadata": {
    "scrolled": true
   },
   "outputs": [
    {
     "name": "stdout",
     "output_type": "stream",
     "text": [
      "<class 'pandas.core.frame.DataFrame'>\n",
      "Index: 2031813 entries, 0 to 31804\n",
      "Data columns (total 17 columns):\n",
      " #   Column             Dtype \n",
      "---  ------             ----- \n",
      " 0   EndDate            object\n",
      " 1   InstitutionID      object\n",
      " 2   ApplicationNumber  object\n",
      " 3   InstitutionName    object\n",
      " 4   Applicant          object\n",
      " 5   Type               object\n",
      " 6   PatentName         object\n",
      " 7   ApplicationDate    object\n",
      " 8   OpenNumber         object\n",
      " 9   OpenDate           object\n",
      " 10  IPCClassification  object\n",
      " 11  Inventor           object\n",
      " 12  Agent              object\n",
      " 13  Agency             object\n",
      " 14  ApplicantAddress   object\n",
      " 15  ApplicantZip       object\n",
      " 16  Summary            object\n",
      "dtypes: object(17)\n",
      "memory usage: 279.0+ MB\n"
     ]
    }
   ],
   "source": [
    "patent_info.info()"
   ]
  },
  {
   "cell_type": "code",
   "execution_count": 60,
   "id": "79f0e096-756e-4bed-afe0-21b974b5bef2",
   "metadata": {},
   "outputs": [
    {
     "data": {
      "text/html": [
       "<div>\n",
       "<style scoped>\n",
       "    .dataframe tbody tr th:only-of-type {\n",
       "        vertical-align: middle;\n",
       "    }\n",
       "\n",
       "    .dataframe tbody tr th {\n",
       "        vertical-align: top;\n",
       "    }\n",
       "\n",
       "    .dataframe thead th {\n",
       "        text-align: right;\n",
       "    }\n",
       "</style>\n",
       "<table border=\"1\" class=\"dataframe\">\n",
       "  <thead>\n",
       "    <tr style=\"text-align: right;\">\n",
       "      <th></th>\n",
       "      <th>截止日期</th>\n",
       "      <th>机构ID</th>\n",
       "      <th>专利申请号</th>\n",
       "      <th>公司名称</th>\n",
       "      <th>申请(专利权)人</th>\n",
       "      <th>专利类型</th>\n",
       "      <th>专利名称</th>\n",
       "      <th>申请日期</th>\n",
       "      <th>公开(公告)号</th>\n",
       "      <th>公开(公告)日</th>\n",
       "      <th>分类号</th>\n",
       "      <th>发明(设计)人</th>\n",
       "      <th>代理人</th>\n",
       "      <th>代理机构</th>\n",
       "      <th>申请人地址</th>\n",
       "      <th>申请人邮编</th>\n",
       "      <th>摘要</th>\n",
       "    </tr>\n",
       "  </thead>\n",
       "  <tbody>\n",
       "    <tr>\n",
       "      <th>0</th>\n",
       "      <td>2020-12-31</td>\n",
       "      <td>10420</td>\n",
       "      <td>202030665098.9</td>\n",
       "      <td>上海妙可蓝多食品科技股份有限公司</td>\n",
       "      <td>上海妙可蓝多食品科技股份有限公司</td>\n",
       "      <td>外观设计</td>\n",
       "      <td>包装袋（妙可蓝多奶酪棒）</td>\n",
       "      <td>2020-11-04</td>\n",
       "      <td>CN306627463S</td>\n",
       "      <td>2021-06-22</td>\n",
       "      <td>NaN</td>\n",
       "      <td>杨媤琦</td>\n",
       "      <td>徐炫</td>\n",
       "      <td>上海尚象专利代理有限公司 31335</td>\n",
       "      <td>上海市奉贤区工业路899号8幢</td>\n",
       "      <td>1499.0</td>\n",
       "      <td>1.本外观设计产品的名称：包装袋（妙可蓝多奶酪棒）。2.本外观设计产品的用途：用于包装袋。3...</td>\n",
       "    </tr>\n",
       "    <tr>\n",
       "      <th>1</th>\n",
       "      <td>2021-12-31</td>\n",
       "      <td>10420</td>\n",
       "      <td>202130164137.1</td>\n",
       "      <td>上海妙可蓝多食品科技股份有限公司</td>\n",
       "      <td>上海妙可蓝多食品科技股份有限公司</td>\n",
       "      <td>外观设计</td>\n",
       "      <td>包装袋（妙可蓝多金装奶酪棒）</td>\n",
       "      <td>2021-03-25</td>\n",
       "      <td>CN306767580S</td>\n",
       "      <td>2021-08-20</td>\n",
       "      <td>NaN</td>\n",
       "      <td>任松</td>\n",
       "      <td>徐炫</td>\n",
       "      <td>上海尚象专利代理有限公司 31335</td>\n",
       "      <td>上海市奉贤区工业路899号8幢</td>\n",
       "      <td>1499.0</td>\n",
       "      <td>1.本外观设计产品的名称：包装袋（妙可蓝多金装奶酪棒）。2.本外观设计产品的用途：用于包装物...</td>\n",
       "    </tr>\n",
       "    <tr>\n",
       "      <th>2</th>\n",
       "      <td>2021-12-31</td>\n",
       "      <td>10420</td>\n",
       "      <td>202130164138.6</td>\n",
       "      <td>上海妙可蓝多食品科技股份有限公司</td>\n",
       "      <td>上海妙可蓝多食品科技股份有限公司</td>\n",
       "      <td>外观设计</td>\n",
       "      <td>包装袋（妙可蓝多艾蒙塔尔）</td>\n",
       "      <td>2021-03-25</td>\n",
       "      <td>CN306685802S</td>\n",
       "      <td>2021-07-16</td>\n",
       "      <td>NaN</td>\n",
       "      <td>任松</td>\n",
       "      <td>徐炫</td>\n",
       "      <td>上海尚象专利代理有限公司 31335</td>\n",
       "      <td>上海市奉贤区工业路899号8幢</td>\n",
       "      <td>1499.0</td>\n",
       "      <td>1.本外观设计产品的名称：包装袋（妙可蓝多艾蒙塔尔）。2.本外观设计产品的用途：用于包装物品...</td>\n",
       "    </tr>\n",
       "    <tr>\n",
       "      <th>3</th>\n",
       "      <td>2021-12-31</td>\n",
       "      <td>10420</td>\n",
       "      <td>202130164139.0</td>\n",
       "      <td>上海妙可蓝多食品科技股份有限公司</td>\n",
       "      <td>上海妙可蓝多食品科技股份有限公司</td>\n",
       "      <td>外观设计</td>\n",
       "      <td>包装袋（妙可蓝多烘焙奶酪）</td>\n",
       "      <td>2021-03-25</td>\n",
       "      <td>CN306693714S</td>\n",
       "      <td>2021-07-20</td>\n",
       "      <td>NaN</td>\n",
       "      <td>任松</td>\n",
       "      <td>徐炫</td>\n",
       "      <td>上海尚象专利代理有限公司 31335</td>\n",
       "      <td>上海市奉贤区工业路899号8幢</td>\n",
       "      <td>1499.0</td>\n",
       "      <td>1.本外观设计产品的名称：包装袋（妙可蓝多烘焙奶酪）。2.本外观设计产品的用途：用于包装物体...</td>\n",
       "    </tr>\n",
       "    <tr>\n",
       "      <th>4</th>\n",
       "      <td>2021-12-31</td>\n",
       "      <td>10420</td>\n",
       "      <td>202130164146.0</td>\n",
       "      <td>上海妙可蓝多食品科技股份有限公司</td>\n",
       "      <td>上海妙可蓝多食品科技股份有限公司</td>\n",
       "      <td>外观设计</td>\n",
       "      <td>包装袋（妙可蓝多马苏里拉奶酪）</td>\n",
       "      <td>2021-03-25</td>\n",
       "      <td>CN306823077S</td>\n",
       "      <td>2021-09-14</td>\n",
       "      <td>NaN</td>\n",
       "      <td>任松</td>\n",
       "      <td>徐炫</td>\n",
       "      <td>上海尚象专利代理有限公司 31335</td>\n",
       "      <td>上海市奉贤区工业路899号8幢</td>\n",
       "      <td>1499.0</td>\n",
       "      <td>1.本外观设计产品的名称：包装袋（妙可蓝多马苏里拉奶酪）。2.本外观设计产品的用途：用于包装...</td>\n",
       "    </tr>\n",
       "    <tr>\n",
       "      <th>...</th>\n",
       "      <td>...</td>\n",
       "      <td>...</td>\n",
       "      <td>...</td>\n",
       "      <td>...</td>\n",
       "      <td>...</td>\n",
       "      <td>...</td>\n",
       "      <td>...</td>\n",
       "      <td>...</td>\n",
       "      <td>...</td>\n",
       "      <td>...</td>\n",
       "      <td>...</td>\n",
       "      <td>...</td>\n",
       "      <td>...</td>\n",
       "      <td>...</td>\n",
       "      <td>...</td>\n",
       "      <td>...</td>\n",
       "      <td>...</td>\n",
       "    </tr>\n",
       "    <tr>\n",
       "      <th>31800</th>\n",
       "      <td>2022-12-31</td>\n",
       "      <td>101027468</td>\n",
       "      <td>202222937479.4</td>\n",
       "      <td>中能智新科技产业发展有限公司</td>\n",
       "      <td>电力规划总院有限公司;中能智新科技产业发展有限公司</td>\n",
       "      <td>实用新型</td>\n",
       "      <td>一种输电线路杆塔基础</td>\n",
       "      <td>2022-11-04</td>\n",
       "      <td>CN218713238U</td>\n",
       "      <td>2023-03-24</td>\n",
       "      <td>E02D27/42</td>\n",
       "      <td>刘德天;李喜来;王勇;俞登科</td>\n",
       "      <td>金鲜英</td>\n",
       "      <td>北京银龙知识产权代理有限公司 11243</td>\n",
       "      <td>北京市西城区安德路65号</td>\n",
       "      <td>100120</td>\n",
       "      <td>本实用新型提供一种输电线路杆塔基础，所述输电线路杆塔基础包括支撑组件、N个装配组件和N个限位...</td>\n",
       "    </tr>\n",
       "    <tr>\n",
       "      <th>31801</th>\n",
       "      <td>2022-12-31</td>\n",
       "      <td>101027468</td>\n",
       "      <td>202222947932.X</td>\n",
       "      <td>中能智新科技产业发展有限公司</td>\n",
       "      <td>电力规划总院有限公司;中能智新科技产业发展有限公司</td>\n",
       "      <td>实用新型</td>\n",
       "      <td>一种输电线路杆塔基础护坡</td>\n",
       "      <td>2022-11-04</td>\n",
       "      <td>CN218713239U</td>\n",
       "      <td>2023-03-24</td>\n",
       "      <td>E02D27/42;E02D17/20</td>\n",
       "      <td>刘德天;李喜来;王勇;董飞飞</td>\n",
       "      <td>张敬强</td>\n",
       "      <td>北京银龙知识产权代理有限公司 11243</td>\n",
       "      <td>北京市西城区安德路65号</td>\n",
       "      <td>100120</td>\n",
       "      <td>本实用新型提供一种输电线路杆塔基础护坡，所述输电线路杆塔基础护坡包括N个护坡墙体、N个斜面、...</td>\n",
       "    </tr>\n",
       "    <tr>\n",
       "      <th>31802</th>\n",
       "      <td>2023-12-31</td>\n",
       "      <td>101027468</td>\n",
       "      <td>202310200554.5</td>\n",
       "      <td>中能智新科技产业发展有限公司</td>\n",
       "      <td>中能智新科技产业发展有限公司;电力规划总院有限公司</td>\n",
       "      <td>发明专利</td>\n",
       "      <td>基于相似性场景及粒子群算法的火电机组报价决策方法</td>\n",
       "      <td>2023-03-06</td>\n",
       "      <td>CN116362828A</td>\n",
       "      <td>2023-06-30</td>\n",
       "      <td>G06Q30/0601;G06N3/006;G06F18/22;G06F18/23;G06Q...</td>\n",
       "      <td>周云;李超英;刘东冉;卜银河</td>\n",
       "      <td>郭晶</td>\n",
       "      <td>北京科家知识产权代理事务所(普通合伙) 11427</td>\n",
       "      <td>北京市西城区安德路65号1号楼2层202室</td>\n",
       "      <td>100120</td>\n",
       "      <td>本发明公开了一种基于相似性场景及粒子群算法的火电机组报价决策方法，通过相似性场景综合多种模糊...</td>\n",
       "    </tr>\n",
       "    <tr>\n",
       "      <th>31803</th>\n",
       "      <td>2023-12-31</td>\n",
       "      <td>101027468</td>\n",
       "      <td>202310858888.1</td>\n",
       "      <td>中能智新科技产业发展有限公司</td>\n",
       "      <td>中能智新科技产业发展有限公司;电力规划总院有限公司</td>\n",
       "      <td>发明专利</td>\n",
       "      <td>基于双层迭代的电力出清方法、装置及相关设备</td>\n",
       "      <td>2023-07-13</td>\n",
       "      <td>CN116579801A</td>\n",
       "      <td>2023-08-11</td>\n",
       "      <td>G06Q30/0201;G06Q10/067;G06F17/10;G06Q50/06;H02...</td>\n",
       "      <td>周云;刘东冉;李超英</td>\n",
       "      <td>李红标</td>\n",
       "      <td>北京银龙知识产权代理有限公司 11243</td>\n",
       "      <td>北京市西城区六铺炕3号</td>\n",
       "      <td>100120</td>\n",
       "      <td>本申请实施例提供一种基于双层迭代的电力出清方法、装置及相关设备，涉及人工智能技术领域，通过获...</td>\n",
       "    </tr>\n",
       "    <tr>\n",
       "      <th>31804</th>\n",
       "      <td>2023-12-31</td>\n",
       "      <td>101027468</td>\n",
       "      <td>202320699226.X</td>\n",
       "      <td>中能智新科技产业发展有限公司</td>\n",
       "      <td>电力规划设计总院;电力规划总院有限公司;中能智新科技产业发展有限公司</td>\n",
       "      <td>实用新型</td>\n",
       "      <td>一种发电系统</td>\n",
       "      <td>2023-04-03</td>\n",
       "      <td>CN219431984U</td>\n",
       "      <td>2023-07-28</td>\n",
       "      <td>F03G4/00;F03B13/06</td>\n",
       "      <td>侯孟婧;李博;戴剑锋</td>\n",
       "      <td>沈旻</td>\n",
       "      <td>北京银龙知识产权代理有限公司 11243</td>\n",
       "      <td>北京市西城区安德路65号</td>\n",
       "      <td>100120</td>\n",
       "      <td>本实用新型提供一种发电系统，包括：地热发电系统和地质力学抽水蓄能系统；地热发电系统包括地热抽...</td>\n",
       "    </tr>\n",
       "  </tbody>\n",
       "</table>\n",
       "<p>2031813 rows × 17 columns</p>\n",
       "</div>"
      ],
      "text/plain": [
       "             截止日期       机构ID           专利申请号              公司名称  \\\n",
       "0      2020-12-31      10420  202030665098.9  上海妙可蓝多食品科技股份有限公司   \n",
       "1      2021-12-31      10420  202130164137.1  上海妙可蓝多食品科技股份有限公司   \n",
       "2      2021-12-31      10420  202130164138.6  上海妙可蓝多食品科技股份有限公司   \n",
       "3      2021-12-31      10420  202130164139.0  上海妙可蓝多食品科技股份有限公司   \n",
       "4      2021-12-31      10420  202130164146.0  上海妙可蓝多食品科技股份有限公司   \n",
       "...           ...        ...             ...               ...   \n",
       "31800  2022-12-31  101027468  202222937479.4    中能智新科技产业发展有限公司   \n",
       "31801  2022-12-31  101027468  202222947932.X    中能智新科技产业发展有限公司   \n",
       "31802  2023-12-31  101027468  202310200554.5    中能智新科技产业发展有限公司   \n",
       "31803  2023-12-31  101027468  202310858888.1    中能智新科技产业发展有限公司   \n",
       "31804  2023-12-31  101027468  202320699226.X    中能智新科技产业发展有限公司   \n",
       "\n",
       "                                 申请(专利权)人  专利类型                      专利名称  \\\n",
       "0                        上海妙可蓝多食品科技股份有限公司  外观设计              包装袋（妙可蓝多奶酪棒）   \n",
       "1                        上海妙可蓝多食品科技股份有限公司  外观设计            包装袋（妙可蓝多金装奶酪棒）   \n",
       "2                        上海妙可蓝多食品科技股份有限公司  外观设计             包装袋（妙可蓝多艾蒙塔尔）   \n",
       "3                        上海妙可蓝多食品科技股份有限公司  外观设计             包装袋（妙可蓝多烘焙奶酪）   \n",
       "4                        上海妙可蓝多食品科技股份有限公司  外观设计           包装袋（妙可蓝多马苏里拉奶酪）   \n",
       "...                                   ...   ...                       ...   \n",
       "31800           电力规划总院有限公司;中能智新科技产业发展有限公司  实用新型                一种输电线路杆塔基础   \n",
       "31801           电力规划总院有限公司;中能智新科技产业发展有限公司  实用新型              一种输电线路杆塔基础护坡   \n",
       "31802           中能智新科技产业发展有限公司;电力规划总院有限公司  发明专利  基于相似性场景及粒子群算法的火电机组报价决策方法   \n",
       "31803           中能智新科技产业发展有限公司;电力规划总院有限公司  发明专利     基于双层迭代的电力出清方法、装置及相关设备   \n",
       "31804  电力规划设计总院;电力规划总院有限公司;中能智新科技产业发展有限公司  实用新型                    一种发电系统   \n",
       "\n",
       "             申请日期       公开(公告)号     公开(公告)日  \\\n",
       "0      2020-11-04  CN306627463S  2021-06-22   \n",
       "1      2021-03-25  CN306767580S  2021-08-20   \n",
       "2      2021-03-25  CN306685802S  2021-07-16   \n",
       "3      2021-03-25  CN306693714S  2021-07-20   \n",
       "4      2021-03-25  CN306823077S  2021-09-14   \n",
       "...           ...           ...         ...   \n",
       "31800  2022-11-04  CN218713238U  2023-03-24   \n",
       "31801  2022-11-04  CN218713239U  2023-03-24   \n",
       "31802  2023-03-06  CN116362828A  2023-06-30   \n",
       "31803  2023-07-13  CN116579801A  2023-08-11   \n",
       "31804  2023-04-03  CN219431984U  2023-07-28   \n",
       "\n",
       "                                                     分类号         发明(设计)人  代理人  \\\n",
       "0                                                    NaN             杨媤琦   徐炫   \n",
       "1                                                    NaN              任松   徐炫   \n",
       "2                                                    NaN              任松   徐炫   \n",
       "3                                                    NaN              任松   徐炫   \n",
       "4                                                    NaN              任松   徐炫   \n",
       "...                                                  ...             ...  ...   \n",
       "31800                                          E02D27/42  刘德天;李喜来;王勇;俞登科  金鲜英   \n",
       "31801                                E02D27/42;E02D17/20  刘德天;李喜来;王勇;董飞飞  张敬强   \n",
       "31802  G06Q30/0601;G06N3/006;G06F18/22;G06F18/23;G06Q...  周云;李超英;刘东冉;卜银河   郭晶   \n",
       "31803  G06Q30/0201;G06Q10/067;G06F17/10;G06Q50/06;H02...      周云;刘东冉;李超英  李红标   \n",
       "31804                                 F03G4/00;F03B13/06      侯孟婧;李博;戴剑锋   沈旻   \n",
       "\n",
       "                            代理机构                  申请人地址   申请人邮编  \\\n",
       "0             上海尚象专利代理有限公司 31335        上海市奉贤区工业路899号8幢  1499.0   \n",
       "1             上海尚象专利代理有限公司 31335        上海市奉贤区工业路899号8幢  1499.0   \n",
       "2             上海尚象专利代理有限公司 31335        上海市奉贤区工业路899号8幢  1499.0   \n",
       "3             上海尚象专利代理有限公司 31335        上海市奉贤区工业路899号8幢  1499.0   \n",
       "4             上海尚象专利代理有限公司 31335        上海市奉贤区工业路899号8幢  1499.0   \n",
       "...                          ...                    ...     ...   \n",
       "31800       北京银龙知识产权代理有限公司 11243           北京市西城区安德路65号  100120   \n",
       "31801       北京银龙知识产权代理有限公司 11243           北京市西城区安德路65号  100120   \n",
       "31802  北京科家知识产权代理事务所(普通合伙) 11427  北京市西城区安德路65号1号楼2层202室  100120   \n",
       "31803       北京银龙知识产权代理有限公司 11243            北京市西城区六铺炕3号  100120   \n",
       "31804       北京银龙知识产权代理有限公司 11243           北京市西城区安德路65号  100120   \n",
       "\n",
       "                                                      摘要  \n",
       "0      1.本外观设计产品的名称：包装袋（妙可蓝多奶酪棒）。2.本外观设计产品的用途：用于包装袋。3...  \n",
       "1      1.本外观设计产品的名称：包装袋（妙可蓝多金装奶酪棒）。2.本外观设计产品的用途：用于包装物...  \n",
       "2      1.本外观设计产品的名称：包装袋（妙可蓝多艾蒙塔尔）。2.本外观设计产品的用途：用于包装物品...  \n",
       "3      1.本外观设计产品的名称：包装袋（妙可蓝多烘焙奶酪）。2.本外观设计产品的用途：用于包装物体...  \n",
       "4      1.本外观设计产品的名称：包装袋（妙可蓝多马苏里拉奶酪）。2.本外观设计产品的用途：用于包装...  \n",
       "...                                                  ...  \n",
       "31800  本实用新型提供一种输电线路杆塔基础，所述输电线路杆塔基础包括支撑组件、N个装配组件和N个限位...  \n",
       "31801  本实用新型提供一种输电线路杆塔基础护坡，所述输电线路杆塔基础护坡包括N个护坡墙体、N个斜面、...  \n",
       "31802  本发明公开了一种基于相似性场景及粒子群算法的火电机组报价决策方法，通过相似性场景综合多种模糊...  \n",
       "31803  本申请实施例提供一种基于双层迭代的电力出清方法、装置及相关设备，涉及人工智能技术领域，通过获...  \n",
       "31804  本实用新型提供一种发电系统，包括：地热发电系统和地质力学抽水蓄能系统；地热发电系统包括地热抽...  \n",
       "\n",
       "[2031813 rows x 17 columns]"
      ]
     },
     "execution_count": 60,
     "metadata": {},
     "output_type": "execute_result"
    }
   ],
   "source": [
    "field_map = {\n",
    "    'EndDate': '截止日期',\n",
    "    'InstitutionID': '机构ID',\n",
    "    'ApplicationNumber': '专利申请号',\n",
    "    'InstitutionName': '公司名称',\n",
    "    'Applicant': '申请(专利权)人',\n",
    "    'Type': '专利类型',\n",
    "    'PatentName': '专利名称',\n",
    "    'ApplicationDate': '申请日期',\n",
    "    'OpenNumber': '公开(公告)号',\n",
    "    'OpenDate': '公开(公告)日',\n",
    "    'IPCClassification': '分类号',\n",
    "    'Inventor': '发明(设计)人',\n",
    "    'Agent': '代理人',\n",
    "    'Agency': '代理机构',\n",
    "    'ApplicantAddress': '申请人地址',\n",
    "    'ApplicantZip': '申请人邮编',\n",
    "    'Summary': '摘要'\n",
    "}\n",
    "\n",
    "\n",
    "type_map = {\n",
    "    'I': '发明专利',\n",
    "    'U': '实用新型',\n",
    "    'D': '外观设计'\n",
    "}\n",
    "\n",
    "\n",
    "patent_info.rename(columns=field_map,inplace=True)\n",
    "patent_info['专利类型'] = patent_info['专利类型'].map(type_map)\n",
    "patent_info"
   ]
  },
  {
   "cell_type": "code",
   "execution_count": 61,
   "id": "21330b7d-27d9-423f-8dc1-d60ef7450f75",
   "metadata": {
    "scrolled": true
   },
   "outputs": [
    {
     "name": "stdout",
     "output_type": "stream",
     "text": [
      "<class 'pandas.core.frame.DataFrame'>\n",
      "Index: 2031813 entries, 0 to 31804\n",
      "Data columns (total 17 columns):\n",
      " #   Column    Dtype \n",
      "---  ------    ----- \n",
      " 0   截止日期      object\n",
      " 1   机构ID      object\n",
      " 2   专利申请号     object\n",
      " 3   公司名称      object\n",
      " 4   申请(专利权)人  object\n",
      " 5   专利类型      object\n",
      " 6   专利名称      object\n",
      " 7   申请日期      object\n",
      " 8   公开(公告)号   object\n",
      " 9   公开(公告)日   object\n",
      " 10  分类号       object\n",
      " 11  发明(设计)人   object\n",
      " 12  代理人       object\n",
      " 13  代理机构      object\n",
      " 14  申请人地址     object\n",
      " 15  申请人邮编     object\n",
      " 16  摘要        object\n",
      "dtypes: object(17)\n",
      "memory usage: 279.0+ MB\n"
     ]
    }
   ],
   "source": [
    "patent_info.info()"
   ]
  },
  {
   "cell_type": "code",
   "execution_count": 65,
   "id": "7af1d2e4-6c20-4e8f-883d-5afe0902eb18",
   "metadata": {
    "scrolled": true
   },
   "outputs": [
    {
     "ename": "ValueError",
     "evalue": "invalid literal for int() with base 10: ' the supporting rods and a frame plate bag. The two electrodes of the chemical source consist of an active material and a \"current collector\" for supporting and conducting electricity'",
     "output_type": "error",
     "traceback": [
      "\u001b[1;31m---------------------------------------------------------------------------\u001b[0m",
      "\u001b[1;31mValueError\u001b[0m                                Traceback (most recent call last)",
      "Cell \u001b[1;32mIn[65], line 1\u001b[0m\n\u001b[1;32m----> 1\u001b[0m \u001b[43mpatent_info\u001b[49m\u001b[38;5;241;43m.\u001b[39;49m\u001b[43m机构ID\u001b[49m\u001b[38;5;241;43m.\u001b[39;49m\u001b[43mastype\u001b[49m\u001b[43m(\u001b[49m\u001b[38;5;28;43mint\u001b[39;49m\u001b[43m)\u001b[49m\n",
      "File \u001b[1;32m~\\AppData\\Roaming\\Python\\Python39\\site-packages\\pandas\\core\\generic.py:6324\u001b[0m, in \u001b[0;36mNDFrame.astype\u001b[1;34m(self, dtype, copy, errors)\u001b[0m\n\u001b[0;32m   6317\u001b[0m     results \u001b[38;5;241m=\u001b[39m [\n\u001b[0;32m   6318\u001b[0m         \u001b[38;5;28mself\u001b[39m\u001b[38;5;241m.\u001b[39miloc[:, i]\u001b[38;5;241m.\u001b[39mastype(dtype, copy\u001b[38;5;241m=\u001b[39mcopy)\n\u001b[0;32m   6319\u001b[0m         \u001b[38;5;28;01mfor\u001b[39;00m i \u001b[38;5;129;01min\u001b[39;00m \u001b[38;5;28mrange\u001b[39m(\u001b[38;5;28mlen\u001b[39m(\u001b[38;5;28mself\u001b[39m\u001b[38;5;241m.\u001b[39mcolumns))\n\u001b[0;32m   6320\u001b[0m     ]\n\u001b[0;32m   6322\u001b[0m \u001b[38;5;28;01melse\u001b[39;00m:\n\u001b[0;32m   6323\u001b[0m     \u001b[38;5;66;03m# else, only a single dtype is given\u001b[39;00m\n\u001b[1;32m-> 6324\u001b[0m     new_data \u001b[38;5;241m=\u001b[39m \u001b[38;5;28;43mself\u001b[39;49m\u001b[38;5;241;43m.\u001b[39;49m\u001b[43m_mgr\u001b[49m\u001b[38;5;241;43m.\u001b[39;49m\u001b[43mastype\u001b[49m\u001b[43m(\u001b[49m\u001b[43mdtype\u001b[49m\u001b[38;5;241;43m=\u001b[39;49m\u001b[43mdtype\u001b[49m\u001b[43m,\u001b[49m\u001b[43m \u001b[49m\u001b[43mcopy\u001b[49m\u001b[38;5;241;43m=\u001b[39;49m\u001b[43mcopy\u001b[49m\u001b[43m,\u001b[49m\u001b[43m \u001b[49m\u001b[43merrors\u001b[49m\u001b[38;5;241;43m=\u001b[39;49m\u001b[43merrors\u001b[49m\u001b[43m)\u001b[49m\n\u001b[0;32m   6325\u001b[0m     \u001b[38;5;28;01mreturn\u001b[39;00m \u001b[38;5;28mself\u001b[39m\u001b[38;5;241m.\u001b[39m_constructor(new_data)\u001b[38;5;241m.\u001b[39m__finalize__(\u001b[38;5;28mself\u001b[39m, method\u001b[38;5;241m=\u001b[39m\u001b[38;5;124m\"\u001b[39m\u001b[38;5;124mastype\u001b[39m\u001b[38;5;124m\"\u001b[39m)\n\u001b[0;32m   6327\u001b[0m \u001b[38;5;66;03m# GH 33113: handle empty frame or series\u001b[39;00m\n",
      "File \u001b[1;32m~\\AppData\\Roaming\\Python\\Python39\\site-packages\\pandas\\core\\internals\\managers.py:451\u001b[0m, in \u001b[0;36mBaseBlockManager.astype\u001b[1;34m(self, dtype, copy, errors)\u001b[0m\n\u001b[0;32m    448\u001b[0m \u001b[38;5;28;01melif\u001b[39;00m using_copy_on_write():\n\u001b[0;32m    449\u001b[0m     copy \u001b[38;5;241m=\u001b[39m \u001b[38;5;28;01mFalse\u001b[39;00m\n\u001b[1;32m--> 451\u001b[0m \u001b[38;5;28;01mreturn\u001b[39;00m \u001b[38;5;28;43mself\u001b[39;49m\u001b[38;5;241;43m.\u001b[39;49m\u001b[43mapply\u001b[49m\u001b[43m(\u001b[49m\n\u001b[0;32m    452\u001b[0m \u001b[43m    \u001b[49m\u001b[38;5;124;43m\"\u001b[39;49m\u001b[38;5;124;43mastype\u001b[39;49m\u001b[38;5;124;43m\"\u001b[39;49m\u001b[43m,\u001b[49m\n\u001b[0;32m    453\u001b[0m \u001b[43m    \u001b[49m\u001b[43mdtype\u001b[49m\u001b[38;5;241;43m=\u001b[39;49m\u001b[43mdtype\u001b[49m\u001b[43m,\u001b[49m\n\u001b[0;32m    454\u001b[0m \u001b[43m    \u001b[49m\u001b[43mcopy\u001b[49m\u001b[38;5;241;43m=\u001b[39;49m\u001b[43mcopy\u001b[49m\u001b[43m,\u001b[49m\n\u001b[0;32m    455\u001b[0m \u001b[43m    \u001b[49m\u001b[43merrors\u001b[49m\u001b[38;5;241;43m=\u001b[39;49m\u001b[43merrors\u001b[49m\u001b[43m,\u001b[49m\n\u001b[0;32m    456\u001b[0m \u001b[43m    \u001b[49m\u001b[43musing_cow\u001b[49m\u001b[38;5;241;43m=\u001b[39;49m\u001b[43musing_copy_on_write\u001b[49m\u001b[43m(\u001b[49m\u001b[43m)\u001b[49m\u001b[43m,\u001b[49m\n\u001b[0;32m    457\u001b[0m \u001b[43m\u001b[49m\u001b[43m)\u001b[49m\n",
      "File \u001b[1;32m~\\AppData\\Roaming\\Python\\Python39\\site-packages\\pandas\\core\\internals\\managers.py:352\u001b[0m, in \u001b[0;36mBaseBlockManager.apply\u001b[1;34m(self, f, align_keys, **kwargs)\u001b[0m\n\u001b[0;32m    350\u001b[0m         applied \u001b[38;5;241m=\u001b[39m b\u001b[38;5;241m.\u001b[39mapply(f, \u001b[38;5;241m*\u001b[39m\u001b[38;5;241m*\u001b[39mkwargs)\n\u001b[0;32m    351\u001b[0m     \u001b[38;5;28;01melse\u001b[39;00m:\n\u001b[1;32m--> 352\u001b[0m         applied \u001b[38;5;241m=\u001b[39m \u001b[38;5;28mgetattr\u001b[39m(b, f)(\u001b[38;5;241m*\u001b[39m\u001b[38;5;241m*\u001b[39mkwargs)\n\u001b[0;32m    353\u001b[0m     result_blocks \u001b[38;5;241m=\u001b[39m extend_blocks(applied, result_blocks)\n\u001b[0;32m    355\u001b[0m out \u001b[38;5;241m=\u001b[39m \u001b[38;5;28mtype\u001b[39m(\u001b[38;5;28mself\u001b[39m)\u001b[38;5;241m.\u001b[39mfrom_blocks(result_blocks, \u001b[38;5;28mself\u001b[39m\u001b[38;5;241m.\u001b[39maxes)\n",
      "File \u001b[1;32m~\\AppData\\Roaming\\Python\\Python39\\site-packages\\pandas\\core\\internals\\blocks.py:511\u001b[0m, in \u001b[0;36mBlock.astype\u001b[1;34m(self, dtype, copy, errors, using_cow)\u001b[0m\n\u001b[0;32m    491\u001b[0m \u001b[38;5;250m\u001b[39m\u001b[38;5;124;03m\"\"\"\u001b[39;00m\n\u001b[0;32m    492\u001b[0m \u001b[38;5;124;03mCoerce to the new dtype.\u001b[39;00m\n\u001b[0;32m    493\u001b[0m \n\u001b[1;32m   (...)\u001b[0m\n\u001b[0;32m    507\u001b[0m \u001b[38;5;124;03mBlock\u001b[39;00m\n\u001b[0;32m    508\u001b[0m \u001b[38;5;124;03m\"\"\"\u001b[39;00m\n\u001b[0;32m    509\u001b[0m values \u001b[38;5;241m=\u001b[39m \u001b[38;5;28mself\u001b[39m\u001b[38;5;241m.\u001b[39mvalues\n\u001b[1;32m--> 511\u001b[0m new_values \u001b[38;5;241m=\u001b[39m \u001b[43mastype_array_safe\u001b[49m\u001b[43m(\u001b[49m\u001b[43mvalues\u001b[49m\u001b[43m,\u001b[49m\u001b[43m \u001b[49m\u001b[43mdtype\u001b[49m\u001b[43m,\u001b[49m\u001b[43m \u001b[49m\u001b[43mcopy\u001b[49m\u001b[38;5;241;43m=\u001b[39;49m\u001b[43mcopy\u001b[49m\u001b[43m,\u001b[49m\u001b[43m \u001b[49m\u001b[43merrors\u001b[49m\u001b[38;5;241;43m=\u001b[39;49m\u001b[43merrors\u001b[49m\u001b[43m)\u001b[49m\n\u001b[0;32m    513\u001b[0m new_values \u001b[38;5;241m=\u001b[39m maybe_coerce_values(new_values)\n\u001b[0;32m    515\u001b[0m refs \u001b[38;5;241m=\u001b[39m \u001b[38;5;28;01mNone\u001b[39;00m\n",
      "File \u001b[1;32m~\\AppData\\Roaming\\Python\\Python39\\site-packages\\pandas\\core\\dtypes\\astype.py:242\u001b[0m, in \u001b[0;36mastype_array_safe\u001b[1;34m(values, dtype, copy, errors)\u001b[0m\n\u001b[0;32m    239\u001b[0m     dtype \u001b[38;5;241m=\u001b[39m dtype\u001b[38;5;241m.\u001b[39mnumpy_dtype\n\u001b[0;32m    241\u001b[0m \u001b[38;5;28;01mtry\u001b[39;00m:\n\u001b[1;32m--> 242\u001b[0m     new_values \u001b[38;5;241m=\u001b[39m \u001b[43mastype_array\u001b[49m\u001b[43m(\u001b[49m\u001b[43mvalues\u001b[49m\u001b[43m,\u001b[49m\u001b[43m \u001b[49m\u001b[43mdtype\u001b[49m\u001b[43m,\u001b[49m\u001b[43m \u001b[49m\u001b[43mcopy\u001b[49m\u001b[38;5;241;43m=\u001b[39;49m\u001b[43mcopy\u001b[49m\u001b[43m)\u001b[49m\n\u001b[0;32m    243\u001b[0m \u001b[38;5;28;01mexcept\u001b[39;00m (\u001b[38;5;167;01mValueError\u001b[39;00m, \u001b[38;5;167;01mTypeError\u001b[39;00m):\n\u001b[0;32m    244\u001b[0m     \u001b[38;5;66;03m# e.g. _astype_nansafe can fail on object-dtype of strings\u001b[39;00m\n\u001b[0;32m    245\u001b[0m     \u001b[38;5;66;03m#  trying to convert to float\u001b[39;00m\n\u001b[0;32m    246\u001b[0m     \u001b[38;5;28;01mif\u001b[39;00m errors \u001b[38;5;241m==\u001b[39m \u001b[38;5;124m\"\u001b[39m\u001b[38;5;124mignore\u001b[39m\u001b[38;5;124m\"\u001b[39m:\n",
      "File \u001b[1;32m~\\AppData\\Roaming\\Python\\Python39\\site-packages\\pandas\\core\\dtypes\\astype.py:187\u001b[0m, in \u001b[0;36mastype_array\u001b[1;34m(values, dtype, copy)\u001b[0m\n\u001b[0;32m    184\u001b[0m     values \u001b[38;5;241m=\u001b[39m values\u001b[38;5;241m.\u001b[39mastype(dtype, copy\u001b[38;5;241m=\u001b[39mcopy)\n\u001b[0;32m    186\u001b[0m \u001b[38;5;28;01melse\u001b[39;00m:\n\u001b[1;32m--> 187\u001b[0m     values \u001b[38;5;241m=\u001b[39m \u001b[43m_astype_nansafe\u001b[49m\u001b[43m(\u001b[49m\u001b[43mvalues\u001b[49m\u001b[43m,\u001b[49m\u001b[43m \u001b[49m\u001b[43mdtype\u001b[49m\u001b[43m,\u001b[49m\u001b[43m \u001b[49m\u001b[43mcopy\u001b[49m\u001b[38;5;241;43m=\u001b[39;49m\u001b[43mcopy\u001b[49m\u001b[43m)\u001b[49m\n\u001b[0;32m    189\u001b[0m \u001b[38;5;66;03m# in pandas we don't store numpy str dtypes, so convert to object\u001b[39;00m\n\u001b[0;32m    190\u001b[0m \u001b[38;5;28;01mif\u001b[39;00m \u001b[38;5;28misinstance\u001b[39m(dtype, np\u001b[38;5;241m.\u001b[39mdtype) \u001b[38;5;129;01mand\u001b[39;00m \u001b[38;5;28missubclass\u001b[39m(values\u001b[38;5;241m.\u001b[39mdtype\u001b[38;5;241m.\u001b[39mtype, \u001b[38;5;28mstr\u001b[39m):\n",
      "File \u001b[1;32m~\\AppData\\Roaming\\Python\\Python39\\site-packages\\pandas\\core\\dtypes\\astype.py:138\u001b[0m, in \u001b[0;36m_astype_nansafe\u001b[1;34m(arr, dtype, copy, skipna)\u001b[0m\n\u001b[0;32m    134\u001b[0m     \u001b[38;5;28;01mraise\u001b[39;00m \u001b[38;5;167;01mValueError\u001b[39;00m(msg)\n\u001b[0;32m    136\u001b[0m \u001b[38;5;28;01mif\u001b[39;00m copy \u001b[38;5;129;01mor\u001b[39;00m is_object_dtype(arr\u001b[38;5;241m.\u001b[39mdtype) \u001b[38;5;129;01mor\u001b[39;00m is_object_dtype(dtype):\n\u001b[0;32m    137\u001b[0m     \u001b[38;5;66;03m# Explicit copy, or required since NumPy can't view from / to object.\u001b[39;00m\n\u001b[1;32m--> 138\u001b[0m     \u001b[38;5;28;01mreturn\u001b[39;00m \u001b[43marr\u001b[49m\u001b[38;5;241;43m.\u001b[39;49m\u001b[43mastype\u001b[49m\u001b[43m(\u001b[49m\u001b[43mdtype\u001b[49m\u001b[43m,\u001b[49m\u001b[43m \u001b[49m\u001b[43mcopy\u001b[49m\u001b[38;5;241;43m=\u001b[39;49m\u001b[38;5;28;43;01mTrue\u001b[39;49;00m\u001b[43m)\u001b[49m\n\u001b[0;32m    140\u001b[0m \u001b[38;5;28;01mreturn\u001b[39;00m arr\u001b[38;5;241m.\u001b[39mastype(dtype, copy\u001b[38;5;241m=\u001b[39mcopy)\n",
      "\u001b[1;31mValueError\u001b[0m: invalid literal for int() with base 10: ' the supporting rods and a frame plate bag. The two electrodes of the chemical source consist of an active material and a \"current collector\" for supporting and conducting electricity'"
     ]
    }
   ],
   "source": [
    "patent_info.机构ID.astype(int)"
   ]
  },
  {
   "cell_type": "code",
   "execution_count": 63,
   "id": "3fd19617-5971-4cd8-bc9d-c4d72ef5dc5e",
   "metadata": {
    "scrolled": true
   },
   "outputs": [
    {
     "data": {
      "text/plain": [
       "截止日期\n",
       "2020-12-31                                                                                                                                                                                                                                                                                                                                                   292208\n",
       "2021-12-31                                                                                                                                                                                                                                                                                                                                                   291957\n",
       "2022-12-31                                                                                                                                                                                                                                                                                                                                                   274081\n",
       "2019-12-31                                                                                                                                                                                                                                                                                                                                                   234773\n",
       "2018-12-31                                                                                                                                                                                                                                                                                                                                                   200087\n",
       "2017-12-31                                                                                                                                                                                                                                                                                                                                                   162598\n",
       "2016-12-31                                                                                                                                                                                                                                                                                                                                                   131052\n",
       "2015-12-31                                                                                                                                                                                                                                                                                                                                                    96163\n",
       "2014-12-31                                                                                                                                                                                                                                                                                                                                                    70347\n",
       "2013-12-31                                                                                                                                                                                                                                                                                                                                                    60351\n",
       "2012-12-31                                                                                                                                                                                                                                                                                                                                                    54696\n",
       "2023-12-31                                                                                                                                                                                                                                                                                                                                                    44876\n",
       "2011-12-31                                                                                                                                                                                                                                                                                                                                                    39995\n",
       "2010-12-31                                                                                                                                                                                                                                                                                                                                                    26420\n",
       "2009-12-31                                                                                                                                                                                                                                                                                                                                                    18882\n",
       "2008-12-31                                                                                                                                                                                                                                                                                                                                                    11838\n",
       "2007-12-31                                                                                                                                                                                                                                                                                                                                                     6851\n",
       "2006-12-31                                                                                                                                                                                                                                                                                                                                                     5057\n",
       "2005-12-31                                                                                                                                                                                                                                                                                                                                                     3512\n",
       "2004-12-31                                                                                                                                                                                                                                                                                                                                                     1986\n",
       "2003-12-31                                                                                                                                                                                                                                                                                                                                                     1619\n",
       "2002-12-31                                                                                                                                                                                                                                                                                                                                                     1142\n",
       "2001-12-31                                                                                                                                                                                                                                                                                                                                                      563\n",
       "2000-12-31                                                                                                                                                                                                                                                                                                                                                      331\n",
       "1999-12-31                                                                                                                                                                                                                                                                                                                                                      143\n",
       "1998-12-31                                                                                                                                                                                                                                                                                                                                                       94\n",
       "1997-12-31                                                                                                                                                                                                                                                                                                                                                       48\n",
       "1996-12-31                                                                                                                                                                                                                                                                                                                                                       40\n",
       "1995-12-31                                                                                                                                                                                                                                                                                                                                                       30\n",
       "1994-12-31                                                                                                                                                                                                                                                                                                                                                       23\n",
       "1993-12-31                                                                                                                                                                                                                                                                                                                                                       12\n",
       "1992-12-31                                                                                                                                                                                                                                                                                                                                                        8\n",
       "1989-12-31                                                                                                                                                                                                                                                                                                                                                        5\n",
       "1988-12-31                                                                                                                                                                                                                                                                                                                                                        5\n",
       "1990-12-31                                                                                                                                                                                                                                                                                                                                                        4\n",
       "1991-12-31                                                                                                                                                                                                                                                                                                                                                        3\n",
       "\\r\\n2019-12-31\"                                                                                                                                                                                                                                                                                                                                                   2\n",
       "1987-12-31                                                                                                                                                                                                                                                                                                                                                        2\n",
       "【EN】The utility model discloses a day and night confocal lens with high pixel number                                                                                                                                                                                                                                                                              1\n",
       "        </table>                                                                                                                                                                                                                                                                                                                                                  1\n",
       "    </div>                                                                                                                                                                                                                                                                                                                                                        1\n",
       "    <div style=\"margin-top:10px\"><script async src=\"https://pagead2.googlesyndication.com/pagead/js/adsbygoogle.js\">                                                                                                                                                                                                                                              1\n",
       "<!-- fit-hx -->                                                                                                                                                                                                                                                                                                                                                   1\n",
       "    (adsbygoogle = window.adsbygoogle || []).push({});\"                                                                                                                                                                                                                                                                                                           1\n",
       "1986-12-31                                                                                                                                                                                                                                                                                                                                                        1\n",
       "【EN】1. the title of this design prod: for the graphic user interface of computer. 2. the purposes of this design prod: working procedure. 3. the designing points of this design prod: be the graphic user interface content in screen. 4. picture or the photo of designing points can be shown: front view. 5. other views are without designing points         1\n",
       "【EN】The utility model discloses a take polar plate bearer bar of bracing piece. The polar plate protection frame with the supporting rods comprises a polar plate frame                                                                                                                                                                                           1\n",
       "Name: count, dtype: int64"
      ]
     },
     "execution_count": 63,
     "metadata": {},
     "output_type": "execute_result"
    }
   ],
   "source": [
    "patent_info.截止日期.value_counts()"
   ]
  },
  {
   "cell_type": "code",
   "execution_count": 66,
   "id": "40f2700b-fb38-4f0b-a01d-ac7900808ad1",
   "metadata": {},
   "outputs": [
    {
     "data": {
      "text/plain": [
       "8"
      ]
     },
     "execution_count": 66,
     "metadata": {},
     "output_type": "execute_result"
    }
   ],
   "source": [
    "patent_info['机构ID'] = pd.to_numeric(patent_info['机构ID'], errors='coerce')\n",
    "\n",
    "patent_info['机构ID'].isnull().sum()"
   ]
  },
  {
   "cell_type": "code",
   "execution_count": 67,
   "id": "4370bbe0-aea8-4741-80dd-5074681716e2",
   "metadata": {},
   "outputs": [
    {
     "data": {
      "text/html": [
       "<div>\n",
       "<style scoped>\n",
       "    .dataframe tbody tr th:only-of-type {\n",
       "        vertical-align: middle;\n",
       "    }\n",
       "\n",
       "    .dataframe tbody tr th {\n",
       "        vertical-align: top;\n",
       "    }\n",
       "\n",
       "    .dataframe thead th {\n",
       "        text-align: right;\n",
       "    }\n",
       "</style>\n",
       "<table border=\"1\" class=\"dataframe\">\n",
       "  <thead>\n",
       "    <tr style=\"text-align: right;\">\n",
       "      <th></th>\n",
       "      <th>截止日期</th>\n",
       "      <th>机构ID</th>\n",
       "      <th>专利申请号</th>\n",
       "      <th>公司名称</th>\n",
       "      <th>申请(专利权)人</th>\n",
       "      <th>专利类型</th>\n",
       "      <th>专利名称</th>\n",
       "      <th>申请日期</th>\n",
       "      <th>公开(公告)号</th>\n",
       "      <th>公开(公告)日</th>\n",
       "      <th>分类号</th>\n",
       "      <th>发明(设计)人</th>\n",
       "      <th>代理人</th>\n",
       "      <th>代理机构</th>\n",
       "      <th>申请人地址</th>\n",
       "      <th>申请人邮编</th>\n",
       "      <th>摘要</th>\n",
       "    </tr>\n",
       "  </thead>\n",
       "  <tbody>\n",
       "    <tr>\n",
       "      <th>190907</th>\n",
       "      <td>【EN】The utility model discloses a take polar p...</td>\n",
       "      <td>NaN</td>\n",
       "      <td>generally a sheet-like porous body</td>\n",
       "      <td>called the plate. When the polar plate is man...</td>\n",
       "      <td>the active substance is not directly added in...</td>\n",
       "      <td>NaN</td>\n",
       "      <td>or the raw material is filled into a glass fi...</td>\n",
       "      <td>NaN</td>\n",
       "      <td>NaN</td>\n",
       "      <td>NaN</td>\n",
       "      <td>NaN</td>\n",
       "      <td>NaN</td>\n",
       "      <td>NaN</td>\n",
       "      <td>NaN</td>\n",
       "      <td>NaN</td>\n",
       "      <td>NaN</td>\n",
       "      <td>NaN</td>\n",
       "    </tr>\n",
       "    <tr>\n",
       "      <th>382202</th>\n",
       "      <td>【EN】1. the title of this design prod: for the ...</td>\n",
       "      <td>NaN</td>\n",
       "      <td>shows configuring condition in the middle of ...</td>\n",
       "      <td>interface</td>\n",
       "      <td>get final product display interface variable ...</td>\n",
       "      <td>NaN</td>\n",
       "      <td>click \" increasing service \" and get final pr...</td>\n",
       "      <td>click \" stored configuration \" and get final ...</td>\n",
       "      <td>and interface variable condition Fig. 9 14 is...</td>\n",
       "      <td>and interface variable condition Fig. 9 is th...</td>\n",
       "      <td>click \" stored parameter \" and get final prod...</td>\n",
       "      <td>NaN</td>\n",
       "      <td>NaN</td>\n",
       "      <td>NaN</td>\n",
       "      <td>NaN</td>\n",
       "      <td>NaN</td>\n",
       "      <td>NaN</td>\n",
       "    </tr>\n",
       "    <tr>\n",
       "      <th>811911</th>\n",
       "      <td>【EN】The utility model discloses a day and nigh...</td>\n",
       "      <td>NaN</td>\n",
       "      <td>which comprises a first lens</td>\n",
       "      <td>a tenth lens and an optical filter</td>\n",
       "      <td>wherein the first lens</td>\n",
       "      <td>NaN</td>\n",
       "      <td>the second lens is a convex-concave negative ...</td>\n",
       "      <td>the third lens is a biconvex positive focal p...</td>\n",
       "      <td>the fourth lens is a plano-convex positive fo...</td>\n",
       "      <td>the fifth lens is a biconcave negative focal ...</td>\n",
       "      <td>the sixth lens is a biconvex positive focal p...</td>\n",
       "      <td>the seventh lens is a biconcave negative foca...</td>\n",
       "      <td>the eighth lens is a biconcave negative focal...</td>\n",
       "      <td>the ninth lens is a biconvex positive focal p...</td>\n",
       "      <td>and the tenth lens is a biconcave negative fo...</td>\n",
       "      <td>the 4K image sensor of adaptation 1/1.8\"</td>\n",
       "      <td>and the method that adopts the switching isop...</td>\n",
       "    </tr>\n",
       "    <tr>\n",
       "      <th>580750</th>\n",
       "      <td>&lt;/table&gt;</td>\n",
       "      <td>NaN</td>\n",
       "      <td>NaN</td>\n",
       "      <td>NaN</td>\n",
       "      <td>NaN</td>\n",
       "      <td>NaN</td>\n",
       "      <td>NaN</td>\n",
       "      <td>NaN</td>\n",
       "      <td>NaN</td>\n",
       "      <td>NaN</td>\n",
       "      <td>NaN</td>\n",
       "      <td>NaN</td>\n",
       "      <td>NaN</td>\n",
       "      <td>NaN</td>\n",
       "      <td>NaN</td>\n",
       "      <td>NaN</td>\n",
       "      <td>NaN</td>\n",
       "    </tr>\n",
       "    <tr>\n",
       "      <th>580751</th>\n",
       "      <td>&lt;/div&gt;</td>\n",
       "      <td>NaN</td>\n",
       "      <td>NaN</td>\n",
       "      <td>NaN</td>\n",
       "      <td>NaN</td>\n",
       "      <td>NaN</td>\n",
       "      <td>NaN</td>\n",
       "      <td>NaN</td>\n",
       "      <td>NaN</td>\n",
       "      <td>NaN</td>\n",
       "      <td>NaN</td>\n",
       "      <td>NaN</td>\n",
       "      <td>NaN</td>\n",
       "      <td>NaN</td>\n",
       "      <td>NaN</td>\n",
       "      <td>NaN</td>\n",
       "      <td>NaN</td>\n",
       "    </tr>\n",
       "    <tr>\n",
       "      <th>580752</th>\n",
       "      <td>&lt;div style=\"margin-top:10px\"&gt;&lt;script async...</td>\n",
       "      <td>NaN</td>\n",
       "      <td>NaN</td>\n",
       "      <td>NaN</td>\n",
       "      <td>NaN</td>\n",
       "      <td>NaN</td>\n",
       "      <td>NaN</td>\n",
       "      <td>NaN</td>\n",
       "      <td>NaN</td>\n",
       "      <td>NaN</td>\n",
       "      <td>NaN</td>\n",
       "      <td>NaN</td>\n",
       "      <td>NaN</td>\n",
       "      <td>NaN</td>\n",
       "      <td>NaN</td>\n",
       "      <td>NaN</td>\n",
       "      <td>NaN</td>\n",
       "    </tr>\n",
       "    <tr>\n",
       "      <th>580753</th>\n",
       "      <td>&lt;!-- fit-hx --&gt;</td>\n",
       "      <td>NaN</td>\n",
       "      <td>NaN</td>\n",
       "      <td>NaN</td>\n",
       "      <td>NaN</td>\n",
       "      <td>NaN</td>\n",
       "      <td>NaN</td>\n",
       "      <td>NaN</td>\n",
       "      <td>NaN</td>\n",
       "      <td>NaN</td>\n",
       "      <td>NaN</td>\n",
       "      <td>NaN</td>\n",
       "      <td>NaN</td>\n",
       "      <td>NaN</td>\n",
       "      <td>NaN</td>\n",
       "      <td>NaN</td>\n",
       "      <td>NaN</td>\n",
       "    </tr>\n",
       "    <tr>\n",
       "      <th>580754</th>\n",
       "      <td>(adsbygoogle = window.adsbygoogle || []).p...</td>\n",
       "      <td>NaN</td>\n",
       "      <td>NaN</td>\n",
       "      <td>NaN</td>\n",
       "      <td>NaN</td>\n",
       "      <td>NaN</td>\n",
       "      <td>NaN</td>\n",
       "      <td>NaN</td>\n",
       "      <td>NaN</td>\n",
       "      <td>NaN</td>\n",
       "      <td>NaN</td>\n",
       "      <td>NaN</td>\n",
       "      <td>NaN</td>\n",
       "      <td>NaN</td>\n",
       "      <td>NaN</td>\n",
       "      <td>NaN</td>\n",
       "      <td>NaN</td>\n",
       "    </tr>\n",
       "  </tbody>\n",
       "</table>\n",
       "</div>"
      ],
      "text/plain": [
       "                                                     截止日期  机构ID  \\\n",
       "190907  【EN】The utility model discloses a take polar p...   NaN   \n",
       "382202  【EN】1. the title of this design prod: for the ...   NaN   \n",
       "811911  【EN】The utility model discloses a day and nigh...   NaN   \n",
       "580750                                           </table>   NaN   \n",
       "580751                                             </div>   NaN   \n",
       "580752      <div style=\"margin-top:10px\"><script async...   NaN   \n",
       "580753                                    <!-- fit-hx -->   NaN   \n",
       "580754      (adsbygoogle = window.adsbygoogle || []).p...   NaN   \n",
       "\n",
       "                                                    专利申请号  \\\n",
       "190907                 generally a sheet-like porous body   \n",
       "382202   shows configuring condition in the middle of ...   \n",
       "811911                       which comprises a first lens   \n",
       "580750                                                NaN   \n",
       "580751                                                NaN   \n",
       "580752                                                NaN   \n",
       "580753                                                NaN   \n",
       "580754                                                NaN   \n",
       "\n",
       "                                                     公司名称  \\\n",
       "190907   called the plate. When the polar plate is man...   \n",
       "382202                                          interface   \n",
       "811911                 a tenth lens and an optical filter   \n",
       "580750                                                NaN   \n",
       "580751                                                NaN   \n",
       "580752                                                NaN   \n",
       "580753                                                NaN   \n",
       "580754                                                NaN   \n",
       "\n",
       "                                                 申请(专利权)人 专利类型  \\\n",
       "190907   the active substance is not directly added in...  NaN   \n",
       "382202   get final product display interface variable ...  NaN   \n",
       "811911                             wherein the first lens  NaN   \n",
       "580750                                                NaN  NaN   \n",
       "580751                                                NaN  NaN   \n",
       "580752                                                NaN  NaN   \n",
       "580753                                                NaN  NaN   \n",
       "580754                                                NaN  NaN   \n",
       "\n",
       "                                                     专利名称  \\\n",
       "190907   or the raw material is filled into a glass fi...   \n",
       "382202   click \" increasing service \" and get final pr...   \n",
       "811911   the second lens is a convex-concave negative ...   \n",
       "580750                                                NaN   \n",
       "580751                                                NaN   \n",
       "580752                                                NaN   \n",
       "580753                                                NaN   \n",
       "580754                                                NaN   \n",
       "\n",
       "                                                     申请日期  \\\n",
       "190907                                                NaN   \n",
       "382202   click \" stored configuration \" and get final ...   \n",
       "811911   the third lens is a biconvex positive focal p...   \n",
       "580750                                                NaN   \n",
       "580751                                                NaN   \n",
       "580752                                                NaN   \n",
       "580753                                                NaN   \n",
       "580754                                                NaN   \n",
       "\n",
       "                                                  公开(公告)号  \\\n",
       "190907                                                NaN   \n",
       "382202   and interface variable condition Fig. 9 14 is...   \n",
       "811911   the fourth lens is a plano-convex positive fo...   \n",
       "580750                                                NaN   \n",
       "580751                                                NaN   \n",
       "580752                                                NaN   \n",
       "580753                                                NaN   \n",
       "580754                                                NaN   \n",
       "\n",
       "                                                  公开(公告)日  \\\n",
       "190907                                                NaN   \n",
       "382202   and interface variable condition Fig. 9 is th...   \n",
       "811911   the fifth lens is a biconcave negative focal ...   \n",
       "580750                                                NaN   \n",
       "580751                                                NaN   \n",
       "580752                                                NaN   \n",
       "580753                                                NaN   \n",
       "580754                                                NaN   \n",
       "\n",
       "                                                      分类号  \\\n",
       "190907                                                NaN   \n",
       "382202   click \" stored parameter \" and get final prod...   \n",
       "811911   the sixth lens is a biconvex positive focal p...   \n",
       "580750                                                NaN   \n",
       "580751                                                NaN   \n",
       "580752                                                NaN   \n",
       "580753                                                NaN   \n",
       "580754                                                NaN   \n",
       "\n",
       "                                                  发明(设计)人  \\\n",
       "190907                                                NaN   \n",
       "382202                                                NaN   \n",
       "811911   the seventh lens is a biconcave negative foca...   \n",
       "580750                                                NaN   \n",
       "580751                                                NaN   \n",
       "580752                                                NaN   \n",
       "580753                                                NaN   \n",
       "580754                                                NaN   \n",
       "\n",
       "                                                      代理人  \\\n",
       "190907                                                NaN   \n",
       "382202                                                NaN   \n",
       "811911   the eighth lens is a biconcave negative focal...   \n",
       "580750                                                NaN   \n",
       "580751                                                NaN   \n",
       "580752                                                NaN   \n",
       "580753                                                NaN   \n",
       "580754                                                NaN   \n",
       "\n",
       "                                                     代理机构  \\\n",
       "190907                                                NaN   \n",
       "382202                                                NaN   \n",
       "811911   the ninth lens is a biconvex positive focal p...   \n",
       "580750                                                NaN   \n",
       "580751                                                NaN   \n",
       "580752                                                NaN   \n",
       "580753                                                NaN   \n",
       "580754                                                NaN   \n",
       "\n",
       "                                                    申请人地址  \\\n",
       "190907                                                NaN   \n",
       "382202                                                NaN   \n",
       "811911   and the tenth lens is a biconcave negative fo...   \n",
       "580750                                                NaN   \n",
       "580751                                                NaN   \n",
       "580752                                                NaN   \n",
       "580753                                                NaN   \n",
       "580754                                                NaN   \n",
       "\n",
       "                                            申请人邮编  \\\n",
       "190907                                        NaN   \n",
       "382202                                        NaN   \n",
       "811911   the 4K image sensor of adaptation 1/1.8\"   \n",
       "580750                                        NaN   \n",
       "580751                                        NaN   \n",
       "580752                                        NaN   \n",
       "580753                                        NaN   \n",
       "580754                                        NaN   \n",
       "\n",
       "                                                       摘要  \n",
       "190907                                                NaN  \n",
       "382202                                                NaN  \n",
       "811911   and the method that adopts the switching isop...  \n",
       "580750                                                NaN  \n",
       "580751                                                NaN  \n",
       "580752                                                NaN  \n",
       "580753                                                NaN  \n",
       "580754                                                NaN  "
      ]
     },
     "execution_count": 67,
     "metadata": {},
     "output_type": "execute_result"
    }
   ],
   "source": [
    "patent_info[patent_info['机构ID'].isnull()]"
   ]
  },
  {
   "cell_type": "code",
   "execution_count": 68,
   "id": "2baee862-4b88-41b8-88d1-a1fdf66699fc",
   "metadata": {},
   "outputs": [
    {
     "data": {
      "text/plain": [
       "10"
      ]
     },
     "execution_count": 68,
     "metadata": {},
     "output_type": "execute_result"
    }
   ],
   "source": [
    "patent_info['截止日期'] = pd.to_datetime(patent_info['截止日期'], errors='coerce')\n",
    "patent_info['截止日期'].isnull().sum()"
   ]
  },
  {
   "cell_type": "code",
   "execution_count": 69,
   "id": "408cad06-a9de-4851-a23a-00a4f89050c7",
   "metadata": {},
   "outputs": [
    {
     "data": {
      "text/html": [
       "<div>\n",
       "<style scoped>\n",
       "    .dataframe tbody tr th:only-of-type {\n",
       "        vertical-align: middle;\n",
       "    }\n",
       "\n",
       "    .dataframe tbody tr th {\n",
       "        vertical-align: top;\n",
       "    }\n",
       "\n",
       "    .dataframe thead th {\n",
       "        text-align: right;\n",
       "    }\n",
       "</style>\n",
       "<table border=\"1\" class=\"dataframe\">\n",
       "  <thead>\n",
       "    <tr style=\"text-align: right;\">\n",
       "      <th></th>\n",
       "      <th>截止日期</th>\n",
       "      <th>机构ID</th>\n",
       "      <th>专利申请号</th>\n",
       "      <th>公司名称</th>\n",
       "      <th>申请(专利权)人</th>\n",
       "      <th>专利类型</th>\n",
       "      <th>专利名称</th>\n",
       "      <th>申请日期</th>\n",
       "      <th>公开(公告)号</th>\n",
       "      <th>公开(公告)日</th>\n",
       "      <th>分类号</th>\n",
       "      <th>发明(设计)人</th>\n",
       "      <th>代理人</th>\n",
       "      <th>代理机构</th>\n",
       "      <th>申请人地址</th>\n",
       "      <th>申请人邮编</th>\n",
       "      <th>摘要</th>\n",
       "    </tr>\n",
       "  </thead>\n",
       "  <tbody>\n",
       "    <tr>\n",
       "      <th>190907</th>\n",
       "      <td>NaT</td>\n",
       "      <td>NaN</td>\n",
       "      <td>generally a sheet-like porous body</td>\n",
       "      <td>called the plate. When the polar plate is man...</td>\n",
       "      <td>the active substance is not directly added in...</td>\n",
       "      <td>NaN</td>\n",
       "      <td>or the raw material is filled into a glass fi...</td>\n",
       "      <td>NaN</td>\n",
       "      <td>NaN</td>\n",
       "      <td>NaN</td>\n",
       "      <td>NaN</td>\n",
       "      <td>NaN</td>\n",
       "      <td>NaN</td>\n",
       "      <td>NaN</td>\n",
       "      <td>NaN</td>\n",
       "      <td>NaN</td>\n",
       "      <td>NaN</td>\n",
       "    </tr>\n",
       "    <tr>\n",
       "      <th>382202</th>\n",
       "      <td>NaT</td>\n",
       "      <td>NaN</td>\n",
       "      <td>shows configuring condition in the middle of ...</td>\n",
       "      <td>interface</td>\n",
       "      <td>get final product display interface variable ...</td>\n",
       "      <td>NaN</td>\n",
       "      <td>click \" increasing service \" and get final pr...</td>\n",
       "      <td>click \" stored configuration \" and get final ...</td>\n",
       "      <td>and interface variable condition Fig. 9 14 is...</td>\n",
       "      <td>and interface variable condition Fig. 9 is th...</td>\n",
       "      <td>click \" stored parameter \" and get final prod...</td>\n",
       "      <td>NaN</td>\n",
       "      <td>NaN</td>\n",
       "      <td>NaN</td>\n",
       "      <td>NaN</td>\n",
       "      <td>NaN</td>\n",
       "      <td>NaN</td>\n",
       "    </tr>\n",
       "    <tr>\n",
       "      <th>475149</th>\n",
       "      <td>NaT</td>\n",
       "      <td>10416146.0</td>\n",
       "      <td>201930333730.7</td>\n",
       "      <td>未来电视有限公司</td>\n",
       "      <td>未来电视有限公司</td>\n",
       "      <td>外观设计</td>\n",
       "      <td>电视的影音播放导航图形用户界面</td>\n",
       "      <td>2019-06-26</td>\n",
       "      <td>CN305820145S</td>\n",
       "      <td>2020-06-02</td>\n",
       "      <td>14-03(12);14-04</td>\n",
       "      <td>李鸣;金泽;沈伟;陈凡;刘佳</td>\n",
       "      <td>王焕</td>\n",
       "      <td>北京超凡宏宇专利代理事务所 11463</td>\n",
       "      <td>天津市东丽区天津自贸试验区(空港经济区)环河北路80号空港商务园东区5-1,2-501</td>\n",
       "      <td>00308</td>\n",
       "      <td>1.本外观设计产品的名称：电视的影音播放导航图形用户界面。\\r\\n2.本外观设计产品的用途：...</td>\n",
       "    </tr>\n",
       "    <tr>\n",
       "      <th>811911</th>\n",
       "      <td>NaT</td>\n",
       "      <td>NaN</td>\n",
       "      <td>which comprises a first lens</td>\n",
       "      <td>a tenth lens and an optical filter</td>\n",
       "      <td>wherein the first lens</td>\n",
       "      <td>NaN</td>\n",
       "      <td>the second lens is a convex-concave negative ...</td>\n",
       "      <td>the third lens is a biconvex positive focal p...</td>\n",
       "      <td>the fourth lens is a plano-convex positive fo...</td>\n",
       "      <td>the fifth lens is a biconcave negative focal ...</td>\n",
       "      <td>the sixth lens is a biconvex positive focal p...</td>\n",
       "      <td>the seventh lens is a biconcave negative foca...</td>\n",
       "      <td>the eighth lens is a biconcave negative focal...</td>\n",
       "      <td>the ninth lens is a biconvex positive focal p...</td>\n",
       "      <td>and the tenth lens is a biconcave negative fo...</td>\n",
       "      <td>the 4K image sensor of adaptation 1/1.8\"</td>\n",
       "      <td>and the method that adopts the switching isop...</td>\n",
       "    </tr>\n",
       "    <tr>\n",
       "      <th>277064</th>\n",
       "      <td>NaT</td>\n",
       "      <td>10856095.0</td>\n",
       "      <td>201920615508.0</td>\n",
       "      <td>深圳市晶金电子有限公司</td>\n",
       "      <td>深圳市晶金电子有限公司</td>\n",
       "      <td>实用新型</td>\n",
       "      <td>一种定位精准的对位冲孔熔合机</td>\n",
       "      <td>2019-04-29</td>\n",
       "      <td>CN210958975U</td>\n",
       "      <td>2020-07-07</td>\n",
       "      <td>H05K3/00</td>\n",
       "      <td>赵慧;谭水生;陈虎刚</td>\n",
       "      <td>NaN</td>\n",
       "      <td>NaN</td>\n",
       "      <td>广东省深圳市宝安区福永街道新田社区新塘路3-3号一、二层</td>\n",
       "      <td>18000.0</td>\n",
       "      <td>本实用新型涉及PCB板加工设备技术领域，且公开了一种定位精准的对位冲孔熔合机，包括数量为两个...</td>\n",
       "    </tr>\n",
       "    <tr>\n",
       "      <th>580750</th>\n",
       "      <td>NaT</td>\n",
       "      <td>NaN</td>\n",
       "      <td>NaN</td>\n",
       "      <td>NaN</td>\n",
       "      <td>NaN</td>\n",
       "      <td>NaN</td>\n",
       "      <td>NaN</td>\n",
       "      <td>NaN</td>\n",
       "      <td>NaN</td>\n",
       "      <td>NaN</td>\n",
       "      <td>NaN</td>\n",
       "      <td>NaN</td>\n",
       "      <td>NaN</td>\n",
       "      <td>NaN</td>\n",
       "      <td>NaN</td>\n",
       "      <td>NaN</td>\n",
       "      <td>NaN</td>\n",
       "    </tr>\n",
       "    <tr>\n",
       "      <th>580751</th>\n",
       "      <td>NaT</td>\n",
       "      <td>NaN</td>\n",
       "      <td>NaN</td>\n",
       "      <td>NaN</td>\n",
       "      <td>NaN</td>\n",
       "      <td>NaN</td>\n",
       "      <td>NaN</td>\n",
       "      <td>NaN</td>\n",
       "      <td>NaN</td>\n",
       "      <td>NaN</td>\n",
       "      <td>NaN</td>\n",
       "      <td>NaN</td>\n",
       "      <td>NaN</td>\n",
       "      <td>NaN</td>\n",
       "      <td>NaN</td>\n",
       "      <td>NaN</td>\n",
       "      <td>NaN</td>\n",
       "    </tr>\n",
       "    <tr>\n",
       "      <th>580752</th>\n",
       "      <td>NaT</td>\n",
       "      <td>NaN</td>\n",
       "      <td>NaN</td>\n",
       "      <td>NaN</td>\n",
       "      <td>NaN</td>\n",
       "      <td>NaN</td>\n",
       "      <td>NaN</td>\n",
       "      <td>NaN</td>\n",
       "      <td>NaN</td>\n",
       "      <td>NaN</td>\n",
       "      <td>NaN</td>\n",
       "      <td>NaN</td>\n",
       "      <td>NaN</td>\n",
       "      <td>NaN</td>\n",
       "      <td>NaN</td>\n",
       "      <td>NaN</td>\n",
       "      <td>NaN</td>\n",
       "    </tr>\n",
       "    <tr>\n",
       "      <th>580753</th>\n",
       "      <td>NaT</td>\n",
       "      <td>NaN</td>\n",
       "      <td>NaN</td>\n",
       "      <td>NaN</td>\n",
       "      <td>NaN</td>\n",
       "      <td>NaN</td>\n",
       "      <td>NaN</td>\n",
       "      <td>NaN</td>\n",
       "      <td>NaN</td>\n",
       "      <td>NaN</td>\n",
       "      <td>NaN</td>\n",
       "      <td>NaN</td>\n",
       "      <td>NaN</td>\n",
       "      <td>NaN</td>\n",
       "      <td>NaN</td>\n",
       "      <td>NaN</td>\n",
       "      <td>NaN</td>\n",
       "    </tr>\n",
       "    <tr>\n",
       "      <th>580754</th>\n",
       "      <td>NaT</td>\n",
       "      <td>NaN</td>\n",
       "      <td>NaN</td>\n",
       "      <td>NaN</td>\n",
       "      <td>NaN</td>\n",
       "      <td>NaN</td>\n",
       "      <td>NaN</td>\n",
       "      <td>NaN</td>\n",
       "      <td>NaN</td>\n",
       "      <td>NaN</td>\n",
       "      <td>NaN</td>\n",
       "      <td>NaN</td>\n",
       "      <td>NaN</td>\n",
       "      <td>NaN</td>\n",
       "      <td>NaN</td>\n",
       "      <td>NaN</td>\n",
       "      <td>NaN</td>\n",
       "    </tr>\n",
       "  </tbody>\n",
       "</table>\n",
       "</div>"
      ],
      "text/plain": [
       "       截止日期        机构ID                                              专利申请号  \\\n",
       "190907  NaT         NaN                 generally a sheet-like porous body   \n",
       "382202  NaT         NaN   shows configuring condition in the middle of ...   \n",
       "475149  NaT  10416146.0                                     201930333730.7   \n",
       "811911  NaT         NaN                       which comprises a first lens   \n",
       "277064  NaT  10856095.0                                     201920615508.0   \n",
       "580750  NaT         NaN                                                NaN   \n",
       "580751  NaT         NaN                                                NaN   \n",
       "580752  NaT         NaN                                                NaN   \n",
       "580753  NaT         NaN                                                NaN   \n",
       "580754  NaT         NaN                                                NaN   \n",
       "\n",
       "                                                     公司名称  \\\n",
       "190907   called the plate. When the polar plate is man...   \n",
       "382202                                          interface   \n",
       "475149                                           未来电视有限公司   \n",
       "811911                 a tenth lens and an optical filter   \n",
       "277064                                        深圳市晶金电子有限公司   \n",
       "580750                                                NaN   \n",
       "580751                                                NaN   \n",
       "580752                                                NaN   \n",
       "580753                                                NaN   \n",
       "580754                                                NaN   \n",
       "\n",
       "                                                 申请(专利权)人  专利类型  \\\n",
       "190907   the active substance is not directly added in...   NaN   \n",
       "382202   get final product display interface variable ...   NaN   \n",
       "475149                                           未来电视有限公司  外观设计   \n",
       "811911                             wherein the first lens   NaN   \n",
       "277064                                        深圳市晶金电子有限公司  实用新型   \n",
       "580750                                                NaN   NaN   \n",
       "580751                                                NaN   NaN   \n",
       "580752                                                NaN   NaN   \n",
       "580753                                                NaN   NaN   \n",
       "580754                                                NaN   NaN   \n",
       "\n",
       "                                                     专利名称  \\\n",
       "190907   or the raw material is filled into a glass fi...   \n",
       "382202   click \" increasing service \" and get final pr...   \n",
       "475149                                    电视的影音播放导航图形用户界面   \n",
       "811911   the second lens is a convex-concave negative ...   \n",
       "277064                                     一种定位精准的对位冲孔熔合机   \n",
       "580750                                                NaN   \n",
       "580751                                                NaN   \n",
       "580752                                                NaN   \n",
       "580753                                                NaN   \n",
       "580754                                                NaN   \n",
       "\n",
       "                                                     申请日期  \\\n",
       "190907                                                NaN   \n",
       "382202   click \" stored configuration \" and get final ...   \n",
       "475149                                         2019-06-26   \n",
       "811911   the third lens is a biconvex positive focal p...   \n",
       "277064                                         2019-04-29   \n",
       "580750                                                NaN   \n",
       "580751                                                NaN   \n",
       "580752                                                NaN   \n",
       "580753                                                NaN   \n",
       "580754                                                NaN   \n",
       "\n",
       "                                                  公开(公告)号  \\\n",
       "190907                                                NaN   \n",
       "382202   and interface variable condition Fig. 9 14 is...   \n",
       "475149                                       CN305820145S   \n",
       "811911   the fourth lens is a plano-convex positive fo...   \n",
       "277064                                       CN210958975U   \n",
       "580750                                                NaN   \n",
       "580751                                                NaN   \n",
       "580752                                                NaN   \n",
       "580753                                                NaN   \n",
       "580754                                                NaN   \n",
       "\n",
       "                                                  公开(公告)日  \\\n",
       "190907                                                NaN   \n",
       "382202   and interface variable condition Fig. 9 is th...   \n",
       "475149                                         2020-06-02   \n",
       "811911   the fifth lens is a biconcave negative focal ...   \n",
       "277064                                         2020-07-07   \n",
       "580750                                                NaN   \n",
       "580751                                                NaN   \n",
       "580752                                                NaN   \n",
       "580753                                                NaN   \n",
       "580754                                                NaN   \n",
       "\n",
       "                                                      分类号  \\\n",
       "190907                                                NaN   \n",
       "382202   click \" stored parameter \" and get final prod...   \n",
       "475149                                    14-03(12);14-04   \n",
       "811911   the sixth lens is a biconvex positive focal p...   \n",
       "277064                                           H05K3/00   \n",
       "580750                                                NaN   \n",
       "580751                                                NaN   \n",
       "580752                                                NaN   \n",
       "580753                                                NaN   \n",
       "580754                                                NaN   \n",
       "\n",
       "                                                  发明(设计)人  \\\n",
       "190907                                                NaN   \n",
       "382202                                                NaN   \n",
       "475149                                     李鸣;金泽;沈伟;陈凡;刘佳   \n",
       "811911   the seventh lens is a biconcave negative foca...   \n",
       "277064                                         赵慧;谭水生;陈虎刚   \n",
       "580750                                                NaN   \n",
       "580751                                                NaN   \n",
       "580752                                                NaN   \n",
       "580753                                                NaN   \n",
       "580754                                                NaN   \n",
       "\n",
       "                                                      代理人  \\\n",
       "190907                                                NaN   \n",
       "382202                                                NaN   \n",
       "475149                                                 王焕   \n",
       "811911   the eighth lens is a biconcave negative focal...   \n",
       "277064                                                NaN   \n",
       "580750                                                NaN   \n",
       "580751                                                NaN   \n",
       "580752                                                NaN   \n",
       "580753                                                NaN   \n",
       "580754                                                NaN   \n",
       "\n",
       "                                                     代理机构  \\\n",
       "190907                                                NaN   \n",
       "382202                                                NaN   \n",
       "475149                                北京超凡宏宇专利代理事务所 11463   \n",
       "811911   the ninth lens is a biconvex positive focal p...   \n",
       "277064                                                NaN   \n",
       "580750                                                NaN   \n",
       "580751                                                NaN   \n",
       "580752                                                NaN   \n",
       "580753                                                NaN   \n",
       "580754                                                NaN   \n",
       "\n",
       "                                                    申请人地址  \\\n",
       "190907                                                NaN   \n",
       "382202                                                NaN   \n",
       "475149        天津市东丽区天津自贸试验区(空港经济区)环河北路80号空港商务园东区5-1,2-501   \n",
       "811911   and the tenth lens is a biconcave negative fo...   \n",
       "277064                       广东省深圳市宝安区福永街道新田社区新塘路3-3号一、二层   \n",
       "580750                                                NaN   \n",
       "580751                                                NaN   \n",
       "580752                                                NaN   \n",
       "580753                                                NaN   \n",
       "580754                                                NaN   \n",
       "\n",
       "                                            申请人邮编  \\\n",
       "190907                                        NaN   \n",
       "382202                                        NaN   \n",
       "475149                                     00308    \n",
       "811911   the 4K image sensor of adaptation 1/1.8\"   \n",
       "277064                                    18000.0   \n",
       "580750                                        NaN   \n",
       "580751                                        NaN   \n",
       "580752                                        NaN   \n",
       "580753                                        NaN   \n",
       "580754                                        NaN   \n",
       "\n",
       "                                                       摘要  \n",
       "190907                                                NaN  \n",
       "382202                                                NaN  \n",
       "475149  1.本外观设计产品的名称：电视的影音播放导航图形用户界面。\\r\\n2.本外观设计产品的用途：...  \n",
       "811911   and the method that adopts the switching isop...  \n",
       "277064  本实用新型涉及PCB板加工设备技术领域，且公开了一种定位精准的对位冲孔熔合机，包括数量为两个...  \n",
       "580750                                                NaN  \n",
       "580751                                                NaN  \n",
       "580752                                                NaN  \n",
       "580753                                                NaN  \n",
       "580754                                                NaN  "
      ]
     },
     "execution_count": 69,
     "metadata": {},
     "output_type": "execute_result"
    }
   ],
   "source": [
    "patent_info[patent_info['截止日期'].isnull()]"
   ]
  },
  {
   "cell_type": "code",
   "execution_count": 71,
   "id": "d6391875-0859-4168-8e81-80c5d15a7aaa",
   "metadata": {},
   "outputs": [
    {
     "data": {
      "text/plain": [
       "(9, 9)"
      ]
     },
     "execution_count": 71,
     "metadata": {},
     "output_type": "execute_result"
    }
   ],
   "source": [
    "patent_info['申请日期'] = pd.to_datetime(patent_info['申请日期'], errors='coerce')\n",
    "patent_info['公开(公告)日'] = pd.to_datetime(patent_info['公开(公告)日'], errors='coerce')\n",
    "patent_info['申请日期'].isna().sum(),patent_info['公开(公告)日'].isna().sum()"
   ]
  },
  {
   "cell_type": "code",
   "execution_count": 72,
   "id": "60d4ee0b-7941-467e-be26-37a76fba96d0",
   "metadata": {
    "scrolled": true
   },
   "outputs": [
    {
     "data": {
      "text/plain": [
       "截止日期        2031803\n",
       "机构ID        2031805\n",
       "专利申请号       2031808\n",
       "公司名称        2031808\n",
       "申请(专利权)人    2031808\n",
       "专利类型        2031805\n",
       "专利名称        2031805\n",
       "申请日期        2031804\n",
       "公开(公告)号     2031807\n",
       "公开(公告)日     2031804\n",
       "分类号         1952336\n",
       "发明(设计)人     2031806\n",
       "代理人         1733661\n",
       "代理机构        1733661\n",
       "申请人地址       2031717\n",
       "申请人邮编       2002486\n",
       "摘要          2025388\n",
       "dtype: int64"
      ]
     },
     "execution_count": 72,
     "metadata": {},
     "output_type": "execute_result"
    }
   ],
   "source": [
    "patent_info.count()"
   ]
  },
  {
   "cell_type": "code",
   "execution_count": 73,
   "id": "e8395106-4c54-48d9-ba81-4e25ad1eef1e",
   "metadata": {},
   "outputs": [
    {
     "data": {
      "text/plain": [
       "(1, 1)"
      ]
     },
     "execution_count": 73,
     "metadata": {},
     "output_type": "execute_result"
    }
   ],
   "source": [
    "patent_info.dropna(subset=['机构ID', '截止日期'],inplace=True)\n",
    "patent_info['申请日期'].isna().sum(),patent_info['公开(公告)日'].isna().sum()"
   ]
  },
  {
   "cell_type": "code",
   "execution_count": 74,
   "id": "26cb2046-6206-4c38-90a6-5602b1340750",
   "metadata": {
    "scrolled": true
   },
   "outputs": [
    {
     "data": {
      "text/plain": [
       "截止日期        datetime64[ns]\n",
       "机构ID               float64\n",
       "专利申请号               object\n",
       "公司名称                object\n",
       "申请(专利权)人            object\n",
       "专利类型                object\n",
       "专利名称                object\n",
       "申请日期        datetime64[ns]\n",
       "公开(公告)号             object\n",
       "公开(公告)日     datetime64[ns]\n",
       "分类号                 object\n",
       "发明(设计)人             object\n",
       "代理人                 object\n",
       "代理机构                object\n",
       "申请人地址               object\n",
       "申请人邮编               object\n",
       "摘要                  object\n",
       "dtype: object"
      ]
     },
     "execution_count": 74,
     "metadata": {},
     "output_type": "execute_result"
    }
   ],
   "source": [
    "patent_info.dropna(subset=['申请日期', '公开(公告)日'],inplace=True)\n",
    "patent_info.dtypes"
   ]
  },
  {
   "cell_type": "code",
   "execution_count": 80,
   "id": "915a5c80-9a81-43d3-b673-79f1847427ea",
   "metadata": {},
   "outputs": [
    {
     "data": {
      "text/plain": [
       "(0, (2031802, 17))"
      ]
     },
     "execution_count": 80,
     "metadata": {},
     "output_type": "execute_result"
    }
   ],
   "source": [
    "patent_info.isnull().all(axis=1).sum(),patent_info.shape"
   ]
  },
  {
   "cell_type": "code",
   "execution_count": 79,
   "id": "72f98d8f-d5d1-4149-be65-881afe4406aa",
   "metadata": {},
   "outputs": [],
   "source": [
    "patent_info.to_csv('data\\\\专精特新企业专利情况表(年)_2023.tsv',sep='\\t')"
   ]
  },
  {
   "cell_type": "code",
   "execution_count": 35,
   "id": "caf708d6-0451-4f13-bc37-eaa5f95308ed",
   "metadata": {},
   "outputs": [
    {
     "name": "stderr",
     "output_type": "stream",
     "text": [
      "C:\\Users\\Prime\\AppData\\Local\\Temp\\ipykernel_60384\\2513748092.py:1: DtypeWarning: Columns (9) have mixed types. Specify dtype option on import or set low_memory=False.\n",
      "  df=pd.read_csv('data\\SRDI_EntIdentInfo.csv')\n"
     ]
    },
    {
     "data": {
      "text/plain": [
       "(325527, 12)"
      ]
     },
     "execution_count": 35,
     "metadata": {},
     "output_type": "execute_result"
    }
   ],
   "source": [
    "df=pd.read_csv('data\\SRDI_EntIdentInfo.csv')\n",
    "df.shape"
   ]
  },
  {
   "cell_type": "code",
   "execution_count": 36,
   "id": "78c642d1-4506-4069-8691-13a80d59dcd6",
   "metadata": {},
   "outputs": [
    {
     "name": "stdout",
     "output_type": "stream",
     "text": [
      "<class 'pandas.core.frame.DataFrame'>\n",
      "RangeIndex: 325527 entries, 0 to 325526\n",
      "Data columns (total 12 columns):\n",
      " #   Column           Non-Null Count   Dtype \n",
      "---  ------           --------------   ----- \n",
      " 0   IdentifyYear     325527 non-null  int64 \n",
      " 1   InstitutionID    325527 non-null  int64 \n",
      " 2   InstitutionName  325527 non-null  object\n",
      " 3   ProvinceName     325527 non-null  object\n",
      " 4   CityName         319358 non-null  object\n",
      " 5   SelectedBatch    157398 non-null  object\n",
      " 6   IdentifyType     325527 non-null  object\n",
      " 7   IdentifyLevel    325527 non-null  object\n",
      " 8   IsListed         325527 non-null  int64 \n",
      " 9   Symbol           9212 non-null    object\n",
      " 10  Relationship     13123 non-null   object\n",
      " 11  RelatedSymbol    13123 non-null   object\n",
      "dtypes: int64(3), object(9)\n",
      "memory usage: 29.8+ MB\n"
     ]
    }
   ],
   "source": [
    "df.info()"
   ]
  },
  {
   "cell_type": "code",
   "execution_count": 37,
   "id": "a9f4c573-8ba9-45cf-8be2-33ee4c6d34ae",
   "metadata": {},
   "outputs": [],
   "source": [
    "identify_type_map = {\n",
    "    '1': '专精特新“小巨人”企业',\n",
    "    '2': '专精特新中小企业',\n",
    "    '3': '创新型中小企业'\n",
    "}\n",
    "\n",
    "identify_level_map = {\n",
    "    '1': '国家级',\n",
    "    '2': '省级',\n",
    "    '3': '市级'\n",
    "}\n",
    "\n",
    "is_listed_map = {\n",
    "    1: '是',\n",
    "    0: '否'\n",
    "}\n",
    "\n",
    "relationship_map = {\n",
    "    'P7502': '上市公司的子公司',\n",
    "    'P7506': '上市公司的合资企业',\n",
    "    'P7507': '上市公司的联营企业'\n",
    "}\n",
    "\n",
    "# 应用映射\n",
    "df['IdentifyType'] = df['IdentifyType'].map(identify_type_map)\n",
    "df['IdentifyLevel'] = df['IdentifyLevel'].map(identify_level_map)\n",
    "df['IsListed'] = df['IsListed'].map(is_listed_map)\n",
    "df['Relationship'] = df['Relationship'].map(relationship_map)"
   ]
  },
  {
   "cell_type": "code",
   "execution_count": 38,
   "id": "a2f3e00f-f57c-4555-bc99-4703c43a3b8f",
   "metadata": {},
   "outputs": [
    {
     "data": {
      "text/html": [
       "<div>\n",
       "<style scoped>\n",
       "    .dataframe tbody tr th:only-of-type {\n",
       "        vertical-align: middle;\n",
       "    }\n",
       "\n",
       "    .dataframe tbody tr th {\n",
       "        vertical-align: top;\n",
       "    }\n",
       "\n",
       "    .dataframe thead th {\n",
       "        text-align: right;\n",
       "    }\n",
       "</style>\n",
       "<table border=\"1\" class=\"dataframe\">\n",
       "  <thead>\n",
       "    <tr style=\"text-align: right;\">\n",
       "      <th></th>\n",
       "      <th>认定年度</th>\n",
       "      <th>机构ID</th>\n",
       "      <th>公司名称</th>\n",
       "      <th>所属省份</th>\n",
       "      <th>所属城市</th>\n",
       "      <th>入选批次</th>\n",
       "      <th>认定类型</th>\n",
       "      <th>认定级别</th>\n",
       "      <th>是否上市公司</th>\n",
       "      <th>上市公司代码</th>\n",
       "      <th>与关联上市公司关系</th>\n",
       "      <th>关联上市公司代码</th>\n",
       "    </tr>\n",
       "  </thead>\n",
       "  <tbody>\n",
       "    <tr>\n",
       "      <th>0</th>\n",
       "      <td>2013</td>\n",
       "      <td>10665</td>\n",
       "      <td>上海同捷科技股份有限公司</td>\n",
       "      <td>上海市</td>\n",
       "      <td>上海市</td>\n",
       "      <td>NaN</td>\n",
       "      <td>专精特新中小企业</td>\n",
       "      <td>省级</td>\n",
       "      <td>否</td>\n",
       "      <td>NaN</td>\n",
       "      <td>NaN</td>\n",
       "      <td>NaN</td>\n",
       "    </tr>\n",
       "    <tr>\n",
       "      <th>1</th>\n",
       "      <td>2013</td>\n",
       "      <td>10666</td>\n",
       "      <td>上海奇想青晨新材料科技股份有限公司</td>\n",
       "      <td>上海市</td>\n",
       "      <td>上海市</td>\n",
       "      <td>NaN</td>\n",
       "      <td>专精特新中小企业</td>\n",
       "      <td>省级</td>\n",
       "      <td>否</td>\n",
       "      <td>NaN</td>\n",
       "      <td>NaN</td>\n",
       "      <td>NaN</td>\n",
       "    </tr>\n",
       "    <tr>\n",
       "      <th>2</th>\n",
       "      <td>2013</td>\n",
       "      <td>102034</td>\n",
       "      <td>上海新时达电气股份有限公司</td>\n",
       "      <td>上海市</td>\n",
       "      <td>上海市</td>\n",
       "      <td>NaN</td>\n",
       "      <td>专精特新中小企业</td>\n",
       "      <td>省级</td>\n",
       "      <td>是</td>\n",
       "      <td>002527</td>\n",
       "      <td>NaN</td>\n",
       "      <td>NaN</td>\n",
       "    </tr>\n",
       "    <tr>\n",
       "      <th>3</th>\n",
       "      <td>2013</td>\n",
       "      <td>102171</td>\n",
       "      <td>上海安科瑞电气股份有限公司</td>\n",
       "      <td>上海市</td>\n",
       "      <td>上海市</td>\n",
       "      <td>NaN</td>\n",
       "      <td>专精特新中小企业</td>\n",
       "      <td>省级</td>\n",
       "      <td>是</td>\n",
       "      <td>300286</td>\n",
       "      <td>NaN</td>\n",
       "      <td>NaN</td>\n",
       "    </tr>\n",
       "    <tr>\n",
       "      <th>4</th>\n",
       "      <td>2013</td>\n",
       "      <td>102880</td>\n",
       "      <td>上海泰胜风能装备股份有限公司</td>\n",
       "      <td>上海市</td>\n",
       "      <td>上海市</td>\n",
       "      <td>NaN</td>\n",
       "      <td>专精特新中小企业</td>\n",
       "      <td>省级</td>\n",
       "      <td>是</td>\n",
       "      <td>300129</td>\n",
       "      <td>NaN</td>\n",
       "      <td>NaN</td>\n",
       "    </tr>\n",
       "    <tr>\n",
       "      <th>...</th>\n",
       "      <td>...</td>\n",
       "      <td>...</td>\n",
       "      <td>...</td>\n",
       "      <td>...</td>\n",
       "      <td>...</td>\n",
       "      <td>...</td>\n",
       "      <td>...</td>\n",
       "      <td>...</td>\n",
       "      <td>...</td>\n",
       "      <td>...</td>\n",
       "      <td>...</td>\n",
       "      <td>...</td>\n",
       "    </tr>\n",
       "    <tr>\n",
       "      <th>325522</th>\n",
       "      <td>2024</td>\n",
       "      <td>101390146</td>\n",
       "      <td>浙江戴圣思医疗科技有限公司</td>\n",
       "      <td>浙江省</td>\n",
       "      <td>台州市</td>\n",
       "      <td>NaN</td>\n",
       "      <td>创新型中小企业</td>\n",
       "      <td>省级</td>\n",
       "      <td>否</td>\n",
       "      <td>NaN</td>\n",
       "      <td>NaN</td>\n",
       "      <td>NaN</td>\n",
       "    </tr>\n",
       "    <tr>\n",
       "      <th>325523</th>\n",
       "      <td>2024</td>\n",
       "      <td>101390389</td>\n",
       "      <td>浙江力氪新能源科技有限公司</td>\n",
       "      <td>浙江省</td>\n",
       "      <td>台州市</td>\n",
       "      <td>NaN</td>\n",
       "      <td>创新型中小企业</td>\n",
       "      <td>省级</td>\n",
       "      <td>否</td>\n",
       "      <td>NaN</td>\n",
       "      <td>NaN</td>\n",
       "      <td>NaN</td>\n",
       "    </tr>\n",
       "    <tr>\n",
       "      <th>325524</th>\n",
       "      <td>2024</td>\n",
       "      <td>101391030</td>\n",
       "      <td>安徽泰格生物技术股份有限公司</td>\n",
       "      <td>安徽省</td>\n",
       "      <td>蚌埠市</td>\n",
       "      <td>第一批</td>\n",
       "      <td>创新型中小企业</td>\n",
       "      <td>省级</td>\n",
       "      <td>否</td>\n",
       "      <td>NaN</td>\n",
       "      <td>NaN</td>\n",
       "      <td>NaN</td>\n",
       "    </tr>\n",
       "    <tr>\n",
       "      <th>325525</th>\n",
       "      <td>2024</td>\n",
       "      <td>101392043</td>\n",
       "      <td>中鹏未来有限公司</td>\n",
       "      <td>北京市</td>\n",
       "      <td>北京市</td>\n",
       "      <td>NaN</td>\n",
       "      <td>创新型中小企业</td>\n",
       "      <td>省级</td>\n",
       "      <td>否</td>\n",
       "      <td>NaN</td>\n",
       "      <td>NaN</td>\n",
       "      <td>NaN</td>\n",
       "    </tr>\n",
       "    <tr>\n",
       "      <th>325526</th>\n",
       "      <td>2024</td>\n",
       "      <td>101394481</td>\n",
       "      <td>永康市开源动力工具有限公司</td>\n",
       "      <td>浙江省</td>\n",
       "      <td>金华市</td>\n",
       "      <td>NaN</td>\n",
       "      <td>创新型中小企业</td>\n",
       "      <td>省级</td>\n",
       "      <td>否</td>\n",
       "      <td>NaN</td>\n",
       "      <td>NaN</td>\n",
       "      <td>NaN</td>\n",
       "    </tr>\n",
       "  </tbody>\n",
       "</table>\n",
       "<p>325527 rows × 12 columns</p>\n",
       "</div>"
      ],
      "text/plain": [
       "        认定年度       机构ID               公司名称 所属省份 所属城市 入选批次      认定类型 认定级别  \\\n",
       "0       2013      10665       上海同捷科技股份有限公司  上海市  上海市  NaN  专精特新中小企业   省级   \n",
       "1       2013      10666  上海奇想青晨新材料科技股份有限公司  上海市  上海市  NaN  专精特新中小企业   省级   \n",
       "2       2013     102034      上海新时达电气股份有限公司  上海市  上海市  NaN  专精特新中小企业   省级   \n",
       "3       2013     102171      上海安科瑞电气股份有限公司  上海市  上海市  NaN  专精特新中小企业   省级   \n",
       "4       2013     102880     上海泰胜风能装备股份有限公司  上海市  上海市  NaN  专精特新中小企业   省级   \n",
       "...      ...        ...                ...  ...  ...  ...       ...  ...   \n",
       "325522  2024  101390146      浙江戴圣思医疗科技有限公司  浙江省  台州市  NaN   创新型中小企业   省级   \n",
       "325523  2024  101390389      浙江力氪新能源科技有限公司  浙江省  台州市  NaN   创新型中小企业   省级   \n",
       "325524  2024  101391030     安徽泰格生物技术股份有限公司  安徽省  蚌埠市  第一批   创新型中小企业   省级   \n",
       "325525  2024  101392043           中鹏未来有限公司  北京市  北京市  NaN   创新型中小企业   省级   \n",
       "325526  2024  101394481      永康市开源动力工具有限公司  浙江省  金华市  NaN   创新型中小企业   省级   \n",
       "\n",
       "       是否上市公司  上市公司代码 与关联上市公司关系 关联上市公司代码  \n",
       "0           否     NaN       NaN      NaN  \n",
       "1           否     NaN       NaN      NaN  \n",
       "2           是  002527       NaN      NaN  \n",
       "3           是  300286       NaN      NaN  \n",
       "4           是  300129       NaN      NaN  \n",
       "...       ...     ...       ...      ...  \n",
       "325522      否     NaN       NaN      NaN  \n",
       "325523      否     NaN       NaN      NaN  \n",
       "325524      否     NaN       NaN      NaN  \n",
       "325525      否     NaN       NaN      NaN  \n",
       "325526      否     NaN       NaN      NaN  \n",
       "\n",
       "[325527 rows x 12 columns]"
      ]
     },
     "execution_count": 38,
     "metadata": {},
     "output_type": "execute_result"
    }
   ],
   "source": [
    "columns_map = {\n",
    "    'IdentifyYear': '认定年度',\n",
    "    'InstitutionID': '机构ID',\n",
    "    'InstitutionName': '公司名称',\n",
    "    'ProvinceName': '所属省份',\n",
    "    'CityName': '所属城市',\n",
    "    'SelectedBatch': '入选批次',\n",
    "    'IdentifyType': '认定类型',\n",
    "    'IdentifyLevel': '认定级别',\n",
    "    'IsListed': '是否上市公司',\n",
    "    'Symbol': '上市公司代码',\n",
    "    'Relationship': '与关联上市公司关系',\n",
    "    'RelatedSymbol': '关联上市公司代码'\n",
    "}\n",
    "\n",
    "df.rename(columns=columns_map, inplace=True)\n",
    "df"
   ]
  },
  {
   "cell_type": "code",
   "execution_count": 31,
   "id": "db339d35-f7a3-4e66-bd86-0b71ba1ce4c9",
   "metadata": {},
   "outputs": [
    {
     "data": {
      "text/plain": [
       "与关联上市公司关系\n",
       "上市公司的子公司     9775\n",
       "上市公司的联营企业    2736\n",
       "上市公司的合资企业     160\n",
       "Name: count, dtype: int64"
      ]
     },
     "execution_count": 31,
     "metadata": {},
     "output_type": "execute_result"
    }
   ],
   "source": [
    "df.与关联上市公司关系.value_counts()"
   ]
  },
  {
   "cell_type": "code",
   "execution_count": 39,
   "id": "20f25369-8d37-49a1-90cf-a42b899fafa0",
   "metadata": {
    "scrolled": true
   },
   "outputs": [
    {
     "data": {
      "text/plain": [
       "认定类型\n",
       "创新型中小企业        155692\n",
       "专精特新中小企业        98052\n",
       "专精特新“小巨人”企业     16747\n",
       "Name: count, dtype: int64"
      ]
     },
     "execution_count": 39,
     "metadata": {},
     "output_type": "execute_result"
    }
   ],
   "source": [
    "df.认定类型.value_counts()"
   ]
  },
  {
   "cell_type": "code",
   "execution_count": 40,
   "id": "7e51ced3-889f-47c5-8cb7-3d72c11189df",
   "metadata": {
    "scrolled": true
   },
   "outputs": [
    {
     "data": {
      "text/plain": [
       "认定级别\n",
       "省级     227874\n",
       "市级      32627\n",
       "国家级      9990\n",
       "Name: count, dtype: int64"
      ]
     },
     "execution_count": 40,
     "metadata": {},
     "output_type": "execute_result"
    }
   ],
   "source": [
    "df.认定级别.value_counts()"
   ]
  },
  {
   "cell_type": "code",
   "execution_count": 105,
   "id": "462422df-664e-4301-aaf0-f0c96193709f",
   "metadata": {},
   "outputs": [
    {
     "data": {
      "text/plain": [
       "9978"
      ]
     },
     "execution_count": 105,
     "metadata": {},
     "output_type": "execute_result"
    }
   ],
   "source": [
    "df[df.认定级别=='国家级'].机构ID.nunique()"
   ]
  },
  {
   "cell_type": "code",
   "execution_count": 96,
   "id": "db902878-01ea-4f42-82c9-ebb1500f9599",
   "metadata": {
    "scrolled": true
   },
   "outputs": [
    {
     "data": {
      "text/plain": [
       "所属省份\n",
       "广东省         53116\n",
       "山东省         45237\n",
       "上海市         32419\n",
       "浙江省         26430\n",
       "河南省         19660\n",
       "河北省         16081\n",
       "北京市         14826\n",
       "湖北省         14784\n",
       "四川省         12182\n",
       "重庆市         10626\n",
       "安徽省         10161\n",
       "江西省          9628\n",
       "湖南省          9574\n",
       "福建省          7309\n",
       "天津市          6865\n",
       "辽宁省          6353\n",
       "江苏省          4922\n",
       "云南省          4157\n",
       "山西省          3056\n",
       "新疆维吾尔自治区     2944\n",
       "陕西省          2841\n",
       "贵州省          2531\n",
       "黑龙江省         2210\n",
       "甘肃省          1993\n",
       "广西壮族自治区      1781\n",
       "宁夏回族自治区      1324\n",
       "海南省          1096\n",
       "吉林省           975\n",
       "青海省           319\n",
       "西藏自治区          90\n",
       "内蒙古自治区         37\n",
       "Name: count, dtype: int64"
      ]
     },
     "execution_count": 96,
     "metadata": {},
     "output_type": "execute_result"
    }
   ],
   "source": [
    "df.所属省份.value_counts()"
   ]
  },
  {
   "cell_type": "code",
   "execution_count": 98,
   "id": "f7c81df4-fb92-4ddd-90c2-5611e875822a",
   "metadata": {
    "scrolled": true
   },
   "outputs": [
    {
     "data": {
      "text/plain": [
       "所属城市\n",
       "上海市        32419\n",
       "深圳市        23425\n",
       "北京市        14825\n",
       "青岛市        11734\n",
       "重庆市        10626\n",
       "           ...  \n",
       "玉树藏族自治州        1\n",
       "西藏自治区          1\n",
       "阿里地区           1\n",
       "诸暨市            1\n",
       "呼伦贝尔市          1\n",
       "Name: count, Length: 363, dtype: int64"
      ]
     },
     "execution_count": 98,
     "metadata": {},
     "output_type": "execute_result"
    }
   ],
   "source": [
    "df.所属城市.value_counts()"
   ]
  },
  {
   "cell_type": "code",
   "execution_count": 100,
   "id": "92bae52a-02ee-4c6f-8ed4-cee9bda79229",
   "metadata": {
    "scrolled": true
   },
   "outputs": [
    {
     "data": {
      "text/html": [
       "<div>\n",
       "<style scoped>\n",
       "    .dataframe tbody tr th:only-of-type {\n",
       "        vertical-align: middle;\n",
       "    }\n",
       "\n",
       "    .dataframe tbody tr th {\n",
       "        vertical-align: top;\n",
       "    }\n",
       "\n",
       "    .dataframe thead th {\n",
       "        text-align: right;\n",
       "    }\n",
       "</style>\n",
       "<table border=\"1\" class=\"dataframe\">\n",
       "  <thead>\n",
       "    <tr style=\"text-align: right;\">\n",
       "      <th></th>\n",
       "      <th>认定年度</th>\n",
       "      <th>机构ID</th>\n",
       "      <th>公司名称</th>\n",
       "      <th>所属省份</th>\n",
       "      <th>所属城市</th>\n",
       "      <th>入选批次</th>\n",
       "      <th>认定类型</th>\n",
       "      <th>认定级别</th>\n",
       "      <th>是否上市公司</th>\n",
       "      <th>上市公司代码</th>\n",
       "      <th>与关联上市公司关系</th>\n",
       "      <th>关联上市公司代码</th>\n",
       "    </tr>\n",
       "  </thead>\n",
       "  <tbody>\n",
       "    <tr>\n",
       "      <th>33138</th>\n",
       "      <td>2021</td>\n",
       "      <td>10381542</td>\n",
       "      <td>深圳市多易得信息技术股份有限公司</td>\n",
       "      <td>广东省</td>\n",
       "      <td>深圳市</td>\n",
       "      <td>NaN</td>\n",
       "      <td>专精特新中小企业</td>\n",
       "      <td>市级</td>\n",
       "      <td>是</td>\n",
       "      <td>837907</td>\n",
       "      <td>NaN</td>\n",
       "      <td>NaN</td>\n",
       "    </tr>\n",
       "    <tr>\n",
       "      <th>64780</th>\n",
       "      <td>2022</td>\n",
       "      <td>10565400</td>\n",
       "      <td>浙江省易得融信软件有限公司</td>\n",
       "      <td>浙江省</td>\n",
       "      <td>宁波市</td>\n",
       "      <td>NaN</td>\n",
       "      <td>创新型中小企业</td>\n",
       "      <td>市级</td>\n",
       "      <td>否</td>\n",
       "      <td>NaN</td>\n",
       "      <td>NaN</td>\n",
       "      <td>NaN</td>\n",
       "    </tr>\n",
       "    <tr>\n",
       "      <th>155501</th>\n",
       "      <td>2022</td>\n",
       "      <td>10963273</td>\n",
       "      <td>广东易得电器有限公司</td>\n",
       "      <td>广东省</td>\n",
       "      <td>佛山市</td>\n",
       "      <td>NaN</td>\n",
       "      <td>创新型中小企业</td>\n",
       "      <td>省级</td>\n",
       "      <td>否</td>\n",
       "      <td>NaN</td>\n",
       "      <td>NaN</td>\n",
       "      <td>NaN</td>\n",
       "    </tr>\n",
       "    <tr>\n",
       "      <th>166156</th>\n",
       "      <td>2022</td>\n",
       "      <td>101057769</td>\n",
       "      <td>江苏百易得医疗科技有限公司</td>\n",
       "      <td>江苏省</td>\n",
       "      <td>苏州市</td>\n",
       "      <td>第二批</td>\n",
       "      <td>专精特新中小企业</td>\n",
       "      <td>省级</td>\n",
       "      <td>否</td>\n",
       "      <td>NaN</td>\n",
       "      <td>NaN</td>\n",
       "      <td>NaN</td>\n",
       "    </tr>\n",
       "    <tr>\n",
       "      <th>173319</th>\n",
       "      <td>2023</td>\n",
       "      <td>10565400</td>\n",
       "      <td>浙江省易得融信软件有限公司</td>\n",
       "      <td>浙江省</td>\n",
       "      <td>宁波市</td>\n",
       "      <td>第一批</td>\n",
       "      <td>专精特新中小企业</td>\n",
       "      <td>市级</td>\n",
       "      <td>否</td>\n",
       "      <td>NaN</td>\n",
       "      <td>NaN</td>\n",
       "      <td>NaN</td>\n",
       "    </tr>\n",
       "  </tbody>\n",
       "</table>\n",
       "</div>"
      ],
      "text/plain": [
       "        认定年度       机构ID              公司名称 所属省份 所属城市 入选批次      认定类型 认定级别  \\\n",
       "33138   2021   10381542  深圳市多易得信息技术股份有限公司  广东省  深圳市  NaN  专精特新中小企业   市级   \n",
       "64780   2022   10565400     浙江省易得融信软件有限公司  浙江省  宁波市  NaN   创新型中小企业   市级   \n",
       "155501  2022   10963273        广东易得电器有限公司  广东省  佛山市  NaN   创新型中小企业   省级   \n",
       "166156  2022  101057769     江苏百易得医疗科技有限公司  江苏省  苏州市  第二批  专精特新中小企业   省级   \n",
       "173319  2023   10565400     浙江省易得融信软件有限公司  浙江省  宁波市  第一批  专精特新中小企业   市级   \n",
       "\n",
       "       是否上市公司  上市公司代码 与关联上市公司关系 关联上市公司代码  \n",
       "33138       是  837907       NaN      NaN  \n",
       "64780       否     NaN       NaN      NaN  \n",
       "155501      否     NaN       NaN      NaN  \n",
       "166156      否     NaN       NaN      NaN  \n",
       "173319      否     NaN       NaN      NaN  "
      ]
     },
     "execution_count": 100,
     "metadata": {},
     "output_type": "execute_result"
    }
   ],
   "source": [
    "df[df.公司名称.str.find('易得')>=0]"
   ]
  },
  {
   "cell_type": "code",
   "execution_count": 103,
   "id": "27ceb60d-06fb-4e92-9e2c-3735baa8098d",
   "metadata": {},
   "outputs": [
    {
     "data": {
      "text/html": [
       "<div>\n",
       "<style scoped>\n",
       "    .dataframe tbody tr th:only-of-type {\n",
       "        vertical-align: middle;\n",
       "    }\n",
       "\n",
       "    .dataframe tbody tr th {\n",
       "        vertical-align: top;\n",
       "    }\n",
       "\n",
       "    .dataframe thead th {\n",
       "        text-align: right;\n",
       "    }\n",
       "</style>\n",
       "<table border=\"1\" class=\"dataframe\">\n",
       "  <thead>\n",
       "    <tr style=\"text-align: right;\">\n",
       "      <th></th>\n",
       "      <th>截止日期</th>\n",
       "      <th>机构ID</th>\n",
       "      <th>专利申请号</th>\n",
       "      <th>公司名称</th>\n",
       "      <th>申请(专利权)人</th>\n",
       "      <th>专利类型</th>\n",
       "      <th>专利名称</th>\n",
       "      <th>申请日期</th>\n",
       "      <th>公开(公告)号</th>\n",
       "      <th>公开(公告)日</th>\n",
       "      <th>分类号</th>\n",
       "      <th>发明(设计)人</th>\n",
       "      <th>代理人</th>\n",
       "      <th>代理机构</th>\n",
       "      <th>申请人地址</th>\n",
       "      <th>申请人邮编</th>\n",
       "      <th>摘要</th>\n",
       "    </tr>\n",
       "  </thead>\n",
       "  <tbody>\n",
       "  </tbody>\n",
       "</table>\n",
       "</div>"
      ],
      "text/plain": [
       "Empty DataFrame\n",
       "Columns: [截止日期, 机构ID, 专利申请号, 公司名称, 申请(专利权)人, 专利类型, 专利名称, 申请日期, 公开(公告)号, 公开(公告)日, 分类号, 发明(设计)人, 代理人, 代理机构, 申请人地址, 申请人邮编, 摘要]\n",
       "Index: []"
      ]
     },
     "execution_count": 103,
     "metadata": {},
     "output_type": "execute_result"
    }
   ],
   "source": [
    "patent_info[patent_info.机构ID == 10565400]"
   ]
  },
  {
   "cell_type": "code",
   "execution_count": 41,
   "id": "1cea18b3-9eb3-4382-818c-788748ff98ea",
   "metadata": {},
   "outputs": [],
   "source": [
    "df.to_excel('data\\专精特新企业认定情况表_2024.xlsx')"
   ]
  },
  {
   "cell_type": "code",
   "execution_count": 26,
   "id": "d6c06354-c474-4d2f-b8c2-66b224d7eccf",
   "metadata": {},
   "outputs": [
    {
     "data": {
      "text/plain": [
       "(269302, 36345)"
      ]
     },
     "execution_count": 26,
     "metadata": {},
     "output_type": "execute_result"
    }
   ],
   "source": [
    "df.公司名称.nunique(),patent_info.公司名称.nunique()"
   ]
  },
  {
   "cell_type": "code",
   "execution_count": 106,
   "id": "e4b26618-4646-464a-b588-9feee1342312",
   "metadata": {},
   "outputs": [
    {
     "data": {
      "text/plain": [
       "6464"
      ]
     },
     "execution_count": 106,
     "metadata": {},
     "output_type": "execute_result"
    }
   ],
   "source": [
    "df.上市公司代码.nunique()"
   ]
  },
  {
   "cell_type": "code",
   "execution_count": 27,
   "id": "a83abb2d-a162-41a7-bf3f-6389bdac3f50",
   "metadata": {},
   "outputs": [
    {
     "data": {
      "text/plain": [
       "36137"
      ]
     },
     "execution_count": 27,
     "metadata": {},
     "output_type": "execute_result"
    }
   ],
   "source": [
    "len(set(df.公司名称)&set(patent_info.公司名称))"
   ]
  },
  {
   "cell_type": "code",
   "execution_count": 29,
   "id": "7dcc7a7b-a22d-4a86-a7e4-3ef4ec292a95",
   "metadata": {},
   "outputs": [
    {
     "data": {
      "text/plain": [
       "5852"
      ]
     },
     "execution_count": 29,
     "metadata": {},
     "output_type": "execute_result"
    }
   ],
   "source": [
    "invest_data=pd.read_excel('data\\patent_invest_202408_先进制造.xlsx',index_col=0)\n",
    "invest_data.工商全称.nunique()"
   ]
  },
  {
   "cell_type": "code",
   "execution_count": 43,
   "id": "395a6c96-e129-4331-920f-9c945dea4e12",
   "metadata": {},
   "outputs": [
    {
     "data": {
      "text/plain": [
       "3345"
      ]
     },
     "execution_count": 43,
     "metadata": {},
     "output_type": "execute_result"
    }
   ],
   "source": [
    "len(set(df.公司名称)&set(invest_data.工商全称))"
   ]
  },
  {
   "cell_type": "code",
   "execution_count": 86,
   "id": "d38f4582-313e-4784-9ffb-f580b893ba4e",
   "metadata": {},
   "outputs": [
    {
     "data": {
      "text/plain": [
       "34638"
      ]
     },
     "execution_count": 86,
     "metadata": {},
     "output_type": "execute_result"
    }
   ],
   "source": [
    "len(set(patent_info.公司名称)-set(invest_data.工商全称))#和现在先进制造行业的所有企业取一个差集统计"
   ]
  },
  {
   "cell_type": "code",
   "execution_count": 87,
   "id": "4a937d54-820b-47f5-82c0-e0a1e7f7265e",
   "metadata": {},
   "outputs": [
    {
     "data": {
      "text/plain": [
       "34455"
      ]
     },
     "execution_count": 87,
     "metadata": {},
     "output_type": "execute_result"
    }
   ],
   "source": [
    "a=set(patent_info.公司名称)-set(invest_data.工商全称)\n",
    "b=set(df.公司名称)&a\n",
    "len(b)"
   ]
  },
  {
   "cell_type": "code",
   "execution_count": 90,
   "id": "7453ff66-6646-46c2-b229-1987af637fce",
   "metadata": {},
   "outputs": [],
   "source": [
    "df['机构ID']=df['机构ID'].astype(int)\n",
    "patent_info['机构ID']=patent_info['机构ID'].astype(int)"
   ]
  },
  {
   "cell_type": "code",
   "execution_count": 91,
   "id": "90402200-9607-4749-a0e9-a01b37b90d4d",
   "metadata": {
    "scrolled": true
   },
   "outputs": [
    {
     "data": {
      "text/html": [
       "<div>\n",
       "<style scoped>\n",
       "    .dataframe tbody tr th:only-of-type {\n",
       "        vertical-align: middle;\n",
       "    }\n",
       "\n",
       "    .dataframe tbody tr th {\n",
       "        vertical-align: top;\n",
       "    }\n",
       "\n",
       "    .dataframe thead th {\n",
       "        text-align: right;\n",
       "    }\n",
       "</style>\n",
       "<table border=\"1\" class=\"dataframe\">\n",
       "  <thead>\n",
       "    <tr style=\"text-align: right;\">\n",
       "      <th></th>\n",
       "      <th>公司名称</th>\n",
       "      <th>机构ID</th>\n",
       "    </tr>\n",
       "  </thead>\n",
       "  <tbody>\n",
       "    <tr>\n",
       "      <th>0</th>\n",
       "      <td>上海妙可蓝多食品科技股份有限公司</td>\n",
       "      <td>10420</td>\n",
       "    </tr>\n",
       "    <tr>\n",
       "      <th>23</th>\n",
       "      <td>上海同捷科技股份有限公司</td>\n",
       "      <td>10665</td>\n",
       "    </tr>\n",
       "    <tr>\n",
       "      <th>263</th>\n",
       "      <td>上海奇想青晨新材料科技股份有限公司</td>\n",
       "      <td>10666</td>\n",
       "    </tr>\n",
       "    <tr>\n",
       "      <th>324</th>\n",
       "      <td>海南金盘智能科技股份有限公司</td>\n",
       "      <td>10886</td>\n",
       "    </tr>\n",
       "    <tr>\n",
       "      <th>462</th>\n",
       "      <td>湖南安淳高新技术有限公司</td>\n",
       "      <td>101108</td>\n",
       "    </tr>\n",
       "    <tr>\n",
       "      <th>...</th>\n",
       "      <td>...</td>\n",
       "      <td>...</td>\n",
       "    </tr>\n",
       "    <tr>\n",
       "      <th>30957</th>\n",
       "      <td>鼎建项目管理有限公司</td>\n",
       "      <td>101026824</td>\n",
       "    </tr>\n",
       "    <tr>\n",
       "      <th>30958</th>\n",
       "      <td>鼎桥通信技术有限公司</td>\n",
       "      <td>101026826</td>\n",
       "    </tr>\n",
       "    <tr>\n",
       "      <th>31179</th>\n",
       "      <td>江苏法尔胜光电科技有限公司</td>\n",
       "      <td>101026967</td>\n",
       "    </tr>\n",
       "    <tr>\n",
       "      <th>31395</th>\n",
       "      <td>无锡市新华起重工具有限公司</td>\n",
       "      <td>101027441</td>\n",
       "    </tr>\n",
       "    <tr>\n",
       "      <th>31724</th>\n",
       "      <td>中能智新科技产业发展有限公司</td>\n",
       "      <td>101027468</td>\n",
       "    </tr>\n",
       "  </tbody>\n",
       "</table>\n",
       "<p>36363 rows × 2 columns</p>\n",
       "</div>"
      ],
      "text/plain": [
       "                    公司名称       机构ID\n",
       "0       上海妙可蓝多食品科技股份有限公司      10420\n",
       "23          上海同捷科技股份有限公司      10665\n",
       "263    上海奇想青晨新材料科技股份有限公司      10666\n",
       "324       海南金盘智能科技股份有限公司      10886\n",
       "462         湖南安淳高新技术有限公司     101108\n",
       "...                  ...        ...\n",
       "30957         鼎建项目管理有限公司  101026824\n",
       "30958         鼎桥通信技术有限公司  101026826\n",
       "31179      江苏法尔胜光电科技有限公司  101026967\n",
       "31395      无锡市新华起重工具有限公司  101027441\n",
       "31724     中能智新科技产业发展有限公司  101027468\n",
       "\n",
       "[36363 rows x 2 columns]"
      ]
     },
     "execution_count": 91,
     "metadata": {},
     "output_type": "execute_result"
    }
   ],
   "source": [
    "patent_info[['公司名称','机构ID']].drop_duplicates()"
   ]
  },
  {
   "cell_type": "code",
   "execution_count": 107,
   "id": "f6053bb3-e421-4a9f-b7df-6587d4844123",
   "metadata": {},
   "outputs": [
    {
     "data": {
      "text/plain": [
       "34077"
      ]
     },
     "execution_count": 107,
     "metadata": {},
     "output_type": "execute_result"
    }
   ],
   "source": [
    "df[df.公司名称.isin(a)].机构ID.nunique()"
   ]
  },
  {
   "cell_type": "code",
   "execution_count": 82,
   "id": "434c9081-187e-4bfd-8919-6aace0a386ad",
   "metadata": {},
   "outputs": [
    {
     "data": {
      "text/plain": [
       "Index(['截止日期', '机构ID', '专利申请号', '公司名称', '申请(专利权)人', '专利类型', '专利名称', '申请日期',\n",
       "       '公开(公告)号', '公开(公告)日', '分类号', '发明(设计)人', '代理人', '代理机构', '申请人地址', '申请人邮编',\n",
       "       '摘要'],\n",
       "      dtype='object')"
      ]
     },
     "execution_count": 82,
     "metadata": {},
     "output_type": "execute_result"
    }
   ],
   "source": [
    "patent_info.columns"
   ]
  },
  {
   "cell_type": "code",
   "execution_count": 84,
   "id": "147eb6da-0ece-4be7-86ad-dddfa2acb215",
   "metadata": {},
   "outputs": [
    {
     "data": {
      "text/plain": [
       "Timestamp('2023-12-31 00:00:00')"
      ]
     },
     "execution_count": 84,
     "metadata": {},
     "output_type": "execute_result"
    }
   ],
   "source": [
    "patent_info['截止日期'].max()"
   ]
  },
  {
   "cell_type": "code",
   "execution_count": 83,
   "id": "b79cc36c-31e8-410b-8af0-e6a10a0efcc6",
   "metadata": {},
   "outputs": [
    {
     "data": {
      "text/plain": [
       "截止日期\n",
       "2020-12-31    292208\n",
       "2021-12-31    291957\n",
       "2022-12-31    274081\n",
       "2019-12-31    234773\n",
       "2018-12-31    200087\n",
       "2017-12-31    162598\n",
       "2016-12-31    131052\n",
       "2015-12-31     96163\n",
       "2014-12-31     70347\n",
       "2013-12-31     60351\n",
       "2012-12-31     54696\n",
       "2023-12-31     44876\n",
       "2011-12-31     39995\n",
       "2010-12-31     26420\n",
       "2009-12-31     18882\n",
       "2008-12-31     11837\n",
       "2007-12-31      6851\n",
       "2006-12-31      5057\n",
       "2005-12-31      3512\n",
       "2004-12-31      1986\n",
       "2003-12-31      1619\n",
       "2002-12-31      1142\n",
       "2001-12-31       563\n",
       "2000-12-31       331\n",
       "1999-12-31       143\n",
       "1998-12-31        94\n",
       "1997-12-31        48\n",
       "1996-12-31        40\n",
       "1995-12-31        30\n",
       "1994-12-31        23\n",
       "1993-12-31        12\n",
       "1992-12-31         8\n",
       "1988-12-31         5\n",
       "1989-12-31         5\n",
       "1990-12-31         4\n",
       "1991-12-31         3\n",
       "1987-12-31         2\n",
       "1986-12-31         1\n",
       "Name: count, dtype: int64"
      ]
     },
     "execution_count": 83,
     "metadata": {},
     "output_type": "execute_result"
    }
   ],
   "source": [
    "patent_info['截止日期'].value_counts()"
   ]
  },
  {
   "cell_type": "code",
   "execution_count": 48,
   "id": "49682a61-3b0c-4120-9279-245d3f7a47a3",
   "metadata": {},
   "outputs": [
    {
     "data": {
      "text/plain": [
       "专利类型\n",
       "实用新型    1031611\n",
       "发明专利     818394\n",
       "外观设计     181625\n",
       "Name: count, dtype: int64"
      ]
     },
     "execution_count": 48,
     "metadata": {},
     "output_type": "execute_result"
    }
   ],
   "source": [
    "patent_info.专利类型.value_counts()"
   ]
  },
  {
   "cell_type": "code",
   "execution_count": 49,
   "id": "d496a3dc-ac4a-47be-8488-72ded5e45456",
   "metadata": {},
   "outputs": [
    {
     "data": {
      "text/plain": [
       "0    2020-12-31\n",
       "Name: 截止日期, dtype: object"
      ]
     },
     "execution_count": 49,
     "metadata": {},
     "output_type": "execute_result"
    }
   ],
   "source": [
    "patent_info.截止日期.mode()"
   ]
  },
  {
   "cell_type": "code",
   "execution_count": 85,
   "id": "4081e507-b2ab-442d-a87f-a17fa1d846a9",
   "metadata": {
    "scrolled": true
   },
   "outputs": [
    {
     "data": {
      "text/plain": [
       "(267095, 35824)"
      ]
     },
     "execution_count": 85,
     "metadata": {},
     "output_type": "execute_result"
    }
   ],
   "source": [
    "df.机构ID.nunique(),patent_info.机构ID.nunique()"
   ]
  },
  {
   "cell_type": "code",
   "execution_count": 108,
   "id": "827904aa-3b9b-4898-91e9-db6454b64bb7",
   "metadata": {},
   "outputs": [
    {
     "data": {
      "text/plain": [
       "(155309, 57)"
      ]
     },
     "execution_count": 108,
     "metadata": {},
     "output_type": "execute_result"
    }
   ],
   "source": [
    "invest_all=pd.read_excel('data\\invest_all.xlsx')\n",
    "invest_all.shape"
   ]
  },
  {
   "cell_type": "code",
   "execution_count": 109,
   "id": "15feaa43-7533-4fca-8821-1e1e625c72eb",
   "metadata": {
    "scrolled": true
   },
   "outputs": [
    {
     "name": "stdout",
     "output_type": "stream",
     "text": [
      "<class 'pandas.core.frame.DataFrame'>\n",
      "RangeIndex: 155309 entries, 0 to 155308\n",
      "Data columns (total 57 columns):\n",
      " #   Column      Non-Null Count   Dtype  \n",
      "---  ------      --------------   -----  \n",
      " 0   Unnamed: 0  155309 non-null  int64  \n",
      " 1   企业简称        155216 non-null  object \n",
      " 2   企业全称        155309 non-null  object \n",
      " 3   业务描述        124343 non-null  object \n",
      " 4   所在行业        155306 non-null  object \n",
      " 5   所在地         151979 non-null  object \n",
      " 6   企业简介        155214 non-null  object \n",
      " 7   详细地址        131135 non-null  object \n",
      " 8   联系电话        127775 non-null  object \n",
      " 9   企业网址        69271 non-null   object \n",
      " 10  邮箱          116135 non-null  object \n",
      " 11  成立时间        142664 non-null  object \n",
      " 12  统一信用代码      139372 non-null  object \n",
      " 13  法人代表        130608 non-null  object \n",
      " 14  注册资本        130603 non-null  object \n",
      " 15  经营状态        130609 non-null  object \n",
      " 16  经营范围        130408 non-null  object \n",
      " 17  注册地址        139709 non-null  object \n",
      " 18  上市状态        155309 non-null  object \n",
      " 19  股票代码        14870 non-null   object \n",
      " 20  交易所         14870 non-null   object \n",
      " 21  交易轮次        155309 non-null  object \n",
      " 22  交易金额        155305 non-null  object \n",
      " 23  单位          86548 non-null   object \n",
      " 24  交易股权        23790 non-null   object \n",
      " 25  投后估值        17948 non-null   float64\n",
      " 26  单位.1        17948 non-null   object \n",
      " 27  交易时间        155309 non-null  object \n",
      " 28  交易状态        155309 non-null  object \n",
      " 29  本次交易股份数量    6035 non-null    float64\n",
      " 30  每股价格        6052 non-null    float64\n",
      " 31  单位.2        6052 non-null    object \n",
      " 32  交易类型        155263 non-null  object \n",
      " 33  交易方式        134212 non-null  object \n",
      " 34  支付方式        155263 non-null  object \n",
      " 35  是否关联交易      134096 non-null  object \n",
      " 36  重大资产重组      155263 non-null  object \n",
      " 37  是否跨境交易      155309 non-null  object \n",
      " 38  投资方名称       141990 non-null  object \n",
      " 39  投资方基金名称     95179 non-null   object \n",
      " 40  投资机构类型      141948 non-null  object \n",
      " 41  交易地区类型      138849 non-null  object \n",
      " 42  投资金额        141993 non-null  object \n",
      " 43  单位.3        101486 non-null  object \n",
      " 44  本次交易股权比例    79517 non-null   object \n",
      " 45  投资方上市状态     141779 non-null  object \n",
      " 46  投资方股票代码     71471 non-null   object \n",
      " 47  投资方交易所      71471 non-null   object \n",
      " 48  退出方名称       7434 non-null    object \n",
      " 49  退出方基金名称     3387 non-null    object \n",
      " 50  退出机构类型      7437 non-null    object \n",
      " 51  退出方式        7228 non-null    object \n",
      " 52  退出方上市状态     7424 non-null    object \n",
      " 53  退出方股票代码     1943 non-null    object \n",
      " 54  退出方交易所      1943 non-null    object \n",
      " 55  中介名称        12444 non-null   object \n",
      " 56  中介类型        12444 non-null   object \n",
      "dtypes: float64(3), int64(1), object(53)\n",
      "memory usage: 67.5+ MB\n"
     ]
    }
   ],
   "source": [
    "invest_all.info()"
   ]
  },
  {
   "cell_type": "code",
   "execution_count": 111,
   "id": "2fc4eb71-c789-4327-86db-96899adbb856",
   "metadata": {
    "scrolled": true
   },
   "outputs": [
    {
     "data": {
      "text/plain": [
       "交易时间\n",
       "2016    18301\n",
       "2015    15696\n",
       "2017    15666\n",
       "2018    15482\n",
       "2023    12821\n",
       "2022    12158\n",
       "2019    10752\n",
       "2020    10361\n",
       "2021     8877\n",
       "2014     7719\n",
       "2024     5973\n",
       "2013     3839\n",
       "2011     3665\n",
       "2012     3439\n",
       "2010     3297\n",
       "2009     1466\n",
       "2008     1446\n",
       "2007     1373\n",
       "2006      820\n",
       "2005      555\n",
       "2004      424\n",
       "2003      335\n",
       "2001      301\n",
       "2000      272\n",
       "2002      271\n",
       "Name: count, dtype: int64"
      ]
     },
     "execution_count": 111,
     "metadata": {},
     "output_type": "execute_result"
    }
   ],
   "source": [
    "invest_all.交易时间=pd.to_datetime(invest_all.交易时间)\n",
    "invest_all.交易时间.dt.year.value_counts()"
   ]
  },
  {
   "cell_type": "code",
   "execution_count": 112,
   "id": "9f1133a0-88b6-478f-91d8-760200cbac97",
   "metadata": {},
   "outputs": [
    {
     "data": {
      "text/plain": [
       "Timestamp('2024-05-21 00:00:00')"
      ]
     },
     "execution_count": 112,
     "metadata": {},
     "output_type": "execute_result"
    }
   ],
   "source": [
    "invest_all.交易时间.max()"
   ]
  },
  {
   "cell_type": "code",
   "execution_count": 116,
   "id": "a8cb1d3e-71d3-45fe-a7fa-326c9936591b",
   "metadata": {},
   "outputs": [
    {
     "data": {
      "text/plain": [
       "Index(['成立时间', '交易时间'], dtype='object')"
      ]
     },
     "execution_count": 116,
     "metadata": {},
     "output_type": "execute_result"
    }
   ],
   "source": [
    "invest_all.columns[invest_all.columns.str.contains('时|日')]"
   ]
  },
  {
   "cell_type": "code",
   "execution_count": 115,
   "id": "a07bd887-b1d9-469d-ba7a-748721873248",
   "metadata": {
    "scrolled": true
   },
   "outputs": [
    {
     "data": {
      "text/html": [
       "<div>\n",
       "<style scoped>\n",
       "    .dataframe tbody tr th:only-of-type {\n",
       "        vertical-align: middle;\n",
       "    }\n",
       "\n",
       "    .dataframe tbody tr th {\n",
       "        vertical-align: top;\n",
       "    }\n",
       "\n",
       "    .dataframe thead th {\n",
       "        text-align: right;\n",
       "    }\n",
       "</style>\n",
       "<table border=\"1\" class=\"dataframe\">\n",
       "  <thead>\n",
       "    <tr style=\"text-align: right;\">\n",
       "      <th></th>\n",
       "      <th>成立时间</th>\n",
       "      <th>交易时间</th>\n",
       "    </tr>\n",
       "  </thead>\n",
       "  <tbody>\n",
       "    <tr>\n",
       "      <th>0</th>\n",
       "      <td>2010-09-19</td>\n",
       "      <td>2017-03-19</td>\n",
       "    </tr>\n",
       "    <tr>\n",
       "      <th>1</th>\n",
       "      <td>2015-02-03</td>\n",
       "      <td>2017-03-19</td>\n",
       "    </tr>\n",
       "    <tr>\n",
       "      <th>2</th>\n",
       "      <td>2013-04-08</td>\n",
       "      <td>2017-03-19</td>\n",
       "    </tr>\n",
       "    <tr>\n",
       "      <th>3</th>\n",
       "      <td>NaN</td>\n",
       "      <td>2017-03-19</td>\n",
       "    </tr>\n",
       "    <tr>\n",
       "      <th>4</th>\n",
       "      <td>2008-03-24</td>\n",
       "      <td>2017-03-19</td>\n",
       "    </tr>\n",
       "    <tr>\n",
       "      <th>...</th>\n",
       "      <td>...</td>\n",
       "      <td>...</td>\n",
       "    </tr>\n",
       "    <tr>\n",
       "      <th>155304</th>\n",
       "      <td>1999-04-27</td>\n",
       "      <td>2008-01-02</td>\n",
       "    </tr>\n",
       "    <tr>\n",
       "      <th>155305</th>\n",
       "      <td>NaN</td>\n",
       "      <td>2008-01-02</td>\n",
       "    </tr>\n",
       "    <tr>\n",
       "      <th>155306</th>\n",
       "      <td>1992-08-31</td>\n",
       "      <td>2008-01-02</td>\n",
       "    </tr>\n",
       "    <tr>\n",
       "      <th>155307</th>\n",
       "      <td>2004-11-16</td>\n",
       "      <td>2008-01-02</td>\n",
       "    </tr>\n",
       "    <tr>\n",
       "      <th>155308</th>\n",
       "      <td>2002-01-15</td>\n",
       "      <td>2008-01-02</td>\n",
       "    </tr>\n",
       "  </tbody>\n",
       "</table>\n",
       "<p>155309 rows × 2 columns</p>\n",
       "</div>"
      ],
      "text/plain": [
       "              成立时间       交易时间\n",
       "0       2010-09-19 2017-03-19\n",
       "1       2015-02-03 2017-03-19\n",
       "2       2013-04-08 2017-03-19\n",
       "3              NaN 2017-03-19\n",
       "4       2008-03-24 2017-03-19\n",
       "...            ...        ...\n",
       "155304  1999-04-27 2008-01-02\n",
       "155305         NaN 2008-01-02\n",
       "155306  1992-08-31 2008-01-02\n",
       "155307  2004-11-16 2008-01-02\n",
       "155308  2002-01-15 2008-01-02\n",
       "\n",
       "[155309 rows x 2 columns]"
      ]
     },
     "execution_count": 115,
     "metadata": {},
     "output_type": "execute_result"
    }
   ],
   "source": [
    "invest_all.filter(like='时')"
   ]
  },
  {
   "cell_type": "code",
   "execution_count": 117,
   "id": "75e05660-5eae-4aee-99f3-1ebe86d591b3",
   "metadata": {
    "scrolled": true
   },
   "outputs": [
    {
     "data": {
      "text/plain": [
       "成立时间\n",
       "2015.0    16347\n",
       "2014.0    13928\n",
       "2016.0    12093\n",
       "2017.0     9937\n",
       "2013.0     7679\n",
       "2018.0     7366\n",
       "2012.0     6215\n",
       "2011.0     5809\n",
       "2021.0     5671\n",
       "2019.0     5560\n",
       "2010.0     5020\n",
       "2020.0     4637\n",
       "2009.0     4180\n",
       "2008.0     3499\n",
       "2006.0     3335\n",
       "2007.0     3317\n",
       "2022.0     3117\n",
       "2005.0     3065\n",
       "2004.0     3060\n",
       "2003.0     2743\n",
       "2002.0     2358\n",
       "2001.0     2266\n",
       "2023.0     2210\n",
       "2000.0     1986\n",
       "1999.0     1356\n",
       "1998.0     1084\n",
       "1997.0      883\n",
       "1996.0      708\n",
       "1995.0      541\n",
       "1993.0      539\n",
       "1970.0      487\n",
       "1994.0      473\n",
       "1992.0      305\n",
       "1988.0      124\n",
       "2024.0      123\n",
       "1990.0       98\n",
       "1989.0       91\n",
       "1991.0       80\n",
       "1985.0       59\n",
       "1981.0       58\n",
       "1986.0       57\n",
       "1987.0       53\n",
       "1984.0       43\n",
       "1983.0       28\n",
       "1980.0       24\n",
       "1982.0       20\n",
       "1979.0       13\n",
       "1971.0        7\n",
       "1977.0        4\n",
       "1978.0        3\n",
       "1972.0        2\n",
       "1975.0        1\n",
       "1976.0        1\n",
       "1973.0        1\n",
       "Name: count, dtype: int64"
      ]
     },
     "execution_count": 117,
     "metadata": {},
     "output_type": "execute_result"
    }
   ],
   "source": [
    "invest_all.成立时间=pd.to_datetime(invest_all.成立时间)\n",
    "invest_all.成立时间.dt.year.value_counts()"
   ]
  },
  {
   "cell_type": "code",
   "execution_count": 122,
   "id": "cdf4c69d-eea4-45ff-8ecc-ee8defe08eb8",
   "metadata": {
    "scrolled": true
   },
   "outputs": [
    {
     "data": {
      "text/plain": [
       "所在地\n",
       "广东省-深圳市     14338\n",
       "北京市-海淀区     12175\n",
       "浙江省-杭州市      9329\n",
       "北京市-朝阳区      7850\n",
       "上海市-浦东新区     6412\n",
       "            ...  \n",
       "乌克兰             1\n",
       "马绍尔群岛共和国        1\n",
       "蒙古              1\n",
       "刚果              1\n",
       "埃塞俄比亚           1\n",
       "Name: count, Length: 536, dtype: int64"
      ]
     },
     "execution_count": 122,
     "metadata": {},
     "output_type": "execute_result"
    }
   ],
   "source": [
    "invest_all.所在地.value_counts()"
   ]
  },
  {
   "cell_type": "code",
   "execution_count": 118,
   "id": "29b2f7e2-98e5-4e22-92a3-abe4cf4de1a4",
   "metadata": {
    "scrolled": true
   },
   "outputs": [
    {
     "data": {
      "text/plain": [
       "交易类型\n",
       "增资      148192\n",
       "股权转让      4248\n",
       "合资设立      1666\n",
       "股份回购       858\n",
       "其他         283\n",
       "资产收购        16\n",
       "Name: count, dtype: int64"
      ]
     },
     "execution_count": 118,
     "metadata": {},
     "output_type": "execute_result"
    }
   ],
   "source": [
    "invest_all.交易类型.value_counts()"
   ]
  },
  {
   "cell_type": "code",
   "execution_count": 119,
   "id": "8c8cf172-c6eb-4ed2-bb4f-539343b49e59",
   "metadata": {
    "scrolled": true
   },
   "outputs": [
    {
     "data": {
      "text/plain": [
       "所在行业\n",
       "电子信息-信息化服务           14724\n",
       "电子信息-半导体              8588\n",
       "电子信息-软件               8302\n",
       "医疗健康-生物医药             6430\n",
       "批发零售-电子商务             6336\n",
       "                     ...  \n",
       "农林牧渔-农林牧渔其他             34\n",
       "物流运输-快递服务               30\n",
       "文娱传媒-文娱用品               18\n",
       "综合-公共管理、社会保障和社会组织       12\n",
       "综合-综合其他                  7\n",
       "Name: count, Length: 123, dtype: int64"
      ]
     },
     "execution_count": 119,
     "metadata": {},
     "output_type": "execute_result"
    }
   ],
   "source": [
    "invest_all.所在行业.value_counts()"
   ]
  },
  {
   "cell_type": "code",
   "execution_count": 125,
   "id": "9e74b513-1c9a-43fc-825e-7b82b6040e3f",
   "metadata": {},
   "outputs": [
    {
     "data": {
      "text/plain": [
       "(83793, 83571, 5852)"
      ]
     },
     "execution_count": 125,
     "metadata": {},
     "output_type": "execute_result"
    }
   ],
   "source": [
    "invest_all.企业全称.nunique(),invest_all.企业简称.nunique(),invest_data.工商全称.nunique()"
   ]
  },
  {
   "cell_type": "code",
   "execution_count": 124,
   "id": "9c5624fb-8311-4781-b427-24cb9bc1d08b",
   "metadata": {},
   "outputs": [
    {
     "data": {
      "text/plain": [
       "4481"
      ]
     },
     "execution_count": 124,
     "metadata": {},
     "output_type": "execute_result"
    }
   ],
   "source": [
    "len(set(invest_data.工商全称)&set(invest_all.企业全称))"
   ]
  },
  {
   "cell_type": "code",
   "execution_count": 126,
   "id": "aa798488-9ab9-4a25-8eb8-cb51e6795c98",
   "metadata": {},
   "outputs": [
    {
     "data": {
      "text/plain": [
       "15393"
      ]
     },
     "execution_count": 126,
     "metadata": {},
     "output_type": "execute_result"
    }
   ],
   "source": [
    "len(set(df.公司名称)&set(invest_all.企业全称))#把专精特新企业和这部分融资企业匹配有多少重合"
   ]
  },
  {
   "cell_type": "code",
   "execution_count": 127,
   "id": "7ee47f3d-b82d-44f4-a166-b7b9d265cbfc",
   "metadata": {},
   "outputs": [
    {
     "data": {
      "text/plain": [
       "79312"
      ]
     },
     "execution_count": 127,
     "metadata": {},
     "output_type": "execute_result"
    }
   ],
   "source": [
    "len(set(invest_all.企业全称)-set(invest_data.工商全称))"
   ]
  },
  {
   "cell_type": "code",
   "execution_count": 131,
   "id": "1025b433-d8ec-4eaf-8337-fc2491a4892c",
   "metadata": {},
   "outputs": [
    {
     "data": {
      "text/plain": [
       "1030"
      ]
     },
     "execution_count": 131,
     "metadata": {},
     "output_type": "execute_result"
    }
   ],
   "source": [
    "len(set(invest_data.工商全称)-set(invest_all.企业全称)-set(patent_info.公司名称))"
   ]
  },
  {
   "cell_type": "code",
   "execution_count": 135,
   "id": "1283a9a0-db5f-4563-adee-216738a4bee7",
   "metadata": {},
   "outputs": [
    {
     "data": {
      "text/plain": [
       "224025"
      ]
     },
     "execution_count": 135,
     "metadata": {},
     "output_type": "execute_result"
    }
   ],
   "source": [
    "#在目前的专利和invest_all里面都不能找到的企业名单\n",
    "len(set(df.公司名称)-set(invest_all.企业全称)-set(patent_info.公司名称))"
   ]
  },
  {
   "cell_type": "code",
   "execution_count": 6,
   "id": "4a98ddbd-a5c1-4f77-a275-0ad42f971209",
   "metadata": {},
   "outputs": [
    {
     "name": "stderr",
     "output_type": "stream",
     "text": [
      "C:\\Users\\Prime\\AppData\\Roaming\\Python\\Python39\\site-packages\\openpyxl\\styles\\stylesheet.py:226: UserWarning: Workbook contains no default style, apply openpyxl's default\n",
      "  warn(\"Workbook contains no default style, apply openpyxl's default\")\n"
     ]
    },
    {
     "name": "stdout",
     "output_type": "stream",
     "text": [
      "<class 'pandas.core.frame.DataFrame'>\n",
      "RangeIndex: 483946 entries, 0 to 483945\n",
      "Data columns (total 28 columns):\n",
      " #   Column      Non-Null Count   Dtype  \n",
      "---  ------      --------------   -----  \n",
      " 0   统计截止日期      483946 non-null  object \n",
      " 1   机构ID        483946 non-null  int64  \n",
      " 2   公司名称        483946 non-null  object \n",
      " 3   经营状态        483946 non-null  int64  \n",
      " 4   财务审计机构      36107 non-null   object \n",
      " 5   财务审计机构统计时间  36107 non-null   object \n",
      " 6   成立日期        483895 non-null  object \n",
      " 7   注册资本        482293 non-null  float64\n",
      " 8   注册资本币种      482293 non-null  object \n",
      " 9   员工人数        405674 non-null  float64\n",
      " 10  员工人数统计类型    406324 non-null  float64\n",
      " 11  员工人数统计时间    180873 non-null  object \n",
      " 12  主营业务        483229 non-null  object \n",
      " 13  其他业务        343 non-null     object \n",
      " 14  主营业务所属门类    483326 non-null  object \n",
      " 15  主要产品        95341 non-null   object \n",
      " 16  公司登记注册类型    483911 non-null  object \n",
      " 17  所属省份        483946 non-null  object \n",
      " 18  所属城市        442433 non-null  object \n",
      " 19  注册地址        446741 non-null  object \n",
      " 20  办公地址        37203 non-null   object \n",
      " 21  工商注册号       457839 non-null  object \n",
      " 22  网址          323952 non-null  object \n",
      " 23  电话          479273 non-null  object \n",
      " 24  邮箱          447583 non-null  object \n",
      " 25  经营范围        320340 non-null  object \n",
      " 26  统一社会信用代码    483225 non-null  object \n",
      " 27  ISIN编码      24096 non-null   object \n",
      "dtypes: float64(3), int64(2), object(23)\n",
      "memory usage: 103.4+ MB\n"
     ]
    }
   ],
   "source": [
    "ent_info=pd.read_excel('data\\SRDI_EntInfo.xlsx',skiprows=[0,2])\n",
    "ent_info.info()"
   ]
  },
  {
   "cell_type": "code",
   "execution_count": 7,
   "id": "2334b4c8-409c-4e35-ac3a-7b4912b8b761",
   "metadata": {},
   "outputs": [
    {
     "data": {
      "text/plain": [
       "经营状态\n",
       "运营        483363\n",
       "终止运营         575\n",
       "接受法律调查         8\n",
       "Name: count, dtype: int64"
      ]
     },
     "execution_count": 7,
     "metadata": {},
     "output_type": "execute_result"
    }
   ],
   "source": [
    "BusinessState= {1:'运营',2:'破产清算',3:'接受法律调查',4:'终止运营'}\n",
    "StaffNumberSgnType={1:'实际人数',2:'人数范围'}\n",
    "ent_info['经营状态'] = ent_info['经营状态'].map(BusinessState)\n",
    "ent_info['员工人数统计类型'] =ent_info['员工人数统计类型'].map(StaffNumberSgnType)\n",
    "ent_info['经营状态'].value_counts()"
   ]
  },
  {
   "cell_type": "code",
   "execution_count": 9,
   "id": "e6b8e574-911d-4c63-b1d2-b30a8322c7b7",
   "metadata": {},
   "outputs": [
    {
     "data": {
      "text/html": [
       "<div>\n",
       "<style scoped>\n",
       "    .dataframe tbody tr th:only-of-type {\n",
       "        vertical-align: middle;\n",
       "    }\n",
       "\n",
       "    .dataframe tbody tr th {\n",
       "        vertical-align: top;\n",
       "    }\n",
       "\n",
       "    .dataframe thead th {\n",
       "        text-align: right;\n",
       "    }\n",
       "</style>\n",
       "<table border=\"1\" class=\"dataframe\">\n",
       "  <thead>\n",
       "    <tr style=\"text-align: right;\">\n",
       "      <th></th>\n",
       "      <th>统计截止日期</th>\n",
       "      <th>机构ID</th>\n",
       "      <th>公司名称</th>\n",
       "      <th>经营状态</th>\n",
       "      <th>财务审计机构</th>\n",
       "      <th>财务审计机构统计时间</th>\n",
       "      <th>成立日期</th>\n",
       "      <th>注册资本</th>\n",
       "      <th>注册资本币种</th>\n",
       "      <th>员工人数</th>\n",
       "      <th>...</th>\n",
       "      <th>所属城市</th>\n",
       "      <th>注册地址</th>\n",
       "      <th>办公地址</th>\n",
       "      <th>工商注册号</th>\n",
       "      <th>网址</th>\n",
       "      <th>电话</th>\n",
       "      <th>邮箱</th>\n",
       "      <th>经营范围</th>\n",
       "      <th>统一社会信用代码</th>\n",
       "      <th>ISIN编码</th>\n",
       "    </tr>\n",
       "  </thead>\n",
       "  <tbody>\n",
       "    <tr>\n",
       "      <th>0</th>\n",
       "      <td>2023-04-06</td>\n",
       "      <td>10420</td>\n",
       "      <td>山东华联矿业股份有限公司</td>\n",
       "      <td>运营</td>\n",
       "      <td>NaN</td>\n",
       "      <td>NaN</td>\n",
       "      <td>1996</td>\n",
       "      <td>525500000.0</td>\n",
       "      <td>CNY</td>\n",
       "      <td>1104.0</td>\n",
       "      <td>...</td>\n",
       "      <td>淄博</td>\n",
       "      <td>山东省淄博市沂源县</td>\n",
       "      <td>NaN</td>\n",
       "      <td>370000200005525</td>\n",
       "      <td>http://www.hualianmining.com</td>\n",
       "      <td>+86-0533-3380047</td>\n",
       "      <td>hualiancaiwu01@163.com</td>\n",
       "      <td>许可项目：非煤矿山矿产资源开采;道路货物运输(网络货运).(依法须经批准的项目,经相关部门批...</td>\n",
       "      <td>913700001686198949</td>\n",
       "      <td>NaN</td>\n",
       "    </tr>\n",
       "    <tr>\n",
       "      <th>1</th>\n",
       "      <td>2023-04-30</td>\n",
       "      <td>10420</td>\n",
       "      <td>上海妙可蓝多食品科技股份有限公司</td>\n",
       "      <td>运营</td>\n",
       "      <td>利安达会计师事务所（特殊普通合伙）</td>\n",
       "      <td>2023-02-15</td>\n",
       "      <td>1988</td>\n",
       "      <td>515690147.0</td>\n",
       "      <td>CNY</td>\n",
       "      <td>3052.0</td>\n",
       "      <td>...</td>\n",
       "      <td>上海</td>\n",
       "      <td>NaN</td>\n",
       "      <td>上海市浦东新区金桥路1398号金台大厦9楼</td>\n",
       "      <td>NaN</td>\n",
       "      <td>http://www.groundmilk.com</td>\n",
       "      <td>86-21-50188700</td>\n",
       "      <td>ir@milkland.com.cn</td>\n",
       "      <td>山东华联矿业控股股份有限公司主要从事矿产开采活动。公司产品包括铁矿石和铁精粉等。该公司成立于...</td>\n",
       "      <td>91370000164102345T</td>\n",
       "      <td>CNE000000JF6</td>\n",
       "    </tr>\n",
       "    <tr>\n",
       "      <th>2</th>\n",
       "      <td>2023-08-06</td>\n",
       "      <td>10420</td>\n",
       "      <td>上海妙可蓝多食品科技股份有限公司</td>\n",
       "      <td>运营</td>\n",
       "      <td>利安达会计师事务所（特殊普通合伙）</td>\n",
       "      <td>2023-02-15</td>\n",
       "      <td>1988</td>\n",
       "      <td>515690147.0</td>\n",
       "      <td>CNY</td>\n",
       "      <td>3052.0</td>\n",
       "      <td>...</td>\n",
       "      <td>上海</td>\n",
       "      <td>NaN</td>\n",
       "      <td>上海市浦东新区金桥路1398号金台大厦9楼</td>\n",
       "      <td>NaN</td>\n",
       "      <td>http://www.groundmilk.com</td>\n",
       "      <td>86-21-50188700</td>\n",
       "      <td>ir@milkland.com.cn</td>\n",
       "      <td>山东华联矿业控股股份有限公司主要从事矿产开采活动。公司产品包括铁矿石和铁精粉等。该公司成立于...</td>\n",
       "      <td>91370000164102345T</td>\n",
       "      <td>CNE000000JF6</td>\n",
       "    </tr>\n",
       "    <tr>\n",
       "      <th>3</th>\n",
       "      <td>2023-08-18</td>\n",
       "      <td>10420</td>\n",
       "      <td>上海妙可蓝多食品科技股份有限公司</td>\n",
       "      <td>运营</td>\n",
       "      <td>NaN</td>\n",
       "      <td>NaN</td>\n",
       "      <td>1988-11-29</td>\n",
       "      <td>513791647.0</td>\n",
       "      <td>CNY</td>\n",
       "      <td>370.0</td>\n",
       "      <td>...</td>\n",
       "      <td>NaN</td>\n",
       "      <td>上海市奉贤区工业路899号8幢</td>\n",
       "      <td>NaN</td>\n",
       "      <td>310000000165830</td>\n",
       "      <td>http://www.milkground.cn/</td>\n",
       "      <td>021-50185677</td>\n",
       "      <td>pr@milkground.cn;ir@milkland.com.cn;ying_cao@m...</td>\n",
       "      <td>NaN</td>\n",
       "      <td>91370000164102345T</td>\n",
       "      <td>NaN</td>\n",
       "    </tr>\n",
       "    <tr>\n",
       "      <th>4</th>\n",
       "      <td>2023-09-03</td>\n",
       "      <td>10420</td>\n",
       "      <td>上海妙可蓝多食品科技股份有限公司</td>\n",
       "      <td>运营</td>\n",
       "      <td>利安达会计师事务所(特殊普通合伙)</td>\n",
       "      <td>2023-02-15</td>\n",
       "      <td>1988</td>\n",
       "      <td>515690147.0</td>\n",
       "      <td>CNY</td>\n",
       "      <td>3052.0</td>\n",
       "      <td>...</td>\n",
       "      <td>上海</td>\n",
       "      <td>NaN</td>\n",
       "      <td>上海市浦东新区金桥路1398号金台大厦9楼</td>\n",
       "      <td>NaN</td>\n",
       "      <td>http://www.groundmilk.com</td>\n",
       "      <td>86-21-50188700</td>\n",
       "      <td>ir@milkland.com.cn</td>\n",
       "      <td>山东华联矿业控股股份有限公司主要从事矿产开采活动。公司产品包括铁矿石和铁精粉等。该公司成立于...</td>\n",
       "      <td>91370000164102345T</td>\n",
       "      <td>CNE000000JF6</td>\n",
       "    </tr>\n",
       "  </tbody>\n",
       "</table>\n",
       "<p>5 rows × 28 columns</p>\n",
       "</div>"
      ],
      "text/plain": [
       "       统计截止日期   机构ID              公司名称 经营状态             财务审计机构  财务审计机构统计时间  \\\n",
       "0  2023-04-06  10420      山东华联矿业股份有限公司   运营                NaN         NaN   \n",
       "1  2023-04-30  10420  上海妙可蓝多食品科技股份有限公司   运营  利安达会计师事务所（特殊普通合伙）  2023-02-15   \n",
       "2  2023-08-06  10420  上海妙可蓝多食品科技股份有限公司   运营  利安达会计师事务所（特殊普通合伙）  2023-02-15   \n",
       "3  2023-08-18  10420  上海妙可蓝多食品科技股份有限公司   运营                NaN         NaN   \n",
       "4  2023-09-03  10420  上海妙可蓝多食品科技股份有限公司   运营  利安达会计师事务所(特殊普通合伙)  2023-02-15   \n",
       "\n",
       "         成立日期         注册资本 注册资本币种    员工人数  ... 所属城市             注册地址  \\\n",
       "0        1996  525500000.0    CNY  1104.0  ...   淄博        山东省淄博市沂源县   \n",
       "1        1988  515690147.0    CNY  3052.0  ...   上海              NaN   \n",
       "2        1988  515690147.0    CNY  3052.0  ...   上海              NaN   \n",
       "3  1988-11-29  513791647.0    CNY   370.0  ...  NaN  上海市奉贤区工业路899号8幢   \n",
       "4        1988  515690147.0    CNY  3052.0  ...   上海              NaN   \n",
       "\n",
       "                    办公地址            工商注册号                            网址  \\\n",
       "0                    NaN  370000200005525  http://www.hualianmining.com   \n",
       "1  上海市浦东新区金桥路1398号金台大厦9楼              NaN     http://www.groundmilk.com   \n",
       "2  上海市浦东新区金桥路1398号金台大厦9楼              NaN     http://www.groundmilk.com   \n",
       "3                    NaN  310000000165830     http://www.milkground.cn/   \n",
       "4  上海市浦东新区金桥路1398号金台大厦9楼              NaN     http://www.groundmilk.com   \n",
       "\n",
       "                 电话                                                 邮箱  \\\n",
       "0  +86-0533-3380047                             hualiancaiwu01@163.com   \n",
       "1    86-21-50188700                                 ir@milkland.com.cn   \n",
       "2    86-21-50188700                                 ir@milkland.com.cn   \n",
       "3      021-50185677  pr@milkground.cn;ir@milkland.com.cn;ying_cao@m...   \n",
       "4    86-21-50188700                                 ir@milkland.com.cn   \n",
       "\n",
       "                                                经营范围            统一社会信用代码  \\\n",
       "0  许可项目：非煤矿山矿产资源开采;道路货物运输(网络货运).(依法须经批准的项目,经相关部门批...  913700001686198949   \n",
       "1  山东华联矿业控股股份有限公司主要从事矿产开采活动。公司产品包括铁矿石和铁精粉等。该公司成立于...  91370000164102345T   \n",
       "2  山东华联矿业控股股份有限公司主要从事矿产开采活动。公司产品包括铁矿石和铁精粉等。该公司成立于...  91370000164102345T   \n",
       "3                                                NaN  91370000164102345T   \n",
       "4  山东华联矿业控股股份有限公司主要从事矿产开采活动。公司产品包括铁矿石和铁精粉等。该公司成立于...  91370000164102345T   \n",
       "\n",
       "         ISIN编码  \n",
       "0           NaN  \n",
       "1  CNE000000JF6  \n",
       "2  CNE000000JF6  \n",
       "3           NaN  \n",
       "4  CNE000000JF6  \n",
       "\n",
       "[5 rows x 28 columns]"
      ]
     },
     "execution_count": 9,
     "metadata": {},
     "output_type": "execute_result"
    }
   ],
   "source": [
    "ent_info.head()"
   ]
  },
  {
   "cell_type": "code",
   "execution_count": 13,
   "id": "cd092f2e-c724-4a29-9bcb-ee690dfb3ff3",
   "metadata": {},
   "outputs": [
    {
     "data": {
      "text/plain": [
       "Timestamp('2024-08-15 00:00:00')"
      ]
     },
     "execution_count": 13,
     "metadata": {},
     "output_type": "execute_result"
    }
   ],
   "source": [
    "ent_info.统计截止日期=pd.to_datetime(ent_info.统计截止日期)\n",
    "ent_info.员工人数统计时间=pd.to_datetime(ent_info.员工人数统计时间)\n",
    "ent_info.统计截止日期.max()"
   ]
  },
  {
   "cell_type": "code",
   "execution_count": 15,
   "id": "aa3fb7b2-30c0-4d50-ba8a-79f87c595917",
   "metadata": {},
   "outputs": [
    {
     "data": {
      "text/plain": [
       "267103"
      ]
     },
     "execution_count": 15,
     "metadata": {},
     "output_type": "execute_result"
    }
   ],
   "source": [
    "ent_info.机构ID.nunique()"
   ]
  },
  {
   "cell_type": "code",
   "execution_count": 16,
   "id": "2f944a97-cf38-4c56-b291-3d21408af3ba",
   "metadata": {},
   "outputs": [
    {
     "data": {
      "text/html": [
       "<div>\n",
       "<style scoped>\n",
       "    .dataframe tbody tr th:only-of-type {\n",
       "        vertical-align: middle;\n",
       "    }\n",
       "\n",
       "    .dataframe tbody tr th {\n",
       "        vertical-align: top;\n",
       "    }\n",
       "\n",
       "    .dataframe thead th {\n",
       "        text-align: right;\n",
       "    }\n",
       "</style>\n",
       "<table border=\"1\" class=\"dataframe\">\n",
       "  <thead>\n",
       "    <tr style=\"text-align: right;\">\n",
       "      <th></th>\n",
       "      <th>统计截止日期</th>\n",
       "      <th>机构ID</th>\n",
       "      <th>注册资本</th>\n",
       "      <th>员工人数</th>\n",
       "      <th>员工人数统计时间</th>\n",
       "    </tr>\n",
       "  </thead>\n",
       "  <tbody>\n",
       "    <tr>\n",
       "      <th>count</th>\n",
       "      <td>483946</td>\n",
       "      <td>4.839460e+05</td>\n",
       "      <td>4.822930e+05</td>\n",
       "      <td>405674.000000</td>\n",
       "      <td>180873</td>\n",
       "    </tr>\n",
       "    <tr>\n",
       "      <th>mean</th>\n",
       "      <td>2023-07-09 02:54:14.138272</td>\n",
       "      <td>3.423327e+07</td>\n",
       "      <td>1.065675e+08</td>\n",
       "      <td>216.045140</td>\n",
       "      <td>2021-01-11 04:09:07.663830272</td>\n",
       "    </tr>\n",
       "    <tr>\n",
       "      <th>min</th>\n",
       "      <td>2013-10-27 00:00:00</td>\n",
       "      <td>1.042000e+04</td>\n",
       "      <td>8.000000e+00</td>\n",
       "      <td>0.000000</td>\n",
       "      <td>2005-12-31 00:00:00</td>\n",
       "    </tr>\n",
       "    <tr>\n",
       "      <th>25%</th>\n",
       "      <td>2023-04-07 00:00:00</td>\n",
       "      <td>1.085122e+07</td>\n",
       "      <td>8.000000e+06</td>\n",
       "      <td>17.000000</td>\n",
       "      <td>2019-12-31 00:00:00</td>\n",
       "    </tr>\n",
       "    <tr>\n",
       "      <th>50%</th>\n",
       "      <td>2023-09-11 00:00:00</td>\n",
       "      <td>1.092737e+07</td>\n",
       "      <td>2.000000e+07</td>\n",
       "      <td>56.000000</td>\n",
       "      <td>2021-12-31 00:00:00</td>\n",
       "    </tr>\n",
       "    <tr>\n",
       "      <th>75%</th>\n",
       "      <td>2023-11-12 00:00:00</td>\n",
       "      <td>1.010044e+08</td>\n",
       "      <td>5.153579e+07</td>\n",
       "      <td>160.000000</td>\n",
       "      <td>2021-12-31 00:00:00</td>\n",
       "    </tr>\n",
       "    <tr>\n",
       "      <th>max</th>\n",
       "      <td>2024-08-15 00:00:00</td>\n",
       "      <td>1.013945e+08</td>\n",
       "      <td>1.602814e+13</td>\n",
       "      <td>561094.000000</td>\n",
       "      <td>2023-12-31 00:00:00</td>\n",
       "    </tr>\n",
       "    <tr>\n",
       "      <th>std</th>\n",
       "      <td>NaN</td>\n",
       "      <td>3.976608e+07</td>\n",
       "      <td>2.318369e+10</td>\n",
       "      <td>2094.602138</td>\n",
       "      <td>NaN</td>\n",
       "    </tr>\n",
       "  </tbody>\n",
       "</table>\n",
       "</div>"
      ],
      "text/plain": [
       "                           统计截止日期          机构ID          注册资本           员工人数  \\\n",
       "count                      483946  4.839460e+05  4.822930e+05  405674.000000   \n",
       "mean   2023-07-09 02:54:14.138272  3.423327e+07  1.065675e+08     216.045140   \n",
       "min           2013-10-27 00:00:00  1.042000e+04  8.000000e+00       0.000000   \n",
       "25%           2023-04-07 00:00:00  1.085122e+07  8.000000e+06      17.000000   \n",
       "50%           2023-09-11 00:00:00  1.092737e+07  2.000000e+07      56.000000   \n",
       "75%           2023-11-12 00:00:00  1.010044e+08  5.153579e+07     160.000000   \n",
       "max           2024-08-15 00:00:00  1.013945e+08  1.602814e+13  561094.000000   \n",
       "std                           NaN  3.976608e+07  2.318369e+10    2094.602138   \n",
       "\n",
       "                            员工人数统计时间  \n",
       "count                         180873  \n",
       "mean   2021-01-11 04:09:07.663830272  \n",
       "min              2005-12-31 00:00:00  \n",
       "25%              2019-12-31 00:00:00  \n",
       "50%              2021-12-31 00:00:00  \n",
       "75%              2021-12-31 00:00:00  \n",
       "max              2023-12-31 00:00:00  \n",
       "std                              NaN  "
      ]
     },
     "execution_count": 16,
     "metadata": {},
     "output_type": "execute_result"
    }
   ],
   "source": [
    "ent_info.describe()"
   ]
  },
  {
   "cell_type": "code",
   "execution_count": null,
   "id": "7226e1c2-af9b-4cd3-976e-dba759df7403",
   "metadata": {},
   "outputs": [],
   "source": [
    "主营业务        483229 non-null  object \n",
    " 13  其他业务        343 non-null     object \n",
    " 14  主营业务所属门类    483326 non-null  object \n",
    " 15  主要产品    "
   ]
  },
  {
   "cell_type": "code",
   "execution_count": 19,
   "id": "ad3a8018-2bee-4ccf-ab79-9a84a2fa8430",
   "metadata": {},
   "outputs": [
    {
     "data": {
      "text/plain": [
       "2000.0"
      ]
     },
     "execution_count": 19,
     "metadata": {},
     "output_type": "execute_result"
    }
   ],
   "source": [
    "ent_info.主要产品.str.len().max()"
   ]
  },
  {
   "cell_type": "code",
   "execution_count": 14,
   "id": "3498bfa4-8573-436f-87a7-c792a38d9c4e",
   "metadata": {},
   "outputs": [],
   "source": [
    "ent_info.to_csv('data\\专精特新企业基本信息表_2408.csv',encoding=\"utf_8_sig\")"
   ]
  }
 ],
 "metadata": {
  "kernelspec": {
   "display_name": "Python 3 (ipykernel)",
   "language": "python",
   "name": "python3"
  },
  "language_info": {
   "codemirror_mode": {
    "name": "ipython",
    "version": 3
   },
   "file_extension": ".py",
   "mimetype": "text/x-python",
   "name": "python",
   "nbconvert_exporter": "python",
   "pygments_lexer": "ipython3",
   "version": "3.9.13"
  }
 },
 "nbformat": 4,
 "nbformat_minor": 5
}
