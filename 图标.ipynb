{
 "cells": [
  {
   "cell_type": "code",
   "execution_count": 1,
   "id": "c94abcdf-f574-4edd-b63c-7de68f4b6b25",
   "metadata": {},
   "outputs": [],
   "source": [
    "import requests\n",
    "from PIL import Image, ImageDraw, ImageFont\n",
    "# 创建一个500x500像素的白色背景图像\n",
    "image = Image.new('RGB', (500, 500), color='white')\n",
    "draw = ImageDraw.Draw(image)\n",
    "\n",
    "# 载入字体\n",
    "try:\n",
    "    font = ImageFont.truetype(\"arial.ttf\", 40)\n",
    "except IOError:\n",
    "    font = ImageFont.load_default()\n",
    "\n",
    "# 画一个圆形背景\n",
    "draw.ellipse((50, 50, 450, 450), fill=\"lightblue\", outline=\"blue\", width=5)\n",
    "\n",
    "# 图标1：专利分析（文件图标）\n",
    "draw.rectangle([(150, 150), (250, 250)], outline=\"blue\", width=5)\n",
    "draw.line([(150, 150), (200, 100), (250, 150)], fill=\"blue\", width=5)\n",
    "\n",
    "# 图标2：金融科技（钱袋图标）\n",
    "draw.ellipse([(275, 150), (375, 250)], outline=\"green\", width=5)\n",
    "draw.rectangle([(300, 175), (350, 225)], outline=\"green\", width=5)\n",
    "draw.line([(325, 150), (325, 175)], fill=\"green\", width=5)\n",
    "\n",
    "# 图标3：代码分享（代码片段图标）\n",
    "draw.polygon([(200, 300), (250, 350), (200, 400)], outline=\"gray\", fill=None, width=5)\n",
    "draw.polygon([(300, 300), (250, 350), (300, 400)], outline=\"gray\", fill=None, width=5)\n",
    "\n",
    "# 保存图像\n",
    "# image_path = \"data/github_avatar_complex.png\"\n",
    "# image.save(image_path)\n",
    "image.show()"
   ]
  },
  {
   "cell_type": "code",
   "execution_count": 2,
   "id": "366cd3e7-c5fb-42b1-9944-7c60e43e722c",
   "metadata": {},
   "outputs": [],
   "source": [
    "# 创建一个500x500像素的白色背景图像\n",
    "image = Image.new('RGB', (500, 500), color='white')\n",
    "draw = ImageDraw.Draw(image)\n",
    "\n",
    "# 载入字体\n",
    "try:\n",
    "    font = ImageFont.truetype(\"arial.ttf\", 40)\n",
    "except IOError:\n",
    "    font = ImageFont.load_default()\n",
    "\n",
    "# 圆形背景和钱袋图标的圈合在一起\n",
    "draw.ellipse((50, 50, 450, 450), fill=\"lightblue\", outline=\"green\", width=10)\n",
    "\n",
    "# 货币符号\n",
    "draw.text((240, 90), \"$\", fill=\"green\", font=font)\n",
    "# 钱袋图标\n",
    "draw.line([(250, 50), (250, 150)], fill=\"green\", width=5)\n",
    "draw.rectangle([(150, 150), (350, 350)], outline=\"green\", width=10)\n",
    "\n",
    "# 银行图标\n",
    "draw.rectangle([(210, 210), (290, 350)], outline=\"green\", width=5)\n",
    "draw.rectangle([(250, 250), (310, 350)], outline=\"green\", width=5)\n",
    "draw.rectangle([(290, 290), (350, 350)], outline=\"green\", width=5)\n",
    "\n",
    "# 代码符号在最中心\n",
    "draw.polygon([(230, 230), (250, 250), (230, 270)], outline=\"gray\", fill=None, width=5)\n",
    "draw.polygon([(270, 230), (250, 250), (270, 270)], outline=\"gray\", fill=None, width=5)\n",
    "\n",
    "\n",
    "# 保存图像\n",
    "image_path = \"data/github_avatar_fusion_final.png\"\n",
    "image.save(image_path)\n",
    "image.show()"
   ]
  }
 ],
 "metadata": {
  "kernelspec": {
   "display_name": "Python 3 (ipykernel)",
   "language": "python",
   "name": "python3"
  },
  "language_info": {
   "codemirror_mode": {
    "name": "ipython",
    "version": 3
   },
   "file_extension": ".py",
   "mimetype": "text/x-python",
   "name": "python",
   "nbconvert_exporter": "python",
   "pygments_lexer": "ipython3",
   "version": "3.10.9"
  }
 },
 "nbformat": 4,
 "nbformat_minor": 5
}
