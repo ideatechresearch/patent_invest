{
 "cells": [
  {
   "cell_type": "code",
   "execution_count": 1,
   "id": "e178bea4-39d0-4c74-86cd-f825c81ba966",
   "metadata": {},
   "outputs": [],
   "source": [
    "import pandas as pd\n",
    "import gc\n",
    "import pickle"
   ]
  },
  {
   "cell_type": "code",
   "execution_count": null,
   "id": "c90d1e5b-9dd4-4625-a8ac-1c05e0d67e90",
   "metadata": {},
   "outputs": [],
   "source": [
    "from collections import defaultdict,Counter\n",
    "import itertools\n",
    "import difflib"
   ]
  },
  {
   "cell_type": "code",
   "execution_count": 2,
   "id": "4c0e65db-2bd2-4e29-b2df-120380eae13c",
   "metadata": {},
   "outputs": [],
   "source": [
    "from tqdm import tqdm\n",
    "tqdm.pandas()  # 注册 pandas 的 progress_apply"
   ]
  },
  {
   "cell_type": "code",
   "execution_count": 4,
   "id": "e5ea985a-9848-4f67-aafa-2151ff08067c",
   "metadata": {},
   "outputs": [],
   "source": [
    "df=pd.read_csv('data/invest_patent_all_3_merge_vc.csv',index_col=0)"
   ]
  },
  {
   "cell_type": "markdown",
   "id": "ce733a1c-68c5-42f4-93a8-5a0d37f44f4c",
   "metadata": {},
   "source": [
    "根据这里的企业名称和交易时间，结合专利数据库，再构建几个新的变量：在每一个企业交易时间之后的1-5年时间里（分别1、2、3、4、5年进行统计），该企业的各类专利数量的总和"
   ]
  },
  {
   "cell_type": "code",
   "execution_count": 5,
   "id": "87c797a6-f4bc-4d02-a461-f496876ff226",
   "metadata": {},
   "outputs": [
    {
     "name": "stdout",
     "output_type": "stream",
     "text": [
      "<class 'pandas.core.frame.DataFrame'>\n",
      "Index: 21729 entries, 0 to 38512\n",
      "Data columns (total 94 columns):\n",
      " #   Column                       Non-Null Count  Dtype  \n",
      "---  ------                       --------------  -----  \n",
      " 0   投资方名称_投资方                    21729 non-null  object \n",
      " 1   机构方名称全称_投资方                  21729 non-null  object \n",
      " 2   行政区划代码_投资方                   21729 non-null  int64  \n",
      " 3   省份_投资方                       21729 non-null  object \n",
      " 4   城市_投资方                       21729 non-null  object \n",
      " 5   区县_投资方                       21729 non-null  object \n",
      " 6   统一社会信用代码_投资方                 21729 non-null  object \n",
      " 7   经度高德_投资方                     21489 non-null  float64\n",
      " 8   纬度高德_投资方                     21489 non-null  float64\n",
      " 9   成立年份_投资方                     21729 non-null  float64\n",
      " 10  社保人数_投资方                     17886 non-null  float64\n",
      " 11  从业人数_投资方                     16715 non-null  float64\n",
      " 12  社保人数17版_投资方                  21489 non-null  float64\n",
      " 13  从业人数17版_投资方                  21489 non-null  float64\n",
      " 14  Unnamed: 0.1                 21729 non-null  int64  \n",
      " 15  Unnamed: 0                   21729 non-null  int64  \n",
      " 16  行业                           21729 non-null  object \n",
      " 17  子行业                          21729 non-null  object \n",
      " 18  企业全称                         21729 non-null  object \n",
      " 19  交易时间                         21729 non-null  object \n",
      " 20  交易轮次                         21729 non-null  object \n",
      " 21  all                          21729 non-null  int64  \n",
      " 22  explorative                  9224 non-null   float64\n",
      " 23  exploitative                 9224 non-null   float64\n",
      " 24  jianjin_patent_num           9224 non-null   float64\n",
      " 25  首次上市日期                       2504 non-null   object \n",
      " 26  是否上市                         21729 non-null  int64  \n",
      " 27  tech_net_Explorative1_0.7    9223 non-null   float64\n",
      " 28  tech_net_Exploitative1_0.7   9223 non-null   float64\n",
      " 29  tech_net_Explorative1_0.75   9223 non-null   float64\n",
      " 30  tech_net_Exploitative1_0.75  9223 non-null   float64\n",
      " 31  tech_net_Explorative1_0.8    9223 non-null   float64\n",
      " 32  tech_net_Exploitative1_0.8   9223 non-null   float64\n",
      " 33  tech_net_Explorative1_0.85   9223 non-null   float64\n",
      " 34  tech_net_Exploitative1_0.85  9223 non-null   float64\n",
      " 35  tech_net_Explorative2_0.7    9223 non-null   float64\n",
      " 36  tech_net_Exploitative2_0.7   9223 non-null   float64\n",
      " 37  tech_net_Explorative2_0.75   9223 non-null   float64\n",
      " 38  tech_net_Exploitative2_0.75  9223 non-null   float64\n",
      " 39  tech_net_Explorative2_0.8    9223 non-null   float64\n",
      " 40  tech_net_Exploitative2_0.8   9223 non-null   float64\n",
      " 41  tech_net_Explorative2_0.85   9223 non-null   float64\n",
      " 42  tech_net_Exploitative2_0.85  9223 non-null   float64\n",
      " 43  tech_net_Explorative3_0.7    9223 non-null   float64\n",
      " 44  tech_net_Exploitative3_0.7   9223 non-null   float64\n",
      " 45  tech_net_Explorative3_0.75   9223 non-null   float64\n",
      " 46  tech_net_Exploitative3_0.75  9223 non-null   float64\n",
      " 47  tech_net_Explorative3_0.8    9223 non-null   float64\n",
      " 48  tech_net_Exploitative3_0.8   9223 non-null   float64\n",
      " 49  tech_net_Explorative3_0.85   9223 non-null   float64\n",
      " 50  tech_net_Exploitative3_0.85  9223 non-null   float64\n",
      " 51  tech_net_Explorative4_0.7    9223 non-null   float64\n",
      " 52  tech_net_Exploitative4_0.7   9223 non-null   float64\n",
      " 53  tech_net_Explorative4_0.75   9223 non-null   float64\n",
      " 54  tech_net_Exploitative4_0.75  9223 non-null   float64\n",
      " 55  tech_net_Explorative4_0.8    9223 non-null   float64\n",
      " 56  tech_net_Exploitative4_0.8   9223 non-null   float64\n",
      " 57  tech_net_Explorative4_0.85   9223 non-null   float64\n",
      " 58  tech_net_Exploitative4_0.85  9223 non-null   float64\n",
      " 59  tech_net_Explorative5_0.7    9223 non-null   float64\n",
      " 60  tech_net_Exploitative5_0.7   9223 non-null   float64\n",
      " 61  tech_net_Explorative5_0.75   9223 non-null   float64\n",
      " 62  tech_net_Exploitative5_0.75  9223 non-null   float64\n",
      " 63  tech_net_Explorative5_0.8    9223 non-null   float64\n",
      " 64  tech_net_Exploitative5_0.8   9223 non-null   float64\n",
      " 65  tech_net_Explorative5_0.85   9223 non-null   float64\n",
      " 66  tech_net_Exploitative5_0.85  9223 non-null   float64\n",
      " 67  投资方名称                        21729 non-null  object \n",
      " 68  ChinaVC_fullname             18869 non-null  object \n",
      " 69  GVC_DUMMY                    18869 non-null  float64\n",
      " 70  政府引导基金的管理机构_机构简称             3079 non-null   object \n",
      " 71  政府引导基金_DUMMY                 21729 non-null  int64  \n",
      " 72  省                            21685 non-null  object \n",
      " 73  市                            21485 non-null  object \n",
      " 74  成立时间                         21488 non-null  object \n",
      " 75  北上广深                         21729 non-null  int64  \n",
      " 76  投资方名称_unique                 21729 non-null  object \n",
      " 77  投资机构数量                       21729 non-null  float64\n",
      " 78  Age                          21488 non-null  float64\n",
      " 79  交易年月                         21729 non-null  object \n",
      " 80  Cum_invset                   21729 non-null  int64  \n",
      " 81  vc_first                     21729 non-null  object \n",
      " 82  VC行业经验                       21729 non-null  float64\n",
      " 83  VC声誉                         19241 non-null  float64\n",
      " 84  ChinaVC                      21729 non-null  int64  \n",
      " 85  GVC                          21729 non-null  int64  \n",
      " 86  政府引导基金参与                     21729 non-null  int64  \n",
      " 87  peer_ipc_closeness_1         9244 non-null   float64\n",
      " 88  peer_tech_net_closeness_1    9243 non-null   float64\n",
      " 89  peer_ipc_closeness_2         10732 non-null  float64\n",
      " 90  peer_tech_net_closeness_2    10730 non-null  float64\n",
      " 91  peer_ipc_closeness_3         11189 non-null  float64\n",
      " 92  peer_tech_net_closeness_3    11186 non-null  float64\n",
      " 93  year                         21729 non-null  int64  \n",
      "dtypes: float64(61), int64(12), object(21)\n",
      "memory usage: 15.7+ MB\n"
     ]
    }
   ],
   "source": [
    "df.info()"
   ]
  },
  {
   "cell_type": "code",
   "execution_count": 8,
   "id": "95749fec-12d9-476e-9007-f5eb23c7cbf3",
   "metadata": {},
   "outputs": [],
   "source": [
    "df.交易时间=pd.to_datetime(df.交易时间)"
   ]
  },
  {
   "cell_type": "code",
   "execution_count": 9,
   "id": "142a545e-6353-45d2-869f-99d7e8cbed17",
   "metadata": {},
   "outputs": [
    {
     "data": {
      "text/plain": [
       "13579"
      ]
     },
     "execution_count": 9,
     "metadata": {},
     "output_type": "execute_result"
    }
   ],
   "source": [
    "df.企业全称.nunique()"
   ]
  },
  {
   "cell_type": "code",
   "execution_count": 18,
   "id": "f4fd90a6-c307-42f5-ab11-8f142a784cf0",
   "metadata": {},
   "outputs": [
    {
     "data": {
      "text/plain": [
       "(22255063, 17)"
      ]
     },
     "execution_count": 18,
     "metadata": {},
     "output_type": "execute_result"
    }
   ],
   "source": [
    "df_pantent=pd.read_csv('data/source/patent_all_2024_first.tsv',sep='\\t')#'data/source/patent_all_2411.csv\n",
    "df_pantent.shape"
   ]
  },
  {
   "cell_type": "code",
   "execution_count": 15,
   "id": "8eea9269-0d80-4b64-b8d6-9a6f539c7723",
   "metadata": {},
   "outputs": [
    {
     "data": {
      "text/plain": [
       "Index(['标题 (中文)', '申请人', '公开（公告）号', '公开（公告）日', '申请号', '申请日', '专利类型', 'IPC主分类',\n",
       "       '当前权利人', '工商统一社会信用代码', '工商上市代码', '引证专利', '引证申请人', '被引证申请人', '当前法律状态',\n",
       "       '首次公开日', 'table_name'],\n",
       "      dtype='object')"
      ]
     },
     "execution_count": 15,
     "metadata": {},
     "output_type": "execute_result"
    }
   ],
   "source": [
    "df_pantent.columns"
   ]
  },
  {
   "cell_type": "code",
   "execution_count": 16,
   "id": "fca197f9-1155-4cac-918c-22789a5148b0",
   "metadata": {},
   "outputs": [
    {
     "data": {
      "text/plain": [
       "table_name\n",
       "patent_incopat_2016b_202411     6688311\n",
       "patent_incopat_202101_202211    5586621\n",
       "patent_incopat_2020b_202411     5464605\n",
       "patent202210                    1576086\n",
       "patent202404                    1492032\n",
       "patent202410                     688260\n",
       "patent_incopat_202212_202312     586203\n",
       "patent202309                      93815\n",
       "patent202408                      46033\n",
       "patent202407                      33097\n",
       "Name: count, dtype: int64"
      ]
     },
     "execution_count": 16,
     "metadata": {},
     "output_type": "execute_result"
    }
   ],
   "source": [
    "df_pantent.table_name.value_counts()"
   ]
  },
  {
   "cell_type": "code",
   "execution_count": 21,
   "id": "7bde6733-ea88-413a-9f0a-abb7a23f7ef2",
   "metadata": {},
   "outputs": [
    {
     "name": "stdout",
     "output_type": "stream",
     "text": [
      "CPU times: total: 25.6 s\n",
      "Wall time: 26.2 s\n"
     ]
    },
    {
     "data": {
      "text/plain": [
       "np.int64(1234629)"
      ]
     },
     "execution_count": 21,
     "metadata": {},
     "output_type": "execute_result"
    }
   ],
   "source": [
    "%%time\n",
    "companies=set(df.企业全称.dropna().unique())\n",
    "df_pantent['企业全称'] = df_pantent['申请人'].str.split(';').apply(lambda x: [i.strip() for i in x if i.strip() in companies] if isinstance(x, list) else [])\n",
    "mask = (df_pantent['企业全称'].map(len)>0)\n",
    "mask.sum()"
   ]
  },
  {
   "cell_type": "code",
   "execution_count": 23,
   "id": "b824bf36-304e-4804-8312-a0fdf3e361c4",
   "metadata": {
    "scrolled": true
   },
   "outputs": [
    {
     "data": {
      "text/plain": [
       "9879"
      ]
     },
     "execution_count": 23,
     "metadata": {},
     "output_type": "execute_result"
    }
   ],
   "source": [
    "patent_filter=df_pantent[mask].copy()\n",
    "patent_filter.申请日=pd.to_datetime(patent_filter.申请日)\n",
    "patent_filter['公开（公告）日']=pd.to_datetime(patent_filter['公开（公告）日'])\n",
    "patent_filter = patent_filter.sort_values(['申请日','公开（公告）日'])\n",
    "patent_filter['企业全称'].explode().nunique()#.str.strip(';')"
   ]
  },
  {
   "cell_type": "code",
   "execution_count": 42,
   "id": "5ce7b2b7-306f-499a-9712-6c108690252a",
   "metadata": {},
   "outputs": [],
   "source": [
    "#patent_filter['企业全称']=patent_filter['企业全称'].map(';'.join)"
   ]
  },
  {
   "cell_type": "code",
   "execution_count": 50,
   "id": "f97470a6-640c-43ad-9877-6b1967a59efa",
   "metadata": {},
   "outputs": [
    {
     "data": {
      "text/plain": [
       "table_name                    专利类型\n",
       "patent202210                  发明授权     95582\n",
       "                              发明申请    111840\n",
       "                              外观设计     38082\n",
       "                              实用新型    158937\n",
       "patent202309                  发明授权       443\n",
       "                              发明申请       571\n",
       "                              外观设计        32\n",
       "                              实用新型        43\n",
       "patent202404                  发明授权     76189\n",
       "                              发明申请    217605\n",
       "                              外观设计     26458\n",
       "                              实用新型    136173\n",
       "patent202407                  发明授权        89\n",
       "                              发明申请       163\n",
       "                              外观设计        66\n",
       "                              实用新型        84\n",
       "patent202408                  发明授权       364\n",
       "                              发明申请      1026\n",
       "                              外观设计       245\n",
       "                              实用新型       698\n",
       "patent202410                  发明授权      1761\n",
       "                              发明申请      3774\n",
       "                              外观设计      1831\n",
       "                              实用新型      6342\n",
       "patent_incopat_2016b_202411   发明申请     65742\n",
       "patent_incopat_2020b_202411   发明申请     76522\n",
       "patent_incopat_202101_202211  发明授权     12028\n",
       "                              发明申请     80855\n",
       "                              外观设计     17257\n",
       "                              实用新型     74575\n",
       "patent_incopat_202212_202312  发明授权      2387\n",
       "                              发明申请     25588\n",
       "                              外观设计       446\n",
       "                              实用新型       831\n",
       "dtype: int64"
      ]
     },
     "execution_count": 50,
     "metadata": {},
     "output_type": "execute_result"
    }
   ],
   "source": [
    "patent_filter.groupby(['table_name', '专利类型']).size()"
   ]
  },
  {
   "cell_type": "code",
   "execution_count": 24,
   "id": "ad6ec555-afbf-4911-a055-8f03bf0820e9",
   "metadata": {},
   "outputs": [
    {
     "data": {
      "text/plain": [
       "13579"
      ]
     },
     "execution_count": 24,
     "metadata": {},
     "output_type": "execute_result"
    }
   ],
   "source": [
    "len(companies)"
   ]
  },
  {
   "cell_type": "code",
   "execution_count": 26,
   "id": "60ad265b-0ca6-41ef-86b7-819c78a69550",
   "metadata": {},
   "outputs": [
    {
     "data": {
      "text/plain": [
       "(1237447, 18)"
      ]
     },
     "execution_count": 26,
     "metadata": {},
     "output_type": "execute_result"
    }
   ],
   "source": [
    "patent_co=patent_filter.explode('企业全称', ignore_index=True)#.reset_index()\n",
    "patent_co.shape"
   ]
  },
  {
   "cell_type": "code",
   "execution_count": 37,
   "id": "9f37ff57-15d5-437e-b6e2-53f58690bb91",
   "metadata": {},
   "outputs": [
    {
     "name": "stderr",
     "output_type": "stream",
     "text": [
      "100%|████████████████████████████████████████████████████████████████████████████| 21729/21729 [30:18<00:00, 11.95it/s]\n"
     ]
    }
   ],
   "source": [
    "all_results = []\n",
    "for _, row in tqdm(df.iterrows(), total=len(df)):\n",
    "    ent, trade_date = row['企业全称'], row['交易时间']\n",
    "    ent_patents = patent_co[patent_co['企业全称'] == ent]\n",
    "    data = {\n",
    "        'idx':_,\n",
    "        '企业全称': ent,\n",
    "        '交易时间': trade_date\n",
    "    }\n",
    "    for year in range(1, 6):\n",
    "        end_date = trade_date + pd.DateOffset(years=year)\n",
    "        #delta = int((grant_date - trade_date).days / 365.25)\n",
    "        filtered = ent_patents[(ent_patents['申请日'] > trade_date) & (ent_patents['申请日'] <= end_date)]\n",
    "        if filtered.empty:\n",
    "            continue\n",
    "        counts = filtered.groupby('专利类型')['申请号'].count().to_dict()\n",
    "        for ptype, count in counts.items():\n",
    "            col = f'{ptype}_专利数_交易后_{year}年'\n",
    "            data[col] = count\n",
    "\n",
    "    all_results.append(data)\n",
    "\n",
    "    # df.loc[_,data.keys]=pd.Series( data)"
   ]
  },
  {
   "cell_type": "code",
   "execution_count": 36,
   "id": "106b7ad9-e9b2-4e81-86d4-45dc6c37c54b",
   "metadata": {},
   "outputs": [
    {
     "data": {
      "text/plain": [
       "专利类型\n",
       "发明申请    2\n",
       "Name: 申请号, dtype: int64"
      ]
     },
     "execution_count": 36,
     "metadata": {},
     "output_type": "execute_result"
    }
   ],
   "source": [
    "filtered.groupby('专利类型')['申请号'].count()"
   ]
  },
  {
   "cell_type": "code",
   "execution_count": 38,
   "id": "42cc59c5-3d2d-47b9-b555-76e4ff694064",
   "metadata": {},
   "outputs": [
    {
     "data": {
      "text/plain": [
       "(21729, 22)"
      ]
     },
     "execution_count": 38,
     "metadata": {},
     "output_type": "execute_result"
    }
   ],
   "source": [
    "result_df = pd.DataFrame(all_results).set_index('idx')\n",
    "# df.update(result_df)\n",
    "result_df.to_excel('data/invest_patent_all_3_merge_vc_result.xlsx')\n",
    "result_df.shape"
   ]
  },
  {
   "cell_type": "code",
   "execution_count": 40,
   "id": "af825a83-8481-49e7-8d93-eb51d5019a3a",
   "metadata": {},
   "outputs": [],
   "source": [
    "df = df.merge(pd.DataFrame(all_results), left_index=True, right_on='idx', how='left')# on=['企业全称', '交易时间']"
   ]
  },
  {
   "cell_type": "code",
   "execution_count": 41,
   "id": "ffec04fd-866c-4e24-9b64-1b97422b4b37",
   "metadata": {},
   "outputs": [],
   "source": [
    "df.to_csv('data/invest_patent_all_3_merge_vc_2505.csv')"
   ]
  },
  {
   "cell_type": "code",
   "execution_count": null,
   "id": "167ae2b2-77c7-482a-ad3d-4518cb0dff01",
   "metadata": {},
   "outputs": [],
   "source": [
    "expanded = pd.concat([\n",
    "    df.assign(\n",
    "        years=n,\n",
    "        start_date=df['交易时间'],\n",
    "        end_date=df['交易时间'] + pd.DateOffset(years=n)\n",
    "    )\n",
    "    for n in range(1, 6)\n",
    "])\n",
    "\n",
    "results = []\n",
    "for _, row in expanded.iterrows():\n",
    "    subset = patent_co[\n",
    "        (patent_co['企业全称'] == row['企业全称']) &\n",
    "        (patent_co['申请日'] > row['start_date']) &\n",
    "        (patent_co['申请日'] <= row['end_date'])\n",
    "    ]\n",
    "    counts = subset['专利类型'].value_counts().to_dict()\n",
    "    record = {'企业全称': row['企业全称'],'交易时间': row['交易时间'],'years': row['years']}\n",
    "    for ptype, count in counts.items():\n",
    "        record[f'{ptype}_{row[\"years\"]}y'] = count\n",
    "    results.append(record)\n",
    "\n",
    "\n",
    "result_df = pd.DataFrame(results)\n",
    "final = result_df.groupby(['企业全称', '交易时间']).first().reset_index()\n",
    "# final = final.fillna(0)\n",
    "# for col in final.columns:\n",
    "#     if '_y' in col:\n",
    "#         final[col] = final[col].astype(int)"
   ]
  },
  {
   "cell_type": "markdown",
   "id": "6891d624-de3a-4e38-b067-ab8aeda4d81f",
   "metadata": {},
   "source": [
    "匹配一下 我们之前做初创公司的这些专利信息并导出"
   ]
  },
  {
   "cell_type": "code",
   "execution_count": 2,
   "id": "04b4cadd-0f18-4211-b560-9c2af83f5559",
   "metadata": {},
   "outputs": [],
   "source": [
    "df=pd.read_excel('data\\\\invest_all_2506.xlsx')"
   ]
  },
  {
   "cell_type": "code",
   "execution_count": 4,
   "id": "dc4f5dae-c279-4571-a380-f2ca480cab7f",
   "metadata": {},
   "outputs": [
    {
     "name": "stdout",
     "output_type": "stream",
     "text": [
      "<class 'pandas.core.frame.DataFrame'>\n",
      "RangeIndex: 155309 entries, 0 to 155308\n",
      "Data columns (total 57 columns):\n",
      " #   Column      Non-Null Count   Dtype  \n",
      "---  ------      --------------   -----  \n",
      " 0   Unnamed: 0  155309 non-null  int64  \n",
      " 1   企业简称        155216 non-null  object \n",
      " 2   企业全称        155309 non-null  object \n",
      " 3   业务描述        124343 non-null  object \n",
      " 4   所在行业        155306 non-null  object \n",
      " 5   所在地         151979 non-null  object \n",
      " 6   企业简介        155214 non-null  object \n",
      " 7   详细地址        131135 non-null  object \n",
      " 8   联系电话        127775 non-null  object \n",
      " 9   企业网址        69271 non-null   object \n",
      " 10  邮箱          116135 non-null  object \n",
      " 11  成立时间        142664 non-null  object \n",
      " 12  统一信用代码      139372 non-null  object \n",
      " 13  法人代表        130608 non-null  object \n",
      " 14  注册资本        130603 non-null  object \n",
      " 15  经营状态        130609 non-null  object \n",
      " 16  经营范围        130408 non-null  object \n",
      " 17  注册地址        139709 non-null  object \n",
      " 18  上市状态        155309 non-null  object \n",
      " 19  股票代码        14870 non-null   object \n",
      " 20  交易所         14870 non-null   object \n",
      " 21  交易轮次        155309 non-null  object \n",
      " 22  交易金额        155305 non-null  object \n",
      " 23  单位          86548 non-null   object \n",
      " 24  交易股权        23790 non-null   object \n",
      " 25  投后估值        17948 non-null   float64\n",
      " 26  单位.1        17948 non-null   object \n",
      " 27  交易时间        155309 non-null  object \n",
      " 28  交易状态        155309 non-null  object \n",
      " 29  本次交易股份数量    6035 non-null    float64\n",
      " 30  每股价格        6052 non-null    float64\n",
      " 31  单位.2        6052 non-null    object \n",
      " 32  交易类型        155263 non-null  object \n",
      " 33  交易方式        134212 non-null  object \n",
      " 34  支付方式        155263 non-null  object \n",
      " 35  是否关联交易      134096 non-null  object \n",
      " 36  重大资产重组      155263 non-null  object \n",
      " 37  是否跨境交易      155309 non-null  object \n",
      " 38  投资方名称       141990 non-null  object \n",
      " 39  投资方基金名称     95179 non-null   object \n",
      " 40  投资机构类型      141948 non-null  object \n",
      " 41  交易地区类型      138849 non-null  object \n",
      " 42  投资金额        141993 non-null  object \n",
      " 43  单位.3        101486 non-null  object \n",
      " 44  本次交易股权比例    79517 non-null   object \n",
      " 45  投资方上市状态     141779 non-null  object \n",
      " 46  投资方股票代码     71471 non-null   object \n",
      " 47  投资方交易所      71471 non-null   object \n",
      " 48  退出方名称       7434 non-null    object \n",
      " 49  退出方基金名称     3387 non-null    object \n",
      " 50  退出机构类型      7437 non-null    object \n",
      " 51  退出方式        7228 non-null    object \n",
      " 52  退出方上市状态     7424 non-null    object \n",
      " 53  退出方股票代码     1943 non-null    object \n",
      " 54  退出方交易所      1943 non-null    object \n",
      " 55  中介名称        12444 non-null   object \n",
      " 56  中介类型        12444 non-null   object \n",
      "dtypes: float64(3), int64(1), object(53)\n",
      "memory usage: 67.5+ MB\n"
     ]
    }
   ],
   "source": [
    "df.info()"
   ]
  },
  {
   "cell_type": "code",
   "execution_count": 6,
   "id": "26b2f432-fc39-4eb2-b99e-b00b17b15421",
   "metadata": {},
   "outputs": [
    {
     "data": {
      "text/plain": [
       "'2024-05-21'"
      ]
     },
     "execution_count": 6,
     "metadata": {},
     "output_type": "execute_result"
    }
   ],
   "source": [
    "df.交易时间.max()"
   ]
  },
  {
   "cell_type": "code",
   "execution_count": 7,
   "id": "a245c499-e621-475b-906a-65728fa41cd4",
   "metadata": {},
   "outputs": [
    {
     "data": {
      "text/plain": [
       "(155309, 57)"
      ]
     },
     "execution_count": 7,
     "metadata": {},
     "output_type": "execute_result"
    }
   ],
   "source": [
    "df.shape"
   ]
  },
  {
   "cell_type": "code",
   "execution_count": 8,
   "id": "a6ed405d-ebd7-43d9-b3d8-4a2f8240d4f4",
   "metadata": {},
   "outputs": [
    {
     "data": {
      "text/html": [
       "<div>\n",
       "<style scoped>\n",
       "    .dataframe tbody tr th:only-of-type {\n",
       "        vertical-align: middle;\n",
       "    }\n",
       "\n",
       "    .dataframe tbody tr th {\n",
       "        vertical-align: top;\n",
       "    }\n",
       "\n",
       "    .dataframe thead th {\n",
       "        text-align: right;\n",
       "    }\n",
       "</style>\n",
       "<table border=\"1\" class=\"dataframe\">\n",
       "  <thead>\n",
       "    <tr style=\"text-align: right;\">\n",
       "      <th></th>\n",
       "      <th>Unnamed: 0</th>\n",
       "      <th>企业简称</th>\n",
       "      <th>企业全称</th>\n",
       "      <th>业务描述</th>\n",
       "      <th>所在行业</th>\n",
       "      <th>所在地</th>\n",
       "      <th>企业简介</th>\n",
       "      <th>详细地址</th>\n",
       "      <th>联系电话</th>\n",
       "      <th>企业网址</th>\n",
       "      <th>...</th>\n",
       "      <th>投资方交易所</th>\n",
       "      <th>退出方名称</th>\n",
       "      <th>退出方基金名称</th>\n",
       "      <th>退出机构类型</th>\n",
       "      <th>退出方式</th>\n",
       "      <th>退出方上市状态</th>\n",
       "      <th>退出方股票代码</th>\n",
       "      <th>退出方交易所</th>\n",
       "      <th>中介名称</th>\n",
       "      <th>中介类型</th>\n",
       "    </tr>\n",
       "  </thead>\n",
       "  <tbody>\n",
       "    <tr>\n",
       "      <th>0</th>\n",
       "      <td>0</td>\n",
       "      <td>小牛顿教育</td>\n",
       "      <td>北京小牛顿科学启蒙教育科技有限公司</td>\n",
       "      <td>儿童科学启蒙教育平台</td>\n",
       "      <td>教育培训-K12</td>\n",
       "      <td>北京市-海淀区</td>\n",
       "      <td>北京小牛顿科学启蒙教育科技有限公司，成立于2003年，是一家专注于幼少儿科学启蒙教育的企业，...</td>\n",
       "      <td>北京市海淀区中关村大街甲59号文化大厦16层1606室</td>\n",
       "      <td>010-64452203</td>\n",
       "      <td>http://www.xnd.cn</td>\n",
       "      <td>...</td>\n",
       "      <td>NaN</td>\n",
       "      <td>NaN</td>\n",
       "      <td>NaN</td>\n",
       "      <td>NaN</td>\n",
       "      <td>NaN</td>\n",
       "      <td>NaN</td>\n",
       "      <td>NaN</td>\n",
       "      <td>NaN</td>\n",
       "      <td>NaN</td>\n",
       "      <td>NaN</td>\n",
       "    </tr>\n",
       "    <tr>\n",
       "      <th>1</th>\n",
       "      <td>1</td>\n",
       "      <td>极智嘉</td>\n",
       "      <td>北京极智嘉科技股份有限公司</td>\n",
       "      <td>物流机器人研发商</td>\n",
       "      <td>先进制造-机器人</td>\n",
       "      <td>北京市-朝阳区</td>\n",
       "      <td>北京极智嘉科技股份有限公司（曾用名：北京极智嘉科技有限公司）成立于2015年，旗下Geek+...</td>\n",
       "      <td>北京市朝阳区创远路36号院1号楼1层101室 \\r\\n北京市朝阳区北苑路30号北京文化创意大...</td>\n",
       "      <td>010-84824981 \\r\\n +86 4000 450 010</td>\n",
       "      <td>http://www.geekplus.com.cn</td>\n",
       "      <td>...</td>\n",
       "      <td>\\r\\n \\r\\n</td>\n",
       "      <td>NaN</td>\n",
       "      <td>NaN</td>\n",
       "      <td>NaN</td>\n",
       "      <td>NaN</td>\n",
       "      <td>NaN</td>\n",
       "      <td>NaN</td>\n",
       "      <td>NaN</td>\n",
       "      <td>NaN</td>\n",
       "      <td>NaN</td>\n",
       "    </tr>\n",
       "    <tr>\n",
       "      <th>2</th>\n",
       "      <td>2</td>\n",
       "      <td>你好植物</td>\n",
       "      <td>成都你好植物科技有限公司</td>\n",
       "      <td>NaN</td>\n",
       "      <td>消费-餐饮</td>\n",
       "      <td>四川省-成都市</td>\n",
       "      <td>成都你好植物科技有限公司成立于2013年4月8日，是一家由十年以上快消品行业经验的年青团队创...</td>\n",
       "      <td>成都市高新区西区大道99号伯雅科技园</td>\n",
       "      <td>028-67707575</td>\n",
       "      <td>www.nihaozhiwu.com</td>\n",
       "      <td>...</td>\n",
       "      <td>\\r\\n</td>\n",
       "      <td>NaN</td>\n",
       "      <td>NaN</td>\n",
       "      <td>NaN</td>\n",
       "      <td>NaN</td>\n",
       "      <td>NaN</td>\n",
       "      <td>NaN</td>\n",
       "      <td>NaN</td>\n",
       "      <td>NaN</td>\n",
       "      <td>NaN</td>\n",
       "    </tr>\n",
       "    <tr>\n",
       "      <th>3</th>\n",
       "      <td>3</td>\n",
       "      <td>Silot</td>\n",
       "      <td>Silot</td>\n",
       "      <td>NaN</td>\n",
       "      <td>金融-科技金融</td>\n",
       "      <td>新加坡</td>\n",
       "      <td>Silot是一家以“连接”为主要特征的创业公司。Silot定位为消费金融领域的Amedeus...</td>\n",
       "      <td>NaN</td>\n",
       "      <td>NaN</td>\n",
       "      <td>https://www.silots.com/</td>\n",
       "      <td>...</td>\n",
       "      <td>NaN</td>\n",
       "      <td>NaN</td>\n",
       "      <td>NaN</td>\n",
       "      <td>NaN</td>\n",
       "      <td>NaN</td>\n",
       "      <td>NaN</td>\n",
       "      <td>NaN</td>\n",
       "      <td>NaN</td>\n",
       "      <td>NaN</td>\n",
       "      <td>NaN</td>\n",
       "    </tr>\n",
       "    <tr>\n",
       "      <th>4</th>\n",
       "      <td>4</td>\n",
       "      <td>华宿电气</td>\n",
       "      <td>上海华宿电气股份有限公司</td>\n",
       "      <td>电气防火产品研发商</td>\n",
       "      <td>传统制造-机械设备</td>\n",
       "      <td>上海市-浦东新区</td>\n",
       "      <td>上海华宿电气股份有限公司成立于2008年3月24日，是一家专业从事电力及电气安全产品研发、生...</td>\n",
       "      <td>上海市张江高科技园区达尔文路88号6号楼1楼 \\r\\n中国（上海）自由贸易试验区盛荣路88弄...</td>\n",
       "      <td>+86-21-51330568 \\r\\n021-50663362</td>\n",
       "      <td>www.huasu.net</td>\n",
       "      <td>...</td>\n",
       "      <td>NaN</td>\n",
       "      <td>NaN</td>\n",
       "      <td>NaN</td>\n",
       "      <td>NaN</td>\n",
       "      <td>NaN</td>\n",
       "      <td>NaN</td>\n",
       "      <td>NaN</td>\n",
       "      <td>NaN</td>\n",
       "      <td>NaN</td>\n",
       "      <td>NaN</td>\n",
       "    </tr>\n",
       "  </tbody>\n",
       "</table>\n",
       "<p>5 rows × 57 columns</p>\n",
       "</div>"
      ],
      "text/plain": [
       "   Unnamed: 0   企业简称               企业全称        业务描述       所在行业       所在地  \\\n",
       "0           0  小牛顿教育  北京小牛顿科学启蒙教育科技有限公司  儿童科学启蒙教育平台   教育培训-K12   北京市-海淀区   \n",
       "1           1    极智嘉      北京极智嘉科技股份有限公司    物流机器人研发商   先进制造-机器人   北京市-朝阳区   \n",
       "2           2   你好植物       成都你好植物科技有限公司         NaN      消费-餐饮   四川省-成都市   \n",
       "3           3  Silot              Silot         NaN    金融-科技金融       新加坡   \n",
       "4           4   华宿电气       上海华宿电气股份有限公司   电气防火产品研发商  传统制造-机械设备  上海市-浦东新区   \n",
       "\n",
       "                                                企业简介  \\\n",
       "0  北京小牛顿科学启蒙教育科技有限公司，成立于2003年，是一家专注于幼少儿科学启蒙教育的企业，...   \n",
       "1  北京极智嘉科技股份有限公司（曾用名：北京极智嘉科技有限公司）成立于2015年，旗下Geek+...   \n",
       "2  成都你好植物科技有限公司成立于2013年4月8日，是一家由十年以上快消品行业经验的年青团队创...   \n",
       "3  Silot是一家以“连接”为主要特征的创业公司。Silot定位为消费金融领域的Amedeus...   \n",
       "4  上海华宿电气股份有限公司成立于2008年3月24日，是一家专业从事电力及电气安全产品研发、生...   \n",
       "\n",
       "                                                详细地址  \\\n",
       "0                        北京市海淀区中关村大街甲59号文化大厦16层1606室   \n",
       "1  北京市朝阳区创远路36号院1号楼1层101室 \\r\\n北京市朝阳区北苑路30号北京文化创意大...   \n",
       "2                                 成都市高新区西区大道99号伯雅科技园   \n",
       "3                                                NaN   \n",
       "4  上海市张江高科技园区达尔文路88号6号楼1楼 \\r\\n中国（上海）自由贸易试验区盛荣路88弄...   \n",
       "\n",
       "                                 联系电话                        企业网址  ...  \\\n",
       "0                        010-64452203           http://www.xnd.cn  ...   \n",
       "1  010-84824981 \\r\\n +86 4000 450 010  http://www.geekplus.com.cn  ...   \n",
       "2                        028-67707575          www.nihaozhiwu.com  ...   \n",
       "3                                 NaN     https://www.silots.com/  ...   \n",
       "4    +86-21-51330568 \\r\\n021-50663362               www.huasu.net  ...   \n",
       "\n",
       "       投资方交易所 退出方名称 退出方基金名称 退出机构类型 退出方式 退出方上市状态 退出方股票代码 退出方交易所 中介名称 中介类型  \n",
       "0         NaN   NaN     NaN    NaN  NaN     NaN     NaN    NaN  NaN  NaN  \n",
       "1   \\r\\n \\r\\n   NaN     NaN    NaN  NaN     NaN     NaN    NaN  NaN  NaN  \n",
       "2        \\r\\n   NaN     NaN    NaN  NaN     NaN     NaN    NaN  NaN  NaN  \n",
       "3         NaN   NaN     NaN    NaN  NaN     NaN     NaN    NaN  NaN  NaN  \n",
       "4         NaN   NaN     NaN    NaN  NaN     NaN     NaN    NaN  NaN  NaN  \n",
       "\n",
       "[5 rows x 57 columns]"
      ]
     },
     "execution_count": 8,
     "metadata": {},
     "output_type": "execute_result"
    }
   ],
   "source": [
    "df.head()"
   ]
  },
  {
   "cell_type": "code",
   "execution_count": 13,
   "id": "2ab8e559-67ef-4bea-9763-ea50100de00d",
   "metadata": {},
   "outputs": [
    {
     "data": {
      "text/plain": [
       "83793"
      ]
     },
     "execution_count": 13,
     "metadata": {},
     "output_type": "execute_result"
    }
   ],
   "source": [
    "companies=set(df.企业全称.dropna().unique())\n",
    "len(companies)"
   ]
  },
  {
   "cell_type": "code",
   "execution_count": 11,
   "id": "c3899752-6d82-4d5f-9f53-c8d5e05e6f4a",
   "metadata": {},
   "outputs": [
    {
     "data": {
      "text/html": [
       "<div>\n",
       "<style scoped>\n",
       "    .dataframe tbody tr th:only-of-type {\n",
       "        vertical-align: middle;\n",
       "    }\n",
       "\n",
       "    .dataframe tbody tr th {\n",
       "        vertical-align: top;\n",
       "    }\n",
       "\n",
       "    .dataframe thead th {\n",
       "        text-align: right;\n",
       "    }\n",
       "</style>\n",
       "<table border=\"1\" class=\"dataframe\">\n",
       "  <thead>\n",
       "    <tr style=\"text-align: right;\">\n",
       "      <th></th>\n",
       "      <th>序号</th>\n",
       "      <th>标题 (中文)</th>\n",
       "      <th>标题 (英文)</th>\n",
       "      <th>摘要 (中文)</th>\n",
       "      <th>摘要 (英文)</th>\n",
       "      <th>申请人</th>\n",
       "      <th>公开（公告）号</th>\n",
       "      <th>公开（公告）日</th>\n",
       "      <th>申请号</th>\n",
       "      <th>申请日</th>\n",
       "      <th>...</th>\n",
       "      <th>DWPI同族专利</th>\n",
       "      <th>DWPI同族国家/地区</th>\n",
       "      <th>DWPI同族ID</th>\n",
       "      <th>DWPI专利权人/申请人</th>\n",
       "      <th>DWPI发明人</th>\n",
       "      <th>DWPI优先权国别-最早</th>\n",
       "      <th>DWPI优先权号</th>\n",
       "      <th>DWPI优先权国别</th>\n",
       "      <th>table_name</th>\n",
       "      <th>invest_申请人</th>\n",
       "    </tr>\n",
       "  </thead>\n",
       "  <tbody>\n",
       "    <tr>\n",
       "      <th>0</th>\n",
       "      <td>107</td>\n",
       "      <td>高炉中心加焦装置</td>\n",
       "      <td>Device for adding coke at center of blast furnace</td>\n",
       "      <td>本实用新型公开了一种能实现向高炉中心加焦 的新装置，通过安装在炉顶受料漏斗内的翻板可以顺 利...</td>\n",
       "      <td>The utility model discloses a device for addin...</td>\n",
       "      <td>华东冶金学院; 马鞍山钢铁股份有限公司</td>\n",
       "      <td>CN2170307Y</td>\n",
       "      <td>1994-06-29</td>\n",
       "      <td>CN93237739.4</td>\n",
       "      <td>1993-10-11</td>\n",
       "      <td>...</td>\n",
       "      <td>NaN</td>\n",
       "      <td>NaN</td>\n",
       "      <td>NaN</td>\n",
       "      <td>NaN</td>\n",
       "      <td>NaN</td>\n",
       "      <td>NaN</td>\n",
       "      <td>NaN</td>\n",
       "      <td>NaN</td>\n",
       "      <td>patent202210</td>\n",
       "      <td>马鞍山钢铁股份有限公司</td>\n",
       "    </tr>\n",
       "    <tr>\n",
       "      <th>1</th>\n",
       "      <td>119</td>\n",
       "      <td>炼钢炉坑复合轨道板</td>\n",
       "      <td>Complex track plate for steel-smelting furnace...</td>\n",
       "      <td>本实用新型涉及一种炼钢炉炉坑轨道板，用作钢 包车、渣车运行的轨道。其特征在于：采用钢板制作 ...</td>\n",
       "      <td>The utility model relates to a complex track p...</td>\n",
       "      <td>马鞍山钢铁股份有限公司</td>\n",
       "      <td>CN2204409Y</td>\n",
       "      <td>1995-08-02</td>\n",
       "      <td>CN94226705.2</td>\n",
       "      <td>1994-01-27</td>\n",
       "      <td>...</td>\n",
       "      <td>NaN</td>\n",
       "      <td>NaN</td>\n",
       "      <td>NaN</td>\n",
       "      <td>NaN</td>\n",
       "      <td>NaN</td>\n",
       "      <td>NaN</td>\n",
       "      <td>NaN</td>\n",
       "      <td>NaN</td>\n",
       "      <td>patent202210</td>\n",
       "      <td>马鞍山钢铁股份有限公司</td>\n",
       "    </tr>\n",
       "    <tr>\n",
       "      <th>2</th>\n",
       "      <td>124</td>\n",
       "      <td>无级调整液压捣炉扎眼机</td>\n",
       "      <td>Stepless regulating hydraulic furnace-ramming ...</td>\n",
       "      <td>本实用新型涉及一种矿热炉专用机械设备。主 要由扎进翻料、转盘、行车、固定等机构以及无级调整 ...</td>\n",
       "      <td>The utility model relates to a mechanical equi...</td>\n",
       "      <td>马鞍山钢铁股份有限公司</td>\n",
       "      <td>CN2189729Y</td>\n",
       "      <td>1995-02-15</td>\n",
       "      <td>CN94226882.2</td>\n",
       "      <td>1994-03-04</td>\n",
       "      <td>...</td>\n",
       "      <td>NaN</td>\n",
       "      <td>NaN</td>\n",
       "      <td>NaN</td>\n",
       "      <td>NaN</td>\n",
       "      <td>NaN</td>\n",
       "      <td>NaN</td>\n",
       "      <td>NaN</td>\n",
       "      <td>NaN</td>\n",
       "      <td>patent202210</td>\n",
       "      <td>马鞍山钢铁股份有限公司</td>\n",
       "    </tr>\n",
       "    <tr>\n",
       "      <th>3</th>\n",
       "      <td>131</td>\n",
       "      <td>具有抗静电性的轻垢液体洗衣洗涤剂</td>\n",
       "      <td>Liquid detergent with anti-static light scale ...</td>\n",
       "      <td>本发明提供一种透明或半透明的具有抗静电性 的轻垢液体洗衣洗涤剂，包括(以重量计)5—20％合...</td>\n",
       "      <td>The patent refers to the field of 'detergent c...</td>\n",
       "      <td>山东金泰集团股份有限公司</td>\n",
       "      <td>CN1094440A</td>\n",
       "      <td>1994-11-02</td>\n",
       "      <td>CN94110539.3</td>\n",
       "      <td>1994-04-14</td>\n",
       "      <td>...</td>\n",
       "      <td>NaN</td>\n",
       "      <td>NaN</td>\n",
       "      <td>NaN</td>\n",
       "      <td>NaN</td>\n",
       "      <td>NaN</td>\n",
       "      <td>NaN</td>\n",
       "      <td>NaN</td>\n",
       "      <td>NaN</td>\n",
       "      <td>patent202210</td>\n",
       "      <td>山东金泰集团股份有限公司</td>\n",
       "    </tr>\n",
       "    <tr>\n",
       "      <th>4</th>\n",
       "      <td>140</td>\n",
       "      <td>混铁炉柔性燃气供气装置</td>\n",
       "      <td>Flexible gas supply device for blast furnace m...</td>\n",
       "      <td>混铁炉柔性燃气供气装置属于炼钢技术领域。 它解决了原混铁炉燃气供气装置中的球形回转式弯 管部...</td>\n",
       "      <td>The utility model relates to a flexible gas su...</td>\n",
       "      <td>马鞍山钢铁股份有限公司</td>\n",
       "      <td>CN2192627Y</td>\n",
       "      <td>1995-03-22</td>\n",
       "      <td>CN94210226.6</td>\n",
       "      <td>1994-04-29</td>\n",
       "      <td>...</td>\n",
       "      <td>NaN</td>\n",
       "      <td>NaN</td>\n",
       "      <td>NaN</td>\n",
       "      <td>NaN</td>\n",
       "      <td>NaN</td>\n",
       "      <td>NaN</td>\n",
       "      <td>NaN</td>\n",
       "      <td>NaN</td>\n",
       "      <td>patent202210</td>\n",
       "      <td>马鞍山钢铁股份有限公司</td>\n",
       "    </tr>\n",
       "  </tbody>\n",
       "</table>\n",
       "<p>5 rows × 216 columns</p>\n",
       "</div>"
      ],
      "text/plain": [
       "    序号           标题 (中文)                                            标题 (英文)  \\\n",
       "0  107          高炉中心加焦装置  Device for adding coke at center of blast furnace   \n",
       "1  119         炼钢炉坑复合轨道板  Complex track plate for steel-smelting furnace...   \n",
       "2  124       无级调整液压捣炉扎眼机  Stepless regulating hydraulic furnace-ramming ...   \n",
       "3  131  具有抗静电性的轻垢液体洗衣洗涤剂  Liquid detergent with anti-static light scale ...   \n",
       "4  140       混铁炉柔性燃气供气装置  Flexible gas supply device for blast furnace m...   \n",
       "\n",
       "                                             摘要 (中文)  \\\n",
       "0  本实用新型公开了一种能实现向高炉中心加焦 的新装置，通过安装在炉顶受料漏斗内的翻板可以顺 利...   \n",
       "1  本实用新型涉及一种炼钢炉炉坑轨道板，用作钢 包车、渣车运行的轨道。其特征在于：采用钢板制作 ...   \n",
       "2  本实用新型涉及一种矿热炉专用机械设备。主 要由扎进翻料、转盘、行车、固定等机构以及无级调整 ...   \n",
       "3  本发明提供一种透明或半透明的具有抗静电性 的轻垢液体洗衣洗涤剂，包括(以重量计)5—20％合...   \n",
       "4  混铁炉柔性燃气供气装置属于炼钢技术领域。 它解决了原混铁炉燃气供气装置中的球形回转式弯 管部...   \n",
       "\n",
       "                                             摘要 (英文)                  申请人  \\\n",
       "0  The utility model discloses a device for addin...  华东冶金学院; 马鞍山钢铁股份有限公司   \n",
       "1  The utility model relates to a complex track p...          马鞍山钢铁股份有限公司   \n",
       "2  The utility model relates to a mechanical equi...          马鞍山钢铁股份有限公司   \n",
       "3  The patent refers to the field of 'detergent c...         山东金泰集团股份有限公司   \n",
       "4  The utility model relates to a flexible gas su...          马鞍山钢铁股份有限公司   \n",
       "\n",
       "      公开（公告）号     公开（公告）日           申请号         申请日  ... DWPI同族专利 DWPI同族国家/地区  \\\n",
       "0  CN2170307Y  1994-06-29  CN93237739.4  1993-10-11  ...      NaN         NaN   \n",
       "1  CN2204409Y  1995-08-02  CN94226705.2  1994-01-27  ...      NaN         NaN   \n",
       "2  CN2189729Y  1995-02-15  CN94226882.2  1994-03-04  ...      NaN         NaN   \n",
       "3  CN1094440A  1994-11-02  CN94110539.3  1994-04-14  ...      NaN         NaN   \n",
       "4  CN2192627Y  1995-03-22  CN94210226.6  1994-04-29  ...      NaN         NaN   \n",
       "\n",
       "  DWPI同族ID DWPI专利权人/申请人  DWPI发明人  DWPI优先权国别-最早 DWPI优先权号 DWPI优先权国别  \\\n",
       "0      NaN          NaN      NaN           NaN      NaN       NaN   \n",
       "1      NaN          NaN      NaN           NaN      NaN       NaN   \n",
       "2      NaN          NaN      NaN           NaN      NaN       NaN   \n",
       "3      NaN          NaN      NaN           NaN      NaN       NaN   \n",
       "4      NaN          NaN      NaN           NaN      NaN       NaN   \n",
       "\n",
       "     table_name    invest_申请人  \n",
       "0  patent202210   马鞍山钢铁股份有限公司  \n",
       "1  patent202210   马鞍山钢铁股份有限公司  \n",
       "2  patent202210   马鞍山钢铁股份有限公司  \n",
       "3  patent202210  山东金泰集团股份有限公司  \n",
       "4  patent202210   马鞍山钢铁股份有限公司  \n",
       "\n",
       "[5 rows x 216 columns]"
      ]
     },
     "execution_count": 11,
     "metadata": {},
     "output_type": "execute_result"
    }
   ],
   "source": [
    "patent_all_invest=pd.read_csv('data/patent_all_invest_2024.tsv',sep='\\t',nrows=5)\n",
    "patent_all_invest"
   ]
  },
  {
   "cell_type": "code",
   "execution_count": 12,
   "id": "93b730be-88d9-448d-b097-81d9e024cfa8",
   "metadata": {},
   "outputs": [
    {
     "data": {
      "text/plain": [
       "Index(['序号', '标题 (中文)', '标题 (英文)', '摘要 (中文)', '摘要 (英文)', '申请人', '公开（公告）号',\n",
       "       '公开（公告）日', '申请号', '申请日',\n",
       "       ...\n",
       "       'DWPI同族专利', 'DWPI同族国家/地区', 'DWPI同族ID', 'DWPI专利权人/申请人', 'DWPI发明人',\n",
       "       'DWPI优先权国别-最早', 'DWPI优先权号', 'DWPI优先权国别', 'table_name', 'invest_申请人'],\n",
       "      dtype='object', length=216)"
      ]
     },
     "execution_count": 12,
     "metadata": {},
     "output_type": "execute_result"
    }
   ],
   "source": [
    "patent_all_invest.columns"
   ]
  },
  {
   "cell_type": "code",
   "execution_count": 15,
   "id": "dcb97f25-a29f-48ef-928e-daf40d6eee1e",
   "metadata": {
    "scrolled": true
   },
   "outputs": [
    {
     "data": {
      "text/html": [
       "<div>\n",
       "<style scoped>\n",
       "    .dataframe tbody tr th:only-of-type {\n",
       "        vertical-align: middle;\n",
       "    }\n",
       "\n",
       "    .dataframe tbody tr th {\n",
       "        vertical-align: top;\n",
       "    }\n",
       "\n",
       "    .dataframe thead th {\n",
       "        text-align: right;\n",
       "    }\n",
       "</style>\n",
       "<table border=\"1\" class=\"dataframe\">\n",
       "  <thead>\n",
       "    <tr style=\"text-align: right;\">\n",
       "      <th></th>\n",
       "      <th>申请人</th>\n",
       "      <th>公开（公告）号</th>\n",
       "      <th>公开（公告）日</th>\n",
       "      <th>申请号</th>\n",
       "      <th>申请日</th>\n",
       "      <th>table_name</th>\n",
       "      <th>invest_申请人</th>\n",
       "    </tr>\n",
       "  </thead>\n",
       "  <tbody>\n",
       "    <tr>\n",
       "      <th>0</th>\n",
       "      <td>华东冶金学院; 马鞍山钢铁股份有限公司</td>\n",
       "      <td>CN2170307Y</td>\n",
       "      <td>1994-06-29</td>\n",
       "      <td>CN93237739.4</td>\n",
       "      <td>1993-10-11</td>\n",
       "      <td>patent202210</td>\n",
       "      <td>马鞍山钢铁股份有限公司</td>\n",
       "    </tr>\n",
       "    <tr>\n",
       "      <th>1</th>\n",
       "      <td>马鞍山钢铁股份有限公司</td>\n",
       "      <td>CN2204409Y</td>\n",
       "      <td>1995-08-02</td>\n",
       "      <td>CN94226705.2</td>\n",
       "      <td>1994-01-27</td>\n",
       "      <td>patent202210</td>\n",
       "      <td>马鞍山钢铁股份有限公司</td>\n",
       "    </tr>\n",
       "    <tr>\n",
       "      <th>2</th>\n",
       "      <td>马鞍山钢铁股份有限公司</td>\n",
       "      <td>CN2189729Y</td>\n",
       "      <td>1995-02-15</td>\n",
       "      <td>CN94226882.2</td>\n",
       "      <td>1994-03-04</td>\n",
       "      <td>patent202210</td>\n",
       "      <td>马鞍山钢铁股份有限公司</td>\n",
       "    </tr>\n",
       "    <tr>\n",
       "      <th>3</th>\n",
       "      <td>山东金泰集团股份有限公司</td>\n",
       "      <td>CN1094440A</td>\n",
       "      <td>1994-11-02</td>\n",
       "      <td>CN94110539.3</td>\n",
       "      <td>1994-04-14</td>\n",
       "      <td>patent202210</td>\n",
       "      <td>山东金泰集团股份有限公司</td>\n",
       "    </tr>\n",
       "    <tr>\n",
       "      <th>4</th>\n",
       "      <td>马鞍山钢铁股份有限公司</td>\n",
       "      <td>CN2192627Y</td>\n",
       "      <td>1995-03-22</td>\n",
       "      <td>CN94210226.6</td>\n",
       "      <td>1994-04-29</td>\n",
       "      <td>patent202210</td>\n",
       "      <td>马鞍山钢铁股份有限公司</td>\n",
       "    </tr>\n",
       "    <tr>\n",
       "      <th>...</th>\n",
       "      <td>...</td>\n",
       "      <td>...</td>\n",
       "      <td>...</td>\n",
       "      <td>...</td>\n",
       "      <td>...</td>\n",
       "      <td>...</td>\n",
       "      <td>...</td>\n",
       "    </tr>\n",
       "    <tr>\n",
       "      <th>2447662</th>\n",
       "      <td>深圳市智绘科技有限公司</td>\n",
       "      <td>CN308444862S</td>\n",
       "      <td>2024-01-30</td>\n",
       "      <td>CN202330846916.9</td>\n",
       "      <td>2023-12-22</td>\n",
       "      <td>patent_incopat_202212_202312</td>\n",
       "      <td>深圳市智绘科技有限公司</td>\n",
       "    </tr>\n",
       "    <tr>\n",
       "      <th>2447663</th>\n",
       "      <td>康力电梯股份有限公司</td>\n",
       "      <td>CN308439638S</td>\n",
       "      <td>2024-01-26</td>\n",
       "      <td>CN202330849053.0</td>\n",
       "      <td>2023-12-25</td>\n",
       "      <td>patent_incopat_202212_202312</td>\n",
       "      <td>康力电梯股份有限公司</td>\n",
       "    </tr>\n",
       "    <tr>\n",
       "      <th>2447664</th>\n",
       "      <td>广东新宝电器股份有限公司</td>\n",
       "      <td>CN308428257S</td>\n",
       "      <td>2024-01-19</td>\n",
       "      <td>CN202330862430.4</td>\n",
       "      <td>2023-12-28</td>\n",
       "      <td>patent_incopat_202212_202312</td>\n",
       "      <td>广东新宝电器股份有限公司</td>\n",
       "    </tr>\n",
       "    <tr>\n",
       "      <th>2447665</th>\n",
       "      <td>广东新宝电器股份有限公司</td>\n",
       "      <td>CN308428258S</td>\n",
       "      <td>2024-01-19</td>\n",
       "      <td>CN202330862435.7</td>\n",
       "      <td>2023-12-28</td>\n",
       "      <td>patent_incopat_202212_202312</td>\n",
       "      <td>广东新宝电器股份有限公司</td>\n",
       "    </tr>\n",
       "    <tr>\n",
       "      <th>2447666</th>\n",
       "      <td>广东新宝电器股份有限公司</td>\n",
       "      <td>CN308442380S</td>\n",
       "      <td>2024-01-26</td>\n",
       "      <td>CN202330869958.4</td>\n",
       "      <td>2023-12-29</td>\n",
       "      <td>patent_incopat_202212_202312</td>\n",
       "      <td>广东新宝电器股份有限公司</td>\n",
       "    </tr>\n",
       "  </tbody>\n",
       "</table>\n",
       "<p>2447667 rows × 7 columns</p>\n",
       "</div>"
      ],
      "text/plain": [
       "                         申请人       公开（公告）号     公开（公告）日               申请号  \\\n",
       "0        华东冶金学院; 马鞍山钢铁股份有限公司    CN2170307Y  1994-06-29      CN93237739.4   \n",
       "1                马鞍山钢铁股份有限公司    CN2204409Y  1995-08-02      CN94226705.2   \n",
       "2                马鞍山钢铁股份有限公司    CN2189729Y  1995-02-15      CN94226882.2   \n",
       "3               山东金泰集团股份有限公司    CN1094440A  1994-11-02      CN94110539.3   \n",
       "4                马鞍山钢铁股份有限公司    CN2192627Y  1995-03-22      CN94210226.6   \n",
       "...                      ...           ...         ...               ...   \n",
       "2447662          深圳市智绘科技有限公司  CN308444862S  2024-01-30  CN202330846916.9   \n",
       "2447663           康力电梯股份有限公司  CN308439638S  2024-01-26  CN202330849053.0   \n",
       "2447664         广东新宝电器股份有限公司  CN308428257S  2024-01-19  CN202330862430.4   \n",
       "2447665         广东新宝电器股份有限公司  CN308428258S  2024-01-19  CN202330862435.7   \n",
       "2447666         广东新宝电器股份有限公司  CN308442380S  2024-01-26  CN202330869958.4   \n",
       "\n",
       "                申请日                    table_name    invest_申请人  \n",
       "0        1993-10-11                  patent202210   马鞍山钢铁股份有限公司  \n",
       "1        1994-01-27                  patent202210   马鞍山钢铁股份有限公司  \n",
       "2        1994-03-04                  patent202210   马鞍山钢铁股份有限公司  \n",
       "3        1994-04-14                  patent202210  山东金泰集团股份有限公司  \n",
       "4        1994-04-29                  patent202210   马鞍山钢铁股份有限公司  \n",
       "...             ...                           ...           ...  \n",
       "2447662  2023-12-22  patent_incopat_202212_202312   深圳市智绘科技有限公司  \n",
       "2447663  2023-12-25  patent_incopat_202212_202312    康力电梯股份有限公司  \n",
       "2447664  2023-12-28  patent_incopat_202212_202312  广东新宝电器股份有限公司  \n",
       "2447665  2023-12-28  patent_incopat_202212_202312  广东新宝电器股份有限公司  \n",
       "2447666  2023-12-29  patent_incopat_202212_202312  广东新宝电器股份有限公司  \n",
       "\n",
       "[2447667 rows x 7 columns]"
      ]
     },
     "execution_count": 15,
     "metadata": {},
     "output_type": "execute_result"
    }
   ],
   "source": [
    "patent_all_invest=pd.read_csv('data/patent_all_invest_2024.tsv',sep='\\t',usecols=['申请人', '公开（公告）号',\n",
    "       '公开（公告）日', '申请号', '申请日','table_name','invest_申请人'])\n",
    "patent_all_invest"
   ]
  },
  {
   "cell_type": "code",
   "execution_count": 16,
   "id": "9b39caa6-1b91-4db3-8351-de6ecd9147c4",
   "metadata": {},
   "outputs": [
    {
     "data": {
      "text/plain": [
       "table_name\n",
       "patent202210                    826398\n",
       "patent202404                    748835\n",
       "patent_incopat_202101_202211    673656\n",
       "patent_incopat_202212_202312     68403\n",
       "patent202410                     56029\n",
       "patent202309                     33314\n",
       "patent202407                     31495\n",
       "patent202408                      9537\n",
       "Name: count, dtype: int64"
      ]
     },
     "execution_count": 16,
     "metadata": {},
     "output_type": "execute_result"
    }
   ],
   "source": [
    "patent_all_invest.table_name.value_counts()"
   ]
  },
  {
   "cell_type": "markdown",
   "id": "96ea6cda-bdc1-4f81-8323-1b1dfa83a362",
   "metadata": {},
   "source": [
    "patent_incopat_2016b_202411     6688311  \n",
    "patent_incopat_202101_202211    5586621  \n",
    "patent_incopat_2020b_202411     5464605  \n",
    "patent202210                    1576086   \n",
    "patent202404                    1492032  \n",
    "patent202410                     688260  \n",
    "patent_incopat_202212_202312     586203  \n",
    "patent202309                      93815  \n",
    "patent202408                      46033  \n",
    "patent202407                      33097  "
   ]
  },
  {
   "cell_type": "markdown",
   "id": "61ecc8a0-92da-42fb-92db-5db28d6b97c2",
   "metadata": {},
   "source": [
    "patent_incopat_2016b_202411,patent_incopat_2020b_202411"
   ]
  },
  {
   "cell_type": "markdown",
   "id": "e0dfe08b-a6c6-4627-9673-b4575b821aec",
   "metadata": {},
   "source": [
    "'patent_data_202411.tsv''patent_data_202411_2.tsv'  \n",
    "china vc  \n",
    "高新专利转让  "
   ]
  },
  {
   "cell_type": "code",
   "execution_count": 14,
   "id": "0cb1c286-da2f-4918-95d5-7e5fccf81ed6",
   "metadata": {
    "scrolled": true
   },
   "outputs": [
    {
     "data": {
      "text/plain": [
       "['2022-10-16_1.xls',\n",
       " '2022-10-16_2.xls',\n",
       " '2022-10-16_3.xls',\n",
       " '2022-10-16_4.xls',\n",
       " '2022-10-16_5.xls',\n",
       " '2022-10-16_6.xls',\n",
       " '2022-10-16_7.xls',\n",
       " '2022-10-16_8.xls',\n",
       " '2022-10-18_1.xls',\n",
       " '2022-10-18_2.xls',\n",
       " '2022-10-18_3.xls',\n",
       " '2022-10-18_4.xls',\n",
       " '2022-10-18_5.xls',\n",
       " '2022-10-19_1.xls',\n",
       " '2022-10-19_2.xls',\n",
       " '2022-10-19_3.xls',\n",
       " '2022-10-19_4.xls',\n",
       " '2022-10-19_5.xls',\n",
       " '2022-10-19_6.xls',\n",
       " '2022-10-19_7.xls',\n",
       " '2022-10-21_1.xls',\n",
       " '2022-10-21_2.xls',\n",
       " '2022-10-21_3.xls',\n",
       " '2022-10-21_4.xls',\n",
       " '2022-10-21_5.xls',\n",
       " '2022-10-21_6.xls',\n",
       " '2022-10-22-2.xls',\n",
       " '2022-10-22-3.xls',\n",
       " '2022-10-22-4.xls',\n",
       " '2022-10-22-5.xls',\n",
       " '2022-10-22-6.xls',\n",
       " '2022-10-22.xls',\n",
       " '2022-10-23-2.xls',\n",
       " '2022-10-23.xls',\n",
       " '2022-10-24_2.xls',\n",
       " '2022-10-24_3.xls',\n",
       " '2022-10-25_1.xls',\n",
       " '2022-10-25_2.xls',\n",
       " '2022-10-25_3.xls']"
      ]
     },
     "execution_count": 14,
     "metadata": {},
     "output_type": "execute_result"
    }
   ],
   "source": [
    "import os,glob\n",
    "from pathlib import Path\n",
    "path1=u'H:/Source/Patent/INCOPAT中国发明申请数据/2021-2022'\n",
    "#os.chdir(path1)\n",
    "file_path=os.listdir(path1)\n",
    "file_path"
   ]
  },
  {
   "cell_type": "code",
   "execution_count": 35,
   "id": "204ee3bf-b372-4486-8abd-0eaf99bcdece",
   "metadata": {},
   "outputs": [
    {
     "data": {
      "text/plain": [
       "39"
      ]
     },
     "execution_count": 35,
     "metadata": {},
     "output_type": "execute_result"
    }
   ],
   "source": [
    "len(file_path)"
   ]
  },
  {
   "cell_type": "code",
   "execution_count": 20,
   "id": "53fe1770-e937-441a-a365-cd066f851798",
   "metadata": {
    "scrolled": true
   },
   "outputs": [
    {
     "data": {
      "text/plain": [
       "['2024-03-11 (1).xlsx',\n",
       " '2024-03-11 (10).xlsx',\n",
       " '2024-03-11 (11).xlsx',\n",
       " '2024-03-11 (12).xlsx',\n",
       " '2024-03-11 (13).xlsx',\n",
       " '2024-03-11 (14).xlsx',\n",
       " '2024-03-11 (15).xlsx',\n",
       " '2024-03-11 (16).xlsx',\n",
       " '2024-03-11 (17).xlsx',\n",
       " '2024-03-11 (18).xlsx',\n",
       " '2024-03-11 (19).xlsx',\n",
       " '2024-03-11 (2).xlsx',\n",
       " '2024-03-11 (3).xlsx',\n",
       " '2024-03-11 (4).xlsx',\n",
       " '2024-03-11 (5).xlsx',\n",
       " '2024-03-11 (6).xlsx',\n",
       " '2024-03-11 (7).xlsx',\n",
       " '2024-03-11 (8).xlsx',\n",
       " '2024-03-11 (9).xlsx',\n",
       " '2024-03-11.xlsx',\n",
       " '2024-03-12 (1).xlsx',\n",
       " '2024-03-12 (2).xlsx',\n",
       " '2024-03-12 (3).xlsx',\n",
       " '2024-03-12 (4).xlsx',\n",
       " '2024-03-12 (5).xlsx',\n",
       " '2024-03-12 (6).xlsx',\n",
       " '2024-03-12 (7).xlsx',\n",
       " '2024-03-12 (8).xlsx',\n",
       " '2024-03-12 (9).xlsx',\n",
       " '2024-03-12.xlsx',\n",
       " '2024-03-15 (1).xlsx',\n",
       " '2024-03-15 (2).xlsx',\n",
       " '2024-03-15 (3).xlsx',\n",
       " '2024-03-15 (4).xlsx',\n",
       " '2024-03-15 (5).xlsx',\n",
       " '2024-03-15 (6).xlsx',\n",
       " '2024-03-15 (7).xlsx',\n",
       " '2024-03-15 (8).xlsx',\n",
       " '2024-03-15 (9).xlsx',\n",
       " '2024-03-15.xlsx',\n",
       " '2024-03-18 (1).xlsx',\n",
       " '2024-03-18 (2).xlsx',\n",
       " '2024-03-18 (3).xlsx',\n",
       " '2024-03-18 (4).xlsx',\n",
       " '2024-03-18 (5).xlsx',\n",
       " '2024-03-18 (6).xlsx',\n",
       " '2024-03-18 (7).xlsx',\n",
       " '2024-03-18 (8).xlsx',\n",
       " '2024-03-18 (9).xlsx',\n",
       " '2024-03-18.xlsx',\n",
       " '2024-03-19 (1).xlsx',\n",
       " '2024-03-19 (10).xlsx',\n",
       " '2024-03-19 (11).xlsx',\n",
       " '2024-03-19 (12).xlsx',\n",
       " '2024-03-19 (13).xlsx',\n",
       " '2024-03-19 (2).xlsx',\n",
       " '2024-03-19 (3).xlsx',\n",
       " '2024-03-19 (4).xlsx',\n",
       " '2024-03-19 (5).xlsx',\n",
       " '2024-03-19 (6).xlsx',\n",
       " '2024-03-19 (7).xlsx',\n",
       " '2024-03-19 (8).xlsx',\n",
       " '2024-03-19 (9).xlsx',\n",
       " '2024-03-19.xlsx',\n",
       " '2024-03-20.xlsx',\n",
       " '2024-03-21 (1).xlsx',\n",
       " '2024-03-21 (10).xlsx',\n",
       " '2024-03-21 (11).xlsx',\n",
       " '2024-03-21 (12).xlsx',\n",
       " '2024-03-21 (13).xlsx',\n",
       " '2024-03-21 (14).xlsx',\n",
       " '2024-03-21 (15).xlsx',\n",
       " '2024-03-21 (16).xlsx',\n",
       " '2024-03-21 (17).xlsx',\n",
       " '2024-03-21 (18).xlsx',\n",
       " '2024-03-21 (19).xlsx',\n",
       " '2024-03-21 (2).xlsx',\n",
       " '2024-03-21 (20).xlsx',\n",
       " '2024-03-21 (21).xlsx',\n",
       " '2024-03-21 (3).xlsx',\n",
       " '2024-03-21 (4).xlsx',\n",
       " '2024-03-21 (5).xlsx',\n",
       " '2024-03-21 (6).xlsx',\n",
       " '2024-03-21 (7).xlsx',\n",
       " '2024-03-21 (8).xlsx',\n",
       " '2024-03-21 (9).xlsx',\n",
       " '2024-03-21.xlsx',\n",
       " '2024-03-22 (1).xlsx',\n",
       " '2024-03-22 (10).xlsx',\n",
       " '2024-03-22 (2).xlsx',\n",
       " '2024-03-22 (3).xlsx',\n",
       " '2024-03-22 (4).xlsx',\n",
       " '2024-03-22 (5).xlsx',\n",
       " '2024-03-22 (6).xlsx',\n",
       " '2024-03-22 (7).xlsx',\n",
       " '2024-03-22 (8).xlsx',\n",
       " '2024-03-22 (9).xlsx',\n",
       " '2024-03-22.xlsx',\n",
       " '2024-03-23 (1).xlsx',\n",
       " '2024-03-23 (10).xlsx',\n",
       " '2024-03-23 (2).xlsx',\n",
       " '2024-03-23 (3).xlsx',\n",
       " '2024-03-23 (4).xlsx',\n",
       " '2024-03-23 (5).xlsx',\n",
       " '2024-03-23 (6).xlsx',\n",
       " '2024-03-23 (7).xlsx',\n",
       " '2024-03-23 (8).xlsx',\n",
       " '2024-03-23 (9).xlsx',\n",
       " '2024-03-23.xlsx',\n",
       " '2024-03-25 (1).xlsx',\n",
       " '2024-03-25 (10).xlsx',\n",
       " '2024-03-25 (11).xlsx',\n",
       " '2024-03-25 (12).xlsx',\n",
       " '2024-03-25 (13).xlsx',\n",
       " '2024-03-25 (14).xlsx',\n",
       " '2024-03-25 (15).xlsx',\n",
       " '2024-03-25 (16).xlsx',\n",
       " '2024-03-25 (17).xlsx',\n",
       " '2024-03-25 (18).xlsx',\n",
       " '2024-03-25 (19).xlsx',\n",
       " '2024-03-25 (2).xlsx',\n",
       " '2024-03-25 (20).xlsx',\n",
       " '2024-03-25 (21).xlsx',\n",
       " '2024-03-25 (3).xlsx',\n",
       " '2024-03-25 (4).xlsx',\n",
       " '2024-03-25 (5).xlsx',\n",
       " '2024-03-25 (6).xlsx',\n",
       " '2024-03-25 (7).xlsx',\n",
       " '2024-03-25 (8).xlsx',\n",
       " '2024-03-25 (9).xlsx',\n",
       " '2024-03-25.xlsx',\n",
       " '2024-03-27 (1).xlsx',\n",
       " '2024-03-27 (2).xlsx',\n",
       " '2024-03-27 (3).xlsx',\n",
       " '2024-03-27 (4).xlsx',\n",
       " '2024-03-27 (5).xlsx',\n",
       " '2024-03-27 (6).xlsx',\n",
       " '2024-03-27 (7).xlsx',\n",
       " '2024-03-27.xlsx',\n",
       " '2024-03-28 (1).xlsx',\n",
       " '2024-03-28 (10).xlsx',\n",
       " '2024-03-28 (11).xlsx',\n",
       " '2024-03-28 (12).xlsx',\n",
       " '2024-03-28 (13).xlsx',\n",
       " '2024-03-28 (14).xlsx',\n",
       " '2024-03-28 (15).xlsx',\n",
       " '2024-03-28 (16).xlsx',\n",
       " '2024-03-28 (17).xlsx',\n",
       " '2024-03-28 (18).xlsx',\n",
       " '2024-03-28 (19).xlsx',\n",
       " '2024-03-28 (2).xlsx',\n",
       " '2024-03-28 (20).xlsx',\n",
       " '2024-03-28 (21).xlsx',\n",
       " '2024-03-28 (22).xlsx',\n",
       " '2024-03-28 (23).xlsx',\n",
       " '2024-03-28 (24).xlsx',\n",
       " '2024-03-28 (25).xlsx',\n",
       " '2024-03-28 (26).xlsx',\n",
       " '2024-03-28 (27).xlsx',\n",
       " '2024-03-28 (3).xlsx',\n",
       " '2024-03-28 (4).xlsx',\n",
       " '2024-03-28 (5).xlsx',\n",
       " '2024-03-28 (6).xlsx',\n",
       " '2024-03-28 (7).xlsx',\n",
       " '2024-03-28 (8).xlsx',\n",
       " '2024-03-28 (9).xlsx',\n",
       " '2024-03-28.xlsx',\n",
       " '2024-03-30 (1).xlsx',\n",
       " '2024-03-30 (2).xlsx',\n",
       " '2024-03-30 (3).xlsx',\n",
       " '2024-03-30 (4).xlsx',\n",
       " '2024-03-30 (5).xlsx',\n",
       " '2024-03-30 (6).xlsx',\n",
       " '2024-03-30 (7).xlsx',\n",
       " '2024-03-30 (8).xlsx',\n",
       " '2024-03-30 (9).xlsx',\n",
       " '2024-03-30.xlsx',\n",
       " '2024-03-31 (1).xlsx',\n",
       " '2024-03-31 (10).xlsx',\n",
       " '2024-03-31 (11).xlsx',\n",
       " '2024-03-31 (12).xlsx',\n",
       " '2024-03-31 (2).xlsx',\n",
       " '2024-03-31 (3).xlsx',\n",
       " '2024-03-31 (4).xlsx',\n",
       " '2024-03-31 (5).xlsx',\n",
       " '2024-03-31 (6).xlsx',\n",
       " '2024-03-31 (7).xlsx',\n",
       " '2024-03-31 (8).xlsx',\n",
       " '2024-03-31 (9).xlsx',\n",
       " '2024-03-31.xlsx',\n",
       " '2024-03-31_1).xlsx',\n",
       " '2024-03-31_1.xlsx',\n",
       " '2024-03-31_10).xlsx',\n",
       " '2024-03-31_11).xlsx',\n",
       " '2024-03-31_2).xlsx',\n",
       " '2024-03-31_3).xlsx',\n",
       " '2024-03-31_4).xlsx',\n",
       " '2024-03-31_5).xlsx',\n",
       " '2024-03-31_6).xlsx',\n",
       " '2024-03-31_7).xlsx',\n",
       " '2024-03-31_8).xlsx',\n",
       " '2024-03-31_9).xlsx',\n",
       " '2024-04-03 (1).xlsx',\n",
       " '2024-04-03 (10).xlsx',\n",
       " '2024-04-03 (11).xlsx',\n",
       " '2024-04-03 (12).xlsx',\n",
       " '2024-04-03 (13).xlsx',\n",
       " '2024-04-03 (14).xlsx',\n",
       " '2024-04-03 (15).xlsx',\n",
       " '2024-04-03 (16).xlsx',\n",
       " '2024-04-03 (17).xlsx',\n",
       " '2024-04-03 (18).xlsx',\n",
       " '2024-04-03 (19).xlsx',\n",
       " '2024-04-03 (2).xlsx',\n",
       " '2024-04-03 (20).xlsx',\n",
       " '2024-04-03 (21).xlsx',\n",
       " '2024-04-03 (22).xlsx',\n",
       " '2024-04-03 (23).xlsx',\n",
       " '2024-04-03 (24).xlsx',\n",
       " '2024-04-03 (25).xlsx',\n",
       " '2024-04-03 (26).xlsx',\n",
       " '2024-04-03 (27).xlsx',\n",
       " '2024-04-03 (3).xlsx',\n",
       " '2024-04-03 (4).xlsx',\n",
       " '2024-04-03 (5).xlsx',\n",
       " '2024-04-03 (6).xlsx',\n",
       " '2024-04-03 (7).xlsx',\n",
       " '2024-04-03 (8).xlsx',\n",
       " '2024-04-03 (9).xlsx',\n",
       " '2024-04-03.xlsx']"
      ]
     },
     "execution_count": 20,
     "metadata": {},
     "output_type": "execute_result"
    }
   ],
   "source": [
    "path2=u'H:/Source/Patent/INCOPAT中国发明申请数据/2023'\n",
    "#os.chdir(path2)\n",
    "file_path2=os.listdir(path2)\n",
    "file_path2"
   ]
  },
  {
   "cell_type": "code",
   "execution_count": 34,
   "id": "6c3b8637-92ae-49ed-95be-02043898ad20",
   "metadata": {},
   "outputs": [
    {
     "data": {
      "text/plain": [
       "230"
      ]
     },
     "execution_count": 34,
     "metadata": {},
     "output_type": "execute_result"
    }
   ],
   "source": [
    "len(file_path2)"
   ]
  },
  {
   "cell_type": "code",
   "execution_count": 24,
   "id": "6acb738c-d690-48aa-84ef-cfd130d2654f",
   "metadata": {},
   "outputs": [],
   "source": [
    "os.chdir('E:\\Documents\\Jupyter')"
   ]
  },
  {
   "cell_type": "code",
   "execution_count": 15,
   "id": "a07b4e06-6fbb-41b1-b9b5-9ed425b552ea",
   "metadata": {},
   "outputs": [
    {
     "name": "stdout",
     "output_type": "stream",
     "text": [
      "共找到 269 个 .xlsx 文件\n"
     ]
    }
   ],
   "source": [
    "path1 = r'H:/Source/Patent/INCOPAT中国发明申请数据/2021-2022'\n",
    "path2 = r'H:/Source/Patent/INCOPAT中国发明申请数据/2023'\n",
    "\n",
    "# 使用递归通配符 ** 匹配所有子目录\n",
    "matching_files = []\n",
    "for base_path in [path1, path2]:\n",
    "    pattern = os.path.join(base_path, \"**\", \"*.xls*\")\n",
    "    matching_files += glob.glob(pattern, recursive=True)\n",
    "\n",
    "print(f\"共找到 {len(matching_files)} 个 .xlsx 文件\")"
   ]
  },
  {
   "cell_type": "code",
   "execution_count": 3,
   "id": "8231aa1f-270f-4f53-aa7c-e46ffdaf908d",
   "metadata": {},
   "outputs": [],
   "source": [
    "import warnings\n",
    "warnings.filterwarnings(\"ignore\", category=UserWarning, module=\"openpyxl\")"
   ]
  },
  {
   "cell_type": "code",
   "execution_count": null,
   "id": "9d9f9994-ab66-41b3-b303-607ae60d0914",
   "metadata": {},
   "outputs": [],
   "source": [
    "warnings.filterwarnings('ignore', category=pd.errors.DtypeWarning)"
   ]
  },
  {
   "cell_type": "code",
   "execution_count": 18,
   "id": "7d6732b2-0de1-4bc0-b801-a848c916a8e4",
   "metadata": {},
   "outputs": [
    {
     "data": {
      "text/plain": [
       "('H:/Source/Patent/INCOPAT中国发明申请数据/2023\\\\2024-04-03.xlsx', 210)"
      ]
     },
     "execution_count": 18,
     "metadata": {},
     "output_type": "execute_result"
    }
   ],
   "source": [
    "data_columns=pd.read_excel(matching_files[-1],nrows=10).columns.tolist()\n",
    "matching_files[-1],len(data_columns)"
   ]
  },
  {
   "cell_type": "code",
   "execution_count": 31,
   "id": "e0bbd23f-8352-4364-b4fb-d4387c0df79c",
   "metadata": {},
   "outputs": [
    {
     "data": {
      "text/plain": [
       "'2024-04-03.xlsx'"
      ]
     },
     "execution_count": 31,
     "metadata": {},
     "output_type": "execute_result"
    }
   ],
   "source": [
    "os.path.basename(matching_files[-1])"
   ]
  },
  {
   "cell_type": "code",
   "execution_count": 20,
   "id": "26a6740c-6f6c-4bf3-9444-4d8a01607d06",
   "metadata": {
    "scrolled": true
   },
   "outputs": [
    {
     "name": "stdout",
     "output_type": "stream",
     "text": [
      "0 0 H:/Source/Patent/INCOPAT中国发明申请数据/2021-2022\\2022-10-16_1.xls (60000, 175) 60000\n",
      "1 60000 H:/Source/Patent/INCOPAT中国发明申请数据/2021-2022\\2022-10-16_2.xls (60000, 175) 120000\n",
      "2 120000 H:/Source/Patent/INCOPAT中国发明申请数据/2021-2022\\2022-10-16_3.xls (60000, 175) 180000\n",
      "3 180000 H:/Source/Patent/INCOPAT中国发明申请数据/2021-2022\\2022-10-16_4.xls (38846, 175) 218846\n",
      "4 218846 H:/Source/Patent/INCOPAT中国发明申请数据/2021-2022\\2022-10-16_5.xls (25477, 175) 25477\n",
      "5 244323 H:/Source/Patent/INCOPAT中国发明申请数据/2021-2022\\2022-10-16_6.xls (10847, 175) 10847\n",
      "6 255170 H:/Source/Patent/INCOPAT中国发明申请数据/2021-2022\\2022-10-16_7.xls (26141, 175) 26141\n",
      "7 281311 H:/Source/Patent/INCOPAT中国发明申请数据/2021-2022\\2022-10-16_8.xls (8174, 175) 8174\n",
      "8 289485 H:/Source/Patent/INCOPAT中国发明申请数据/2021-2022\\2022-10-18_1.xls (57817, 175) 297817\n",
      "9 347302 H:/Source/Patent/INCOPAT中国发明申请数据/2021-2022\\2022-10-18_2.xls (60000, 175) 240000\n",
      "10 407302 H:/Source/Patent/INCOPAT中国发明申请数据/2021-2022\\2022-10-18_3.xls (60000, 175) 180000\n",
      "11 467302 H:/Source/Patent/INCOPAT中国发明申请数据/2021-2022\\2022-10-18_4.xls (60000, 175) 120000\n",
      "12 527302 H:/Source/Patent/INCOPAT中国发明申请数据/2021-2022\\2022-10-18_5.xls (60000, 175) 60000\n",
      "13 587302 H:/Source/Patent/INCOPAT中国发明申请数据/2021-2022\\2022-10-19_1.xls (60000, 175) 60000\n",
      "14 647302 H:/Source/Patent/INCOPAT中国发明申请数据/2021-2022\\2022-10-19_2.xls (60000, 175) 120000\n",
      "15 707302 H:/Source/Patent/INCOPAT中国发明申请数据/2021-2022\\2022-10-19_3.xls (60000, 175) 180000\n",
      "16 767302 H:/Source/Patent/INCOPAT中国发明申请数据/2021-2022\\2022-10-19_4.xls (16423, 175) 196423\n",
      "17 783725 H:/Source/Patent/INCOPAT中国发明申请数据/2021-2022\\2022-10-19_5.xls (60000, 175) 60000\n",
      "18 843725 H:/Source/Patent/INCOPAT中国发明申请数据/2021-2022\\2022-10-19_6.xls (9620, 175) 69620\n",
      "19 853345 H:/Source/Patent/INCOPAT中国发明申请数据/2021-2022\\2022-10-19_7.xls (30817, 175) 30817\n",
      "20 884162 H:/Source/Patent/INCOPAT中国发明申请数据/2021-2022\\2022-10-21_1.xls (60000, 175) 60000\n",
      "21 944162 H:/Source/Patent/INCOPAT中国发明申请数据/2021-2022\\2022-10-21_2.xls (60000, 175) 120000\n",
      "22 1004162 H:/Source/Patent/INCOPAT中国发明申请数据/2021-2022\\2022-10-21_3.xls (60000, 175) 180000\n",
      "23 1064162 H:/Source/Patent/INCOPAT中国发明申请数据/2021-2022\\2022-10-21_4.xls (60000, 175) 240000\n",
      "24 1124162 H:/Source/Patent/INCOPAT中国发明申请数据/2021-2022\\2022-10-21_5.xls (12989, 175) 252989\n",
      "25 1137151 H:/Source/Patent/INCOPAT中国发明申请数据/2021-2022\\2022-10-21_6.xls (45955, 175) 45955\n",
      "26 1183106 H:/Source/Patent/INCOPAT中国发明申请数据/2021-2022\\2022-10-22-2.xls (60000, 175) 240000\n",
      "27 1243106 H:/Source/Patent/INCOPAT中国发明申请数据/2021-2022\\2022-10-22-3.xls (60000, 175) 120000\n",
      "28 1303106 H:/Source/Patent/INCOPAT中国发明申请数据/2021-2022\\2022-10-22-4.xls (60000, 175) 60000\n",
      "29 1363106 H:/Source/Patent/INCOPAT中国发明申请数据/2021-2022\\2022-10-22-5.xls (45181, 175) 45181\n",
      "30 1408287 H:/Source/Patent/INCOPAT中国发明申请数据/2021-2022\\2022-10-22-6.xls (60000, 175) 180000\n",
      "31 1468287 H:/Source/Patent/INCOPAT中国发明申请数据/2021-2022\\2022-10-22.xls (14108, 175) 254108\n",
      "32 1482395 H:/Source/Patent/INCOPAT中国发明申请数据/2021-2022\\2022-10-23-2.xls (60000, 175) 60000\n",
      "33 1542395 H:/Source/Patent/INCOPAT中国发明申请数据/2021-2022\\2022-10-23.xls (46264, 175) 106264\n",
      "34 1588659 H:/Source/Patent/INCOPAT中国发明申请数据/2021-2022\\2022-10-24_2.xls (60000, 175) 120000\n",
      "35 1648659 H:/Source/Patent/INCOPAT中国发明申请数据/2021-2022\\2022-10-24_3.xls (27175, 175) 147175\n",
      "36 1675834 H:/Source/Patent/INCOPAT中国发明申请数据/2021-2022\\2022-10-25_1.xls (60000, 175) 60000\n",
      "37 1735834 H:/Source/Patent/INCOPAT中国发明申请数据/2021-2022\\2022-10-25_2.xls (60000, 175) 120000\n",
      "38 1795834 H:/Source/Patent/INCOPAT中国发明申请数据/2021-2022\\2022-10-25_3.xls (33311, 175) 153311\n",
      "39 1829145 H:/Source/Patent/INCOPAT中国发明申请数据/2023\\2024-03-11 (1).xlsx (10000, 193) 20000\n",
      "40 1839145 H:/Source/Patent/INCOPAT中国发明申请数据/2023\\2024-03-11 (10).xlsx (10000, 193) 200000\n",
      "41 1849145 H:/Source/Patent/INCOPAT中国发明申请数据/2023\\2024-03-11 (11).xlsx (10000, 193) 190000\n",
      "42 1859145 H:/Source/Patent/INCOPAT中国发明申请数据/2023\\2024-03-11 (12).xlsx (10000, 193) 180000\n",
      "43 1869145 H:/Source/Patent/INCOPAT中国发明申请数据/2023\\2024-03-11 (13).xlsx (10000, 193) 170000\n",
      "44 1879145 H:/Source/Patent/INCOPAT中国发明申请数据/2023\\2024-03-11 (14).xlsx (10000, 193) 160000\n",
      "45 1889145 H:/Source/Patent/INCOPAT中国发明申请数据/2023\\2024-03-11 (15).xlsx (10000, 193) 150000\n",
      "46 1899145 H:/Source/Patent/INCOPAT中国发明申请数据/2023\\2024-03-11 (16).xlsx (10000, 193) 140000\n",
      "47 1909145 H:/Source/Patent/INCOPAT中国发明申请数据/2023\\2024-03-11 (17).xlsx (10000, 193) 130000\n",
      "48 1919145 H:/Source/Patent/INCOPAT中国发明申请数据/2023\\2024-03-11 (18).xlsx (10000, 193) 120000\n",
      "49 1929145 H:/Source/Patent/INCOPAT中国发明申请数据/2023\\2024-03-11 (19).xlsx (10000, 193) 110000\n",
      "50 1939145 H:/Source/Patent/INCOPAT中国发明申请数据/2023\\2024-03-11 (2).xlsx (10000, 193) 30000\n",
      "51 1949145 H:/Source/Patent/INCOPAT中国发明申请数据/2023\\2024-03-11 (3).xlsx (10000, 193) 40000\n",
      "52 1959145 H:/Source/Patent/INCOPAT中国发明申请数据/2023\\2024-03-11 (4).xlsx (10000, 193) 50000\n",
      "53 1969145 H:/Source/Patent/INCOPAT中国发明申请数据/2023\\2024-03-11 (5).xlsx (10000, 193) 60000\n",
      "54 1979145 H:/Source/Patent/INCOPAT中国发明申请数据/2023\\2024-03-11 (6).xlsx (10000, 193) 70000\n",
      "55 1989145 H:/Source/Patent/INCOPAT中国发明申请数据/2023\\2024-03-11 (7).xlsx (10000, 193) 80000\n",
      "56 1999145 H:/Source/Patent/INCOPAT中国发明申请数据/2023\\2024-03-11 (8).xlsx (10000, 193) 90000\n",
      "57 2009145 H:/Source/Patent/INCOPAT中国发明申请数据/2023\\2024-03-11 (9).xlsx (10000, 193) 100000\n",
      "58 2019145 H:/Source/Patent/INCOPAT中国发明申请数据/2023\\2024-03-11.xlsx (10000, 193) 10000\n",
      "59 2029145 H:/Source/Patent/INCOPAT中国发明申请数据/2023\\2024-03-12 (1).xlsx (10000, 193) 290000\n",
      "60 2039145 H:/Source/Patent/INCOPAT中国发明申请数据/2023\\2024-03-12 (2).xlsx (10000, 193) 280000\n",
      "61 2049145 H:/Source/Patent/INCOPAT中国发明申请数据/2023\\2024-03-12 (3).xlsx (10000, 193) 270000\n",
      "62 2059145 H:/Source/Patent/INCOPAT中国发明申请数据/2023\\2024-03-12 (4).xlsx (10000, 193) 260000\n",
      "63 2069145 H:/Source/Patent/INCOPAT中国发明申请数据/2023\\2024-03-12 (5).xlsx (10000, 193) 250000\n",
      "64 2079145 H:/Source/Patent/INCOPAT中国发明申请数据/2023\\2024-03-12 (6).xlsx (10000, 193) 230000\n",
      "65 2089145 H:/Source/Patent/INCOPAT中国发明申请数据/2023\\2024-03-12 (7).xlsx (10000, 193) 230000\n",
      "66 2099145 H:/Source/Patent/INCOPAT中国发明申请数据/2023\\2024-03-12 (8).xlsx (10000, 193) 220000\n",
      "67 2109145 H:/Source/Patent/INCOPAT中国发明申请数据/2023\\2024-03-12 (9).xlsx (10000, 193) 210000\n",
      "68 2119145 H:/Source/Patent/INCOPAT中国发明申请数据/2023\\2024-03-12.xlsx (10000, 193) 300000\n",
      "69 2129145 H:/Source/Patent/INCOPAT中国发明申请数据/2023\\2024-03-15 (1).xlsx (10000, 193) 60000\n",
      "70 2139145 H:/Source/Patent/INCOPAT中国发明申请数据/2023\\2024-03-15 (2).xlsx (10000, 193) 50000\n",
      "71 2149145 H:/Source/Patent/INCOPAT中国发明申请数据/2023\\2024-03-15 (3).xlsx (10000, 193) 40000\n",
      "72 2159145 H:/Source/Patent/INCOPAT中国发明申请数据/2023\\2024-03-15 (4).xlsx (10000, 193) 30000\n",
      "73 2169145 H:/Source/Patent/INCOPAT中国发明申请数据/2023\\2024-03-15 (5).xlsx (10000, 193) 20000\n",
      "74 2179145 H:/Source/Patent/INCOPAT中国发明申请数据/2023\\2024-03-15 (6).xlsx (10000, 193) 10000\n",
      "75 2189145 H:/Source/Patent/INCOPAT中国发明申请数据/2023\\2024-03-15 (7).xlsx (10000, 193) 100000\n",
      "76 2199145 H:/Source/Patent/INCOPAT中国发明申请数据/2023\\2024-03-15 (8).xlsx (10000, 193) 90000\n",
      "77 2209145 H:/Source/Patent/INCOPAT中国发明申请数据/2023\\2024-03-15 (9).xlsx (10000, 193) 80000\n",
      "78 2219145 H:/Source/Patent/INCOPAT中国发明申请数据/2023\\2024-03-15.xlsx (10000, 193) 70000\n",
      "79 2229145 H:/Source/Patent/INCOPAT中国发明申请数据/2023\\2024-03-18 (1).xlsx (10000, 193) 40000\n",
      "80 2239145 H:/Source/Patent/INCOPAT中国发明申请数据/2023\\2024-03-18 (2).xlsx (10000, 193) 30000\n",
      "81 2249145 H:/Source/Patent/INCOPAT中国发明申请数据/2023\\2024-03-18 (3).xlsx (10000, 193) 20000\n",
      "82 2259145 H:/Source/Patent/INCOPAT中国发明申请数据/2023\\2024-03-18 (4).xlsx (10000, 193) 10000\n",
      "83 2269145 H:/Source/Patent/INCOPAT中国发明申请数据/2023\\2024-03-18 (5).xlsx (9227, 193) 149227\n",
      "84 2278372 H:/Source/Patent/INCOPAT中国发明申请数据/2023\\2024-03-18 (6).xlsx (10000, 193) 140000\n",
      "85 2288372 H:/Source/Patent/INCOPAT中国发明申请数据/2023\\2024-03-18 (7).xlsx (10000, 193) 130000\n",
      "86 2298372 H:/Source/Patent/INCOPAT中国发明申请数据/2023\\2024-03-18 (8).xlsx (10000, 193) 120000\n",
      "87 2308372 H:/Source/Patent/INCOPAT中国发明申请数据/2023\\2024-03-18 (9).xlsx (10000, 193) 110000\n",
      "88 2318372 H:/Source/Patent/INCOPAT中国发明申请数据/2023\\2024-03-18.xlsx (10000, 193) 50000\n",
      "89 2328372 H:/Source/Patent/INCOPAT中国发明申请数据/2023\\2024-03-19 (1).xlsx (10000, 193) 60000\n",
      "90 2338372 H:/Source/Patent/INCOPAT中国发明申请数据/2023\\2024-03-19 (10).xlsx (10000, 193) 40000\n",
      "91 2348372 H:/Source/Patent/INCOPAT中国发明申请数据/2023\\2024-03-19 (11).xlsx (10000, 193) 30000\n",
      "92 2358372 H:/Source/Patent/INCOPAT中国发明申请数据/2023\\2024-03-19 (12).xlsx (10000, 193) 20000\n",
      "93 2368372 H:/Source/Patent/INCOPAT中国发明申请数据/2023\\2024-03-19 (13).xlsx (10000, 193) 10000\n",
      "94 2378372 H:/Source/Patent/INCOPAT中国发明申请数据/2023\\2024-03-19 (2).xlsx (915, 193) 915\n",
      "95 2379287 H:/Source/Patent/INCOPAT中国发明申请数据/2023\\2024-03-19 (3).xlsx (8328, 193) 23327\n",
      "96 2387615 H:/Source/Patent/INCOPAT中国发明申请数据/2023\\2024-03-19 (4).xlsx (756, 193) 15000\n",
      "97 2388371 H:/Source/Patent/INCOPAT中国发明申请数据/2023\\2024-03-19 (5).xlsx (4245, 193) 14245\n",
      "98 2392616 H:/Source/Patent/INCOPAT中国发明申请数据/2023\\2024-03-19 (6).xlsx (10000, 193) 10000\n",
      "99 2402616 H:/Source/Patent/INCOPAT中国发明申请数据/2023\\2024-03-19 (7).xlsx (3201, 193) 63201\n",
      "100 2405817 H:/Source/Patent/INCOPAT中国发明申请数据/2023\\2024-03-19 (8).xlsx (10000, 193) 60000\n",
      "101 2415817 H:/Source/Patent/INCOPAT中国发明申请数据/2023\\2024-03-19 (9).xlsx (10000, 193) 50000\n",
      "102 2425817 H:/Source/Patent/INCOPAT中国发明申请数据/2023\\2024-03-19.xlsx (2555, 193) 62555\n",
      "103 2428372 H:/Source/Patent/INCOPAT中国发明申请数据/2023\\2024-03-20.xlsx (9085, 193) 10000\n",
      "104 2437457 H:/Source/Patent/INCOPAT中国发明申请数据/2023\\2024-03-21 (1).xlsx (10000, 193) 80000\n",
      "105 2447457 H:/Source/Patent/INCOPAT中国发明申请数据/2023\\2024-03-21 (10).xlsx (10000, 193) 100000\n",
      "106 2457457 H:/Source/Patent/INCOPAT中国发明申请数据/2023\\2024-03-21 (11).xlsx (10000, 193) 10000\n",
      "107 2467457 H:/Source/Patent/INCOPAT中国发明申请数据/2023\\2024-03-21 (12).xlsx (2138, 193) 102138\n",
      "108 2469595 H:/Source/Patent/INCOPAT中国发明申请数据/2023\\2024-03-21 (13).xlsx (10000, 193) 10000\n",
      "109 2479595 H:/Source/Patent/INCOPAT中国发明申请数据/2023\\2024-03-21 (14).xlsx (10000, 193) 20000\n",
      "110 2489595 H:/Source/Patent/INCOPAT中国发明申请数据/2023\\2024-03-21 (15).xlsx (10000, 193) 30000\n",
      "111 2499595 H:/Source/Patent/INCOPAT中国发明申请数据/2023\\2024-03-21 (16).xlsx (10000, 193) 40000\n",
      "112 2509595 H:/Source/Patent/INCOPAT中国发明申请数据/2023\\2024-03-21 (17).xlsx (10000, 193) 50000\n",
      "113 2519595 H:/Source/Patent/INCOPAT中国发明申请数据/2023\\2024-03-21 (18).xlsx (10000, 193) 60000\n",
      "114 2529595 H:/Source/Patent/INCOPAT中国发明申请数据/2023\\2024-03-21 (19).xlsx (10000, 193) 70000\n",
      "115 2539595 H:/Source/Patent/INCOPAT中国发明申请数据/2023\\2024-03-21 (2).xlsx (10000, 193) 70000\n",
      "116 2549595 H:/Source/Patent/INCOPAT中国发明申请数据/2023\\2024-03-21 (20).xlsx (7862, 193) 87862\n",
      "117 2557457 H:/Source/Patent/INCOPAT中国发明申请数据/2023\\2024-03-21 (21).xlsx (7862, 193) 87862\n",
      "118 2565319 H:/Source/Patent/INCOPAT中国发明申请数据/2023\\2024-03-21 (3).xlsx (10000, 193) 60000\n",
      "119 2575319 H:/Source/Patent/INCOPAT中国发明申请数据/2023\\2024-03-21 (4).xlsx (10000, 193) 50000\n",
      "120 2585319 H:/Source/Patent/INCOPAT中国发明申请数据/2023\\2024-03-21 (5).xlsx (10000, 193) 40000\n",
      "121 2595319 H:/Source/Patent/INCOPAT中国发明申请数据/2023\\2024-03-21 (6).xlsx (10000, 193) 30000\n",
      "122 2605319 H:/Source/Patent/INCOPAT中国发明申请数据/2023\\2024-03-21 (7).xlsx (10000, 193) 20000\n",
      "123 2615319 H:/Source/Patent/INCOPAT中国发明申请数据/2023\\2024-03-21 (8).xlsx (10000, 193) 10000\n",
      "124 2625319 H:/Source/Patent/INCOPAT中国发明申请数据/2023\\2024-03-21 (9).xlsx (10000, 193) 100000\n",
      "125 2635319 H:/Source/Patent/INCOPAT中国发明申请数据/2023\\2024-03-21.xlsx (10000, 193) 90000\n",
      "126 2645319 H:/Source/Patent/INCOPAT中国发明申请数据/2023\\2024-03-22 (1).xlsx (10000, 193) 60000\n",
      "127 2655319 H:/Source/Patent/INCOPAT中国发明申请数据/2023\\2024-03-22 (10).xlsx (10000, 193) 110000\n",
      "128 2665319 H:/Source/Patent/INCOPAT中国发明申请数据/2023\\2024-03-22 (2).xlsx (10000, 193) 50000\n",
      "129 2675319 H:/Source/Patent/INCOPAT中国发明申请数据/2023\\2024-03-22 (3).xlsx (10000, 193) 40000\n",
      "130 2685319 H:/Source/Patent/INCOPAT中国发明申请数据/2023\\2024-03-22 (4).xlsx (10000, 193) 30000\n",
      "131 2695319 H:/Source/Patent/INCOPAT中国发明申请数据/2023\\2024-03-22 (5).xlsx (10000, 193) 20000\n",
      "132 2705319 H:/Source/Patent/INCOPAT中国发明申请数据/2023\\2024-03-22 (6).xlsx (10000, 193) 10000\n",
      "133 2715319 H:/Source/Patent/INCOPAT中国发明申请数据/2023\\2024-03-22 (7).xlsx (8129, 193) 138129\n",
      "134 2723448 H:/Source/Patent/INCOPAT中国发明申请数据/2023\\2024-03-22 (8).xlsx (10000, 193) 130000\n",
      "135 2733448 H:/Source/Patent/INCOPAT中国发明申请数据/2023\\2024-03-22 (9).xlsx (10000, 193) 120000\n",
      "136 2743448 H:/Source/Patent/INCOPAT中国发明申请数据/2023\\2024-03-22.xlsx (1871, 193) 61871\n",
      "137 2745319 H:/Source/Patent/INCOPAT中国发明申请数据/2023\\2024-03-23 (1).xlsx (10000, 193) 79999\n",
      "138 2755319 H:/Source/Patent/INCOPAT中国发明申请数据/2023\\2024-03-23 (10).xlsx (10000, 193) 10000\n",
      "139 2765319 H:/Source/Patent/INCOPAT中国发明申请数据/2023\\2024-03-23 (2).xlsx (8130, 193) 70000\n",
      "140 2773449 H:/Source/Patent/INCOPAT中国发明申请数据/2023\\2024-03-23 (3).xlsx (1500, 193) 71500\n",
      "141 2774949 H:/Source/Patent/INCOPAT中国发明申请数据/2023\\2024-03-23 (4).xlsx (10000, 193) 70000\n",
      "142 2784949 H:/Source/Patent/INCOPAT中国发明申请数据/2023\\2024-03-23 (5).xlsx (10000, 193) 60000\n",
      "143 2794949 H:/Source/Patent/INCOPAT中国发明申请数据/2023\\2024-03-23 (6).xlsx (10000, 193) 50000\n",
      "144 2804949 H:/Source/Patent/INCOPAT中国发明申请数据/2023\\2024-03-23 (7).xlsx (10000, 193) 40000\n",
      "145 2814949 H:/Source/Patent/INCOPAT中国发明申请数据/2023\\2024-03-23 (8).xlsx (10000, 193) 30000\n",
      "146 2824949 H:/Source/Patent/INCOPAT中国发明申请数据/2023\\2024-03-23 (9).xlsx (10000, 193) 20000\n",
      "147 2834949 H:/Source/Patent/INCOPAT中国发明申请数据/2023\\2024-03-23.xlsx (9818, 193) 89817\n",
      "148 2844767 H:/Source/Patent/INCOPAT中国发明申请数据/2023\\2024-03-25 (1).xlsx (10000, 193) 60000\n",
      "149 2854767 H:/Source/Patent/INCOPAT中国发明申请数据/2023\\2024-03-25 (10).xlsx (2138, 193) 90000\n",
      "150 2856905 H:/Source/Patent/INCOPAT中国发明申请数据/2023\\2024-03-25 (11).xlsx (10000, 193) 100000\n",
      "151 2866905 H:/Source/Patent/INCOPAT中国发明申请数据/2023\\2024-03-25 (12).xlsx (6181, 193) 106181\n",
      "152 2873086 H:/Source/Patent/INCOPAT中国发明申请数据/2023\\2024-03-25 (13).xlsx (10000, 193) 10000\n",
      "153 2883086 H:/Source/Patent/INCOPAT中国发明申请数据/2023\\2024-03-25 (14).xlsx (10000, 193) 20000\n",
      "154 2893086 H:/Source/Patent/INCOPAT中国发明申请数据/2023\\2024-03-25 (15).xlsx (10000, 193) 30000\n",
      "155 2903086 H:/Source/Patent/INCOPAT中国发明申请数据/2023\\2024-03-25 (16).xlsx (10000, 193) 40000\n",
      "156 2913086 H:/Source/Patent/INCOPAT中国发明申请数据/2023\\2024-03-25 (17).xlsx (10000, 193) 50000\n",
      "157 2923086 H:/Source/Patent/INCOPAT中国发明申请数据/2023\\2024-03-25 (18).xlsx (1681, 193) 81681\n",
      "158 2924767 H:/Source/Patent/INCOPAT中国发明申请数据/2023\\2024-03-25 (19).xlsx (10000, 193) 80000\n",
      "159 2934767 H:/Source/Patent/INCOPAT中国发明申请数据/2023\\2024-03-25 (2).xlsx (10000, 193) 50000\n",
      "160 2944767 H:/Source/Patent/INCOPAT中国发明申请数据/2023\\2024-03-25 (20).xlsx (10000, 193) 70000\n",
      "161 2954767 H:/Source/Patent/INCOPAT中国发明申请数据/2023\\2024-03-25 (21).xlsx (10000, 193) 60000\n",
      "162 2964767 H:/Source/Patent/INCOPAT中国发明申请数据/2023\\2024-03-25 (3).xlsx (10000, 193) 40000\n",
      "163 2974767 H:/Source/Patent/INCOPAT中国发明申请数据/2023\\2024-03-25 (4).xlsx (10000, 193) 30000\n",
      "164 2984767 H:/Source/Patent/INCOPAT中国发明申请数据/2023\\2024-03-25 (5).xlsx (10000, 193) 20000\n",
      "165 2994767 H:/Source/Patent/INCOPAT中国发明申请数据/2023\\2024-03-25 (6).xlsx (10000, 193) 10000\n",
      "166 3004767 H:/Source/Patent/INCOPAT中国发明申请数据/2023\\2024-03-25 (7).xlsx (10000, 193) 80000\n",
      "167 3014767 H:/Source/Patent/INCOPAT中国发明申请数据/2023\\2024-03-25 (8).xlsx (10000, 193) 90000\n",
      "168 3024767 H:/Source/Patent/INCOPAT中国发明申请数据/2023\\2024-03-25 (9).xlsx (10000, 193) 100000\n",
      "169 3034767 H:/Source/Patent/INCOPAT中国发明申请数据/2023\\2024-03-25.xlsx (10000, 193) 70000\n",
      "170 3044767 H:/Source/Patent/INCOPAT中国发明申请数据/2023\\2024-03-27 (1).xlsx (10000, 193) 10000\n",
      "171 3054767 H:/Source/Patent/INCOPAT中国发明申请数据/2023\\2024-03-27 (2).xlsx (10000, 193) 20000\n",
      "172 3064767 H:/Source/Patent/INCOPAT中国发明申请数据/2023\\2024-03-27 (3).xlsx (10000, 193) 30000\n",
      "173 3074767 H:/Source/Patent/INCOPAT中国发明申请数据/2023\\2024-03-27 (4).xlsx (10000, 193) 20000\n",
      "174 3084767 H:/Source/Patent/INCOPAT中国发明申请数据/2023\\2024-03-27 (5).xlsx (10000, 193) 30000\n",
      "175 3094767 H:/Source/Patent/INCOPAT中国发明申请数据/2023\\2024-03-27 (6).xlsx (10000, 193) 10000\n",
      "176 3104767 H:/Source/Patent/INCOPAT中国发明申请数据/2023\\2024-03-27 (7).xlsx (5469, 193) 105468\n",
      "177 3110236 H:/Source/Patent/INCOPAT中国发明申请数据/2023\\2024-03-27.xlsx (5469, 193) 105468\n",
      "178 3115705 H:/Source/Patent/INCOPAT中国发明申请数据/2023\\2024-03-28 (1).xlsx (10000, 193) 50000\n",
      "179 3125705 H:/Source/Patent/INCOPAT中国发明申请数据/2023\\2024-03-28 (10).xlsx (10000, 193) 20000\n",
      "180 3135705 H:/Source/Patent/INCOPAT中国发明申请数据/2023\\2024-03-28 (11).xlsx (3336, 193) 23336\n",
      "181 3139041 H:/Source/Patent/INCOPAT中国发明申请数据/2023\\2024-03-28 (12).xlsx (10000, 193) 10000\n",
      "182 3149041 H:/Source/Patent/INCOPAT中国发明申请数据/2023\\2024-03-28 (13).xlsx (10000, 193) 20000\n",
      "183 3159041 H:/Source/Patent/INCOPAT中国发明申请数据/2023\\2024-03-28 (14).xlsx (3473, 193) 23473\n",
      "184 3162514 H:/Source/Patent/INCOPAT中国发明申请数据/2023\\2024-03-28 (15).xlsx (10000, 193) 10000\n",
      "185 3172514 H:/Source/Patent/INCOPAT中国发明申请数据/2023\\2024-03-28 (16).xlsx (10000, 193) 20000\n",
      "186 3182514 H:/Source/Patent/INCOPAT中国发明申请数据/2023\\2024-03-28 (17).xlsx (10000, 193) 30000\n",
      "187 3192514 H:/Source/Patent/INCOPAT中国发明申请数据/2023\\2024-03-28 (18).xlsx (10000, 193) 40000\n",
      "188 3202514 H:/Source/Patent/INCOPAT中国发明申请数据/2023\\2024-03-28 (19).xlsx (4762, 193) 44762\n",
      "189 3207276 H:/Source/Patent/INCOPAT中国发明申请数据/2023\\2024-03-28 (2).xlsx (10000, 193) 60000\n",
      "190 3217276 H:/Source/Patent/INCOPAT中国发明申请数据/2023\\2024-03-28 (20).xlsx (10000, 193) 40000\n",
      "191 3227276 H:/Source/Patent/INCOPAT中国发明申请数据/2023\\2024-03-28 (21).xlsx (10000, 193) 50000\n",
      "192 3237276 H:/Source/Patent/INCOPAT中国发明申请数据/2023\\2024-03-28 (22).xlsx (10000, 193) 60000\n",
      "193 3247276 H:/Source/Patent/INCOPAT中国发明申请数据/2023\\2024-03-28 (23).xlsx (2525, 193) 62525\n",
      "194 3249801 H:/Source/Patent/INCOPAT中国发明申请数据/2023\\2024-03-28 (24).xlsx (10000, 193) 10000\n",
      "195 3259801 H:/Source/Patent/INCOPAT中国发明申请数据/2023\\2024-03-28 (25).xlsx (10000, 193) 20000\n",
      "196 3269801 H:/Source/Patent/INCOPAT中国发明申请数据/2023\\2024-03-28 (26).xlsx (10000, 193) 30000\n",
      "197 3279801 H:/Source/Patent/INCOPAT中国发明申请数据/2023\\2024-03-28 (27).xlsx (206, 193) 30206\n",
      "198 3280007 H:/Source/Patent/INCOPAT中国发明申请数据/2023\\2024-03-28 (3).xlsx (2525, 193) 62525\n",
      "199 3282532 H:/Source/Patent/INCOPAT中国发明申请数据/2023\\2024-03-28 (4).xlsx (10000, 193) 10000\n",
      "200 3292532 H:/Source/Patent/INCOPAT中国发明申请数据/2023\\2024-03-28 (5).xlsx (10000, 193) 20000\n",
      "201 3302532 H:/Source/Patent/INCOPAT中国发明申请数据/2023\\2024-03-28 (6).xlsx (10000, 193) 30000\n",
      "202 3312532 H:/Source/Patent/INCOPAT中国发明申请数据/2023\\2024-03-28 (7).xlsx (206, 193) 30206\n",
      "203 3312738 H:/Source/Patent/INCOPAT中国发明申请数据/2023\\2024-03-28 (8).xlsx (8429, 193) 38635\n",
      "204 3321167 H:/Source/Patent/INCOPAT中国发明申请数据/2023\\2024-03-28 (9).xlsx (10000, 193) 10000\n",
      "205 3331167 H:/Source/Patent/INCOPAT中国发明申请数据/2023\\2024-03-28.xlsx (10000, 193) 40000\n",
      "206 3341167 H:/Source/Patent/INCOPAT中国发明申请数据/2023\\2024-03-30 (1).xlsx (9818, 193) 59818\n",
      "207 3350985 H:/Source/Patent/INCOPAT中国发明申请数据/2023\\2024-03-30 (2).xlsx (10000, 193) 10000\n",
      "208 3360985 H:/Source/Patent/INCOPAT中国发明申请数据/2023\\2024-03-30 (3).xlsx (10000, 193) 20000\n",
      "209 3370985 H:/Source/Patent/INCOPAT中国发明申请数据/2023\\2024-03-30 (4).xlsx (10000, 193) 30000\n",
      "210 3380985 H:/Source/Patent/INCOPAT中国发明申请数据/2023\\2024-03-30 (5).xlsx (10000, 193) 40000\n",
      "211 3390985 H:/Source/Patent/INCOPAT中国发明申请数据/2023\\2024-03-30 (6).xlsx (10000, 193) 50000\n",
      "212 3400985 H:/Source/Patent/INCOPAT中国发明申请数据/2023\\2024-03-30 (7).xlsx (10000, 193) 60000\n",
      "213 3410985 H:/Source/Patent/INCOPAT中国发明申请数据/2023\\2024-03-30 (8).xlsx (10000, 193) 70000\n",
      "214 3420985 H:/Source/Patent/INCOPAT中国发明申请数据/2023\\2024-03-30 (9).xlsx (10000, 193) 80000\n",
      "215 3430985 H:/Source/Patent/INCOPAT中国发明申请数据/2023\\2024-03-30.xlsx (5238, 193) 50000\n",
      "216 3436223 H:/Source/Patent/INCOPAT中国发明申请数据/2023\\2024-03-31 (1).xlsx (5056, 193) 90000\n",
      "217 3441279 H:/Source/Patent/INCOPAT中国发明申请数据/2023\\2024-03-31 (10).xlsx (10000, 193) 80000\n",
      "218 3451279 H:/Source/Patent/INCOPAT中国发明申请数据/2023\\2024-03-31 (11).xlsx (10000, 193) 90000\n",
      "219 3461279 H:/Source/Patent/INCOPAT中国发明申请数据/2023\\2024-03-31 (12).xlsx (1323, 193) 91323\n",
      "220 3462602 H:/Source/Patent/INCOPAT中国发明申请数据/2023\\2024-03-31 (2).xlsx (3621, 193) 93621\n",
      "221 3466223 H:/Source/Patent/INCOPAT中国发明申请数据/2023\\2024-03-31 (3).xlsx (10000, 193) 10000\n",
      "222 3476223 H:/Source/Patent/INCOPAT中国发明申请数据/2023\\2024-03-31 (4).xlsx (10000, 193) 20000\n",
      "223 3486223 H:/Source/Patent/INCOPAT中国发明申请数据/2023\\2024-03-31 (5).xlsx (10000, 193) 30000\n",
      "224 3496223 H:/Source/Patent/INCOPAT中国发明申请数据/2023\\2024-03-31 (6).xlsx (10000, 193) 40000\n",
      "225 3506223 H:/Source/Patent/INCOPAT中国发明申请数据/2023\\2024-03-31 (7).xlsx (10000, 193) 50000\n",
      "226 3516223 H:/Source/Patent/INCOPAT中国发明申请数据/2023\\2024-03-31 (8).xlsx (10000, 193) 60000\n",
      "227 3526223 H:/Source/Patent/INCOPAT中国发明申请数据/2023\\2024-03-31 (9).xlsx (10000, 193) 70000\n",
      "228 3536223 H:/Source/Patent/INCOPAT中国发明申请数据/2023\\2024-03-31.xlsx (4944, 193) 84944\n",
      "229 3541167 H:/Source/Patent/INCOPAT中国发明申请数据/2023\\2024-03-31_1).xlsx (10000, 193) 90000\n",
      "230 3551167 H:/Source/Patent/INCOPAT中国发明申请数据/2023\\2024-03-31_1.xlsx (1323, 193) 91323\n",
      "231 3552490 H:/Source/Patent/INCOPAT中国发明申请数据/2023\\2024-03-31_10).xlsx (3621, 193) 93621\n",
      "232 3556111 H:/Source/Patent/INCOPAT中国发明申请数据/2023\\2024-03-31_11).xlsx (5056, 193) 90000\n",
      "233 3561167 H:/Source/Patent/INCOPAT中国发明申请数据/2023\\2024-03-31_2).xlsx (10000, 193) 80000\n",
      "234 3571167 H:/Source/Patent/INCOPAT中国发明申请数据/2023\\2024-03-31_3).xlsx (10000, 193) 70000\n",
      "235 3581167 H:/Source/Patent/INCOPAT中国发明申请数据/2023\\2024-03-31_4).xlsx (10000, 193) 60000\n",
      "236 3591167 H:/Source/Patent/INCOPAT中国发明申请数据/2023\\2024-03-31_5).xlsx (10000, 193) 50000\n",
      "237 3601167 H:/Source/Patent/INCOPAT中国发明申请数据/2023\\2024-03-31_6).xlsx (10000, 193) 40000\n",
      "238 3611167 H:/Source/Patent/INCOPAT中国发明申请数据/2023\\2024-03-31_7).xlsx (10000, 193) 30000\n",
      "239 3621167 H:/Source/Patent/INCOPAT中国发明申请数据/2023\\2024-03-31_8).xlsx (10000, 193) 20000\n",
      "240 3631167 H:/Source/Patent/INCOPAT中国发明申请数据/2023\\2024-03-31_9).xlsx (10000, 193) 10000\n",
      "241 3641167 H:/Source/Patent/INCOPAT中国发明申请数据/2023\\2024-04-03 (1).xlsx (10000, 210) 10000\n",
      "242 3651167 H:/Source/Patent/INCOPAT中国发明申请数据/2023\\2024-04-03 (10).xlsx (10000, 210) 20000\n",
      "243 3661167 H:/Source/Patent/INCOPAT中国发明申请数据/2023\\2024-04-03 (11).xlsx (10000, 210) 10000\n",
      "244 3671167 H:/Source/Patent/INCOPAT中国发明申请数据/2023\\2024-04-03 (12).xlsx (4113, 210) 14113\n",
      "245 3675280 H:/Source/Patent/INCOPAT中国发明申请数据/2023\\2024-04-03 (13).xlsx (10000, 210) 10000\n",
      "246 3685280 H:/Source/Patent/INCOPAT中国发明申请数据/2023\\2024-04-03 (14).xlsx (4753, 210) 70375\n",
      "247 3690033 H:/Source/Patent/INCOPAT中国发明申请数据/2023\\2024-04-03 (15).xlsx (3693, 210) 95015\n",
      "248 3693726 H:/Source/Patent/INCOPAT中国发明申请数据/2023\\2024-04-03 (16).xlsx (10000, 210) 10000\n",
      "249 3703726 H:/Source/Patent/INCOPAT中国发明申请数据/2023\\2024-04-03 (17).xlsx (10000, 210) 20000\n",
      "250 3713726 H:/Source/Patent/INCOPAT中国发明申请数据/2023\\2024-04-03 (18).xlsx (354, 210) 20354\n",
      "251 3714080 H:/Source/Patent/INCOPAT中国发明申请数据/2023\\2024-04-03 (19).xlsx (10000, 210) 10000\n",
      "252 3724080 H:/Source/Patent/INCOPAT中国发明申请数据/2023\\2024-04-03 (2).xlsx (4231, 210) 14231\n",
      "253 3728311 H:/Source/Patent/INCOPAT中国发明申请数据/2023\\2024-04-03 (20).xlsx (10000, 210) 20000\n",
      "254 3738311 H:/Source/Patent/INCOPAT中国发明申请数据/2023\\2024-04-03 (21).xlsx (10000, 210) 30000\n",
      "255 3748311 H:/Source/Patent/INCOPAT中国发明申请数据/2023\\2024-04-03 (22).xlsx (5444, 210) 35444\n",
      "256 3753755 H:/Source/Patent/INCOPAT中国发明申请数据/2023\\2024-04-03 (23).xlsx (6310, 210) 16310\n",
      "257 3760065 H:/Source/Patent/INCOPAT中国发明申请数据/2023\\2024-04-03 (24).xlsx (10000, 210) 10000\n",
      "258 3770065 H:/Source/Patent/INCOPAT中国发明申请数据/2023\\2024-04-03 (25).xlsx (4199, 210) 24199\n",
      "259 3774264 H:/Source/Patent/INCOPAT中国发明申请数据/2023\\2024-04-03 (26).xlsx (10000, 210) 20000\n",
      "260 3784264 H:/Source/Patent/INCOPAT中国发明申请数据/2023\\2024-04-03 (27).xlsx (10000, 210) 10000\n",
      "261 3794264 H:/Source/Patent/INCOPAT中国发明申请数据/2023\\2024-04-03 (3).xlsx (10000, 210) 10000\n",
      "262 3804264 H:/Source/Patent/INCOPAT中国发明申请数据/2023\\2024-04-03 (4).xlsx (4479, 210) 4479\n",
      "263 3808743 H:/Source/Patent/INCOPAT中国发明申请数据/2023\\2024-04-03 (5).xlsx (1545, 210) 11545\n",
      "264 3810288 H:/Source/Patent/INCOPAT中国发明申请数据/2023\\2024-04-03 (6).xlsx (10000, 210) 10000\n",
      "265 3820288 H:/Source/Patent/INCOPAT中国发明申请数据/2023\\2024-04-03 (7).xlsx (5055, 210) 15055\n",
      "266 3825343 H:/Source/Patent/INCOPAT中国发明申请数据/2023\\2024-04-03 (8).xlsx (10000, 210) 10000\n",
      "267 3835343 H:/Source/Patent/INCOPAT中国发明申请数据/2023\\2024-04-03 (9).xlsx (2103, 210) 22103\n",
      "268 3837446 H:/Source/Patent/INCOPAT中国发明申请数据/2023\\2024-04-03.xlsx (3721, 210) 13721\n",
      "CPU times: total: 3h 17min 36s\n",
      "Wall time: 3h 23min 10s\n"
     ]
    }
   ],
   "source": [
    "%%time\n",
    "sizes=0\n",
    "output_path = 'E:/Documents/Jupyter/data/source/patent_data_202507_3.tsv'#202411_3\n",
    "patent_filter = pd.DataFrame()\n",
    "for i,f_patent in enumerate(matching_files):\n",
    "    df_chunk=pd.read_excel(f_patent)#,dtype=data_types, error_bad_lines=True\n",
    "    \n",
    "    print(i,sizes,f_patent,df_chunk.shape,df_chunk['序号'].max())#,patent_df.shape\n",
    "\n",
    "    df_chunk['申请日']=pd.to_datetime(df_chunk['申请日'])\n",
    "    df_chunk['公开（公告）日']=pd.to_datetime(df_chunk['公开（公告）日'])\n",
    "    df_chunk.sort_values(['申请日','公开（公告）日'],inplace=True)\n",
    "    df_chunk.reset_index(drop=True,inplace=True)\n",
    "    \n",
    "    df_chunk['序号'] = df_chunk.index + sizes + 1\n",
    "\n",
    "    # try:\n",
    "    #     df_chunk.to_sql('patent_incopat_2016b_202411', con=engine,chunksize=10000, if_exists='append', index=False)#,dtype=dtypes\n",
    "    # except Exception as e:\n",
    "    #     print(f\"Error writing to SQL: {e}\")\n",
    "\n",
    "    sizes+=df_chunk.shape[0]\n",
    "    \n",
    "    #applicants=df_chunk['申请人'].str.split(';').explode().str.strip()\n",
    "    #holders=df_chunk['当前权利人'].str.split(';').explode().str.strip()\n",
    "    #filter_applicants=applicants[applicants.isin(gx_companies)]\n",
    "    df_chunk['path'] = os.path.basename(f_patent)\n",
    "\n",
    "    # if i<=44:\n",
    "    #     continue\n",
    "    with open(output_path,'a',encoding=\"utf_8_sig\") as f: \n",
    "        # df_chunk.rename(\n",
    "        #      columns= {'提出实审时长':'进入实质审查时长',\n",
    "        #     '申请人国别代码':'申请人国家/地区',\n",
    "        #     '发明人国别':'发明人国家/地区',\n",
    "        #     '发明人地址':'发明人地址（原始）',}, inplace=True)\n",
    "        df_chunk.reindex(columns=data_columns+['path'], fill_value=None).to_csv(f,sep='\\t', mode=\"a\", index=False,header=f.tell()==0)#使用空值填充缺失的数据columns=data_columns,na_rep='NaN',转csv合并\n",
    "        \n",
    "    del df_chunk"
   ]
  },
  {
   "cell_type": "markdown",
   "id": "e8538886-9b50-4f11-af08-39842fed0d52",
   "metadata": {},
   "source": [
    "合并一下这部分的数据，我记得之前好像合并过？然后构建一下专利的每年的引用对的数据，主要用到的是下面的变量 df[['序号', '标题 (中文)', '标题 (英文)', '摘要 (中文)', '摘要 (英文)', '申请人', '公开（公告）号','引证申请人','申请日','自引信息','引证次数','公开（公告）日','引证专利']]，需要把每一个申请号对应的引证专利拆分之后，形成申请号-引证专利-申请日这样的结构，然后把引证申请人和引证专利同步的对应一下，之后再删去所有没有发生过引用的专利，并检索匹配一下引证专利对应的ipc分类号、摘要和标题以及法律状态这类的信息～"
   ]
  },
  {
   "cell_type": "markdown",
   "id": "f4e37569-3ec9-4fce-b5b8-28980a7cf544",
   "metadata": {},
   "source": [
    "税调公司共同申请\n",
    "税调与专利"
   ]
  },
  {
   "cell_type": "code",
   "execution_count": 21,
   "id": "e66f6651-ed2e-494d-b538-447afa42216a",
   "metadata": {},
   "outputs": [],
   "source": [
    "use_cols=['序号', '标题 (中文)', '标题 (英文)', '摘要 (中文)', '摘要 (英文)', '申请人', '申请号','公开（公告）号','引证申请人','申请日','自引信息','引证次数','公开（公告）日','引证专利','IPC主分类', '法律状态']"
   ]
  },
  {
   "cell_type": "code",
   "execution_count": 22,
   "id": "d9c84980-5fd2-4f30-ab0a-58489aebb252",
   "metadata": {},
   "outputs": [
    {
     "name": "stderr",
     "output_type": "stream",
     "text": [
      "<timed exec>:1: DtypeWarning: Columns (86) have mixed types. Specify dtype option on import or set low_memory=False.\n"
     ]
    },
    {
     "name": "stdout",
     "output_type": "stream",
     "text": [
      "CPU times: total: 14min 57s\n",
      "Wall time: 15min 47s\n"
     ]
    },
    {
     "data": {
      "text/plain": [
       "(3841167, 16)"
      ]
     },
     "execution_count": 22,
     "metadata": {},
     "output_type": "execute_result"
    }
   ],
   "source": [
    "%%time\n",
    "patent_df_3 =pd.read_csv('data/source/patent_data_202507_3.tsv',usecols=use_cols,sep='\\t')\n",
    "patent_df_3.shape#3841167"
   ]
  },
  {
   "cell_type": "code",
   "execution_count": 24,
   "id": "65416b2e-9c5b-4112-b6ea-72521a7d81a1",
   "metadata": {
    "scrolled": true
   },
   "outputs": [
    {
     "data": {
      "text/html": [
       "<div>\n",
       "<style scoped>\n",
       "    .dataframe tbody tr th:only-of-type {\n",
       "        vertical-align: middle;\n",
       "    }\n",
       "\n",
       "    .dataframe tbody tr th {\n",
       "        vertical-align: top;\n",
       "    }\n",
       "\n",
       "    .dataframe thead th {\n",
       "        text-align: right;\n",
       "    }\n",
       "</style>\n",
       "<table border=\"1\" class=\"dataframe\">\n",
       "  <thead>\n",
       "    <tr style=\"text-align: right;\">\n",
       "      <th></th>\n",
       "      <th>序号</th>\n",
       "      <th>标题 (中文)</th>\n",
       "      <th>标题 (英文)</th>\n",
       "      <th>摘要 (中文)</th>\n",
       "      <th>摘要 (英文)</th>\n",
       "      <th>申请人</th>\n",
       "      <th>公开（公告）号</th>\n",
       "      <th>公开（公告）日</th>\n",
       "      <th>申请号</th>\n",
       "      <th>申请日</th>\n",
       "      <th>IPC主分类</th>\n",
       "      <th>引证专利</th>\n",
       "      <th>自引信息</th>\n",
       "      <th>引证申请人</th>\n",
       "      <th>引证次数</th>\n",
       "      <th>法律状态</th>\n",
       "    </tr>\n",
       "  </thead>\n",
       "  <tbody>\n",
       "    <tr>\n",
       "      <th>3841162</th>\n",
       "      <td>3841163</td>\n",
       "      <td>一种注射笔</td>\n",
       "      <td>Injection pen</td>\n",
       "      <td>本申请公开了一种注射笔，包括按钮机构和剂量调节机构，所述按钮机构包括按钮组件，所述按钮组件包...</td>\n",
       "      <td>The present application discloses an injection...</td>\n",
       "      <td>苏州嘉树医疗科技有限公司</td>\n",
       "      <td>CN117563086B</td>\n",
       "      <td>2024-03-15</td>\n",
       "      <td>CN202410058059.X</td>\n",
       "      <td>2024-01-16</td>\n",
       "      <td>A61M5/315</td>\n",
       "      <td>WO2022217875A1; US20230398303A1; CN219814897U;...</td>\n",
       "      <td>CN219835963U</td>\n",
       "      <td>深圳惠迈智能科技有限公司; 赛诺菲阿凡提斯德意志有限公司; Adient Engineeri...</td>\n",
       "      <td>10.0</td>\n",
       "      <td>#法律状态公告日：20240220;\\r\\n法律状态：公开;\\r\\n描述信息：公开;\\r\\n...</td>\n",
       "    </tr>\n",
       "    <tr>\n",
       "      <th>3841163</th>\n",
       "      <td>3841164</td>\n",
       "      <td>一种注射笔及其剂量调节机构</td>\n",
       "      <td>The present invention relates to an injection ...</td>\n",
       "      <td>本申请公开了一种注射笔及其剂量调节机构，该剂量调节机构包括旋钮、止位支架和扭簧支架；旋钮能够...</td>\n",
       "      <td>The present application discloses an injection...</td>\n",
       "      <td>苏州嘉树医疗科技有限公司</td>\n",
       "      <td>CN117563085B</td>\n",
       "      <td>2024-03-15</td>\n",
       "      <td>CN202410058049.6</td>\n",
       "      <td>2024-01-16</td>\n",
       "      <td>A61M5/315</td>\n",
       "      <td>CN106267475A; CN219835963U; CN116271336A; CN21...</td>\n",
       "      <td>CN219835963U; CN116271336A</td>\n",
       "      <td>江苏德尔福医疗器械有限公司; 苏州嘉树医疗科技有限公司; 诺和诺德股份有限公司; Novo ...</td>\n",
       "      <td>6.0</td>\n",
       "      <td>#法律状态公告日：20240220;\\r\\n法律状态：公开;\\r\\n描述信息：公开;\\r\\n...</td>\n",
       "    </tr>\n",
       "    <tr>\n",
       "      <th>3841164</th>\n",
       "      <td>3841165</td>\n",
       "      <td>一种注射笔及其剂量调节机构</td>\n",
       "      <td>The present invention relates to an injection ...</td>\n",
       "      <td>本申请公开了一种注射笔及其剂量调节机构，该剂量调节机构包括动力杆、筒体、滚珠、套筒和扭簧；所...</td>\n",
       "      <td>The present application discloses an injection...</td>\n",
       "      <td>苏州嘉树医疗科技有限公司</td>\n",
       "      <td>CN117563084B</td>\n",
       "      <td>2024-03-15</td>\n",
       "      <td>CN202410058074.4</td>\n",
       "      <td>2024-01-16</td>\n",
       "      <td>A61M5/20</td>\n",
       "      <td>CN116650763A; CN113499513A; CN204133090U; CN21...</td>\n",
       "      <td>CN116271336A</td>\n",
       "      <td>诺和诺德股份有限公司; 苏州赛卫生物科技有限公司; 李民; 山东威高普瑞医药包装有限公司; ...</td>\n",
       "      <td>11.0</td>\n",
       "      <td>#法律状态公告日：20240220;\\r\\n法律状态：公开;\\r\\n描述信息：公开;\\r\\n...</td>\n",
       "    </tr>\n",
       "    <tr>\n",
       "      <th>3841165</th>\n",
       "      <td>3841166</td>\n",
       "      <td>一种碘化多羟基聚合物、制备方法及其制备的液体栓塞剂</td>\n",
       "      <td>Iodinated polyhydroxy polymer,  preparation me...</td>\n",
       "      <td>本发明公开了一种碘化多羟基聚合物、制备方法及其制备的液体栓塞剂，所述碘化多羟基聚合物的制备方...</td>\n",
       "      <td>The present invention discloses an iodinated p...</td>\n",
       "      <td>苏州美创医疗科技有限公司; 苏州美脉医疗器械有限公司</td>\n",
       "      <td>CN117586440A</td>\n",
       "      <td>2024-02-23</td>\n",
       "      <td>CN202410065737.5</td>\n",
       "      <td>2024-01-17</td>\n",
       "      <td>C08F16/06</td>\n",
       "      <td>US20130108574A1; US20210015963A1; CN114805644A...</td>\n",
       "      <td>CN114805644A</td>\n",
       "      <td>Biocompatibles Uk Limited; 天津南开和成科技有限公司; Yves ...</td>\n",
       "      <td>6.0</td>\n",
       "      <td>#法律状态公告日：20240223;\\r\\n法律状态：公开;\\r\\n描述信息：公开;\\r\\n...</td>\n",
       "    </tr>\n",
       "    <tr>\n",
       "      <th>3841166</th>\n",
       "      <td>3841167</td>\n",
       "      <td>睡眠领域技术研究转化的预警方法、装置、电子设备及存储介质</td>\n",
       "      <td>NaN</td>\n",
       "      <td>本申请提供了睡眠领域技术研究转化的预警方法、装置、电子设备及存储介质，确定睡眠领域的目标科学...</td>\n",
       "      <td>NaN</td>\n",
       "      <td>北京大众益康科技有限公司</td>\n",
       "      <td>CN117808633A</td>\n",
       "      <td>2024-04-02</td>\n",
       "      <td>CN202410223905.9</td>\n",
       "      <td>2024-02-29</td>\n",
       "      <td>G06Q50/18</td>\n",
       "      <td>NaN</td>\n",
       "      <td>NaN</td>\n",
       "      <td>NaN</td>\n",
       "      <td>NaN</td>\n",
       "      <td>#法律状态公告日：20240402;\\r\\n法律状态：公开;\\r\\n描述信息：公开;\\r\\n...</td>\n",
       "    </tr>\n",
       "  </tbody>\n",
       "</table>\n",
       "</div>"
      ],
      "text/plain": [
       "              序号                       标题 (中文)  \\\n",
       "3841162  3841163                         一种注射笔   \n",
       "3841163  3841164                 一种注射笔及其剂量调节机构   \n",
       "3841164  3841165                 一种注射笔及其剂量调节机构   \n",
       "3841165  3841166     一种碘化多羟基聚合物、制备方法及其制备的液体栓塞剂   \n",
       "3841166  3841167  睡眠领域技术研究转化的预警方法、装置、电子设备及存储介质   \n",
       "\n",
       "                                                   标题 (英文)  \\\n",
       "3841162                                      Injection pen   \n",
       "3841163  The present invention relates to an injection ...   \n",
       "3841164  The present invention relates to an injection ...   \n",
       "3841165  Iodinated polyhydroxy polymer,  preparation me...   \n",
       "3841166                                                NaN   \n",
       "\n",
       "                                                   摘要 (中文)  \\\n",
       "3841162  本申请公开了一种注射笔，包括按钮机构和剂量调节机构，所述按钮机构包括按钮组件，所述按钮组件包...   \n",
       "3841163  本申请公开了一种注射笔及其剂量调节机构，该剂量调节机构包括旋钮、止位支架和扭簧支架；旋钮能够...   \n",
       "3841164  本申请公开了一种注射笔及其剂量调节机构，该剂量调节机构包括动力杆、筒体、滚珠、套筒和扭簧；所...   \n",
       "3841165  本发明公开了一种碘化多羟基聚合物、制备方法及其制备的液体栓塞剂，所述碘化多羟基聚合物的制备方...   \n",
       "3841166  本申请提供了睡眠领域技术研究转化的预警方法、装置、电子设备及存储介质，确定睡眠领域的目标科学...   \n",
       "\n",
       "                                                   摘要 (英文)  \\\n",
       "3841162  The present application discloses an injection...   \n",
       "3841163  The present application discloses an injection...   \n",
       "3841164  The present application discloses an injection...   \n",
       "3841165  The present invention discloses an iodinated p...   \n",
       "3841166                                                NaN   \n",
       "\n",
       "                                申请人       公开（公告）号     公开（公告）日  \\\n",
       "3841162                苏州嘉树医疗科技有限公司  CN117563086B  2024-03-15   \n",
       "3841163                苏州嘉树医疗科技有限公司  CN117563085B  2024-03-15   \n",
       "3841164                苏州嘉树医疗科技有限公司  CN117563084B  2024-03-15   \n",
       "3841165  苏州美创医疗科技有限公司; 苏州美脉医疗器械有限公司  CN117586440A  2024-02-23   \n",
       "3841166                北京大众益康科技有限公司  CN117808633A  2024-04-02   \n",
       "\n",
       "                      申请号         申请日     IPC主分类  \\\n",
       "3841162  CN202410058059.X  2024-01-16  A61M5/315   \n",
       "3841163  CN202410058049.6  2024-01-16  A61M5/315   \n",
       "3841164  CN202410058074.4  2024-01-16   A61M5/20   \n",
       "3841165  CN202410065737.5  2024-01-17  C08F16/06   \n",
       "3841166  CN202410223905.9  2024-02-29  G06Q50/18   \n",
       "\n",
       "                                                      引证专利  \\\n",
       "3841162  WO2022217875A1; US20230398303A1; CN219814897U;...   \n",
       "3841163  CN106267475A; CN219835963U; CN116271336A; CN21...   \n",
       "3841164  CN116650763A; CN113499513A; CN204133090U; CN21...   \n",
       "3841165  US20130108574A1; US20210015963A1; CN114805644A...   \n",
       "3841166                                                NaN   \n",
       "\n",
       "                               自引信息  \\\n",
       "3841162                CN219835963U   \n",
       "3841163  CN219835963U; CN116271336A   \n",
       "3841164                CN116271336A   \n",
       "3841165                CN114805644A   \n",
       "3841166                         NaN   \n",
       "\n",
       "                                                     引证申请人  引证次数  \\\n",
       "3841162  深圳惠迈智能科技有限公司; 赛诺菲阿凡提斯德意志有限公司; Adient Engineeri...  10.0   \n",
       "3841163  江苏德尔福医疗器械有限公司; 苏州嘉树医疗科技有限公司; 诺和诺德股份有限公司; Novo ...   6.0   \n",
       "3841164  诺和诺德股份有限公司; 苏州赛卫生物科技有限公司; 李民; 山东威高普瑞医药包装有限公司; ...  11.0   \n",
       "3841165  Biocompatibles Uk Limited; 天津南开和成科技有限公司; Yves ...   6.0   \n",
       "3841166                                                NaN   NaN   \n",
       "\n",
       "                                                      法律状态  \n",
       "3841162  #法律状态公告日：20240220;\\r\\n法律状态：公开;\\r\\n描述信息：公开;\\r\\n...  \n",
       "3841163  #法律状态公告日：20240220;\\r\\n法律状态：公开;\\r\\n描述信息：公开;\\r\\n...  \n",
       "3841164  #法律状态公告日：20240220;\\r\\n法律状态：公开;\\r\\n描述信息：公开;\\r\\n...  \n",
       "3841165  #法律状态公告日：20240223;\\r\\n法律状态：公开;\\r\\n描述信息：公开;\\r\\n...  \n",
       "3841166  #法律状态公告日：20240402;\\r\\n法律状态：公开;\\r\\n描述信息：公开;\\r\\n...  "
      ]
     },
     "execution_count": 24,
     "metadata": {},
     "output_type": "execute_result"
    }
   ],
   "source": [
    "patent_df_3.tail()"
   ]
  },
  {
   "cell_type": "code",
   "execution_count": 10,
   "id": "56de32bb-eff4-4753-8b5b-2f9496ed5f31",
   "metadata": {},
   "outputs": [
    {
     "name": "stderr",
     "output_type": "stream",
     "text": [
      "D:\\ProgramData\\anaconda3\\Lib\\site-packages\\openpyxl\\styles\\stylesheet.py:226: UserWarning: Workbook contains no default style, apply openpyxl's default\n",
      "  warn(\"Workbook contains no default style, apply openpyxl's default\")\n"
     ]
    }
   ],
   "source": [
    "dx=pd.read_excel('H:/Source/Patent/INCOPAT中国发明申请数据/2023\\\\2024-04-03.xlsx',usecols=use_cols)"
   ]
  },
  {
   "cell_type": "code",
   "execution_count": 12,
   "id": "341958d3-aa68-4c47-9a3c-c788dd550f97",
   "metadata": {},
   "outputs": [
    {
     "data": {
      "text/plain": [
       "序号                                                     13721\n",
       "标题 (中文)                                              照相机用三角架\n",
       "标题 (英文)                    Tripods for cameras [photography]\n",
       "摘要 (中文)                                                  NaN\n",
       "摘要 (英文)                                                  NaN\n",
       "申请人                           Guangdong Sirui Optical Co Ltd\n",
       "公开（公告）号                                     EU0063951820001S\n",
       "公开（公告）日                                  2019-05-13 00:00:00\n",
       "申请号                                              EU006395182\n",
       "申请日                                      2019-04-24 00:00:00\n",
       "IPC主分类                                                   NaN\n",
       "引证专利                                                     NaN\n",
       "自引信息                                                     NaN\n",
       "引证申请人                                                    NaN\n",
       "引证次数                                                     NaN\n",
       "法律状态       #法律状态公告日：20190424;\\n状态代码：RES;\\n法律状态：;\\n描述信息：;\\...\n",
       "Name: 3720, dtype: object"
      ]
     },
     "execution_count": 12,
     "metadata": {},
     "output_type": "execute_result"
    }
   ],
   "source": [
    "dx.iloc[-1]"
   ]
  },
  {
   "cell_type": "code",
   "execution_count": 25,
   "id": "499f91b1-7b81-4e76-a44f-03c05cee8839",
   "metadata": {},
   "outputs": [],
   "source": [
    "del dx"
   ]
  },
  {
   "cell_type": "code",
   "execution_count": 26,
   "id": "9bc1abff-6580-41d8-9092-77d64334f5da",
   "metadata": {},
   "outputs": [
    {
     "data": {
      "text/plain": [
       "10"
      ]
     },
     "execution_count": 26,
     "metadata": {},
     "output_type": "execute_result"
    }
   ],
   "source": [
    "import gc\n",
    "gc.collect()"
   ]
  },
  {
   "cell_type": "code",
   "execution_count": 31,
   "id": "4f1c9976-732e-4932-b261-cb6073e5b2b7",
   "metadata": {
    "scrolled": true
   },
   "outputs": [
    {
     "ename": "ParserError",
     "evalue": "Error tokenizing data. C error: Calling read(nbytes) on source failed. Try engine='python'.",
     "output_type": "error",
     "traceback": [
      "\u001b[1;31m---------------------------------------------------------------------------\u001b[0m",
      "\u001b[1;31mParserError\u001b[0m                               Traceback (most recent call last)",
      "File \u001b[1;32m<timed exec>:2\u001b[0m\n",
      "File \u001b[1;32mD:\\ProgramData\\anaconda3\\Lib\\site-packages\\pandas\\io\\parsers\\readers.py:948\u001b[0m, in \u001b[0;36mread_csv\u001b[1;34m(filepath_or_buffer, sep, delimiter, header, names, index_col, usecols, dtype, engine, converters, true_values, false_values, skipinitialspace, skiprows, skipfooter, nrows, na_values, keep_default_na, na_filter, verbose, skip_blank_lines, parse_dates, infer_datetime_format, keep_date_col, date_parser, date_format, dayfirst, cache_dates, iterator, chunksize, compression, thousands, decimal, lineterminator, quotechar, quoting, doublequote, escapechar, comment, encoding, encoding_errors, dialect, on_bad_lines, delim_whitespace, low_memory, memory_map, float_precision, storage_options, dtype_backend)\u001b[0m\n\u001b[0;32m    935\u001b[0m kwds_defaults \u001b[38;5;241m=\u001b[39m _refine_defaults_read(\n\u001b[0;32m    936\u001b[0m     dialect,\n\u001b[0;32m    937\u001b[0m     delimiter,\n\u001b[1;32m   (...)\u001b[0m\n\u001b[0;32m    944\u001b[0m     dtype_backend\u001b[38;5;241m=\u001b[39mdtype_backend,\n\u001b[0;32m    945\u001b[0m )\n\u001b[0;32m    946\u001b[0m kwds\u001b[38;5;241m.\u001b[39mupdate(kwds_defaults)\n\u001b[1;32m--> 948\u001b[0m \u001b[38;5;28;01mreturn\u001b[39;00m _read(filepath_or_buffer, kwds)\n",
      "File \u001b[1;32mD:\\ProgramData\\anaconda3\\Lib\\site-packages\\pandas\\io\\parsers\\readers.py:617\u001b[0m, in \u001b[0;36m_read\u001b[1;34m(filepath_or_buffer, kwds)\u001b[0m\n\u001b[0;32m    614\u001b[0m     \u001b[38;5;28;01mreturn\u001b[39;00m parser\n\u001b[0;32m    616\u001b[0m \u001b[38;5;28;01mwith\u001b[39;00m parser:\n\u001b[1;32m--> 617\u001b[0m     \u001b[38;5;28;01mreturn\u001b[39;00m parser\u001b[38;5;241m.\u001b[39mread(nrows)\n",
      "File \u001b[1;32mD:\\ProgramData\\anaconda3\\Lib\\site-packages\\pandas\\io\\parsers\\readers.py:1748\u001b[0m, in \u001b[0;36mTextFileReader.read\u001b[1;34m(self, nrows)\u001b[0m\n\u001b[0;32m   1741\u001b[0m nrows \u001b[38;5;241m=\u001b[39m validate_integer(\u001b[38;5;124m\"\u001b[39m\u001b[38;5;124mnrows\u001b[39m\u001b[38;5;124m\"\u001b[39m, nrows)\n\u001b[0;32m   1742\u001b[0m \u001b[38;5;28;01mtry\u001b[39;00m:\n\u001b[0;32m   1743\u001b[0m     \u001b[38;5;66;03m# error: \"ParserBase\" has no attribute \"read\"\u001b[39;00m\n\u001b[0;32m   1744\u001b[0m     (\n\u001b[0;32m   1745\u001b[0m         index,\n\u001b[0;32m   1746\u001b[0m         columns,\n\u001b[0;32m   1747\u001b[0m         col_dict,\n\u001b[1;32m-> 1748\u001b[0m     ) \u001b[38;5;241m=\u001b[39m \u001b[38;5;28mself\u001b[39m\u001b[38;5;241m.\u001b[39m_engine\u001b[38;5;241m.\u001b[39mread(  \u001b[38;5;66;03m# type: ignore[attr-defined]\u001b[39;00m\n\u001b[0;32m   1749\u001b[0m         nrows\n\u001b[0;32m   1750\u001b[0m     )\n\u001b[0;32m   1751\u001b[0m \u001b[38;5;28;01mexcept\u001b[39;00m \u001b[38;5;167;01mException\u001b[39;00m:\n\u001b[0;32m   1752\u001b[0m     \u001b[38;5;28mself\u001b[39m\u001b[38;5;241m.\u001b[39mclose()\n",
      "File \u001b[1;32mD:\\ProgramData\\anaconda3\\Lib\\site-packages\\pandas\\io\\parsers\\c_parser_wrapper.py:234\u001b[0m, in \u001b[0;36mCParserWrapper.read\u001b[1;34m(self, nrows)\u001b[0m\n\u001b[0;32m    232\u001b[0m \u001b[38;5;28;01mtry\u001b[39;00m:\n\u001b[0;32m    233\u001b[0m     \u001b[38;5;28;01mif\u001b[39;00m \u001b[38;5;28mself\u001b[39m\u001b[38;5;241m.\u001b[39mlow_memory:\n\u001b[1;32m--> 234\u001b[0m         chunks \u001b[38;5;241m=\u001b[39m \u001b[38;5;28mself\u001b[39m\u001b[38;5;241m.\u001b[39m_reader\u001b[38;5;241m.\u001b[39mread_low_memory(nrows)\n\u001b[0;32m    235\u001b[0m         \u001b[38;5;66;03m# destructive to chunks\u001b[39;00m\n\u001b[0;32m    236\u001b[0m         data \u001b[38;5;241m=\u001b[39m _concatenate_chunks(chunks)\n",
      "File \u001b[1;32mparsers.pyx:843\u001b[0m, in \u001b[0;36mpandas._libs.parsers.TextReader.read_low_memory\u001b[1;34m()\u001b[0m\n",
      "File \u001b[1;32mparsers.pyx:904\u001b[0m, in \u001b[0;36mpandas._libs.parsers.TextReader._read_rows\u001b[1;34m()\u001b[0m\n",
      "File \u001b[1;32mparsers.pyx:879\u001b[0m, in \u001b[0;36mpandas._libs.parsers.TextReader._tokenize_rows\u001b[1;34m()\u001b[0m\n",
      "File \u001b[1;32mparsers.pyx:890\u001b[0m, in \u001b[0;36mpandas._libs.parsers.TextReader._check_tokenize_status\u001b[1;34m()\u001b[0m\n",
      "File \u001b[1;32mparsers.pyx:2058\u001b[0m, in \u001b[0;36mpandas._libs.parsers.raise_parser_error\u001b[1;34m()\u001b[0m\n",
      "\u001b[1;31mParserError\u001b[0m: Error tokenizing data. C error: Calling read(nbytes) on source failed. Try engine='python'."
     ]
    }
   ],
   "source": [
    "%%time\n",
    "patent_df =pd.concat([pd.read_csv('data/source/patent_data_202411.tsv',sep='\\t',usecols=use_cols),\n",
    "                      pd.read_csv('data/source/patent_data_202411_2.tsv',sep='\\t',usecols=use_cols),\n",
    "                      patent_df_3], ignore_index=True) #chunksize=100000,,dtype=data_types,parse_dates=parse_dates\n",
    "patent_df.shape"
   ]
  },
  {
   "cell_type": "code",
   "execution_count": 32,
   "id": "0325e8c7-1e8e-4b17-a9c2-6b92e7eca844",
   "metadata": {},
   "outputs": [
    {
     "data": {
      "text/plain": [
       "1105"
      ]
     },
     "execution_count": 32,
     "metadata": {},
     "output_type": "execute_result"
    }
   ],
   "source": [
    "del patent_df_3\n",
    "gc.collect()"
   ]
  },
  {
   "cell_type": "code",
   "execution_count": null,
   "id": "83ddb3e0-c114-4674-9118-d58f00ff773d",
   "metadata": {},
   "outputs": [],
   "source": [
    "#patent_df.to_csv('data/source/patent_all_invent_2507.tsv',sep='\\t', index=False)"
   ]
  },
  {
   "cell_type": "code",
   "execution_count": 33,
   "id": "50f57002-abc3-4ca4-b150-88d8c811b4ff",
   "metadata": {},
   "outputs": [
    {
     "name": "stderr",
     "output_type": "stream",
     "text": [
      "<timed exec>:5: DtypeWarning: Columns (86) have mixed types. Specify dtype option on import or set low_memory=False.\n"
     ]
    },
    {
     "name": "stdout",
     "output_type": "stream",
     "text": [
      "CPU times: total: 2h 50min 22s\n",
      "Wall time: 2h 50min 57s\n"
     ]
    }
   ],
   "source": [
    "%%time\n",
    "output_csv='data/source/patent_all_invent_2507.tsv'\n",
    "if os.path.exists(output_csv):\n",
    "    os.remove(output_csv)\n",
    "for p in ['data/source/patent_data_202411.tsv','data/source/patent_data_202411_2.tsv','data/source/patent_data_202507_3.tsv']:\n",
    "    for i,df_chunk in enumerate(pd.read_csv(p,sep='\\t',usecols=use_cols,chunksize=100000)):\n",
    "        df_chunk['source']=p\n",
    "        df_chunk.reindex(columns=use_cols+['source'], fill_value=None).to_csv(output_csv,sep='\\t', mode=\"a\", index=False,header=not os.path.exists(output_csv) and i == 0)"
   ]
  },
  {
   "cell_type": "code",
   "execution_count": 34,
   "id": "8d45596e-634c-4eab-a26b-c2ca33b188c2",
   "metadata": {},
   "outputs": [
    {
     "data": {
      "text/plain": [
       "38"
      ]
     },
     "execution_count": 34,
     "metadata": {},
     "output_type": "execute_result"
    }
   ],
   "source": [
    "i"
   ]
  },
  {
   "cell_type": "code",
   "execution_count": 3,
   "id": "1df8110c-be51-4ac4-a886-0e06a33b06cd",
   "metadata": {},
   "outputs": [],
   "source": [
    "output_csv='data/source/patent_all_invent_2507.tsv'\n",
    "use_cols_2=['序号', '申请人', '申请号','申请日','公开（公告）号','公开（公告）日','引证申请人','自引信息','引证次数','引证专利','IPC主分类']"
   ]
  },
  {
   "cell_type": "code",
   "execution_count": 6,
   "id": "422ea14c-40f0-40a0-9941-0d5d227e3c0a",
   "metadata": {},
   "outputs": [
    {
     "name": "stderr",
     "output_type": "stream",
     "text": [
      "<timed exec>:1: DtypeWarning: Columns (10) have mixed types. Specify dtype option on import or set low_memory=False.\n"
     ]
    },
    {
     "name": "stdout",
     "output_type": "stream",
     "text": [
      "CPU times: total: 8min 8s\n",
      "Wall time: 8min 18s\n"
     ]
    },
    {
     "data": {
      "text/plain": [
       "(17075032, 12)"
      ]
     },
     "execution_count": 6,
     "metadata": {},
     "output_type": "execute_result"
    }
   ],
   "source": [
    "%%time\n",
    "patent_df=pd.read_csv(output_csv,sep='\\t',usecols=use_cols_2+['source'])\n",
    "patent_df.shape"
   ]
  },
  {
   "cell_type": "code",
   "execution_count": 38,
   "id": "0a45a26f-8295-41f2-910b-d7cd4f804f1e",
   "metadata": {},
   "outputs": [
    {
     "data": {
      "text/plain": [
       "15522559"
      ]
     },
     "execution_count": 38,
     "metadata": {},
     "output_type": "execute_result"
    }
   ],
   "source": [
    "patent_df['公开（公告）号'].nunique()"
   ]
  },
  {
   "cell_type": "code",
   "execution_count": 39,
   "id": "e88b96b6-5655-42cc-a4e8-f54c7423a353",
   "metadata": {},
   "outputs": [
    {
     "name": "stdout",
     "output_type": "stream",
     "text": [
      "<class 'pandas.core.frame.DataFrame'>\n",
      "RangeIndex: 17075032 entries, 0 to 17075031\n",
      "Data columns (total 11 columns):\n",
      " #   Column   Dtype  \n",
      "---  ------   -----  \n",
      " 0   序号       int64  \n",
      " 1   申请人      object \n",
      " 2   申请号      object \n",
      " 3   公开（公告）号  object \n",
      " 4   引证申请人    object \n",
      " 5   申请日      object \n",
      " 6   自引信息     object \n",
      " 7   引证次数     float64\n",
      " 8   公开（公告）日  object \n",
      " 9   引证专利     object \n",
      " 10  IPC主分类   object \n",
      "dtypes: float64(1), int64(1), object(9)\n",
      "memory usage: 1.4+ GB\n"
     ]
    }
   ],
   "source": [
    "patent_df.info()"
   ]
  },
  {
   "cell_type": "code",
   "execution_count": 2,
   "id": "74038771-b9de-4a27-b2e7-59c19a307ccb",
   "metadata": {
    "scrolled": true
   },
   "outputs": [
    {
     "name": "stderr",
     "output_type": "stream",
     "text": [
      "D:\\Program Files\\Python\\Python313\\Lib\\site-packages\\distributed\\client.py:1582: VersionMismatchWarning: Mismatched versions found\n",
      "\n",
      "+-------------+----------------+----------------+--------------------------------------------------------+\n",
      "| Package     | Client         | Scheduler      | Workers                                                |\n",
      "+-------------+----------------+----------------+--------------------------------------------------------+\n",
      "| cloudpickle | 3.1.1          | 3.1.1          | {'3.0.0', '3.1.1'}                                     |\n",
      "| dask        | 2025.5.1       | 2025.5.1       | {'2023.12.1+dfsg', '2024.7.1', '2025.5.1'}             |\n",
      "| distributed | 2025.5.1       | 2025.5.1       | {'2025.5.1', '2024.7.1', '0+unknown'}                  |\n",
      "| lz4         | None           | None           | {None, '4.0.2+dfsg'}                                   |\n",
      "| msgpack     | 1.1.0          | 1.1.1          | {'1.0.3', '1.0.8', '1.1.0'}                            |\n",
      "| numpy       | 2.1.3          | 2.3.1          | {'2.1.3', '1.26.4', '1.25.2'}                          |\n",
      "| pandas      | 2.2.3          | 2.3.0          | {'2.1.4', '2.2.3', '2.0.3'}                            |\n",
      "| python      | 3.13.0.final.0 | 3.13.5.final.0 | {'3.9.13.final.0', '3.13.0.final.0', '3.12.3.final.0'} |\n",
      "| toolz       | 1.0.0          | 1.0.0          | {'0.12.1', '0.12.0', '1.0.0'}                          |\n",
      "| tornado     | 6.4.2          | 6.5.1          | {'6.4.2', '6.3.2', '6.4'}                              |\n",
      "+-------------+----------------+----------------+--------------------------------------------------------+\n",
      "  warnings.warn(version_module.VersionMismatchWarning(msg[0][\"warning\"]))\n"
     ]
    },
    {
     "data": {
      "text/html": [
       "<div>\n",
       "    <div style=\"width: 24px; height: 24px; background-color: #e1e1e1; border: 3px solid #9D9D9D; border-radius: 5px; position: absolute;\"> </div>\n",
       "    <div style=\"margin-left: 48px;\">\n",
       "        <h3 style=\"margin-bottom: 0px;\">Client</h3>\n",
       "        <p style=\"color: #9D9D9D; margin-bottom: 0px;\">Client-d7e406fb-6142-11f0-8b3c-4438e86ab95d</p>\n",
       "        <table style=\"width: 100%; text-align: left;\">\n",
       "\n",
       "        <tr>\n",
       "        \n",
       "            <td style=\"text-align: left;\"><strong>Connection method:</strong> Direct</td>\n",
       "            <td style=\"text-align: left;\"></td>\n",
       "        \n",
       "        </tr>\n",
       "\n",
       "        \n",
       "            <tr>\n",
       "                <td style=\"text-align: left;\">\n",
       "                    <strong>Dashboard: </strong> <a href=\"http://10.10.10.20:8787/status\" target=\"_blank\">http://10.10.10.20:8787/status</a>\n",
       "                </td>\n",
       "                <td style=\"text-align: left;\"></td>\n",
       "            </tr>\n",
       "        \n",
       "\n",
       "        </table>\n",
       "\n",
       "        \n",
       "\n",
       "        \n",
       "            <details>\n",
       "            <summary style=\"margin-bottom: 20px;\"><h3 style=\"display: inline;\">Scheduler Info</h3></summary>\n",
       "            <div style=\"\">\n",
       "    <div>\n",
       "        <div style=\"width: 24px; height: 24px; background-color: #FFF7E5; border: 3px solid #FF6132; border-radius: 5px; position: absolute;\"> </div>\n",
       "        <div style=\"margin-left: 48px;\">\n",
       "            <h3 style=\"margin-bottom: 0px;\">Scheduler</h3>\n",
       "            <p style=\"color: #9D9D9D; margin-bottom: 0px;\">Scheduler-a60abea5-32ae-419b-b91f-c4d6b1b89665</p>\n",
       "            <table style=\"width: 100%; text-align: left;\">\n",
       "                <tr>\n",
       "                    <td style=\"text-align: left;\">\n",
       "                        <strong>Comm:</strong> tcp://10.10.10.20:8786\n",
       "                    </td>\n",
       "                    <td style=\"text-align: left;\">\n",
       "                        <strong>Workers:</strong> 3 \n",
       "                    </td>\n",
       "                </tr>\n",
       "                <tr>\n",
       "                    <td style=\"text-align: left;\">\n",
       "                        <strong>Dashboard:</strong> <a href=\"http://10.10.10.20:8787/status\" target=\"_blank\">http://10.10.10.20:8787/status</a>\n",
       "                    </td>\n",
       "                    <td style=\"text-align: left;\">\n",
       "                        <strong>Total threads:</strong> 36\n",
       "                    </td>\n",
       "                </tr>\n",
       "                <tr>\n",
       "                    <td style=\"text-align: left;\">\n",
       "                        <strong>Started:</strong> 1 hour ago\n",
       "                    </td>\n",
       "                    <td style=\"text-align: left;\">\n",
       "                        <strong>Total memory:</strong> 87.01 GiB\n",
       "                    </td>\n",
       "                </tr>\n",
       "            </table>\n",
       "        </div>\n",
       "    </div>\n",
       "\n",
       "    <details style=\"margin-left: 48px;\">\n",
       "        <summary style=\"margin-bottom: 20px;\">\n",
       "            <h3 style=\"display: inline;\">Workers</h3>\n",
       "        </summary>\n",
       "\n",
       "        \n",
       "        <div style=\"margin-bottom: 20px;\">\n",
       "            <div style=\"width: 24px; height: 24px; background-color: #DBF5FF; border: 3px solid #4CC9FF; border-radius: 5px; position: absolute;\"> </div>\n",
       "            <div style=\"margin-left: 48px;\">\n",
       "            <details>\n",
       "                <summary>\n",
       "                    <h4 style=\"margin-bottom: 0px; display: inline;\">Worker: tcp://10.147.20.191:37929</h4>\n",
       "                </summary>\n",
       "                <table style=\"width: 100%; text-align: left;\">\n",
       "                    <tr>\n",
       "                        <td style=\"text-align: left;\">\n",
       "                            <strong>Comm: </strong> tcp://10.147.20.191:37929\n",
       "                        </td>\n",
       "                        <td style=\"text-align: left;\">\n",
       "                            <strong>Total threads: </strong> 8\n",
       "                        </td>\n",
       "                    </tr>\n",
       "                    <tr>\n",
       "                        <td style=\"text-align: left;\">\n",
       "                            <strong>Dashboard: </strong> <a href=\"http://10.147.20.191:44857/status\" target=\"_blank\">http://10.147.20.191:44857/status</a>\n",
       "                        </td>\n",
       "                        <td style=\"text-align: left;\">\n",
       "                            <strong>Memory: </strong> 15.56 GiB\n",
       "                        </td>\n",
       "                    </tr>\n",
       "                    <tr>\n",
       "                        <td style=\"text-align: left;\">\n",
       "                            <strong>Nanny: </strong> tcp://10.147.20.191:39457\n",
       "                        </td>\n",
       "                        <td style=\"text-align: left;\"></td>\n",
       "                    </tr>\n",
       "                    <tr>\n",
       "                        <td colspan=\"2\" style=\"text-align: left;\">\n",
       "                            <strong>Local directory: </strong> /tmp/dask-scratch-space/worker-5s70k1ty\n",
       "                        </td>\n",
       "                    </tr>\n",
       "\n",
       "                    \n",
       "\n",
       "                    \n",
       "                    <tr>\n",
       "                        <td style=\"text-align: left;\">\n",
       "                            <strong>Tasks executing: </strong> \n",
       "                        </td>\n",
       "                        <td style=\"text-align: left;\">\n",
       "                            <strong>Tasks in memory: </strong> \n",
       "                        </td>\n",
       "                    </tr>\n",
       "                    <tr>\n",
       "                        <td style=\"text-align: left;\">\n",
       "                            <strong>Tasks ready: </strong> \n",
       "                        </td>\n",
       "                        <td style=\"text-align: left;\">\n",
       "                            <strong>Tasks in flight: </strong>\n",
       "                        </td>\n",
       "                    </tr>\n",
       "                    <tr>\n",
       "                        <td style=\"text-align: left;\">\n",
       "                            <strong>CPU usage:</strong> 4.0%\n",
       "                        </td>\n",
       "                        <td style=\"text-align: left;\">\n",
       "                            <strong>Last seen: </strong> 23 hours ago\n",
       "                        </td>\n",
       "                    </tr>\n",
       "                    <tr>\n",
       "                        <td style=\"text-align: left;\">\n",
       "                            <strong>Memory usage: </strong> 97.80 MiB\n",
       "                        </td>\n",
       "                        <td style=\"text-align: left;\">\n",
       "                            <strong>Spilled bytes: </strong> 0 B\n",
       "                        </td>\n",
       "                    </tr>\n",
       "                    <tr>\n",
       "                        <td style=\"text-align: left;\">\n",
       "                            <strong>Read bytes: </strong> 656.3974788652575 B\n",
       "                        </td>\n",
       "                        <td style=\"text-align: left;\">\n",
       "                            <strong>Write bytes: </strong> 3.17 kiB\n",
       "                        </td>\n",
       "                    </tr>\n",
       "                    \n",
       "\n",
       "                </table>\n",
       "            </details>\n",
       "            </div>\n",
       "        </div>\n",
       "        \n",
       "        <div style=\"margin-bottom: 20px;\">\n",
       "            <div style=\"width: 24px; height: 24px; background-color: #DBF5FF; border: 3px solid #4CC9FF; border-radius: 5px; position: absolute;\"> </div>\n",
       "            <div style=\"margin-left: 48px;\">\n",
       "            <details>\n",
       "                <summary>\n",
       "                    <h4 style=\"margin-bottom: 0px; display: inline;\">Worker: tcp://10.168.1.25:3286</h4>\n",
       "                </summary>\n",
       "                <table style=\"width: 100%; text-align: left;\">\n",
       "                    <tr>\n",
       "                        <td style=\"text-align: left;\">\n",
       "                            <strong>Comm: </strong> tcp://10.168.1.25:3286\n",
       "                        </td>\n",
       "                        <td style=\"text-align: left;\">\n",
       "                            <strong>Total threads: </strong> 8\n",
       "                        </td>\n",
       "                    </tr>\n",
       "                    <tr>\n",
       "                        <td style=\"text-align: left;\">\n",
       "                            <strong>Dashboard: </strong> <a href=\"http://10.168.1.25:3287/status\" target=\"_blank\">http://10.168.1.25:3287/status</a>\n",
       "                        </td>\n",
       "                        <td style=\"text-align: left;\">\n",
       "                            <strong>Memory: </strong> 9.91 GiB\n",
       "                        </td>\n",
       "                    </tr>\n",
       "                    <tr>\n",
       "                        <td style=\"text-align: left;\">\n",
       "                            <strong>Nanny: </strong> tcp://10.168.1.25:3282\n",
       "                        </td>\n",
       "                        <td style=\"text-align: left;\"></td>\n",
       "                    </tr>\n",
       "                    <tr>\n",
       "                        <td colspan=\"2\" style=\"text-align: left;\">\n",
       "                            <strong>Local directory: </strong> C:\\Users\\ADMINI~1\\AppData\\Local\\Temp\\dask-scratch-space\\worker-a9zu4fea\n",
       "                        </td>\n",
       "                    </tr>\n",
       "\n",
       "                    \n",
       "\n",
       "                    \n",
       "                    <tr>\n",
       "                        <td style=\"text-align: left;\">\n",
       "                            <strong>Tasks executing: </strong> \n",
       "                        </td>\n",
       "                        <td style=\"text-align: left;\">\n",
       "                            <strong>Tasks in memory: </strong> \n",
       "                        </td>\n",
       "                    </tr>\n",
       "                    <tr>\n",
       "                        <td style=\"text-align: left;\">\n",
       "                            <strong>Tasks ready: </strong> \n",
       "                        </td>\n",
       "                        <td style=\"text-align: left;\">\n",
       "                            <strong>Tasks in flight: </strong>\n",
       "                        </td>\n",
       "                    </tr>\n",
       "                    <tr>\n",
       "                        <td style=\"text-align: left;\">\n",
       "                            <strong>CPU usage:</strong> 0.0%\n",
       "                        </td>\n",
       "                        <td style=\"text-align: left;\">\n",
       "                            <strong>Last seen: </strong> 23 hours ago\n",
       "                        </td>\n",
       "                    </tr>\n",
       "                    <tr>\n",
       "                        <td style=\"text-align: left;\">\n",
       "                            <strong>Memory usage: </strong> 115.42 MiB\n",
       "                        </td>\n",
       "                        <td style=\"text-align: left;\">\n",
       "                            <strong>Spilled bytes: </strong> 0 B\n",
       "                        </td>\n",
       "                    </tr>\n",
       "                    <tr>\n",
       "                        <td style=\"text-align: left;\">\n",
       "                            <strong>Read bytes: </strong> 270.3736336496543 B\n",
       "                        </td>\n",
       "                        <td style=\"text-align: left;\">\n",
       "                            <strong>Write bytes: </strong> 1.42 kiB\n",
       "                        </td>\n",
       "                    </tr>\n",
       "                    \n",
       "\n",
       "                </table>\n",
       "            </details>\n",
       "            </div>\n",
       "        </div>\n",
       "        \n",
       "        <div style=\"margin-bottom: 20px;\">\n",
       "            <div style=\"width: 24px; height: 24px; background-color: #DBF5FF; border: 3px solid #4CC9FF; border-radius: 5px; position: absolute;\"> </div>\n",
       "            <div style=\"margin-left: 48px;\">\n",
       "            <details>\n",
       "                <summary>\n",
       "                    <h4 style=\"margin-bottom: 0px; display: inline;\">Worker: tcp://172.16.0.213:49994</h4>\n",
       "                </summary>\n",
       "                <table style=\"width: 100%; text-align: left;\">\n",
       "                    <tr>\n",
       "                        <td style=\"text-align: left;\">\n",
       "                            <strong>Comm: </strong> tcp://172.16.0.213:49994\n",
       "                        </td>\n",
       "                        <td style=\"text-align: left;\">\n",
       "                            <strong>Total threads: </strong> 20\n",
       "                        </td>\n",
       "                    </tr>\n",
       "                    <tr>\n",
       "                        <td style=\"text-align: left;\">\n",
       "                            <strong>Dashboard: </strong> <a href=\"http://172.16.0.213:49995/status\" target=\"_blank\">http://172.16.0.213:49995/status</a>\n",
       "                        </td>\n",
       "                        <td style=\"text-align: left;\">\n",
       "                            <strong>Memory: </strong> 61.53 GiB\n",
       "                        </td>\n",
       "                    </tr>\n",
       "                    <tr>\n",
       "                        <td style=\"text-align: left;\">\n",
       "                            <strong>Nanny: </strong> tcp://172.16.0.213:49990\n",
       "                        </td>\n",
       "                        <td style=\"text-align: left;\"></td>\n",
       "                    </tr>\n",
       "                    <tr>\n",
       "                        <td colspan=\"2\" style=\"text-align: left;\">\n",
       "                            <strong>Local directory: </strong> C:\\Users\\Admin\\AppData\\Local\\Temp\\dask-scratch-space\\worker-6zfwku_j\n",
       "                        </td>\n",
       "                    </tr>\n",
       "\n",
       "                    \n",
       "\n",
       "                    \n",
       "                    <tr>\n",
       "                        <td style=\"text-align: left;\">\n",
       "                            <strong>Tasks executing: </strong> \n",
       "                        </td>\n",
       "                        <td style=\"text-align: left;\">\n",
       "                            <strong>Tasks in memory: </strong> \n",
       "                        </td>\n",
       "                    </tr>\n",
       "                    <tr>\n",
       "                        <td style=\"text-align: left;\">\n",
       "                            <strong>Tasks ready: </strong> \n",
       "                        </td>\n",
       "                        <td style=\"text-align: left;\">\n",
       "                            <strong>Tasks in flight: </strong>\n",
       "                        </td>\n",
       "                    </tr>\n",
       "                    <tr>\n",
       "                        <td style=\"text-align: left;\">\n",
       "                            <strong>CPU usage:</strong> 6.3%\n",
       "                        </td>\n",
       "                        <td style=\"text-align: left;\">\n",
       "                            <strong>Last seen: </strong> 23 hours ago\n",
       "                        </td>\n",
       "                    </tr>\n",
       "                    <tr>\n",
       "                        <td style=\"text-align: left;\">\n",
       "                            <strong>Memory usage: </strong> 40.32 MiB\n",
       "                        </td>\n",
       "                        <td style=\"text-align: left;\">\n",
       "                            <strong>Spilled bytes: </strong> 0 B\n",
       "                        </td>\n",
       "                    </tr>\n",
       "                    <tr>\n",
       "                        <td style=\"text-align: left;\">\n",
       "                            <strong>Read bytes: </strong> 5.41 kiB\n",
       "                        </td>\n",
       "                        <td style=\"text-align: left;\">\n",
       "                            <strong>Write bytes: </strong> 5.23 kiB\n",
       "                        </td>\n",
       "                    </tr>\n",
       "                    \n",
       "\n",
       "                </table>\n",
       "            </details>\n",
       "            </div>\n",
       "        </div>\n",
       "        \n",
       "\n",
       "    </details>\n",
       "</div>\n",
       "            </details>\n",
       "        \n",
       "\n",
       "    </div>\n",
       "</div>"
      ],
      "text/plain": [
       "<Client: 'tcp://10.10.10.20:8786' processes=3 threads=36, memory=87.01 GiB>"
      ]
     },
     "execution_count": 2,
     "metadata": {},
     "output_type": "execute_result"
    },
    {
     "name": "stderr",
     "output_type": "stream",
     "text": [
      "2025-07-16 00:30:57,292 - distributed.batched - INFO - Batched Comm Closed <TCP (closed) Client->Scheduler local=tcp://172.16.0.213:49948 remote=tcp://10.10.10.20:8786>\n",
      "Traceback (most recent call last):\n",
      "  File \"D:\\Program Files\\Python\\Python313\\Lib\\site-packages\\distributed\\batched.py\", line 115, in _background_send\n",
      "    nbytes = yield coro\n",
      "             ^^^^^^^^^^\n",
      "  File \"D:\\Program Files\\Python\\Python313\\Lib\\site-packages\\tornado\\gen.py\", line 766, in run\n",
      "    value = future.result()\n",
      "  File \"D:\\Program Files\\Python\\Python313\\Lib\\site-packages\\distributed\\comm\\tcp.py\", line 263, in write\n",
      "    raise CommClosedError()\n",
      "distributed.comm.core.CommClosedError\n",
      "2025-07-16 02:30:57,640 - distributed.client - ERROR - Failed to reconnect to scheduler after 30.00 seconds, closing client\n"
     ]
    }
   ],
   "source": [
    "from dask.distributed import Client\n",
    "import dask.dataframe as dd\n",
    "client = Client(\"tcp://10.10.10.20:8786\")\n",
    "client"
   ]
  },
  {
   "cell_type": "code",
   "execution_count": 7,
   "id": "facf17dc-47b6-41fb-8a3c-6fdacc697798",
   "metadata": {},
   "outputs": [],
   "source": [
    "# import dask\n",
    "# df=dask.datasets.timeseries()\n",
    "# df.head()\n",
    "patent_df =dd.from_pandas(df_pd, npartitions=4)"
   ]
  },
  {
   "cell_type": "code",
   "execution_count": 17,
   "id": "c7cd57b7-15ba-4f82-b77b-f320c7731876",
   "metadata": {},
   "outputs": [],
   "source": [
    "import csv"
   ]
  },
  {
   "cell_type": "code",
   "execution_count": 4,
   "id": "70083c14-4056-4f0c-a7cc-9075566c8276",
   "metadata": {},
   "outputs": [
    {
     "name": "stdout",
     "output_type": "stream",
     "text": [
      "CPU times: total: 15.6 ms\n",
      "Wall time: 84.2 ms\n"
     ]
    },
    {
     "data": {
      "text/plain": [
       "(<dask_expr.expr.Scalar: expr=ArrowStringConversion(frame=FromMapProjectable(dcc2b2b)).size() // 11, dtype=int64>,\n",
       " 11)"
      ]
     },
     "execution_count": 4,
     "metadata": {},
     "output_type": "execute_result"
    }
   ],
   "source": [
    "%%time\n",
    "patent_df= dd.read_csv(output_csv,sep='\\t',usecols=use_cols_2,  blocksize=None)#, on_bad_lines='skip', encoding='utf-8', quoting=csv.QUOTE_MINIMAL\n",
    "patent_df.shape"
   ]
  },
  {
   "cell_type": "code",
   "execution_count": 5,
   "id": "c97bc7a0-509e-43ba-bb74-c1e61b47a2b0",
   "metadata": {
    "scrolled": true
   },
   "outputs": [
    {
     "ename": "MemoryError",
     "evalue": "",
     "output_type": "error",
     "traceback": [
      "\u001b[1;31m---------------------------------------------------------------------------\u001b[0m",
      "\u001b[1;31mMemoryError\u001b[0m                               Traceback (most recent call last)",
      "Cell \u001b[1;32mIn[5], line 1\u001b[0m\n\u001b[1;32m----> 1\u001b[0m \u001b[38;5;28;43mlen\u001b[39;49m\u001b[43m(\u001b[49m\u001b[43mpatent_df\u001b[49m\u001b[43m)\u001b[49m \n",
      "File \u001b[1;32mD:\\Program Files\\Python\\Python313\\Lib\\site-packages\\dask\\dataframe\\dask_expr\\_collection.py:391\u001b[0m, in \u001b[0;36mFrameBase.__len__\u001b[1;34m(self)\u001b[0m\n\u001b[0;32m    390\u001b[0m \u001b[38;5;28;01mdef\u001b[39;00m \u001b[38;5;21m__len__\u001b[39m(\u001b[38;5;28mself\u001b[39m):\n\u001b[1;32m--> 391\u001b[0m     \u001b[38;5;28;01mreturn\u001b[39;00m \u001b[43mnew_collection\u001b[49m\u001b[43m(\u001b[49m\u001b[43mLen\u001b[49m\u001b[43m(\u001b[49m\u001b[38;5;28;43mself\u001b[39;49m\u001b[43m)\u001b[49m\u001b[43m)\u001b[49m\u001b[38;5;241;43m.\u001b[39;49m\u001b[43mcompute\u001b[49m\u001b[43m(\u001b[49m\u001b[43m)\u001b[49m\n",
      "File \u001b[1;32mD:\\Program Files\\Python\\Python313\\Lib\\site-packages\\dask\\base.py:373\u001b[0m, in \u001b[0;36mDaskMethodsMixin.compute\u001b[1;34m(self, **kwargs)\u001b[0m\n\u001b[0;32m    349\u001b[0m \u001b[38;5;28;01mdef\u001b[39;00m \u001b[38;5;21mcompute\u001b[39m(\u001b[38;5;28mself\u001b[39m, \u001b[38;5;241m*\u001b[39m\u001b[38;5;241m*\u001b[39mkwargs):\n\u001b[0;32m    350\u001b[0m \u001b[38;5;250m    \u001b[39m\u001b[38;5;124;03m\"\"\"Compute this dask collection\u001b[39;00m\n\u001b[0;32m    351\u001b[0m \n\u001b[0;32m    352\u001b[0m \u001b[38;5;124;03m    This turns a lazy Dask collection into its in-memory equivalent.\u001b[39;00m\n\u001b[1;32m   (...)\u001b[0m\n\u001b[0;32m    371\u001b[0m \u001b[38;5;124;03m    dask.compute\u001b[39;00m\n\u001b[0;32m    372\u001b[0m \u001b[38;5;124;03m    \"\"\"\u001b[39;00m\n\u001b[1;32m--> 373\u001b[0m     (result,) \u001b[38;5;241m=\u001b[39m \u001b[43mcompute\u001b[49m\u001b[43m(\u001b[49m\u001b[38;5;28;43mself\u001b[39;49m\u001b[43m,\u001b[49m\u001b[43m \u001b[49m\u001b[43mtraverse\u001b[49m\u001b[38;5;241;43m=\u001b[39;49m\u001b[38;5;28;43;01mFalse\u001b[39;49;00m\u001b[43m,\u001b[49m\u001b[43m \u001b[49m\u001b[38;5;241;43m*\u001b[39;49m\u001b[38;5;241;43m*\u001b[39;49m\u001b[43mkwargs\u001b[49m\u001b[43m)\u001b[49m\n\u001b[0;32m    374\u001b[0m     \u001b[38;5;28;01mreturn\u001b[39;00m result\n",
      "File \u001b[1;32mD:\\Program Files\\Python\\Python313\\Lib\\site-packages\\dask\\base.py:681\u001b[0m, in \u001b[0;36mcompute\u001b[1;34m(traverse, optimize_graph, scheduler, get, *args, **kwargs)\u001b[0m\n\u001b[0;32m    678\u001b[0m     expr \u001b[38;5;241m=\u001b[39m expr\u001b[38;5;241m.\u001b[39moptimize()\n\u001b[0;32m    679\u001b[0m     keys \u001b[38;5;241m=\u001b[39m \u001b[38;5;28mlist\u001b[39m(flatten(expr\u001b[38;5;241m.\u001b[39m__dask_keys__()))\n\u001b[1;32m--> 681\u001b[0m     results \u001b[38;5;241m=\u001b[39m \u001b[43mschedule\u001b[49m\u001b[43m(\u001b[49m\u001b[43mexpr\u001b[49m\u001b[43m,\u001b[49m\u001b[43m \u001b[49m\u001b[43mkeys\u001b[49m\u001b[43m,\u001b[49m\u001b[43m \u001b[49m\u001b[38;5;241;43m*\u001b[39;49m\u001b[38;5;241;43m*\u001b[39;49m\u001b[43mkwargs\u001b[49m\u001b[43m)\u001b[49m\n\u001b[0;32m    683\u001b[0m \u001b[38;5;28;01mreturn\u001b[39;00m repack(results)\n",
      "File \u001b[1;32mD:\\Program Files\\Python\\Python313\\Lib\\site-packages\\dask\\bytes\\core.py:193\u001b[0m, in \u001b[0;36mread_block_from_file\u001b[1;34m()\u001b[0m\n\u001b[0;32m    191\u001b[0m \u001b[38;5;28;01mwith\u001b[39;00m copy\u001b[38;5;241m.\u001b[39mcopy(lazy_file) \u001b[38;5;28;01mas\u001b[39;00m f:\n\u001b[0;32m    192\u001b[0m     \u001b[38;5;28;01mif\u001b[39;00m off \u001b[38;5;241m==\u001b[39m \u001b[38;5;241m0\u001b[39m \u001b[38;5;129;01mand\u001b[39;00m bs \u001b[38;5;129;01mis\u001b[39;00m \u001b[38;5;28;01mNone\u001b[39;00m:\n\u001b[1;32m--> 193\u001b[0m         \u001b[38;5;28;01mreturn\u001b[39;00m f\u001b[38;5;241m.\u001b[39mread()\n\u001b[0;32m    194\u001b[0m     \u001b[38;5;28;01mreturn\u001b[39;00m read_block(f, off, bs, delimiter)\n",
      "File \u001b[1;32mD:\\Program Files\\Python\\Python313\\Lib\\site-packages\\fsspec\\implementations\\local.py:428\u001b[0m, in \u001b[0;36mread\u001b[1;34m()\u001b[0m\n\u001b[0;32m    427\u001b[0m \u001b[38;5;28;01mdef\u001b[39;00m \u001b[38;5;21mread\u001b[39m(\u001b[38;5;28mself\u001b[39m, \u001b[38;5;241m*\u001b[39margs, \u001b[38;5;241m*\u001b[39m\u001b[38;5;241m*\u001b[39mkwargs):\n\u001b[1;32m--> 428\u001b[0m     \u001b[38;5;28;01mreturn\u001b[39;00m \u001b[38;5;28mself\u001b[39m\u001b[38;5;241m.\u001b[39mf\u001b[38;5;241m.\u001b[39mread(\u001b[38;5;241m*\u001b[39margs, \u001b[38;5;241m*\u001b[39m\u001b[38;5;241m*\u001b[39mkwargs)\n",
      "\u001b[1;31mMemoryError\u001b[0m: "
     ]
    }
   ],
   "source": [
    "len(patent_df) "
   ]
  },
  {
   "cell_type": "code",
   "execution_count": 10,
   "id": "24d9a431-32b8-44ac-9044-948ee9cd488c",
   "metadata": {},
   "outputs": [
    {
     "data": {
      "text/plain": [
       "((15522559, 13), 14961771)"
      ]
     },
     "execution_count": 10,
     "metadata": {},
     "output_type": "execute_result"
    }
   ],
   "source": [
    "patent_df['公开（公告）日']=pd.to_datetime(patent_df['公开（公告）日'])\n",
    "patent_df['申请日']=pd.to_datetime(patent_df['申请日'])\n",
    "patent_df=patent_df.sort_values(['申请日','公开（公告）日']).drop_duplicates(['申请号','公开（公告）号'],keep='first').reset_index()#drop=True\n",
    "patent_df.shape,patent_df['申请号'].nunique()"
   ]
  },
  {
   "cell_type": "code",
   "execution_count": 41,
   "id": "32f4ee52-f194-48a0-b933-08b1d9f04e21",
   "metadata": {},
   "outputs": [
    {
     "data": {
      "text/plain": [
       "(Timestamp('2024-11-19 00:00:00'), Timestamp('2024-03-07 00:00:00'))"
      ]
     },
     "execution_count": 41,
     "metadata": {},
     "output_type": "execute_result"
    }
   ],
   "source": [
    "patent_df['公开（公告）日'].max(),patent_df['申请日'].max()"
   ]
  },
  {
   "cell_type": "code",
   "execution_count": 44,
   "id": "3246b93b-e179-4248-9cab-97d52e1754cb",
   "metadata": {},
   "outputs": [
    {
     "data": {
      "text/html": [
       "<div>\n",
       "<style scoped>\n",
       "    .dataframe tbody tr th:only-of-type {\n",
       "        vertical-align: middle;\n",
       "    }\n",
       "\n",
       "    .dataframe tbody tr th {\n",
       "        vertical-align: top;\n",
       "    }\n",
       "\n",
       "    .dataframe thead th {\n",
       "        text-align: right;\n",
       "    }\n",
       "</style>\n",
       "<table border=\"1\" class=\"dataframe\">\n",
       "  <thead>\n",
       "    <tr style=\"text-align: right;\">\n",
       "      <th></th>\n",
       "      <th>引证专利</th>\n",
       "      <th>引证申请人</th>\n",
       "    </tr>\n",
       "  </thead>\n",
       "  <tbody>\n",
       "    <tr>\n",
       "      <th>2</th>\n",
       "      <td>US3979801A; US3765062A; US302421A; US796414A; ...</td>\n",
       "      <td>Walker Ltd Thomas; Tareau Georges; Bonnie Ente...</td>\n",
       "    </tr>\n",
       "    <tr>\n",
       "      <th>3</th>\n",
       "      <td>US4166180A</td>\n",
       "      <td>Hokuriku Pharmaceutical</td>\n",
       "    </tr>\n",
       "    <tr>\n",
       "      <th>5</th>\n",
       "      <td>DE1302592B; DE1302592C2</td>\n",
       "      <td>NaN</td>\n",
       "    </tr>\n",
       "    <tr>\n",
       "      <th>7</th>\n",
       "      <td>FR2499712B1; FR2499712A1</td>\n",
       "      <td>Etat Francais; France Etat</td>\n",
       "    </tr>\n",
       "    <tr>\n",
       "      <th>9</th>\n",
       "      <td>DE2747765B2; DE2747765A1</td>\n",
       "      <td>Walter Rau Lebensmittelwerke,  4517 Hilter; Ra...</td>\n",
       "    </tr>\n",
       "    <tr>\n",
       "      <th>...</th>\n",
       "      <td>...</td>\n",
       "      <td>...</td>\n",
       "    </tr>\n",
       "    <tr>\n",
       "      <th>15522545</th>\n",
       "      <td>CN103811463A; CN111769097A; CN107611081A; US20...</td>\n",
       "      <td>蔡佳勋; 陈鼎钧; 杨宏智; 唐肇蔚; 黄希哲; 廖学专; David Edward Fis...</td>\n",
       "    </tr>\n",
       "    <tr>\n",
       "      <th>15522546</th>\n",
       "      <td>CN102957303A; US5528125A; CN105024542A; CN1011...</td>\n",
       "      <td>苏州贝克微电子有限公司; Texas Instruments Inc; 张云山; 林大伟; ...</td>\n",
       "    </tr>\n",
       "    <tr>\n",
       "      <th>15522547</th>\n",
       "      <td>CN209545214U; US20100019807A1; CN101291103A; C...</td>\n",
       "      <td>苏州威尔阳光智能科技有限公司; 普联技术有限公司; 思柏科技股份有限公司; 南京微盟电子有限...</td>\n",
       "    </tr>\n",
       "    <tr>\n",
       "      <th>15522548</th>\n",
       "      <td>CN101093843A; CN101303500A; CN111198463A; US20...</td>\n",
       "      <td>深圳市华星光电半导体显示技术有限公司; Chikaaki Mizoguchi; Samsun...</td>\n",
       "    </tr>\n",
       "    <tr>\n",
       "      <th>15522549</th>\n",
       "      <td>CN110827702A; US20180033800A1; CN110911392A; C...</td>\n",
       "      <td>深圳市智讯达光电科技有限公司; 美商康宁公司; Japan Display Inc; 三星显...</td>\n",
       "    </tr>\n",
       "  </tbody>\n",
       "</table>\n",
       "<p>10858707 rows × 2 columns</p>\n",
       "</div>"
      ],
      "text/plain": [
       "                                                       引证专利  \\\n",
       "2         US3979801A; US3765062A; US302421A; US796414A; ...   \n",
       "3                                                US4166180A   \n",
       "5                                   DE1302592B; DE1302592C2   \n",
       "7                                  FR2499712B1; FR2499712A1   \n",
       "9                                  DE2747765B2; DE2747765A1   \n",
       "...                                                     ...   \n",
       "15522545  CN103811463A; CN111769097A; CN107611081A; US20...   \n",
       "15522546  CN102957303A; US5528125A; CN105024542A; CN1011...   \n",
       "15522547  CN209545214U; US20100019807A1; CN101291103A; C...   \n",
       "15522548  CN101093843A; CN101303500A; CN111198463A; US20...   \n",
       "15522549  CN110827702A; US20180033800A1; CN110911392A; C...   \n",
       "\n",
       "                                                      引证申请人  \n",
       "2         Walker Ltd Thomas; Tareau Georges; Bonnie Ente...  \n",
       "3                                   Hokuriku Pharmaceutical  \n",
       "5                                                       NaN  \n",
       "7                                Etat Francais; France Etat  \n",
       "9         Walter Rau Lebensmittelwerke,  4517 Hilter; Ra...  \n",
       "...                                                     ...  \n",
       "15522545  蔡佳勋; 陈鼎钧; 杨宏智; 唐肇蔚; 黄希哲; 廖学专; David Edward Fis...  \n",
       "15522546  苏州贝克微电子有限公司; Texas Instruments Inc; 张云山; 林大伟; ...  \n",
       "15522547  苏州威尔阳光智能科技有限公司; 普联技术有限公司; 思柏科技股份有限公司; 南京微盟电子有限...  \n",
       "15522548  深圳市华星光电半导体显示技术有限公司; Chikaaki Mizoguchi; Samsun...  \n",
       "15522549  深圳市智讯达光电科技有限公司; 美商康宁公司; Japan Display Inc; 三星显...  \n",
       "\n",
       "[10858707 rows x 2 columns]"
      ]
     },
     "execution_count": 44,
     "metadata": {},
     "output_type": "execute_result"
    }
   ],
   "source": [
    "patent_df[['引证专利','引证申请人']].dropna(how='all')"
   ]
  },
  {
   "cell_type": "code",
   "execution_count": 11,
   "id": "00f9120a-e8df-458c-97b1-6daac63fa80d",
   "metadata": {},
   "outputs": [
    {
     "data": {
      "text/plain": [
       "Index(['index', '序号', '申请人', '申请号', '公开（公告）号', '引证申请人', '申请日', '自引信息', '引证次数',\n",
       "       '公开（公告）日', '引证专利', 'IPC主分类', 'source'],\n",
       "      dtype='object')"
      ]
     },
     "execution_count": 11,
     "metadata": {},
     "output_type": "execute_result"
    }
   ],
   "source": [
    "patent_df.to_parquet('data/source/patent_all_invent_25070.parquet',index=False)\n",
    "patent_df.columns#'source''index'"
   ]
  },
  {
   "cell_type": "code",
   "execution_count": 12,
   "id": "bbaa708d-fc06-402c-8fe7-7a251b377e50",
   "metadata": {},
   "outputs": [
    {
     "data": {
      "text/plain": [
       "70714339"
      ]
     },
     "execution_count": 12,
     "metadata": {},
     "output_type": "execute_result"
    }
   ],
   "source": [
    "patent_df['引证专利']=patent_df['引证专利'].fillna('').str.split(';')#拆分引用边\n",
    "#patent_df['引证申请人']=patent_df['引证申请人'].fillna('').str.split(';')\n",
    "exploded = patent_df[['申请号','申请日', '申请人','公开（公告）号', '引证专利', '引证申请人']].explode('引证专利')\n",
    "exploded['引证专利'] = exploded['引证专利'].str.strip()\n",
    "exploded = exploded[exploded['引证专利'] != '']\n",
    "len(exploded)#70714339"
   ]
  },
  {
   "cell_type": "code",
   "execution_count": 50,
   "id": "547ada96-5a84-4aee-b63c-6bce645935a0",
   "metadata": {},
   "outputs": [
    {
     "data": {
      "text/plain": [
       "0"
      ]
     },
     "execution_count": 50,
     "metadata": {},
     "output_type": "execute_result"
    }
   ],
   "source": [
    "exploded.引证专利.isna().sum()"
   ]
  },
  {
   "cell_type": "code",
   "execution_count": 26,
   "id": "59f57c42-546e-47b0-9e48-3c4a2a8ec525",
   "metadata": {},
   "outputs": [
    {
     "data": {
      "text/plain": [
       "引证专利\n",
       "US4946778A      6642\n",
       "US4816567A      5872\n",
       "US4683202A      3549\n",
       "US4683202B1     3535\n",
       "US5585089A      2942\n",
       "                ... \n",
       "CN203284914U       1\n",
       "CN205224359U       1\n",
       "CN205498192U       1\n",
       "CN201024380Y       1\n",
       "TW201944584A       1\n",
       "Name: count, Length: 25827209, dtype: int64"
      ]
     },
     "execution_count": 26,
     "metadata": {},
     "output_type": "execute_result"
    }
   ],
   "source": [
    "exploded['引证专利'].value_counts()"
   ]
  },
  {
   "cell_type": "code",
   "execution_count": 13,
   "id": "9b4a76dd-a405-40d7-8dfb-8d9b6ceeac12",
   "metadata": {},
   "outputs": [
    {
     "data": {
      "text/plain": [
       "30370818"
      ]
     },
     "execution_count": 13,
     "metadata": {},
     "output_type": "execute_result"
    }
   ],
   "source": [
    "all_nodes = sorted(set(exploded['公开（公告）号'].dropna().unique()) | set(exploded['引证专利'].dropna().unique()))\n",
    "len(all_nodes)"
   ]
  },
  {
   "cell_type": "code",
   "execution_count": 15,
   "id": "0083c1b1-3225-4d1a-8ac4-2917e4917195",
   "metadata": {},
   "outputs": [],
   "source": [
    "idx_map = {node: i for i, node in enumerate(all_nodes)}\n",
    "sources = exploded['公开（公告）号'].map(idx_map).tolist()\n",
    "targets = exploded['引证专利'].map(idx_map).tolist()\n",
    "all_edges =list(zip(sources, targets))"
   ]
  },
  {
   "cell_type": "code",
   "execution_count": 17,
   "id": "68838e39-d1d7-4431-9c2b-a1842077dd48",
   "metadata": {},
   "outputs": [
    {
     "data": {
      "text/plain": [
       "70714339"
      ]
     },
     "execution_count": 17,
     "metadata": {},
     "output_type": "execute_result"
    }
   ],
   "source": [
    "del sources\n",
    "del targets\n",
    "len(all_edges)#70714339"
   ]
  },
  {
   "cell_type": "code",
   "execution_count": 22,
   "id": "5df73f28-f3fa-4107-966c-cbac9243bb38",
   "metadata": {},
   "outputs": [
    {
     "ename": "NameError",
     "evalue": "name 'Counter' is not defined",
     "output_type": "error",
     "traceback": [
      "\u001b[1;31m---------------------------------------------------------------------------\u001b[0m",
      "\u001b[1;31mNameError\u001b[0m                                 Traceback (most recent call last)",
      "Cell \u001b[1;32mIn[22], line 1\u001b[0m\n\u001b[1;32m----> 1\u001b[0m edge_weights \u001b[38;5;241m=\u001b[39m Counter(all_edges)\n\u001b[0;32m      2\u001b[0m \u001b[38;5;28mlen\u001b[39m(edge_weights)\n",
      "\u001b[1;31mNameError\u001b[0m: name 'Counter' is not defined"
     ]
    }
   ],
   "source": [
    "edge_weights = Counter(all_edges)\n",
    "len(edge_weights)#70714339,同个专利重复引证？"
   ]
  },
  {
   "cell_type": "code",
   "execution_count": null,
   "id": "e1c478d2-bbda-4b87-bf10-e3d82a0d5c3a",
   "metadata": {},
   "outputs": [],
   "source": [
    "edges, weights = zip(*edge_weights.items())"
   ]
  },
  {
   "cell_type": "code",
   "execution_count": 18,
   "id": "09b6533a-cf39-45cb-9968-6dec1a52b014",
   "metadata": {},
   "outputs": [
    {
     "data": {
      "text/plain": [
       "565"
      ]
     },
     "execution_count": 18,
     "metadata": {},
     "output_type": "execute_result"
    }
   ],
   "source": [
    "import gc\n",
    "gc.collect()"
   ]
  },
  {
   "cell_type": "code",
   "execution_count": 19,
   "id": "f325a7c2-6957-4a19-9f34-0ca228e34867",
   "metadata": {},
   "outputs": [],
   "source": [
    "import igraph as ig\n",
    "from igraph import plot"
   ]
  },
  {
   "cell_type": "code",
   "execution_count": 20,
   "id": "1cbd763e-80bc-4fa9-842e-a96175922b12",
   "metadata": {},
   "outputs": [],
   "source": [
    "g = ig.Graph(directed=True)\n",
    "g.add_vertices(len(all_nodes))\n",
    "g.vs['name'] = all_nodes\n",
    "g.add_edges(all_edges) #edges citing\n",
    "# g.es['weight'] = weights"
   ]
  },
  {
   "cell_type": "code",
   "execution_count": 23,
   "id": "bc95eece-5120-47c0-8b06-3514ffff96c4",
   "metadata": {},
   "outputs": [
    {
     "data": {
      "text/plain": [
       "(['name'], [])"
      ]
     },
     "execution_count": 23,
     "metadata": {},
     "output_type": "execute_result"
    }
   ],
   "source": [
    "g.vs.attributes(), g.es.attributes()"
   ]
  },
  {
   "cell_type": "code",
   "execution_count": 24,
   "id": "cc41fcf1-899d-42bc-9be4-abb7e8a0793d",
   "metadata": {},
   "outputs": [],
   "source": [
    "g.write_gml(\"data//patent_发明引证_graph_adjlist_2024.gml\")#write_adjlist"
   ]
  },
  {
   "cell_type": "code",
   "execution_count": 21,
   "id": "03f2996c-0ca6-44c4-a940-64b10f561203",
   "metadata": {},
   "outputs": [],
   "source": [
    "g.write_pickle(\"data//patent_发明引证_graph_2024.pickle\")#write_gml,write_graphml..."
   ]
  },
  {
   "cell_type": "code",
   "execution_count": 25,
   "id": "ab51778d-4b6a-4158-ae72-77be6a5a5495",
   "metadata": {},
   "outputs": [],
   "source": [
    "del all_nodes,all_edges"
   ]
  },
  {
   "cell_type": "code",
   "execution_count": null,
   "id": "79a950ea-ae21-4fa9-bf16-ca4594792e4e",
   "metadata": {},
   "outputs": [],
   "source": [
    "df_nodes = pd.DataFrame({'name': all_nodes}).merge(patent_df[['公开（公告）号','申请号', 'IPC主分类', '标题 (中文)', '摘要 (中文)', '法律状态', '申请人']].drop_duplicates(subset=['公开（公告）号']).rename(columns={'公开（公告）号': 'name'}), on='name', how='left')\n",
    "for attr in ['IPC主分类', '标题 (中文)', '摘要 (中文)', '法律状态', '申请人']:\n",
    "    g.vs[attr] = df_nodes[attr].fillna('').tolist()"
   ]
  },
  {
   "cell_type": "code",
   "execution_count": null,
   "id": "e71da184-4ee6-47bb-9bdc-f77579fc308d",
   "metadata": {},
   "outputs": [],
   "source": [
    "records = []\n",
    "for e in g.es:\n",
    "    src, dst = e.tuple\n",
    "    records.append({\n",
    "        'source': g.vs[src]['name'],\n",
    "        'target': g.vs[dst]['name'],\n",
    "        'IPC主分类': g.vs[dst]['IPC主分类'],\n",
    "        '摘要 (中文)': g.vs[dst]['摘要 (中文)'],\n",
    "        '标题 (中文)': g.vs[dst]['标题 (中文)'],\n",
    "        '法律状态': g.vs[dst]['法律状态']\n",
    "    })\n",
    "return pd.DataFrame(records)"
   ]
  },
  {
   "cell_type": "code",
   "execution_count": null,
   "id": "de6763c1-e946-41e5-b6e0-ec02c3855497",
   "metadata": {},
   "outputs": [],
   "source": [
    "node_df = pd.DataFrame({attr: g.vs[attr] for attr in g.vs.attributes()})"
   ]
  },
  {
   "cell_type": "code",
   "execution_count": null,
   "id": "b9d0c2b5-140b-4d64-ac9c-ba1e56d85f23",
   "metadata": {},
   "outputs": [],
   "source": [
    "edge_df = pd.DataFrame({\n",
    "    'source': [g.vs[e.source]['name'] for e in g.es],\n",
    "    'target': [g.vs[e.target]['name'] for e in g.es]\n",
    "})\n",
    "for attr in g.es.attributes():\n",
    "    edge_df[attr] = g.es[attr]"
   ]
  },
  {
   "cell_type": "code",
   "execution_count": null,
   "id": "c9cd7b4f-a4aa-4608-948d-2c2a5b0e8d14",
   "metadata": {},
   "outputs": [],
   "source": [
    "import matplotlib.pyplot as plt\n",
    "plt.rcParams['font.sans-serif']='SimHei'"
   ]
  },
  {
   "cell_type": "code",
   "execution_count": null,
   "id": "de9bc09a-9547-4713-8fdd-41a4480cbf85",
   "metadata": {},
   "outputs": [],
   "source": []
  }
 ],
 "metadata": {
  "kernelspec": {
   "display_name": "Python 3 (ipykernel)",
   "language": "python",
   "name": "python3"
  },
  "language_info": {
   "codemirror_mode": {
    "name": "ipython",
    "version": 3
   },
   "file_extension": ".py",
   "mimetype": "text/x-python",
   "name": "python",
   "nbconvert_exporter": "python",
   "pygments_lexer": "ipython3",
   "version": "3.13.0"
  }
 },
 "nbformat": 4,
 "nbformat_minor": 5
}
