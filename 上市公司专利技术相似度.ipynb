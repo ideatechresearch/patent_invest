{
 "cells": [
  {
   "cell_type": "code",
   "execution_count": 1,
   "id": "7395dab5-4ac7-4c56-961a-c5e39823a6da",
   "metadata": {
    "editable": true,
    "slideshow": {
     "slide_type": ""
    },
    "tags": []
   },
   "outputs": [
    {
     "data": {
      "text/plain": [
       "(9338426, 12)"
      ]
     },
     "execution_count": 1,
     "metadata": {},
     "output_type": "execute_result"
    }
   ],
   "source": [
    "import pandas as pd\n",
    "bridge=pd.read_csv('data/patent_bridge_last.csv',index_col=0)\n",
    "bridge.shape"
   ]
  },
  {
   "cell_type": "code",
   "execution_count": 2,
   "id": "c7dab958-d33f-4480-9d8a-1390e6b2a033",
   "metadata": {},
   "outputs": [
    {
     "name": "stderr",
     "output_type": "stream",
     "text": [
      "C:\\Users\\Prime\\AppData\\Roaming\\Python\\Python39\\site-packages\\openpyxl\\styles\\stylesheet.py:226: UserWarning: Workbook contains no default style, apply openpyxl's default\n",
      "  warn(\"Workbook contains no default style, apply openpyxl's default\")\n"
     ]
    }
   ],
   "source": [
    "co_stk=pd.read_excel('data/STK_LISTEDCOINFOANL.xlsx',skiprows=[0,2])\n",
    "co_stk['首次上市日期']=pd.to_datetime(co_stk['首次上市日期'])"
   ]
  },
  {
   "cell_type": "code",
   "execution_count": 4,
   "id": "08a38842-5044-4740-bdfc-06847cd28378",
   "metadata": {},
   "outputs": [
    {
     "name": "stdout",
     "output_type": "stream",
     "text": [
      "<class 'pandas.core.frame.DataFrame'>\n",
      "RangeIndex: 63444 entries, 0 to 63443\n",
      "Data columns (total 41 columns):\n",
      " #   Column    Non-Null Count  Dtype         \n",
      "---  ------    --------------  -----         \n",
      " 0   股票代码      63444 non-null  int64         \n",
      " 1   股票简称      63444 non-null  object        \n",
      " 2   统计截止日期    63444 non-null  object        \n",
      " 3   上市公司ID    63444 non-null  int64         \n",
      " 4   证券ID      63444 non-null  int64         \n",
      " 5   行业名称      63444 non-null  object        \n",
      " 6   行业代码      63444 non-null  object        \n",
      " 7   行业名称C     58079 non-null  object        \n",
      " 8   行业代码C     58079 non-null  object        \n",
      " 9   行业名称D     63444 non-null  object        \n",
      " 10  行业代码D     63444 non-null  object        \n",
      " 11  注册具体地址    63444 non-null  object        \n",
      " 12  公司办公地址    63444 non-null  object        \n",
      " 13  办公地址邮政编码  63422 non-null  object        \n",
      " 14  董事会秘书     63370 non-null  object        \n",
      " 15  董秘联系电话    63366 non-null  object        \n",
      " 16  董秘传真      62908 non-null  object        \n",
      " 17  董秘电子邮箱    63002 non-null  object        \n",
      " 18  证券事务代表    52284 non-null  object        \n",
      " 19  统一社会信用代码  49188 non-null  object        \n",
      " 20  重大变更      60242 non-null  object        \n",
      " 21  办公地经度     63442 non-null  float64       \n",
      " 22  办公地纬度     63442 non-null  float64       \n",
      " 23  ISIN编码    62965 non-null  object        \n",
      " 24  中文全称      63444 non-null  object        \n",
      " 25  法人代表      63433 non-null  object        \n",
      " 26  公司成立日期    63431 non-null  object        \n",
      " 27  ABH股交叉码   3839 non-null   object        \n",
      " 28  注册资本      63444 non-null  int64         \n",
      " 29  公司网址      60645 non-null  object        \n",
      " 30  经营范围      63427 non-null  object        \n",
      " 31  注册地经度     63421 non-null  float64       \n",
      " 32  注册地纬度     63421 non-null  float64       \n",
      " 33  电子邮箱      62982 non-null  object        \n",
      " 34  首次上市日期    63444 non-null  datetime64[ns]\n",
      " 35  所属省份代码    63423 non-null  float64       \n",
      " 36  所属省份      63444 non-null  object        \n",
      " 37  所属城市代码    63333 non-null  float64       \n",
      " 38  所属城市      63444 non-null  object        \n",
      " 39  主营业务      63444 non-null  object        \n",
      " 40  上市状态      63444 non-null  object        \n",
      "dtypes: datetime64[ns](1), float64(6), int64(4), object(30)\n",
      "memory usage: 19.8+ MB\n"
     ]
    }
   ],
   "source": [
    "co_stk.info()"
   ]
  },
  {
   "cell_type": "code",
   "execution_count": 58,
   "id": "6e8345e4-9ec3-4c2b-b95b-7e6866ac1197",
   "metadata": {},
   "outputs": [
    {
     "name": "stderr",
     "output_type": "stream",
     "text": [
      "C:\\Users\\Prime\\AppData\\Roaming\\Python\\Python39\\site-packages\\openpyxl\\styles\\stylesheet.py:226: UserWarning: Workbook contains no default style, apply openpyxl's default\n",
      "  warn(\"Workbook contains no default style, apply openpyxl's default\")\n"
     ]
    }
   ],
   "source": [
    "co_stk=pd.read_excel('data/STK_LISTEDCOINFOANL.xlsx',skiprows=[0,2],usecols=['股票代码','股票简称','中文全称','行业名称','上市公司ID','证券ID','公司成立日期','首次上市日期','上市状态','统计截止日期'])\n",
    "co_stk['首次上市日期']=pd.to_datetime(co_stk['首次上市日期'])"
   ]
  },
  {
   "cell_type": "code",
   "execution_count": 64,
   "id": "748bd3b3-606b-4f57-a15f-16a740bec93a",
   "metadata": {},
   "outputs": [
    {
     "data": {
      "text/plain": [
       "上市状态\n",
       "正常上市     61114\n",
       "ST        1149\n",
       "*ST        813\n",
       "暂停上市       253\n",
       "退市整理期      107\n",
       "终止上市         8\n",
       "Name: count, dtype: int64"
      ]
     },
     "execution_count": 64,
     "metadata": {},
     "output_type": "execute_result"
    }
   ],
   "source": [
    "co_stk.上市状态.value_counts()"
   ]
  },
  {
   "cell_type": "code",
   "execution_count": 65,
   "id": "9de82227-5ef2-41a6-848f-51c558b14d8b",
   "metadata": {},
   "outputs": [
    {
     "data": {
      "text/plain": [
       "股票代码\n",
       "301238     1\n",
       "601002     1\n",
       "601000     1\n",
       "600999     1\n",
       "600998     1\n",
       "          ..\n",
       "409       10\n",
       "600892    10\n",
       "600515    10\n",
       "408       11\n",
       "981       11\n",
       "Name: 股票简称, Length: 5633, dtype: int64"
      ]
     },
     "execution_count": 65,
     "metadata": {},
     "output_type": "execute_result"
    }
   ],
   "source": [
    "co_stk.groupby('股票代码').股票简称.nunique().sort_values()"
   ]
  },
  {
   "cell_type": "code",
   "execution_count": 66,
   "id": "8cb2ed3d-17d4-4ea4-8ebf-a49942fee1d0",
   "metadata": {},
   "outputs": [
    {
     "data": {
      "text/plain": [
       "股票代码\n",
       "301238    1\n",
       "301087    1\n",
       "301088    1\n",
       "603922    1\n",
       "301090    1\n",
       "         ..\n",
       "835       6\n",
       "526       7\n",
       "600515    7\n",
       "600696    7\n",
       "600145    9\n",
       "Name: 中文全称, Length: 5633, dtype: int64"
      ]
     },
     "execution_count": 66,
     "metadata": {},
     "output_type": "execute_result"
    }
   ],
   "source": [
    "co_stk.groupby('股票代码').中文全称.nunique().sort_values()"
   ]
  },
  {
   "cell_type": "code",
   "execution_count": 70,
   "id": "ca9c28aa-fe93-421d-a817-df6be4612d20",
   "metadata": {},
   "outputs": [
    {
     "data": {
      "text/plain": [
       "股票代码\n",
       "1         1\n",
       "600835    1\n",
       "600834    1\n",
       "600833    1\n",
       "600832    1\n",
       "         ..\n",
       "300246    1\n",
       "300245    1\n",
       "300253    1\n",
       "900957    1\n",
       "600018    2\n",
       "Name: 上市公司ID, Length: 5633, dtype: int64"
      ]
     },
     "execution_count": 70,
     "metadata": {},
     "output_type": "execute_result"
    }
   ],
   "source": [
    "co_stk.groupby('股票代码').上市公司ID.nunique().sort_values()"
   ]
  },
  {
   "cell_type": "code",
   "execution_count": 71,
   "id": "89eff892-db75-4c6c-9b36-9b7af29cc707",
   "metadata": {},
   "outputs": [
    {
     "data": {
      "text/html": [
       "<div>\n",
       "<style scoped>\n",
       "    .dataframe tbody tr th:only-of-type {\n",
       "        vertical-align: middle;\n",
       "    }\n",
       "\n",
       "    .dataframe tbody tr th {\n",
       "        vertical-align: top;\n",
       "    }\n",
       "\n",
       "    .dataframe thead th {\n",
       "        text-align: right;\n",
       "    }\n",
       "</style>\n",
       "<table border=\"1\" class=\"dataframe\">\n",
       "  <thead>\n",
       "    <tr style=\"text-align: right;\">\n",
       "      <th></th>\n",
       "      <th>股票代码</th>\n",
       "      <th>股票简称</th>\n",
       "      <th>统计截止日期</th>\n",
       "      <th>上市公司ID</th>\n",
       "      <th>证券ID</th>\n",
       "      <th>行业名称</th>\n",
       "      <th>中文全称</th>\n",
       "      <th>公司成立日期</th>\n",
       "      <th>首次上市日期</th>\n",
       "      <th>上市状态</th>\n",
       "    </tr>\n",
       "  </thead>\n",
       "  <tbody>\n",
       "    <tr>\n",
       "      <th>34718</th>\n",
       "      <td>600018</td>\n",
       "      <td>上港集箱</td>\n",
       "      <td>2000-12-31</td>\n",
       "      <td>107599</td>\n",
       "      <td>201000003384</td>\n",
       "      <td>港口业</td>\n",
       "      <td>上海港集装箱股份有限公司</td>\n",
       "      <td>1998-11-19</td>\n",
       "      <td>2000-07-19</td>\n",
       "      <td>终止上市</td>\n",
       "    </tr>\n",
       "    <tr>\n",
       "      <th>34719</th>\n",
       "      <td>600018</td>\n",
       "      <td>上港集箱</td>\n",
       "      <td>2001-12-31</td>\n",
       "      <td>107599</td>\n",
       "      <td>201000003384</td>\n",
       "      <td>港口业</td>\n",
       "      <td>上海港集装箱股份有限公司</td>\n",
       "      <td>1998-11-19</td>\n",
       "      <td>2000-07-19</td>\n",
       "      <td>终止上市</td>\n",
       "    </tr>\n",
       "    <tr>\n",
       "      <th>34720</th>\n",
       "      <td>600018</td>\n",
       "      <td>上港集箱</td>\n",
       "      <td>2002-12-31</td>\n",
       "      <td>107599</td>\n",
       "      <td>201000003384</td>\n",
       "      <td>港口业</td>\n",
       "      <td>上海港集装箱股份有限公司</td>\n",
       "      <td>1998-11-19</td>\n",
       "      <td>2000-07-19</td>\n",
       "      <td>终止上市</td>\n",
       "    </tr>\n",
       "    <tr>\n",
       "      <th>34721</th>\n",
       "      <td>600018</td>\n",
       "      <td>上港集箱</td>\n",
       "      <td>2003-12-31</td>\n",
       "      <td>107599</td>\n",
       "      <td>201000003384</td>\n",
       "      <td>港口业</td>\n",
       "      <td>上海港集装箱股份有限公司</td>\n",
       "      <td>1998-11-19</td>\n",
       "      <td>2000-07-19</td>\n",
       "      <td>终止上市</td>\n",
       "    </tr>\n",
       "    <tr>\n",
       "      <th>34722</th>\n",
       "      <td>600018</td>\n",
       "      <td>上港集箱</td>\n",
       "      <td>2004-12-31</td>\n",
       "      <td>107599</td>\n",
       "      <td>201000003384</td>\n",
       "      <td>港口业</td>\n",
       "      <td>上海港集装箱股份有限公司</td>\n",
       "      <td>1998-11-19</td>\n",
       "      <td>2000-07-19</td>\n",
       "      <td>终止上市</td>\n",
       "    </tr>\n",
       "    <tr>\n",
       "      <th>34723</th>\n",
       "      <td>600018</td>\n",
       "      <td>G 上港</td>\n",
       "      <td>2005-12-31</td>\n",
       "      <td>107599</td>\n",
       "      <td>201000003384</td>\n",
       "      <td>港口业</td>\n",
       "      <td>上海港集装箱股份有限公司</td>\n",
       "      <td>1998-11-19</td>\n",
       "      <td>2000-07-19</td>\n",
       "      <td>终止上市</td>\n",
       "    </tr>\n",
       "    <tr>\n",
       "      <th>34724</th>\n",
       "      <td>600018</td>\n",
       "      <td>上港集团</td>\n",
       "      <td>2006-12-31</td>\n",
       "      <td>104873</td>\n",
       "      <td>201000003384</td>\n",
       "      <td>交通运输辅助业</td>\n",
       "      <td>上海国际港务(集团)股份有限公司</td>\n",
       "      <td>1988-10-21</td>\n",
       "      <td>2006-10-26</td>\n",
       "      <td>正常上市</td>\n",
       "    </tr>\n",
       "    <tr>\n",
       "      <th>34725</th>\n",
       "      <td>600018</td>\n",
       "      <td>上港集团</td>\n",
       "      <td>2007-12-31</td>\n",
       "      <td>104873</td>\n",
       "      <td>201000003384</td>\n",
       "      <td>交通运输辅助业</td>\n",
       "      <td>上海国际港务(集团)股份有限公司</td>\n",
       "      <td>1988-10-21</td>\n",
       "      <td>2006-10-26</td>\n",
       "      <td>正常上市</td>\n",
       "    </tr>\n",
       "    <tr>\n",
       "      <th>34726</th>\n",
       "      <td>600018</td>\n",
       "      <td>上港集团</td>\n",
       "      <td>2008-12-31</td>\n",
       "      <td>104873</td>\n",
       "      <td>201000003384</td>\n",
       "      <td>交通运输辅助业</td>\n",
       "      <td>上海国际港务(集团)股份有限公司</td>\n",
       "      <td>1988-10-21</td>\n",
       "      <td>2006-10-26</td>\n",
       "      <td>正常上市</td>\n",
       "    </tr>\n",
       "    <tr>\n",
       "      <th>34727</th>\n",
       "      <td>600018</td>\n",
       "      <td>上港集团</td>\n",
       "      <td>2009-12-31</td>\n",
       "      <td>104873</td>\n",
       "      <td>201000003384</td>\n",
       "      <td>交通运输辅助业</td>\n",
       "      <td>上海国际港务(集团)股份有限公司</td>\n",
       "      <td>1988-10-21</td>\n",
       "      <td>2006-10-26</td>\n",
       "      <td>正常上市</td>\n",
       "    </tr>\n",
       "    <tr>\n",
       "      <th>34728</th>\n",
       "      <td>600018</td>\n",
       "      <td>上港集团</td>\n",
       "      <td>2010-12-31</td>\n",
       "      <td>104873</td>\n",
       "      <td>201000003384</td>\n",
       "      <td>交通运输辅助业</td>\n",
       "      <td>上海国际港务(集团)股份有限公司</td>\n",
       "      <td>1988-10-21</td>\n",
       "      <td>2006-10-26</td>\n",
       "      <td>正常上市</td>\n",
       "    </tr>\n",
       "    <tr>\n",
       "      <th>34729</th>\n",
       "      <td>600018</td>\n",
       "      <td>上港集团</td>\n",
       "      <td>2011-12-31</td>\n",
       "      <td>104873</td>\n",
       "      <td>201000003384</td>\n",
       "      <td>交通运输辅助业</td>\n",
       "      <td>上海国际港务(集团)股份有限公司</td>\n",
       "      <td>1988-10-21</td>\n",
       "      <td>2006-10-26</td>\n",
       "      <td>正常上市</td>\n",
       "    </tr>\n",
       "    <tr>\n",
       "      <th>34730</th>\n",
       "      <td>600018</td>\n",
       "      <td>上港集团</td>\n",
       "      <td>2012-12-31</td>\n",
       "      <td>104873</td>\n",
       "      <td>201000003384</td>\n",
       "      <td>水上运输业</td>\n",
       "      <td>上海国际港务(集团)股份有限公司</td>\n",
       "      <td>1988-10-21</td>\n",
       "      <td>2006-10-26</td>\n",
       "      <td>正常上市</td>\n",
       "    </tr>\n",
       "    <tr>\n",
       "      <th>34731</th>\n",
       "      <td>600018</td>\n",
       "      <td>上港集团</td>\n",
       "      <td>2013-12-31</td>\n",
       "      <td>104873</td>\n",
       "      <td>201000003384</td>\n",
       "      <td>水上运输业</td>\n",
       "      <td>上海国际港务(集团)股份有限公司</td>\n",
       "      <td>1988-10-21</td>\n",
       "      <td>2006-10-26</td>\n",
       "      <td>正常上市</td>\n",
       "    </tr>\n",
       "    <tr>\n",
       "      <th>34732</th>\n",
       "      <td>600018</td>\n",
       "      <td>上港集团</td>\n",
       "      <td>2014-12-31</td>\n",
       "      <td>104873</td>\n",
       "      <td>201000003384</td>\n",
       "      <td>水上运输业</td>\n",
       "      <td>上海国际港务(集团)股份有限公司</td>\n",
       "      <td>1988-10-21</td>\n",
       "      <td>2006-10-26</td>\n",
       "      <td>正常上市</td>\n",
       "    </tr>\n",
       "    <tr>\n",
       "      <th>34733</th>\n",
       "      <td>600018</td>\n",
       "      <td>上港集团</td>\n",
       "      <td>2015-12-31</td>\n",
       "      <td>104873</td>\n",
       "      <td>201000003384</td>\n",
       "      <td>水上运输业</td>\n",
       "      <td>上海国际港务(集团)股份有限公司</td>\n",
       "      <td>1988-10-21</td>\n",
       "      <td>2006-10-26</td>\n",
       "      <td>正常上市</td>\n",
       "    </tr>\n",
       "    <tr>\n",
       "      <th>34734</th>\n",
       "      <td>600018</td>\n",
       "      <td>上港集团</td>\n",
       "      <td>2016-12-31</td>\n",
       "      <td>104873</td>\n",
       "      <td>201000003384</td>\n",
       "      <td>水上运输业</td>\n",
       "      <td>上海国际港务(集团)股份有限公司</td>\n",
       "      <td>NaN</td>\n",
       "      <td>2006-10-26</td>\n",
       "      <td>正常上市</td>\n",
       "    </tr>\n",
       "    <tr>\n",
       "      <th>34735</th>\n",
       "      <td>600018</td>\n",
       "      <td>上港集团</td>\n",
       "      <td>2017-12-31</td>\n",
       "      <td>104873</td>\n",
       "      <td>201000003384</td>\n",
       "      <td>水上运输业</td>\n",
       "      <td>上海国际港务(集团)股份有限公司</td>\n",
       "      <td>NaN</td>\n",
       "      <td>2006-10-26</td>\n",
       "      <td>正常上市</td>\n",
       "    </tr>\n",
       "    <tr>\n",
       "      <th>34736</th>\n",
       "      <td>600018</td>\n",
       "      <td>上港集团</td>\n",
       "      <td>2018-12-31</td>\n",
       "      <td>104873</td>\n",
       "      <td>201000003384</td>\n",
       "      <td>水上运输业</td>\n",
       "      <td>上海国际港务(集团)股份有限公司</td>\n",
       "      <td>NaN</td>\n",
       "      <td>2006-10-26</td>\n",
       "      <td>正常上市</td>\n",
       "    </tr>\n",
       "    <tr>\n",
       "      <th>34737</th>\n",
       "      <td>600018</td>\n",
       "      <td>上港集团</td>\n",
       "      <td>2019-12-31</td>\n",
       "      <td>104873</td>\n",
       "      <td>201000003384</td>\n",
       "      <td>水上运输业</td>\n",
       "      <td>上海国际港务(集团)股份有限公司</td>\n",
       "      <td>NaN</td>\n",
       "      <td>2006-10-26</td>\n",
       "      <td>正常上市</td>\n",
       "    </tr>\n",
       "    <tr>\n",
       "      <th>34738</th>\n",
       "      <td>600018</td>\n",
       "      <td>上港集团</td>\n",
       "      <td>2020-12-31</td>\n",
       "      <td>104873</td>\n",
       "      <td>201000003384</td>\n",
       "      <td>水上运输业</td>\n",
       "      <td>上海国际港务(集团)股份有限公司</td>\n",
       "      <td>NaN</td>\n",
       "      <td>2006-10-26</td>\n",
       "      <td>正常上市</td>\n",
       "    </tr>\n",
       "    <tr>\n",
       "      <th>34739</th>\n",
       "      <td>600018</td>\n",
       "      <td>上港集团</td>\n",
       "      <td>2021-12-31</td>\n",
       "      <td>104873</td>\n",
       "      <td>201000003384</td>\n",
       "      <td>水上运输业</td>\n",
       "      <td>上海国际港务(集团)股份有限公司</td>\n",
       "      <td>NaN</td>\n",
       "      <td>2006-10-26</td>\n",
       "      <td>正常上市</td>\n",
       "    </tr>\n",
       "    <tr>\n",
       "      <th>34740</th>\n",
       "      <td>600018</td>\n",
       "      <td>上港集团</td>\n",
       "      <td>2022-12-31</td>\n",
       "      <td>104873</td>\n",
       "      <td>201000003384</td>\n",
       "      <td>水上运输业</td>\n",
       "      <td>上海国际港务(集团)股份有限公司</td>\n",
       "      <td>NaN</td>\n",
       "      <td>2006-10-26</td>\n",
       "      <td>正常上市</td>\n",
       "    </tr>\n",
       "    <tr>\n",
       "      <th>34741</th>\n",
       "      <td>600018</td>\n",
       "      <td>上港集团</td>\n",
       "      <td>2023-12-31</td>\n",
       "      <td>104873</td>\n",
       "      <td>201000003384</td>\n",
       "      <td>水上运输业</td>\n",
       "      <td>上海国际港务(集团)股份有限公司</td>\n",
       "      <td>NaN</td>\n",
       "      <td>2006-10-26</td>\n",
       "      <td>正常上市</td>\n",
       "    </tr>\n",
       "  </tbody>\n",
       "</table>\n",
       "</div>"
      ],
      "text/plain": [
       "         股票代码  股票简称      统计截止日期  上市公司ID          证券ID     行业名称  \\\n",
       "34718  600018  上港集箱  2000-12-31  107599  201000003384      港口业   \n",
       "34719  600018  上港集箱  2001-12-31  107599  201000003384      港口业   \n",
       "34720  600018  上港集箱  2002-12-31  107599  201000003384      港口业   \n",
       "34721  600018  上港集箱  2003-12-31  107599  201000003384      港口业   \n",
       "34722  600018  上港集箱  2004-12-31  107599  201000003384      港口业   \n",
       "34723  600018  G 上港  2005-12-31  107599  201000003384      港口业   \n",
       "34724  600018  上港集团  2006-12-31  104873  201000003384  交通运输辅助业   \n",
       "34725  600018  上港集团  2007-12-31  104873  201000003384  交通运输辅助业   \n",
       "34726  600018  上港集团  2008-12-31  104873  201000003384  交通运输辅助业   \n",
       "34727  600018  上港集团  2009-12-31  104873  201000003384  交通运输辅助业   \n",
       "34728  600018  上港集团  2010-12-31  104873  201000003384  交通运输辅助业   \n",
       "34729  600018  上港集团  2011-12-31  104873  201000003384  交通运输辅助业   \n",
       "34730  600018  上港集团  2012-12-31  104873  201000003384    水上运输业   \n",
       "34731  600018  上港集团  2013-12-31  104873  201000003384    水上运输业   \n",
       "34732  600018  上港集团  2014-12-31  104873  201000003384    水上运输业   \n",
       "34733  600018  上港集团  2015-12-31  104873  201000003384    水上运输业   \n",
       "34734  600018  上港集团  2016-12-31  104873  201000003384    水上运输业   \n",
       "34735  600018  上港集团  2017-12-31  104873  201000003384    水上运输业   \n",
       "34736  600018  上港集团  2018-12-31  104873  201000003384    水上运输业   \n",
       "34737  600018  上港集团  2019-12-31  104873  201000003384    水上运输业   \n",
       "34738  600018  上港集团  2020-12-31  104873  201000003384    水上运输业   \n",
       "34739  600018  上港集团  2021-12-31  104873  201000003384    水上运输业   \n",
       "34740  600018  上港集团  2022-12-31  104873  201000003384    水上运输业   \n",
       "34741  600018  上港集团  2023-12-31  104873  201000003384    水上运输业   \n",
       "\n",
       "                   中文全称      公司成立日期     首次上市日期  上市状态  \n",
       "34718      上海港集装箱股份有限公司  1998-11-19 2000-07-19  终止上市  \n",
       "34719      上海港集装箱股份有限公司  1998-11-19 2000-07-19  终止上市  \n",
       "34720      上海港集装箱股份有限公司  1998-11-19 2000-07-19  终止上市  \n",
       "34721      上海港集装箱股份有限公司  1998-11-19 2000-07-19  终止上市  \n",
       "34722      上海港集装箱股份有限公司  1998-11-19 2000-07-19  终止上市  \n",
       "34723      上海港集装箱股份有限公司  1998-11-19 2000-07-19  终止上市  \n",
       "34724  上海国际港务(集团)股份有限公司  1988-10-21 2006-10-26  正常上市  \n",
       "34725  上海国际港务(集团)股份有限公司  1988-10-21 2006-10-26  正常上市  \n",
       "34726  上海国际港务(集团)股份有限公司  1988-10-21 2006-10-26  正常上市  \n",
       "34727  上海国际港务(集团)股份有限公司  1988-10-21 2006-10-26  正常上市  \n",
       "34728  上海国际港务(集团)股份有限公司  1988-10-21 2006-10-26  正常上市  \n",
       "34729  上海国际港务(集团)股份有限公司  1988-10-21 2006-10-26  正常上市  \n",
       "34730  上海国际港务(集团)股份有限公司  1988-10-21 2006-10-26  正常上市  \n",
       "34731  上海国际港务(集团)股份有限公司  1988-10-21 2006-10-26  正常上市  \n",
       "34732  上海国际港务(集团)股份有限公司  1988-10-21 2006-10-26  正常上市  \n",
       "34733  上海国际港务(集团)股份有限公司  1988-10-21 2006-10-26  正常上市  \n",
       "34734  上海国际港务(集团)股份有限公司         NaN 2006-10-26  正常上市  \n",
       "34735  上海国际港务(集团)股份有限公司         NaN 2006-10-26  正常上市  \n",
       "34736  上海国际港务(集团)股份有限公司         NaN 2006-10-26  正常上市  \n",
       "34737  上海国际港务(集团)股份有限公司         NaN 2006-10-26  正常上市  \n",
       "34738  上海国际港务(集团)股份有限公司         NaN 2006-10-26  正常上市  \n",
       "34739  上海国际港务(集团)股份有限公司         NaN 2006-10-26  正常上市  \n",
       "34740  上海国际港务(集团)股份有限公司         NaN 2006-10-26  正常上市  \n",
       "34741  上海国际港务(集团)股份有限公司         NaN 2006-10-26  正常上市  "
      ]
     },
     "execution_count": 71,
     "metadata": {},
     "output_type": "execute_result"
    }
   ],
   "source": [
    "co_stk[co_stk.股票代码==600018]"
   ]
  },
  {
   "cell_type": "code",
   "execution_count": 8,
   "id": "3e73d751-5c4e-4c05-9c79-4cf63d0d9294",
   "metadata": {},
   "outputs": [
    {
     "data": {
      "text/plain": [
       "(8026, 2)"
      ]
     },
     "execution_count": 8,
     "metadata": {},
     "output_type": "execute_result"
    }
   ],
   "source": [
    "co_stk_0=co_stk[['中文全称','首次上市日期']].drop_duplicates(keep='first')\n",
    "co_stk_0.shape"
   ]
  },
  {
   "cell_type": "code",
   "execution_count": 3,
   "id": "308362b9-d7a3-4c36-9080-b95649b7346e",
   "metadata": {},
   "outputs": [],
   "source": [
    "co_data=bridge['申请人'].str.split(';',expand=True).stack().str.strip().reset_index(level=1,drop=True).rename('Co')"
   ]
  },
  {
   "cell_type": "code",
   "execution_count": 82,
   "id": "4a3a6e59-c4d6-45e7-af7e-40f19f509b98",
   "metadata": {},
   "outputs": [],
   "source": [
    "co_data=bridge.set_index('公开（公告）号')['申请人'].str.split(';').explode().str.strip().rename('Co')"
   ]
  },
  {
   "cell_type": "code",
   "execution_count": 9,
   "id": "1e16c2e2-d400-42da-b7c3-ba537c70db27",
   "metadata": {},
   "outputs": [
    {
     "data": {
      "text/plain": [
       "1933746"
      ]
     },
     "execution_count": 9,
     "metadata": {},
     "output_type": "execute_result"
    }
   ],
   "source": [
    "co_data.isin(co_stk_0['中文全称'].dropna().unique()).sum()"
   ]
  },
  {
   "cell_type": "code",
   "execution_count": 10,
   "id": "440f6dc9-0e35-4c1e-9ea5-ee1564d063b0",
   "metadata": {},
   "outputs": [
    {
     "data": {
      "text/plain": [
       "Co\n",
       "珠海格力电器股份有限公司          98919\n",
       "中兴通讯股份有限公司            85880\n",
       "中国石油化工股份有限公司          83556\n",
       "美的集团股份有限公司            70569\n",
       "中国石油天然气股份有限公司         50185\n",
       "                      ...  \n",
       "中海集装箱运输股份有限公司             1\n",
       "北京腾信创新网络营销技术股份有限公司        1\n",
       "浙江夜光明光电科技股份有限公司           1\n",
       "四川和邦生物科技股份有限公司            1\n",
       "山东金泰集团股份有限公司              1\n",
       "Name: count, Length: 5440, dtype: int64"
      ]
     },
     "execution_count": 10,
     "metadata": {},
     "output_type": "execute_result"
    }
   ],
   "source": [
    "patent_filter=co_data.isin(co_stk_0['中文全称'].dropna().unique())\n",
    "patent_co=bridge.loc[patent_filter[patent_filter].index]\n",
    "patent_co['Co']=co_data[patent_filter]\n",
    "patent_co['Co'].value_counts()"
   ]
  },
  {
   "cell_type": "code",
   "execution_count": 72,
   "id": "32f89147-2cde-46ba-9e38-b762440ec67a",
   "metadata": {},
   "outputs": [
    {
     "data": {
      "text/plain": [
       "5440"
      ]
     },
     "execution_count": 72,
     "metadata": {},
     "output_type": "execute_result"
    }
   ],
   "source": [
    "patent_co['Co'].nunique()"
   ]
  },
  {
   "cell_type": "code",
   "execution_count": 12,
   "id": "0748cf0c-5844-49d7-855f-bc436bce17c1",
   "metadata": {},
   "outputs": [
    {
     "data": {
      "text/plain": [
       "2583"
      ]
     },
     "execution_count": 12,
     "metadata": {},
     "output_type": "execute_result"
    }
   ],
   "source": [
    "len(set(co_stk_0['中文全称'])-set(co_data))"
   ]
  },
  {
   "cell_type": "code",
   "execution_count": 14,
   "id": "1d95cb28-8eaf-447b-8691-52bcdd21ce00",
   "metadata": {},
   "outputs": [],
   "source": [
    "co_stk_0[~co_stk_0['中文全称'].isin(co_data)].to_excel('data/没匹配到专利的上市的公司名单.xlsx')"
   ]
  },
  {
   "cell_type": "code",
   "execution_count": 16,
   "id": "e7aada5d-6247-4fef-b0d8-6294a42bc804",
   "metadata": {},
   "outputs": [],
   "source": [
    "co_stk_0['专利数量']=co_stk_0['中文全称'].map(patent_co['Co'].value_counts())"
   ]
  },
  {
   "cell_type": "code",
   "execution_count": 18,
   "id": "ffc66706-ccdb-41d3-9d7e-e08321b0b882",
   "metadata": {},
   "outputs": [],
   "source": [
    "patent_co['申请日']=pd.to_datetime(patent_co['申请日'])\n",
    "st_time=patent_co.groupby('Co')['申请日'].min()"
   ]
  },
  {
   "cell_type": "code",
   "execution_count": 20,
   "id": "6a9cb8a9-ec4a-46c9-8822-8ef0a39f7d83",
   "metadata": {},
   "outputs": [],
   "source": [
    "co_stk_0['专利的起始时间']=co_stk_0['中文全称'].map(st_time)"
   ]
  },
  {
   "cell_type": "code",
   "execution_count": 22,
   "id": "ce6246aa-3008-4ae3-b88e-86a3feee481e",
   "metadata": {},
   "outputs": [],
   "source": [
    "co_stk_0.to_excel('data/上市公司x专利情况2407.xlsx')"
   ]
  },
  {
   "cell_type": "code",
   "execution_count": 24,
   "id": "38928685-3a27-4eb5-9420-756872b53ec8",
   "metadata": {},
   "outputs": [
    {
     "data": {
      "text/plain": [
       "(1952765, 39)"
      ]
     },
     "execution_count": 24,
     "metadata": {},
     "output_type": "execute_result"
    }
   ],
   "source": [
    "patent_co_0=pd.read_csv('data\\patent_co_1953_16k_202407.csv',index_col=0)\n",
    "patent_co_0.shape"
   ]
  },
  {
   "cell_type": "code",
   "execution_count": 40,
   "id": "eba00a0b-6af7-474a-9897-cd29d144bce0",
   "metadata": {},
   "outputs": [
    {
     "data": {
      "text/plain": [
       "Index(['工商全称', '序号', '标题 (中文)', '摘要 (中文)', '申请人', '申请日', '申请号', '首次公开日',\n",
       "       '公开（公告）号', '专利类型', '专利有效性', '公开国别', 'IPC主分类', 'IPC', '申请人类型', '发明人',\n",
       "       '发明人数量', '简单同族', '扩展同族', '简单同族个数', '引证专利', '引证科技文献', '引证次数', '被引证次数',\n",
       "       '引证申请人', '被引证申请人', '申请人数量', '许可次数', '转让次数', '权利要求数量', '当前法律状态',\n",
       "       'table_name', '公开类型', '行业', '申请年', '首次上市日期', 'IPO上市日期', '子行业',\n",
       "       '首次融资日期'],\n",
       "      dtype='object')"
      ]
     },
     "execution_count": 40,
     "metadata": {},
     "output_type": "execute_result"
    }
   ],
   "source": [
    "patent_co_0.columns"
   ]
  },
  {
   "cell_type": "code",
   "execution_count": 39,
   "id": "7d84bdea-fa0e-4fe7-99f8-aa3f32c18682",
   "metadata": {},
   "outputs": [
    {
     "data": {
      "text/plain": [
       "table_name\n",
       "patent202404                    1098472\n",
       "patent202210                     559097\n",
       "patent_incopat_202101_202211     157822\n",
       "patent202407                     111243\n",
       "patent_incopat_202212_202312      25156\n",
       "patent202309                        975\n",
       "Name: count, dtype: int64"
      ]
     },
     "execution_count": 39,
     "metadata": {},
     "output_type": "execute_result"
    }
   ],
   "source": [
    "patent_co_0.table_name.value_counts()"
   ]
  },
  {
   "cell_type": "code",
   "execution_count": 28,
   "id": "19916974-7b7f-4c03-81fa-5dc98059d653",
   "metadata": {},
   "outputs": [
    {
     "data": {
      "text/plain": [
       "2816"
      ]
     },
     "execution_count": 28,
     "metadata": {},
     "output_type": "execute_result"
    }
   ],
   "source": [
    "len(set(patent_co.Co)-set(patent_co_0.工商全称))"
   ]
  },
  {
   "cell_type": "code",
   "execution_count": 36,
   "id": "84d2cec9-731e-4ff6-9558-ea6c6958e369",
   "metadata": {},
   "outputs": [],
   "source": [
    "patent_c_not_1953=patent_co[~patent_co['Co'].isin(patent_co_0.工商全称)]\n",
    "patent_c_not_1953[['申请号','公开（公告）号','table']].drop_duplicates().to_csv('data\\目标企业专利_bridge_STK_LIST_not_1953.csv')"
   ]
  },
  {
   "cell_type": "code",
   "execution_count": 37,
   "id": "6628c71f-3fa5-42aa-a3d0-2052a487d084",
   "metadata": {},
   "outputs": [
    {
     "data": {
      "text/plain": [
       "table\n",
       "patent202210                    677746\n",
       "patent202404                     98191\n",
       "patent_incopat_202101_202211     68242\n",
       "patent_incopat_202212_202312     11493\n",
       "patent202309                      4452\n",
       "Name: count, dtype: int64"
      ]
     },
     "execution_count": 37,
     "metadata": {},
     "output_type": "execute_result"
    }
   ],
   "source": [
    "patent_c_not_1953.table.value_counts()"
   ]
  },
  {
   "cell_type": "code",
   "execution_count": 41,
   "id": "6312cd1c-3759-4383-9e4a-29b620661878",
   "metadata": {},
   "outputs": [
    {
     "name": "stdout",
     "output_type": "stream",
     "text": [
      "patent_incopat_202101_202211 (112843, 32)\n",
      "patent_incopat_202212_202312 (11503, 32)\n",
      "patent202210 (676743, 32)\n",
      "patent202309 (4791, 32)\n",
      "patent202404 (110014, 32)\n",
      "CPU times: total: 8.31 s\n",
      "Wall time: 1min 24s\n"
     ]
    }
   ],
   "source": [
    "%%time\n",
    "names=['patent_incopat_202101_202211','patent_incopat_202212_202312','patent202210','patent202309','patent202404']\n",
    "df_filter=pd.DataFrame()\n",
    "for n in names:\n",
    "    df_f=pd.read_pickle(f'X:\\Downloads\\Patent\\patent_{n}_STK_LIST_not_1953.pkl')\n",
    "    df_filter=pd.concat([df_filter,df_f])\n",
    "    print(n,df_f.shape)"
   ]
  },
  {
   "cell_type": "code",
   "execution_count": 42,
   "id": "60a62088-3eab-45db-8e50-fe3fe15f9e6c",
   "metadata": {},
   "outputs": [
    {
     "data": {
      "text/plain": [
       "((860124, 13), (915894, 32))"
      ]
     },
     "execution_count": 42,
     "metadata": {},
     "output_type": "execute_result"
    }
   ],
   "source": [
    "patent_c_not_1953.shape,df_filter.shape"
   ]
  },
  {
   "cell_type": "code",
   "execution_count": 43,
   "id": "3b2c3c74-7e02-4208-b532-45be2ca572d0",
   "metadata": {},
   "outputs": [
    {
     "data": {
      "text/plain": [
       "(860225, 32)"
      ]
     },
     "execution_count": 43,
     "metadata": {},
     "output_type": "execute_result"
    }
   ],
   "source": [
    "df_filter['申请日']=pd.to_datetime(df_filter['申请日'])\n",
    "df_filter.sort_values(['申请日','公开类型'],ascending=False,inplace=True)\n",
    "df_filter.drop_duplicates(['申请号','公开（公告）号'],keep='first',inplace=True)\n",
    "df_filter.reset_index(drop=True,inplace=True)\n",
    "df_filter.shape#860225"
   ]
  },
  {
   "cell_type": "code",
   "execution_count": 46,
   "id": "453ae00e-0596-4547-8eff-433225496515",
   "metadata": {},
   "outputs": [
    {
     "data": {
      "text/plain": [
       "(1093273, 1093275)"
      ]
     },
     "execution_count": 46,
     "metadata": {},
     "output_type": "execute_result"
    }
   ],
   "source": [
    "len(patent_co_0[patent_co_0['工商全称'].isin(patent_co.Co)]),len(patent_co_0[patent_co_0['工商全称'].isin(co_stk_0['中文全称'])])"
   ]
  },
  {
   "cell_type": "code",
   "execution_count": 54,
   "id": "e4bf74c0-9802-41ee-b499-c16663f92a5f",
   "metadata": {},
   "outputs": [
    {
     "data": {
      "text/plain": [
       "(1097857,)"
      ]
     },
     "execution_count": 54,
     "metadata": {},
     "output_type": "execute_result"
    }
   ],
   "source": [
    "co_data_1=df_filter['申请人'].str.split(';',expand=True).stack().str.strip().reset_index(level=1,drop=True).rename('工商全称')\n",
    "co_data_1.shape"
   ]
  },
  {
   "cell_type": "code",
   "execution_count": 60,
   "id": "7ae28477-fb9d-4d16-80a7-055bb670f2d1",
   "metadata": {},
   "outputs": [
    {
     "data": {
      "text/plain": [
       "(1097857, 33)"
      ]
     },
     "execution_count": 60,
     "metadata": {},
     "output_type": "execute_result"
    }
   ],
   "source": [
    "df_filter['工商全称']=df_filter['申请人'].str.split(';')\n",
    "df_filter_1=df_filter.explode('工商全称')\n",
    "df_filter_1['工商全称']=df_filter_1['工商全称'].str.strip()\n",
    "df_filter_1.shape"
   ]
  },
  {
   "cell_type": "code",
   "execution_count": 61,
   "id": "ccf5ea37-d377-4de5-be44-02847b5815f0",
   "metadata": {},
   "outputs": [
    {
     "data": {
      "text/plain": [
       "Index(['序号', '标题 (中文)', '摘要 (中文)', '申请人', '申请日', '申请号', '首次公开日', '公开（公告）号',\n",
       "       '专利类型', '专利有效性', '公开国别', 'IPC主分类', 'IPC', '申请人类型', '发明人', '发明人数量',\n",
       "       '简单同族', '扩展同族', '简单同族个数', '引证专利', '引证科技文献', '引证次数', '被引证次数', '引证申请人',\n",
       "       '被引证申请人', '申请人数量', '许可次数', '转让次数', '权利要求数量', '当前法律状态', '公开类型',\n",
       "       'table_name', '工商全称'],\n",
       "      dtype='object')"
      ]
     },
     "execution_count": 61,
     "metadata": {},
     "output_type": "execute_result"
    }
   ],
   "source": [
    "patent_co_1=patent_co_0.loc[patent_co_0['工商全称'].isin(co_stk_0['中文全称']),df_filter_1.columns]\n",
    "patent_co_1.columns"
   ]
  },
  {
   "cell_type": "code",
   "execution_count": 142,
   "id": "4bf176e1-a106-4063-aacb-3490f7365d80",
   "metadata": {},
   "outputs": [
    {
     "data": {
      "text/plain": [
       "[WindowsPath('X:/Downloads/Patent/2024-08-21 (3).xlsx'),\n",
       " WindowsPath('X:/Downloads/Patent/2024-08-21 (4).xlsx'),\n",
       " WindowsPath('X:/Downloads/Patent/2024-08-21 (5).xlsx'),\n",
       " WindowsPath('X:/Downloads/Patent/2024-08-21 (6).xlsx'),\n",
       " WindowsPath('X:/Downloads/Patent/2024-08-21.xlsx')]"
      ]
     },
     "execution_count": 142,
     "metadata": {},
     "output_type": "execute_result"
    }
   ],
   "source": [
    "directory = Path(r'X:\\Downloads\\Patent')\n",
    "file_paths= directory.glob('2024-08-21*.xlsx')\n",
    "\n",
    "file_paths_list= list(file_paths)\n",
    "file_paths_list"
   ]
  },
  {
   "cell_type": "code",
   "execution_count": 143,
   "id": "2e55d161-da4d-4982-b893-c2d5929230d6",
   "metadata": {},
   "outputs": [
    {
     "name": "stderr",
     "output_type": "stream",
     "text": [
      "C:\\Users\\Prime\\AppData\\Roaming\\Python\\Python39\\site-packages\\openpyxl\\styles\\stylesheet.py:226: UserWarning: Workbook contains no default style, apply openpyxl's default\n",
      "  warn(\"Workbook contains no default style, apply openpyxl's default\")\n",
      "C:\\Users\\Prime\\AppData\\Roaming\\Python\\Python39\\site-packages\\openpyxl\\styles\\stylesheet.py:226: UserWarning: Workbook contains no default style, apply openpyxl's default\n",
      "  warn(\"Workbook contains no default style, apply openpyxl's default\")\n",
      "C:\\Users\\Prime\\AppData\\Roaming\\Python\\Python39\\site-packages\\openpyxl\\styles\\stylesheet.py:226: UserWarning: Workbook contains no default style, apply openpyxl's default\n",
      "  warn(\"Workbook contains no default style, apply openpyxl's default\")\n",
      "C:\\Users\\Prime\\AppData\\Roaming\\Python\\Python39\\site-packages\\openpyxl\\styles\\stylesheet.py:226: UserWarning: Workbook contains no default style, apply openpyxl's default\n",
      "  warn(\"Workbook contains no default style, apply openpyxl's default\")\n",
      "C:\\Users\\Prime\\AppData\\Roaming\\Python\\Python39\\site-packages\\openpyxl\\styles\\stylesheet.py:226: UserWarning: Workbook contains no default style, apply openpyxl's default\n",
      "  warn(\"Workbook contains no default style, apply openpyxl's default\")\n"
     ]
    },
    {
     "data": {
      "text/plain": [
       "5"
      ]
     },
     "execution_count": 143,
     "metadata": {},
     "output_type": "execute_result"
    }
   ],
   "source": [
    "patent_list= [pd.read_excel(file) for file in file_paths_list]\n",
    "len(patent_list)"
   ]
  },
  {
   "cell_type": "code",
   "execution_count": 144,
   "id": "58b56a3b-75aa-44a0-a06d-9f7d826db8e7",
   "metadata": {},
   "outputs": [
    {
     "data": {
      "text/plain": [
       "(96726, 194)"
      ]
     },
     "execution_count": 144,
     "metadata": {},
     "output_type": "execute_result"
    }
   ],
   "source": [
    "patent_df = pd.concat(patent_list, ignore_index=True)\n",
    "patent_df.shape"
   ]
  },
  {
   "cell_type": "code",
   "execution_count": 147,
   "id": "ac9d4c24-62b0-4b95-a5b9-739aacc0e047",
   "metadata": {},
   "outputs": [
    {
     "data": {
      "text/plain": [
       "Timestamp('2024-08-20 00:00:00')"
      ]
     },
     "execution_count": 147,
     "metadata": {},
     "output_type": "execute_result"
    }
   ],
   "source": [
    "patent_df['公开（公告）日'].max()"
   ]
  },
  {
   "cell_type": "code",
   "execution_count": 148,
   "id": "102eac69-9744-4562-82a3-7d95cf4ea934",
   "metadata": {},
   "outputs": [],
   "source": [
    "patent_df.to_csv('data\\patent_data_2024_0821.csv', index=False, encoding=\"utf_8_sig\")"
   ]
  },
  {
   "cell_type": "code",
   "execution_count": 152,
   "id": "2e0d4709-9a73-4d48-9d9e-a99a8b9868bf",
   "metadata": {},
   "outputs": [
    {
     "data": {
      "text/plain": [
       "(141398, 196)"
      ]
     },
     "execution_count": 152,
     "metadata": {},
     "output_type": "execute_result"
    }
   ],
   "source": [
    "patent_df['工商全称']=patent_df['申请人'].str.split(';')\n",
    "patent_co_2=patent_df.explode('工商全称')\n",
    "patent_co_2['工商全称']=patent_co_2['工商全称'].str.strip()\n",
    "patent_co_2['table_name']='patent202408'\n",
    "patent_co_2.shape"
   ]
  },
  {
   "cell_type": "code",
   "execution_count": 153,
   "id": "148bcbd6-b00c-42a5-a28d-166b2b69a5ea",
   "metadata": {},
   "outputs": [
    {
     "data": {
      "text/plain": [
       "Index(['序号', '标题 (中文)', '摘要 (中文)', '申请人', '申请日', '申请号', '首次公开日', '公开（公告）号',\n",
       "       '专利类型', '专利有效性', '公开国别', 'IPC主分类', 'IPC', '申请人类型', '发明人', '发明人数量',\n",
       "       '简单同族', '扩展同族', '简单同族个数', '引证专利', '引证科技文献', '引证次数', '被引证次数', '引证申请人',\n",
       "       '被引证申请人', '申请人数量', '许可次数', '转让次数', '权利要求数量', '当前法律状态', '公开类型',\n",
       "       'table_name', '工商全称'],\n",
       "      dtype='object')"
      ]
     },
     "execution_count": 153,
     "metadata": {},
     "output_type": "execute_result"
    }
   ],
   "source": [
    "patent_co_3=patent_co_2.loc[patent_co_2['工商全称'].isin(co_stk_0['中文全称']),df_filter_1.columns]\n",
    "patent_co_3.columns"
   ]
  },
  {
   "cell_type": "code",
   "execution_count": 159,
   "id": "8bb05159-6d32-43eb-97d5-686b3a138e87",
   "metadata": {},
   "outputs": [
    {
     "data": {
      "text/plain": [
       "762"
      ]
     },
     "execution_count": 159,
     "metadata": {},
     "output_type": "execute_result"
    }
   ],
   "source": [
    "patent_co_3.工商全称.nunique()"
   ]
  },
  {
   "cell_type": "code",
   "execution_count": 155,
   "id": "ec7d9af1-7ef2-4495-a373-889109dd7edd",
   "metadata": {},
   "outputs": [
    {
     "data": {
      "text/plain": [
       "((74464, 33), (1093275, 33))"
      ]
     },
     "execution_count": 155,
     "metadata": {},
     "output_type": "execute_result"
    }
   ],
   "source": [
    "patent_co_3.shape,patent_co_1.shape"
   ]
  },
  {
   "cell_type": "code",
   "execution_count": 156,
   "id": "904e6d6f-83e6-4b0a-a7d5-eba1f56e6033",
   "metadata": {},
   "outputs": [
    {
     "data": {
      "text/plain": [
       "(2265596, 33)"
      ]
     },
     "execution_count": 156,
     "metadata": {},
     "output_type": "execute_result"
    }
   ],
   "source": [
    "patent_co_stk_list=pd.concat([patent_co_1,df_filter_1,patent_co_3])\n",
    "patent_co_stk_list.shape"
   ]
  },
  {
   "cell_type": "code",
   "execution_count": 157,
   "id": "546d4db1-643b-47e5-ba5f-53eb10040139",
   "metadata": {},
   "outputs": [
    {
     "data": {
      "text/plain": [
       "(1983071, 33)"
      ]
     },
     "execution_count": 157,
     "metadata": {},
     "output_type": "execute_result"
    }
   ],
   "source": [
    "patent_co_stk_list['申请日']=pd.to_datetime(patent_co_stk_list['申请日'])\n",
    "patent_co_stk_list=patent_co_stk_list[patent_co_stk_list['工商全称'].isin(co_stk_0['中文全称'])]\n",
    "patent_co_stk_list.sort_values('申请日',ascending=False,inplace=True)\n",
    "patent_co_stk_list.drop_duplicates(['申请号','公开（公告）号'],keep='first',inplace=True)\n",
    "patent_co_stk_list.reset_index(drop=True,inplace=True)\n",
    "patent_co_stk_list.shape#1933746,1983071"
   ]
  },
  {
   "cell_type": "code",
   "execution_count": 158,
   "id": "57ba4125-0491-461c-b844-efea0ccb51b7",
   "metadata": {},
   "outputs": [
    {
     "data": {
      "text/plain": [
       "5857"
      ]
     },
     "execution_count": 158,
     "metadata": {},
     "output_type": "execute_result"
    }
   ],
   "source": [
    "patent_co_stk_list.工商全称.nunique()"
   ]
  },
  {
   "cell_type": "code",
   "execution_count": 160,
   "id": "e009a155-26a9-4f7a-ab22-cc724ffa1b25",
   "metadata": {
    "editable": true,
    "slideshow": {
     "slide_type": ""
    },
    "tags": []
   },
   "outputs": [],
   "source": [
    "patent_co_stk_list.to_csv('data\\patent_co_stk_list_1983_6k_202408_last.csv')"
   ]
  },
  {
   "cell_type": "code",
   "execution_count": 162,
   "id": "e05b8661-f842-40c2-83e1-0ba8ece7749d",
   "metadata": {},
   "outputs": [
    {
     "data": {
      "text/plain": [
       "table_name\n",
       "patent202210                    1216677\n",
       "patent202404                     494850\n",
       "patent_incopat_202101_202211     138886\n",
       "patent202408                      54373\n",
       "patent202407                      50969\n",
       "patent_incopat_202212_202312      22660\n",
       "patent202309                       4656\n",
       "Name: count, dtype: int64"
      ]
     },
     "execution_count": 162,
     "metadata": {},
     "output_type": "execute_result"
    }
   ],
   "source": [
    "patent_co_stk_list.table_name.value_counts()"
   ]
  },
  {
   "cell_type": "code",
   "execution_count": null,
   "id": "91b0b929-7c8b-441c-8476-def0856c8b60",
   "metadata": {},
   "outputs": [],
   "source": [
    "patent_co_stk_list.loc[~patent_co_stk_list.table_name.isin(['patent202407','patent202408']),['table_name','申请号']].to_csv('data\\上市企业专利_bridge.csv')"
   ]
  },
  {
   "cell_type": "code",
   "execution_count": null,
   "id": "f471d8ae-5c85-45b3-bef7-46b5d0cb2924",
   "metadata": {},
   "outputs": [],
   "source": [
    "data=pd.read_csv('Y:\\Downloads\\Patent\\上市企业专利_bridge.csv',index_col=0)\n",
    "tb_id=data.groupby('table_name')['申请号'].apply(lambda x:x.to_list())\n",
    "columns=['序号', '申请人','申请日','申请号','首次公开日','公开（公告）号','公开类型','当前法律状态','当前权利人']\n",
    "column_name = '`'+'`,`'.join(columns)+'`'"
   ]
  },
  {
   "cell_type": "code",
   "execution_count": null,
   "id": "14ee765e-578e-4c59-a894-ef02ea979620",
   "metadata": {},
   "outputs": [],
   "source": [
    "def chunks(lst, n):\n",
    "    for i in range(0, len(lst), n):\n",
    "        yield lst[i:i + n]\n",
    "        \n",
    "batch_size=5000\n",
    "for table in tb_id.index:\n",
    "    query = text(f'SELECT {column_name} FROM `{table}` WHERE `申请号` in :ids')\n",
    "    chunks_list = []\n",
    "    ids = tuple(tb_id[table])\n",
    "    for batch in chunks(ids, batch_size):\n",
    "        chunk = pd.read_sql_query(query, con=engine, params={'ids': batch})\n",
    "        chunks_list.append(chunk)\n",
    "        print(len(chunks_list),chunk.shape[0])\n",
    "        del chunk\n",
    "    df_filter = pd.concat(chunks_list, ignore_index=True)\n",
    "    df_filter['table_name']=table\n",
    "    df_filter.to_pickle(f'data\\\\patent_{table}_1.pkl')\n",
    "    print(table,df_filter.shape)\n",
    "    del df_filter\n",
    "    del chunks_list"
   ]
  },
  {
   "cell_type": "code",
   "execution_count": 32,
   "id": "afc26f6a-592c-4ebe-98a9-4be4612651a0",
   "metadata": {},
   "outputs": [
    {
     "name": "stdout",
     "output_type": "stream",
     "text": [
      "patent_incopat_202101_202211 (234461, 10)\n",
      "patent_incopat_202212_202312 (257134, 10)\n",
      "patent202210 (1473835, 10)\n",
      "patent202309 (1478795, 10)\n",
      "patent202404 (2032600, 10)\n"
     ]
    }
   ],
   "source": [
    "names=['patent_incopat_202101_202211','patent_incopat_202212_202312','patent202210','patent202309','patent202404']\n",
    "df_filter_2=pd.DataFrame()\n",
    "for n in names:\n",
    "    df_filter_2=pd.concat([df_filter_2,pd.read_pickle(f'X:\\Downloads\\Patent\\patent_{n}_1.pkl')])\n",
    "    print(n,df_filter_2.shape)"
   ]
  },
  {
   "cell_type": "code",
   "execution_count": 37,
   "id": "d40fb9cc-6809-49c5-b146-a3d5b18f5652",
   "metadata": {},
   "outputs": [],
   "source": [
    "df_filter_3=pd.read_csv('data\\patent_data_2024_0725.csv',usecols=columns)\n",
    "df_filter_3['table_name']='patent202407'\n",
    "df_filter_4=pd.read_csv('data\\patent_data_2024_0821.csv',usecols=columns)\n",
    "df_filter_4['table_name']='patent202408'"
   ]
  },
  {
   "cell_type": "code",
   "execution_count": 38,
   "id": "1b3f64e5-92e8-40ef-b9d2-d32ebbf91978",
   "metadata": {},
   "outputs": [
    {
     "data": {
      "text/plain": [
       "(2274057, 10)"
      ]
     },
     "execution_count": 38,
     "metadata": {},
     "output_type": "execute_result"
    }
   ],
   "source": [
    "patent_listed=pd.concat([df_filter_2,df_filter_3,df_filter_4])\n",
    "patent_listed['申请日']=pd.to_datetime(patent_listed['申请日'])\n",
    "patent_listed.sort_values('申请日',ascending=False,inplace=True)\n",
    "patent_listed.drop_duplicates(keep='first',inplace=True)\n",
    "patent_listed.reset_index(drop=True,inplace=True)\n",
    "patent_listed.shape"
   ]
  },
  {
   "cell_type": "code",
   "execution_count": 39,
   "id": "4ac34c61-3e21-4998-99c2-f500e598c170",
   "metadata": {},
   "outputs": [
    {
     "data": {
      "text/plain": [
       "table_name\n",
       "patent202210                    1216701\n",
       "patent202404                     551868\n",
       "patent_incopat_202101_202211     234161\n",
       "patent202407                     146978\n",
       "patent202408                      96726\n",
       "patent_incopat_202212_202312      22663\n",
       "patent202309                       4960\n",
       "Name: count, dtype: int64"
      ]
     },
     "execution_count": 39,
     "metadata": {},
     "output_type": "execute_result"
    }
   ],
   "source": [
    "patent_listed.table_name.value_counts()"
   ]
  },
  {
   "cell_type": "code",
   "execution_count": 40,
   "id": "267e5286-78ab-4569-afbb-3a2b4636f080",
   "metadata": {},
   "outputs": [],
   "source": [
    "patent_listed.to_csv('data\\patent_stk_listed_2274_202408_bridge.csv')"
   ]
  },
  {
   "cell_type": "code",
   "execution_count": 41,
   "id": "5620ae5c-9d03-4004-8baa-1fd1504ec9d9",
   "metadata": {},
   "outputs": [
    {
     "data": {
      "text/plain": [
       "当前法律状态\n",
       "授权                 1313876\n",
       "实质审查                411534\n",
       "未缴年费                230964\n",
       "驳回                  135595\n",
       "期限届满                 67177\n",
       "撤回                   60559\n",
       "公开                   33585\n",
       "避重放弃                 17398\n",
       "放弃                    1797\n",
       "全部无效                   476\n",
       "进入国家阶段-PCT有效期满         321\n",
       "权利终止                   275\n",
       "未进入国家阶段-PCT有效期满        260\n",
       "部分无效                   105\n",
       "全部撤销                    46\n",
       "未进入国家阶段-PCT有效期内         45\n",
       "权利恢复                    29\n",
       "进入国家阶段-PCT有效期内           7\n",
       "暂缺                       4\n",
       "申请终止                     4\n",
       "Name: count, dtype: int64"
      ]
     },
     "execution_count": 41,
     "metadata": {},
     "output_type": "execute_result"
    }
   ],
   "source": [
    "patent_listed.当前法律状态.value_counts()"
   ]
  },
  {
   "cell_type": "code",
   "execution_count": 56,
   "id": "d580f607-c061-44d9-a1a7-e7323feb31ab",
   "metadata": {},
   "outputs": [
    {
     "data": {
      "text/plain": [
       "0"
      ]
     },
     "execution_count": 56,
     "metadata": {},
     "output_type": "execute_result"
    }
   ],
   "source": [
    "patent_listed.当前法律状态.isna().sum()"
   ]
  },
  {
   "cell_type": "code",
   "execution_count": 55,
   "id": "9d2f5103-b405-4709-9353-5ca4b80014a7",
   "metadata": {},
   "outputs": [
    {
     "data": {
      "text/plain": [
       "公开类型\n",
       "发明申请        711758\n",
       "实用新型        637440\n",
       "发明授权        461329\n",
       "外观设计        206068\n",
       "译文             295\n",
       "修正或者更正专利       209\n",
       "检索报告           132\n",
       "其他               2\n",
       "Name: count, dtype: int64"
      ]
     },
     "execution_count": 55,
     "metadata": {},
     "output_type": "execute_result"
    }
   ],
   "source": [
    "patent_listed.公开类型.value_counts()"
   ]
  },
  {
   "cell_type": "code",
   "execution_count": 45,
   "id": "65013417-aa1a-47ba-9942-f29ae4b3212e",
   "metadata": {},
   "outputs": [
    {
     "data": {
      "text/plain": [
       "申请号\n",
       "APP2020012656       1\n",
       "CN202010790184.1    1\n",
       "CN202010790179.0    1\n",
       "CN202010790165.9    1\n",
       "CN202010790162.5    1\n",
       "                   ..\n",
       "CN202011568483.7    2\n",
       "CN201911207578.3    3\n",
       "CN201911252630.7    3\n",
       "CN202010587307.1    3\n",
       "CN202010663233.5    3\n",
       "Name: 当前法律状态, Length: 1902820, dtype: int64"
      ]
     },
     "execution_count": 45,
     "metadata": {},
     "output_type": "execute_result"
    }
   ],
   "source": [
    "patent_listed.groupby('申请号')['当前法律状态'].nunique().sort_values()"
   ]
  },
  {
   "cell_type": "code",
   "execution_count": 72,
   "id": "31a92e81-f1fa-433a-9488-68c0d195f065",
   "metadata": {},
   "outputs": [
    {
     "data": {
      "text/plain": [
       "申请号\n",
       "APP2020012656       1\n",
       "CN202010841896.1    1\n",
       "CN202010841872.6    1\n",
       "CN202010841855.2    1\n",
       "CN202010841844.4    1\n",
       "                   ..\n",
       "CN201610962237.7    2\n",
       "CN201810974613.3    2\n",
       "CN201610893475.7    2\n",
       "CN200910199298.2    3\n",
       "FIU20110079U        3\n",
       "Name: 申请人, Length: 1902820, dtype: int64"
      ]
     },
     "execution_count": 72,
     "metadata": {},
     "output_type": "execute_result"
    }
   ],
   "source": [
    "patent_listed.groupby('申请号')['申请人'].nunique().sort_values()"
   ]
  },
  {
   "cell_type": "code",
   "execution_count": 73,
   "id": "04e7d898-d741-403d-a410-0842838211c1",
   "metadata": {},
   "outputs": [
    {
     "data": {
      "text/plain": [
       "申请号\n",
       "CN202310010175.X    0\n",
       "CN201911320671.5    0\n",
       "CN202310537237.2    0\n",
       "CN202011567032.1    0\n",
       "CN202010462098.8    0\n",
       "                   ..\n",
       "CN202011462030.6    2\n",
       "CN202210607002.1    2\n",
       "CN201110281339.X    2\n",
       "CN202010294221.X    2\n",
       "FIU20110079U        3\n",
       "Name: 当前权利人, Length: 1902820, dtype: int64"
      ]
     },
     "execution_count": 73,
     "metadata": {},
     "output_type": "execute_result"
    }
   ],
   "source": [
    "patent_listed.groupby('申请号')['当前权利人'].nunique().sort_values()"
   ]
  },
  {
   "cell_type": "code",
   "execution_count": 46,
   "id": "d53e470a-f573-4d84-b2ec-2e2227c85038",
   "metadata": {},
   "outputs": [
    {
     "data": {
      "text/html": [
       "<div>\n",
       "<style scoped>\n",
       "    .dataframe tbody tr th:only-of-type {\n",
       "        vertical-align: middle;\n",
       "    }\n",
       "\n",
       "    .dataframe tbody tr th {\n",
       "        vertical-align: top;\n",
       "    }\n",
       "\n",
       "    .dataframe thead th {\n",
       "        text-align: right;\n",
       "    }\n",
       "</style>\n",
       "<table border=\"1\" class=\"dataframe\">\n",
       "  <thead>\n",
       "    <tr style=\"text-align: right;\">\n",
       "      <th></th>\n",
       "      <th>序号</th>\n",
       "      <th>申请人</th>\n",
       "      <th>申请日</th>\n",
       "      <th>申请号</th>\n",
       "      <th>首次公开日</th>\n",
       "      <th>公开（公告）号</th>\n",
       "      <th>公开类型</th>\n",
       "      <th>当前法律状态</th>\n",
       "      <th>当前权利人</th>\n",
       "      <th>table_name</th>\n",
       "    </tr>\n",
       "  </thead>\n",
       "  <tbody>\n",
       "    <tr>\n",
       "      <th>765252</th>\n",
       "      <td>1420253</td>\n",
       "      <td>中兴通讯股份有限公司</td>\n",
       "      <td>2020-07-10</td>\n",
       "      <td>CN202010663233.5</td>\n",
       "      <td>2022-01-11 00:00:00</td>\n",
       "      <td>CN113923062A</td>\n",
       "      <td>发明申请</td>\n",
       "      <td>实质审查</td>\n",
       "      <td>中兴通讯股份有限公司</td>\n",
       "      <td>patent202404</td>\n",
       "    </tr>\n",
       "    <tr>\n",
       "      <th>765253</th>\n",
       "      <td>1420252</td>\n",
       "      <td>中兴通讯股份有限公司</td>\n",
       "      <td>2020-07-10</td>\n",
       "      <td>CN202010663233.5</td>\n",
       "      <td>2022-01-11 00:00:00</td>\n",
       "      <td>CN113923062B</td>\n",
       "      <td>发明授权</td>\n",
       "      <td>授权</td>\n",
       "      <td>中兴通讯股份有限公司</td>\n",
       "      <td>patent202404</td>\n",
       "    </tr>\n",
       "    <tr>\n",
       "      <th>765505</th>\n",
       "      <td>1396591</td>\n",
       "      <td>中兴通讯股份有限公司</td>\n",
       "      <td>2020-07-10</td>\n",
       "      <td>CN202010663233.5</td>\n",
       "      <td>2022-01-11 00:00:00</td>\n",
       "      <td>CN113923062A</td>\n",
       "      <td>发明申请</td>\n",
       "      <td>公开</td>\n",
       "      <td>中兴通讯股份有限公司</td>\n",
       "      <td>patent202210</td>\n",
       "    </tr>\n",
       "  </tbody>\n",
       "</table>\n",
       "</div>"
      ],
      "text/plain": [
       "             序号         申请人        申请日               申请号                首次公开日  \\\n",
       "765252  1420253  中兴通讯股份有限公司 2020-07-10  CN202010663233.5  2022-01-11 00:00:00   \n",
       "765253  1420252  中兴通讯股份有限公司 2020-07-10  CN202010663233.5  2022-01-11 00:00:00   \n",
       "765505  1396591  中兴通讯股份有限公司 2020-07-10  CN202010663233.5  2022-01-11 00:00:00   \n",
       "\n",
       "             公开（公告）号  公开类型 当前法律状态       当前权利人    table_name  \n",
       "765252  CN113923062A  发明申请   实质审查  中兴通讯股份有限公司  patent202404  \n",
       "765253  CN113923062B  发明授权     授权  中兴通讯股份有限公司  patent202404  \n",
       "765505  CN113923062A  发明申请     公开  中兴通讯股份有限公司  patent202210  "
      ]
     },
     "execution_count": 46,
     "metadata": {},
     "output_type": "execute_result"
    }
   ],
   "source": [
    "patent_listed[patent_listed['申请号']=='CN202010663233.5']"
   ]
  },
  {
   "cell_type": "code",
   "execution_count": 74,
   "id": "8732c42b-3ea4-493e-9a7e-8367e970c6e5",
   "metadata": {},
   "outputs": [
    {
     "data": {
      "text/plain": [
       "申请日\n",
       "1908-07-30    1\n",
       "2015-04-19    1\n",
       "2015-04-20    1\n",
       "2015-04-21    1\n",
       "2015-04-22    1\n",
       "             ..\n",
       "2005-11-30    1\n",
       "2005-12-01    1\n",
       "2005-12-02    1\n",
       "2005-12-04    1\n",
       "2024-07-23    1\n",
       "Name: 申请日, Length: 9676, dtype: int64"
      ]
     },
     "execution_count": 74,
     "metadata": {},
     "output_type": "execute_result"
    }
   ],
   "source": [
    "patent_listed.groupby('申请日')['申请日'].nunique().sort_values()"
   ]
  },
  {
   "cell_type": "code",
   "execution_count": 43,
   "id": "0170dbbe-de94-496a-bd59-380b80bef6e8",
   "metadata": {},
   "outputs": [
    {
     "data": {
      "text/plain": [
       "申请号\n",
       "APP2020012656       1\n",
       "CN202010482327.2    1\n",
       "CN202010482311.1    1\n",
       "CN202010482281.4    1\n",
       "CN202010482272.5    1\n",
       "                   ..\n",
       "NO873319            5\n",
       "NO883905            5\n",
       "EU003869627         5\n",
       "NO903885            5\n",
       "EU003490978         6\n",
       "Name: 公开（公告）号, Length: 1902820, dtype: int64"
      ]
     },
     "execution_count": 43,
     "metadata": {},
     "output_type": "execute_result"
    }
   ],
   "source": [
    "patent_listed.groupby('申请日')['公开（公告）号'].nunique().sort_values()"
   ]
  },
  {
   "cell_type": "code",
   "execution_count": 44,
   "id": "2e778d0f-002c-4139-872a-5e338a4856ea",
   "metadata": {},
   "outputs": [
    {
     "data": {
      "text/html": [
       "<div>\n",
       "<style scoped>\n",
       "    .dataframe tbody tr th:only-of-type {\n",
       "        vertical-align: middle;\n",
       "    }\n",
       "\n",
       "    .dataframe tbody tr th {\n",
       "        vertical-align: top;\n",
       "    }\n",
       "\n",
       "    .dataframe thead th {\n",
       "        text-align: right;\n",
       "    }\n",
       "</style>\n",
       "<table border=\"1\" class=\"dataframe\">\n",
       "  <thead>\n",
       "    <tr style=\"text-align: right;\">\n",
       "      <th></th>\n",
       "      <th>序号</th>\n",
       "      <th>申请人</th>\n",
       "      <th>申请日</th>\n",
       "      <th>申请号</th>\n",
       "      <th>首次公开日</th>\n",
       "      <th>公开（公告）号</th>\n",
       "      <th>公开类型</th>\n",
       "      <th>当前法律状态</th>\n",
       "      <th>当前权利人</th>\n",
       "      <th>table_name</th>\n",
       "    </tr>\n",
       "  </thead>\n",
       "  <tbody>\n",
       "    <tr>\n",
       "      <th>1452981</th>\n",
       "      <td>7257</td>\n",
       "      <td>Shanghai Precise Packaging Co Ltd</td>\n",
       "      <td>2016-11-30</td>\n",
       "      <td>EU003490978</td>\n",
       "      <td>2017-03-02</td>\n",
       "      <td>EU0034909780001S</td>\n",
       "      <td>外观设计</td>\n",
       "      <td>未缴年费</td>\n",
       "      <td>Shanghai Precise Packaging Co Ltd</td>\n",
       "      <td>patent202408</td>\n",
       "    </tr>\n",
       "    <tr>\n",
       "      <th>1452996</th>\n",
       "      <td>7258</td>\n",
       "      <td>Shanghai Precise Packaging Co Ltd</td>\n",
       "      <td>2016-11-30</td>\n",
       "      <td>EU003490978</td>\n",
       "      <td>2017-03-02</td>\n",
       "      <td>EU0034909780002S</td>\n",
       "      <td>外观设计</td>\n",
       "      <td>未缴年费</td>\n",
       "      <td>Shanghai Precise Packaging Co Ltd</td>\n",
       "      <td>patent202408</td>\n",
       "    </tr>\n",
       "    <tr>\n",
       "      <th>1453005</th>\n",
       "      <td>7262</td>\n",
       "      <td>Shanghai Precise Packaging Co Ltd</td>\n",
       "      <td>2016-11-30</td>\n",
       "      <td>EU003490978</td>\n",
       "      <td>2017-03-02</td>\n",
       "      <td>EU0034909780006S</td>\n",
       "      <td>外观设计</td>\n",
       "      <td>未缴年费</td>\n",
       "      <td>Shanghai Precise Packaging Co Ltd</td>\n",
       "      <td>patent202408</td>\n",
       "    </tr>\n",
       "    <tr>\n",
       "      <th>1453006</th>\n",
       "      <td>7261</td>\n",
       "      <td>Shanghai Precise Packaging Co Ltd</td>\n",
       "      <td>2016-11-30</td>\n",
       "      <td>EU003490978</td>\n",
       "      <td>2017-03-02</td>\n",
       "      <td>EU0034909780005S</td>\n",
       "      <td>外观设计</td>\n",
       "      <td>未缴年费</td>\n",
       "      <td>Shanghai Precise Packaging Co Ltd</td>\n",
       "      <td>patent202408</td>\n",
       "    </tr>\n",
       "    <tr>\n",
       "      <th>1453007</th>\n",
       "      <td>7260</td>\n",
       "      <td>Shanghai Precise Packaging Co Ltd</td>\n",
       "      <td>2016-11-30</td>\n",
       "      <td>EU003490978</td>\n",
       "      <td>2017-03-02</td>\n",
       "      <td>EU0034909780004S</td>\n",
       "      <td>外观设计</td>\n",
       "      <td>未缴年费</td>\n",
       "      <td>Shanghai Precise Packaging Co Ltd</td>\n",
       "      <td>patent202408</td>\n",
       "    </tr>\n",
       "    <tr>\n",
       "      <th>1453008</th>\n",
       "      <td>7259</td>\n",
       "      <td>Shanghai Precise Packaging Co Ltd</td>\n",
       "      <td>2016-11-30</td>\n",
       "      <td>EU003490978</td>\n",
       "      <td>2017-03-02</td>\n",
       "      <td>EU0034909780003S</td>\n",
       "      <td>外观设计</td>\n",
       "      <td>未缴年费</td>\n",
       "      <td>Shanghai Precise Packaging Co Ltd</td>\n",
       "      <td>patent202408</td>\n",
       "    </tr>\n",
       "  </tbody>\n",
       "</table>\n",
       "</div>"
      ],
      "text/plain": [
       "           序号                                申请人        申请日          申请号  \\\n",
       "1452981  7257  Shanghai Precise Packaging Co Ltd 2016-11-30  EU003490978   \n",
       "1452996  7258  Shanghai Precise Packaging Co Ltd 2016-11-30  EU003490978   \n",
       "1453005  7262  Shanghai Precise Packaging Co Ltd 2016-11-30  EU003490978   \n",
       "1453006  7261  Shanghai Precise Packaging Co Ltd 2016-11-30  EU003490978   \n",
       "1453007  7260  Shanghai Precise Packaging Co Ltd 2016-11-30  EU003490978   \n",
       "1453008  7259  Shanghai Precise Packaging Co Ltd 2016-11-30  EU003490978   \n",
       "\n",
       "              首次公开日           公开（公告）号  公开类型 当前法律状态  \\\n",
       "1452981  2017-03-02  EU0034909780001S  外观设计   未缴年费   \n",
       "1452996  2017-03-02  EU0034909780002S  外观设计   未缴年费   \n",
       "1453005  2017-03-02  EU0034909780006S  外观设计   未缴年费   \n",
       "1453006  2017-03-02  EU0034909780005S  外观设计   未缴年费   \n",
       "1453007  2017-03-02  EU0034909780004S  外观设计   未缴年费   \n",
       "1453008  2017-03-02  EU0034909780003S  外观设计   未缴年费   \n",
       "\n",
       "                                     当前权利人    table_name  \n",
       "1452981  Shanghai Precise Packaging Co Ltd  patent202408  \n",
       "1452996  Shanghai Precise Packaging Co Ltd  patent202408  \n",
       "1453005  Shanghai Precise Packaging Co Ltd  patent202408  \n",
       "1453006  Shanghai Precise Packaging Co Ltd  patent202408  \n",
       "1453007  Shanghai Precise Packaging Co Ltd  patent202408  \n",
       "1453008  Shanghai Precise Packaging Co Ltd  patent202408  "
      ]
     },
     "execution_count": 44,
     "metadata": {},
     "output_type": "execute_result"
    }
   ],
   "source": [
    "patent_listed[patent_listed['申请号']=='EU003490978']"
   ]
  },
  {
   "cell_type": "markdown",
   "id": "d0fce4d4-95de-4b03-ac4a-5345d7dade4b",
   "metadata": {},
   "source": [
    "在训练w2v的时候选择最新的？然后在计算tech_closeness的时候可以根据他的申请状态和当年的时间去判断么，\n",
    "如果是还在申请中的就用最初的申请人，如果是已经授权的就选择到那一年的最新当前权利人\n",
    "如果是授权的话，就看当年的当前权利人，如果不受授权的就看申请人，然后如果授权之后当前权利人空的话还是看申请人"
   ]
  },
  {
   "cell_type": "code",
   "execution_count": 75,
   "id": "6ba83eb1-0aa9-4e1a-b89d-7886179d125f",
   "metadata": {},
   "outputs": [
    {
     "data": {
      "text/plain": [
       "0"
      ]
     },
     "execution_count": 75,
     "metadata": {},
     "output_type": "execute_result"
    }
   ],
   "source": [
    "patent_listed['权利人'] = np.where((patent_listed.当前法律状态=='授权')&(pd.notna(patent_listed.当前权利人)),patent_listed.当前权利人,patent_listed.申请人)\n",
    "patent_listed['权利人'].isna().sum()"
   ]
  },
  {
   "cell_type": "code",
   "execution_count": 81,
   "id": "26116e11-cf20-4542-9584-5c64bb345c5a",
   "metadata": {},
   "outputs": [],
   "source": [
    "patent_listed['中文全称']=patent_listed['权利人'].str.split(';')"
   ]
  },
  {
   "cell_type": "code",
   "execution_count": 94,
   "id": "a2158908-4884-4d67-9332-d0d738f27f9f",
   "metadata": {},
   "outputs": [
    {
     "data": {
      "text/plain": [
       "(2915535, 5)"
      ]
     },
     "execution_count": 94,
     "metadata": {},
     "output_type": "execute_result"
    }
   ],
   "source": [
    "patent_listed_1=patent_listed[['申请人', '申请日', '申请号','公开（公告）号','中文全称']].explode('中文全称')\n",
    "patent_listed_1['中文全称']=patent_listed_1['中文全称'].str.strip()\n",
    "patent_listed_1.shape"
   ]
  },
  {
   "cell_type": "code",
   "execution_count": 95,
   "id": "2bd045a0-5bee-4cb0-b41e-9432a776b5b3",
   "metadata": {},
   "outputs": [
    {
     "data": {
      "text/plain": [
       "(2676518, 7)"
      ]
     },
     "execution_count": 95,
     "metadata": {},
     "output_type": "execute_result"
    }
   ],
   "source": [
    "patent_listed_2=pd.merge(patent_listed_1.drop_duplicates(keep='first'),co_stk[['中文全称','股票代码','首次上市日期']].drop_duplicates(keep='first'),on='中文全称',how='left')\n",
    "patent_listed_2.shape"
   ]
  },
  {
   "cell_type": "code",
   "execution_count": 97,
   "id": "72fc8a2a-1588-4fe4-9145-bcdf5368f62e",
   "metadata": {},
   "outputs": [
    {
     "data": {
      "text/plain": [
       "(1940007, 7)"
      ]
     },
     "execution_count": 97,
     "metadata": {},
     "output_type": "execute_result"
    }
   ],
   "source": [
    "patent_listed_2.dropna(subset='股票代码',inplace=True)\n",
    "patent_listed_2.shape"
   ]
  },
  {
   "cell_type": "code",
   "execution_count": 98,
   "id": "92e73fac-28f1-4686-9615-9566815b514e",
   "metadata": {},
   "outputs": [
    {
     "data": {
      "text/plain": [
       "Index(['申请人', '申请日', '申请号', '公开（公告）号', '中文全称', '股票代码', '首次上市日期'], dtype='object')"
      ]
     },
     "execution_count": 98,
     "metadata": {},
     "output_type": "execute_result"
    }
   ],
   "source": [
    "patent_listed_2.columns"
   ]
  },
  {
   "cell_type": "code",
   "execution_count": 101,
   "id": "aafb690f-71fe-4886-8c55-dd872989505c",
   "metadata": {},
   "outputs": [
    {
     "data": {
      "text/plain": [
       "52371"
      ]
     },
     "execution_count": 101,
     "metadata": {},
     "output_type": "execute_result"
    }
   ],
   "source": [
    "not_mk=set(model.sentences.index)-set(patent_listed_2['公开（公告）号'])\n",
    "len(not_mk)"
   ]
  },
  {
   "cell_type": "code",
   "execution_count": 105,
   "id": "54ba906b-4399-4d62-8ebb-cec8cc9ba94d",
   "metadata": {},
   "outputs": [
    {
     "data": {
      "text/plain": [
       "0"
      ]
     },
     "execution_count": 105,
     "metadata": {},
     "output_type": "execute_result"
    }
   ],
   "source": [
    "len(set(model.sentences.index)-set(patent_listed_1['公开（公告）号']))"
   ]
  },
  {
   "cell_type": "code",
   "execution_count": 108,
   "id": "6ddb5743-ae45-429f-b7c2-0113f396d361",
   "metadata": {},
   "outputs": [
    {
     "data": {
      "text/plain": [
       "55684"
      ]
     },
     "execution_count": 108,
     "metadata": {},
     "output_type": "execute_result"
    }
   ],
   "source": [
    "#patent_listed[patent_listed['公开（公告）号'].isin(not_mk)]\n",
    "patent_listed_11=patent_listed[patent_listed['公开（公告）号'].isin(not_mk)].copy()\n",
    "patent_listed_11['中文全称']=patent_listed_11['申请人'].str.split(';')\n",
    "len(patent_listed_11)"
   ]
  },
  {
   "cell_type": "code",
   "execution_count": 110,
   "id": "8a91ab08-2af5-47b4-8ff2-04a0f2d6dfbd",
   "metadata": {},
   "outputs": [
    {
     "data": {
      "text/plain": [
       "(52379, 7)"
      ]
     },
     "execution_count": 110,
     "metadata": {},
     "output_type": "execute_result"
    }
   ],
   "source": [
    "patent_listed_111=patent_listed_11[['申请人', '申请日', '申请号','公开（公告）号','中文全称']].explode('中文全称')\n",
    "patent_listed_111['中文全称']=patent_listed_111['中文全称'].str.strip()\n",
    "patent_listed_21=pd.merge(patent_listed_111.drop_duplicates(keep='first'),co_stk[['中文全称','股票代码','首次上市日期']].drop_duplicates(keep='first'),on='中文全称',how='left')\n",
    "patent_listed_21.dropna(subset='股票代码',inplace=True)\n",
    "patent_listed_21.shape"
   ]
  },
  {
   "cell_type": "code",
   "execution_count": 111,
   "id": "fa8367e9-0a4a-4d86-b076-224b117ef744",
   "metadata": {},
   "outputs": [
    {
     "data": {
      "text/plain": [
       "(0, 1992386)"
      ]
     },
     "execution_count": 111,
     "metadata": {},
     "output_type": "execute_result"
    }
   ],
   "source": [
    "patent_listed_id=pd.concat([patent_listed_2,patent_listed_21])\n",
    "len(set(model.sentences.index)-set(patent_listed_id['公开（公告）号'])),len(patent_listed_id)"
   ]
  },
  {
   "cell_type": "code",
   "execution_count": 113,
   "id": "1921adfb-8b70-42fa-9ee4-7703a1a2f74e",
   "metadata": {},
   "outputs": [
    {
     "data": {
      "text/plain": [
       "1968460"
      ]
     },
     "execution_count": 113,
     "metadata": {},
     "output_type": "execute_result"
    }
   ],
   "source": [
    "len(model.sentences)"
   ]
  },
  {
   "cell_type": "code",
   "execution_count": 156,
   "id": "e82a86c9-fc97-4d74-b040-e3f05a4beb47",
   "metadata": {},
   "outputs": [
    {
     "data": {
      "text/plain": [
       "(4954, 5835)"
      ]
     },
     "execution_count": 156,
     "metadata": {},
     "output_type": "execute_result"
    }
   ],
   "source": [
    "patent_listed_id.股票代码.nunique(),patent_listed_id.中文全称.nunique()"
   ]
  },
  {
   "cell_type": "code",
   "execution_count": 144,
   "id": "a8999de7-a4e4-4385-af61-02004d0fecbd",
   "metadata": {},
   "outputs": [
    {
     "data": {
      "text/plain": [
       "900956.0"
      ]
     },
     "execution_count": 144,
     "metadata": {},
     "output_type": "execute_result"
    }
   ],
   "source": [
    "patent_listed_id.股票代码.max()"
   ]
  },
  {
   "cell_type": "code",
   "execution_count": 145,
   "id": "d83763ec-737c-41cb-bb81-c6e1ec37cda8",
   "metadata": {},
   "outputs": [],
   "source": [
    "patent_listed_id.股票代码=patent_listed_id.股票代码.astype(int)"
   ]
  },
  {
   "cell_type": "code",
   "execution_count": 115,
   "id": "1b1086d3-6ca5-4e3e-8494-ce60b90e6736",
   "metadata": {},
   "outputs": [],
   "source": [
    "patent_listed_id.to_csv('data\\patent_co_stk_listed_1968_5k_202408.csv')"
   ]
  },
  {
   "cell_type": "code",
   "execution_count": 1,
   "id": "37815d91-3242-4da7-a1f7-e298bcc1f943",
   "metadata": {
    "editable": true,
    "slideshow": {
     "slide_type": ""
    },
    "tags": []
   },
   "outputs": [
    {
     "name": "stderr",
     "output_type": "stream",
     "text": [
      "Building prefix dict from the default dictionary ...\n",
      "Loading model from cache C:\\Users\\Prime\\AppData\\Local\\Temp\\jieba.cache\n",
      "Loading model cost 0.754 seconds.\n",
      "Prefix dict has been built successfully.\n"
     ]
    }
   ],
   "source": [
    "from w2v_lda import *\n",
    "Stopwords=set(read2list('data\\\\专利停用词表2024.txt'))\n",
    "jieba.initialize()\n",
    "jieba.load_userdict('data\\\\专利分词词库.txt') "
   ]
  },
  {
   "cell_type": "code",
   "execution_count": 187,
   "id": "07d12421-437d-40fc-baa1-2ab02cbef09f",
   "metadata": {},
   "outputs": [],
   "source": [
    "import w2v_lda\n",
    "import importlib\n",
    "importlib.reload(w2v_lda)\n",
    "from w2v_lda import *"
   ]
  },
  {
   "cell_type": "code",
   "execution_count": 181,
   "id": "1e0fbe94-73e0-4317-b790-b566fe60b139",
   "metadata": {},
   "outputs": [],
   "source": [
    "patent_co_stk_list['Co']=patent_co_stk_list['工商全称']"
   ]
  },
  {
   "cell_type": "code",
   "execution_count": 168,
   "id": "1bd87f76-b88a-43ac-8ac1-408f55ae9d93",
   "metadata": {},
   "outputs": [
    {
     "data": {
      "text/plain": [
       "1296"
      ]
     },
     "execution_count": 168,
     "metadata": {},
     "output_type": "execute_result"
    }
   ],
   "source": [
    "import gc \n",
    "gc.collect()"
   ]
  },
  {
   "cell_type": "code",
   "execution_count": 173,
   "id": "04dbba81-4154-4a38-a975-97e739916b35",
   "metadata": {},
   "outputs": [],
   "source": [
    "#list(locals().keys())\n",
    "for name in dir():\n",
    "    if name.startswith('_') and name[1:].isdigit():\n",
    "        del globals()[name]"
   ]
  },
  {
   "cell_type": "code",
   "execution_count": 174,
   "id": "eed8a936-b887-4eba-9789-bbc3428c93c9",
   "metadata": {},
   "outputs": [
    {
     "data": {
      "text/plain": [
       "['_',\n",
       " 'bridge',\n",
       " 'co_stk',\n",
       " 'co_data',\n",
       " 'co_stk_0',\n",
       " 'patent_filter',\n",
       " 'patent_co',\n",
       " 'st_time',\n",
       " 'patent_co_0',\n",
       " 'patent_c_not_1953',\n",
       " 'df_filter',\n",
       " 'df_f',\n",
       " 'patent_co_1',\n",
       " 'co_data_1',\n",
       " 'df_filter_1',\n",
       " 'patent_co_stk_list',\n",
       " 'trd_week_df',\n",
       " 'trd_0',\n",
       " 'patent_df',\n",
       " 'patent_df_1',\n",
       " 'patent_co_2',\n",
       " 'patent_co_3',\n",
       " 'patent_co_not_1953']"
      ]
     },
     "execution_count": 174,
     "metadata": {},
     "output_type": "execute_result"
    }
   ],
   "source": [
    "pandas_variables = [var_name for var_name, var_value in locals().items() if isinstance(var_value, (pd.DataFrame, pd.Series))]\n",
    "pandas_variables                "
   ]
  },
  {
   "cell_type": "code",
   "execution_count": 176,
   "id": "e93d51ae-b069-4643-ad03-c65dce9513ef",
   "metadata": {},
   "outputs": [],
   "source": [
    "for v in pandas_variables:\n",
    "    if v != 'patent_co_stk_list':\n",
    "        del globals()[v]"
   ]
  },
  {
   "cell_type": "code",
   "execution_count": 179,
   "id": "59b13778-cb8f-4641-8e42-29154339c591",
   "metadata": {},
   "outputs": [
    {
     "name": "stdout",
     "output_type": "stream",
     "text": [
      "patent_co_stk_list: 5095798.86 KB\n",
      "Stopwords: 512.21 KB\n",
      "_oh: 4.59 KB\n",
      "Out: 4.59 KB\n",
      "__: 2.02 KB\n",
      "_177: 2.02 KB\n",
      "_ih: 1.62 KB\n",
      "In: 1.62 KB\n",
      "_i66: 1.30 KB\n",
      "_i68: 1.27 KB\n"
     ]
    }
   ],
   "source": [
    "import sys\n",
    "\n",
    "variables = {name: sys.getsizeof(value) for name, value in globals().items()}\n",
    "large_variables = {name: size for name, size in sorted(variables.items(), key=lambda item: item[1], reverse=True)}\n",
    "for name, size in list(large_variables.items())[:10]:\n",
    "    print(f\"{name}: {size / 1024:.2f} KB\")"
   ]
  },
  {
   "cell_type": "code",
   "execution_count": 184,
   "id": "6134d7b0-ee7b-4dbb-bf50-46cf941362ec",
   "metadata": {
    "editable": true,
    "slideshow": {
     "slide_type": ""
    },
    "tags": []
   },
   "outputs": [
    {
     "data": {
      "text/plain": [
       "Index(['序号', '标题 (中文)', '摘要 (中文)', '申请人', '申请日', '申请号', '首次公开日', '专利类型',\n",
       "       '专利有效性', '公开国别', 'IPC主分类', 'IPC', '申请人类型', '发明人', '发明人数量', '简单同族',\n",
       "       '扩展同族', '简单同族个数', '引证专利', '引证科技文献', '引证次数', '被引证次数', '引证申请人', '被引证申请人',\n",
       "       '申请人数量', '许可次数', '转让次数', '权利要求数量', '当前法律状态', '公开类型', 'table_name',\n",
       "       '工商全称', 'Co'],\n",
       "      dtype='object')"
      ]
     },
     "execution_count": 184,
     "metadata": {},
     "output_type": "execute_result"
    }
   ],
   "source": [
    "patent_co_stk_list.columns#当前权利人"
   ]
  },
  {
   "cell_type": "code",
   "execution_count": 189,
   "id": "f5f56c9b-ef11-4002-b4be-a3b9a0e8645d",
   "metadata": {
    "editable": true,
    "slideshow": {
     "slide_type": ""
    },
    "tags": []
   },
   "outputs": [
    {
     "name": "stdout",
     "output_type": "stream",
     "text": [
      "CPU times: total: 1h 2min 35s\n",
      "Wall time: 1h 2min 46s\n"
     ]
    }
   ],
   "source": [
    "%%time\n",
    "model=W2vLda(sentences=None,patent_data=patent_co_stk_list,co_data=patent_co_stk_list['Co'],suffix='stk_list',stop_words=Stopwords,\n",
    "     vector_size=250,sg=1,window=5,count_fifter=5,min_count=3,no_below=3,num_topics=50,chunksize=3000,keep_n=800000,passes=3,no_above=0.99,\n",
    "     top_n_words=30, top_n_topics=4,minimum_probability=0.03,weight_threshold_topics=0.03)"
   ]
  },
  {
   "cell_type": "code",
   "execution_count": 192,
   "id": "7687cdfd-af7f-4df0-826c-242c2b589a54",
   "metadata": {
    "editable": true,
    "slideshow": {
     "slide_type": ""
    },
    "tags": []
   },
   "outputs": [
    {
     "name": "stdout",
     "output_type": "stream",
     "text": [
      "{'vector_size': 300, 'sg': 1, 'window': 5, 'len_below': 2, 'no_below': 3, 'min_count': 3, 'count_fifter': 5, 'num_topics': 75, 'top_n_words': 30, 'top_n_topics': 4, 'minimum_probability': 0.03, 'weight_threshold_topics': 0.03, 'chunksize': 3000, 'keep_n': 800000, 'passes': 3, 'no_above': 0.99}\n",
      "(286584, 221155, 221155)\n"
     ]
    },
    {
     "ename": "MemoryError",
     "evalue": "",
     "output_type": "error",
     "traceback": [
      "\u001b[1;31m---------------------------------------------------------------------------\u001b[0m",
      "\u001b[1;31mMemoryError\u001b[0m                               Traceback (most recent call last)",
      "File \u001b[1;32m<timed exec>:5\u001b[0m\n",
      "File \u001b[1;32mE:\\Documents\\Jupyter\\w2v_lda.py:203\u001b[0m, in \u001b[0;36mW2vLda.on_topics\u001b[1;34m(self, **kwargs)\u001b[0m\n\u001b[0;32m    201\u001b[0m \u001b[38;5;28;01mfor\u001b[39;00m doc_index, topic_weight \u001b[38;5;129;01min\u001b[39;00m \u001b[38;5;28menumerate\u001b[39m(\u001b[38;5;28mself\u001b[39m\u001b[38;5;241m.\u001b[39mdocument_topics):\n\u001b[0;32m    202\u001b[0m     \u001b[38;5;28;01mfor\u001b[39;00m topic, prob \u001b[38;5;129;01min\u001b[39;00m topic_weight:\n\u001b[1;32m--> 203\u001b[0m         \u001b[38;5;28;43mself\u001b[39;49m\u001b[38;5;241;43m.\u001b[39;49m\u001b[43mtopic_documents_dict\u001b[49m\u001b[38;5;241;43m.\u001b[39;49m\u001b[43msetdefault\u001b[49m\u001b[43m(\u001b[49m\u001b[43mtopic\u001b[49m\u001b[43m,\u001b[49m\u001b[43m \u001b[49m\u001b[43m[\u001b[49m\u001b[43m]\u001b[49m\u001b[43m)\u001b[49m\u001b[38;5;241;43m.\u001b[39;49m\u001b[43mappend\u001b[49m\u001b[43m(\u001b[49m\u001b[43mdoc_index\u001b[49m\u001b[43m)\u001b[49m  \u001b[38;5;66;03m# idx:0++\u001b[39;00m\n\u001b[0;32m    204\u001b[0m     \u001b[38;5;28;01mif\u001b[39;00m \u001b[38;5;28mlen\u001b[39m(topic_weight) \u001b[38;5;241m==\u001b[39m \u001b[38;5;241m0\u001b[39m:  \u001b[38;5;66;03m# get 不到主题：空摘要,'',nan,[],去除停用词后词太少\u001b[39;00m\n\u001b[0;32m    205\u001b[0m         documents_vec\u001b[38;5;241m.\u001b[39mappend(np\u001b[38;5;241m.\u001b[39mzeros(\u001b[38;5;28mself\u001b[39m\u001b[38;5;241m.\u001b[39margs[\u001b[38;5;124m'\u001b[39m\u001b[38;5;124mvector_size\u001b[39m\u001b[38;5;124m'\u001b[39m]))\n",
      "\u001b[1;31mMemoryError\u001b[0m: "
     ]
    }
   ],
   "source": [
    "%%time\n",
    "res=model.on_corpus(vector_size=300,num_topics=75)\n",
    "print(res)\n",
    "model.save()\n",
    "\n",
    "topics_vec,documents_vec=model.on_topics()\n",
    "np.save(f\"data\\\\topics_vec_{model.suffix}.npy\",np.array(topics_vec))\n",
    "\n",
    "df_topic=model.df_topics(topn=30)\n",
    "df_topic.to_excel(f'data\\\\patent_topic_words_{model.suffix}.xlsx')"
   ]
  },
  {
   "cell_type": "code",
   "execution_count": 209,
   "id": "cbf50f7f-cafc-4486-ba0d-701a617ab322",
   "metadata": {},
   "outputs": [
    {
     "data": {
      "text/plain": [
       "1693"
      ]
     },
     "execution_count": 209,
     "metadata": {},
     "output_type": "execute_result"
    }
   ],
   "source": [
    "gc.collect()#MemoryError"
   ]
  },
  {
   "cell_type": "code",
   "execution_count": 2,
   "id": "6b3073af-7ce9-4d22-8205-14dbe6e48f36",
   "metadata": {},
   "outputs": [],
   "source": [
    "Sentences_id=pd.read_parquet('data\\patent_cut_doc_stk_list.parquet')#.set_index('序号')\n",
    "Sentences_id['词语']=Sentences_id['词语'].dropna().apply(lambda x: x.tolist())"
   ]
  },
  {
   "cell_type": "code",
   "execution_count": 4,
   "id": "a4abbd65-27cd-4448-8fe8-5d0ad25e28d5",
   "metadata": {},
   "outputs": [
    {
     "data": {
      "text/plain": [
       "1983071"
      ]
     },
     "execution_count": 4,
     "metadata": {},
     "output_type": "execute_result"
    }
   ],
   "source": [
    "len(Sentences_id)"
   ]
  },
  {
   "cell_type": "code",
   "execution_count": 5,
   "id": "409a4c14-0052-44ba-affa-822dcd2f16d8",
   "metadata": {},
   "outputs": [
    {
     "data": {
      "text/plain": [
       "5857"
      ]
     },
     "execution_count": 5,
     "metadata": {},
     "output_type": "execute_result"
    }
   ],
   "source": [
    "Co_ids=pd.read_parquet(f'data\\patent_co_ids_stk_list.parquet')\n",
    "Co_ids['index_list']=Co_ids['index_list'].dropna().apply(lambda x: x.tolist())\n",
    "len(Co_ids)"
   ]
  },
  {
   "cell_type": "code",
   "execution_count": 8,
   "id": "86a8f16b-a2c8-4eb9-9091-3d6449d3fae2",
   "metadata": {},
   "outputs": [
    {
     "name": "stdout",
     "output_type": "stream",
     "text": [
      "CPU times: total: 703 ms\n",
      "Wall time: 696 ms\n"
     ]
    }
   ],
   "source": [
    "%%time\n",
    "model=W2vLda(sentences=Sentences_id['词语'],patent_data=None,co_data=None,suffix='stk_list',stop_words=Stopwords,\n",
    "     vector_size=300,sg=1,window=5,count_fifter=5,min_count=3,no_below=3,num_topics=75,chunksize=3000,keep_n=800000,passes=3,no_above=0.99,\n",
    "     top_n_words=30, top_n_topics=4,minimum_probability=0.03,weight_threshold_topics=0.03)"
   ]
  },
  {
   "cell_type": "code",
   "execution_count": 10,
   "id": "37c3af32-9865-4c69-b168-e7aec7954421",
   "metadata": {},
   "outputs": [],
   "source": [
    "model.group_ids=Co_ids\n",
    "model.load()"
   ]
  },
  {
   "cell_type": "code",
   "execution_count": 21,
   "id": "d651f3db-6bbd-4ddc-8b26-ae2dea894ce5",
   "metadata": {},
   "outputs": [
    {
     "name": "stdout",
     "output_type": "stream",
     "text": [
      "{'vector_size': 300, 'sg': 1, 'window': 5, 'len_below': 2, 'no_below': 3, 'min_count': 3, 'count_fifter': 5, 'num_topics': 75, 'top_n_words': 30, 'top_n_topics': 4, 'minimum_probability': 0.03, 'weight_threshold_topics': 0.03, 'chunksize': 3000, 'keep_n': 800000, 'passes': 3, 'no_above': 0.99}\n"
     ]
    },
    {
     "data": {
      "text/plain": [
       "(286584, 221155, 221155)"
      ]
     },
     "execution_count": 21,
     "metadata": {},
     "output_type": "execute_result"
    }
   ],
   "source": [
    "model.on_corpus()"
   ]
  },
  {
   "cell_type": "code",
   "execution_count": 22,
   "id": "f113d98b-fc1d-4d4b-aebc-d2d4f72e3d68",
   "metadata": {},
   "outputs": [
    {
     "name": "stdout",
     "output_type": "stream",
     "text": [
      "CPU times: total: 28min 21s\n",
      "Wall time: 28min 22s\n"
     ]
    }
   ],
   "source": [
    "%%time\n",
    "topics_vec,documents_vec=model.on_topics()\n",
    "np.save(f\"data\\\\topics_vec_{model.suffix}.npy\",np.array(topics_vec))"
   ]
  },
  {
   "cell_type": "code",
   "execution_count": 25,
   "id": "463a2563-b283-45f4-b317-7f2b03627b56",
   "metadata": {},
   "outputs": [
    {
     "data": {
      "text/plain": [
       "(1968460, 1968460)"
      ]
     },
     "execution_count": 25,
     "metadata": {},
     "output_type": "execute_result"
    }
   ],
   "source": [
    "len(documents_vec),len(model.sentences)"
   ]
  },
  {
   "cell_type": "code",
   "execution_count": 28,
   "id": "c2673873-6d88-44e1-9603-86f24590c56f",
   "metadata": {},
   "outputs": [
    {
     "data": {
      "text/plain": [
       "(numpy.ndarray, 0)"
      ]
     },
     "execution_count": 28,
     "metadata": {},
     "output_type": "execute_result"
    }
   ],
   "source": [
    "type(documents_vec),(model.sentences.apply(len) < model.args.get('count_fifter', 0)).sum()"
   ]
  },
  {
   "cell_type": "code",
   "execution_count": 206,
   "id": "3fb7f8ee-c987-4678-b355-ca36c78475e9",
   "metadata": {},
   "outputs": [
    {
     "name": "stdout",
     "output_type": "stream",
     "text": [
      "Unexpected exception formatting exception. Falling back to standard exception\n"
     ]
    },
    {
     "name": "stderr",
     "output_type": "stream",
     "text": [
      "Traceback (most recent call last):\n",
      "  File \"C:\\Program Files\\Python\\Python39\\lib\\site-packages\\IPython\\core\\interactiveshell.py\", line 3508, in run_code\n",
      "    exec(code_obj, self.user_global_ns, self.user_ns)\n",
      "  File \"C:\\Users\\Prime\\AppData\\Local\\Temp\\ipykernel_51120\\4016001469.py\", line 16, in <module>\n",
      "    v_doc = (w_distribute * v_topics).sum(axis=0)  # 专利文档中前个技术主题向量分别乘以其权重后加和\n",
      "  File \"C:\\Users\\Prime\\AppData\\Roaming\\Python\\Python39\\site-packages\\numpy\\core\\_methods.py\", line 49, in _sum\n",
      "    return umr_sum(a, axis, dtype, out, keepdims, initial, where)\n",
      "numpy.core._exceptions._ArrayMemoryError: Unable to allocate 2.34 KiB for an array with shape (300,) and data type float64\n",
      "\n",
      "During handling of the above exception, another exception occurred:\n",
      "\n",
      "Traceback (most recent call last):\n",
      "  File \"C:\\Program Files\\Python\\Python39\\lib\\site-packages\\IPython\\core\\interactiveshell.py\", line 2105, in showtraceback\n",
      "    stb = self.InteractiveTB.structured_traceback(\n",
      "  File \"C:\\Program Files\\Python\\Python39\\lib\\site-packages\\IPython\\core\\ultratb.py\", line 1428, in structured_traceback\n",
      "  File \"C:\\Program Files\\Python\\Python39\\lib\\site-packages\\IPython\\core\\ultratb.py\", line 1319, in structured_traceback\n",
      "  File \"C:\\Program Files\\Python\\Python39\\lib\\site-packages\\IPython\\core\\ultratb.py\", line 1172, in structured_traceback\n",
      "  File \"C:\\Program Files\\Python\\Python39\\lib\\site-packages\\IPython\\core\\ultratb.py\", line 1062, in format_exception_as_a_whole\n",
      "  File \"C:\\Program Files\\Python\\Python39\\lib\\site-packages\\IPython\\core\\ultratb.py\", line 1159, in get_records\n",
      "  File \"C:\\Program Files\\Python\\Python39\\lib\\site-packages\\stack_data\\core.py\", line 597, in stack_data\n",
      "  File \"C:\\Program Files\\Python\\Python39\\lib\\site-packages\\stack_data\\utils.py\", line 83, in collapse_repeated\n",
      "    yield from map(mapper, original_group)\n",
      "  File \"C:\\Program Files\\Python\\Python39\\lib\\site-packages\\stack_data\\core.py\", line 587, in mapper\n",
      "  File \"C:\\Program Files\\Python\\Python39\\lib\\site-packages\\stack_data\\core.py\", line 551, in __init__\n",
      "  File \"C:\\Program Files\\Python\\Python39\\lib\\site-packages\\executing\\executing.py\", line 359, in executing\n",
      "  File \"C:\\Program Files\\Python\\Python39\\lib\\site-packages\\executing\\executing.py\", line 277, in for_frame\n",
      "  File \"C:\\Program Files\\Python\\Python39\\lib\\site-packages\\executing\\executing.py\", line 306, in for_filename\n",
      "  File \"C:\\Program Files\\Python\\Python39\\lib\\site-packages\\executing\\executing.py\", line 317, in _for_filename_and_lines\n",
      "  File \"C:\\Program Files\\Python\\Python39\\lib\\site-packages\\executing\\executing.py\", line 257, in __init__\n",
      "  File \"C:\\Program Files\\Python\\Python39\\lib\\ast.py\", line 50, in parse\n",
      "SystemError: <built-in function compile> returned NULL without setting an error\n"
     ]
    }
   ],
   "source": [
    "documents_vec = [] \n",
    "for doc_index, topic_weight in enumerate(model.document_topics):\n",
    "    if doc_index<len(documents_vec):\n",
    "        continue\n",
    "    # for topic, prob in topic_weight:\n",
    "    #     model.topic_documents_dict[topic].append(doc_index)  # .setdefault(topic, []) idx:0++\n",
    "    if len(topic_weight) == 0:  # get 不到主题：空摘要,'',nan,[],去除停用词后词太少\n",
    "        documents_vec.append(np.zeros(model.args['vector_size']))\n",
    "        continue\n",
    "\n",
    "    topic_n = sorted(topic_weight, key=lambda x: x[1], reverse=True)[:model.args.get('top_n_topics', None)]\n",
    "    distribute = np.array(topic_n)[:, 1]\n",
    "    #mask = distribute >= weight_threshold_topics if weight_threshold_topics > minimum_probability else slice(None)\n",
    "\n",
    "    v_topics = np.array([topics_vec[t[0]] for t in topic_n]) # 主题向量\n",
    "    w_distribute = (distribute / np.sum(distribute)).reshape(-1, 1)  # 将归一化结果作为每个技术主题的权重\n",
    "    v_doc = (w_distribute * v_topics).sum(axis=0)  # 专利文档中前个技术主题向量分别乘以其权重后加和\n",
    "    documents_vec.append(v_doc)"
   ]
  },
  {
   "cell_type": "code",
   "execution_count": 200,
   "id": "fd239593-7fa8-4f0d-b42c-f3118f392fd9",
   "metadata": {},
   "outputs": [
    {
     "data": {
      "text/plain": [
       "75"
      ]
     },
     "execution_count": 200,
     "metadata": {},
     "output_type": "execute_result"
    }
   ],
   "source": [
    "len(model.topic_documents_dict)"
   ]
  },
  {
   "cell_type": "code",
   "execution_count": 203,
   "id": "083dd7fb-53c2-4a24-9481-71d5c72a66f7",
   "metadata": {},
   "outputs": [
    {
     "data": {
      "text/plain": [
       "(1563594, 1968460)"
      ]
     },
     "execution_count": 203,
     "metadata": {},
     "output_type": "execute_result"
    }
   ],
   "source": [
    "len(documents_vec),len(model.document_topics)"
   ]
  },
  {
   "cell_type": "code",
   "execution_count": 208,
   "id": "a83f6ec5-a56c-438f-a24f-284dae1de957",
   "metadata": {},
   "outputs": [
    {
     "data": {
      "text/plain": [
       "1815681"
      ]
     },
     "execution_count": 208,
     "metadata": {},
     "output_type": "execute_result"
    }
   ],
   "source": [
    "len(documents_vec)"
   ]
  },
  {
   "cell_type": "code",
   "execution_count": 31,
   "id": "c976638e-16a1-44c5-8328-b83099df95c9",
   "metadata": {},
   "outputs": [
    {
     "data": {
      "text/plain": [
       "(1968360, 300)"
      ]
     },
     "execution_count": 31,
     "metadata": {},
     "output_type": "execute_result"
    }
   ],
   "source": [
    "#documents_vec[model.sentences.apply(len) >= model.args.get('count_fifter', 0)]\n",
    "doc_lda_w2v =model.docs_vec(documents_vec,patent_data=None)\n",
    "doc_lda_w2v.shape"
   ]
  },
  {
   "cell_type": "code",
   "execution_count": 133,
   "id": "ae89aa6a-37a6-40ec-97b6-78bb4e6c6a93",
   "metadata": {},
   "outputs": [],
   "source": [
    "from pathlib import Path\n",
    "\n",
    "file_paths= Path('.').glob(r'data\\TRD_Week*.xlsx')\n",
    "#list(file_paths)"
   ]
  },
  {
   "cell_type": "code",
   "execution_count": 131,
   "id": "840378be-a877-4f95-b4e1-47513fb829c7",
   "metadata": {},
   "outputs": [
    {
     "name": "stdout",
     "output_type": "stream",
     "text": [
      "CPU times: total: 0 ns\n",
      "Wall time: 0 ns\n"
     ]
    }
   ],
   "source": [
    "%%time\n",
    "df_list = [pd.read_excel(file,skiprows=[0,2]) for file in file_paths]\n",
    "trd_week_df = pd.concat(df_list, ignore_index=True)"
   ]
  },
  {
   "cell_type": "code",
   "execution_count": 134,
   "id": "60e47b7e-0e96-47a4-bafe-21cc7a68e4b6",
   "metadata": {},
   "outputs": [
    {
     "name": "stderr",
     "output_type": "stream",
     "text": [
      "C:\\Users\\Prime\\AppData\\Roaming\\Python\\Python39\\site-packages\\openpyxl\\styles\\stylesheet.py:226: UserWarning: Workbook contains no default style, apply openpyxl's default\n",
      "  warn(\"Workbook contains no default style, apply openpyxl's default\")\n"
     ]
    },
    {
     "data": {
      "text/html": [
       "<div>\n",
       "<style scoped>\n",
       "    .dataframe tbody tr th:only-of-type {\n",
       "        vertical-align: middle;\n",
       "    }\n",
       "\n",
       "    .dataframe tbody tr th {\n",
       "        vertical-align: top;\n",
       "    }\n",
       "\n",
       "    .dataframe thead th {\n",
       "        text-align: right;\n",
       "    }\n",
       "</style>\n",
       "<table border=\"1\" class=\"dataframe\">\n",
       "  <thead>\n",
       "    <tr style=\"text-align: right;\">\n",
       "      <th></th>\n",
       "      <th>证券代码</th>\n",
       "      <th>交易周份</th>\n",
       "      <th>周开盘日期</th>\n",
       "      <th>周开盘价</th>\n",
       "      <th>周收盘日期</th>\n",
       "      <th>周收盘价</th>\n",
       "      <th>周个股交易股数</th>\n",
       "      <th>周个股交易金额</th>\n",
       "      <th>周个股流通市值</th>\n",
       "      <th>周个股总市值</th>\n",
       "      <th>周交易天数</th>\n",
       "      <th>考虑现金红利再投资的周个股回报率</th>\n",
       "      <th>不考虑现金红利再投资的周个股回报率</th>\n",
       "      <th>市场类型</th>\n",
       "      <th>最新股本变动日期</th>\n",
       "      <th>周盘后成交总量</th>\n",
       "      <th>周盘后成交总额</th>\n",
       "    </tr>\n",
       "  </thead>\n",
       "  <tbody>\n",
       "    <tr>\n",
       "      <th>0</th>\n",
       "      <td>1</td>\n",
       "      <td>1991-14</td>\n",
       "      <td>1991-04-03</td>\n",
       "      <td>49.00</td>\n",
       "      <td>1991-04-06</td>\n",
       "      <td>48.28</td>\n",
       "      <td>1300</td>\n",
       "      <td>6.400000e+04</td>\n",
       "      <td>1279420.00</td>\n",
       "      <td>2341588.26</td>\n",
       "      <td>4</td>\n",
       "      <td>NaN</td>\n",
       "      <td>NaN</td>\n",
       "      <td>4</td>\n",
       "      <td>1991-04-03</td>\n",
       "      <td>NaN</td>\n",
       "      <td>NaN</td>\n",
       "    </tr>\n",
       "    <tr>\n",
       "      <th>1</th>\n",
       "      <td>1</td>\n",
       "      <td>1991-15</td>\n",
       "      <td>1991-04-08</td>\n",
       "      <td>48.04</td>\n",
       "      <td>1991-04-13</td>\n",
       "      <td>46.84</td>\n",
       "      <td>3400</td>\n",
       "      <td>1.610000e+05</td>\n",
       "      <td>1241260.00</td>\n",
       "      <td>2271748.01</td>\n",
       "      <td>5</td>\n",
       "      <td>-0.029826</td>\n",
       "      <td>-0.029826</td>\n",
       "      <td>4</td>\n",
       "      <td>1991-04-03</td>\n",
       "      <td>NaN</td>\n",
       "      <td>NaN</td>\n",
       "    </tr>\n",
       "    <tr>\n",
       "      <th>2</th>\n",
       "      <td>1</td>\n",
       "      <td>1991-16</td>\n",
       "      <td>1991-04-16</td>\n",
       "      <td>46.38</td>\n",
       "      <td>1991-04-20</td>\n",
       "      <td>45.46</td>\n",
       "      <td>1400</td>\n",
       "      <td>6.400000e+04</td>\n",
       "      <td>1204690.00</td>\n",
       "      <td>2204817.77</td>\n",
       "      <td>5</td>\n",
       "      <td>-0.029462</td>\n",
       "      <td>-0.029462</td>\n",
       "      <td>4</td>\n",
       "      <td>1991-04-03</td>\n",
       "      <td>NaN</td>\n",
       "      <td>NaN</td>\n",
       "    </tr>\n",
       "    <tr>\n",
       "      <th>3</th>\n",
       "      <td>1</td>\n",
       "      <td>1991-17</td>\n",
       "      <td>1991-04-23</td>\n",
       "      <td>45.00</td>\n",
       "      <td>1991-04-26</td>\n",
       "      <td>44.34</td>\n",
       "      <td>6700</td>\n",
       "      <td>3.000000e+05</td>\n",
       "      <td>1175010.00</td>\n",
       "      <td>2150497.58</td>\n",
       "      <td>4</td>\n",
       "      <td>-0.024637</td>\n",
       "      <td>-0.024637</td>\n",
       "      <td>4</td>\n",
       "      <td>1991-04-03</td>\n",
       "      <td>NaN</td>\n",
       "      <td>NaN</td>\n",
       "    </tr>\n",
       "    <tr>\n",
       "      <th>4</th>\n",
       "      <td>1</td>\n",
       "      <td>1991-18</td>\n",
       "      <td>1991-04-29</td>\n",
       "      <td>43.90</td>\n",
       "      <td>1991-05-04</td>\n",
       "      <td>43.02</td>\n",
       "      <td>1300</td>\n",
       "      <td>5.700000e+04</td>\n",
       "      <td>1140030.00</td>\n",
       "      <td>2086477.36</td>\n",
       "      <td>5</td>\n",
       "      <td>-0.029770</td>\n",
       "      <td>0.365088</td>\n",
       "      <td>4</td>\n",
       "      <td>1991-04-03</td>\n",
       "      <td>NaN</td>\n",
       "      <td>NaN</td>\n",
       "    </tr>\n",
       "    <tr>\n",
       "      <th>...</th>\n",
       "      <td>...</td>\n",
       "      <td>...</td>\n",
       "      <td>...</td>\n",
       "      <td>...</td>\n",
       "      <td>...</td>\n",
       "      <td>...</td>\n",
       "      <td>...</td>\n",
       "      <td>...</td>\n",
       "      <td>...</td>\n",
       "      <td>...</td>\n",
       "      <td>...</td>\n",
       "      <td>...</td>\n",
       "      <td>...</td>\n",
       "      <td>...</td>\n",
       "      <td>...</td>\n",
       "      <td>...</td>\n",
       "      <td>...</td>\n",
       "    </tr>\n",
       "    <tr>\n",
       "      <th>999995</th>\n",
       "      <td>2438</td>\n",
       "      <td>2016-20</td>\n",
       "      <td>2016-05-09</td>\n",
       "      <td>17.70</td>\n",
       "      <td>2016-05-13</td>\n",
       "      <td>17.28</td>\n",
       "      <td>12718192</td>\n",
       "      <td>2.181860e+08</td>\n",
       "      <td>2334115.42</td>\n",
       "      <td>3794196.21</td>\n",
       "      <td>5</td>\n",
       "      <td>-0.035176</td>\n",
       "      <td>-0.035176</td>\n",
       "      <td>4</td>\n",
       "      <td>2016-01-28</td>\n",
       "      <td>NaN</td>\n",
       "      <td>NaN</td>\n",
       "    </tr>\n",
       "    <tr>\n",
       "      <th>999996</th>\n",
       "      <td>2438</td>\n",
       "      <td>2016-21</td>\n",
       "      <td>2016-05-16</td>\n",
       "      <td>17.30</td>\n",
       "      <td>2016-05-20</td>\n",
       "      <td>17.07</td>\n",
       "      <td>11862469</td>\n",
       "      <td>2.037221e+08</td>\n",
       "      <td>2305749.44</td>\n",
       "      <td>3748086.19</td>\n",
       "      <td>5</td>\n",
       "      <td>-0.012153</td>\n",
       "      <td>-0.012153</td>\n",
       "      <td>4</td>\n",
       "      <td>2016-01-28</td>\n",
       "      <td>NaN</td>\n",
       "      <td>NaN</td>\n",
       "    </tr>\n",
       "    <tr>\n",
       "      <th>999997</th>\n",
       "      <td>2438</td>\n",
       "      <td>2016-22</td>\n",
       "      <td>2016-05-23</td>\n",
       "      <td>17.09</td>\n",
       "      <td>2016-05-27</td>\n",
       "      <td>18.12</td>\n",
       "      <td>21228063</td>\n",
       "      <td>3.781028e+08</td>\n",
       "      <td>2447579.37</td>\n",
       "      <td>3978636.30</td>\n",
       "      <td>5</td>\n",
       "      <td>0.061511</td>\n",
       "      <td>0.061511</td>\n",
       "      <td>4</td>\n",
       "      <td>2016-01-28</td>\n",
       "      <td>NaN</td>\n",
       "      <td>NaN</td>\n",
       "    </tr>\n",
       "    <tr>\n",
       "      <th>999998</th>\n",
       "      <td>2438</td>\n",
       "      <td>2016-23</td>\n",
       "      <td>2016-05-30</td>\n",
       "      <td>18.05</td>\n",
       "      <td>2016-06-03</td>\n",
       "      <td>18.69</td>\n",
       "      <td>22730311</td>\n",
       "      <td>4.195440e+08</td>\n",
       "      <td>2524572.76</td>\n",
       "      <td>4103792.08</td>\n",
       "      <td>5</td>\n",
       "      <td>0.031457</td>\n",
       "      <td>0.031457</td>\n",
       "      <td>4</td>\n",
       "      <td>2016-01-28</td>\n",
       "      <td>NaN</td>\n",
       "      <td>NaN</td>\n",
       "    </tr>\n",
       "    <tr>\n",
       "      <th>999999</th>\n",
       "      <td>2438</td>\n",
       "      <td>2016-24</td>\n",
       "      <td>2016-06-06</td>\n",
       "      <td>18.68</td>\n",
       "      <td>2016-06-08</td>\n",
       "      <td>19.18</td>\n",
       "      <td>20443093</td>\n",
       "      <td>3.818693e+08</td>\n",
       "      <td>2590760.06</td>\n",
       "      <td>4211382.14</td>\n",
       "      <td>3</td>\n",
       "      <td>0.026217</td>\n",
       "      <td>0.026217</td>\n",
       "      <td>4</td>\n",
       "      <td>2016-01-28</td>\n",
       "      <td>NaN</td>\n",
       "      <td>NaN</td>\n",
       "    </tr>\n",
       "  </tbody>\n",
       "</table>\n",
       "<p>1000000 rows × 17 columns</p>\n",
       "</div>"
      ],
      "text/plain": [
       "        证券代码     交易周份       周开盘日期   周开盘价       周收盘日期   周收盘价   周个股交易股数  \\\n",
       "0          1  1991-14  1991-04-03  49.00  1991-04-06  48.28      1300   \n",
       "1          1  1991-15  1991-04-08  48.04  1991-04-13  46.84      3400   \n",
       "2          1  1991-16  1991-04-16  46.38  1991-04-20  45.46      1400   \n",
       "3          1  1991-17  1991-04-23  45.00  1991-04-26  44.34      6700   \n",
       "4          1  1991-18  1991-04-29  43.90  1991-05-04  43.02      1300   \n",
       "...      ...      ...         ...    ...         ...    ...       ...   \n",
       "999995  2438  2016-20  2016-05-09  17.70  2016-05-13  17.28  12718192   \n",
       "999996  2438  2016-21  2016-05-16  17.30  2016-05-20  17.07  11862469   \n",
       "999997  2438  2016-22  2016-05-23  17.09  2016-05-27  18.12  21228063   \n",
       "999998  2438  2016-23  2016-05-30  18.05  2016-06-03  18.69  22730311   \n",
       "999999  2438  2016-24  2016-06-06  18.68  2016-06-08  19.18  20443093   \n",
       "\n",
       "             周个股交易金额     周个股流通市值      周个股总市值  周交易天数  考虑现金红利再投资的周个股回报率  \\\n",
       "0       6.400000e+04  1279420.00  2341588.26      4               NaN   \n",
       "1       1.610000e+05  1241260.00  2271748.01      5         -0.029826   \n",
       "2       6.400000e+04  1204690.00  2204817.77      5         -0.029462   \n",
       "3       3.000000e+05  1175010.00  2150497.58      4         -0.024637   \n",
       "4       5.700000e+04  1140030.00  2086477.36      5         -0.029770   \n",
       "...              ...         ...         ...    ...               ...   \n",
       "999995  2.181860e+08  2334115.42  3794196.21      5         -0.035176   \n",
       "999996  2.037221e+08  2305749.44  3748086.19      5         -0.012153   \n",
       "999997  3.781028e+08  2447579.37  3978636.30      5          0.061511   \n",
       "999998  4.195440e+08  2524572.76  4103792.08      5          0.031457   \n",
       "999999  3.818693e+08  2590760.06  4211382.14      3          0.026217   \n",
       "\n",
       "        不考虑现金红利再投资的周个股回报率  市场类型    最新股本变动日期  周盘后成交总量  周盘后成交总额  \n",
       "0                     NaN     4  1991-04-03      NaN      NaN  \n",
       "1               -0.029826     4  1991-04-03      NaN      NaN  \n",
       "2               -0.029462     4  1991-04-03      NaN      NaN  \n",
       "3               -0.024637     4  1991-04-03      NaN      NaN  \n",
       "4                0.365088     4  1991-04-03      NaN      NaN  \n",
       "...                   ...   ...         ...      ...      ...  \n",
       "999995          -0.035176     4  2016-01-28      NaN      NaN  \n",
       "999996          -0.012153     4  2016-01-28      NaN      NaN  \n",
       "999997           0.061511     4  2016-01-28      NaN      NaN  \n",
       "999998           0.031457     4  2016-01-28      NaN      NaN  \n",
       "999999           0.026217     4  2016-01-28      NaN      NaN  \n",
       "\n",
       "[1000000 rows x 17 columns]"
      ]
     },
     "execution_count": 134,
     "metadata": {},
     "output_type": "execute_result"
    }
   ],
   "source": [
    "trd_0=pd.read_excel('data\\TRD_Week.xlsx',skiprows=[0,2])\n",
    "trd_0"
   ]
  },
  {
   "cell_type": "code",
   "execution_count": 135,
   "id": "e63bdc3f-5780-4d36-91e7-ab4ee75a4f24",
   "metadata": {},
   "outputs": [
    {
     "data": {
      "text/plain": [
       "(3412411, 17)"
      ]
     },
     "execution_count": 135,
     "metadata": {},
     "output_type": "execute_result"
    }
   ],
   "source": [
    "trd_week_df = pd.concat([trd_0,trd_week_df], ignore_index=True)\n",
    "trd_week_df.shape"
   ]
  },
  {
   "cell_type": "code",
   "execution_count": 136,
   "id": "d1862134-a236-44fa-9cf0-eb3ec3b3dd7f",
   "metadata": {},
   "outputs": [
    {
     "name": "stdout",
     "output_type": "stream",
     "text": [
      "<class 'pandas.core.frame.DataFrame'>\n",
      "RangeIndex: 3412411 entries, 0 to 3412410\n",
      "Data columns (total 17 columns):\n",
      " #   Column             Dtype  \n",
      "---  ------             -----  \n",
      " 0   证券代码               int64  \n",
      " 1   交易周份               object \n",
      " 2   周开盘日期              object \n",
      " 3   周开盘价               float64\n",
      " 4   周收盘日期              object \n",
      " 5   周收盘价               float64\n",
      " 6   周个股交易股数            int64  \n",
      " 7   周个股交易金额            float64\n",
      " 8   周个股流通市值            float64\n",
      " 9   周个股总市值             float64\n",
      " 10  周交易天数              int64  \n",
      " 11  考虑现金红利再投资的周个股回报率   float64\n",
      " 12  不考虑现金红利再投资的周个股回报率  float64\n",
      " 13  市场类型               int64  \n",
      " 14  最新股本变动日期           object \n",
      " 15  周盘后成交总量            float64\n",
      " 16  周盘后成交总额            float64\n",
      "dtypes: float64(9), int64(4), object(4)\n",
      "memory usage: 442.6+ MB\n"
     ]
    }
   ],
   "source": [
    "trd_week_df.info()"
   ]
  },
  {
   "cell_type": "code",
   "execution_count": 138,
   "id": "2d76c703-5452-49c3-b60c-e6adebc4757f",
   "metadata": {},
   "outputs": [
    {
     "data": {
      "text/html": [
       "<div>\n",
       "<style scoped>\n",
       "    .dataframe tbody tr th:only-of-type {\n",
       "        vertical-align: middle;\n",
       "    }\n",
       "\n",
       "    .dataframe tbody tr th {\n",
       "        vertical-align: top;\n",
       "    }\n",
       "\n",
       "    .dataframe thead th {\n",
       "        text-align: right;\n",
       "    }\n",
       "</style>\n",
       "<table border=\"1\" class=\"dataframe\">\n",
       "  <thead>\n",
       "    <tr style=\"text-align: right;\">\n",
       "      <th></th>\n",
       "      <th>证券代码</th>\n",
       "      <th>交易周份</th>\n",
       "      <th>周开盘日期</th>\n",
       "      <th>周开盘价</th>\n",
       "      <th>周收盘日期</th>\n",
       "      <th>周收盘价</th>\n",
       "      <th>周个股交易股数</th>\n",
       "      <th>周个股交易金额</th>\n",
       "      <th>周个股流通市值</th>\n",
       "      <th>周个股总市值</th>\n",
       "      <th>周交易天数</th>\n",
       "      <th>考虑现金红利再投资的周个股回报率</th>\n",
       "      <th>不考虑现金红利再投资的周个股回报率</th>\n",
       "      <th>市场类型</th>\n",
       "      <th>最新股本变动日期</th>\n",
       "      <th>周盘后成交总量</th>\n",
       "      <th>周盘后成交总额</th>\n",
       "    </tr>\n",
       "  </thead>\n",
       "  <tbody>\n",
       "    <tr>\n",
       "      <th>0</th>\n",
       "      <td>1</td>\n",
       "      <td>1991-14</td>\n",
       "      <td>1991-04-03</td>\n",
       "      <td>49.00</td>\n",
       "      <td>1991-04-06</td>\n",
       "      <td>48.28</td>\n",
       "      <td>1300</td>\n",
       "      <td>6.400000e+04</td>\n",
       "      <td>1279420.0</td>\n",
       "      <td>2341588.26</td>\n",
       "      <td>4</td>\n",
       "      <td>NaN</td>\n",
       "      <td>NaN</td>\n",
       "      <td>4</td>\n",
       "      <td>1991-04-03</td>\n",
       "      <td>NaN</td>\n",
       "      <td>NaN</td>\n",
       "    </tr>\n",
       "    <tr>\n",
       "      <th>1</th>\n",
       "      <td>1</td>\n",
       "      <td>1991-15</td>\n",
       "      <td>1991-04-08</td>\n",
       "      <td>48.04</td>\n",
       "      <td>1991-04-13</td>\n",
       "      <td>46.84</td>\n",
       "      <td>3400</td>\n",
       "      <td>1.610000e+05</td>\n",
       "      <td>1241260.0</td>\n",
       "      <td>2271748.01</td>\n",
       "      <td>5</td>\n",
       "      <td>-0.029826</td>\n",
       "      <td>-0.029826</td>\n",
       "      <td>4</td>\n",
       "      <td>1991-04-03</td>\n",
       "      <td>NaN</td>\n",
       "      <td>NaN</td>\n",
       "    </tr>\n",
       "    <tr>\n",
       "      <th>2</th>\n",
       "      <td>1</td>\n",
       "      <td>1991-16</td>\n",
       "      <td>1991-04-16</td>\n",
       "      <td>46.38</td>\n",
       "      <td>1991-04-20</td>\n",
       "      <td>45.46</td>\n",
       "      <td>1400</td>\n",
       "      <td>6.400000e+04</td>\n",
       "      <td>1204690.0</td>\n",
       "      <td>2204817.77</td>\n",
       "      <td>5</td>\n",
       "      <td>-0.029462</td>\n",
       "      <td>-0.029462</td>\n",
       "      <td>4</td>\n",
       "      <td>1991-04-03</td>\n",
       "      <td>NaN</td>\n",
       "      <td>NaN</td>\n",
       "    </tr>\n",
       "    <tr>\n",
       "      <th>3</th>\n",
       "      <td>1</td>\n",
       "      <td>1991-17</td>\n",
       "      <td>1991-04-23</td>\n",
       "      <td>45.00</td>\n",
       "      <td>1991-04-26</td>\n",
       "      <td>44.34</td>\n",
       "      <td>6700</td>\n",
       "      <td>3.000000e+05</td>\n",
       "      <td>1175010.0</td>\n",
       "      <td>2150497.58</td>\n",
       "      <td>4</td>\n",
       "      <td>-0.024637</td>\n",
       "      <td>-0.024637</td>\n",
       "      <td>4</td>\n",
       "      <td>1991-04-03</td>\n",
       "      <td>NaN</td>\n",
       "      <td>NaN</td>\n",
       "    </tr>\n",
       "    <tr>\n",
       "      <th>4</th>\n",
       "      <td>1</td>\n",
       "      <td>1991-18</td>\n",
       "      <td>1991-04-29</td>\n",
       "      <td>43.90</td>\n",
       "      <td>1991-05-04</td>\n",
       "      <td>43.02</td>\n",
       "      <td>1300</td>\n",
       "      <td>5.700000e+04</td>\n",
       "      <td>1140030.0</td>\n",
       "      <td>2086477.36</td>\n",
       "      <td>5</td>\n",
       "      <td>-0.029770</td>\n",
       "      <td>0.365088</td>\n",
       "      <td>4</td>\n",
       "      <td>1991-04-03</td>\n",
       "      <td>NaN</td>\n",
       "      <td>NaN</td>\n",
       "    </tr>\n",
       "    <tr>\n",
       "      <th>...</th>\n",
       "      <td>...</td>\n",
       "      <td>...</td>\n",
       "      <td>...</td>\n",
       "      <td>...</td>\n",
       "      <td>...</td>\n",
       "      <td>...</td>\n",
       "      <td>...</td>\n",
       "      <td>...</td>\n",
       "      <td>...</td>\n",
       "      <td>...</td>\n",
       "      <td>...</td>\n",
       "      <td>...</td>\n",
       "      <td>...</td>\n",
       "      <td>...</td>\n",
       "      <td>...</td>\n",
       "      <td>...</td>\n",
       "      <td>...</td>\n",
       "    </tr>\n",
       "    <tr>\n",
       "      <th>3412406</th>\n",
       "      <td>920002</td>\n",
       "      <td>2024-29</td>\n",
       "      <td>2024-07-15</td>\n",
       "      <td>47.53</td>\n",
       "      <td>2024-07-19</td>\n",
       "      <td>48.30</td>\n",
       "      <td>5579267</td>\n",
       "      <td>2.862442e+08</td>\n",
       "      <td>229425.0</td>\n",
       "      <td>1569852.40</td>\n",
       "      <td>5</td>\n",
       "      <td>0.001659</td>\n",
       "      <td>0.001659</td>\n",
       "      <td>64</td>\n",
       "      <td>2024-06-28</td>\n",
       "      <td>0.0</td>\n",
       "      <td>0.0</td>\n",
       "    </tr>\n",
       "    <tr>\n",
       "      <th>3412407</th>\n",
       "      <td>920002</td>\n",
       "      <td>2024-30</td>\n",
       "      <td>2024-07-22</td>\n",
       "      <td>48.40</td>\n",
       "      <td>2024-07-26</td>\n",
       "      <td>46.88</td>\n",
       "      <td>2638929</td>\n",
       "      <td>1.263237e+08</td>\n",
       "      <td>222680.0</td>\n",
       "      <td>1523699.39</td>\n",
       "      <td>5</td>\n",
       "      <td>-0.029400</td>\n",
       "      <td>-0.029400</td>\n",
       "      <td>64</td>\n",
       "      <td>2024-06-28</td>\n",
       "      <td>0.0</td>\n",
       "      <td>0.0</td>\n",
       "    </tr>\n",
       "    <tr>\n",
       "      <th>3412408</th>\n",
       "      <td>920002</td>\n",
       "      <td>2024-31</td>\n",
       "      <td>2024-07-29</td>\n",
       "      <td>46.07</td>\n",
       "      <td>2024-08-02</td>\n",
       "      <td>46.93</td>\n",
       "      <td>3542568</td>\n",
       "      <td>1.721823e+08</td>\n",
       "      <td>222917.5</td>\n",
       "      <td>1525324.49</td>\n",
       "      <td>5</td>\n",
       "      <td>0.001067</td>\n",
       "      <td>0.001067</td>\n",
       "      <td>64</td>\n",
       "      <td>2024-06-28</td>\n",
       "      <td>0.0</td>\n",
       "      <td>0.0</td>\n",
       "    </tr>\n",
       "    <tr>\n",
       "      <th>3412409</th>\n",
       "      <td>920002</td>\n",
       "      <td>2024-32</td>\n",
       "      <td>2024-08-05</td>\n",
       "      <td>46.80</td>\n",
       "      <td>2024-08-09</td>\n",
       "      <td>46.50</td>\n",
       "      <td>2339297</td>\n",
       "      <td>1.104805e+08</td>\n",
       "      <td>220875.0</td>\n",
       "      <td>1511348.58</td>\n",
       "      <td>5</td>\n",
       "      <td>-0.009163</td>\n",
       "      <td>-0.009163</td>\n",
       "      <td>64</td>\n",
       "      <td>2024-06-28</td>\n",
       "      <td>0.0</td>\n",
       "      <td>0.0</td>\n",
       "    </tr>\n",
       "    <tr>\n",
       "      <th>3412410</th>\n",
       "      <td>920002</td>\n",
       "      <td>2024-33</td>\n",
       "      <td>2024-08-12</td>\n",
       "      <td>46.12</td>\n",
       "      <td>2024-08-16</td>\n",
       "      <td>48.05</td>\n",
       "      <td>1703918</td>\n",
       "      <td>8.018777e+07</td>\n",
       "      <td>228237.5</td>\n",
       "      <td>1561726.87</td>\n",
       "      <td>5</td>\n",
       "      <td>0.033333</td>\n",
       "      <td>0.033333</td>\n",
       "      <td>64</td>\n",
       "      <td>2024-06-28</td>\n",
       "      <td>0.0</td>\n",
       "      <td>0.0</td>\n",
       "    </tr>\n",
       "  </tbody>\n",
       "</table>\n",
       "<p>3412411 rows × 17 columns</p>\n",
       "</div>"
      ],
      "text/plain": [
       "           证券代码     交易周份       周开盘日期   周开盘价       周收盘日期   周收盘价  周个股交易股数  \\\n",
       "0             1  1991-14  1991-04-03  49.00  1991-04-06  48.28     1300   \n",
       "1             1  1991-15  1991-04-08  48.04  1991-04-13  46.84     3400   \n",
       "2             1  1991-16  1991-04-16  46.38  1991-04-20  45.46     1400   \n",
       "3             1  1991-17  1991-04-23  45.00  1991-04-26  44.34     6700   \n",
       "4             1  1991-18  1991-04-29  43.90  1991-05-04  43.02     1300   \n",
       "...         ...      ...         ...    ...         ...    ...      ...   \n",
       "3412406  920002  2024-29  2024-07-15  47.53  2024-07-19  48.30  5579267   \n",
       "3412407  920002  2024-30  2024-07-22  48.40  2024-07-26  46.88  2638929   \n",
       "3412408  920002  2024-31  2024-07-29  46.07  2024-08-02  46.93  3542568   \n",
       "3412409  920002  2024-32  2024-08-05  46.80  2024-08-09  46.50  2339297   \n",
       "3412410  920002  2024-33  2024-08-12  46.12  2024-08-16  48.05  1703918   \n",
       "\n",
       "              周个股交易金额    周个股流通市值      周个股总市值  周交易天数  考虑现金红利再投资的周个股回报率  \\\n",
       "0        6.400000e+04  1279420.0  2341588.26      4               NaN   \n",
       "1        1.610000e+05  1241260.0  2271748.01      5         -0.029826   \n",
       "2        6.400000e+04  1204690.0  2204817.77      5         -0.029462   \n",
       "3        3.000000e+05  1175010.0  2150497.58      4         -0.024637   \n",
       "4        5.700000e+04  1140030.0  2086477.36      5         -0.029770   \n",
       "...               ...        ...         ...    ...               ...   \n",
       "3412406  2.862442e+08   229425.0  1569852.40      5          0.001659   \n",
       "3412407  1.263237e+08   222680.0  1523699.39      5         -0.029400   \n",
       "3412408  1.721823e+08   222917.5  1525324.49      5          0.001067   \n",
       "3412409  1.104805e+08   220875.0  1511348.58      5         -0.009163   \n",
       "3412410  8.018777e+07   228237.5  1561726.87      5          0.033333   \n",
       "\n",
       "         不考虑现金红利再投资的周个股回报率  市场类型    最新股本变动日期  周盘后成交总量  周盘后成交总额  \n",
       "0                      NaN     4  1991-04-03      NaN      NaN  \n",
       "1                -0.029826     4  1991-04-03      NaN      NaN  \n",
       "2                -0.029462     4  1991-04-03      NaN      NaN  \n",
       "3                -0.024637     4  1991-04-03      NaN      NaN  \n",
       "4                 0.365088     4  1991-04-03      NaN      NaN  \n",
       "...                    ...   ...         ...      ...      ...  \n",
       "3412406           0.001659    64  2024-06-28      0.0      0.0  \n",
       "3412407          -0.029400    64  2024-06-28      0.0      0.0  \n",
       "3412408           0.001067    64  2024-06-28      0.0      0.0  \n",
       "3412409          -0.009163    64  2024-06-28      0.0      0.0  \n",
       "3412410           0.033333    64  2024-06-28      0.0      0.0  \n",
       "\n",
       "[3412411 rows x 17 columns]"
      ]
     },
     "execution_count": 138,
     "metadata": {},
     "output_type": "execute_result"
    }
   ],
   "source": [
    "trd_week_df#.loc[trd_week_df.证券代码==2438]"
   ]
  },
  {
   "cell_type": "code",
   "execution_count": 139,
   "id": "5886d3b6-3102-4bb6-9840-94903238efba",
   "metadata": {},
   "outputs": [],
   "source": [
    "trd_week_df.to_parquet('data/trd_week_202408.parquet', index=False)"
   ]
  },
  {
   "cell_type": "code",
   "execution_count": null,
   "id": "95f133e0-34e7-4836-90ee-6917ee527fbb",
   "metadata": {},
   "outputs": [],
   "source": [
    "# 提取数字和单位\n",
    "amount_ext = dl_invest_round['转换后投资金额'].str.extract(r'(\\d*\\.?\\d*)([\\u4e00-\\u9fa5]+)')\n",
    "amount_ext[0] = amount_ext[0].replace(\"\", np.nan).astype(float)  # 转换为浮点数\n",
    "\n",
    "# 定义单位和货币的转换函数\n",
    "def convert_amount(row):\n",
    "    rate = 1.0\n",
    "    if not pd.isna(row[1]):\n",
    "        # time = dl_invest_round.loc[row.name, '投资时间']  # 获取对应的时间以得到汇率\n",
    "\n",
    "        # if '美元' in row[1]:\n",
    "        #     rate = s_usdcnh[time] if time in s_usdcnh.index else s_usdcnh.mean()\n",
    "        # elif '港元' in row[1]:\n",
    "        #     rate = s_hkdcnh[time] if time in s_hkdcnh.index else s_hkdcnh.mean()\n",
    "\n",
    "        if '十' in row[1]:\n",
    "            rate *= 10\n",
    "        elif '百' in row[1]:\n",
    "            rate *= 100\n",
    "        elif '千' in row[1]:\n",
    "            rate *= 1000\n",
    "\n",
    "        if '亿' in row[1]:\n",
    "            rate *= 10000\n",
    "        elif '万' in row[1]:\n",
    "            pass  # 万相当于1，不需要额外处理\n",
    "\n",
    " \n",
    "        if '数' in row[1] and pd.isna(row[0]):\n",
    "            return 5 * rate   # 如果金额是'数'，取平均值\n",
    "        else:\n",
    "            return row[0] * rate\n",
    "\n",
    "    return row[0]\n",
    "\n",
    "amount_ext['投资金额'] = amount_ext.apply(convert_amount, axis=1)\n",
    "\n",
    "dl_invest_round['投资金额'] = amount_ext['投资金额']"
   ]
  },
  {
   "cell_type": "markdown",
   "id": "12dfc8fc-af5b-4e5a-8085-06fc63f5f6df",
   "metadata": {},
   "source": [
    "上市公司部分数据处理  \n",
    "\n",
    "1、看一下加入了专利权人的检索之后，目前每个公司的专利数量统计  \n",
    "2、先处理月个股回报率的文件，主要用到字段：\n",
    "Stkcd [证券代码] - 以上交所、深交所公布的证券代码为准  \n",
    "Trdmnt [交易月份] - 以YYYY-MM表示  \n",
    "Ndaytrd [月交易天数] - 计算公式为：月内实际交易的天数之和。  \n",
    "Markettype [市场类型] - 1=上证A股市场 (不包含科创板），2=上证B股市场，4=深证A股市场（不包含创业板），8=深证B股市场，16=创业板， 32=科创板，64=北证A股市场。  \n",
    "Mretwd [考虑现金红利再投资的月个股回报率] - 字段说明见说明书“周、月、年个股回报率的计算方法”。  \n",
    "Mclsprc [月收盘价] - 月最后一个交易日的收盘价。  \n",
    "\n",
    "-数据预处理：\n",
    "1）选择Markettype==1｜4的股票  \n",
    "2）剔除股价小于2元、上个月的交易天数小于10天的股票  \n",
    "这是我之前写的代码供参考  "
   ]
  },
  {
   "cell_type": "markdown",
   "id": "3041cbe2-0caa-4205-8a6b-0c083c3638e6",
   "metadata": {},
   "source": [
    "-计算步骤：\n",
    "groupby Trdmnt 和Stkcd  \n",
    "基于每个月上市公司的tech_closeness和上个月个股的考虑现金红利再投资的月个股回报率（Mretwd）计算个股的基于技术相似的可比公司加权回报率。  \n",
    "这是我之前写的代码供参考  "
   ]
  },
  {
   "cell_type": "markdown",
   "id": "fb4177e1-04df-49af-bb18-47172fba4f06",
   "metadata": {},
   "source": [
    "在训练w2v的时候选择最新的？然后在计算tech_closeness的时候可以根据他的申请状态和当年的时间去判断么，  \n",
    "如果是还在申请中的就用最初的申请人，如果是已经授权的就选择到那一年的最新当前权利人"
   ]
  },
  {
   "cell_type": "markdown",
   "id": "a71506d8-065e-4034-a4ad-c8f7b78881c6",
   "metadata": {},
   "source": [
    "主要是2个： 1、你这里加入专利权人的部分后统计一下上市公司的专利数量  \n",
    "2、计算一下基于个股回报率的tech_closeness加权回报率，然后在计算之前有一部分数据预处理需要你加一下～"
   ]
  },
  {
   "cell_type": "markdown",
   "id": "c9140d86-b4a2-4c49-a6c7-cfb57b05bea8",
   "metadata": {
    "editable": true,
    "slideshow": {
     "slide_type": ""
    },
    "tags": []
   },
   "source": [
    "##### Markettype [市场类型] - 1=上证A股市场 (不包含科创板），2=上证B股市场，4=深证A股市场（不包含创业板），8=深证B股市场，16=创业板， 32=科创板，64=北证A股市场。\n",
    "##### Mclsprc [月收盘价] - 月最后一个交易日的收盘价。\n",
    "##### Ndaytrd [月交易天数] - 计算公式为：月内实际交易的天数之和。\n",
    "##### Stkcd [证券代码] - 以上交所、深交所公布的证券代码为准\n",
    "##### Trdmnt [交易月份] - 以YYYY-MM表\n",
    "##### Mretwd [考虑现金红利再投资的月个股回报率] "
   ]
  },
  {
   "cell_type": "code",
   "execution_count": null,
   "id": "aec1114e-283c-4dbc-a72b-42f5a87f75ce",
   "metadata": {
    "editable": true,
    "slideshow": {
     "slide_type": ""
    },
    "tags": []
   },
   "outputs": [],
   "source": [
    "### delete price <2 trading day <10\n",
    "monthly_return_raw = monthly_return_raw[(monthly_return_raw['Markettype']==1) |(monthly_return_raw['Markettype']==4)]\n",
    "monthly_return_raw = monthly_return_raw[(monthly_return_raw['Mclsprc']>2)]\n",
    "monthly_return_raw['Ndaytrd_pre'] = monthly_return_raw.groupby('Stkcd')['Ndaytrd'].shift(1)\n",
    "monthly_return_raw = monthly_return_raw[(monthly_return_raw['Ndaytrd_pre']>=10)]\n",
    "\n",
    "\n",
    "import calendar\n",
    "def add_month(srcDate, addMonths):\n",
    "    month = srcDate.month - 1 -addMonths\n",
    "    year = int(srcDate.year + month / 12)\n",
    "    month = month % 12 + 1\n",
    "    day = min(srcDate.day, calendar.monthrange(int(year), int(month))[1])\n",
    "    return srcDate.replace(year=year, month=month, day=day)\n",
    "###加入unique之后会有一个numpy，就不能计算了，所以trd_month 的trdmnt_month自身需要drop_duplicates\n",
    "trd_month=trd_month.drop_duplicates(subset=['Trdmnt_month'],keep='first')\n",
    "def patent_agg(df):\n",
    "    return '; '.join(df.values)\n",
    "\n",
    "connectionreturn=pd.DataFrame()\n",
    "\n",
    "for trade_month in trd_month['Trdmnt_month'][:-6]:\n",
    "    start_month=add_month(trade_month, 60)\n",
    "    start_month_return=add_month(trade_month, 1)\n",
    "    end_month=trade_month\n",
    "    initial_patent_2=initial_patent_1[(initial_patent_1['apply_date']>=start_month)&(initial_patent_1['apply_date']<=end_month)]\n",
    "    initial_patent_2['Stkcd']=initial_patent_2['Stkcd'].astype(int)\n",
    "    patent_return_list=patent_company_list_2[(patent_company_list_2['Trdmnt_1']==end_month)]\n",
    "\n",
    "    union_set_patent_return=set(initial_patent_2['Stkcd'].astype(int).unique())&set(patent_return_list['Stkcd'].astype(int).unique())\n",
    "    print(trade_month,len(union_set_patent_return),sep='-')\n",
    "    patent_return_list_2=patent_return_list[patent_return_list['Stkcd'].astype(int).isin(union_set_patent_return)]\n",
    "    initial_patent_2=initial_patent_2[initial_patent_2['Stkcd'].astype(int).isin(union_set_patent_return)]\n",
    "    \n",
    "    # IPC字段先加总（因为一个股票有多个时间点，多个专利）\n",
    "    # initial_patent_3 = initial_patent_2.groupby(by='Stkcd')['IPC'].agg(patent_agg).reset_index()\n",
    "    \n",
    "    df = initial_patent_2.groupby(by='Stkcd')['IPC主分类'].agg(patent_agg).reset_index()\n",
    "    # 一、把“商品”字段拆分，分为多列\n",
    "    df_tmp=df['IPC主分类'].str.split('; ',expand=True)\n",
    "    # 二、把行转列成列\n",
    "    df_tmp=df_tmp.stack()\n",
    "    # 三、重置索引，并删除多于的索引\n",
    "    df_tmp = df_tmp.reset_index(level=1,drop=True)\n",
    "    # 四、与原始数据合并\n",
    "    df_tmp.name='IPC主分类'\n",
    "    df_new = df.drop(['IPC主分类'], axis=1).join(df_tmp).reset_index().drop(columns='index')\n",
    "    df_new['IPC_class']=df_new['IPC主分类'].map(lambda x:x[:3])\n",
    "    \n",
    "    df_new_1=df_new.groupby(['Stkcd','IPC_class']).count().reset_index()\n",
    "    df_new_2= df_new_1.pivot(index='Stkcd', columns='IPC_class', values='IPC主分类').fillna(0)\n",
    "    df_new_2=df_new_2.sort_values(by='Stkcd')\n",
    "    ###计算分母\n",
    "    div_tech=np.sqrt((df_new_2.values*df_new_2.values).sum(axis=1))\n",
    "    div_tech_1=div_tech[:,np.newaxis]\n",
    "    denominator_tech=np.dot(div_tech_1,div_tech_1.T)\n",
    "\n",
    "    ###计算分子\n",
    "    numerator_tech=np.dot(df_new_2.values,df_new_2.values.T)\n",
    "    numerator_tech_1=numerator_tech\n",
    "    numerator_tech_1[np.eye(len(numerator_tech_1[0]),dtype=bool)]=0\n",
    "    ###计算tech-closeness\n",
    "    closeness=numerator_tech_1/denominator_tech\n",
    "    c1=closeness.sum(axis=0)\n",
    "    c2=patent_return_list_2['Mretwd'].to_numpy()\n",
    "    final=np.dot(closeness,c2)/c1\n",
    "    \n",
    "    finaldata=pd.DataFrame(final,index=patent_return_list_2.Stkcd).reset_index()\n",
    "    finaldata=finaldata.rename(columns={'index':'Stkcd'})\n",
    "    finaldata['date']=end_month\n",
    "    connectionreturn=pd.concat([connectionreturn,finaldata])\n"
   ]
  },
  {
   "cell_type": "code",
   "execution_count": null,
   "id": "d5702d4b-aa6c-4191-b179-dd66d089cb24",
   "metadata": {},
   "outputs": [],
   "source": [
    "def add_months(srcDate, addMonths):\n",
    "    year = srcDate.year + (srcDate.month + addMonths - 1) // 12\n",
    "    month = (srcDate.month + addMonths - 1) % 12 + 1\n",
    "    day = min(srcDate.day, calendar.monthrange(year, month)[1])\n",
    "    return srcDate.replace(year=year, month=month, day=day)"
   ]
  },
  {
   "cell_type": "code",
   "execution_count": 157,
   "id": "1c5dd2e7-d364-4a80-a79a-a39c93444eb1",
   "metadata": {},
   "outputs": [
    {
     "name": "stderr",
     "output_type": "stream",
     "text": [
      "C:\\Users\\Prime\\AppData\\Roaming\\Python\\Python39\\site-packages\\openpyxl\\styles\\stylesheet.py:226: UserWarning: Workbook contains no default style, apply openpyxl's default\n",
      "  warn(\"Workbook contains no default style, apply openpyxl's default\")\n"
     ]
    },
    {
     "data": {
      "text/plain": [
       "(证券代码                   int64\n",
       " 交易月份                  object\n",
       " 月开盘日期                  int64\n",
       " 月开盘价                 float64\n",
       " 月收盘日期                  int64\n",
       " 月收盘价                 float64\n",
       " 月个股交易股数                int64\n",
       " 月个股交易金额              float64\n",
       " 月个股流通市值              float64\n",
       " 月个股总市值               float64\n",
       " 月交易天数                  int64\n",
       " 考虑现金红利再投资的月个股回报率     float64\n",
       " 不考虑现金红利再投资的月个股回报率    float64\n",
       " 市场类型                   int64\n",
       " 最新股本变动日期              object\n",
       " 月盘后成交总量              float64\n",
       " 月盘后成交总额              float64\n",
       " dtype: object,\n",
       " (810251, 17))"
      ]
     },
     "execution_count": 157,
     "metadata": {},
     "output_type": "execute_result"
    }
   ],
   "source": [
    "Trd_month=pd.read_excel('data\\\\TRD_Mnth.xlsx',skiprows=[0,2])\n",
    "Trd_month.dtypes,Trd_month.shape"
   ]
  },
  {
   "cell_type": "code",
   "execution_count": 158,
   "id": "51de4529-610f-4810-b4a9-f574feb31ae1",
   "metadata": {},
   "outputs": [],
   "source": [
    "Trd_month['月开盘日期']=pd.to_datetime(Trd_month['交易月份'].str.cat(Trd_month['月开盘日期'].astype(str),sep='-'))#trd_month['交易月份'] + '-' + trd_month['月开盘日期'].astype(str)\n",
    "Trd_month['月收盘日期']=pd.to_datetime(Trd_month['交易月份'].str.cat(Trd_month['月收盘日期'].astype(str),sep='-'))"
   ]
  },
  {
   "cell_type": "code",
   "execution_count": 172,
   "id": "355e3faa-a80f-41c8-b1af-779133a245d8",
   "metadata": {},
   "outputs": [
    {
     "data": {
      "text/html": [
       "<div>\n",
       "<style scoped>\n",
       "    .dataframe tbody tr th:only-of-type {\n",
       "        vertical-align: middle;\n",
       "    }\n",
       "\n",
       "    .dataframe tbody tr th {\n",
       "        vertical-align: top;\n",
       "    }\n",
       "\n",
       "    .dataframe thead th {\n",
       "        text-align: right;\n",
       "    }\n",
       "</style>\n",
       "<table border=\"1\" class=\"dataframe\">\n",
       "  <thead>\n",
       "    <tr style=\"text-align: right;\">\n",
       "      <th></th>\n",
       "      <th>证券代码</th>\n",
       "      <th>交易月份</th>\n",
       "      <th>月开盘日期</th>\n",
       "      <th>月开盘价</th>\n",
       "      <th>月收盘日期</th>\n",
       "      <th>月收盘价</th>\n",
       "      <th>月个股交易股数</th>\n",
       "      <th>月个股交易金额</th>\n",
       "      <th>月个股流通市值</th>\n",
       "      <th>月个股总市值</th>\n",
       "      <th>月交易天数</th>\n",
       "      <th>考虑现金红利再投资的月个股回报率</th>\n",
       "      <th>不考虑现金红利再投资的月个股回报率</th>\n",
       "      <th>市场类型</th>\n",
       "      <th>最新股本变动日期</th>\n",
       "      <th>月盘后成交总量</th>\n",
       "      <th>月盘后成交总额</th>\n",
       "      <th>Ndaytrd_pre</th>\n",
       "      <th>Mretwd_pre</th>\n",
       "    </tr>\n",
       "  </thead>\n",
       "  <tbody>\n",
       "    <tr>\n",
       "      <th>2</th>\n",
       "      <td>1</td>\n",
       "      <td>1991-06</td>\n",
       "      <td>1991-06-01</td>\n",
       "      <td>38.53</td>\n",
       "      <td>1991-06-28</td>\n",
       "      <td>33.99</td>\n",
       "      <td>30600</td>\n",
       "      <td>1.094000e+06</td>\n",
       "      <td>900735.00</td>\n",
       "      <td>1648520.81</td>\n",
       "      <td>23</td>\n",
       "      <td>-0.113459</td>\n",
       "      <td>-0.113459</td>\n",
       "      <td>4</td>\n",
       "      <td>1991-04-03</td>\n",
       "      <td>NaN</td>\n",
       "      <td>NaN</td>\n",
       "      <td>24.0</td>\n",
       "      <td>-0.122253</td>\n",
       "    </tr>\n",
       "    <tr>\n",
       "      <th>3</th>\n",
       "      <td>1</td>\n",
       "      <td>1991-07</td>\n",
       "      <td>1991-07-01</td>\n",
       "      <td>33.65</td>\n",
       "      <td>1991-07-31</td>\n",
       "      <td>29.54</td>\n",
       "      <td>6100</td>\n",
       "      <td>1.940430e+05</td>\n",
       "      <td>782810.00</td>\n",
       "      <td>1432695.05</td>\n",
       "      <td>16</td>\n",
       "      <td>-0.130921</td>\n",
       "      <td>-0.130921</td>\n",
       "      <td>4</td>\n",
       "      <td>1991-04-03</td>\n",
       "      <td>NaN</td>\n",
       "      <td>NaN</td>\n",
       "      <td>23.0</td>\n",
       "      <td>-0.113459</td>\n",
       "    </tr>\n",
       "    <tr>\n",
       "      <th>4</th>\n",
       "      <td>1</td>\n",
       "      <td>1991-08</td>\n",
       "      <td>1991-08-01</td>\n",
       "      <td>29.39</td>\n",
       "      <td>1991-08-31</td>\n",
       "      <td>15.00</td>\n",
       "      <td>3243100</td>\n",
       "      <td>4.957624e+07</td>\n",
       "      <td>674833.82</td>\n",
       "      <td>1346274.65</td>\n",
       "      <td>15</td>\n",
       "      <td>-0.411588</td>\n",
       "      <td>-0.411587</td>\n",
       "      <td>4</td>\n",
       "      <td>1991-08-01</td>\n",
       "      <td>NaN</td>\n",
       "      <td>NaN</td>\n",
       "      <td>16.0</td>\n",
       "      <td>-0.130921</td>\n",
       "    </tr>\n",
       "    <tr>\n",
       "      <th>5</th>\n",
       "      <td>1</td>\n",
       "      <td>1991-09</td>\n",
       "      <td>1991-09-02</td>\n",
       "      <td>15.00</td>\n",
       "      <td>1991-09-28</td>\n",
       "      <td>14.50</td>\n",
       "      <td>7240500</td>\n",
       "      <td>1.027070e+08</td>\n",
       "      <td>652339.35</td>\n",
       "      <td>1301398.82</td>\n",
       "      <td>24</td>\n",
       "      <td>-0.033333</td>\n",
       "      <td>-0.033333</td>\n",
       "      <td>4</td>\n",
       "      <td>1991-08-01</td>\n",
       "      <td>NaN</td>\n",
       "      <td>NaN</td>\n",
       "      <td>15.0</td>\n",
       "      <td>-0.411588</td>\n",
       "    </tr>\n",
       "    <tr>\n",
       "      <th>6</th>\n",
       "      <td>1</td>\n",
       "      <td>1991-10</td>\n",
       "      <td>1991-10-03</td>\n",
       "      <td>14.65</td>\n",
       "      <td>1991-10-31</td>\n",
       "      <td>26.90</td>\n",
       "      <td>10591200</td>\n",
       "      <td>2.438775e+08</td>\n",
       "      <td>1210201.97</td>\n",
       "      <td>2414319.20</td>\n",
       "      <td>25</td>\n",
       "      <td>0.855172</td>\n",
       "      <td>0.855172</td>\n",
       "      <td>4</td>\n",
       "      <td>1991-08-01</td>\n",
       "      <td>NaN</td>\n",
       "      <td>NaN</td>\n",
       "      <td>24.0</td>\n",
       "      <td>-0.033333</td>\n",
       "    </tr>\n",
       "    <tr>\n",
       "      <th>...</th>\n",
       "      <td>...</td>\n",
       "      <td>...</td>\n",
       "      <td>...</td>\n",
       "      <td>...</td>\n",
       "      <td>...</td>\n",
       "      <td>...</td>\n",
       "      <td>...</td>\n",
       "      <td>...</td>\n",
       "      <td>...</td>\n",
       "      <td>...</td>\n",
       "      <td>...</td>\n",
       "      <td>...</td>\n",
       "      <td>...</td>\n",
       "      <td>...</td>\n",
       "      <td>...</td>\n",
       "      <td>...</td>\n",
       "      <td>...</td>\n",
       "      <td>...</td>\n",
       "      <td>...</td>\n",
       "    </tr>\n",
       "    <tr>\n",
       "      <th>764716</th>\n",
       "      <td>605599</td>\n",
       "      <td>2024-03</td>\n",
       "      <td>2024-03-01</td>\n",
       "      <td>12.45</td>\n",
       "      <td>2024-03-29</td>\n",
       "      <td>14.58</td>\n",
       "      <td>102816515</td>\n",
       "      <td>1.376977e+09</td>\n",
       "      <td>8553762.32</td>\n",
       "      <td>11340000.32</td>\n",
       "      <td>21</td>\n",
       "      <td>0.168269</td>\n",
       "      <td>0.168269</td>\n",
       "      <td>1</td>\n",
       "      <td>2022-09-09</td>\n",
       "      <td>0.0</td>\n",
       "      <td>0.0</td>\n",
       "      <td>15.0</td>\n",
       "      <td>0.025472</td>\n",
       "    </tr>\n",
       "    <tr>\n",
       "      <th>764717</th>\n",
       "      <td>605599</td>\n",
       "      <td>2024-04</td>\n",
       "      <td>2024-04-01</td>\n",
       "      <td>14.66</td>\n",
       "      <td>2024-04-30</td>\n",
       "      <td>14.94</td>\n",
       "      <td>115695045</td>\n",
       "      <td>1.750836e+09</td>\n",
       "      <td>8764966.33</td>\n",
       "      <td>11620000.33</td>\n",
       "      <td>20</td>\n",
       "      <td>0.024691</td>\n",
       "      <td>0.024691</td>\n",
       "      <td>1</td>\n",
       "      <td>2022-09-09</td>\n",
       "      <td>0.0</td>\n",
       "      <td>0.0</td>\n",
       "      <td>21.0</td>\n",
       "      <td>0.168269</td>\n",
       "    </tr>\n",
       "    <tr>\n",
       "      <th>764718</th>\n",
       "      <td>605599</td>\n",
       "      <td>2024-05</td>\n",
       "      <td>2024-05-06</td>\n",
       "      <td>14.88</td>\n",
       "      <td>2024-05-31</td>\n",
       "      <td>14.28</td>\n",
       "      <td>68905210</td>\n",
       "      <td>1.028017e+09</td>\n",
       "      <td>8377758.98</td>\n",
       "      <td>11106666.98</td>\n",
       "      <td>20</td>\n",
       "      <td>-0.044177</td>\n",
       "      <td>-0.044177</td>\n",
       "      <td>1</td>\n",
       "      <td>2022-09-09</td>\n",
       "      <td>0.0</td>\n",
       "      <td>0.0</td>\n",
       "      <td>20.0</td>\n",
       "      <td>0.024691</td>\n",
       "    </tr>\n",
       "    <tr>\n",
       "      <th>764719</th>\n",
       "      <td>605599</td>\n",
       "      <td>2024-06</td>\n",
       "      <td>2024-06-03</td>\n",
       "      <td>14.31</td>\n",
       "      <td>2024-06-28</td>\n",
       "      <td>12.73</td>\n",
       "      <td>60906300</td>\n",
       "      <td>8.085796e+08</td>\n",
       "      <td>7468408.39</td>\n",
       "      <td>9901111.39</td>\n",
       "      <td>19</td>\n",
       "      <td>-0.063062</td>\n",
       "      <td>-0.059524</td>\n",
       "      <td>1</td>\n",
       "      <td>2022-09-09</td>\n",
       "      <td>0.0</td>\n",
       "      <td>0.0</td>\n",
       "      <td>20.0</td>\n",
       "      <td>-0.044177</td>\n",
       "    </tr>\n",
       "    <tr>\n",
       "      <th>764720</th>\n",
       "      <td>605599</td>\n",
       "      <td>2024-07</td>\n",
       "      <td>2024-07-01</td>\n",
       "      <td>12.78</td>\n",
       "      <td>2024-07-31</td>\n",
       "      <td>11.49</td>\n",
       "      <td>54949980</td>\n",
       "      <td>6.610917e+08</td>\n",
       "      <td>6740927.92</td>\n",
       "      <td>8936666.92</td>\n",
       "      <td>23</td>\n",
       "      <td>-0.097408</td>\n",
       "      <td>-0.097408</td>\n",
       "      <td>1</td>\n",
       "      <td>2022-09-09</td>\n",
       "      <td>0.0</td>\n",
       "      <td>0.0</td>\n",
       "      <td>19.0</td>\n",
       "      <td>-0.063062</td>\n",
       "    </tr>\n",
       "  </tbody>\n",
       "</table>\n",
       "<p>611034 rows × 19 columns</p>\n",
       "</div>"
      ],
      "text/plain": [
       "          证券代码     交易月份      月开盘日期   月开盘价      月收盘日期   月收盘价    月个股交易股数  \\\n",
       "2            1  1991-06 1991-06-01  38.53 1991-06-28  33.99      30600   \n",
       "3            1  1991-07 1991-07-01  33.65 1991-07-31  29.54       6100   \n",
       "4            1  1991-08 1991-08-01  29.39 1991-08-31  15.00    3243100   \n",
       "5            1  1991-09 1991-09-02  15.00 1991-09-28  14.50    7240500   \n",
       "6            1  1991-10 1991-10-03  14.65 1991-10-31  26.90   10591200   \n",
       "...        ...      ...        ...    ...        ...    ...        ...   \n",
       "764716  605599  2024-03 2024-03-01  12.45 2024-03-29  14.58  102816515   \n",
       "764717  605599  2024-04 2024-04-01  14.66 2024-04-30  14.94  115695045   \n",
       "764718  605599  2024-05 2024-05-06  14.88 2024-05-31  14.28   68905210   \n",
       "764719  605599  2024-06 2024-06-03  14.31 2024-06-28  12.73   60906300   \n",
       "764720  605599  2024-07 2024-07-01  12.78 2024-07-31  11.49   54949980   \n",
       "\n",
       "             月个股交易金额     月个股流通市值       月个股总市值  月交易天数  考虑现金红利再投资的月个股回报率  \\\n",
       "2       1.094000e+06   900735.00   1648520.81     23         -0.113459   \n",
       "3       1.940430e+05   782810.00   1432695.05     16         -0.130921   \n",
       "4       4.957624e+07   674833.82   1346274.65     15         -0.411588   \n",
       "5       1.027070e+08   652339.35   1301398.82     24         -0.033333   \n",
       "6       2.438775e+08  1210201.97   2414319.20     25          0.855172   \n",
       "...              ...         ...          ...    ...               ...   \n",
       "764716  1.376977e+09  8553762.32  11340000.32     21          0.168269   \n",
       "764717  1.750836e+09  8764966.33  11620000.33     20          0.024691   \n",
       "764718  1.028017e+09  8377758.98  11106666.98     20         -0.044177   \n",
       "764719  8.085796e+08  7468408.39   9901111.39     19         -0.063062   \n",
       "764720  6.610917e+08  6740927.92   8936666.92     23         -0.097408   \n",
       "\n",
       "        不考虑现金红利再投资的月个股回报率  市场类型    最新股本变动日期  月盘后成交总量  月盘后成交总额  Ndaytrd_pre  \\\n",
       "2               -0.113459     4  1991-04-03      NaN      NaN         24.0   \n",
       "3               -0.130921     4  1991-04-03      NaN      NaN         23.0   \n",
       "4               -0.411587     4  1991-08-01      NaN      NaN         16.0   \n",
       "5               -0.033333     4  1991-08-01      NaN      NaN         15.0   \n",
       "6                0.855172     4  1991-08-01      NaN      NaN         24.0   \n",
       "...                   ...   ...         ...      ...      ...          ...   \n",
       "764716           0.168269     1  2022-09-09      0.0      0.0         15.0   \n",
       "764717           0.024691     1  2022-09-09      0.0      0.0         21.0   \n",
       "764718          -0.044177     1  2022-09-09      0.0      0.0         20.0   \n",
       "764719          -0.059524     1  2022-09-09      0.0      0.0         20.0   \n",
       "764720          -0.097408     1  2022-09-09      0.0      0.0         19.0   \n",
       "\n",
       "        Mretwd_pre  \n",
       "2        -0.122253  \n",
       "3        -0.113459  \n",
       "4        -0.130921  \n",
       "5        -0.411588  \n",
       "6        -0.033333  \n",
       "...            ...  \n",
       "764716    0.025472  \n",
       "764717    0.168269  \n",
       "764718    0.024691  \n",
       "764719   -0.044177  \n",
       "764720   -0.063062  \n",
       "\n",
       "[611034 rows x 19 columns]"
      ]
     },
     "execution_count": 172,
     "metadata": {},
     "output_type": "execute_result"
    }
   ],
   "source": [
    "trd_month = Trd_month.copy()\n",
    "trd_month = trd_month[(trd_month['市场类型']==1) |(trd_month['市场类型']==4)]\n",
    "trd_month = trd_month[(trd_month['月收盘价']>2)]\n",
    "trd_month['Ndaytrd_pre'] = trd_month.groupby('证券代码')['月交易天数'].shift(1)\n",
    "trd_month = trd_month[(trd_month['Ndaytrd_pre']>=10)]\n",
    "trd_month['Mretwd_pre'] = trd_month.groupby('证券代码')['考虑现金红利再投资的月个股回报率'].shift(1)\n",
    "trd_month.dropna(subset='Mretwd_pre',inplace=True)\n",
    "trd_month['交易年']=trd_month['月开盘日期'].dt.year\n",
    "#trd_month=trd_month.drop_duplicates(subset=['交易月份'],keep='first')\n",
    "trd_month"
   ]
  },
  {
   "cell_type": "code",
   "execution_count": 153,
   "id": "206431b6-31a9-4f10-81d1-52cb5bdcfe6e",
   "metadata": {},
   "outputs": [
    {
     "data": {
      "text/plain": [
       "(dtype('int64'), dtype('int32'))"
      ]
     },
     "execution_count": 153,
     "metadata": {},
     "output_type": "execute_result"
    }
   ],
   "source": [
    "trd_month['证券代码'].dtypes,patent_listed_id['股票代码'].dtypes"
   ]
  },
  {
   "cell_type": "code",
   "execution_count": 188,
   "id": "e41e5f3b-d836-4678-8d9e-b1a2c5a73358",
   "metadata": {},
   "outputs": [
    {
     "data": {
      "text/plain": [
       "2817"
      ]
     },
     "execution_count": 188,
     "metadata": {},
     "output_type": "execute_result"
    }
   ],
   "source": [
    "len(set(trd_month['证券代码'])&set(patent_listed_id['股票代码']))"
   ]
  },
  {
   "cell_type": "code",
   "execution_count": 161,
   "id": "61e848fb-a5e2-4ad8-bbb7-e33883d78be6",
   "metadata": {},
   "outputs": [
    {
     "data": {
      "text/plain": [
       "交易月份\n",
       "2024-03    5271\n",
       "2024-02    5260\n",
       "2023-12    5259\n",
       "2023-11    5250\n",
       "2024-04    5236\n",
       "           ... \n",
       "1991-08      10\n",
       "1991-05       9\n",
       "1991-04       8\n",
       "1991-03       6\n",
       "1999-03       2\n",
       "Name: count, Length: 401, dtype: int64"
      ]
     },
     "execution_count": 161,
     "metadata": {},
     "output_type": "execute_result"
    }
   ],
   "source": [
    "trd_month.交易月份.value_counts()"
   ]
  },
  {
   "cell_type": "code",
   "execution_count": 174,
   "id": "9ce533aa-0a54-40be-97e0-1a1a20995a51",
   "metadata": {},
   "outputs": [
    {
     "data": {
      "text/plain": [
       "申请月份\n",
       "2021-12    34594\n",
       "2020-12    33689\n",
       "2019-12    29605\n",
       "2018-12    24345\n",
       "2021-11    23853\n",
       "           ...  \n",
       "1991-01        1\n",
       "1993-08        1\n",
       "1988-12        1\n",
       "1988-10        1\n",
       "1988-04        1\n",
       "Name: count, Length: 392, dtype: int64"
      ]
     },
     "execution_count": 174,
     "metadata": {},
     "output_type": "execute_result"
    }
   ],
   "source": [
    "patent_listed_id['申请年']=patent_listed_id['申请日'].dt.year\n",
    "patent_listed_id['申请月份']=patent_listed_id['申请日'].astype(str).str[:-3]\n",
    "patent_listed_id['申请月份'].value_counts()"
   ]
  },
  {
   "cell_type": "code",
   "execution_count": 173,
   "id": "f444f869-cd6d-4129-8918-ed854d4364e3",
   "metadata": {},
   "outputs": [],
   "source": [
    "base_date = pd.Timestamp('1970-01-01')\n",
    "patent_listed_id['月份数'] = (patent_listed_id['申请日'].dt.year - base_date.year) * 12 + (patent_listed_id['申请日'].dt.month - base_date.month)\n",
    "trd_month['月份数'] = (trd_month['月开盘日期'].dt.year - base_date.year) * 12 + (trd_month['月开盘日期'].dt.month - base_date.month)"
   ]
  },
  {
   "cell_type": "code",
   "execution_count": 163,
   "id": "ddba5c87-992f-4616-80a0-ab5ba41a6404",
   "metadata": {},
   "outputs": [
    {
     "data": {
      "text/plain": [
       "(254, 219, 654, 654)"
      ]
     },
     "execution_count": 163,
     "metadata": {},
     "output_type": "execute_result"
    }
   ],
   "source": [
    "trd_month['月份数'].min(),patent_listed_id['月份数'].min(),trd_month['月份数'].max(),patent_listed_id['月份数'].max()"
   ]
  },
  {
   "cell_type": "code",
   "execution_count": 135,
   "id": "3dd8d9c4-3c5d-49ac-b972-a865d4cb7535",
   "metadata": {},
   "outputs": [
    {
     "data": {
      "text/plain": [
       "(array(['1995-01'], dtype=object), array(['1995-01'], dtype=object))"
      ]
     },
     "execution_count": 135,
     "metadata": {},
     "output_type": "execute_result"
    }
   ],
   "source": [
    "trd_month.loc[trd_month['月份数']==300,'交易月份'].unique(),patent_listed_id.loc[patent_listed_id['月份数']==300,'申请月份'].unique()"
   ]
  },
  {
   "cell_type": "code",
   "execution_count": 139,
   "id": "0383464d-4fdf-4dbb-bc3b-3cdbaf95d577",
   "metadata": {},
   "outputs": [],
   "source": [
    "patent_listed_id.sort_values(by=['月份数','申请日'],inplace=True)"
   ]
  },
  {
   "cell_type": "code",
   "execution_count": 171,
   "id": "2e6b7abf-dc28-473d-a4ff-050c6f516fc7",
   "metadata": {},
   "outputs": [
    {
     "name": "stdout",
     "output_type": "stream",
     "text": [
      "300 ['1995-01'] 43 41 22\n",
      "301 ['1995-02'] 44 41 22\n",
      "302 ['1995-03'] 45 42 23\n",
      "303 ['1995-04'] 46 42 23\n",
      "304 ['1995-05'] 50 47 25\n",
      "305 ['1995-06'] 53 50 27\n",
      "306 ['1995-07'] 53 50 28\n",
      "307 ['1995-08'] 53 50 28\n",
      "308 ['1995-09'] 54 51 29\n",
      "309 ['1995-10'] 56 53 30\n",
      "310 ['1995-11'] 57 53 31\n",
      "311 ['1995-12'] 60 55 31\n",
      "312 ['1996-01'] 60 55 31\n",
      "313 ['1996-02'] 62 57 31\n",
      "314 ['1996-03'] 62 57 32\n",
      "315 ['1996-04'] 64 59 33\n",
      "316 ['1996-05'] 69 64 37\n",
      "317 ['1996-06'] 70 65 37\n",
      "318 ['1996-07'] 71 67 37\n",
      "319 ['1996-08'] 73 68 38\n",
      "320 ['1996-09'] 77 71 42\n",
      "321 ['1996-10'] 77 71 44\n",
      "322 ['1996-11'] 79 73 44\n",
      "323 ['1996-12'] 81 75 46\n",
      "324 ['1997-01'] 84 78 52\n",
      "325 ['1997-02'] 87 81 55\n",
      "326 ['1997-03'] 89 83 57\n",
      "327 ['1997-04'] 93 87 64\n",
      "328 ['1997-05'] 95 88 65\n",
      "329 ['1997-06'] 99 91 69\n",
      "330 ['1997-07'] 101 93 71\n",
      "331 ['1997-08'] 102 94 72\n",
      "332 ['1997-09'] 106 99 77\n",
      "333 ['1997-10'] 107 100 78\n",
      "334 ['1997-11'] 110 102 79\n",
      "335 ['1997-12'] 114 103 80\n",
      "336 ['1998-01'] 114 104 80\n",
      "337 ['1998-02'] 116 105 81\n",
      "338 ['1998-03'] 119 108 82\n",
      "339 ['1998-04'] 119 108 82\n",
      "340 ['1998-05'] 124 113 85\n",
      "341 ['1998-06'] 129 117 87\n",
      "342 ['1998-07'] 135 122 91\n",
      "343 ['1998-08'] 139 125 95\n",
      "344 ['1998-09'] 142 127 99\n",
      "345 ['1998-10'] 144 128 100\n",
      "346 ['1998-11'] 150 136 103\n",
      "347 ['1998-12'] 154 140 105\n",
      "348 ['1999-01'] 157 142 106\n",
      "349 ['1999-02'] 165 150 112\n",
      "350 [] 167 152 0\n",
      "351 ['1999-04'] 174 159 116\n",
      "352 ['1999-05'] 178 162 118\n",
      "353 ['1999-06'] 182 166 122\n",
      "354 ['1999-07'] 186 170 126\n",
      "355 ['1999-08'] 190 174 127\n",
      "356 ['1999-09'] 197 182 131\n",
      "357 ['1999-10'] 201 186 133\n",
      "358 ['1999-11'] 209 195 140\n",
      "359 ['1999-12'] 218 201 143\n",
      "360 ['2000-01'] 221 205 143\n",
      "361 ['2000-02'] 225 209 146\n",
      "362 ['2000-03'] 236 219 148\n",
      "363 ['2000-04'] 245 228 152\n",
      "364 ['2000-05'] 254 239 159\n"
     ]
    },
    {
     "ename": "KeyboardInterrupt",
     "evalue": "",
     "output_type": "error",
     "traceback": [
      "\u001b[1;31m---------------------------------------------------------------------------\u001b[0m",
      "\u001b[1;31mKeyboardInterrupt\u001b[0m                         Traceback (most recent call last)",
      "Cell \u001b[1;32mIn[171], line 7\u001b[0m\n\u001b[0;32m      4\u001b[0m \u001b[38;5;28;01mfor\u001b[39;00m m \u001b[38;5;129;01min\u001b[39;00m \u001b[38;5;28mrange\u001b[39m(\u001b[38;5;241m300\u001b[39m,\u001b[38;5;241m655\u001b[39m):\n\u001b[0;32m      5\u001b[0m     \u001b[38;5;66;03m# 获取该年或以前各公司的专利\u001b[39;00m\n\u001b[0;32m      6\u001b[0m     group_ids_t\u001b[38;5;241m=\u001b[39mpatent_listed_id[patent_listed_id[\u001b[38;5;124m'\u001b[39m\u001b[38;5;124m月份数\u001b[39m\u001b[38;5;124m'\u001b[39m] \u001b[38;5;241m<\u001b[39m\u001b[38;5;241m=\u001b[39m m]\u001b[38;5;241m.\u001b[39mgroupby(\u001b[38;5;124m'\u001b[39m\u001b[38;5;124m股票代码\u001b[39m\u001b[38;5;124m'\u001b[39m)[\u001b[38;5;124m'\u001b[39m\u001b[38;5;124m公开（公告）号\u001b[39m\u001b[38;5;124m'\u001b[39m]\u001b[38;5;241m.\u001b[39mapply(\u001b[38;5;28;01mlambda\u001b[39;00m x: x\u001b[38;5;241m.\u001b[39mto_list())\u001b[38;5;241m.\u001b[39mreset_index(name\u001b[38;5;241m=\u001b[39m\u001b[38;5;124m'\u001b[39m\u001b[38;5;124mindex_list\u001b[39m\u001b[38;5;124m'\u001b[39m)\n\u001b[1;32m----> 7\u001b[0m     ids_vec \u001b[38;5;241m=\u001b[39m \u001b[43mgroup_ids_t\u001b[49m\u001b[43m[\u001b[49m\u001b[38;5;124;43m'\u001b[39;49m\u001b[38;5;124;43mindex_list\u001b[39;49m\u001b[38;5;124;43m'\u001b[39;49m\u001b[43m]\u001b[49m\u001b[38;5;241;43m.\u001b[39;49m\u001b[43mapply\u001b[49m\u001b[43m(\u001b[49m\u001b[38;5;28;43;01mlambda\u001b[39;49;00m\u001b[43m \u001b[49m\u001b[43mx\u001b[49m\u001b[43m:\u001b[49m\u001b[43m \u001b[49m\u001b[43mdoc_lda_w2v\u001b[49m\u001b[38;5;241;43m.\u001b[39;49m\u001b[43mloc\u001b[49m\u001b[43m[\u001b[49m\u001b[43mdoc_lda_w2v\u001b[49m\u001b[38;5;241;43m.\u001b[39;49m\u001b[43mindex\u001b[49m\u001b[38;5;241;43m.\u001b[39;49m\u001b[43misin\u001b[49m\u001b[43m(\u001b[49m\u001b[43mx\u001b[49m\u001b[43m)\u001b[49m\u001b[43m]\u001b[49m\u001b[38;5;241;43m.\u001b[39;49m\u001b[43mmean\u001b[49m\u001b[43m(\u001b[49m\u001b[43maxis\u001b[49m\u001b[38;5;241;43m=\u001b[39;49m\u001b[38;5;241;43m0\u001b[39;49m\u001b[43m)\u001b[49m\u001b[43m)\u001b[49m\n\u001b[0;32m      8\u001b[0m     ids_vec\u001b[38;5;241m.\u001b[39mindex \u001b[38;5;241m=\u001b[39m group_ids_t[\u001b[38;5;124m'\u001b[39m\u001b[38;5;124m股票代码\u001b[39m\u001b[38;5;124m'\u001b[39m]\n\u001b[0;32m      9\u001b[0m     co_ids_vec\u001b[38;5;241m=\u001b[39mids_vec[ids_vec\u001b[38;5;241m.\u001b[39msum(axis\u001b[38;5;241m=\u001b[39m\u001b[38;5;241m1\u001b[39m) \u001b[38;5;241m!=\u001b[39m \u001b[38;5;241m0\u001b[39m]\u001b[38;5;66;03m#使用 lda_w2v 模型将公司的专利文档向量化后的表示\u001b[39;00m\n",
      "File \u001b[1;32m~\\AppData\\Roaming\\Python\\Python39\\site-packages\\pandas\\core\\series.py:4630\u001b[0m, in \u001b[0;36mSeries.apply\u001b[1;34m(self, func, convert_dtype, args, **kwargs)\u001b[0m\n\u001b[0;32m   4520\u001b[0m \u001b[38;5;28;01mdef\u001b[39;00m \u001b[38;5;21mapply\u001b[39m(\n\u001b[0;32m   4521\u001b[0m     \u001b[38;5;28mself\u001b[39m,\n\u001b[0;32m   4522\u001b[0m     func: AggFuncType,\n\u001b[1;32m   (...)\u001b[0m\n\u001b[0;32m   4525\u001b[0m     \u001b[38;5;241m*\u001b[39m\u001b[38;5;241m*\u001b[39mkwargs,\n\u001b[0;32m   4526\u001b[0m ) \u001b[38;5;241m-\u001b[39m\u001b[38;5;241m>\u001b[39m DataFrame \u001b[38;5;241m|\u001b[39m Series:\n\u001b[0;32m   4527\u001b[0m \u001b[38;5;250m    \u001b[39m\u001b[38;5;124;03m\"\"\"\u001b[39;00m\n\u001b[0;32m   4528\u001b[0m \u001b[38;5;124;03m    Invoke function on values of Series.\u001b[39;00m\n\u001b[0;32m   4529\u001b[0m \n\u001b[1;32m   (...)\u001b[0m\n\u001b[0;32m   4628\u001b[0m \u001b[38;5;124;03m    dtype: float64\u001b[39;00m\n\u001b[0;32m   4629\u001b[0m \u001b[38;5;124;03m    \"\"\"\u001b[39;00m\n\u001b[1;32m-> 4630\u001b[0m     \u001b[38;5;28;01mreturn\u001b[39;00m \u001b[43mSeriesApply\u001b[49m\u001b[43m(\u001b[49m\u001b[38;5;28;43mself\u001b[39;49m\u001b[43m,\u001b[49m\u001b[43m \u001b[49m\u001b[43mfunc\u001b[49m\u001b[43m,\u001b[49m\u001b[43m \u001b[49m\u001b[43mconvert_dtype\u001b[49m\u001b[43m,\u001b[49m\u001b[43m \u001b[49m\u001b[43margs\u001b[49m\u001b[43m,\u001b[49m\u001b[43m \u001b[49m\u001b[43mkwargs\u001b[49m\u001b[43m)\u001b[49m\u001b[38;5;241;43m.\u001b[39;49m\u001b[43mapply\u001b[49m\u001b[43m(\u001b[49m\u001b[43m)\u001b[49m\n",
      "File \u001b[1;32m~\\AppData\\Roaming\\Python\\Python39\\site-packages\\pandas\\core\\apply.py:1025\u001b[0m, in \u001b[0;36mSeriesApply.apply\u001b[1;34m(self)\u001b[0m\n\u001b[0;32m   1022\u001b[0m     \u001b[38;5;28;01mreturn\u001b[39;00m \u001b[38;5;28mself\u001b[39m\u001b[38;5;241m.\u001b[39mapply_str()\n\u001b[0;32m   1024\u001b[0m \u001b[38;5;66;03m# self.f is Callable\u001b[39;00m\n\u001b[1;32m-> 1025\u001b[0m \u001b[38;5;28;01mreturn\u001b[39;00m \u001b[38;5;28;43mself\u001b[39;49m\u001b[38;5;241;43m.\u001b[39;49m\u001b[43mapply_standard\u001b[49m\u001b[43m(\u001b[49m\u001b[43m)\u001b[49m\n",
      "File \u001b[1;32m~\\AppData\\Roaming\\Python\\Python39\\site-packages\\pandas\\core\\apply.py:1076\u001b[0m, in \u001b[0;36mSeriesApply.apply_standard\u001b[1;34m(self)\u001b[0m\n\u001b[0;32m   1074\u001b[0m     \u001b[38;5;28;01melse\u001b[39;00m:\n\u001b[0;32m   1075\u001b[0m         values \u001b[38;5;241m=\u001b[39m obj\u001b[38;5;241m.\u001b[39mastype(\u001b[38;5;28mobject\u001b[39m)\u001b[38;5;241m.\u001b[39m_values\n\u001b[1;32m-> 1076\u001b[0m         mapped \u001b[38;5;241m=\u001b[39m \u001b[43mlib\u001b[49m\u001b[38;5;241;43m.\u001b[39;49m\u001b[43mmap_infer\u001b[49m\u001b[43m(\u001b[49m\n\u001b[0;32m   1077\u001b[0m \u001b[43m            \u001b[49m\u001b[43mvalues\u001b[49m\u001b[43m,\u001b[49m\n\u001b[0;32m   1078\u001b[0m \u001b[43m            \u001b[49m\u001b[43mf\u001b[49m\u001b[43m,\u001b[49m\n\u001b[0;32m   1079\u001b[0m \u001b[43m            \u001b[49m\u001b[43mconvert\u001b[49m\u001b[38;5;241;43m=\u001b[39;49m\u001b[38;5;28;43mself\u001b[39;49m\u001b[38;5;241;43m.\u001b[39;49m\u001b[43mconvert_dtype\u001b[49m\u001b[43m,\u001b[49m\n\u001b[0;32m   1080\u001b[0m \u001b[43m        \u001b[49m\u001b[43m)\u001b[49m\n\u001b[0;32m   1082\u001b[0m \u001b[38;5;28;01mif\u001b[39;00m \u001b[38;5;28mlen\u001b[39m(mapped) \u001b[38;5;129;01mand\u001b[39;00m \u001b[38;5;28misinstance\u001b[39m(mapped[\u001b[38;5;241m0\u001b[39m], ABCSeries):\n\u001b[0;32m   1083\u001b[0m     \u001b[38;5;66;03m# GH#43986 Need to do list(mapped) in order to get treated as nested\u001b[39;00m\n\u001b[0;32m   1084\u001b[0m     \u001b[38;5;66;03m#  See also GH#25959 regarding EA support\u001b[39;00m\n\u001b[0;32m   1085\u001b[0m     \u001b[38;5;28;01mreturn\u001b[39;00m obj\u001b[38;5;241m.\u001b[39m_constructor_expanddim(\u001b[38;5;28mlist\u001b[39m(mapped), index\u001b[38;5;241m=\u001b[39mobj\u001b[38;5;241m.\u001b[39mindex)\n",
      "File \u001b[1;32m~\\AppData\\Roaming\\Python\\Python39\\site-packages\\pandas\\_libs\\lib.pyx:2834\u001b[0m, in \u001b[0;36mpandas._libs.lib.map_infer\u001b[1;34m()\u001b[0m\n",
      "Cell \u001b[1;32mIn[171], line 7\u001b[0m, in \u001b[0;36m<lambda>\u001b[1;34m(x)\u001b[0m\n\u001b[0;32m      4\u001b[0m \u001b[38;5;28;01mfor\u001b[39;00m m \u001b[38;5;129;01min\u001b[39;00m \u001b[38;5;28mrange\u001b[39m(\u001b[38;5;241m300\u001b[39m,\u001b[38;5;241m655\u001b[39m):\n\u001b[0;32m      5\u001b[0m     \u001b[38;5;66;03m# 获取该年或以前各公司的专利\u001b[39;00m\n\u001b[0;32m      6\u001b[0m     group_ids_t\u001b[38;5;241m=\u001b[39mpatent_listed_id[patent_listed_id[\u001b[38;5;124m'\u001b[39m\u001b[38;5;124m月份数\u001b[39m\u001b[38;5;124m'\u001b[39m] \u001b[38;5;241m<\u001b[39m\u001b[38;5;241m=\u001b[39m m]\u001b[38;5;241m.\u001b[39mgroupby(\u001b[38;5;124m'\u001b[39m\u001b[38;5;124m股票代码\u001b[39m\u001b[38;5;124m'\u001b[39m)[\u001b[38;5;124m'\u001b[39m\u001b[38;5;124m公开（公告）号\u001b[39m\u001b[38;5;124m'\u001b[39m]\u001b[38;5;241m.\u001b[39mapply(\u001b[38;5;28;01mlambda\u001b[39;00m x: x\u001b[38;5;241m.\u001b[39mto_list())\u001b[38;5;241m.\u001b[39mreset_index(name\u001b[38;5;241m=\u001b[39m\u001b[38;5;124m'\u001b[39m\u001b[38;5;124mindex_list\u001b[39m\u001b[38;5;124m'\u001b[39m)\n\u001b[1;32m----> 7\u001b[0m     ids_vec \u001b[38;5;241m=\u001b[39m group_ids_t[\u001b[38;5;124m'\u001b[39m\u001b[38;5;124mindex_list\u001b[39m\u001b[38;5;124m'\u001b[39m]\u001b[38;5;241m.\u001b[39mapply(\u001b[38;5;28;01mlambda\u001b[39;00m x: \u001b[43mdoc_lda_w2v\u001b[49m\u001b[38;5;241;43m.\u001b[39;49m\u001b[43mloc\u001b[49m\u001b[43m[\u001b[49m\u001b[43mdoc_lda_w2v\u001b[49m\u001b[38;5;241;43m.\u001b[39;49m\u001b[43mindex\u001b[49m\u001b[38;5;241;43m.\u001b[39;49m\u001b[43misin\u001b[49m\u001b[43m(\u001b[49m\u001b[43mx\u001b[49m\u001b[43m)\u001b[49m\u001b[43m]\u001b[49m\u001b[38;5;241m.\u001b[39mmean(axis\u001b[38;5;241m=\u001b[39m\u001b[38;5;241m0\u001b[39m))\n\u001b[0;32m      8\u001b[0m     ids_vec\u001b[38;5;241m.\u001b[39mindex \u001b[38;5;241m=\u001b[39m group_ids_t[\u001b[38;5;124m'\u001b[39m\u001b[38;5;124m股票代码\u001b[39m\u001b[38;5;124m'\u001b[39m]\n\u001b[0;32m      9\u001b[0m     co_ids_vec\u001b[38;5;241m=\u001b[39mids_vec[ids_vec\u001b[38;5;241m.\u001b[39msum(axis\u001b[38;5;241m=\u001b[39m\u001b[38;5;241m1\u001b[39m) \u001b[38;5;241m!=\u001b[39m \u001b[38;5;241m0\u001b[39m]\u001b[38;5;66;03m#使用 lda_w2v 模型将公司的专利文档向量化后的表示\u001b[39;00m\n",
      "File \u001b[1;32m~\\AppData\\Roaming\\Python\\Python39\\site-packages\\pandas\\core\\indexing.py:1103\u001b[0m, in \u001b[0;36m_LocationIndexer.__getitem__\u001b[1;34m(self, key)\u001b[0m\n\u001b[0;32m   1100\u001b[0m axis \u001b[38;5;241m=\u001b[39m \u001b[38;5;28mself\u001b[39m\u001b[38;5;241m.\u001b[39maxis \u001b[38;5;129;01mor\u001b[39;00m \u001b[38;5;241m0\u001b[39m\n\u001b[0;32m   1102\u001b[0m maybe_callable \u001b[38;5;241m=\u001b[39m com\u001b[38;5;241m.\u001b[39mapply_if_callable(key, \u001b[38;5;28mself\u001b[39m\u001b[38;5;241m.\u001b[39mobj)\n\u001b[1;32m-> 1103\u001b[0m \u001b[38;5;28;01mreturn\u001b[39;00m \u001b[38;5;28;43mself\u001b[39;49m\u001b[38;5;241;43m.\u001b[39;49m\u001b[43m_getitem_axis\u001b[49m\u001b[43m(\u001b[49m\u001b[43mmaybe_callable\u001b[49m\u001b[43m,\u001b[49m\u001b[43m \u001b[49m\u001b[43maxis\u001b[49m\u001b[38;5;241;43m=\u001b[39;49m\u001b[43maxis\u001b[49m\u001b[43m)\u001b[49m\n",
      "File \u001b[1;32m~\\AppData\\Roaming\\Python\\Python39\\site-packages\\pandas\\core\\indexing.py:1325\u001b[0m, in \u001b[0;36m_LocIndexer._getitem_axis\u001b[1;34m(self, key, axis)\u001b[0m\n\u001b[0;32m   1323\u001b[0m     \u001b[38;5;28;01mreturn\u001b[39;00m \u001b[38;5;28mself\u001b[39m\u001b[38;5;241m.\u001b[39m_get_slice_axis(key, axis\u001b[38;5;241m=\u001b[39maxis)\n\u001b[0;32m   1324\u001b[0m \u001b[38;5;28;01melif\u001b[39;00m com\u001b[38;5;241m.\u001b[39mis_bool_indexer(key):\n\u001b[1;32m-> 1325\u001b[0m     \u001b[38;5;28;01mreturn\u001b[39;00m \u001b[38;5;28;43mself\u001b[39;49m\u001b[38;5;241;43m.\u001b[39;49m\u001b[43m_getbool_axis\u001b[49m\u001b[43m(\u001b[49m\u001b[43mkey\u001b[49m\u001b[43m,\u001b[49m\u001b[43m \u001b[49m\u001b[43maxis\u001b[49m\u001b[38;5;241;43m=\u001b[39;49m\u001b[43maxis\u001b[49m\u001b[43m)\u001b[49m\n\u001b[0;32m   1326\u001b[0m \u001b[38;5;28;01melif\u001b[39;00m is_list_like_indexer(key):\n\u001b[0;32m   1327\u001b[0m     \u001b[38;5;66;03m# an iterable multi-selection\u001b[39;00m\n\u001b[0;32m   1328\u001b[0m     \u001b[38;5;28;01mif\u001b[39;00m \u001b[38;5;129;01mnot\u001b[39;00m (\u001b[38;5;28misinstance\u001b[39m(key, \u001b[38;5;28mtuple\u001b[39m) \u001b[38;5;129;01mand\u001b[39;00m \u001b[38;5;28misinstance\u001b[39m(labels, MultiIndex)):\n",
      "File \u001b[1;32m~\\AppData\\Roaming\\Python\\Python39\\site-packages\\pandas\\core\\indexing.py:1122\u001b[0m, in \u001b[0;36m_LocationIndexer._getbool_axis\u001b[1;34m(self, key, axis)\u001b[0m\n\u001b[0;32m   1120\u001b[0m labels \u001b[38;5;241m=\u001b[39m \u001b[38;5;28mself\u001b[39m\u001b[38;5;241m.\u001b[39mobj\u001b[38;5;241m.\u001b[39m_get_axis(axis)\n\u001b[0;32m   1121\u001b[0m key \u001b[38;5;241m=\u001b[39m check_bool_indexer(labels, key)\n\u001b[1;32m-> 1122\u001b[0m inds \u001b[38;5;241m=\u001b[39m \u001b[43mkey\u001b[49m\u001b[38;5;241;43m.\u001b[39;49m\u001b[43mnonzero\u001b[49m\u001b[43m(\u001b[49m\u001b[43m)\u001b[49m[\u001b[38;5;241m0\u001b[39m]\n\u001b[0;32m   1123\u001b[0m \u001b[38;5;28;01mreturn\u001b[39;00m \u001b[38;5;28mself\u001b[39m\u001b[38;5;241m.\u001b[39mobj\u001b[38;5;241m.\u001b[39m_take_with_is_copy(inds, axis\u001b[38;5;241m=\u001b[39maxis)\n",
      "\u001b[1;31mKeyboardInterrupt\u001b[0m: "
     ]
    }
   ],
   "source": [
    "tech_closeness_results = []\n",
    "final_invest_data_tech = pd.DataFrame()\n",
    "\n",
    "for m in range(300,655):\n",
    "    # 获取该年或以前各公司的专利\n",
    "    group_ids_t=patent_listed_id[patent_listed_id['月份数'] <= m].groupby('股票代码')['公开（公告）号'].apply(lambda x: x.to_list()).reset_index(name='index_list')\n",
    "    ids_vec = group_ids_t['index_list'].apply(lambda x: doc_lda_w2v.loc[doc_lda_w2v.index.isin(x)].mean(axis=0))\n",
    "    ids_vec.index = group_ids_t['股票代码']\n",
    "    co_ids_vec=ids_vec[ids_vec.sum(axis=1) != 0]#使用 lda_w2v 模型将公司的专利文档向量化后的表示\n",
    "    cosine_sim=cosine_sim_df(co_ids_vec, triu=False)#表示公司之间的技术相似度\n",
    "\n",
    "    invest_data_month = trd_month[(trd_month['月份数'] == m) & (trd_month['证券代码'].isin(cosine_sim.columns))]  \n",
    "    print(m,invest_data_month['交易月份'].unique(),len(group_ids_t),len(co_ids_vec), len(invest_data_month))#cosine_sim_arr(co_ids_vec).mean()\n",
    "    \n",
    "    final_invest_data_tech = pd.concat([final_invest_data_tech, invest_data_month])\n",
    "    \n",
    "    # 遍历该年份的每一笔融资\n",
    "    for index, row in invest_data_month.iterrows():\n",
    "        company_id = row['证券代码']\n",
    "        invest_date = row['月收盘日期']\n",
    "        \n",
    "        # 筛选出在融资时间 `t` 之前的融资事件并取最近的一笔\n",
    "        recent_invest = invest_data_month[(invest_data_month['月收盘日期'] < invest_date)].last()#.sort_values(by=['证券代码', '月收盘日期']).drop_duplicates(subset=['证券代码'], keep='last')\n",
    "        \n",
    "        if company_id in cosine_sim.index and not recent_invest.empty:\n",
    "            tech_closeness_scores = cosine_sim.loc[company_id, recent_invest['证券代码']].fillna(0)  # 获取该公司与其他公司的技术相似度 \n",
    "            # 计算加权平均VC_Amount，其他公司在最近一轮融资中的 VC 投资金额，得到目标公司与其技术相关公司之间的平均融资金额加权估计，权重为技术相似度，并对加权结果归一化处理\n",
    "            weighted_vc_amount = np.dot(tech_closeness_scores.values, recent_invest['Mretwd_pre'].values) / tech_closeness_scores.sum()\n",
    "            \n",
    "            tech_closeness_results.append(weighted_vc_amount)\n",
    "        else:\n",
    "            tech_closeness_results.append(np.nan)\n",
    "\n",
    "# 将计算结果添加到final_invest_data_tech\n",
    "# final_invest_data_tech['tech_closeness_weighted_vc_amount'] = tech_closeness_results\n",
    "# final_invest_data_tech.to_excel('data/patent_listed_month_202408.xlsx')"
   ]
  },
  {
   "cell_type": "code",
   "execution_count": null,
   "id": "115d3471-6ef6-4e8f-8b49-17aba65fbdf7",
   "metadata": {},
   "outputs": [
    {
     "name": "stdout",
     "output_type": "stream",
     "text": [
      "1995 60 55 360\n",
      "1996 81 75 509\n",
      "1997 114 103 875\n",
      "1998 154 140 1224\n",
      "1999 218 201 1516\n",
      "2000 301 283 2156\n",
      "2001 441 415 3146\n",
      "2002 553 532 4130\n",
      "2003 685 659 5216\n",
      "2004 809 778 6236\n",
      "2005 950 923 6863\n",
      "2006 1148 1118 6886\n",
      "2007 1385 1351 8357\n",
      "2008 1654 1618 9787\n",
      "2009 1965 1935 10838\n",
      "2010 2263 2231 12353\n",
      "2011 2566 2537 14648\n",
      "2012 2825 2797 16132\n",
      "2013 3076 3047 16627\n",
      "2014 3353 3322 16604\n"
     ]
    }
   ],
   "source": [
    "%%time\n",
    "tech_closeness_results = []\n",
    "final_invest_data_tech = pd.DataFrame()\n",
    "\n",
    "for year in range(1995,2025):\n",
    "    # 获取该年或以前各公司的专利\n",
    "    group_ids_t=patent_listed_id[patent_listed_id['申请年'] <= year].groupby('股票代码')['公开（公告）号'].apply(lambda x: x.to_list()).reset_index(name='index_list')\n",
    "    ids_vec = group_ids_t['index_list'].apply(lambda x: doc_lda_w2v.loc[doc_lda_w2v.index.isin(x)].mean(axis=0))\n",
    "    ids_vec.index = group_ids_t['股票代码']\n",
    "    co_ids_vec=ids_vec[ids_vec.sum(axis=1) != 0]#使用 lda_w2v 模型将公司的专利文档向量化后的表示\n",
    "    cosine_sim=cosine_sim_df(co_ids_vec, triu=False)#表示公司之间的技术相似度\n",
    "\n",
    "    invest_data_year = trd_month[(trd_month['交易年'] ==  year) & (trd_month['证券代码'].isin(cosine_sim.columns))]  \n",
    "    print(year,len(group_ids_t),len(co_ids_vec), len(invest_data_year))#cosine_sim_arr(co_ids_vec).mean()\n",
    "    \n",
    "    final_invest_data_tech = pd.concat([final_invest_data_tech, invest_data_year])\n",
    "    \n",
    "    # 遍历该年份的每一笔融资\n",
    "    for index, row in invest_data_year.iterrows():\n",
    "        company_id = row['证券代码']\n",
    "        invest_date = row['月收盘日期']\n",
    "        \n",
    "        # 筛选出在融资时间 `t` 之前的融资事件并取最近的一笔\n",
    "        recent_invest = invest_data_year[(invest_data_year['月收盘日期'] < invest_date)].sort_values(by=['证券代码', '月收盘日期']).drop_duplicates(subset=['证券代码'], keep='last')\n",
    "        \n",
    "        if company_id in cosine_sim.index and not recent_invest.empty:\n",
    "            tech_closeness_scores = cosine_sim.loc[company_id, recent_invest['证券代码']].fillna(0)  # 获取该公司与其他公司的技术相似度 \n",
    "            # 计算加权平均VC_Amount，其他公司在最近一轮融资中的 VC 投资金额，得到目标公司与其技术相关公司之间的平均融资金额加权估计，权重为技术相似度，并对加权结果归一化处理\n",
    "            weighted_vc_amount = np.dot(tech_closeness_scores.values, recent_invest['Mretwd_pre'].values) / tech_closeness_scores.sum()\n",
    "            \n",
    "            tech_closeness_results.append(weighted_vc_amount)\n",
    "        else:\n",
    "            tech_closeness_results.append(np.nan)\n",
    "\n",
    "# 将计算结果添加到final_invest_data_tech\n",
    "final_invest_data_tech['tech_closeness_weighted_vc_amount'] = tech_closeness_results\n",
    "final_invest_data_tech.to_excel('data/trd_listed_year_month_202408.xlsx')"
   ]
  },
  {
   "cell_type": "code",
   "execution_count": 183,
   "id": "b74f1556-975d-4990-99bb-d565ef3e160c",
   "metadata": {},
   "outputs": [
    {
     "data": {
      "text/plain": [
       "(2024, 4954, 4935, 18217, 391661, 2800)"
      ]
     },
     "execution_count": 183,
     "metadata": {},
     "output_type": "execute_result"
    }
   ],
   "source": [
    "year,len(group_ids_t),len(co_ids_vec), len(invest_data_year),len(final_invest_data_tech),final_invest_data_tech['证券代码'].nunique()"
   ]
  },
  {
   "cell_type": "code",
   "execution_count": 187,
   "id": "5ff1a3f7-e79b-4433-95af-7a746da521a8",
   "metadata": {},
   "outputs": [
    {
     "data": {
      "text/html": [
       "<div>\n",
       "<style scoped>\n",
       "    .dataframe tbody tr th:only-of-type {\n",
       "        vertical-align: middle;\n",
       "    }\n",
       "\n",
       "    .dataframe tbody tr th {\n",
       "        vertical-align: top;\n",
       "    }\n",
       "\n",
       "    .dataframe thead th {\n",
       "        text-align: right;\n",
       "    }\n",
       "</style>\n",
       "<table border=\"1\" class=\"dataframe\">\n",
       "  <thead>\n",
       "    <tr style=\"text-align: right;\">\n",
       "      <th></th>\n",
       "      <th>申请年</th>\n",
       "      <th>申请月份</th>\n",
       "      <th>股票代码</th>\n",
       "      <th>申请号</th>\n",
       "    </tr>\n",
       "  </thead>\n",
       "  <tbody>\n",
       "    <tr>\n",
       "      <th>0</th>\n",
       "      <td>1988</td>\n",
       "      <td>1988-04</td>\n",
       "      <td>600654</td>\n",
       "      <td>1</td>\n",
       "    </tr>\n",
       "    <tr>\n",
       "      <th>1</th>\n",
       "      <td>1988</td>\n",
       "      <td>1988-07</td>\n",
       "      <td>600602</td>\n",
       "      <td>1</td>\n",
       "    </tr>\n",
       "    <tr>\n",
       "      <th>2</th>\n",
       "      <td>1988</td>\n",
       "      <td>1988-10</td>\n",
       "      <td>600658</td>\n",
       "      <td>1</td>\n",
       "    </tr>\n",
       "    <tr>\n",
       "      <th>3</th>\n",
       "      <td>1988</td>\n",
       "      <td>1988-12</td>\n",
       "      <td>600602</td>\n",
       "      <td>1</td>\n",
       "    </tr>\n",
       "    <tr>\n",
       "      <th>4</th>\n",
       "      <td>1990</td>\n",
       "      <td>1990-08</td>\n",
       "      <td>600602</td>\n",
       "      <td>2</td>\n",
       "    </tr>\n",
       "    <tr>\n",
       "      <th>...</th>\n",
       "      <td>...</td>\n",
       "      <td>...</td>\n",
       "      <td>...</td>\n",
       "      <td>...</td>\n",
       "    </tr>\n",
       "    <tr>\n",
       "      <th>204810</th>\n",
       "      <td>2024</td>\n",
       "      <td>2024-07</td>\n",
       "      <td>2775</td>\n",
       "      <td>1</td>\n",
       "    </tr>\n",
       "    <tr>\n",
       "      <th>204811</th>\n",
       "      <td>2024</td>\n",
       "      <td>2024-07</td>\n",
       "      <td>600717</td>\n",
       "      <td>1</td>\n",
       "    </tr>\n",
       "    <tr>\n",
       "      <th>204812</th>\n",
       "      <td>2024</td>\n",
       "      <td>2024-07</td>\n",
       "      <td>600875</td>\n",
       "      <td>1</td>\n",
       "    </tr>\n",
       "    <tr>\n",
       "      <th>204813</th>\n",
       "      <td>2024</td>\n",
       "      <td>2024-07</td>\n",
       "      <td>601022</td>\n",
       "      <td>2</td>\n",
       "    </tr>\n",
       "    <tr>\n",
       "      <th>204814</th>\n",
       "      <td>2024</td>\n",
       "      <td>2024-07</td>\n",
       "      <td>603926</td>\n",
       "      <td>3</td>\n",
       "    </tr>\n",
       "  </tbody>\n",
       "</table>\n",
       "<p>204815 rows × 4 columns</p>\n",
       "</div>"
      ],
      "text/plain": [
       "         申请年     申请月份    股票代码  申请号\n",
       "0       1988  1988-04  600654    1\n",
       "1       1988  1988-07  600602    1\n",
       "2       1988  1988-10  600658    1\n",
       "3       1988  1988-12  600602    1\n",
       "4       1990  1990-08  600602    2\n",
       "...      ...      ...     ...  ...\n",
       "204810  2024  2024-07    2775    1\n",
       "204811  2024  2024-07  600717    1\n",
       "204812  2024  2024-07  600875    1\n",
       "204813  2024  2024-07  601022    2\n",
       "204814  2024  2024-07  603926    3\n",
       "\n",
       "[204815 rows x 4 columns]"
      ]
     },
     "execution_count": 187,
     "metadata": {},
     "output_type": "execute_result"
    }
   ],
   "source": [
    "patent_listed_id.groupby(['申请年','申请月份','股票代码'],as_index=False).申请号.nunique()"
   ]
  },
  {
   "cell_type": "code",
   "execution_count": 190,
   "id": "bc3e3104-c35c-4e15-a9ae-cf585fe4c3e8",
   "metadata": {},
   "outputs": [
    {
     "name": "stdout",
     "output_type": "stream",
     "text": [
      "1995 60 55 360\n",
      "1996 81 75 509\n",
      "1997 114 103 887\n",
      "1998 154 140 1228\n",
      "1999 218 201 1524\n",
      "2000 301 283 2180\n",
      "2001 441 415 3190\n",
      "2002 553 532 4178\n",
      "2003 685 659 5264\n",
      "2004 809 778 6285\n",
      "2005 950 923 6878\n",
      "2006 1148 1118 6909\n",
      "2007 1385 1351 8418\n",
      "2008 1654 1618 9821\n",
      "2009 1965 1935 10885\n",
      "2010 2263 2231 13110\n",
      "2011 2566 2537 16798\n",
      "2012 2825 2797 19394\n",
      "2013 3076 3047 20310\n",
      "2014 3353 3322 20313\n",
      "2015 3633 3606 21225\n",
      "2016 3903 3876 24206\n",
      "2017 4168 4143 28472\n",
      "2018 4351 4329 32666\n",
      "2019 4473 4452 35329\n",
      "2020 4559 4540 38139\n",
      "2021 4857 4838 44438\n",
      "2022 4910 4891 49883\n",
      "2023 4948 4929 54518\n",
      "2024 4954 4935 32663\n",
      "CPU times: total: 3h 13min 9s\n",
      "Wall time: 3h 13min 49s\n"
     ]
    }
   ],
   "source": [
    "%%time\n",
    "trd_month = Trd_month.copy()\n",
    "# trd_month = trd_month[(trd_month['市场类型']==1) |(trd_month['市场类型']==4)]\n",
    "trd_month = trd_month[(trd_month['月收盘价']>2)]\n",
    "trd_month['Ndaytrd_pre'] = trd_month.groupby('证券代码')['月交易天数'].shift(1)\n",
    "trd_month = trd_month[(trd_month['Ndaytrd_pre']>=10)]\n",
    "trd_month['Mretwd_pre'] = trd_month.groupby('证券代码')['考虑现金红利再投资的月个股回报率'].shift(1)\n",
    "trd_month.dropna(subset='Mretwd_pre',inplace=True)\n",
    "trd_month['交易年']=trd_month['月开盘日期'].dt.year\n",
    "\n",
    "tech_closeness_results = []\n",
    "final_invest_data_tech = pd.DataFrame()\n",
    "\n",
    "for year in range(1995,2025):\n",
    "    # 获取该年或以前各公司的专利\n",
    "    group_ids_t=patent_listed_id[patent_listed_id['申请年'] <= year].groupby('股票代码')['公开（公告）号'].apply(lambda x: x.to_list()).reset_index(name='index_list')\n",
    "    ids_vec = group_ids_t['index_list'].apply(lambda x: doc_lda_w2v.loc[doc_lda_w2v.index.isin(x)].mean(axis=0))\n",
    "    ids_vec.index = group_ids_t['股票代码']\n",
    "    co_ids_vec=ids_vec[ids_vec.sum(axis=1) != 0]#使用 lda_w2v 模型将公司的专利文档向量化后的表示\n",
    "    cosine_sim=cosine_sim_df(co_ids_vec, triu=False)#表示公司之间的技术相似度\n",
    "\n",
    "    invest_data_year = trd_month[(trd_month['交易年'] ==  year) & (trd_month['证券代码'].isin(cosine_sim.columns))]     \n",
    "    final_invest_data_tech = pd.concat([final_invest_data_tech, invest_data_year])\n",
    "    invest_data_year_sorted = invest_data_year.sort_values(by=['证券代码', '月收盘日期'])#提取排序，不重复\n",
    "    print(year,len(group_ids_t),len(co_ids_vec), len(invest_data_year))#cosine_sim_arr(co_ids_vec).mean()\n",
    "    # 遍历该年份的每一笔融资\n",
    "    for index, row in invest_data_year.iterrows():\n",
    "        company_id = row['证券代码']\n",
    "        invest_date = row['月收盘日期']\n",
    "        \n",
    "        # 筛选出在融资时间 `t` 之前的融资事件并取最近的一笔\n",
    "        recent_invest = invest_data_year_sorted[invest_data_year_sorted['月收盘日期'] < invest_date].drop_duplicates(subset=['证券代码'], keep='last')\n",
    "        \n",
    "        if company_id in cosine_sim.index and not recent_invest.empty:\n",
    "            tech_closeness_scores = cosine_sim.loc[company_id, recent_invest['证券代码']].fillna(0)  # 获取该公司与其他公司的技术相似度 \n",
    "            # 计算加权平均VC_Amount，其他公司在最近一轮融资中的 VC 投资金额，得到目标公司与其技术相关公司之间的平均融资金额加权估计，权重为技术相似度，并对加权结果归一化处理\n",
    "            weighted_vc_amount = np.dot(tech_closeness_scores.values, recent_invest['Mretwd_pre'].values) / tech_closeness_scores.sum()\n",
    "            \n",
    "            tech_closeness_results.append(weighted_vc_amount)\n",
    "        else:\n",
    "            tech_closeness_results.append(np.nan)\n",
    "\n",
    "# 将计算结果添加到final_invest_data_tech\n",
    "final_invest_data_tech['tech_closeness_weighted_vc_amount'] = tech_closeness_results\n",
    "final_invest_data_tech.to_excel('data/trd_listed_year_month_202408_2.xlsx')"
   ]
  }
 ],
 "metadata": {
  "kernelspec": {
   "display_name": "Python 3 (ipykernel)",
   "language": "python",
   "name": "python3"
  },
  "language_info": {
   "codemirror_mode": {
    "name": "ipython",
    "version": 3
   },
   "file_extension": ".py",
   "mimetype": "text/x-python",
   "name": "python",
   "nbconvert_exporter": "python",
   "pygments_lexer": "ipython3",
   "version": "3.9.13"
  }
 },
 "nbformat": 4,
 "nbformat_minor": 5
}
