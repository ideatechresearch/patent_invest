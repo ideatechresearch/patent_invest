{
 "cells": [
  {
   "cell_type": "code",
   "execution_count": 1,
   "id": "a50cc6ca-2850-49df-982a-c2482551effa",
   "metadata": {},
   "outputs": [],
   "source": [
    "import pandas as pd"
   ]
  },
  {
   "cell_type": "code",
   "execution_count": 2,
   "id": "06c7c208-69d6-42bc-a3ea-c43c6a4f7d11",
   "metadata": {},
   "outputs": [
    {
     "data": {
      "text/plain": [
       "['1985-1999',\n",
       " '2000',\n",
       " '2001',\n",
       " '2002',\n",
       " '2003',\n",
       " '2004',\n",
       " '2005',\n",
       " '2006',\n",
       " '2007',\n",
       " '2008',\n",
       " '2009',\n",
       " '2010',\n",
       " '2011',\n",
       " '2012',\n",
       " '2013',\n",
       " '2014',\n",
       " '2015',\n",
       " '2016']"
      ]
     },
     "execution_count": 2,
     "metadata": {},
     "output_type": "execute_result"
    }
   ],
   "source": [
    "import os,glob\n",
    "from pathlib import Path\n",
    "\n",
    "path=u'X:\\Downloads\\BaiduNetdiskDownload\\INCOPAT中国发明申请数据'\n",
    "os.chdir(path)\n",
    "file_path=os.listdir(path)\n",
    "file_path"
   ]
  },
  {
   "cell_type": "code",
   "execution_count": 22,
   "id": "415858d1-37e0-47c0-8371-01d7deaebda2",
   "metadata": {},
   "outputs": [
    {
     "data": {
      "text/plain": [
       "[]"
      ]
     },
     "execution_count": 22,
     "metadata": {},
     "output_type": "execute_result"
    }
   ],
   "source": [
    "directory = Path(u'X:\\Downloads\\BaiduNetdiskDownload\\INCOPAT中国发明申请数据')\n",
    "file_paths= directory.glob(r'*.xlsx')\n",
    "file_paths_list= list(file_paths)\n",
    "file_paths_list#pd.concat(patent_list, ignore_index=True)"
   ]
  },
  {
   "cell_type": "code",
   "execution_count": 8,
   "id": "a9a0ac25-51c6-4551-b976-d8bfa709e6c8",
   "metadata": {},
   "outputs": [
    {
     "data": {
      "text/plain": [
       "133"
      ]
     },
     "execution_count": 8,
     "metadata": {},
     "output_type": "execute_result"
    }
   ],
   "source": [
    "matching_files=[]\n",
    "for fi in file_path:\n",
    "    matching_files+=glob.glob(os.path.join(fi,f\"*.xlsx\"))\n",
    "len(matching_files)"
   ]
  },
  {
   "cell_type": "code",
   "execution_count": 59,
   "id": "a78c4fca-ffb6-43de-b51e-a31eed5962b6",
   "metadata": {},
   "outputs": [
    {
     "data": {
      "text/plain": [
       "0    发明申请\n",
       "1    发明申请\n",
       "2    发明申请\n",
       "3    发明申请\n",
       "4    发明申请\n",
       "5    发明申请\n",
       "6    发明申请\n",
       "7    发明申请\n",
       "8    发明申请\n",
       "9    发明申请\n",
       "Name: 专利类型, dtype: object"
      ]
     },
     "execution_count": 59,
     "metadata": {},
     "output_type": "execute_result"
    }
   ],
   "source": [
    "pd.read_excel(matching_files[0],nrows=10)['专利类型']"
   ]
  },
  {
   "cell_type": "code",
   "execution_count": 10,
   "id": "5a21a0b2-b648-424b-8066-d962b8d3f2ba",
   "metadata": {
    "scrolled": true
   },
   "outputs": [
    {
     "name": "stderr",
     "output_type": "stream",
     "text": [
      "C:\\Users\\Prime\\AppData\\Roaming\\Python\\Python39\\site-packages\\openpyxl\\styles\\stylesheet.py:226: UserWarning: Workbook contains no default style, apply openpyxl's default\n",
      "  warn(\"Workbook contains no default style, apply openpyxl's default\")\n"
     ]
    },
    {
     "data": {
      "text/plain": [
       "('1985-1999\\\\1-6W.xlsx',\n",
       " ['序号',\n",
       "  '标题 (中文)',\n",
       "  '标题 (英文)',\n",
       "  '摘要 (中文)',\n",
       "  '摘要 (英文)',\n",
       "  '申请人',\n",
       "  '公开（公告）号',\n",
       "  '公开（公告）日',\n",
       "  '申请号',\n",
       "  '申请日',\n",
       "  '公开类型',\n",
       "  '专利类型',\n",
       "  '公开国别',\n",
       "  '链接到incoPat',\n",
       "  '标题（小语种原文）',\n",
       "  '摘要（小语种原文）',\n",
       "  '首项权利要求',\n",
       "  '首权翻译',\n",
       "  '独立权利要求',\n",
       "  '权利要求数量',\n",
       "  '独立权利要求数量',\n",
       "  '从属权利要求数量',\n",
       "  '文献页数',\n",
       "  '首权字数',\n",
       "  '技术功效句',\n",
       "  '技术功效短语',\n",
       "  '技术功效1级',\n",
       "  '技术功效2级',\n",
       "  '技术功效3级',\n",
       "  '技术功效TRIZ参数',\n",
       "  'IPC主分类',\n",
       "  'IPC',\n",
       "  '洛迦诺分类号',\n",
       "  'EC',\n",
       "  'CPC',\n",
       "  'UC',\n",
       "  'FI',\n",
       "  'F-term',\n",
       "  '国民经济分类',\n",
       "  '国民经济行业(主)',\n",
       "  '新兴产业分类',\n",
       "  '新兴产业(主)',\n",
       "  '知识密集型分类',\n",
       "  '学科分类',\n",
       "  '清洁能源产业',\n",
       "  '清洁生产产业',\n",
       "  '数字经济核心产业',\n",
       "  '申请人(翻译)',\n",
       "  '申请人(其他)',\n",
       "  '标准化申请人',\n",
       "  '标准化当前权利人',\n",
       "  '当前权利人',\n",
       "  '第一申请人',\n",
       "  '申请人数量',\n",
       "  '申请人类型',\n",
       "  '申请人国家/地区',\n",
       "  '申请人地址',\n",
       "  '申请人地址(其他)',\n",
       "  '申请人省市代码',\n",
       "  '中国申请人地市',\n",
       "  '中国申请人区县',\n",
       "  '当前专利权人地址',\n",
       "  '工商别名',\n",
       "  '工商英文名',\n",
       "  '工商注册地址',\n",
       "  '工商公司类型',\n",
       "  '工商成立日期',\n",
       "  '工商统一社会信用代码',\n",
       "  '工商注册号',\n",
       "  '工商上市代码',\n",
       "  '工商企业状态',\n",
       "  '发明人',\n",
       "  '发明(设计)人(其他)',\n",
       "  '第一发明人',\n",
       "  '当前发明人名称',\n",
       "  '发明人数量',\n",
       "  '发明人国家/地区',\n",
       "  '发明人地址（原始）',\n",
       "  '发明(设计)人地址（其他）',\n",
       "  '代理机构',\n",
       "  '代理人',\n",
       "  '审查员',\n",
       "  '受让人地址',\n",
       "  'EP指定生效国',\n",
       "  '引证专利',\n",
       "  '被引证专利',\n",
       "  '自引信息',\n",
       "  '他引信息',\n",
       "  '被自引信息',\n",
       "  '被他引信息',\n",
       "  '家族引证',\n",
       "  '家族被引证',\n",
       "  '引证申请人',\n",
       "  '被引证申请人',\n",
       "  '家族引证申请人',\n",
       "  '家族被引证申请人',\n",
       "  '引证次数',\n",
       "  '被引证次数',\n",
       "  '自引次数',\n",
       "  '他引次数',\n",
       "  '被自引次数',\n",
       "  '被他引次数',\n",
       "  '家族引证次数',\n",
       "  '家族被引证次数',\n",
       "  '引证科技文献',\n",
       "  '引证类别',\n",
       "  '被引证类别',\n",
       "  '引证来源',\n",
       "  '被引证来源',\n",
       "  '被引证国别(forward)',\n",
       "  '简单同族',\n",
       "  '扩展同族',\n",
       "  'DocDB同族',\n",
       "  '简单同族ID',\n",
       "  '扩展同族ID',\n",
       "  'DocDB同族ID',\n",
       "  '简单同族个数',\n",
       "  '扩展同族个数',\n",
       "  'DocDB同族个数',\n",
       "  '同族国家/地区',\n",
       "  '优先权信息',\n",
       "  '优先权号',\n",
       "  '优先权日',\n",
       "  '最早优先权日',\n",
       "  '优先权国别',\n",
       "  'PCT国际申请号',\n",
       "  'PCT国际公布号',\n",
       "  'PCT进入国家阶段日',\n",
       "  '母案',\n",
       "  '分案',\n",
       "  '一案双申',\n",
       "  '专利有效性',\n",
       "  '当前法律状态',\n",
       "  '法律状态',\n",
       "  '法律文书日期',\n",
       "  '法律文书编号',\n",
       "  '复审请求人',\n",
       "  '无效请求人',\n",
       "  '复审决定',\n",
       "  '复审无效决定日',\n",
       "  '复审无效法律依据',\n",
       "  '转让次数',\n",
       "  '转让执行日',\n",
       "  '转让人',\n",
       "  '转让人类型',\n",
       "  '受让人',\n",
       "  '受让人类型',\n",
       "  '标准受让人',\n",
       "  '许可次数',\n",
       "  '许可合同备案日期',\n",
       "  '许可人',\n",
       "  '许可人类型',\n",
       "  '被许可人',\n",
       "  '被许可人类型',\n",
       "  '当前被许可人',\n",
       "  '许可类型',\n",
       "  '质押次数',\n",
       "  '出质人',\n",
       "  '质权人',\n",
       "  '当前质权人',\n",
       "  '诉讼次数',\n",
       "  '原告',\n",
       "  '被告',\n",
       "  '诉讼类型',\n",
       "  '法庭',\n",
       "  '海关备案',\n",
       "  '复审决定日',\n",
       "  '无效决定日',\n",
       "  '口审日期',\n",
       "  '法律事件',\n",
       "  '复审请求日',\n",
       "  '许可合同备案号',\n",
       "  '质押号',\n",
       "  '转让登记号',\n",
       "  '转让登记日',\n",
       "  '当前权利人类型',\n",
       "  '首次公开号',\n",
       "  '首次公开日',\n",
       "  '授权公告号',\n",
       "  '授权公告日',\n",
       "  '实质审查生效日',\n",
       "  '进入实质审查时长',\n",
       "  '审查时长',\n",
       "  '失效日',\n",
       "  '专利寿命（月）',\n",
       "  '标准类型',\n",
       "  '标准项目',\n",
       "  '标准号',\n",
       "  '合享价值度',\n",
       "  '技术稳定性',\n",
       "  '技术先进性',\n",
       "  '保护范围',\n",
       "  '文献种类代码',\n",
       "  '预估到期日'])"
      ]
     },
     "execution_count": 10,
     "metadata": {},
     "output_type": "execute_result"
    }
   ],
   "source": [
    "cols=pd.read_excel(matching_files[0],nrows=10).columns.tolist()\n",
    "matching_files[0],cols"
   ]
  },
  {
   "cell_type": "code",
   "execution_count": 58,
   "id": "b0b80342-7921-4319-93cd-f92b2a7242d3",
   "metadata": {},
   "outputs": [
    {
     "data": {
      "text/plain": [
       "0    发明申请\n",
       "1    发明申请\n",
       "2    发明申请\n",
       "3    发明申请\n",
       "4    发明申请\n",
       "5    发明申请\n",
       "6    发明申请\n",
       "7    发明申请\n",
       "8    发明申请\n",
       "9    发明申请\n",
       "Name: 专利类型, dtype: object"
      ]
     },
     "execution_count": 58,
     "metadata": {},
     "output_type": "execute_result"
    }
   ],
   "source": [
    "pd.read_excel(matching_files[-1],nrows=10)['专利类型']"
   ]
  },
  {
   "cell_type": "code",
   "execution_count": 9,
   "id": "cc74e860-0a02-4320-b900-93c3e774dc88",
   "metadata": {
    "scrolled": true
   },
   "outputs": [
    {
     "name": "stderr",
     "output_type": "stream",
     "text": [
      "C:\\Users\\Prime\\AppData\\Roaming\\Python\\Python39\\site-packages\\openpyxl\\styles\\stylesheet.py:226: UserWarning: Workbook contains no default style, apply openpyxl's default\n",
      "  warn(\"Workbook contains no default style, apply openpyxl's default\")\n",
      "C:\\Users\\Prime\\AppData\\Roaming\\Python\\Python39\\site-packages\\openpyxl\\styles\\stylesheet.py:226: UserWarning: Workbook contains no default style, apply openpyxl's default\n",
      "  warn(\"Workbook contains no default style, apply openpyxl's default\")\n"
     ]
    },
    {
     "data": {
      "text/plain": [
       "('2015\\\\2024-10-24 (4).xlsx', '2016\\\\2024-10-30.xlsx')"
      ]
     },
     "execution_count": 9,
     "metadata": {},
     "output_type": "execute_result"
    }
   ],
   "source": [
    "cols_1=pd.read_excel(matching_files[-1],nrows=10).columns.tolist()\n",
    "cols_100=pd.read_excel(matching_files[100],nrows=10).columns.tolist()\n",
    "matching_files[100],matching_files[-1]"
   ]
  },
  {
   "cell_type": "code",
   "execution_count": 16,
   "id": "06e451d1-d406-4e35-b088-fa568a3a798c",
   "metadata": {},
   "outputs": [
    {
     "data": {
      "text/plain": [
       "{'DWPI专利权人/申请人',\n",
       " 'DWPI优先权号',\n",
       " 'DWPI优先权国别',\n",
       " 'DWPI优先权国别-最早',\n",
       " 'DWPI优势',\n",
       " 'DWPI分类号',\n",
       " 'DWPI发明人',\n",
       " 'DWPI同族ID',\n",
       " 'DWPI同族专利',\n",
       " 'DWPI同族国家/地区',\n",
       " 'DWPI手工代码',\n",
       " 'DWPI技术要点',\n",
       " 'DWPI新颖性',\n",
       " 'DWPI标题',\n",
       " 'DWPI生物学机制',\n",
       " 'DWPI生物活性',\n",
       " 'DWPI用途',\n",
       " 'DWPI详细描述'}"
      ]
     },
     "execution_count": 16,
     "metadata": {},
     "output_type": "execute_result"
    }
   ],
   "source": [
    "set(cols_1)-set(cols)"
   ]
  },
  {
   "cell_type": "code",
   "execution_count": 17,
   "id": "957eaee6-662d-4cdd-99a1-a4f3b35e902d",
   "metadata": {},
   "outputs": [
    {
     "data": {
      "text/plain": [
       "{'DWPI专利权人/申请人',\n",
       " 'DWPI优先权号',\n",
       " 'DWPI优先权国别',\n",
       " 'DWPI优先权国别-最早',\n",
       " 'DWPI优势',\n",
       " 'DWPI分类号',\n",
       " 'DWPI发明人',\n",
       " 'DWPI同族ID',\n",
       " 'DWPI同族专利',\n",
       " 'DWPI同族国家/地区',\n",
       " 'DWPI手工代码',\n",
       " 'DWPI技术要点',\n",
       " 'DWPI新颖性',\n",
       " 'DWPI标题',\n",
       " 'DWPI生物学机制',\n",
       " 'DWPI生物活性',\n",
       " 'DWPI用途',\n",
       " 'DWPI详细描述'}"
      ]
     },
     "execution_count": 17,
     "metadata": {},
     "output_type": "execute_result"
    }
   ],
   "source": [
    "set(cols_100)-set(cols)"
   ]
  },
  {
   "cell_type": "code",
   "execution_count": 10,
   "id": "2f9738dc-f5be-4032-bfa1-cb7ce4d469a2",
   "metadata": {},
   "outputs": [],
   "source": [
    "import warnings\n",
    "warnings.filterwarnings(\"ignore\", category=UserWarning, module=\"openpyxl\")"
   ]
  },
  {
   "cell_type": "code",
   "execution_count": 49,
   "id": "9a570294-116f-44a9-a4fa-139285aa5a50",
   "metadata": {},
   "outputs": [
    {
     "name": "stdout",
     "output_type": "stream",
     "text": [
      "..............................................................................\n",
      "2011\\2024-10-09.xlsx:{'DWPI优先权国别', 'DWPI优势', 'DWPI发明人', 'DWPI用途', 'DWPI生物学机制', 'DWPI新颖性', 'DWPI详细描述', 'DWPI分类号', 'DWPI技术要点', 'DWPI优先权号', 'DWPI同族国家/地区', 'DWPI手工代码', 'DWPI优先权国别-最早', 'DWPI标题', 'DWPI专利权人/申请人', 'DWPI同族专利', 'DWPI同族ID', 'DWPI生物活性'},set()\n",
      "........\n",
      "2010\\2024-10-16.xlsx:{'DWPI优先权国别', 'DWPI优势', 'DWPI发明人', 'DWPI用途', 'DWPI生物学机制', 'DWPI新颖性', 'DWPI详细描述', 'DWPI分类号', 'DWPI技术要点', 'DWPI优先权号', 'DWPI同族国家/地区', 'DWPI手工代码', 'DWPI优先权国别-最早', 'DWPI标题', 'DWPI专利权人/申请人', 'DWPI同族专利', 'DWPI同族ID', 'DWPI生物活性'},{'DWPI生物学机制', 'DWPI同族专利', 'DWPI优势', 'DWPI标题', 'DWPI同族ID', 'DWPI新颖性', 'DWPI分类号', 'DWPI技术要点', 'DWPI手工代码', 'DWPI专利权人/申请人', 'DWPI生物活性', 'DWPI用途', 'DWPI优先权国别', 'DWPI发明人', 'DWPI详细描述', 'DWPI同族国家/地区', 'DWPI优先权号', 'DWPI优先权国别-最早'}\n",
      ".......\n",
      "2009\\6-12W.xlsx:{'DWPI优先权国别', 'DWPI优势', 'DWPI发明人', 'DWPI用途', 'DWPI生物学机制', 'DWPI新颖性', 'DWPI详细描述', 'DWPI分类号', 'DWPI技术要点', 'DWPI优先权号', 'DWPI同族国家/地区', 'DWPI手工代码', 'DWPI优先权国别-最早', 'DWPI标题', 'DWPI专利权人/申请人', 'DWPI同族专利', 'DWPI同族ID', 'DWPI生物活性'},set()\n",
      "...........................\n",
      "2003\\2024-10-15.xlsx:{'DWPI优先权国别', 'DWPI优势', 'DWPI发明人', 'DWPI用途', 'DWPI生物学机制', 'DWPI新颖性', 'DWPI详细描述', 'DWPI分类号', 'DWPI技术要点', 'DWPI优先权号', 'DWPI同族国家/地区', 'DWPI手工代码', 'DWPI优先权国别-最早', 'DWPI标题', 'DWPI专利权人/申请人', 'DWPI同族专利', 'DWPI同族ID', 'DWPI生物活性'},{'DWPI生物学机制', 'DWPI同族专利', 'DWPI优势', 'DWPI标题', 'DWPI同族ID', 'DWPI新颖性', 'DWPI分类号', 'DWPI技术要点', 'DWPI手工代码', 'DWPI专利权人/申请人', 'DWPI生物活性', 'DWPI用途', 'DWPI优先权国别', 'DWPI发明人', 'DWPI详细描述', 'DWPI同族国家/地区', 'DWPI优先权号', 'DWPI优先权国别-最早'}\n",
      ".\n",
      "2003\\2024-10-14 (5).xlsx:{'DWPI优先权国别', 'DWPI优势', 'DWPI发明人', 'DWPI用途', 'DWPI生物学机制', 'DWPI新颖性', 'DWPI详细描述', 'DWPI分类号', 'DWPI技术要点', 'DWPI优先权号', 'DWPI同族国家/地区', 'DWPI手工代码', 'DWPI优先权国别-最早', 'DWPI标题', 'DWPI专利权人/申请人', 'DWPI同族专利', 'DWPI同族ID', 'DWPI生物活性'},set()\n",
      "............"
     ]
    }
   ],
   "source": [
    "cols_a,cols_b=set(cols_1),set(cols_1)\n",
    "last_cols=set(cols_1)\n",
    "for f in matching_files[::-1]:\n",
    "    cols=pd.read_excel(f,nrows=1,engine='openpyxl').columns.tolist()\n",
    "    diff=set(cols)^last_cols\n",
    "    if diff:\n",
    "        print(f'\\n{f}:{diff},{set(cols_1)-last_cols}')\n",
    "        cols_a|=set(cols)\n",
    "        cols_b&=set(cols)\n",
    "        last_cols=set(cols)\n",
    "        \n",
    "    print('.', end='', flush=True)"
   ]
  },
  {
   "cell_type": "code",
   "execution_count": 50,
   "id": "40df2699-839e-45c4-80b9-915d4d30fc7b",
   "metadata": {},
   "outputs": [
    {
     "data": {
      "text/plain": [
       "(212, 194)"
      ]
     },
     "execution_count": 50,
     "metadata": {},
     "output_type": "execute_result"
    }
   ],
   "source": [
    "len(cols_a),len(cols_b)"
   ]
  },
  {
   "cell_type": "code",
   "execution_count": 51,
   "id": "18a1dd05-f048-4a03-9f3b-2495f4b73ddc",
   "metadata": {},
   "outputs": [
    {
     "data": {
      "text/plain": [
       "{'DWPI专利权人/申请人',\n",
       " 'DWPI优先权号',\n",
       " 'DWPI优先权国别',\n",
       " 'DWPI优先权国别-最早',\n",
       " 'DWPI优势',\n",
       " 'DWPI分类号',\n",
       " 'DWPI发明人',\n",
       " 'DWPI同族ID',\n",
       " 'DWPI同族专利',\n",
       " 'DWPI同族国家/地区',\n",
       " 'DWPI手工代码',\n",
       " 'DWPI技术要点',\n",
       " 'DWPI新颖性',\n",
       " 'DWPI标题',\n",
       " 'DWPI生物学机制',\n",
       " 'DWPI生物活性',\n",
       " 'DWPI用途',\n",
       " 'DWPI详细描述'}"
      ]
     },
     "execution_count": 51,
     "metadata": {},
     "output_type": "execute_result"
    }
   ],
   "source": [
    "cols_a-cols_b"
   ]
  },
  {
   "cell_type": "code",
   "execution_count": 32,
   "id": "15b717c2-4a9d-4f57-a605-dae95dec1afa",
   "metadata": {},
   "outputs": [
    {
     "data": {
      "text/plain": [
       "['公开（公告）日',\n",
       " '申请日',\n",
       " '优先权日',\n",
       " '最早优先权日',\n",
       " '首次公开日',\n",
       " '授权公告日',\n",
       " '实质审查生效日',\n",
       " '失效日',\n",
       " '预估到期日']"
      ]
     },
     "execution_count": 32,
     "metadata": {},
     "output_type": "execute_result"
    }
   ],
   "source": [
    "df_types=pd.read_csv('E:\\Documents\\Jupyter\\data\\patent_data_types_2024.csv',index_col=0)\n",
    "data_types=df_types[df_types['0']!='datetime64[ns]'].to_dict()['0']\n",
    "parse_dates=df_types[df_types['0']=='datetime64[ns]'].index.to_list()\n",
    "parse_dates"
   ]
  },
  {
   "cell_type": "code",
   "execution_count": 54,
   "id": "9e0aae81-6c43-4871-87f4-c9b58723619d",
   "metadata": {},
   "outputs": [
    {
     "data": {
      "text/plain": [
       "{'DWPI标题', 'EP指定生效国', '当前权利人类型'}"
      ]
     },
     "execution_count": 54,
     "metadata": {},
     "output_type": "execute_result"
    }
   ],
   "source": [
    "set(cols_a)-set(df_types.index)"
   ]
  },
  {
   "cell_type": "code",
   "execution_count": 56,
   "id": "eb2f7281-2201-4464-be2c-18f02d6e09b1",
   "metadata": {},
   "outputs": [
    {
     "data": {
      "text/plain": [
       "{'DWPI标题', 'EP指定生效国', '当前权利人类型', '用途'}"
      ]
     },
     "execution_count": 56,
     "metadata": {},
     "output_type": "execute_result"
    }
   ],
   "source": [
    "set(cols_a)^set(df_types.index)"
   ]
  },
  {
   "cell_type": "code",
   "execution_count": 61,
   "id": "80fec1a5-6d67-4945-8f7c-45c37bdd2265",
   "metadata": {},
   "outputs": [
    {
     "data": {
      "text/plain": [
       "True"
      ]
     },
     "execution_count": 61,
     "metadata": {},
     "output_type": "execute_result"
    }
   ],
   "source": [
    "'用途' in df_types.index"
   ]
  },
  {
   "cell_type": "code",
   "execution_count": 62,
   "id": "05430e6b-9519-4b4b-a864-a8334d9e1dde",
   "metadata": {},
   "outputs": [
    {
     "data": {
      "text/plain": [
       "Index(['序号', '标题 (中文)', '标题 (英文)', '摘要 (中文)', '摘要 (英文)', '申请人', '公开（公告）号',\n",
       "       '公开（公告）日', '申请号', '申请日',\n",
       "       ...\n",
       "       'DWPI分类号', 'DWPI手工代码', 'DWPI同族专利', 'DWPI同族国家/地区', 'DWPI同族ID',\n",
       "       'DWPI专利权人/申请人', 'DWPI发明人', 'DWPI优先权国别-最早', 'DWPI优先权号', 'DWPI优先权国别'],\n",
       "      dtype='object', length=210)"
      ]
     },
     "execution_count": 62,
     "metadata": {},
     "output_type": "execute_result"
    }
   ],
   "source": [
    "df_types.index"
   ]
  },
  {
   "cell_type": "code",
   "execution_count": 18,
   "id": "b03031e1-bcc9-43d4-b293-6b11923e7d74",
   "metadata": {},
   "outputs": [
    {
     "data": {
      "text/plain": [
       "609595"
      ]
     },
     "execution_count": 18,
     "metadata": {},
     "output_type": "execute_result"
    }
   ],
   "source": [
    "gx=pd.read_csv('data\\\\source\\高新技术企业基本信息_202408.csv',usecols=['企业名称'])\n",
    "gx_companies=set(gx['企业名称'].str.strip())\n",
    "len(gx_companies)"
   ]
  },
  {
   "cell_type": "code",
   "execution_count": null,
   "id": "c76703f7-aee3-4c2d-a63d-2691dce8d829",
   "metadata": {},
   "outputs": [],
   "source": [
    "from sqlalchemy import create_engine,text\n",
    "from urllib.parse import quote_plus\n",
    "SQLALCHEMY_DATABASE_URI = f'mysql+pymysql://technet:{quote_plus(\"***\")}@***.mysql.rds.aliyuncs.com:3306/technet?charset=utf8mb4'\n",
    "engine = create_engine(SQLALCHEMY_DATABASE_URI)  \n",
    "conn = engine.connect()\n",
    "# connect_timeout=600,  # 设置连接超时为600秒\n",
    "# read_timeout=600,  # 设置读取超时为600秒\n",
    "# write_timeout=600  # 设置写入超时为600秒"
   ]
  },
  {
   "cell_type": "markdown",
   "id": "67728990-a12f-4bd0-bcb0-3e2a5ec6a99a",
   "metadata": {},
   "source": [
    "CREATE TABLE `patent_incopat_1985_2016_202411` (\n",
    "  `序号` bigint(20) unsigned NOT NULL,\n",
    "  `标题 (中文)` text,\n",
    "  `标题 (英文)` text,\n",
    "  `摘要 (中文)` mediumtext,\n",
    "  `摘要 (英文)` mediumtext,\n",
    "  `申请人` text,\n",
    "  `公开（公告）号` tinytext,\n",
    "  `公开（公告）日` datetime DEFAULT NULL,\n",
    "  `申请号` varchar(32) DEFAULT NULL,\n",
    "  `申请日` datetime DEFAULT NULL,\n",
    "  `公开类型` tinytext,\n",
    "  `专利类型` tinytext,\n",
    "  `公开国别` tinytext,\n",
    "  `链接到incoPat` tinytext,\n",
    "  `标题（小语种原文）` text,\n",
    "  `摘要（小语种原文）` text,\n",
    "  `首项权利要求` mediumtext,\n",
    "  `首权翻译` mediumtext,\n",
    "  `独立权利要求` mediumtext,\n",
    "  `权利要求数量` double DEFAULT NULL,\n",
    "  `独立权利要求数量` double DEFAULT NULL,\n",
    "  `从属权利要求数量` double DEFAULT NULL,\n",
    "  `文献页数` double DEFAULT NULL,\n",
    "  `首权字数` double DEFAULT NULL,\n",
    "  `技术功效句` text,\n",
    "  `技术功效短语` text,\n",
    "  `技术功效1级` text,\n",
    "  `技术功效2级` text,\n",
    "  `技术功效3级` text,\n",
    "  `技术功效TRIZ参数` tinytext,\n",
    "  `用途` text,\n",
    "  `IPC主分类` tinytext,\n",
    "  `IPC` text,\n",
    "  `洛迦诺分类号` tinytext,\n",
    "  `EC` text,\n",
    "  `CPC` text,\n",
    "  `UC` text,\n",
    "  `FI` text,\n",
    "  `F-term` text,\n",
    "  `国民经济分类` text,\n",
    "  `国民经济行业(主)` text,\n",
    "  `新兴产业分类` text,\n",
    "  `新兴产业(主)` tinytext,\n",
    "  `知识密集型分类` text,\n",
    "  `学科分类` text,\n",
    "  `清洁能源产业` text,\n",
    "  `清洁生产产业` text,\n",
    "  `数字经济核心产业` text,\n",
    "  `申请人(翻译)` text,\n",
    "  `申请人(其他)` text,\n",
    "  `标准化申请人` text,\n",
    "  `标准化当前权利人` text,\n",
    "  `当前权利人` text,\n",
    "  `当前权利人类型` tinytext,\n",
    "  `第一申请人` text,\n",
    "  `申请人数量` float DEFAULT NULL,\n",
    "  `申请人类型` tinytext,\n",
    "  `申请人国家/地区` tinytext,\n",
    "  `申请人地址` text,\n",
    "  `申请人地址(其他)` text,\n",
    "  `申请人省市代码` tinytext,\n",
    "  `中国申请人地市` tinytext,\n",
    "  `中国申请人区县` tinytext,\n",
    "  `当前专利权人地址` text,\n",
    "  `工商别名` text,\n",
    "  `工商英文名` text,\n",
    "  `工商注册地址` text,\n",
    "  `工商公司类型` text,\n",
    "  `工商成立日期` text,\n",
    "  `工商统一社会信用代码` text,\n",
    "  `工商注册号` text,\n",
    "  `工商上市代码` text,\n",
    "  `工商企业状态` text,\n",
    "  `发明人` text,\n",
    "  `发明(设计)人(其他)` text,\n",
    "  `第一发明人` text,\n",
    "  `当前发明人名称` text,\n",
    "  `发明人数量` float DEFAULT NULL,\n",
    "  `发明人国家/地区` tinytext,\n",
    "  `发明人地址（原始）` text,\n",
    "  `发明(设计)人地址（其他）` text,\n",
    "  `代理机构` text,\n",
    "  `代理人` text,\n",
    "  `审查员` text,\n",
    "  `受让人地址` text,\n",
    "  `引证专利` text,\n",
    "  `被引证专利` text,\n",
    "  `自引信息` text,\n",
    "  `他引信息` text,\n",
    "  `被自引信息` text,\n",
    "  `被他引信息` text,\n",
    "  `家族引证` text,\n",
    "  `家族被引证` text,\n",
    "  `引证申请人` text,\n",
    "  `被引证申请人` text,\n",
    "  `家族引证申请人` text,\n",
    "  `家族被引证申请人` text,\n",
    "  `引证次数` float DEFAULT NULL,\n",
    "  `被引证次数` float DEFAULT NULL,\n",
    "  `自引次数` float DEFAULT NULL,\n",
    "  `他引次数` float DEFAULT NULL,\n",
    "  `被自引次数` float DEFAULT NULL,\n",
    "  `被他引次数` float DEFAULT NULL,\n",
    "  `家族引证次数` float DEFAULT NULL,\n",
    "  `家族被引证次数` float DEFAULT NULL,\n",
    "  `引证科技文献` text,\n",
    "  `引证类别` text,\n",
    "  `被引证类别` text,\n",
    "  `引证来源` text,\n",
    "  `被引证来源` text,\n",
    "  `被引证国别(forward)` tinytext,\n",
    "  `专利有效性` tinytext,\n",
    "  `当前法律状态` tinytext,\n",
    "  `法律状态` mediumtext,\n",
    "  `法律文书日期` text,\n",
    "  `法律文书编号` text,\n",
    "  `复审请求人` text,\n",
    "  `无效请求人` text,\n",
    "  `复审决定` text,\n",
    "  `复审无效决定日` text,\n",
    "  `复审无效法律依据` text,\n",
    "  `转让次数` float DEFAULT NULL,\n",
    "  `转让执行日` text,\n",
    "  `转让人` text,\n",
    "  `转让人类型` tinytext,\n",
    "  `受让人` text,\n",
    "  `受让人类型` tinytext,\n",
    "  `标准受让人` text,\n",
    "  `许可次数` float DEFAULT NULL,\n",
    "  `许可合同备案日期` text,\n",
    "  `许可人` text,\n",
    "  `许可人类型` tinytext,\n",
    "  `被许可人` text,\n",
    "  `被许可人类型` tinytext,\n",
    "  `当前被许可人` text,\n",
    "  `许可类型` tinytext,\n",
    "  `质押次数` float DEFAULT NULL,\n",
    "  `出质人` text,\n",
    "  `质权人` tinytext,\n",
    "  `当前质权人` tinytext,\n",
    "  `诉讼次数` float DEFAULT NULL,\n",
    "  `原告` text,\n",
    "  `被告` text,\n",
    "  `诉讼类型` tinytext,\n",
    "  `法庭` text,\n",
    "  `海关备案` float DEFAULT NULL,\n",
    "  `复审决定日` tinytext,\n",
    "  `无效决定日` tinytext,\n",
    "  `口审日期` tinytext,\n",
    "  `法律事件` tinytext,\n",
    "  `复审请求日` tinytext,\n",
    "  `许可合同备案号` text,\n",
    "  `质押号` text,\n",
    "  `转让登记号` text,\n",
    "  `转让登记日` tinytext,\n",
    "  `简单同族` text,\n",
    "  `扩展同族` text,\n",
    "  `DocDB同族` text,\n",
    "  `简单同族ID` tinytext,\n",
    "  `扩展同族ID` tinytext,\n",
    "  `DocDB同族ID` tinytext,\n",
    "  `简单同族个数` int(11) DEFAULT NULL,\n",
    "  `扩展同族个数` int(11) DEFAULT NULL,\n",
    "  `DocDB同族个数` int(11) DEFAULT NULL,\n",
    "  `同族国家/地区` text,\n",
    "  `优先权信息` text,\n",
    "  `优先权号` text,\n",
    "  `优先权日` datetime DEFAULT NULL,\n",
    "  `最早优先权日` datetime DEFAULT NULL,\n",
    "  `优先权国别` tinytext,\n",
    "  `PCT国际申请号` tinytext,\n",
    "  `PCT国际公布号` tinytext,\n",
    "  `PCT进入国家阶段日` datetime DEFAULT NULL,\n",
    "  `母案` tinytext,\n",
    "  `分案` text,\n",
    "  `一案双申` tinytext,\n",
    "  `首次公开号` tinytext,\n",
    "  `首次公开日` datetime DEFAULT NULL,\n",
    "  `授权公告号` tinytext,\n",
    "  `授权公告日` datetime DEFAULT NULL,\n",
    "  `实质审查生效日` datetime DEFAULT NULL,\n",
    "  `进入实质审查时长` double DEFAULT NULL,\n",
    "  `审查时长` double DEFAULT NULL,\n",
    "  `失效日` datetime DEFAULT NULL,\n",
    "  `专利寿命（月）` float DEFAULT NULL,\n",
    "  `标准类型` tinytext,\n",
    "  `标准项目` text,\n",
    "  `标准号` text,\n",
    "  `合享价值度` tinyint(4) DEFAULT NULL,\n",
    "  `技术稳定性` tinyint(4) DEFAULT NULL,\n",
    "  `技术先进性` tinyint(4) DEFAULT NULL,\n",
    "  `保护范围` tinyint(4) DEFAULT NULL,\n",
    "  `文献种类代码` tinytext,\n",
    "  `预估到期日` tinytext,\n",
    "  `DWPI用途` text,\n",
    "  `DWPI优势` text,\n",
    "  `DWPI新颖性` text,\n",
    "  `DWPI详细描述` text,\n",
    "  `DWPI生物活性` text,\n",
    "  `DWPI生物学机制` text,\n",
    "  `DWPI技术要点` text,\n",
    "  `DWPI分类号` tinytext,\n",
    "  `DWPI手工代码` text,\n",
    "  `DWPI同族专利` text,\n",
    "  `DWPI同族国家/地区` tinytext,\n",
    "  `DWPI同族ID` tinytext,\n",
    "  `DWPI专利权人/申请人` text,\n",
    "  `DWPI发明人` text,\n",
    "  `DWPI优先权国别-最早` tinytext,\n",
    "  `DWPI优先权号` text,\n",
    "  `DWPI优先权国别` tinytext,\n",
    "  `DWPI标题` tinytext,\n",
    "  `EP指定生效国` tinytext,\n",
    "  KEY `申请号` (`申请号`)\n",
    ") ENGINE=InnoDB DEFAULT CHARSET=utf8mb4"
   ]
  },
  {
   "cell_type": "code",
   "execution_count": 53,
   "id": "4c2bb92e-b260-44e8-b421-2d78eaaedb28",
   "metadata": {},
   "outputs": [
    {
     "data": {
      "text/plain": [
       "[('序号', 'bigint(20) unsigned', 'NO', 'PRI', None, ''),\n",
       " ('标题 (中文)', 'text', 'YES', '', None, ''),\n",
       " ('标题 (英文)', 'text', 'YES', '', None, ''),\n",
       " ('摘要 (中文)', 'mediumtext', 'YES', '', None, ''),\n",
       " ('摘要 (英文)', 'mediumtext', 'YES', '', None, ''),\n",
       " ('申请人', 'text', 'YES', '', None, ''),\n",
       " ('公开（公告）号', 'tinytext', 'YES', '', None, ''),\n",
       " ('公开（公告）日', 'datetime', 'YES', '', None, ''),\n",
       " ('申请号', 'varchar(32)', 'YES', 'MUL', None, ''),\n",
       " ('申请日', 'datetime', 'YES', '', None, ''),\n",
       " ('公开类型', 'tinytext', 'YES', '', None, ''),\n",
       " ('专利类型', 'tinytext', 'YES', '', None, ''),\n",
       " ('公开国别', 'tinytext', 'YES', '', None, ''),\n",
       " ('链接到incoPat', 'tinytext', 'YES', '', None, ''),\n",
       " ('标题（小语种原文）', 'text', 'YES', '', None, ''),\n",
       " ('摘要（小语种原文）', 'text', 'YES', '', None, ''),\n",
       " ('首项权利要求', 'mediumtext', 'YES', '', None, ''),\n",
       " ('首权翻译', 'mediumtext', 'YES', '', None, ''),\n",
       " ('独立权利要求', 'mediumtext', 'YES', '', None, ''),\n",
       " ('权利要求数量', 'double', 'YES', '', None, ''),\n",
       " ('独立权利要求数量', 'double', 'YES', '', None, ''),\n",
       " ('从属权利要求数量', 'double', 'YES', '', None, ''),\n",
       " ('文献页数', 'double', 'YES', '', None, ''),\n",
       " ('首权字数', 'double', 'YES', '', None, ''),\n",
       " ('技术功效句', 'text', 'YES', '', None, ''),\n",
       " ('技术功效短语', 'text', 'YES', '', None, ''),\n",
       " ('技术功效1级', 'text', 'YES', '', None, ''),\n",
       " ('技术功效2级', 'text', 'YES', '', None, ''),\n",
       " ('技术功效3级', 'text', 'YES', '', None, ''),\n",
       " ('技术功效TRIZ参数', 'tinytext', 'YES', '', None, ''),\n",
       " ('IPC主分类', 'tinytext', 'YES', '', None, ''),\n",
       " ('IPC', 'text', 'YES', '', None, ''),\n",
       " ('洛迦诺分类号', 'tinytext', 'YES', '', None, ''),\n",
       " ('EC', 'text', 'YES', '', None, ''),\n",
       " ('CPC', 'text', 'YES', '', None, ''),\n",
       " ('UC', 'text', 'YES', '', None, ''),\n",
       " ('FI', 'text', 'YES', '', None, ''),\n",
       " ('F-term', 'text', 'YES', '', None, ''),\n",
       " ('国民经济分类', 'text', 'YES', '', None, ''),\n",
       " ('国民经济行业(主)', 'text', 'YES', '', None, ''),\n",
       " ('新兴产业分类', 'text', 'YES', '', None, ''),\n",
       " ('新兴产业(主)', 'tinytext', 'YES', '', None, ''),\n",
       " ('知识密集型分类', 'text', 'YES', '', None, ''),\n",
       " ('学科分类', 'text', 'YES', '', None, ''),\n",
       " ('清洁能源产业', 'text', 'YES', '', None, ''),\n",
       " ('清洁生产产业', 'text', 'YES', '', None, ''),\n",
       " ('数字经济核心产业', 'text', 'YES', '', None, ''),\n",
       " ('申请人(翻译)', 'text', 'YES', '', None, ''),\n",
       " ('申请人(其他)', 'text', 'YES', '', None, ''),\n",
       " ('标准化申请人', 'text', 'YES', '', None, ''),\n",
       " ('标准化当前权利人', 'text', 'YES', '', None, ''),\n",
       " ('当前权利人', 'text', 'YES', '', None, ''),\n",
       " ('第一申请人', 'text', 'YES', '', None, ''),\n",
       " ('申请人数量', 'float', 'YES', '', None, ''),\n",
       " ('申请人类型', 'tinytext', 'YES', '', None, ''),\n",
       " ('申请人国家/地区', 'tinytext', 'YES', '', None, ''),\n",
       " ('申请人地址', 'text', 'YES', '', None, ''),\n",
       " ('申请人地址(其他)', 'text', 'YES', '', None, ''),\n",
       " ('申请人省市代码', 'tinytext', 'YES', '', None, ''),\n",
       " ('中国申请人地市', 'tinytext', 'YES', '', None, ''),\n",
       " ('中国申请人区县', 'tinytext', 'YES', '', None, ''),\n",
       " ('当前专利权人地址', 'text', 'YES', '', None, ''),\n",
       " ('工商别名', 'text', 'YES', '', None, ''),\n",
       " ('工商英文名', 'text', 'YES', '', None, ''),\n",
       " ('工商注册地址', 'text', 'YES', '', None, ''),\n",
       " ('工商公司类型', 'text', 'YES', '', None, ''),\n",
       " ('工商成立日期', 'text', 'YES', '', None, ''),\n",
       " ('工商统一社会信用代码', 'text', 'YES', '', None, ''),\n",
       " ('工商注册号', 'text', 'YES', '', None, ''),\n",
       " ('工商上市代码', 'text', 'YES', '', None, ''),\n",
       " ('工商企业状态', 'text', 'YES', '', None, ''),\n",
       " ('发明人', 'text', 'YES', '', None, ''),\n",
       " ('发明(设计)人(其他)', 'text', 'YES', '', None, ''),\n",
       " ('第一发明人', 'text', 'YES', '', None, ''),\n",
       " ('当前发明人名称', 'text', 'YES', '', None, ''),\n",
       " ('发明人数量', 'float', 'YES', '', None, ''),\n",
       " ('发明人国家/地区', 'tinytext', 'YES', '', None, ''),\n",
       " ('发明人地址（原始）', 'text', 'YES', '', None, ''),\n",
       " ('发明(设计)人地址（其他）', 'text', 'YES', '', None, ''),\n",
       " ('代理机构', 'text', 'YES', '', None, ''),\n",
       " ('代理人', 'text', 'YES', '', None, ''),\n",
       " ('审查员', 'text', 'YES', '', None, ''),\n",
       " ('受让人地址', 'text', 'YES', '', None, ''),\n",
       " ('引证专利', 'text', 'YES', '', None, ''),\n",
       " ('被引证专利', 'text', 'YES', '', None, ''),\n",
       " ('自引信息', 'text', 'YES', '', None, ''),\n",
       " ('他引信息', 'text', 'YES', '', None, ''),\n",
       " ('被自引信息', 'text', 'YES', '', None, ''),\n",
       " ('被他引信息', 'text', 'YES', '', None, ''),\n",
       " ('家族引证', 'text', 'YES', '', None, ''),\n",
       " ('家族被引证', 'text', 'YES', '', None, ''),\n",
       " ('引证申请人', 'text', 'YES', '', None, ''),\n",
       " ('被引证申请人', 'text', 'YES', '', None, ''),\n",
       " ('家族引证申请人', 'text', 'YES', '', None, ''),\n",
       " ('家族被引证申请人', 'text', 'YES', '', None, ''),\n",
       " ('引证次数', 'float', 'YES', '', None, ''),\n",
       " ('被引证次数', 'float', 'YES', '', None, ''),\n",
       " ('自引次数', 'float', 'YES', '', None, ''),\n",
       " ('他引次数', 'float', 'YES', '', None, ''),\n",
       " ('被自引次数', 'float', 'YES', '', None, ''),\n",
       " ('被他引次数', 'float', 'YES', '', None, ''),\n",
       " ('家族引证次数', 'float', 'YES', '', None, ''),\n",
       " ('家族被引证次数', 'float', 'YES', '', None, ''),\n",
       " ('引证科技文献', 'text', 'YES', '', None, ''),\n",
       " ('引证类别', 'text', 'YES', '', None, ''),\n",
       " ('被引证类别', 'text', 'YES', '', None, ''),\n",
       " ('引证来源', 'text', 'YES', '', None, ''),\n",
       " ('被引证来源', 'text', 'YES', '', None, ''),\n",
       " ('被引证国别(forward)', 'tinytext', 'YES', '', None, ''),\n",
       " ('专利有效性', 'tinytext', 'YES', '', None, ''),\n",
       " ('当前法律状态', 'tinytext', 'YES', '', None, ''),\n",
       " ('法律状态', 'mediumtext', 'YES', '', None, ''),\n",
       " ('法律文书日期', 'text', 'YES', '', None, ''),\n",
       " ('法律文书编号', 'text', 'YES', '', None, ''),\n",
       " ('复审请求人', 'text', 'YES', '', None, ''),\n",
       " ('无效请求人', 'text', 'YES', '', None, ''),\n",
       " ('复审决定', 'text', 'YES', '', None, ''),\n",
       " ('复审无效决定日', 'text', 'YES', '', None, ''),\n",
       " ('复审无效法律依据', 'text', 'YES', '', None, ''),\n",
       " ('转让次数', 'float', 'YES', '', None, ''),\n",
       " ('转让执行日', 'text', 'YES', '', None, ''),\n",
       " ('转让人', 'text', 'YES', '', None, ''),\n",
       " ('转让人类型', 'tinytext', 'YES', '', None, ''),\n",
       " ('受让人', 'text', 'YES', '', None, ''),\n",
       " ('受让人类型', 'tinytext', 'YES', '', None, ''),\n",
       " ('标准受让人', 'text', 'YES', '', None, ''),\n",
       " ('许可次数', 'float', 'YES', '', None, ''),\n",
       " ('许可合同备案日期', 'text', 'YES', '', None, ''),\n",
       " ('许可人', 'text', 'YES', '', None, ''),\n",
       " ('许可人类型', 'tinytext', 'YES', '', None, ''),\n",
       " ('被许可人', 'text', 'YES', '', None, ''),\n",
       " ('被许可人类型', 'tinytext', 'YES', '', None, ''),\n",
       " ('当前被许可人', 'text', 'YES', '', None, ''),\n",
       " ('许可类型', 'tinytext', 'YES', '', None, ''),\n",
       " ('质押次数', 'float', 'YES', '', None, ''),\n",
       " ('出质人', 'text', 'YES', '', None, ''),\n",
       " ('质权人', 'tinytext', 'YES', '', None, ''),\n",
       " ('当前质权人', 'tinytext', 'YES', '', None, ''),\n",
       " ('诉讼次数', 'float', 'YES', '', None, ''),\n",
       " ('原告', 'text', 'YES', '', None, ''),\n",
       " ('被告', 'text', 'YES', '', None, ''),\n",
       " ('诉讼类型', 'tinytext', 'YES', '', None, ''),\n",
       " ('法庭', 'text', 'YES', '', None, ''),\n",
       " ('海关备案', 'float', 'YES', '', None, ''),\n",
       " ('复审决定日', 'tinytext', 'YES', '', None, ''),\n",
       " ('无效决定日', 'tinytext', 'YES', '', None, ''),\n",
       " ('口审日期', 'tinytext', 'YES', '', None, ''),\n",
       " ('法律事件', 'tinytext', 'YES', '', None, ''),\n",
       " ('复审请求日', 'tinytext', 'YES', '', None, ''),\n",
       " ('许可合同备案号', 'text', 'YES', '', None, ''),\n",
       " ('质押号', 'text', 'YES', '', None, ''),\n",
       " ('转让登记号', 'text', 'YES', '', None, ''),\n",
       " ('转让登记日', 'tinytext', 'YES', '', None, ''),\n",
       " ('简单同族', 'text', 'YES', '', None, ''),\n",
       " ('扩展同族', 'text', 'YES', '', None, ''),\n",
       " ('DocDB同族', 'text', 'YES', '', None, ''),\n",
       " ('简单同族ID', 'tinytext', 'YES', '', None, ''),\n",
       " ('扩展同族ID', 'tinytext', 'YES', '', None, ''),\n",
       " ('DocDB同族ID', 'tinytext', 'YES', '', None, ''),\n",
       " ('简单同族个数', 'int(11)', 'YES', '', None, ''),\n",
       " ('扩展同族个数', 'int(11)', 'YES', '', None, ''),\n",
       " ('DocDB同族个数', 'int(11)', 'YES', '', None, ''),\n",
       " ('同族国家/地区', 'text', 'YES', '', None, ''),\n",
       " ('优先权信息', 'text', 'YES', '', None, ''),\n",
       " ('优先权号', 'text', 'YES', '', None, ''),\n",
       " ('优先权日', 'datetime', 'YES', '', None, ''),\n",
       " ('最早优先权日', 'datetime', 'YES', '', None, ''),\n",
       " ('优先权国别', 'tinytext', 'YES', '', None, ''),\n",
       " ('PCT国际申请号', 'tinytext', 'YES', '', None, ''),\n",
       " ('PCT国际公布号', 'tinytext', 'YES', '', None, ''),\n",
       " ('PCT进入国家阶段日', 'datetime', 'YES', '', None, ''),\n",
       " ('母案', 'tinytext', 'YES', '', None, ''),\n",
       " ('分案', 'text', 'YES', '', None, ''),\n",
       " ('一案双申', 'tinytext', 'YES', '', None, ''),\n",
       " ('首次公开号', 'tinytext', 'YES', '', None, ''),\n",
       " ('首次公开日', 'datetime', 'YES', '', None, ''),\n",
       " ('授权公告号', 'tinytext', 'YES', '', None, ''),\n",
       " ('授权公告日', 'datetime', 'YES', '', None, ''),\n",
       " ('实质审查生效日', 'datetime', 'YES', '', None, ''),\n",
       " ('进入实质审查时长', 'double', 'YES', '', None, ''),\n",
       " ('审查时长', 'double', 'YES', '', None, ''),\n",
       " ('失效日', 'datetime', 'YES', '', None, ''),\n",
       " ('专利寿命（月）', 'float', 'YES', '', None, ''),\n",
       " ('标准类型', 'tinytext', 'YES', '', None, ''),\n",
       " ('标准项目', 'text', 'YES', '', None, ''),\n",
       " ('标准号', 'text', 'YES', '', None, ''),\n",
       " ('合享价值度', 'tinyint(4)', 'YES', '', None, ''),\n",
       " ('技术稳定性', 'tinyint(4)', 'YES', '', None, ''),\n",
       " ('技术先进性', 'tinyint(4)', 'YES', '', None, ''),\n",
       " ('保护范围', 'tinyint(4)', 'YES', '', None, ''),\n",
       " ('文献种类代码', 'tinytext', 'YES', '', None, ''),\n",
       " ('预估到期日', 'tinytext', 'YES', '', None, ''),\n",
       " ('DWPI用途', 'text', 'YES', '', None, ''),\n",
       " ('DWPI优势', 'text', 'YES', '', None, ''),\n",
       " ('DWPI新颖性', 'text', 'YES', '', None, ''),\n",
       " ('DWPI详细描述', 'text', 'YES', '', None, ''),\n",
       " ('DWPI生物活性', 'text', 'YES', '', None, ''),\n",
       " ('DWPI生物学机制', 'text', 'YES', '', None, ''),\n",
       " ('DWPI技术要点', 'text', 'YES', '', None, ''),\n",
       " ('DWPI分类号', 'tinytext', 'YES', '', None, ''),\n",
       " ('DWPI手工代码', 'text', 'YES', '', None, ''),\n",
       " ('DWPI同族专利', 'text', 'YES', '', None, ''),\n",
       " ('DWPI同族国家/地区', 'tinytext', 'YES', '', None, ''),\n",
       " ('DWPI同族ID', 'tinytext', 'YES', '', None, ''),\n",
       " ('DWPI专利权人/申请人', 'text', 'YES', '', None, ''),\n",
       " ('DWPI发明人', 'text', 'YES', '', None, ''),\n",
       " ('DWPI优先权国别-最早', 'tinytext', 'YES', '', None, ''),\n",
       " ('DWPI优先权号', 'text', 'YES', '', None, ''),\n",
       " ('DWPI优先权国别', 'tinytext', 'YES', '', None, ''),\n",
       " ('DWPI标题', 'tinytext', 'YES', '', None, ''),\n",
       " ('EP指定生效国', 'tinytext', 'YES', '', None, ''),\n",
       " ('当前权利人类型', 'tinytext', 'YES', '', None, '')]"
      ]
     },
     "execution_count": 53,
     "metadata": {},
     "output_type": "execute_result"
    }
   ],
   "source": [
    "data_des=conn.execute(text(\"describe patent_incopat_2016b_202411;\")).fetchall()\n",
    "data_des"
   ]
  },
  {
   "cell_type": "code",
   "execution_count": 54,
   "id": "29f693e0-7dc1-4f41-93a4-7d80dc9d0e11",
   "metadata": {},
   "outputs": [
    {
     "data": {
      "text/plain": [
       "212"
      ]
     },
     "execution_count": 54,
     "metadata": {},
     "output_type": "execute_result"
    }
   ],
   "source": [
    "data_columns=[x[0] for x in data_des]\n",
    "len(data_columns)"
   ]
  },
  {
   "cell_type": "code",
   "execution_count": 55,
   "id": "497f5ed9-c71b-4623-8232-ca3a3627665e",
   "metadata": {
    "scrolled": true
   },
   "outputs": [
    {
     "data": {
      "text/plain": [
       "set()"
      ]
     },
     "execution_count": 55,
     "metadata": {},
     "output_type": "execute_result"
    }
   ],
   "source": [
    "set(data_columns)-set(cols_1)"
   ]
  },
  {
   "cell_type": "code",
   "execution_count": 37,
   "id": "8bd5a234-8819-4bfb-a822-73fed45bff06",
   "metadata": {},
   "outputs": [
    {
     "data": {
      "text/plain": [
       "('2010\\\\2024-10-15.xlsx', 2249566)"
      ]
     },
     "execution_count": 37,
     "metadata": {},
     "output_type": "execute_result"
    }
   ],
   "source": [
    "matching_files[44],sizes"
   ]
  },
  {
   "cell_type": "code",
   "execution_count": 39,
   "id": "6704aa8f-248f-4ee0-bae8-9aef0982899b",
   "metadata": {
    "scrolled": true
   },
   "outputs": [
    {
     "name": "stdout",
     "output_type": "stream",
     "text": [
      "0 0 1985-1999\\1-6W.xlsx (60000, 194) 60000\n",
      "filter: 119 391 391 59897\n",
      "1 60000 1985-1999\\12W-18W.xlsx (60000, 194) 180000\n",
      "filter: 70 235 626 119994\n",
      "2 120000 1985-1999\\18W-24W.xlsx (60000, 194) 240000\n",
      "filter: 63 312 938 179642\n",
      "3 180000 1985-1999\\24W-299475.xlsx (59475, 194) 299475\n",
      "filter: 45 293 1231 239468\n",
      "4 239475 1985-1999\\6W-12W.xlsx (60000, 194) 120000\n",
      "filter: 105 360 1591 298974\n",
      "5 299475 2000\\ALL-2000年-57051.xlsx (57051, 194) 57051\n",
      "filter: 223 805 2396 356486\n",
      "6 356526 2001\\2024-10-07 (1).xlsx (8271, 194) 68271\n",
      "filter: 101 227 2623 364762\n",
      "7 364797 2001\\2024-10-07.xlsx (60000, 194) 60000\n",
      "filter: 340 1393 4016 424794\n",
      "8 424797 2002\\2002-1.xlsx (29788, 194) 89788\n",
      "filter: 256 732 4748 454491\n",
      "9 454585 2002\\2002-2.xlsx (60000, 194) 60000\n",
      "filter: 566 2416 7164 514570\n",
      "10 514585 2003\\2024-10-14 (4).xlsx (60000, 194) 60000\n",
      "filter: 702 2894 10058 574502\n",
      "11 574585 2003\\2024-10-14 (5).xlsx (27802, 194) 87802\n",
      "filter: 294 988 11046 602193\n",
      "12 602387 2003\\2024-10-15.xlsx (32750, 212) 32750\n",
      "filter: 451 1642 12688 635116\n",
      "13 635137 2004\\2004-20040120.xlsx (5818, 194) 5818\n",
      "filter: 129 302 12990 640544\n",
      "14 640955 2004\\2024-10-12 (1).xlsx (60000, 194) 60000\n",
      "filter: 751 3429 16419 700953\n",
      "15 700955 2004\\2024-10-12.xlsx (50957, 194) 110957\n",
      "filter: 584 2182 18601 751768\n",
      "16 751912 2004\\2024-10-13 (6).xlsx (28617, 194) 28617\n",
      "filter: 461 2091 20692 780509\n",
      "17 780529 2005\\2024-10-13 (2).xlsx (604, 194) 180604\n",
      "filter: 13 33 20725 781020\n",
      "18 781133 2005\\2024-10-13 (3).xlsx (60000, 194) 180000\n",
      "filter: 899 3310 24035 840955\n",
      "19 841133 2005\\2024-10-13 (4).xlsx (60000, 194) 120000\n",
      "filter: 1004 4320 28355 901124\n",
      "20 901133 2005\\2024-10-13 (5).xlsx (60000, 194) 60000\n",
      "filter: 1021 5758 34113 961128\n",
      "21 961133 2006\\2024-10-14 (1).xlsx (60000, 194) 120000\n",
      "filter: 1298 6169 40282 1020736\n",
      "22 1021133 2006\\2024-10-14 (2).xlsx (60000, 194) 180000\n",
      "filter: 1330 5750 46032 1081105\n",
      "23 1081133 2006\\2024-10-14 (3).xlsx (31955, 194) 211955\n",
      "filter: 664 2491 48523 1113058\n",
      "24 1113088 2006\\2024-10-14.xlsx (60000, 194) 60000\n",
      "filter: 1317 7119 55642 1173086\n",
      "25 1173088 2007\\1-6W.xlsx (60000, 194) 60000\n",
      "filter: 589 3402 59044 1233015\n",
      "26 1233088 2007\\12-18W.xlsx (60000, 194) 180000\n",
      "filter: 2122 8772 67816 1293088\n",
      "27 1293088 2007\\18W-233763.xlsx (53763, 194) 233763\n",
      "filter: 1738 6249 74065 1346848\n",
      "28 1346851 2007\\6-12W.xlsx (60000, 194) 120000\n",
      "filter: 1471 10292 84357 1406845\n",
      "29 1406851 2008\\2008-1-6W.xlsx (60000, 194) 60000\n",
      "filter: 968 4715 89072 1466838\n",
      "30 1466851 2008\\2008-12-18W.xlsx (60000, 194) 180000\n",
      "filter: 3169 11218 100290 1526815\n",
      "31 1526851 2008\\2008-18-24W.xlsx (60000, 194) 240000\n",
      "filter: 2991 9737 110027 1586846\n",
      "32 1586851 2008\\2008-24W-270485.xlsx (30485, 194) 270485\n",
      "filter: 1396 4543 114570 1617336\n",
      "33 1617336 2008\\2008-6-12W.xlsx (60000, 194) 120000\n",
      "filter: 1597 8787 123357 1677336\n",
      "34 1677336 2009\\1-6W.xlsx (60000, 194) 60000\n",
      "filter: 4164 10451 133808 1737327\n",
      "35 1737336 2009\\12-18W.xlsx (60000, 194) 180000\n",
      "filter: 3678 13024 146832 1797329\n",
      "36 1797336 2009\\18-24W.xlsx (60000, 194) 240000\n",
      "filter: 2077 10552 157384 1857335\n",
      "37 1857336 2009\\2009年-6169.xlsx (6169, 194) 6169\n",
      "filter: 46 178 157562 1863496\n",
      "38 1863505 2009\\24-30W.xlsx (60000, 194) 300000\n",
      "filter: 1062 4862 162424 1923501\n",
      "39 1923505 2009\\6-12W.xlsx (60000, 194) 120000\n",
      "filter: 4425 13228 175652 1983502\n",
      "40 1983505 2010\\2024-10-15 (1).xlsx (60000, 212) 240000\n",
      "filter: 3221 8998 184650 2043447\n",
      "41 2043505 2010\\2024-10-15 (2).xlsx (60000, 212) 180000\n",
      "filter: 3642 10395 195045 2103490\n",
      "42 2103505 2010\\2024-10-15 (3).xlsx (60000, 212) 120000\n",
      "filter: 3693 11016 206061 2163490\n",
      "43 2163505 2010\\2024-10-15 (4).xlsx (60000, 212) 60000\n",
      "filter: 3489 10204 216265 2223452\n",
      "44 2223505 2010\\2024-10-15.xlsx (26061, 212) 266061\n",
      "filter: 1608 4209 220474 2249551\n",
      "45 2249566 2010\\2024-10-16 (1).xlsx (42738, 212) 102738\n",
      "filter: 2676 8065 228539 2292301\n",
      "46 2292304 2010\\2024-10-16.xlsx (60000, 212) 60000\n",
      "filter: 3991 14065 242604 2352299\n",
      "47 2352304 2011\\2024-10-08 (1).xlsx (60000, 194) 120000\n",
      "filter: 3937 10699 253303 2412304\n",
      "48 2412304 2011\\2024-10-08 (2).xlsx (60000, 194) 180000\n",
      "filter: 4227 11830 265133 2472303\n",
      "49 2472304 2011\\2024-10-08 (3).xlsx (60000, 194) 240000\n",
      "filter: 4173 12488 277621 2532302\n",
      "50 2532304 2011\\2024-10-08 (4).xlsx (58772, 194) 298772\n",
      "filter: 4237 12472 290093 2591073\n",
      "51 2591076 2011\\2024-10-08.xlsx (60000, 194) 60000\n",
      "filter: 3677 9850 299943 2651075\n",
      "52 2651076 2011\\2024-10-09 (1).xlsx (60000, 194) 120000\n",
      "filter: 4162 13291 313234 2711069\n",
      "53 2711076 2011\\2024-10-09 (4).xlsx (53567, 194) 173567\n",
      "filter: 4121 14251 327485 2764640\n",
      "54 2764643 2011\\2024-10-09.xlsx (60000, 194) 60000\n",
      "filter: 4135 13001 340486 2824633\n",
      "55 2824643 2012\\2024-10-16 (2).xlsx (17013, 212) 197013\n",
      "filter: 1497 3386 343872 2841644\n",
      "56 2841656 2012\\2024-10-16 (3).xlsx (60000, 212) 180000\n",
      "filter: 4162 11501 355373 2901648\n",
      "57 2901656 2012\\2024-10-16 (4).xlsx (60000, 212) 120000\n",
      "filter: 4589 12705 368078 2961647\n",
      "58 2961656 2012\\2024-10-16 (5).xlsx (60000, 212) 60000\n",
      "filter: 4643 13508 381586 3021638\n",
      "59 3021656 2012\\2024-10-17 (1).xlsx (59597, 212) 299597\n",
      "filter: 4498 13877 395463 3081244\n",
      "60 3081253 2012\\2024-10-17 (2).xlsx (60000, 212) 240000\n",
      "filter: 5034 14538 410001 3141244\n",
      "61 3141253 2012\\2024-10-17 (3).xlsx (60000, 212) 180000\n",
      "filter: 4709 13719 423720 3201251\n",
      "62 3201253 2012\\2024-10-17 (4).xlsx (60000, 212) 120000\n",
      "filter: 4245 12737 436457 3261252\n",
      "63 3261253 2012\\2024-10-17 (5).xlsx (60000, 212) 60000\n",
      "filter: 4246 14682 451139 3321227\n",
      "64 3321253 2012\\2024-10-18 (1).xlsx (41898, 212) 101898\n",
      "filter: 3034 10427 461566 3363149\n",
      "65 3363151 2012\\2024-10-18.xlsx (60000, 212) 60000\n",
      "filter: 4583 15975 477541 3423146\n",
      "66 3423151 2013\\2024-10-18 (2).xlsx (60000, 212) 60000\n",
      "filter: 4811 12770 490311 3483061\n",
      "67 3483151 2013\\2024-10-18 (3).xlsx (60000, 212) 120000\n",
      "filter: 4551 11989 502300 3543129\n",
      "68 3543151 2013\\2024-10-18 (4).xlsx (60000, 212) 180000\n",
      "filter: 4488 11588 513888 3603147\n",
      "69 3603151 2013\\2024-10-18 (5).xlsx (17963, 212) 197963\n",
      "filter: 1862 3940 517828 3621096\n",
      "70 3621114 2013\\2024-10-19 (1).xlsx (60000, 212) 120000\n",
      "filter: 4718 14082 531910 3681082\n",
      "71 3681114 2013\\2024-10-19 (2).xlsx (60000, 212) 180000\n",
      "filter: 5054 14763 546673 3741093\n",
      "72 3741114 2013\\2024-10-19 (3).xlsx (60000, 212) 240000\n",
      "filter: 4652 13606 560279 3801111\n",
      "73 3801114 2013\\2024-10-19 (4).xlsx (58018, 212) 298018\n",
      "filter: 4578 13210 573489 3859122\n",
      "74 3859132 2013\\2024-10-19.xlsx (60000, 212) 60000\n",
      "filter: 4260 14006 587495 3919132\n",
      "75 3919132 2013\\2024-10-20 (1).xlsx (60000, 212) 120000\n",
      "filter: 4085 15227 602722 3979123\n",
      "76 3979132 2013\\2024-10-20 (2).xlsx (60000, 212) 180000\n",
      "filter: 4116 15852 618574 4039124\n",
      "77 4039132 2013\\2024-10-20 (3).xlsx (60000, 212) 240000\n",
      "filter: 4128 14776 633350 4099100\n",
      "78 4099132 2013\\2024-10-20 (4).xlsx (6040, 212) 246040\n",
      "filter: 614 1293 634643 4105160\n",
      "79 4105172 2013\\2024-10-20.xlsx (60000, 212) 60000\n",
      "filter: 4857 17006 651649 4165172\n",
      "80 4165172 2014\\2024-10-20 (5).xlsx (53716, 212) 53716\n",
      "filter: 4607 11422 663071 4218877\n",
      "81 4218888 2014\\2024-10-21 (1).xlsx (60000, 212) 240000\n",
      "filter: 5037 13517 676588 4278887\n",
      "82 4278888 2014\\2024-10-21 (2).xlsx (60000, 212) 180000\n",
      "filter: 5149 13753 690341 4338888\n",
      "83 4338888 2014\\2024-10-21 (3).xlsx (60000, 212) 120000\n",
      "filter: 5000 14041 704382 4398878\n",
      "84 4398888 2014\\2024-10-21 (4).xlsx (60000, 212) 60000\n",
      "filter: 4853 14020 718402 4458844\n",
      "85 4458888 2014\\2024-10-21.xlsx (58055, 212) 298055\n",
      "filter: 4166 10925 729327 4516856\n",
      "86 4516943 2014\\2024-10-22 (1).xlsx (60000, 212) 120000\n",
      "filter: 4449 13701 743028 4576937\n",
      "87 4576943 2014\\2024-10-22 (2).xlsx (60000, 212) 180000\n",
      "filter: 4722 14780 757808 4636935\n",
      "88 4636943 2014\\2024-10-22 (3).xlsx (60000, 212) 240000\n",
      "filter: 5007 14689 772497 4696919\n",
      "89 4696943 2014\\2024-10-22 (4).xlsx (59956, 212) 299956\n",
      "filter: 5111 14435 786932 4756888\n",
      "90 4756899 2014\\2024-10-22.xlsx (60000, 212) 60000\n",
      "filter: 4520 15517 802449 4816839\n",
      "91 4816899 2014\\2024-10-23 (1).xlsx (60000, 212) 120000\n",
      "filter: 4604 15945 818394 4876876\n",
      "92 4876899 2014\\2024-10-23 (2).xlsx (60000, 212) 180000\n",
      "filter: 4467 16225 834619 4936873\n",
      "93 4936899 2014\\2024-10-23 (3).xlsx (6408, 212) 186408\n",
      "filter: 638 1635 836254 4943276\n",
      "94 4943307 2014\\2024-10-23.xlsx (60000, 212) 60000\n",
      "filter: 5389 19921 856175 5003304\n",
      "95 5003307 2015\\2024-10-23 (4).xlsx (60000, 212) 60000\n",
      "filter: 5162 13388 869563 5063252\n",
      "96 5063307 2015\\2024-10-23 (5).xlsx (52795, 212) 112795\n",
      "filter: 4927 12337 881900 5116084\n",
      "97 5116102 2015\\2024-10-24 (1).xlsx (60000, 212) 120000\n",
      "filter: 5003 14714 896614 5176034\n",
      "98 5176102 2015\\2024-10-24 (2).xlsx (60000, 212) 180000\n",
      "filter: 5060 14565 911179 5236076\n",
      "99 5236102 2015\\2024-10-24 (3).xlsx (60000, 212) 240000\n",
      "filter: 5132 14149 925328 5296092\n",
      "100 5296102 2015\\2024-10-24 (4).xlsx (59650, 212) 299650\n",
      "filter: 4928 13890 939218 5355730\n",
      "101 5355752 2015\\2024-10-24.xlsx (60000, 212) 60000\n",
      "filter: 5048 15254 954472 5415669\n",
      "102 5415752 2015\\2024-10-25 (1).xlsx (60000, 212) 120000\n",
      "filter: 5062 15606 970078 5475736\n",
      "103 5475752 2015\\2024-10-25 (2).xlsx (60000, 212) 180000\n",
      "filter: 5243 15604 985682 5535751\n",
      "104 5535752 2015\\2024-10-25 (3).xlsx (60000, 212) 240000\n",
      "filter: 5537 16557 1002239 5595741\n",
      "105 5595752 2015\\2024-10-25 (4).xlsx (54743, 212) 294743\n",
      "filter: 4902 14311 1016550 5650461\n",
      "106 5650495 2015\\2024-10-25.xlsx (60000, 212) 60000\n",
      "filter: 5023 16219 1032769 5710481\n",
      "107 5710495 2015\\2024-10-26 (1).xlsx (60000, 212) 120000\n",
      "filter: 4854 16817 1049586 5770476\n",
      "108 5770495 2015\\2024-10-26 (2).xlsx (60000, 212) 180000\n",
      "filter: 4794 16698 1066284 5830484\n",
      "109 5830495 2015\\2024-10-26 (3).xlsx (60000, 212) 240000\n",
      "filter: 4631 15241 1081525 5890489\n",
      "110 5890495 2015\\2024-10-26 (4).xlsx (38988, 212) 278988\n",
      "filter: 3485 9949 1091474 5929464\n",
      "111 5929483 2015\\2024-10-26.xlsx (60000, 212) 60000\n",
      "filter: 5781 20129 1111603 5989466\n",
      "112 5989483 2016\\2024-10-26 (5).xlsx (19622, 212) 19622\n",
      "filter: 2147 5112 1116715 6009101\n",
      "113 6009105 2016\\2024-10-27 (1).xlsx (60000, 212) 120000\n",
      "filter: 5753 15427 1132142 6069104\n",
      "114 6069105 2016\\2024-10-27 (2).xlsx (60000, 212) 180000\n",
      "filter: 5335 14653 1146795 6129099\n",
      "115 6129105 2016\\2024-10-27 (3).xlsx (60000, 212) 240000\n",
      "filter: 5111 13549 1160344 6189064\n",
      "116 6189105 2016\\2024-10-27 (4).xlsx (59262, 212) 299262\n",
      "filter: 5732 15067 1175411 6248363\n",
      "117 6248367 2016\\2024-10-27.xlsx (60000, 212) 60000\n",
      "filter: 5727 16333 1191744 6308345\n",
      "118 6308367 2016\\2024-10-28 (1).xlsx (60000, 212) 120000\n",
      "filter: 5912 16384 1208128 6368367\n",
      "119 6368367 2016\\2024-10-28 (2).xlsx (60000, 212) 180000\n",
      "filter: 5129 17597 1225725 6428367\n",
      "120 6428367 2016\\2024-10-28 (3).xlsx (60000, 212) 240000\n",
      "filter: 5602 15652 1241377 6488365\n",
      "121 6488367 2016\\2024-10-28 (4).xlsx (59044, 212) 299044\n",
      "filter: 5645 17295 1258672 6547387\n",
      "122 6547411 2016\\2024-10-28.xlsx (60000, 212) 60000\n",
      "filter: 5684 17611 1276283 6607400\n",
      "123 6607411 2016\\2024-10-29 (1).xlsx (60000, 212) 120000\n",
      "filter: 5008 17312 1293595 6667392\n",
      "124 6667411 2016\\2024-10-29 (2).xlsx (60000, 212) 180000\n",
      "filter: 6911 21446 1315041 6727393\n",
      "125 6727411 2016\\2024-10-29 (3).xlsx (60000, 212) 240000\n",
      "filter: 6456 21183 1336224 6787405\n",
      "126 6787411 2016\\2024-10-29 (4).xlsx (56725, 212) 296725\n",
      "filter: 5611 16619 1352843 6844133\n",
      "127 6844136 2016\\2024-10-29.xlsx (60000, 212) 60000\n",
      "filter: 5331 17953 1370796 6904133\n",
      "128 6904136 2016\\2024-10-30 (1).xlsx (60000, 212) 120000\n",
      "filter: 5638 18463 1389259 6964127\n",
      "129 6964136 2016\\2024-10-30 (2).xlsx (60000, 212) 180000\n",
      "filter: 5212 17226 1406485 7024128\n",
      "130 7024136 2016\\2024-10-30 (3).xlsx (60000, 212) 240000\n",
      "filter: 5246 16908 1423393 7084131\n",
      "131 7084136 2016\\2024-10-30 (4).xlsx (43472, 212) 283472\n",
      "filter: 4270 12629 1436022 7127607\n",
      "132 7127608 2016\\2024-10-30.xlsx (60000, 212) 60000\n",
      "filter: 6429 23368 1459390 7187607\n",
      "CPU times: total: 10h 11s\n",
      "Wall time: 11h 12min 9s\n"
     ]
    },
    {
     "data": {
      "text/html": [
       "<div>\n",
       "<style scoped>\n",
       "    .dataframe tbody tr th:only-of-type {\n",
       "        vertical-align: middle;\n",
       "    }\n",
       "\n",
       "    .dataframe tbody tr th {\n",
       "        vertical-align: top;\n",
       "    }\n",
       "\n",
       "    .dataframe thead th {\n",
       "        text-align: right;\n",
       "    }\n",
       "</style>\n",
       "<table border=\"1\" class=\"dataframe\">\n",
       "  <thead>\n",
       "    <tr style=\"text-align: right;\">\n",
       "      <th></th>\n",
       "      <th>序号</th>\n",
       "      <th>标题 (中文)</th>\n",
       "      <th>标题 (英文)</th>\n",
       "      <th>摘要 (中文)</th>\n",
       "      <th>摘要 (英文)</th>\n",
       "      <th>申请人</th>\n",
       "      <th>公开（公告）号</th>\n",
       "      <th>公开（公告）日</th>\n",
       "      <th>申请号</th>\n",
       "      <th>申请日</th>\n",
       "      <th>...</th>\n",
       "      <th>DWPI分类号</th>\n",
       "      <th>DWPI手工代码</th>\n",
       "      <th>DWPI同族专利</th>\n",
       "      <th>DWPI同族国家/地区</th>\n",
       "      <th>DWPI同族ID</th>\n",
       "      <th>DWPI专利权人/申请人</th>\n",
       "      <th>DWPI发明人</th>\n",
       "      <th>DWPI优先权国别-最早</th>\n",
       "      <th>DWPI优先权号</th>\n",
       "      <th>DWPI优先权国别</th>\n",
       "    </tr>\n",
       "  </thead>\n",
       "  <tbody>\n",
       "    <tr>\n",
       "      <th>0</th>\n",
       "      <td>2863</td>\n",
       "      <td>一种对苯二甲酸酯单羧酯盐的用途</td>\n",
       "      <td>Application of monocarboxyl terephthalate</td>\n",
       "      <td>本发明的一种对苯二甲酸酯单羧酸盐, 是用作聚苯二甲酸乙二酯的非化学成核型成核剂, 该成核剂在...</td>\n",
       "      <td>The present invention relates to a terephthali...</td>\n",
       "      <td>中国科学院化学研究所</td>\n",
       "      <td>CN1291620A</td>\n",
       "      <td>2001-04-18</td>\n",
       "      <td>CN00105988.2</td>\n",
       "      <td>1996-07-19</td>\n",
       "      <td>...</td>\n",
       "      <td>NaN</td>\n",
       "      <td>NaN</td>\n",
       "      <td>NaN</td>\n",
       "      <td>NaN</td>\n",
       "      <td>NaN</td>\n",
       "      <td>NaN</td>\n",
       "      <td>NaN</td>\n",
       "      <td>NaN</td>\n",
       "      <td>NaN</td>\n",
       "      <td>NaN</td>\n",
       "    </tr>\n",
       "    <tr>\n",
       "      <th>1</th>\n",
       "      <td>4100</td>\n",
       "      <td>一种聚酯/层状硅酸盐纳米复合材料及其制备方法</td>\n",
       "      <td>Polyester/laminate silicate nanometer composit...</td>\n",
       "      <td>本发明提供了一种聚酯/层状硅酸盐纳米复合材料及其制备方法。将层状硅酸盐经插层反应后与聚酯单体...</td>\n",
       "      <td>The invention provides a polyester/layered sil...</td>\n",
       "      <td>中国科学院化学研究所</td>\n",
       "      <td>CN1272513A</td>\n",
       "      <td>2000-11-08</td>\n",
       "      <td>CN97104055.9</td>\n",
       "      <td>1997-04-23</td>\n",
       "      <td>...</td>\n",
       "      <td>NaN</td>\n",
       "      <td>NaN</td>\n",
       "      <td>NaN</td>\n",
       "      <td>NaN</td>\n",
       "      <td>NaN</td>\n",
       "      <td>NaN</td>\n",
       "      <td>NaN</td>\n",
       "      <td>NaN</td>\n",
       "      <td>NaN</td>\n",
       "      <td>NaN</td>\n",
       "    </tr>\n",
       "    <tr>\n",
       "      <th>2</th>\n",
       "      <td>4228</td>\n",
       "      <td>一种新的光同步时分立体电视系统</td>\n",
       "      <td>Optical synchronous time division stereo TV sy...</td>\n",
       "      <td>一种新的光同步时分立体电视系统。反映左右眼 图象的两路视频信号中的一路经图象处理电路处理形成...</td>\n",
       "      <td>The patent refers to the field of 'pictorial c...</td>\n",
       "      <td>天津三维显示技术有限公司</td>\n",
       "      <td>CN1254239A</td>\n",
       "      <td>2000-05-24</td>\n",
       "      <td>CN97112035.8</td>\n",
       "      <td>1997-05-16</td>\n",
       "      <td>...</td>\n",
       "      <td>NaN</td>\n",
       "      <td>NaN</td>\n",
       "      <td>NaN</td>\n",
       "      <td>NaN</td>\n",
       "      <td>NaN</td>\n",
       "      <td>NaN</td>\n",
       "      <td>NaN</td>\n",
       "      <td>NaN</td>\n",
       "      <td>NaN</td>\n",
       "      <td>NaN</td>\n",
       "    </tr>\n",
       "    <tr>\n",
       "      <th>3</th>\n",
       "      <td>14581</td>\n",
       "      <td>强力除垢剂</td>\n",
       "      <td>Strong cleaner</td>\n",
       "      <td>一种强力除垢剂, 其特征在于它的配方(重量百分 比)为 : 盐酸50—65%, 乌洛托品0....</td>\n",
       "      <td>The patent refers to the field of 'non-mechani...</td>\n",
       "      <td>大连三星五洲化工有限公司</td>\n",
       "      <td>CN1245836A</td>\n",
       "      <td>2000-03-01</td>\n",
       "      <td>CN98114260.5</td>\n",
       "      <td>1998-08-20</td>\n",
       "      <td>...</td>\n",
       "      <td>NaN</td>\n",
       "      <td>NaN</td>\n",
       "      <td>NaN</td>\n",
       "      <td>NaN</td>\n",
       "      <td>NaN</td>\n",
       "      <td>NaN</td>\n",
       "      <td>NaN</td>\n",
       "      <td>NaN</td>\n",
       "      <td>NaN</td>\n",
       "      <td>NaN</td>\n",
       "    </tr>\n",
       "    <tr>\n",
       "      <th>4</th>\n",
       "      <td>14979</td>\n",
       "      <td>一种煤的直接加氢液化的方法</td>\n",
       "      <td>Direct hydrogenation liquefying process for coal</td>\n",
       "      <td>一种煤直接加氢液化的方法, 将含硫离子的溶液(0.38摩尔浓度—饱和浓度)和含铁离子的溶液(...</td>\n",
       "      <td>A method for directly hydrogenating and liquef...</td>\n",
       "      <td>中国科学院山西煤炭化学研究所</td>\n",
       "      <td>CN1246511A</td>\n",
       "      <td>2000-03-08</td>\n",
       "      <td>CN98118156.2</td>\n",
       "      <td>1998-08-27</td>\n",
       "      <td>...</td>\n",
       "      <td>NaN</td>\n",
       "      <td>NaN</td>\n",
       "      <td>NaN</td>\n",
       "      <td>NaN</td>\n",
       "      <td>NaN</td>\n",
       "      <td>NaN</td>\n",
       "      <td>NaN</td>\n",
       "      <td>NaN</td>\n",
       "      <td>NaN</td>\n",
       "      <td>NaN</td>\n",
       "    </tr>\n",
       "    <tr>\n",
       "      <th>...</th>\n",
       "      <td>...</td>\n",
       "      <td>...</td>\n",
       "      <td>...</td>\n",
       "      <td>...</td>\n",
       "      <td>...</td>\n",
       "      <td>...</td>\n",
       "      <td>...</td>\n",
       "      <td>...</td>\n",
       "      <td>...</td>\n",
       "      <td>...</td>\n",
       "      <td>...</td>\n",
       "      <td>...</td>\n",
       "      <td>...</td>\n",
       "      <td>...</td>\n",
       "      <td>...</td>\n",
       "      <td>...</td>\n",
       "      <td>...</td>\n",
       "      <td>...</td>\n",
       "      <td>...</td>\n",
       "      <td>...</td>\n",
       "      <td>...</td>\n",
       "    </tr>\n",
       "    <tr>\n",
       "      <th>1459385</th>\n",
       "      <td>7187569</td>\n",
       "      <td>一种终端匹配方法、装置</td>\n",
       "      <td>TERMINAL MATCHING METHOD AND DEVICE</td>\n",
       "      <td>本申请实施例公开了一种终端匹配方法、装置，所述方法包括：第二终端获取第一终端的接口地址, 所...</td>\n",
       "      <td>Disclosed in embodiments of the present applic...</td>\n",
       "      <td>华为技术有限公司</td>\n",
       "      <td>CN108886685A</td>\n",
       "      <td>2018-11-23</td>\n",
       "      <td>CN201680080490.8</td>\n",
       "      <td>2016-12-31</td>\n",
       "      <td>...</td>\n",
       "      <td>W01</td>\n",
       "      <td>W01-A06C4(无线电链路);W01-C01D3C(便携的; 手持式)</td>\n",
       "      <td>US11824892B2; CN108886685A; CN108886685B; WO20...</td>\n",
       "      <td>美国, 世界知识产权组织(WIPO), 中国</td>\n",
       "      <td>201852560M</td>\n",
       "      <td>HUAW-C/HUAWEI TECHNOLOGIES CO LTD;</td>\n",
       "      <td>FANG P; LI X</td>\n",
       "      <td>世界知识产权组织(WIPO)</td>\n",
       "      <td>WO2016CN114060A 20161231</td>\n",
       "      <td>世界知识产权组织(WIPO)</td>\n",
       "    </tr>\n",
       "    <tr>\n",
       "      <th>1459386</th>\n",
       "      <td>7187573</td>\n",
       "      <td>一种钢琴键盖粘接机</td>\n",
       "      <td>Bonding machine for piano key cover</td>\n",
       "      <td>本发明涉及一种钢琴键盖粘接机。包括两个相对设置的支撑座，在两个支撑座之间设置有长方体的固定架...</td>\n",
       "      <td>The invention relates to a bonding machine for...</td>\n",
       "      <td>合肥智慧龙图腾知识产权股份有限公司</td>\n",
       "      <td>CN109591303A</td>\n",
       "      <td>2019-04-09</td>\n",
       "      <td>CN201811423834.8</td>\n",
       "      <td>2016-12-31</td>\n",
       "      <td>...</td>\n",
       "      <td>A35</td>\n",
       "      <td>A11-C01B(热封、焊接、通用);A11-C01D(其他粘合，一般  [热封、焊接除外 ])</td>\n",
       "      <td>CN109591303A</td>\n",
       "      <td>中国</td>\n",
       "      <td>201936044U</td>\n",
       "      <td>HEFE-N/HEFEI ZHIHUI LONGTOTEM INTELLECTUAL PROP;</td>\n",
       "      <td>QI Y</td>\n",
       "      <td>中国</td>\n",
       "      <td>CN201811423834A 20161231; CN201611267807A 2016...</td>\n",
       "      <td>中国</td>\n",
       "    </tr>\n",
       "    <tr>\n",
       "      <th>1459387</th>\n",
       "      <td>7187574</td>\n",
       "      <td>一种柔性电路板的喷砂流水线系统及其下料设备</td>\n",
       "      <td>SANDBLASTING PRODUCTION LINE SYSTEM FOR FLEXIB...</td>\n",
       "      <td>本发明公开了一种柔性电路板的喷砂流水线系统及其下料设备，包括：至少一电路板下料机构，设置在喷...</td>\n",
       "      <td>A sandblasting production line system for a fl...</td>\n",
       "      <td>深圳市综科食品智能装备有限公司</td>\n",
       "      <td>CN109644563A</td>\n",
       "      <td>2019-04-16</td>\n",
       "      <td>CN201680086652.9</td>\n",
       "      <td>2016-12-31</td>\n",
       "      <td>...</td>\n",
       "      <td>V04</td>\n",
       "      <td>V04-A04(夹紧或弹簧);V04-M05(印刷电路连接器);V04-N(柔性或可转动的线...</td>\n",
       "      <td>CN109644563B; CN109644563A; WO2018120244A1</td>\n",
       "      <td>世界知识产权组织(WIPO), 中国</td>\n",
       "      <td>201853671J</td>\n",
       "      <td>AEAU-N/AE AUTOMATION &amp; ROBOTICS TECHNOLOGY LTD...</td>\n",
       "      <td>LIU Y; MA Y</td>\n",
       "      <td>世界知识产权组织(WIPO)</td>\n",
       "      <td>WO2016CN114057A 20161231</td>\n",
       "      <td>世界知识产权组织(WIPO)</td>\n",
       "    </tr>\n",
       "    <tr>\n",
       "      <th>1459388</th>\n",
       "      <td>7187606</td>\n",
       "      <td>一种涂装前处理中清洗液的处理方法</td>\n",
       "      <td>The present invention relates to a treatment m...</td>\n",
       "      <td>本发明涉及一种涂装前处理中清洗液的处理方法及处理系统，所述处理方法为：S1、被清洗工件上的清...</td>\n",
       "      <td>The invention relates to a treatment method an...</td>\n",
       "      <td>杭州路弘科技有限公司</td>\n",
       "      <td>CN117244315A</td>\n",
       "      <td>2023-12-19</td>\n",
       "      <td>CN202311087397.8</td>\n",
       "      <td>2016-12-31</td>\n",
       "      <td>...</td>\n",
       "      <td>J01</td>\n",
       "      <td>J01-E03(气体分离 [一般]);J01-F(从液体中分离悬浮颗粒 (未分类));J01...</td>\n",
       "      <td>CN117244315A</td>\n",
       "      <td>中国</td>\n",
       "      <td>2023D49832</td>\n",
       "      <td>HANG-N/HANGZHOU LUHONG TECHNOLOGY CO LTD;</td>\n",
       "      <td>WANG Q; WEN L; WEN W; YAN G; ZHANG S</td>\n",
       "      <td>中国</td>\n",
       "      <td>CN202311087397A 20161231; CN201611269235A 2016...</td>\n",
       "      <td>中国</td>\n",
       "    </tr>\n",
       "    <tr>\n",
       "      <th>1459389</th>\n",
       "      <td>7187607</td>\n",
       "      <td>三乙酰基-3-羟基苯基腺苷在制备预防或者治疗非酒精性脂肪肝药物中的应用</td>\n",
       "      <td>Application of triacetyl-3-hydroxyphenyl adeno...</td>\n",
       "      <td>本发明公开了式(Ⅰ)所示的三乙酰基‑3‑羟基苯基腺苷在预防或者治疗非酒精性脂肪肝中的应用。所...</td>\n",
       "      <td>The invention discloses the application of tri...</td>\n",
       "      <td>中国医学科学院药物研究所; 北京谷神生命健康科技有限公司</td>\n",
       "      <td>CN118178446A</td>\n",
       "      <td>2024-06-14</td>\n",
       "      <td>CN202410227642.9</td>\n",
       "      <td>2016-12-31</td>\n",
       "      <td>...</td>\n",
       "      <td>B02</td>\n",
       "      <td>B04-B03A(核苷);B14-F06(抗血脂);B14-N12(肝)</td>\n",
       "      <td>RU2759916C2; EP3398604A1; RU2018126158A; KR102...</td>\n",
       "      <td>南非, 中国香港, 美国, 澳大利亚, 俄罗斯, 加拿大, 韩国, 世界知识产权组织(WIP...</td>\n",
       "      <td>2017462273</td>\n",
       "      <td>MSUM-C/CHINESE ACAD MEDICAL SCI;MSUM-C/ INST M...</td>\n",
       "      <td>SHI H; ZHU H</td>\n",
       "      <td>中国</td>\n",
       "      <td>CN201511034199A 20151231; EP2016881202A 201612...</td>\n",
       "      <td>中国, 欧洲专利局(EPO), 世界知识产权组织(WIPO)</td>\n",
       "    </tr>\n",
       "  </tbody>\n",
       "</table>\n",
       "<p>1459390 rows × 214 columns</p>\n",
       "</div>"
      ],
      "text/plain": [
       "              序号                              标题 (中文)  \\\n",
       "0           2863                      一种对苯二甲酸酯单羧酯盐的用途   \n",
       "1           4100               一种聚酯/层状硅酸盐纳米复合材料及其制备方法   \n",
       "2           4228                      一种新的光同步时分立体电视系统   \n",
       "3          14581                                强力除垢剂   \n",
       "4          14979                        一种煤的直接加氢液化的方法   \n",
       "...          ...                                  ...   \n",
       "1459385  7187569                          一种终端匹配方法、装置   \n",
       "1459386  7187573                            一种钢琴键盖粘接机   \n",
       "1459387  7187574                一种柔性电路板的喷砂流水线系统及其下料设备   \n",
       "1459388  7187606                     一种涂装前处理中清洗液的处理方法   \n",
       "1459389  7187607  三乙酰基-3-羟基苯基腺苷在制备预防或者治疗非酒精性脂肪肝药物中的应用   \n",
       "\n",
       "                                                   标题 (英文)  \\\n",
       "0                Application of monocarboxyl terephthalate   \n",
       "1        Polyester/laminate silicate nanometer composit...   \n",
       "2        Optical synchronous time division stereo TV sy...   \n",
       "3                                           Strong cleaner   \n",
       "4         Direct hydrogenation liquefying process for coal   \n",
       "...                                                    ...   \n",
       "1459385                TERMINAL MATCHING METHOD AND DEVICE   \n",
       "1459386                Bonding machine for piano key cover   \n",
       "1459387  SANDBLASTING PRODUCTION LINE SYSTEM FOR FLEXIB...   \n",
       "1459388  The present invention relates to a treatment m...   \n",
       "1459389  Application of triacetyl-3-hydroxyphenyl adeno...   \n",
       "\n",
       "                                                   摘要 (中文)  \\\n",
       "0        本发明的一种对苯二甲酸酯单羧酸盐, 是用作聚苯二甲酸乙二酯的非化学成核型成核剂, 该成核剂在...   \n",
       "1        本发明提供了一种聚酯/层状硅酸盐纳米复合材料及其制备方法。将层状硅酸盐经插层反应后与聚酯单体...   \n",
       "2        一种新的光同步时分立体电视系统。反映左右眼 图象的两路视频信号中的一路经图象处理电路处理形成...   \n",
       "3        一种强力除垢剂, 其特征在于它的配方(重量百分 比)为 : 盐酸50—65%, 乌洛托品0....   \n",
       "4        一种煤直接加氢液化的方法, 将含硫离子的溶液(0.38摩尔浓度—饱和浓度)和含铁离子的溶液(...   \n",
       "...                                                    ...   \n",
       "1459385  本申请实施例公开了一种终端匹配方法、装置，所述方法包括：第二终端获取第一终端的接口地址, 所...   \n",
       "1459386  本发明涉及一种钢琴键盖粘接机。包括两个相对设置的支撑座，在两个支撑座之间设置有长方体的固定架...   \n",
       "1459387  本发明公开了一种柔性电路板的喷砂流水线系统及其下料设备，包括：至少一电路板下料机构，设置在喷...   \n",
       "1459388  本发明涉及一种涂装前处理中清洗液的处理方法及处理系统，所述处理方法为：S1、被清洗工件上的清...   \n",
       "1459389  本发明公开了式(Ⅰ)所示的三乙酰基‑3‑羟基苯基腺苷在预防或者治疗非酒精性脂肪肝中的应用。所...   \n",
       "\n",
       "                                                   摘要 (英文)  \\\n",
       "0        The present invention relates to a terephthali...   \n",
       "1        The invention provides a polyester/layered sil...   \n",
       "2        The patent refers to the field of 'pictorial c...   \n",
       "3        The patent refers to the field of 'non-mechani...   \n",
       "4        A method for directly hydrogenating and liquef...   \n",
       "...                                                    ...   \n",
       "1459385  Disclosed in embodiments of the present applic...   \n",
       "1459386  The invention relates to a bonding machine for...   \n",
       "1459387  A sandblasting production line system for a fl...   \n",
       "1459388  The invention relates to a treatment method an...   \n",
       "1459389  The invention discloses the application of tri...   \n",
       "\n",
       "                                  申请人       公开（公告）号    公开（公告）日  \\\n",
       "0                          中国科学院化学研究所    CN1291620A 2001-04-18   \n",
       "1                          中国科学院化学研究所    CN1272513A 2000-11-08   \n",
       "2                        天津三维显示技术有限公司    CN1254239A 2000-05-24   \n",
       "3                        大连三星五洲化工有限公司    CN1245836A 2000-03-01   \n",
       "4                      中国科学院山西煤炭化学研究所    CN1246511A 2000-03-08   \n",
       "...                               ...           ...        ...   \n",
       "1459385                      华为技术有限公司  CN108886685A 2018-11-23   \n",
       "1459386             合肥智慧龙图腾知识产权股份有限公司  CN109591303A 2019-04-09   \n",
       "1459387               深圳市综科食品智能装备有限公司  CN109644563A 2019-04-16   \n",
       "1459388                    杭州路弘科技有限公司  CN117244315A 2023-12-19   \n",
       "1459389  中国医学科学院药物研究所; 北京谷神生命健康科技有限公司  CN118178446A 2024-06-14   \n",
       "\n",
       "                      申请号        申请日  ... DWPI分类号  \\\n",
       "0            CN00105988.2 1996-07-19  ...     NaN   \n",
       "1            CN97104055.9 1997-04-23  ...     NaN   \n",
       "2            CN97112035.8 1997-05-16  ...     NaN   \n",
       "3            CN98114260.5 1998-08-20  ...     NaN   \n",
       "4            CN98118156.2 1998-08-27  ...     NaN   \n",
       "...                   ...        ...  ...     ...   \n",
       "1459385  CN201680080490.8 2016-12-31  ...     W01   \n",
       "1459386  CN201811423834.8 2016-12-31  ...     A35   \n",
       "1459387  CN201680086652.9 2016-12-31  ...     V04   \n",
       "1459388  CN202311087397.8 2016-12-31  ...     J01   \n",
       "1459389  CN202410227642.9 2016-12-31  ...     B02   \n",
       "\n",
       "                                                  DWPI手工代码  \\\n",
       "0                                                      NaN   \n",
       "1                                                      NaN   \n",
       "2                                                      NaN   \n",
       "3                                                      NaN   \n",
       "4                                                      NaN   \n",
       "...                                                    ...   \n",
       "1459385              W01-A06C4(无线电链路);W01-C01D3C(便携的; 手持式)   \n",
       "1459386   A11-C01B(热封、焊接、通用);A11-C01D(其他粘合，一般  [热封、焊接除外 ])   \n",
       "1459387  V04-A04(夹紧或弹簧);V04-M05(印刷电路连接器);V04-N(柔性或可转动的线...   \n",
       "1459388  J01-E03(气体分离 [一般]);J01-F(从液体中分离悬浮颗粒 (未分类));J01...   \n",
       "1459389               B04-B03A(核苷);B14-F06(抗血脂);B14-N12(肝)   \n",
       "\n",
       "                                                  DWPI同族专利  \\\n",
       "0                                                      NaN   \n",
       "1                                                      NaN   \n",
       "2                                                      NaN   \n",
       "3                                                      NaN   \n",
       "4                                                      NaN   \n",
       "...                                                    ...   \n",
       "1459385  US11824892B2; CN108886685A; CN108886685B; WO20...   \n",
       "1459386                                       CN109591303A   \n",
       "1459387         CN109644563B; CN109644563A; WO2018120244A1   \n",
       "1459388                                       CN117244315A   \n",
       "1459389  RU2759916C2; EP3398604A1; RU2018126158A; KR102...   \n",
       "\n",
       "                                               DWPI同族国家/地区    DWPI同族ID  \\\n",
       "0                                                      NaN         NaN   \n",
       "1                                                      NaN         NaN   \n",
       "2                                                      NaN         NaN   \n",
       "3                                                      NaN         NaN   \n",
       "4                                                      NaN         NaN   \n",
       "...                                                    ...         ...   \n",
       "1459385                             美国, 世界知识产权组织(WIPO), 中国  201852560M   \n",
       "1459386                                                 中国  201936044U   \n",
       "1459387                                 世界知识产权组织(WIPO), 中国  201853671J   \n",
       "1459388                                                 中国  2023D49832   \n",
       "1459389  南非, 中国香港, 美国, 澳大利亚, 俄罗斯, 加拿大, 韩国, 世界知识产权组织(WIP...  2017462273   \n",
       "\n",
       "                                              DWPI专利权人/申请人  \\\n",
       "0                                                      NaN   \n",
       "1                                                      NaN   \n",
       "2                                                      NaN   \n",
       "3                                                      NaN   \n",
       "4                                                      NaN   \n",
       "...                                                    ...   \n",
       "1459385                 HUAW-C/HUAWEI TECHNOLOGIES CO LTD;   \n",
       "1459386   HEFE-N/HEFEI ZHIHUI LONGTOTEM INTELLECTUAL PROP;   \n",
       "1459387  AEAU-N/AE AUTOMATION & ROBOTICS TECHNOLOGY LTD...   \n",
       "1459388          HANG-N/HANGZHOU LUHONG TECHNOLOGY CO LTD;   \n",
       "1459389  MSUM-C/CHINESE ACAD MEDICAL SCI;MSUM-C/ INST M...   \n",
       "\n",
       "                                      DWPI发明人    DWPI优先权国别-最早  \\\n",
       "0                                         NaN             NaN   \n",
       "1                                         NaN             NaN   \n",
       "2                                         NaN             NaN   \n",
       "3                                         NaN             NaN   \n",
       "4                                         NaN             NaN   \n",
       "...                                       ...             ...   \n",
       "1459385                          FANG P; LI X  世界知识产权组织(WIPO)   \n",
       "1459386                                  QI Y              中国   \n",
       "1459387                           LIU Y; MA Y  世界知识产权组织(WIPO)   \n",
       "1459388  WANG Q; WEN L; WEN W; YAN G; ZHANG S              中国   \n",
       "1459389                          SHI H; ZHU H              中国   \n",
       "\n",
       "                                                  DWPI优先权号  \\\n",
       "0                                                      NaN   \n",
       "1                                                      NaN   \n",
       "2                                                      NaN   \n",
       "3                                                      NaN   \n",
       "4                                                      NaN   \n",
       "...                                                    ...   \n",
       "1459385                           WO2016CN114060A 20161231   \n",
       "1459386  CN201811423834A 20161231; CN201611267807A 2016...   \n",
       "1459387                           WO2016CN114057A 20161231   \n",
       "1459388  CN202311087397A 20161231; CN201611269235A 2016...   \n",
       "1459389  CN201511034199A 20151231; EP2016881202A 201612...   \n",
       "\n",
       "                              DWPI优先权国别  \n",
       "0                                   NaN  \n",
       "1                                   NaN  \n",
       "2                                   NaN  \n",
       "3                                   NaN  \n",
       "4                                   NaN  \n",
       "...                                 ...  \n",
       "1459385                  世界知识产权组织(WIPO)  \n",
       "1459386                              中国  \n",
       "1459387                  世界知识产权组织(WIPO)  \n",
       "1459388                              中国  \n",
       "1459389  中国, 欧洲专利局(EPO), 世界知识产权组织(WIPO)  \n",
       "\n",
       "[1459390 rows x 214 columns]"
      ]
     },
     "execution_count": 39,
     "metadata": {},
     "output_type": "execute_result"
    }
   ],
   "source": [
    "%%time\n",
    "sizes=0\n",
    "patent_filter = pd.DataFrame()\n",
    "# patent_df = pd.concat([pd.read_excel(file) for file in matching_files], ignore_index=True)\n",
    "for i,f_patent in enumerate(matching_files):\n",
    "    df_chunk=pd.read_excel(f_patent)#,dtype=data_types, error_bad_lines=True\n",
    "    \n",
    "    print(i,sizes,f_patent,df_chunk.shape,df_chunk['序号'].max())#,patent_df.shape\n",
    "    \n",
    "    # patent_df = pd.concat([patent_df,df_chunk], ignore_index=True)\n",
    "    df_chunk['申请日']=pd.to_datetime(df_chunk['申请日'])\n",
    "    df_chunk['公开（公告）日']=pd.to_datetime(df_chunk['公开（公告）日'])\n",
    "    df_chunk.sort_values(['申请日','公开（公告）日'],inplace=True)\n",
    "    # df_chunk.drop_duplicates(['申请号','公开（公告）号','专利类型'],keep='last',inplace=True)\n",
    "    df_chunk.reset_index(drop=True,inplace=True)\n",
    "    \n",
    "    df_chunk['序号'] = df_chunk.index+sizes+1\n",
    "\n",
    "    # try:\n",
    "    #     df_chunk.to_sql('patent_incopat_2016b_202411', con=engine,chunksize=10000, if_exists='append', index=False)#,dtype=dtypes\n",
    "    # except Exception as e:\n",
    "    #     print(f\"Error writing to SQL: {e}\")\n",
    "\n",
    "    sizes+=df_chunk.shape[0]\n",
    "    \n",
    "    #applicants=df_chunk['申请人'].str.split(';').explode().str.strip()\n",
    "    #holders=df_chunk['当前权利人'].str.split(';').explode().str.strip()\n",
    "    #filter_applicants=applicants[applicants.isin(gx_companies)]\n",
    "    \n",
    "    df_chunk['path'] = f_patent\n",
    "    df_chunk['高新申请人']=df_chunk['申请人'].str.split(';').apply(lambda x: [i.strip() for i in x if i.strip() in gx_companies] if isinstance(x, list) else [])\n",
    "    filter_df=df_chunk[df_chunk['高新申请人'].map(len)>0]\n",
    "    if not filter_df.empty:#filter_applicants.empty\n",
    "        #filter_df=df_chunk.iloc[filter_applicants.index.unique()]\n",
    "        #filter_df=df_chunk.loc[filter_applicants.index]\n",
    "        #filter_df['Co']=filter_applicants\n",
    "        patent_filter = pd.concat([patent_filter,filter_df], ignore_index=True)\n",
    "        print('filter:',filter_df['高新申请人'].explode().nunique(),filter_df.shape[0],patent_filter.shape[0],patent_filter.序号.max())#filter_applicants.nunique(),\n",
    "            \n",
    "        del filter_df\n",
    "\n",
    "    if i<=44:\n",
    "        continue\n",
    "    with open('E:\\Documents\\Jupyter\\data\\patent_data_202411.tsv','a',encoding=\"utf_8_sig\") as f: \n",
    "        # df_chunk.rename(\n",
    "        #      columns= {'提出实审时长':'进入实质审查时长',\n",
    "        #     '申请人国别代码':'申请人国家/地区',\n",
    "        #     '发明人国别':'发明人国家/地区',\n",
    "        #     '发明人地址':'发明人地址（原始）',}, inplace=True)\n",
    "        df_chunk.reindex(columns=data_columns, fill_value=None).to_csv(f,sep='\\t', mode=\"a\", index=False,header=f.tell()==0)#使用空值填充缺失的数据columns=data_columns,na_rep='NaN',转csv合并\n",
    "        \n",
    "    del df_chunk\n",
    "\n",
    "patent_filter"
   ]
  },
  {
   "cell_type": "code",
   "execution_count": 25,
   "id": "575afccd-5f23-48ac-b37e-1d92818cfec6",
   "metadata": {},
   "outputs": [
    {
     "data": {
      "text/plain": [
       "2"
      ]
     },
     "execution_count": 25,
     "metadata": {},
     "output_type": "execute_result"
    }
   ],
   "source": [
    "df_chunk['申请人'].isna().sum()"
   ]
  },
  {
   "cell_type": "code",
   "execution_count": 28,
   "id": "316d81aa-c0ac-4320-8258-f7edfe1c03d4",
   "metadata": {},
   "outputs": [
    {
     "data": {
      "text/plain": [
       "(391, 196)"
      ]
     },
     "execution_count": 28,
     "metadata": {},
     "output_type": "execute_result"
    }
   ],
   "source": [
    "df_chunk['高新申请人']=df_chunk['申请人'].str.split(';').apply(lambda x: [i.strip() for i in x if i.strip() in gx_companies] if isinstance(x, list) else [])\n",
    "filter_df=df_chunk[df_chunk['高新申请人'].map(len)>0]\n",
    "filter_df.shape"
   ]
  },
  {
   "cell_type": "code",
   "execution_count": 40,
   "id": "742e4661-dda4-4630-bdd6-0dc886018a66",
   "metadata": {},
   "outputs": [
    {
     "data": {
      "text/plain": [
       "(106421, 1459389, (1459390, 214))"
      ]
     },
     "execution_count": 40,
     "metadata": {},
     "output_type": "execute_result"
    }
   ],
   "source": [
    "patent_filter['高新申请人'].explode().nunique(),patent_filter['申请号'].nunique(),patent_filter.shape"
   ]
  },
  {
   "cell_type": "code",
   "execution_count": 41,
   "id": "090d70fd-c062-4779-8668-3f9737dcfb5f",
   "metadata": {},
   "outputs": [],
   "source": [
    "patent_filter['高新申请人']=patent_filter['高新申请人'].map(';'.join)"
   ]
  },
  {
   "cell_type": "code",
   "execution_count": 42,
   "id": "3c72e764-d641-4670-b86e-1fa8ac854c83",
   "metadata": {},
   "outputs": [],
   "source": [
    "os.chdir(u'E:\\\\Documents\\\\Jupyter')"
   ]
  },
  {
   "cell_type": "code",
   "execution_count": 43,
   "id": "0e973698-399f-432b-b912-f2d08f097948",
   "metadata": {},
   "outputs": [],
   "source": [
    "patent_filter.to_csv('data\\patent_co_gx_146_106k_2016b_202411.csv')"
   ]
  },
  {
   "cell_type": "code",
   "execution_count": 47,
   "id": "f771a726-2cf6-44d1-83b3-c446aa2416b9",
   "metadata": {},
   "outputs": [
    {
     "data": {
      "text/plain": [
       "Index(['转让次数', '转让执行日', '转让人', '转让人类型', '转让登记号', '转让登记日'], dtype='object')"
      ]
     },
     "execution_count": 47,
     "metadata": {},
     "output_type": "execute_result"
    }
   ],
   "source": [
    "patent_filter.filter(like='转让').columns"
   ]
  },
  {
   "cell_type": "code",
   "execution_count": 49,
   "id": "bcaedbc4-def9-4943-ac02-1eadc2e616a3",
   "metadata": {},
   "outputs": [
    {
     "data": {
      "text/plain": [
       "157626"
      ]
     },
     "execution_count": 49,
     "metadata": {},
     "output_type": "execute_result"
    }
   ],
   "source": [
    "(patent_filter['转让次数']>0).sum()"
   ]
  },
  {
   "cell_type": "code",
   "execution_count": 50,
   "id": "dfadc84f-064c-4d21-8264-92010739ec53",
   "metadata": {},
   "outputs": [
    {
     "data": {
      "text/plain": [
       "专利类型\n",
       "发明申请    1459390\n",
       "Name: count, dtype: int64"
      ]
     },
     "execution_count": 50,
     "metadata": {},
     "output_type": "execute_result"
    }
   ],
   "source": [
    "patent_filter.专利类型.value_counts()"
   ]
  },
  {
   "cell_type": "code",
   "execution_count": 13,
   "id": "f011f7d0-396d-4023-896a-4681491d6d53",
   "metadata": {},
   "outputs": [
    {
     "data": {
      "text/plain": [
       "(1459390, 1459390)"
      ]
     },
     "execution_count": 13,
     "metadata": {},
     "output_type": "execute_result"
    }
   ],
   "source": [
    "patent_filter_1.index.nunique(),patent_filter_1.序号.nunique()#1459390, 1459390"
   ]
  },
  {
   "cell_type": "code",
   "execution_count": 58,
   "id": "90f773dc-f5fc-4b9b-aa5d-9807d24adc85",
   "metadata": {},
   "outputs": [
    {
     "name": "stdout",
     "output_type": "stream",
     "text": [
      "(0, np.int64(14154), 14154).(1, np.int64(15844), 29998).(2, np.int64(13385), 43383).(3, np.int64(13020), 56403).(4, np.int64(11979), 68382).(5, np.int64(11426), 79808).(6, np.int64(11397), 91205).(7, np.int64(10347), 101552).(8, np.int64(9745), 111297).(9, np.int64(9428), 120725).(10, np.int64(8747), 129472).(11, np.int64(8454), 137926).(12, np.int64(7644), 145570).(13, np.int64(7369), 152939).(14, np.int64(4687), 157626)."
     ]
    }
   ],
   "source": [
    "patent_filter_1=pd.DataFrame()\n",
    "for i,df_chunk in enumerate(pd.read_csv('data/patent_co_gx_146_106k_2016b_202411.csv',chunksize=100000)):\n",
    "    df_chunk['高新申请人']=df_chunk['高新申请人'].str.split(';')#.apply(lambda x: [i.strip() for i in x if i.strip() in gx_companies] if isinstance(x, list) else [])\n",
    "    mask= (df_chunk['高新申请人'].map(len)>0)&(df_chunk['转让次数']>0)\n",
    "    if mask.sum()>0:\n",
    "        patent_filter_1 = pd.concat([patent_filter_1,df_chunk[mask]], ignore_index=True,axis=0)#.reindex(columns=cols)\n",
    "        print(f'{i,mask.sum(),patent_filter_1.shape[0]}.', end='', flush=True)"
   ]
  },
  {
   "cell_type": "code",
   "execution_count": 64,
   "id": "ba055b4a-e4fc-4e50-bfde-2d71a549ebf1",
   "metadata": {},
   "outputs": [],
   "source": [
    "import pickle\n",
    "dtypes = patent_filter.dtypes.to_dict()\n",
    "with open(\"data\\patent_data_types_2024.pkl\", \"wb\") as f:\n",
    "    pickle.dump(dtypes, f)"
   ]
  },
  {
   "cell_type": "code",
   "execution_count": 65,
   "id": "ddf28e2a-5cf9-491c-9608-21d7e78fcb71",
   "metadata": {},
   "outputs": [
    {
     "data": {
      "text/plain": [
       "序号               int64\n",
       "标题 (中文)         object\n",
       "标题 (英文)         object\n",
       "摘要 (中文)         object\n",
       "摘要 (英文)         object\n",
       "                 ...  \n",
       "DWPI专利权人/申请人    object\n",
       "DWPI发明人         object\n",
       "DWPI优先权国别-最早    object\n",
       "DWPI优先权号        object\n",
       "DWPI优先权国别       object\n",
       "Length: 214, dtype: object"
      ]
     },
     "execution_count": 65,
     "metadata": {},
     "output_type": "execute_result"
    }
   ],
   "source": [
    "patent_filter.dtypes"
   ]
  },
  {
   "cell_type": "code",
   "execution_count": 67,
   "id": "af239201-a8ee-4bde-94a5-7a3f4e8d367d",
   "metadata": {},
   "outputs": [
    {
     "data": {
      "text/plain": [
       "['公开（公告）日',\n",
       " '申请日',\n",
       " '优先权日',\n",
       " '最早优先权日',\n",
       " '首次公开日',\n",
       " '授权公告日',\n",
       " '实质审查生效日',\n",
       " '失效日',\n",
       " '预估到期日']"
      ]
     },
     "execution_count": 67,
     "metadata": {},
     "output_type": "execute_result"
    }
   ],
   "source": [
    "data_types=patent_filter.dtypes[patent_filter.dtypes!='datetime64[ns]'].to_dict()\n",
    "parse_dates=patent_filter.dtypes[patent_filter.dtypes=='datetime64[ns]'].index.to_list()\n",
    "parse_dates"
   ]
  },
  {
   "cell_type": "code",
   "execution_count": 72,
   "id": "ad34b41f-7cdb-4313-8bde-4d1b7763d845",
   "metadata": {},
   "outputs": [
    {
     "name": "stderr",
     "output_type": "stream",
     "text": [
      "Exception during reset or similar\n",
      "Traceback (most recent call last):\n",
      "  File \"C:\\Users\\Prime\\AppData\\Roaming\\Python\\Python39\\site-packages\\sqlalchemy\\pool\\base.py\", line 988, in _finalize_fairy\n",
      "    fairy._reset(\n",
      "  File \"C:\\Users\\Prime\\AppData\\Roaming\\Python\\Python39\\site-packages\\sqlalchemy\\pool\\base.py\", line 1436, in _reset\n",
      "    pool._dialect.do_rollback(self)\n",
      "  File \"C:\\Users\\Prime\\AppData\\Roaming\\Python\\Python39\\site-packages\\sqlalchemy\\engine\\default.py\", line 691, in do_rollback\n",
      "    dbapi_connection.rollback()\n",
      "  File \"C:\\Users\\Prime\\AppData\\Roaming\\Python\\Python39\\site-packages\\pymysql\\connections.py\", line 488, in rollback\n",
      "    self._read_ok_packet()\n",
      "  File \"C:\\Users\\Prime\\AppData\\Roaming\\Python\\Python39\\site-packages\\pymysql\\connections.py\", line 448, in _read_ok_packet\n",
      "    pkt = self._read_packet()\n",
      "  File \"C:\\Users\\Prime\\AppData\\Roaming\\Python\\Python39\\site-packages\\pymysql\\connections.py\", line 739, in _read_packet\n",
      "    packet_header = self._read_bytes(4)\n",
      "  File \"C:\\Users\\Prime\\AppData\\Roaming\\Python\\Python39\\site-packages\\pymysql\\connections.py\", line 795, in _read_bytes\n",
      "    raise err.OperationalError(\n",
      "pymysql.err.OperationalError: (2013, 'Lost connection to MySQL server during query')\n"
     ]
    },
    {
     "name": "stdout",
     "output_type": "stream",
     "text": [
      ".37.38.39.40.41.42.43.44.45.46.47.48.49.50.51.52.53.54.55.56.57.58.59.60.61.62.63.64.65.66.67.68.69.70.71"
     ]
    }
   ],
   "source": [
    "for i,df_chunk in enumerate(pd.read_csv('data\\patent_data_202411.tsv',chunksize=100000,sep='\\t',dtype=data_types,parse_dates=parse_dates)):\n",
    "    if i<=36:\n",
    "        continue\n",
    "    df_chunk['标题 (中文)']=df_chunk['标题 (中文)'].str.strip()\n",
    "    df_chunk['摘要 (中文)']=df_chunk['摘要 (中文)'].str.strip()\n",
    "    df_chunk['摘要 (英文)']=df_chunk['摘要 (英文)'].str.strip()\n",
    "    df_chunk['首项权利要求']=df_chunk['首项权利要求'].str.strip()\n",
    "    df_chunk['首权翻译']=df_chunk['首权翻译'].str.strip()\n",
    "    df_chunk['独立权利要求']=df_chunk['独立权利要求'].str.strip()\n",
    "    try:\n",
    "        df_chunk.to_sql('patent_incopat_2016b_202411', con=engine,chunksize=10000, if_exists='append', index=False)\n",
    "    except Exception as e:\n",
    "        print(f\"Error writing to SQL: {e}\")\n",
    "    print(f'.{i}', end='', flush=True)"
   ]
  },
  {
   "cell_type": "code",
   "execution_count": 7,
   "id": "f15a383d-b74c-4af1-bb45-5e28f6048414",
   "metadata": {},
   "outputs": [
    {
     "data": {
      "text/plain": [
       "Index(['序号', '标题 (中文)', '标题 (英文)', '摘要 (中文)', '摘要 (英文)', '申请人', '公开（公告）号',\n",
       "       '公开（公告）日', '申请号', '申请日',\n",
       "       ...\n",
       "       'DWPI分类号', 'DWPI手工代码', 'DWPI同族专利', 'DWPI同族国家/地区', 'DWPI同族ID',\n",
       "       'DWPI专利权人/申请人', 'DWPI发明人', 'DWPI优先权国别-最早', 'DWPI优先权号', 'DWPI优先权国别'],\n",
       "      dtype='object', length=213)"
      ]
     },
     "execution_count": 7,
     "metadata": {},
     "output_type": "execute_result"
    }
   ],
   "source": [
    "pd.read_csv('data\\\\source\\\\patent_data_202411_2.tsv',sep='\\t',nrows=10).columns"
   ]
  },
  {
   "cell_type": "code",
   "execution_count": 32,
   "id": "f06b6e1f-a620-4126-a9ae-b8fe19914478",
   "metadata": {},
   "outputs": [
    {
     "data": {
      "text/plain": [
       "Index(['序号', '标题 (中文)', '标题 (英文)', '摘要 (中文)', '摘要 (英文)', '申请人', '公开（公告）号',\n",
       "       '公开（公告）日', '申请号', '申请日',\n",
       "       ...\n",
       "       'DWPI分类号', 'DWPI手工代码', 'DWPI同族专利', 'DWPI同族国家/地区', 'DWPI同族ID',\n",
       "       'DWPI专利权人/申请人', 'DWPI发明人', 'DWPI优先权国别-最早', 'DWPI优先权号', 'DWPI优先权国别'],\n",
       "      dtype='object', length=214)"
      ]
     },
     "execution_count": 32,
     "metadata": {},
     "output_type": "execute_result"
    }
   ],
   "source": [
    "cols=patent_filter_1.columns\n",
    "cols"
   ]
  },
  {
   "cell_type": "code",
   "execution_count": 28,
   "id": "caa5da22-b75c-46bb-a409-117705619e8a",
   "metadata": {},
   "outputs": [],
   "source": [
    "del patent_filter_1"
   ]
  },
  {
   "cell_type": "code",
   "execution_count": 4,
   "id": "2dab9088-d45a-47ac-a773-533eb35e3dcc",
   "metadata": {},
   "outputs": [],
   "source": [
    "import warnings\n",
    "import gc\n",
    "warnings.filterwarnings(\"ignore\", category=UserWarning, module=\"openpyxl\")\n",
    "warnings.filterwarnings('ignore', category=pd.errors.DtypeWarning)"
   ]
  },
  {
   "cell_type": "code",
   "execution_count": 42,
   "id": "3f6f7957-58d1-4af3-8030-d2198203f697",
   "metadata": {},
   "outputs": [
    {
     "name": "stdout",
     "output_type": "stream",
     "text": [
      "(0, np.int64(2455), 2455).(1, np.int64(2355), 4810).(2, np.int64(2464), 7274).(3, np.int64(2291), 9565).(4, np.int64(2264), 11829).(5, np.int64(2216), 14045).(6, np.int64(2169), 16214).(7, np.int64(2250), 18464).(8, np.int64(2057), 20521).(9, np.int64(1642), 22163).(10, np.int64(1837), 24000).(11, np.int64(1917), 25917).(12, np.int64(1827), 27744).(13, np.int64(2222), 29966).(14, np.int64(1836), 31802).(15, np.int64(2056), 33858).(16, np.int64(1964), 35822).(17, np.int64(1779), 37601).(18, np.int64(1823), 39424).(19, np.int64(2013), 41437).(20, np.int64(1944), 43381).(21, np.int64(1788), 45169).(22, np.int64(2039), 47208).(23, np.int64(2092), 49300).(24, np.int64(2192), 51492).(25, np.int64(2144), 53636).(26, np.int64(2125), 55761).(27, np.int64(2050), 57811).(28, np.int64(2215), 60026).(29, np.int64(2840), 62866).(30, np.int64(2055), 64921).(31, np.int64(2021), 66942).(32, np.int64(1902), 68844).(33, np.int64(2059), 70903).(34, np.int64(1903), 72806).(35, np.int64(2033), 74839).(36, np.int64(1807), 76646).(37, np.int64(1936), 78582).(38, np.int64(2055), 80637).(39, np.int64(1786), 82423).(40, np.int64(1730), 84153).(41, np.int64(1876), 86029).(42, np.int64(2111), 88140).(43, np.int64(2151), 90291).(44, np.int64(1580), 91871).(45, np.int64(1704), 93575).(46, np.int64(1755), 95330).(47, np.int64(1861), 97191).(48, np.int64(1795), 98986).(49, np.int64(1596), 100582).(50, np.int64(1680), 102262).(51, np.int64(1588), 103850).(52, np.int64(1494), 105344).(53, np.int64(1530), 106874).(54, np.int64(1344), 108218).(55, np.int64(1483), 109701).(56, np.int64(1405), 111106).(57, np.int64(1507), 112613).(58, np.int64(1445), 114058).(59, np.int64(1502), 115560).(60, np.int64(876), 116436).CPU times: total: 1h 17min 23s\n",
      "Wall time: 1h 18min 23s\n"
     ]
    }
   ],
   "source": [
    "%%time\n",
    "patent_filter=pd.DataFrame()\n",
    "batch_count=0\n",
    "for i,df_chunk in enumerate(pd.read_csv('data/source/patent_data_202411_2.tsv',chunksize=100000,sep='\\t')):\n",
    "    df_chunk['高新申请人']=df_chunk['申请人'].str.split(';').apply(lambda x: [i.strip() for i in x if i.strip() in gx_companies] if isinstance(x, list) else [])\n",
    "    mask= (df_chunk['高新申请人'].map(len)>0)&(df_chunk['转让次数']>0)\n",
    "    if mask.sum()>0:\n",
    "        patent_filter = pd.concat([patent_filter,df_chunk[mask]], ignore_index=True,axis=0)#.reindex(columns=cols)\n",
    "        print(f'{i,mask.sum(),patent_filter.shape[0]}.', end='', flush=True)\n",
    "        #print('filter:',filter_df['高新申请人'].explode().nunique(),filter_df.shape[0],patent_filter.shape[0],patent_filter.序号.max())#filter_applicants.nunique(),  "
   ]
  },
  {
   "cell_type": "code",
   "execution_count": 31,
   "id": "d0f3d460-f74b-4d5a-b2dd-af3a270a2c53",
   "metadata": {},
   "outputs": [
    {
     "data": {
      "text/plain": [
       "1865"
      ]
     },
     "execution_count": 31,
     "metadata": {},
     "output_type": "execute_result"
    }
   ],
   "source": [
    "del patent_filter\n",
    "gc.collect()"
   ]
  },
  {
   "cell_type": "code",
   "execution_count": 47,
   "id": "acbf235f-f201-4f20-9a3c-828d448e0a2c",
   "metadata": {},
   "outputs": [
    {
     "data": {
      "text/plain": [
       "(116436, 214)"
      ]
     },
     "execution_count": 47,
     "metadata": {},
     "output_type": "execute_result"
    }
   ],
   "source": [
    "patent_filter.shape"
   ]
  },
  {
   "cell_type": "code",
   "execution_count": 48,
   "id": "54df07c7-40f7-4e08-8fb2-64ff4eb09148",
   "metadata": {},
   "outputs": [],
   "source": [
    "patent_filter['高新申请人']=patent_filter['高新申请人'].map(';'.join)"
   ]
  },
  {
   "cell_type": "code",
   "execution_count": 49,
   "id": "f12abb75-e897-470f-a1a4-9dbe21c6890a",
   "metadata": {},
   "outputs": [],
   "source": [
    "patent_filter.to_csv('data/temp.csv')"
   ]
  },
  {
   "cell_type": "code",
   "execution_count": 53,
   "id": "8e4b61da-6af7-42f7-a201-0bf9c25837fa",
   "metadata": {},
   "outputs": [
    {
     "data": {
      "text/plain": [
       "1506"
      ]
     },
     "execution_count": 53,
     "metadata": {},
     "output_type": "execute_result"
    }
   ],
   "source": [
    "gc.collect()"
   ]
  },
  {
   "cell_type": "code",
   "execution_count": 59,
   "id": "c3cbfb02-2b7a-4d3e-be14-6c404760a402",
   "metadata": {},
   "outputs": [
    {
     "data": {
      "text/plain": [
       "{'Unnamed: 0', 'path', '公司(标准)'}"
      ]
     },
     "execution_count": 59,
     "metadata": {},
     "output_type": "execute_result"
    }
   ],
   "source": [
    "set(patent_filter_1.columns)^set(patent_filter.columns)"
   ]
  },
  {
   "cell_type": "code",
   "execution_count": 66,
   "id": "ae8333b3-234b-46cf-9a4d-2a5d1f4e2cd4",
   "metadata": {},
   "outputs": [],
   "source": [
    "patent_filter_1['高新申请人']=patent_filter_1['高新申请人'].map(';'.join)"
   ]
  },
  {
   "cell_type": "code",
   "execution_count": 67,
   "id": "f11c67e0-ab42-45e1-8ab4-513089d3add6",
   "metadata": {},
   "outputs": [],
   "source": [
    "patent_co=pd.concat([patent_filter_1.reindex(columns=patent_filter.columns),patent_filter],axis=0)\n",
    "patent_co.申请日=pd.to_datetime(patent_co.申请日)\n",
    "patent_co.sort_values(['申请日','公开（公告）日'],inplace=True)"
   ]
  },
  {
   "cell_type": "code",
   "execution_count": 75,
   "id": "87c8ed2d-ae4f-4c8a-ab52-24e1c2c63c5e",
   "metadata": {},
   "outputs": [
    {
     "data": {
      "text/plain": [
       "((274062, 214), 272853, 42201, np.float64(331803.0))"
      ]
     },
     "execution_count": 75,
     "metadata": {},
     "output_type": "execute_result"
    }
   ],
   "source": [
    "patent_co.shape,patent_co.申请号.nunique(),patent_co['高新申请人'].str.strip(';').explode().nunique(),patent_co.转让次数.sum()"
   ]
  },
  {
   "cell_type": "code",
   "execution_count": 70,
   "id": "df26eb54-5861-48e6-9b06-16d3420f8163",
   "metadata": {},
   "outputs": [],
   "source": [
    "patent_co.to_csv('data/patent_gx_all_invention_transfer_2020b.csv',index=False)"
   ]
  },
  {
   "cell_type": "code",
   "execution_count": 73,
   "id": "126da712-5c06-4a07-bf2f-8281b633edf2",
   "metadata": {},
   "outputs": [
    {
     "data": {
      "text/plain": [
       "609595"
      ]
     },
     "execution_count": 73,
     "metadata": {},
     "output_type": "execute_result"
    }
   ],
   "source": [
    "len(gx_companies)"
   ]
  },
  {
   "cell_type": "code",
   "execution_count": 78,
   "id": "1d2cfcf4-aec1-48e5-9a5e-f367d368128b",
   "metadata": {},
   "outputs": [
    {
     "data": {
      "text/plain": [
       "3027"
      ]
     },
     "execution_count": 78,
     "metadata": {},
     "output_type": "execute_result"
    }
   ],
   "source": [
    "del patent_filter\n",
    "del patent_filter_1\n",
    "gc.collect()"
   ]
  },
  {
   "cell_type": "code",
   "execution_count": 87,
   "id": "a482f406-6614-4e67-a174-69c7140b5529",
   "metadata": {},
   "outputs": [
    {
     "data": {
      "text/plain": [
       "np.int64(2)"
      ]
     },
     "execution_count": 87,
     "metadata": {},
     "output_type": "execute_result"
    }
   ],
   "source": [
    "counts// 100000"
   ]
  },
  {
   "cell_type": "code",
   "execution_count": 7,
   "id": "96cc9ea9-419e-41f3-98df-0aa092a586d5",
   "metadata": {},
   "outputs": [
    {
     "data": {
      "text/plain": [
       "Index(['序号', '标题 (中文)', '标题 (英文)', '摘要 (中文)', '摘要 (英文)', '申请人', '公开（公告）号',\n",
       "       '公开（公告）日', '申请号', '申请日',\n",
       "       ...\n",
       "       'DWPI同族专利', 'DWPI同族国家/地区', 'DWPI同族ID', 'DWPI专利权人/申请人', 'DWPI发明人',\n",
       "       'DWPI优先权国别-最早', 'DWPI优先权号', 'DWPI优先权国别', 'DWPI标题', 'EP指定生效国'],\n",
       "      dtype='object', length=212)"
      ]
     },
     "execution_count": 7,
     "metadata": {},
     "output_type": "execute_result"
    }
   ],
   "source": [
    "expected_columns=pd.read_csv('data/patent_all_invention_transfer_2020b.tsv',nrows=10,sep='\\t').columns\n",
    "expected_columns"
   ]
  },
  {
   "cell_type": "code",
   "execution_count": 10,
   "id": "a02dbf41-66b6-4ed8-a8f1-9e122f41ccf8",
   "metadata": {},
   "outputs": [
    {
     "name": "stdout",
     "output_type": "stream",
     "text": [
      "(0, 10021).(1, 3589).(2, 6547).(3, 11963).(4, 13433).(5, 13770).(6, 14159).(7, 13476).(8, 13485).100443 0 (100443, 212) 100442 133514.0\n",
      "(9, 13274).(10, 12983).(11, 13015).(12, 12838).(13, 12433).(14, 12992).(15, 13420).(16, 12848).204246 1 (103803, 212) 103803 134607.0\n",
      "(17, 13459).(18, 13077).(19, 13663).(20, 13460).(21, 12779).(22, 12231).(23, 13074).(24, 12781).308770 2 (104524, 212) 104520 133323.0\n",
      "(25, 12204).(26, 12607).(27, 12344).(28, 12991).(29, 13077).(30, 12534).(31, 11901).(32, 11168).407596 3 (98826, 212) 98826 128028.0\n",
      "(33, 10940).(34, 12633).(35, 13125).(36, 12249).(37, 12272).(38, 12315).(39, 10474).(40, 10979).502583 4 (94987, 212) 94987 127443.0\n",
      "(41, 12496).(42, 13517).(43, 12062).(44, 12138).(45, 10427).(46, 10951).(47, 11035).(48, 9339).(49, 9747).604295 5 (101712, 212) 101712 139154.0\n",
      "(50, 12314).(51, 10809).(52, 10781).(53, 10540).(54, 9788).(55, 9808).(56, 9212).(57, 8507).(58, 8311).(59, 9642).704007 6 (99712, 212) 99712 135490.0\n",
      "(60, 10359).(61, 10418).(62, 10404).(63, 9817).(64, 9873).(65, 9560).(66, 9722).(67, 8747).(68, 8889).(69, 8606).800402 7 (96395, 212) 96395 129966.0\n",
      "(70, 8569).(71, 7926).71\n",
      "(0, 10162).(1, 10126).(2, 9448).(3, 8682).(4, 9055).(5, 9033).(6, 8050).(7, 8610).(8, 7551).(9, 7106).904720 8 (104318, 213) 104318 133508.0\n",
      "(10, 7158).(11, 7319).(12, 7370).(13, 7747).(14, 8840).(15, 9827).(16, 9411).(17, 9092).(18, 9453).(19, 8914).(20, 9083).(21, 8574).1007508 9 (102788, 213) 102788 128726.0\n",
      "(22, 8826).(23, 8883).(24, 9176).(25, 8416).(26, 8742).(27, 7938).(28, 7475).(29, 8576).(30, 8435).(31, 8586).(32, 8669).1101230 10 (93722, 213) 93722 114403.0\n",
      "(33, 8524).(34, 8242).(35, 8545).(36, 7982).(37, 8090).(38, 8126).(39, 7083).(40, 7311).(41, 7601).(42, 7456).(43, 6793).(44, 6924).(45, 8165).1202072 11 (100842, 213) 100842 119073.0\n",
      "(46, 7828).(47, 7875).(48, 7714).(49, 7492).(50, 7680).(51, 7065).(52, 7038).(53, 7310).(54, 6563).(55, 6284).(56, 6525).(57, 6119).(58, 5663).(59, 5756).(60, 2903).1301887 12 (99815, 213) 99815 113476.0\n",
      "CPU times: total: 27min 35s\n",
      "Wall time: 28min 10s\n"
     ]
    }
   ],
   "source": [
    "%%time\n",
    "# patent_filter=pd.DataFrame()\n",
    "filtered_chunks = []\n",
    "counts=0\n",
    "batch_count = 0\n",
    "for i,df_chunk in enumerate(pd.read_csv('data/source/patent_data_202411.tsv',chunksize=100000,sep='\\t')):\n",
    "    mask= (df_chunk['转让次数']>0)\n",
    "    if mask.sum()>0:\n",
    "        filtered_chunks.append(df_chunk[mask]) \n",
    "        counts+=mask.sum()\n",
    "        print(f'{i,int(mask.sum())}.', end='', flush=True)\n",
    "\n",
    "    if counts // 100000 > batch_count:\n",
    "        patent_filter = pd.concat(filtered_chunks, ignore_index=True)\n",
    "        print(counts,batch_count,patent_filter.shape,patent_filter.申请号.nunique(),patent_filter.转让次数.sum())\n",
    "        with open('data/patent_all_invention_transfer_2020b.tsv','a',encoding=\"utf_8_sig\") as f: \n",
    "            # patent_filter.reindex(columns=cols, fill_value=None).to_csv(f,sep='\\t', mode=\"a\", index=False,header=f.tell()==0)\n",
    "            patent_filter.reindex(columns=expected_columns, fill_value=None).to_csv(f, sep='\\t', index=False, header=f.tell() == 0)\n",
    "            \n",
    "        batch_count = counts // 100000\n",
    "        filtered_chunks = []\n",
    "        del patent_filter\n",
    "        gc.collect()\n",
    "\n",
    "    del df_chunk\n",
    "\n",
    "\n",
    "print(i)\n",
    "for i,df_chunk in enumerate(pd.read_csv('data/source/patent_data_202411_2.tsv',chunksize=100000,sep='\\t')):\n",
    "    mask= (df_chunk['转让次数']>0)\n",
    "    if mask.sum()>0:\n",
    "        filtered_chunks.append(df_chunk[mask]) \n",
    "        counts+=mask.sum()\n",
    "        print(f'{i,int(mask.sum())}.', end='', flush=True)\n",
    "\n",
    "    if counts // 100000 > batch_count:\n",
    "        patent_filter = pd.concat(filtered_chunks, ignore_index=True)\n",
    "        print(counts,batch_count,patent_filter.shape,patent_filter.申请号.nunique(),patent_filter.转让次数.sum())\n",
    "        with open('data/patent_all_invention_transfer_2020b.tsv','a',encoding=\"utf_8_sig\") as f: \n",
    "            # patent_filter.reindex(columns=cols, fill_value=None).to_csv(f,sep='\\t', mode=\"a\", index=False,header=f.tell()==0)\n",
    "            patent_filter.reindex(columns=expected_columns, fill_value=None).to_csv(f, sep='\\t', index=False, header=f.tell() == 0)\n",
    "            \n",
    "        batch_count =  counts // 100000\n",
    "        filtered_chunks = []\n",
    "        del patent_filter\n",
    "        gc.collect()\n",
    "\n",
    "    del df_chunk\n",
    "\n",
    "\n",
    "if filtered_chunks:\n",
    "    patent_filter = pd.concat(filtered_chunks, ignore_index=True)\n",
    "    with open('data/patent_all_invention_transfer_2020b.tsv', 'a', encoding=\"utf_8_sig\") as f:\n",
    "        patent_filter.reindex(columns=expected_columns, fill_value=None).to_csv(f, sep='\\t', index=False, header=f.tell() == 0)\n",
    "    del filtered_chunks\n",
    "    gc.collect()"
   ]
  },
  {
   "cell_type": "code",
   "execution_count": null,
   "id": "1d52a99c-760a-4e59-a207-0b87656df2fb",
   "metadata": {},
   "outputs": [],
   "source": [
    "patent_filter.申请日=pd.to_datetime(patent_filter.申请日)\n",
    "patent_filter['公开（公告）日']=pd.to_datetime(patent_filter['公开（公告）日'])\n",
    "patent_filter.sort_values(['申请日','公开（公告）日'],inplace=True)\n",
    "patent_filter.shape,patent_filter.申请号.nunique(),patent_filter.转让次数.sum()"
   ]
  },
  {
   "cell_type": "code",
   "execution_count": 17,
   "id": "34aa72a6-710b-4b6d-9f8c-b531aa4e06e8",
   "metadata": {},
   "outputs": [
    {
     "name": "stderr",
     "output_type": "stream",
     "text": [
      "C:\\Users\\Admin\\AppData\\Local\\Temp\\ipykernel_18684\\551241981.py:26: FutureWarning: The behavior of DataFrame concatenation with empty or all-NA entries is deprecated. In a future version, this will no longer exclude empty or all-NA columns when determining the result dtypes. To retain the old behavior, exclude the relevant entries before the concat operation.\n",
      "  final_data = pd.concat(all_data, ignore_index=True)\n",
      "C:\\Users\\Admin\\AppData\\Local\\Temp\\ipykernel_18684\\551241981.py:26: FutureWarning: The behavior of DataFrame concatenation with empty or all-NA entries is deprecated. In a future version, this will no longer exclude empty or all-NA columns when determining the result dtypes. To retain the old behavior, exclude the relevant entries before the concat operation.\n",
      "  final_data = pd.concat(all_data, ignore_index=True)\n"
     ]
    }
   ],
   "source": [
    "# 分页查询并导出\n",
    "page_size = 10000\n",
    "offset = 0\n",
    "all_data = []\n",
    "\n",
    "while True:\n",
    "    # 构造分页查询语句\n",
    "    query = f\"\"\"\n",
    "        SELECT * \n",
    "        FROM patent_incopat_202101_202211\n",
    "        WHERE 转让次数 > 0\n",
    "        AND 专利类型 = '发明申请'\n",
    "        LIMIT {page_size} OFFSET {offset};\n",
    "    \"\"\"\n",
    "    \n",
    "    df = pd.read_sql(query, engine)\n",
    "    \n",
    "    if df.empty:\n",
    "        break  # 如果没有数据，退出循环\n",
    "\n",
    "    all_data.append(df)\n",
    "\n",
    "    offset += page_size\n",
    "\n",
    "# 合并所有查询结果\n",
    "final_data = pd.concat(all_data, ignore_index=True)"
   ]
  },
  {
   "cell_type": "code",
   "execution_count": 22,
   "id": "76a21587-9f71-41dd-8c31-b8808c68a405",
   "metadata": {},
   "outputs": [
    {
     "name": "stderr",
     "output_type": "stream",
     "text": [
      "C:\\Users\\Admin\\AppData\\Local\\Temp\\ipykernel_18684\\4088520173.py:1: FutureWarning: The behavior of DataFrame concatenation with empty or all-NA entries is deprecated. In a future version, this will no longer exclude empty or all-NA columns when determining the result dtypes. To retain the old behavior, exclude the relevant entries before the concat operation.\n",
      "  final_data = pd.concat(all_data, ignore_index=True).dropna(axis=1, how='all')\n",
      "C:\\Users\\Admin\\AppData\\Local\\Temp\\ipykernel_18684\\4088520173.py:1: FutureWarning: The behavior of DataFrame concatenation with empty or all-NA entries is deprecated. In a future version, this will no longer exclude empty or all-NA columns when determining the result dtypes. To retain the old behavior, exclude the relevant entries before the concat operation.\n",
      "  final_data = pd.concat(all_data, ignore_index=True).dropna(axis=1, how='all')\n"
     ]
    },
    {
     "data": {
      "text/plain": [
       "(54546, 133)"
      ]
     },
     "execution_count": 22,
     "metadata": {},
     "output_type": "execute_result"
    }
   ],
   "source": [
    "final_data = pd.concat(all_data, ignore_index=True).dropna(axis=1, how='all')\n",
    "final_data.shape"
   ]
  },
  {
   "cell_type": "code",
   "execution_count": 23,
   "id": "6bb32097-d8bf-4677-bfc2-b3257d4177b3",
   "metadata": {},
   "outputs": [],
   "source": [
    "final_data.to_csv('data/patent_transfer_filter_202101_202211.csv', index=False)"
   ]
  },
  {
   "cell_type": "code",
   "execution_count": 24,
   "id": "bc5210eb-7c61-409b-a82e-af9e6880594a",
   "metadata": {},
   "outputs": [
    {
     "name": "stdout",
     "output_type": "stream",
     "text": [
      "1,252."
     ]
    },
    {
     "name": "stderr",
     "output_type": "stream",
     "text": [
      "C:\\Users\\Admin\\AppData\\Local\\Temp\\ipykernel_18684\\300055719.py:13: FutureWarning: The behavior of DataFrame concatenation with empty or all-NA entries is deprecated. In a future version, this will no longer exclude empty or all-NA columns when determining the result dtypes. To retain the old behavior, exclude the relevant entries before the concat operation.\n",
      "  final_data = pd.concat(all_data, ignore_index=True)\n",
      "C:\\Users\\Admin\\AppData\\Local\\Temp\\ipykernel_18684\\300055719.py:13: FutureWarning: The behavior of DataFrame concatenation with empty or all-NA entries is deprecated. In a future version, this will no longer exclude empty or all-NA columns when determining the result dtypes. To retain the old behavior, exclude the relevant entries before the concat operation.\n",
      "  final_data = pd.concat(all_data, ignore_index=True)\n"
     ]
    }
   ],
   "source": [
    "query = \"\"\"\n",
    "    SELECT * \n",
    "    FROM patent_incopat_202212_202312\n",
    "    WHERE 转让次数 > 0\n",
    "    AND 专利类型 = '发明申请'\n",
    "\"\"\"\n",
    "\n",
    "# all_data = []\n",
    "for i, chunk in enumerate(pd.read_sql_query(query, engine, chunksize=10000)):\n",
    "    print(f\"{i+1},{chunk.shape[0]}\", end='.', flush=True)\n",
    "    all_data.append(chunk)\n",
    "\n",
    "final_data = pd.concat(all_data, ignore_index=True).dropna(axis=1, how='all')\n",
    "final_data.to_csv('data/patent_transfer_filter_202101_202312.csv', index=False)"
   ]
  },
  {
   "cell_type": "code",
   "execution_count": 30,
   "id": "66802f49-2d49-4eea-9616-c0ce57a4f4d2",
   "metadata": {},
   "outputs": [
    {
     "data": {
      "text/plain": [
       "((54798, 135), (10000, 126))"
      ]
     },
     "execution_count": 30,
     "metadata": {},
     "output_type": "execute_result"
    }
   ],
   "source": [
    "final_data.shape,all_data[0].dropna(axis=1, how='all').shape"
   ]
  },
  {
   "cell_type": "code",
   "execution_count": 28,
   "id": "bc72e48f-088b-4394-b6ef-0ce263a4ceed",
   "metadata": {},
   "outputs": [
    {
     "data": {
      "text/plain": [
       "Index(['序号', '标题 (中文)', '标题 (英文)', '摘要 (中文)', '摘要 (英文)', '申请人', '公开（公告）号',\n",
       "       '公开（公告）日', '申请号', '申请日',\n",
       "       ...\n",
       "       '进入实质审查时长', '审查时长', '失效日', '专利寿命（月）', '合享价值度', '技术稳定性', '技术先进性', '保护范围',\n",
       "       '文献种类代码', 'update_time'],\n",
       "      dtype='object', length=135)"
      ]
     },
     "execution_count": 28,
     "metadata": {},
     "output_type": "execute_result"
    }
   ],
   "source": [
    "final_data.columns"
   ]
  },
  {
   "cell_type": "code",
   "execution_count": 32,
   "id": "7f7fa0e9-156b-4225-a366-c39c68151878",
   "metadata": {},
   "outputs": [
    {
     "data": {
      "text/plain": [
       "Index(['序号', '标题 (中文)', '标题 (英文)', '摘要 (中文)', '摘要 (英文)', '申请人', '公开（公告）号',\n",
       "       '公开（公告）日', '申请号', '申请日',\n",
       "       ...\n",
       "       'DWPI同族专利', 'DWPI同族国家/地区', 'DWPI同族ID', 'DWPI专利权人/申请人', 'DWPI发明人',\n",
       "       'DWPI优先权国别-最早', 'DWPI优先权号', 'DWPI优先权国别', 'DWPI标题', 'EP指定生效国'],\n",
       "      dtype='object', length=212)"
      ]
     },
     "execution_count": 32,
     "metadata": {},
     "output_type": "execute_result"
    }
   ],
   "source": [
    "patent_filter=pd.read_csv('data/patent_all_invention_transfer_2020b.tsv', sep='\\t',nrows=10)\n",
    "patent_filter.columns"
   ]
  },
  {
   "cell_type": "code",
   "execution_count": 33,
   "id": "82760fc7-1b9a-416f-959c-802dfe333c73",
   "metadata": {},
   "outputs": [
    {
     "data": {
      "text/plain": [
       "{'update_time'}"
      ]
     },
     "execution_count": 33,
     "metadata": {},
     "output_type": "execute_result"
    }
   ],
   "source": [
    "set(final_data.columns)-set(patent_filter.columns)"
   ]
  },
  {
   "cell_type": "code",
   "execution_count": 37,
   "id": "cccd3d26-4bcb-4bf5-8df7-56521142ea5d",
   "metadata": {},
   "outputs": [
    {
     "data": {
      "text/plain": [
       "(1301887, 134)"
      ]
     },
     "execution_count": 37,
     "metadata": {},
     "output_type": "execute_result"
    }
   ],
   "source": [
    "patent_filter=pd.read_csv('data/patent_all_invention_transfer_2020b.tsv', sep='\\t',usecols=final_data.columns[:-1])\n",
    "patent_filter.shape"
   ]
  },
  {
   "cell_type": "code",
   "execution_count": 39,
   "id": "e1f303d5-3b97-4c91-aa6b-ec49c282d1b1",
   "metadata": {},
   "outputs": [
    {
     "data": {
      "text/plain": [
       "(1356685, 135)"
      ]
     },
     "execution_count": 39,
     "metadata": {},
     "output_type": "execute_result"
    }
   ],
   "source": [
    "final_data=pd.concat([final_data,patent_filter], ignore_index=True)\n",
    "final_data.shape"
   ]
  },
  {
   "cell_type": "code",
   "execution_count": 42,
   "id": "2bb62411-3f98-4d3e-90d3-1c8345b54e44",
   "metadata": {},
   "outputs": [
    {
     "data": {
      "text/plain": [
       "(1329166, np.float64(1727629.0), 1329167)"
      ]
     },
     "execution_count": 42,
     "metadata": {},
     "output_type": "execute_result"
    }
   ],
   "source": [
    "final_data.申请号.nunique(),final_data.转让次数.sum(),final_data['公开（公告）号'].nunique()"
   ]
  },
  {
   "cell_type": "code",
   "execution_count": 43,
   "id": "9d862693-d86b-48ea-af7c-599932b8e724",
   "metadata": {},
   "outputs": [
    {
     "data": {
      "text/plain": [
       "(Timestamp('2023-12-26 00:00:00'), Timestamp('2024-10-18 00:00:00'))"
      ]
     },
     "execution_count": 43,
     "metadata": {},
     "output_type": "execute_result"
    }
   ],
   "source": [
    "final_data.申请日=pd.to_datetime(final_data.申请日)\n",
    "final_data['公开（公告）日']=pd.to_datetime(final_data['公开（公告）日'])\n",
    "final_data.申请日.max(),final_data['公开（公告）日'].max()"
   ]
  },
  {
   "cell_type": "code",
   "execution_count": 46,
   "id": "b3b8c281-8da5-4304-a2e1-04e675e98a25",
   "metadata": {},
   "outputs": [
    {
     "data": {
      "text/plain": [
       "Index(['公开（公告）日', '申请日', '工商成立日期', '复审无效决定日', '转让执行日', '许可合同备案日期', '复审决定日',\n",
       "       '无效决定日', '口审日期', '复审请求日', '优先权日', '最早优先权日', 'PCT进入国家阶段日', '首次公开日',\n",
       "       '授权公告日', '实质审查生效日', '失效日'],\n",
       "      dtype='object')"
      ]
     },
     "execution_count": 46,
     "metadata": {},
     "output_type": "execute_result"
    }
   ],
   "source": [
    "final_data.filter(like='日').columns"
   ]
  },
  {
   "cell_type": "code",
   "execution_count": 52,
   "id": "e14e6a85-fe0f-444f-8349-c890fc1aa761",
   "metadata": {},
   "outputs": [],
   "source": [
    "final_data['优先权日']=pd.to_datetime(final_data['优先权日'])\n",
    "final_data['授权公告日']=pd.to_datetime(final_data['授权公告日'])\n",
    "final_data['首次公开日']=pd.to_datetime(final_data['首次公开日'])"
   ]
  },
  {
   "cell_type": "code",
   "execution_count": 49,
   "id": "6e3ceecd-456e-4d7e-af7e-dc00abb24be7",
   "metadata": {},
   "outputs": [
    {
     "ename": "ValueError",
     "evalue": "time data \"2022-08-23, 2022-09-02\" doesn't match format \"%Y-%m-%d %H:%M:%S\", at position 12. You might want to try:\n    - passing `format` if your strings have a consistent format;\n    - passing `format='ISO8601'` if your strings are all ISO8601 but not necessarily in exactly the same format;\n    - passing `format='mixed'`, and the format will be inferred for each element individually. You might want to use `dayfirst` alongside this.",
     "output_type": "error",
     "traceback": [
      "\u001b[1;31m---------------------------------------------------------------------------\u001b[0m",
      "\u001b[1;31mValueError\u001b[0m                                Traceback (most recent call last)",
      "Cell \u001b[1;32mIn[49], line 1\u001b[0m\n\u001b[1;32m----> 1\u001b[0m \u001b[43mpd\u001b[49m\u001b[38;5;241;43m.\u001b[39;49m\u001b[43mto_datetime\u001b[49m\u001b[43m(\u001b[49m\u001b[43mfinal_data\u001b[49m\u001b[43m[\u001b[49m\u001b[38;5;124;43m'\u001b[39;49m\u001b[38;5;124;43m转让执行日\u001b[39;49m\u001b[38;5;124;43m'\u001b[39;49m\u001b[43m]\u001b[49m\u001b[43m)\u001b[49m\n",
      "File \u001b[1;32mD:\\Program Files\\Python\\Python313\\Lib\\site-packages\\pandas\\core\\tools\\datetimes.py:1063\u001b[0m, in \u001b[0;36mto_datetime\u001b[1;34m(arg, errors, dayfirst, yearfirst, utc, format, exact, unit, infer_datetime_format, origin, cache)\u001b[0m\n\u001b[0;32m   1061\u001b[0m             result \u001b[38;5;241m=\u001b[39m arg\u001b[38;5;241m.\u001b[39mtz_localize(\u001b[38;5;124m\"\u001b[39m\u001b[38;5;124mutc\u001b[39m\u001b[38;5;124m\"\u001b[39m)\n\u001b[0;32m   1062\u001b[0m \u001b[38;5;28;01melif\u001b[39;00m \u001b[38;5;28misinstance\u001b[39m(arg, ABCSeries):\n\u001b[1;32m-> 1063\u001b[0m     cache_array \u001b[38;5;241m=\u001b[39m \u001b[43m_maybe_cache\u001b[49m\u001b[43m(\u001b[49m\u001b[43marg\u001b[49m\u001b[43m,\u001b[49m\u001b[43m \u001b[49m\u001b[38;5;28;43mformat\u001b[39;49m\u001b[43m,\u001b[49m\u001b[43m \u001b[49m\u001b[43mcache\u001b[49m\u001b[43m,\u001b[49m\u001b[43m \u001b[49m\u001b[43mconvert_listlike\u001b[49m\u001b[43m)\u001b[49m\n\u001b[0;32m   1064\u001b[0m     \u001b[38;5;28;01mif\u001b[39;00m \u001b[38;5;129;01mnot\u001b[39;00m cache_array\u001b[38;5;241m.\u001b[39mempty:\n\u001b[0;32m   1065\u001b[0m         result \u001b[38;5;241m=\u001b[39m arg\u001b[38;5;241m.\u001b[39mmap(cache_array)\n",
      "File \u001b[1;32mD:\\Program Files\\Python\\Python313\\Lib\\site-packages\\pandas\\core\\tools\\datetimes.py:247\u001b[0m, in \u001b[0;36m_maybe_cache\u001b[1;34m(arg, format, cache, convert_listlike)\u001b[0m\n\u001b[0;32m    245\u001b[0m unique_dates \u001b[38;5;241m=\u001b[39m unique(arg)\n\u001b[0;32m    246\u001b[0m \u001b[38;5;28;01mif\u001b[39;00m \u001b[38;5;28mlen\u001b[39m(unique_dates) \u001b[38;5;241m<\u001b[39m \u001b[38;5;28mlen\u001b[39m(arg):\n\u001b[1;32m--> 247\u001b[0m     cache_dates \u001b[38;5;241m=\u001b[39m \u001b[43mconvert_listlike\u001b[49m\u001b[43m(\u001b[49m\u001b[43munique_dates\u001b[49m\u001b[43m,\u001b[49m\u001b[43m \u001b[49m\u001b[38;5;28;43mformat\u001b[39;49m\u001b[43m)\u001b[49m\n\u001b[0;32m    248\u001b[0m     \u001b[38;5;66;03m# GH#45319\u001b[39;00m\n\u001b[0;32m    249\u001b[0m     \u001b[38;5;28;01mtry\u001b[39;00m:\n",
      "File \u001b[1;32mD:\\Program Files\\Python\\Python313\\Lib\\site-packages\\pandas\\core\\tools\\datetimes.py:433\u001b[0m, in \u001b[0;36m_convert_listlike_datetimes\u001b[1;34m(arg, format, name, utc, unit, errors, dayfirst, yearfirst, exact)\u001b[0m\n\u001b[0;32m    431\u001b[0m \u001b[38;5;66;03m# `format` could be inferred, or user didn't ask for mixed-format parsing.\u001b[39;00m\n\u001b[0;32m    432\u001b[0m \u001b[38;5;28;01mif\u001b[39;00m \u001b[38;5;28mformat\u001b[39m \u001b[38;5;129;01mis\u001b[39;00m \u001b[38;5;129;01mnot\u001b[39;00m \u001b[38;5;28;01mNone\u001b[39;00m \u001b[38;5;129;01mand\u001b[39;00m \u001b[38;5;28mformat\u001b[39m \u001b[38;5;241m!=\u001b[39m \u001b[38;5;124m\"\u001b[39m\u001b[38;5;124mmixed\u001b[39m\u001b[38;5;124m\"\u001b[39m:\n\u001b[1;32m--> 433\u001b[0m     \u001b[38;5;28;01mreturn\u001b[39;00m \u001b[43m_array_strptime_with_fallback\u001b[49m\u001b[43m(\u001b[49m\u001b[43marg\u001b[49m\u001b[43m,\u001b[49m\u001b[43m \u001b[49m\u001b[43mname\u001b[49m\u001b[43m,\u001b[49m\u001b[43m \u001b[49m\u001b[43mutc\u001b[49m\u001b[43m,\u001b[49m\u001b[43m \u001b[49m\u001b[38;5;28;43mformat\u001b[39;49m\u001b[43m,\u001b[49m\u001b[43m \u001b[49m\u001b[43mexact\u001b[49m\u001b[43m,\u001b[49m\u001b[43m \u001b[49m\u001b[43merrors\u001b[49m\u001b[43m)\u001b[49m\n\u001b[0;32m    435\u001b[0m result, tz_parsed \u001b[38;5;241m=\u001b[39m objects_to_datetime64(\n\u001b[0;32m    436\u001b[0m     arg,\n\u001b[0;32m    437\u001b[0m     dayfirst\u001b[38;5;241m=\u001b[39mdayfirst,\n\u001b[1;32m   (...)\u001b[0m\n\u001b[0;32m    441\u001b[0m     allow_object\u001b[38;5;241m=\u001b[39m\u001b[38;5;28;01mTrue\u001b[39;00m,\n\u001b[0;32m    442\u001b[0m )\n\u001b[0;32m    444\u001b[0m \u001b[38;5;28;01mif\u001b[39;00m tz_parsed \u001b[38;5;129;01mis\u001b[39;00m \u001b[38;5;129;01mnot\u001b[39;00m \u001b[38;5;28;01mNone\u001b[39;00m:\n\u001b[0;32m    445\u001b[0m     \u001b[38;5;66;03m# We can take a shortcut since the datetime64 numpy array\u001b[39;00m\n\u001b[0;32m    446\u001b[0m     \u001b[38;5;66;03m# is in UTC\u001b[39;00m\n",
      "File \u001b[1;32mD:\\Program Files\\Python\\Python313\\Lib\\site-packages\\pandas\\core\\tools\\datetimes.py:467\u001b[0m, in \u001b[0;36m_array_strptime_with_fallback\u001b[1;34m(arg, name, utc, fmt, exact, errors)\u001b[0m\n\u001b[0;32m    456\u001b[0m \u001b[38;5;28;01mdef\u001b[39;00m \u001b[38;5;21m_array_strptime_with_fallback\u001b[39m(\n\u001b[0;32m    457\u001b[0m     arg,\n\u001b[0;32m    458\u001b[0m     name,\n\u001b[1;32m   (...)\u001b[0m\n\u001b[0;32m    462\u001b[0m     errors: \u001b[38;5;28mstr\u001b[39m,\n\u001b[0;32m    463\u001b[0m ) \u001b[38;5;241m-\u001b[39m\u001b[38;5;241m>\u001b[39m Index:\n\u001b[0;32m    464\u001b[0m \u001b[38;5;250m    \u001b[39m\u001b[38;5;124;03m\"\"\"\u001b[39;00m\n\u001b[0;32m    465\u001b[0m \u001b[38;5;124;03m    Call array_strptime, with fallback behavior depending on 'errors'.\u001b[39;00m\n\u001b[0;32m    466\u001b[0m \u001b[38;5;124;03m    \"\"\"\u001b[39;00m\n\u001b[1;32m--> 467\u001b[0m     result, tz_out \u001b[38;5;241m=\u001b[39m \u001b[43marray_strptime\u001b[49m\u001b[43m(\u001b[49m\u001b[43marg\u001b[49m\u001b[43m,\u001b[49m\u001b[43m \u001b[49m\u001b[43mfmt\u001b[49m\u001b[43m,\u001b[49m\u001b[43m \u001b[49m\u001b[43mexact\u001b[49m\u001b[38;5;241;43m=\u001b[39;49m\u001b[43mexact\u001b[49m\u001b[43m,\u001b[49m\u001b[43m \u001b[49m\u001b[43merrors\u001b[49m\u001b[38;5;241;43m=\u001b[39;49m\u001b[43merrors\u001b[49m\u001b[43m,\u001b[49m\u001b[43m \u001b[49m\u001b[43mutc\u001b[49m\u001b[38;5;241;43m=\u001b[39;49m\u001b[43mutc\u001b[49m\u001b[43m)\u001b[49m\n\u001b[0;32m    468\u001b[0m     \u001b[38;5;28;01mif\u001b[39;00m tz_out \u001b[38;5;129;01mis\u001b[39;00m \u001b[38;5;129;01mnot\u001b[39;00m \u001b[38;5;28;01mNone\u001b[39;00m:\n\u001b[0;32m    469\u001b[0m         unit \u001b[38;5;241m=\u001b[39m np\u001b[38;5;241m.\u001b[39mdatetime_data(result\u001b[38;5;241m.\u001b[39mdtype)[\u001b[38;5;241m0\u001b[39m]\n",
      "File \u001b[1;32mstrptime.pyx:501\u001b[0m, in \u001b[0;36mpandas._libs.tslibs.strptime.array_strptime\u001b[1;34m()\u001b[0m\n",
      "File \u001b[1;32mstrptime.pyx:451\u001b[0m, in \u001b[0;36mpandas._libs.tslibs.strptime.array_strptime\u001b[1;34m()\u001b[0m\n",
      "File \u001b[1;32mstrptime.pyx:583\u001b[0m, in \u001b[0;36mpandas._libs.tslibs.strptime._parse_with_format\u001b[1;34m()\u001b[0m\n",
      "\u001b[1;31mValueError\u001b[0m: time data \"2022-08-23, 2022-09-02\" doesn't match format \"%Y-%m-%d %H:%M:%S\", at position 12. You might want to try:\n    - passing `format` if your strings have a consistent format;\n    - passing `format='ISO8601'` if your strings are all ISO8601 but not necessarily in exactly the same format;\n    - passing `format='mixed'`, and the format will be inferred for each element individually. You might want to use `dayfirst` alongside this."
     ]
    }
   ],
   "source": [
    "pd.to_datetime(final_data['转让执行日'])"
   ]
  },
  {
   "cell_type": "code",
   "execution_count": 56,
   "id": "05f84707-12ae-4b17-89d3-4db4a583c499",
   "metadata": {},
   "outputs": [
    {
     "data": {
      "text/plain": [
       "Index(['转让次数', '转让执行日', '转让人'], dtype='object')"
      ]
     },
     "execution_count": 56,
     "metadata": {},
     "output_type": "execute_result"
    }
   ],
   "source": [
    "final_data.filter(like='转让').columns"
   ]
  },
  {
   "cell_type": "code",
   "execution_count": 58,
   "id": "f38f14d6-42e3-4034-9692-01e6a8816368",
   "metadata": {},
   "outputs": [
    {
     "data": {
      "text/plain": [
       "(np.int64(0), np.int64(0), np.int64(199706))"
      ]
     },
     "execution_count": 58,
     "metadata": {},
     "output_type": "execute_result"
    }
   ],
   "source": [
    "final_data['公开（公告）日'].isna().sum(),final_data['首次公开日'].isna().sum(),final_data['授权公告日'].isna().sum()"
   ]
  },
  {
   "cell_type": "code",
   "execution_count": 59,
   "id": "68ed52ba-32da-4d38-8440-6b1d1ea5eb4c",
   "metadata": {},
   "outputs": [
    {
     "data": {
      "text/plain": [
       "(1329192, 135)"
      ]
     },
     "execution_count": 59,
     "metadata": {},
     "output_type": "execute_result"
    }
   ],
   "source": [
    "final_data=final_data.sort_values(['申请日','公开（公告）日','首次公开日']).drop_duplicates(['申请号','公开（公告）号','转让执行日','转让人'],keep='first').reset_index(drop=True)\n",
    "final_data.shape"
   ]
  },
  {
   "cell_type": "code",
   "execution_count": 60,
   "id": "9ddf4e27-2a10-4740-a1d6-e8e15dfae1a9",
   "metadata": {},
   "outputs": [],
   "source": [
    "final_data.to_csv('data/patent_all_invention_transfer_2023b.tsv', sep='\\t', index=False)"
   ]
  },
  {
   "cell_type": "code",
   "execution_count": 61,
   "id": "8d5859b7-818e-4827-a944-bbe5134c4c02",
   "metadata": {},
   "outputs": [
    {
     "data": {
      "text/plain": [
       "申请日\n",
       "1985        37.0\n",
       "1986        21.0\n",
       "1987        76.0\n",
       "1988       111.0\n",
       "1989       134.0\n",
       "1990       158.0\n",
       "1991       195.0\n",
       "1992       351.0\n",
       "1993       727.0\n",
       "1994      1415.0\n",
       "1995      2228.0\n",
       "1996      3193.0\n",
       "1997      4443.0\n",
       "1998      6031.0\n",
       "1999      7484.0\n",
       "2000      9044.0\n",
       "2001     11691.0\n",
       "2002     16439.0\n",
       "2003     22231.0\n",
       "2004     26323.0\n",
       "2005     31470.0\n",
       "2006     35850.0\n",
       "2007     38545.0\n",
       "2008     45871.0\n",
       "2009     52516.0\n",
       "2010     60285.0\n",
       "2011     76228.0\n",
       "2012     94495.0\n",
       "2013    120114.0\n",
       "2014    128719.0\n",
       "2015    133511.0\n",
       "2016    153232.0\n",
       "2017    149856.0\n",
       "2018    170784.0\n",
       "2019    134667.0\n",
       "2020    127678.0\n",
       "2021     30368.0\n",
       "2022      2026.0\n",
       "2023       243.0\n",
       "Name: 转让次数, dtype: float64"
      ]
     },
     "execution_count": 61,
     "metadata": {},
     "output_type": "execute_result"
    }
   ],
   "source": [
    "final_data.groupby(final_data.申请日.dt.year).转让次数.sum()"
   ]
  },
  {
   "cell_type": "code",
   "execution_count": 64,
   "id": "a78c8862-7dc8-4823-81ef-f557e68ecc7d",
   "metadata": {},
   "outputs": [
    {
     "data": {
      "text/plain": [
       "转让人\n",
       "阿里巴巴集团控股有限公司         9762\n",
       "华为技术有限公司             9701\n",
       "先进创新技术有限公司           7046\n",
       "中兴通讯股份有限公司           6084\n",
       "微软公司                 5949\n",
       "                     ... \n",
       "云南省农业科学院热区生态农业研究所       1\n",
       "深圳市志和兴实业有限公司            1\n",
       "深圳市智享视觉科技有限公司           1\n",
       "汪行恺                     1\n",
       "宁夏轻工业设计研究所              1\n",
       "Name: count, Length: 345595, dtype: int64"
      ]
     },
     "execution_count": 64,
     "metadata": {},
     "output_type": "execute_result"
    }
   ],
   "source": [
    "final_data.转让人.str.split(';').explode().str.strip().value_counts()"
   ]
  },
  {
   "cell_type": "code",
   "execution_count": 66,
   "id": "3fa6a453-2283-4720-b363-7965e8130ba1",
   "metadata": {},
   "outputs": [
    {
     "data": {
      "text/plain": [
       "受让人\n",
       "国家电网公司           9210\n",
       "创新先进技术有限公司       7541\n",
       "先进创新技术有限公司       7046\n",
       "微软技术许可有限责任公司     6279\n",
       "海尔智家股份有限公司       5152\n",
       "                 ... \n",
       "克里斯托夫·拉博夫斯基         1\n",
       "联仕(江西)新材料有限公司       1\n",
       "联合开关及讯号有限公司         1\n",
       "辽宁好乐居智能科技有限公司       1\n",
       "成都英沃信科技有限公司         1\n",
       "Name: count, Length: 452059, dtype: int64"
      ]
     },
     "execution_count": 66,
     "metadata": {},
     "output_type": "execute_result"
    }
   ],
   "source": [
    "final_data.受让人.str.split(';').explode().str.strip().value_counts()"
   ]
  },
  {
   "cell_type": "code",
   "execution_count": 70,
   "id": "90390089-5377-4d1a-8ed0-4a3403360a05",
   "metadata": {},
   "outputs": [
    {
     "data": {
      "text/plain": [
       "标准受让人\n",
       "国家电网-C           31341\n",
       "青岛海尔-C           12849\n",
       "中国石油-C           10154\n",
       "中国石化-C            8809\n",
       "蚂蚁集团-C            8640\n",
       "                 ...  \n",
       "奥普梯专利研究和制造公司         1\n",
       "雷文斯堡机器股份公司           1\n",
       "克里斯托夫·拉博夫斯基          1\n",
       "交通大学-E               1\n",
       "安平县中石丝网制造有限公司        1\n",
       "Name: count, Length: 419573, dtype: int64"
      ]
     },
     "execution_count": 70,
     "metadata": {},
     "output_type": "execute_result"
    }
   ],
   "source": [
    "final_data.标准受让人.str.split(';').explode().str.strip().value_counts()"
   ]
  }
 ],
 "metadata": {
  "kernelspec": {
   "display_name": "Python 3 (ipykernel)",
   "language": "python",
   "name": "python3"
  },
  "language_info": {
   "codemirror_mode": {
    "name": "ipython",
    "version": 3
   },
   "file_extension": ".py",
   "mimetype": "text/x-python",
   "name": "python",
   "nbconvert_exporter": "python",
   "pygments_lexer": "ipython3",
   "version": "3.13.0"
  }
 },
 "nbformat": 4,
 "nbformat_minor": 5
}
