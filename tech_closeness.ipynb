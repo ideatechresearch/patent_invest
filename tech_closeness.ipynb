{
 "cells": [
  {
   "cell_type": "code",
   "execution_count": 1,
   "id": "1122b3e9-bbb7-4743-b923-68a400ce774f",
   "metadata": {},
   "outputs": [],
   "source": [
    "from gensim.models import Word2Vec,LdaModel,TfidfModel\n",
    "from sklearn.metrics.pairwise import cosine_similarity"
   ]
  },
  {
   "cell_type": "code",
   "execution_count": 1,
   "id": "dde213cc-fe05-4bea-9fd4-a0d25b62bac2",
   "metadata": {},
   "outputs": [],
   "source": [
    "import pandas as pd\n",
    "import pickle\n",
    "from collections import Counter,OrderedDict,defaultdict"
   ]
  },
  {
   "cell_type": "code",
   "execution_count": 2,
   "id": "52e44f74-743e-4199-b17f-8a04a0cf12d0",
   "metadata": {},
   "outputs": [
    {
     "data": {
      "text/html": [
       "<div>\n",
       "<style scoped>\n",
       "    .dataframe tbody tr th:only-of-type {\n",
       "        vertical-align: middle;\n",
       "    }\n",
       "\n",
       "    .dataframe tbody tr th {\n",
       "        vertical-align: top;\n",
       "    }\n",
       "\n",
       "    .dataframe thead th {\n",
       "        text-align: right;\n",
       "    }\n",
       "</style>\n",
       "<table border=\"1\" class=\"dataframe\">\n",
       "  <thead>\n",
       "    <tr style=\"text-align: right;\">\n",
       "      <th></th>\n",
       "      <th>序号</th>\n",
       "      <th>词语</th>\n",
       "    </tr>\n",
       "  </thead>\n",
       "  <tbody>\n",
       "    <tr>\n",
       "      <th>0</th>\n",
       "      <td>123</td>\n",
       "      <td>[竖式, 烧结, 冷却, 一种, 具有, 环形, 风道, 密闭, 结构, 竖式, 烧结, 冷...</td>\n",
       "    </tr>\n",
       "    <tr>\n",
       "      <th>1</th>\n",
       "      <td>142</td>\n",
       "      <td>[具有, 抗静电, 轻垢, 液体, 洗衣, 洗涤剂, 提供, 一种, 透明, 半透明, 具有...</td>\n",
       "    </tr>\n",
       "    <tr>\n",
       "      <th>2</th>\n",
       "      <td>154</td>\n",
       "      <td>[麦白, 霉素, 胃溶片, 生产工艺, 技术, 一种, 麦白, 霉素, 胃溶片, 生产工艺,...</td>\n",
       "    </tr>\n",
       "    <tr>\n",
       "      <th>3</th>\n",
       "      <td>160</td>\n",
       "      <td>[药品, 包装盒, 省略, 视图]</td>\n",
       "    </tr>\n",
       "    <tr>\n",
       "      <th>4</th>\n",
       "      <td>165</td>\n",
       "      <td>[变幅, 摇头, 电风扇, 一种, 变幅, 摇头, 电风扇, 包括, 扇体, 扇体, 变幅,...</td>\n",
       "    </tr>\n",
       "  </tbody>\n",
       "</table>\n",
       "</div>"
      ],
      "text/plain": [
       "    序号                                                 词语\n",
       "0  123  [竖式, 烧结, 冷却, 一种, 具有, 环形, 风道, 密闭, 结构, 竖式, 烧结, 冷...\n",
       "1  142  [具有, 抗静电, 轻垢, 液体, 洗衣, 洗涤剂, 提供, 一种, 透明, 半透明, 具有...\n",
       "2  154  [麦白, 霉素, 胃溶片, 生产工艺, 技术, 一种, 麦白, 霉素, 胃溶片, 生产工艺,...\n",
       "3  160                                  [药品, 包装盒, 省略, 视图]\n",
       "4  165  [变幅, 摇头, 电风扇, 一种, 变幅, 摇头, 电风扇, 包括, 扇体, 扇体, 变幅,..."
      ]
     },
     "execution_count": 2,
     "metadata": {},
     "output_type": "execute_result"
    }
   ],
   "source": [
    "wd_data=pd.read_parquet('data\\patent_cut_doc.parquet')\n",
    "wd_data.head()"
   ]
  },
  {
   "cell_type": "code",
   "execution_count": 3,
   "id": "9bd68175-2412-4ac2-8137-346d47975636",
   "metadata": {},
   "outputs": [
    {
     "data": {
      "text/plain": [
       "(1889962, 2)"
      ]
     },
     "execution_count": 3,
     "metadata": {},
     "output_type": "execute_result"
    }
   ],
   "source": [
    "wd_data['词语']=wd_data['词语'].dropna().apply(lambda x: x.tolist())#[arr.tolist() for arr in array_data]\n",
    "wd_data.shape"
   ]
  },
  {
   "cell_type": "code",
   "execution_count": 4,
   "id": "95f54f1a-a842-4532-b4d8-7cf23a07a517",
   "metadata": {},
   "outputs": [
    {
     "data": {
      "text/html": [
       "<div>\n",
       "<style scoped>\n",
       "    .dataframe tbody tr th:only-of-type {\n",
       "        vertical-align: middle;\n",
       "    }\n",
       "\n",
       "    .dataframe tbody tr th {\n",
       "        vertical-align: top;\n",
       "    }\n",
       "\n",
       "    .dataframe thead th {\n",
       "        text-align: right;\n",
       "    }\n",
       "</style>\n",
       "<table border=\"1\" class=\"dataframe\">\n",
       "  <thead>\n",
       "    <tr style=\"text-align: right;\">\n",
       "      <th></th>\n",
       "      <th>Co</th>\n",
       "      <th>序号</th>\n",
       "    </tr>\n",
       "  </thead>\n",
       "  <tbody>\n",
       "    <tr>\n",
       "      <th>0</th>\n",
       "      <td>(株)裕元复合技术</td>\n",
       "      <td>[168359, 168360]</td>\n",
       "    </tr>\n",
       "    <tr>\n",
       "      <th>1</th>\n",
       "      <td>AQUA株式会社</td>\n",
       "      <td>[849273, 849274, 868169, 881006, 888028, 89001...</td>\n",
       "    </tr>\n",
       "    <tr>\n",
       "      <th>2</th>\n",
       "      <td>Beijing Xiaomi Mobile Software Co Ltd</td>\n",
       "      <td>[1962646, 1962680, 1962681, 1962682]</td>\n",
       "    </tr>\n",
       "    <tr>\n",
       "      <th>3</th>\n",
       "      <td>CIBT 美国公司</td>\n",
       "      <td>[358829, 528718, 577795, 1666940, 1668014, 266...</td>\n",
       "    </tr>\n",
       "    <tr>\n",
       "      <th>4</th>\n",
       "      <td>CIBT美国公司</td>\n",
       "      <td>[361402, 427635, 427637, 427638, 427639, 42764...</td>\n",
       "    </tr>\n",
       "  </tbody>\n",
       "</table>\n",
       "</div>"
      ],
      "text/plain": [
       "                                      Co  \\\n",
       "0                              (株)裕元复合技术   \n",
       "1                               AQUA株式会社   \n",
       "2  Beijing Xiaomi Mobile Software Co Ltd   \n",
       "3                              CIBT 美国公司   \n",
       "4                               CIBT美国公司   \n",
       "\n",
       "                                                  序号  \n",
       "0                                   [168359, 168360]  \n",
       "1  [849273, 849274, 868169, 881006, 888028, 89001...  \n",
       "2               [1962646, 1962680, 1962681, 1962682]  \n",
       "3  [358829, 528718, 577795, 1666940, 1668014, 266...  \n",
       "4  [361402, 427635, 427637, 427638, 427639, 42764...  "
      ]
     },
     "execution_count": 4,
     "metadata": {},
     "output_type": "execute_result"
    }
   ],
   "source": [
    "co_data=pd.read_parquet('data\\patent_co_ids.parquet')\n",
    "co_data.head()"
   ]
  },
  {
   "cell_type": "code",
   "execution_count": 7,
   "id": "89dc3564-97fc-4f20-8438-735a481b0d5a",
   "metadata": {},
   "outputs": [
    {
     "data": {
      "text/plain": [
       "(30180, 2)"
      ]
     },
     "execution_count": 7,
     "metadata": {},
     "output_type": "execute_result"
    }
   ],
   "source": [
    "co_data['序号']=co_data['序号'].apply(lambda x: x.tolist())\n",
    "co_data.shape"
   ]
  },
  {
   "cell_type": "code",
   "execution_count": 178,
   "id": "d389dc94-4525-46cc-83ab-352a7317e21b",
   "metadata": {},
   "outputs": [
    {
     "data": {
      "text/plain": [
       "(47920, 4)"
      ]
     },
     "execution_count": 178,
     "metadata": {},
     "output_type": "execute_result"
    }
   ],
   "source": [
    "df_co=pd.read_excel('data\\公司融资变量2_20240301.xlsx',usecols=['公司序号','公司简称','工商全称','行业'])\n",
    "df_co.shape"
   ]
  },
  {
   "cell_type": "code",
   "execution_count": 16,
   "id": "ae784e36-fd23-4c97-be82-b38cb9d578a6",
   "metadata": {},
   "outputs": [
    {
     "data": {
      "text/plain": [
       "行业\n",
       "先进制造    20416\n",
       "医疗健康    13709\n",
       "传统制造     8678\n",
       "金融       5117\n",
       "Name: count, dtype: int64"
      ]
     },
     "execution_count": 16,
     "metadata": {},
     "output_type": "execute_result"
    }
   ],
   "source": [
    "df_co.行业.value_counts()"
   ]
  },
  {
   "cell_type": "code",
   "execution_count": 35,
   "id": "78eea46a-d923-4932-8811-f05d0a232157",
   "metadata": {},
   "outputs": [
    {
     "data": {
      "text/plain": [
       "行业\n",
       "传统制造     5704\n",
       "先进制造    10062\n",
       "医疗健康     6442\n",
       "金融       2947\n",
       "Name: 公司序号, dtype: int64"
      ]
     },
     "execution_count": 35,
     "metadata": {},
     "output_type": "execute_result"
    }
   ],
   "source": [
    "df_co.groupby('行业')['公司序号'].nunique()"
   ]
  },
  {
   "cell_type": "code",
   "execution_count": 563,
   "id": "512a0ca3-3cf2-4f6c-84b4-d6f31f801bd9",
   "metadata": {},
   "outputs": [
    {
     "data": {
      "text/plain": [
       "'计算机'"
      ]
     },
     "execution_count": 563,
     "metadata": {},
     "output_type": "execute_result"
    }
   ],
   "source": [
    "a={'计算机': 0, '可读': 1, '方法': 2, '一种': 2,}\n",
    "list(a)[0]"
   ]
  },
  {
   "cell_type": "code",
   "execution_count": 575,
   "id": "ad2fbccb-959c-4b62-b0ca-76ff22aa39cb",
   "metadata": {},
   "outputs": [
    {
     "data": {
      "text/plain": [
       "[8, 6, 7, 8]"
      ]
     },
     "execution_count": 575,
     "metadata": {},
     "output_type": "execute_result"
    }
   ],
   "source": [
    "tokens = re.split(r'[^\\w\\s]| ','gh:d5,8?6,yu;7.8'.strip())\n",
    "numbers = [int(i) for i in tokens if i.isdigit()]\n",
    "numbers "
   ]
  },
  {
   "cell_type": "code",
   "execution_count": 2,
   "id": "43678801-bc9b-4e05-b4ec-ec1bb6bf8f99",
   "metadata": {},
   "outputs": [
    {
     "data": {
      "text/plain": [
       "(1889962, 2)"
      ]
     },
     "execution_count": 2,
     "metadata": {},
     "output_type": "execute_result"
    }
   ],
   "source": [
    "# wd_data=pd.read_csv('X:\\Downloads\\Patent\\patent_cut_doc_2024.csv',index_col=0)\n",
    "# wd_data.columns=['序号','词语']\n",
    "# import ast\n",
    "# wd_data['词语']=wd_data['词语'].dropna().map(lambda x: ast.literal_eval(x))\n",
    "\n",
    "#wd_data=pd.read_pickle('data\\patent_cut_doc.pkl')\n",
    "wd_data=pd.read_parquet('data\\patent_cut_doc.parquet')\n",
    "wd_data['词语']=wd_data['词语'].dropna().apply(lambda x: x.tolist())#[arr.tolist() for arr in array_data]\n",
    "wd_data.shape"
   ]
  },
  {
   "cell_type": "code",
   "execution_count": 20,
   "id": "c2cd08dc-6243-4861-adea-eb5c59cf4b71",
   "metadata": {},
   "outputs": [],
   "source": [
    "from w2v_lda import *"
   ]
  },
  {
   "cell_type": "code",
   "execution_count": 101,
   "id": "72790429-6d0c-49a3-82e4-f84deed99f67",
   "metadata": {},
   "outputs": [
    {
     "data": {
      "text/plain": [
       "(113090, 4)"
      ]
     },
     "execution_count": 101,
     "metadata": {},
     "output_type": "execute_result"
    }
   ],
   "source": [
    "data_1=pd.read_csv('data/金融科技文本.csv',index_col=0)\n",
    "data_1.shape"
   ]
  },
  {
   "cell_type": "code",
   "execution_count": 144,
   "id": "2ef1a0f6-2e35-4c19-bad6-232a091debd7",
   "metadata": {},
   "outputs": [
    {
     "data": {
      "text/plain": [
       "Index(['序号', '标题 (中文)', '摘要 (中文)', '申请人'], dtype='object')"
      ]
     },
     "execution_count": 144,
     "metadata": {},
     "output_type": "execute_result"
    }
   ],
   "source": [
    "data_1.columns"
   ]
  },
  {
   "cell_type": "code",
   "execution_count": 34,
   "id": "8299afa5-a7dd-4be7-8054-ea3b87454af6",
   "metadata": {},
   "outputs": [
    {
     "data": {
      "text/plain": [
       "6913"
      ]
     },
     "execution_count": 34,
     "metadata": {},
     "output_type": "execute_result"
    }
   ],
   "source": [
    "Stopwords=set(read2list('data\\\\专利停用词表2024.txt'))\n",
    "len(Stopwords)"
   ]
  },
  {
   "cell_type": "code",
   "execution_count": 105,
   "id": "9b1b24a6-9b7e-4cb4-9d17-e935550ea261",
   "metadata": {},
   "outputs": [
    {
     "name": "stderr",
     "output_type": "stream",
     "text": [
      "Building prefix dict from the default dictionary ...\n",
      "Loading model from cache C:\\Users\\Prime\\AppData\\Local\\Temp\\jieba.cache\n",
      "Loading model cost 0.791 seconds.\n",
      "Prefix dict has been built successfully.\n"
     ]
    }
   ],
   "source": [
    "model_wl=W2vLda(data_1['序号'],\n",
    "             data_1['申请人'].str.split(';', expand=True).stack().str.strip().reset_index(level=1, drop=True).rename('Co'),\n",
    "             data_1['标题 (中文)'].str.cat(data_1['摘要 (中文)'].replace(np.nan,'')),#data['标题 (中文)'].str.cat(data['摘要 (中文)']).dropna().apply(lambda x: [w.strip() for w in jieba.lcut(clean_w(x)) if len(w) > 1 and w not in Stopwords])\n",
    "             Stopwords,\n",
    "             suffix='金融科技'\n",
    "            )"
   ]
  },
  {
   "cell_type": "code",
   "execution_count": 106,
   "id": "b40617b9-86eb-4db4-8951-d739f7ac8806",
   "metadata": {},
   "outputs": [
    {
     "data": {
      "text/plain": [
       "111350"
      ]
     },
     "execution_count": 106,
     "metadata": {},
     "output_type": "execute_result"
    }
   ],
   "source": [
    "model_wl.wd_data.count()"
   ]
  },
  {
   "cell_type": "code",
   "execution_count": 109,
   "id": "b8a615fb-76f2-4f58-b39f-686f4b00558a",
   "metadata": {},
   "outputs": [],
   "source": [
    "model_wl.on_corpus(vector_size=250,sg=0,window=5,count_fifter=5,min_count=2,chunksize=3000,passes=3,num_topics=20)#5+15\n",
    "topics_vec,documents_vec=model_wl.on_topics(top_n_words=20, top_n_topics=5,weight_threshold_topics=0.05)"
   ]
  },
  {
   "cell_type": "code",
   "execution_count": 110,
   "id": "f7e0a91a-efbf-441a-a1b1-b0d71df5e93a",
   "metadata": {},
   "outputs": [],
   "source": [
    "model_wl.save()"
   ]
  },
  {
   "cell_type": "code",
   "execution_count": 149,
   "id": "9e6637b8-4496-41d5-b4fc-4f231cd4b159",
   "metadata": {},
   "outputs": [
    {
     "data": {
      "text/plain": [
       "36698"
      ]
     },
     "execution_count": 149,
     "metadata": {},
     "output_type": "execute_result"
    }
   ],
   "source": [
    "len(model_wl.wo.wv)"
   ]
  },
  {
   "cell_type": "code",
   "execution_count": 111,
   "id": "dab168f3-4f69-4ea5-83f7-2a52bc6a7ffe",
   "metadata": {},
   "outputs": [
    {
     "name": "stdout",
     "output_type": "stream",
     "text": [
      "CPU times: total: 3.8 s\n",
      "Wall time: 3.81 s\n"
     ]
    },
    {
     "data": {
      "text/plain": [
       "(1019, 250)"
      ]
     },
     "execution_count": 111,
     "metadata": {},
     "output_type": "execute_result"
    }
   ],
   "source": [
    "%%time\n",
    "co_ids_vec=model_wl.union_vec(documents_vec)\n",
    "co_ids_vec.to_parquet(f'data\\patent_co_vec_{model_wl.suffix}.parquet')#to_csv('data\\patent_co_vec_2024.csv')#co2vecs = {key:v for key,v in zip(co_ids_vec.index,co_ids_vec.values)}\n",
    "co_ids_vec.shape"
   ]
  },
  {
   "cell_type": "code",
   "execution_count": 27,
   "id": "8f779899-d4d9-4cda-80fb-3d0e71a8fd71",
   "metadata": {},
   "outputs": [],
   "source": [
    "co_data['先进制造']=np.where(co_data['Co'].isin(df_co.loc[df_co.行业=='先进制造','工商全称']),1,0)#.isin(['先进制造', '医疗健康'])\n",
    "co_data['医疗健康']=np.where(co_data['Co'].isin(df_co.loc[df_co.行业=='医疗健康','工商全称']),1,0)\n",
    "co_data['传统制造']=np.where(co_data['Co'].isin(df_co.loc[df_co.行业=='传统制造','工商全称']),1,0)\n",
    "co_data['金融']=np.where(co_data['Co'].isin(df_co.loc[df_co.行业=='金融','工商全称']),1,0)"
   ]
  },
  {
   "cell_type": "code",
   "execution_count": 44,
   "id": "c104ea7f-fd54-4a86-8b27-bb541f704daa",
   "metadata": {},
   "outputs": [],
   "source": [
    "hy_cols=co_data.iloc[:,-4:].columns"
   ]
  },
  {
   "cell_type": "code",
   "execution_count": 45,
   "id": "1177192d-b296-481c-bf94-a6c824ecb449",
   "metadata": {},
   "outputs": [
    {
     "data": {
      "text/plain": [
       "先进制造    7370\n",
       "医疗健康    3611\n",
       "传统制造    4555\n",
       "金融       651\n",
       "dtype: int64"
      ]
     },
     "execution_count": 45,
     "metadata": {},
     "output_type": "execute_result"
    }
   ],
   "source": [
    "co_data[hy_cols].sum()#专利行业公司数量"
   ]
  },
  {
   "cell_type": "code",
   "execution_count": 38,
   "id": "a70e04a1-920a-445f-98a3-540af967f54f",
   "metadata": {},
   "outputs": [
    {
     "data": {
      "text/plain": [
       "1    16183\n",
       "0    13995\n",
       "2        2\n",
       "Name: count, dtype: int64"
      ]
     },
     "execution_count": 38,
     "metadata": {},
     "output_type": "execute_result"
    }
   ],
   "source": [
    "co_data[hy_cols].sum(axis=1).value_counts()"
   ]
  },
  {
   "cell_type": "code",
   "execution_count": 39,
   "id": "2d277ca6-c6a0-44b7-add2-3aaee67411f0",
   "metadata": {},
   "outputs": [
    {
     "data": {
      "text/html": [
       "<div>\n",
       "<style scoped>\n",
       "    .dataframe tbody tr th:only-of-type {\n",
       "        vertical-align: middle;\n",
       "    }\n",
       "\n",
       "    .dataframe tbody tr th {\n",
       "        vertical-align: top;\n",
       "    }\n",
       "\n",
       "    .dataframe thead th {\n",
       "        text-align: right;\n",
       "    }\n",
       "</style>\n",
       "<table border=\"1\" class=\"dataframe\">\n",
       "  <thead>\n",
       "    <tr style=\"text-align: right;\">\n",
       "      <th></th>\n",
       "      <th>Co</th>\n",
       "      <th>序号</th>\n",
       "      <th>先进制造</th>\n",
       "      <th>医疗健康</th>\n",
       "      <th>传统制造</th>\n",
       "      <th>金融</th>\n",
       "    </tr>\n",
       "  </thead>\n",
       "  <tbody>\n",
       "    <tr>\n",
       "      <th>16576</th>\n",
       "      <td>明阳智慧能源集团股份公司</td>\n",
       "      <td>[621834, 631671, 639356, 658627, 672222, 67225...</td>\n",
       "      <td>1</td>\n",
       "      <td>0</td>\n",
       "      <td>1</td>\n",
       "      <td>0</td>\n",
       "    </tr>\n",
       "    <tr>\n",
       "      <th>28728</th>\n",
       "      <td>重庆小爱科技有限公司</td>\n",
       "      <td>[659189, 673006, 678109, 722973, 756993, 77545...</td>\n",
       "      <td>1</td>\n",
       "      <td>1</td>\n",
       "      <td>0</td>\n",
       "      <td>0</td>\n",
       "    </tr>\n",
       "  </tbody>\n",
       "</table>\n",
       "</div>"
      ],
      "text/plain": [
       "                 Co                                                 序号  先进制造  \\\n",
       "16576  明阳智慧能源集团股份公司  [621834, 631671, 639356, 658627, 672222, 67225...     1   \n",
       "28728    重庆小爱科技有限公司  [659189, 673006, 678109, 722973, 756993, 77545...     1   \n",
       "\n",
       "       医疗健康  传统制造  金融  \n",
       "16576     0     1   0  \n",
       "28728     1     0   0  "
      ]
     },
     "execution_count": 39,
     "metadata": {},
     "output_type": "execute_result"
    }
   ],
   "source": [
    "co_data[co_data[hy_cols].sum(axis=1)==2]"
   ]
  },
  {
   "cell_type": "code",
   "execution_count": 102,
   "id": "c551352d-0560-4f1b-b748-22b074987777",
   "metadata": {},
   "outputs": [
    {
     "data": {
      "text/plain": [
       "(3206, 3)"
      ]
     },
     "execution_count": 102,
     "metadata": {},
     "output_type": "execute_result"
    }
   ],
   "source": [
    "df_co_1=pd.read_excel('data//df_patent_invest_diff.xlsx',usecols=['序号','公司名','公司全称'])\n",
    "df_co_1.shape"
   ]
  },
  {
   "cell_type": "code",
   "execution_count": 111,
   "id": "a525a6e4-b429-4fda-a936-8d61ccdc6719",
   "metadata": {},
   "outputs": [],
   "source": [
    "df_co_1['公司序号']=df_co['公司序号'].max()+df_co_1['序号']\n",
    "df_co_1['行业']='金融'"
   ]
  },
  {
   "cell_type": "code",
   "execution_count": 112,
   "id": "b01d0210-4d92-4152-b5a9-311204efa2a2",
   "metadata": {},
   "outputs": [
    {
     "data": {
      "text/html": [
       "<div>\n",
       "<style scoped>\n",
       "    .dataframe tbody tr th:only-of-type {\n",
       "        vertical-align: middle;\n",
       "    }\n",
       "\n",
       "    .dataframe tbody tr th {\n",
       "        vertical-align: top;\n",
       "    }\n",
       "\n",
       "    .dataframe thead th {\n",
       "        text-align: right;\n",
       "    }\n",
       "</style>\n",
       "<table border=\"1\" class=\"dataframe\">\n",
       "  <thead>\n",
       "    <tr style=\"text-align: right;\">\n",
       "      <th></th>\n",
       "      <th>公司序号</th>\n",
       "      <th>公司简称</th>\n",
       "      <th>工商全称</th>\n",
       "      <th>行业</th>\n",
       "    </tr>\n",
       "  </thead>\n",
       "  <tbody>\n",
       "    <tr>\n",
       "      <th>0</th>\n",
       "      <td>25156</td>\n",
       "      <td>盈米基金</td>\n",
       "      <td>珠海盈米基金销售有限公司</td>\n",
       "      <td>金融</td>\n",
       "    </tr>\n",
       "    <tr>\n",
       "      <th>9</th>\n",
       "      <td>25157</td>\n",
       "      <td>金证股份</td>\n",
       "      <td>深圳市金证科技股份有限公司</td>\n",
       "      <td>金融</td>\n",
       "    </tr>\n",
       "    <tr>\n",
       "      <th>35</th>\n",
       "      <td>25158</td>\n",
       "      <td>开鑫科技</td>\n",
       "      <td>开鑫科技有限公司</td>\n",
       "      <td>金融</td>\n",
       "    </tr>\n",
       "    <tr>\n",
       "      <th>47</th>\n",
       "      <td>25159</td>\n",
       "      <td>神州信息</td>\n",
       "      <td>神州数码信息服务集团股份有限公司</td>\n",
       "      <td>金融</td>\n",
       "    </tr>\n",
       "    <tr>\n",
       "      <th>78</th>\n",
       "      <td>25165</td>\n",
       "      <td>宇信科技</td>\n",
       "      <td>北京宇信科技集团股份有限公司</td>\n",
       "      <td>金融</td>\n",
       "    </tr>\n",
       "    <tr>\n",
       "      <th>...</th>\n",
       "      <td>...</td>\n",
       "      <td>...</td>\n",
       "      <td>...</td>\n",
       "      <td>...</td>\n",
       "    </tr>\n",
       "    <tr>\n",
       "      <th>3136</th>\n",
       "      <td>25505</td>\n",
       "      <td>连连数字</td>\n",
       "      <td>连连数字科技股份有限公司</td>\n",
       "      <td>金融</td>\n",
       "    </tr>\n",
       "    <tr>\n",
       "      <th>3153</th>\n",
       "      <td>25507</td>\n",
       "      <td>快钱</td>\n",
       "      <td>快钱支付清算信息有限公司</td>\n",
       "      <td>金融</td>\n",
       "    </tr>\n",
       "    <tr>\n",
       "      <th>3173</th>\n",
       "      <td>25508</td>\n",
       "      <td>九次方大数据</td>\n",
       "      <td>九次方大数据信息集团有限公司</td>\n",
       "      <td>金融</td>\n",
       "    </tr>\n",
       "    <tr>\n",
       "      <th>3190</th>\n",
       "      <td>25509</td>\n",
       "      <td>平安医保科技</td>\n",
       "      <td>平安医疗健康管理股份有限公司</td>\n",
       "      <td>金融</td>\n",
       "    </tr>\n",
       "    <tr>\n",
       "      <th>3198</th>\n",
       "      <td>25511</td>\n",
       "      <td>爱因互动</td>\n",
       "      <td>爱因互动科技发展（北京）有限公司</td>\n",
       "      <td>金融</td>\n",
       "    </tr>\n",
       "  </tbody>\n",
       "</table>\n",
       "<p>258 rows × 4 columns</p>\n",
       "</div>"
      ],
      "text/plain": [
       "       公司序号    公司简称              工商全称  行业\n",
       "0     25156    盈米基金      珠海盈米基金销售有限公司  金融\n",
       "9     25157    金证股份     深圳市金证科技股份有限公司  金融\n",
       "35    25158    开鑫科技          开鑫科技有限公司  金融\n",
       "47    25159    神州信息  神州数码信息服务集团股份有限公司  金融\n",
       "78    25165    宇信科技    北京宇信科技集团股份有限公司  金融\n",
       "...     ...     ...               ...  ..\n",
       "3136  25505    连连数字      连连数字科技股份有限公司  金融\n",
       "3153  25507      快钱      快钱支付清算信息有限公司  金融\n",
       "3173  25508  九次方大数据    九次方大数据信息集团有限公司  金融\n",
       "3190  25509  平安医保科技    平安医疗健康管理股份有限公司  金融\n",
       "3198  25511    爱因互动  爱因互动科技发展（北京）有限公司  金融\n",
       "\n",
       "[258 rows x 4 columns]"
      ]
     },
     "execution_count": 112,
     "metadata": {},
     "output_type": "execute_result"
    }
   ],
   "source": [
    "df_co_1[df_co.columns]=df_co_1[['公司序号','公司名','公司全称','行业']]\n",
    "df_co_1=df_co_1[df_co.columns].drop_duplicates()\n",
    "df_co_1"
   ]
  },
  {
   "cell_type": "code",
   "execution_count": 119,
   "id": "da540763-d02a-44b4-bea9-91ff42972d77",
   "metadata": {},
   "outputs": [
    {
     "data": {
      "text/plain": [
       "先进制造    7370\n",
       "医疗健康    3611\n",
       "传统制造    4555\n",
       "金融       666\n",
       "dtype: int64"
      ]
     },
     "execution_count": 119,
     "metadata": {},
     "output_type": "execute_result"
    }
   ],
   "source": [
    "co_data['金融']=np.where(co_data['Co'].isin(df_co.loc[df_co.行业=='金融','工商全称'].to_list()+df_co_1['工商全称'].to_list()),1,0)#co_data->patent['申请人'].stack()->co_unstack->patent_co"
   ]
  },
  {
   "cell_type": "code",
   "execution_count": 54,
   "id": "b744dd72-30ef-4f4e-9570-406d05f6a9b8",
   "metadata": {},
   "outputs": [
    {
     "data": {
      "text/plain": [
       "count    1.884186e+06\n",
       "mean     8.448259e+01\n",
       "std      2.706101e+01\n",
       "min      1.000000e+00\n",
       "25%      7.100000e+01\n",
       "50%      9.000000e+01\n",
       "75%      1.030000e+02\n",
       "max      4.330000e+03\n",
       "Name: 词语, dtype: float64"
      ]
     },
     "execution_count": 54,
     "metadata": {},
     "output_type": "execute_result"
    }
   ],
   "source": [
    "wd_data['词语'].dropna().apply(len).describe()"
   ]
  },
  {
   "cell_type": "code",
   "execution_count": 8,
   "id": "eb5b8e06-80e3-46b3-b613-6e1648c7cc94",
   "metadata": {},
   "outputs": [],
   "source": [
    "import multiprocessing\n",
    "args ={\n",
    "'vector_size': 250, # 定义向量维度大小\n",
    "'sg': 0,\n",
    "'window':5,\n",
    "'len_below':2,#word\n",
    "'no_below':3,\n",
    "'min_count':2,\n",
    "'count_fifter':5,#doc\n",
    "    \n",
    "'num_topics': 50,  # 定义主题数\n",
    "'top_n_words': 10,  # 每个主题显示几个词\n",
    "'top_n_topics': 3,   # 每个文档前几个主题   \n",
    "}"
   ]
  },
  {
   "cell_type": "code",
   "execution_count": 14,
   "id": "98d8349c-970a-4dde-a39b-f8f23cd23059",
   "metadata": {},
   "outputs": [
    {
     "data": {
      "text/plain": [
       "6700"
      ]
     },
     "execution_count": 14,
     "metadata": {},
     "output_type": "execute_result"
    }
   ],
   "source": [
    "wd_data['count_fifter']=(wd_data['词语'].dropna().apply(len)>=args.get('count_fifter',0))\n",
    "wd_data['count_fifter']=np.where(wd_data['count_fifter'].fillna(False),1,0)\n",
    "(wd_data['count_fifter']==0).sum()"
   ]
  },
  {
   "cell_type": "code",
   "execution_count": 80,
   "id": "dfe849d5-7572-444f-99c8-656d68a57342",
   "metadata": {},
   "outputs": [
    {
     "name": "stdout",
     "output_type": "stream",
     "text": [
      "先进制造 1198281 1197859\n",
      "医疗健康 208306 208184\n",
      "传统制造 428404 428027\n",
      "金融 51849 51846\n"
     ]
    }
   ],
   "source": [
    "for col in co_data[hy_cols].columns:#各行业专利数量\n",
    "    id_filter=co_data[co_data[col]==1].序号.explode().dropna().unique()\n",
    "    mask=wd_data.序号.isin(id_filter)\n",
    "    print(col,mask.sum(),(mask&(wd_data['count_fifter']==1)).sum())"
   ]
  },
  {
   "cell_type": "code",
   "execution_count": 4,
   "id": "17499a42-7711-4d94-be01-dbc153f0fab3",
   "metadata": {},
   "outputs": [],
   "source": [
    "suffix='188'\n",
    "wo = Word2Vec.load(f'data\\patent_w2v_{suffix}.model') "
   ]
  },
  {
   "cell_type": "code",
   "execution_count": 9,
   "id": "c0670733-8398-462e-8eef-8a9030ef1165",
   "metadata": {},
   "outputs": [
    {
     "data": {
      "text/plain": [
       "369401"
      ]
     },
     "execution_count": 9,
     "metadata": {},
     "output_type": "execute_result"
    }
   ],
   "source": [
    "len(wo.wv)"
   ]
  },
  {
   "cell_type": "code",
   "execution_count": 15,
   "id": "9fc35ba7-95b2-4417-a3b3-cfa0c011ff5c",
   "metadata": {},
   "outputs": [
    {
     "name": "stdout",
     "output_type": "stream",
     "text": [
      "369401,CPU times: total: 1h 10min 57s\n",
      "Wall time: 11min 26s\n"
     ]
    }
   ],
   "source": [
    "%%time\n",
    "processed_doc=wd_data.loc[(wd_data['count_fifter']==1),'词语']\n",
    "wo = Word2Vec(processed_doc, \n",
    "    sg=0,vector_size=args['vector_size'], \n",
    "    window=args.get('window',5), min_count=args.get('min_count',2), \n",
    "    workers=multiprocessing.cpu_count())\n",
    "print(len(wo.wv),end=',')\n",
    "suffix='188_37'\n",
    "wo.save(f'data\\patent_w2v_{suffix}.model')\n",
    "word_tf_df = pd.concat([processed_doc.explode().value_counts().rename('tf'),\n",
    "                        processed_doc.apply(set).explode().value_counts().rename('df')], axis=1)\n",
    "print(len(word_tf_df))\n",
    "word_tf_df.to_csv(f'data\\patent_word_tf_df_{suffix}.csv')"
   ]
  },
  {
   "cell_type": "code",
   "execution_count": 16,
   "id": "20fd5230-7d8e-42fb-ad6e-8860b3e4d74b",
   "metadata": {},
   "outputs": [
    {
     "data": {
      "text/plain": [
       "369401"
      ]
     },
     "execution_count": 16,
     "metadata": {},
     "output_type": "execute_result"
    }
   ],
   "source": [
    "len(wo.wv)"
   ]
  },
  {
   "cell_type": "code",
   "execution_count": 17,
   "id": "86b06dfb-a6f1-4eba-9936-3d825506e6e6",
   "metadata": {},
   "outputs": [
    {
     "data": {
      "text/plain": [
       "[('直观', 0.7415724992752075),\n",
       " ('一目了然', 0.7063091397285461),\n",
       " ('清晰', 0.6693571209907532),\n",
       " ('看清', 0.6317227482795715),\n",
       " ('看见', 0.6122201681137085),\n",
       " ('知晓', 0.6069212555885315),\n",
       " ('醒目', 0.5860776901245117),\n",
       " ('生动', 0.5851907134056091),\n",
       " ('了解', 0.5724356174468994),\n",
       " ('通过观察', 0.5713804960250854)]"
      ]
     },
     "execution_count": 17,
     "metadata": {},
     "output_type": "execute_result"
    }
   ],
   "source": [
    "wo.wv.most_similar('清楚')"
   ]
  },
  {
   "cell_type": "code",
   "execution_count": 5,
   "id": "004da29a-f153-451a-896c-3c914fadecb0",
   "metadata": {},
   "outputs": [
    {
     "data": {
      "text/plain": [
       "491868"
      ]
     },
     "execution_count": 5,
     "metadata": {},
     "output_type": "execute_result"
    }
   ],
   "source": [
    "word_tf_df=pd.read_csv('data\\patent_word_tf_df_188.csv',index_col=0)\n",
    "len(word_tf_df)"
   ]
  },
  {
   "cell_type": "code",
   "execution_count": 23,
   "id": "1766c0c1-488c-43c0-8d66-0bf92915a1fa",
   "metadata": {},
   "outputs": [],
   "source": [
    "tf=word_tf_df.tf.to_dict()\n",
    "df=word_tf_df.df.to_dict()\n",
    "index=list(range(len(wo.wv)))\n",
    "payload=[{\"word\": word,'index':idx,'tf':tf.get(word,1),'df':df.get(word,1)} for word,idx in wo.wv.key_to_index.items()]\n",
    "points=dm.Batch(\n",
    "    ids=index,\n",
    "    vectors=wo.wv.vectors.tolist(),\n",
    "    payloads=payload\n",
    ")"
   ]
  },
  {
   "cell_type": "code",
   "execution_count": 24,
   "id": "bca7b148-5d3c-412c-9eae-d98626629e1b",
   "metadata": {},
   "outputs": [
    {
     "data": {
      "text/plain": [
       "{'word': '所述', 'index': 0, 'tf': 4465309, 'df': 835740}"
      ]
     },
     "execution_count": 24,
     "metadata": {},
     "output_type": "execute_result"
    }
   ],
   "source": [
    "payload[0]"
   ]
  },
  {
   "cell_type": "code",
   "execution_count": 57,
   "id": "66c386ea-d910-4076-a574-3a6483ff62b6",
   "metadata": {},
   "outputs": [
    {
     "data": {
      "text/plain": [
       "[('第一', 0.7976444959640503),\n",
       " ('第二', 0.7429819703102112),\n",
       " ('对应', 0.6360769271850586),\n",
       " ('位于', 0.6147632598876953),\n",
       " ('接收', 0.6065434217453003),\n",
       " ('若干', 0.6026199460029602),\n",
       " ('用于', 0.6019775867462158),\n",
       " ('第三', 0.5926758050918579),\n",
       " ('设有', 0.5878143310546875),\n",
       " ('若干个', 0.5732915997505188)]"
      ]
     },
     "execution_count": 57,
     "metadata": {},
     "output_type": "execute_result"
    }
   ],
   "source": [
    "wo.wv.most_similar('所述')"
   ]
  },
  {
   "cell_type": "code",
   "execution_count": 56,
   "id": "9efa5332-94b6-4024-8aec-a11ca222d552",
   "metadata": {},
   "outputs": [],
   "source": [
    "collection_name=f'专利_w2v_{suffix}'\n",
    "if not client.collection_exists(collection_name=collection_name):\n",
    "    client.create_collection(\n",
    "        collection_name=collection_name,\n",
    "        vectors_config=VectorParams(size=args['vector_size'], distance=Distance.COSINE),#encoder.get_sentence_embedding_dimension(),\n",
    "        #optimizer_config=OptimizersConfigDiff(indexing_threshold=0),#上传期间禁用索引,避免不必要的向量索引，这些向量将被下一批覆盖\n",
    "        #shard_number=2#集合都拆分为分片,2-4\n",
    "    )#{ \"size\": 128, \"distance\": \"Cosine\" }"
   ]
  },
  {
   "cell_type": "code",
   "execution_count": 26,
   "id": "1132d460-7cd5-43ef-97f4-390dc77361aa",
   "metadata": {},
   "outputs": [
    {
     "data": {
      "text/plain": [
       "UpdateResult(operation_id=0, status=<UpdateStatus.COMPLETED: 'completed'>)"
      ]
     },
     "execution_count": 26,
     "metadata": {},
     "output_type": "execute_result"
    }
   ],
   "source": [
    "client.upsert(collection_name=collection_name,points = points) "
   ]
  },
  {
   "cell_type": "code",
   "execution_count": 53,
   "id": "5d92e35a-891d-40cc-922e-9e9299f0b23f",
   "metadata": {},
   "outputs": [
    {
     "data": {
      "text/plain": [
       "CollectionsResponse(collections=[CollectionDescription(name='企业_w2v_lda'), CollectionDescription(name='专利_w2v'), CollectionDescription(name='专利_w2v_188_37'), CollectionDescription(name='my_collection'), CollectionDescription(name='places_bank')])"
      ]
     },
     "execution_count": 53,
     "metadata": {},
     "output_type": "execute_result"
    }
   ],
   "source": [
    "#client.upload_collection\n",
    "client.get_collections()"
   ]
  },
  {
   "cell_type": "code",
   "execution_count": 59,
   "id": "bda1cc71-c865-4e75-be6d-a4ab4ff2d43f",
   "metadata": {},
   "outputs": [
    {
     "data": {
      "text/plain": [
       "CollectionInfo(status=<CollectionStatus.GREEN: 'green'>, optimizer_status=<OptimizersStatusOneOf.OK: 'ok'>, vectors_count=None, indexed_vectors_count=369401, points_count=369401, segments_count=4, config=CollectionConfig(params=CollectionParams(vectors=VectorParams(size=250, distance=<Distance.COSINE: 'Cosine'>, hnsw_config=None, quantization_config=None, on_disk=None, datatype=None), shard_number=1, sharding_method=None, replication_factor=1, write_consistency_factor=1, read_fan_out_factor=None, on_disk_payload=True, sparse_vectors=None), hnsw_config=HnswConfig(m=16, ef_construct=100, full_scan_threshold=10000, max_indexing_threads=0, on_disk=False, payload_m=None), optimizer_config=OptimizersConfig(deleted_threshold=0.2, vacuum_min_vector_number=1000, default_segment_number=0, max_segment_size=None, memmap_threshold=None, indexing_threshold=20000, flush_interval_sec=5, max_optimization_threads=None), wal_config=WalConfig(wal_capacity_mb=32, wal_segments_ahead=0), quantization_config=None), payload_schema={})"
      ]
     },
     "execution_count": 59,
     "metadata": {},
     "output_type": "execute_result"
    }
   ],
   "source": [
    "client.get_collection('专利_w2v_188_37')"
   ]
  },
  {
   "cell_type": "code",
   "execution_count": 37,
   "id": "9152061d-0839-4934-84b2-cd69defca628",
   "metadata": {},
   "outputs": [
    {
     "data": {
      "text/plain": [
       "CountResult(count=369401)"
      ]
     },
     "execution_count": 37,
     "metadata": {},
     "output_type": "execute_result"
    }
   ],
   "source": [
    "client.count(collection_name=collection_name)"
   ]
  },
  {
   "cell_type": "code",
   "execution_count": 58,
   "id": "ec64c5b6-7284-4237-a476-08ab9fc7ff54",
   "metadata": {},
   "outputs": [
    {
     "data": {
      "text/plain": [
       "{'第一': 0.7976446747779846,\n",
       " '第二': 0.742982029914856,\n",
       " '对应': 0.6360769271850586,\n",
       " '位于': 0.6147635579109192,\n",
       " '接收': 0.6065433025360107,\n",
       " '若干': 0.6026200652122498,\n",
       " '用于': 0.6019777655601501,\n",
       " '第三': 0.5926758646965027,\n",
       " '设有': 0.5878143906593323,\n",
       " '若干个': 0.5732916593551636}"
      ]
     },
     "execution_count": 58,
     "metadata": {},
     "output_type": "execute_result"
    }
   ],
   "source": [
    "resutls=client.retrieve(collection_name=collection_name,ids=[0],with_vectors=True)\n",
    "query_vector=resutls[0].vector\n",
    "hits = client.search(\n",
    "    collection_name=collection_name,\n",
    "    query_vector=query_vector,\n",
    "    limit=10,  # Return 5 closest points\n",
    "    search_params=SearchParams(exact=True,\n",
    "                               quantization=QuantizationSearchParams(rescore=True)),\n",
    "\n",
    "    offset=1\n",
    ")\n",
    "{p.payload['word']:p.score for p in hits}"
   ]
  },
  {
   "cell_type": "code",
   "execution_count": 125,
   "id": "7a5d64df-dacd-49c5-9952-a40f55b82e17",
   "metadata": {},
   "outputs": [
    {
     "name": "stdout",
     "output_type": "stream",
     "text": [
      "先进制造 1198281 1197859\n",
      "242276,320113\n",
      "医疗健康 208306 208184\n",
      "107847,143706\n",
      "传统制造 428404 428027\n",
      "178276,239976\n",
      "金融 54508 54505\n",
      "29128,38664\n"
     ]
    }
   ],
   "source": [
    "%%time\n",
    "for col in hy_cols:\n",
    "    id_filter=co_data[co_data[col]==1].序号.explode().dropna().unique()\n",
    "    mask=wd_data.序号.isin(id_filter)\n",
    "    print(col,mask.sum(),(mask&(wd_data['count_fifter']==1)).sum())\n",
    "    suffix=col\n",
    "    processed_doc=wd_data.loc[mask&(wd_data['count_fifter']==1),'词语']\n",
    "    \n",
    "    wo = Word2Vec(processed_doc, \n",
    "        sg=args.get('sg',0),vector_size=args['vector_size'], \n",
    "        window=args.get('window',5), min_count=args.get('min_count',2), \n",
    "        workers=multiprocessing.cpu_count())\n",
    "    print(len(wo.wv),end=',')\n",
    "    word_tf_df = pd.concat([processed_doc.explode().value_counts().rename('tf'),\n",
    "                            processed_doc.apply(set).explode().value_counts().rename('df')], axis=1)\n",
    "    print(len(word_tf_df))\n",
    "\n",
    "    wo.save(f'data\\patent_w2v_{suffix}.model')\n",
    "    word_tf_df.to_csv(f'data\\patent_word_tf_df_{suffix}.csv')"
   ]
  },
  {
   "cell_type": "code",
   "execution_count": 60,
   "id": "829dcb20-4b42-4712-838c-b6a4f42ba8a1",
   "metadata": {},
   "outputs": [],
   "source": [
    "from qdrant_client.models import OrderBy"
   ]
  },
  {
   "cell_type": "code",
   "execution_count": 68,
   "id": "fff6dfe5-eba5-4944-bbad-0516f5245680",
   "metadata": {
    "scrolled": true
   },
   "outputs": [
    {
     "data": {
      "text/plain": [
       "OrderBy(key='word', direction=<Direction.ASC: 'asc'>, start_from=None)"
      ]
     },
     "execution_count": 68,
     "metadata": {},
     "output_type": "execute_result"
    }
   ],
   "source": [
    "OrderBy(key='df',direction='asc')"
   ]
  },
  {
   "cell_type": "code",
   "execution_count": null,
   "id": "1fcdf616-1a9d-4ce5-8a98-7d30f6569657",
   "metadata": {},
   "outputs": [],
   "source": [
    "#from qdrant_client.http import models"
   ]
  },
  {
   "cell_type": "code",
   "execution_count": 76,
   "id": "8159e9a9-9fe4-450f-b779-b873fc42d397",
   "metadata": {},
   "outputs": [],
   "source": [
    "from qdrant_client.models import QuantizationSearchParams,OrderBy"
   ]
  },
  {
   "cell_type": "code",
   "execution_count": 93,
   "id": "8f948529-2a5e-47ff-b73f-2f09b5d3fc51",
   "metadata": {},
   "outputs": [],
   "source": [
    "from qdrant_client.models import HasIdCondition\n",
    "from qdrant_client.models import PayloadSelectorInclude"
   ]
  },
  {
   "cell_type": "code",
   "execution_count": 82,
   "id": "d914acc7-067d-44ad-81ec-5fa47cefde3c",
   "metadata": {},
   "outputs": [
    {
     "data": {
      "text/plain": [
       "HasIdCondition(has_id=[1, 2])"
      ]
     },
     "execution_count": 82,
     "metadata": {},
     "output_type": "execute_result"
    }
   ],
   "source": [
    "HasIdCondition(has_id=[1,2])"
   ]
  },
  {
   "cell_type": "code",
   "execution_count": 98,
   "id": "7068076d-c5fd-427f-9b43-005bf1f312ce",
   "metadata": {},
   "outputs": [
    {
     "data": {
      "text/plain": [
       "qdrant_client.http.models.models.PayloadSelectorInclude"
      ]
     },
     "execution_count": 98,
     "metadata": {},
     "output_type": "execute_result"
    }
   ],
   "source": [
    "PayloadSelectorInclude"
   ]
  },
  {
   "cell_type": "code",
   "execution_count": 84,
   "id": "ae680115-faaf-451b-b341-5ce091f1cb13",
   "metadata": {},
   "outputs": [
    {
     "data": {
      "text/plain": [
       "FieldCondition(key='word', match=MatchValue(value='fff'), range=None, geo_bounding_box=None, geo_radius=None, geo_polygon=None, values_count=None)"
      ]
     },
     "execution_count": 84,
     "metadata": {},
     "output_type": "execute_result"
    }
   ],
   "source": [
    "FieldCondition(key='word', match=MatchValue(value='fff'))"
   ]
  },
  {
   "cell_type": "code",
   "execution_count": 85,
   "id": "a7a411b4-caef-47c9-b97d-2e1ccb9ed563",
   "metadata": {},
   "outputs": [
    {
     "data": {
      "text/plain": [
       "[FieldCondition(key='word', match=MatchValue(value='j'), range=None, geo_bounding_box=None, geo_radius=None, geo_polygon=None, values_count=None),\n",
       " FieldCondition(key='word', match=MatchValue(value='k'), range=None, geo_bounding_box=None, geo_radius=None, geo_polygon=None, values_count=None)]"
      ]
     },
     "execution_count": 85,
     "metadata": {},
     "output_type": "execute_result"
    }
   ],
   "source": [
    "[FieldCondition(key='word', match=MatchValue(value=w), ) for w in ['j','k']]"
   ]
  },
  {
   "cell_type": "code",
   "execution_count": 164,
   "id": "36e381ec-6e5f-4ffc-a7f4-5310f6ebfbf1",
   "metadata": {},
   "outputs": [],
   "source": [
    "from qdrant_client import QdrantClient\n",
    "from qdrant_client.models import Distance, VectorParams,PointStruct,OptimizersConfigDiff,HnswConfigDiff,CollectionStatus,Filter, FieldCondition, MatchValue,Range,SearchParams,PointIdsList\n",
    "import  qdrant_client.models as dm\n",
    "client = QdrantClient(host=\"10.10.10.5\", grpc_port=6334, prefer_grpc=True)"
   ]
  },
  {
   "cell_type": "code",
   "execution_count": 133,
   "id": "bb7e335b-7677-478b-b5d3-86f9d3fb2191",
   "metadata": {},
   "outputs": [
    {
     "name": "stdout",
     "output_type": "stream",
     "text": [
      "200\n"
     ]
    }
   ],
   "source": [
    "import requests\n",
    "response = requests.get('http://10.10.10.5:6333/locks')\n",
    "print(response.status_code)"
   ]
  },
  {
   "cell_type": "code",
   "execution_count": 182,
   "id": "62864231-ada4-4be2-814e-207553de65cc",
   "metadata": {},
   "outputs": [
    {
     "name": "stderr",
     "output_type": "stream",
     "text": [
      "C:\\Users\\Prime\\AppData\\Local\\Temp\\ipykernel_21644\\1097419085.py:3: DeprecationWarning: `recreate_collection` method is deprecated and will be removed in the future. Use `collection_exists` to check collection existence and `create_collection` instead.\n",
      "  client.recreate_collection(\n"
     ]
    }
   ],
   "source": [
    "collection_name='专利_w2v'\n",
    "if not client.collection_exists(collection_name=collection_name):\n",
    "    client.recreate_collection(\n",
    "        collection_name=collection_name,\n",
    "        vectors_config=VectorParams(size=args['vector_size'], distance=Distance.COSINE),#encoder.get_sentence_embedding_dimension(),\n",
    "        #optimizer_config=OptimizersConfigDiff(indexing_threshold=0),#上传期间禁用索引,避免不必要的向量索引，这些向量将被下一批覆盖\n",
    "        #shard_number=2#集合都拆分为分片,2-4\n",
    "    )"
   ]
  },
  {
   "cell_type": "code",
   "execution_count": 181,
   "id": "686ad09c-d215-4532-9979-4071dbd3b1ce",
   "metadata": {},
   "outputs": [],
   "source": [
    "if client.collection_exists(collection_name=collection_name):\n",
    "    client.delete_collection(collection_name=collection_name)"
   ]
  },
  {
   "cell_type": "code",
   "execution_count": 150,
   "id": "a8bb1845-507c-4309-b8dc-f1c7d3ffc2a1",
   "metadata": {},
   "outputs": [
    {
     "data": {
      "text/plain": [
       "CollectionInfo(status=<CollectionStatus.GREEN: 'green'>, optimizer_status=<OptimizersStatusOneOf.OK: 'ok'>, vectors_count=None, indexed_vectors_count=0, points_count=54, segments_count=4, config=CollectionConfig(params=CollectionParams(vectors=VectorParams(size=2, distance=<Distance.EUCLID: 'Euclid'>, hnsw_config=None, quantization_config=None, on_disk=None, datatype=None), shard_number=1, sharding_method=None, replication_factor=1, write_consistency_factor=1, read_fan_out_factor=None, on_disk_payload=True, sparse_vectors=None), hnsw_config=HnswConfig(m=32, ef_construct=200, full_scan_threshold=10000, max_indexing_threads=0, on_disk=False, payload_m=None), optimizer_config=OptimizersConfig(deleted_threshold=0.2, vacuum_min_vector_number=1000, default_segment_number=0, max_segment_size=None, memmap_threshold=None, indexing_threshold=20000, flush_interval_sec=5, max_optimization_threads=None), wal_config=WalConfig(wal_capacity_mb=32, wal_segments_ahead=0), quantization_config=None), payload_schema={})"
      ]
     },
     "execution_count": 150,
     "metadata": {},
     "output_type": "execute_result"
    }
   ],
   "source": [
    "client.get_collection(collection_name)"
   ]
  },
  {
   "cell_type": "code",
   "execution_count": 177,
   "id": "ed4cf9f1-6876-4a18-8eb2-6e8a69a17b08",
   "metadata": {},
   "outputs": [],
   "source": [
    "points = [PointStruct(id=id_max+idx, vector=wo.wv[word].tolist(), # vector=encoder.encode(doc[\"description\"]).tolist(), \n",
    "                payload={\"word\": word,\"行业\": col,'index':idx,\n",
    "                         'tf':word_tf_df.tf[word],\n",
    "                         'df':word_tf_df.df[word]}) for idx,word in enumerate(wo.wv.index_to_key)]"
   ]
  },
  {
   "cell_type": "code",
   "execution_count": 237,
   "id": "c4b1a231-9da2-4c78-bc6d-37c6e77345be",
   "metadata": {},
   "outputs": [
    {
     "data": {
      "text/plain": [
       "[{'word': '方法', '行业': '金融', 'index': 0, 'tf': 126859, 'df': 44783},\n",
       " {'word': '所述', '行业': '金融', 'index': 1, 'tf': 126181, 'df': 23856},\n",
       " {'word': '数据', '行业': '金融', 'index': 2, 'tf': 114718, 'df': 22366}]"
      ]
     },
     "execution_count": 237,
     "metadata": {},
     "output_type": "execute_result"
    }
   ],
   "source": [
    "#wo.wv.vectors.tolist()\n",
    "payload=[{\"word\": word,\"行业\": col,'index':idx,'tf':word_tf_df.tf[word],'df':word_tf_df.df[word]} for idx,word in enumerate(wo.wv.index_to_key)]#word_tf_df.reset_index().to_dict(orient='records')\n",
    "index=list(wo.wv.key_to_index.values())#list(range(len(data)))\n",
    "client.upsert(\n",
    "    collection_name=my_collection,\n",
    "    points=dm.Batch(\n",
    "        ids=index,\n",
    "        vectors=wo.wv.vectors.tolist(),\n",
    "        payloads=payload\n",
    "    )\n",
    ")\n",
    "payload[:3]"
   ]
  },
  {
   "cell_type": "code",
   "execution_count": 184,
   "id": "12e00714-549b-4155-9785-98053e235343",
   "metadata": {
    "scrolled": true
   },
   "outputs": [
    {
     "name": "stdout",
     "output_type": "stream",
     "text": [
      "0\n",
      "5000\n",
      "10000\n",
      "15000\n",
      "20000\n",
      "25000\n",
      "30000\n",
      "35000\n",
      "40000\n",
      "45000\n",
      "50000\n",
      "55000\n",
      "60000\n",
      "65000\n",
      "70000\n",
      "75000\n",
      "80000\n",
      "85000\n",
      "90000\n",
      "95000\n",
      "100000\n",
      "105000\n",
      "110000\n",
      "115000\n",
      "120000\n",
      "125000\n",
      "130000\n",
      "135000\n",
      "140000\n",
      "145000\n",
      "150000\n",
      "155000\n",
      "160000\n",
      "165000\n",
      "170000\n",
      "175000\n",
      "180000\n",
      "185000\n",
      "190000\n",
      "195000\n",
      "200000\n",
      "205000\n",
      "210000\n",
      "215000\n",
      "220000\n",
      "225000\n",
      "230000\n",
      "235000\n",
      "240000\n",
      "先进制造 2276 242276,count=242276\n",
      "0\n",
      "5000\n",
      "10000\n",
      "15000\n",
      "20000\n",
      "25000\n",
      "30000\n",
      "35000\n",
      "40000\n",
      "45000\n",
      "50000\n",
      "55000\n",
      "60000\n",
      "65000\n",
      "70000\n",
      "75000\n",
      "80000\n",
      "85000\n",
      "90000\n",
      "95000\n",
      "100000\n",
      "105000\n",
      "医疗健康 2847 350123,count=107847\n",
      "0\n",
      "5000\n",
      "10000\n",
      "15000\n",
      "20000\n",
      "25000\n",
      "30000\n",
      "35000\n",
      "40000\n",
      "45000\n",
      "50000\n",
      "55000\n",
      "60000\n",
      "65000\n",
      "70000\n",
      "75000\n",
      "80000\n",
      "85000\n",
      "90000\n",
      "95000\n",
      "100000\n",
      "105000\n",
      "110000\n",
      "115000\n",
      "120000\n",
      "125000\n",
      "130000\n",
      "135000\n",
      "140000\n",
      "145000\n",
      "150000\n",
      "155000\n",
      "160000\n",
      "165000\n",
      "170000\n",
      "175000\n",
      "传统制造 3276 528399,count=178276\n",
      "0\n",
      "5000\n",
      "10000\n",
      "15000\n",
      "20000\n",
      "25000\n",
      "金融 4128 557527,count=29128\n",
      "CPU times: total: 1min 20s\n",
      "Wall time: 2min 53s\n"
     ]
    }
   ],
   "source": [
    "%%time\n",
    "id_max=0\n",
    "batch_size = 5000\n",
    "for col in hy_cols:\n",
    "    suffix=col\n",
    "    wo = Word2Vec.load(f'data\\patent_w2v_{suffix}.model') \n",
    "    word_tf_df=pd.read_csv(f'data\\patent_word_tf_df_{suffix}.csv',index_col=0)\n",
    "    word_to_index = wo.wv.key_to_index\n",
    "    tf=word_tf_df.tf.to_dict()\n",
    "    df=word_tf_df.df.to_dict()\n",
    "\n",
    "\n",
    "    for i in range(0, len(word_to_index), batch_size):\n",
    "        batch = list(word_to_index.items())[i:i + batch_size]\n",
    "        points = [PointStruct(id=id_max+idx, vector=wo.wv[word].tolist(), \n",
    "                        payload={\"word\": word,\"行业\": col,'index':idx,\n",
    "                                 'tf':tf.get(word,1),\n",
    "                                 'df':df.get(word,1)})\n",
    "                for word, idx in batch]\n",
    "        client.upsert(collection_name=collection_name,points = points) \n",
    "        print(i,len(points))\n",
    "        \n",
    "    id_max=points[-1].id+1\n",
    "    print(col,id_max,end=',')\n",
    "    filter_=Filter(must=[FieldCondition(key=\"行业\", match=MatchValue(value=col)),])\n",
    "    count=client.count(collection_name=collection_name,\n",
    "                       count_filter=filter_,exact=True)\n",
    "    print(count)"
   ]
  },
  {
   "cell_type": "code",
   "execution_count": 193,
   "id": "aa00ab19-7558-421e-abd0-05f533fe9695",
   "metadata": {},
   "outputs": [
    {
     "data": {
      "text/plain": [
       "557527"
      ]
     },
     "execution_count": 193,
     "metadata": {},
     "output_type": "execute_result"
    }
   ],
   "source": [
    "client.count(collection_name=collection_name).count"
   ]
  },
  {
   "cell_type": "code",
   "execution_count": 525,
   "id": "b1e1031a-f59b-4951-97d4-a647d78d9380",
   "metadata": {},
   "outputs": [
    {
     "data": {
      "text/plain": [
       "(7370, 7370)"
      ]
     },
     "execution_count": 525,
     "metadata": {},
     "output_type": "execute_result"
    }
   ],
   "source": [
    "mask_0.sum(),len( payload)"
   ]
  },
  {
   "cell_type": "code",
   "execution_count": 526,
   "id": "a8b5b273-30c4-4951-b7ae-a3795e5b19c1",
   "metadata": {},
   "outputs": [
    {
     "data": {
      "text/plain": [
       "7370"
      ]
     },
     "execution_count": 526,
     "metadata": {},
     "output_type": "execute_result"
    }
   ],
   "source": [
    "len(data[mask_0].values.tolist())"
   ]
  },
  {
   "cell_type": "code",
   "execution_count": 540,
   "id": "30bc1eff-6a2f-41a1-bef4-2c05c97c4f75",
   "metadata": {},
   "outputs": [
    {
     "data": {
      "text/plain": [
       "range(10981, 14592)"
      ]
     },
     "execution_count": 540,
     "metadata": {},
     "output_type": "execute_result"
    }
   ],
   "source": [
    "range(id_max,id_max+mask_0.sum())"
   ]
  },
  {
   "cell_type": "code",
   "execution_count": 489,
   "id": "a62b6d31-9cbf-4ed0-aed1-acbd36ffff98",
   "metadata": {},
   "outputs": [],
   "source": [
    "data=pd.read_parquet('data/patent_co_vec_先进制造_医疗健康.parquet')"
   ]
  },
  {
   "cell_type": "code",
   "execution_count": 543,
   "id": "4aca4d85-4444-4687-84e0-631a98b9c8f3",
   "metadata": {},
   "outputs": [
    {
     "name": "stderr",
     "output_type": "stream",
     "text": [
      "C:\\Users\\Prime\\AppData\\Local\\Temp\\ipykernel_21644\\3510730137.py:3: DeprecationWarning: `recreate_collection` method is deprecated and will be removed in the future. Use `collection_exists` to check collection existence and `create_collection` instead.\n",
      "  client.recreate_collection(\n"
     ]
    }
   ],
   "source": [
    "collection_name='企业_w2v_lda'\n",
    "if not client.collection_exists(collection_name=collection_name):\n",
    "    client.recreate_collection(\n",
    "        collection_name=collection_name,\n",
    "        vectors_config=VectorParams(size=data.shape[1], distance=Distance.COSINE),#encoder.get_sentence_embedding_dimension(),\n",
    "        #optimizer_config=OptimizersConfigDiff(indexing_threshold=0),#上传期间禁用索引,避免不必要的向量索引，这些向量将被下一批覆盖\n",
    "        #shard_number=2#集合都拆分为分片,2-4\n",
    "    )"
   ]
  },
  {
   "cell_type": "code",
   "execution_count": 544,
   "id": "ca8c61d8-3274-494d-983a-6c49dbd04be4",
   "metadata": {},
   "outputs": [
    {
     "name": "stdout",
     "output_type": "stream",
     "text": [
      "先进制造 7370,count=7370\n",
      "医疗健康 10981,count=3611\n"
     ]
    }
   ],
   "source": [
    "id_max=0\n",
    "for col in ['先进制造','医疗健康']:\n",
    "    mask_0=data.index.isin(co_data.loc[co_data[col]==1,'Co'])\n",
    "    payload=[{\"co\": word,\"行业\": col,'index':idx} for idx,word in enumerate(data[mask_0].index)]\n",
    "    index=list(range(id_max,id_max+mask_0.sum()))\n",
    "    points=dm.Batch(\n",
    "        ids= index,\n",
    "        vectors=data[mask_0].values.tolist(),\n",
    "        payloads=payload,\n",
    "    )\n",
    "    id_max=points.ids[-1]+1\n",
    "    print(col,id_max,end=',')\n",
    "\n",
    "    client.upsert(collection_name=collection_name,points = points) \n",
    "    filter_=Filter(must=[FieldCondition(key=\"行业\", match=MatchValue(value=col)),])\n",
    "    count=client.count(collection_name=collection_name,count_filter=filter_,exact=True)\n",
    "    print(count)"
   ]
  },
  {
   "cell_type": "code",
   "execution_count": 550,
   "id": "9b63ae50-611b-4090-84bc-eeda8d3e03e0",
   "metadata": {},
   "outputs": [
    {
     "data": {
      "text/plain": [
       "Index(['Dexta Robotics', 'TCL华星光电技术有限公司', 'TCL科技集团股份有限公司', '一品红药业股份有限公司',\n",
       "       '一心堂药业集团股份有限公司', '一道新能源科技股份有限公司', '七星电气股份有限公司', '七腾机器人有限公司',\n",
       "       '万华新材料有限公司', '万向一二三股份公司',\n",
       "       ...\n",
       "       '黑龙江天晴干细胞股份有限公司', '黑龙江威凯洱生物技术有限公司', '黑龙江林海华安新材料股份有限公司',\n",
       "       '黑龙江珍宝岛药业股份有限公司', '黑龙江省发现者机器人股份有限公司', '鼎桥通信技术有限公司', '龙微科技无锡有限公司',\n",
       "       '龙晖药业有限公司', '龙腾半导体股份有限公司', '龙芯中科技术股份有限公司'],\n",
       "      dtype='object', name='Co', length=10980)"
      ]
     },
     "execution_count": 550,
     "metadata": {},
     "output_type": "execute_result"
    }
   ],
   "source": [
    "data.index"
   ]
  },
  {
   "cell_type": "code",
   "execution_count": 545,
   "id": "2fb552fa-de75-48f5-b0d8-7b81f8fd5c08",
   "metadata": {},
   "outputs": [
    {
     "data": {
      "text/plain": [
       "10980"
      ]
     },
     "execution_count": 545,
     "metadata": {},
     "output_type": "execute_result"
    }
   ],
   "source": [
    "points.ids[-1]"
   ]
  },
  {
   "cell_type": "code",
   "execution_count": 546,
   "id": "71ce3bc0-8391-48d5-8b7a-4c26a61dadba",
   "metadata": {},
   "outputs": [
    {
     "data": {
      "text/plain": [
       "(177, 177)"
      ]
     },
     "execution_count": 546,
     "metadata": {},
     "output_type": "execute_result"
    }
   ],
   "source": [
    "data_1=pd.read_excel('data/co_cosine_sim_3.xlsx', index_col=0)\n",
    "data_1.shape"
   ]
  },
  {
   "cell_type": "code",
   "execution_count": 549,
   "id": "2b84e3bc-1942-4678-8cae-eaf5a8362c78",
   "metadata": {},
   "outputs": [
    {
     "data": {
      "text/plain": [
       "94"
      ]
     },
     "execution_count": 549,
     "metadata": {},
     "output_type": "execute_result"
    }
   ],
   "source": [
    "co_data.loc[co_data['金融']==1,'Co'].isin(data_1.index).sum()"
   ]
  },
  {
   "cell_type": "code",
   "execution_count": 116,
   "id": "9d533bf2-fa24-46ef-b529-2bdd15b89156",
   "metadata": {},
   "outputs": [
    {
     "data": {
      "text/plain": [
       "(177, 250)"
      ]
     },
     "execution_count": 116,
     "metadata": {},
     "output_type": "execute_result"
    }
   ],
   "source": [
    "data_2=co_ids_vec[co_ids_vec.index.isin(df_co_1.公司全称)]\n",
    "data_2.shape"
   ]
  },
  {
   "cell_type": "code",
   "execution_count": 118,
   "id": "e9039f7c-8a1e-4f03-a2b1-f3021d2e1b60",
   "metadata": {},
   "outputs": [],
   "source": [
    "id_max=client.count(collection_name='企业_w2v_lda').count"
   ]
  },
  {
   "cell_type": "code",
   "execution_count": 119,
   "id": "06bc8ca0-fd28-470a-bc5c-9258871b5794",
   "metadata": {},
   "outputs": [],
   "source": [
    "payload=[{\"co\": word,\"行业\": '金融科技','index':idx} for idx,word in enumerate(data_2.index)]\n",
    "index=list(range(id_max,id_max+data_2.shape[0]))\n",
    "points=dm.Batch(\n",
    "    ids= index,\n",
    "    vectors=data_2.values.tolist(),\n",
    "    payloads=payload,\n",
    ")\n",
    "# id_max=points.ids[-1]+1\n",
    "# print(col,id_max,end=',')"
   ]
  },
  {
   "cell_type": "code",
   "execution_count": 122,
   "id": "8c603314-bec0-4095-893f-013ca3428f26",
   "metadata": {},
   "outputs": [
    {
     "data": {
      "text/plain": [
       "UpdateResult(operation_id=2, status=<UpdateStatus.COMPLETED: 'completed'>)"
      ]
     },
     "execution_count": 122,
     "metadata": {},
     "output_type": "execute_result"
    }
   ],
   "source": [
    "client.upsert(collection_name='企业_w2v_lda',points = points)"
   ]
  },
  {
   "cell_type": "code",
   "execution_count": 557,
   "id": "7f910bfc-ecbd-4bc2-8b2f-2539852ff111",
   "metadata": {},
   "outputs": [],
   "source": [
    "wo_1=Word2Vec.load(\"E:\\\\Documents\\\\technet\\\\technet-master\\\\data\\\\patent_w2v.model\")#patent_w2v_sg.model"
   ]
  },
  {
   "cell_type": "code",
   "execution_count": 602,
   "id": "4889efbc-bfd3-4b5f-834d-76b4ac15b32d",
   "metadata": {},
   "outputs": [
    {
     "data": {
      "text/plain": [
       "(43339, 250)"
      ]
     },
     "execution_count": 602,
     "metadata": {},
     "output_type": "execute_result"
    }
   ],
   "source": [
    "wo_1.wv.vectors.shape"
   ]
  },
  {
   "cell_type": "code",
   "execution_count": 613,
   "id": "938f655e-b4de-4126-8371-a67a09ed3931",
   "metadata": {},
   "outputs": [],
   "source": [
    "id_max=client.count(collection_name='专利_w2v', exact=True).count"
   ]
  },
  {
   "cell_type": "code",
   "execution_count": 612,
   "id": "0a317e92-394a-4a8b-bc25-27f39fba54e6",
   "metadata": {},
   "outputs": [
    {
     "data": {
      "text/plain": [
       "[Record(id=557526, payload={'行业': '金融', 'word': '个体差异', 'index': 29127, 'df': 2, 'tf': 2}, vector=None, shard_key=None)]"
      ]
     },
     "execution_count": 612,
     "metadata": {},
     "output_type": "execute_result"
    }
   ],
   "source": [
    "client.retrieve(collection_name='专利_w2v', ids=[557526])"
   ]
  },
  {
   "cell_type": "code",
   "execution_count": 159,
   "id": "521579e5-9d2a-4ec0-b358-9a33205b0c5f",
   "metadata": {},
   "outputs": [
    {
     "data": {
      "text/plain": [
       "Index(['tf', 'df', 'w2v', 'flag', 'baidu', 'cut_max_count', 'doc_max_count',\n",
       "       'doc_max_index', '标题 (中文)', '摘要 (中文)'],\n",
       "      dtype='object')"
      ]
     },
     "execution_count": 159,
     "metadata": {},
     "output_type": "execute_result"
    }
   ],
   "source": [
    "data_3=pd.read_excel('E:\\\\Documents\\\\technet\\\\technet-master\\\\data\\\\patent_doc_cut_word.xlsx', index_col=0)\n",
    "data_3.columns"
   ]
  },
  {
   "cell_type": "code",
   "execution_count": 156,
   "id": "0870c074-3ba3-4abe-9014-397c5b37556d",
   "metadata": {},
   "outputs": [
    {
     "data": {
      "text/plain": [
       "([Record(id=557527, payload={'行业': '金融科技', 'word': '方法', 'df': 96568, 'index': 0, 'tf': 277555}, vector=None, shard_key=None),\n",
       "  Record(id=557528, payload={'行业': '金融科技', 'index': 1, 'df': 43744, 'word': '信息', 'tf': 179026}, vector=None, shard_key=None)],\n",
       " 557529)"
      ]
     },
     "execution_count": 156,
     "metadata": {},
     "output_type": "execute_result"
    }
   ],
   "source": [
    "collection_name='专利_w2v'\n",
    "client.scroll(\n",
    "    collection_name=collection_name,\n",
    "    scroll_filter=Filter(\n",
    "        must=[\n",
    "            FieldCondition(key=\"行业\", match=MatchValue(value=\"金融科技\")),\n",
    "        ]\n",
    "    ),\n",
    "    limit=2,\n",
    "    with_payload=True,\n",
    "    with_vectors=False,\n",
    ")#557527,\n"
   ]
  },
  {
   "cell_type": "code",
   "execution_count": 162,
   "id": "c81712a6-222d-4042-a2db-3837e9613b73",
   "metadata": {},
   "outputs": [],
   "source": [
    "points_id=list(range(557527,client.count(collection_name='专利_w2v', exact=True).count))#PointIdsList"
   ]
  },
  {
   "cell_type": "code",
   "execution_count": 170,
   "id": "80f4925e-2110-479c-ad4b-7b8fe97a1fc8",
   "metadata": {},
   "outputs": [
    {
     "data": {
      "text/plain": [
       "557527"
      ]
     },
     "execution_count": 170,
     "metadata": {},
     "output_type": "execute_result"
    }
   ],
   "source": [
    "id_max=client.count(collection_name='专利_w2v', exact=True).count\n",
    "id_max"
   ]
  },
  {
   "cell_type": "code",
   "execution_count": 165,
   "id": "d3bf665c-8614-4a26-9308-1f1a1a129b8c",
   "metadata": {},
   "outputs": [
    {
     "data": {
      "text/plain": [
       "UpdateResult(operation_id=114, status=<UpdateStatus.COMPLETED: 'completed'>)"
      ]
     },
     "execution_count": 165,
     "metadata": {},
     "output_type": "execute_result"
    }
   ],
   "source": [
    "client.delete(\n",
    "    collection_name=collection_name,\n",
    "    points_selector=PointIdsList(\n",
    "        points=points_id,\n",
    "    ),\n",
    ")"
   ]
  },
  {
   "cell_type": "code",
   "execution_count": 151,
   "id": "8ef2385c-49dd-4ecb-a08c-e9eb407568ac",
   "metadata": {},
   "outputs": [],
   "source": [
    "wo_1=model_wl.wo"
   ]
  },
  {
   "cell_type": "code",
   "execution_count": 168,
   "id": "d29137b8-9659-4f1f-ae2e-8f7f15aa176d",
   "metadata": {},
   "outputs": [],
   "source": [
    "tf=data_3.tf.to_dict()\n",
    "df=data_3.df.to_dict()"
   ]
  },
  {
   "cell_type": "code",
   "execution_count": 171,
   "id": "6c3a25e7-666f-4d10-87eb-6121644ec44d",
   "metadata": {},
   "outputs": [],
   "source": [
    "index=list(range(id_max,id_max+len(wo_1.wv)))\n",
    "payload=[{\"word\": word,\"行业\": '金融科技','index':idx,'tf':tf.get(word,1),'df':df.get(word,1)} for word,idx in wo_1.wv.key_to_index.items()]\n",
    "points=dm.Batch(\n",
    "    ids=index,\n",
    "    vectors=wo_1.wv.vectors.tolist(),\n",
    "    payloads=payload\n",
    ")"
   ]
  },
  {
   "cell_type": "code",
   "execution_count": 172,
   "id": "1f6a7567-4795-4e66-838d-707234f6cdac",
   "metadata": {},
   "outputs": [
    {
     "data": {
      "text/plain": [
       "UpdateResult(operation_id=115, status=<UpdateStatus.COMPLETED: 'completed'>)"
      ]
     },
     "execution_count": 172,
     "metadata": {},
     "output_type": "execute_result"
    }
   ],
   "source": [
    "client.upsert(collection_name='专利_w2v',points = points) "
   ]
  },
  {
   "cell_type": "code",
   "execution_count": 173,
   "id": "dc39edff-46b0-4756-866e-87fbb839b00e",
   "metadata": {},
   "outputs": [
    {
     "data": {
      "text/plain": [
       "CountResult(count=594225)"
      ]
     },
     "execution_count": 173,
     "metadata": {},
     "output_type": "execute_result"
    }
   ],
   "source": [
    "client.count(collection_name='专利_w2v', exact=True)"
   ]
  },
  {
   "cell_type": "code",
   "execution_count": 190,
   "id": "4de1a022-eb10-4892-8be3-525fdec2c1fb",
   "metadata": {},
   "outputs": [
    {
     "data": {
      "text/plain": [
       "[ScoredPoint(id=528527, version=107, score=0.9999995827674866, payload={'行业': '金融', 'index': 128, 'word': '计算机', 'df': 4309, 'tf': 7286}, vector=None, shard_key=None),\n",
       " ScoredPoint(id=528679, version=107, score=0.7952480912208557, payload={'行业': '金融', 'index': 280, 'word': '可读', 'df': 1649, 'tf': 3019}, vector=None, shard_key=None),\n",
       " ScoredPoint(id=528399, version=107, score=0.6264501214027405, payload={'行业': '金融', 'df': 44783, 'index': 0, 'word': '方法', 'tf': 126859}, vector=None, shard_key=None),\n",
       " ScoredPoint(id=528403, version=107, score=0.6036657094955444, payload={'行业': '金融', 'word': '装置', 'df': 35024, 'index': 4, 'tf': 73922}, vector=None, shard_key=None),\n",
       " ScoredPoint(id=528454, version=107, score=0.5463651418685913, payload={'行业': '金融', 'df': 7553, 'index': 55, 'word': '电子设备', 'tf': 14769}, vector=None, shard_key=None),\n",
       " ScoredPoint(id=530199, version=107, score=0.540634036064148, payload={'行业': '金融', 'index': 1800, 'df': 127, 'word': '电子装置', 'tf': 245}, vector=None, shard_key=None),\n",
       " ScoredPoint(id=528404, version=107, score=0.5292479991912842, payload={'行业': '金融', 'df': 48181, 'word': '一种', 'index': 5, 'tf': 73828}, vector=None, shard_key=None),\n",
       " ScoredPoint(id=528417, version=107, score=0.5193560123443604, payload={'行业': '金融', 'word': '存储介质', 'df': 17280, 'index': 18, 'tf': 33464}, vector=None, shard_key=None),\n",
       " ScoredPoint(id=528807, version=107, score=0.4967398941516876, payload={'行业': '金融', 'word': '训练方法', 'df': 806, 'index': 408, 'tf': 1852}, vector=None, shard_key=None),\n",
       " ScoredPoint(id=531228, version=107, score=0.48518431186676025, payload={'行业': '金融', 'index': 2829, 'word': '计算机领域', 'df': 118, 'tf': 118}, vector=None, shard_key=None)]"
      ]
     },
     "execution_count": 190,
     "metadata": {},
     "output_type": "execute_result"
    }
   ],
   "source": [
    "query_vector=wo.wv['计算机'].tolist()\n",
    "hits = client.search(\n",
    "    collection_name=collection_name,\n",
    "    query_vector=query_vector,#tolist()\n",
    "    limit=10  # Return 5 closest points\n",
    ")\n",
    "hits"
   ]
  },
  {
   "cell_type": "code",
   "execution_count": 202,
   "id": "0a1d295e-3286-44bf-b32d-5e0d8f27e817",
   "metadata": {},
   "outputs": [
    {
     "data": {
      "text/plain": [
       "CountResult(count=4)"
      ]
     },
     "execution_count": 202,
     "metadata": {},
     "output_type": "execute_result"
    }
   ],
   "source": [
    "filter_=Filter(must=[FieldCondition(key=\"word\", match=MatchValue(value='电子设备')),])\n",
    "client.count(collection_name=collection_name,\n",
    "                       count_filter=filter_,exact=True)"
   ]
  },
  {
   "cell_type": "code",
   "execution_count": 239,
   "id": "c35f0608-8c76-4a30-8af7-ae079adb46e2",
   "metadata": {},
   "outputs": [
    {
     "data": {
      "text/plain": [
       "{'行业': '传统制造', 'index': 0, 'word': '所述', 'df': 190204, 'tf': 946114}"
      ]
     },
     "execution_count": 239,
     "metadata": {},
     "output_type": "execute_result"
    }
   ],
   "source": [
    "resutls=client.retrieve(collection_name=collection_name,ids=[350123,528398],with_vectors=True)#多个点检索\n",
    "resutls[0].payload"
   ]
  },
  {
   "cell_type": "code",
   "execution_count": 483,
   "id": "9d58e569-5db1-48e6-84e9-2971c17185c3",
   "metadata": {},
   "outputs": [
    {
     "data": {
      "text/html": [
       "<div>\n",
       "<style scoped>\n",
       "    .dataframe tbody tr th:only-of-type {\n",
       "        vertical-align: middle;\n",
       "    }\n",
       "\n",
       "    .dataframe tbody tr th {\n",
       "        vertical-align: top;\n",
       "    }\n",
       "\n",
       "    .dataframe thead th {\n",
       "        text-align: right;\n",
       "    }\n",
       "</style>\n",
       "<table border=\"1\" class=\"dataframe\">\n",
       "  <thead>\n",
       "    <tr style=\"text-align: right;\">\n",
       "      <th></th>\n",
       "      <th>行业</th>\n",
       "      <th>index</th>\n",
       "      <th>word</th>\n",
       "      <th>df</th>\n",
       "      <th>tf</th>\n",
       "    </tr>\n",
       "  </thead>\n",
       "  <tbody>\n",
       "    <tr>\n",
       "      <th>0</th>\n",
       "      <td>传统制造</td>\n",
       "      <td>0</td>\n",
       "      <td>所述</td>\n",
       "      <td>190204</td>\n",
       "      <td>946114</td>\n",
       "    </tr>\n",
       "    <tr>\n",
       "      <th>1</th>\n",
       "      <td>传统制造</td>\n",
       "      <td>178275</td>\n",
       "      <td>卡钉快</td>\n",
       "      <td>1</td>\n",
       "      <td>2</td>\n",
       "    </tr>\n",
       "  </tbody>\n",
       "</table>\n",
       "</div>"
      ],
      "text/plain": [
       "     行业   index word      df      tf\n",
       "0  传统制造       0   所述  190204  946114\n",
       "1  传统制造  178275  卡钉快       1       2"
      ]
     },
     "execution_count": 483,
     "metadata": {},
     "output_type": "execute_result"
    }
   ],
   "source": [
    "pd.DataFrame([p.payload for p in resutls])"
   ]
  },
  {
   "cell_type": "code",
   "execution_count": 127,
   "id": "42de2a07-aa53-4b74-94a6-e3f95afdeff7",
   "metadata": {},
   "outputs": [
    {
     "data": {
      "text/plain": [
       "{}"
      ]
     },
     "execution_count": 127,
     "metadata": {},
     "output_type": "execute_result"
    }
   ],
   "source": [
    "client.embedding_models"
   ]
  },
  {
   "cell_type": "code",
   "execution_count": 126,
   "id": "3c53feb5-e389-4951-a560-25a2b1814486",
   "metadata": {},
   "outputs": [
    {
     "data": {
      "text/plain": [
       "'BAAI/bge-small-en'"
      ]
     },
     "execution_count": 126,
     "metadata": {},
     "output_type": "execute_result"
    }
   ],
   "source": [
    "client.embedding_model_name"
   ]
  },
  {
   "cell_type": "code",
   "execution_count": 137,
   "id": "a24b2a89-4a1b-4b93-9e96-73f9e8e31169",
   "metadata": {},
   "outputs": [
    {
     "data": {
      "text/plain": [
       "SnapshotDescription(name='places_bank-4931977184024862-2024-06-18-07-44-25.snapshot', creation_time='2024-06-18T07:44:26', size=67336192, checksum=None)"
      ]
     },
     "execution_count": 137,
     "metadata": {},
     "output_type": "execute_result"
    }
   ],
   "source": [
    "collection_name='places_bank'\n",
    "client.create_snapshot(collection_name=collection_name)"
   ]
  },
  {
   "cell_type": "code",
   "execution_count": 175,
   "id": "f2058b50-8084-4e74-8f92-41a88648635e",
   "metadata": {},
   "outputs": [
    {
     "data": {
      "text/plain": [
       "[]"
      ]
     },
     "execution_count": 175,
     "metadata": {},
     "output_type": "execute_result"
    }
   ],
   "source": [
    "client.list_snapshots(collection_name)"
   ]
  },
  {
   "cell_type": "code",
   "execution_count": 141,
   "id": "fbe4c3a7-55e7-4782-8d60-45834c4ff28e",
   "metadata": {},
   "outputs": [
    {
     "data": {
      "text/plain": [
       "SnapshotDescription(name='full-snapshot-2024-06-18-07-55-26.snapshot', creation_time='2024-06-18T07:56:43', size=1907707392, checksum=None)"
      ]
     },
     "execution_count": 141,
     "metadata": {},
     "output_type": "execute_result"
    }
   ],
   "source": [
    "client.create_full_snapshot()"
   ]
  },
  {
   "cell_type": "code",
   "execution_count": null,
   "id": "eae1b9e2-2ac0-42ae-b568-609714375d2c",
   "metadata": {},
   "outputs": [],
   "source": [
    "# curl http://localhost:6333/collections/:collection_name/snapshots/:snapshot_name \\\n",
    "#      -H \"api-key: <apiKey>\""
   ]
  },
  {
   "cell_type": "code",
   "execution_count": null,
   "id": "3cb7ec0a-1202-420d-9245-279f7863235c",
   "metadata": {},
   "outputs": [],
   "source": [
    "curl 'http://10.10.10.5:6333/collections/places_bank/snapshots/places_bank-4931977184024862-2024-06-18-07-44-25.snapshot'"
   ]
  },
  {
   "cell_type": "code",
   "execution_count": 145,
   "id": "b2ebb9e6-8b74-4b5a-8c43-08706d3ea5c3",
   "metadata": {},
   "outputs": [
    {
     "data": {
      "text/plain": [
       "True"
      ]
     },
     "execution_count": 145,
     "metadata": {},
     "output_type": "execute_result"
    }
   ],
   "source": [
    "client.delete_full_snapshot(snapshot_name='full-snapshot-2024-06-18-07-55-26.snapshot')"
   ]
  },
  {
   "cell_type": "code",
   "execution_count": 132,
   "id": "cd254dcb-a69c-4ce9-8460-1d158529e9e0",
   "metadata": {
    "scrolled": true
   },
   "outputs": [
    {
     "data": {
      "text/plain": [
       "{'result': {'id': 350123,\n",
       "  'payload': {'df': 2, 'index': 350123, 'tf': 2, 'word': '水由泵'},\n",
       "  'vector': [0.082853466,\n",
       "   -0.010133958,\n",
       "   0.02107231,\n",
       "   -0.037359174,\n",
       "   -0.06624495,\n",
       "   0.08919782,\n",
       "   0.021732915,\n",
       "   0.09696836,\n",
       "   -0.03318862,\n",
       "   -0.006342002,\n",
       "   0.048717946,\n",
       "   0.03544365,\n",
       "   -0.020490296,\n",
       "   -0.054126054,\n",
       "   0.009689477,\n",
       "   0.012313562,\n",
       "   -0.06823116,\n",
       "   0.0641107,\n",
       "   -0.05477427,\n",
       "   -0.009963873,\n",
       "   -0.025931042,\n",
       "   -0.057423722,\n",
       "   0.1423409,\n",
       "   0.10264671,\n",
       "   0.10670164,\n",
       "   -0.013325492,\n",
       "   0.09544102,\n",
       "   -0.12135287,\n",
       "   -0.08681662,\n",
       "   -0.056108303,\n",
       "   0.035548124,\n",
       "   0.14365457,\n",
       "   -0.09445207,\n",
       "   -0.039853927,\n",
       "   0.14639431,\n",
       "   0.0046298807,\n",
       "   -0.04328637,\n",
       "   -0.11841249,\n",
       "   -0.019821858,\n",
       "   -0.0040679052,\n",
       "   -0.015789662,\n",
       "   0.06308322,\n",
       "   0.008439427,\n",
       "   -0.012625534,\n",
       "   0.003673833,\n",
       "   -0.022922171,\n",
       "   -0.032389525,\n",
       "   0.04635031,\n",
       "   0.01424814,\n",
       "   0.030240469,\n",
       "   -0.0385049,\n",
       "   0.053475935,\n",
       "   -0.044973873,\n",
       "   -0.092267,\n",
       "   0.029365147,\n",
       "   -0.04153315,\n",
       "   -0.002612797,\n",
       "   0.029685952,\n",
       "   0.0038465634,\n",
       "   0.035909295,\n",
       "   0.025061874,\n",
       "   -0.044358496,\n",
       "   0.05932568,\n",
       "   0.008378543,\n",
       "   0.08210888,\n",
       "   0.01410256,\n",
       "   0.011674947,\n",
       "   0.038608424,\n",
       "   0.0002936165,\n",
       "   0.042801347,\n",
       "   0.07858692,\n",
       "   0.0077449386,\n",
       "   0.088057816,\n",
       "   -0.030560825,\n",
       "   -0.041000716,\n",
       "   -0.022576328,\n",
       "   0.025227591,\n",
       "   -0.010560197,\n",
       "   0.070629604,\n",
       "   0.0008256747,\n",
       "   -0.10168821,\n",
       "   0.027987333,\n",
       "   0.011531925,\n",
       "   0.08765428,\n",
       "   -0.038557313,\n",
       "   -0.011397385,\n",
       "   0.04336457,\n",
       "   0.11767019,\n",
       "   0.037603155,\n",
       "   -0.097814955,\n",
       "   0.15833887,\n",
       "   0.030511752,\n",
       "   0.018915696,\n",
       "   -0.0037320612,\n",
       "   0.020286303,\n",
       "   -0.0016774676,\n",
       "   0.040281177,\n",
       "   0.040679675,\n",
       "   -0.015589135,\n",
       "   0.057946477,\n",
       "   -0.033876836,\n",
       "   0.11199291,\n",
       "   -0.0755061,\n",
       "   0.066521935,\n",
       "   -0.05464593,\n",
       "   0.0701291,\n",
       "   -0.002456981,\n",
       "   0.0067329956,\n",
       "   -0.007361381,\n",
       "   -0.0516475,\n",
       "   -0.01972308,\n",
       "   -0.01908715,\n",
       "   -0.07074409,\n",
       "   -0.021090206,\n",
       "   -0.042600874,\n",
       "   0.123075575,\n",
       "   0.10970552,\n",
       "   -0.023730727,\n",
       "   -0.07419708,\n",
       "   -0.05934332,\n",
       "   0.036012992,\n",
       "   0.10298284,\n",
       "   -0.009952364,\n",
       "   0.02292926,\n",
       "   -0.06899386,\n",
       "   -0.0462803,\n",
       "   -0.06732947,\n",
       "   0.067810215,\n",
       "   -0.09359823,\n",
       "   -0.052376036,\n",
       "   -0.00082982634,\n",
       "   0.019143816,\n",
       "   0.15186363,\n",
       "   0.0018542638,\n",
       "   -0.07562609,\n",
       "   0.092134595,\n",
       "   0.06367223,\n",
       "   0.013781006,\n",
       "   -0.10239822,\n",
       "   -0.1253149,\n",
       "   -0.06385392,\n",
       "   -0.069666296,\n",
       "   0.041512948,\n",
       "   -0.017694991,\n",
       "   0.10222758,\n",
       "   0.07135568,\n",
       "   -0.024356911,\n",
       "   0.056224085,\n",
       "   0.017213821,\n",
       "   -0.016147334,\n",
       "   0.0064110253,\n",
       "   0.06837733,\n",
       "   -0.03555994,\n",
       "   0.015575796,\n",
       "   -0.08502778,\n",
       "   0.03710592,\n",
       "   0.01626596,\n",
       "   -0.005458182,\n",
       "   0.0076451316,\n",
       "   0.04123074,\n",
       "   0.005974605,\n",
       "   -0.055816878,\n",
       "   -0.07955716,\n",
       "   -0.07344491,\n",
       "   0.023339175,\n",
       "   0.032226484,\n",
       "   -0.04976037,\n",
       "   0.08938089,\n",
       "   0.070324965,\n",
       "   0.020939603,\n",
       "   0.04292716,\n",
       "   0.012097037,\n",
       "   -0.08587903,\n",
       "   0.11640403,\n",
       "   -0.1125327,\n",
       "   0.024916802,\n",
       "   -0.17390123,\n",
       "   -0.058708847,\n",
       "   0.02402837,\n",
       "   0.0059523773,\n",
       "   -0.045516953,\n",
       "   0.008504888,\n",
       "   -0.0017501801,\n",
       "   -0.04461133,\n",
       "   -0.066166304,\n",
       "   0.025676843,\n",
       "   0.00063494156,\n",
       "   0.0028101872,\n",
       "   -0.08125352,\n",
       "   -0.06019449,\n",
       "   0.113633946,\n",
       "   -0.04106729,\n",
       "   0.062644474,\n",
       "   -0.013698196,\n",
       "   0.11190344,\n",
       "   0.020726772,\n",
       "   -0.008810686,\n",
       "   0.038614143,\n",
       "   0.062712796,\n",
       "   -0.016849382,\n",
       "   -0.016885899,\n",
       "   0.02342856,\n",
       "   -0.05968235,\n",
       "   -0.056125578,\n",
       "   0.15152025,\n",
       "   -0.071028866,\n",
       "   -0.048296195,\n",
       "   -0.19110352,\n",
       "   0.0440577,\n",
       "   -0.033950314,\n",
       "   -0.000838458,\n",
       "   0.12716563,\n",
       "   -0.09895784,\n",
       "   -0.0258105,\n",
       "   -0.0732878,\n",
       "   -0.094371125,\n",
       "   -0.061808966,\n",
       "   -0.046836868,\n",
       "   -0.018613636,\n",
       "   0.067130916,\n",
       "   -0.005142572,\n",
       "   0.039236467,\n",
       "   0.09535153,\n",
       "   0.016036784,\n",
       "   0.07055354,\n",
       "   0.02522514,\n",
       "   0.13372654,\n",
       "   -0.13264434,\n",
       "   -0.05455679,\n",
       "   -0.0463222,\n",
       "   -0.051328424,\n",
       "   -0.052561104,\n",
       "   0.013368185,\n",
       "   0.113435715,\n",
       "   -0.057814226,\n",
       "   0.0022665383,\n",
       "   0.039807275,\n",
       "   -0.051431306,\n",
       "   0.06747379,\n",
       "   -0.012750377,\n",
       "   -0.060613316,\n",
       "   -0.006242246,\n",
       "   -0.0071927807,\n",
       "   0.11257655,\n",
       "   0.100518115,\n",
       "   0.06823457,\n",
       "   -0.0353453,\n",
       "   -0.029417455,\n",
       "   -0.05606779,\n",
       "   -0.0005133747]},\n",
       " 'status': 'ok',\n",
       " 'time': 0.000554964}"
      ]
     },
     "execution_count": 132,
     "metadata": {},
     "output_type": "execute_result"
    }
   ],
   "source": [
    "# curl http://localhost:6333/collections/collection_name/points/1 \\\n",
    "#      -H \"api-key: <apiKey>\"\n",
    "import requests\n",
    "response = requests.get(f'http://10.10.10.5:6333/collections/{collection_name}/points/350123')#从单个点检索所有详细信息\n",
    "response.json()"
   ]
  },
  {
   "cell_type": "code",
   "execution_count": 134,
   "id": "f2215f83-a672-4f34-9bd0-07f7042fee6b",
   "metadata": {},
   "outputs": [
    {
     "data": {
      "text/plain": [
       "<Response [200]>"
      ]
     },
     "execution_count": 134,
     "metadata": {},
     "output_type": "execute_result"
    }
   ],
   "source": [
    "response = requests.get(f'http://10.10.10.5:6333/healthz')\n",
    "response"
   ]
  },
  {
   "attachments": {
    "a68126fc-d95d-4d50-a3a5-92d1be51e07e.png": {
     "image/png": "[encoded data removed]"
    },
    "e0f15383-a340-4a8f-8fb9-b56480bea7b7.png": {
     "image/png": "[encoded data removed]"
    }
   },
   "cell_type": "markdown",
   "id": "47862c28-8fe5-4567-9a40-6f88a8b76f6d",
   "metadata": {},
   "source": [
    "![image.png](attachment:e0f15383-a340-4a8f-8fb9-b56480bea7b7.png)\n",
    "![image.png](attachment:a68126fc-d95d-4d50-a3a5-92d1be51e07e.png)"
   ]
  },
  {
   "cell_type": "code",
   "execution_count": 277,
   "id": "e7a597a8-431b-48d8-80a7-432349be680a",
   "metadata": {},
   "outputs": [
    {
     "data": {
      "text/plain": [
       "([Record(id=76880, payload={'行业': '先进制造', 'index': 76880, 'df': 6, 'word': '宽表', 'tf': 13}, vector=[-0.04335597902536392, 1.7791573554859497e-05, 0.11731202155351639, 0.09385939687490463, 0.03247273713350296, 0.07952266931533813, -0.0394255667924881, 0.043071579188108444, 0.11578206717967987, 0.1460943967103958, 0.024097424000501633, -0.023876409977674484, -0.022880032658576965, 0.04921729862689972, 0.14991797506809235, -0.08105181157588959, -0.07938890159130096, -0.11585227400064468, 0.10658716410398483, -0.0364251434803009, 0.00042274416773580015, -0.047234710305929184, -0.029309753328561783, -0.11469011753797531, 0.044194359332323074, 0.09112890809774399, 0.05955852195620537, 0.04247402027249336, 0.027541402727365494, -0.07694949209690094, 0.038220878690481186, -0.01592719927430153, -0.14118847250938416, -0.016231566667556763, 0.08347557485103607, 0.025836434215307236, 0.013524116016924381, 0.005080690141767263, 0.01431212853640318, -0.12376157194375992, -0.007254477124661207, -0.12757965922355652, -0.046751029789447784, -0.01877143420279026, -0.03204001486301422, -0.05588843673467636, -0.017764316871762276, -0.006184229627251625, -0.00520429527387023, -0.01579619012773037, 0.014400692656636238, -0.004162423778325319, -0.08425764739513397, 0.06050681322813034, 0.04516230896115303, 0.00923788733780384, -0.0943455696105957, -0.10787901282310486, -0.08425761759281158, 0.014622288756072521, -0.006162347737699747, 0.01693398505449295, -0.031775761395692825, 0.01777017116546631, -0.023533469066023827, 0.0884304791688919, 0.09768357127904892, -0.06687571108341217, 0.09639278799295425, -0.04574202746152878, -0.04680006578564644, 0.026478460058569908, 0.03884895145893097, 0.09032680839300156, -0.0073804911226034164, 0.04412996768951416, -0.03580667823553085, -0.029030175879597664, 0.055768173187971115, 0.015807006508111954, 0.038275863975286484, 0.05474679544568062, -0.11344419419765472, -0.023907944560050964, 0.03324048966169357, -0.04142725095152855, 0.09415771812200546, 0.08546921610832214, 0.0877225399017334, 0.0023277385625988245, 0.028277669101953506, -0.10819579660892487, -0.09425809234380722, 0.02872382290661335, 0.07608824223279953, 0.06154344230890274, -0.011986861936748028, 0.11837653815746307, -0.056442711502313614, -0.027881721034646034, -0.014330964535474777, -0.06845535337924957, -0.09006752073764801, -0.015958577394485474, 0.09268254786729813, -0.03481902927160263, -0.033093228936195374, 0.0724799782037735, -0.017540449276566505, 0.0300133153796196, -0.09187894314527512, 0.01418814342468977, -0.035300783812999725, -0.0251777321100235, 0.03281792998313904, -0.04143261909484863, 0.00036561061278916895, -0.004114834126085043, -0.05443671718239784, -0.015800368040800095, 0.0017662683967500925, 0.04474803805351257, 0.04941900074481964, 0.024981744587421417, -0.10975012928247452, 0.0430985689163208, -0.07689029723405838, 0.009896110743284225, -0.010131539776921272, -0.04120243713259697, 0.04960651695728302, 0.004661648999899626, 0.07574751228094101, 0.004453031346201897, -0.02715594507753849, 0.05259370058774948, -0.003737403778359294, 0.018330996856093407, -0.12472124397754669, -0.11693466454744339, -0.01767992042005062, 0.02085091918706894, -0.11593493074178696, -0.0643111988902092, 0.10234800726175308, -0.02098795399069786, -0.026367025449872017, 0.015254652127623558, 0.00906455609947443, 0.07379742711782455, -0.05518496036529541, 0.04973628371953964, 0.11934875696897507, -0.028245018795132637, 0.0398111492395401, 0.04558771476149559, -0.10298608988523483, 0.07036139070987701, 0.08966562151908875, 0.06777702271938324, 0.07999200373888016, -0.07957538962364197, 0.12833814322948456, -0.05400891974568367, -0.03153019770979881, -0.014796815812587738, 0.15555739402770996, -0.07643438875675201, 0.028124427422881126, 0.06440886110067368, 0.02796279266476631, 0.0714465081691742, -0.11069539189338684, 0.010577094741165638, 0.032399483025074005, 0.04393812268972397, -0.019178666174411774, -0.05143650621175766, -0.0078644510358572, 0.05881322920322418, -0.06348749250173569, 0.010130158625543118, 0.02210061065852642, 0.05290701985359192, -0.000831054407171905, 0.044282808899879456, 0.015231548808515072, -0.007343722507357597, 0.011201436631381512, 0.03574459254741669, 0.06655948609113693, -0.034216199070215225, 0.06444352120161057, -0.11620291322469711, -0.013688206672668457, -0.0457036979496479, -0.03079572506248951, -0.028938116505742073, 0.10837043076753616, -0.10879455506801605, -0.024403268471360207, 0.021671658381819725, 0.03830701857805252, -0.00037310412153601646, 0.060969408601522446, -0.09489846974611282, 0.047721631824970245, -0.045389946550130844, -0.11595752090215683, -0.06409476697444916, 0.06247490644454956, -0.06856591254472733, -0.053847767412662506, 0.03359245881438255, 0.010592959821224213, -0.0946420282125473, -0.06589511781930923, -0.007570439483970404, 0.009122799150645733, -0.031022176146507263, 0.029150791466236115, -0.035853348672389984, -0.06781767308712006, -0.05669280141592026, -0.07852781563997269, 0.0862722173333168, 0.08972548693418503, -0.021102232858538628, -0.12692227959632874, -0.07721619307994843, 0.10569912940263748, -0.00013920101628173143, 0.008205177262425423, -0.05272834375500679, 0.016250425949692726, -0.04591865465044975, 0.1037009060382843, 0.04864685237407684, -0.046332281082868576, -0.06897272169589996, 0.12387264519929886, -0.05074837803840637, 0.05999530851840973, -0.004404670558869839, 0.029728632420301437, -0.00801313016563654, -0.14888690412044525, -0.0414811447262764, -0.006200537551194429, -0.05812397971749306], shard_key=None),\n",
       "  Record(id=269299, payload={'行业': '医疗健康', 'df': 5, 'word': '宽表', 'index': 27023, 'tf': 20}, vector=[0.04893713444471359, -0.004943968262523413, 0.09033486247062683, 0.07874573022127151, 0.009057854302227497, 0.07558783888816833, 0.049024876207113266, 0.2151312381029129, 0.03450644761323929, -0.08038021624088287, 0.07211723178625107, 0.05829039216041565, 0.01607672870159149, 0.0181580763310194, -0.009038448333740234, -0.03398553282022476, -0.02919275499880314, -0.020578568801283836, -0.03164566680788994, 0.06374526023864746, 0.05239797383546829, 0.05053010210394859, -0.036398738622665405, -0.06497594714164734, -0.03371066600084305, -0.036590564996004105, 0.021697066724300385, 0.0196186862885952, -0.036099500954151154, -0.025918083265423775, -0.05391719192266464, -0.03537541627883911, -0.1542084664106369, 0.10426255315542221, 0.0745900347828865, -0.03708517178893089, 0.09671006351709366, -0.10105855017900467, 0.0015346574364230037, -0.008245536126196384, 0.06368725001811981, 0.015910975635051727, 0.011111192405223846, 0.040823135524988174, 0.04955673962831497, -0.05079532414674759, 0.0972648411989212, -0.06502549350261688, -0.08124902844429016, 0.018448254093527794, 0.06680121272802353, -0.04157650098204613, -0.012466531246900558, -0.11679570376873016, -0.01365048997104168, -0.037350744009017944, 0.10235720127820969, 0.11260079592466354, 0.04686029627919197, -0.044260501861572266, 0.11529677361249924, -0.16915571689605713, 0.0030544090550392866, -0.03253728896379471, -0.06081119924783707, 0.016376519575715065, 0.09649370610713959, -0.02653084695339203, 0.05315664783120155, -0.0990300327539444, 0.12245810776948929, -0.1071086972951889, 0.04141966253519058, -0.04861737787723541, 0.05300373211503029, 0.029433945193886757, -0.09393135458230972, 0.007418076042085886, -0.08115069568157196, -0.003597071161493659, -0.03214583545923233, -0.018535207957029343, -0.002935509430244565, 0.018964605405926704, -0.0004768451035488397, 0.03177952766418457, 0.03133565932512283, 0.10911586880683899, 0.1107376292347908, -0.05830087885260582, -0.060193002223968506, 0.12142735719680786, 0.04369668290019035, 0.04383958503603935, 0.07696752995252609, -0.04899846017360687, -0.09762293845415115, 0.08108071237802505, 0.06037537753582001, 0.04984922334551811, -0.04609382897615433, 0.03751404583454132, -0.045305036008358, 0.05060097202658653, -0.08719614893198013, 0.06127848103642464, -0.09272337704896927, 0.10196612775325775, -0.01692206971347332, 0.05321963131427765, -0.17101545631885529, 0.04300852119922638, -0.05832233279943466, 0.021808210760354996, -0.03460204228758812, 0.02378334291279316, 0.0844515711069107, 0.055525537580251694, 0.026378730311989784, 0.05004274100065231, -0.012776530347764492, -0.060404468327760696, -0.016456464305520058, 0.02920548990368843, -0.029664229601621628, -0.0002252494014101103, -0.0761428251862526, 0.14813029766082764, 0.0400129035115242, 0.04205746203660965, -0.009209622628986835, 0.04998284950852394, 0.05466034263372421, -0.006159642245620489, 0.0186118446290493, 0.03901546820998192, 0.04581243172287941, 0.03764474391937256, -0.023854432627558708, -0.010863005183637142, -0.09773195534944534, 0.02682289481163025, -0.07460714876651764, 0.013881294056773186, -0.06755204498767853, -0.027714340016245842, 0.022483766078948975, -0.10119587182998657, 0.07467210292816162, 0.12255354970693588, -0.07091072201728821, -0.002813421655446291, -0.06802473962306976, -0.10162653028964996, 0.007069968618452549, -0.07189317047595978, 0.05184735357761383, 0.04318559542298317, 0.02381807751953602, 0.005314886569976807, 0.08247379213571548, -0.0477517768740654, 0.012026969343423843, -0.047135915607213974, 0.02082924358546734, 0.009966605342924595, -0.03749683499336243, 0.05158817023038864, 0.09734304249286652, 0.02041912078857422, 0.03366008400917053, -6.936997669981793e-05, -0.045211367309093475, 0.005378040950745344, 0.03749564290046692, -0.08669682592153549, -0.12627378106117249, 0.032371487468481064, -0.07851485908031464, -0.015151522122323513, -0.04350088909268379, -0.03747406601905823, 0.0016194503987208009, -0.002739344025030732, 0.023868773132562637, 0.00398146640509367, -0.043906569480895996, -0.06802693754434586, 0.022543247789144516, -0.06480349600315094, 0.02079688385128975, -0.1423649936914444, -0.03937893360853195, 0.13070957362651825, 0.08377712965011597, -0.10229477286338806, -0.009815530851483345, 0.02598520740866661, 0.01145265344530344, 0.007620034273713827, 0.0035262650344520807, -0.07552748173475266, 0.0745055228471756, -0.0312855988740921, 0.015026281587779522, -0.03108660876750946, 0.04988924413919449, -0.04821848124265671, 0.04925284534692764, -0.06031784415245056, -0.014004901051521301, -0.03848666325211525, -0.04070984199643135, -0.021853450685739517, -0.04751821234822273, 0.008572033606469631, -0.06857996433973312, -0.09483514726161957, 0.03961096704006195, -0.004228002391755581, -0.05841904506087303, 0.05634262412786484, 0.02253376506268978, -0.16332538425922394, 0.07659216225147247, 0.05351445451378822, 0.07284224033355713, 0.05324392020702362, 0.016836019232869148, -0.1275501251220703, 0.017083382233977318, 0.011845003813505173, 0.03130989149212837, 0.0708635225892067, 0.08887100219726562, -0.09437989443540573, -0.0301898755133152, 0.06230926513671875, 0.02659773640334606, -0.00017458580259699374, -0.060397617518901825, -0.02190599963068962, -0.0020927772857248783, 0.15798264741897583, 0.06039409339427948, -0.05250601842999458, 0.05213169753551483, 0.017578640952706337, 0.025658512488007545, -0.010112243704497814], shard_key=None)],\n",
       " 419044)"
      ]
     },
     "execution_count": 277,
     "metadata": {},
     "output_type": "execute_result"
    }
   ],
   "source": [
    "target_label = \"宽表\"\n",
    "filter_=dm.Filter(\n",
    "        must=[\n",
    "            FieldCondition(key=\"word\", match=MatchValue(value=target_label)),\n",
    "        ]\n",
    "    )\n",
    "#以逐页方式返回所有点\n",
    "search_result = client.scroll(\n",
    "    collection_name=collection_name,\n",
    "    # scroll_filter={\n",
    "    #     \"must\": [\n",
    "    #         {\n",
    "    #             \"key\": \"word\",\n",
    "    #             \"match\": {\n",
    "    #                 \"value\": target_label\n",
    "    #             }\n",
    "    #         }\n",
    "    #     ]\n",
    "    # },\n",
    "    scroll_filter=filter_,\n",
    "    with_vectors=True,\n",
    "    with_payload=True,\n",
    "\n",
    "    #order_by='df',\n",
    "    limit=2  # 只获取一个匹配的结果\n",
    ")\n",
    "#search_result[0][0].vector\n",
    "search_result"
   ]
  },
  {
   "cell_type": "code",
   "execution_count": 296,
   "id": "c3da058c-1db7-4b56-ac1e-fc6fb6f7c1ce",
   "metadata": {},
   "outputs": [
    {
     "data": {
      "text/plain": [
       "([Record(id=419044, payload={'行业': '传统制造', 'df': 2, 'word': '宽表', 'index': 68921, 'tf': 9}, vector=[0.10179511457681656, -0.0023343442007899284, 0.02711455337703228, 0.03263173624873161, 0.04186317324638367, -0.07963865250349045, 0.016137216240167618, 0.08250651508569717, 0.01940610073506832, 0.02013571187853813, -0.022401168942451477, 0.03755269572138786, 0.037365563213825226, 0.03300650417804718, 0.023365497589111328, -0.02234816737473011, -0.11061055958271027, -0.00300019234418869, -0.12916159629821777, -0.0035580252297222614, -0.06286544352769852, 0.05668935552239418, 0.038385529071092606, -0.07111337780952454, 0.030702853575348854, -0.024842936545610428, 0.03863505274057388, -0.051889922469854355, -0.00042305010720156133, 0.014772722497582436, 0.016844265162944794, 0.03650450333952904, -0.10665281116962433, -0.1330958753824234, 0.08120319247245789, -0.06278689950704575, 0.015204368159174919, -0.0940684899687767, 0.09483395516872406, -0.09726271033287048, 0.01874113455414772, 0.046233829110860825, -0.041708603501319885, -0.04806063696742058, 0.026304949074983597, -0.038957126438617706, 0.06728027760982513, 0.017881635576486588, 0.0349930115044117, -0.07170070707798004, -0.00926501676440239, 0.0011428543366491795, 0.03609849512577057, -0.06015201285481453, 0.034462571144104004, -0.030301395803689957, 0.03385186567902565, 0.056824278086423874, 0.08448721468448639, -0.019898077473044395, 0.13133570551872253, -0.014660347253084183, 0.0007399948081001639, 0.043639764189720154, 0.012133409269154072, -0.11721617728471756, 0.04046551138162613, -0.11142338067293167, 0.033502332866191864, -0.02705354243516922, 0.0011295945150777698, 0.0812239870429039, 0.03023623488843441, -0.02572307549417019, -0.025185469537973404, 0.03159362077713013, -0.00041510388837195933, 0.03806036338210106, 0.11414776742458344, 0.06706245243549347, -0.02197152189910412, 0.0001287169143324718, -0.025047436356544495, -0.05636712536215782, -0.06010204553604126, 0.06132348254323006, -0.01249541062861681, 0.08815602958202362, -0.10562443733215332, -0.008528854697942734, 0.05339067056775093, 0.11458653956651688, -0.049194272607564926, -0.08323610574007034, -0.0062241083942353725, -0.08157419413328171, -0.05436847731471062, -0.08747333288192749, 0.040942203253507614, -0.03866340592503548, -0.10007362812757492, 0.0058549377135932446, -0.07394986599683762, 0.0424194261431694, -0.04005002602934837, -0.05936064571142197, 0.03352193534374237, 0.03852516785264015, 0.06717632710933685, 0.058037467300891876, 0.07649337500333786, -0.05068261921405792, 0.1161051094532013, 0.020261680707335472, -0.09736397862434387, -0.035094354301691055, -0.06941443681716919, 0.004621573258191347, -0.04202456399798393, 0.05250435322523117, 0.02408340573310852, 0.03292571008205414, -0.0670878067612648, -0.12115300446748734, -0.08029017597436905, 0.006071591749787331, -0.1788434535264969, 0.09057163447141647, 0.009081809781491756, -0.10557497292757034, 0.04553055763244629, 0.1266450732946396, -0.015828043222427368, -0.0014679516898468137, -0.06720968335866928, 0.061912909150123596, -0.0031035342253744602, -0.1292542964220047, 0.045011892914772034, -0.1845112293958664, 0.025336725637316704, -0.037892896682024, -0.10324043035507202, -0.030066421255469322, 0.02438328042626381, 0.02532471902668476, 0.008978351019322872, -0.006625749170780182, 0.032948486506938934, 0.017582377418875694, -0.0013300395803526044, 0.09123755246400833, 0.009436482563614845, -0.08146628737449646, -0.13042043149471283, 0.05003371462225914, -0.021224597468972206, -0.06409062445163727, -0.05077414587140083, -0.001401313696987927, -0.11822008341550827, -0.0713268592953682, -0.09247647225856781, 0.01966140605509281, 0.0027327456045895815, 0.06410327553749084, 0.0030659108888357878, -0.08241260051727295, -0.03679957240819931, -0.009968564845621586, -0.07259979844093323, 0.03296802192926407, -0.04310443997383118, 0.02848513424396515, -0.015119998715817928, -0.09463350474834442, -0.0019378052093088627, 0.024628901854157448, -0.014099407941102982, -0.019923724234104156, 0.07347655296325684, 0.019745388999581337, 0.02292616106569767, 0.042445965111255646, -0.05959302932024002, 0.010294359177350998, 0.054557234048843384, -0.018927495926618576, -0.019861632958054543, -0.023926883935928345, 0.07322083413600922, -0.025281241163611412, -0.03056744672358036, 0.07400421798229218, 0.07208357006311417, -0.019290009513497353, 0.012782677076756954, -0.07617046684026718, 0.10200509428977966, -0.10406633466482162, 0.10436936467885971, 0.09018008410930634, -0.0011695214780047536, -0.01943383924663067, 0.03708244487643242, -0.04759795963764191, -0.12106072157621384, -0.04771742969751358, -0.0777292251586914, 0.042886994779109955, 0.02666175179183483, 0.003886912949383259, -0.09943416714668274, 0.014475390315055847, -0.021197881549596786, -0.09972045570611954, -0.13569141924381256, -0.1372358202934265, -0.08790915459394455, 0.07210122793912888, -0.05682641640305519, -0.016832001507282257, 0.04597548022866249, -0.0010527833364903927, -0.008402582257986069, 0.027739863842725754, 0.02135140635073185, -0.006184143479913473, 0.0004209750040899962, -0.149349182844162, -0.059194233268499374, -0.09348864108324051, -0.037346478551626205, 0.04251933842897415, -0.044174328446388245, 0.04430592805147171, 0.07155554741621017, -0.12139071524143219, -0.054880231618881226, 0.050933051854372025, 0.025439079850912094, 0.03431741148233414, 0.051862683147192, 0.03014531545341015, 0.06404431909322739, 0.04418760538101196, -0.08796289563179016, -0.004736087750643492, -0.1668957769870758, 0.048865336924791336], shard_key=None)],\n",
       " None)"
      ]
     },
     "execution_count": 296,
     "metadata": {},
     "output_type": "execute_result"
    }
   ],
   "source": [
    "target_label = \"宽表\"\n",
    "filter_=dm.Filter(\n",
    "        must=[\n",
    "            FieldCondition(key=\"word\", match=MatchValue(value=target_label)),\n",
    "            FieldCondition(key=\"行业\",match=MatchValue(value=\"传统制造\",),)\n",
    "        ]\n",
    "    )\n",
    "#以逐页方式返回所有点\n",
    "search_result = client.scroll(\n",
    "    collection_name=collection_name,\n",
    "    # scroll_filter={\n",
    "    #     \"must\": [\n",
    "    #         {\n",
    "    #             \"key\": \"word\",\n",
    "    #             \"match\": {\n",
    "    #                 \"value\": target_label\n",
    "    #             }\n",
    "    #         }\n",
    "    #     ]\n",
    "    # },\n",
    "    scroll_filter=filter_,\n",
    "    with_vectors=True,\n",
    "    with_payload=True,\n",
    "\n",
    "    #order_by='df',\n",
    "    limit=1  # 只获取一个匹配的结果\n",
    ")\n",
    "search_result "
   ]
  },
  {
   "cell_type": "code",
   "execution_count": 286,
   "id": "00d6680f-b428-4bd2-8f1e-ef5b1ca0de46",
   "metadata": {},
   "outputs": [
    {
     "data": {
      "text/plain": [
       "[[ScoredPoint(id=350123, version=71, score=1.0, payload={'行业': '传统制造', 'df': 190204, 'word': '所述', 'index': 0, 'tf': 946114}, vector=None, shard_key=None),\n",
       "  ScoredPoint(id=350129, version=71, score=0.6807588934898376, payload={'行业': '传统制造', 'index': 6, 'word': '第一', 'df': 80116, 'tf': 287318}, vector=None, shard_key=None),\n",
       "  ScoredPoint(id=350132, version=71, score=0.6131157279014587, payload={'行业': '传统制造', 'index': 9, 'df': 90757, 'word': '设有', 'tf': 220777}, vector=None, shard_key=None)],\n",
       " [ScoredPoint(id=350124, version=71, score=1.0000001192092896, payload={'行业': '传统制造', 'index': 1, 'word': '一种', 'df': 378375, 'tf': 695433}, vector=None, shard_key=None),\n",
       "  ScoredPoint(id=350139, version=71, score=0.6030797958374023, payload={'行业': '传统制造', 'index': 16, 'df': 75209, 'word': '方法', 'tf': 183987}, vector=None, shard_key=None),\n",
       "  ScoredPoint(id=350213, version=71, score=0.5520822405815125, payload={'行业': '传统制造', 'word': '属于', 'index': 90, 'df': 43288, 'tf': 43505}, vector=None, shard_key=None)]]"
      ]
     },
     "execution_count": 286,
     "metadata": {},
     "output_type": "execute_result"
    }
   ],
   "source": [
    "filter_ = Filter(\n",
    "    must=[\n",
    "        FieldCondition(\n",
    "            key=\"行业\",\n",
    "            match=MatchValue(\n",
    "                value=\"传统制造\",\n",
    "            ),\n",
    "        )\n",
    "    ]\n",
    ")\n",
    "search_queries = [\n",
    "    dm.SearchRequest(vector=query_vector, filter=filter_, limit=3,with_payload=True),\n",
    "    dm.SearchRequest(vector=query_vector_1, filter=filter_, limit=3,with_payload=True),\n",
    "]\n",
    "client.search_batch(collection_name=collection_name, requests=search_queries)#根据向量相似性和给定的过滤条件,批量检索最接近的点"
   ]
  },
  {
   "cell_type": "code",
   "execution_count": 331,
   "id": "7bf5ea3a-4d71-4ee2-b4c3-e642fa83c59c",
   "metadata": {},
   "outputs": [
    {
     "data": {
      "text/plain": [
       "[('计算机领域', 0.687181830406189),\n",
       " ('计算机信息', 0.597895622253418),\n",
       " ('计算机技术', 0.5902829170227051),\n",
       " ('网络安全', 0.5733133554458618),\n",
       " ('数据分析', 0.5690364241600037),\n",
       " ('方法', 0.5622820854187012),\n",
       " ('程序设计', 0.5606061816215515),\n",
       " ('图像处理', 0.5571784377098083),\n",
       " ('训练方法', 0.5506466627120972),\n",
       " ('领域', 0.5487185120582581)]"
      ]
     },
     "execution_count": 331,
     "metadata": {},
     "output_type": "execute_result"
    }
   ],
   "source": [
    "def most_similar_by_name(name, collection_name,mutch=[], exclude=[],topn=10, score_threshold=0.5):\n",
    "    match_name=FieldCondition(key='word',match=MatchValue(value=name,),)\n",
    "    match_not_name=[FieldCondition(key='word',match=MatchValue(value=w),) for w in exclude]\n",
    "    scroll_filter = Filter(must=mutch+[match_name])\n",
    "    scroll_result=client.scroll(collection_name=collection_name,\n",
    "                                scroll_filter=scroll_filter,\n",
    "                                with_vectors=True,\n",
    "                                with_payload=True,\n",
    "                                limit=1)  # 只获取一个匹配的结果\n",
    "    #print(result_0)\n",
    "    query_vector=scroll_result[0][0].vector\n",
    "    \n",
    "    query_filter=Filter(must=mutch,must_not=[match_name]+match_not_name)# 缩小查询范围 \n",
    "    search_hit=client.search(collection_name=collection_name,\n",
    "                            query_vector= query_vector,#tolist()\n",
    "                            query_filter=query_filter,                     \n",
    "                            limit=topn,\n",
    "                            score_threshold=score_threshold,\n",
    "                            search_params=SearchParams(exact=True,),  # Turns on the exact search mode               \n",
    "                        )\n",
    "    \n",
    "    return [(p.payload['word'],p.score) for p in search_hit]\n",
    "\n",
    "match_hy=[FieldCondition(key=\"行业\",match=MatchValue(value=\"金融\",),)]\n",
    "most_similar_by_name('人工智能',collection_name,match_hy, topn=10)    "
   ]
  },
  {
   "cell_type": "code",
   "execution_count": 440,
   "id": "f7c3ee34-fda8-48ee-ba50-36409cca0fe5",
   "metadata": {},
   "outputs": [
    {
     "name": "stdout",
     "output_type": "stream",
     "text": [
      "CPU times: total: 0 ns\n",
      "Wall time: 3.04 s\n"
     ]
    },
    {
     "data": {
      "text/plain": [
       "{'方法': 528399, '人工智能': 528742}"
      ]
     },
     "execution_count": 440,
     "metadata": {},
     "output_type": "execute_result"
    }
   ],
   "source": [
    "%%time\n",
    "def name_to_ids(names,collection_name,mutch=[]):\n",
    "    ret={}\n",
    "    for w in names:\n",
    "        match_name=FieldCondition(key='word',match=MatchValue(value=w),)\n",
    "        scroll_filter = Filter(must=mutch+[match_name])\n",
    "        scroll_result=client.scroll(collection_name=collection_name,\n",
    "                            scroll_filter=scroll_filter,\n",
    "                            with_payload=True,\n",
    "                            #with_vectors=True,        \n",
    "                            limit=1) \n",
    "        if len(scroll_result):\n",
    "            ret[w]=scroll_result[0][0].id\n",
    "    return ret\n",
    "name_to_ids(['方法','人工智能'],collection_name,match_hy)    "
   ]
  },
  {
   "cell_type": "code",
   "execution_count": 74,
   "id": "b526d353-fb15-4cf6-be62-8042120b305d",
   "metadata": {},
   "outputs": [
    {
     "data": {
      "text/plain": [
       "True"
      ]
     },
     "execution_count": 74,
     "metadata": {},
     "output_type": "execute_result"
    }
   ],
   "source": [
    "5 in range(1,500)"
   ]
  },
  {
   "cell_type": "code",
   "execution_count": 441,
   "id": "7b27b6ed-9dd0-48b9-84df-737e95281e2e",
   "metadata": {},
   "outputs": [
    {
     "name": "stdout",
     "output_type": "stream",
     "text": [
      "CPU times: total: 0 ns\n",
      "Wall time: 3.09 s\n"
     ]
    },
    {
     "data": {
      "text/plain": [
       "{'方法': 528399, '人工智能': 528742}"
      ]
     },
     "execution_count": 441,
     "metadata": {},
     "output_type": "execute_result"
    }
   ],
   "source": [
    "%%time\n",
    "# filters = {\n",
    "#     \"should\": [\n",
    "#         {\n",
    "#             \"key\": \"label\",\n",
    "#             \"match\": {\n",
    "#                 \"value\": label\n",
    "#             }\n",
    "#         } for label in target_labels\n",
    "#     ]\n",
    "# }\n",
    "def name_to_ids(names,collection_name,mutch=[]):\n",
    "    shoulds=[FieldCondition(key='word',match=MatchValue(value=w)) for w in names]\n",
    "    scroll_filter = Filter(must=mutch,should=shoulds)\n",
    "\n",
    "    scroll_result=client.scroll(collection_name=collection_name,\n",
    "                    scroll_filter=scroll_filter,\n",
    "                    with_payload=True,\n",
    "                    #with_vectors=True,        \n",
    "                    limit=len(names)) \n",
    "    \n",
    "    return {i.payload['word']:i.id for i in scroll_result[0]}\n",
    "name_to_ids(['方法','人工智能'],collection_name,match_hy)   "
   ]
  },
  {
   "cell_type": "code",
   "execution_count": 393,
   "id": "83bf50f1-9c6b-41c6-8b33-6ea74b7fba33",
   "metadata": {},
   "outputs": [
    {
     "data": {
      "text/plain": [
       "557527"
      ]
     },
     "execution_count": 393,
     "metadata": {},
     "output_type": "execute_result"
    }
   ],
   "source": [
    "client.count(collection_name=collection_name).count"
   ]
  },
  {
   "cell_type": "code",
   "execution_count": null,
   "id": "1a5863e4-1e26-422b-8700-80dbc0194de5",
   "metadata": {},
   "outputs": [],
   "source": [
    "#os.environ[\"QDRANT_API_KEY\"] = \"your-api-key\""
   ]
  },
  {
   "cell_type": "code",
   "execution_count": 396,
   "id": "28a127b4-a8d1-4d20-a13c-85365cdee7e4",
   "metadata": {},
   "outputs": [
    {
     "data": {
      "text/plain": [
       "1"
      ]
     },
     "execution_count": 396,
     "metadata": {},
     "output_type": "execute_result"
    }
   ],
   "source": [
    "# [(i.id,i.payload['word'])i.payload['行业']) for i in client.retrieve(collection_name=collection_name,ids=range(527))]\n",
    "hy_name_id={}\n",
    "for i in client.retrieve(collection_name=collection_name,ids=range(500)):\n",
    "    prev=hy_name_id.get(i.payload['行业'],[])\n",
    "    prev.append((i.id,i.payload['word']))\n",
    "    hy_name_id[i.payload['行业']]=prev\n",
    "len(hy_name_id)"
   ]
  },
  {
   "cell_type": "code",
   "execution_count": 350,
   "id": "9135b9c4-80ca-456f-824d-c11b06459e12",
   "metadata": {},
   "outputs": [
    {
     "data": {
      "text/plain": [
       "[Record(id=528399, payload={'行业': '金融', 'df': 44783, 'word': '方法', 'index': 0, 'tf': 126859}, vector=[0.022369984537363052, -0.07480421662330627, -0.0395512729883194, 0.006151298061013222, 0.013950595632195473, -0.1468721479177475, 0.08044766634702682, -0.15183359384536743, -0.023574071004986763, -0.029082858934998512, 0.034255221486091614, 0.050116684287786484, -0.05691058933734894, -0.04151081666350365, 0.08291137963533401, 0.009235695004463196, -0.06400235742330551, 0.021076418459415436, -0.03143550083041191, -0.07538993656635284, 0.016964999958872795, 0.08818458020687103, -0.07311038672924042, -0.029940418899059296, -0.054906267672777176, 0.0446973480284214, -0.1217559427022934, -0.019872019067406654, -0.14293193817138672, 0.08317241817712784, -0.024319307878613472, 0.006911531090736389, 0.10258151590824127, -0.028731796890497208, -0.11528920382261276, 0.05186084285378456, 0.04382568597793579, 0.04572909325361252, 0.000665533822029829, 0.09283336251974106, 0.037528716027736664, 0.02373991534113884, 0.0016645180294290185, 0.006805958226323128, -0.054571349173784256, 0.10779369622468948, -0.08495374023914337, 0.13396750390529633, -0.0059643154963850975, 0.03673999384045601, -0.0027208218816667795, 0.05532945692539215, 0.02404327131807804, 0.07609790563583374, 0.07958502322435379, -0.04744619131088257, -0.048396795988082886, -0.03682440519332886, 0.010442578233778477, 0.12140051275491714, -0.03775610402226448, 0.011684688739478588, -0.08241730183362961, -0.01191719900816679, 0.14570797979831696, 0.007917993701994419, 0.00417123781517148, 0.06958860903978348, 0.014374174177646637, -0.00885192584246397, 0.09188058227300644, 0.00411673728376627, 0.052622321993112564, -0.0008810264989733696, -0.006158067844808102, 0.04989107325673103, 0.05953511595726013, -0.0009607801330275834, -0.06339093297719955, 0.024207821115851402, 0.004689776338636875, -0.05008263140916824, -0.004387998953461647, -0.038145530968904495, 0.03696076571941376, 0.007754581049084663, 0.05559588968753815, 0.026579372584819794, -0.038717564195394516, -0.058206550776958466, -0.016995500773191452, 0.011675350368022919, 0.0342533253133297, -0.011198179796338081, -0.0742686539888382, -0.05077418312430382, -0.01475443597882986, 0.007545731030404568, 0.0746534988284111, 0.08503758162260056, -0.07040602713823318, 0.026020580902695656, 0.010628762654960155, 0.04518559202551842, 0.06390469521284103, -0.04857562854886055, -0.11532799899578094, -0.045544784516096115, 0.0946962907910347, -0.021040169522166252, -0.06704403460025787, 0.0072123585268855095, -0.1308550387620926, -0.01647822931408882, 0.05252530425786972, -0.04615222290158272, 0.049918562173843384, 0.0094382893294096, -0.017223579809069633, 0.1974770426750183, -0.08085403591394424, 0.01027864869683981, -0.05579082667827606, -0.024264758452773094, 0.0995333269238472, -0.046041104942560196, 0.09582503139972687, -0.03457668051123619, 0.06186804547905922, 0.014862840995192528, 0.006412206683307886, 0.0002566268958617002, -0.012918058782815933, -0.01249317079782486, 0.03349935635924339, 0.02518235146999359, -0.02158636972308159, -0.051762066781520844, 0.18954557180404663, 0.08068518340587616, 0.050759900361299515, -0.04973960667848587, -0.07209912687540054, -0.06109800189733505, -0.07488130778074265, -0.021224262192845345, 0.015648365020751953, 0.1242719292640686, -0.11007096618413925, -0.0636582225561142, 0.058973465114831924, -0.008944079279899597, 0.045333027839660645, 0.002870480064302683, 0.05238185077905655, -0.01830562949180603, -0.015248000621795654, 0.023231592029333115, 0.003469692775979638, 0.06209130957722664, -0.005216055084019899, -0.12037504464387894, -0.10282237827777863, 0.10173499584197998, -0.025371382012963295, -0.07437866181135178, -0.04616985097527504, -0.04365489259362221, 0.05259155482053757, 0.04910155385732651, 0.00284774461761117, -0.0011128270998597145, 0.0023824821691960096, -0.021082479506731033, -0.05781468376517296, -0.044474050402641296, -0.014546184800565243, -0.00025145377730950713, 0.02215181291103363, -0.04976016283035278, 0.017593437805771828, -0.10550181567668915, 0.04016435518860817, -0.06375069171190262, -0.031833551824092865, 0.02086329460144043, 0.02341826818883419, -0.11970384418964386, 0.032024577260017395, -0.022833388298749924, -0.002303834306076169, -0.01053871214389801, -0.06149842590093613, -0.12116517871618271, 0.01589498482644558, -0.030379528179764748, 0.03740185126662254, 0.04150845482945442, 0.03181161731481552, 0.08988732844591141, -0.030481591820716858, 0.019855767488479614, 0.09364308416843414, -0.06585154682397842, 0.0685262605547905, 0.004121036268770695, -0.0714796781539917, -0.029330382123589516, -0.04520772397518158, 0.15897783637046814, 0.00036449881736189127, 0.13080637156963348, 0.10547728091478348, 0.12680748105049133, 0.007939442992210388, 0.13514645397663116, 0.03100821189582348, -0.010641871951520443, 0.05282933637499809, -0.0092065604403615, 0.004630046430975199, -0.11323470622301102, 0.0731629952788353, 0.10532014816999435, 0.11430682241916656, 0.07164905220270157, 0.04121597483754158, -0.02496941201388836, -0.03941144794225693, -0.028424447402358055, -0.0016062771901488304, 0.0849246233701706, -0.046784184873104095, 0.07926219701766968, 0.011431084014475346, -0.11174673587083817, -0.05923774465918541, 0.1312987357378006, -0.0047692502848804, 0.05306006968021393, 0.002732619410380721, 0.0009602258796803653, 0.03845461085438728, 0.12616737186908722, 0.07258190214633942, 0.01033494807779789, -0.05244939774274826, 0.03934486210346222, -0.011886806227266788, -0.0469440333545208], shard_key=None),\n",
       " Record(id=528742, payload={'行业': '金融', 'df': 2008, 'index': 343, 'word': '人工智能', 'tf': 2306}, vector=[-0.038423556834459305, -0.07233502715826035, -0.09180857986211777, -0.014198720455169678, -0.004243290051817894, -0.08727113902568817, 0.08658700436353683, -0.14455577731132507, 0.03394715487957001, 0.008206682279706001, -0.04157610237598419, 0.11261908710002899, 0.056059617549180984, -0.032710373401641846, 0.08343140035867691, -0.005535921547561884, -0.03985566645860672, 0.01738671213388443, -0.0737241804599762, 0.03362295404076576, 0.060158029198646545, 0.059856198728084564, -0.033637840300798416, -0.07002713531255722, -0.030081767588853836, 0.11553540825843811, -0.0793730616569519, -0.10144608467817307, 0.04380270466208458, 0.12218254804611206, -0.10704629868268967, -0.050690650939941406, 0.023054882884025574, -0.00544723542407155, -0.09832648187875748, -0.0761236771941185, 0.0073923454619944096, 0.004909751005470753, 0.0821225717663765, -0.10800520330667496, 0.10444743186235428, -0.002653557574376464, 0.0042944117449223995, -0.001330117229372263, -0.05947577953338623, 0.046188853681087494, -0.037419918924570084, 0.09934475272893906, -0.03288021311163902, 0.12658272683620453, -0.023087330162525177, -0.004767163656651974, -0.0463869608938694, 0.12929700314998627, -0.02441537380218506, 0.003354045795276761, -0.002733523491770029, -0.008034012280404568, 0.05651266500353813, 0.1050630509853363, -0.13595494627952576, 0.01467805728316307, -0.002879217267036438, 0.007688347715884447, 0.050182245671749115, 0.07598893344402313, 0.08026866614818573, 0.13253700733184814, 0.051362425088882446, 0.0012981366598978639, 0.08693261444568634, 0.036591313779354095, 0.02193431742489338, 0.07259013503789902, -0.09041373431682587, 0.06079632043838501, 0.06362000107765198, -0.04297903925180435, -0.08885977417230606, -0.0076456679962575436, -0.017729124054312706, -0.036736246198415756, 0.08651591092348099, -0.028761111199855804, 0.002822523470968008, 0.04685782641172409, 0.11259577423334122, 0.10461296886205673, -0.018121110275387764, -0.037309885025024414, 0.030412724241614342, 0.05250569432973862, 0.013150464743375778, -0.09421010315418243, -0.03264785557985306, -0.06363854557275772, 0.019588910043239594, 0.04257894679903984, 0.03958502411842346, -0.026176663115620613, -0.018774040043354034, 0.019308777526021004, 0.016324123367667198, 0.012397373095154762, -0.042242422699928284, 0.011493236757814884, -0.06492679566144943, -0.06741601973772049, 0.07405179738998413, 0.07196414470672607, 0.020695630460977554, -0.011004533618688583, -0.07967383414506912, -0.012492084875702858, 0.002986727748066187, -0.0470365509390831, 0.02747444622218609, -0.037595491856336594, -0.05419757962226868, 0.13254238665103912, -0.08735761791467667, 0.0200495682656765, -0.10998179018497467, -0.0879320576786995, 0.015122296288609505, 0.006535854656249285, 0.03090788796544075, -0.07612448185682297, 0.026674918830394745, 0.05455241724848747, -0.06338617205619812, -0.01826362870633602, -0.05357230827212334, 0.043937500566244125, 0.08230934292078018, -0.04345865920186043, -0.048441801220178604, -0.08101245760917664, 0.08249624818563461, -0.055049020797014236, 0.0883941650390625, -0.013082429766654968, 0.0008175077382475138, -0.009348111227154732, -0.0718405619263649, -0.03736835718154907, 0.018472209572792053, 0.08832099288702011, -0.14174677431583405, -0.06855828315019608, -0.0040973336435854435, 0.046070728451013565, 0.003234991803765297, 0.05934179574251175, 0.1083967462182045, -0.09606924653053284, -0.10646399110555649, -0.00805593840777874, -0.004117848817259073, 0.028714708983898163, -0.05331238731741905, -0.09008067101240158, -0.03535766899585724, 0.1414886713027954, 0.011766270734369755, -0.06298860907554626, 0.004244543612003326, 0.002839153865352273, 0.024628566578030586, 0.02907511405646801, 0.024651171639561653, -0.07303023338317871, 0.06819797307252884, -0.04468661546707153, -0.053726159036159515, -0.0411403551697731, -0.025416919961571693, -0.0630674809217453, 0.05232763662934303, -0.06066066399216652, -0.0049902405589818954, -0.13791248202323914, 0.04805220291018486, -0.03540560603141785, -0.016886882483959198, 0.1184905469417572, 0.03167496249079704, -0.04322296380996704, -0.044815659523010254, -0.053161993622779846, 0.06923114508390427, -0.0642012432217598, -0.0362328477203846, 0.0457327663898468, 0.023310473188757896, 0.09207236021757126, -0.03066685050725937, 0.043033674359321594, -0.07719509303569794, 0.13602818548679352, -0.062040213495492935, 0.14996787905693054, -0.0009547635563649237, 0.019838714972138405, 0.03620212525129318, -0.062193259596824646, -0.047526806592941284, 0.030554823577404022, -0.06671502441167831, 0.09000608325004578, -0.016294429078698158, 0.12899649143218994, 0.025883661583065987, 0.11149498075246811, 0.0018177095334976912, 0.01807730831205845, 0.07425838708877563, -0.09456220269203186, 0.11252694576978683, 0.06874959915876389, 0.04268530011177063, -0.04801704362034798, -0.047095172107219696, 0.027186034247279167, 0.021235665306448936, 0.05059415102005005, 0.004303706809878349, -0.11843985319137573, 0.11517449468374252, -0.05834029242396355, -0.07104266434907913, 0.04567117244005203, -0.0028606578707695007, 0.019489021971821785, 0.005056093446910381, -0.024282626807689667, -0.08456767350435257, 0.06951311975717545, 0.08806825429201126, 0.014188987202942371, 0.04723507538437843, 0.022761857137084007, -0.045394446700811386, 0.08381377160549164, -0.015596303157508373, -0.01889566332101822, -0.008677110075950623, -0.043447475880384445, -0.02609597146511078, -0.03979260474443436], shard_key=None)]"
      ]
     },
     "execution_count": 350,
     "metadata": {},
     "output_type": "execute_result"
    }
   ],
   "source": [
    "client.retrieve(collection_name=collection_name,ids=[528399,528742],with_vectors=True)"
   ]
  },
  {
   "cell_type": "code",
   "execution_count": 404,
   "id": "46ebbf7a-7501-44d7-bdbb-6c85fb423c40",
   "metadata": {},
   "outputs": [
    {
     "data": {
      "text/plain": [
       "[(528399,\n",
       "  '方法',\n",
       "  [('计算机', 0.6264501214027405),\n",
       "   ('识别方法', 0.6170319318771362),\n",
       "   ('测试方法', 0.6153174638748169),\n",
       "   ('存储介质', 0.5891509056091309),\n",
       "   ('训练方法', 0.5817789435386658),\n",
       "   ('分析方法', 0.5717079043388367),\n",
       "   ('查询方法', 0.5560289025306702),\n",
       "   ('信息处理', 0.5362227559089661),\n",
       "   ('电子设备', 0.5226714015007019),\n",
       "   ('计算方法', 0.5108342170715332)]),\n",
       " (528742,\n",
       "  '人工智能',\n",
       "  [('计算机领域', 0.687181830406189),\n",
       "   ('计算机信息', 0.597895622253418),\n",
       "   ('计算机技术', 0.5902829170227051),\n",
       "   ('网络安全', 0.5733133554458618),\n",
       "   ('数据分析', 0.5690364241600037),\n",
       "   ('程序设计', 0.5606061816215515),\n",
       "   ('图像处理', 0.5571784377098083),\n",
       "   ('训练方法', 0.5506466627120972),\n",
       "   ('领域', 0.5487185120582581),\n",
       "   ('信息技术', 0.5463539958000183)])]"
      ]
     },
     "execution_count": 404,
     "metadata": {},
     "output_type": "execute_result"
    }
   ],
   "source": [
    "def most_similar_by_ids(ids, collection_name,mutch=[], exclude=[], topn=10):\n",
    "    id_record=client.retrieve(collection_name=collection_name,ids=ids,with_vectors=True)\n",
    "    \n",
    "    names=[p.payload['word'] for p in id_record]\n",
    "    match_not_name=[FieldCondition(key='word',match=MatchValue(value=w),) for w in names+exclude]\n",
    "    query_filter=Filter(must=mutch,must_not=match_not_name)# 缩小查询范围 \n",
    "   \n",
    "    search_queries = [dm.SearchRequest(vector=p.vector, filter=query_filter, limit=topn,with_payload=True)\n",
    "        for p in id_record]\n",
    "\n",
    "    search_hit=client.search_batch(collection_name=collection_name,requests=search_queries)#ScoredPoint\n",
    "    return [(id,name,[(p.payload['word'],p.score) for p in hit]) for id,name,hit in zip(ids,names,search_hit)]#[:topn]\n",
    "    \n",
    "most_similar_by_ids([528399,528742], collection_name, match_hy, exclude=['可读','装置','一种'], topn=10)  #[(p.payload['word'],p.score) for p in search_hit]"
   ]
  },
  {
   "cell_type": "code",
   "execution_count": 430,
   "id": "850f0457-02e6-4a48-a7f0-ef88cdb03314",
   "metadata": {},
   "outputs": [
    {
     "name": "stdout",
     "output_type": "stream",
     "text": [
      "{'方法': [('计算机', 0.6264501214027405), ('识别方法', 0.6170319318771362), ('测试方法', 0.6153174638748169), ('存储介质', 0.5891509056091309), ('训练方法', 0.5817789435386658), ('分析方法', 0.5717079043388367), ('查询方法', 0.5560289025306702), ('信息处理', 0.5362227559089661), ('电子设备', 0.5226714015007019), ('计算方法', 0.5108342170715332)], '人工智能': [('计算机领域', 0.687181830406189), ('计算机信息', 0.597895622253418), ('计算机技术', 0.5902829170227051), ('网络安全', 0.5733133554458618), ('数据分析', 0.5690364241600037), ('程序设计', 0.5606061816215515), ('图像处理', 0.5571784377098083), ('训练方法', 0.5506466627120972), ('领域', 0.5487185120582581), ('信息技术', 0.5463539958000183)]}\n"
     ]
    },
    {
     "data": {
      "text/plain": [
       "[('方法',\n",
       "  [('计算机', 0.6264501214027405),\n",
       "   ('识别方法', 0.6170319318771362),\n",
       "   ('测试方法', 0.6153174638748169),\n",
       "   ('存储介质', 0.5891509056091309),\n",
       "   ('训练方法', 0.5817789435386658),\n",
       "   ('分析方法', 0.5717079043388367),\n",
       "   ('查询方法', 0.5560289025306702),\n",
       "   ('信息处理', 0.5362227559089661),\n",
       "   ('电子设备', 0.5226714015007019),\n",
       "   ('计算方法', 0.5108342170715332)]),\n",
       " ('人工智能',\n",
       "  [('计算机领域', 0.687181830406189),\n",
       "   ('计算机信息', 0.597895622253418),\n",
       "   ('计算机技术', 0.5902829170227051),\n",
       "   ('网络安全', 0.5733133554458618),\n",
       "   ('数据分析', 0.5690364241600037),\n",
       "   ('程序设计', 0.5606061816215515),\n",
       "   ('图像处理', 0.5571784377098083),\n",
       "   ('训练方法', 0.5506466627120972),\n",
       "   ('领域', 0.5487185120582581),\n",
       "   ('信息技术', 0.5463539958000183)])]"
      ]
     },
     "execution_count": 430,
     "metadata": {},
     "output_type": "execute_result"
    }
   ],
   "source": [
    "def SimilarByIds(ids, collection_name,mutch=[], exclude=[], topn=10, duplicate=0, score_threshold=0.5):\n",
    "    id_record=client.retrieve(collection_name=collection_name,ids=ids,with_vectors=True)\n",
    "    \n",
    "    names=[p.payload['word'] for p in id_record]\n",
    "    match_not_name=[FieldCondition(key='word',match=MatchValue(value=w),) for w in names+exclude]\n",
    "    query_filter=Filter(must=mutch,must_not=match_not_name)# 缩小查询范围 \n",
    "\n",
    "    search_queries = [dm.SearchRequest(vector=p.vector, filter=query_filter, limit=topn * len(names),with_payload=True)\n",
    "        for p in id_record]\n",
    "\n",
    "    search_hit=client.search_batch(collection_name=collection_name,requests=search_queries)#ScoredPoint\n",
    "    similar_next = {}  # 数据格式:{co:[(next,val)*topn]}\n",
    "    if duplicate==0:\n",
    "        similar_next = {name:[(p.payload['word'],p.score) for p in hit[:topn]] for name,hit in zip(names,search_hit)}\n",
    "        #return [(name,[(p.payload['word'],p.score) for p in hit[:topn]]) for name,hit in zip(names,search_hit)]\n",
    "\n",
    "    if duplicate == 1: \n",
    "        for name,hit in zip(names,search_hit):\n",
    "            y = [(p.payload['word'],p.score) for p in hit]\n",
    "            y2=[_[0] for x in similar_next.values() for _ in x]\n",
    "            similar_next[name] = [y3 for y3 in y if y3[0] not in y2][:topn]\n",
    "    \n",
    "    if duplicate == 2:  # 各自排序后,由下一节点各自选最近的上节点,最后由上节点各自匹配重复关系\n",
    "        similar_with = {}\n",
    "        for name,hit in zip(names,search_hit):\n",
    "            y = [(p.payload['word'],p.score) for p in hit]\n",
    "            for z in y:\n",
    "                if z[0] not in similar_with or z[1] > similar_with[z[0]][1]:  # 对关系去重选最大的,反向选择\n",
    "                    similar_with[z[0]] = (name, z[1])\n",
    "        for y, x in similar_with.items():\n",
    "            similar_next[x[0]] = sorted(similar_next.get(x[0], []) + [(y, x[1])], key=lambda z: z[1], reverse=True)[:topn]\n",
    "\n",
    "    if duplicate == 3:\n",
    "        similar_sort=sorted([(name,p.payload['word'], p.score) for name,hit in zip(names,search_hit) for p in hit],key=lambda x:x[2],reverse=True)\n",
    "        print(len(similar_sort))\n",
    "        pos = [] \n",
    "        for ix,iy,v in similar_sort:\n",
    "            y = [p[1] for p in pos]\n",
    "            x = [p[0] for p in pos if p[0] == ix]\n",
    "            if len(x) < topn and iy not in y:\n",
    "                pos.append((ix,iy)) \n",
    "                similar_next[ix] = similar_next.get(ix, []) + [(iy, v)]\n",
    "\n",
    "\n",
    "    print(similar_next)\n",
    "    return [(w, similar_next[w]) for w in names if w in similar_next] \n",
    "\n",
    "SimilarByIds([528399,528742], collection_name,match_hy,exclude=['可读','装置','一种'], topn=10,  duplicate=0)    "
   ]
  },
  {
   "cell_type": "code",
   "execution_count": 466,
   "id": "242af0e7-a68c-44e1-b694-6e1f566ebc27",
   "metadata": {},
   "outputs": [],
   "source": [
    "#需要记忆ID\n",
    "class VDB_Similar:\n",
    "    client=None\n",
    "    collection_name=''\n",
    "    match_first=None\n",
    "    name_ids={}#unique,记忆\n",
    "    \n",
    "    def __init__(self,client,collection_name,match_first):\n",
    "        self.client=client\n",
    "        self.collection_name=collection_name\n",
    "        self.match_first=match_first\n",
    "\n",
    "\n",
    "    def get_ids(self,names):  \n",
    "        finds=set(names)-self.name_ids.keys()\n",
    "        if len(finds):\n",
    "            shoulds=[FieldCondition(key='word',match=MatchValue(value=w)) for w in finds]\n",
    "            scroll_filter = Filter(must=self.match_first,should=shoulds)\n",
    "        \n",
    "            scroll_result=self.client.scroll(collection_name=self.collection_name,\n",
    "                            scroll_filter=scroll_filter,\n",
    "                            with_payload=True,\n",
    "                            #with_vectors=True,        \n",
    "                            limit=len(finds)) \n",
    "            \n",
    "            self.name_ids.update({i.payload['word']:i.id for i in scroll_result[0]})\n",
    "            \n",
    "        return [self.name_ids[n] for n in names if n in self.name_ids]\n",
    "\n",
    "\n",
    "\n",
    "    def SimilarByNames(self, names, exclude=[], topn=10, duplicate=0, score_threshold=0.5):\n",
    "        ids=self.get_ids(names)\n",
    "        id_record=self.client.retrieve(collection_name=self.collection_name,ids=ids,with_vectors=True)\n",
    "        \n",
    "        names=[p.payload['word'] for p in id_record]\n",
    "        match_not_name=[FieldCondition(key='word',match=MatchValue(value=w),) for w in names+exclude]\n",
    "        query_filter=Filter(must=self.match_first,must_not=match_not_name)# 缩小查询范围 \n",
    "    \n",
    "        search_queries = [dm.SearchRequest(vector=p.vector, filter=query_filter, limit=topn * len(names),with_payload=True,score_threshold=score_threshold)\n",
    "            for p in id_record]\n",
    "    \n",
    "        search_hit=self.client.search_batch(collection_name=self.collection_name,requests=search_queries)#ScoredPoint\n",
    "        self.name_ids.update({p.payload['word']:p.id for hit in search_hit for p in hit})\n",
    "        \n",
    "        similar_next = {}  # 数据格式:{co:[(next,val)*topn]}\n",
    "        if duplicate==0:\n",
    "            similar_next = {name:[(p.payload['word'],p.score) for p in hit[:topn]] for name,hit in zip(names,search_hit)}\n",
    "            #return [(name,[(p.payload['word'],p.score) for p in hit[:topn]]) for name,hit in zip(names,search_hit)]\n",
    "    \n",
    "        if duplicate == 1: \n",
    "            for name,hit in zip(names,search_hit):\n",
    "                y = [(p.payload['word'],p.score) for p in hit]\n",
    "                y2=[_[0] for x in similar_next.values() for _ in x]\n",
    "                similar_next[name] = [y3 for y3 in y if y3[0] not in y2][:topn]\n",
    "        \n",
    "        if duplicate == 2:  # 各自排序后,由下一节点各自选最近的上节点,最后由上节点各自匹配重复关系\n",
    "            similar_with = {}\n",
    "            for name,hit in zip(names,search_hit):\n",
    "                y = [(p.payload['word'],p.score) for p in hit]\n",
    "                for z in y:\n",
    "                    if z[0] not in similar_with or z[1] > similar_with[z[0]][1]:  # 对关系去重选最大的,反向选择\n",
    "                        similar_with[z[0]] = (name, z[1])\n",
    "            for y, x in similar_with.items():\n",
    "                similar_next[x[0]] = sorted(similar_next.get(x[0], []) + [(y, x[1])], key=lambda z: z[1], reverse=True)[:topn]\n",
    "    \n",
    "        if duplicate == 3:\n",
    "            similar_sort=sorted([(name,p.payload['word'], p.score) for name,hit in zip(names,search_hit) for p in hit],key=lambda x:x[2],reverse=True)\n",
    "            print(len(similar_sort))\n",
    "            pos = [] \n",
    "            for ix,iy,v in similar_sort:\n",
    "                y = [p[1] for p in pos]\n",
    "                x = [p[0] for p in pos if p[0] == ix]\n",
    "                if len(x) < topn and iy not in y:\n",
    "                    pos.append((ix,iy)) \n",
    "                    similar_next[ix] = similar_next.get(ix, []) + [(iy, v)]\n",
    "    \n",
    "        #print(similar_next)\n",
    "        return [(w, similar_next[w]) for w in names if w in similar_next] \n",
    "\n",
    "match_first=[FieldCondition(key=\"行业\",match=MatchValue(value=k,),) for k in ['金融']]    \n",
    "vdbs=VDB_Similar(client,collection_name,match_first)  "
   ]
  },
  {
   "cell_type": "code",
   "execution_count": 463,
   "id": "f968ae66-d977-44a4-a3ae-6edce4b35d10",
   "metadata": {},
   "outputs": [
    {
     "data": {
      "text/plain": [
       "{'电子设备': 528454,\n",
       " '计算机': 528527,\n",
       " '训练方法': 528807,\n",
       " '电子装置': 530199,\n",
       " '计算机设备': 528593,\n",
       " '装置': 528403,\n",
       " '方法': 528399,\n",
       " '可读': 528679,\n",
       " '设备': 528416,\n",
       " '一种': 528404,\n",
       " '计算机技术': 528797,\n",
       " '处理器': 529035,\n",
       " '信息处理': 528815,\n",
       " '终端设备': 528665,\n",
       " '人工智能': 528742,\n",
       " '系统': 528410,\n",
       " '识别方法': 528708,\n",
       " '通用报表': 556091,\n",
       " '测试中心': 552040,\n",
       " '计算机领域': 531228,\n",
       " '数据检索': 531487,\n",
       " '测试方法': 528759,\n",
       " '套环': 553852,\n",
       " '图像处理': 529420,\n",
       " '查询方法': 528992,\n",
       " '报端': 545851,\n",
       " '领域': 528476,\n",
       " '计算机信息': 534227,\n",
       " '数据管理': 529391,\n",
       " 'cgra': 556513,\n",
       " '文本处理': 530368,\n",
       " '数据处理': 528472,\n",
       " '公开': 528420,\n",
       " '存储介质': 528417,\n",
       " '计算方法': 529435,\n",
       " '集成型': 555271,\n",
       " '编码方法': 533255,\n",
       " '分析方法': 529007,\n",
       " '失性': 531574,\n",
       " '计算机系统': 530416,\n",
       " '科技': 529032,\n",
       " '转换方法': 529935,\n",
       " '人聚类': 539821,\n",
       " '图像识别': 529427,\n",
       " '存取方法': 538082,\n",
       " '识别系统': 530649,\n",
       " '声纹识别': 530716,\n",
       " '人机对话': 533515,\n",
       " '代码生成': 529991,\n",
       " '视频分类': 535516,\n",
       " '合成': 529143,\n",
       " '校正方法': 534204,\n",
       " '消歧': 531945,\n",
       " '椭球': 553582,\n",
       " 'moa': 551876}"
      ]
     },
     "execution_count": 463,
     "metadata": {},
     "output_type": "execute_result"
    }
   ],
   "source": [
    "vdbs.name_ids"
   ]
  },
  {
   "cell_type": "code",
   "execution_count": 475,
   "id": "7c300c32-28b3-4c36-81fd-a550e960cd0b",
   "metadata": {},
   "outputs": [
    {
     "name": "stdout",
     "output_type": "stream",
     "text": [
      "27\n"
     ]
    },
    {
     "data": {
      "text/plain": [
       "[('计算机',\n",
       "  [('可读', 0.7952480912208557),\n",
       "   ('方法', 0.6264501214027405),\n",
       "   ('装置', 0.6036657094955444)]),\n",
       " ('训练方法',\n",
       "  [('文本处理', 0.6595162749290466),\n",
       "   ('识别方法', 0.6527575254440308),\n",
       "   ('图像处理', 0.6019161343574524)]),\n",
       " ('电子设备',\n",
       "  [('电子装置', 0.6317121386528015),\n",
       "   ('计算机设备', 0.6143226623535156),\n",
       "   ('设备', 0.4685496389865875)])]"
      ]
     },
     "execution_count": 475,
     "metadata": {},
     "output_type": "execute_result"
    }
   ],
   "source": [
    "vdbs.SimilarByNames(['计算机','训练方法','电子设备'], exclude=[], topn=3, duplicate=3, score_threshold=0.3)"
   ]
  },
  {
   "cell_type": "code",
   "execution_count": 280,
   "id": "83af6662-8e3c-4285-b0fe-5f751674e07a",
   "metadata": {},
   "outputs": [],
   "source": [
    "query_vector_1=client.retrieve(collection_name=collection_name,ids=[350124],with_vectors=True)[0].vector"
   ]
  },
  {
   "cell_type": "code",
   "execution_count": 293,
   "id": "214002cc-c44a-4332-99b2-b9bef3d989ad",
   "metadata": {},
   "outputs": [
    {
     "data": {
      "text/plain": [
       "[ScoredPoint(id=350123, version=71, score=1.0, payload={'行业': '传统制造', 'word': '所述', 'index': 0, 'df': 190204, 'tf': 946114}, vector=None, shard_key=None),\n",
       " ScoredPoint(id=350129, version=71, score=0.6807588934898376, payload={'行业': '传统制造', 'df': 80116, 'index': 6, 'word': '第一', 'tf': 287318}, vector=None, shard_key=None),\n",
       " ScoredPoint(id=350132, version=71, score=0.6131157279014587, payload={'行业': '传统制造', 'index': 9, 'df': 90757, 'word': '设有', 'tf': 220777}, vector=None, shard_key=None),\n",
       " ScoredPoint(id=350476, version=71, score=0.6012088060379028, payload={'行业': '传统制造', 'word': '设于', 'index': 353, 'df': 10913, 'tf': 14661}, vector=None, shard_key=None),\n",
       " ScoredPoint(id=350175, version=71, score=0.5982853770256042, payload={'行业': '传统制造', 'df': 44865, 'word': '位于', 'index': 52, 'tf': 63957}, vector=None, shard_key=None),\n",
       " ScoredPoint(id=350133, version=71, score=0.5925279855728149, payload={'行业': '传统制造', 'df': 68223, 'word': '第二', 'index': 10, 'tf': 218523}, vector=None, shard_key=None),\n",
       " ScoredPoint(id=356217, version=72, score=0.5629498362541199, payload={'行业': '传统制造', 'df': 515, 'word': '有主', 'index': 6094, 'tf': 550}, vector=None, shard_key=None),\n",
       " ScoredPoint(id=350369, version=71, score=0.5543243288993835, payload={'行业': '传统制造', 'index': 246, 'word': '若干', 'df': 12948, 'tf': 20232}, vector=None, shard_key=None),\n",
       " ScoredPoint(id=350400, version=71, score=0.5467172861099243, payload={'行业': '传统制造', 'index': 277, 'df': 13671, 'word': '中部', 'tf': 18439}, vector=None, shard_key=None),\n",
       " ScoredPoint(id=350176, version=71, score=0.5446038842201233, payload={'行业': '传统制造', 'word': '一端', 'index': 53, 'df': 44014, 'tf': 63041}, vector=None, shard_key=None)]"
      ]
     },
     "execution_count": 293,
     "metadata": {},
     "output_type": "execute_result"
    }
   ],
   "source": [
    "#client.retrieve(collection_name=collection_name,ids=range(350123],528399)\n",
    "query_vector=client.retrieve(collection_name=collection_name,ids=[350123],with_vectors=True)[0].vector\n",
    "hits = client.search(\n",
    "    collection_name=collection_name,\n",
    "    query_vector=query_vector,#tolist()\n",
    "    limit=10,  # Return 5 closest points\n",
    "    score_threshold=0.5\n",
    ")\n",
    "hits"
   ]
  },
  {
   "cell_type": "code",
   "execution_count": 214,
   "id": "9e3cd59f-c60a-412f-b24c-0c250800a5eb",
   "metadata": {},
   "outputs": [
    {
     "data": {
      "text/plain": [
       "GroupsResult(groups=[PointGroup(hits=[ScoredPoint(id=350123, version=71, score=1.0, payload={'行业': '传统制造', 'df': 190204, 'index': 0, 'word': '所述', 'tf': 946114}, vector=None, shard_key=None), ScoredPoint(id=350129, version=71, score=0.6807588934898376, payload={'行业': '传统制造', 'word': '第一', 'index': 6, 'df': 80116, 'tf': 287318}, vector=None, shard_key=None)], id='传统制造', lookup=None), PointGroup(hits=[ScoredPoint(id=157552, version=31, score=0.28076833486557007, payload={'行业': '先进制造', 'index': 157552, 'word': 'qualnet', 'df': 1, 'tf': 3}, vector=None, shard_key=None), ScoredPoint(id=61843, version=12, score=0.24718166887760162, payload={'行业': '先进制造', 'df': 7, 'word': '交握', 'index': 61843, 'tf': 20}, vector=None, shard_key=None)], id='先进制造', lookup=None), PointGroup(hits=[ScoredPoint(id=529535, version=107, score=0.24834837019443512, payload={'行业': '金融', 'index': 1136, 'word': '数据仓库', 'df': 191, 'tf': 483}, vector=None, shard_key=None), ScoredPoint(id=530891, version=107, score=0.23987647891044617, payload={'行业': '金融', 'word': '宽表', 'index': 2492, 'df': 49, 'tf': 144}, vector=None, shard_key=None)], id='金融', lookup=None), PointGroup(hits=[ScoredPoint(id=340931, version=68, score=0.24583536386489868, payload={'行业': '医疗健康', 'df': 1, 'index': 98655, 'word': '钢杆', 'tf': 2}, vector=None, shard_key=None), ScoredPoint(id=293359, version=59, score=0.232717365026474, payload={'行业': '医疗健康', 'df': 6, 'word': '和免', 'index': 51083, 'tf': 6}, vector=None, shard_key=None)], id='医疗健康', lookup=None)])"
      ]
     },
     "execution_count": 214,
     "metadata": {},
     "output_type": "execute_result"
    }
   ],
   "source": [
    "res=client.search_groups(collection_name=collection_name,query_vector=query_vector,    \n",
    "                     group_by='行业',\n",
    "                    limit=8,\n",
    "                    group_size=2,\n",
    "                )\n",
    "res"
   ]
  },
  {
   "cell_type": "code",
   "execution_count": 215,
   "id": "e1eb5bc5-00b7-46ac-8467-fff956993f97",
   "metadata": {},
   "outputs": [
    {
     "name": "stdout",
     "output_type": "stream",
     "text": [
      "传统制造 [ScoredPoint(id=350123, version=71, score=1.0, payload={'行业': '传统制造', 'df': 190204, 'index': 0, 'word': '所述', 'tf': 946114}, vector=None, shard_key=None), ScoredPoint(id=350129, version=71, score=0.6807588934898376, payload={'行业': '传统制造', 'word': '第一', 'index': 6, 'df': 80116, 'tf': 287318}, vector=None, shard_key=None)]\n",
      "先进制造 [ScoredPoint(id=157552, version=31, score=0.28076833486557007, payload={'行业': '先进制造', 'index': 157552, 'word': 'qualnet', 'df': 1, 'tf': 3}, vector=None, shard_key=None), ScoredPoint(id=61843, version=12, score=0.24718166887760162, payload={'行业': '先进制造', 'df': 7, 'word': '交握', 'index': 61843, 'tf': 20}, vector=None, shard_key=None)]\n",
      "金融 [ScoredPoint(id=529535, version=107, score=0.24834837019443512, payload={'行业': '金融', 'index': 1136, 'word': '数据仓库', 'df': 191, 'tf': 483}, vector=None, shard_key=None), ScoredPoint(id=530891, version=107, score=0.23987647891044617, payload={'行业': '金融', 'word': '宽表', 'index': 2492, 'df': 49, 'tf': 144}, vector=None, shard_key=None)]\n",
      "医疗健康 [ScoredPoint(id=340931, version=68, score=0.24583536386489868, payload={'行业': '医疗健康', 'df': 1, 'index': 98655, 'word': '钢杆', 'tf': 2}, vector=None, shard_key=None), ScoredPoint(id=293359, version=59, score=0.232717365026474, payload={'行业': '医疗健康', 'df': 6, 'word': '和免', 'index': 51083, 'tf': 6}, vector=None, shard_key=None)]\n"
     ]
    }
   ],
   "source": [
    "for x in res.groups:\n",
    "    print(x.id,x.hits)"
   ]
  },
  {
   "cell_type": "code",
   "execution_count": 217,
   "id": "9040d10f-5719-438e-9f59-ba1c026108df",
   "metadata": {},
   "outputs": [],
   "source": [
    "filter_=Filter(must=[FieldCondition(key=\"word\", match=MatchValue(value='电子备')),])\n",
    "#client.retrieve(collection_name=collection_name,count_filter=filter_,with_vectors=True)"
   ]
  },
  {
   "cell_type": "code",
   "execution_count": 3,
   "id": "b7c275f2-9f0f-44f0-b524-b94626eee2db",
   "metadata": {},
   "outputs": [],
   "source": [
    "patent_co=pd.read_csv('E:\\Documents\\Jupyter/data/融资公司专利2024.csv',index_col=0)"
   ]
  },
  {
   "cell_type": "code",
   "execution_count": 5,
   "id": "575c47e2-a92f-4236-a1c6-5e21e090b7ab",
   "metadata": {},
   "outputs": [
    {
     "data": {
      "text/plain": [
       "((1897517, 28), (13656939, 7))"
      ]
     },
     "execution_count": 5,
     "metadata": {},
     "output_type": "execute_result"
    }
   ],
   "source": [
    "bridge=pd.read_csv('data\\patent_bridge.csv',index_col=0)\n",
    "patent_co.shape,bridge.shape"
   ]
  },
  {
   "cell_type": "code",
   "execution_count": 8,
   "id": "fc70748d-63f1-488b-9f53-2bdb7f991846",
   "metadata": {},
   "outputs": [
    {
     "data": {
      "text/plain": [
       "Index(['序号', '公开（公告）号', '申请号', '申请日', '申请人', '标题 (中文)', 'table'], dtype='object')"
      ]
     },
     "execution_count": 8,
     "metadata": {},
     "output_type": "execute_result"
    }
   ],
   "source": [
    "bridge.columns"
   ]
  },
  {
   "cell_type": "code",
   "execution_count": 10,
   "id": "9b195b30-4abf-42d9-9a27-4a588b6ae9f5",
   "metadata": {},
   "outputs": [
    {
     "data": {
      "text/plain": [
       "Index(['Co', '序号', '标题 (中文)', '摘要 (中文)', '申请人', '申请日', '申请号', '首次公开日',\n",
       "       '公开（公告）号', '专利类型', '专利有效性', '公开国别', 'IPC主分类', 'IPC', '申请人类型', '发明人',\n",
       "       '发明人数量', '简单同族', '扩展同族', '简单同族个数', '引证专利', '引证科技文献', '引证次数', '被引证次数',\n",
       "       '申请人数量', '许可次数', '转让次数', '权利要求数量'],\n",
       "      dtype='object')"
      ]
     },
     "execution_count": 10,
     "metadata": {},
     "output_type": "execute_result"
    }
   ],
   "source": [
    "patent_co.columns"
   ]
  },
  {
   "cell_type": "code",
   "execution_count": 19,
   "id": "49b73e3b-a54f-49e1-bfe5-936deabe65d8",
   "metadata": {},
   "outputs": [
    {
     "data": {
      "text/html": [
       "<div>\n",
       "<style scoped>\n",
       "    .dataframe tbody tr th:only-of-type {\n",
       "        vertical-align: middle;\n",
       "    }\n",
       "\n",
       "    .dataframe tbody tr th {\n",
       "        vertical-align: top;\n",
       "    }\n",
       "\n",
       "    .dataframe thead th {\n",
       "        text-align: right;\n",
       "    }\n",
       "</style>\n",
       "<table border=\"1\" class=\"dataframe\">\n",
       "  <thead>\n",
       "    <tr style=\"text-align: right;\">\n",
       "      <th></th>\n",
       "      <th>序号</th>\n",
       "      <th>公开（公告）号</th>\n",
       "      <th>申请号</th>\n",
       "      <th>申请日</th>\n",
       "      <th>申请人</th>\n",
       "      <th>标题 (中文)</th>\n",
       "      <th>table</th>\n",
       "    </tr>\n",
       "  </thead>\n",
       "  <tbody>\n",
       "    <tr>\n",
       "      <th>0</th>\n",
       "      <td>1</td>\n",
       "      <td>CN114587079A</td>\n",
       "      <td>CN202210229642.3</td>\n",
       "      <td>2022-03-09</td>\n",
       "      <td>江西晶亮实业有限公司</td>\n",
       "      <td>一种便携式可移动的靠背课椅</td>\n",
       "      <td>patent_incopat_202101_202211</td>\n",
       "    </tr>\n",
       "    <tr>\n",
       "      <th>1</th>\n",
       "      <td>2</td>\n",
       "      <td>CN114587081A</td>\n",
       "      <td>CN202210023433.3</td>\n",
       "      <td>2022-01-10</td>\n",
       "      <td>皖西学院</td>\n",
       "      <td>一种面条生产用的组合式储物柜</td>\n",
       "      <td>patent_incopat_202101_202211</td>\n",
       "    </tr>\n",
       "    <tr>\n",
       "      <th>2</th>\n",
       "      <td>3</td>\n",
       "      <td>CN114587082A</td>\n",
       "      <td>CN202210242336.3</td>\n",
       "      <td>2022-03-13</td>\n",
       "      <td>尚品本色智能家居有限公司</td>\n",
       "      <td>一种自动平衡服装数量的衣柜</td>\n",
       "      <td>patent_incopat_202101_202211</td>\n",
       "    </tr>\n",
       "    <tr>\n",
       "      <th>3</th>\n",
       "      <td>4</td>\n",
       "      <td>CN114587083A</td>\n",
       "      <td>CN202210058364.X</td>\n",
       "      <td>2022-01-19</td>\n",
       "      <td>宁波工程学院</td>\n",
       "      <td>一种可自动取放的智能鞋柜</td>\n",
       "      <td>patent_incopat_202101_202211</td>\n",
       "    </tr>\n",
       "    <tr>\n",
       "      <th>4</th>\n",
       "      <td>5</td>\n",
       "      <td>CN114587084A</td>\n",
       "      <td>CN202210133941.7</td>\n",
       "      <td>2022-02-14</td>\n",
       "      <td>江苏诺德物流设备制造有限公司</td>\n",
       "      <td>一种轻便的可移动密集架及其使用方法</td>\n",
       "      <td>patent_incopat_202101_202211</td>\n",
       "    </tr>\n",
       "  </tbody>\n",
       "</table>\n",
       "</div>"
      ],
      "text/plain": [
       "   序号       公开（公告）号               申请号         申请日             申请人  \\\n",
       "0   1  CN114587079A  CN202210229642.3  2022-03-09      江西晶亮实业有限公司   \n",
       "1   2  CN114587081A  CN202210023433.3  2022-01-10            皖西学院   \n",
       "2   3  CN114587082A  CN202210242336.3  2022-03-13    尚品本色智能家居有限公司   \n",
       "3   4  CN114587083A  CN202210058364.X  2022-01-19          宁波工程学院   \n",
       "4   5  CN114587084A  CN202210133941.7  2022-02-14  江苏诺德物流设备制造有限公司   \n",
       "\n",
       "             标题 (中文)                         table  \n",
       "0      一种便携式可移动的靠背课椅  patent_incopat_202101_202211  \n",
       "1     一种面条生产用的组合式储物柜  patent_incopat_202101_202211  \n",
       "2      一种自动平衡服装数量的衣柜  patent_incopat_202101_202211  \n",
       "3       一种可自动取放的智能鞋柜  patent_incopat_202101_202211  \n",
       "4  一种轻便的可移动密集架及其使用方法  patent_incopat_202101_202211  "
      ]
     },
     "execution_count": 19,
     "metadata": {},
     "output_type": "execute_result"
    }
   ],
   "source": [
    "bridge.head()"
   ]
  },
  {
   "cell_type": "code",
   "execution_count": 7,
   "id": "98e213f2-f4b8-4424-8280-97dd9e2f3a81",
   "metadata": {},
   "outputs": [
    {
     "data": {
      "text/plain": [
       "9338399"
      ]
     },
     "execution_count": 7,
     "metadata": {},
     "output_type": "execute_result"
    }
   ],
   "source": [
    "bridge['公开（公告）号'].nunique()"
   ]
  },
  {
   "cell_type": "code",
   "execution_count": 9,
   "id": "2277b0da-c38e-4062-8b09-d0ee8c114744",
   "metadata": {},
   "outputs": [
    {
     "data": {
      "text/plain": [
       "8679874"
      ]
     },
     "execution_count": 9,
     "metadata": {},
     "output_type": "execute_result"
    }
   ],
   "source": [
    "bridge['申请号'].nunique()"
   ]
  },
  {
   "cell_type": "code",
   "execution_count": 28,
   "id": "69fb39eb-bd0f-47c0-ba77-0f4ec3639f8d",
   "metadata": {},
   "outputs": [
    {
     "data": {
      "text/plain": [
       "(9338426, 7)"
      ]
     },
     "execution_count": 28,
     "metadata": {},
     "output_type": "execute_result"
    }
   ],
   "source": [
    "bridge = bridge.drop_duplicates(subset=['公开（公告）号', '申请号'])\n",
    "bridge.shape"
   ]
  },
  {
   "cell_type": "code",
   "execution_count": 29,
   "id": "0318f859-2e46-4b2c-abe5-f3a7ea6fcabc",
   "metadata": {},
   "outputs": [
    {
     "name": "stdout",
     "output_type": "stream",
     "text": [
      "CPU times: total: 20.1 s\n",
      "Wall time: 20.1 s\n"
     ]
    }
   ],
   "source": [
    "%%time\n",
    "result = pd.merge(patent_co,bridge[['公开（公告）号', '申请号','table']],on=['公开（公告）号', '申请号'],how='left')"
   ]
  },
  {
   "cell_type": "code",
   "execution_count": 30,
   "id": "6363660d-0d0d-485d-88cf-3e14d62246b8",
   "metadata": {},
   "outputs": [
    {
     "data": {
      "text/plain": [
       "(1897517, 29)"
      ]
     },
     "execution_count": 30,
     "metadata": {},
     "output_type": "execute_result"
    }
   ],
   "source": [
    "result.shape"
   ]
  },
  {
   "cell_type": "code",
   "execution_count": 31,
   "id": "bbb1e2b8-795f-4756-8ac5-da4df0aa808c",
   "metadata": {},
   "outputs": [
    {
     "data": {
      "text/plain": [
       "Co         1897517\n",
       "序号         1897517\n",
       "标题 (中文)    1897517\n",
       "摘要 (中文)    1891722\n",
       "申请人        1897517\n",
       "申请日        1897517\n",
       "申请号        1897517\n",
       "首次公开日      1897444\n",
       "公开（公告）号    1897517\n",
       "专利类型       1897517\n",
       "专利有效性      1897517\n",
       "公开国别       1897517\n",
       "IPC主分类     1749833\n",
       "IPC        1749840\n",
       "申请人类型      1890288\n",
       "发明人        1897146\n",
       "发明人数量      1897069\n",
       "简单同族       1897517\n",
       "扩展同族       1897517\n",
       "简单同族个数     1897517\n",
       "引证专利        776346\n",
       "引证科技文献      177648\n",
       "引证次数        776346\n",
       "被引证次数       609868\n",
       "申请人数量      1897517\n",
       "许可次数         12371\n",
       "转让次数        102940\n",
       "权利要求数量     1745559\n",
       "table      1897517\n",
       "dtype: int64"
      ]
     },
     "execution_count": 31,
     "metadata": {},
     "output_type": "execute_result"
    }
   ],
   "source": [
    "result.count()"
   ]
  },
  {
   "cell_type": "code",
   "execution_count": 32,
   "id": "42897ea8-2795-4b15-9a04-179aaec2ad18",
   "metadata": {},
   "outputs": [],
   "source": [
    "bridge.to_csv('data\\patent_bridge.csv')\n",
    "result.to_csv('data\\融资公司专利2024.csv')"
   ]
  },
  {
   "cell_type": "code",
   "execution_count": null,
   "id": "98ca7693-510b-47b6-816a-4539e78173b2",
   "metadata": {},
   "outputs": [],
   "source": [
    "# patent_co.set_index(['序号', '公开（公告）号', '申请号', '申请日'], inplace=True)\n",
    "# bridge.set_index(['序号', '公开（公告）号', '申请号', '申请日'], inplace=True)\n",
    "# result = patent_co.join(bridge[['table']], how='left')\n",
    "# result.reset_index(inplace=True)"
   ]
  },
  {
   "cell_type": "code",
   "execution_count": 7,
   "id": "02a9ad30-3540-4fef-9fdf-fa18ff6cbb46",
   "metadata": {},
   "outputs": [
    {
     "data": {
      "text/plain": [
       "((1897517, 29), (491868, 2), (1889962, 2))"
      ]
     },
     "execution_count": 7,
     "metadata": {},
     "output_type": "execute_result"
    }
   ],
   "source": [
    "patent_co.shape,word_tf_df.shape,wd_data.shape"
   ]
  },
  {
   "cell_type": "code",
   "execution_count": 18,
   "id": "420d0f19-4814-4dd3-92a5-edf47e66d142",
   "metadata": {},
   "outputs": [
    {
     "data": {
      "text/plain": [
       "set()"
      ]
     },
     "execution_count": 18,
     "metadata": {},
     "output_type": "execute_result"
    }
   ],
   "source": [
    "set(patent_co.序号)^set(wd_data.序号)"
   ]
  },
  {
   "cell_type": "code",
   "execution_count": 37,
   "id": "1233e0e6-b383-49ba-9aea-36791186f3b9",
   "metadata": {},
   "outputs": [
    {
     "data": {
      "text/plain": [
       "Index(['财经', '法律', '计算机', '数学', '物理', '学科', '专利审查', '专利法实务', 'IT', '机械工程',\n",
       "       '考古', '生物', '政治', '冶金', '医学词汇', '化工', '知识产权', '农业', '气象', '化学', '哲学',\n",
       "       '军事', '股票基金', '常用医药'],\n",
       "      dtype='object')"
      ]
     },
     "execution_count": 37,
     "metadata": {},
     "output_type": "execute_result"
    }
   ],
   "source": [
    "bd_word=pd.read_excel('data/百度输入法词库1.xlsx',index_col=0)\n",
    "bd_word.index"
   ]
  },
  {
   "cell_type": "code",
   "execution_count": 40,
   "id": "1dbc9c5c-9fb0-45c7-a9b5-9bf69d76b771",
   "metadata": {},
   "outputs": [
    {
     "data": {
      "text/plain": [
       "94188"
      ]
     },
     "execution_count": 40,
     "metadata": {},
     "output_type": "execute_result"
    }
   ],
   "source": [
    "s_bd_word=bd_word['词库'].str.split(',').explode()\n",
    "s_bd_word=pd.Series(s_bd_word.index,index=s_bd_word.values)\n",
    "s_bd_word=s_bd_word.groupby(s_bd_word.index).apply(lambda x: ','.join(set(x)))\n",
    "bd_flag=s_bd_word.to_dict()\n",
    "len(bd_flag)"
   ]
  },
  {
   "cell_type": "code",
   "execution_count": 43,
   "id": "73ddab8b-efb6-4561-a8bd-bf997edfb182",
   "metadata": {},
   "outputs": [
    {
     "data": {
      "text/plain": [
       "'IT'"
      ]
     },
     "execution_count": 43,
     "metadata": {},
     "output_type": "execute_result"
    }
   ],
   "source": [
    "bd_flag['3D']"
   ]
  },
  {
   "cell_type": "code",
   "execution_count": 36,
   "id": "1f1590ff-6641-48ac-b19d-229c456f1ada",
   "metadata": {},
   "outputs": [],
   "source": [
    "import jieba.posseg\n",
    "jieba.initialize()\n",
    "jieba.load_userdict('data\\\\专利分词词库.txt')#"
   ]
  },
  {
   "cell_type": "code",
   "execution_count": 26,
   "id": "1bbcccb8-e2f3-42f9-90dd-7291e07eae5f",
   "metadata": {},
   "outputs": [
    {
     "data": {
      "text/plain": [
       "tf    int64\n",
       "df    int64\n",
       "dtype: object"
      ]
     },
     "execution_count": 26,
     "metadata": {},
     "output_type": "execute_result"
    }
   ],
   "source": [
    "word_tf_df.dtypes"
   ]
  },
  {
   "cell_type": "code",
   "execution_count": 32,
   "id": "75924376-5b0c-4e4f-9445-357643c21f8f",
   "metadata": {},
   "outputs": [],
   "source": [
    "word_tf_df=word_tf_df[~word_tf_df.index.isna()]"
   ]
  },
  {
   "cell_type": "code",
   "execution_count": 33,
   "id": "dd0a9d86-b25d-4bc5-a64a-c28a8fe94510",
   "metadata": {},
   "outputs": [
    {
     "data": {
      "text/plain": [
       "0"
      ]
     },
     "execution_count": 33,
     "metadata": {},
     "output_type": "execute_result"
    }
   ],
   "source": [
    "word_tf_df.index.isna().sum()"
   ]
  },
  {
   "cell_type": "code",
   "execution_count": 38,
   "id": "4501071a-298b-46ed-89e1-4c39d76e34ea",
   "metadata": {},
   "outputs": [
    {
     "name": "stdout",
     "output_type": "stream",
     "text": [
      "CPU times: total: 3min 51s\n",
      "Wall time: 3min 51s\n"
     ]
    }
   ],
   "source": [
    "%%time\n",
    "word_tf_df['flag']=word_tf_df.index.map(lambda x: ','.join([i.flag for i in jieba.posseg.cut(x)]))"
   ]
  },
  {
   "cell_type": "code",
   "execution_count": 46,
   "id": "5511421c-77fd-4f24-a94a-deb1ddda684f",
   "metadata": {},
   "outputs": [
    {
     "name": "stdout",
     "output_type": "stream",
     "text": [
      "CPU times: total: 203 ms\n",
      "Wall time: 195 ms\n"
     ]
    }
   ],
   "source": [
    "%%time\n",
    "word_tf_df['baidu']=word_tf_df.index.map(bd_flag)"
   ]
  },
  {
   "cell_type": "code",
   "execution_count": 53,
   "id": "8b825ec0-acc4-4436-9949-3bd81839491a",
   "metadata": {},
   "outputs": [
    {
     "data": {
      "text/plain": [
       "5776"
      ]
     },
     "execution_count": 53,
     "metadata": {},
     "output_type": "execute_result"
    }
   ],
   "source": [
    "wd_data['词语'].isna().sum()"
   ]
  },
  {
   "cell_type": "code",
   "execution_count": 4,
   "id": "dc12ded5-bcc0-4fee-8f4f-8d6077c961d5",
   "metadata": {},
   "outputs": [
    {
     "name": "stdout",
     "output_type": "stream",
     "text": [
      "CPU times: total: 23.4 s\n",
      "Wall time: 23.4 s\n"
     ]
    },
    {
     "data": {
      "text/plain": [
       "0          {'竖式': 2, '烧结': 3, '冷却': 4, '一种': 1, '具有': 2, ...\n",
       "1          {'具有': 3, '抗静电': 2, '轻垢': 2, '液体': 2, '洗衣': 2,...\n",
       "2          {'麦白': 4, '霉素': 5, '胃溶片': 4, '生产工艺': 3, '技术': ...\n",
       "3                      {'药品': 1, '包装盒': 1, '省略': 1, '视图': 1}\n",
       "4          {'变幅': 4, '摇头': 5, '电风扇': 2, '一种': 1, '包括': 1,...\n",
       "                                 ...                        \n",
       "1889957    {'机器人': 5, '标定': 3, '方法': 3, '系统': 2, '涉及': 2,...\n",
       "1889958    {'一种': 2, '多普勒': 3, '激光': 3, '测风': 3, '雷达': 3,...\n",
       "1889959    {'一种': 2, '晶圆': 2, '激光': 6, '开槽': 5, '装置': 2, ...\n",
       "1889960    {'一种': 2, '微型': 2, '塑料件': 3, '激光': 3, '焊接': 8,...\n",
       "1889961    {'可拆卸': 2, '电池': 3, '模块': 3, '公开': 1, '涉及': 1,...\n",
       "Name: counter, Length: 1884186, dtype: object"
      ]
     },
     "execution_count": 4,
     "metadata": {},
     "output_type": "execute_result"
    }
   ],
   "source": [
    "%%time\n",
    "wd_data=wd_data[~wd_data['词语'].isna()].copy()\n",
    "wd_data['counter']=wd_data['词语'].apply(Counter)\n",
    "wd_data['counter']"
   ]
  },
  {
   "cell_type": "code",
   "execution_count": 65,
   "id": "ac98ba99-41a6-4a4b-9c2f-a1cf203f8928",
   "metadata": {},
   "outputs": [
    {
     "data": {
      "text/plain": [
       "264770     33.0\n",
       "264774     33.0\n",
       "1167399    31.0\n",
       "1167405    31.0\n",
       "459283     31.0\n",
       "           ... \n",
       "537575      1.0\n",
       "537574      1.0\n",
       "1426616     1.0\n",
       "537573      1.0\n",
       "251         1.0\n",
       "Name: count, Length: 157367, dtype: float64"
      ]
     },
     "execution_count": 65,
     "metadata": {},
     "output_type": "execute_result"
    }
   ],
   "source": [
    "wd_data['counter'].apply(lambda x:x.get('数据')).dropna().sort_values(ascending=False)"
   ]
  },
  {
   "cell_type": "code",
   "execution_count": 70,
   "id": "e0870250-527a-48db-8671-bc7cac3739cf",
   "metadata": {},
   "outputs": [
    {
     "data": {
      "text/plain": [
       "Index(['Co', '序号', '标题 (中文)', '摘要 (中文)', '申请人', '申请日', '申请号', '首次公开日',\n",
       "       '公开（公告）号', '专利类型', '专利有效性', '公开国别', 'IPC主分类', 'IPC', '申请人类型', '发明人',\n",
       "       '发明人数量', '简单同族', '扩展同族', '简单同族个数', '引证专利', '引证科技文献', '引证次数', '被引证次数',\n",
       "       '申请人数量', '许可次数', '转让次数', '权利要求数量', 'table'],\n",
       "      dtype='object')"
      ]
     },
     "execution_count": 70,
     "metadata": {},
     "output_type": "execute_result"
    }
   ],
   "source": [
    "patent_co.columns"
   ]
  },
  {
   "cell_type": "code",
   "execution_count": 5,
   "id": "5b73a92f-1010-481b-8f08-f24a3de6edd5",
   "metadata": {},
   "outputs": [
    {
     "data": {
      "text/plain": [
       "(1897517, 6)"
      ]
     },
     "execution_count": 5,
     "metadata": {},
     "output_type": "execute_result"
    }
   ],
   "source": [
    "patent_co=pd.read_csv('E:\\Documents\\Jupyter/data/融资公司专利2024.csv',usecols=['序号','标题 (中文)', '摘要 (中文)','申请号','公开（公告）号','table'])\n",
    "patent_co.shape"
   ]
  },
  {
   "cell_type": "code",
   "execution_count": 6,
   "id": "3ea3a9e8-b0c7-4c31-a8d1-f441cb7cf387",
   "metadata": {},
   "outputs": [
    {
     "data": {
      "text/plain": [
       "1889962"
      ]
     },
     "execution_count": 6,
     "metadata": {},
     "output_type": "execute_result"
    }
   ],
   "source": [
    "patent_co['序号'].nunique()"
   ]
  },
  {
   "cell_type": "code",
   "execution_count": 6,
   "id": "c6727b43-13bc-4ded-9368-d15eb372abb0",
   "metadata": {},
   "outputs": [
    {
     "data": {
      "text/plain": [
       "((1884186, 8), 1884186, RangeIndex(start=0, stop=1884186, step=1))"
      ]
     },
     "execution_count": 6,
     "metadata": {},
     "output_type": "execute_result"
    }
   ],
   "source": [
    "wd_data_1=pd.merge(wd_data,patent_co.drop_duplicates(subset=['序号']), on='序号',how='left')\n",
    "wd_data_1.shape,len(wd_data),wd_data_1.index"
   ]
  },
  {
   "cell_type": "code",
   "execution_count": 8,
   "id": "76b578fa-a518-4caa-9940-7088cba3bb9c",
   "metadata": {},
   "outputs": [],
   "source": [
    "wd_data_0=wd_data_1.drop(columns=['词语','摘要 (中文)'])\n",
    "wd_data_0['counter']=wd_data_0['counter'].apply(dict)"
   ]
  },
  {
   "cell_type": "code",
   "execution_count": 10,
   "id": "b3073d64-1db2-458e-810c-014fa3449b19",
   "metadata": {},
   "outputs": [],
   "source": [
    "wd_data_0.to_csv('data\\\\patent_cut_co_source_188.csv')#pd.read_csv('X:\\Downloads\\Patent\\patent_cut_co_source_188.csv',use_cols=['序号','申请号', '公开（公告）号'])"
   ]
  },
  {
   "cell_type": "code",
   "execution_count": 11,
   "id": "03e8b89a-4b9a-4c9f-9d4f-5c2fb2442fab",
   "metadata": {},
   "outputs": [],
   "source": [
    "def get_max_count(word,counter):\n",
    "    series = counter.apply(lambda x:x.get(word))\n",
    "    max_index = series.idxmax()\n",
    "    return series[max_index],max_index\n",
    "    # sorted_series=wd_data_count.apply(lambda x:x.get(word)).sort_values(ascending=False)\n",
    "    # return sorted_series.iloc[0],sorted_series.index[0]"
   ]
  },
  {
   "cell_type": "code",
   "execution_count": 14,
   "id": "4f74f788-1352-46c8-858f-706bdde66530",
   "metadata": {},
   "outputs": [
    {
     "name": "stdout",
     "output_type": "stream",
     "text": [
      "CPU times: total: 781 ms\n",
      "Wall time: 767 ms\n"
     ]
    },
    {
     "data": {
      "text/plain": [
       "(33.0, 261660)"
      ]
     },
     "execution_count": 14,
     "metadata": {},
     "output_type": "execute_result"
    }
   ],
   "source": [
    "%%time\n",
    "get_max_count('数据',wd_data_1['counter'])"
   ]
  },
  {
   "cell_type": "code",
   "execution_count": 15,
   "id": "524b44ea-17e0-40e9-b0c6-8a3dd86fdd8e",
   "metadata": {},
   "outputs": [
    {
     "name": "stdout",
     "output_type": "stream",
     "text": [
      "CPU times: total: 781 ms\n",
      "Wall time: 779 ms\n"
     ]
    },
    {
     "data": {
      "text/plain": [
       "(33.0, 261660)"
      ]
     },
     "execution_count": 15,
     "metadata": {},
     "output_type": "execute_result"
    }
   ],
   "source": [
    "%%time\n",
    "get_max_count('数据',wd_data_0['counter'])"
   ]
  },
  {
   "cell_type": "code",
   "execution_count": 12,
   "id": "77705ade-7e3b-40bb-abeb-f3b6209e1fd0",
   "metadata": {},
   "outputs": [
    {
     "data": {
      "text/plain": [
       "32"
      ]
     },
     "execution_count": 12,
     "metadata": {},
     "output_type": "execute_result"
    }
   ],
   "source": [
    "wd_data_1['摘要 (中文)'].iloc[261660].count('数据')"
   ]
  },
  {
   "cell_type": "code",
   "execution_count": 93,
   "id": "575a998b-bfaa-4937-9645-cbdfd8b01af1",
   "metadata": {},
   "outputs": [
    {
     "data": {
      "text/plain": [
       "'CN104967639B'"
      ]
     },
     "execution_count": 93,
     "metadata": {},
     "output_type": "execute_result"
    }
   ],
   "source": [
    "wd_data_1.loc[261660,'公开（公告）号']"
   ]
  },
  {
   "cell_type": "code",
   "execution_count": 94,
   "id": "fd26af04-441d-49ff-a1b6-a6437a4d6b69",
   "metadata": {},
   "outputs": [
    {
     "data": {
      "text/plain": [
       "(33.0, 32, 'CN104967639B')"
      ]
     },
     "execution_count": 94,
     "metadata": {},
     "output_type": "execute_result"
    }
   ],
   "source": [
    "def get_max_count(word,doc_counter):\n",
    "    s1 = doc_counter['count'].apply(lambda x:x.get(word))\n",
    "    max_index = s1.idxmax()\n",
    "    max_values = s1[max_index] #int(s1.max())\n",
    "    max_values_index = s1.index[s1.values == max_values] #.tolist()\n",
    "    max_values_2 = max_values\n",
    "    doc=doc_counter.iloc[max_values_index]['摘要 (中文)'].dropna()\n",
    "    try:\n",
    "        s2 =  doc.str.count(word)\n",
    "        if len(max_values_index)>1:\n",
    "            max_index=s2.idxmax()\n",
    "        max_values_2 = s2[max_index]\n",
    "    except:\n",
    "        print(word,doc)\n",
    "        pass\n",
    "    return max_values,max_values_2,doc_counter.iloc[max_index]['公开（公告）号']\n",
    "    \n",
    "get_max_count('数据',wd_data_1)"
   ]
  },
  {
   "cell_type": "code",
   "execution_count": null,
   "id": "df0779a1-73f1-4c14-955f-a0f55acf72d7",
   "metadata": {},
   "outputs": [
    {
     "name": "stdout",
     "output_type": "stream",
     "text": [
      "c++ 1222459    本发明提供了一种C++模块接口的调用方法及装置，在预设存储结构中定义与目标C++模块接口具有...\n",
      "Name: 摘要 (中文), dtype: object\n",
      "++ 1631584    本申请提供了一种MOS器件及其制作方法和应用。MOS器件包括P‑base区、P++区和衬底；...\n",
      "Name: 摘要 (中文), dtype: object\n"
     ]
    }
   ],
   "source": [
    "%%time\n",
    "word_tf_df['cut_max_count'],word_tf_df['doc_max_count'],word_tf_df['公开（公告）号']=zip(*word_tf_df.index.map(lambda x: get_max_count(x,wd_data_1)))"
   ]
  },
  {
   "cell_type": "code",
   "execution_count": 110,
   "id": "43fefdbd-47fb-4aed-9235-1e62c657bbc2",
   "metadata": {},
   "outputs": [],
   "source": [
    "batch_size=50000\n",
    "batches = np.array_split(word_tf_df.index, np.ceil(len(word_tf_df.index) / batch_size))"
   ]
  },
  {
   "cell_type": "code",
   "execution_count": 113,
   "id": "02347139-bf7c-467b-ae77-d47115d63a93",
   "metadata": {},
   "outputs": [
    {
     "data": {
      "text/plain": [
       "(491866, 491866)"
      ]
     },
     "execution_count": 113,
     "metadata": {},
     "output_type": "execute_result"
    }
   ],
   "source": [
    "sum(len(b) for b in batches),len(word_tf_df)"
   ]
  },
  {
   "cell_type": "code",
   "execution_count": 116,
   "id": "e782780f-7d87-4a20-98a0-b40086429938",
   "metadata": {},
   "outputs": [
    {
     "name": "stdout",
     "output_type": "stream",
     "text": [
      "Processing batch: 0\n"
     ]
    },
    {
     "ename": "KeyboardInterrupt",
     "evalue": "",
     "output_type": "error",
     "traceback": [
      "\u001b[1;31m---------------------------------------------------------------------------\u001b[0m",
      "\u001b[1;31mKeyboardInterrupt\u001b[0m                         Traceback (most recent call last)",
      "Cell \u001b[1;32mIn[116], line 4\u001b[0m\n\u001b[0;32m      2\u001b[0m \u001b[38;5;28;01mfor\u001b[39;00m i,batch \u001b[38;5;129;01min\u001b[39;00m \u001b[38;5;28menumerate\u001b[39m(batches):\n\u001b[0;32m      3\u001b[0m     \u001b[38;5;28mprint\u001b[39m(\u001b[38;5;124mf\u001b[39m\u001b[38;5;124m\"\u001b[39m\u001b[38;5;124mProcessing batch: \u001b[39m\u001b[38;5;132;01m{\u001b[39;00mi\u001b[38;5;132;01m}\u001b[39;00m\u001b[38;5;124m\"\u001b[39m)\n\u001b[1;32m----> 4\u001b[0m     batch_results \u001b[38;5;241m=\u001b[39m \u001b[43mword_tf_df\u001b[49m\u001b[38;5;241;43m.\u001b[39;49m\u001b[43mloc\u001b[49m\u001b[43m[\u001b[49m\u001b[43mbatch\u001b[49m\u001b[43m]\u001b[49m\u001b[38;5;241;43m.\u001b[39;49m\u001b[43mindex\u001b[49m\u001b[38;5;241;43m.\u001b[39;49m\u001b[43mmap\u001b[49m\u001b[43m(\u001b[49m\u001b[38;5;28;43;01mlambda\u001b[39;49;00m\u001b[43m \u001b[49m\u001b[43mx\u001b[49m\u001b[43m:\u001b[49m\u001b[43m \u001b[49m\u001b[43mget_max_count\u001b[49m\u001b[43m(\u001b[49m\u001b[43mx\u001b[49m\u001b[43m,\u001b[49m\u001b[43m \u001b[49m\u001b[43mwd_data_1\u001b[49m\u001b[43m)\u001b[49m\u001b[43m)\u001b[49m\n\u001b[0;32m      5\u001b[0m     word_tf_df\u001b[38;5;241m.\u001b[39mloc[batch, [\u001b[38;5;124m'\u001b[39m\u001b[38;5;124mcut_max_count\u001b[39m\u001b[38;5;124m'\u001b[39m, \u001b[38;5;124m'\u001b[39m\u001b[38;5;124mdoc_max_count\u001b[39m\u001b[38;5;124m'\u001b[39m, \u001b[38;5;124m'\u001b[39m\u001b[38;5;124m公开（公告）号\u001b[39m\u001b[38;5;124m'\u001b[39m]] \u001b[38;5;241m=\u001b[39m \u001b[38;5;28mlist\u001b[39m(batch_results)\n\u001b[0;32m      6\u001b[0m     results\u001b[38;5;241m.\u001b[39mappend(word_tf_df\u001b[38;5;241m.\u001b[39mloc[batch])\n",
      "File \u001b[1;32m~\\AppData\\Roaming\\Python\\Python39\\site-packages\\pandas\\core\\indexes\\base.py:6161\u001b[0m, in \u001b[0;36mIndex.map\u001b[1;34m(self, mapper, na_action)\u001b[0m\n\u001b[0;32m   6141\u001b[0m \u001b[38;5;250m\u001b[39m\u001b[38;5;124;03m\"\"\"\u001b[39;00m\n\u001b[0;32m   6142\u001b[0m \u001b[38;5;124;03mMap values using an input mapping or function.\u001b[39;00m\n\u001b[0;32m   6143\u001b[0m \n\u001b[1;32m   (...)\u001b[0m\n\u001b[0;32m   6157\u001b[0m \u001b[38;5;124;03m    a MultiIndex will be returned.\u001b[39;00m\n\u001b[0;32m   6158\u001b[0m \u001b[38;5;124;03m\"\"\"\u001b[39;00m\n\u001b[0;32m   6159\u001b[0m \u001b[38;5;28;01mfrom\u001b[39;00m \u001b[38;5;21;01mpandas\u001b[39;00m\u001b[38;5;21;01m.\u001b[39;00m\u001b[38;5;21;01mcore\u001b[39;00m\u001b[38;5;21;01m.\u001b[39;00m\u001b[38;5;21;01mindexes\u001b[39;00m\u001b[38;5;21;01m.\u001b[39;00m\u001b[38;5;21;01mmulti\u001b[39;00m \u001b[38;5;28;01mimport\u001b[39;00m MultiIndex\n\u001b[1;32m-> 6161\u001b[0m new_values \u001b[38;5;241m=\u001b[39m \u001b[38;5;28;43mself\u001b[39;49m\u001b[38;5;241;43m.\u001b[39;49m\u001b[43m_map_values\u001b[49m\u001b[43m(\u001b[49m\u001b[43mmapper\u001b[49m\u001b[43m,\u001b[49m\u001b[43m \u001b[49m\u001b[43mna_action\u001b[49m\u001b[38;5;241;43m=\u001b[39;49m\u001b[43mna_action\u001b[49m\u001b[43m)\u001b[49m\n\u001b[0;32m   6163\u001b[0m \u001b[38;5;66;03m# we can return a MultiIndex\u001b[39;00m\n\u001b[0;32m   6164\u001b[0m \u001b[38;5;28;01mif\u001b[39;00m new_values\u001b[38;5;241m.\u001b[39msize \u001b[38;5;129;01mand\u001b[39;00m \u001b[38;5;28misinstance\u001b[39m(new_values[\u001b[38;5;241m0\u001b[39m], \u001b[38;5;28mtuple\u001b[39m):\n",
      "File \u001b[1;32m~\\AppData\\Roaming\\Python\\Python39\\site-packages\\pandas\\core\\base.py:924\u001b[0m, in \u001b[0;36mIndexOpsMixin._map_values\u001b[1;34m(self, mapper, na_action)\u001b[0m\n\u001b[0;32m    921\u001b[0m         \u001b[38;5;28;01mraise\u001b[39;00m \u001b[38;5;167;01mValueError\u001b[39;00m(msg)\n\u001b[0;32m    923\u001b[0m \u001b[38;5;66;03m# mapper is a function\u001b[39;00m\n\u001b[1;32m--> 924\u001b[0m new_values \u001b[38;5;241m=\u001b[39m \u001b[43mmap_f\u001b[49m\u001b[43m(\u001b[49m\u001b[43mvalues\u001b[49m\u001b[43m,\u001b[49m\u001b[43m \u001b[49m\u001b[43mmapper\u001b[49m\u001b[43m)\u001b[49m\n\u001b[0;32m    926\u001b[0m \u001b[38;5;28;01mreturn\u001b[39;00m new_values\n",
      "File \u001b[1;32m~\\AppData\\Roaming\\Python\\Python39\\site-packages\\pandas\\_libs\\lib.pyx:2834\u001b[0m, in \u001b[0;36mpandas._libs.lib.map_infer\u001b[1;34m()\u001b[0m\n",
      "Cell \u001b[1;32mIn[116], line 4\u001b[0m, in \u001b[0;36m<lambda>\u001b[1;34m(x)\u001b[0m\n\u001b[0;32m      2\u001b[0m \u001b[38;5;28;01mfor\u001b[39;00m i,batch \u001b[38;5;129;01min\u001b[39;00m \u001b[38;5;28menumerate\u001b[39m(batches):\n\u001b[0;32m      3\u001b[0m     \u001b[38;5;28mprint\u001b[39m(\u001b[38;5;124mf\u001b[39m\u001b[38;5;124m\"\u001b[39m\u001b[38;5;124mProcessing batch: \u001b[39m\u001b[38;5;132;01m{\u001b[39;00mi\u001b[38;5;132;01m}\u001b[39;00m\u001b[38;5;124m\"\u001b[39m)\n\u001b[1;32m----> 4\u001b[0m     batch_results \u001b[38;5;241m=\u001b[39m word_tf_df\u001b[38;5;241m.\u001b[39mloc[batch]\u001b[38;5;241m.\u001b[39mindex\u001b[38;5;241m.\u001b[39mmap(\u001b[38;5;28;01mlambda\u001b[39;00m x: \u001b[43mget_max_count\u001b[49m\u001b[43m(\u001b[49m\u001b[43mx\u001b[49m\u001b[43m,\u001b[49m\u001b[43m \u001b[49m\u001b[43mwd_data_1\u001b[49m\u001b[43m)\u001b[49m)\n\u001b[0;32m      5\u001b[0m     word_tf_df\u001b[38;5;241m.\u001b[39mloc[batch, [\u001b[38;5;124m'\u001b[39m\u001b[38;5;124mcut_max_count\u001b[39m\u001b[38;5;124m'\u001b[39m, \u001b[38;5;124m'\u001b[39m\u001b[38;5;124mdoc_max_count\u001b[39m\u001b[38;5;124m'\u001b[39m, \u001b[38;5;124m'\u001b[39m\u001b[38;5;124m公开（公告）号\u001b[39m\u001b[38;5;124m'\u001b[39m]] \u001b[38;5;241m=\u001b[39m \u001b[38;5;28mlist\u001b[39m(batch_results)\n\u001b[0;32m      6\u001b[0m     results\u001b[38;5;241m.\u001b[39mappend(word_tf_df\u001b[38;5;241m.\u001b[39mloc[batch])\n",
      "Cell \u001b[1;32mIn[94], line 2\u001b[0m, in \u001b[0;36mget_max_count\u001b[1;34m(word, doc_counter)\u001b[0m\n\u001b[0;32m      1\u001b[0m \u001b[38;5;28;01mdef\u001b[39;00m \u001b[38;5;21mget_max_count\u001b[39m(word,doc_counter):\n\u001b[1;32m----> 2\u001b[0m     s1 \u001b[38;5;241m=\u001b[39m \u001b[43mdoc_counter\u001b[49m\u001b[43m[\u001b[49m\u001b[38;5;124;43m'\u001b[39;49m\u001b[38;5;124;43mcount\u001b[39;49m\u001b[38;5;124;43m'\u001b[39;49m\u001b[43m]\u001b[49m\u001b[38;5;241;43m.\u001b[39;49m\u001b[43mapply\u001b[49m\u001b[43m(\u001b[49m\u001b[38;5;28;43;01mlambda\u001b[39;49;00m\u001b[43m \u001b[49m\u001b[43mx\u001b[49m\u001b[43m:\u001b[49m\u001b[43mx\u001b[49m\u001b[38;5;241;43m.\u001b[39;49m\u001b[43mget\u001b[49m\u001b[43m(\u001b[49m\u001b[43mword\u001b[49m\u001b[43m)\u001b[49m\u001b[43m)\u001b[49m\n\u001b[0;32m      3\u001b[0m     max_index \u001b[38;5;241m=\u001b[39m s1\u001b[38;5;241m.\u001b[39midxmax()\n\u001b[0;32m      4\u001b[0m     max_values \u001b[38;5;241m=\u001b[39m s1[max_index] \u001b[38;5;66;03m#int(s1.max())\u001b[39;00m\n",
      "File \u001b[1;32m~\\AppData\\Roaming\\Python\\Python39\\site-packages\\pandas\\core\\series.py:4630\u001b[0m, in \u001b[0;36mSeries.apply\u001b[1;34m(self, func, convert_dtype, args, **kwargs)\u001b[0m\n\u001b[0;32m   4520\u001b[0m \u001b[38;5;28;01mdef\u001b[39;00m \u001b[38;5;21mapply\u001b[39m(\n\u001b[0;32m   4521\u001b[0m     \u001b[38;5;28mself\u001b[39m,\n\u001b[0;32m   4522\u001b[0m     func: AggFuncType,\n\u001b[1;32m   (...)\u001b[0m\n\u001b[0;32m   4525\u001b[0m     \u001b[38;5;241m*\u001b[39m\u001b[38;5;241m*\u001b[39mkwargs,\n\u001b[0;32m   4526\u001b[0m ) \u001b[38;5;241m-\u001b[39m\u001b[38;5;241m>\u001b[39m DataFrame \u001b[38;5;241m|\u001b[39m Series:\n\u001b[0;32m   4527\u001b[0m \u001b[38;5;250m    \u001b[39m\u001b[38;5;124;03m\"\"\"\u001b[39;00m\n\u001b[0;32m   4528\u001b[0m \u001b[38;5;124;03m    Invoke function on values of Series.\u001b[39;00m\n\u001b[0;32m   4529\u001b[0m \n\u001b[1;32m   (...)\u001b[0m\n\u001b[0;32m   4628\u001b[0m \u001b[38;5;124;03m    dtype: float64\u001b[39;00m\n\u001b[0;32m   4629\u001b[0m \u001b[38;5;124;03m    \"\"\"\u001b[39;00m\n\u001b[1;32m-> 4630\u001b[0m     \u001b[38;5;28;01mreturn\u001b[39;00m \u001b[43mSeriesApply\u001b[49m\u001b[43m(\u001b[49m\u001b[38;5;28;43mself\u001b[39;49m\u001b[43m,\u001b[49m\u001b[43m \u001b[49m\u001b[43mfunc\u001b[49m\u001b[43m,\u001b[49m\u001b[43m \u001b[49m\u001b[43mconvert_dtype\u001b[49m\u001b[43m,\u001b[49m\u001b[43m \u001b[49m\u001b[43margs\u001b[49m\u001b[43m,\u001b[49m\u001b[43m \u001b[49m\u001b[43mkwargs\u001b[49m\u001b[43m)\u001b[49m\u001b[38;5;241;43m.\u001b[39;49m\u001b[43mapply\u001b[49m\u001b[43m(\u001b[49m\u001b[43m)\u001b[49m\n",
      "File \u001b[1;32m~\\AppData\\Roaming\\Python\\Python39\\site-packages\\pandas\\core\\apply.py:1025\u001b[0m, in \u001b[0;36mSeriesApply.apply\u001b[1;34m(self)\u001b[0m\n\u001b[0;32m   1022\u001b[0m     \u001b[38;5;28;01mreturn\u001b[39;00m \u001b[38;5;28mself\u001b[39m\u001b[38;5;241m.\u001b[39mapply_str()\n\u001b[0;32m   1024\u001b[0m \u001b[38;5;66;03m# self.f is Callable\u001b[39;00m\n\u001b[1;32m-> 1025\u001b[0m \u001b[38;5;28;01mreturn\u001b[39;00m \u001b[38;5;28;43mself\u001b[39;49m\u001b[38;5;241;43m.\u001b[39;49m\u001b[43mapply_standard\u001b[49m\u001b[43m(\u001b[49m\u001b[43m)\u001b[49m\n",
      "File \u001b[1;32m~\\AppData\\Roaming\\Python\\Python39\\site-packages\\pandas\\core\\apply.py:1076\u001b[0m, in \u001b[0;36mSeriesApply.apply_standard\u001b[1;34m(self)\u001b[0m\n\u001b[0;32m   1074\u001b[0m     \u001b[38;5;28;01melse\u001b[39;00m:\n\u001b[0;32m   1075\u001b[0m         values \u001b[38;5;241m=\u001b[39m obj\u001b[38;5;241m.\u001b[39mastype(\u001b[38;5;28mobject\u001b[39m)\u001b[38;5;241m.\u001b[39m_values\n\u001b[1;32m-> 1076\u001b[0m         mapped \u001b[38;5;241m=\u001b[39m \u001b[43mlib\u001b[49m\u001b[38;5;241;43m.\u001b[39;49m\u001b[43mmap_infer\u001b[49m\u001b[43m(\u001b[49m\n\u001b[0;32m   1077\u001b[0m \u001b[43m            \u001b[49m\u001b[43mvalues\u001b[49m\u001b[43m,\u001b[49m\n\u001b[0;32m   1078\u001b[0m \u001b[43m            \u001b[49m\u001b[43mf\u001b[49m\u001b[43m,\u001b[49m\n\u001b[0;32m   1079\u001b[0m \u001b[43m            \u001b[49m\u001b[43mconvert\u001b[49m\u001b[38;5;241;43m=\u001b[39;49m\u001b[38;5;28;43mself\u001b[39;49m\u001b[38;5;241;43m.\u001b[39;49m\u001b[43mconvert_dtype\u001b[49m\u001b[43m,\u001b[49m\n\u001b[0;32m   1080\u001b[0m \u001b[43m        \u001b[49m\u001b[43m)\u001b[49m\n\u001b[0;32m   1082\u001b[0m \u001b[38;5;28;01mif\u001b[39;00m \u001b[38;5;28mlen\u001b[39m(mapped) \u001b[38;5;129;01mand\u001b[39;00m \u001b[38;5;28misinstance\u001b[39m(mapped[\u001b[38;5;241m0\u001b[39m], ABCSeries):\n\u001b[0;32m   1083\u001b[0m     \u001b[38;5;66;03m# GH#43986 Need to do list(mapped) in order to get treated as nested\u001b[39;00m\n\u001b[0;32m   1084\u001b[0m     \u001b[38;5;66;03m#  See also GH#25959 regarding EA support\u001b[39;00m\n\u001b[0;32m   1085\u001b[0m     \u001b[38;5;28;01mreturn\u001b[39;00m obj\u001b[38;5;241m.\u001b[39m_constructor_expanddim(\u001b[38;5;28mlist\u001b[39m(mapped), index\u001b[38;5;241m=\u001b[39mobj\u001b[38;5;241m.\u001b[39mindex)\n",
      "File \u001b[1;32m~\\AppData\\Roaming\\Python\\Python39\\site-packages\\pandas\\_libs\\lib.pyx:2834\u001b[0m, in \u001b[0;36mpandas._libs.lib.map_infer\u001b[1;34m()\u001b[0m\n",
      "Cell \u001b[1;32mIn[94], line 2\u001b[0m, in \u001b[0;36mget_max_count.<locals>.<lambda>\u001b[1;34m(x)\u001b[0m\n\u001b[0;32m      1\u001b[0m \u001b[38;5;28;01mdef\u001b[39;00m \u001b[38;5;21mget_max_count\u001b[39m(word,doc_counter):\n\u001b[1;32m----> 2\u001b[0m     s1 \u001b[38;5;241m=\u001b[39m doc_counter[\u001b[38;5;124m'\u001b[39m\u001b[38;5;124mcount\u001b[39m\u001b[38;5;124m'\u001b[39m]\u001b[38;5;241m.\u001b[39mapply(\u001b[38;5;28;01mlambda\u001b[39;00m x:x\u001b[38;5;241m.\u001b[39mget(word))\n\u001b[0;32m      3\u001b[0m     max_index \u001b[38;5;241m=\u001b[39m s1\u001b[38;5;241m.\u001b[39midxmax()\n\u001b[0;32m      4\u001b[0m     max_values \u001b[38;5;241m=\u001b[39m s1[max_index] \u001b[38;5;66;03m#int(s1.max())\u001b[39;00m\n",
      "\u001b[1;31mKeyboardInterrupt\u001b[0m: "
     ]
    }
   ],
   "source": [
    "results = []\n",
    "for i,batch in enumerate(batches):\n",
    "    print(f\"Processing batch: {i}\")\n",
    "    batch_results = word_tf_df.loc[batch].index.map(lambda x: get_max_count(x, wd_data_1))\n",
    "    word_tf_df.loc[batch, ['cut_max_count', 'doc_max_count', '公开（公告）号']] = list(batch_results)\n",
    "    results.append(word_tf_df.loc[batch])\n",
    "\n",
    "processed_df = pd.concat(results)"
   ]
  },
  {
   "cell_type": "code",
   "execution_count": 11,
   "id": "965eec15-196d-4aac-b8a7-248caf4cde05",
   "metadata": {},
   "outputs": [
    {
     "data": {
      "text/plain": [
       "Index(['tf', 'df', 'flag', 'baidu'], dtype='object')"
      ]
     },
     "execution_count": 11,
     "metadata": {},
     "output_type": "execute_result"
    }
   ],
   "source": [
    "word_tf_df.columns"
   ]
  },
  {
   "cell_type": "code",
   "execution_count": 120,
   "id": "756ca636-9ca9-443e-abca-cbbd104f7110",
   "metadata": {},
   "outputs": [
    {
     "data": {
      "text/plain": [
       "49187"
      ]
     },
     "execution_count": 120,
     "metadata": {},
     "output_type": "execute_result"
    }
   ],
   "source": [
    "word_tf_df['公开（公告）号'].count()"
   ]
  },
  {
   "cell_type": "code",
   "execution_count": 103,
   "id": "4e2d6f56-f42e-4077-a13a-d0c364de1b83",
   "metadata": {},
   "outputs": [],
   "source": [
    "word_tf_df.to_excel('data\\\\patent_word_source_188.xlsx')"
   ]
  },
  {
   "cell_type": "code",
   "execution_count": 30,
   "id": "36baf385-641f-4fcd-88cb-587ec4c1efd6",
   "metadata": {},
   "outputs": [
    {
     "data": {
      "text/plain": [
       "Index(['序号', '词语', 'counter', '标题 (中文)', '摘要 (中文)', '申请号', '公开（公告）号', 'table'], dtype='object')"
      ]
     },
     "execution_count": 30,
     "metadata": {},
     "output_type": "execute_result"
    }
   ],
   "source": [
    "wd_data_1.columns"
   ]
  },
  {
   "cell_type": "code",
   "execution_count": 24,
   "id": "bed0a25a-cbdb-40fa-a41c-1a2b098e35c2",
   "metadata": {},
   "outputs": [
    {
     "data": {
      "text/plain": [
       "RangeIndex(start=0, stop=1884186, step=1)"
      ]
     },
     "execution_count": 24,
     "metadata": {},
     "output_type": "execute_result"
    }
   ],
   "source": [
    "wd_data_1.index"
   ]
  },
  {
   "cell_type": "code",
   "execution_count": null,
   "id": "9ee85254-848b-4abb-9aa8-0acbf005ef8a",
   "metadata": {},
   "outputs": [],
   "source": [
    "import ast\n",
    "# ast.literal_eval\n",
    "#.apply(ast.literal_eval)"
   ]
  },
  {
   "cell_type": "code",
   "execution_count": 20,
   "id": "20ff14c3-6f44-4432-965e-05e6fc866594",
   "metadata": {},
   "outputs": [
    {
     "ename": "TypeError",
     "evalue": "eval() arg 1 must be a string, bytes or code object",
     "output_type": "error",
     "traceback": [
      "\u001b[1;31m---------------------------------------------------------------------------\u001b[0m",
      "\u001b[1;31mTypeError\u001b[0m                                 Traceback (most recent call last)",
      "Cell \u001b[1;32mIn[20], line 1\u001b[0m\n\u001b[1;32m----> 1\u001b[0m \u001b[38;5;28;43meval\u001b[39;49m\u001b[43m(\u001b[49m\u001b[43mwd_data_1\u001b[49m\u001b[43m[\u001b[49m\u001b[38;5;124;43m'\u001b[39;49m\u001b[38;5;124;43m词语\u001b[39;49m\u001b[38;5;124;43m'\u001b[39;49m\u001b[43m]\u001b[49m\u001b[43m[\u001b[49m\u001b[38;5;241;43m0\u001b[39;49m\u001b[43m]\u001b[49m\u001b[43m)\u001b[49m\n",
      "\u001b[1;31mTypeError\u001b[0m: eval() arg 1 must be a string, bytes or code object"
     ]
    }
   ],
   "source": [
    "eval(wd_data_1['词语'][0])"
   ]
  },
  {
   "cell_type": "code",
   "execution_count": 22,
   "id": "84b9c020-2b39-4fed-bc6e-d804aa5018e0",
   "metadata": {
    "scrolled": true
   },
   "outputs": [
    {
     "data": {
      "text/plain": [
       "Counter({'冷却': 4,\n",
       "         '烧结': 3,\n",
       "         '竖式': 2,\n",
       "         '具有': 2,\n",
       "         '控制': 2,\n",
       "         '排风': 2,\n",
       "         '适用': 2,\n",
       "         '一种': 1,\n",
       "         '环形': 1,\n",
       "         '风道': 1,\n",
       "         '密闭': 1,\n",
       "         '结构': 1,\n",
       "         '电振': 1,\n",
       "         '出料': 1,\n",
       "         '机及': 1,\n",
       "         '风机': 1,\n",
       "         '转速': 1,\n",
       "         '达到': 1,\n",
       "         '矿料': 1,\n",
       "         '空间': 1,\n",
       "         '保持': 1,\n",
       "         '正压': 1,\n",
       "         '风量': 1,\n",
       "         '温度': 1,\n",
       "         '余热': 1,\n",
       "         '利用': 1,\n",
       "         '起来': 1,\n",
       "         '优点': 1,\n",
       "         '投资': 1,\n",
       "         '运行': 1,\n",
       "         '费用': 1,\n",
       "         '安全可靠': 1,\n",
       "         '特别': 1,\n",
       "         '老厂': 1,\n",
       "         '技术改造': 1,\n",
       "         'm2': 1,\n",
       "         '以下': 1,\n",
       "         '烧结机': 1,\n",
       "         '高温': 1,\n",
       "         '颗粒': 1})"
      ]
     },
     "execution_count": 22,
     "metadata": {},
     "output_type": "execute_result"
    }
   ],
   "source": [
    "wd_data_1['counter'][0]"
   ]
  },
  {
   "cell_type": "code",
   "execution_count": 17,
   "id": "93e1df95-b615-4065-a457-0131ce1462e7",
   "metadata": {},
   "outputs": [],
   "source": [
    "del wd_data\n",
    "del patent_co"
   ]
  },
  {
   "cell_type": "code",
   "execution_count": 19,
   "id": "fc0de0a8-f4c6-44d7-8006-ccc83ea00763",
   "metadata": {},
   "outputs": [
    {
     "data": {
      "text/plain": [
       "dict_keys(['__name__', '__doc__', '__package__', '__loader__', '__spec__', '__builtin__', '__builtins__', '_ih', '_oh', '_dh', 'In', 'Out', 'get_ipython', 'exit', 'quit', 'open', '_', '__', '___', '__session__', '_i', '_ii', '_iii', '_i1', 'pd', 'pickle', 'Counter', 'OrderedDict', 'defaultdict', '_i2', '_2', '_i3', '_3', '_i4', '_4', '_i5', '_5', '_i6', 'wd_data_1', '_6', '_i7', 'wd_data_0', '_i8', '_i9', '_9', '_i10', '_i11', 'get_max_count', '_i12', '_12', '_i13', '_13', '_i14', '_14', '_i15', '_15', '_i16', 'word_tf_df', '_i17', '_i18', '_18', '_i19'])"
      ]
     },
     "execution_count": 19,
     "metadata": {},
     "output_type": "execute_result"
    }
   ],
   "source": [
    "locals().keys()"
   ]
  },
  {
   "cell_type": "code",
   "execution_count": 124,
   "id": "7fef2e4f-2ed0-4761-b410-b8eebd8f594d",
   "metadata": {},
   "outputs": [],
   "source": [
    "mask=word_tf_df['公开（公告）号'].isna()"
   ]
  },
  {
   "cell_type": "code",
   "execution_count": 16,
   "id": "6c6a6d80-fa1e-4ce2-b0e5-fb6885bbaeb4",
   "metadata": {},
   "outputs": [],
   "source": [
    "word_tf_df=pd.read_csv('data/patent_word_source_188.csv',index_col=0)\n",
    "# wd_data_1=pd.read_csv('data/patent_cut_co_source_188.csv',index_col=0)"
   ]
  },
  {
   "cell_type": "code",
   "execution_count": null,
   "id": "681e7351-5248-41d9-8351-fea5cdd8e894",
   "metadata": {},
   "outputs": [],
   "source": [
    "%%time\n",
    "word_tf_df['cut_max_count'],word_tf_df['公开（公告）号']=zip(*word_tf_df.index.map(lambda x: get_max_count(x,wd_data_1)))"
   ]
  },
  {
   "cell_type": "code",
   "execution_count": 12,
   "id": "edf7808a-7ff5-4e1c-9a41-ee83c42a98d8",
   "metadata": {},
   "outputs": [],
   "source": [
    "import concurrent.futures\n",
    "import asyncio"
   ]
  },
  {
   "cell_type": "markdown",
   "id": "43de1349-62e6-4420-9a14-54eb344fe3c0",
   "metadata": {},
   "source": [
    "ThreadPoolExecutor：适用于 I/O 密集型任务或需要共享大量内存的任务。  \n",
    "ProcessPoolExecutor  \r\n",
    "multiprocessing.Pool：适用于 CPU 密集型任务或需要隔离内存空间的任务  \n",
    "asyncio: 处理大量的 I/O 操作，且任务之间可能存在等待时间,需要高度并发和任务之间需要协作的场景。"
   ]
  },
  {
   "cell_type": "code",
   "execution_count": 18,
   "id": "c7dd6c9b-6ad0-43ce-b7ce-bdc149581443",
   "metadata": {},
   "outputs": [
    {
     "data": {
      "text/plain": [
       "Index(['所述', '一种', '包括', '装置', '第一', '方法', '连接', '设置', '第二', '进行', '用于', '组件',\n",
       "       '公开', '安装', '系统', '控制', '结构', '设备', '提供', '固定', '检测', '模块', '产品', '机构',\n",
       "       '设有', '数据', '具有', '涉及', '信息', '提高', '设计', '能够', '之间', '驱动', '实现', '单元',\n",
       "       '信号', '处理', '显示', '用户', '多个', '目标', '电路', '电池', '位置', '移动', '对应', '形成',\n",
       "       '输出', '获取', '使用', '支撑', '定位', '要点', '图像', '得到', '表面', '壳体', '终端', '一个',\n",
       "       '方向', '调节', '操作', '位于', '状态', '至少', '电机', '确定', '降低', '采用', '两个', '有效',\n",
       "       '区域', '本体', '应用', '转动', '接收', '问题', '过程', '测试', '支架', '效率', '解决', '步骤',\n",
       "       '材料', '避免', '内部', '温度', '存储介质', '输入', '自动', '不同', '通道', '基板', '工作',\n",
       "       '相对', '预设', '生产', '简单', '效果'],\n",
       "      dtype='object', name='词语')"
      ]
     },
     "execution_count": 18,
     "metadata": {},
     "output_type": "execute_result"
    }
   ],
   "source": [
    "word_tf_df.index[:100]"
   ]
  },
  {
   "cell_type": "code",
   "execution_count": 25,
   "id": "3fa119d5-19a2-45ef-9702-011cf2f19a7f",
   "metadata": {},
   "outputs": [
    {
     "name": "stdout",
     "output_type": "stream",
     "text": [
      "CPU times: total: 1min 16s\n",
      "Wall time: 1min 16s\n"
     ]
    }
   ],
   "source": [
    "%%time\n",
    "results = word_tf_df.index[:100].map(lambda x:get_max_count(x, wd_data_1['counter']))"
   ]
  },
  {
   "cell_type": "code",
   "execution_count": 20,
   "id": "43e2523a-eada-471c-8d03-3b03de32f1ef",
   "metadata": {},
   "outputs": [],
   "source": [
    "def process_wrapped(word):\n",
    "    return get_max_count(word, wd_data_1['counter'])"
   ]
  },
  {
   "cell_type": "code",
   "execution_count": 21,
   "id": "eb8b419e-3e62-473c-b37c-3d1269d87bc4",
   "metadata": {},
   "outputs": [
    {
     "name": "stdout",
     "output_type": "stream",
     "text": [
      "CPU times: total: 1min 16s\n",
      "Wall time: 1min 14s\n"
     ]
    }
   ],
   "source": [
    "%%time\n",
    "# 线程 ThreadPoolExecutor 并行处理每一行\n",
    "with concurrent.futures.ThreadPoolExecutor(max_workers=8) as executor:\n",
    "    futures = [executor.submit(process_wrapped, word) for word in word_tf_df.index[:100]]#每个元素单独作为任务提交\n",
    "    results = [future.result() for future in concurrent.futures.as_completed(futures)]"
   ]
  },
  {
   "cell_type": "code",
   "execution_count": 22,
   "id": "1273d757-c050-43e7-a39f-b3ea2b1d4030",
   "metadata": {},
   "outputs": [],
   "source": [
    "def process_batch(batch_indices, data):#处理批次数据\n",
    "    return [get_max_count(word, data) for word in batch_indices]"
   ]
  },
  {
   "cell_type": "code",
   "execution_count": 23,
   "id": "8f3d0d00-e784-4599-9aaa-861369f6d36f",
   "metadata": {},
   "outputs": [
    {
     "name": "stdout",
     "output_type": "stream",
     "text": [
      "CPU times: total: 1min 16s\n",
      "Wall time: 1min 16s\n"
     ]
    }
   ],
   "source": [
    "%%time\n",
    "with concurrent.futures.ThreadPoolExecutor(max_workers=8) as executor:\n",
    "    future = executor.submit(process_batch, word_tf_df.index[:100], wd_data_1['counter'])#将整个批次的数据作为一个任务，且任务之间可能存在依赖或需要共享状态的情况。\n",
    "    results = future.result()"
   ]
  },
  {
   "cell_type": "code",
   "execution_count": 27,
   "id": "fb312f50-e7b7-41ab-8598-be134c6a93f6",
   "metadata": {},
   "outputs": [],
   "source": [
    "#进程进行并行化\n",
    "from multiprocessing import Pool"
   ]
  },
  {
   "cell_type": "code",
   "execution_count": null,
   "id": "e46e3dfd-49cd-4b52-ac14-2245c29ac754",
   "metadata": {},
   "outputs": [],
   "source": [
    "%%time\n",
    "with Pool() as pool:\n",
    "    results = pool.map(process_wrapped, word_tf_df.index[:100])"
   ]
  },
  {
   "cell_type": "code",
   "execution_count": 31,
   "id": "b3cf819d-7193-4c2c-b5da-ec9bd83ecad8",
   "metadata": {},
   "outputs": [],
   "source": [
    "import concurrent.futures\n",
    "import nest_asyncio\n",
    "import asyncio\n",
    "import time\n",
    "nest_asyncio.apply()"
   ]
  },
  {
   "cell_type": "code",
   "execution_count": 23,
   "id": "ce613c21-7118-4477-bac4-11cc76ecd99c",
   "metadata": {},
   "outputs": [],
   "source": [
    "async def process_async(word):\n",
    "    loop = asyncio.get_event_loop()\n",
    "    return await loop.run_in_executor(None, get_max_count, word, wd_data_1['counter'])"
   ]
  },
  {
   "cell_type": "code",
   "execution_count": 24,
   "id": "431a985b-1cc0-4c90-87da-9722c4961af0",
   "metadata": {},
   "outputs": [],
   "source": [
    "async def run_main():\n",
    "    # 创建异步任务列表\n",
    "    tasks = [process_async(word) for word in word_tf_df.index[:100]]\n",
    "    # 并发执行任务\n",
    "    results = await asyncio.gather(*tasks)\n",
    "    return results"
   ]
  },
  {
   "cell_type": "code",
   "execution_count": 27,
   "id": "6f487a59-4404-456d-bd67-dfa5b894dc76",
   "metadata": {},
   "outputs": [
    {
     "data": {
      "text/plain": [
       "75.12617373466492"
      ]
     },
     "execution_count": 27,
     "metadata": {},
     "output_type": "execute_result"
    }
   ],
   "source": [
    "start_time = time.time()\n",
    "await run_main()\n",
    "time.time()-start_time"
   ]
  },
  {
   "cell_type": "code",
   "execution_count": 30,
   "id": "057b2c7c-6a1a-492b-9ebd-f7b7025756f3",
   "metadata": {},
   "outputs": [],
   "source": [
    "batch_size = 50000\n",
    "all_results = []"
   ]
  },
  {
   "cell_type": "code",
   "execution_count": 21,
   "id": "d06826c0-2e42-4e95-80dc-efe3b7c50009",
   "metadata": {},
   "outputs": [
    {
     "ename": "OSError",
     "evalue": "[Errno 22] Invalid argument: 'data\\results_batch_0.pkl'",
     "output_type": "error",
     "traceback": [
      "\u001b[1;31m---------------------------------------------------------------------------\u001b[0m",
      "\u001b[1;31mOSError\u001b[0m                                   Traceback (most recent call last)",
      "File \u001b[1;32m<timed exec>:9\u001b[0m\n",
      "File \u001b[1;32mC:\\Program Files\\Python\\Python39\\lib\\site-packages\\IPython\\core\\interactiveshell.py:284\u001b[0m, in \u001b[0;36m_modified_open\u001b[1;34m(file, *args, **kwargs)\u001b[0m\n\u001b[0;32m    277\u001b[0m \u001b[38;5;28;01mif\u001b[39;00m file \u001b[38;5;129;01min\u001b[39;00m {\u001b[38;5;241m0\u001b[39m, \u001b[38;5;241m1\u001b[39m, \u001b[38;5;241m2\u001b[39m}:\n\u001b[0;32m    278\u001b[0m     \u001b[38;5;28;01mraise\u001b[39;00m \u001b[38;5;167;01mValueError\u001b[39;00m(\n\u001b[0;32m    279\u001b[0m         \u001b[38;5;124mf\u001b[39m\u001b[38;5;124m\"\u001b[39m\u001b[38;5;124mIPython won\u001b[39m\u001b[38;5;124m'\u001b[39m\u001b[38;5;124mt let you open fd=\u001b[39m\u001b[38;5;132;01m{\u001b[39;00mfile\u001b[38;5;132;01m}\u001b[39;00m\u001b[38;5;124m by default \u001b[39m\u001b[38;5;124m\"\u001b[39m\n\u001b[0;32m    280\u001b[0m         \u001b[38;5;124m\"\u001b[39m\u001b[38;5;124mas it is likely to crash IPython. If you know what you are doing, \u001b[39m\u001b[38;5;124m\"\u001b[39m\n\u001b[0;32m    281\u001b[0m         \u001b[38;5;124m\"\u001b[39m\u001b[38;5;124myou can use builtins\u001b[39m\u001b[38;5;124m'\u001b[39m\u001b[38;5;124m open.\u001b[39m\u001b[38;5;124m\"\u001b[39m\n\u001b[0;32m    282\u001b[0m     )\n\u001b[1;32m--> 284\u001b[0m \u001b[38;5;28;01mreturn\u001b[39;00m io_open(file, \u001b[38;5;241m*\u001b[39margs, \u001b[38;5;241m*\u001b[39m\u001b[38;5;241m*\u001b[39mkwargs)\n",
      "\u001b[1;31mOSError\u001b[0m: [Errno 22] Invalid argument: 'data\\results_batch_0.pkl'"
     ]
    }
   ],
   "source": [
    "%%time\n",
    "for batch_number, i in enumerate(range(0, len(word_tf_df), batch_size)):\n",
    "    batch_indices = word_tf_df.index[i:i + batch_size]\n",
    "    with concurrent.futures.ThreadPoolExecutor(max_workers=8) as executor:\n",
    "        # future = executor.submit(process_batch, batch_indices, wd_data_1)#将整个批次的数据作为一个任务，且任务之间可能存在依赖或需要共享状态的情况。\n",
    "        # results = future.result()\n",
    "        futures = [executor.submit(process_wrapped, word) for word in batch_indices]#每个元素单独作为任务提交，每个批次的处理任务互相独立且不需要共享数据\n",
    "        results = [future.result() for future in concurrent.futures.as_completed(futures)]\n",
    "\n",
    "        with open(f'data\\\\results_batch_{batch_number}.pkl', 'wb') as f:\n",
    "            pickle.dump(results, f)\n",
    "\n",
    "        all_results.extend(results)\n",
    "        \n",
    "    print(f'Batch {batch_number} processed.')"
   ]
  },
  {
   "cell_type": "code",
   "execution_count": 26,
   "id": "a9f79a39-5fb3-4d43-a06b-f8cb057ddc0b",
   "metadata": {},
   "outputs": [
    {
     "data": {
      "text/plain": [
       "50000"
      ]
     },
     "execution_count": 26,
     "metadata": {},
     "output_type": "execute_result"
    }
   ],
   "source": [
    "len(results)"
   ]
  },
  {
   "cell_type": "code",
   "execution_count": null,
   "id": "3c67af2b-c6c3-4e83-b86b-898fdda1ae9f",
   "metadata": {},
   "outputs": [],
   "source": [
    "word_tf_df['cut_max_count'], word_tf_df['公开（公告）号'] = zip(*all_results)\n",
    "word_tf_df.to_excel('data/patent_word_source_188.xlsx')"
   ]
  },
  {
   "cell_type": "code",
   "execution_count": 39,
   "id": "90421a74-a009-4d87-b9fb-dcab08da5925",
   "metadata": {},
   "outputs": [
    {
     "name": "stderr",
     "output_type": "stream",
     "text": [
      "C:\\Users\\Prime\\AppData\\Roaming\\Python\\Python39\\site-packages\\distributed\\node.py:182: UserWarning: Port 60505 is already in use.\n",
      "Perhaps you already have a cluster running?\n",
      "Hosting the HTTP server on port 61141 instead\n",
      "  warnings.warn(\n",
      "C:\\Program Files\\Python\\Python39\\lib\\contextlib.py:126: UserWarning: Creating scratch directories is taking a surprisingly long time. (4.37s) This is often due to running workers on a network file system. Consider specifying a local-directory to point workers to write scratch data to a local disk.\n",
      "  next(self.gen)\n"
     ]
    }
   ],
   "source": [
    "import os\n",
    "import dask\n",
    "from dask.distributed import Client #distributed\n",
    "local_directory = os.path.join(os.getcwd(), 'dask-worker-space')\n",
    "client = Client(n_workers=8, local_directory=local_directory, dashboard_address=':60505') "
   ]
  },
  {
   "cell_type": "code",
   "execution_count": 49,
   "id": "c988477d-dc4d-4621-9b83-58088dc17184",
   "metadata": {},
   "outputs": [],
   "source": [
    "client.close()"
   ]
  },
  {
   "cell_type": "code",
   "execution_count": 29,
   "id": "27f1bdac-19de-4cc1-a1f8-46411f64f78f",
   "metadata": {},
   "outputs": [
    {
     "data": {
      "text/plain": [
       "(33, [261660, 261664], 'CN104967639B', '数据')"
      ]
     },
     "execution_count": 29,
     "metadata": {},
     "output_type": "execute_result"
    }
   ],
   "source": [
    "def get_max_count3(word,data):\n",
    "    series = data['counter'].apply(lambda x:x.get(word,0))\n",
    "    max_index = series.idxmax()\n",
    "    max_values = series[max_index] #int(s1.max())\n",
    "    max_values_index = series[series.values == max_values].index.tolist()\n",
    "    return max_values,max_values_index,data.iloc[max_index]['公开（公告）号'],word#异步返回顺序打乱了，需要+word索引\n",
    "\n",
    "get_max_count3('数据',wd_data_1)"
   ]
  },
  {
   "cell_type": "code",
   "execution_count": 55,
   "id": "032b21b9-d8e0-40df-b548-8721b59d2205",
   "metadata": {},
   "outputs": [],
   "source": [
    "def process_wrapped(word):#单独处理每个元素\n",
    "    return get_max_count3(word, wd_data_1)"
   ]
  },
  {
   "cell_type": "code",
   "execution_count": 20,
   "id": "588ee8a9-5beb-4d6d-aba3-34b9d3ca6f1e",
   "metadata": {},
   "outputs": [
    {
     "ename": "KeyboardInterrupt",
     "evalue": "",
     "output_type": "error",
     "traceback": [
      "\u001b[1;31m---------------------------------------------------------------------------\u001b[0m",
      "\u001b[1;31mKeyboardInterrupt\u001b[0m                         Traceback (most recent call last)",
      "File \u001b[1;32m<timed exec>:7\u001b[0m\n",
      "File \u001b[1;32mC:\\Program Files\\Python\\Python39\\lib\\concurrent\\futures\\_base.py:441\u001b[0m, in \u001b[0;36mFuture.result\u001b[1;34m(self, timeout)\u001b[0m\n\u001b[0;32m    438\u001b[0m \u001b[38;5;28;01melif\u001b[39;00m \u001b[38;5;28mself\u001b[39m\u001b[38;5;241m.\u001b[39m_state \u001b[38;5;241m==\u001b[39m FINISHED:\n\u001b[0;32m    439\u001b[0m     \u001b[38;5;28;01mreturn\u001b[39;00m \u001b[38;5;28mself\u001b[39m\u001b[38;5;241m.\u001b[39m__get_result()\n\u001b[1;32m--> 441\u001b[0m \u001b[38;5;28;43mself\u001b[39;49m\u001b[38;5;241;43m.\u001b[39;49m\u001b[43m_condition\u001b[49m\u001b[38;5;241;43m.\u001b[39;49m\u001b[43mwait\u001b[49m\u001b[43m(\u001b[49m\u001b[43mtimeout\u001b[49m\u001b[43m)\u001b[49m\n\u001b[0;32m    443\u001b[0m \u001b[38;5;28;01mif\u001b[39;00m \u001b[38;5;28mself\u001b[39m\u001b[38;5;241m.\u001b[39m_state \u001b[38;5;129;01min\u001b[39;00m [CANCELLED, CANCELLED_AND_NOTIFIED]:\n\u001b[0;32m    444\u001b[0m     \u001b[38;5;28;01mraise\u001b[39;00m CancelledError()\n",
      "File \u001b[1;32mC:\\Program Files\\Python\\Python39\\lib\\threading.py:312\u001b[0m, in \u001b[0;36mCondition.wait\u001b[1;34m(self, timeout)\u001b[0m\n\u001b[0;32m    310\u001b[0m \u001b[38;5;28;01mtry\u001b[39;00m:    \u001b[38;5;66;03m# restore state no matter what (e.g., KeyboardInterrupt)\u001b[39;00m\n\u001b[0;32m    311\u001b[0m     \u001b[38;5;28;01mif\u001b[39;00m timeout \u001b[38;5;129;01mis\u001b[39;00m \u001b[38;5;28;01mNone\u001b[39;00m:\n\u001b[1;32m--> 312\u001b[0m         \u001b[43mwaiter\u001b[49m\u001b[38;5;241;43m.\u001b[39;49m\u001b[43macquire\u001b[49m\u001b[43m(\u001b[49m\u001b[43m)\u001b[49m\n\u001b[0;32m    313\u001b[0m         gotit \u001b[38;5;241m=\u001b[39m \u001b[38;5;28;01mTrue\u001b[39;00m\n\u001b[0;32m    314\u001b[0m     \u001b[38;5;28;01melse\u001b[39;00m:\n",
      "\u001b[1;31mKeyboardInterrupt\u001b[0m: "
     ]
    }
   ],
   "source": [
    "%%time\n",
    "for batch_number, i in enumerate(range(0, len(word_tf_df), batch_size)):\n",
    "    if batch_number<=1:\n",
    "        continue\n",
    "    batch_indices = word_tf_df.index[i:i + batch_size]\n",
    "    with concurrent.futures.ThreadPoolExecutor(max_workers=8) as executor:\n",
    "        future = executor.submit(process_batch, batch_indices, wd_data_1)#将整个批次的数据作为一个任务，且任务之间可能存在依赖或需要共享状态的情况。\n",
    "        results = future.result()\n",
    "        # futures = [executor.submit(process_wrapped, word) for word in batch_indices]#每个元素单独作为任务提交，每个批次的处理任务互相独立且不需要共享数据\n",
    "        # results = [future.result() for future in concurrent.futures.as_completed(futures)]\n",
    "\n",
    "        with open(f'data\\\\results_batch_{batch_number}.pkl', 'wb') as f:\n",
    "            pickle.dump(results, f)\n",
    "\n",
    "        all_results.extend(results)\n",
    "        \n",
    "    print(f'Batch {batch_number} processed.')"
   ]
  },
  {
   "cell_type": "code",
   "execution_count": null,
   "id": "3a5355fa-35a1-4a1f-b46b-05ceec82fea2",
   "metadata": {},
   "outputs": [
    {
     "name": "stdout",
     "output_type": "stream",
     "text": [
      "Batch 2 processed.Total time: 50394.33464002609 seconds.\"\n",
      "Batch 3 processed.Total time: 101070.76565217972 seconds.\"\n"
     ]
    }
   ],
   "source": [
    "%%time\n",
    "start_time = time.time()\n",
    "for batch_number, i in enumerate(range(0, len(word_tf_df), batch_size)):\n",
    "    if batch_number<=1:\n",
    "        continue\n",
    "    batch_indices = word_tf_df.index[i:i + batch_size]\n",
    "    with concurrent.futures.ThreadPoolExecutor(max_workers=8) as executor:\n",
    "        #线程切换和上下文切换会带来一定的开销\n",
    "        futures = [executor.submit(process_wrapped, word) for word in batch_indices]#每个元素单独作为任务提交，每个批次的处理任务互相独立且不需要共享数据\n",
    "        results = [future.result() for future in concurrent.futures.as_completed(futures)]#await asyncio.gather(*tasks)\n",
    "\n",
    "        with open(f'data\\\\results_batch_{batch_number}.pkl', 'wb') as f:\n",
    "            pickle.dump(results, f)\n",
    "\n",
    "        all_results.extend(results)\n",
    "\n",
    "    batch_time = time.time() - start_time\n",
    "    print(f'Batch {batch_number} processed.Total time: {batch_time} seconds.\"')#7H"
   ]
  },
  {
   "cell_type": "code",
   "execution_count": 56,
   "id": "9a7b89cf-b1bd-4029-b15d-8180806bfd36",
   "metadata": {},
   "outputs": [
    {
     "data": {
      "text/plain": [
       "((3, [150424, 1275188], 'CN202708688U'),\n",
       " (2, [481776, 481780, 481930, 1765789], 'CN106184360B'),\n",
       " 25000,\n",
       " 50000)"
      ]
     },
     "execution_count": 56,
     "metadata": {},
     "output_type": "execute_result"
    }
   ],
   "source": [
    "all_results[-1],results[-1],len(results),len(all_results)"
   ]
  },
  {
   "cell_type": "code",
   "execution_count": 64,
   "id": "7e7430d5-e824-47aa-a398-1527ce6e8f54",
   "metadata": {},
   "outputs": [
    {
     "data": {
      "text/plain": [
       "(100000, 2)"
      ]
     },
     "execution_count": 64,
     "metadata": {},
     "output_type": "execute_result"
    }
   ],
   "source": [
    "len(all_results),batch_number"
   ]
  },
  {
   "cell_type": "code",
   "execution_count": null,
   "id": "a3072fc8-9886-4a60-ae09-a6073f963088",
   "metadata": {},
   "outputs": [],
   "source": [
    "# 更新DataFrame并保存到Excel\n",
    "word_tf_df['cut_max_count'],word_tf_df['cut_max_indexs'], word_tf_df['公开（公告）号'] = zip(*all_results)\n",
    "word_tf_df.to_excel('data/patent_word_source_188_1.xlsx')"
   ]
  },
  {
   "cell_type": "code",
   "execution_count": 37,
   "id": "1876e334-6407-46f1-89ac-07bfc3248b96",
   "metadata": {},
   "outputs": [],
   "source": [
    "async def process_async(word):\n",
    "    loop = asyncio.get_event_loop()\n",
    "    return await loop.run_in_executor(None, get_max_count3, word, wd_data_1)\n",
    "    \n",
    "async def batch_thread_asyncio(batch_size=50000,next_batch=0,all_results = None,start_time=None):\n",
    "    if all_results is None:\n",
    "        all_results = []\n",
    "    if start_time is None:\n",
    "        start_time = time.time()\n",
    "        \n",
    "    total_indices = word_tf_df.index  # 获取索引列表\n",
    "\n",
    "    with concurrent.futures.ThreadPoolExecutor(max_workers=8) as executor:\n",
    "        for batch_number, i in enumerate(range(0, len(total_indices), batch_size)):\n",
    "            if next_batch and batch_number<=next_batch:\n",
    "                continue\n",
    "                \n",
    "            batch_indices = total_indices[i:i + batch_size]\n",
    "            # 创建异步任务列表\n",
    "            tasks = [process_async(word) for word in batch_indices]\n",
    "            \n",
    "            # 并发执行任务\n",
    "            results = await asyncio.gather(*tasks)\n",
    "    \n",
    "            with open(f'data/word_source_{batch_number}.pkl', 'wb') as f:\n",
    "                pickle.dump(results, f)\n",
    "    \n",
    "            all_results.extend(results)\n",
    "            \n",
    "            batch_time = time.time() - start_time\n",
    "            print(f'Batch {batch_number} processed.Total time: {batch_time} seconds.\"')\n",
    "\n",
    "    return all_results"
   ]
  },
  {
   "cell_type": "code",
   "execution_count": 38,
   "id": "e1c1f670-487a-49f5-8c33-b70a6b0bce55",
   "metadata": {},
   "outputs": [
    {
     "name": "stdout",
     "output_type": "stream",
     "text": [
      "Batch 0 processed.Total time: 49967.02609348297 seconds.\"\n",
      "Batch 1 processed.Total time: 100307.0256280899 seconds.\"\n",
      "Batch 2 processed.Total time: 150497.57412600517 seconds.\"\n",
      "Batch 3 processed.Total time: 201243.24295687675 seconds.\"\n",
      "Batch 4 processed.Total time: 251730.7387456894 seconds.\"\n",
      "Batch 5 processed.Total time: 303741.24025297165 seconds.\"\n",
      "Batch 6 processed.Total time: 356714.1301436424 seconds.\"\n",
      "Batch 7 processed.Total time: 409438.96135377884 seconds.\"\n",
      "Batch 8 processed.Total time: 460419.7144880295 seconds.\"\n",
      "Batch 9 processed.Total time: 503174.240806818 seconds.\"\n"
     ]
    }
   ],
   "source": [
    "all_results=await batch_thread_asyncio(batch_size,0,all_results)#内存频率、速度，总线带宽，IO，限制不在cpu,单机多线程没啥用，可能需要分布式分批处理"
   ]
  },
  {
   "cell_type": "code",
   "execution_count": 41,
   "id": "f4e0a9f8-4c0d-4876-b990-9a241e6f68f1",
   "metadata": {},
   "outputs": [
    {
     "data": {
      "text/plain": [
       "(491866, 491866)"
      ]
     },
     "execution_count": 41,
     "metadata": {},
     "output_type": "execute_result"
    }
   ],
   "source": [
    "len(all_results),len(word_tf_df)"
   ]
  },
  {
   "cell_type": "code",
   "execution_count": 42,
   "id": "1ddee615-f171-4cb5-ace6-35af08e48a39",
   "metadata": {},
   "outputs": [],
   "source": [
    "wo = Word2Vec.load('X:\\Downloads\\Patent\\patent_w2v_188_37.model') \n",
    "word_tf_df['w2v']=word_tf_df.index.map(lambda x:wo.wv.key_to_index.get(x,-1))"
   ]
  },
  {
   "cell_type": "code",
   "execution_count": null,
   "id": "956a91b1-d07b-40f6-a6b5-6206d00251e7",
   "metadata": {},
   "outputs": [],
   "source": [
    "results=[]\n",
    "for i in range(10):\n",
    "    with open(f'data/word_source_{i}.pkl', 'rb') as f:\n",
    "        result=pickle.load(f)\n",
    "        results+=result\n",
    "len(results)"
   ]
  },
  {
   "cell_type": "code",
   "execution_count": 44,
   "id": "5e97f63f-dd40-480c-a0b5-1ccfa9b2ce12",
   "metadata": {},
   "outputs": [
    {
     "data": {
      "text/plain": [
       "cut_max_count     491866\n",
       "cut_max_indexs    491866\n",
       "公开（公告）号           491866\n",
       "词语                491866\n",
       "dtype: int64"
      ]
     },
     "execution_count": 44,
     "metadata": {},
     "output_type": "execute_result"
    }
   ],
   "source": [
    "df_res=pd.DataFrame(all_results,columns=['cut_max_count','cut_max_indexs','公开（公告）号','词语'])\n",
    "df_res.count()"
   ]
  },
  {
   "cell_type": "code",
   "execution_count": 89,
   "id": "2a083686-5322-4767-b6e9-9b9a9959bf7b",
   "metadata": {},
   "outputs": [
    {
     "data": {
      "text/plain": [
       "(491866, 9)"
      ]
     },
     "execution_count": 89,
     "metadata": {},
     "output_type": "execute_result"
    }
   ],
   "source": [
    "word_tf_df_sc=pd.merge(word_tf_df,df_res,on='词语',how='right')\n",
    "word_tf_df_sc.shape"
   ]
  },
  {
   "cell_type": "code",
   "execution_count": 52,
   "id": "33fd3093-4e1f-494b-82ba-1486afc64505",
   "metadata": {},
   "outputs": [
    {
     "data": {
      "text/plain": [
       "(491866, 15)"
      ]
     },
     "execution_count": 52,
     "metadata": {},
     "output_type": "execute_result"
    }
   ],
   "source": [
    "word_tf_df_sc_1=pd.merge(word_tf_df_sc,wd_data_1.drop(columns='词语'),on='公开（公告）号',how='left')\n",
    "word_tf_df_sc_1.shape"
   ]
  },
  {
   "cell_type": "code",
   "execution_count": 53,
   "id": "f7e8bb5e-c1ff-465c-8c36-3dbda7ac28c1",
   "metadata": {},
   "outputs": [
    {
     "data": {
      "text/plain": [
       "Index(['词语', 'tf', 'df', 'flag', 'baidu', 'w2v', 'cut_max_count',\n",
       "       'cut_max_indexs', '公开（公告）号', '序号', 'counter', '标题 (中文)', '摘要 (中文)',\n",
       "       '申请号', 'table'],\n",
       "      dtype='object')"
      ]
     },
     "execution_count": 53,
     "metadata": {},
     "output_type": "execute_result"
    }
   ],
   "source": [
    "word_tf_df_sc_1.columns"
   ]
  },
  {
   "cell_type": "code",
   "execution_count": 54,
   "id": "270b1e83-d5df-46f0-88e6-4e33b2a356aa",
   "metadata": {},
   "outputs": [
    {
     "data": {
      "text/html": [
       "<div>\n",
       "<style scoped>\n",
       "    .dataframe tbody tr th:only-of-type {\n",
       "        vertical-align: middle;\n",
       "    }\n",
       "\n",
       "    .dataframe tbody tr th {\n",
       "        vertical-align: top;\n",
       "    }\n",
       "\n",
       "    .dataframe thead th {\n",
       "        text-align: right;\n",
       "    }\n",
       "</style>\n",
       "<table border=\"1\" class=\"dataframe\">\n",
       "  <thead>\n",
       "    <tr style=\"text-align: right;\">\n",
       "      <th></th>\n",
       "      <th>word</th>\n",
       "      <th>tf</th>\n",
       "      <th>df</th>\n",
       "      <th>w2v</th>\n",
       "      <th>flag</th>\n",
       "      <th>baidu</th>\n",
       "      <th>cmc</th>\n",
       "      <th>publication_number</th>\n",
       "      <th>application_number</th>\n",
       "      <th>index</th>\n",
       "      <th>patent_title</th>\n",
       "      <th>table_name</th>\n",
       "    </tr>\n",
       "  </thead>\n",
       "  <tbody>\n",
       "    <tr>\n",
       "      <th>198067</th>\n",
       "      <td>老厂</td>\n",
       "      <td>5</td>\n",
       "      <td>5</td>\n",
       "      <td>196601</td>\n",
       "      <td>n</td>\n",
       "      <td>NaN</td>\n",
       "      <td>1</td>\n",
       "      <td>CN1050661C</td>\n",
       "      <td>CN93117175.X</td>\n",
       "      <td>123</td>\n",
       "      <td>竖式烧结矿冷却机</td>\n",
       "      <td>patent202210</td>\n",
       "    </tr>\n",
       "    <tr>\n",
       "      <th>237445</th>\n",
       "      <td>轻垢</td>\n",
       "      <td>3</td>\n",
       "      <td>2</td>\n",
       "      <td>238683</td>\n",
       "      <td>a,ng</td>\n",
       "      <td>NaN</td>\n",
       "      <td>2</td>\n",
       "      <td>CN1094440A</td>\n",
       "      <td>CN94110539.3</td>\n",
       "      <td>142</td>\n",
       "      <td>具有抗静电性的轻垢液体洗衣洗涤剂</td>\n",
       "      <td>patent202210</td>\n",
       "    </tr>\n",
       "    <tr>\n",
       "      <th>345453</th>\n",
       "      <td>抗静</td>\n",
       "      <td>2</td>\n",
       "      <td>2</td>\n",
       "      <td>297398</td>\n",
       "      <td>nz</td>\n",
       "      <td>NaN</td>\n",
       "      <td>1</td>\n",
       "      <td>CN1094440A</td>\n",
       "      <td>CN94110539.3</td>\n",
       "      <td>142</td>\n",
       "      <td>具有抗静电性的轻垢液体洗衣洗涤剂</td>\n",
       "      <td>patent202210</td>\n",
       "    </tr>\n",
       "    <tr>\n",
       "      <th>211555</th>\n",
       "      <td>胃溶片</td>\n",
       "      <td>4</td>\n",
       "      <td>1</td>\n",
       "      <td>222463</td>\n",
       "      <td>n</td>\n",
       "      <td>NaN</td>\n",
       "      <td>4</td>\n",
       "      <td>CN1104887A</td>\n",
       "      <td>CN94110662.4</td>\n",
       "      <td>154</td>\n",
       "      <td>麦白霉素胃溶片的生产工艺技术</td>\n",
       "      <td>patent202210</td>\n",
       "    </tr>\n",
       "    <tr>\n",
       "      <th>211559</th>\n",
       "      <td>麦白</td>\n",
       "      <td>4</td>\n",
       "      <td>1</td>\n",
       "      <td>222462</td>\n",
       "      <td>nr</td>\n",
       "      <td>NaN</td>\n",
       "      <td>4</td>\n",
       "      <td>CN1104887A</td>\n",
       "      <td>CN94110662.4</td>\n",
       "      <td>154</td>\n",
       "      <td>麦白霉素胃溶片的生产工艺技术</td>\n",
       "      <td>patent202210</td>\n",
       "    </tr>\n",
       "  </tbody>\n",
       "</table>\n",
       "</div>"
      ],
      "text/plain": [
       "       word  tf  df     w2v  flag baidu  cmc publication_number  \\\n",
       "198067   老厂   5   5  196601     n   NaN    1         CN1050661C   \n",
       "237445   轻垢   3   2  238683  a,ng   NaN    2         CN1094440A   \n",
       "345453   抗静   2   2  297398    nz   NaN    1         CN1094440A   \n",
       "211555  胃溶片   4   1  222463     n   NaN    4         CN1104887A   \n",
       "211559   麦白   4   1  222462    nr   NaN    4         CN1104887A   \n",
       "\n",
       "       application_number  index      patent_title    table_name  \n",
       "198067       CN93117175.X    123          竖式烧结矿冷却机  patent202210  \n",
       "237445       CN94110539.3    142  具有抗静电性的轻垢液体洗衣洗涤剂  patent202210  \n",
       "345453       CN94110539.3    142  具有抗静电性的轻垢液体洗衣洗涤剂  patent202210  \n",
       "211555       CN94110662.4    154    麦白霉素胃溶片的生产工艺技术  patent202210  \n",
       "211559       CN94110662.4    154    麦白霉素胃溶片的生产工艺技术  patent202210  "
      ]
     },
     "execution_count": 54,
     "metadata": {},
     "output_type": "execute_result"
    }
   ],
   "source": [
    "word_tf_df_sc_2=word_tf_df_sc_1[['词语','tf', 'df', 'w2v','flag', 'baidu', \n",
    "                               'cut_max_count', '公开（公告）号','申请号','序号','标题 (中文)','table']].sort_values(['序号','cut_max_count','tf'],ascending=[True,False,False])\n",
    "word_tf_df_sc_2.rename(columns={'词语':'word',\n",
    "                            'cut_max_count':'cmc',\n",
    "                            '公开（公告）号':'publication_number',\n",
    "                            '申请号':'application_number',\n",
    "                            '序号':'index',\n",
    "                            '标题 (中文)':'patent_title',\n",
    "                            'table':'table_name'},inplace=True)\n",
    "word_tf_df_sc_2.head()"
   ]
  },
  {
   "cell_type": "code",
   "execution_count": 56,
   "id": "9ee47a5d-35d1-40d1-ab04-65cbde378e8d",
   "metadata": {},
   "outputs": [
    {
     "data": {
      "text/html": [
       "<div>\n",
       "<style scoped>\n",
       "    .dataframe tbody tr th:only-of-type {\n",
       "        vertical-align: middle;\n",
       "    }\n",
       "\n",
       "    .dataframe tbody tr th {\n",
       "        vertical-align: top;\n",
       "    }\n",
       "\n",
       "    .dataframe thead th {\n",
       "        text-align: right;\n",
       "    }\n",
       "</style>\n",
       "<table border=\"1\" class=\"dataframe\">\n",
       "  <thead>\n",
       "    <tr style=\"text-align: right;\">\n",
       "      <th></th>\n",
       "      <th>tf</th>\n",
       "      <th>df</th>\n",
       "      <th>w2v</th>\n",
       "      <th>cmc</th>\n",
       "      <th>index</th>\n",
       "    </tr>\n",
       "  </thead>\n",
       "  <tbody>\n",
       "    <tr>\n",
       "      <th>count</th>\n",
       "      <td>4.918660e+05</td>\n",
       "      <td>4.918660e+05</td>\n",
       "      <td>491866.000000</td>\n",
       "      <td>491866.000000</td>\n",
       "      <td>4.918660e+05</td>\n",
       "    </tr>\n",
       "    <tr>\n",
       "      <th>mean</th>\n",
       "      <td>3.236199e+02</td>\n",
       "      <td>1.566828e+02</td>\n",
       "      <td>138712.811262</td>\n",
       "      <td>2.995641</td>\n",
       "      <td>1.384984e+06</td>\n",
       "    </tr>\n",
       "    <tr>\n",
       "      <th>std</th>\n",
       "      <td>1.209880e+04</td>\n",
       "      <td>5.333996e+03</td>\n",
       "      <td>122144.515329</td>\n",
       "      <td>3.826613</td>\n",
       "      <td>8.236123e+05</td>\n",
       "    </tr>\n",
       "    <tr>\n",
       "      <th>min</th>\n",
       "      <td>1.000000e+00</td>\n",
       "      <td>1.000000e+00</td>\n",
       "      <td>-1.000000</td>\n",
       "      <td>1.000000</td>\n",
       "      <td>1.230000e+02</td>\n",
       "    </tr>\n",
       "    <tr>\n",
       "      <th>25%</th>\n",
       "      <td>2.000000e+00</td>\n",
       "      <td>1.000000e+00</td>\n",
       "      <td>499.250000</td>\n",
       "      <td>1.000000</td>\n",
       "      <td>6.792718e+05</td>\n",
       "    </tr>\n",
       "    <tr>\n",
       "      <th>50%</th>\n",
       "      <td>3.000000e+00</td>\n",
       "      <td>2.000000e+00</td>\n",
       "      <td>123467.500000</td>\n",
       "      <td>2.000000</td>\n",
       "      <td>1.367876e+06</td>\n",
       "    </tr>\n",
       "    <tr>\n",
       "      <th>75%</th>\n",
       "      <td>1.100000e+01</td>\n",
       "      <td>6.000000e+00</td>\n",
       "      <td>246433.750000</td>\n",
       "      <td>3.000000</td>\n",
       "      <td>2.114815e+06</td>\n",
       "    </tr>\n",
       "    <tr>\n",
       "      <th>max</th>\n",
       "      <td>4.465309e+06</td>\n",
       "      <td>1.657660e+06</td>\n",
       "      <td>369400.000000</td>\n",
       "      <td>592.000000</td>\n",
       "      <td>2.781347e+06</td>\n",
       "    </tr>\n",
       "  </tbody>\n",
       "</table>\n",
       "</div>"
      ],
      "text/plain": [
       "                 tf            df            w2v            cmc         index\n",
       "count  4.918660e+05  4.918660e+05  491866.000000  491866.000000  4.918660e+05\n",
       "mean   3.236199e+02  1.566828e+02  138712.811262       2.995641  1.384984e+06\n",
       "std    1.209880e+04  5.333996e+03  122144.515329       3.826613  8.236123e+05\n",
       "min    1.000000e+00  1.000000e+00      -1.000000       1.000000  1.230000e+02\n",
       "25%    2.000000e+00  1.000000e+00     499.250000       1.000000  6.792718e+05\n",
       "50%    3.000000e+00  2.000000e+00  123467.500000       2.000000  1.367876e+06\n",
       "75%    1.100000e+01  6.000000e+00  246433.750000       3.000000  2.114815e+06\n",
       "max    4.465309e+06  1.657660e+06  369400.000000     592.000000  2.781347e+06"
      ]
     },
     "execution_count": 56,
     "metadata": {},
     "output_type": "execute_result"
    }
   ],
   "source": [
    "word_tf_df_sc_2.describe()"
   ]
  },
  {
   "cell_type": "code",
   "execution_count": 55,
   "id": "83a2199b-31df-4ab8-b86b-128152a22220",
   "metadata": {},
   "outputs": [],
   "source": [
    "word_tf_df_sc_2.to_excel('data\\\\word_tf_df_sc.xlsx')"
   ]
  },
  {
   "cell_type": "code",
   "execution_count": 57,
   "id": "b8f3cf04-ef87-4921-a3fb-f4eb2b3451a2",
   "metadata": {},
   "outputs": [
    {
     "data": {
      "text/plain": [
       "83"
      ]
     },
     "execution_count": 57,
     "metadata": {},
     "output_type": "execute_result"
    }
   ],
   "source": [
    "word_tf_df_sc_2['patent_title'].str.len().max()"
   ]
  },
  {
   "cell_type": "code",
   "execution_count": 66,
   "id": "7dda94be-800f-49bf-866a-ca1c8eaaca1d",
   "metadata": {},
   "outputs": [
    {
     "data": {
      "text/plain": [
       "(1008245, 1884186)"
      ]
     },
     "execution_count": 66,
     "metadata": {},
     "output_type": "execute_result"
    }
   ],
   "source": [
    "word_tf_df_sc['cut_max_indexs'].explode().count(),wd_data_1.shape[0]"
   ]
  },
  {
   "cell_type": "code",
   "execution_count": 67,
   "id": "f88a4a2b-c3b3-4774-b8b4-2ce7905058d1",
   "metadata": {},
   "outputs": [
    {
     "data": {
      "text/plain": [
       "654193"
      ]
     },
     "execution_count": 67,
     "metadata": {},
     "output_type": "execute_result"
    }
   ],
   "source": [
    "word_tf_df_sc['cut_max_indexs'].explode().nunique()"
   ]
  },
  {
   "cell_type": "code",
   "execution_count": 68,
   "id": "7ac00d80-bf63-4261-ac8b-c79a78a66403",
   "metadata": {},
   "outputs": [
    {
     "data": {
      "text/plain": [
       "0.34720192167864533"
      ]
     },
     "execution_count": 68,
     "metadata": {},
     "output_type": "execute_result"
    }
   ],
   "source": [
    "654193/1884186"
   ]
  },
  {
   "cell_type": "code",
   "execution_count": 71,
   "id": "442dd15f-319c-4ac6-9d0b-febaaffe16e0",
   "metadata": {},
   "outputs": [
    {
     "data": {
      "text/plain": [
       "1845132    本公开提供一种电池放电去壳装置(10)，包括：机体(100)；第一输送机构(200)，包括上...\n",
       "Name: 摘要 (中文), dtype: object"
      ]
     },
     "execution_count": 71,
     "metadata": {},
     "output_type": "execute_result"
    }
   ],
   "source": [
    "wd_data_1['摘要 (中文)'].iloc[word_tf_df_sc['cut_max_indexs'].iloc[0]]"
   ]
  },
  {
   "cell_type": "code",
   "execution_count": 85,
   "id": "3f8b1d3c-3850-4b50-8fa9-ab16453086d3",
   "metadata": {},
   "outputs": [
    {
     "data": {
      "text/plain": [
       "0"
      ]
     },
     "execution_count": 85,
     "metadata": {},
     "output_type": "execute_result"
    }
   ],
   "source": [
    "wd_data_1['摘要 (中文)'].isna().sum()"
   ]
  },
  {
   "cell_type": "code",
   "execution_count": 96,
   "id": "ecfdcd48-ee8c-4a53-9550-1fa766dae5a7",
   "metadata": {},
   "outputs": [
    {
     "data": {
      "text/plain": [
       "(41, 'CN117461187A')"
      ]
     },
     "execution_count": 96,
     "metadata": {},
     "output_type": "execute_result"
    }
   ],
   "source": [
    "def get_max_count_doc(row,data):\n",
    "    max_value=row['cut_max_count']\n",
    "    cut_max_indexs=row['cut_max_indexs']\n",
    "    if len(cut_max_indexs)>1:\n",
    "        word=row['词语']\n",
    "        doc=data.iloc[cut_max_indexs]['摘要 (中文)'].str.lower()\n",
    "        try:\n",
    "            s2 = doc.str.count(word)\n",
    "            max_index = s2.idxmax()\n",
    "            max_value = s2[max_index]\n",
    "            return max_value,data.iloc[max_index]['公开（公告）号']\n",
    "        except:\n",
    "            print(word,doc)\n",
    "            pass\n",
    "\n",
    "    return max_value,row['公开（公告）号']\n",
    "    \n",
    "get_max_count_doc(word_tf_df_sc.iloc[0],wd_data_1)"
   ]
  },
  {
   "cell_type": "code",
   "execution_count": 90,
   "id": "1d6a0b27-3ecf-4504-be43-9c981c494d8c",
   "metadata": {},
   "outputs": [
    {
     "data": {
      "text/html": [
       "<div>\n",
       "<style scoped>\n",
       "    .dataframe tbody tr th:only-of-type {\n",
       "        vertical-align: middle;\n",
       "    }\n",
       "\n",
       "    .dataframe tbody tr th {\n",
       "        vertical-align: top;\n",
       "    }\n",
       "\n",
       "    .dataframe thead th {\n",
       "        text-align: right;\n",
       "    }\n",
       "</style>\n",
       "<table border=\"1\" class=\"dataframe\">\n",
       "  <thead>\n",
       "    <tr style=\"text-align: right;\">\n",
       "      <th></th>\n",
       "      <th>词语</th>\n",
       "      <th>tf</th>\n",
       "      <th>df</th>\n",
       "      <th>flag</th>\n",
       "      <th>baidu</th>\n",
       "      <th>w2v</th>\n",
       "      <th>cut_max_count</th>\n",
       "      <th>cut_max_indexs</th>\n",
       "      <th>公开（公告）号</th>\n",
       "      <th>dmc</th>\n",
       "    </tr>\n",
       "  </thead>\n",
       "  <tbody>\n",
       "    <tr>\n",
       "      <th>0</th>\n",
       "      <td>所述</td>\n",
       "      <td>4465309</td>\n",
       "      <td>835740</td>\n",
       "      <td>b</td>\n",
       "      <td>NaN</td>\n",
       "      <td>0</td>\n",
       "      <td>41</td>\n",
       "      <td>[1845132]</td>\n",
       "      <td>CN117461187A</td>\n",
       "      <td>41</td>\n",
       "    </tr>\n",
       "    <tr>\n",
       "      <th>1</th>\n",
       "      <td>一种</td>\n",
       "      <td>2814621</td>\n",
       "      <td>1657660</td>\n",
       "      <td>m</td>\n",
       "      <td>NaN</td>\n",
       "      <td>1</td>\n",
       "      <td>16</td>\n",
       "      <td>[1435880]</td>\n",
       "      <td>CN307740472S</td>\n",
       "      <td>16</td>\n",
       "    </tr>\n",
       "    <tr>\n",
       "      <th>2</th>\n",
       "      <td>包括</td>\n",
       "      <td>2306033</td>\n",
       "      <td>1479550</td>\n",
       "      <td>v</td>\n",
       "      <td>农业</td>\n",
       "      <td>2</td>\n",
       "      <td>75</td>\n",
       "      <td>[1116638]</td>\n",
       "      <td>CN306503301S</td>\n",
       "      <td>75</td>\n",
       "    </tr>\n",
       "    <tr>\n",
       "      <th>3</th>\n",
       "      <td>装置</td>\n",
       "      <td>1932329</td>\n",
       "      <td>624552</td>\n",
       "      <td>n</td>\n",
       "      <td>化工,机械工程</td>\n",
       "      <td>3</td>\n",
       "      <td>30</td>\n",
       "      <td>[828191, 1392092, 1704504]</td>\n",
       "      <td>CN209651830U</td>\n",
       "      <td>30</td>\n",
       "    </tr>\n",
       "    <tr>\n",
       "      <th>4</th>\n",
       "      <td>第一</td>\n",
       "      <td>1820352</td>\n",
       "      <td>458803</td>\n",
       "      <td>m</td>\n",
       "      <td>政治</td>\n",
       "      <td>4</td>\n",
       "      <td>35</td>\n",
       "      <td>[493736]</td>\n",
       "      <td>CN206482322U</td>\n",
       "      <td>35</td>\n",
       "    </tr>\n",
       "    <tr>\n",
       "      <th>...</th>\n",
       "      <td>...</td>\n",
       "      <td>...</td>\n",
       "      <td>...</td>\n",
       "      <td>...</td>\n",
       "      <td>...</td>\n",
       "      <td>...</td>\n",
       "      <td>...</td>\n",
       "      <td>...</td>\n",
       "      <td>...</td>\n",
       "      <td>...</td>\n",
       "    </tr>\n",
       "    <tr>\n",
       "      <th>95</th>\n",
       "      <td>相对</td>\n",
       "      <td>191223</td>\n",
       "      <td>143355</td>\n",
       "      <td>d</td>\n",
       "      <td>NaN</td>\n",
       "      <td>95</td>\n",
       "      <td>16</td>\n",
       "      <td>[570732]</td>\n",
       "      <td>CN107328875A</td>\n",
       "      <td>16</td>\n",
       "    </tr>\n",
       "    <tr>\n",
       "      <th>96</th>\n",
       "      <td>预设</td>\n",
       "      <td>190623</td>\n",
       "      <td>102381</td>\n",
       "      <td>vn</td>\n",
       "      <td>NaN</td>\n",
       "      <td>96</td>\n",
       "      <td>23</td>\n",
       "      <td>[1350204]</td>\n",
       "      <td>CN306985034S</td>\n",
       "      <td>23</td>\n",
       "    </tr>\n",
       "    <tr>\n",
       "      <th>97</th>\n",
       "      <td>生产</td>\n",
       "      <td>190150</td>\n",
       "      <td>116788</td>\n",
       "      <td>vn</td>\n",
       "      <td>NaN</td>\n",
       "      <td>97</td>\n",
       "      <td>25</td>\n",
       "      <td>[1543988]</td>\n",
       "      <td>CN114676965A</td>\n",
       "      <td>25</td>\n",
       "    </tr>\n",
       "    <tr>\n",
       "      <th>98</th>\n",
       "      <td>简单</td>\n",
       "      <td>189592</td>\n",
       "      <td>179980</td>\n",
       "      <td>a</td>\n",
       "      <td>NaN</td>\n",
       "      <td>98</td>\n",
       "      <td>11</td>\n",
       "      <td>[37849, 37870]</td>\n",
       "      <td>CN101588346B</td>\n",
       "      <td>10</td>\n",
       "    </tr>\n",
       "    <tr>\n",
       "      <th>99</th>\n",
       "      <td>效果</td>\n",
       "      <td>188328</td>\n",
       "      <td>160728</td>\n",
       "      <td>n</td>\n",
       "      <td>NaN</td>\n",
       "      <td>99</td>\n",
       "      <td>20</td>\n",
       "      <td>[1740832]</td>\n",
       "      <td>CN219120399U</td>\n",
       "      <td>20</td>\n",
       "    </tr>\n",
       "  </tbody>\n",
       "</table>\n",
       "<p>100 rows × 10 columns</p>\n",
       "</div>"
      ],
      "text/plain": [
       "    词语       tf       df flag    baidu  w2v  cut_max_count  \\\n",
       "0   所述  4465309   835740    b      NaN    0             41   \n",
       "1   一种  2814621  1657660    m      NaN    1             16   \n",
       "2   包括  2306033  1479550    v       农业    2             75   \n",
       "3   装置  1932329   624552    n  化工,机械工程    3             30   \n",
       "4   第一  1820352   458803    m       政治    4             35   \n",
       "..  ..      ...      ...  ...      ...  ...            ...   \n",
       "95  相对   191223   143355    d      NaN   95             16   \n",
       "96  预设   190623   102381   vn      NaN   96             23   \n",
       "97  生产   190150   116788   vn      NaN   97             25   \n",
       "98  简单   189592   179980    a      NaN   98             11   \n",
       "99  效果   188328   160728    n      NaN   99             20   \n",
       "\n",
       "                cut_max_indexs       公开（公告）号  dmc  \n",
       "0                    [1845132]  CN117461187A   41  \n",
       "1                    [1435880]  CN307740472S   16  \n",
       "2                    [1116638]  CN306503301S   75  \n",
       "3   [828191, 1392092, 1704504]  CN209651830U   30  \n",
       "4                     [493736]  CN206482322U   35  \n",
       "..                         ...           ...  ...  \n",
       "95                    [570732]  CN107328875A   16  \n",
       "96                   [1350204]  CN306985034S   23  \n",
       "97                   [1543988]  CN114676965A   25  \n",
       "98              [37849, 37870]  CN101588346B   10  \n",
       "99                   [1740832]  CN219120399U   20  \n",
       "\n",
       "[100 rows x 10 columns]"
      ]
     },
     "execution_count": 90,
     "metadata": {},
     "output_type": "execute_result"
    }
   ],
   "source": [
    "tmp=word_tf_df_sc.iloc[:100].copy()\n",
    "tmp['dmc'],tmp['公开（公告）号']=zip(*tmp.apply(lambda x:get_max_count_doc(x,wd_data_1),axis=1))\n",
    "tmp"
   ]
  },
  {
   "cell_type": "code",
   "execution_count": 97,
   "id": "5e36baf9-84e4-47cf-b117-508fea488050",
   "metadata": {},
   "outputs": [
    {
     "name": "stdout",
     "output_type": "stream",
     "text": [
      "+% 1058327    本发明公开了一种超低温高心部冲击大厚度13mnni6‑3容器钢生产方法，涉及钢铁冶炼技术领域...\n",
      "1058328    本发明公开了一种超低温高强度13mnni6‑3容器钢生产方法，涉及钢铁冶炼技术领域，根据en...\n",
      "Name: 摘要 (中文), dtype: object\n",
      "+...+ 422976     本发明公开了一种家用搅拌棒的使用方法，所述使用方法包括以下两种方式中的一种：第一种方式：控制...\n",
      "423011     本发明公开了一种家用搅拌棒的使用方法，所述使用方法包括以下两种方式中的一种：第一种方式：控制...\n",
      "1868463    本发明提供的一种智能床及智能床自适应系统调节方法，智能床包括若干气囊以及压力毯，若干气囊设于...\n",
      "Name: 摘要 (中文), dtype: object\n",
      "+.... 1339366    本发明涉及基于机器视觉的生产节拍计算方法。包括摄像头以及与所述摄像头连接的边缘计算盒子，在生...\n",
      "1339374    本发明涉及基于机器视觉的生产节拍计算方法。包括摄像头以及与所述摄像头连接的边缘计算盒子，在生...\n",
      "Name: 摘要 (中文), dtype: object\n",
      "+++ 1518126    本发明涉及一种聚氨酯涂料组合体系，包括重量份数比为100：(5～30)：(70～100)的组...\n",
      "1878733    本发明涉及一种正极活性材料及其制备方法和应用。所述正极活性材料的化学式为li1+anaxpy...\n",
      "Name: 摘要 (中文), dtype: object\n",
      "CPU times: total: 3min 43s\n",
      "Wall time: 3min 43s\n"
     ]
    }
   ],
   "source": [
    "%%time\n",
    "word_tf_df_sc['dmc'],word_tf_df_sc['公开（公告）号']=zip(*word_tf_df_sc.apply(lambda x:get_max_count_doc(x,wd_data_1),axis=1))"
   ]
  },
  {
   "cell_type": "code",
   "execution_count": 98,
   "id": "5766c869-8851-414a-a21f-46be32a984ef",
   "metadata": {},
   "outputs": [],
   "source": [
    "word_tf_df_sc_1=pd.merge(word_tf_df_sc,wd_data_1.drop(columns='词语'),on='公开（公告）号',how='left')\n",
    "word_tf_df_sc_2=word_tf_df_sc_1[['词语','tf', 'df', 'w2v','flag', 'baidu', \n",
    "                               'cut_max_count', 'dmc','公开（公告）号','申请号','序号','标题 (中文)','table']].sort_values(['序号','dmc','cut_max_count','tf'],ascending=[True,False,False,False])\n",
    "word_tf_df_sc_2.rename(columns={'词语':'word',\n",
    "                            'cut_max_count':'cmc',\n",
    "                            '公开（公告）号':'publication_number',\n",
    "                            '申请号':'application_number',\n",
    "                            '序号':'index',\n",
    "                            '标题 (中文)':'patent_title',\n",
    "                            'table':'table_name'},inplace=True)"
   ]
  },
  {
   "cell_type": "code",
   "execution_count": 107,
   "id": "e410cf6b-8073-4b49-9848-1006979919ee",
   "metadata": {},
   "outputs": [
    {
     "data": {
      "text/plain": [
       "(491866, 13)"
      ]
     },
     "execution_count": 107,
     "metadata": {},
     "output_type": "execute_result"
    }
   ],
   "source": [
    "word_tf_df_sc_2.shape"
   ]
  },
  {
   "cell_type": "code",
   "execution_count": 102,
   "id": "49240e5d-5d8f-4833-a504-732f957ee7f0",
   "metadata": {},
   "outputs": [
    {
     "data": {
      "text/plain": [
       "54986"
      ]
     },
     "execution_count": 102,
     "metadata": {},
     "output_type": "execute_result"
    }
   ],
   "source": [
    "(word_tf_df_sc_2['cmc']!=word_tf_df_sc_2['dmc']).sum()"
   ]
  },
  {
   "cell_type": "code",
   "execution_count": 104,
   "id": "849e293d-5f91-41b9-8ae0-e5eb4a479389",
   "metadata": {},
   "outputs": [
    {
     "data": {
      "text/plain": [
       "24742"
      ]
     },
     "execution_count": 104,
     "metadata": {},
     "output_type": "execute_result"
    }
   ],
   "source": [
    "(word_tf_df_sc_2['cmc']<word_tf_df_sc_2['dmc']).sum()"
   ]
  },
  {
   "cell_type": "code",
   "execution_count": 106,
   "id": "a914d985-c62d-48cd-891d-596e98b9fd88",
   "metadata": {},
   "outputs": [
    {
     "data": {
      "text/html": [
       "<div>\n",
       "<style scoped>\n",
       "    .dataframe tbody tr th:only-of-type {\n",
       "        vertical-align: middle;\n",
       "    }\n",
       "\n",
       "    .dataframe tbody tr th {\n",
       "        vertical-align: top;\n",
       "    }\n",
       "\n",
       "    .dataframe thead th {\n",
       "        text-align: right;\n",
       "    }\n",
       "</style>\n",
       "<table border=\"1\" class=\"dataframe\">\n",
       "  <thead>\n",
       "    <tr style=\"text-align: right;\">\n",
       "      <th></th>\n",
       "      <th>word</th>\n",
       "      <th>tf</th>\n",
       "      <th>df</th>\n",
       "      <th>w2v</th>\n",
       "      <th>flag</th>\n",
       "      <th>baidu</th>\n",
       "      <th>cmc</th>\n",
       "      <th>dmc</th>\n",
       "      <th>publication_number</th>\n",
       "      <th>application_number</th>\n",
       "      <th>index</th>\n",
       "      <th>patent_title</th>\n",
       "      <th>table_name</th>\n",
       "    </tr>\n",
       "  </thead>\n",
       "  <tbody>\n",
       "    <tr>\n",
       "      <th>73439</th>\n",
       "      <td>田七</td>\n",
       "      <td>30</td>\n",
       "      <td>14</td>\n",
       "      <td>73453</td>\n",
       "      <td>nr</td>\n",
       "      <td>NaN</td>\n",
       "      <td>4</td>\n",
       "      <td>3</td>\n",
       "      <td>CN1067893C</td>\n",
       "      <td>CN97119709.1</td>\n",
       "      <td>1306</td>\n",
       "      <td>无蔗糖型田七花精及其制法</td>\n",
       "      <td>patent202210</td>\n",
       "    </tr>\n",
       "    <tr>\n",
       "      <th>152774</th>\n",
       "      <td>花精</td>\n",
       "      <td>8</td>\n",
       "      <td>2</td>\n",
       "      <td>152510</td>\n",
       "      <td>n</td>\n",
       "      <td>NaN</td>\n",
       "      <td>4</td>\n",
       "      <td>3</td>\n",
       "      <td>CN1067893C</td>\n",
       "      <td>CN97119709.1</td>\n",
       "      <td>1306</td>\n",
       "      <td>无蔗糖型田七花精及其制法</td>\n",
       "      <td>patent202210</td>\n",
       "    </tr>\n",
       "    <tr>\n",
       "      <th>70486</th>\n",
       "      <td>环用</td>\n",
       "      <td>33</td>\n",
       "      <td>22</td>\n",
       "      <td>69777</td>\n",
       "      <td>n</td>\n",
       "      <td>NaN</td>\n",
       "      <td>3</td>\n",
       "      <td>2</td>\n",
       "      <td>CN2356811Y</td>\n",
       "      <td>CN99202374.2</td>\n",
       "      <td>2315</td>\n",
       "      <td>一种拆卸辊环用装置</td>\n",
       "      <td>patent202404</td>\n",
       "    </tr>\n",
       "    <tr>\n",
       "      <th>123670</th>\n",
       "      <td>蚕沙</td>\n",
       "      <td>11</td>\n",
       "      <td>7</td>\n",
       "      <td>127285</td>\n",
       "      <td>n</td>\n",
       "      <td>NaN</td>\n",
       "      <td>3</td>\n",
       "      <td>2</td>\n",
       "      <td>CN1152692C</td>\n",
       "      <td>CN99109111.6</td>\n",
       "      <td>2801</td>\n",
       "      <td>蚕沙提取方法、提取物及其用途</td>\n",
       "      <td>patent202210</td>\n",
       "    </tr>\n",
       "    <tr>\n",
       "      <th>153262</th>\n",
       "      <td>节状</td>\n",
       "      <td>8</td>\n",
       "      <td>5</td>\n",
       "      <td>151772</td>\n",
       "      <td>n</td>\n",
       "      <td>NaN</td>\n",
       "      <td>2</td>\n",
       "      <td>1</td>\n",
       "      <td>CN2384905Y</td>\n",
       "      <td>CN99218076.7</td>\n",
       "      <td>2971</td>\n",
       "      <td>一种电池用条形节状包装袋</td>\n",
       "      <td>patent202404</td>\n",
       "    </tr>\n",
       "    <tr>\n",
       "      <th>...</th>\n",
       "      <td>...</td>\n",
       "      <td>...</td>\n",
       "      <td>...</td>\n",
       "      <td>...</td>\n",
       "      <td>...</td>\n",
       "      <td>...</td>\n",
       "      <td>...</td>\n",
       "      <td>...</td>\n",
       "      <td>...</td>\n",
       "      <td>...</td>\n",
       "      <td>...</td>\n",
       "      <td>...</td>\n",
       "      <td>...</td>\n",
       "    </tr>\n",
       "    <tr>\n",
       "      <th>134543</th>\n",
       "      <td>正背</td>\n",
       "      <td>10</td>\n",
       "      <td>6</td>\n",
       "      <td>134300</td>\n",
       "      <td>d,v</td>\n",
       "      <td>NaN</td>\n",
       "      <td>3</td>\n",
       "      <td>2</td>\n",
       "      <td>CN117584641B</td>\n",
       "      <td>CN202410079536.0</td>\n",
       "      <td>2779648</td>\n",
       "      <td>一种高速轮转喷墨印刷机正背套印精度的控制方法和装置</td>\n",
       "      <td>patent202404</td>\n",
       "    </tr>\n",
       "    <tr>\n",
       "      <th>164414</th>\n",
       "      <td>舟端片</td>\n",
       "      <td>6</td>\n",
       "      <td>3</td>\n",
       "      <td>165967</td>\n",
       "      <td>n,v,q</td>\n",
       "      <td>NaN</td>\n",
       "      <td>2</td>\n",
       "      <td>1</td>\n",
       "      <td>CN117583813B</td>\n",
       "      <td>CN202410076778.4</td>\n",
       "      <td>2779658</td>\n",
       "      <td>一种卧式舟端片总成焊接装置及其加工方法</td>\n",
       "      <td>patent202404</td>\n",
       "    </tr>\n",
       "    <tr>\n",
       "      <th>65029</th>\n",
       "      <td>颜色混合</td>\n",
       "      <td>38</td>\n",
       "      <td>24</td>\n",
       "      <td>65150</td>\n",
       "      <td>nr</td>\n",
       "      <td>NaN</td>\n",
       "      <td>4</td>\n",
       "      <td>3</td>\n",
       "      <td>CN117615481A</td>\n",
       "      <td>CN202410096906.1</td>\n",
       "      <td>2779963</td>\n",
       "      <td>自适应温度对色坐标影响的动态校正颜色混合系统及方法</td>\n",
       "      <td>patent202404</td>\n",
       "    </tr>\n",
       "    <tr>\n",
       "      <th>93110</th>\n",
       "      <td>sox1</td>\n",
       "      <td>19</td>\n",
       "      <td>11</td>\n",
       "      <td>94461</td>\n",
       "      <td>eng</td>\n",
       "      <td>NaN</td>\n",
       "      <td>4</td>\n",
       "      <td>3</td>\n",
       "      <td>CN117701721A</td>\n",
       "      <td>CN202410160368.8</td>\n",
       "      <td>2780813</td>\n",
       "      <td>宫颈癌SOX1-SEPTIN9-TAC1基因甲基化的检测试剂及试剂盒</td>\n",
       "      <td>patent202404</td>\n",
       "    </tr>\n",
       "    <tr>\n",
       "      <th>130534</th>\n",
       "      <td>sgp4</td>\n",
       "      <td>10</td>\n",
       "      <td>4</td>\n",
       "      <td>130310</td>\n",
       "      <td>eng</td>\n",
       "      <td>NaN</td>\n",
       "      <td>3</td>\n",
       "      <td>2</td>\n",
       "      <td>CN117745038A</td>\n",
       "      <td>CN202410182332.X</td>\n",
       "      <td>2781035</td>\n",
       "      <td>基于SGP4算法的掩星每日任务规划系统及其使用方法</td>\n",
       "      <td>patent202404</td>\n",
       "    </tr>\n",
       "  </tbody>\n",
       "</table>\n",
       "<p>30244 rows × 13 columns</p>\n",
       "</div>"
      ],
      "text/plain": [
       "        word  tf  df     w2v   flag baidu  cmc  dmc publication_number  \\\n",
       "73439     田七  30  14   73453     nr   NaN    4    3         CN1067893C   \n",
       "152774    花精   8   2  152510      n   NaN    4    3         CN1067893C   \n",
       "70486     环用  33  22   69777      n   NaN    3    2         CN2356811Y   \n",
       "123670    蚕沙  11   7  127285      n   NaN    3    2         CN1152692C   \n",
       "153262    节状   8   5  151772      n   NaN    2    1         CN2384905Y   \n",
       "...      ...  ..  ..     ...    ...   ...  ...  ...                ...   \n",
       "134543    正背  10   6  134300    d,v   NaN    3    2       CN117584641B   \n",
       "164414   舟端片   6   3  165967  n,v,q   NaN    2    1       CN117583813B   \n",
       "65029   颜色混合  38  24   65150     nr   NaN    4    3       CN117615481A   \n",
       "93110   sox1  19  11   94461    eng   NaN    4    3       CN117701721A   \n",
       "130534  sgp4  10   4  130310    eng   NaN    3    2       CN117745038A   \n",
       "\n",
       "       application_number    index                        patent_title  \\\n",
       "73439        CN97119709.1     1306                        无蔗糖型田七花精及其制法   \n",
       "152774       CN97119709.1     1306                        无蔗糖型田七花精及其制法   \n",
       "70486        CN99202374.2     2315                           一种拆卸辊环用装置   \n",
       "123670       CN99109111.6     2801                      蚕沙提取方法、提取物及其用途   \n",
       "153262       CN99218076.7     2971                        一种电池用条形节状包装袋   \n",
       "...                   ...      ...                                 ...   \n",
       "134543   CN202410079536.0  2779648           一种高速轮转喷墨印刷机正背套印精度的控制方法和装置   \n",
       "164414   CN202410076778.4  2779658                 一种卧式舟端片总成焊接装置及其加工方法   \n",
       "65029    CN202410096906.1  2779963           自适应温度对色坐标影响的动态校正颜色混合系统及方法   \n",
       "93110    CN202410160368.8  2780813  宫颈癌SOX1-SEPTIN9-TAC1基因甲基化的检测试剂及试剂盒   \n",
       "130534   CN202410182332.X  2781035           基于SGP4算法的掩星每日任务规划系统及其使用方法   \n",
       "\n",
       "          table_name  \n",
       "73439   patent202210  \n",
       "152774  patent202210  \n",
       "70486   patent202404  \n",
       "123670  patent202210  \n",
       "153262  patent202404  \n",
       "...              ...  \n",
       "134543  patent202404  \n",
       "164414  patent202404  \n",
       "65029   patent202404  \n",
       "93110   patent202404  \n",
       "130534  patent202404  \n",
       "\n",
       "[30244 rows x 13 columns]"
      ]
     },
     "execution_count": 106,
     "metadata": {},
     "output_type": "execute_result"
    }
   ],
   "source": [
    "word_tf_df_sc_2[word_tf_df_sc_2['cmc']>word_tf_df_sc_2['dmc']]"
   ]
  },
  {
   "cell_type": "code",
   "execution_count": 100,
   "id": "2efbd0cf-e946-4de6-9908-291048ee27e4",
   "metadata": {},
   "outputs": [],
   "source": [
    "word_tf_df_sc_2.to_excel('data\\\\word_tf_df_sc.xlsx')"
   ]
  },
  {
   "cell_type": "code",
   "execution_count": 43,
   "id": "4a4d70e9-bd0c-4d9f-b393-ad7ab7efb747",
   "metadata": {},
   "outputs": [],
   "source": [
    "# co=pd.read_excel('data\\公司融资变量2_20240301.xlsx')\n",
    "# co"
   ]
  }
 ],
 "metadata": {
  "kernelspec": {
   "display_name": "Python 3 (ipykernel)",
   "language": "python",
   "name": "python3"
  },
  "language_info": {
   "codemirror_mode": {
    "name": "ipython",
    "version": 3
   },
   "file_extension": ".py",
   "mimetype": "text/x-python",
   "name": "python",
   "nbconvert_exporter": "python",
   "pygments_lexer": "ipython3",
   "version": "3.9.13"
  }
 },
 "nbformat": 4,
 "nbformat_minor": 5
}
