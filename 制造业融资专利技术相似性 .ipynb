{
 "cells": [
  {
   "cell_type": "code",
   "execution_count": 4,
   "id": "9ba48371-648e-4aac-8fb8-11765b658bfc",
   "metadata": {},
   "outputs": [],
   "source": [
    "import pandas as pd\n",
    "import numpy as np\n",
    "from sklearn.metrics.pairwise import cosine_similarity"
   ]
  },
  {
   "cell_type": "code",
   "execution_count": 9,
   "id": "54da6c48-e0c2-422c-b7ed-e16766c86e4e",
   "metadata": {},
   "outputs": [
    {
     "name": "stderr",
     "output_type": "stream",
     "text": [
      "C:\\Users\\Prime\\AppData\\Local\\Temp\\ipykernel_43084\\2085166764.py:3: DtypeWarning: Columns (24) have mixed types. Specify dtype option on import or set low_memory=False.\n",
      "  patent_mfg=pd.read_csv('X:\\Downloads\\Patent\\\\patent_invest_mfg_2410.csv',index_col=0)\n"
     ]
    },
    {
     "data": {
      "text/plain": [
       "(2133679, 32)"
      ]
     },
     "execution_count": 9,
     "metadata": {},
     "output_type": "execute_result"
    }
   ],
   "source": [
    "invest_co_mfg=pd.read_excel('data\\\\invest_mfg_co.xlsx',index_col=0)\n",
    "patent_mfg=pd.read_csv('X:\\Downloads\\Patent\\\\patent_invest_mfg_2410.csv',index_col=0)\n",
    "patent_mfg.shape"
   ]
  },
  {
   "cell_type": "code",
   "execution_count": 3,
   "id": "a9201afc-6fff-4a0d-88b8-7751537c8bee",
   "metadata": {},
   "outputs": [
    {
     "data": {
      "text/plain": [
       "Index(['标题 (中文)', '摘要 (中文)', '申请人', '申请日', '申请号', '公开（公告）号', '公开（公告）日', '专利类型',\n",
       "       '专利有效性', '公开国别', 'IPC主分类', 'IPC', '申请人类型', '发明人', '发明人数量', '简单同族',\n",
       "       '扩展同族', '简单同族个数', '引证专利', '引证科技文献', '引证次数', '被引证次数', '引证申请人', '被引证申请人',\n",
       "       '申请人数量', '许可次数', '转让次数', '权利要求数量', '当前法律状态', '当前权利人', '工商统一社会信用代码',\n",
       "       'table_name'],\n",
       "      dtype='object')"
      ]
     },
     "execution_count": 3,
     "metadata": {},
     "output_type": "execute_result"
    }
   ],
   "source": [
    "patent_mfg.columns"
   ]
  },
  {
   "cell_type": "code",
   "execution_count": 62,
   "id": "59f2e112-d642-4294-aca0-7d2bba829ba2",
   "metadata": {},
   "outputs": [
    {
     "data": {
      "text/plain": [
       "Index(['行业', '子行业', '企业全称', 'all'], dtype='object')"
      ]
     },
     "execution_count": 62,
     "metadata": {},
     "output_type": "execute_result"
    }
   ],
   "source": [
    "invest_co_mfg.columns"
   ]
  },
  {
   "cell_type": "code",
   "execution_count": 19,
   "id": "44dd1837-dd9d-4263-8ec7-e55d9307de16",
   "metadata": {},
   "outputs": [
    {
     "data": {
      "text/plain": [
       "(2020157, 35)"
      ]
     },
     "execution_count": 19,
     "metadata": {},
     "output_type": "execute_result"
    }
   ],
   "source": [
    "patent_mfg['公开（公告）日']=pd.to_datetime(patent_mfg['公开（公告）日'])\n",
    "patent_mfg['申请日']=pd.to_datetime(patent_mfg['申请日'])\n",
    "patent_mfg['申请年']=patent_mfg['申请日'].dt.year\n",
    "patent_mfg=patent_mfg.sort_values(['申请日','公开（公告）日']).drop_duplicates(['申请号','专利类型','公开（公告）号'],keep='last').reset_index(drop=True)\n",
    "patent_mfg.shape"
   ]
  },
  {
   "cell_type": "code",
   "execution_count": null,
   "id": "8302cbf1-51ab-43be-bf50-e08302dd28e5",
   "metadata": {},
   "outputs": [],
   "source": [
    "patent_mfg['Co'] = np.where((patent_mfg.当前法律状态=='授权')&(pd.notna(patent_mfg.当前权利人)),patent_mfg.当前权利人,patent_mfg.申请人)\n",
    "patent_mfg['Co'].isna().sum()"
   ]
  },
  {
   "cell_type": "code",
   "execution_count": 21,
   "id": "24c314e2-6bd6-4401-a4ae-7ab070005e14",
   "metadata": {},
   "outputs": [
    {
     "data": {
      "text/plain": [
       "RangeIndex(start=0, stop=2020157, step=1)"
      ]
     },
     "execution_count": 21,
     "metadata": {},
     "output_type": "execute_result"
    }
   ],
   "source": [
    "# patent_mfg.reset_index(drop=True,inplace=True)\n",
    "patent_mfg.index"
   ]
  },
  {
   "cell_type": "code",
   "execution_count": 25,
   "id": "15689a43-09ed-4874-8ee7-1b62ea4daa2b",
   "metadata": {},
   "outputs": [
    {
     "data": {
      "text/plain": [
       "(2872853, 35)"
      ]
     },
     "execution_count": 25,
     "metadata": {},
     "output_type": "execute_result"
    }
   ],
   "source": [
    "# patent_mfg['企业全称']=patent_mfg['申请人'].str.split(';').apply(lambda x: [i.strip() for i in x if i.strip()])\n",
    "# patent_mfg['权利人']=patent_mfg['当前权利人'].dropna().str.split(';').apply(lambda x: [i.strip() for i in x if i.strip()])#strip().replace('',pd.NA)\n",
    "# patent_co=patent_mfg.explode('企业全称').explode('权利人')\n",
    "# patent_co=patent_co[patent_co['企业全称'].isin(invest_co_mfg.企业全称)|patent_co['权利人'].isin(invest_co_mfg.企业全称)]\n",
    "# patent_co.shape"
   ]
  },
  {
   "cell_type": "code",
   "execution_count": 27,
   "id": "204a09a5-eda2-408d-b28f-c8a933153b6e",
   "metadata": {},
   "outputs": [
    {
     "data": {
      "text/plain": [
       "(38644, 35080, 1780990)"
      ]
     },
     "execution_count": 27,
     "metadata": {},
     "output_type": "execute_result"
    }
   ],
   "source": [
    "# patent_co['企业全称'].nunique(),patent_co['权利人'].nunique(),patent_co['申请号'].nunique()"
   ]
  },
  {
   "cell_type": "code",
   "execution_count": 33,
   "id": "d160a331-540c-43c7-9c05-2f42e191b0fc",
   "metadata": {},
   "outputs": [
    {
     "data": {
      "text/plain": [
       "(15291, 15238)"
      ]
     },
     "execution_count": 33,
     "metadata": {},
     "output_type": "execute_result"
    }
   ],
   "source": [
    "#patent_co.loc[patent_co['权利人'].isin(invest_co_mfg.企业全称),'权利人'].nunique(),patent_co.loc[patent_co['企业全称'].isin(invest_co_mfg.企业全称),'企业全称'].nunique()"
   ]
  },
  {
   "cell_type": "code",
   "execution_count": 40,
   "id": "8460d391-675a-4db0-9212-30822baa0e9a",
   "metadata": {},
   "outputs": [
    {
     "data": {
      "text/plain": [
       "(15238, 15291)"
      ]
     },
     "execution_count": 40,
     "metadata": {},
     "output_type": "execute_result"
    }
   ],
   "source": [
    "patent_applicants=patent_mfg['申请人'].str.split(';').explode().str.strip()\n",
    "patent_holders=patent_mfg['当前权利人'].str.split(';').explode().str.strip()\n",
    "\n",
    "matching_patent_name=patent_applicants[patent_applicants.isin(invest_co_mfg.企业全称)]\n",
    "#patent_mfg.loc[matching_patent_name.index,'企业全称']=matching_patent_name\n",
    "\n",
    "matching_patent_name_1=patent_holders[patent_holders.isin(invest_co_mfg.企业全称)]\n",
    "#patent_mfg.loc[matching_patent_name.index,'权利人']=matching_patent_name\n",
    "matching_patent_name.nunique(),matching_patent_name_1.nunique()#(15238, 15291)"
   ]
  },
  {
   "cell_type": "code",
   "execution_count": 46,
   "id": "12a2bc7d-005c-40c9-84d3-95caefb29fab",
   "metadata": {},
   "outputs": [
    {
     "data": {
      "text/html": [
       "<div>\n",
       "<style scoped>\n",
       "    .dataframe tbody tr th:only-of-type {\n",
       "        vertical-align: middle;\n",
       "    }\n",
       "\n",
       "    .dataframe tbody tr th {\n",
       "        vertical-align: top;\n",
       "    }\n",
       "\n",
       "    .dataframe thead th {\n",
       "        text-align: right;\n",
       "    }\n",
       "</style>\n",
       "<table border=\"1\" class=\"dataframe\">\n",
       "  <thead>\n",
       "    <tr style=\"text-align: right;\">\n",
       "      <th></th>\n",
       "      <th>申请人</th>\n",
       "      <th>当前权利人</th>\n",
       "    </tr>\n",
       "  </thead>\n",
       "  <tbody>\n",
       "    <tr>\n",
       "      <th>0</th>\n",
       "      <td>NaN</td>\n",
       "      <td>安泰科技股份有限公司</td>\n",
       "    </tr>\n",
       "    <tr>\n",
       "      <th>1</th>\n",
       "      <td>NaN</td>\n",
       "      <td>安泰科技股份有限公司</td>\n",
       "    </tr>\n",
       "    <tr>\n",
       "      <th>2</th>\n",
       "      <td>NaN</td>\n",
       "      <td>安泰科技股份有限公司</td>\n",
       "    </tr>\n",
       "    <tr>\n",
       "      <th>3</th>\n",
       "      <td>NaN</td>\n",
       "      <td>安泰科技股份有限公司</td>\n",
       "    </tr>\n",
       "    <tr>\n",
       "      <th>4</th>\n",
       "      <td>NaN</td>\n",
       "      <td>安泰科技股份有限公司</td>\n",
       "    </tr>\n",
       "    <tr>\n",
       "      <th>...</th>\n",
       "      <td>...</td>\n",
       "      <td>...</td>\n",
       "    </tr>\n",
       "    <tr>\n",
       "      <th>2020155</th>\n",
       "      <td>唐山钢铁集团有限责任公司</td>\n",
       "      <td>唐山钢铁集团有限责任公司</td>\n",
       "    </tr>\n",
       "    <tr>\n",
       "      <th>2020155</th>\n",
       "      <td>唐山钢铁集团有限责任公司</td>\n",
       "      <td>河钢乐亭钢铁有限公司</td>\n",
       "    </tr>\n",
       "    <tr>\n",
       "      <th>2020155</th>\n",
       "      <td>河钢乐亭钢铁有限公司</td>\n",
       "      <td>唐山钢铁集团有限责任公司</td>\n",
       "    </tr>\n",
       "    <tr>\n",
       "      <th>2020155</th>\n",
       "      <td>河钢乐亭钢铁有限公司</td>\n",
       "      <td>河钢乐亭钢铁有限公司</td>\n",
       "    </tr>\n",
       "    <tr>\n",
       "      <th>2020156</th>\n",
       "      <td>攀钢集团重庆钛业有限公司</td>\n",
       "      <td>攀钢集团重庆钛业有限公司</td>\n",
       "    </tr>\n",
       "  </tbody>\n",
       "</table>\n",
       "<p>2043796 rows × 2 columns</p>\n",
       "</div>"
      ],
      "text/plain": [
       "                  申请人         当前权利人\n",
       "0                 NaN    安泰科技股份有限公司\n",
       "1                 NaN    安泰科技股份有限公司\n",
       "2                 NaN    安泰科技股份有限公司\n",
       "3                 NaN    安泰科技股份有限公司\n",
       "4                 NaN    安泰科技股份有限公司\n",
       "...               ...           ...\n",
       "2020155  唐山钢铁集团有限责任公司  唐山钢铁集团有限责任公司\n",
       "2020155  唐山钢铁集团有限责任公司    河钢乐亭钢铁有限公司\n",
       "2020155    河钢乐亭钢铁有限公司  唐山钢铁集团有限责任公司\n",
       "2020155    河钢乐亭钢铁有限公司    河钢乐亭钢铁有限公司\n",
       "2020156  攀钢集团重庆钛业有限公司  攀钢集团重庆钛业有限公司\n",
       "\n",
       "[2043796 rows x 2 columns]"
      ]
     },
     "execution_count": 46,
     "metadata": {},
     "output_type": "execute_result"
    }
   ],
   "source": [
    "merged_patents = pd.merge(matching_patent_name, matching_patent_name_1, left_index=True, right_index=True, how='outer')\n",
    "merged_patents"
   ]
  },
  {
   "cell_type": "code",
   "execution_count": 47,
   "id": "a830487b-6636-43fa-841e-345e0fd143d2",
   "metadata": {},
   "outputs": [
    {
     "data": {
      "text/plain": [
       "(2043796, 35)"
      ]
     },
     "execution_count": 47,
     "metadata": {},
     "output_type": "execute_result"
    }
   ],
   "source": [
    "patent_co=patent_mfg.loc[merged_patents.index]\n",
    "patent_co[['企业全称', '权利人']]=merged_patents\n",
    "patent_co.shape"
   ]
  },
  {
   "cell_type": "code",
   "execution_count": 55,
   "id": "fbd970ef-8cdb-4af7-ac00-6e83fc46a2e0",
   "metadata": {},
   "outputs": [
    {
     "data": {
      "text/plain": [
       "19"
      ]
     },
     "execution_count": 55,
     "metadata": {},
     "output_type": "execute_result"
    }
   ],
   "source": [
    "patent_co[['企业全称', '权利人']].isna().all(axis=1).sum()"
   ]
  },
  {
   "cell_type": "code",
   "execution_count": 49,
   "id": "f9fa6dcc-17dd-462e-bfcd-842e7ca2944e",
   "metadata": {},
   "outputs": [
    {
     "data": {
      "text/plain": [
       "(15238, 15291, 1780990)"
      ]
     },
     "execution_count": 49,
     "metadata": {},
     "output_type": "execute_result"
    }
   ],
   "source": [
    "patent_co['企业全称'].nunique(),patent_co['权利人'].nunique(),patent_co['申请号'].nunique()"
   ]
  },
  {
   "cell_type": "code",
   "execution_count": 58,
   "id": "5177e14c-4a5f-48b7-aaae-17a0270035f7",
   "metadata": {},
   "outputs": [],
   "source": [
    "patent_co.dropna(subset=['企业全称', '权利人'],how='all',inplace=True)\n",
    "patent_co.reset_index(drop=True,inplace=True)"
   ]
  },
  {
   "cell_type": "code",
   "execution_count": 61,
   "id": "66fe27e3-2041-4a9f-8dba-222dfa590926",
   "metadata": {},
   "outputs": [
    {
     "data": {
      "text/html": [
       "<div>\n",
       "<style scoped>\n",
       "    .dataframe tbody tr th:only-of-type {\n",
       "        vertical-align: middle;\n",
       "    }\n",
       "\n",
       "    .dataframe tbody tr th {\n",
       "        vertical-align: top;\n",
       "    }\n",
       "\n",
       "    .dataframe thead th {\n",
       "        text-align: right;\n",
       "    }\n",
       "</style>\n",
       "<table border=\"1\" class=\"dataframe\">\n",
       "  <thead>\n",
       "    <tr style=\"text-align: right;\">\n",
       "      <th></th>\n",
       "      <th>申请人</th>\n",
       "      <th>当前权利人</th>\n",
       "      <th>企业全称</th>\n",
       "      <th>权利人</th>\n",
       "    </tr>\n",
       "  </thead>\n",
       "  <tbody>\n",
       "    <tr>\n",
       "      <th>52</th>\n",
       "      <td>重庆钢铁股份有限公司</td>\n",
       "      <td>重庆钢铁股份有限公司</td>\n",
       "      <td>重庆钢铁股份有限公司</td>\n",
       "      <td>重庆钢铁股份有限公司</td>\n",
       "    </tr>\n",
       "    <tr>\n",
       "      <th>53</th>\n",
       "      <td>华东冶金学院; 马鞍山钢铁股份有限公司</td>\n",
       "      <td>华东冶金学院; 马鞍山钢铁股份有限公司</td>\n",
       "      <td>马鞍山钢铁股份有限公司</td>\n",
       "      <td>马鞍山钢铁股份有限公司</td>\n",
       "    </tr>\n",
       "    <tr>\n",
       "      <th>56</th>\n",
       "      <td>马鞍山钢铁股份有限公司</td>\n",
       "      <td>马鞍山钢铁股份有限公司</td>\n",
       "      <td>马鞍山钢铁股份有限公司</td>\n",
       "      <td>马鞍山钢铁股份有限公司</td>\n",
       "    </tr>\n",
       "    <tr>\n",
       "      <th>59</th>\n",
       "      <td>马鞍山钢铁股份有限公司</td>\n",
       "      <td>马鞍山钢铁股份有限公司</td>\n",
       "      <td>马鞍山钢铁股份有限公司</td>\n",
       "      <td>马鞍山钢铁股份有限公司</td>\n",
       "    </tr>\n",
       "    <tr>\n",
       "      <th>65</th>\n",
       "      <td>马鞍山钢铁股份有限公司</td>\n",
       "      <td>马鞍山钢铁股份有限公司</td>\n",
       "      <td>马鞍山钢铁股份有限公司</td>\n",
       "      <td>马鞍山钢铁股份有限公司</td>\n",
       "    </tr>\n",
       "    <tr>\n",
       "      <th>...</th>\n",
       "      <td>...</td>\n",
       "      <td>...</td>\n",
       "      <td>...</td>\n",
       "      <td>...</td>\n",
       "    </tr>\n",
       "    <tr>\n",
       "      <th>2043772</th>\n",
       "      <td>唐山钢铁集团有限责任公司; 河钢乐亭钢铁有限公司; 河钢股份有限公司唐山分公司</td>\n",
       "      <td>唐山钢铁集团有限责任公司; 河钢乐亭钢铁有限公司; 河钢股份有限公司唐山分公司</td>\n",
       "      <td>唐山钢铁集团有限责任公司</td>\n",
       "      <td>唐山钢铁集团有限责任公司</td>\n",
       "    </tr>\n",
       "    <tr>\n",
       "      <th>2043773</th>\n",
       "      <td>唐山钢铁集团有限责任公司; 河钢乐亭钢铁有限公司; 河钢股份有限公司唐山分公司</td>\n",
       "      <td>唐山钢铁集团有限责任公司; 河钢乐亭钢铁有限公司; 河钢股份有限公司唐山分公司</td>\n",
       "      <td>唐山钢铁集团有限责任公司</td>\n",
       "      <td>河钢乐亭钢铁有限公司</td>\n",
       "    </tr>\n",
       "    <tr>\n",
       "      <th>2043774</th>\n",
       "      <td>唐山钢铁集团有限责任公司; 河钢乐亭钢铁有限公司; 河钢股份有限公司唐山分公司</td>\n",
       "      <td>唐山钢铁集团有限责任公司; 河钢乐亭钢铁有限公司; 河钢股份有限公司唐山分公司</td>\n",
       "      <td>河钢乐亭钢铁有限公司</td>\n",
       "      <td>唐山钢铁集团有限责任公司</td>\n",
       "    </tr>\n",
       "    <tr>\n",
       "      <th>2043775</th>\n",
       "      <td>唐山钢铁集团有限责任公司; 河钢乐亭钢铁有限公司; 河钢股份有限公司唐山分公司</td>\n",
       "      <td>唐山钢铁集团有限责任公司; 河钢乐亭钢铁有限公司; 河钢股份有限公司唐山分公司</td>\n",
       "      <td>河钢乐亭钢铁有限公司</td>\n",
       "      <td>河钢乐亭钢铁有限公司</td>\n",
       "    </tr>\n",
       "    <tr>\n",
       "      <th>2043776</th>\n",
       "      <td>攀钢集团重庆钒钛科技有限公司; 攀钢集团重庆钛业有限公司</td>\n",
       "      <td>攀钢集团重庆钒钛科技有限公司; 攀钢集团重庆钛业有限公司</td>\n",
       "      <td>攀钢集团重庆钛业有限公司</td>\n",
       "      <td>攀钢集团重庆钛业有限公司</td>\n",
       "    </tr>\n",
       "  </tbody>\n",
       "</table>\n",
       "<p>1747510 rows × 4 columns</p>\n",
       "</div>"
      ],
      "text/plain": [
       "                                             申请人  \\\n",
       "52                                    重庆钢铁股份有限公司   \n",
       "53                           华东冶金学院; 马鞍山钢铁股份有限公司   \n",
       "56                                   马鞍山钢铁股份有限公司   \n",
       "59                                   马鞍山钢铁股份有限公司   \n",
       "65                                   马鞍山钢铁股份有限公司   \n",
       "...                                          ...   \n",
       "2043772  唐山钢铁集团有限责任公司; 河钢乐亭钢铁有限公司; 河钢股份有限公司唐山分公司   \n",
       "2043773  唐山钢铁集团有限责任公司; 河钢乐亭钢铁有限公司; 河钢股份有限公司唐山分公司   \n",
       "2043774  唐山钢铁集团有限责任公司; 河钢乐亭钢铁有限公司; 河钢股份有限公司唐山分公司   \n",
       "2043775  唐山钢铁集团有限责任公司; 河钢乐亭钢铁有限公司; 河钢股份有限公司唐山分公司   \n",
       "2043776             攀钢集团重庆钒钛科技有限公司; 攀钢集团重庆钛业有限公司   \n",
       "\n",
       "                                           当前权利人          企业全称           权利人  \n",
       "52                                    重庆钢铁股份有限公司    重庆钢铁股份有限公司    重庆钢铁股份有限公司  \n",
       "53                           华东冶金学院; 马鞍山钢铁股份有限公司   马鞍山钢铁股份有限公司   马鞍山钢铁股份有限公司  \n",
       "56                                   马鞍山钢铁股份有限公司   马鞍山钢铁股份有限公司   马鞍山钢铁股份有限公司  \n",
       "59                                   马鞍山钢铁股份有限公司   马鞍山钢铁股份有限公司   马鞍山钢铁股份有限公司  \n",
       "65                                   马鞍山钢铁股份有限公司   马鞍山钢铁股份有限公司   马鞍山钢铁股份有限公司  \n",
       "...                                          ...           ...           ...  \n",
       "2043772  唐山钢铁集团有限责任公司; 河钢乐亭钢铁有限公司; 河钢股份有限公司唐山分公司  唐山钢铁集团有限责任公司  唐山钢铁集团有限责任公司  \n",
       "2043773  唐山钢铁集团有限责任公司; 河钢乐亭钢铁有限公司; 河钢股份有限公司唐山分公司  唐山钢铁集团有限责任公司    河钢乐亭钢铁有限公司  \n",
       "2043774  唐山钢铁集团有限责任公司; 河钢乐亭钢铁有限公司; 河钢股份有限公司唐山分公司    河钢乐亭钢铁有限公司  唐山钢铁集团有限责任公司  \n",
       "2043775  唐山钢铁集团有限责任公司; 河钢乐亭钢铁有限公司; 河钢股份有限公司唐山分公司    河钢乐亭钢铁有限公司    河钢乐亭钢铁有限公司  \n",
       "2043776             攀钢集团重庆钒钛科技有限公司; 攀钢集团重庆钛业有限公司  攀钢集团重庆钛业有限公司  攀钢集团重庆钛业有限公司  \n",
       "\n",
       "[1747510 rows x 4 columns]"
      ]
     },
     "execution_count": 61,
     "metadata": {},
     "output_type": "execute_result"
    }
   ],
   "source": [
    "patent_co[['申请人','当前权利人','企业全称', '权利人']].dropna(how='any')"
   ]
  },
  {
   "cell_type": "code",
   "execution_count": 60,
   "id": "d71445fd-84c1-4d9f-8690-85b07dc27822",
   "metadata": {},
   "outputs": [],
   "source": [
    "patent_co.to_csv('data/patent_co_invest_mfg_2043_15k_202410.csv')"
   ]
  },
  {
   "cell_type": "code",
   "execution_count": 5,
   "id": "14478010-4512-4243-8291-15a0c5409bb6",
   "metadata": {},
   "outputs": [
    {
     "data": {
      "text/plain": [
       "Index(['标题 (中文)', '摘要 (中文)', '申请人', '申请日', '申请号', '公开（公告）号', '公开（公告）日', '专利类型',\n",
       "       '专利有效性', '公开国别', 'IPC主分类', 'IPC', '申请人类型', '发明人', '发明人数量', '简单同族',\n",
       "       '扩展同族', '简单同族个数', '引证专利', '引证科技文献', '引证次数', '被引证次数', '引证申请人', '被引证申请人',\n",
       "       '申请人数量', '许可次数', '转让次数', '权利要求数量', '当前法律状态', '当前权利人', '工商统一社会信用代码',\n",
       "       'table_name', '申请年', '企业全称', '权利人'],\n",
       "      dtype='object')"
      ]
     },
     "execution_count": 5,
     "metadata": {},
     "output_type": "execute_result"
    }
   ],
   "source": [
    "pd.read_csv('data/patent_co_invest_mfg_2043_15k_202410.csv',index_col=0,nrows=10).columns"
   ]
  },
  {
   "cell_type": "code",
   "execution_count": 5,
   "id": "25bbe32c-ddc7-47ff-b6e5-d2e06621987b",
   "metadata": {},
   "outputs": [
    {
     "name": "stdout",
     "output_type": "stream",
     "text": [
      "<class 'pandas.core.frame.DataFrame'>\n",
      "RangeIndex: 2043777 entries, 0 to 2043776\n",
      "Data columns (total 13 columns):\n",
      " #   Column      Dtype \n",
      "---  ------      ----- \n",
      " 0   申请日         object\n",
      " 1   申请号         object\n",
      " 2   公开（公告）号     object\n",
      " 3   公开（公告）日     object\n",
      " 4   专利类型        object\n",
      " 5   专利有效性       object\n",
      " 6   IPC主分类      object\n",
      " 7   引证专利        object\n",
      " 8   当前法律状态      object\n",
      " 9   table_name  object\n",
      " 10  申请年         int64 \n",
      " 11  企业全称        object\n",
      " 12  权利人         object\n",
      "dtypes: int64(1), object(12)\n",
      "memory usage: 202.7+ MB\n"
     ]
    }
   ],
   "source": [
    "patent_co=pd.read_csv('data/patent_co_invest_mfg_2043_15k_202410.csv',usecols=[ '申请日', '申请号', '公开（公告）号', '公开（公告）日', '专利类型',\n",
    "       '专利有效性',  'IPC主分类', '引证专利', '当前法律状态', 'table_name','申请年','企业全称', '权利人'])#'申请人', '当前权利人','工商统一社会信用代码',\n",
    "patent_co.info()"
   ]
  },
  {
   "cell_type": "code",
   "execution_count": 42,
   "id": "b03f7619-75d6-4271-b8cd-80a1c5d94ab8",
   "metadata": {},
   "outputs": [],
   "source": [
    "invest_all=pd.read_excel('data\\invest_all.xlsx',usecols=['所在行业','企业全称','交易时间','交易轮次'])\n",
    "invest=pd.read_excel('data/公司融资数据整理修正-20240301.xlsx',usecols=['工商全称', '行业', '子行业', '融资时间', '轮次'])"
   ]
  },
  {
   "cell_type": "code",
   "execution_count": 43,
   "id": "d750dfdd-c87e-4153-9568-dfbff668acb4",
   "metadata": {},
   "outputs": [],
   "source": [
    "invest_all[['行业','子行业']]=invest_all.所在行业.str.split('-', expand=True).fillna(pd.NA)"
   ]
  },
  {
   "cell_type": "code",
   "execution_count": 44,
   "id": "f64b0081-c80e-4885-b77d-b48bee33abb3",
   "metadata": {},
   "outputs": [],
   "source": [
    "invest_co=invest_all.loc[(invest_all['行业']=='传统制造')|(invest_all['行业']=='先进制造'),['行业','子行业','企业全称','交易时间','交易轮次']].drop_duplicates()\n",
    "invest_co['all']=1"
   ]
  },
  {
   "cell_type": "code",
   "execution_count": 45,
   "id": "19cb7542-aee1-46ab-b88b-90f01f9f6931",
   "metadata": {},
   "outputs": [],
   "source": [
    "invest_co_mfg=invest.loc[(invest['行业']=='传统制造')|(invest['行业']=='先进制造'),['行业','子行业','工商全称', '融资时间', '轮次']].drop_duplicates()\n",
    "invest_co_mfg['all']=0\n",
    "invest_co_mfg.rename(columns={'工商全称':'企业全称','融资时间':'交易时间','轮次':'交易轮次'},inplace=True)"
   ]
  },
  {
   "cell_type": "code",
   "execution_count": 49,
   "id": "fa317a18-eda5-41e1-b2ad-317e987ebaec",
   "metadata": {},
   "outputs": [
    {
     "data": {
      "text/plain": [
       "((47312, 6), 21915, 39)"
      ]
     },
     "execution_count": 49,
     "metadata": {},
     "output_type": "execute_result"
    }
   ],
   "source": [
    "invest_co=pd.concat([invest_co,invest_co_mfg])\n",
    "invest_co.shape,invest_co.企业全称.nunique(),invest_co.企业全称.isna().sum()"
   ]
  },
  {
   "cell_type": "code",
   "execution_count": 47,
   "id": "51b37319-ac38-4d23-bdb6-edb7de196b1d",
   "metadata": {},
   "outputs": [
    {
     "data": {
      "text/html": [
       "<div>\n",
       "<style scoped>\n",
       "    .dataframe tbody tr th:only-of-type {\n",
       "        vertical-align: middle;\n",
       "    }\n",
       "\n",
       "    .dataframe tbody tr th {\n",
       "        vertical-align: top;\n",
       "    }\n",
       "\n",
       "    .dataframe thead th {\n",
       "        text-align: right;\n",
       "    }\n",
       "</style>\n",
       "<table border=\"1\" class=\"dataframe\">\n",
       "  <thead>\n",
       "    <tr style=\"text-align: right;\">\n",
       "      <th></th>\n",
       "      <th>行业</th>\n",
       "      <th>all</th>\n",
       "      <th>企业全称</th>\n",
       "    </tr>\n",
       "  </thead>\n",
       "  <tbody>\n",
       "    <tr>\n",
       "      <th>0</th>\n",
       "      <td>传统制造</td>\n",
       "      <td>0</td>\n",
       "      <td>5690</td>\n",
       "    </tr>\n",
       "    <tr>\n",
       "      <th>1</th>\n",
       "      <td>传统制造</td>\n",
       "      <td>1</td>\n",
       "      <td>6614</td>\n",
       "    </tr>\n",
       "    <tr>\n",
       "      <th>2</th>\n",
       "      <td>先进制造</td>\n",
       "      <td>0</td>\n",
       "      <td>10027</td>\n",
       "    </tr>\n",
       "    <tr>\n",
       "      <th>3</th>\n",
       "      <td>先进制造</td>\n",
       "      <td>1</td>\n",
       "      <td>3332</td>\n",
       "    </tr>\n",
       "  </tbody>\n",
       "</table>\n",
       "</div>"
      ],
      "text/plain": [
       "     行业  all   企业全称\n",
       "0  传统制造    0   5690\n",
       "1  传统制造    1   6614\n",
       "2  先进制造    0  10027\n",
       "3  先进制造    1   3332"
      ]
     },
     "execution_count": 47,
     "metadata": {},
     "output_type": "execute_result"
    }
   ],
   "source": [
    "invest_co.groupby(['行业','all'],as_index=False)['企业全称'].nunique()"
   ]
  },
  {
   "cell_type": "code",
   "execution_count": 48,
   "id": "d90bc59d-71a8-431c-a283-dcde8b396c10",
   "metadata": {},
   "outputs": [
    {
     "data": {
      "text/plain": [
       "行业      47312\n",
       "子行业     47312\n",
       "企业全称    47273\n",
       "交易时间    47178\n",
       "交易轮次    47178\n",
       "all     47312\n",
       "dtype: int64"
      ]
     },
     "execution_count": 48,
     "metadata": {},
     "output_type": "execute_result"
    }
   ],
   "source": [
    "invest_co.count()"
   ]
  },
  {
   "cell_type": "code",
   "execution_count": 75,
   "id": "ea2144da-626c-44e0-adb6-273c0e525767",
   "metadata": {},
   "outputs": [
    {
     "data": {
      "text/plain": [
       "企业全称\n",
       "1KOMMA5 ° GmbH     1\n",
       "浙江吉泰智能科技有限公司       1\n",
       "浙江吉成新材股份有限公司       1\n",
       "浙江吉宁科技有限公司         1\n",
       "浙江吉华集团股份有限公司       1\n",
       "                  ..\n",
       "奕目（上海）科技有限公司       2\n",
       "湖北龙辰科技股份有限公司       2\n",
       "广东科雷明斯智能科技有限公司     2\n",
       "东华能源（宁波）新材料有限公司    2\n",
       "广东鑫光智能系统有限公司       2\n",
       "Name: 行业, Length: 21811, dtype: int64"
      ]
     },
     "execution_count": 75,
     "metadata": {},
     "output_type": "execute_result"
    }
   ],
   "source": [
    "invest_co=invest_co[(~invest_co.企业全称.isna())&(~invest_co.交易时间.isna())].reset_index(drop=True)\n",
    "invest_co.交易时间=pd.to_datetime(invest_co.交易时间)\n",
    "invest_co.groupby('企业全称').行业.nunique().sort_values()"
   ]
  },
  {
   "cell_type": "code",
   "execution_count": 59,
   "id": "590ab4fc-7d24-44ce-ad37-889fc1cb4353",
   "metadata": {},
   "outputs": [
    {
     "data": {
      "text/html": [
       "<div>\n",
       "<style scoped>\n",
       "    .dataframe tbody tr th:only-of-type {\n",
       "        vertical-align: middle;\n",
       "    }\n",
       "\n",
       "    .dataframe tbody tr th {\n",
       "        vertical-align: top;\n",
       "    }\n",
       "\n",
       "    .dataframe thead th {\n",
       "        text-align: right;\n",
       "    }\n",
       "</style>\n",
       "<table border=\"1\" class=\"dataframe\">\n",
       "  <thead>\n",
       "    <tr style=\"text-align: right;\">\n",
       "      <th></th>\n",
       "      <th>行业</th>\n",
       "      <th>子行业</th>\n",
       "      <th>企业全称</th>\n",
       "      <th>交易时间</th>\n",
       "      <th>交易轮次</th>\n",
       "      <th>all</th>\n",
       "    </tr>\n",
       "  </thead>\n",
       "  <tbody>\n",
       "    <tr>\n",
       "      <th>83</th>\n",
       "      <td>传统制造</td>\n",
       "      <td>机械设备</td>\n",
       "      <td>明阳智慧能源集团股份公司</td>\n",
       "      <td>2017-02-27</td>\n",
       "      <td>战略融资</td>\n",
       "      <td>1</td>\n",
       "    </tr>\n",
       "    <tr>\n",
       "      <th>354</th>\n",
       "      <td>传统制造</td>\n",
       "      <td>机械设备</td>\n",
       "      <td>明阳智慧能源集团股份公司</td>\n",
       "      <td>2016-12-19</td>\n",
       "      <td>战略融资</td>\n",
       "      <td>1</td>\n",
       "    </tr>\n",
       "    <tr>\n",
       "      <th>1112</th>\n",
       "      <td>传统制造</td>\n",
       "      <td>机械设备</td>\n",
       "      <td>明阳智慧能源集团股份公司</td>\n",
       "      <td>2016-03-01</td>\n",
       "      <td>A</td>\n",
       "      <td>1</td>\n",
       "    </tr>\n",
       "    <tr>\n",
       "      <th>7476</th>\n",
       "      <td>传统制造</td>\n",
       "      <td>传统制造其他</td>\n",
       "      <td>浙江永昌电气股份有限公司</td>\n",
       "      <td>2022-01-27</td>\n",
       "      <td>定向增发</td>\n",
       "      <td>1</td>\n",
       "    </tr>\n",
       "    <tr>\n",
       "      <th>10228</th>\n",
       "      <td>传统制造</td>\n",
       "      <td>机械设备</td>\n",
       "      <td>明阳智慧能源集团股份公司</td>\n",
       "      <td>2018-11-29</td>\n",
       "      <td>战略融资</td>\n",
       "      <td>1</td>\n",
       "    </tr>\n",
       "    <tr>\n",
       "      <th>13882</th>\n",
       "      <td>传统制造</td>\n",
       "      <td>机械设备</td>\n",
       "      <td>明阳智慧能源集团股份公司</td>\n",
       "      <td>2017-03-22</td>\n",
       "      <td>战略融资</td>\n",
       "      <td>1</td>\n",
       "    </tr>\n",
       "    <tr>\n",
       "      <th>19471</th>\n",
       "      <td>传统制造</td>\n",
       "      <td>环保</td>\n",
       "      <td>明阳智慧能源集团股份公司</td>\n",
       "      <td>2019-01-24</td>\n",
       "      <td>IPO上市</td>\n",
       "      <td>0</td>\n",
       "    </tr>\n",
       "    <tr>\n",
       "      <th>19472</th>\n",
       "      <td>传统制造</td>\n",
       "      <td>环保</td>\n",
       "      <td>明阳智慧能源集团股份公司</td>\n",
       "      <td>2015-05-22</td>\n",
       "      <td>A轮</td>\n",
       "      <td>0</td>\n",
       "    </tr>\n",
       "    <tr>\n",
       "      <th>36529</th>\n",
       "      <td>先进制造</td>\n",
       "      <td>家用电器</td>\n",
       "      <td>浙江永昌电气股份有限公司</td>\n",
       "      <td>2018-10-25</td>\n",
       "      <td>新三板</td>\n",
       "      <td>0</td>\n",
       "    </tr>\n",
       "    <tr>\n",
       "      <th>37029</th>\n",
       "      <td>先进制造</td>\n",
       "      <td>新能源</td>\n",
       "      <td>明阳智慧能源集团股份公司</td>\n",
       "      <td>2018-11-29</td>\n",
       "      <td>战略投资</td>\n",
       "      <td>0</td>\n",
       "    </tr>\n",
       "    <tr>\n",
       "      <th>37030</th>\n",
       "      <td>先进制造</td>\n",
       "      <td>新能源</td>\n",
       "      <td>明阳智慧能源集团股份公司</td>\n",
       "      <td>2009-11-01</td>\n",
       "      <td>B轮</td>\n",
       "      <td>0</td>\n",
       "    </tr>\n",
       "    <tr>\n",
       "      <th>37031</th>\n",
       "      <td>先进制造</td>\n",
       "      <td>新能源</td>\n",
       "      <td>明阳智慧能源集团股份公司</td>\n",
       "      <td>2007-09-01</td>\n",
       "      <td>A轮</td>\n",
       "      <td>0</td>\n",
       "    </tr>\n",
       "  </tbody>\n",
       "</table>\n",
       "</div>"
      ],
      "text/plain": [
       "         行业     子行业          企业全称       交易时间   交易轮次  all\n",
       "83     传统制造    机械设备  明阳智慧能源集团股份公司 2017-02-27   战略融资    1\n",
       "354    传统制造    机械设备  明阳智慧能源集团股份公司 2016-12-19   战略融资    1\n",
       "1112   传统制造    机械设备  明阳智慧能源集团股份公司 2016-03-01      A    1\n",
       "7476   传统制造  传统制造其他  浙江永昌电气股份有限公司 2022-01-27   定向增发    1\n",
       "10228  传统制造    机械设备  明阳智慧能源集团股份公司 2018-11-29   战略融资    1\n",
       "13882  传统制造    机械设备  明阳智慧能源集团股份公司 2017-03-22   战略融资    1\n",
       "19471  传统制造      环保  明阳智慧能源集团股份公司 2019-01-24  IPO上市    0\n",
       "19472  传统制造      环保  明阳智慧能源集团股份公司 2015-05-22     A轮    0\n",
       "36529  先进制造    家用电器  浙江永昌电气股份有限公司 2018-10-25    新三板    0\n",
       "37029  先进制造     新能源  明阳智慧能源集团股份公司 2018-11-29   战略投资    0\n",
       "37030  先进制造     新能源  明阳智慧能源集团股份公司 2009-11-01     B轮    0\n",
       "37031  先进制造     新能源  明阳智慧能源集团股份公司 2007-09-01     A轮    0"
      ]
     },
     "execution_count": 59,
     "metadata": {},
     "output_type": "execute_result"
    }
   ],
   "source": [
    "invest_co[invest_co.企业全称.isin(['明阳智慧能源集团股份公司','浙江永昌电气股份有限公司'])]"
   ]
  },
  {
   "cell_type": "code",
   "execution_count": 78,
   "id": "a5fd97c0-0ea1-4bf4-8e3d-ebed6a35a4a8",
   "metadata": {},
   "outputs": [],
   "source": [
    "invest_co.to_excel('data\\\\invest_mfg_co.xlsx')"
   ]
  },
  {
   "cell_type": "code",
   "execution_count": 6,
   "id": "3418fd25-4d1d-4666-a18f-c62962f35ae3",
   "metadata": {},
   "outputs": [
    {
     "data": {
      "text/plain": [
       "(47139, 6)"
      ]
     },
     "execution_count": 6,
     "metadata": {},
     "output_type": "execute_result"
    }
   ],
   "source": [
    "invest_co=pd.read_excel('data\\\\invest_mfg_co.xlsx',index_col=0)\n",
    "invest_co.shape"
   ]
  },
  {
   "cell_type": "code",
   "execution_count": 64,
   "id": "f8886b51-a1ab-4908-bead-8cce3194bb16",
   "metadata": {},
   "outputs": [
    {
     "data": {
      "text/plain": [
       "子行业\n",
       "机械设备      5998\n",
       "传统制造其他    3440\n",
       "高端装备制造    1993\n",
       "机器人       1816\n",
       "新材料       1803\n",
       "先进制造其他     749\n",
       "金属矿业制造     682\n",
       "航空航天       642\n",
       "电工电气       591\n",
       "纺织行业       249\n",
       "造纸行业       210\n",
       "木材加工制造      54\n",
       "Name: count, dtype: int64"
      ]
     },
     "execution_count": 64,
     "metadata": {},
     "output_type": "execute_result"
    }
   ],
   "source": [
    "invest_co[invest_co['all']==1].子行业.value_counts()"
   ]
  },
  {
   "cell_type": "code",
   "execution_count": 65,
   "id": "7254adad-8c54-4b44-98dc-4c1ed773aa5d",
   "metadata": {},
   "outputs": [
    {
     "data": {
      "text/plain": [
       "子行业\n",
       "集成电路       4908\n",
       "新材料        2529\n",
       "新能源        2238\n",
       "环保         2236\n",
       "机械设备       2181\n",
       "智能装备       1648\n",
       "机器人        1559\n",
       "轻工制造       1446\n",
       "化工产业       1347\n",
       "通信制造       1330\n",
       "电子设备       1286\n",
       "传感设备        934\n",
       "家用电器        880\n",
       "工业4.0       790\n",
       "采矿业         628\n",
       "AR/VR设备     561\n",
       "航空航天        431\n",
       "可穿戴设备       372\n",
       "无人机         353\n",
       "公用事业        292\n",
       "纺织业         264\n",
       "国防军工        242\n",
       "3D打印        207\n",
       "园林园艺        146\n",
       "其他工业        119\n",
       "其他传统制造      117\n",
       "数字货币          1\n",
       "数字人           1\n",
       "Name: count, dtype: int64"
      ]
     },
     "execution_count": 65,
     "metadata": {},
     "output_type": "execute_result"
    }
   ],
   "source": [
    "invest_co[invest_co['all']==0].子行业.value_counts()"
   ]
  },
  {
   "cell_type": "code",
   "execution_count": 70,
   "id": "c1aefbeb-3662-442a-8be3-554f5fe24cda",
   "metadata": {},
   "outputs": [
    {
     "data": {
      "text/plain": [
       "{'新材料', '机器人', '机械设备', '航空航天'}"
      ]
     },
     "execution_count": 70,
     "metadata": {},
     "output_type": "execute_result"
    }
   ],
   "source": [
    "zhy=set(invest_co[invest_co['all']==1].子行业.unique())&set(invest_co[invest_co['all']==0].子行业.unique())\n",
    "zhy"
   ]
  },
  {
   "cell_type": "code",
   "execution_count": 71,
   "id": "d59862e2-a15e-470c-817a-0e64a2a30395",
   "metadata": {},
   "outputs": [
    {
     "data": {
      "text/plain": [
       "行业\n",
       "传统制造              [机械设备]\n",
       "先进制造    [机器人, 新材料, 航空航天]\n",
       "Name: 子行业, dtype: object"
      ]
     },
     "execution_count": 71,
     "metadata": {},
     "output_type": "execute_result"
    }
   ],
   "source": [
    "invest_co.loc[invest_co.子行业.isin(zhy)].groupby('行业').子行业.unique()"
   ]
  },
  {
   "cell_type": "code",
   "execution_count": 72,
   "id": "093c9ded-d0f6-474d-927c-a75b8d6538cb",
   "metadata": {},
   "outputs": [],
   "source": [
    "del patent_mfg"
   ]
  },
  {
   "cell_type": "code",
   "execution_count": 11,
   "id": "850fe5f0-6b97-4282-85c8-d819fbb78fd8",
   "metadata": {},
   "outputs": [
    {
     "data": {
      "text/plain": [
       "(2043777, 13)"
      ]
     },
     "execution_count": 11,
     "metadata": {},
     "output_type": "execute_result"
    }
   ],
   "source": [
    "patent_co=pd.read_csv('data/patent_co_invest_mfg_2043_15k_202410.csv',index_col=0)\n",
    "patent_co.shape"
   ]
  },
  {
   "cell_type": "code",
   "execution_count": 7,
   "id": "edc00d95-4a63-4aef-bb47-e061d9960b9d",
   "metadata": {},
   "outputs": [
    {
     "data": {
      "text/plain": [
       "0"
      ]
     },
     "execution_count": 7,
     "metadata": {},
     "output_type": "execute_result"
    }
   ],
   "source": [
    "patent_co['公开（公告）日']=pd.to_datetime(patent_co['公开（公告）日'])\n",
    "patent_co['申请日']=pd.to_datetime(patent_co['申请日'])\n",
    "patent_co['Co'] = np.where(pd.notna(patent_co.企业全称),patent_co.企业全称,patent_co.权利人)#当前法律状态=='授权'\n",
    "patent_co['Co'].isna().sum()"
   ]
  },
  {
   "cell_type": "code",
   "execution_count": 8,
   "id": "53fb41a2-3cfe-4b43-8042-c6b1f1fa6d0b",
   "metadata": {},
   "outputs": [
    {
     "data": {
      "text/plain": [
       "(1037773, 1401478)"
      ]
     },
     "execution_count": 8,
     "metadata": {},
     "output_type": "execute_result"
    }
   ],
   "source": [
    "patent_co['传统制造']=patent_co['Co'].isin(invest_co.loc[invest_co.行业=='传统制造','企业全称']).astype(int)\n",
    "patent_co['先进制造']=patent_co['Co'].isin(invest_co.loc[invest_co.行业=='先进制造','企业全称']).astype(int)\n",
    "patent_co['传统制造'].sum(),patent_co['先进制造'].sum()"
   ]
  },
  {
   "cell_type": "code",
   "execution_count": 12,
   "id": "eef926ed-1e26-44ae-8fba-6c0ee09ec1af",
   "metadata": {},
   "outputs": [
    {
     "data": {
      "text/plain": [
       "count    2.038206e+06\n",
       "mean     2.411021e+02\n",
       "std      6.835491e+01\n",
       "min      6.000000e+00\n",
       "25%      2.040000e+02\n",
       "50%      2.590000e+02\n",
       "75%      2.890000e+02\n",
       "max      1.282900e+04\n",
       "Name: 摘要 (中文), dtype: float64"
      ]
     },
     "execution_count": 12,
     "metadata": {},
     "output_type": "execute_result"
    }
   ],
   "source": [
    "patent_co['摘要 (中文)'].str.len().describe()"
   ]
  },
  {
   "cell_type": "code",
   "execution_count": 8,
   "id": "eea3caae-565c-42c2-92c5-b39b35ce0b84",
   "metadata": {},
   "outputs": [
    {
     "name": "stderr",
     "output_type": "stream",
     "text": [
      "Building prefix dict from the default dictionary ...\n",
      "Loading model from cache C:\\Users\\Prime\\AppData\\Local\\Temp\\jieba.cache\n",
      "Loading model cost 0.743 seconds.\n",
      "Prefix dict has been built successfully.\n"
     ]
    }
   ],
   "source": [
    "from w2v_lda import *\n",
    "import time\n",
    "Stopwords=set(read2list('data\\\\专利停用词表2024.txt'))\n",
    "jieba.initialize()\n",
    "jieba.load_userdict('data\\\\专利分词词库.txt') "
   ]
  },
  {
   "cell_type": "code",
   "execution_count": 75,
   "id": "300fe7bf-129e-4379-998c-e3ace5d00b4f",
   "metadata": {},
   "outputs": [
    {
     "name": "stdout",
     "output_type": "stream",
     "text": [
      "1: 3720.9629690647125\n",
      "{'vector_size': 300, 'sg': 1, 'window': 5, 'len_below': 2, 'no_below': 3, 'min_count': 3, 'count_fifter': 5, 'num_topics': 75, 'top_n_words': 30, 'top_n_topics': 4, 'minimum_probability': 0.03, 'weight_threshold_topics': 0.03, 'chunksize': 3000, 'keep_n': 800000, 'passes': 3, 'no_above': 0.99}\n",
      "2: 16882.163140773773 (273800, 213471, 213471)\n",
      "3: 18747.691304206848 (2037180, 300)\n"
     ]
    },
    {
     "ename": "ArrowMemoryError",
     "evalue": "malloc of size 16297408 failed",
     "output_type": "error",
     "traceback": [
      "\u001b[1;31m---------------------------------------------------------------------------\u001b[0m",
      "\u001b[1;31mArrowMemoryError\u001b[0m                          Traceback (most recent call last)",
      "File \u001b[1;32m<timed exec>:15\u001b[0m\n",
      "File \u001b[1;32mE:\\Documents\\Jupyter\\w2v_lda.py:248\u001b[0m, in \u001b[0;36mW2vLda.docs_vec\u001b[1;34m(self, documents_vec, patent_data)\u001b[0m\n\u001b[0;32m    243\u001b[0m     doc_lda_w2v\u001b[38;5;241m=\u001b[39mdoc_lda_w2v\u001b[38;5;241m.\u001b[39mjoin(patent_data[\u001b[38;5;124m'\u001b[39m\u001b[38;5;124m公开（公告）号\u001b[39m\u001b[38;5;124m'\u001b[39m])\u001b[38;5;241m.\u001b[39mset_index(\u001b[38;5;124m'\u001b[39m\u001b[38;5;124m公开（公告）号\u001b[39m\u001b[38;5;124m'\u001b[39m)\n\u001b[0;32m    244\u001b[0m     \u001b[38;5;66;03m# doc_lda_w2v.merge(id_data['序号'], left_index=True, right_index=True, how='left')\u001b[39;00m\n\u001b[0;32m    245\u001b[0m     \u001b[38;5;66;03m# doc_lda_w2v['序号'] = patent_data.loc[doc_lda_w2v.index,'序号'] \u001b[39;00m\n\u001b[0;32m    246\u001b[0m     \u001b[38;5;66;03m# doc_lda_w2v.set_index('序号', inplace=True)\u001b[39;00m\n\u001b[1;32m--> 248\u001b[0m \u001b[43mdoc_lda_w2v\u001b[49m\u001b[38;5;241;43m.\u001b[39;49m\u001b[43mto_parquet\u001b[49m\u001b[43m(\u001b[49m\u001b[38;5;124;43mf\u001b[39;49m\u001b[38;5;124;43m'\u001b[39;49m\u001b[38;5;124;43mdata\u001b[39;49m\u001b[38;5;130;43;01m\\\\\u001b[39;49;00m\u001b[38;5;124;43mdocuments_vec_\u001b[39;49m\u001b[38;5;132;43;01m{\u001b[39;49;00m\u001b[38;5;28;43mself\u001b[39;49m\u001b[38;5;241;43m.\u001b[39;49m\u001b[43msuffix\u001b[49m\u001b[38;5;132;43;01m}\u001b[39;49;00m\u001b[38;5;124;43m.parquet\u001b[39;49m\u001b[38;5;124;43m'\u001b[39;49m\u001b[43m)\u001b[49m    \n\u001b[0;32m    249\u001b[0m \u001b[38;5;28;01mreturn\u001b[39;00m doc_lda_w2v\n",
      "File \u001b[1;32m~\\AppData\\Roaming\\Python\\Python39\\site-packages\\pandas\\core\\frame.py:2889\u001b[0m, in \u001b[0;36mDataFrame.to_parquet\u001b[1;34m(self, path, engine, compression, index, partition_cols, storage_options, **kwargs)\u001b[0m\n\u001b[0;32m   2802\u001b[0m \u001b[38;5;250m\u001b[39m\u001b[38;5;124;03m\"\"\"\u001b[39;00m\n\u001b[0;32m   2803\u001b[0m \u001b[38;5;124;03mWrite a DataFrame to the binary parquet format.\u001b[39;00m\n\u001b[0;32m   2804\u001b[0m \n\u001b[1;32m   (...)\u001b[0m\n\u001b[0;32m   2885\u001b[0m \u001b[38;5;124;03m>>> content = f.read()\u001b[39;00m\n\u001b[0;32m   2886\u001b[0m \u001b[38;5;124;03m\"\"\"\u001b[39;00m\n\u001b[0;32m   2887\u001b[0m \u001b[38;5;28;01mfrom\u001b[39;00m \u001b[38;5;21;01mpandas\u001b[39;00m\u001b[38;5;21;01m.\u001b[39;00m\u001b[38;5;21;01mio\u001b[39;00m\u001b[38;5;21;01m.\u001b[39;00m\u001b[38;5;21;01mparquet\u001b[39;00m \u001b[38;5;28;01mimport\u001b[39;00m to_parquet\n\u001b[1;32m-> 2889\u001b[0m \u001b[38;5;28;01mreturn\u001b[39;00m to_parquet(\n\u001b[0;32m   2890\u001b[0m     \u001b[38;5;28mself\u001b[39m,\n\u001b[0;32m   2891\u001b[0m     path,\n\u001b[0;32m   2892\u001b[0m     engine,\n\u001b[0;32m   2893\u001b[0m     compression\u001b[38;5;241m=\u001b[39mcompression,\n\u001b[0;32m   2894\u001b[0m     index\u001b[38;5;241m=\u001b[39mindex,\n\u001b[0;32m   2895\u001b[0m     partition_cols\u001b[38;5;241m=\u001b[39mpartition_cols,\n\u001b[0;32m   2896\u001b[0m     storage_options\u001b[38;5;241m=\u001b[39mstorage_options,\n\u001b[0;32m   2897\u001b[0m     \u001b[38;5;241m*\u001b[39m\u001b[38;5;241m*\u001b[39mkwargs,\n\u001b[0;32m   2898\u001b[0m )\n",
      "File \u001b[1;32m~\\AppData\\Roaming\\Python\\Python39\\site-packages\\pandas\\io\\parquet.py:411\u001b[0m, in \u001b[0;36mto_parquet\u001b[1;34m(df, path, engine, compression, index, storage_options, partition_cols, **kwargs)\u001b[0m\n\u001b[0;32m    407\u001b[0m impl \u001b[38;5;241m=\u001b[39m get_engine(engine)\n\u001b[0;32m    409\u001b[0m path_or_buf: FilePath \u001b[38;5;241m|\u001b[39m WriteBuffer[\u001b[38;5;28mbytes\u001b[39m] \u001b[38;5;241m=\u001b[39m io\u001b[38;5;241m.\u001b[39mBytesIO() \u001b[38;5;28;01mif\u001b[39;00m path \u001b[38;5;129;01mis\u001b[39;00m \u001b[38;5;28;01mNone\u001b[39;00m \u001b[38;5;28;01melse\u001b[39;00m path\n\u001b[1;32m--> 411\u001b[0m impl\u001b[38;5;241m.\u001b[39mwrite(\n\u001b[0;32m    412\u001b[0m     df,\n\u001b[0;32m    413\u001b[0m     path_or_buf,\n\u001b[0;32m    414\u001b[0m     compression\u001b[38;5;241m=\u001b[39mcompression,\n\u001b[0;32m    415\u001b[0m     index\u001b[38;5;241m=\u001b[39mindex,\n\u001b[0;32m    416\u001b[0m     partition_cols\u001b[38;5;241m=\u001b[39mpartition_cols,\n\u001b[0;32m    417\u001b[0m     storage_options\u001b[38;5;241m=\u001b[39mstorage_options,\n\u001b[0;32m    418\u001b[0m     \u001b[38;5;241m*\u001b[39m\u001b[38;5;241m*\u001b[39mkwargs,\n\u001b[0;32m    419\u001b[0m )\n\u001b[0;32m    421\u001b[0m \u001b[38;5;28;01mif\u001b[39;00m path \u001b[38;5;129;01mis\u001b[39;00m \u001b[38;5;28;01mNone\u001b[39;00m:\n\u001b[0;32m    422\u001b[0m     \u001b[38;5;28;01massert\u001b[39;00m \u001b[38;5;28misinstance\u001b[39m(path_or_buf, io\u001b[38;5;241m.\u001b[39mBytesIO)\n",
      "File \u001b[1;32m~\\AppData\\Roaming\\Python\\Python39\\site-packages\\pandas\\io\\parquet.py:159\u001b[0m, in \u001b[0;36mPyArrowImpl.write\u001b[1;34m(self, df, path, compression, index, storage_options, partition_cols, **kwargs)\u001b[0m\n\u001b[0;32m    156\u001b[0m \u001b[38;5;28;01mif\u001b[39;00m index \u001b[38;5;129;01mis\u001b[39;00m \u001b[38;5;129;01mnot\u001b[39;00m \u001b[38;5;28;01mNone\u001b[39;00m:\n\u001b[0;32m    157\u001b[0m     from_pandas_kwargs[\u001b[38;5;124m\"\u001b[39m\u001b[38;5;124mpreserve_index\u001b[39m\u001b[38;5;124m\"\u001b[39m] \u001b[38;5;241m=\u001b[39m index\n\u001b[1;32m--> 159\u001b[0m table \u001b[38;5;241m=\u001b[39m \u001b[38;5;28mself\u001b[39m\u001b[38;5;241m.\u001b[39mapi\u001b[38;5;241m.\u001b[39mTable\u001b[38;5;241m.\u001b[39mfrom_pandas(df, \u001b[38;5;241m*\u001b[39m\u001b[38;5;241m*\u001b[39mfrom_pandas_kwargs)\n\u001b[0;32m    161\u001b[0m path_or_handle, handles, kwargs[\u001b[38;5;124m\"\u001b[39m\u001b[38;5;124mfilesystem\u001b[39m\u001b[38;5;124m\"\u001b[39m] \u001b[38;5;241m=\u001b[39m _get_path_or_handle(\n\u001b[0;32m    162\u001b[0m     path,\n\u001b[0;32m    163\u001b[0m     kwargs\u001b[38;5;241m.\u001b[39mpop(\u001b[38;5;124m\"\u001b[39m\u001b[38;5;124mfilesystem\u001b[39m\u001b[38;5;124m\"\u001b[39m, \u001b[38;5;28;01mNone\u001b[39;00m),\n\u001b[1;32m   (...)\u001b[0m\n\u001b[0;32m    166\u001b[0m     is_dir\u001b[38;5;241m=\u001b[39mpartition_cols \u001b[38;5;129;01mis\u001b[39;00m \u001b[38;5;129;01mnot\u001b[39;00m \u001b[38;5;28;01mNone\u001b[39;00m,\n\u001b[0;32m    167\u001b[0m )\n\u001b[0;32m    168\u001b[0m \u001b[38;5;28;01mif\u001b[39;00m (\n\u001b[0;32m    169\u001b[0m     \u001b[38;5;28misinstance\u001b[39m(path_or_handle, io\u001b[38;5;241m.\u001b[39mBufferedWriter)\n\u001b[0;32m    170\u001b[0m     \u001b[38;5;129;01mand\u001b[39;00m \u001b[38;5;28mhasattr\u001b[39m(path_or_handle, \u001b[38;5;124m\"\u001b[39m\u001b[38;5;124mname\u001b[39m\u001b[38;5;124m\"\u001b[39m)\n\u001b[0;32m    171\u001b[0m     \u001b[38;5;129;01mand\u001b[39;00m \u001b[38;5;28misinstance\u001b[39m(path_or_handle\u001b[38;5;241m.\u001b[39mname, (\u001b[38;5;28mstr\u001b[39m, \u001b[38;5;28mbytes\u001b[39m))\n\u001b[0;32m    172\u001b[0m ):\n",
      "File \u001b[1;32m~\\AppData\\Roaming\\Python\\Python39\\site-packages\\pyarrow\\table.pxi:3874\u001b[0m, in \u001b[0;36mpyarrow.lib.Table.from_pandas\u001b[1;34m()\u001b[0m\n",
      "File \u001b[1;32m~\\AppData\\Roaming\\Python\\Python39\\site-packages\\pyarrow\\pandas_compat.py:624\u001b[0m, in \u001b[0;36mdataframe_to_arrays\u001b[1;34m(df, schema, preserve_index, nthreads, columns, safe)\u001b[0m\n\u001b[0;32m    622\u001b[0m     \u001b[38;5;28;01mfor\u001b[39;00m i, maybe_fut \u001b[38;5;129;01min\u001b[39;00m \u001b[38;5;28menumerate\u001b[39m(arrays):\n\u001b[0;32m    623\u001b[0m         \u001b[38;5;28;01mif\u001b[39;00m \u001b[38;5;28misinstance\u001b[39m(maybe_fut, futures\u001b[38;5;241m.\u001b[39mFuture):\n\u001b[1;32m--> 624\u001b[0m             arrays[i] \u001b[38;5;241m=\u001b[39m \u001b[43mmaybe_fut\u001b[49m\u001b[38;5;241;43m.\u001b[39;49m\u001b[43mresult\u001b[49m\u001b[43m(\u001b[49m\u001b[43m)\u001b[49m\n\u001b[0;32m    626\u001b[0m types \u001b[38;5;241m=\u001b[39m [x\u001b[38;5;241m.\u001b[39mtype \u001b[38;5;28;01mfor\u001b[39;00m x \u001b[38;5;129;01min\u001b[39;00m arrays]\n\u001b[0;32m    628\u001b[0m \u001b[38;5;28;01mif\u001b[39;00m schema \u001b[38;5;129;01mis\u001b[39;00m \u001b[38;5;28;01mNone\u001b[39;00m:\n",
      "File \u001b[1;32mC:\\Program Files\\Python\\Python39\\lib\\concurrent\\futures\\_base.py:439\u001b[0m, in \u001b[0;36mFuture.result\u001b[1;34m(self, timeout)\u001b[0m\n\u001b[0;32m    437\u001b[0m     \u001b[38;5;28;01mraise\u001b[39;00m CancelledError()\n\u001b[0;32m    438\u001b[0m \u001b[38;5;28;01melif\u001b[39;00m \u001b[38;5;28mself\u001b[39m\u001b[38;5;241m.\u001b[39m_state \u001b[38;5;241m==\u001b[39m FINISHED:\n\u001b[1;32m--> 439\u001b[0m     \u001b[38;5;28;01mreturn\u001b[39;00m \u001b[38;5;28;43mself\u001b[39;49m\u001b[38;5;241;43m.\u001b[39;49m\u001b[43m__get_result\u001b[49m\u001b[43m(\u001b[49m\u001b[43m)\u001b[49m\n\u001b[0;32m    441\u001b[0m \u001b[38;5;28mself\u001b[39m\u001b[38;5;241m.\u001b[39m_condition\u001b[38;5;241m.\u001b[39mwait(timeout)\n\u001b[0;32m    443\u001b[0m \u001b[38;5;28;01mif\u001b[39;00m \u001b[38;5;28mself\u001b[39m\u001b[38;5;241m.\u001b[39m_state \u001b[38;5;129;01min\u001b[39;00m [CANCELLED, CANCELLED_AND_NOTIFIED]:\n",
      "File \u001b[1;32mC:\\Program Files\\Python\\Python39\\lib\\concurrent\\futures\\_base.py:391\u001b[0m, in \u001b[0;36mFuture.__get_result\u001b[1;34m(self)\u001b[0m\n\u001b[0;32m    389\u001b[0m \u001b[38;5;28;01mif\u001b[39;00m \u001b[38;5;28mself\u001b[39m\u001b[38;5;241m.\u001b[39m_exception:\n\u001b[0;32m    390\u001b[0m     \u001b[38;5;28;01mtry\u001b[39;00m:\n\u001b[1;32m--> 391\u001b[0m         \u001b[38;5;28;01mraise\u001b[39;00m \u001b[38;5;28mself\u001b[39m\u001b[38;5;241m.\u001b[39m_exception\n\u001b[0;32m    392\u001b[0m     \u001b[38;5;28;01mfinally\u001b[39;00m:\n\u001b[0;32m    393\u001b[0m         \u001b[38;5;66;03m# Break a reference cycle with the exception in self._exception\u001b[39;00m\n\u001b[0;32m    394\u001b[0m         \u001b[38;5;28mself\u001b[39m \u001b[38;5;241m=\u001b[39m \u001b[38;5;28;01mNone\u001b[39;00m\n",
      "File \u001b[1;32mC:\\Program Files\\Python\\Python39\\lib\\concurrent\\futures\\thread.py:58\u001b[0m, in \u001b[0;36m_WorkItem.run\u001b[1;34m(self)\u001b[0m\n\u001b[0;32m     55\u001b[0m     \u001b[38;5;28;01mreturn\u001b[39;00m\n\u001b[0;32m     57\u001b[0m \u001b[38;5;28;01mtry\u001b[39;00m:\n\u001b[1;32m---> 58\u001b[0m     result \u001b[38;5;241m=\u001b[39m \u001b[38;5;28mself\u001b[39m\u001b[38;5;241m.\u001b[39mfn(\u001b[38;5;241m*\u001b[39m\u001b[38;5;28mself\u001b[39m\u001b[38;5;241m.\u001b[39margs, \u001b[38;5;241m*\u001b[39m\u001b[38;5;241m*\u001b[39m\u001b[38;5;28mself\u001b[39m\u001b[38;5;241m.\u001b[39mkwargs)\n\u001b[0;32m     59\u001b[0m \u001b[38;5;28;01mexcept\u001b[39;00m \u001b[38;5;167;01mBaseException\u001b[39;00m \u001b[38;5;28;01mas\u001b[39;00m exc:\n\u001b[0;32m     60\u001b[0m     \u001b[38;5;28mself\u001b[39m\u001b[38;5;241m.\u001b[39mfuture\u001b[38;5;241m.\u001b[39mset_exception(exc)\n",
      "File \u001b[1;32m~\\AppData\\Roaming\\Python\\Python39\\site-packages\\pyarrow\\pandas_compat.py:592\u001b[0m, in \u001b[0;36mdataframe_to_arrays.<locals>.convert_column\u001b[1;34m(col, field)\u001b[0m\n\u001b[0;32m    589\u001b[0m     type_ \u001b[38;5;241m=\u001b[39m field\u001b[38;5;241m.\u001b[39mtype\n\u001b[0;32m    591\u001b[0m \u001b[38;5;28;01mtry\u001b[39;00m:\n\u001b[1;32m--> 592\u001b[0m     result \u001b[38;5;241m=\u001b[39m \u001b[43mpa\u001b[49m\u001b[38;5;241;43m.\u001b[39;49m\u001b[43marray\u001b[49m\u001b[43m(\u001b[49m\u001b[43mcol\u001b[49m\u001b[43m,\u001b[49m\u001b[43m \u001b[49m\u001b[38;5;28;43mtype\u001b[39;49m\u001b[38;5;241;43m=\u001b[39;49m\u001b[43mtype_\u001b[49m\u001b[43m,\u001b[49m\u001b[43m \u001b[49m\u001b[43mfrom_pandas\u001b[49m\u001b[38;5;241;43m=\u001b[39;49m\u001b[38;5;28;43;01mTrue\u001b[39;49;00m\u001b[43m,\u001b[49m\u001b[43m \u001b[49m\u001b[43msafe\u001b[49m\u001b[38;5;241;43m=\u001b[39;49m\u001b[43msafe\u001b[49m\u001b[43m)\u001b[49m\n\u001b[0;32m    593\u001b[0m \u001b[38;5;28;01mexcept\u001b[39;00m (pa\u001b[38;5;241m.\u001b[39mArrowInvalid,\n\u001b[0;32m    594\u001b[0m         pa\u001b[38;5;241m.\u001b[39mArrowNotImplementedError,\n\u001b[0;32m    595\u001b[0m         pa\u001b[38;5;241m.\u001b[39mArrowTypeError) \u001b[38;5;28;01mas\u001b[39;00m e:\n\u001b[0;32m    596\u001b[0m     e\u001b[38;5;241m.\u001b[39margs \u001b[38;5;241m+\u001b[39m\u001b[38;5;241m=\u001b[39m (\u001b[38;5;124m\"\u001b[39m\u001b[38;5;124mConversion failed for column \u001b[39m\u001b[38;5;132;01m{!s}\u001b[39;00m\u001b[38;5;124m with type \u001b[39m\u001b[38;5;132;01m{!s}\u001b[39;00m\u001b[38;5;124m\"\u001b[39m\n\u001b[0;32m    597\u001b[0m                \u001b[38;5;241m.\u001b[39mformat(col\u001b[38;5;241m.\u001b[39mname, col\u001b[38;5;241m.\u001b[39mdtype),)\n",
      "File \u001b[1;32m~\\AppData\\Roaming\\Python\\Python39\\site-packages\\pyarrow\\array.pxi:339\u001b[0m, in \u001b[0;36mpyarrow.lib.array\u001b[1;34m()\u001b[0m\n",
      "File \u001b[1;32m~\\AppData\\Roaming\\Python\\Python39\\site-packages\\pyarrow\\array.pxi:85\u001b[0m, in \u001b[0;36mpyarrow.lib._ndarray_to_array\u001b[1;34m()\u001b[0m\n",
      "File \u001b[1;32m~\\AppData\\Roaming\\Python\\Python39\\site-packages\\pyarrow\\error.pxi:91\u001b[0m, in \u001b[0;36mpyarrow.lib.check_status\u001b[1;34m()\u001b[0m\n",
      "\u001b[1;31mArrowMemoryError\u001b[0m: malloc of size 16297408 failed"
     ]
    }
   ],
   "source": [
    "%%time\n",
    "st=time.time()\n",
    "model=W2vLda(sentences=None,patent_data=patent_co,co_data=patent_co['企业全称'],suffix='invest_mfg',stop_words=Stopwords,\n",
    "     vector_size=300,sg=1,window=5,count_fifter=5,min_count=3,no_below=3,num_topics=75,chunksize=3000,keep_n=800000,passes=3,no_above=0.99,\n",
    "     top_n_words=30, top_n_topics=4,minimum_probability=0.03,weight_threshold_topics=0.03)\n",
    "\n",
    "print('1:',time.time()-st)\n",
    "\n",
    "res=model.on_corpus()#vector_size=300,num_topics=75\n",
    "print('2:',time.time()-st,res)\n",
    "model.save()\n",
    "\n",
    "topics_vec,documents_vec=model.on_topics()\n",
    "print('3:',time.time()-st,documents_vec.shape)\n",
    "\n",
    "doc_lda_w2v =model.docs_vec(documents_vec)"
   ]
  },
  {
   "cell_type": "code",
   "execution_count": 19,
   "id": "593d21b3-4060-4d9f-a061-0e824abf9a6e",
   "metadata": {},
   "outputs": [],
   "source": [
    "patent_co.groupby('Co').apply(lambda x: x['公开（公告）号'].tolist()).reset_index(name='index_list').to_parquet(f'data\\patent_co_ids_invest_mfg.parquet', index=False) "
   ]
  },
  {
   "cell_type": "code",
   "execution_count": 32,
   "id": "689b117f-65ba-4037-962a-881c46f0e20c",
   "metadata": {},
   "outputs": [],
   "source": [
    "import w2v_lda\n",
    "import importlib\n",
    "importlib.reload(w2v_lda)\n",
    "from w2v_lda import *"
   ]
  },
  {
   "cell_type": "code",
   "execution_count": 33,
   "id": "bf2a17f5-432c-4f40-b71b-dbd79dd8518b",
   "metadata": {
    "scrolled": true
   },
   "outputs": [
    {
     "data": {
      "text/plain": [
       "(2037180,)"
      ]
     },
     "execution_count": 33,
     "metadata": {},
     "output_type": "execute_result"
    }
   ],
   "source": [
    "model=W2vLda(sentences=None,patent_data=None,co_data=patent_co['Co'],suffix='invest_mfg',stop_words=Stopwords,\n",
    "     vector_size=300,sg=1,window=5,count_fifter=5,min_count=3,no_below=3,num_topics=75,chunksize=3000,keep_n=800000,passes=3,no_above=0.99,\n",
    "     top_n_words=30, top_n_topics=4,minimum_probability=0.03,weight_threshold_topics=0.03)\n",
    "model.sentences.shape"
   ]
  },
  {
   "cell_type": "code",
   "execution_count": 34,
   "id": "0ab2f6b7-55a1-42ea-afe6-3ee4072e60c5",
   "metadata": {},
   "outputs": [],
   "source": [
    "model.load(lda=False)"
   ]
  },
  {
   "cell_type": "code",
   "execution_count": 39,
   "id": "e9c465a5-4344-41c1-9259-f37c2f618d79",
   "metadata": {},
   "outputs": [
    {
     "data": {
      "text/plain": [
       "(2037180, 1410530, 1406032)"
      ]
     },
     "execution_count": 39,
     "metadata": {},
     "output_type": "execute_result"
    }
   ],
   "source": [
    "sentences_all=model.sentences.copy()\n",
    "filter_values=patent_co.loc[patent_co['先进制造']==1,'公开（公告）号']\n",
    "model.suffix = 'invest_mfg_xj'\n",
    "model.sentences=model.sentences[model.sentences.index.isin(filter_values)]\n",
    "len(sentences_all),len(model.sentences),len(filter_values)"
   ]
  },
  {
   "cell_type": "code",
   "execution_count": 40,
   "id": "6702e427-5e44-4dd6-9831-533e5ddd95e5",
   "metadata": {},
   "outputs": [
    {
     "name": "stdout",
     "output_type": "stream",
     "text": [
      "{'vector_size': 300, 'sg': 1, 'window': 5, 'len_below': 2, 'no_below': 3, 'min_count': 3, 'count_fifter': 5, 'num_topics': 75, 'top_n_words': 30, 'top_n_topics': 4, 'minimum_probability': 0.03, 'weight_threshold_topics': 0.03, 'chunksize': 3000, 'keep_n': 800000, 'passes': 3, 'no_above': 0.99}\n",
      "CPU times: total: 2h 4min 1s\n",
      "Wall time: 2h 4min 11s\n"
     ]
    },
    {
     "data": {
      "text/plain": [
       "(273800, 213471, 213471)"
      ]
     },
     "execution_count": 40,
     "metadata": {},
     "output_type": "execute_result"
    }
   ],
   "source": [
    "%%time\n",
    "model.on_corpus()"
   ]
  },
  {
   "cell_type": "code",
   "execution_count": 41,
   "id": "89dfbf7a-315a-4b13-a201-fdcace250d77",
   "metadata": {},
   "outputs": [
    {
     "data": {
      "text/plain": [
       "word\n",
       "效率    11\n",
       "降低    10\n",
       "位于     8\n",
       "过程     7\n",
       "情况     7\n",
       "避免     6\n",
       "相对     6\n",
       "判断     6\n",
       "内部     6\n",
       "表面     6\n",
       "生成     6\n",
       "设有     6\n",
       "性能     5\n",
       "依次     5\n",
       "方式     5\n",
       "运行     5\n",
       "实时     5\n",
       "需要     5\n",
       "接收     4\n",
       "有效     4\n",
       "效果     4\n",
       "环境     4\n",
       "快速     4\n",
       "工作     4\n",
       "处于     4\n",
       "结构     4\n",
       "成本     4\n",
       "质量     3\n",
       "分析     3\n",
       "时间     3\n",
       "Name: count, dtype: int64"
      ]
     },
     "execution_count": 41,
     "metadata": {},
     "output_type": "execute_result"
    }
   ],
   "source": [
    "model.topics_words(topn=30).value_counts()[:30]"
   ]
  },
  {
   "cell_type": "code",
   "execution_count": 57,
   "id": "249a916a-16d3-46e1-834e-c375a1e127b8",
   "metadata": {},
   "outputs": [
    {
     "name": "stdout",
     "output_type": "stream",
     "text": [
      "CPU times: total: 21min 35s\n",
      "Wall time: 21min 12s\n"
     ]
    },
    {
     "data": {
      "text/plain": [
       "(1410528, 300)"
      ]
     },
     "execution_count": 57,
     "metadata": {},
     "output_type": "execute_result"
    }
   ],
   "source": [
    "%%time\n",
    "topics_vec,documents_vec=model.on_topics()\n",
    "doc_lda_w2v_xj =model.docs_vec(documents_vec)\n",
    "doc_lda_w2v_xj.shape"
   ]
  },
  {
   "cell_type": "code",
   "execution_count": 82,
   "id": "c8b1605f-0970-45f7-b6c3-590288ad5259",
   "metadata": {},
   "outputs": [
    {
     "name": "stdout",
     "output_type": "stream",
     "text": [
      "1: 0.952998161315918 1043954 1038319\n",
      "{'vector_size': 300, 'sg': 1, 'window': 5, 'len_below': 2, 'no_below': 3, 'min_count': 3, 'count_fifter': 5, 'num_topics': 75, 'top_n_words': 30, 'top_n_topics': 4, 'minimum_probability': 0.03, 'weight_threshold_topics': 0.03, 'chunksize': 3000, 'keep_n': 800000, 'passes': 3, 'no_above': 0.99}\n",
      "2: 5595.14247751236 (273800, 213471, 213471)\n",
      "3: 6557.001521110535 (1043954, 300)\n",
      "CPU times: total: 1h 50min 5s\n",
      "Wall time: 1h 49min 47s\n"
     ]
    },
    {
     "data": {
      "text/plain": [
       "(1043952, 300)"
      ]
     },
     "execution_count": 82,
     "metadata": {},
     "output_type": "execute_result"
    }
   ],
   "source": [
    "%%time\n",
    "st=time.time()\n",
    "filter_values=patent_co.loc[patent_co['传统制造']==1,'公开（公告）号']\n",
    "model.suffix = 'invest_mfg_ct'\n",
    "model.sentences=sentences_all[sentences_all.index.isin(filter_values)]\n",
    "print('1:',time.time()-st,len(model.sentences),len(filter_values))\n",
    "\n",
    "model.lda = None\n",
    "res=model.on_corpus()\n",
    "print('2:',time.time()-st,res)\n",
    "topics_vec_ct,documents_vec=model.on_topics()\n",
    "print('3:',time.time()-st,documents_vec.shape)\n",
    "\n",
    "doc_lda_w2v_ct =model.docs_vec(documents_vec)\n",
    "doc_lda_w2v_ct.shape"
   ]
  },
  {
   "cell_type": "code",
   "execution_count": 29,
   "id": "3d593efa-ac56-4004-bfe0-3786317a19a4",
   "metadata": {},
   "outputs": [
    {
     "data": {
      "text/plain": [
       "(1410528, 300)"
      ]
     },
     "execution_count": 29,
     "metadata": {},
     "output_type": "execute_result"
    }
   ],
   "source": [
    "doc_lda_w2v_xj=pd.read_parquet(f'data\\\\documents_vec_invest_mfg_xj.parquet')\n",
    "doc_lda_w2v_xj.shape"
   ]
  },
  {
   "attachments": {
    "fce9e969-0088-49a1-9857-539f67735f1a.jpg": {
     "image/jpeg": "[encoded data removed]"
    }
   },
   "cell_type": "markdown",
   "id": "9297d973-3313-40d4-927a-377474ac3bd2",
   "metadata": {},
   "source": [
    "![c2f7b1e1c3517e129a1a54f68ad0700.jpg](attachment:fce9e969-0088-49a1-9857-539f67735f1a.jpg)"
   ]
  },
  {
   "cell_type": "markdown",
   "id": "869c8180-3932-46f1-bb74-ca2525789ba0",
   "metadata": {},
   "source": [
    "To do list:\n",
    "1.明确初创企业技术相似性的的构建方式：\n",
    "与同行业所有企业的基于IPC的技术相似性度量\n",
    "与同行业所有企业的基于technet的技术相似性度量\n",
    "\n",
    "与同业公司基于IPC的技术相似性 (peer_ipc_closeness)\n",
    "定义：衡量初创公司与同行业所有公司在IPC分类上的相似性。\n",
    "构造方式：（过去3年可以进行替换）\n",
    "步骤 1：在每个融资时间点 t -3 到t年之前，确定每家初创公司基于IPC分类号的专利数量和ipc分类号（记为技术类别 tech_category）。\n",
    "步骤 2：确定所有在 t -3 时刻之前所有同行业公司已有的ipc分类号（记为基础IPC类别 base_ipc_category）。\n",
    "步骤 3：计算每家初创公司的在t-3到t年之间IPC分类号的集合与每一家同业公司的 base_ipc_category 之间的IPC分类号是否有重合的部分，若包含有重合的部分，则将该条专利为相似性专利，统计该公司在过去3年所有专利中相似性专利的占比，记为该公司i与公司j的基于ipc的技术相似度。计算初创公司i与所有同业公司j的基于ipc技术相似度的均值。\n",
    "\n",
    "\n",
    " 与同业公司基于tech_net的技术相似性 (peer_tech_net_closeness )\n",
    "定义：衡量初创公司与上市公司在tech_net形成的技术向量中的相似性。\n",
    "构造方式：\n",
    "步骤 1：在每个融资时间点 t -3 到t年之前，确定每家初创公司基于技术网络的专利向量（记为技术网络类别 tech_net_category）。\n",
    "步骤 2：确定所有在 t -3 时刻之前所有同行业公司基于技术网络的专利向量形成的矩阵（记为基础技术网络 base_tech_net）。\n",
    "步骤 3：计算每家初创公司的 tech_net_category 与所有同业公司的 base_tech_net 之间的余弦相似度均值，记为与所有同业公司基于tech_net的技术相似性。\n",
    "\n",
    "\n",
    "2.分析过往3年专利 IPC和technet相关性：\n",
    "计算在同一行业中，peer_ipc_closeness和peer_tech_net_closeness之间的相关系数大小。\n",
    "\n",
    "3.与上市公司的基于citation的探索性、渐进性变量进行比较，验证technet方法的有效性：\n",
    "计算上市公司的探索性（Explorative）与渐进性（Exploitative）变量，并将基于technet方法构建的变量与渐进性变量进行相关性对比（基于与上市公司的citation比较，可以进一步确定度量技术相似性指标的threshold）\n",
    "\n",
    "4.用初创公司相同ipc的企业做进一步分析体现technet优势：\n",
    "1）从专利层面，统计ipc完全重合的专利，计算这些专利在technet的技术相似性上的是否存在差异\n",
    "2）从公司层面，统计ipc完全重合的公司，计算这些公司在technet的技术相似性上的是否存在差异\n",
    "IPC分类号相同的部分，新的IPC和非新的IPC的patent之间有一定的相似度\n",
    "IPC分类会低估创新性，只能capture最extreme的部分"
   ]
  },
  {
   "cell_type": "code",
   "execution_count": 12,
   "id": "bf2c1042-157b-4585-8b35-2260e48bba4c",
   "metadata": {},
   "outputs": [],
   "source": [
    "patent_co['技术大类'] =patent_co.IPC主分类.str.strip().str[:3]\n",
    "patent_co['引证专利_A'] = patent_co['引证专利'].fillna('').str.split(';').apply(lambda x: [i.strip() for i in x if i.strip()])"
   ]
  },
  {
   "cell_type": "code",
   "execution_count": 22,
   "id": "e913d0e5-a459-493c-b7b1-ff1ecd859a6b",
   "metadata": {},
   "outputs": [
    {
     "name": "stdout",
     "output_type": "stream",
     "text": [
      "1992 8 4\n",
      "1993 14 9\n",
      "1994 17 4\n",
      "1995 24 6\n",
      "1996 39 14\n",
      "1997 57 14\n",
      "1998 74 10\n",
      "1999 105 2\n",
      "2000 145 27\n",
      "2001 237 27\n",
      "2002 343 35\n",
      "2003 472 36\n",
      "2004 654 37\n",
      "2005 887 31\n",
      "2006 1251 45\n",
      "2007 1674 92\n",
      "2008 2303 114\n",
      "2009 2975 125\n",
      "2010 3676 312\n",
      "2011 4427 364\n",
      "2012 5192 324\n",
      "2013 5944 311\n",
      "2014 6693 841\n",
      "2015 7553 1548\n",
      "2016 8407 2160\n",
      "2017 9118 1967\n",
      "2018 9689 1875\n",
      "2019 10131 1719\n",
      "2020 10531 1827\n",
      "2021 14270 2428\n",
      "2022 14916 2771\n",
      "2023 15393 2614\n",
      "2024 15402 735\n",
      "CPU times: total: 13h 5min 18s\n",
      "Wall time: 13h 4min 47s\n"
     ]
    }
   ],
   "source": [
    "%%time\n",
    "knowledge_year=5\n",
    "invest_co_xj=invest_co[invest_co.行业=='先进制造'].copy()#.sort_values(by='交易时间')\n",
    "\n",
    "for year in sorted(invest_co_xj.交易时间.dt.year.unique()):\n",
    "    max_date=pd.to_datetime(year, format='%Y')+ pd.offsets.YearEnd()\n",
    "    filter_invest = invest_co_xj[invest_co_xj.交易时间.dt.year==year]\n",
    "    filter_patent = patent_co[(patent_co.先进制造==1)&(patent_co.申请年 <= year)]# <= data\n",
    "    \n",
    "    if filter_patent.empty:\n",
    "        continue\n",
    "\n",
    "    cosine_sim= {}\n",
    "    ipc_similarity = {}\n",
    "\n",
    "    for n in [1,2,3]:\n",
    "        mask_base=filter_patent.申请日 <  max_date-pd.Timedelta(days=n*365) # pd.Timestamp(year) - pd.DateOffset(years=n)date- pd.DateOffset(years=3)\n",
    "        \n",
    "        base_ipc_category=  set(filter_patent.loc[mask_base, '技术大类'].dropna().unique())# filter_patent[mask_base].groupby('Co')['技术大类'].dropna().apply(set).to_dict(), base_ipc_category.get(group.name, set())\n",
    "\n",
    "        def ipc_similarity_ratio(group):\n",
    "            # tech_set = {ipc for co, ipcs in base_ipc_category.items() if co != group.name for ipc in ipcs}\n",
    "            similar_patent_count = sum(group['技术大类'].apply(lambda ipc: ipc in base_ipc_category))\n",
    "            return  similar_patent_count / group.shape[0] if group.shape[0] else 0\n",
    "\n",
    "        ipc_similarity[n]=filter_patent[~mask_base].groupby('Co').apply(ipc_similarity_ratio)\n",
    "        \n",
    "        group_ids_t = filter_patent[mask_base].groupby('Co')['公开（公告）号'].apply(list)\n",
    "        base_tech_net = group_ids_t.apply(lambda x: doc_lda_w2v_xj.loc[doc_lda_w2v_xj.index.isin(x)].mean(axis=0))\n",
    "     \n",
    "        group_ids_t = filter_patent[~mask_base].groupby('Co')['公开（公告）号'].apply(list)\n",
    "        tech_net_category = group_ids_t.apply(lambda x: doc_lda_w2v_xj.loc[doc_lda_w2v_xj.index.isin(x)].mean(axis=0))\n",
    "\n",
    "        if not tech_net_category.empty and not base_tech_net.empty:\n",
    "            tech_net_category = tech_net_category[tech_net_category.sum(axis=1) != 0]\n",
    "            base_tech_net = base_tech_net[base_tech_net.sum(axis=1) != 0]\n",
    "            cosine_sim_values = cosine_similarity(tech_net_category.values, base_tech_net.values)\n",
    "            cosine_sim[n] = pd.Series(cosine_sim_values.mean(axis=1), index=tech_net_category.index)\n",
    "        else:\n",
    "            cosine_sim[n] =pd.Series(dtype=float)\n",
    "        \n",
    "        \n",
    "    for index,row in filter_invest.iterrows():\n",
    "        company_name = row['企业全称']\n",
    "        date = row['交易时间']\n",
    "\n",
    "        for n in [1,2,3]:\n",
    "            invest_co_xj.at[index,f'peer_ipc_closeness_{n}'] = ipc_similarity[n].get(company_name, 0)\n",
    "            invest_co_xj.at[index, f'peer_tech_net_closeness_{n}'] = cosine_sim[n].loc[company_name].mean() if company_name in cosine_sim[n].index else 0\n",
    "                    \n",
    "        filter_value = filter_patent[filter_patent.Co==company_name].sort_values(['申请日','公开（公告）日']).drop_duplicates(['申请号','专利类型'],keep='last')\n",
    "        if filter_value.empty:\n",
    "            continue\n",
    "\n",
    "        mask_years = filter_value['申请年'].between(year - knowledge_year, year - 1)\n",
    "        tech_category = filter_value.loc[mask_years,'技术大类'].dropna().to_list()\n",
    "        past_citations = filter_value.loc[mask_years,'引证专利_A'].explode().dropna()#.str.strip()\n",
    "        past_patents = filter_value.loc[filter_value['申请年'] != year,'公开（公告）号'].dropna().str.strip()\n",
    "        existing_knowledge = set(past_patents) | set(past_citations)\n",
    "\n",
    "        filter_value_year = filter_value[filter_value['申请年'] ==  year]\n",
    "        if filter_value_year.empty: \n",
    "            continue\n",
    "        explorative_percentage = filter_value_year['引证专利_A'].apply(lambda x:len(set(x) - set(existing_knowledge)) / len(x) if (isinstance(x, list) and len(x)) else 0)\n",
    "        exploitative_percentage = filter_value_year['引证专利_A'].apply(lambda x:len(set(x) & set(existing_knowledge)) / len(x) if (isinstance(x, list) and len(x)) else 0)\n",
    "        \n",
    "        invest_co_xj.at[index, 'explorative'] = (explorative_percentage > 0.8).sum() / len(explorative_percentage) #.mean()\n",
    "        invest_co_xj.at[index, 'exploitative'] = (exploitative_percentage > 0.8).sum() / len(exploitative_percentage)\n",
    "        invest_co_xj.at[index, 'jianjin_patent_num'] = filter_value_year['技术大类'].isin(tech_category).sum()\n",
    "        \n",
    "    print(year,filter_patent['Co'].nunique(),filter_invest['企业全称'].nunique())\n",
    "    del cosine_sim\n",
    "    del ipc_similarity"
   ]
  },
  {
   "cell_type": "code",
   "execution_count": 23,
   "id": "b681373a-ba60-4e40-acbd-9377e148ce1b",
   "metadata": {},
   "outputs": [],
   "source": [
    "invest_co_xj.to_csv('data\\\\invest_patent_先进制造_202410.csv')"
   ]
  },
  {
   "cell_type": "code",
   "execution_count": 9,
   "id": "f8f97b6f-f6a7-413d-bd76-25c8b34dd0f3",
   "metadata": {},
   "outputs": [
    {
     "data": {
      "text/plain": [
       "(1043952, 300)"
      ]
     },
     "execution_count": 9,
     "metadata": {},
     "output_type": "execute_result"
    }
   ],
   "source": [
    "doc_lda_w2v_ct=pd.read_parquet(f'data\\\\documents_vec_invest_mfg_ct.parquet')\n",
    "doc_lda_w2v_ct.shape"
   ]
  },
  {
   "cell_type": "code",
   "execution_count": 43,
   "id": "db23570c-ba91-49d3-ae17-b6795b381eb2",
   "metadata": {},
   "outputs": [
    {
     "data": {
      "text/plain": [
       "Co\n",
       "安徽鑫科新材料股份有限公司     0.000000\n",
       "安泰科技股份有限公司        0.333333\n",
       "河北古城香业集团股份有限公司    0.000000\n",
       "珠海格力电器股份有限公司      0.000000\n",
       "福建福晶科技股份有限公司      0.000000\n",
       "马鞍山钢铁股份有限公司       0.200000\n",
       "dtype: float64"
      ]
     },
     "execution_count": 43,
     "metadata": {},
     "output_type": "execute_result"
    }
   ],
   "source": [
    "ipc_similarity[n]"
   ]
  },
  {
   "cell_type": "code",
   "execution_count": 48,
   "id": "e4343c72-10e7-4fd7-be03-948e17d6dcc8",
   "metadata": {},
   "outputs": [
    {
     "data": {
      "text/html": [
       "<div>\n",
       "<style scoped>\n",
       "    .dataframe tbody tr th:only-of-type {\n",
       "        vertical-align: middle;\n",
       "    }\n",
       "\n",
       "    .dataframe tbody tr th {\n",
       "        vertical-align: top;\n",
       "    }\n",
       "\n",
       "    .dataframe thead th {\n",
       "        text-align: right;\n",
       "    }\n",
       "</style>\n",
       "<table border=\"1\" class=\"dataframe\">\n",
       "  <thead>\n",
       "    <tr style=\"text-align: right;\">\n",
       "      <th></th>\n",
       "      <th>行业</th>\n",
       "      <th>子行业</th>\n",
       "      <th>企业全称</th>\n",
       "      <th>交易时间</th>\n",
       "      <th>交易轮次</th>\n",
       "      <th>all</th>\n",
       "    </tr>\n",
       "  </thead>\n",
       "  <tbody>\n",
       "    <tr>\n",
       "      <th>25034</th>\n",
       "      <td>传统制造</td>\n",
       "      <td>环保</td>\n",
       "      <td>上海飞乐音响股份有限公司</td>\n",
       "      <td>1990-12-19</td>\n",
       "      <td>IPO上市</td>\n",
       "      <td>0</td>\n",
       "    </tr>\n",
       "  </tbody>\n",
       "</table>\n",
       "</div>"
      ],
      "text/plain": [
       "         行业 子行业          企业全称       交易时间   交易轮次  all\n",
       "25034  传统制造  环保  上海飞乐音响股份有限公司 1990-12-19  IPO上市    0"
      ]
     },
     "execution_count": 48,
     "metadata": {},
     "output_type": "execute_result"
    }
   ],
   "source": [
    "invest_co_ct.loc[filter_invest.index] "
   ]
  },
  {
   "cell_type": "code",
   "execution_count": 50,
   "id": "3028144a-5aea-453b-b94f-1e4cf9e94288",
   "metadata": {},
   "outputs": [
    {
     "data": {
      "text/plain": [
       "0.8984980492463559"
      ]
     },
     "execution_count": 50,
     "metadata": {},
     "output_type": "execute_result"
    }
   ],
   "source": [
    "cosine_sim[2].get('马鞍山钢铁股份有限公司')"
   ]
  },
  {
   "cell_type": "code",
   "execution_count": 51,
   "id": "4c641799-ad51-4918-877e-99240831a6ce",
   "metadata": {},
   "outputs": [
    {
     "name": "stdout",
     "output_type": "stream",
     "text": [
      "1990 4 1\n",
      "1992 5 2\n",
      "1993 10 9\n",
      "1994 13 7\n",
      "1995 17 2\n",
      "1996 26 25\n",
      "1997 39 23\n",
      "1998 51 16\n",
      "1999 70 10\n",
      "2000 93 75\n",
      "2001 150 56\n",
      "2002 208 41\n",
      "2003 288 64\n",
      "2004 402 72\n",
      "2005 555 79\n",
      "2006 820 113\n",
      "2007 1103 226\n",
      "2008 1527 266\n",
      "2009 1972 249\n",
      "2010 2431 599\n",
      "2011 2899 687\n",
      "2012 3359 508\n",
      "2013 3809 408\n",
      "2014 4229 813\n",
      "2015 4645 1732\n",
      "2016 4999 2249\n",
      "2017 5278 1679\n",
      "2018 5450 1276\n",
      "2019 5581 1133\n",
      "2020 5702 1139\n",
      "2021 7600 1083\n",
      "2022 7840 1396\n",
      "2023 8013 1344\n",
      "2024 8017 271\n",
      "CPU times: total: 6h 21min 45s\n",
      "Wall time: 6h 21min 22s\n"
     ]
    }
   ],
   "source": [
    "%%time\n",
    "knowledge_year=5\n",
    "invest_co_ct=invest_co[invest_co.行业=='传统制造'].copy()#.sort_values(by='交易时间')\n",
    "\n",
    "for year in sorted(invest_co_ct.交易时间.dt.year.unique()):\n",
    "    max_date=pd.to_datetime(year, format='%Y')+ pd.offsets.YearEnd()\n",
    "    filter_invest = invest_co_ct[invest_co_ct.交易时间.dt.year==year]\n",
    "    filter_patent = patent_co[(patent_co.传统制造==1)&(patent_co.申请年 <= year)]# <= data\n",
    "    \n",
    "    if filter_patent.empty:\n",
    "        continue\n",
    "\n",
    "    for n in [1,2,3]:\n",
    "        mask_base=filter_patent.申请日 <  max_date-pd.Timedelta(days=n*365) # pd.Timestamp(year) - pd.DateOffset(years=n)date- pd.DateOffset(years=3)\n",
    "        \n",
    "        base_ipc_category=  set(filter_patent.loc[mask_base, '技术大类'].dropna().unique())# filter_patent[mask_base].groupby('Co')['技术大类'].dropna().apply(set).to_dict(), base_ipc_category.get(group.name, set())\n",
    "\n",
    "        def ipc_similarity_ratio(group):\n",
    "            # tech_set = {ipc for co, ipcs in base_ipc_category.items() if co != group.name for ipc in ipcs}\n",
    "            similar_patent_count = sum(group['技术大类'].apply(lambda ipc: ipc in base_ipc_category))\n",
    "            return  similar_patent_count / group.shape[0] if group.shape[0] else 0\n",
    "\n",
    "\n",
    "        ipc_similarity=filter_patent[~mask_base].groupby('Co').apply(ipc_similarity_ratio)\n",
    "        invest_co_ct.loc[filter_invest.index,f'peer_ipc_closeness_{n}'] =  filter_invest['企业全称'].map(ipc_similarity)#ipc_similarity[n].get(x, 0)\n",
    "        \n",
    "        group_ids_t = filter_patent[mask_base].groupby('Co')['公开（公告）号'].apply(list)\n",
    "        base_tech_net = group_ids_t.apply(lambda x: doc_lda_w2v_ct.loc[doc_lda_w2v_ct.index.isin(x)].mean(axis=0))\n",
    "     \n",
    "        group_ids_t = filter_patent[~mask_base].groupby('Co')['公开（公告）号'].apply(list)\n",
    "        tech_net_category = group_ids_t.apply(lambda x: doc_lda_w2v_ct.loc[doc_lda_w2v_ct.index.isin(x)].mean(axis=0))\n",
    "        \n",
    "        if not tech_net_category.empty and not base_tech_net.empty:\n",
    "            tech_net_category = tech_net_category[tech_net_category.sum(axis=1) != 0]\n",
    "            base_tech_net = base_tech_net[base_tech_net.sum(axis=1) != 0]\n",
    "            cosine_sim_values = cosine_similarity(tech_net_category.values, base_tech_net.values)\n",
    "            cosine_sim = pd.Series(cosine_sim_values.mean(axis=1), index=tech_net_category.index)\n",
    "            invest_co_ct.loc[filter_invest.index,  f'peer_tech_net_closeness_{n}']=filter_invest['企业全称'].map(lambda x: cosine_sim.get(x, pd.NA))\n",
    "     \n",
    "    for index,row in filter_invest.iterrows():\n",
    "        company_name = row['企业全称']\n",
    "        date = row['交易时间']\n",
    "\n",
    "        # for n in [1,2,3]:\n",
    "        #     invest_co_ct.at[index,f'peer_ipc_closeness_{n}'] = ipc_similarity[n].get(company_name, 0)\n",
    "        #     invest_co_ct.at[index, f'peer_tech_net_closeness_{n}'] = cosine_sim[n].loc[company_name].mean() if company_name in cosine_sim[n].index else 0\n",
    "                    \n",
    "        filter_value = filter_patent[filter_patent.Co==company_name].sort_values(['申请日','公开（公告）日']).drop_duplicates(['申请号','专利类型'],keep='last')\n",
    "        if filter_value.empty:\n",
    "            continue\n",
    "\n",
    "        mask_years = filter_value['申请年'].between(year - knowledge_year, year - 1)\n",
    "        tech_category = filter_value.loc[mask_years,'技术大类'].dropna().to_list()\n",
    "        past_citations = filter_value.loc[mask_years,'引证专利_A'].explode().dropna()#.str.strip()\n",
    "        past_patents = filter_value.loc[filter_value['申请年'] != year,'公开（公告）号'].dropna().str.strip()\n",
    "        existing_knowledge = set(past_patents) | set(past_citations)\n",
    "\n",
    "        filter_value_year = filter_value[filter_value['申请年'] ==  year]\n",
    "        if filter_value_year.empty: \n",
    "            continue\n",
    "        explorative_percentage = filter_value_year['引证专利_A'].apply(lambda x:len(set(x) - set(existing_knowledge)) / len(x) if (isinstance(x, list) and len(x)) else 0)\n",
    "        exploitative_percentage = filter_value_year['引证专利_A'].apply(lambda x:len(set(x) & set(existing_knowledge)) / len(x) if (isinstance(x, list) and len(x)) else 0)\n",
    "        \n",
    "        invest_co_ct.at[index, 'explorative'] = (explorative_percentage > 0.8).sum() / len(explorative_percentage) #.mean()\n",
    "        invest_co_ct.at[index, 'exploitative'] = (exploitative_percentage > 0.8).sum() / len(exploitative_percentage)\n",
    "        invest_co_ct.at[index, 'jianjin_patent_num'] = filter_value_year['技术大类'].isin(tech_category).sum()\n",
    "        \n",
    "    print(year,filter_patent['Co'].nunique(),filter_invest['企业全称'].nunique())\n",
    "\n",
    "\n",
    "invest_co_ct.to_excel('data\\\\invest_patent_传统制造_202410.xlsx')"
   ]
  },
  {
   "cell_type": "code",
   "execution_count": 53,
   "id": "7895417a-e745-494e-9c99-c18fdf6171b6",
   "metadata": {},
   "outputs": [],
   "source": [
    "for n in [1,2,3]:\n",
    "    del invest_co_xj[f'peer_ipc_closeness_{n}']   "
   ]
  },
  {
   "cell_type": "code",
   "execution_count": 54,
   "id": "7469f232-8935-4039-a047-89223098e041",
   "metadata": {},
   "outputs": [
    {
     "name": "stdout",
     "output_type": "stream",
     "text": [
      "1992 4 4\n",
      "1993 5 9\n",
      "1994 5 4\n",
      "1995 10 6\n",
      "1996 17 14\n",
      "1997 22 14\n",
      "1998 28 10\n",
      "1999 42 2\n",
      "2000 60 27\n",
      "2001 109 27\n",
      "2002 163 35\n",
      "2003 229 36\n",
      "2004 312 37\n",
      "2005 416 31\n",
      "2006 561 45\n",
      "2007 751 92\n",
      "2008 1039 114\n",
      "2009 1332 125\n",
      "2010 1653 312\n",
      "2011 2002 364\n",
      "2012 2376 324\n",
      "2013 2740 311\n",
      "2014 3145 841\n",
      "2015 3652 1548\n",
      "2016 4215 2160\n",
      "2017 4699 1967\n",
      "2018 5137 1875\n",
      "2019 5477 1719\n",
      "2020 5776 1827\n",
      "2021 7791 2428\n",
      "2022 8218 2771\n",
      "2023 8528 2614\n",
      "2024 8534 735\n",
      "CPU times: total: 1min 30s\n",
      "Wall time: 1min 30s\n"
     ]
    }
   ],
   "source": [
    "%%time\n",
    "for year in sorted(invest_co_xj.交易时间.dt.year.unique()):\n",
    "    max_date=pd.to_datetime(year, format='%Y')+ pd.offsets.YearEnd()\n",
    "    filter_invest = invest_co_xj[invest_co_xj.交易时间.dt.year==year]\n",
    "    filter_patent = patent_co[(patent_co.先进制造==1)&(patent_co.申请年 <= year)]# <= data\n",
    "    \n",
    "    if filter_patent.empty:\n",
    "        continue\n",
    "\n",
    "    for n in [1,2,3]:\n",
    "        mask_base=filter_patent.申请日 <  max_date-pd.Timedelta(days=n*365) # pd.Timestamp(year) - pd.DateOffset(years=n)date- pd.DateOffset(years=3)\n",
    "        \n",
    "        base_ipc_category=  set(filter_patent.loc[mask_base, '技术大类'].dropna().unique())# filter_patent[mask_base].groupby('Co')['技术大类'].dropna().apply(set).to_dict(), base_ipc_category.get(group.name, set())\n",
    "\n",
    "        def ipc_similarity_ratio(group):\n",
    "            # tech_set = {ipc for co, ipcs in base_ipc_category.items() if co != group.name for ipc in ipcs}\n",
    "            similar_patent_count = sum(group['技术大类'].apply(lambda ipc: ipc in base_ipc_category))\n",
    "            return  similar_patent_count / group.shape[0] if group.shape[0] else 0\n",
    "\n",
    "        ipc_similarity=filter_patent[~mask_base].groupby('Co').apply(ipc_similarity_ratio)\n",
    "        invest_co_xj.loc[filter_invest.index,f'peer_ipc_closeness_{n}'] =  filter_invest['企业全称'].map(ipc_similarity)#ipc_similarity[n].get\n",
    "    \n",
    "    print(year,filter_patent['Co'].nunique(),filter_invest['企业全称'].nunique())   \n",
    "\n",
    "invest_co_xj.to_excel('data\\\\invest_patent_先进制造_202410.xlsx')"
   ]
  },
  {
   "cell_type": "code",
   "execution_count": 17,
   "id": "4fa5c0de-5a11-4da2-bced-9f5cd6a03c1c",
   "metadata": {},
   "outputs": [
    {
     "data": {
      "text/plain": [
       "Index(['申请日', '申请号', '公开（公告）号', '公开（公告）日', '专利类型', '专利有效性', 'IPC主分类', '引证专利',\n",
       "       '当前法律状态', 'table_name', '申请年', '企业全称', '权利人', 'Co', '传统制造', '先进制造',\n",
       "       '技术大类', '引证专利_A'],\n",
       "      dtype='object')"
      ]
     },
     "execution_count": 17,
     "metadata": {},
     "output_type": "execute_result"
    }
   ],
   "source": [
    "#doc_lda_w2v_ct,invest_co,patent_co\n",
    "patent_co.columns"
   ]
  },
  {
   "cell_type": "code",
   "execution_count": 19,
   "id": "63c5b992-734d-4b3c-97f2-de1d1764172c",
   "metadata": {},
   "outputs": [
    {
     "data": {
      "text/plain": [
       "技术大类\n",
       "A01       {'传统制造': 7574, '先进制造': 2455}\n",
       "A21         {'传统制造': 408, '先进制造': 632}\n",
       "A22          {'传统制造': 133, '先进制造': 63}\n",
       "A23       {'传统制造': 1416, '先进制造': 1171}\n",
       "A24        {'传统制造': 1186, '先进制造': 479}\n",
       "                    ...               \n",
       "H02     {'传统制造': 42378, '先进制造': 55251}\n",
       "H03      {'传统制造': 1995, '先进制造': 12398}\n",
       "H04    {'传统制造': 25805, '先进制造': 167562}\n",
       "H05     {'传统制造': 14974, '先进制造': 27576}\n",
       "H10        {'传统制造': 173, '先进制造': 2303}\n",
       "Length: 125, dtype: object"
      ]
     },
     "execution_count": 19,
     "metadata": {},
     "output_type": "execute_result"
    }
   ],
   "source": [
    "patent_co.groupby('技术大类').apply(lambda x: {\n",
    "    '传统制造': x['传统制造'].sum(),\n",
    "    '先进制造': x['先进制造'].sum()})"
   ]
  },
  {
   "cell_type": "code",
   "execution_count": 21,
   "id": "3b4fa8c4-dc2a-4932-91a3-19ee4a392a0a",
   "metadata": {},
   "outputs": [],
   "source": [
    "# patent_co['行业'] = patent_co.apply(lambda x: [col for col in ['传统制造', '先进制造'] if x[col] == 1], axis=1)\n",
    "# patent_co.explode('行业').groupby(['行业','技术大类'])['公开（公告）号'].agg(list).reset_index()"
   ]
  },
  {
   "cell_type": "code",
   "execution_count": 39,
   "id": "b3b690f6-a0f2-48e5-b62b-9e421a19315c",
   "metadata": {},
   "outputs": [
    {
     "data": {
      "text/plain": [
       "技术大类\n",
       "B33         2\n",
       "C40         8\n",
       "A99        14\n",
       "B82        29\n",
       "C13        35\n",
       "        ...  \n",
       "F24     77945\n",
       "G01    116524\n",
       "G06    129333\n",
       "H04    172388\n",
       "H01    200003\n",
       "Name: 公开（公告）号, Length: 125, dtype: int64"
      ]
     },
     "execution_count": 39,
     "metadata": {},
     "output_type": "execute_result"
    }
   ],
   "source": [
    "patent_co.groupby(['技术大类'])['公开（公告）号'].nunique().sort_values()"
   ]
  },
  {
   "cell_type": "code",
   "execution_count": 9,
   "id": "2bc984e4-f4a8-46eb-9671-484cc8cbc6b3",
   "metadata": {},
   "outputs": [
    {
     "data": {
      "text/plain": [
       "技术大类\n",
       "A01    [CN2170625Y, CN1262863A, CN2359883Y, CN2396609...\n",
       "A21    [CN2707036Y, CN101204165A, CN101204164A, CN101...\n",
       "A22    [CN2865299Y, CN2865298Y, CN200983815Y, CN29198...\n",
       "A23    [CN2304254Y, CN1078046C, CN2343806Y, CN2444424...\n",
       "A24    [CN2545843Y, CN2772253Y, CN2772254Y, CN1833554...\n",
       "                             ...                        \n",
       "H02    [CN2192977Y, CN1120555C, CN2325903Y, CN2375010...\n",
       "H03    [CN2494576Y, CN1326266A, CN1175565C, CN2602547...\n",
       "H04    [CN2248433Y, CN2386584Y, CN1266330A, CN1124740...\n",
       "H05    [CN2434850Y, CN2446744Y, CN2446743Y, CN2513322...\n",
       "H10    [CN109285947B, CN109301080B, CN109427994B, CN1...\n",
       "Name: 公开（公告）号, Length: 123, dtype: object"
      ]
     },
     "execution_count": 9,
     "metadata": {},
     "output_type": "execute_result"
    }
   ],
   "source": [
    "ipc_id=patent_co[patent_co['传统制造']==1].groupby(['技术大类'])['公开（公告）号'].agg(list)#'申请年',\n",
    "ipc_id"
   ]
  },
  {
   "cell_type": "code",
   "execution_count": 31,
   "id": "47e089fa-cad0-4576-9d7b-38c78264d8cb",
   "metadata": {},
   "outputs": [
    {
     "data": {
      "text/plain": [
       "0.1251370778715166"
      ]
     },
     "execution_count": 31,
     "metadata": {},
     "output_type": "execute_result"
    }
   ],
   "source": [
    "vectors = doc_lda_w2v_ct.loc[doc_lda_w2v_ct.index.isin(ipc_id['A01'])]\n",
    "matrix = cosine_similarity(vectors)\n",
    "\n",
    "mean_similarity = matrix.mean()\n",
    "variance_similarity = matrix.var()\n",
    "std_dev_similarity = matrix.std()\n",
    "cv_similarity = std_dev_similarity / mean_similarity\n",
    "cv_similarity "
   ]
  },
  {
   "cell_type": "code",
   "execution_count": 34,
   "id": "03799b16-c981-44fe-b64c-76dec57e08f6",
   "metadata": {},
   "outputs": [
    {
     "data": {
      "text/plain": [
       "(7586, 7586)"
      ]
     },
     "execution_count": 34,
     "metadata": {},
     "output_type": "execute_result"
    }
   ],
   "source": [
    "matrix.shape"
   ]
  },
  {
   "cell_type": "code",
   "execution_count": 35,
   "id": "71161083-abd4-4a51-a367-09144aa61c60",
   "metadata": {},
   "outputs": [],
   "source": [
    "# %%time\n",
    "# results=[]\n",
    "# for ipc in ipc_id.index:\n",
    "#     vectors = doc_lda_w2v_ct.loc[doc_lda_w2v_ct.index.isin(ipc_id[ipc])]\n",
    "#     vectors = vectors[vectors.sum(axis=1) != 0]\n",
    "#     if not vectors.empty:\n",
    "#         matrix = cosine_similarity(vectors)\n",
    "\n",
    "#         mean_similarity = matrix.mean()\n",
    "#         variance_similarity = matrix.var()\n",
    "#         std_dev_similarity = matrix.std()\n",
    "#         cv_similarity = std_dev_similarity / mean_similarity if mean_similarity != 0 else None\n",
    "\n",
    "#         results.append({\n",
    "#             'IPC_技术大类': ipc,\n",
    "#             'mean': mean_similarity,\n",
    "#             'var': variance_similarity,\n",
    "#             'std': std_dev_similarity,\n",
    "#             'cv': cv_similarity\n",
    "#         })"
   ]
  },
  {
   "cell_type": "code",
   "execution_count": 36,
   "id": "30ddce75-5a01-4e12-a238-0062e82531cc",
   "metadata": {},
   "outputs": [],
   "source": [
    "del results"
   ]
  },
  {
   "cell_type": "code",
   "execution_count": 30,
   "id": "753e18d8-5efd-43e7-9a4d-df6674e31e39",
   "metadata": {},
   "outputs": [
    {
     "data": {
      "text/plain": [
       "(0, 0)"
      ]
     },
     "execution_count": 30,
     "metadata": {},
     "output_type": "execute_result"
    }
   ],
   "source": [
    "(doc_lda_w2v_ct.sum(axis=1) == 0).sum(),(doc_lda_w2v_xj.sum(axis=1) == 0).sum()"
   ]
  },
  {
   "cell_type": "code",
   "execution_count": null,
   "id": "bf6cfa6f-8503-4f4e-a79f-028525927869",
   "metadata": {},
   "outputs": [],
   "source": [
    "#pip install torch torchvision torchaudio --extra-index-url https://download.pytorch.org/whl/cu124\n",
    "#pip uninstall -y torch torchvision torchaudio\n",
    "#远程桌面服务在图形处理上有资源分配的限制"
   ]
  },
  {
   "cell_type": "code",
   "execution_count": 37,
   "id": "6cd53eb0-fe2e-452c-a972-21938db0571a",
   "metadata": {},
   "outputs": [],
   "source": [
    "import importlib\n",
    "#importlib.reload(torch)\n",
    "import os\n",
    "os.environ['PYTORCH_CUDA_ALLOC_CONF'] = 'expandable_segments:True'"
   ]
  },
  {
   "cell_type": "code",
   "execution_count": 14,
   "id": "cbb54fb5-2b37-40e7-a1a0-7f2cb551f3d0",
   "metadata": {},
   "outputs": [
    {
     "data": {
      "text/plain": [
       "(True, 1)"
      ]
     },
     "execution_count": 14,
     "metadata": {},
     "output_type": "execute_result"
    }
   ],
   "source": [
    "import torch\n",
    "import torch.nn.functional as F\n",
    "import numpy as np\n",
    "torch.cuda.is_available(),torch.cuda.device_count()"
   ]
  },
  {
   "cell_type": "code",
   "execution_count": 30,
   "id": "93124f2f-c8dd-4515-b9bb-40ef105a242d",
   "metadata": {},
   "outputs": [
    {
     "data": {
      "text/plain": [
       "('12.4', 90100)"
      ]
     },
     "execution_count": 30,
     "metadata": {},
     "output_type": "execute_result"
    }
   ],
   "source": [
    "torch.version.cuda,torch.backends.cudnn.version()"
   ]
  },
  {
   "cell_type": "code",
   "execution_count": 50,
   "id": "8004ad18-1cce-401f-9204-ba59dacf1ba3",
   "metadata": {},
   "outputs": [
    {
     "data": {
      "text/plain": [
       "11.967915534973145"
      ]
     },
     "execution_count": 50,
     "metadata": {},
     "output_type": "execute_result"
    }
   ],
   "source": [
    "device = torch.cuda.current_device()\n",
    "\n",
    "total_memory = torch.cuda.get_device_properties(device).total_memory\n",
    "allocated_memory = torch.cuda.memory_allocated(device)\n",
    "reserved_memory = torch.cuda.memory_reserved(device)\n",
    "(total_memory - allocated_memory)/ (1024**3)"
   ]
  },
  {
   "cell_type": "code",
   "execution_count": 48,
   "id": "e54f50b9-6330-4505-8dfb-24a37e62bc86",
   "metadata": {},
   "outputs": [],
   "source": [
    "torch.cuda.empty_cache()"
   ]
  },
  {
   "cell_type": "code",
   "execution_count": 13,
   "id": "1ce5d10a-59ea-4bd4-b442-dc01157f5cd3",
   "metadata": {},
   "outputs": [
    {
     "data": {
      "text/plain": [
       "0      float64\n",
       "1      float64\n",
       "2      float64\n",
       "3      float64\n",
       "4      float64\n",
       "        ...   \n",
       "295    float64\n",
       "296    float64\n",
       "297    float64\n",
       "298    float64\n",
       "299    float64\n",
       "Length: 300, dtype: object"
      ]
     },
     "execution_count": 13,
     "metadata": {},
     "output_type": "execute_result"
    }
   ],
   "source": [
    "doc_lda_w2v_ct.dtypes"
   ]
  },
  {
   "cell_type": "code",
   "execution_count": 35,
   "id": "0a58d4f5-44a4-45b3-b953-a1cdbcb817de",
   "metadata": {},
   "outputs": [
    {
     "data": {
      "text/plain": [
       "(torch.Size([7586, 300]), torch.float32)"
      ]
     },
     "execution_count": 35,
     "metadata": {},
     "output_type": "execute_result"
    }
   ],
   "source": [
    "vectors = doc_lda_w2v_ct.loc[doc_lda_w2v_ct.index.isin(ipc_id['A01'])].astype(np.float32)#B06\n",
    "vectors_tensor = torch.tensor(vectors.values).cuda()\n",
    "vectors_tensor.shape,vectors_tensor.dtype"
   ]
  },
  {
   "cell_type": "code",
   "execution_count": 49,
   "id": "da457207-6767-47bf-a40f-257cf363663b",
   "metadata": {},
   "outputs": [
    {
     "data": {
      "text/plain": [
       "439"
      ]
     },
     "execution_count": 49,
     "metadata": {},
     "output_type": "execute_result"
    }
   ],
   "source": [
    "7586 * 7586 * 8//1024//1024"
   ]
  },
  {
   "cell_type": "code",
   "execution_count": 50,
   "id": "00577541-c670-4c55-ad3f-83475c4773df",
   "metadata": {},
   "outputs": [
    {
     "data": {
      "text/plain": [
       "298"
      ]
     },
     "execution_count": 50,
     "metadata": {},
     "output_type": "execute_result"
    }
   ],
   "source": [
    "(200000**2)*8//(1024**3)"
   ]
  },
  {
   "cell_type": "code",
   "execution_count": 67,
   "id": "012f4675-1b44-45b3-a0b7-0e90f4854698",
   "metadata": {},
   "outputs": [
    {
     "data": {
      "text/plain": [
       "(2018903, 2043777)"
      ]
     },
     "execution_count": 67,
     "metadata": {},
     "output_type": "execute_result"
    }
   ],
   "source": [
    "patent_co['公开（公告）号'].nunique(),patent_co['公开（公告）号'].count()"
   ]
  },
  {
   "cell_type": "code",
   "execution_count": 45,
   "id": "957d650a-e342-4e69-9ae3-c92c67363e3d",
   "metadata": {},
   "outputs": [
    {
     "data": {
      "text/plain": [
       "技术大类\n",
       "C40        1\n",
       "B82        3\n",
       "C13       32\n",
       "B81       40\n",
       "B68       43\n",
       "       ...  \n",
       "H02    42139\n",
       "B65    44739\n",
       "H01    50913\n",
       "G01    55804\n",
       "F24    62547\n",
       "Name: 公开（公告）号, Length: 123, dtype: int64"
      ]
     },
     "execution_count": 45,
     "metadata": {},
     "output_type": "execute_result"
    }
   ],
   "source": [
    "patent_co[patent_co['传统制造']==1].groupby(['技术大类'])['公开（公告）号'].nunique().sort_values()"
   ]
  },
  {
   "cell_type": "code",
   "execution_count": 51,
   "id": "4f8a40e0-af50-41a0-a555-d8262918e695",
   "metadata": {},
   "outputs": [
    {
     "data": {
      "text/plain": [
       "29"
      ]
     },
     "execution_count": 51,
     "metadata": {},
     "output_type": "execute_result"
    }
   ],
   "source": [
    "(62547**2)*8//(1024**3)"
   ]
  },
  {
   "cell_type": "code",
   "execution_count": 47,
   "id": "51742dc7-2562-4200-8b2b-2b33415af774",
   "metadata": {},
   "outputs": [
    {
     "data": {
      "text/plain": [
       "技术大类\n",
       "B33         2\n",
       "B68         3\n",
       "C40         7\n",
       "A99        14\n",
       "C14        18\n",
       "        ...  \n",
       "F24     72564\n",
       "G01     80639\n",
       "G06    117706\n",
       "H04    166950\n",
       "H01    171941\n",
       "Name: 公开（公告）号, Length: 125, dtype: int64"
      ]
     },
     "execution_count": 47,
     "metadata": {},
     "output_type": "execute_result"
    }
   ],
   "source": [
    "patent_co[patent_co['先进制造']==1].groupby(['技术大类'])['公开（公告）号'].nunique().sort_values()"
   ]
  },
  {
   "cell_type": "code",
   "execution_count": 52,
   "id": "85f5b518-aec9-424d-b75c-02f551c39b1f",
   "metadata": {},
   "outputs": [
    {
     "data": {
      "text/plain": [
       "220"
      ]
     },
     "execution_count": 52,
     "metadata": {},
     "output_type": "execute_result"
    }
   ],
   "source": [
    "(171941**2)*8//(1024**3)"
   ]
  },
  {
   "cell_type": "code",
   "execution_count": 53,
   "id": "dcae3604-b8eb-4dcc-af86-24c286302a8b",
   "metadata": {},
   "outputs": [
    {
     "data": {
      "text/plain": [
       "55"
      ]
     },
     "execution_count": 53,
     "metadata": {},
     "output_type": "execute_result"
    }
   ],
   "source": [
    "(171941**2)*2//(1024**3)"
   ]
  },
  {
   "cell_type": "code",
   "execution_count": 60,
   "id": "2d69034d-8931-4266-9975-3c42e156c664",
   "metadata": {},
   "outputs": [
    {
     "data": {
      "text/plain": [
       "dtype('float64')"
      ]
     },
     "execution_count": 60,
     "metadata": {},
     "output_type": "execute_result"
    }
   ],
   "source": [
    "matrix =np.random.rand(300, 300)\n",
    "matrix.dtype"
   ]
  },
  {
   "cell_type": "code",
   "execution_count": 64,
   "id": "7d1b15b1-00da-499b-84f8-891d974001ee",
   "metadata": {},
   "outputs": [
    {
     "data": {
      "text/plain": [
       "dtype('float16')"
      ]
     },
     "execution_count": 64,
     "metadata": {},
     "output_type": "execute_result"
    }
   ],
   "source": [
    "matrix=matrix.astype(np.float16)\n",
    "matrix.dtype"
   ]
  },
  {
   "cell_type": "code",
   "execution_count": 65,
   "id": "a6813300-f663-49e3-a125-1fcc41982f9a",
   "metadata": {},
   "outputs": [
    {
     "data": {
      "text/plain": [
       "175.78125"
      ]
     },
     "execution_count": 65,
     "metadata": {},
     "output_type": "execute_result"
    }
   ],
   "source": [
    "matrix.nbytes / (1024)"
   ]
  },
  {
   "cell_type": "code",
   "execution_count": 66,
   "id": "bab2ad2f-e18f-4621-a554-23d284c01326",
   "metadata": {},
   "outputs": [
    {
     "data": {
      "text/plain": [
       "array([[0.9424 , 0.721  , 0.9517 , ..., 0.00945, 0.3547 , 0.5615 ],\n",
       "       [0.04428, 0.5366 , 0.415  , ..., 0.245  , 0.9893 , 0.812  ],\n",
       "       [0.979  , 0.03143, 0.746  , ..., 0.919  , 0.1312 , 0.716  ],\n",
       "       ...,\n",
       "       [0.9663 , 0.8315 , 0.1212 , ..., 0.8223 , 0.57   , 0.4968 ],\n",
       "       [0.4275 , 0.6187 , 0.6226 , ..., 0.3796 , 0.7417 , 0.513  ],\n",
       "       [0.7515 , 0.861  , 0.449  , ..., 0.5923 , 0.1615 , 0.1407 ]],\n",
       "      dtype=float16)"
      ]
     },
     "execution_count": 66,
     "metadata": {},
     "output_type": "execute_result"
    }
   ],
   "source": [
    "matrix"
   ]
  },
  {
   "cell_type": "code",
   "execution_count": 47,
   "id": "c4d7cc18-7382-4d50-956e-5e755fc4e7bc",
   "metadata": {},
   "outputs": [
    {
     "data": {
      "text/plain": [
       "torch.Size([2000, 2000])"
      ]
     },
     "execution_count": 47,
     "metadata": {},
     "output_type": "execute_result"
    }
   ],
   "source": [
    "vectors = torch.rand((2000, 300)).cuda()\n",
    "with torch.no_grad():\n",
    "    matrix = F.cosine_similarity(vectors.unsqueeze(1), vectors.unsqueeze(0), dim=2)\n",
    "matrix.shape"
   ]
  },
  {
   "cell_type": "code",
   "execution_count": 1,
   "id": "aee5ecfd-574f-4dbc-bd20-4f2731d17ef0",
   "metadata": {},
   "outputs": [
    {
     "data": {
      "text/plain": [
       "[]"
      ]
     },
     "execution_count": 1,
     "metadata": {},
     "output_type": "execute_result"
    }
   ],
   "source": [
    "import tensorflow as tf\n",
    "tf.config.list_physical_devices('GPU')"
   ]
  },
  {
   "cell_type": "code",
   "execution_count": 69,
   "id": "00e1eea9-aed3-43dd-a163-847b2e2ff75f",
   "metadata": {},
   "outputs": [
    {
     "data": {
      "text/plain": [
       "(1389970, 1410528)"
      ]
     },
     "execution_count": 69,
     "metadata": {},
     "output_type": "execute_result"
    }
   ],
   "source": [
    "doc_lda_w2v_xj.index.nunique(),len(doc_lda_w2v_xj)"
   ]
  },
  {
   "cell_type": "code",
   "execution_count": 70,
   "id": "8aa9817a-e5aa-4d8f-90df-79382b9e74ce",
   "metadata": {},
   "outputs": [
    {
     "data": {
      "text/plain": [
       "(1023740, 1043952)"
      ]
     },
     "execution_count": 70,
     "metadata": {},
     "output_type": "execute_result"
    }
   ],
   "source": [
    "doc_lda_w2v_ct.index.nunique(),len(doc_lda_w2v_ct)"
   ]
  },
  {
   "cell_type": "code",
   "execution_count": 26,
   "id": "6c5a3830-f09e-4db6-a087-daf8f3aea0fe",
   "metadata": {},
   "outputs": [
    {
     "data": {
      "text/html": [
       "<div>\n",
       "<style scoped>\n",
       "    .dataframe tbody tr th:only-of-type {\n",
       "        vertical-align: middle;\n",
       "    }\n",
       "\n",
       "    .dataframe tbody tr th {\n",
       "        vertical-align: top;\n",
       "    }\n",
       "\n",
       "    .dataframe thead th {\n",
       "        text-align: right;\n",
       "    }\n",
       "</style>\n",
       "<table border=\"1\" class=\"dataframe\">\n",
       "  <thead>\n",
       "    <tr style=\"text-align: right;\">\n",
       "      <th></th>\n",
       "      <th>申请年</th>\n",
       "      <th>技术大类</th>\n",
       "      <th>公开（公告）号</th>\n",
       "    </tr>\n",
       "  </thead>\n",
       "  <tbody>\n",
       "    <tr>\n",
       "      <th>0</th>\n",
       "      <td>1988</td>\n",
       "      <td>B07</td>\n",
       "      <td>[CN2053116U]</td>\n",
       "    </tr>\n",
       "    <tr>\n",
       "      <th>1</th>\n",
       "      <td>1988</td>\n",
       "      <td>B21</td>\n",
       "      <td>[CN2035663U]</td>\n",
       "    </tr>\n",
       "    <tr>\n",
       "      <th>2</th>\n",
       "      <td>1989</td>\n",
       "      <td>A61</td>\n",
       "      <td>[CN1049284A, CN1025718C]</td>\n",
       "    </tr>\n",
       "    <tr>\n",
       "      <th>3</th>\n",
       "      <td>1989</td>\n",
       "      <td>C25</td>\n",
       "      <td>[CN1023414C]</td>\n",
       "    </tr>\n",
       "    <tr>\n",
       "      <th>4</th>\n",
       "      <td>1989</td>\n",
       "      <td>E04</td>\n",
       "      <td>[CN2051253U]</td>\n",
       "    </tr>\n",
       "    <tr>\n",
       "      <th>...</th>\n",
       "      <td>...</td>\n",
       "      <td>...</td>\n",
       "      <td>...</td>\n",
       "    </tr>\n",
       "    <tr>\n",
       "      <th>2803</th>\n",
       "      <td>2024</td>\n",
       "      <td>G16</td>\n",
       "      <td>[CN118016211A, CN118412061A]</td>\n",
       "    </tr>\n",
       "    <tr>\n",
       "      <th>2804</th>\n",
       "      <td>2024</td>\n",
       "      <td>H01</td>\n",
       "      <td>[CN117497401A, CN117673859A, CN117790232A, CN1...</td>\n",
       "    </tr>\n",
       "    <tr>\n",
       "      <th>2805</th>\n",
       "      <td>2024</td>\n",
       "      <td>H02</td>\n",
       "      <td>[CN117498268A, CN117498532A, CN117526184A, CN1...</td>\n",
       "    </tr>\n",
       "    <tr>\n",
       "      <th>2806</th>\n",
       "      <td>2024</td>\n",
       "      <td>H04</td>\n",
       "      <td>[CN117768689A, CN117528066A, CN117528036A, CN1...</td>\n",
       "    </tr>\n",
       "    <tr>\n",
       "      <th>2807</th>\n",
       "      <td>2024</td>\n",
       "      <td>H05</td>\n",
       "      <td>[CN117715272A, CN117615538A, CN117580345A, CN1...</td>\n",
       "    </tr>\n",
       "  </tbody>\n",
       "</table>\n",
       "<p>2808 rows × 3 columns</p>\n",
       "</div>"
      ],
      "text/plain": [
       "       申请年 技术大类                                            公开（公告）号\n",
       "0     1988  B07                                       [CN2053116U]\n",
       "1     1988  B21                                       [CN2035663U]\n",
       "2     1989  A61                           [CN1049284A, CN1025718C]\n",
       "3     1989  C25                                       [CN1023414C]\n",
       "4     1989  E04                                       [CN2051253U]\n",
       "...    ...  ...                                                ...\n",
       "2803  2024  G16                       [CN118016211A, CN118412061A]\n",
       "2804  2024  H01  [CN117497401A, CN117673859A, CN117790232A, CN1...\n",
       "2805  2024  H02  [CN117498268A, CN117498532A, CN117526184A, CN1...\n",
       "2806  2024  H04  [CN117768689A, CN117528066A, CN117528036A, CN1...\n",
       "2807  2024  H05  [CN117715272A, CN117615538A, CN117580345A, CN1...\n",
       "\n",
       "[2808 rows x 3 columns]"
      ]
     },
     "execution_count": 26,
     "metadata": {},
     "output_type": "execute_result"
    }
   ],
   "source": [
    "ipc_id_ct=patent_co[patent_co['传统制造']==1].groupby(['申请年','技术大类'],as_index=False)['公开（公告）号'].agg(list)\n",
    "ipc_id_ct"
   ]
  },
  {
   "cell_type": "code",
   "execution_count": 28,
   "id": "daab5320-af6c-4a58-88ef-39a2284d15f3",
   "metadata": {},
   "outputs": [
    {
     "name": "stdout",
     "output_type": "stream",
     "text": [
      "CPU times: total: 4min 59s\n",
      "Wall time: 3min 57s\n"
     ]
    }
   ],
   "source": [
    "%%time\n",
    "def ipc_similarity(ids,doc_lda_w2v_vec):\n",
    "    result={\n",
    "        'mean': pd.NA,\n",
    "        'var': pd.NA,\n",
    "        'std': pd.NA,\n",
    "        'cv': pd.NA\n",
    "    }\n",
    "    if len(ids)<=1:\n",
    "        return result\n",
    "        \n",
    "    vectors = doc_lda_w2v_vec.loc[doc_lda_w2v_vec.index.isin(ids)]\n",
    "    # vectors = vectors[vectors.sum(axis=1) != 0]\n",
    "    if vectors.empty:\n",
    "        return result\n",
    "        \n",
    "    matrix = cosine_similarity(vectors)\n",
    "    np.fill_diagonal(matrix, np.nan)\n",
    "\n",
    "    mean_similarity = np.nanmean(matrix)\n",
    "    variance_similarity = np.nanvar(matrix, ddof=1)\n",
    "    std_dev_similarity = np.nanstd(matrix, ddof=1)\n",
    "    cv_similarity = std_dev_similarity / mean_similarity if mean_similarity != 0 else  pd.NA\n",
    "    result={\n",
    "        'mean': mean_similarity,\n",
    "        'var': variance_similarity,\n",
    "        'std': std_dev_similarity,\n",
    "        'cv': cv_similarity\n",
    "    }\n",
    "    return result\n",
    "    \n",
    "ipc_id_ct[['mean', 'var', 'std', 'cv']] = ipc_id_ct['公开（公告）号'].apply(ipc_similarity, doc_lda_w2v_vec=doc_lda_w2v_ct).apply(pd.Series)"
   ]
  },
  {
   "cell_type": "code",
   "execution_count": 32,
   "id": "ad5f7fd0-efa2-4c6d-ac0b-f7efff0d24b5",
   "metadata": {},
   "outputs": [
    {
     "data": {
      "text/html": [
       "<div>\n",
       "<style scoped>\n",
       "    .dataframe tbody tr th:only-of-type {\n",
       "        vertical-align: middle;\n",
       "    }\n",
       "\n",
       "    .dataframe tbody tr th {\n",
       "        vertical-align: top;\n",
       "    }\n",
       "\n",
       "    .dataframe thead th {\n",
       "        text-align: right;\n",
       "    }\n",
       "</style>\n",
       "<table border=\"1\" class=\"dataframe\">\n",
       "  <thead>\n",
       "    <tr style=\"text-align: right;\">\n",
       "      <th></th>\n",
       "      <th>申请年</th>\n",
       "      <th>技术大类</th>\n",
       "      <th>公开（公告）号</th>\n",
       "      <th>mean</th>\n",
       "      <th>var</th>\n",
       "      <th>std</th>\n",
       "      <th>cv</th>\n",
       "    </tr>\n",
       "  </thead>\n",
       "  <tbody>\n",
       "    <tr>\n",
       "      <th>0</th>\n",
       "      <td>1988</td>\n",
       "      <td>B07</td>\n",
       "      <td>[CN2053116U]</td>\n",
       "      <td>&lt;NA&gt;</td>\n",
       "      <td>&lt;NA&gt;</td>\n",
       "      <td>&lt;NA&gt;</td>\n",
       "      <td>&lt;NA&gt;</td>\n",
       "    </tr>\n",
       "    <tr>\n",
       "      <th>1</th>\n",
       "      <td>1988</td>\n",
       "      <td>B21</td>\n",
       "      <td>[CN2035663U]</td>\n",
       "      <td>&lt;NA&gt;</td>\n",
       "      <td>&lt;NA&gt;</td>\n",
       "      <td>&lt;NA&gt;</td>\n",
       "      <td>&lt;NA&gt;</td>\n",
       "    </tr>\n",
       "    <tr>\n",
       "      <th>2</th>\n",
       "      <td>1989</td>\n",
       "      <td>A61</td>\n",
       "      <td>[CN1049284A, CN1025718C]</td>\n",
       "      <td>1.0</td>\n",
       "      <td>0.0</td>\n",
       "      <td>0.0</td>\n",
       "      <td>0.0</td>\n",
       "    </tr>\n",
       "    <tr>\n",
       "      <th>3</th>\n",
       "      <td>1989</td>\n",
       "      <td>C25</td>\n",
       "      <td>[CN1023414C]</td>\n",
       "      <td>&lt;NA&gt;</td>\n",
       "      <td>&lt;NA&gt;</td>\n",
       "      <td>&lt;NA&gt;</td>\n",
       "      <td>&lt;NA&gt;</td>\n",
       "    </tr>\n",
       "    <tr>\n",
       "      <th>4</th>\n",
       "      <td>1989</td>\n",
       "      <td>E04</td>\n",
       "      <td>[CN2051253U]</td>\n",
       "      <td>&lt;NA&gt;</td>\n",
       "      <td>&lt;NA&gt;</td>\n",
       "      <td>&lt;NA&gt;</td>\n",
       "      <td>&lt;NA&gt;</td>\n",
       "    </tr>\n",
       "    <tr>\n",
       "      <th>...</th>\n",
       "      <td>...</td>\n",
       "      <td>...</td>\n",
       "      <td>...</td>\n",
       "      <td>...</td>\n",
       "      <td>...</td>\n",
       "      <td>...</td>\n",
       "      <td>...</td>\n",
       "    </tr>\n",
       "    <tr>\n",
       "      <th>2803</th>\n",
       "      <td>2024</td>\n",
       "      <td>G16</td>\n",
       "      <td>[CN118016211A, CN118412061A]</td>\n",
       "      <td>0.941019</td>\n",
       "      <td>0.0</td>\n",
       "      <td>0.0</td>\n",
       "      <td>0.0</td>\n",
       "    </tr>\n",
       "    <tr>\n",
       "      <th>2804</th>\n",
       "      <td>2024</td>\n",
       "      <td>H01</td>\n",
       "      <td>[CN117497401A, CN117673859A, CN117790232A, CN1...</td>\n",
       "      <td>0.799174</td>\n",
       "      <td>0.007957</td>\n",
       "      <td>0.089202</td>\n",
       "      <td>0.111618</td>\n",
       "    </tr>\n",
       "    <tr>\n",
       "      <th>2805</th>\n",
       "      <td>2024</td>\n",
       "      <td>H02</td>\n",
       "      <td>[CN117498268A, CN117498532A, CN117526184A, CN1...</td>\n",
       "      <td>0.788713</td>\n",
       "      <td>0.01389</td>\n",
       "      <td>0.117857</td>\n",
       "      <td>0.14943</td>\n",
       "    </tr>\n",
       "    <tr>\n",
       "      <th>2806</th>\n",
       "      <td>2024</td>\n",
       "      <td>H04</td>\n",
       "      <td>[CN117768689A, CN117528066A, CN117528036A, CN1...</td>\n",
       "      <td>0.905098</td>\n",
       "      <td>0.002642</td>\n",
       "      <td>0.051397</td>\n",
       "      <td>0.056786</td>\n",
       "    </tr>\n",
       "    <tr>\n",
       "      <th>2807</th>\n",
       "      <td>2024</td>\n",
       "      <td>H05</td>\n",
       "      <td>[CN117715272A, CN117615538A, CN117580345A, CN1...</td>\n",
       "      <td>0.844739</td>\n",
       "      <td>0.00666</td>\n",
       "      <td>0.081609</td>\n",
       "      <td>0.096609</td>\n",
       "    </tr>\n",
       "  </tbody>\n",
       "</table>\n",
       "<p>2808 rows × 7 columns</p>\n",
       "</div>"
      ],
      "text/plain": [
       "       申请年 技术大类                                            公开（公告）号      mean  \\\n",
       "0     1988  B07                                       [CN2053116U]      <NA>   \n",
       "1     1988  B21                                       [CN2035663U]      <NA>   \n",
       "2     1989  A61                           [CN1049284A, CN1025718C]       1.0   \n",
       "3     1989  C25                                       [CN1023414C]      <NA>   \n",
       "4     1989  E04                                       [CN2051253U]      <NA>   \n",
       "...    ...  ...                                                ...       ...   \n",
       "2803  2024  G16                       [CN118016211A, CN118412061A]  0.941019   \n",
       "2804  2024  H01  [CN117497401A, CN117673859A, CN117790232A, CN1...  0.799174   \n",
       "2805  2024  H02  [CN117498268A, CN117498532A, CN117526184A, CN1...  0.788713   \n",
       "2806  2024  H04  [CN117768689A, CN117528066A, CN117528036A, CN1...  0.905098   \n",
       "2807  2024  H05  [CN117715272A, CN117615538A, CN117580345A, CN1...  0.844739   \n",
       "\n",
       "           var       std        cv  \n",
       "0         <NA>      <NA>      <NA>  \n",
       "1         <NA>      <NA>      <NA>  \n",
       "2          0.0       0.0       0.0  \n",
       "3         <NA>      <NA>      <NA>  \n",
       "4         <NA>      <NA>      <NA>  \n",
       "...        ...       ...       ...  \n",
       "2803       0.0       0.0       0.0  \n",
       "2804  0.007957  0.089202  0.111618  \n",
       "2805   0.01389  0.117857   0.14943  \n",
       "2806  0.002642  0.051397  0.056786  \n",
       "2807   0.00666  0.081609  0.096609  \n",
       "\n",
       "[2808 rows x 7 columns]"
      ]
     },
     "execution_count": 32,
     "metadata": {},
     "output_type": "execute_result"
    }
   ],
   "source": [
    "ipc_id_ct"
   ]
  },
  {
   "cell_type": "code",
   "execution_count": 36,
   "id": "8bc116dd-9faf-4eb5-b10e-b490a6175dbe",
   "metadata": {},
   "outputs": [
    {
     "name": "stdout",
     "output_type": "stream",
     "text": [
      "CPU times: total: 13min 3s\n",
      "Wall time: 9min 36s\n"
     ]
    }
   ],
   "source": [
    "%%time\n",
    "ipc_id_xj=patent_co[patent_co['先进制造']==1].groupby(['申请年','技术大类'],as_index=False)['公开（公告）号'].agg(list)\n",
    "ipc_id_xj[['mean', 'var', 'std', 'cv']] = ipc_id_xj['公开（公告）号'].map(lambda ids: ipc_similarity(ids, doc_lda_w2v_vec=doc_lda_w2v_xj)).apply(pd.Series)"
   ]
  },
  {
   "cell_type": "code",
   "execution_count": 37,
   "id": "1f1190f5-6abe-42c2-b33e-eb91288facf9",
   "metadata": {},
   "outputs": [
    {
     "data": {
      "text/html": [
       "<div>\n",
       "<style scoped>\n",
       "    .dataframe tbody tr th:only-of-type {\n",
       "        vertical-align: middle;\n",
       "    }\n",
       "\n",
       "    .dataframe tbody tr th {\n",
       "        vertical-align: top;\n",
       "    }\n",
       "\n",
       "    .dataframe thead th {\n",
       "        text-align: right;\n",
       "    }\n",
       "</style>\n",
       "<table border=\"1\" class=\"dataframe\">\n",
       "  <thead>\n",
       "    <tr style=\"text-align: right;\">\n",
       "      <th></th>\n",
       "      <th>申请年</th>\n",
       "      <th>技术大类</th>\n",
       "      <th>公开（公告）号</th>\n",
       "      <th>mean</th>\n",
       "      <th>var</th>\n",
       "      <th>std</th>\n",
       "      <th>cv</th>\n",
       "    </tr>\n",
       "  </thead>\n",
       "  <tbody>\n",
       "    <tr>\n",
       "      <th>0</th>\n",
       "      <td>1985</td>\n",
       "      <td>B23</td>\n",
       "      <td>[CN85100663B, CN85100663A]</td>\n",
       "      <td>0.990132</td>\n",
       "      <td>0.0</td>\n",
       "      <td>0.0</td>\n",
       "      <td>0.0</td>\n",
       "    </tr>\n",
       "    <tr>\n",
       "      <th>1</th>\n",
       "      <td>1986</td>\n",
       "      <td>B22</td>\n",
       "      <td>[CN86105956A, CN1005827B]</td>\n",
       "      <td>0.989529</td>\n",
       "      <td>0.0</td>\n",
       "      <td>0.0</td>\n",
       "      <td>0.0</td>\n",
       "    </tr>\n",
       "    <tr>\n",
       "      <th>2</th>\n",
       "      <td>1986</td>\n",
       "      <td>C22</td>\n",
       "      <td>[CN86107658B, CN86107658A]</td>\n",
       "      <td>0.999042</td>\n",
       "      <td>0.0</td>\n",
       "      <td>0.0</td>\n",
       "      <td>0.0</td>\n",
       "    </tr>\n",
       "    <tr>\n",
       "      <th>3</th>\n",
       "      <td>1988</td>\n",
       "      <td>G02</td>\n",
       "      <td>[CN1008305B]</td>\n",
       "      <td>&lt;NA&gt;</td>\n",
       "      <td>&lt;NA&gt;</td>\n",
       "      <td>&lt;NA&gt;</td>\n",
       "      <td>&lt;NA&gt;</td>\n",
       "    </tr>\n",
       "    <tr>\n",
       "      <th>4</th>\n",
       "      <td>1990</td>\n",
       "      <td>B21</td>\n",
       "      <td>[CN1045040A, CN1014500B]</td>\n",
       "      <td>0.997112</td>\n",
       "      <td>0.0</td>\n",
       "      <td>0.0</td>\n",
       "      <td>0.0</td>\n",
       "    </tr>\n",
       "    <tr>\n",
       "      <th>...</th>\n",
       "      <td>...</td>\n",
       "      <td>...</td>\n",
       "      <td>...</td>\n",
       "      <td>...</td>\n",
       "      <td>...</td>\n",
       "      <td>...</td>\n",
       "      <td>...</td>\n",
       "    </tr>\n",
       "    <tr>\n",
       "      <th>2605</th>\n",
       "      <td>2024</td>\n",
       "      <td>H02</td>\n",
       "      <td>[CN117498268A, CN117526740A, CN117526740B, CN1...</td>\n",
       "      <td>0.793232</td>\n",
       "      <td>0.02039</td>\n",
       "      <td>0.142793</td>\n",
       "      <td>0.180014</td>\n",
       "    </tr>\n",
       "    <tr>\n",
       "      <th>2606</th>\n",
       "      <td>2024</td>\n",
       "      <td>H03</td>\n",
       "      <td>[CN117498843A, CN117498858A, CN117498843B, CN1...</td>\n",
       "      <td>0.894109</td>\n",
       "      <td>0.00769</td>\n",
       "      <td>0.087693</td>\n",
       "      <td>0.098078</td>\n",
       "    </tr>\n",
       "    <tr>\n",
       "      <th>2607</th>\n",
       "      <td>2024</td>\n",
       "      <td>H04</td>\n",
       "      <td>[CN117499318A, CN117499293A, CN117714197A, CN1...</td>\n",
       "      <td>0.834188</td>\n",
       "      <td>0.007241</td>\n",
       "      <td>0.085093</td>\n",
       "      <td>0.102007</td>\n",
       "    </tr>\n",
       "    <tr>\n",
       "      <th>2608</th>\n",
       "      <td>2024</td>\n",
       "      <td>H05</td>\n",
       "      <td>[CN117769219A, CN117715272A, CN117528873A, CN1...</td>\n",
       "      <td>0.764808</td>\n",
       "      <td>0.012005</td>\n",
       "      <td>0.109566</td>\n",
       "      <td>0.14326</td>\n",
       "    </tr>\n",
       "    <tr>\n",
       "      <th>2609</th>\n",
       "      <td>2024</td>\n",
       "      <td>H10</td>\n",
       "      <td>[CN117529198A, CN117500356A, CN117500271A, CN1...</td>\n",
       "      <td>0.937317</td>\n",
       "      <td>0.001733</td>\n",
       "      <td>0.041632</td>\n",
       "      <td>0.044416</td>\n",
       "    </tr>\n",
       "  </tbody>\n",
       "</table>\n",
       "<p>2610 rows × 7 columns</p>\n",
       "</div>"
      ],
      "text/plain": [
       "       申请年 技术大类                                            公开（公告）号      mean  \\\n",
       "0     1985  B23                         [CN85100663B, CN85100663A]  0.990132   \n",
       "1     1986  B22                          [CN86105956A, CN1005827B]  0.989529   \n",
       "2     1986  C22                         [CN86107658B, CN86107658A]  0.999042   \n",
       "3     1988  G02                                       [CN1008305B]      <NA>   \n",
       "4     1990  B21                           [CN1045040A, CN1014500B]  0.997112   \n",
       "...    ...  ...                                                ...       ...   \n",
       "2605  2024  H02  [CN117498268A, CN117526740A, CN117526740B, CN1...  0.793232   \n",
       "2606  2024  H03  [CN117498843A, CN117498858A, CN117498843B, CN1...  0.894109   \n",
       "2607  2024  H04  [CN117499318A, CN117499293A, CN117714197A, CN1...  0.834188   \n",
       "2608  2024  H05  [CN117769219A, CN117715272A, CN117528873A, CN1...  0.764808   \n",
       "2609  2024  H10  [CN117529198A, CN117500356A, CN117500271A, CN1...  0.937317   \n",
       "\n",
       "           var       std        cv  \n",
       "0          0.0       0.0       0.0  \n",
       "1          0.0       0.0       0.0  \n",
       "2          0.0       0.0       0.0  \n",
       "3         <NA>      <NA>      <NA>  \n",
       "4          0.0       0.0       0.0  \n",
       "...        ...       ...       ...  \n",
       "2605   0.02039  0.142793  0.180014  \n",
       "2606   0.00769  0.087693  0.098078  \n",
       "2607  0.007241  0.085093  0.102007  \n",
       "2608  0.012005  0.109566   0.14326  \n",
       "2609  0.001733  0.041632  0.044416  \n",
       "\n",
       "[2610 rows x 7 columns]"
      ]
     },
     "execution_count": 37,
     "metadata": {},
     "output_type": "execute_result"
    }
   ],
   "source": [
    "ipc_id_xj"
   ]
  },
  {
   "cell_type": "code",
   "execution_count": 38,
   "id": "b357f8dd-a36e-4a7d-b66f-1e0a7b832c19",
   "metadata": {},
   "outputs": [],
   "source": [
    "ipc_id_ct['专利公开（公告）数量']=ipc_id_ct['公开（公告）号'].apply(len)\n",
    "ipc_id_xj['专利公开（公告）数量']=ipc_id_xj['公开（公告）号'].apply(len)\n",
    "del ipc_id_ct['公开（公告）号']\n",
    "del ipc_id_xj['公开（公告）号']"
   ]
  },
  {
   "cell_type": "code",
   "execution_count": 39,
   "id": "7e2e6bf4-6ba1-4bbf-ac84-ccce20492545",
   "metadata": {},
   "outputs": [],
   "source": [
    "ipc_id_ct.to_excel('data\\传统制造专利层面ipc_technet技术相似性.xlsx')\n",
    "ipc_id_xj.to_excel('data\\先进制造专利层面ipc_technet技术相似性.xlsx')"
   ]
  },
  {
   "cell_type": "code",
   "execution_count": 71,
   "id": "b0ec1b67-0c80-47a1-ad7e-948876e08da7",
   "metadata": {},
   "outputs": [
    {
     "data": {
      "text/plain": [
       "Index(['申请日', '申请号', '公开（公告）号', '公开（公告）日', '专利类型', '专利有效性', 'IPC主分类', '引证专利',\n",
       "       '当前法律状态', 'table_name', '申请年', '企业全称', '权利人', 'Co', '传统制造', '先进制造',\n",
       "       '技术大类', '引证专利_A'],\n",
       "      dtype='object')"
      ]
     },
     "execution_count": 71,
     "metadata": {},
     "output_type": "execute_result"
    }
   ],
   "source": [
    "patent_co.columns"
   ]
  },
  {
   "cell_type": "code",
   "execution_count": 74,
   "id": "7a7e0d28-0844-42db-b111-70dfdad8406f",
   "metadata": {},
   "outputs": [
    {
     "data": {
      "text/html": [
       "<div>\n",
       "<style scoped>\n",
       "    .dataframe tbody tr th:only-of-type {\n",
       "        vertical-align: middle;\n",
       "    }\n",
       "\n",
       "    .dataframe tbody tr th {\n",
       "        vertical-align: top;\n",
       "    }\n",
       "\n",
       "    .dataframe thead th {\n",
       "        text-align: right;\n",
       "    }\n",
       "</style>\n",
       "<table border=\"1\" class=\"dataframe\">\n",
       "  <thead>\n",
       "    <tr style=\"text-align: right;\">\n",
       "      <th></th>\n",
       "      <th>申请年</th>\n",
       "      <th>技术大类</th>\n",
       "      <th>Co</th>\n",
       "    </tr>\n",
       "  </thead>\n",
       "  <tbody>\n",
       "    <tr>\n",
       "      <th>0</th>\n",
       "      <td>1988</td>\n",
       "      <td>B07</td>\n",
       "      <td>[马鞍山钢铁股份有限公司]</td>\n",
       "    </tr>\n",
       "    <tr>\n",
       "      <th>1</th>\n",
       "      <td>1988</td>\n",
       "      <td>B21</td>\n",
       "      <td>[马鞍山钢铁股份有限公司]</td>\n",
       "    </tr>\n",
       "    <tr>\n",
       "      <th>2</th>\n",
       "      <td>1989</td>\n",
       "      <td>A61</td>\n",
       "      <td>[河北古城香业集团股份有限公司]</td>\n",
       "    </tr>\n",
       "    <tr>\n",
       "      <th>3</th>\n",
       "      <td>1989</td>\n",
       "      <td>C25</td>\n",
       "      <td>[安徽鑫科新材料股份有限公司]</td>\n",
       "    </tr>\n",
       "    <tr>\n",
       "      <th>4</th>\n",
       "      <td>1989</td>\n",
       "      <td>E04</td>\n",
       "      <td>[马鞍山钢铁股份有限公司]</td>\n",
       "    </tr>\n",
       "    <tr>\n",
       "      <th>...</th>\n",
       "      <td>...</td>\n",
       "      <td>...</td>\n",
       "      <td>...</td>\n",
       "    </tr>\n",
       "    <tr>\n",
       "      <th>2803</th>\n",
       "      <td>2024</td>\n",
       "      <td>G16</td>\n",
       "      <td>[河北河钢材料技术研究院有限公司, 新余钢铁股份有限公司]</td>\n",
       "    </tr>\n",
       "    <tr>\n",
       "      <th>2804</th>\n",
       "      <td>2024</td>\n",
       "      <td>H01</td>\n",
       "      <td>[宁波润华全芯微电子设备有限公司, 张家港友诚新能源科技股份有限公司, 马鞍山钢铁股份有限公...</td>\n",
       "    </tr>\n",
       "    <tr>\n",
       "      <th>2805</th>\n",
       "      <td>2024</td>\n",
       "      <td>H02</td>\n",
       "      <td>[艺唯科技股份有限公司, 北京航天常兴科技发展股份有限公司, 广东环威电线电缆股份有限公司,...</td>\n",
       "    </tr>\n",
       "    <tr>\n",
       "      <th>2806</th>\n",
       "      <td>2024</td>\n",
       "      <td>H04</td>\n",
       "      <td>[深圳市华曦达科技股份有限公司, 浙江双元科技股份有限公司, 江西众加利高科技股份有限公司,...</td>\n",
       "    </tr>\n",
       "    <tr>\n",
       "      <th>2807</th>\n",
       "      <td>2024</td>\n",
       "      <td>H05</td>\n",
       "      <td>[苏州纽克斯电源技术股份有限公司, 河南泰隆电力设备股份有限公司, 广州豪特节能环保科技股份...</td>\n",
       "    </tr>\n",
       "  </tbody>\n",
       "</table>\n",
       "<p>2808 rows × 3 columns</p>\n",
       "</div>"
      ],
      "text/plain": [
       "       申请年 技术大类                                                 Co\n",
       "0     1988  B07                                      [马鞍山钢铁股份有限公司]\n",
       "1     1988  B21                                      [马鞍山钢铁股份有限公司]\n",
       "2     1989  A61                                   [河北古城香业集团股份有限公司]\n",
       "3     1989  C25                                    [安徽鑫科新材料股份有限公司]\n",
       "4     1989  E04                                      [马鞍山钢铁股份有限公司]\n",
       "...    ...  ...                                                ...\n",
       "2803  2024  G16                      [河北河钢材料技术研究院有限公司, 新余钢铁股份有限公司]\n",
       "2804  2024  H01  [宁波润华全芯微电子设备有限公司, 张家港友诚新能源科技股份有限公司, 马鞍山钢铁股份有限公...\n",
       "2805  2024  H02  [艺唯科技股份有限公司, 北京航天常兴科技发展股份有限公司, 广东环威电线电缆股份有限公司,...\n",
       "2806  2024  H04  [深圳市华曦达科技股份有限公司, 浙江双元科技股份有限公司, 江西众加利高科技股份有限公司,...\n",
       "2807  2024  H05  [苏州纽克斯电源技术股份有限公司, 河南泰隆电力设备股份有限公司, 广州豪特节能环保科技股份...\n",
       "\n",
       "[2808 rows x 3 columns]"
      ]
     },
     "execution_count": 74,
     "metadata": {},
     "output_type": "execute_result"
    }
   ],
   "source": [
    "patent_co[patent_co['传统制造']==1].groupby(['申请年','技术大类'],as_index=False)['Co'].unique()"
   ]
  },
  {
   "cell_type": "code",
   "execution_count": null,
   "id": "65baf09b-976d-4706-b498-da8e2f63c67f",
   "metadata": {},
   "outputs": [],
   "source": [
    "def co_similarity(ids,doc_lda_w2v_vec):\n",
    "    result={\n",
    "        'mean': pd.NA,\n",
    "        'var': pd.NA,\n",
    "        'std': pd.NA,\n",
    "        'cv': pd.NA\n",
    "    }\n",
    "    if len(ids)<=1:\n",
    "        return result\n",
    "    filter_patent=patent_co[(patent_co['传统制造']==1)&(patent_co['申请年']==row.申请年)&(patent_co['技术大类']==row.技术大类)]\n",
    "    filter_patent=patent_co[(patent_co['传统制造']==1)&(patent_co['申请年']==row.申请年)&(patent_co['Co'].isin(row.Co))]\n",
    "    group_ids_t = filter_patent.groupby('Co')['公开（公告）号'].apply(list)\n",
    "    vectors = group_ids_t.apply(lambda x: doc_lda_w2v_ct.loc[doc_lda_w2v_ct.index.isin(x)].mean(axis=0))    \n",
    "    vectors = doc_lda_w2v_vec.loc[doc_lda_w2v_vec.index.isin(ids)]\n",
    "    # vectors = vectors[vectors.sum(axis=1) != 0]\n",
    "    if vectors.empty:\n",
    "        return result\n",
    "        \n",
    "    matrix = cosine_similarity(vectors)\n",
    "    np.fill_diagonal(matrix, np.nan)\n",
    "\n",
    "    mean_similarity = np.nanmean(matrix)\n",
    "    variance_similarity = np.nanvar(matrix, ddof=1)\n",
    "    std_dev_similarity = np.nanstd(matrix, ddof=1)\n",
    "    cv_similarity = std_dev_similarity / mean_similarity if mean_similarity != 0 else  pd.NA\n",
    "    result={\n",
    "        'mean': mean_similarity,\n",
    "        'var': variance_similarity,\n",
    "        'std': std_dev_similarity,\n",
    "        'cv': cv_similarity\n",
    "    }\n",
    "    return result"
   ]
  },
  {
   "cell_type": "code",
   "execution_count": 14,
   "id": "5c5adcde-d201-4d6a-b62c-4c53b990280e",
   "metadata": {},
   "outputs": [],
   "source": [
    "from joblib import Parallel, delayed"
   ]
  },
  {
   "cell_type": "code",
   "execution_count": 23,
   "id": "9b32eaef-59ad-4f6f-8396-728f89e149b3",
   "metadata": {},
   "outputs": [
    {
     "ename": "KeyboardInterrupt",
     "evalue": "",
     "output_type": "error",
     "traceback": [
      "\u001b[1;31m---------------------------------------------------------------------------\u001b[0m",
      "\u001b[1;31mKeyboardInterrupt\u001b[0m                         Traceback (most recent call last)",
      "Cell \u001b[1;32mIn[23], line 26\u001b[0m\n\u001b[0;32m     18\u001b[0m     \u001b[38;5;28;01mreturn\u001b[39;00m pd\u001b[38;5;241m.\u001b[39mSeries([mean_similarity, variance_similarity, std_dev_similarity, cv_similarity], index\u001b[38;5;241m=\u001b[39m[\u001b[38;5;124m'\u001b[39m\u001b[38;5;124mmean\u001b[39m\u001b[38;5;124m'\u001b[39m, \u001b[38;5;124m'\u001b[39m\u001b[38;5;124mvar\u001b[39m\u001b[38;5;124m'\u001b[39m, \u001b[38;5;124m'\u001b[39m\u001b[38;5;124mstd\u001b[39m\u001b[38;5;124m'\u001b[39m, \u001b[38;5;124m'\u001b[39m\u001b[38;5;124mcv\u001b[39m\u001b[38;5;124m'\u001b[39m])\n\u001b[0;32m     19\u001b[0m     \u001b[38;5;66;03m# return {\u001b[39;00m\n\u001b[0;32m     20\u001b[0m     \u001b[38;5;66;03m#     'mean': mean_similarity,\u001b[39;00m\n\u001b[0;32m     21\u001b[0m     \u001b[38;5;66;03m#     'var': variance_similarity,\u001b[39;00m\n\u001b[1;32m   (...)\u001b[0m\n\u001b[0;32m     24\u001b[0m     \u001b[38;5;66;03m# })\u001b[39;00m\n\u001b[0;32m     25\u001b[0m \u001b[38;5;66;03m#ipc_id[['mean','var',...]=ipc_id['公开（公告）号'].apply(ipc_similarity,doc_lda_w2v_ct)\u001b[39;00m\n\u001b[1;32m---> 26\u001b[0m results \u001b[38;5;241m=\u001b[39m \u001b[43mParallel\u001b[49m\u001b[43m(\u001b[49m\u001b[43mn_jobs\u001b[49m\u001b[38;5;241;43m=\u001b[39;49m\u001b[38;5;241;43m-\u001b[39;49m\u001b[38;5;241;43m1\u001b[39;49m\u001b[43m)\u001b[49m\u001b[43m(\u001b[49m\u001b[43mdelayed\u001b[49m\u001b[43m(\u001b[49m\u001b[43mipc_similarity\u001b[49m\u001b[43m)\u001b[49m\u001b[43m(\u001b[49m\u001b[43mids\u001b[49m\u001b[43m,\u001b[49m\u001b[43m \u001b[49m\u001b[43mdoc_lda_w2v_ct\u001b[49m\u001b[43m)\u001b[49m\u001b[43m \u001b[49m\u001b[38;5;28;43;01mfor\u001b[39;49;00m\u001b[43m \u001b[49m\u001b[43mids\u001b[49m\u001b[43m \u001b[49m\u001b[38;5;129;43;01min\u001b[39;49;00m\u001b[43m \u001b[49m\u001b[43mipc_id\u001b[49m\u001b[43m[\u001b[49m\u001b[38;5;124;43m'\u001b[39;49m\u001b[38;5;124;43m公开（公告）号\u001b[39;49m\u001b[38;5;124;43m'\u001b[39;49m\u001b[43m]\u001b[49m\u001b[43m)\u001b[49m\n\u001b[0;32m     27\u001b[0m ipc_id[[\u001b[38;5;124m'\u001b[39m\u001b[38;5;124mmean\u001b[39m\u001b[38;5;124m'\u001b[39m, \u001b[38;5;124m'\u001b[39m\u001b[38;5;124mvar\u001b[39m\u001b[38;5;124m'\u001b[39m, \u001b[38;5;124m'\u001b[39m\u001b[38;5;124mstd\u001b[39m\u001b[38;5;124m'\u001b[39m, \u001b[38;5;124m'\u001b[39m\u001b[38;5;124mcv\u001b[39m\u001b[38;5;124m'\u001b[39m]]  \u001b[38;5;241m=\u001b[39m pd\u001b[38;5;241m.\u001b[39mDataFrame(results, columns\u001b[38;5;241m=\u001b[39m[\u001b[38;5;124m'\u001b[39m\u001b[38;5;124mmean\u001b[39m\u001b[38;5;124m'\u001b[39m, \u001b[38;5;124m'\u001b[39m\u001b[38;5;124mvar\u001b[39m\u001b[38;5;124m'\u001b[39m, \u001b[38;5;124m'\u001b[39m\u001b[38;5;124mstd\u001b[39m\u001b[38;5;124m'\u001b[39m, \u001b[38;5;124m'\u001b[39m\u001b[38;5;124mcv\u001b[39m\u001b[38;5;124m'\u001b[39m])\n\u001b[0;32m     28\u001b[0m ipc_id\n",
      "File \u001b[1;32m~\\AppData\\Roaming\\Python\\Python39\\site-packages\\joblib\\parallel.py:1952\u001b[0m, in \u001b[0;36mParallel.__call__\u001b[1;34m(self, iterable)\u001b[0m\n\u001b[0;32m   1946\u001b[0m \u001b[38;5;66;03m# The first item from the output is blank, but it makes the interpreter\u001b[39;00m\n\u001b[0;32m   1947\u001b[0m \u001b[38;5;66;03m# progress until it enters the Try/Except block of the generator and\u001b[39;00m\n\u001b[0;32m   1948\u001b[0m \u001b[38;5;66;03m# reach the first `yield` statement. This starts the aynchronous\u001b[39;00m\n\u001b[0;32m   1949\u001b[0m \u001b[38;5;66;03m# dispatch of the tasks to the workers.\u001b[39;00m\n\u001b[0;32m   1950\u001b[0m \u001b[38;5;28mnext\u001b[39m(output)\n\u001b[1;32m-> 1952\u001b[0m \u001b[38;5;28;01mreturn\u001b[39;00m output \u001b[38;5;28;01mif\u001b[39;00m \u001b[38;5;28mself\u001b[39m\u001b[38;5;241m.\u001b[39mreturn_generator \u001b[38;5;28;01melse\u001b[39;00m \u001b[38;5;28;43mlist\u001b[39;49m\u001b[43m(\u001b[49m\u001b[43moutput\u001b[49m\u001b[43m)\u001b[49m\n",
      "File \u001b[1;32m~\\AppData\\Roaming\\Python\\Python39\\site-packages\\joblib\\parallel.py:1595\u001b[0m, in \u001b[0;36mParallel._get_outputs\u001b[1;34m(self, iterator, pre_dispatch)\u001b[0m\n\u001b[0;32m   1592\u001b[0m     \u001b[38;5;28;01myield\u001b[39;00m\n\u001b[0;32m   1594\u001b[0m     \u001b[38;5;28;01mwith\u001b[39;00m \u001b[38;5;28mself\u001b[39m\u001b[38;5;241m.\u001b[39m_backend\u001b[38;5;241m.\u001b[39mretrieval_context():\n\u001b[1;32m-> 1595\u001b[0m         \u001b[38;5;28;01myield from\u001b[39;00m \u001b[38;5;28mself\u001b[39m\u001b[38;5;241m.\u001b[39m_retrieve()\n\u001b[0;32m   1597\u001b[0m \u001b[38;5;28;01mexcept\u001b[39;00m \u001b[38;5;167;01mGeneratorExit\u001b[39;00m:\n\u001b[0;32m   1598\u001b[0m     \u001b[38;5;66;03m# The generator has been garbage collected before being fully\u001b[39;00m\n\u001b[0;32m   1599\u001b[0m     \u001b[38;5;66;03m# consumed. This aborts the remaining tasks if possible and warn\u001b[39;00m\n\u001b[0;32m   1600\u001b[0m     \u001b[38;5;66;03m# the user if necessary.\u001b[39;00m\n\u001b[0;32m   1601\u001b[0m     \u001b[38;5;28mself\u001b[39m\u001b[38;5;241m.\u001b[39m_exception \u001b[38;5;241m=\u001b[39m \u001b[38;5;28;01mTrue\u001b[39;00m\n",
      "File \u001b[1;32m~\\AppData\\Roaming\\Python\\Python39\\site-packages\\joblib\\parallel.py:1707\u001b[0m, in \u001b[0;36mParallel._retrieve\u001b[1;34m(self)\u001b[0m\n\u001b[0;32m   1702\u001b[0m \u001b[38;5;66;03m# If the next job is not ready for retrieval yet, we just wait for\u001b[39;00m\n\u001b[0;32m   1703\u001b[0m \u001b[38;5;66;03m# async callbacks to progress.\u001b[39;00m\n\u001b[0;32m   1704\u001b[0m \u001b[38;5;28;01mif\u001b[39;00m ((\u001b[38;5;28mlen\u001b[39m(\u001b[38;5;28mself\u001b[39m\u001b[38;5;241m.\u001b[39m_jobs) \u001b[38;5;241m==\u001b[39m \u001b[38;5;241m0\u001b[39m) \u001b[38;5;129;01mor\u001b[39;00m\n\u001b[0;32m   1705\u001b[0m     (\u001b[38;5;28mself\u001b[39m\u001b[38;5;241m.\u001b[39m_jobs[\u001b[38;5;241m0\u001b[39m]\u001b[38;5;241m.\u001b[39mget_status(\n\u001b[0;32m   1706\u001b[0m         timeout\u001b[38;5;241m=\u001b[39m\u001b[38;5;28mself\u001b[39m\u001b[38;5;241m.\u001b[39mtimeout) \u001b[38;5;241m==\u001b[39m TASK_PENDING)):\n\u001b[1;32m-> 1707\u001b[0m     \u001b[43mtime\u001b[49m\u001b[38;5;241;43m.\u001b[39;49m\u001b[43msleep\u001b[49m\u001b[43m(\u001b[49m\u001b[38;5;241;43m0.01\u001b[39;49m\u001b[43m)\u001b[49m\n\u001b[0;32m   1708\u001b[0m     \u001b[38;5;28;01mcontinue\u001b[39;00m\n\u001b[0;32m   1710\u001b[0m \u001b[38;5;66;03m# We need to be careful: the job list can be filling up as\u001b[39;00m\n\u001b[0;32m   1711\u001b[0m \u001b[38;5;66;03m# we empty it and Python list are not thread-safe by\u001b[39;00m\n\u001b[0;32m   1712\u001b[0m \u001b[38;5;66;03m# default hence the use of the lock\u001b[39;00m\n",
      "\u001b[1;31mKeyboardInterrupt\u001b[0m: "
     ]
    }
   ],
   "source": [
    "def ipc_similarity(ids,doc_lda_w2v_vec):\n",
    "    if len(ids)<=1:\n",
    "        return pd.Series([pd.NA, pd.NA, pd.NA, pd.NA], index=['mean', 'var', 'std', 'cv'])\n",
    "        \n",
    "    vectors = doc_lda_w2v_vec.loc[doc_lda_w2v_vec.index.isin(ids)]\n",
    "    # vectors = vectors[vectors.sum(axis=1) != 0]\n",
    "    if vectors.empty:\n",
    "        return pd.Series([pd.NA, pd.NA, pd.NA, pd.NA], index=['mean', 'var', 'std', 'cv'])\n",
    "        \n",
    "    matrix = cosine_similarity(vectors)\n",
    "    np.fill_diagonal(matrix, np.nan)\n",
    "\n",
    "    mean_similarity = np.nanmean(matrix)\n",
    "    variance_similarity = np.nanvar(matrix, ddof=1)\n",
    "    std_dev_similarity = np.nanstd(matrix, ddof=1)\n",
    "    cv_similarity = std_dev_similarity / mean_similarity if mean_similarity != 0 else  pd.NA\n",
    "\n",
    "    return pd.Series([mean_similarity, variance_similarity, std_dev_similarity, cv_similarity], index=['mean', 'var', 'std', 'cv'])\n",
    "\n",
    "results = Parallel(n_jobs=-1)(delayed(ipc_similarity)(ids, doc_lda_w2v_xj) for ids in ipc_id_xj['公开（公告）号'])\n",
    "ipc_id_xj[['mean', 'var', 'std', 'cv']]  = pd.DataFrame(results, columns=['mean', 'var', 'std', 'cv'])\n",
    "ipc_id_xj"
   ]
  },
  {
   "cell_type": "code",
   "execution_count": null,
   "id": "0b58afff-7267-44d3-a656-cbad3ab16d12",
   "metadata": {},
   "outputs": [],
   "source": []
  }
 ],
 "metadata": {
  "kernelspec": {
   "display_name": "Python 3 (ipykernel)",
   "language": "python",
   "name": "python3"
  },
  "language_info": {
   "codemirror_mode": {
    "name": "ipython",
    "version": 3
   },
   "file_extension": ".py",
   "mimetype": "text/x-python",
   "name": "python",
   "nbconvert_exporter": "python",
   "pygments_lexer": "ipython3",
   "version": "3.9.13"
  }
 },
 "nbformat": 4,
 "nbformat_minor": 5
}
