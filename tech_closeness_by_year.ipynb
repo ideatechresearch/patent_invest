{
 "cells": [
  {
   "cell_type": "code",
   "execution_count": 106,
   "id": "0ea076ee-651e-4362-8066-7cd8b41f3382",
   "metadata": {},
   "outputs": [],
   "source": [
    "from w2v_lda import *"
   ]
  },
  {
   "cell_type": "code",
   "execution_count": 44,
   "id": "93c12900-7697-4624-a395-24b5ae702231",
   "metadata": {},
   "outputs": [
    {
     "name": "stdout",
     "output_type": "stream",
     "text": [
      "CPU times: total: 1min 31s\n",
      "Wall time: 1min 25s\n"
     ]
    }
   ],
   "source": [
    "%%time\n",
    "wd_data=pd.read_parquet('data\\patent_cut_doc.parquet')\n",
    "co_data=pd.read_parquet('data\\patent_co_ids.parquet')\n",
    "patent_co=pd.read_csv('data\\融资公司专利2024.csv',usecols=['序号','标题 (中文)', '摘要 (中文)','申请号','申请日','申请人','公开（公告）号','Co','table'])\n",
    "\n",
    "df_co=pd.read_excel('data\\公司融资变量2_20240301.xlsx',usecols=['公司序号','公司简称','工商全称','行业'])\n",
    "co=df_co.loc[df_co.行业=='先进制造','工商全称'].unique()\n",
    "\n",
    "Stopwords=set(read2list('data\\\\专利停用词表2024.txt'))\n",
    "bd_word=pd.read_excel('data\\\\百度输入法词库1.xlsx',index_col=0)"
   ]
  },
  {
   "cell_type": "code",
   "execution_count": 13,
   "id": "c8f13520-7652-4275-9a97-9cb429ab0bae",
   "metadata": {},
   "outputs": [
    {
     "data": {
      "text/plain": [
       "(Index(['序号', '词语'], dtype='object'),\n",
       " Index(['Co', '序号'], dtype='object'),\n",
       " Index(['序号', '标题 (中文)', '摘要 (中文)', '申请人', '申请日', '申请号', '公开（公告）号', 'table'], dtype='object'))"
      ]
     },
     "execution_count": 13,
     "metadata": {},
     "output_type": "execute_result"
    }
   ],
   "source": [
    "wd_data.columns,co_data.columns,patent_co.columns"
   ]
  },
  {
   "cell_type": "code",
   "execution_count": 190,
   "id": "de2bc3c0-b980-4576-b140-45c9c1fde6f0",
   "metadata": {},
   "outputs": [
    {
     "data": {
      "text/plain": [
       "((1897517, 9), (1889962, 2))"
      ]
     },
     "execution_count": 190,
     "metadata": {},
     "output_type": "execute_result"
    }
   ],
   "source": [
    "patent_co.shape,wd_data.shape"
   ]
  },
  {
   "cell_type": "code",
   "execution_count": 253,
   "id": "ffd3f0eb-e71d-4708-b705-f82f868bf08d",
   "metadata": {},
   "outputs": [
    {
     "data": {
      "text/plain": [
       "table\n",
       "patent202404                    846384\n",
       "patent202210                    706371\n",
       "patent_incopat_202101_202211    286413\n",
       "patent_incopat_202212_202312     43636\n",
       "patent202309                     14713\n",
       "Name: count, dtype: int64"
      ]
     },
     "execution_count": 253,
     "metadata": {},
     "output_type": "execute_result"
    }
   ],
   "source": [
    "patent_co['table'].value_counts()"
   ]
  },
  {
   "cell_type": "code",
   "execution_count": 45,
   "id": "2a9803c3-3c65-492f-9220-8753c52acd5c",
   "metadata": {},
   "outputs": [],
   "source": [
    "wd_data['词语']=wd_data['词语'].dropna().apply(lambda x: x.tolist())"
   ]
  },
  {
   "cell_type": "code",
   "execution_count": 347,
   "id": "3c871b23-6253-4db3-8afd-b0b2be32d90a",
   "metadata": {},
   "outputs": [
    {
     "data": {
      "text/plain": [
       "'1994-08-31'"
      ]
     },
     "execution_count": 347,
     "metadata": {},
     "output_type": "execute_result"
    }
   ],
   "source": [
    "patent_co_1=patent_co[patent_co['Co'].isin(co)].copy()\n",
    "patent_co_1.申请日.min()"
   ]
  },
  {
   "cell_type": "code",
   "execution_count": 349,
   "id": "4e3a62f9-f759-4ac4-b2a0-b8b66b7aeda8",
   "metadata": {},
   "outputs": [],
   "source": [
    "patent_co_1['申请年']=pd.to_datetime(patent_co_1.申请日).dt.year\n",
    "co_data_1=co_data[co_data.Co.isin(co)].copy()#patent_co_1['申请人'].str.split(';', expand=True).stack().str.strip().reset_index(level=1, drop=True).rename('Co')"
   ]
  },
  {
   "cell_type": "code",
   "execution_count": 204,
   "id": "1e542ed8-4e05-47d2-80ee-78ad87fa8818",
   "metadata": {},
   "outputs": [
    {
     "data": {
      "text/plain": [
       "((7370, 2), 7370)"
      ]
     },
     "execution_count": 204,
     "metadata": {},
     "output_type": "execute_result"
    }
   ],
   "source": [
    "co_data_1.shape,patent_co_1.Co.nunique()"
   ]
  },
  {
   "cell_type": "code",
   "execution_count": 350,
   "id": "ef760cf6-ed58-43f7-bfa7-e713dc53a147",
   "metadata": {},
   "outputs": [
    {
     "data": {
      "text/plain": [
       "4"
      ]
     },
     "execution_count": 350,
     "metadata": {},
     "output_type": "execute_result"
    }
   ],
   "source": [
    "(patent_co_1['申请年']==1994).sum()"
   ]
  },
  {
   "cell_type": "markdown",
   "id": "9381d622-b397-44ee-98eb-2318db8b9e3a",
   "metadata": {},
   "source": [
    "  CBOW对小型数据库比较合适，而Skip-Gram在大型语料中表现更好。 当语料较少时使用CBOW方法比较好，当语料较多时采用skip-gram表示比较好。  \n",
    "\n",
    "  主题模型是一种基于概率图模型的生成式模型，其似然函数可以写成若干条件概率连乘的形式，其中包括需要推测的隐含变量（即主题）；  \n",
    "  而词嵌入模型一般表达为神经网络的形式，似然函数定义在网络的输出之上，需要通过学习网络的权重以得到单词的稠密向量表示。\n",
    "\n",
    "  如果文档数量较少，Word2Vec（w2v）模型的相似度结果可能会变得不那么准确。    \n",
    "词汇覆盖率低：文档少意味着训练数据少，许多词可能不会出现在训练集中，导致模型无法有效学习这些词的语义。  \n",
    "语境信息不足：Word2Vec依赖于大量的上下文来学习词语之间的关系。文档少意味着模型能学习到的上下文信息有限，影响词向量的质量。  \n",
    "过拟合风险高：在小数据集上训练的模型可能会过拟合，即过于贴合训练数据，而在新的数据上表现不佳。这样，模型可能会高估一些词之间的相似度，因为它们在训练集中偶然频繁地一起出现。   \n",
    "\n",
    "文档数量和质量：\n",
    "最小数量：一般来说，至少需要数千篇文档（或几十万到几百万的词）才能训练出一个有用的Word2Vec模型。如果文档太少，模型可能无法捕捉到足够的上下文信息来生成有意义的词向量。  \n",
    "理想数量：为了获得更高质量的词向量，通常建议使用数百万篇文档（或数十亿个词）。\n",
    "\n",
    "文档长度：\n",
    "短文档：如果文档较短，例如社交媒体帖子或新闻摘要，那么需要更多的文档来覆盖足够的词汇和上下文。  \n",
    "长文档：如果文档较长，例如书籍或长篇论文，那么较少的文档也能提供足够的上下文信息。\n",
    "\n",
    "领域专注：\n",
    "如果是在一个非常专门的领域（例如医学或法律），需要特定领域的大量文档来确保模型能够捕捉到该领域特有的词汇和语义。\n",
    "\n",
    "一般应用：对于一般应用，如新闻分类或产品推荐，需要数百万到数千万的词。  \n",
    "特定领域应用：对于特定领域的应用，建议收集尽可能多的领域相关文档，以确保模型能够准确地捕捉该领域的特定词汇和语义。\n",
    "\n",
    "如果无法获得足够多的文档，可以考虑使用预训练的词向量（如Google的Word2Vec或GloVe）作为基础"
   ]
  },
  {
   "cell_type": "code",
   "execution_count": 49,
   "id": "c75659ae-5268-4ecb-8b88-10eeb50c21f3",
   "metadata": {},
   "outputs": [
    {
     "data": {
      "text/plain": [
       "(944627, 1897517)"
      ]
     },
     "execution_count": 49,
     "metadata": {},
     "output_type": "execute_result"
    }
   ],
   "source": [
    "len(patent_co_1),len(patent_co)#可先分个1000万专利上训练"
   ]
  },
  {
   "cell_type": "code",
   "execution_count": 35,
   "id": "f53f7859-8e67-4c77-9370-101f3246217c",
   "metadata": {},
   "outputs": [
    {
     "data": {
      "text/plain": [
       "申请年\n",
       "2021    134978\n",
       "2022    109812\n",
       "2020    103997\n",
       "2019     90856\n",
       "2018     81509\n",
       "2023     77849\n",
       "2017     70823\n",
       "2016     63691\n",
       "2015     45376\n",
       "2014     30713\n",
       "2012     24362\n",
       "2013     23642\n",
       "2011     19393\n",
       "2010     16845\n",
       "2009     14284\n",
       "2008     10735\n",
       "2007     10550\n",
       "2006      5599\n",
       "2005      3185\n",
       "2004      2006\n",
       "2024      1537\n",
       "2003      1459\n",
       "2002       642\n",
       "2001       426\n",
       "2000       173\n",
       "1999       132\n",
       "1997        19\n",
       "1998        14\n",
       "1996         9\n",
       "1995         7\n",
       "1994         4\n",
       "Name: count, dtype: int64"
      ]
     },
     "execution_count": 35,
     "metadata": {},
     "output_type": "execute_result"
    }
   ],
   "source": [
    "patent_co_1['申请年'].value_counts()"
   ]
  },
  {
   "cell_type": "code",
   "execution_count": 36,
   "id": "1c0a58fb-3cf5-4eca-9590-6a1c1b294c08",
   "metadata": {},
   "outputs": [
    {
     "data": {
      "text/plain": [
       "358"
      ]
     },
     "execution_count": 36,
     "metadata": {},
     "output_type": "execute_result"
    }
   ],
   "source": [
    "(patent_co_1['申请年']<=2000).sum()"
   ]
  },
  {
   "cell_type": "markdown",
   "id": "b5cdf227-c665-4b6a-9456-2a2a75818bce",
   "metadata": {},
   "source": [
    "w2v：尽可能多的训练，用已分词的  ：processed_doc,wd_data  \n",
    "lda：用当前先进制造，每年训练主体标签和主题词不会统一  ：corpus,document_topics,documents_vec,df_lda_w2v  \n",
    "结合：每年分开筛选，表示  :group_ids  \n"
   ]
  },
  {
   "cell_type": "code",
   "execution_count": 277,
   "id": "cf9e083b-d9e6-498f-9078-49bd175890e8",
   "metadata": {},
   "outputs": [],
   "source": [
    "import w2v_lda\n",
    "import importlib\n",
    "importlib.reload(w2v_lda)\n",
    "from w2v_lda import *"
   ]
  },
  {
   "cell_type": "code",
   "execution_count": 126,
   "id": "fb60d796-4d13-4cef-8812-dffb13418680",
   "metadata": {},
   "outputs": [],
   "source": [
    "model=W2vLda(wd_data['词语'].dropna(),\n",
    "             suffix='先进制造',\n",
    "             stop_words=Stopwords\n",
    "            )"
   ]
  },
  {
   "cell_type": "code",
   "execution_count": null,
   "id": "a18f3503-fc30-4848-a77f-af66dbe4107e",
   "metadata": {},
   "outputs": [
    {
     "name": "stdout",
     "output_type": "stream",
     "text": [
      "{'vector_size': 250, 'sg': 1, 'window': 5, 'len_below': 2, 'no_below': 3, 'min_count': 3, 'count_fifter': 5, 'num_topics': 50, 'top_n_words': 20, 'weight_threshold_topics': 0.03, 'chunksize': 3000, 'keep_n': 800000, 'passes': 3, 'top_n_topics': 3}\n"
     ]
    }
   ],
   "source": [
    "%%time\n",
    "model.lda=1#不跑lda,先w2v\n",
    "r1=model.on_corpus(vector_size=250,sg=1,window=5,count_fifter=5,min_count=3,no_below=3,num_topics=50,chunksize=3000,keep_n=800000,passes=3)\n",
    "print(r1)\n",
    "model.lda=None#重建corpus\n",
    "filter_ids=patent_co.loc[patent_co['Co'].isin(co),'序号']\n",
    "model.on_init(wd_data.loc[wd_data.序号.isin(filter_ids),'词语'].dropna(),suffix='先进制造')\n",
    "r2=model.on_corpus()\n",
    "print(r2)\n",
    "model.save()"
   ]
  },
  {
   "cell_type": "code",
   "execution_count": 335,
   "id": "28ceddf1-b886-42ba-b688-b2c3d0efba5d",
   "metadata": {},
   "outputs": [],
   "source": [
    "importlib.reload(w2v_lda)\n",
    "from w2v_lda import *\n",
    "\n",
    "model=W2vLda(wd_data['词语'].dropna(),\n",
    "             suffix='188_27_sg',\n",
    "             stop_words=Stopwords\n",
    "            )\n",
    "model.load(dictionary=False,lda=False)"
   ]
  },
  {
   "cell_type": "code",
   "execution_count": 336,
   "id": "8735ff77-620d-49c7-8820-df3334d5db30",
   "metadata": {},
   "outputs": [
    {
     "data": {
      "text/plain": [
       "(6956, 1196876)"
      ]
     },
     "execution_count": 336,
     "metadata": {},
     "output_type": "execute_result"
    }
   ],
   "source": [
    "model.on_init(wd_data.loc[wd_data.序号.isin(filter_ids),'词语'].dropna(),suffix='先进制造')\n",
    "len(model.stop_words),len(model.sentences)"
   ]
  },
  {
   "cell_type": "code",
   "execution_count": 337,
   "id": "0fce4049-6d08-493d-bf2b-3ae96549e53b",
   "metadata": {},
   "outputs": [
    {
     "name": "stdout",
     "output_type": "stream",
     "text": [
      "{'vector_size': 250, 'sg': 0, 'window': 5, 'len_below': 2, 'no_below': 3, 'min_count': 3, 'count_fifter': 5, 'num_topics': 50, 'top_n_words': 10, 'top_n_topics': 5, 'weight_threshold_topics': 0.05, 'minimum_probability': 0.05, 'chunksize': 3000, 'keep_n': 800000, 'passes': 3, 'no_above': 0.99}\n",
      "(268220, 137899, 137899)\n",
      "CPU times: total: 56min 52s\n",
      "Wall time: 56min 55s\n"
     ]
    }
   ],
   "source": [
    "%%time\n",
    "r2=model.on_corpus(count_fifter=5,min_count=3,no_below=3,num_topics=50,chunksize=3000,keep_n=800000,passes=3,no_above=0.99)#vector_size=250,sg=1,window=5,\n",
    "print(r2)\n",
    "model.save()"
   ]
  },
  {
   "cell_type": "code",
   "execution_count": 338,
   "id": "7cf8aeb1-e18d-4e0f-b00d-63298bbc4d40",
   "metadata": {},
   "outputs": [
    {
     "data": {
      "text/plain": [
       "(1196876, 1196876)"
      ]
     },
     "execution_count": 338,
     "metadata": {},
     "output_type": "execute_result"
    }
   ],
   "source": [
    "len(model.sentences),len(model.corpus)#model.wd_data.index"
   ]
  },
  {
   "cell_type": "code",
   "execution_count": 339,
   "id": "c7b0fbbd-1295-40a5-9dc0-105637c3137d",
   "metadata": {},
   "outputs": [
    {
     "data": {
      "text/plain": [
       "268220"
      ]
     },
     "execution_count": 339,
     "metadata": {},
     "output_type": "execute_result"
    }
   ],
   "source": [
    "len(model.wo.wv)"
   ]
  },
  {
   "cell_type": "code",
   "execution_count": 340,
   "id": "10093e51-f59a-465c-a811-6f1e37e7832c",
   "metadata": {},
   "outputs": [
    {
     "name": "stdout",
     "output_type": "stream",
     "text": [
      "CPU times: total: 11min 10s\n",
      "Wall time: 11min 11s\n"
     ]
    }
   ],
   "source": [
    "%%time\n",
    "topics_vec,documents_vec=model.on_topics(top_n_words=30, top_n_topics=4,minimum_probability=0.03,weight_threshold_topics=0.03)"
   ]
  },
  {
   "cell_type": "code",
   "execution_count": 341,
   "id": "3e05df21-4b82-411b-bd12-205a54aebdf1",
   "metadata": {},
   "outputs": [
    {
     "data": {
      "text/html": [
       "<div>\n",
       "<style scoped>\n",
       "    .dataframe tbody tr th:only-of-type {\n",
       "        vertical-align: middle;\n",
       "    }\n",
       "\n",
       "    .dataframe tbody tr th {\n",
       "        vertical-align: top;\n",
       "    }\n",
       "\n",
       "    .dataframe thead th {\n",
       "        text-align: right;\n",
       "    }\n",
       "</style>\n",
       "<table border=\"1\" class=\"dataframe\">\n",
       "  <thead>\n",
       "    <tr style=\"text-align: right;\">\n",
       "      <th></th>\n",
       "      <th>word</th>\n",
       "      <th>0</th>\n",
       "      <th>word</th>\n",
       "      <th>1</th>\n",
       "      <th>word</th>\n",
       "      <th>2</th>\n",
       "      <th>word</th>\n",
       "      <th>3</th>\n",
       "      <th>word</th>\n",
       "      <th>4</th>\n",
       "      <th>...</th>\n",
       "      <th>word</th>\n",
       "      <th>45</th>\n",
       "      <th>word</th>\n",
       "      <th>46</th>\n",
       "      <th>word</th>\n",
       "      <th>47</th>\n",
       "      <th>word</th>\n",
       "      <th>48</th>\n",
       "      <th>word</th>\n",
       "      <th>49</th>\n",
       "    </tr>\n",
       "  </thead>\n",
       "  <tbody>\n",
       "    <tr>\n",
       "      <th>0</th>\n",
       "      <td>控制</td>\n",
       "      <td>0.336473</td>\n",
       "      <td>壳体</td>\n",
       "      <td>0.060365</td>\n",
       "      <td>时间</td>\n",
       "      <td>0.137966</td>\n",
       "      <td>检测</td>\n",
       "      <td>0.434082</td>\n",
       "      <td>工件</td>\n",
       "      <td>0.171947</td>\n",
       "      <td>...</td>\n",
       "      <td>组件</td>\n",
       "      <td>0.104818</td>\n",
       "      <td>电机</td>\n",
       "      <td>0.166002</td>\n",
       "      <td>监测</td>\n",
       "      <td>0.180670</td>\n",
       "      <td>信号</td>\n",
       "      <td>0.229929</td>\n",
       "      <td>设备</td>\n",
       "      <td>0.691298</td>\n",
       "    </tr>\n",
       "    <tr>\n",
       "      <th>1</th>\n",
       "      <td>温度</td>\n",
       "      <td>0.093791</td>\n",
       "      <td>本体</td>\n",
       "      <td>0.052032</td>\n",
       "      <td>同步</td>\n",
       "      <td>0.073825</td>\n",
       "      <td>晶圆</td>\n",
       "      <td>0.070577</td>\n",
       "      <td>基底</td>\n",
       "      <td>0.107282</td>\n",
       "      <td>...</td>\n",
       "      <td>安装</td>\n",
       "      <td>0.066537</td>\n",
       "      <td>控制器</td>\n",
       "      <td>0.097613</td>\n",
       "      <td>场景</td>\n",
       "      <td>0.119917</td>\n",
       "      <td>功率</td>\n",
       "      <td>0.044660</td>\n",
       "      <td>对象</td>\n",
       "      <td>0.043946</td>\n",
       "    </tr>\n",
       "    <tr>\n",
       "      <th>2</th>\n",
       "      <td>模式</td>\n",
       "      <td>0.050696</td>\n",
       "      <td>结构</td>\n",
       "      <td>0.036464</td>\n",
       "      <td>时钟</td>\n",
       "      <td>0.069153</td>\n",
       "      <td>缺陷</td>\n",
       "      <td>0.039418</td>\n",
       "      <td>通讯</td>\n",
       "      <td>0.096650</td>\n",
       "      <td>...</td>\n",
       "      <td>机构</td>\n",
       "      <td>0.060612</td>\n",
       "      <td>物料</td>\n",
       "      <td>0.064860</td>\n",
       "      <td>开启</td>\n",
       "      <td>0.060530</td>\n",
       "      <td>输出</td>\n",
       "      <td>0.037771</td>\n",
       "      <td>极耳</td>\n",
       "      <td>0.026328</td>\n",
       "    </tr>\n",
       "    <tr>\n",
       "      <th>3</th>\n",
       "      <td>工作</td>\n",
       "      <td>0.031869</td>\n",
       "      <td>限位</td>\n",
       "      <td>0.035447</td>\n",
       "      <td>缓冲</td>\n",
       "      <td>0.056486</td>\n",
       "      <td>阈值</td>\n",
       "      <td>0.038228</td>\n",
       "      <td>神经网络</td>\n",
       "      <td>0.063235</td>\n",
       "      <td>...</td>\n",
       "      <td>固定</td>\n",
       "      <td>0.046357</td>\n",
       "      <td>转子</td>\n",
       "      <td>0.036421</td>\n",
       "      <td>关闭</td>\n",
       "      <td>0.053182</td>\n",
       "      <td>采样</td>\n",
       "      <td>0.032491</td>\n",
       "      <td>识别方法</td>\n",
       "      <td>0.013465</td>\n",
       "    </tr>\n",
       "    <tr>\n",
       "      <th>4</th>\n",
       "      <td>运行</td>\n",
       "      <td>0.027646</td>\n",
       "      <td>夹持</td>\n",
       "      <td>0.028398</td>\n",
       "      <td>翻转</td>\n",
       "      <td>0.047002</td>\n",
       "      <td>异常</td>\n",
       "      <td>0.034680</td>\n",
       "      <td>吸盘</td>\n",
       "      <td>0.052574</td>\n",
       "      <td>...</td>\n",
       "      <td>驱动</td>\n",
       "      <td>0.030306</td>\n",
       "      <td>轴承</td>\n",
       "      <td>0.034787</td>\n",
       "      <td>打开</td>\n",
       "      <td>0.051750</td>\n",
       "      <td>频率</td>\n",
       "      <td>0.026628</td>\n",
       "      <td>反射镜</td>\n",
       "      <td>0.011968</td>\n",
       "    </tr>\n",
       "    <tr>\n",
       "      <th>5</th>\n",
       "      <td>控制系统</td>\n",
       "      <td>0.022630</td>\n",
       "      <td>绝缘</td>\n",
       "      <td>0.024258</td>\n",
       "      <td>周期</td>\n",
       "      <td>0.040176</td>\n",
       "      <td>探针</td>\n",
       "      <td>0.021048</td>\n",
       "      <td>沟道</td>\n",
       "      <td>0.048676</td>\n",
       "      <td>...</td>\n",
       "      <td>支撑</td>\n",
       "      <td>0.025624</td>\n",
       "      <td>端盖</td>\n",
       "      <td>0.031197</td>\n",
       "      <td>跟踪</td>\n",
       "      <td>0.044414</td>\n",
       "      <td>输入</td>\n",
       "      <td>0.025969</td>\n",
       "      <td>铜箔</td>\n",
       "      <td>0.010763</td>\n",
       "    </tr>\n",
       "    <tr>\n",
       "      <th>6</th>\n",
       "      <td>启动</td>\n",
       "      <td>0.021287</td>\n",
       "      <td>导电</td>\n",
       "      <td>0.023150</td>\n",
       "      <td>锁定</td>\n",
       "      <td>0.033064</td>\n",
       "      <td>等于</td>\n",
       "      <td>0.017985</td>\n",
       "      <td>手机</td>\n",
       "      <td>0.033976</td>\n",
       "      <td>...</td>\n",
       "      <td>设有</td>\n",
       "      <td>0.021159</td>\n",
       "      <td>定子</td>\n",
       "      <td>0.029342</td>\n",
       "      <td>转运</td>\n",
       "      <td>0.034784</td>\n",
       "      <td>校准</td>\n",
       "      <td>0.020390</td>\n",
       "      <td>配置文件</td>\n",
       "      <td>0.006139</td>\n",
       "    </tr>\n",
       "    <tr>\n",
       "      <th>7</th>\n",
       "      <td>感应</td>\n",
       "      <td>0.016353</td>\n",
       "      <td>开口</td>\n",
       "      <td>0.020701</td>\n",
       "      <td>时序</td>\n",
       "      <td>0.032248</td>\n",
       "      <td>大于</td>\n",
       "      <td>0.017380</td>\n",
       "      <td>损失</td>\n",
       "      <td>0.030307</td>\n",
       "      <td>...</td>\n",
       "      <td>转动</td>\n",
       "      <td>0.020907</td>\n",
       "      <td>镀膜</td>\n",
       "      <td>0.020289</td>\n",
       "      <td>协同</td>\n",
       "      <td>0.031341</td>\n",
       "      <td>脉冲</td>\n",
       "      <td>0.015925</td>\n",
       "      <td>控制设备</td>\n",
       "      <td>0.006105</td>\n",
       "    </tr>\n",
       "    <tr>\n",
       "      <th>8</th>\n",
       "      <td>动作</td>\n",
       "      <td>0.014671</td>\n",
       "      <td>接触</td>\n",
       "      <td>0.019989</td>\n",
       "      <td>基准</td>\n",
       "      <td>0.027335</td>\n",
       "      <td>判断</td>\n",
       "      <td>0.017249</td>\n",
       "      <td>焊缝</td>\n",
       "      <td>0.029415</td>\n",
       "      <td>...</td>\n",
       "      <td>结构</td>\n",
       "      <td>0.017539</td>\n",
       "      <td>轴向</td>\n",
       "      <td>0.020029</td>\n",
       "      <td>绕线</td>\n",
       "      <td>0.021557</td>\n",
       "      <td>放大</td>\n",
       "      <td>0.015886</td>\n",
       "      <td>电动汽车</td>\n",
       "      <td>0.005813</td>\n",
       "    </tr>\n",
       "    <tr>\n",
       "      <th>9</th>\n",
       "      <td>转速</td>\n",
       "      <td>0.011540</td>\n",
       "      <td>通孔</td>\n",
       "      <td>0.019889</td>\n",
       "      <td>寄存器</td>\n",
       "      <td>0.026697</td>\n",
       "      <td>释放</td>\n",
       "      <td>0.012530</td>\n",
       "      <td>周围</td>\n",
       "      <td>0.027187</td>\n",
       "      <td>...</td>\n",
       "      <td>支架</td>\n",
       "      <td>0.015712</td>\n",
       "      <td>动力</td>\n",
       "      <td>0.016158</td>\n",
       "      <td>货物</td>\n",
       "      <td>0.020258</td>\n",
       "      <td>误差</td>\n",
       "      <td>0.015722</td>\n",
       "      <td>知识</td>\n",
       "      <td>0.005302</td>\n",
       "    </tr>\n",
       "    <tr>\n",
       "      <th>10</th>\n",
       "      <td>转移</td>\n",
       "      <td>0.010848</td>\n",
       "      <td>设有</td>\n",
       "      <td>0.019398</td>\n",
       "      <td>延时</td>\n",
       "      <td>0.025444</td>\n",
       "      <td>差值</td>\n",
       "      <td>0.012038</td>\n",
       "      <td>绘制</td>\n",
       "      <td>0.023942</td>\n",
       "      <td>...</td>\n",
       "      <td>旋转</td>\n",
       "      <td>0.013401</td>\n",
       "      <td>垂直于</td>\n",
       "      <td>0.013010</td>\n",
       "      <td>诊断</td>\n",
       "      <td>0.020087</td>\n",
       "      <td>滤波器</td>\n",
       "      <td>0.015555</td>\n",
       "      <td>环氧</td>\n",
       "      <td>0.004954</td>\n",
       "    </tr>\n",
       "    <tr>\n",
       "      <th>11</th>\n",
       "      <td>蓝牙</td>\n",
       "      <td>0.009782</td>\n",
       "      <td>弹性</td>\n",
       "      <td>0.018623</td>\n",
       "      <td>背板</td>\n",
       "      <td>0.025185</td>\n",
       "      <td>小于</td>\n",
       "      <td>0.010613</td>\n",
       "      <td>激活</td>\n",
       "      <td>0.021699</td>\n",
       "      <td>...</td>\n",
       "      <td>滑动</td>\n",
       "      <td>0.008901</td>\n",
       "      <td>粉碎</td>\n",
       "      <td>0.012827</td>\n",
       "      <td>路上</td>\n",
       "      <td>0.018937</td>\n",
       "      <td>数字</td>\n",
       "      <td>0.014854</td>\n",
       "      <td>解决</td>\n",
       "      <td>0.004695</td>\n",
       "    </tr>\n",
       "    <tr>\n",
       "      <th>12</th>\n",
       "      <td>停止</td>\n",
       "      <td>0.008268</td>\n",
       "      <td>连接器</td>\n",
       "      <td>0.015881</td>\n",
       "      <td>延迟</td>\n",
       "      <td>0.019145</td>\n",
       "      <td>预定</td>\n",
       "      <td>0.010435</td>\n",
       "      <td>使用者</td>\n",
       "      <td>0.021032</td>\n",
       "      <td>...</td>\n",
       "      <td>活动</td>\n",
       "      <td>0.008622</td>\n",
       "      <td>发电机</td>\n",
       "      <td>0.012103</td>\n",
       "      <td>立体</td>\n",
       "      <td>0.015436</td>\n",
       "      <td>接收</td>\n",
       "      <td>0.014608</td>\n",
       "      <td>吹气</td>\n",
       "      <td>0.004454</td>\n",
       "    </tr>\n",
       "    <tr>\n",
       "      <th>13</th>\n",
       "      <td>控制指令</td>\n",
       "      <td>0.007709</td>\n",
       "      <td>一侧</td>\n",
       "      <td>0.015127</td>\n",
       "      <td>电站</td>\n",
       "      <td>0.018772</td>\n",
       "      <td>存在</td>\n",
       "      <td>0.010087</td>\n",
       "      <td>悬臂</td>\n",
       "      <td>0.016578</td>\n",
       "      <td>...</td>\n",
       "      <td>底部</td>\n",
       "      <td>0.008247</td>\n",
       "      <td>绕组</td>\n",
       "      <td>0.011433</td>\n",
       "      <td>储水</td>\n",
       "      <td>0.014836</td>\n",
       "      <td>系数</td>\n",
       "      <td>0.014431</td>\n",
       "      <td>计算机技术</td>\n",
       "      <td>0.004348</td>\n",
       "    </tr>\n",
       "    <tr>\n",
       "      <th>14</th>\n",
       "      <td>人体</td>\n",
       "      <td>0.007652</td>\n",
       "      <td>端子</td>\n",
       "      <td>0.014735</td>\n",
       "      <td>缩短</td>\n",
       "      <td>0.018240</td>\n",
       "      <td>持续</td>\n",
       "      <td>0.009415</td>\n",
       "      <td>图形化</td>\n",
       "      <td>0.014580</td>\n",
       "      <td>...</td>\n",
       "      <td>顶部</td>\n",
       "      <td>0.008241</td>\n",
       "      <td>损伤</td>\n",
       "      <td>0.011164</td>\n",
       "      <td>二氧化碳</td>\n",
       "      <td>0.013262</td>\n",
       "      <td>修正</td>\n",
       "      <td>0.013580</td>\n",
       "      <td>主设备</td>\n",
       "      <td>0.004196</td>\n",
       "    </tr>\n",
       "    <tr>\n",
       "      <th>15</th>\n",
       "      <td>设定</td>\n",
       "      <td>0.007497</td>\n",
       "      <td>延伸</td>\n",
       "      <td>0.014187</td>\n",
       "      <td>整形</td>\n",
       "      <td>0.015084</td>\n",
       "      <td>进液</td>\n",
       "      <td>0.008013</td>\n",
       "      <td>压接</td>\n",
       "      <td>0.014493</td>\n",
       "      <td>...</td>\n",
       "      <td>带动</td>\n",
       "      <td>0.008220</td>\n",
       "      <td>径向</td>\n",
       "      <td>0.010418</td>\n",
       "      <td>编程</td>\n",
       "      <td>0.011700</td>\n",
       "      <td>相位</td>\n",
       "      <td>0.013469</td>\n",
       "      <td>效率</td>\n",
       "      <td>0.004028</td>\n",
       "    </tr>\n",
       "    <tr>\n",
       "      <th>16</th>\n",
       "      <td>所示</td>\n",
       "      <td>0.007246</td>\n",
       "      <td>位于</td>\n",
       "      <td>0.009889</td>\n",
       "      <td>对齐</td>\n",
       "      <td>0.012148</td>\n",
       "      <td>情况</td>\n",
       "      <td>0.007178</td>\n",
       "      <td>分切</td>\n",
       "      <td>0.013128</td>\n",
       "      <td>...</td>\n",
       "      <td>位于</td>\n",
       "      <td>0.008213</td>\n",
       "      <td>靶材</td>\n",
       "      <td>0.010248</td>\n",
       "      <td>实时</td>\n",
       "      <td>0.009557</td>\n",
       "      <td>生成</td>\n",
       "      <td>0.012640</td>\n",
       "      <td>相关</td>\n",
       "      <td>0.003865</td>\n",
       "    </tr>\n",
       "    <tr>\n",
       "      <th>17</th>\n",
       "      <td>情况</td>\n",
       "      <td>0.006842</td>\n",
       "      <td>一端</td>\n",
       "      <td>0.009679</td>\n",
       "      <td>计数</td>\n",
       "      <td>0.012029</td>\n",
       "      <td>出液</td>\n",
       "      <td>0.006257</td>\n",
       "      <td>内阻</td>\n",
       "      <td>0.012710</td>\n",
       "      <td>...</td>\n",
       "      <td>相对</td>\n",
       "      <td>0.007746</td>\n",
       "      <td>啮合</td>\n",
       "      <td>0.009391</td>\n",
       "      <td>促进</td>\n",
       "      <td>0.009538</td>\n",
       "      <td>滤波</td>\n",
       "      <td>0.012058</td>\n",
       "      <td>问题</td>\n",
       "      <td>0.003662</td>\n",
       "    </tr>\n",
       "    <tr>\n",
       "      <th>18</th>\n",
       "      <td>环境温度</td>\n",
       "      <td>0.006379</td>\n",
       "      <td>配合</td>\n",
       "      <td>0.009478</td>\n",
       "      <td>分辨率</td>\n",
       "      <td>0.011125</td>\n",
       "      <td>准确</td>\n",
       "      <td>0.006255</td>\n",
       "      <td>金属片</td>\n",
       "      <td>0.010174</td>\n",
       "      <td>...</td>\n",
       "      <td>底板</td>\n",
       "      <td>0.007527</td>\n",
       "      <td>滤网</td>\n",
       "      <td>0.009276</td>\n",
       "      <td>线槽</td>\n",
       "      <td>0.009102</td>\n",
       "      <td>放大器</td>\n",
       "      <td>0.011957</td>\n",
       "      <td>存储设备</td>\n",
       "      <td>0.003618</td>\n",
       "    </tr>\n",
       "    <tr>\n",
       "      <th>19</th>\n",
       "      <td>执行</td>\n",
       "      <td>0.006061</td>\n",
       "      <td>端面</td>\n",
       "      <td>0.009276</td>\n",
       "      <td>功率放大器</td>\n",
       "      <td>0.009617</td>\n",
       "      <td>液流</td>\n",
       "      <td>0.006149</td>\n",
       "      <td>钢带</td>\n",
       "      <td>0.009392</td>\n",
       "      <td>...</td>\n",
       "      <td>侧壁</td>\n",
       "      <td>0.007152</td>\n",
       "      <td>旋转轴</td>\n",
       "      <td>0.009008</td>\n",
       "      <td>邻近</td>\n",
       "      <td>0.009094</td>\n",
       "      <td>产生</td>\n",
       "      <td>0.011595</td>\n",
       "      <td>服务端</td>\n",
       "      <td>0.003570</td>\n",
       "    </tr>\n",
       "    <tr>\n",
       "      <th>20</th>\n",
       "      <td>折射率</td>\n",
       "      <td>0.005594</td>\n",
       "      <td>弹簧</td>\n",
       "      <td>0.008890</td>\n",
       "      <td>移位</td>\n",
       "      <td>0.008477</td>\n",
       "      <td>发生</td>\n",
       "      <td>0.005232</td>\n",
       "      <td>浪涌</td>\n",
       "      <td>0.008821</td>\n",
       "      <td>...</td>\n",
       "      <td>一侧</td>\n",
       "      <td>0.007052</td>\n",
       "      <td>加湿</td>\n",
       "      <td>0.008682</td>\n",
       "      <td>指针</td>\n",
       "      <td>0.008972</td>\n",
       "      <td>反馈</td>\n",
       "      <td>0.011314</td>\n",
       "      <td>登录</td>\n",
       "      <td>0.003157</td>\n",
       "    </tr>\n",
       "    <tr>\n",
       "      <th>21</th>\n",
       "      <td>部上</td>\n",
       "      <td>0.005392</td>\n",
       "      <td>固定</td>\n",
       "      <td>0.008620</td>\n",
       "      <td>振荡器</td>\n",
       "      <td>0.008286</td>\n",
       "      <td>准确性</td>\n",
       "      <td>0.005205</td>\n",
       "      <td>不佳</td>\n",
       "      <td>0.008610</td>\n",
       "      <td>...</td>\n",
       "      <td>一端</td>\n",
       "      <td>0.006898</td>\n",
       "      <td>上层</td>\n",
       "      <td>0.008563</td>\n",
       "      <td>主控板</td>\n",
       "      <td>0.008894</td>\n",
       "      <td>噪声</td>\n",
       "      <td>0.010977</td>\n",
       "      <td>以供</td>\n",
       "      <td>0.003015</td>\n",
       "    </tr>\n",
       "    <tr>\n",
       "      <th>22</th>\n",
       "      <td>能耗</td>\n",
       "      <td>0.004974</td>\n",
       "      <td>插接</td>\n",
       "      <td>0.008458</td>\n",
       "      <td>复位</td>\n",
       "      <td>0.008087</td>\n",
       "      <td>避免</td>\n",
       "      <td>0.004816</td>\n",
       "      <td>无线通讯</td>\n",
       "      <td>0.008042</td>\n",
       "      <td>...</td>\n",
       "      <td>导向</td>\n",
       "      <td>0.006748</td>\n",
       "      <td>三相</td>\n",
       "      <td>0.008458</td>\n",
       "      <td>有所</td>\n",
       "      <td>0.008579</td>\n",
       "      <td>调制</td>\n",
       "      <td>0.009938</td>\n",
       "      <td>属于</td>\n",
       "      <td>0.002977</td>\n",
       "    </tr>\n",
       "    <tr>\n",
       "      <th>23</th>\n",
       "      <td>io</td>\n",
       "      <td>0.004874</td>\n",
       "      <td>边框</td>\n",
       "      <td>0.008348</td>\n",
       "      <td>控制参数</td>\n",
       "      <td>0.007811</td>\n",
       "      <td>检验</td>\n",
       "      <td>0.004488</td>\n",
       "      <td>附加</td>\n",
       "      <td>0.007725</td>\n",
       "      <td>...</td>\n",
       "      <td>凹槽</td>\n",
       "      <td>0.006625</td>\n",
       "      <td>旋转</td>\n",
       "      <td>0.008434</td>\n",
       "      <td>缓冲区</td>\n",
       "      <td>0.007984</td>\n",
       "      <td>差分</td>\n",
       "      <td>0.009695</td>\n",
       "      <td>工作站</td>\n",
       "      <td>0.002921</td>\n",
       "    </tr>\n",
       "    <tr>\n",
       "      <th>24</th>\n",
       "      <td>进入</td>\n",
       "      <td>0.004844</td>\n",
       "      <td>环形</td>\n",
       "      <td>0.008089</td>\n",
       "      <td>自由度</td>\n",
       "      <td>0.006883</td>\n",
       "      <td>质量</td>\n",
       "      <td>0.004408</td>\n",
       "      <td>可信</td>\n",
       "      <td>0.007707</td>\n",
       "      <td>...</td>\n",
       "      <td>装配</td>\n",
       "      <td>0.006370</td>\n",
       "      <td>同轴</td>\n",
       "      <td>0.007576</td>\n",
       "      <td>远端</td>\n",
       "      <td>0.007777</td>\n",
       "      <td>增益</td>\n",
       "      <td>0.009426</td>\n",
       "      <td>领域</td>\n",
       "      <td>0.002624</td>\n",
       "    </tr>\n",
       "    <tr>\n",
       "      <th>25</th>\n",
       "      <td>过程</td>\n",
       "      <td>0.004811</td>\n",
       "      <td>对接</td>\n",
       "      <td>0.008018</td>\n",
       "      <td>沿其</td>\n",
       "      <td>0.006645</td>\n",
       "      <td>效率</td>\n",
       "      <td>0.004294</td>\n",
       "      <td>双模</td>\n",
       "      <td>0.007305</td>\n",
       "      <td>...</td>\n",
       "      <td>放置</td>\n",
       "      <td>0.006355</td>\n",
       "      <td>机头</td>\n",
       "      <td>0.007098</td>\n",
       "      <td>闭环</td>\n",
       "      <td>0.007669</td>\n",
       "      <td>运算</td>\n",
       "      <td>0.008768</td>\n",
       "      <td>库中</td>\n",
       "      <td>0.002469</td>\n",
       "    </tr>\n",
       "    <tr>\n",
       "      <th>26</th>\n",
       "      <td>指令</td>\n",
       "      <td>0.004610</td>\n",
       "      <td>半导体器件</td>\n",
       "      <td>0.007814</td>\n",
       "      <td>计数器</td>\n",
       "      <td>0.006607</td>\n",
       "      <td>精度</td>\n",
       "      <td>0.004087</td>\n",
       "      <td>多模</td>\n",
       "      <td>0.007268</td>\n",
       "      <td>...</td>\n",
       "      <td>内部</td>\n",
       "      <td>0.005895</td>\n",
       "      <td>大型</td>\n",
       "      <td>0.006958</td>\n",
       "      <td>叉车</td>\n",
       "      <td>0.006866</td>\n",
       "      <td>能量</td>\n",
       "      <td>0.007731</td>\n",
       "      <td>目录</td>\n",
       "      <td>0.002428</td>\n",
       "    </tr>\n",
       "    <tr>\n",
       "      <th>27</th>\n",
       "      <td>达到</td>\n",
       "      <td>0.004509</td>\n",
       "      <td>极板</td>\n",
       "      <td>0.007535</td>\n",
       "      <td>抖动</td>\n",
       "      <td>0.006525</td>\n",
       "      <td>过程</td>\n",
       "      <td>0.003998</td>\n",
       "      <td>包络</td>\n",
       "      <td>0.006755</td>\n",
       "      <td>...</td>\n",
       "      <td>两侧</td>\n",
       "      <td>0.005868</td>\n",
       "      <td>下层</td>\n",
       "      <td>0.006915</td>\n",
       "      <td>水面</td>\n",
       "      <td>0.006669</td>\n",
       "      <td>电网</td>\n",
       "      <td>0.007432</td>\n",
       "      <td>选项</td>\n",
       "      <td>0.002323</td>\n",
       "    </tr>\n",
       "    <tr>\n",
       "      <th>28</th>\n",
       "      <td>螺丝</td>\n",
       "      <td>0.004285</td>\n",
       "      <td>相对</td>\n",
       "      <td>0.007472</td>\n",
       "      <td>清除</td>\n",
       "      <td>0.006126</td>\n",
       "      <td>单晶硅</td>\n",
       "      <td>0.003684</td>\n",
       "      <td>多种不同</td>\n",
       "      <td>0.006210</td>\n",
       "      <td>...</td>\n",
       "      <td>配合</td>\n",
       "      <td>0.005863</td>\n",
       "      <td>煅烧</td>\n",
       "      <td>0.006680</td>\n",
       "      <td>松开</td>\n",
       "      <td>0.006236</td>\n",
       "      <td>高速</td>\n",
       "      <td>0.007102</td>\n",
       "      <td>焦点</td>\n",
       "      <td>0.002256</td>\n",
       "    </tr>\n",
       "    <tr>\n",
       "      <th>29</th>\n",
       "      <td>温度控制</td>\n",
       "      <td>0.004037</td>\n",
       "      <td>夹紧</td>\n",
       "      <td>0.007385</td>\n",
       "      <td>使能</td>\n",
       "      <td>0.006101</td>\n",
       "      <td>问题</td>\n",
       "      <td>0.003552</td>\n",
       "      <td>地区</td>\n",
       "      <td>0.005791</td>\n",
       "      <td>...</td>\n",
       "      <td>方向</td>\n",
       "      <td>0.005848</td>\n",
       "      <td>感光</td>\n",
       "      <td>0.006642</td>\n",
       "      <td>关机</td>\n",
       "      <td>0.006109</td>\n",
       "      <td>转换</td>\n",
       "      <td>0.006620</td>\n",
       "      <td>前端</td>\n",
       "      <td>0.002033</td>\n",
       "    </tr>\n",
       "  </tbody>\n",
       "</table>\n",
       "<p>30 rows × 100 columns</p>\n",
       "</div>"
      ],
      "text/plain": [
       "    word         0   word         1   word         2 word         3  word  \\\n",
       "0     控制  0.336473     壳体  0.060365     时间  0.137966   检测  0.434082    工件   \n",
       "1     温度  0.093791     本体  0.052032     同步  0.073825   晶圆  0.070577    基底   \n",
       "2     模式  0.050696     结构  0.036464     时钟  0.069153   缺陷  0.039418    通讯   \n",
       "3     工作  0.031869     限位  0.035447     缓冲  0.056486   阈值  0.038228  神经网络   \n",
       "4     运行  0.027646     夹持  0.028398     翻转  0.047002   异常  0.034680    吸盘   \n",
       "5   控制系统  0.022630     绝缘  0.024258     周期  0.040176   探针  0.021048    沟道   \n",
       "6     启动  0.021287     导电  0.023150     锁定  0.033064   等于  0.017985    手机   \n",
       "7     感应  0.016353     开口  0.020701     时序  0.032248   大于  0.017380    损失   \n",
       "8     动作  0.014671     接触  0.019989     基准  0.027335   判断  0.017249    焊缝   \n",
       "9     转速  0.011540     通孔  0.019889    寄存器  0.026697   释放  0.012530    周围   \n",
       "10    转移  0.010848     设有  0.019398     延时  0.025444   差值  0.012038    绘制   \n",
       "11    蓝牙  0.009782     弹性  0.018623     背板  0.025185   小于  0.010613    激活   \n",
       "12    停止  0.008268    连接器  0.015881     延迟  0.019145   预定  0.010435   使用者   \n",
       "13  控制指令  0.007709     一侧  0.015127     电站  0.018772   存在  0.010087    悬臂   \n",
       "14    人体  0.007652     端子  0.014735     缩短  0.018240   持续  0.009415   图形化   \n",
       "15    设定  0.007497     延伸  0.014187     整形  0.015084   进液  0.008013    压接   \n",
       "16    所示  0.007246     位于  0.009889     对齐  0.012148   情况  0.007178    分切   \n",
       "17    情况  0.006842     一端  0.009679     计数  0.012029   出液  0.006257    内阻   \n",
       "18  环境温度  0.006379     配合  0.009478    分辨率  0.011125   准确  0.006255   金属片   \n",
       "19    执行  0.006061     端面  0.009276  功率放大器  0.009617   液流  0.006149    钢带   \n",
       "20   折射率  0.005594     弹簧  0.008890     移位  0.008477   发生  0.005232    浪涌   \n",
       "21    部上  0.005392     固定  0.008620    振荡器  0.008286  准确性  0.005205    不佳   \n",
       "22    能耗  0.004974     插接  0.008458     复位  0.008087   避免  0.004816  无线通讯   \n",
       "23    io  0.004874     边框  0.008348   控制参数  0.007811   检验  0.004488    附加   \n",
       "24    进入  0.004844     环形  0.008089    自由度  0.006883   质量  0.004408    可信   \n",
       "25    过程  0.004811     对接  0.008018     沿其  0.006645   效率  0.004294    双模   \n",
       "26    指令  0.004610  半导体器件  0.007814    计数器  0.006607   精度  0.004087    多模   \n",
       "27    达到  0.004509     极板  0.007535     抖动  0.006525   过程  0.003998    包络   \n",
       "28    螺丝  0.004285     相对  0.007472     清除  0.006126  单晶硅  0.003684  多种不同   \n",
       "29  温度控制  0.004037     夹紧  0.007385     使能  0.006101   问题  0.003552    地区   \n",
       "\n",
       "           4  ... word        45 word        46  word        47 word  \\\n",
       "0   0.171947  ...   组件  0.104818   电机  0.166002    监测  0.180670   信号   \n",
       "1   0.107282  ...   安装  0.066537  控制器  0.097613    场景  0.119917   功率   \n",
       "2   0.096650  ...   机构  0.060612   物料  0.064860    开启  0.060530   输出   \n",
       "3   0.063235  ...   固定  0.046357   转子  0.036421    关闭  0.053182   采样   \n",
       "4   0.052574  ...   驱动  0.030306   轴承  0.034787    打开  0.051750   频率   \n",
       "5   0.048676  ...   支撑  0.025624   端盖  0.031197    跟踪  0.044414   输入   \n",
       "6   0.033976  ...   设有  0.021159   定子  0.029342    转运  0.034784   校准   \n",
       "7   0.030307  ...   转动  0.020907   镀膜  0.020289    协同  0.031341   脉冲   \n",
       "8   0.029415  ...   结构  0.017539   轴向  0.020029    绕线  0.021557   放大   \n",
       "9   0.027187  ...   支架  0.015712   动力  0.016158    货物  0.020258   误差   \n",
       "10  0.023942  ...   旋转  0.013401  垂直于  0.013010    诊断  0.020087  滤波器   \n",
       "11  0.021699  ...   滑动  0.008901   粉碎  0.012827    路上  0.018937   数字   \n",
       "12  0.021032  ...   活动  0.008622  发电机  0.012103    立体  0.015436   接收   \n",
       "13  0.016578  ...   底部  0.008247   绕组  0.011433    储水  0.014836   系数   \n",
       "14  0.014580  ...   顶部  0.008241   损伤  0.011164  二氧化碳  0.013262   修正   \n",
       "15  0.014493  ...   带动  0.008220   径向  0.010418    编程  0.011700   相位   \n",
       "16  0.013128  ...   位于  0.008213   靶材  0.010248    实时  0.009557   生成   \n",
       "17  0.012710  ...   相对  0.007746   啮合  0.009391    促进  0.009538   滤波   \n",
       "18  0.010174  ...   底板  0.007527   滤网  0.009276    线槽  0.009102  放大器   \n",
       "19  0.009392  ...   侧壁  0.007152  旋转轴  0.009008    邻近  0.009094   产生   \n",
       "20  0.008821  ...   一侧  0.007052   加湿  0.008682    指针  0.008972   反馈   \n",
       "21  0.008610  ...   一端  0.006898   上层  0.008563   主控板  0.008894   噪声   \n",
       "22  0.008042  ...   导向  0.006748   三相  0.008458    有所  0.008579   调制   \n",
       "23  0.007725  ...   凹槽  0.006625   旋转  0.008434   缓冲区  0.007984   差分   \n",
       "24  0.007707  ...   装配  0.006370   同轴  0.007576    远端  0.007777   增益   \n",
       "25  0.007305  ...   放置  0.006355   机头  0.007098    闭环  0.007669   运算   \n",
       "26  0.007268  ...   内部  0.005895   大型  0.006958    叉车  0.006866   能量   \n",
       "27  0.006755  ...   两侧  0.005868   下层  0.006915    水面  0.006669   电网   \n",
       "28  0.006210  ...   配合  0.005863   煅烧  0.006680    松开  0.006236   高速   \n",
       "29  0.005791  ...   方向  0.005848   感光  0.006642    关机  0.006109   转换   \n",
       "\n",
       "          48   word        49  \n",
       "0   0.229929     设备  0.691298  \n",
       "1   0.044660     对象  0.043946  \n",
       "2   0.037771     极耳  0.026328  \n",
       "3   0.032491   识别方法  0.013465  \n",
       "4   0.026628    反射镜  0.011968  \n",
       "5   0.025969     铜箔  0.010763  \n",
       "6   0.020390   配置文件  0.006139  \n",
       "7   0.015925   控制设备  0.006105  \n",
       "8   0.015886   电动汽车  0.005813  \n",
       "9   0.015722     知识  0.005302  \n",
       "10  0.015555     环氧  0.004954  \n",
       "11  0.014854     解决  0.004695  \n",
       "12  0.014608     吹气  0.004454  \n",
       "13  0.014431  计算机技术  0.004348  \n",
       "14  0.013580    主设备  0.004196  \n",
       "15  0.013469     效率  0.004028  \n",
       "16  0.012640     相关  0.003865  \n",
       "17  0.012058     问题  0.003662  \n",
       "18  0.011957   存储设备  0.003618  \n",
       "19  0.011595    服务端  0.003570  \n",
       "20  0.011314     登录  0.003157  \n",
       "21  0.010977     以供  0.003015  \n",
       "22  0.009938     属于  0.002977  \n",
       "23  0.009695    工作站  0.002921  \n",
       "24  0.009426     领域  0.002624  \n",
       "25  0.008768     库中  0.002469  \n",
       "26  0.007731     目录  0.002428  \n",
       "27  0.007432     选项  0.002323  \n",
       "28  0.007102     焦点  0.002256  \n",
       "29  0.006620     前端  0.002033  \n",
       "\n",
       "[30 rows x 100 columns]"
      ]
     },
     "execution_count": 341,
     "metadata": {},
     "output_type": "execute_result"
    }
   ],
   "source": [
    "df_topic=model.df_topics(topn=30)#top_n_words\n",
    "df_topic#30*50"
   ]
  },
  {
   "cell_type": "code",
   "execution_count": 342,
   "id": "075989f4-f2ea-40bc-a9e7-9a6c32978956",
   "metadata": {},
   "outputs": [],
   "source": [
    "df_topic.to_excel('data\\\\patent_topic_words_先进制造.xlsx')"
   ]
  },
  {
   "cell_type": "code",
   "execution_count": null,
   "id": "7fff8fa0-9848-43db-b214-9094c3aec167",
   "metadata": {},
   "outputs": [],
   "source": [
    "%%time\n",
    "topic_word_entropy=model.topic_word_entropy_corpus()"
   ]
  },
  {
   "cell_type": "code",
   "execution_count": 343,
   "id": "efc87abe-2894-4a62-9068-b4751b1893f2",
   "metadata": {},
   "outputs": [
    {
     "data": {
      "text/plain": [
       "1196876"
      ]
     },
     "execution_count": 343,
     "metadata": {},
     "output_type": "execute_result"
    }
   ],
   "source": [
    "len(documents_vec)"
   ]
  },
  {
   "cell_type": "code",
   "execution_count": 344,
   "id": "d27bf86a-1690-40e4-af13-c35ec8b4f55c",
   "metadata": {},
   "outputs": [],
   "source": [
    "np.save(\"data\\\\topics_vec_先进制造.npy\",np.array(topics_vec))"
   ]
  },
  {
   "cell_type": "code",
   "execution_count": 233,
   "id": "3541a207-be9e-4655-bdc2-1c1710be238f",
   "metadata": {},
   "outputs": [
    {
     "data": {
      "text/html": [
       "<div>\n",
       "<style scoped>\n",
       "    .dataframe tbody tr th:only-of-type {\n",
       "        vertical-align: middle;\n",
       "    }\n",
       "\n",
       "    .dataframe tbody tr th {\n",
       "        vertical-align: top;\n",
       "    }\n",
       "\n",
       "    .dataframe thead th {\n",
       "        text-align: right;\n",
       "    }\n",
       "</style>\n",
       "<table border=\"1\" class=\"dataframe\">\n",
       "  <thead>\n",
       "    <tr style=\"text-align: right;\">\n",
       "      <th></th>\n",
       "      <th>vec</th>\n",
       "    </tr>\n",
       "  </thead>\n",
       "  <tbody>\n",
       "    <tr>\n",
       "      <th>0</th>\n",
       "      <td>[0.20992305898202143, 0.0969748890390127, -0.0...</td>\n",
       "    </tr>\n",
       "    <tr>\n",
       "      <th>1</th>\n",
       "      <td>[0.20308027169142182, 0.09222375618223047, -0....</td>\n",
       "    </tr>\n",
       "    <tr>\n",
       "      <th>2</th>\n",
       "      <td>[0.210712741640104, 0.09495200047089854, -0.04...</td>\n",
       "    </tr>\n",
       "    <tr>\n",
       "      <th>3</th>\n",
       "      <td>[0.1374705665213969, 0.0203994829451518, -0.13...</td>\n",
       "    </tr>\n",
       "    <tr>\n",
       "      <th>4</th>\n",
       "      <td>[0.21568592993850627, 0.08380489735799194, -0....</td>\n",
       "    </tr>\n",
       "    <tr>\n",
       "      <th>...</th>\n",
       "      <td>...</td>\n",
       "    </tr>\n",
       "    <tr>\n",
       "      <th>95</th>\n",
       "      <td>[0.18576343369946371, 0.06688628962402177, -0....</td>\n",
       "    </tr>\n",
       "    <tr>\n",
       "      <th>96</th>\n",
       "      <td>[0.13336378913456595, 0.1165287368062044, -0.1...</td>\n",
       "    </tr>\n",
       "    <tr>\n",
       "      <th>97</th>\n",
       "      <td>[0.1285201007778851, 0.08362035207292037, -0.1...</td>\n",
       "    </tr>\n",
       "    <tr>\n",
       "      <th>98</th>\n",
       "      <td>[0.19523065835421713, -0.09120270779788076, -0...</td>\n",
       "    </tr>\n",
       "    <tr>\n",
       "      <th>99</th>\n",
       "      <td>[0.21096041100444174, 0.11963912488717288, -0....</td>\n",
       "    </tr>\n",
       "  </tbody>\n",
       "</table>\n",
       "<p>100 rows × 1 columns</p>\n",
       "</div>"
      ],
      "text/plain": [
       "                                                  vec\n",
       "0   [0.20992305898202143, 0.0969748890390127, -0.0...\n",
       "1   [0.20308027169142182, 0.09222375618223047, -0....\n",
       "2   [0.210712741640104, 0.09495200047089854, -0.04...\n",
       "3   [0.1374705665213969, 0.0203994829451518, -0.13...\n",
       "4   [0.21568592993850627, 0.08380489735799194, -0....\n",
       "..                                                ...\n",
       "95  [0.18576343369946371, 0.06688628962402177, -0....\n",
       "96  [0.13336378913456595, 0.1165287368062044, -0.1...\n",
       "97  [0.1285201007778851, 0.08362035207292037, -0.1...\n",
       "98  [0.19523065835421713, -0.09120270779788076, -0...\n",
       "99  [0.21096041100444174, 0.11963912488717288, -0....\n",
       "\n",
       "[100 rows x 1 columns]"
      ]
     },
     "execution_count": 233,
     "metadata": {},
     "output_type": "execute_result"
    }
   ],
   "source": [
    "pd.DataFrame({'vec': [vec for vec in documents_vec[:100]]})"
   ]
  },
  {
   "cell_type": "code",
   "execution_count": 255,
   "id": "2b7c1655-885c-43a7-8369-233c76d0758b",
   "metadata": {},
   "outputs": [],
   "source": [
    "df_lda_w2v = pd.DataFrame(documents_vec, index=model.wd_data.index)\n",
    "df_lda_w2v = df_lda_w2v[df_lda_w2v.sum(axis=1) != 0]\n",
    "df_lda_w2v['序号'] = wd_data.loc[df_lda_w2v.index,'序号']  # df_lda_w2v.merge(id_data[['序号']], left_index=True, right_index=True, how='left')\n",
    "df_lda_w2v.set_index('序号', inplace=True)\n",
    "df_lda_w2v.to_parquet(f'data\\\\documents_vec_{model.suffix}.parquet')"
   ]
  },
  {
   "cell_type": "code",
   "execution_count": 345,
   "id": "5e50ea5f-a2c9-4e02-b74a-c2cb2a77f414",
   "metadata": {},
   "outputs": [
    {
     "name": "stdout",
     "output_type": "stream",
     "text": [
      "CPU times: total: 23.4 s\n",
      "Wall time: 21.7 s\n"
     ]
    },
    {
     "data": {
      "text/html": [
       "<div>\n",
       "<style scoped>\n",
       "    .dataframe tbody tr th:only-of-type {\n",
       "        vertical-align: middle;\n",
       "    }\n",
       "\n",
       "    .dataframe tbody tr th {\n",
       "        vertical-align: top;\n",
       "    }\n",
       "\n",
       "    .dataframe thead th {\n",
       "        text-align: right;\n",
       "    }\n",
       "</style>\n",
       "<table border=\"1\" class=\"dataframe\">\n",
       "  <thead>\n",
       "    <tr style=\"text-align: right;\">\n",
       "      <th></th>\n",
       "      <th>0</th>\n",
       "      <th>1</th>\n",
       "      <th>2</th>\n",
       "      <th>3</th>\n",
       "      <th>4</th>\n",
       "      <th>5</th>\n",
       "      <th>6</th>\n",
       "      <th>7</th>\n",
       "      <th>8</th>\n",
       "      <th>9</th>\n",
       "      <th>...</th>\n",
       "      <th>240</th>\n",
       "      <th>241</th>\n",
       "      <th>242</th>\n",
       "      <th>243</th>\n",
       "      <th>244</th>\n",
       "      <th>245</th>\n",
       "      <th>246</th>\n",
       "      <th>247</th>\n",
       "      <th>248</th>\n",
       "      <th>249</th>\n",
       "    </tr>\n",
       "    <tr>\n",
       "      <th>序号</th>\n",
       "      <th></th>\n",
       "      <th></th>\n",
       "      <th></th>\n",
       "      <th></th>\n",
       "      <th></th>\n",
       "      <th></th>\n",
       "      <th></th>\n",
       "      <th></th>\n",
       "      <th></th>\n",
       "      <th></th>\n",
       "      <th></th>\n",
       "      <th></th>\n",
       "      <th></th>\n",
       "      <th></th>\n",
       "      <th></th>\n",
       "      <th></th>\n",
       "      <th></th>\n",
       "      <th></th>\n",
       "      <th></th>\n",
       "      <th></th>\n",
       "      <th></th>\n",
       "    </tr>\n",
       "  </thead>\n",
       "  <tbody>\n",
       "    <tr>\n",
       "      <th>165</th>\n",
       "      <td>0.226318</td>\n",
       "      <td>0.078761</td>\n",
       "      <td>-0.008609</td>\n",
       "      <td>0.084645</td>\n",
       "      <td>-0.121523</td>\n",
       "      <td>0.050315</td>\n",
       "      <td>0.143755</td>\n",
       "      <td>0.139454</td>\n",
       "      <td>-0.081216</td>\n",
       "      <td>-0.039331</td>\n",
       "      <td>...</td>\n",
       "      <td>0.031926</td>\n",
       "      <td>-0.261344</td>\n",
       "      <td>0.038376</td>\n",
       "      <td>0.127057</td>\n",
       "      <td>0.249235</td>\n",
       "      <td>0.016564</td>\n",
       "      <td>-0.143402</td>\n",
       "      <td>-0.212742</td>\n",
       "      <td>0.049918</td>\n",
       "      <td>-0.094760</td>\n",
       "    </tr>\n",
       "    <tr>\n",
       "      <th>166</th>\n",
       "      <td>0.247366</td>\n",
       "      <td>0.092943</td>\n",
       "      <td>-0.021953</td>\n",
       "      <td>0.057754</td>\n",
       "      <td>-0.154601</td>\n",
       "      <td>0.039173</td>\n",
       "      <td>0.176503</td>\n",
       "      <td>0.154752</td>\n",
       "      <td>-0.075900</td>\n",
       "      <td>-0.036187</td>\n",
       "      <td>...</td>\n",
       "      <td>0.086806</td>\n",
       "      <td>-0.276183</td>\n",
       "      <td>0.034767</td>\n",
       "      <td>0.104448</td>\n",
       "      <td>0.249973</td>\n",
       "      <td>0.017978</td>\n",
       "      <td>-0.144689</td>\n",
       "      <td>-0.228626</td>\n",
       "      <td>0.014364</td>\n",
       "      <td>-0.124538</td>\n",
       "    </tr>\n",
       "    <tr>\n",
       "      <th>167</th>\n",
       "      <td>0.212533</td>\n",
       "      <td>0.117018</td>\n",
       "      <td>-0.017932</td>\n",
       "      <td>0.084564</td>\n",
       "      <td>-0.130198</td>\n",
       "      <td>-0.003878</td>\n",
       "      <td>0.145923</td>\n",
       "      <td>0.105760</td>\n",
       "      <td>-0.061761</td>\n",
       "      <td>-0.049846</td>\n",
       "      <td>...</td>\n",
       "      <td>0.018148</td>\n",
       "      <td>-0.239046</td>\n",
       "      <td>0.017226</td>\n",
       "      <td>0.140527</td>\n",
       "      <td>0.253161</td>\n",
       "      <td>0.010808</td>\n",
       "      <td>-0.153000</td>\n",
       "      <td>-0.231836</td>\n",
       "      <td>0.051671</td>\n",
       "      <td>-0.057798</td>\n",
       "    </tr>\n",
       "    <tr>\n",
       "      <th>330</th>\n",
       "      <td>0.070786</td>\n",
       "      <td>0.089471</td>\n",
       "      <td>-0.094590</td>\n",
       "      <td>0.032891</td>\n",
       "      <td>-0.002434</td>\n",
       "      <td>0.043171</td>\n",
       "      <td>0.042919</td>\n",
       "      <td>0.070739</td>\n",
       "      <td>-0.140479</td>\n",
       "      <td>-0.081115</td>\n",
       "      <td>...</td>\n",
       "      <td>-0.058568</td>\n",
       "      <td>-0.215066</td>\n",
       "      <td>0.042571</td>\n",
       "      <td>0.138493</td>\n",
       "      <td>0.127882</td>\n",
       "      <td>0.038323</td>\n",
       "      <td>-0.142864</td>\n",
       "      <td>-0.224343</td>\n",
       "      <td>0.042267</td>\n",
       "      <td>0.080659</td>\n",
       "    </tr>\n",
       "    <tr>\n",
       "      <th>344</th>\n",
       "      <td>0.273770</td>\n",
       "      <td>0.060962</td>\n",
       "      <td>0.042809</td>\n",
       "      <td>0.111510</td>\n",
       "      <td>-0.211537</td>\n",
       "      <td>0.026869</td>\n",
       "      <td>0.229101</td>\n",
       "      <td>0.164771</td>\n",
       "      <td>-0.017325</td>\n",
       "      <td>-0.047981</td>\n",
       "      <td>...</td>\n",
       "      <td>0.072181</td>\n",
       "      <td>-0.221300</td>\n",
       "      <td>0.016030</td>\n",
       "      <td>0.095175</td>\n",
       "      <td>0.146924</td>\n",
       "      <td>-0.028892</td>\n",
       "      <td>-0.149581</td>\n",
       "      <td>-0.179586</td>\n",
       "      <td>0.014032</td>\n",
       "      <td>-0.026649</td>\n",
       "    </tr>\n",
       "  </tbody>\n",
       "</table>\n",
       "<p>5 rows × 250 columns</p>\n",
       "</div>"
      ],
      "text/plain": [
       "          0         1         2         3         4         5         6    \\\n",
       "序号                                                                          \n",
       "165  0.226318  0.078761 -0.008609  0.084645 -0.121523  0.050315  0.143755   \n",
       "166  0.247366  0.092943 -0.021953  0.057754 -0.154601  0.039173  0.176503   \n",
       "167  0.212533  0.117018 -0.017932  0.084564 -0.130198 -0.003878  0.145923   \n",
       "330  0.070786  0.089471 -0.094590  0.032891 -0.002434  0.043171  0.042919   \n",
       "344  0.273770  0.060962  0.042809  0.111510 -0.211537  0.026869  0.229101   \n",
       "\n",
       "          7         8         9    ...       240       241       242  \\\n",
       "序号                                 ...                                 \n",
       "165  0.139454 -0.081216 -0.039331  ...  0.031926 -0.261344  0.038376   \n",
       "166  0.154752 -0.075900 -0.036187  ...  0.086806 -0.276183  0.034767   \n",
       "167  0.105760 -0.061761 -0.049846  ...  0.018148 -0.239046  0.017226   \n",
       "330  0.070739 -0.140479 -0.081115  ... -0.058568 -0.215066  0.042571   \n",
       "344  0.164771 -0.017325 -0.047981  ...  0.072181 -0.221300  0.016030   \n",
       "\n",
       "          243       244       245       246       247       248       249  \n",
       "序号                                                                         \n",
       "165  0.127057  0.249235  0.016564 -0.143402 -0.212742  0.049918 -0.094760  \n",
       "166  0.104448  0.249973  0.017978 -0.144689 -0.228626  0.014364 -0.124538  \n",
       "167  0.140527  0.253161  0.010808 -0.153000 -0.231836  0.051671 -0.057798  \n",
       "330  0.138493  0.127882  0.038323 -0.142864 -0.224343  0.042267  0.080659  \n",
       "344  0.095175  0.146924 -0.028892 -0.149581 -0.179586  0.014032 -0.026649  \n",
       "\n",
       "[5 rows x 250 columns]"
      ]
     },
     "execution_count": 345,
     "metadata": {},
     "output_type": "execute_result"
    }
   ],
   "source": [
    "%%time\n",
    "df_lda_w2v=model.docs_vec(documents_vec,wd_data)\n",
    "df_lda_w2v.head()"
   ]
  },
  {
   "cell_type": "code",
   "execution_count": 357,
   "id": "c1c24860-74d7-4021-a398-957710d26c16",
   "metadata": {},
   "outputs": [
    {
     "data": {
      "text/plain": [
       "(1196876, 250)"
      ]
     },
     "execution_count": 357,
     "metadata": {},
     "output_type": "execute_result"
    }
   ],
   "source": [
    "df_lda_w2v.shape"
   ]
  },
  {
   "cell_type": "code",
   "execution_count": 346,
   "id": "36af93f6-c0ca-4741-9a1c-b326c7a32a80",
   "metadata": {},
   "outputs": [
    {
     "data": {
      "text/plain": [
       "(1204008, 1202962)"
      ]
     },
     "execution_count": 346,
     "metadata": {},
     "output_type": "execute_result"
    }
   ],
   "source": [
    "len(patent_co.loc[patent_co.序号.isin(filter_ids)]),len(patent_co_1)"
   ]
  },
  {
   "cell_type": "code",
   "execution_count": 221,
   "id": "6b0d4fd6-5a52-4218-8265-b6a2cc158bc7",
   "metadata": {},
   "outputs": [
    {
     "data": {
      "text/plain": [
       "(7370, 7370)"
      ]
     },
     "execution_count": 221,
     "metadata": {},
     "output_type": "execute_result"
    }
   ],
   "source": [
    "group_ids_1 = patent_co_1.groupby('Co')['序号'].apply(lambda x: x.to_list()).reset_index()\n",
    "len(group_ids_1),len(co_data_1)"
   ]
  },
  {
   "cell_type": "code",
   "execution_count": 225,
   "id": "37bf30ad-2a89-466c-b8d7-599338a7fb21",
   "metadata": {},
   "outputs": [],
   "source": [
    "co_ids_vec = group_ids_1['序号'].apply(lambda x: df_lda_w2v.loc[df_lda_w2v.index.isin(x)].mean(axis=0))#,np.mean(np.vstack(vectors), axis=0)\n",
    "co_ids_vec.index = group_ids_1['Co']\n",
    "co_ids_vec=co_ids_vec[co_ids_vec.sum(axis=1) != 0] "
   ]
  },
  {
   "cell_type": "code",
   "execution_count": 227,
   "id": "46b73ec0-bd97-4e29-b1a7-0a5adcbe598f",
   "metadata": {},
   "outputs": [
    {
     "data": {
      "text/plain": [
       "(7370, 250)"
      ]
     },
     "execution_count": 227,
     "metadata": {},
     "output_type": "execute_result"
    }
   ],
   "source": [
    "co_ids_vec.to_parquet(f'data\\patent_co_vec_先进制造.parquet')#\n",
    "co_ids_vec.shape"
   ]
  },
  {
   "cell_type": "code",
   "execution_count": 354,
   "id": "7daba9e7-96cc-4f71-b321-a7a95c01b103",
   "metadata": {},
   "outputs": [
    {
     "data": {
      "text/plain": [
       "0.8831149153734185"
      ]
     },
     "execution_count": 354,
     "metadata": {},
     "output_type": "execute_result"
    }
   ],
   "source": [
    "arr=cosine_sim_arr(co_ids_vec)\n",
    "arr.mean()"
   ]
  },
  {
   "cell_type": "code",
   "execution_count": 355,
   "id": "be4f511b-d673-46ef-a292-d143022c2023",
   "metadata": {},
   "outputs": [
    {
     "data": {
      "text/plain": [
       "<matplotlib.legend.Legend at 0x17335356a60>"
      ]
     },
     "execution_count": 355,
     "metadata": {},
     "output_type": "execute_result"
    },
    {
     "data": {
      "image/png": "[encoded data removed]",
      "text/plain": [
       "<Figure size 640x480 with 1 Axes>"
      ]
     },
     "metadata": {},
     "output_type": "display_data"
    }
   ],
   "source": [
    "import matplotlib.pyplot as plt\n",
    "plt.plot(np.sort(arr),label='sort_co_arr')\n",
    "plt.legend()"
   ]
  },
  {
   "cell_type": "code",
   "execution_count": 244,
   "id": "e0bc1d2f-b7a4-4cef-ad88-3355023a1e60",
   "metadata": {},
   "outputs": [
    {
     "data": {
      "text/plain": [
       "(1197859, 1)"
      ]
     },
     "execution_count": 244,
     "metadata": {},
     "output_type": "execute_result"
    }
   ],
   "source": [
    "df_lda_w2v_1 = pd.DataFrame(({'vec': [vec for vec in documents_vec]}, index=model.wd_data.index)\n",
    "df_lda_w2v_1  = df_lda_w2v_1[df_lda_w2v_1['vec'].apply(np.sum) != 0]\n",
    "df_lda_w2v_1['序号'] = wd_data.loc[df_lda_w2v_1.index,'序号']  # df_lda_w2v.merge(id_data[['序号']], left_index=True, right_index=True, how='left')\n",
    "df_lda_w2v_1.set_index('序号', inplace=True)\n",
    "df_lda_w2v_1.shape"
   ]
  },
  {
   "cell_type": "code",
   "execution_count": 246,
   "id": "37a7e269-a227-4fe2-99fb-f23ad719e7c0",
   "metadata": {},
   "outputs": [],
   "source": [
    "co_ids_vec = group_ids_1['序号'].apply(lambda x: df_lda_w2v_1.loc[df_lda_w2v_1.index.isin(x),'vec'].apply(pd.Series).mean(axis=0))"
   ]
  },
  {
   "cell_type": "code",
   "execution_count": 361,
   "id": "91c6b1cf-3d6e-41d8-bdc1-9c98d27f4c0a",
   "metadata": {},
   "outputs": [
    {
     "name": "stdout",
     "output_type": "stream",
     "text": [
      "2000 20 20 0.8410943360013077\n",
      "2001 36 36 0.8438048134920726\n",
      "2002 52 51 0.8358112164424675\n",
      "2003 68 67 0.8463742668463504\n",
      "2004 87 85 0.8418154024884938\n",
      "2005 108 105 0.8457371512802041\n",
      "2006 156 152 0.8431780898746148\n",
      "2007 228 223 0.8415669603593388\n",
      "2008 335 327 0.8444184256888474\n",
      "2009 453 450 0.8500302295190381\n",
      "2010 614 612 0.8541669108859301\n",
      "2011 820 818 0.8532844648311976\n",
      "2012 1040 1038 0.8522086440276844\n",
      "2013 1356 1354 0.8528266890283733\n",
      "2014 1748 1746 0.8514832728890968\n",
      "2015 2367 2366 0.8544592910140814\n",
      "2016 3109 3108 0.8596518346675455\n",
      "2017 3765 3765 0.8649895050464457\n",
      "2018 4289 4289 0.8680361436169658\n",
      "2019 4713 4713 0.8721550757551108\n",
      "2020 5082 5082 0.8758058559739526\n",
      "2021 6616 6616 0.874906331237934\n",
      "2022 7048 7048 0.8782115078094669\n",
      "2023 7362 7362 0.8794987219942204\n",
      "2024 7370 7370 0.8795824828784314\n"
     ]
    }
   ],
   "source": [
    "for i  in range(2000,2025):\n",
    "    group_ids_t=patent_co_1[patent_co_1['申请年']<=i].groupby('Co')['序号'].apply(lambda x: x.to_list()).reset_index()\n",
    "    co_ids_vec_t =group_ids_t['序号'].apply(lambda x: df_lda_w2v.loc[df_lda_w2v.index.isin(x)].mean(axis=0))\n",
    "    co_ids_vec_t.index = group_ids_t['Co']\n",
    "    co_ids_vec_t=co_ids_vec_t[co_ids_vec_t.sum(axis=1) != 0] \n",
    "    \n",
    "    print(i,len(group_ids_t),len(co_ids_vec_t), cosine_sim_arr(co_ids_vec_t).mean())\n",
    "    co_ids_vec_t.to_parquet(f'data\\patent_co_vec_先进制造_{i}.parquet')"
   ]
  },
  {
   "cell_type": "code",
   "execution_count": 362,
   "id": "0ab4c95f-f411-4c47-8aa8-7ff164ef9260",
   "metadata": {},
   "outputs": [
    {
     "data": {
      "text/plain": [
       "[<matplotlib.lines.Line2D at 0x1731730b160>]"
      ]
     },
     "execution_count": 362,
     "metadata": {},
     "output_type": "execute_result"
    },
    {
     "data": {
      "image/png": "[encoded data removed]",
      "text/plain": [
       "<Figure size 640x480 with 1 Axes>"
      ]
     },
     "metadata": {},
     "output_type": "display_data"
    }
   ],
   "source": [
    "plt.plot(np.sort(cosine_sim_arr(co_ids_vec_t)))"
   ]
  },
  {
   "cell_type": "code",
   "execution_count": 273,
   "id": "50f86165-b76d-4681-8385-437bf735da90",
   "metadata": {},
   "outputs": [
    {
     "data": {
      "text/plain": [
       "[(10, 0.1518759),\n",
       " (12, 0.16684493),\n",
       " (18, 0.1926927),\n",
       " (37, 0.06638787),\n",
       " (41, 0.1779282),\n",
       " (45, 0.092338696)]"
      ]
     },
     "execution_count": 273,
     "metadata": {},
     "output_type": "execute_result"
    }
   ],
   "source": [
    "model.document_topics[5]"
   ]
  },
  {
   "cell_type": "code",
   "execution_count": 216,
   "id": "a1f2b80d-e1a0-440c-a6b0-22acb88e96e6",
   "metadata": {},
   "outputs": [
    {
     "data": {
      "text/plain": [
       "Co                                              珠海格力电器股份有限公司\n",
       "序号                                                       166\n",
       "标题 (中文)                                              电风扇摇头装置\n",
       "摘要 (中文)    一种电风扇摇头装置，其特征在于由两个同轴安 装的上传动盘和下传动盘组成，上传动盘的下表面设 ...\n",
       "申请人                                             珠海格力电器股份有限公司\n",
       "申请日                                               1994-08-31\n",
       "申请号                                             CN94219340.7\n",
       "公开（公告）号                                           CN2202815Y\n",
       "table                                           patent202210\n",
       "Name: 5, dtype: object"
      ]
     },
     "execution_count": 216,
     "metadata": {},
     "output_type": "execute_result"
    }
   ],
   "source": [
    "patent_co.iloc[5]"
   ]
  },
  {
   "cell_type": "code",
   "execution_count": 207,
   "id": "ded336c8-88a9-403b-899e-9f6c881119f0",
   "metadata": {
    "scrolled": true
   },
   "outputs": [
    {
     "data": {
      "text/plain": [
       "array([ 0.2030736 ,  0.0922246 , -0.03551455,  0.10449886, -0.12880572,\n",
       "        0.0290949 ,  0.1956326 ,  0.0983133 , -0.04207043, -0.06074722,\n",
       "        0.15017703,  0.02804194, -0.12025003, -0.01374512,  0.21799757,\n",
       "       -0.03157167, -0.04001462,  0.12498175,  0.24708626,  0.25752587,\n",
       "       -0.04233388, -0.18551781,  0.18448228, -0.09561135, -0.04206844,\n",
       "       -0.07635177, -0.02213457,  0.16615873, -0.11150866, -0.11551209,\n",
       "       -0.00463161,  0.22030113, -0.3450857 ,  0.00718615,  0.04204296,\n",
       "       -0.09287149, -0.33693223, -0.01812083, -0.01853391,  0.00887385,\n",
       "       -0.04125123,  0.36315763, -0.18440225, -0.09419965,  0.11346693,\n",
       "       -0.03405893,  0.1023463 ,  0.01687693,  0.15789835,  0.09382511,\n",
       "        0.2168681 ,  0.11375513,  0.18099242, -0.03308989,  0.03784247,\n",
       "        0.02288984, -0.02367583,  0.18434398, -0.01303859, -0.29882043,\n",
       "        0.03553789, -0.3125755 ,  0.01978779,  0.13846349,  0.03150993,\n",
       "        0.12231202,  0.10626524,  0.05516364,  0.1138864 ,  0.08923758,\n",
       "        0.1072093 , -0.12567354, -0.11515804, -0.04992928,  0.19684407,\n",
       "       -0.05517974, -0.0181318 , -0.04846059, -0.00293157,  0.00360786,\n",
       "       -0.16693094, -0.04813389, -0.13963882, -0.07268555, -0.10045317,\n",
       "       -0.07936153, -0.01867081, -0.20801274, -0.12735244, -0.0441258 ,\n",
       "       -0.05877807, -0.15979836, -0.20939514, -0.07177992,  0.03804093,\n",
       "       -0.11209774,  0.07692498,  0.18686059,  0.03889308,  0.24702855,\n",
       "       -0.05268219,  0.27869659, -0.04776653, -0.05836127, -0.1562458 ,\n",
       "        0.12043268,  0.14286087, -0.15267013,  0.0554989 , -0.22340783,\n",
       "       -0.26665037, -0.04787398, -0.04682718,  0.03258021, -0.1271714 ,\n",
       "        0.2487804 , -0.04308305, -0.14361579,  0.00712725, -0.09442217,\n",
       "        0.24179393, -0.0338035 , -0.04747262, -0.03101953, -0.33473447,\n",
       "       -0.16665635, -0.08669521,  0.06084555, -0.11426113,  0.01963504,\n",
       "        0.02193686, -0.03398762,  0.21815994,  0.07612664, -0.03205487,\n",
       "        0.14146711, -0.08846669,  0.00350692, -0.14585601, -0.22259458,\n",
       "       -0.10078668, -0.0463336 ,  0.05624869, -0.40131554,  0.0258267 ,\n",
       "       -0.00989775,  0.07215432,  0.0302083 , -0.00225026,  0.06274015,\n",
       "        0.03016389, -0.15760995, -0.00920197,  0.16762826, -0.20109209,\n",
       "       -0.1072726 ,  0.09651298,  0.03134695, -0.04426009,  0.24128518,\n",
       "        0.06246386,  0.04373071, -0.06164488, -0.23199033,  0.15389982,\n",
       "        0.16204292, -0.03975496,  0.21592113,  0.02230583,  0.05855725,\n",
       "        0.16094561,  0.12898217,  0.08263964, -0.10558334,  0.08949808,\n",
       "       -0.04380556, -0.05337225, -0.04989617, -0.1359114 , -0.15521929,\n",
       "       -0.01362605,  0.03362347, -0.07443852, -0.12802332,  0.11010457,\n",
       "       -0.03610389, -0.15983746,  0.08443475,  0.02043997,  0.07990023,\n",
       "        0.10646875, -0.22508343,  0.09159549, -0.07736491,  0.36249297,\n",
       "       -0.11522326, -0.01216142,  0.03492818, -0.131091  ,  0.19213731,\n",
       "       -0.05518988,  0.07622213,  0.12425078, -0.15579162,  0.16738042,\n",
       "        0.00341441, -0.06911544, -0.08075912,  0.07639812,  0.15708423,\n",
       "        0.04639169,  0.31618662, -0.24213908, -0.08831862, -0.00238076,\n",
       "       -0.2307159 , -0.1955539 , -0.1897459 , -0.03286665,  0.24858027,\n",
       "       -0.03500384,  0.13929947,  0.04342354, -0.0188433 ,  0.24748427,\n",
       "       -0.01879859,  0.3453143 , -0.01717364,  0.00144801, -0.1633612 ,\n",
       "       -0.04330805, -0.15501254, -0.05326304,  0.21567823,  0.06725079,\n",
       "        0.05125724,  0.29937754,  0.27462669,  0.12562652, -0.06543409,\n",
       "        0.05967733, -0.31697326,  0.03184707,  0.14894213,  0.23734041,\n",
       "        0.03788304, -0.1405821 , -0.19133257,  0.04118863, -0.13249789])"
      ]
     },
     "execution_count": 207,
     "metadata": {},
     "output_type": "execute_result"
    }
   ],
   "source": [
    "doc=patent_co.iloc[5]['标题 (中文)']+patent_co.iloc[5]['摘要 (中文)']\n",
    "processed_doc=[w.strip().lower() for w in jieba.lcut(clean_doc(doc))\n",
    "                             if not (len(w) < model.args.get('len_below', 2) or w.isdigit() \n",
    "                                     or re.match('\\d+\\.\\d+$', w) or w in  model.stop_words)]\n",
    "\n",
    "bow=model.dictionary.doc2bow(processed_doc)\n",
    "topic_distribution=model.lda.get_document_topics(bow)\n",
    "\n",
    "topic_n = sorted(topic_distribution, key=lambda x: x[1], reverse=True)[: model.args.get('top_n_topics', None)]\n",
    "distribute = np.array(topic_n)[:, 1]\n",
    "mask = distribute >=  model.args.get('weight_threshold_topics', 0.0)  # 主题权重大于阈值\n",
    "\n",
    "v_topics = np.array([topics_vec[t[0]] for t in topic_n])[mask]  # 主题向量\n",
    "\n",
    "w_distribute = (distribute[mask] / np.sum(distribute[mask])).reshape(-1, 1)  # 将归一化结果作为每个技术主题的权重\n",
    "v_doc = (w_distribute * v_topics).sum(axis=0) \n",
    "v_doc"
   ]
  },
  {
   "cell_type": "code",
   "execution_count": 208,
   "id": "ddfbb704-788b-4175-bd6d-74dae84ada73",
   "metadata": {},
   "outputs": [
    {
     "data": {
      "text/plain": [
       "array([0.99999999])"
      ]
     },
     "execution_count": 208,
     "metadata": {},
     "output_type": "execute_result"
    }
   ],
   "source": [
    "scores =cosine_similarity(documents_vec,v_doc.reshape(1, -1))\n",
    "max_index = np.argmax(scores)\n",
    "scores[max_index]"
   ]
  },
  {
   "cell_type": "code",
   "execution_count": null,
   "id": "0f43fe27-df7e-4e03-b22c-e3e4abae9a35",
   "metadata": {},
   "outputs": [],
   "source": [
    "scores =cosine_similarity(documents_vec,v_doc.reshape(1, -1))\n",
    "pd.Series(scores,index=self.sentences.index,name='score')"
   ]
  },
  {
   "cell_type": "code",
   "execution_count": 209,
   "id": "1522f3d7-1934-437d-8d55-3e7eeb15e25c",
   "metadata": {},
   "outputs": [
    {
     "data": {
      "text/plain": [
       "0.0"
      ]
     },
     "execution_count": 209,
     "metadata": {},
     "output_type": "execute_result"
    }
   ],
   "source": [
    "(df_lda_w2v.iloc[max_index]-documents_vec[max_index]).sum()"
   ]
  },
  {
   "cell_type": "code",
   "execution_count": 210,
   "id": "0d756bea-dd27-4db6-9e90-aec0243f8776",
   "metadata": {},
   "outputs": [
    {
     "data": {
      "text/plain": [
       "166"
      ]
     },
     "execution_count": 210,
     "metadata": {},
     "output_type": "execute_result"
    }
   ],
   "source": [
    "df_lda_w2v.iloc[max_index].name"
   ]
  },
  {
   "cell_type": "code",
   "execution_count": 211,
   "id": "96e9bcf8-8f10-40cc-8df1-8b8ac658918e",
   "metadata": {},
   "outputs": [
    {
     "data": {
      "text/plain": [
       "5    一种电风扇摇头装置，其特征在于由两个同轴安 装的上传动盘和下传动盘组成，上传动盘的下表面设 ...\n",
       "Name: 摘要 (中文), dtype: object"
      ]
     },
     "execution_count": 211,
     "metadata": {},
     "output_type": "execute_result"
    }
   ],
   "source": [
    "patent_co.loc[patent_co.序号==166,'摘要 (中文)']"
   ]
  },
  {
   "cell_type": "code",
   "execution_count": 212,
   "id": "df76fec8-b5dc-42eb-b1e7-ef36730ef601",
   "metadata": {},
   "outputs": [
    {
     "data": {
      "text/plain": [
       "'电风扇摇头装置一种电风扇摇头装置，其特征在于由两个同轴安 装的上传动盘和下传动盘组成，上传动盘的下表面设 有凸起物，下传动盘的上表面设有供放置凸起物的径 向凹槽。该装置体积小，结构紧凑，为小型风扇的摇 头，特别是扇体的中心轴搭接在扇壳两端的这类电风 扇的变幅摇头摆动提供了可能性。'"
      ]
     },
     "execution_count": 212,
     "metadata": {},
     "output_type": "execute_result"
    }
   ],
   "source": [
    "doc#相似主题"
   ]
  },
  {
   "cell_type": "code",
   "execution_count": 265,
   "id": "2a66bcf8-3778-41bb-be45-d9fc256ddbe2",
   "metadata": {},
   "outputs": [
    {
     "data": {
      "text/html": [
       "<div>\n",
       "<style scoped>\n",
       "    .dataframe tbody tr th:only-of-type {\n",
       "        vertical-align: middle;\n",
       "    }\n",
       "\n",
       "    .dataframe tbody tr th {\n",
       "        vertical-align: top;\n",
       "    }\n",
       "\n",
       "    .dataframe thead th {\n",
       "        text-align: right;\n",
       "    }\n",
       "</style>\n",
       "<table border=\"1\" class=\"dataframe\">\n",
       "  <thead>\n",
       "    <tr style=\"text-align: right;\">\n",
       "      <th></th>\n",
       "      <th>Co</th>\n",
       "      <th>序号</th>\n",
       "      <th>标题 (中文)</th>\n",
       "      <th>摘要 (中文)</th>\n",
       "      <th>申请人</th>\n",
       "      <th>申请日</th>\n",
       "      <th>申请号</th>\n",
       "      <th>公开（公告）号</th>\n",
       "      <th>table</th>\n",
       "    </tr>\n",
       "  </thead>\n",
       "  <tbody>\n",
       "    <tr>\n",
       "      <th>0</th>\n",
       "      <td>重庆钢铁股份有限公司</td>\n",
       "      <td>123</td>\n",
       "      <td>竖式烧结矿冷却机</td>\n",
       "      <td>本发明为一种具有环形风道和全密闭结构的竖式烧结矿冷却机，属冷却机技术领域；通过控制电振出料机...</td>\n",
       "      <td>重庆钢铁股份有限公司</td>\n",
       "      <td>1993-09-15</td>\n",
       "      <td>CN93117175.X</td>\n",
       "      <td>CN1050661C</td>\n",
       "      <td>patent202210</td>\n",
       "    </tr>\n",
       "    <tr>\n",
       "      <th>1</th>\n",
       "      <td>山东金泰集团股份有限公司</td>\n",
       "      <td>142</td>\n",
       "      <td>具有抗静电性的轻垢液体洗衣洗涤剂</td>\n",
       "      <td>本发明提供一种透明或半透明的具有抗静电性 的轻垢液体洗衣洗涤剂，包括(以重量计)5—20％合...</td>\n",
       "      <td>山东金泰集团股份有限公司</td>\n",
       "      <td>1994-04-14</td>\n",
       "      <td>CN94110539.3</td>\n",
       "      <td>CN1094440A</td>\n",
       "      <td>patent202210</td>\n",
       "    </tr>\n",
       "    <tr>\n",
       "      <th>2</th>\n",
       "      <td>山东鲁抗医药股份有限公司</td>\n",
       "      <td>154</td>\n",
       "      <td>麦白霉素胃溶片的生产工艺技术</td>\n",
       "      <td>一种麦白霉素胃溶片的生产工艺技术，以国产原 料组成新的配方，替代从国外进口的麦迪霉素胃溶 片...</td>\n",
       "      <td>山东鲁抗医药股份有限公司</td>\n",
       "      <td>1994-06-14</td>\n",
       "      <td>CN94110662.4</td>\n",
       "      <td>CN1104887A</td>\n",
       "      <td>patent202210</td>\n",
       "    </tr>\n",
       "    <tr>\n",
       "      <th>3</th>\n",
       "      <td>山东鲁抗医药股份有限公司</td>\n",
       "      <td>160</td>\n",
       "      <td>药品包装盒</td>\n",
       "      <td>省略其它视图。</td>\n",
       "      <td>山东鲁抗医药股份有限公司</td>\n",
       "      <td>1994-07-16</td>\n",
       "      <td>CN94307060.0</td>\n",
       "      <td>CN3033993D</td>\n",
       "      <td>patent202210</td>\n",
       "    </tr>\n",
       "    <tr>\n",
       "      <th>4</th>\n",
       "      <td>珠海格力电器股份有限公司</td>\n",
       "      <td>165</td>\n",
       "      <td>变幅摇头电风扇</td>\n",
       "      <td>一种变幅摇头电风扇，包括有扇座、扇体，其特征 在于扇体变幅摇头机构由电机驱动的一个T形连 杆...</td>\n",
       "      <td>珠海格力电器股份有限公司</td>\n",
       "      <td>1994-08-31</td>\n",
       "      <td>CN94219339.3</td>\n",
       "      <td>CN2201504Y</td>\n",
       "      <td>patent202210</td>\n",
       "    </tr>\n",
       "    <tr>\n",
       "      <th>...</th>\n",
       "      <td>...</td>\n",
       "      <td>...</td>\n",
       "      <td>...</td>\n",
       "      <td>...</td>\n",
       "      <td>...</td>\n",
       "      <td>...</td>\n",
       "      <td>...</td>\n",
       "      <td>...</td>\n",
       "      <td>...</td>\n",
       "    </tr>\n",
       "    <tr>\n",
       "      <th>1897512</th>\n",
       "      <td>深圳市大寰机器人科技有限公司</td>\n",
       "      <td>2781354</td>\n",
       "      <td>机器人标定方法、系统及机器人</td>\n",
       "      <td>本发明涉及机器人标定技术领域，具体而言，涉及一种机器人标定方法、系统及机器人，该方法包括：若...</td>\n",
       "      <td>深圳市大寰机器人科技有限公司</td>\n",
       "      <td>2024-03-01</td>\n",
       "      <td>CN202410231929.9</td>\n",
       "      <td>CN117798937A</td>\n",
       "      <td>patent202404</td>\n",
       "    </tr>\n",
       "    <tr>\n",
       "      <th>1897513</th>\n",
       "      <td>珠海光恒科技有限公司</td>\n",
       "      <td>2781355</td>\n",
       "      <td>一种多普勒激光测风雷达径向风速标定方法</td>\n",
       "      <td>本发明旨在提供一种满足高精度要求、目标校准不确定度低的多普勒激光测风雷达径向风速标定方法。本...</td>\n",
       "      <td>珠海光恒科技有限公司</td>\n",
       "      <td>2024-03-01</td>\n",
       "      <td>CN202410234087.2</td>\n",
       "      <td>CN117805792A</td>\n",
       "      <td>patent202404</td>\n",
       "    </tr>\n",
       "    <tr>\n",
       "      <th>1897514</th>\n",
       "      <td>珠海市申科谱工业科技有限公司</td>\n",
       "      <td>2781356</td>\n",
       "      <td>一种晶圆激光开槽装置及开槽方法</td>\n",
       "      <td>本发明旨在提供一种能实现双通道光路调节，能同时进行定位开槽和宽激光烧蚀的晶圆激光开槽装置。本...</td>\n",
       "      <td>珠海市申科谱工业科技有限公司</td>\n",
       "      <td>2024-03-01</td>\n",
       "      <td>CN202410233264.5</td>\n",
       "      <td>CN117798508A</td>\n",
       "      <td>patent202404</td>\n",
       "    </tr>\n",
       "    <tr>\n",
       "      <th>1897515</th>\n",
       "      <td>珠海市申科谱工业科技有限公司</td>\n",
       "      <td>2781357</td>\n",
       "      <td>一种微型塑料件激光焊接系统以及焊接方法</td>\n",
       "      <td>本发明提供一种微型塑料件激光焊接系统以及焊接方法，本发明通过塌陷值检测传感器对给予产品表面或...</td>\n",
       "      <td>珠海市申科谱工业科技有限公司</td>\n",
       "      <td>2024-03-01</td>\n",
       "      <td>CN202410233288.0</td>\n",
       "      <td>CN117799173A</td>\n",
       "      <td>patent202404</td>\n",
       "    </tr>\n",
       "    <tr>\n",
       "      <th>1897516</th>\n",
       "      <td>长安绿电科技有限公司</td>\n",
       "      <td>2781360</td>\n",
       "      <td>可拆卸式电池模块</td>\n",
       "      <td>本实用新型公开了可拆卸式电池模块，涉及电池模块技术领域，包括壳体，所述壳体的上表面固定连接有...</td>\n",
       "      <td>长安绿电科技有限公司</td>\n",
       "      <td>2024-03-04</td>\n",
       "      <td>CN202420403622.8</td>\n",
       "      <td>CN220710520U</td>\n",
       "      <td>patent202404</td>\n",
       "    </tr>\n",
       "  </tbody>\n",
       "</table>\n",
       "<p>1897517 rows × 9 columns</p>\n",
       "</div>"
      ],
      "text/plain": [
       "                     Co       序号              标题 (中文)  \\\n",
       "0            重庆钢铁股份有限公司      123             竖式烧结矿冷却机   \n",
       "1          山东金泰集团股份有限公司      142     具有抗静电性的轻垢液体洗衣洗涤剂   \n",
       "2          山东鲁抗医药股份有限公司      154       麦白霉素胃溶片的生产工艺技术   \n",
       "3          山东鲁抗医药股份有限公司      160                药品包装盒   \n",
       "4          珠海格力电器股份有限公司      165              变幅摇头电风扇   \n",
       "...                 ...      ...                  ...   \n",
       "1897512  深圳市大寰机器人科技有限公司  2781354       机器人标定方法、系统及机器人   \n",
       "1897513      珠海光恒科技有限公司  2781355  一种多普勒激光测风雷达径向风速标定方法   \n",
       "1897514  珠海市申科谱工业科技有限公司  2781356      一种晶圆激光开槽装置及开槽方法   \n",
       "1897515  珠海市申科谱工业科技有限公司  2781357  一种微型塑料件激光焊接系统以及焊接方法   \n",
       "1897516      长安绿电科技有限公司  2781360             可拆卸式电池模块   \n",
       "\n",
       "                                                   摘要 (中文)             申请人  \\\n",
       "0        本发明为一种具有环形风道和全密闭结构的竖式烧结矿冷却机，属冷却机技术领域；通过控制电振出料机...      重庆钢铁股份有限公司   \n",
       "1        本发明提供一种透明或半透明的具有抗静电性 的轻垢液体洗衣洗涤剂，包括(以重量计)5—20％合...    山东金泰集团股份有限公司   \n",
       "2        一种麦白霉素胃溶片的生产工艺技术，以国产原 料组成新的配方，替代从国外进口的麦迪霉素胃溶 片...    山东鲁抗医药股份有限公司   \n",
       "3                                                  省略其它视图。    山东鲁抗医药股份有限公司   \n",
       "4        一种变幅摇头电风扇，包括有扇座、扇体，其特征 在于扇体变幅摇头机构由电机驱动的一个T形连 杆...    珠海格力电器股份有限公司   \n",
       "...                                                    ...             ...   \n",
       "1897512  本发明涉及机器人标定技术领域，具体而言，涉及一种机器人标定方法、系统及机器人，该方法包括：若...  深圳市大寰机器人科技有限公司   \n",
       "1897513  本发明旨在提供一种满足高精度要求、目标校准不确定度低的多普勒激光测风雷达径向风速标定方法。本...      珠海光恒科技有限公司   \n",
       "1897514  本发明旨在提供一种能实现双通道光路调节，能同时进行定位开槽和宽激光烧蚀的晶圆激光开槽装置。本...  珠海市申科谱工业科技有限公司   \n",
       "1897515  本发明提供一种微型塑料件激光焊接系统以及焊接方法，本发明通过塌陷值检测传感器对给予产品表面或...  珠海市申科谱工业科技有限公司   \n",
       "1897516  本实用新型公开了可拆卸式电池模块，涉及电池模块技术领域，包括壳体，所述壳体的上表面固定连接有...      长安绿电科技有限公司   \n",
       "\n",
       "                申请日               申请号       公开（公告）号         table  \n",
       "0        1993-09-15      CN93117175.X    CN1050661C  patent202210  \n",
       "1        1994-04-14      CN94110539.3    CN1094440A  patent202210  \n",
       "2        1994-06-14      CN94110662.4    CN1104887A  patent202210  \n",
       "3        1994-07-16      CN94307060.0    CN3033993D  patent202210  \n",
       "4        1994-08-31      CN94219339.3    CN2201504Y  patent202210  \n",
       "...             ...               ...           ...           ...  \n",
       "1897512  2024-03-01  CN202410231929.9  CN117798937A  patent202404  \n",
       "1897513  2024-03-01  CN202410234087.2  CN117805792A  patent202404  \n",
       "1897514  2024-03-01  CN202410233264.5  CN117798508A  patent202404  \n",
       "1897515  2024-03-01  CN202410233288.0  CN117799173A  patent202404  \n",
       "1897516  2024-03-04  CN202420403622.8  CN220710520U  patent202404  \n",
       "\n",
       "[1897517 rows x 9 columns]"
      ]
     },
     "execution_count": 265,
     "metadata": {},
     "output_type": "execute_result"
    }
   ],
   "source": [
    "patent_co"
   ]
  },
  {
   "cell_type": "code",
   "execution_count": 321,
   "id": "b860d2b4-fd26-47e7-9e2d-9dedbcff4a86",
   "metadata": {},
   "outputs": [],
   "source": [
    "importlib.reload(w2v_lda)\n",
    "from w2v_lda import *\n",
    "tmp=W2vLda(sentences=None,wd_data=patent_co[:100],stop_words=Stopwords,suffix='111')"
   ]
  },
  {
   "cell_type": "code",
   "execution_count": 284,
   "id": "c5c2bba3-4cf5-4922-888c-a6046cf879c3",
   "metadata": {},
   "outputs": [
    {
     "data": {
      "text/plain": [
       "0     [竖式, 烧结, 冷却, 一种, 具有, 环形, 风道, 密闭, 结构, 竖式, 烧结, 冷...\n",
       "1     [具有, 抗静电, 轻垢, 液体, 洗衣, 洗涤剂, 提供, 一种, 透明, 半透明, 具有...\n",
       "2     [麦白, 霉素, 胃溶片, 生产工艺, 技术, 一种, 麦白, 霉素, 胃溶片, 生产工艺,...\n",
       "4     [变幅, 摇头, 电风扇, 一种, 变幅, 摇头, 电风扇, 包括, 扇体, 特征, 扇体,...\n",
       "5     [电风扇, 摇头, 装置, 一种, 电风扇, 摇头, 装置, 特征, 两个, 同轴, 传动,...\n",
       "                            ...                        \n",
       "92    [电池, 外观, 主创, 部分, 电池, 外包装, 图案, 色彩, 组合, 请求, 保护, 色彩]\n",
       "93    [挂板, 五号, 视图, 视图, 相同, 省略, 视图, 仰视, 相同, 省略, 仰视, 请...\n",
       "94    [挂板, 七号, 视图, 视图, 相同, 省略, 视图, 仰视, 相同, 省略, 仰视, 请...\n",
       "98    [带电, 车削, 加工, 装置, 一种, 带电, 车削, 加工, 装置, 可控硅, 供电, ...\n",
       "99    [影碟机, 包装盒, 相同, 故略, 视图, 仅为, 底色, 特殊, 设计, 要求, 故略,...\n",
       "Name: 标题 (中文), Length: 68, dtype: object"
      ]
     },
     "execution_count": 284,
     "metadata": {},
     "output_type": "execute_result"
    }
   ],
   "source": [
    "tmp.sentences"
   ]
  },
  {
   "cell_type": "code",
   "execution_count": 285,
   "id": "bb005f71-ba75-4958-b881-5690a4bccb07",
   "metadata": {},
   "outputs": [
    {
     "data": {
      "text/html": [
       "<div>\n",
       "<style scoped>\n",
       "    .dataframe tbody tr th:only-of-type {\n",
       "        vertical-align: middle;\n",
       "    }\n",
       "\n",
       "    .dataframe tbody tr th {\n",
       "        vertical-align: top;\n",
       "    }\n",
       "\n",
       "    .dataframe thead th {\n",
       "        text-align: right;\n",
       "    }\n",
       "</style>\n",
       "<table border=\"1\" class=\"dataframe\">\n",
       "  <thead>\n",
       "    <tr style=\"text-align: right;\">\n",
       "      <th></th>\n",
       "      <th>Co</th>\n",
       "      <th>序号</th>\n",
       "    </tr>\n",
       "  </thead>\n",
       "  <tbody>\n",
       "    <tr>\n",
       "      <th>0</th>\n",
       "      <td>云南铝业股份有限公司</td>\n",
       "      <td>[1106, 1213]</td>\n",
       "    </tr>\n",
       "    <tr>\n",
       "      <th>1</th>\n",
       "      <td>佛山电器照明股份有限公司</td>\n",
       "      <td>[174]</td>\n",
       "    </tr>\n",
       "    <tr>\n",
       "      <th>2</th>\n",
       "      <td>北京科技大学</td>\n",
       "      <td>[603]</td>\n",
       "    </tr>\n",
       "    <tr>\n",
       "      <th>3</th>\n",
       "      <td>南京熊猫电子股份有限公司</td>\n",
       "      <td>[557, 898, 1053, 1274]</td>\n",
       "    </tr>\n",
       "    <tr>\n",
       "      <th>4</th>\n",
       "      <td>唐山钢铁集团有限责任公司</td>\n",
       "      <td>[389, 393, 404, 470, 471, 472, 504, 521, 538, ...</td>\n",
       "    </tr>\n",
       "    <tr>\n",
       "      <th>5</th>\n",
       "      <td>四川长虹电器股份有限公司</td>\n",
       "      <td>[330, 344]</td>\n",
       "    </tr>\n",
       "    <tr>\n",
       "      <th>6</th>\n",
       "      <td>安阳钢铁股份有限公司</td>\n",
       "      <td>[603]</td>\n",
       "    </tr>\n",
       "    <tr>\n",
       "      <th>7</th>\n",
       "      <td>山东省药用玻璃股份有限公司</td>\n",
       "      <td>[271]</td>\n",
       "    </tr>\n",
       "    <tr>\n",
       "      <th>8</th>\n",
       "      <td>山东金泰集团股份有限公司</td>\n",
       "      <td>[142]</td>\n",
       "    </tr>\n",
       "    <tr>\n",
       "      <th>9</th>\n",
       "      <td>山东鲁抗医药股份有限公司</td>\n",
       "      <td>[154]</td>\n",
       "    </tr>\n",
       "    <tr>\n",
       "      <th>10</th>\n",
       "      <td>新疆众和股份有限公司</td>\n",
       "      <td>[496, 508]</td>\n",
       "    </tr>\n",
       "    <tr>\n",
       "      <th>11</th>\n",
       "      <td>珠海格力电器股份有限公司</td>\n",
       "      <td>[165, 166, 167, 575, 1063, 1227, 1229]</td>\n",
       "    </tr>\n",
       "    <tr>\n",
       "      <th>12</th>\n",
       "      <td>福建南平南孚电池有限公司</td>\n",
       "      <td>[1237, 1238, 1239]</td>\n",
       "    </tr>\n",
       "    <tr>\n",
       "      <th>13</th>\n",
       "      <td>贵研铂业股份有限公司</td>\n",
       "      <td>[889]</td>\n",
       "    </tr>\n",
       "    <tr>\n",
       "      <th>14</th>\n",
       "      <td>重庆钢铁股份有限公司</td>\n",
       "      <td>[123, 182, 312, 677, 801, 942, 1010, 1089, 110...</td>\n",
       "    </tr>\n",
       "  </tbody>\n",
       "</table>\n",
       "</div>"
      ],
      "text/plain": [
       "               Co                                                 序号\n",
       "0      云南铝业股份有限公司                                       [1106, 1213]\n",
       "1    佛山电器照明股份有限公司                                              [174]\n",
       "2          北京科技大学                                              [603]\n",
       "3    南京熊猫电子股份有限公司                             [557, 898, 1053, 1274]\n",
       "4    唐山钢铁集团有限责任公司  [389, 393, 404, 470, 471, 472, 504, 521, 538, ...\n",
       "5    四川长虹电器股份有限公司                                         [330, 344]\n",
       "6      安阳钢铁股份有限公司                                              [603]\n",
       "7   山东省药用玻璃股份有限公司                                              [271]\n",
       "8    山东金泰集团股份有限公司                                              [142]\n",
       "9    山东鲁抗医药股份有限公司                                              [154]\n",
       "10     新疆众和股份有限公司                                         [496, 508]\n",
       "11   珠海格力电器股份有限公司             [165, 166, 167, 575, 1063, 1227, 1229]\n",
       "12   福建南平南孚电池有限公司                                 [1237, 1238, 1239]\n",
       "13     贵研铂业股份有限公司                                              [889]\n",
       "14     重庆钢铁股份有限公司  [123, 182, 312, 677, 801, 942, 1010, 1089, 110..."
      ]
     },
     "execution_count": 285,
     "metadata": {},
     "output_type": "execute_result"
    }
   ],
   "source": [
    "tmp.group_ids"
   ]
  },
  {
   "cell_type": "code",
   "execution_count": 297,
   "id": "cc0c417a-1b55-4ba9-928e-07038bae58d2",
   "metadata": {},
   "outputs": [
    {
     "data": {
      "text/html": [
       "<div>\n",
       "<style scoped>\n",
       "    .dataframe tbody tr th:only-of-type {\n",
       "        vertical-align: middle;\n",
       "    }\n",
       "\n",
       "    .dataframe tbody tr th {\n",
       "        vertical-align: top;\n",
       "    }\n",
       "\n",
       "    .dataframe thead th {\n",
       "        text-align: right;\n",
       "    }\n",
       "</style>\n",
       "<table border=\"1\" class=\"dataframe\">\n",
       "  <thead>\n",
       "    <tr style=\"text-align: right;\">\n",
       "      <th></th>\n",
       "      <th>word</th>\n",
       "      <th>topic</th>\n",
       "    </tr>\n",
       "  </thead>\n",
       "  <tbody>\n",
       "    <tr>\n",
       "      <th>0</th>\n",
       "      <td>目标</td>\n",
       "      <td>0</td>\n",
       "    </tr>\n",
       "    <tr>\n",
       "      <th>1</th>\n",
       "      <td>测量</td>\n",
       "      <td>0</td>\n",
       "    </tr>\n",
       "    <tr>\n",
       "      <th>2</th>\n",
       "      <td>切换</td>\n",
       "      <td>0</td>\n",
       "    </tr>\n",
       "    <tr>\n",
       "      <th>3</th>\n",
       "      <td>沟槽</td>\n",
       "      <td>0</td>\n",
       "    </tr>\n",
       "    <tr>\n",
       "      <th>4</th>\n",
       "      <td>触发</td>\n",
       "      <td>0</td>\n",
       "    </tr>\n",
       "    <tr>\n",
       "      <th>...</th>\n",
       "      <td>...</td>\n",
       "      <td>...</td>\n",
       "    </tr>\n",
       "    <tr>\n",
       "      <th>1495</th>\n",
       "      <td>短路</td>\n",
       "      <td>49</td>\n",
       "    </tr>\n",
       "    <tr>\n",
       "      <th>1496</th>\n",
       "      <td>工作人员</td>\n",
       "      <td>49</td>\n",
       "    </tr>\n",
       "    <tr>\n",
       "      <th>1497</th>\n",
       "      <td>橡胶</td>\n",
       "      <td>49</td>\n",
       "    </tr>\n",
       "    <tr>\n",
       "      <th>1498</th>\n",
       "      <td>水流</td>\n",
       "      <td>49</td>\n",
       "    </tr>\n",
       "    <tr>\n",
       "      <th>1499</th>\n",
       "      <td>阻尼</td>\n",
       "      <td>49</td>\n",
       "    </tr>\n",
       "  </tbody>\n",
       "</table>\n",
       "<p>1500 rows × 2 columns</p>\n",
       "</div>"
      ],
      "text/plain": [
       "      word  topic\n",
       "0       目标      0\n",
       "1       测量      0\n",
       "2       切换      0\n",
       "3       沟槽      0\n",
       "4       触发      0\n",
       "...    ...    ...\n",
       "1495    短路     49\n",
       "1496  工作人员     49\n",
       "1497    橡胶     49\n",
       "1498    水流     49\n",
       "1499    阻尼     49\n",
       "\n",
       "[1500 rows x 2 columns]"
      ]
     },
     "execution_count": 297,
     "metadata": {},
     "output_type": "execute_result"
    }
   ],
   "source": [
    "words=[]\n",
    "for topic_id in range(model.lda.num_topics):\n",
    "    word_distribute=model.lda.show_topic(topicid=topic_id, topn=30)\n",
    "    words +=[(word,topic_id) for word, _ in word_distribute]\n",
    "    \n",
    "df_wt=pd.DataFrame(words,columns=['word','topic'])\n",
    "df_wt"
   ]
  },
  {
   "cell_type": "code",
   "execution_count": 307,
   "id": "f1487d09-9574-42e5-b14f-d38ce09c98cf",
   "metadata": {},
   "outputs": [
    {
     "data": {
      "text/plain": [
       "word\n",
       "一种    36\n",
       "包括    28\n",
       "进行    22\n",
       "用于    19\n",
       "公开    17\n",
       "提供    15\n",
       "涉及    13\n",
       "方法    12\n",
       "提高    12\n",
       "设置    10\n",
       "装置     9\n",
       "连接     8\n",
       "实现     8\n",
       "能够     8\n",
       "具有     8\n",
       "之间     7\n",
       "应用     5\n",
       "形成     5\n",
       "表面     5\n",
       "处理     5\n",
       "一个     4\n",
       "结构     4\n",
       "位于     4\n",
       "方向     4\n",
       "执行     4\n",
       "多个     4\n",
       "效率     4\n",
       "对应     4\n",
       "至少     4\n",
       "通信     4\n",
       "确定     4\n",
       "获取     4\n",
       "Name: count, dtype: int64"
      ]
     },
     "execution_count": 307,
     "metadata": {},
     "output_type": "execute_result"
    }
   ],
   "source": [
    "df_wt.value_counts()[:32]"
   ]
  },
  {
   "cell_type": "code",
   "execution_count": 353,
   "id": "fc391c15-b9f5-4a40-84af-547c392a2988",
   "metadata": {},
   "outputs": [
    {
     "data": {
      "text/plain": [
       "word\n",
       "效率    7\n",
       "接收    6\n",
       "输入    5\n",
       "情况    5\n",
       "生成    5\n",
       "过程    5\n",
       "结构    5\n",
       "位于    5\n",
       "输出    4\n",
       "性能    4\n",
       "不同    4\n",
       "配置    4\n",
       "执行    4\n",
       "计算    4\n",
       "指令    4\n",
       "实时    4\n",
       "需求    3\n",
       "类型    3\n",
       "一侧    3\n",
       "设有    3\n",
       "Name: count, dtype: int64"
      ]
     },
     "execution_count": 353,
     "metadata": {},
     "output_type": "execute_result"
    }
   ],
   "source": [
    "df_wt=model.topics_words(topn=30)\n",
    "df_wt.value_counts()[:20]"
   ]
  },
  {
   "cell_type": "code",
   "execution_count": 299,
   "id": "99d500d6-faa1-402c-a136-75933ac76c7a",
   "metadata": {},
   "outputs": [
    {
     "data": {
      "text/plain": [
       "False"
      ]
     },
     "execution_count": 299,
     "metadata": {},
     "output_type": "execute_result"
    }
   ],
   "source": [
    "'一种' in model.stop_words"
   ]
  },
  {
   "cell_type": "code",
   "execution_count": 300,
   "id": "2dff2440-a52c-4124-9b56-2bcbc84d3c17",
   "metadata": {},
   "outputs": [
    {
     "data": {
      "text/plain": [
       "False"
      ]
     },
     "execution_count": 300,
     "metadata": {},
     "output_type": "execute_result"
    }
   ],
   "source": [
    "'一种' in Stopwords"
   ]
  },
  {
   "cell_type": "code",
   "execution_count": 315,
   "id": "babe461b-936d-4598-b3af-c4d9c0f9bc6a",
   "metadata": {},
   "outputs": [],
   "source": [
    "stop_1=[\n",
    "'一种',\n",
    "'每种',\n",
    "'每次',\n",
    "'根据',\n",
    "'第一',\n",
    "'第二',\n",
    "'第三',\n",
    "'所述',\n",
    "'包括',\n",
    "'进行',\n",
    "'获取',\n",
    "'对应',\n",
    "'确定',\n",
    "'基于',\n",
    "'得到',\n",
    "'提供',\n",
    "'通过',\n",
    "'方法',\n",
    "'装置',\n",
    "'请求',\n",
    "'申请',\n",
    "'一个',\n",
    "'两个',\n",
    "'多个',\n",
    "\"公开\",\n",
    "'应用',\n",
    "\"用于\",\n",
    "\"使用\",\n",
    "\"能够\",\n",
    "\"实现\",\n",
    "\"用以\",\n",
    "\"上述\",\n",
    "\"提高\",\n",
    "'采用',\n",
    "'利用',\n",
    "'获得',\n",
    "'提升',\n",
    "'之间',\n",
    "'多笔',\n",
    "'多种',\n",
    "'是否',\n",
    "'涉及',\n",
    "'处理',\n",
    "'形成',\n",
    "'至少',\n",
    "'具有']\n",
    "stop_1+=df_wt.word.value_counts()[:16].index.tolist()"
   ]
  },
  {
   "cell_type": "code",
   "execution_count": 319,
   "id": "17dd478e-785f-4a90-bf27-7b6f1462d0b7",
   "metadata": {},
   "outputs": [
    {
     "data": {
      "text/plain": [
       "6956"
      ]
     },
     "execution_count": 319,
     "metadata": {},
     "output_type": "execute_result"
    }
   ],
   "source": [
    "Stopwords=sorted(set(i.strip() for i in Stopwords+stop_1)) \n",
    "len(Stopwords)"
   ]
  },
  {
   "cell_type": "code",
   "execution_count": 320,
   "id": "87f19c7e-9465-4e50-9c5e-2f26389de2a1",
   "metadata": {},
   "outputs": [],
   "source": [
    "with open('data\\\\专利停用词表2024.txt', \"w\",encoding='UTF-8') as file:\n",
    "    for item in Stopwords:\n",
    "        file.write((item) + \"\\n\")"
   ]
  }
 ],
 "metadata": {
  "kernelspec": {
   "display_name": "Python 3 (ipykernel)",
   "language": "python",
   "name": "python3"
  },
  "language_info": {
   "codemirror_mode": {
    "name": "ipython",
    "version": 3
   },
   "file_extension": ".py",
   "mimetype": "text/x-python",
   "name": "python",
   "nbconvert_exporter": "python",
   "pygments_lexer": "ipython3",
   "version": "3.9.13"
  }
 },
 "nbformat": 4,
 "nbformat_minor": 5
}
