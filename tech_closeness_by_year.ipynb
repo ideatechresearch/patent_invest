{
 "cells": [
  {
   "cell_type": "code",
   "execution_count": 2,
   "id": "0ea076ee-651e-4362-8066-7cd8b41f3382",
   "metadata": {},
   "outputs": [],
   "source": [
    "from w2v_lda import *"
   ]
  },
  {
   "cell_type": "code",
   "execution_count": 44,
   "id": "93c12900-7697-4624-a395-24b5ae702231",
   "metadata": {},
   "outputs": [
    {
     "name": "stdout",
     "output_type": "stream",
     "text": [
      "CPU times: total: 1min 31s\n",
      "Wall time: 1min 25s\n"
     ]
    }
   ],
   "source": [
    "%%time\n",
    "wd_data=pd.read_parquet('data\\patent_cut_doc.parquet')\n",
    "co_data=pd.read_parquet('data\\patent_co_ids.parquet')\n",
    "patent_co=pd.read_csv('data\\融资公司专利2024.csv',usecols=['序号','标题 (中文)', '摘要 (中文)','申请号','申请日','申请人','公开（公告）号','Co','table'])\n",
    "\n",
    "df_co=pd.read_excel('data\\公司融资变量2_20240301.xlsx',usecols=['公司序号','公司简称','工商全称','行业'])\n",
    "co=df_co.loc[df_co.行业=='先进制造','工商全称'].unique()\n",
    "\n",
    "Stopwords=set(read2list('data\\\\专利停用词表2024.txt'))\n",
    "bd_word=pd.read_excel('data\\\\百度输入法词库1.xlsx',index_col=0)"
   ]
  },
  {
   "cell_type": "code",
   "execution_count": 13,
   "id": "c8f13520-7652-4275-9a97-9cb429ab0bae",
   "metadata": {},
   "outputs": [
    {
     "data": {
      "text/plain": [
       "(Index(['序号', '词语'], dtype='object'),\n",
       " Index(['Co', '序号'], dtype='object'),\n",
       " Index(['序号', '标题 (中文)', '摘要 (中文)', '申请人', '申请日', '申请号', '公开（公告）号', 'table'], dtype='object'))"
      ]
     },
     "execution_count": 13,
     "metadata": {},
     "output_type": "execute_result"
    }
   ],
   "source": [
    "wd_data.columns,co_data.columns,patent_co.columns"
   ]
  },
  {
   "cell_type": "code",
   "execution_count": 190,
   "id": "de2bc3c0-b980-4576-b140-45c9c1fde6f0",
   "metadata": {},
   "outputs": [
    {
     "data": {
      "text/plain": [
       "((1897517, 9), (1889962, 2))"
      ]
     },
     "execution_count": 190,
     "metadata": {},
     "output_type": "execute_result"
    }
   ],
   "source": [
    "patent_co.shape,wd_data.shape"
   ]
  },
  {
   "cell_type": "code",
   "execution_count": 253,
   "id": "ffd3f0eb-e71d-4708-b705-f82f868bf08d",
   "metadata": {},
   "outputs": [
    {
     "data": {
      "text/plain": [
       "table\n",
       "patent202404                    846384\n",
       "patent202210                    706371\n",
       "patent_incopat_202101_202211    286413\n",
       "patent_incopat_202212_202312     43636\n",
       "patent202309                     14713\n",
       "Name: count, dtype: int64"
      ]
     },
     "execution_count": 253,
     "metadata": {},
     "output_type": "execute_result"
    }
   ],
   "source": [
    "patent_co['table'].value_counts()"
   ]
  },
  {
   "cell_type": "code",
   "execution_count": 45,
   "id": "2a9803c3-3c65-492f-9220-8753c52acd5c",
   "metadata": {},
   "outputs": [],
   "source": [
    "wd_data['词语']=wd_data['词语'].dropna().apply(lambda x: x.tolist())"
   ]
  },
  {
   "cell_type": "code",
   "execution_count": 347,
   "id": "3c871b23-6253-4db3-8afd-b0b2be32d90a",
   "metadata": {},
   "outputs": [
    {
     "data": {
      "text/plain": [
       "'1994-08-31'"
      ]
     },
     "execution_count": 347,
     "metadata": {},
     "output_type": "execute_result"
    }
   ],
   "source": [
    "patent_co_1=patent_co[patent_co['Co'].isin(co)].copy()\n",
    "patent_co_1.申请日.min()"
   ]
  },
  {
   "cell_type": "code",
   "execution_count": 349,
   "id": "4e3a62f9-f759-4ac4-b2a0-b8b66b7aeda8",
   "metadata": {},
   "outputs": [],
   "source": [
    "patent_co_1['申请年']=pd.to_datetime(patent_co_1.申请日).dt.year\n",
    "co_data_1=co_data[co_data.Co.isin(co)].copy()#patent_co_1['申请人'].str.split(';', expand=True).stack().str.strip().reset_index(level=1, drop=True).rename('Co')"
   ]
  },
  {
   "cell_type": "code",
   "execution_count": 204,
   "id": "1e542ed8-4e05-47d2-80ee-78ad87fa8818",
   "metadata": {},
   "outputs": [
    {
     "data": {
      "text/plain": [
       "((7370, 2), 7370)"
      ]
     },
     "execution_count": 204,
     "metadata": {},
     "output_type": "execute_result"
    }
   ],
   "source": [
    "co_data_1.shape,patent_co_1.Co.nunique()"
   ]
  },
  {
   "cell_type": "code",
   "execution_count": 350,
   "id": "ef760cf6-ed58-43f7-bfa7-e713dc53a147",
   "metadata": {},
   "outputs": [
    {
     "data": {
      "text/plain": [
       "4"
      ]
     },
     "execution_count": 350,
     "metadata": {},
     "output_type": "execute_result"
    }
   ],
   "source": [
    "(patent_co_1['申请年']==1994).sum()"
   ]
  },
  {
   "cell_type": "markdown",
   "id": "9381d622-b397-44ee-98eb-2318db8b9e3a",
   "metadata": {},
   "source": [
    "  CBOW对小型数据库比较合适，而Skip-Gram在大型语料中表现更好。 当语料较少时使用CBOW方法比较好，当语料较多时采用skip-gram表示比较好。  \n",
    "\n",
    "  主题模型是一种基于概率图模型的生成式模型，其似然函数可以写成若干条件概率连乘的形式，其中包括需要推测的隐含变量（即主题）；  \n",
    "  而词嵌入模型一般表达为神经网络的形式，似然函数定义在网络的输出之上，需要通过学习网络的权重以得到单词的稠密向量表示。\n",
    "\n",
    "  如果文档数量较少，Word2Vec（w2v）模型的相似度结果可能会变得不那么准确。    \n",
    "词汇覆盖率低：文档少意味着训练数据少，许多词可能不会出现在训练集中，导致模型无法有效学习这些词的语义。  \n",
    "语境信息不足：Word2Vec依赖于大量的上下文来学习词语之间的关系。文档少意味着模型能学习到的上下文信息有限，影响词向量的质量。  \n",
    "过拟合风险高：在小数据集上训练的模型可能会过拟合，即过于贴合训练数据，而在新的数据上表现不佳。这样，模型可能会高估一些词之间的相似度，因为它们在训练集中偶然频繁地一起出现。   \n",
    "\n",
    "文档数量和质量：\n",
    "最小数量：一般来说，至少需要数千篇文档（或几十万到几百万的词）才能训练出一个有用的Word2Vec模型。如果文档太少，模型可能无法捕捉到足够的上下文信息来生成有意义的词向量。  \n",
    "理想数量：为了获得更高质量的词向量，通常建议使用数百万篇文档（或数十亿个词）。\n",
    "\n",
    "文档长度：\n",
    "短文档：如果文档较短，例如社交媒体帖子或新闻摘要，那么需要更多的文档来覆盖足够的词汇和上下文。  \n",
    "长文档：如果文档较长，例如书籍或长篇论文，那么较少的文档也能提供足够的上下文信息。\n",
    "\n",
    "领域专注：\n",
    "如果是在一个非常专门的领域（例如医学或法律），需要特定领域的大量文档来确保模型能够捕捉到该领域特有的词汇和语义。\n",
    "\n",
    "一般应用：对于一般应用，如新闻分类或产品推荐，需要数百万到数千万的词。  \n",
    "特定领域应用：对于特定领域的应用，建议收集尽可能多的领域相关文档，以确保模型能够准确地捕捉该领域的特定词汇和语义。\n",
    "\n",
    "如果无法获得足够多的文档，可以考虑使用预训练的词向量（如Google的Word2Vec或GloVe）作为基础"
   ]
  },
  {
   "cell_type": "code",
   "execution_count": 49,
   "id": "c75659ae-5268-4ecb-8b88-10eeb50c21f3",
   "metadata": {},
   "outputs": [
    {
     "data": {
      "text/plain": [
       "(944627, 1897517)"
      ]
     },
     "execution_count": 49,
     "metadata": {},
     "output_type": "execute_result"
    }
   ],
   "source": [
    "len(patent_co_1),len(patent_co)#可先分个1000万专利上训练"
   ]
  },
  {
   "cell_type": "code",
   "execution_count": 35,
   "id": "f53f7859-8e67-4c77-9370-101f3246217c",
   "metadata": {},
   "outputs": [
    {
     "data": {
      "text/plain": [
       "申请年\n",
       "2021    134978\n",
       "2022    109812\n",
       "2020    103997\n",
       "2019     90856\n",
       "2018     81509\n",
       "2023     77849\n",
       "2017     70823\n",
       "2016     63691\n",
       "2015     45376\n",
       "2014     30713\n",
       "2012     24362\n",
       "2013     23642\n",
       "2011     19393\n",
       "2010     16845\n",
       "2009     14284\n",
       "2008     10735\n",
       "2007     10550\n",
       "2006      5599\n",
       "2005      3185\n",
       "2004      2006\n",
       "2024      1537\n",
       "2003      1459\n",
       "2002       642\n",
       "2001       426\n",
       "2000       173\n",
       "1999       132\n",
       "1997        19\n",
       "1998        14\n",
       "1996         9\n",
       "1995         7\n",
       "1994         4\n",
       "Name: count, dtype: int64"
      ]
     },
     "execution_count": 35,
     "metadata": {},
     "output_type": "execute_result"
    }
   ],
   "source": [
    "patent_co_1['申请年'].value_counts()"
   ]
  },
  {
   "cell_type": "code",
   "execution_count": 36,
   "id": "1c0a58fb-3cf5-4eca-9590-6a1c1b294c08",
   "metadata": {},
   "outputs": [
    {
     "data": {
      "text/plain": [
       "358"
      ]
     },
     "execution_count": 36,
     "metadata": {},
     "output_type": "execute_result"
    }
   ],
   "source": [
    "(patent_co_1['申请年']<=2000).sum()"
   ]
  },
  {
   "cell_type": "markdown",
   "id": "b5cdf227-c665-4b6a-9456-2a2a75818bce",
   "metadata": {},
   "source": [
    "w2v：尽可能多的训练，用已分词的  ：processed_doc,wd_data  \n",
    "lda：用当前先进制造，每年训练主体标签和主题词不会统一  ：corpus,document_topics,documents_vec,df_lda_w2v  \n",
    "结合：每年分开筛选，表示  :group_ids  \n"
   ]
  },
  {
   "cell_type": "code",
   "execution_count": 277,
   "id": "cf9e083b-d9e6-498f-9078-49bd175890e8",
   "metadata": {},
   "outputs": [],
   "source": [
    "import w2v_lda\n",
    "import importlib\n",
    "importlib.reload(w2v_lda)\n",
    "from w2v_lda import *"
   ]
  },
  {
   "cell_type": "code",
   "execution_count": 126,
   "id": "fb60d796-4d13-4cef-8812-dffb13418680",
   "metadata": {},
   "outputs": [],
   "source": [
    "model=W2vLda(wd_data['词语'].dropna(),\n",
    "             suffix='先进制造',\n",
    "             stop_words=Stopwords\n",
    "            )"
   ]
  },
  {
   "cell_type": "code",
   "execution_count": null,
   "id": "a18f3503-fc30-4848-a77f-af66dbe4107e",
   "metadata": {},
   "outputs": [
    {
     "name": "stdout",
     "output_type": "stream",
     "text": [
      "{'vector_size': 250, 'sg': 1, 'window': 5, 'len_below': 2, 'no_below': 3, 'min_count': 3, 'count_fifter': 5, 'num_topics': 50, 'top_n_words': 20, 'weight_threshold_topics': 0.03, 'chunksize': 3000, 'keep_n': 800000, 'passes': 3, 'top_n_topics': 3}\n"
     ]
    }
   ],
   "source": [
    "%%time\n",
    "model.lda=1#不跑lda,先w2v\n",
    "r1=model.on_corpus(vector_size=250,sg=1,window=5,count_fifter=5,min_count=3,no_below=3,num_topics=50,chunksize=3000,keep_n=800000,passes=3)\n",
    "print(r1)\n",
    "model.lda=None#重建corpus\n",
    "filter_ids=patent_co.loc[patent_co['Co'].isin(co),'序号']\n",
    "model.on_init(wd_data.loc[wd_data.序号.isin(filter_ids),'词语'].dropna(),suffix='先进制造')\n",
    "r2=model.on_corpus()\n",
    "print(r2)\n",
    "model.save()"
   ]
  },
  {
   "cell_type": "code",
   "execution_count": 335,
   "id": "28ceddf1-b886-42ba-b688-b2c3d0efba5d",
   "metadata": {},
   "outputs": [],
   "source": [
    "importlib.reload(w2v_lda)\n",
    "from w2v_lda import *\n",
    "\n",
    "model=W2vLda(wd_data['词语'].dropna(),\n",
    "             suffix='188_27_sg',\n",
    "             stop_words=Stopwords\n",
    "            )\n",
    "model.load(dictionary=False,lda=False)"
   ]
  },
  {
   "cell_type": "code",
   "execution_count": 336,
   "id": "8735ff77-620d-49c7-8820-df3334d5db30",
   "metadata": {},
   "outputs": [
    {
     "data": {
      "text/plain": [
       "(6956, 1196876)"
      ]
     },
     "execution_count": 336,
     "metadata": {},
     "output_type": "execute_result"
    }
   ],
   "source": [
    "model.on_init(wd_data.loc[wd_data.序号.isin(filter_ids),'词语'].dropna(),suffix='先进制造')\n",
    "len(model.stop_words),len(model.sentences)"
   ]
  },
  {
   "cell_type": "code",
   "execution_count": 337,
   "id": "0fce4049-6d08-493d-bf2b-3ae96549e53b",
   "metadata": {},
   "outputs": [
    {
     "name": "stdout",
     "output_type": "stream",
     "text": [
      "{'vector_size': 250, 'sg': 0, 'window': 5, 'len_below': 2, 'no_below': 3, 'min_count': 3, 'count_fifter': 5, 'num_topics': 50, 'top_n_words': 10, 'top_n_topics': 5, 'weight_threshold_topics': 0.05, 'minimum_probability': 0.05, 'chunksize': 3000, 'keep_n': 800000, 'passes': 3, 'no_above': 0.99}\n",
      "(268220, 137899, 137899)\n",
      "CPU times: total: 56min 52s\n",
      "Wall time: 56min 55s\n"
     ]
    }
   ],
   "source": [
    "%%time\n",
    "r2=model.on_corpus(count_fifter=5,min_count=3,no_below=3,num_topics=50,chunksize=3000,keep_n=800000,passes=3,no_above=0.99)#vector_size=250,sg=1,window=5,\n",
    "print(r2)\n",
    "model.save()"
   ]
  },
  {
   "cell_type": "code",
   "execution_count": 338,
   "id": "7cf8aeb1-e18d-4e0f-b00d-63298bbc4d40",
   "metadata": {},
   "outputs": [
    {
     "data": {
      "text/plain": [
       "(1196876, 1196876)"
      ]
     },
     "execution_count": 338,
     "metadata": {},
     "output_type": "execute_result"
    }
   ],
   "source": [
    "len(model.sentences),len(model.corpus)#model.wd_data.index"
   ]
  },
  {
   "cell_type": "code",
   "execution_count": 339,
   "id": "c7b0fbbd-1295-40a5-9dc0-105637c3137d",
   "metadata": {},
   "outputs": [
    {
     "data": {
      "text/plain": [
       "268220"
      ]
     },
     "execution_count": 339,
     "metadata": {},
     "output_type": "execute_result"
    }
   ],
   "source": [
    "len(model.wo.wv)"
   ]
  },
  {
   "cell_type": "code",
   "execution_count": 340,
   "id": "10093e51-f59a-465c-a811-6f1e37e7832c",
   "metadata": {},
   "outputs": [
    {
     "name": "stdout",
     "output_type": "stream",
     "text": [
      "CPU times: total: 11min 10s\n",
      "Wall time: 11min 11s\n"
     ]
    }
   ],
   "source": [
    "%%time\n",
    "topics_vec,documents_vec=model.on_topics(top_n_words=30, top_n_topics=4,minimum_probability=0.03,weight_threshold_topics=0.03)"
   ]
  },
  {
   "cell_type": "code",
   "execution_count": 344,
   "id": "d27bf86a-1690-40e4-af13-c35ec8b4f55c",
   "metadata": {},
   "outputs": [],
   "source": [
    "np.save(\"data\\\\topics_vec_先进制造.npy\",np.array(topics_vec))"
   ]
  },
  {
   "cell_type": "code",
   "execution_count": 3,
   "id": "8690d5c1-a928-4d81-af86-c6255fc08cad",
   "metadata": {},
   "outputs": [],
   "source": [
    "topics_vec=np.load(\"data\\\\topics_vec_先进制造.npy\")"
   ]
  },
  {
   "cell_type": "code",
   "execution_count": 341,
   "id": "3e05df21-4b82-411b-bd12-205a54aebdf1",
   "metadata": {},
   "outputs": [
    {
     "data": {
      "text/html": [
       "<div>\n",
       "<style scoped>\n",
       "    .dataframe tbody tr th:only-of-type {\n",
       "        vertical-align: middle;\n",
       "    }\n",
       "\n",
       "    .dataframe tbody tr th {\n",
       "        vertical-align: top;\n",
       "    }\n",
       "\n",
       "    .dataframe thead th {\n",
       "        text-align: right;\n",
       "    }\n",
       "</style>\n",
       "<table border=\"1\" class=\"dataframe\">\n",
       "  <thead>\n",
       "    <tr style=\"text-align: right;\">\n",
       "      <th></th>\n",
       "      <th>word</th>\n",
       "      <th>0</th>\n",
       "      <th>word</th>\n",
       "      <th>1</th>\n",
       "      <th>word</th>\n",
       "      <th>2</th>\n",
       "      <th>word</th>\n",
       "      <th>3</th>\n",
       "      <th>word</th>\n",
       "      <th>4</th>\n",
       "      <th>...</th>\n",
       "      <th>word</th>\n",
       "      <th>45</th>\n",
       "      <th>word</th>\n",
       "      <th>46</th>\n",
       "      <th>word</th>\n",
       "      <th>47</th>\n",
       "      <th>word</th>\n",
       "      <th>48</th>\n",
       "      <th>word</th>\n",
       "      <th>49</th>\n",
       "    </tr>\n",
       "  </thead>\n",
       "  <tbody>\n",
       "    <tr>\n",
       "      <th>0</th>\n",
       "      <td>控制</td>\n",
       "      <td>0.336473</td>\n",
       "      <td>壳体</td>\n",
       "      <td>0.060365</td>\n",
       "      <td>时间</td>\n",
       "      <td>0.137966</td>\n",
       "      <td>检测</td>\n",
       "      <td>0.434082</td>\n",
       "      <td>工件</td>\n",
       "      <td>0.171947</td>\n",
       "      <td>...</td>\n",
       "      <td>组件</td>\n",
       "      <td>0.104818</td>\n",
       "      <td>电机</td>\n",
       "      <td>0.166002</td>\n",
       "      <td>监测</td>\n",
       "      <td>0.180670</td>\n",
       "      <td>信号</td>\n",
       "      <td>0.229929</td>\n",
       "      <td>设备</td>\n",
       "      <td>0.691298</td>\n",
       "    </tr>\n",
       "    <tr>\n",
       "      <th>1</th>\n",
       "      <td>温度</td>\n",
       "      <td>0.093791</td>\n",
       "      <td>本体</td>\n",
       "      <td>0.052032</td>\n",
       "      <td>同步</td>\n",
       "      <td>0.073825</td>\n",
       "      <td>晶圆</td>\n",
       "      <td>0.070577</td>\n",
       "      <td>基底</td>\n",
       "      <td>0.107282</td>\n",
       "      <td>...</td>\n",
       "      <td>安装</td>\n",
       "      <td>0.066537</td>\n",
       "      <td>控制器</td>\n",
       "      <td>0.097613</td>\n",
       "      <td>场景</td>\n",
       "      <td>0.119917</td>\n",
       "      <td>功率</td>\n",
       "      <td>0.044660</td>\n",
       "      <td>对象</td>\n",
       "      <td>0.043946</td>\n",
       "    </tr>\n",
       "    <tr>\n",
       "      <th>2</th>\n",
       "      <td>模式</td>\n",
       "      <td>0.050696</td>\n",
       "      <td>结构</td>\n",
       "      <td>0.036464</td>\n",
       "      <td>时钟</td>\n",
       "      <td>0.069153</td>\n",
       "      <td>缺陷</td>\n",
       "      <td>0.039418</td>\n",
       "      <td>通讯</td>\n",
       "      <td>0.096650</td>\n",
       "      <td>...</td>\n",
       "      <td>机构</td>\n",
       "      <td>0.060612</td>\n",
       "      <td>物料</td>\n",
       "      <td>0.064860</td>\n",
       "      <td>开启</td>\n",
       "      <td>0.060530</td>\n",
       "      <td>输出</td>\n",
       "      <td>0.037771</td>\n",
       "      <td>极耳</td>\n",
       "      <td>0.026328</td>\n",
       "    </tr>\n",
       "    <tr>\n",
       "      <th>3</th>\n",
       "      <td>工作</td>\n",
       "      <td>0.031869</td>\n",
       "      <td>限位</td>\n",
       "      <td>0.035447</td>\n",
       "      <td>缓冲</td>\n",
       "      <td>0.056486</td>\n",
       "      <td>阈值</td>\n",
       "      <td>0.038228</td>\n",
       "      <td>神经网络</td>\n",
       "      <td>0.063235</td>\n",
       "      <td>...</td>\n",
       "      <td>固定</td>\n",
       "      <td>0.046357</td>\n",
       "      <td>转子</td>\n",
       "      <td>0.036421</td>\n",
       "      <td>关闭</td>\n",
       "      <td>0.053182</td>\n",
       "      <td>采样</td>\n",
       "      <td>0.032491</td>\n",
       "      <td>识别方法</td>\n",
       "      <td>0.013465</td>\n",
       "    </tr>\n",
       "    <tr>\n",
       "      <th>4</th>\n",
       "      <td>运行</td>\n",
       "      <td>0.027646</td>\n",
       "      <td>夹持</td>\n",
       "      <td>0.028398</td>\n",
       "      <td>翻转</td>\n",
       "      <td>0.047002</td>\n",
       "      <td>异常</td>\n",
       "      <td>0.034680</td>\n",
       "      <td>吸盘</td>\n",
       "      <td>0.052574</td>\n",
       "      <td>...</td>\n",
       "      <td>驱动</td>\n",
       "      <td>0.030306</td>\n",
       "      <td>轴承</td>\n",
       "      <td>0.034787</td>\n",
       "      <td>打开</td>\n",
       "      <td>0.051750</td>\n",
       "      <td>频率</td>\n",
       "      <td>0.026628</td>\n",
       "      <td>反射镜</td>\n",
       "      <td>0.011968</td>\n",
       "    </tr>\n",
       "    <tr>\n",
       "      <th>5</th>\n",
       "      <td>控制系统</td>\n",
       "      <td>0.022630</td>\n",
       "      <td>绝缘</td>\n",
       "      <td>0.024258</td>\n",
       "      <td>周期</td>\n",
       "      <td>0.040176</td>\n",
       "      <td>探针</td>\n",
       "      <td>0.021048</td>\n",
       "      <td>沟道</td>\n",
       "      <td>0.048676</td>\n",
       "      <td>...</td>\n",
       "      <td>支撑</td>\n",
       "      <td>0.025624</td>\n",
       "      <td>端盖</td>\n",
       "      <td>0.031197</td>\n",
       "      <td>跟踪</td>\n",
       "      <td>0.044414</td>\n",
       "      <td>输入</td>\n",
       "      <td>0.025969</td>\n",
       "      <td>铜箔</td>\n",
       "      <td>0.010763</td>\n",
       "    </tr>\n",
       "    <tr>\n",
       "      <th>6</th>\n",
       "      <td>启动</td>\n",
       "      <td>0.021287</td>\n",
       "      <td>导电</td>\n",
       "      <td>0.023150</td>\n",
       "      <td>锁定</td>\n",
       "      <td>0.033064</td>\n",
       "      <td>等于</td>\n",
       "      <td>0.017985</td>\n",
       "      <td>手机</td>\n",
       "      <td>0.033976</td>\n",
       "      <td>...</td>\n",
       "      <td>设有</td>\n",
       "      <td>0.021159</td>\n",
       "      <td>定子</td>\n",
       "      <td>0.029342</td>\n",
       "      <td>转运</td>\n",
       "      <td>0.034784</td>\n",
       "      <td>校准</td>\n",
       "      <td>0.020390</td>\n",
       "      <td>配置文件</td>\n",
       "      <td>0.006139</td>\n",
       "    </tr>\n",
       "    <tr>\n",
       "      <th>7</th>\n",
       "      <td>感应</td>\n",
       "      <td>0.016353</td>\n",
       "      <td>开口</td>\n",
       "      <td>0.020701</td>\n",
       "      <td>时序</td>\n",
       "      <td>0.032248</td>\n",
       "      <td>大于</td>\n",
       "      <td>0.017380</td>\n",
       "      <td>损失</td>\n",
       "      <td>0.030307</td>\n",
       "      <td>...</td>\n",
       "      <td>转动</td>\n",
       "      <td>0.020907</td>\n",
       "      <td>镀膜</td>\n",
       "      <td>0.020289</td>\n",
       "      <td>协同</td>\n",
       "      <td>0.031341</td>\n",
       "      <td>脉冲</td>\n",
       "      <td>0.015925</td>\n",
       "      <td>控制设备</td>\n",
       "      <td>0.006105</td>\n",
       "    </tr>\n",
       "    <tr>\n",
       "      <th>8</th>\n",
       "      <td>动作</td>\n",
       "      <td>0.014671</td>\n",
       "      <td>接触</td>\n",
       "      <td>0.019989</td>\n",
       "      <td>基准</td>\n",
       "      <td>0.027335</td>\n",
       "      <td>判断</td>\n",
       "      <td>0.017249</td>\n",
       "      <td>焊缝</td>\n",
       "      <td>0.029415</td>\n",
       "      <td>...</td>\n",
       "      <td>结构</td>\n",
       "      <td>0.017539</td>\n",
       "      <td>轴向</td>\n",
       "      <td>0.020029</td>\n",
       "      <td>绕线</td>\n",
       "      <td>0.021557</td>\n",
       "      <td>放大</td>\n",
       "      <td>0.015886</td>\n",
       "      <td>电动汽车</td>\n",
       "      <td>0.005813</td>\n",
       "    </tr>\n",
       "    <tr>\n",
       "      <th>9</th>\n",
       "      <td>转速</td>\n",
       "      <td>0.011540</td>\n",
       "      <td>通孔</td>\n",
       "      <td>0.019889</td>\n",
       "      <td>寄存器</td>\n",
       "      <td>0.026697</td>\n",
       "      <td>释放</td>\n",
       "      <td>0.012530</td>\n",
       "      <td>周围</td>\n",
       "      <td>0.027187</td>\n",
       "      <td>...</td>\n",
       "      <td>支架</td>\n",
       "      <td>0.015712</td>\n",
       "      <td>动力</td>\n",
       "      <td>0.016158</td>\n",
       "      <td>货物</td>\n",
       "      <td>0.020258</td>\n",
       "      <td>误差</td>\n",
       "      <td>0.015722</td>\n",
       "      <td>知识</td>\n",
       "      <td>0.005302</td>\n",
       "    </tr>\n",
       "    <tr>\n",
       "      <th>10</th>\n",
       "      <td>转移</td>\n",
       "      <td>0.010848</td>\n",
       "      <td>设有</td>\n",
       "      <td>0.019398</td>\n",
       "      <td>延时</td>\n",
       "      <td>0.025444</td>\n",
       "      <td>差值</td>\n",
       "      <td>0.012038</td>\n",
       "      <td>绘制</td>\n",
       "      <td>0.023942</td>\n",
       "      <td>...</td>\n",
       "      <td>旋转</td>\n",
       "      <td>0.013401</td>\n",
       "      <td>垂直于</td>\n",
       "      <td>0.013010</td>\n",
       "      <td>诊断</td>\n",
       "      <td>0.020087</td>\n",
       "      <td>滤波器</td>\n",
       "      <td>0.015555</td>\n",
       "      <td>环氧</td>\n",
       "      <td>0.004954</td>\n",
       "    </tr>\n",
       "    <tr>\n",
       "      <th>11</th>\n",
       "      <td>蓝牙</td>\n",
       "      <td>0.009782</td>\n",
       "      <td>弹性</td>\n",
       "      <td>0.018623</td>\n",
       "      <td>背板</td>\n",
       "      <td>0.025185</td>\n",
       "      <td>小于</td>\n",
       "      <td>0.010613</td>\n",
       "      <td>激活</td>\n",
       "      <td>0.021699</td>\n",
       "      <td>...</td>\n",
       "      <td>滑动</td>\n",
       "      <td>0.008901</td>\n",
       "      <td>粉碎</td>\n",
       "      <td>0.012827</td>\n",
       "      <td>路上</td>\n",
       "      <td>0.018937</td>\n",
       "      <td>数字</td>\n",
       "      <td>0.014854</td>\n",
       "      <td>解决</td>\n",
       "      <td>0.004695</td>\n",
       "    </tr>\n",
       "    <tr>\n",
       "      <th>12</th>\n",
       "      <td>停止</td>\n",
       "      <td>0.008268</td>\n",
       "      <td>连接器</td>\n",
       "      <td>0.015881</td>\n",
       "      <td>延迟</td>\n",
       "      <td>0.019145</td>\n",
       "      <td>预定</td>\n",
       "      <td>0.010435</td>\n",
       "      <td>使用者</td>\n",
       "      <td>0.021032</td>\n",
       "      <td>...</td>\n",
       "      <td>活动</td>\n",
       "      <td>0.008622</td>\n",
       "      <td>发电机</td>\n",
       "      <td>0.012103</td>\n",
       "      <td>立体</td>\n",
       "      <td>0.015436</td>\n",
       "      <td>接收</td>\n",
       "      <td>0.014608</td>\n",
       "      <td>吹气</td>\n",
       "      <td>0.004454</td>\n",
       "    </tr>\n",
       "    <tr>\n",
       "      <th>13</th>\n",
       "      <td>控制指令</td>\n",
       "      <td>0.007709</td>\n",
       "      <td>一侧</td>\n",
       "      <td>0.015127</td>\n",
       "      <td>电站</td>\n",
       "      <td>0.018772</td>\n",
       "      <td>存在</td>\n",
       "      <td>0.010087</td>\n",
       "      <td>悬臂</td>\n",
       "      <td>0.016578</td>\n",
       "      <td>...</td>\n",
       "      <td>底部</td>\n",
       "      <td>0.008247</td>\n",
       "      <td>绕组</td>\n",
       "      <td>0.011433</td>\n",
       "      <td>储水</td>\n",
       "      <td>0.014836</td>\n",
       "      <td>系数</td>\n",
       "      <td>0.014431</td>\n",
       "      <td>计算机技术</td>\n",
       "      <td>0.004348</td>\n",
       "    </tr>\n",
       "    <tr>\n",
       "      <th>14</th>\n",
       "      <td>人体</td>\n",
       "      <td>0.007652</td>\n",
       "      <td>端子</td>\n",
       "      <td>0.014735</td>\n",
       "      <td>缩短</td>\n",
       "      <td>0.018240</td>\n",
       "      <td>持续</td>\n",
       "      <td>0.009415</td>\n",
       "      <td>图形化</td>\n",
       "      <td>0.014580</td>\n",
       "      <td>...</td>\n",
       "      <td>顶部</td>\n",
       "      <td>0.008241</td>\n",
       "      <td>损伤</td>\n",
       "      <td>0.011164</td>\n",
       "      <td>二氧化碳</td>\n",
       "      <td>0.013262</td>\n",
       "      <td>修正</td>\n",
       "      <td>0.013580</td>\n",
       "      <td>主设备</td>\n",
       "      <td>0.004196</td>\n",
       "    </tr>\n",
       "    <tr>\n",
       "      <th>15</th>\n",
       "      <td>设定</td>\n",
       "      <td>0.007497</td>\n",
       "      <td>延伸</td>\n",
       "      <td>0.014187</td>\n",
       "      <td>整形</td>\n",
       "      <td>0.015084</td>\n",
       "      <td>进液</td>\n",
       "      <td>0.008013</td>\n",
       "      <td>压接</td>\n",
       "      <td>0.014493</td>\n",
       "      <td>...</td>\n",
       "      <td>带动</td>\n",
       "      <td>0.008220</td>\n",
       "      <td>径向</td>\n",
       "      <td>0.010418</td>\n",
       "      <td>编程</td>\n",
       "      <td>0.011700</td>\n",
       "      <td>相位</td>\n",
       "      <td>0.013469</td>\n",
       "      <td>效率</td>\n",
       "      <td>0.004028</td>\n",
       "    </tr>\n",
       "    <tr>\n",
       "      <th>16</th>\n",
       "      <td>所示</td>\n",
       "      <td>0.007246</td>\n",
       "      <td>位于</td>\n",
       "      <td>0.009889</td>\n",
       "      <td>对齐</td>\n",
       "      <td>0.012148</td>\n",
       "      <td>情况</td>\n",
       "      <td>0.007178</td>\n",
       "      <td>分切</td>\n",
       "      <td>0.013128</td>\n",
       "      <td>...</td>\n",
       "      <td>位于</td>\n",
       "      <td>0.008213</td>\n",
       "      <td>靶材</td>\n",
       "      <td>0.010248</td>\n",
       "      <td>实时</td>\n",
       "      <td>0.009557</td>\n",
       "      <td>生成</td>\n",
       "      <td>0.012640</td>\n",
       "      <td>相关</td>\n",
       "      <td>0.003865</td>\n",
       "    </tr>\n",
       "    <tr>\n",
       "      <th>17</th>\n",
       "      <td>情况</td>\n",
       "      <td>0.006842</td>\n",
       "      <td>一端</td>\n",
       "      <td>0.009679</td>\n",
       "      <td>计数</td>\n",
       "      <td>0.012029</td>\n",
       "      <td>出液</td>\n",
       "      <td>0.006257</td>\n",
       "      <td>内阻</td>\n",
       "      <td>0.012710</td>\n",
       "      <td>...</td>\n",
       "      <td>相对</td>\n",
       "      <td>0.007746</td>\n",
       "      <td>啮合</td>\n",
       "      <td>0.009391</td>\n",
       "      <td>促进</td>\n",
       "      <td>0.009538</td>\n",
       "      <td>滤波</td>\n",
       "      <td>0.012058</td>\n",
       "      <td>问题</td>\n",
       "      <td>0.003662</td>\n",
       "    </tr>\n",
       "    <tr>\n",
       "      <th>18</th>\n",
       "      <td>环境温度</td>\n",
       "      <td>0.006379</td>\n",
       "      <td>配合</td>\n",
       "      <td>0.009478</td>\n",
       "      <td>分辨率</td>\n",
       "      <td>0.011125</td>\n",
       "      <td>准确</td>\n",
       "      <td>0.006255</td>\n",
       "      <td>金属片</td>\n",
       "      <td>0.010174</td>\n",
       "      <td>...</td>\n",
       "      <td>底板</td>\n",
       "      <td>0.007527</td>\n",
       "      <td>滤网</td>\n",
       "      <td>0.009276</td>\n",
       "      <td>线槽</td>\n",
       "      <td>0.009102</td>\n",
       "      <td>放大器</td>\n",
       "      <td>0.011957</td>\n",
       "      <td>存储设备</td>\n",
       "      <td>0.003618</td>\n",
       "    </tr>\n",
       "    <tr>\n",
       "      <th>19</th>\n",
       "      <td>执行</td>\n",
       "      <td>0.006061</td>\n",
       "      <td>端面</td>\n",
       "      <td>0.009276</td>\n",
       "      <td>功率放大器</td>\n",
       "      <td>0.009617</td>\n",
       "      <td>液流</td>\n",
       "      <td>0.006149</td>\n",
       "      <td>钢带</td>\n",
       "      <td>0.009392</td>\n",
       "      <td>...</td>\n",
       "      <td>侧壁</td>\n",
       "      <td>0.007152</td>\n",
       "      <td>旋转轴</td>\n",
       "      <td>0.009008</td>\n",
       "      <td>邻近</td>\n",
       "      <td>0.009094</td>\n",
       "      <td>产生</td>\n",
       "      <td>0.011595</td>\n",
       "      <td>服务端</td>\n",
       "      <td>0.003570</td>\n",
       "    </tr>\n",
       "    <tr>\n",
       "      <th>20</th>\n",
       "      <td>折射率</td>\n",
       "      <td>0.005594</td>\n",
       "      <td>弹簧</td>\n",
       "      <td>0.008890</td>\n",
       "      <td>移位</td>\n",
       "      <td>0.008477</td>\n",
       "      <td>发生</td>\n",
       "      <td>0.005232</td>\n",
       "      <td>浪涌</td>\n",
       "      <td>0.008821</td>\n",
       "      <td>...</td>\n",
       "      <td>一侧</td>\n",
       "      <td>0.007052</td>\n",
       "      <td>加湿</td>\n",
       "      <td>0.008682</td>\n",
       "      <td>指针</td>\n",
       "      <td>0.008972</td>\n",
       "      <td>反馈</td>\n",
       "      <td>0.011314</td>\n",
       "      <td>登录</td>\n",
       "      <td>0.003157</td>\n",
       "    </tr>\n",
       "    <tr>\n",
       "      <th>21</th>\n",
       "      <td>部上</td>\n",
       "      <td>0.005392</td>\n",
       "      <td>固定</td>\n",
       "      <td>0.008620</td>\n",
       "      <td>振荡器</td>\n",
       "      <td>0.008286</td>\n",
       "      <td>准确性</td>\n",
       "      <td>0.005205</td>\n",
       "      <td>不佳</td>\n",
       "      <td>0.008610</td>\n",
       "      <td>...</td>\n",
       "      <td>一端</td>\n",
       "      <td>0.006898</td>\n",
       "      <td>上层</td>\n",
       "      <td>0.008563</td>\n",
       "      <td>主控板</td>\n",
       "      <td>0.008894</td>\n",
       "      <td>噪声</td>\n",
       "      <td>0.010977</td>\n",
       "      <td>以供</td>\n",
       "      <td>0.003015</td>\n",
       "    </tr>\n",
       "    <tr>\n",
       "      <th>22</th>\n",
       "      <td>能耗</td>\n",
       "      <td>0.004974</td>\n",
       "      <td>插接</td>\n",
       "      <td>0.008458</td>\n",
       "      <td>复位</td>\n",
       "      <td>0.008087</td>\n",
       "      <td>避免</td>\n",
       "      <td>0.004816</td>\n",
       "      <td>无线通讯</td>\n",
       "      <td>0.008042</td>\n",
       "      <td>...</td>\n",
       "      <td>导向</td>\n",
       "      <td>0.006748</td>\n",
       "      <td>三相</td>\n",
       "      <td>0.008458</td>\n",
       "      <td>有所</td>\n",
       "      <td>0.008579</td>\n",
       "      <td>调制</td>\n",
       "      <td>0.009938</td>\n",
       "      <td>属于</td>\n",
       "      <td>0.002977</td>\n",
       "    </tr>\n",
       "    <tr>\n",
       "      <th>23</th>\n",
       "      <td>io</td>\n",
       "      <td>0.004874</td>\n",
       "      <td>边框</td>\n",
       "      <td>0.008348</td>\n",
       "      <td>控制参数</td>\n",
       "      <td>0.007811</td>\n",
       "      <td>检验</td>\n",
       "      <td>0.004488</td>\n",
       "      <td>附加</td>\n",
       "      <td>0.007725</td>\n",
       "      <td>...</td>\n",
       "      <td>凹槽</td>\n",
       "      <td>0.006625</td>\n",
       "      <td>旋转</td>\n",
       "      <td>0.008434</td>\n",
       "      <td>缓冲区</td>\n",
       "      <td>0.007984</td>\n",
       "      <td>差分</td>\n",
       "      <td>0.009695</td>\n",
       "      <td>工作站</td>\n",
       "      <td>0.002921</td>\n",
       "    </tr>\n",
       "    <tr>\n",
       "      <th>24</th>\n",
       "      <td>进入</td>\n",
       "      <td>0.004844</td>\n",
       "      <td>环形</td>\n",
       "      <td>0.008089</td>\n",
       "      <td>自由度</td>\n",
       "      <td>0.006883</td>\n",
       "      <td>质量</td>\n",
       "      <td>0.004408</td>\n",
       "      <td>可信</td>\n",
       "      <td>0.007707</td>\n",
       "      <td>...</td>\n",
       "      <td>装配</td>\n",
       "      <td>0.006370</td>\n",
       "      <td>同轴</td>\n",
       "      <td>0.007576</td>\n",
       "      <td>远端</td>\n",
       "      <td>0.007777</td>\n",
       "      <td>增益</td>\n",
       "      <td>0.009426</td>\n",
       "      <td>领域</td>\n",
       "      <td>0.002624</td>\n",
       "    </tr>\n",
       "    <tr>\n",
       "      <th>25</th>\n",
       "      <td>过程</td>\n",
       "      <td>0.004811</td>\n",
       "      <td>对接</td>\n",
       "      <td>0.008018</td>\n",
       "      <td>沿其</td>\n",
       "      <td>0.006645</td>\n",
       "      <td>效率</td>\n",
       "      <td>0.004294</td>\n",
       "      <td>双模</td>\n",
       "      <td>0.007305</td>\n",
       "      <td>...</td>\n",
       "      <td>放置</td>\n",
       "      <td>0.006355</td>\n",
       "      <td>机头</td>\n",
       "      <td>0.007098</td>\n",
       "      <td>闭环</td>\n",
       "      <td>0.007669</td>\n",
       "      <td>运算</td>\n",
       "      <td>0.008768</td>\n",
       "      <td>库中</td>\n",
       "      <td>0.002469</td>\n",
       "    </tr>\n",
       "    <tr>\n",
       "      <th>26</th>\n",
       "      <td>指令</td>\n",
       "      <td>0.004610</td>\n",
       "      <td>半导体器件</td>\n",
       "      <td>0.007814</td>\n",
       "      <td>计数器</td>\n",
       "      <td>0.006607</td>\n",
       "      <td>精度</td>\n",
       "      <td>0.004087</td>\n",
       "      <td>多模</td>\n",
       "      <td>0.007268</td>\n",
       "      <td>...</td>\n",
       "      <td>内部</td>\n",
       "      <td>0.005895</td>\n",
       "      <td>大型</td>\n",
       "      <td>0.006958</td>\n",
       "      <td>叉车</td>\n",
       "      <td>0.006866</td>\n",
       "      <td>能量</td>\n",
       "      <td>0.007731</td>\n",
       "      <td>目录</td>\n",
       "      <td>0.002428</td>\n",
       "    </tr>\n",
       "    <tr>\n",
       "      <th>27</th>\n",
       "      <td>达到</td>\n",
       "      <td>0.004509</td>\n",
       "      <td>极板</td>\n",
       "      <td>0.007535</td>\n",
       "      <td>抖动</td>\n",
       "      <td>0.006525</td>\n",
       "      <td>过程</td>\n",
       "      <td>0.003998</td>\n",
       "      <td>包络</td>\n",
       "      <td>0.006755</td>\n",
       "      <td>...</td>\n",
       "      <td>两侧</td>\n",
       "      <td>0.005868</td>\n",
       "      <td>下层</td>\n",
       "      <td>0.006915</td>\n",
       "      <td>水面</td>\n",
       "      <td>0.006669</td>\n",
       "      <td>电网</td>\n",
       "      <td>0.007432</td>\n",
       "      <td>选项</td>\n",
       "      <td>0.002323</td>\n",
       "    </tr>\n",
       "    <tr>\n",
       "      <th>28</th>\n",
       "      <td>螺丝</td>\n",
       "      <td>0.004285</td>\n",
       "      <td>相对</td>\n",
       "      <td>0.007472</td>\n",
       "      <td>清除</td>\n",
       "      <td>0.006126</td>\n",
       "      <td>单晶硅</td>\n",
       "      <td>0.003684</td>\n",
       "      <td>多种不同</td>\n",
       "      <td>0.006210</td>\n",
       "      <td>...</td>\n",
       "      <td>配合</td>\n",
       "      <td>0.005863</td>\n",
       "      <td>煅烧</td>\n",
       "      <td>0.006680</td>\n",
       "      <td>松开</td>\n",
       "      <td>0.006236</td>\n",
       "      <td>高速</td>\n",
       "      <td>0.007102</td>\n",
       "      <td>焦点</td>\n",
       "      <td>0.002256</td>\n",
       "    </tr>\n",
       "    <tr>\n",
       "      <th>29</th>\n",
       "      <td>温度控制</td>\n",
       "      <td>0.004037</td>\n",
       "      <td>夹紧</td>\n",
       "      <td>0.007385</td>\n",
       "      <td>使能</td>\n",
       "      <td>0.006101</td>\n",
       "      <td>问题</td>\n",
       "      <td>0.003552</td>\n",
       "      <td>地区</td>\n",
       "      <td>0.005791</td>\n",
       "      <td>...</td>\n",
       "      <td>方向</td>\n",
       "      <td>0.005848</td>\n",
       "      <td>感光</td>\n",
       "      <td>0.006642</td>\n",
       "      <td>关机</td>\n",
       "      <td>0.006109</td>\n",
       "      <td>转换</td>\n",
       "      <td>0.006620</td>\n",
       "      <td>前端</td>\n",
       "      <td>0.002033</td>\n",
       "    </tr>\n",
       "  </tbody>\n",
       "</table>\n",
       "<p>30 rows × 100 columns</p>\n",
       "</div>"
      ],
      "text/plain": [
       "    word         0   word         1   word         2 word         3  word  \\\n",
       "0     控制  0.336473     壳体  0.060365     时间  0.137966   检测  0.434082    工件   \n",
       "1     温度  0.093791     本体  0.052032     同步  0.073825   晶圆  0.070577    基底   \n",
       "2     模式  0.050696     结构  0.036464     时钟  0.069153   缺陷  0.039418    通讯   \n",
       "3     工作  0.031869     限位  0.035447     缓冲  0.056486   阈值  0.038228  神经网络   \n",
       "4     运行  0.027646     夹持  0.028398     翻转  0.047002   异常  0.034680    吸盘   \n",
       "5   控制系统  0.022630     绝缘  0.024258     周期  0.040176   探针  0.021048    沟道   \n",
       "6     启动  0.021287     导电  0.023150     锁定  0.033064   等于  0.017985    手机   \n",
       "7     感应  0.016353     开口  0.020701     时序  0.032248   大于  0.017380    损失   \n",
       "8     动作  0.014671     接触  0.019989     基准  0.027335   判断  0.017249    焊缝   \n",
       "9     转速  0.011540     通孔  0.019889    寄存器  0.026697   释放  0.012530    周围   \n",
       "10    转移  0.010848     设有  0.019398     延时  0.025444   差值  0.012038    绘制   \n",
       "11    蓝牙  0.009782     弹性  0.018623     背板  0.025185   小于  0.010613    激活   \n",
       "12    停止  0.008268    连接器  0.015881     延迟  0.019145   预定  0.010435   使用者   \n",
       "13  控制指令  0.007709     一侧  0.015127     电站  0.018772   存在  0.010087    悬臂   \n",
       "14    人体  0.007652     端子  0.014735     缩短  0.018240   持续  0.009415   图形化   \n",
       "15    设定  0.007497     延伸  0.014187     整形  0.015084   进液  0.008013    压接   \n",
       "16    所示  0.007246     位于  0.009889     对齐  0.012148   情况  0.007178    分切   \n",
       "17    情况  0.006842     一端  0.009679     计数  0.012029   出液  0.006257    内阻   \n",
       "18  环境温度  0.006379     配合  0.009478    分辨率  0.011125   准确  0.006255   金属片   \n",
       "19    执行  0.006061     端面  0.009276  功率放大器  0.009617   液流  0.006149    钢带   \n",
       "20   折射率  0.005594     弹簧  0.008890     移位  0.008477   发生  0.005232    浪涌   \n",
       "21    部上  0.005392     固定  0.008620    振荡器  0.008286  准确性  0.005205    不佳   \n",
       "22    能耗  0.004974     插接  0.008458     复位  0.008087   避免  0.004816  无线通讯   \n",
       "23    io  0.004874     边框  0.008348   控制参数  0.007811   检验  0.004488    附加   \n",
       "24    进入  0.004844     环形  0.008089    自由度  0.006883   质量  0.004408    可信   \n",
       "25    过程  0.004811     对接  0.008018     沿其  0.006645   效率  0.004294    双模   \n",
       "26    指令  0.004610  半导体器件  0.007814    计数器  0.006607   精度  0.004087    多模   \n",
       "27    达到  0.004509     极板  0.007535     抖动  0.006525   过程  0.003998    包络   \n",
       "28    螺丝  0.004285     相对  0.007472     清除  0.006126  单晶硅  0.003684  多种不同   \n",
       "29  温度控制  0.004037     夹紧  0.007385     使能  0.006101   问题  0.003552    地区   \n",
       "\n",
       "           4  ... word        45 word        46  word        47 word  \\\n",
       "0   0.171947  ...   组件  0.104818   电机  0.166002    监测  0.180670   信号   \n",
       "1   0.107282  ...   安装  0.066537  控制器  0.097613    场景  0.119917   功率   \n",
       "2   0.096650  ...   机构  0.060612   物料  0.064860    开启  0.060530   输出   \n",
       "3   0.063235  ...   固定  0.046357   转子  0.036421    关闭  0.053182   采样   \n",
       "4   0.052574  ...   驱动  0.030306   轴承  0.034787    打开  0.051750   频率   \n",
       "5   0.048676  ...   支撑  0.025624   端盖  0.031197    跟踪  0.044414   输入   \n",
       "6   0.033976  ...   设有  0.021159   定子  0.029342    转运  0.034784   校准   \n",
       "7   0.030307  ...   转动  0.020907   镀膜  0.020289    协同  0.031341   脉冲   \n",
       "8   0.029415  ...   结构  0.017539   轴向  0.020029    绕线  0.021557   放大   \n",
       "9   0.027187  ...   支架  0.015712   动力  0.016158    货物  0.020258   误差   \n",
       "10  0.023942  ...   旋转  0.013401  垂直于  0.013010    诊断  0.020087  滤波器   \n",
       "11  0.021699  ...   滑动  0.008901   粉碎  0.012827    路上  0.018937   数字   \n",
       "12  0.021032  ...   活动  0.008622  发电机  0.012103    立体  0.015436   接收   \n",
       "13  0.016578  ...   底部  0.008247   绕组  0.011433    储水  0.014836   系数   \n",
       "14  0.014580  ...   顶部  0.008241   损伤  0.011164  二氧化碳  0.013262   修正   \n",
       "15  0.014493  ...   带动  0.008220   径向  0.010418    编程  0.011700   相位   \n",
       "16  0.013128  ...   位于  0.008213   靶材  0.010248    实时  0.009557   生成   \n",
       "17  0.012710  ...   相对  0.007746   啮合  0.009391    促进  0.009538   滤波   \n",
       "18  0.010174  ...   底板  0.007527   滤网  0.009276    线槽  0.009102  放大器   \n",
       "19  0.009392  ...   侧壁  0.007152  旋转轴  0.009008    邻近  0.009094   产生   \n",
       "20  0.008821  ...   一侧  0.007052   加湿  0.008682    指针  0.008972   反馈   \n",
       "21  0.008610  ...   一端  0.006898   上层  0.008563   主控板  0.008894   噪声   \n",
       "22  0.008042  ...   导向  0.006748   三相  0.008458    有所  0.008579   调制   \n",
       "23  0.007725  ...   凹槽  0.006625   旋转  0.008434   缓冲区  0.007984   差分   \n",
       "24  0.007707  ...   装配  0.006370   同轴  0.007576    远端  0.007777   增益   \n",
       "25  0.007305  ...   放置  0.006355   机头  0.007098    闭环  0.007669   运算   \n",
       "26  0.007268  ...   内部  0.005895   大型  0.006958    叉车  0.006866   能量   \n",
       "27  0.006755  ...   两侧  0.005868   下层  0.006915    水面  0.006669   电网   \n",
       "28  0.006210  ...   配合  0.005863   煅烧  0.006680    松开  0.006236   高速   \n",
       "29  0.005791  ...   方向  0.005848   感光  0.006642    关机  0.006109   转换   \n",
       "\n",
       "          48   word        49  \n",
       "0   0.229929     设备  0.691298  \n",
       "1   0.044660     对象  0.043946  \n",
       "2   0.037771     极耳  0.026328  \n",
       "3   0.032491   识别方法  0.013465  \n",
       "4   0.026628    反射镜  0.011968  \n",
       "5   0.025969     铜箔  0.010763  \n",
       "6   0.020390   配置文件  0.006139  \n",
       "7   0.015925   控制设备  0.006105  \n",
       "8   0.015886   电动汽车  0.005813  \n",
       "9   0.015722     知识  0.005302  \n",
       "10  0.015555     环氧  0.004954  \n",
       "11  0.014854     解决  0.004695  \n",
       "12  0.014608     吹气  0.004454  \n",
       "13  0.014431  计算机技术  0.004348  \n",
       "14  0.013580    主设备  0.004196  \n",
       "15  0.013469     效率  0.004028  \n",
       "16  0.012640     相关  0.003865  \n",
       "17  0.012058     问题  0.003662  \n",
       "18  0.011957   存储设备  0.003618  \n",
       "19  0.011595    服务端  0.003570  \n",
       "20  0.011314     登录  0.003157  \n",
       "21  0.010977     以供  0.003015  \n",
       "22  0.009938     属于  0.002977  \n",
       "23  0.009695    工作站  0.002921  \n",
       "24  0.009426     领域  0.002624  \n",
       "25  0.008768     库中  0.002469  \n",
       "26  0.007731     目录  0.002428  \n",
       "27  0.007432     选项  0.002323  \n",
       "28  0.007102     焦点  0.002256  \n",
       "29  0.006620     前端  0.002033  \n",
       "\n",
       "[30 rows x 100 columns]"
      ]
     },
     "execution_count": 341,
     "metadata": {},
     "output_type": "execute_result"
    }
   ],
   "source": [
    "df_topic=model.df_topics(topn=30)#top_n_words\n",
    "df_topic#30*50"
   ]
  },
  {
   "cell_type": "code",
   "execution_count": 342,
   "id": "075989f4-f2ea-40bc-a9e7-9a6c32978956",
   "metadata": {},
   "outputs": [],
   "source": [
    "df_topic.to_excel('data\\\\patent_topic_words_先进制造.xlsx')"
   ]
  },
  {
   "cell_type": "code",
   "execution_count": null,
   "id": "7fff8fa0-9848-43db-b214-9094c3aec167",
   "metadata": {},
   "outputs": [],
   "source": [
    "%%time\n",
    "topic_word_entropy=model.topic_word_entropy_corpus()"
   ]
  },
  {
   "cell_type": "code",
   "execution_count": 343,
   "id": "efc87abe-2894-4a62-9068-b4751b1893f2",
   "metadata": {},
   "outputs": [
    {
     "data": {
      "text/plain": [
       "1196876"
      ]
     },
     "execution_count": 343,
     "metadata": {},
     "output_type": "execute_result"
    }
   ],
   "source": [
    "len(documents_vec)"
   ]
  },
  {
   "cell_type": "code",
   "execution_count": 233,
   "id": "3541a207-be9e-4655-bdc2-1c1710be238f",
   "metadata": {},
   "outputs": [
    {
     "data": {
      "text/html": [
       "<div>\n",
       "<style scoped>\n",
       "    .dataframe tbody tr th:only-of-type {\n",
       "        vertical-align: middle;\n",
       "    }\n",
       "\n",
       "    .dataframe tbody tr th {\n",
       "        vertical-align: top;\n",
       "    }\n",
       "\n",
       "    .dataframe thead th {\n",
       "        text-align: right;\n",
       "    }\n",
       "</style>\n",
       "<table border=\"1\" class=\"dataframe\">\n",
       "  <thead>\n",
       "    <tr style=\"text-align: right;\">\n",
       "      <th></th>\n",
       "      <th>vec</th>\n",
       "    </tr>\n",
       "  </thead>\n",
       "  <tbody>\n",
       "    <tr>\n",
       "      <th>0</th>\n",
       "      <td>[0.20992305898202143, 0.0969748890390127, -0.0...</td>\n",
       "    </tr>\n",
       "    <tr>\n",
       "      <th>1</th>\n",
       "      <td>[0.20308027169142182, 0.09222375618223047, -0....</td>\n",
       "    </tr>\n",
       "    <tr>\n",
       "      <th>2</th>\n",
       "      <td>[0.210712741640104, 0.09495200047089854, -0.04...</td>\n",
       "    </tr>\n",
       "    <tr>\n",
       "      <th>3</th>\n",
       "      <td>[0.1374705665213969, 0.0203994829451518, -0.13...</td>\n",
       "    </tr>\n",
       "    <tr>\n",
       "      <th>4</th>\n",
       "      <td>[0.21568592993850627, 0.08380489735799194, -0....</td>\n",
       "    </tr>\n",
       "    <tr>\n",
       "      <th>...</th>\n",
       "      <td>...</td>\n",
       "    </tr>\n",
       "    <tr>\n",
       "      <th>95</th>\n",
       "      <td>[0.18576343369946371, 0.06688628962402177, -0....</td>\n",
       "    </tr>\n",
       "    <tr>\n",
       "      <th>96</th>\n",
       "      <td>[0.13336378913456595, 0.1165287368062044, -0.1...</td>\n",
       "    </tr>\n",
       "    <tr>\n",
       "      <th>97</th>\n",
       "      <td>[0.1285201007778851, 0.08362035207292037, -0.1...</td>\n",
       "    </tr>\n",
       "    <tr>\n",
       "      <th>98</th>\n",
       "      <td>[0.19523065835421713, -0.09120270779788076, -0...</td>\n",
       "    </tr>\n",
       "    <tr>\n",
       "      <th>99</th>\n",
       "      <td>[0.21096041100444174, 0.11963912488717288, -0....</td>\n",
       "    </tr>\n",
       "  </tbody>\n",
       "</table>\n",
       "<p>100 rows × 1 columns</p>\n",
       "</div>"
      ],
      "text/plain": [
       "                                                  vec\n",
       "0   [0.20992305898202143, 0.0969748890390127, -0.0...\n",
       "1   [0.20308027169142182, 0.09222375618223047, -0....\n",
       "2   [0.210712741640104, 0.09495200047089854, -0.04...\n",
       "3   [0.1374705665213969, 0.0203994829451518, -0.13...\n",
       "4   [0.21568592993850627, 0.08380489735799194, -0....\n",
       "..                                                ...\n",
       "95  [0.18576343369946371, 0.06688628962402177, -0....\n",
       "96  [0.13336378913456595, 0.1165287368062044, -0.1...\n",
       "97  [0.1285201007778851, 0.08362035207292037, -0.1...\n",
       "98  [0.19523065835421713, -0.09120270779788076, -0...\n",
       "99  [0.21096041100444174, 0.11963912488717288, -0....\n",
       "\n",
       "[100 rows x 1 columns]"
      ]
     },
     "execution_count": 233,
     "metadata": {},
     "output_type": "execute_result"
    }
   ],
   "source": [
    "pd.DataFrame({'vec': [vec for vec in documents_vec[:100]]})"
   ]
  },
  {
   "cell_type": "code",
   "execution_count": 255,
   "id": "2b7c1655-885c-43a7-8369-233c76d0758b",
   "metadata": {},
   "outputs": [],
   "source": [
    "df_lda_w2v = pd.DataFrame(documents_vec, index=model.wd_data.index)\n",
    "df_lda_w2v = df_lda_w2v[df_lda_w2v.sum(axis=1) != 0]\n",
    "df_lda_w2v['序号'] = wd_data.loc[df_lda_w2v.index,'序号']  # df_lda_w2v.merge(id_data[['序号']], left_index=True, right_index=True, how='left')\n",
    "df_lda_w2v.set_index('序号', inplace=True)\n",
    "df_lda_w2v.to_parquet(f'data\\\\documents_vec_{model.suffix}.parquet')"
   ]
  },
  {
   "cell_type": "code",
   "execution_count": 686,
   "id": "5e50ea5f-a2c9-4e02-b74a-c2cb2a77f414",
   "metadata": {},
   "outputs": [
    {
     "name": "stdout",
     "output_type": "stream",
     "text": [
      "CPU times: total: 34.5 s\n",
      "Wall time: 38.2 s\n"
     ]
    },
    {
     "data": {
      "text/html": [
       "<div>\n",
       "<style scoped>\n",
       "    .dataframe tbody tr th:only-of-type {\n",
       "        vertical-align: middle;\n",
       "    }\n",
       "\n",
       "    .dataframe tbody tr th {\n",
       "        vertical-align: top;\n",
       "    }\n",
       "\n",
       "    .dataframe thead th {\n",
       "        text-align: right;\n",
       "    }\n",
       "</style>\n",
       "<table border=\"1\" class=\"dataframe\">\n",
       "  <thead>\n",
       "    <tr style=\"text-align: right;\">\n",
       "      <th></th>\n",
       "      <th>0</th>\n",
       "      <th>1</th>\n",
       "      <th>2</th>\n",
       "      <th>3</th>\n",
       "      <th>4</th>\n",
       "      <th>5</th>\n",
       "      <th>6</th>\n",
       "      <th>7</th>\n",
       "      <th>8</th>\n",
       "      <th>9</th>\n",
       "      <th>...</th>\n",
       "      <th>240</th>\n",
       "      <th>241</th>\n",
       "      <th>242</th>\n",
       "      <th>243</th>\n",
       "      <th>244</th>\n",
       "      <th>245</th>\n",
       "      <th>246</th>\n",
       "      <th>247</th>\n",
       "      <th>248</th>\n",
       "      <th>249</th>\n",
       "    </tr>\n",
       "    <tr>\n",
       "      <th>序号</th>\n",
       "      <th></th>\n",
       "      <th></th>\n",
       "      <th></th>\n",
       "      <th></th>\n",
       "      <th></th>\n",
       "      <th></th>\n",
       "      <th></th>\n",
       "      <th></th>\n",
       "      <th></th>\n",
       "      <th></th>\n",
       "      <th></th>\n",
       "      <th></th>\n",
       "      <th></th>\n",
       "      <th></th>\n",
       "      <th></th>\n",
       "      <th></th>\n",
       "      <th></th>\n",
       "      <th></th>\n",
       "      <th></th>\n",
       "      <th></th>\n",
       "      <th></th>\n",
       "    </tr>\n",
       "  </thead>\n",
       "  <tbody>\n",
       "    <tr>\n",
       "      <th>165</th>\n",
       "      <td>0.226318</td>\n",
       "      <td>0.078761</td>\n",
       "      <td>-0.008609</td>\n",
       "      <td>0.084645</td>\n",
       "      <td>-0.121523</td>\n",
       "      <td>0.050315</td>\n",
       "      <td>0.143755</td>\n",
       "      <td>0.139454</td>\n",
       "      <td>-0.081216</td>\n",
       "      <td>-0.039331</td>\n",
       "      <td>...</td>\n",
       "      <td>0.031926</td>\n",
       "      <td>-0.261344</td>\n",
       "      <td>0.038376</td>\n",
       "      <td>0.127057</td>\n",
       "      <td>0.249235</td>\n",
       "      <td>0.016564</td>\n",
       "      <td>-0.143402</td>\n",
       "      <td>-0.212742</td>\n",
       "      <td>0.049918</td>\n",
       "      <td>-0.094760</td>\n",
       "    </tr>\n",
       "    <tr>\n",
       "      <th>166</th>\n",
       "      <td>0.247366</td>\n",
       "      <td>0.092943</td>\n",
       "      <td>-0.021953</td>\n",
       "      <td>0.057754</td>\n",
       "      <td>-0.154601</td>\n",
       "      <td>0.039173</td>\n",
       "      <td>0.176503</td>\n",
       "      <td>0.154752</td>\n",
       "      <td>-0.075900</td>\n",
       "      <td>-0.036187</td>\n",
       "      <td>...</td>\n",
       "      <td>0.086806</td>\n",
       "      <td>-0.276183</td>\n",
       "      <td>0.034767</td>\n",
       "      <td>0.104448</td>\n",
       "      <td>0.249973</td>\n",
       "      <td>0.017978</td>\n",
       "      <td>-0.144689</td>\n",
       "      <td>-0.228626</td>\n",
       "      <td>0.014364</td>\n",
       "      <td>-0.124538</td>\n",
       "    </tr>\n",
       "    <tr>\n",
       "      <th>167</th>\n",
       "      <td>0.212533</td>\n",
       "      <td>0.117018</td>\n",
       "      <td>-0.017932</td>\n",
       "      <td>0.084564</td>\n",
       "      <td>-0.130198</td>\n",
       "      <td>-0.003878</td>\n",
       "      <td>0.145923</td>\n",
       "      <td>0.105760</td>\n",
       "      <td>-0.061761</td>\n",
       "      <td>-0.049846</td>\n",
       "      <td>...</td>\n",
       "      <td>0.018148</td>\n",
       "      <td>-0.239046</td>\n",
       "      <td>0.017226</td>\n",
       "      <td>0.140527</td>\n",
       "      <td>0.253161</td>\n",
       "      <td>0.010808</td>\n",
       "      <td>-0.153000</td>\n",
       "      <td>-0.231836</td>\n",
       "      <td>0.051671</td>\n",
       "      <td>-0.057798</td>\n",
       "    </tr>\n",
       "    <tr>\n",
       "      <th>330</th>\n",
       "      <td>0.070786</td>\n",
       "      <td>0.089471</td>\n",
       "      <td>-0.094590</td>\n",
       "      <td>0.032891</td>\n",
       "      <td>-0.002434</td>\n",
       "      <td>0.043171</td>\n",
       "      <td>0.042919</td>\n",
       "      <td>0.070739</td>\n",
       "      <td>-0.140479</td>\n",
       "      <td>-0.081115</td>\n",
       "      <td>...</td>\n",
       "      <td>-0.058568</td>\n",
       "      <td>-0.215066</td>\n",
       "      <td>0.042571</td>\n",
       "      <td>0.138493</td>\n",
       "      <td>0.127882</td>\n",
       "      <td>0.038323</td>\n",
       "      <td>-0.142864</td>\n",
       "      <td>-0.224343</td>\n",
       "      <td>0.042267</td>\n",
       "      <td>0.080659</td>\n",
       "    </tr>\n",
       "    <tr>\n",
       "      <th>344</th>\n",
       "      <td>0.273770</td>\n",
       "      <td>0.060962</td>\n",
       "      <td>0.042809</td>\n",
       "      <td>0.111510</td>\n",
       "      <td>-0.211537</td>\n",
       "      <td>0.026869</td>\n",
       "      <td>0.229101</td>\n",
       "      <td>0.164771</td>\n",
       "      <td>-0.017325</td>\n",
       "      <td>-0.047981</td>\n",
       "      <td>...</td>\n",
       "      <td>0.072181</td>\n",
       "      <td>-0.221300</td>\n",
       "      <td>0.016030</td>\n",
       "      <td>0.095175</td>\n",
       "      <td>0.146924</td>\n",
       "      <td>-0.028892</td>\n",
       "      <td>-0.149581</td>\n",
       "      <td>-0.179586</td>\n",
       "      <td>0.014032</td>\n",
       "      <td>-0.026649</td>\n",
       "    </tr>\n",
       "  </tbody>\n",
       "</table>\n",
       "<p>5 rows × 250 columns</p>\n",
       "</div>"
      ],
      "text/plain": [
       "          0         1         2         3         4         5         6    \\\n",
       "序号                                                                          \n",
       "165  0.226318  0.078761 -0.008609  0.084645 -0.121523  0.050315  0.143755   \n",
       "166  0.247366  0.092943 -0.021953  0.057754 -0.154601  0.039173  0.176503   \n",
       "167  0.212533  0.117018 -0.017932  0.084564 -0.130198 -0.003878  0.145923   \n",
       "330  0.070786  0.089471 -0.094590  0.032891 -0.002434  0.043171  0.042919   \n",
       "344  0.273770  0.060962  0.042809  0.111510 -0.211537  0.026869  0.229101   \n",
       "\n",
       "          7         8         9    ...       240       241       242  \\\n",
       "序号                                 ...                                 \n",
       "165  0.139454 -0.081216 -0.039331  ...  0.031926 -0.261344  0.038376   \n",
       "166  0.154752 -0.075900 -0.036187  ...  0.086806 -0.276183  0.034767   \n",
       "167  0.105760 -0.061761 -0.049846  ...  0.018148 -0.239046  0.017226   \n",
       "330  0.070739 -0.140479 -0.081115  ... -0.058568 -0.215066  0.042571   \n",
       "344  0.164771 -0.017325 -0.047981  ...  0.072181 -0.221300  0.016030   \n",
       "\n",
       "          243       244       245       246       247       248       249  \n",
       "序号                                                                         \n",
       "165  0.127057  0.249235  0.016564 -0.143402 -0.212742  0.049918 -0.094760  \n",
       "166  0.104448  0.249973  0.017978 -0.144689 -0.228626  0.014364 -0.124538  \n",
       "167  0.140527  0.253161  0.010808 -0.153000 -0.231836  0.051671 -0.057798  \n",
       "330  0.138493  0.127882  0.038323 -0.142864 -0.224343  0.042267  0.080659  \n",
       "344  0.095175  0.146924 -0.028892 -0.149581 -0.179586  0.014032 -0.026649  \n",
       "\n",
       "[5 rows x 250 columns]"
      ]
     },
     "execution_count": 686,
     "metadata": {},
     "output_type": "execute_result"
    }
   ],
   "source": [
    "%%time\n",
    "df_lda_w2v=model.docs_vec(documents_vec,wd_data)\n",
    "df_lda_w2v.head()"
   ]
  },
  {
   "cell_type": "code",
   "execution_count": 680,
   "id": "d146684d-f9fc-4318-b5de-34199efed804",
   "metadata": {},
   "outputs": [],
   "source": [
    "np.save(\"data\\\\documents_vec_先进制造.npy\",df_lda_w2v.values)"
   ]
  },
  {
   "cell_type": "code",
   "execution_count": 676,
   "id": "18c13ef7-eecb-4131-a1d0-c67d5cd4a974",
   "metadata": {},
   "outputs": [
    {
     "name": "stderr",
     "output_type": "stream",
     "text": [
      "C:\\Users\\Prime\\AppData\\Local\\Temp\\ipykernel_27584\\108166792.py:1: PerformanceWarning: \n",
      "your performance may suffer as PyTables will pickle object types that it cannot\n",
      "map directly to c-types [inferred_type->integer,key->axis0] [items->None]\n",
      "\n",
      "  df_lda_w2v.to_hdf(f'data\\\\documents_vec_{model.suffix}.h5', key='df', mode='w')\n",
      "C:\\Users\\Prime\\AppData\\Local\\Temp\\ipykernel_27584\\108166792.py:1: PerformanceWarning: \n",
      "your performance may suffer as PyTables will pickle object types that it cannot\n",
      "map directly to c-types [inferred_type->integer,key->block0_items] [items->None]\n",
      "\n",
      "  df_lda_w2v.to_hdf(f'data\\\\documents_vec_{model.suffix}.h5', key='df', mode='w')\n"
     ]
    }
   ],
   "source": [
    "df_lda_w2v.to_hdf(f'data\\\\documents_vec_{model.suffix}.h5', key='df', mode='w')"
   ]
  },
  {
   "cell_type": "code",
   "execution_count": 357,
   "id": "c1c24860-74d7-4021-a398-957710d26c16",
   "metadata": {},
   "outputs": [
    {
     "data": {
      "text/plain": [
       "(1196876, 250)"
      ]
     },
     "execution_count": 357,
     "metadata": {},
     "output_type": "execute_result"
    }
   ],
   "source": [
    "df_lda_w2v.shape"
   ]
  },
  {
   "cell_type": "code",
   "execution_count": 346,
   "id": "36af93f6-c0ca-4741-9a1c-b326c7a32a80",
   "metadata": {},
   "outputs": [
    {
     "data": {
      "text/plain": [
       "(1204008, 1202962)"
      ]
     },
     "execution_count": 346,
     "metadata": {},
     "output_type": "execute_result"
    }
   ],
   "source": [
    "len(patent_co.loc[patent_co.序号.isin(filter_ids)]),len(patent_co_1)"
   ]
  },
  {
   "cell_type": "code",
   "execution_count": 221,
   "id": "6b0d4fd6-5a52-4218-8265-b6a2cc158bc7",
   "metadata": {},
   "outputs": [
    {
     "data": {
      "text/plain": [
       "(7370, 7370)"
      ]
     },
     "execution_count": 221,
     "metadata": {},
     "output_type": "execute_result"
    }
   ],
   "source": [
    "group_ids_1 = patent_co_1.groupby('Co')['序号'].apply(lambda x: x.to_list()).reset_index()\n",
    "len(group_ids_1),len(co_data_1)"
   ]
  },
  {
   "cell_type": "code",
   "execution_count": 225,
   "id": "37bf30ad-2a89-466c-b8d7-599338a7fb21",
   "metadata": {},
   "outputs": [],
   "source": [
    "co_ids_vec = group_ids_1['序号'].apply(lambda x: df_lda_w2v.loc[df_lda_w2v.index.isin(x)].mean(axis=0))#,np.mean(np.vstack(vectors), axis=0)\n",
    "co_ids_vec.index = group_ids_1['Co']\n",
    "co_ids_vec=co_ids_vec[co_ids_vec.sum(axis=1) != 0] "
   ]
  },
  {
   "cell_type": "code",
   "execution_count": 227,
   "id": "46b73ec0-bd97-4e29-b1a7-0a5adcbe598f",
   "metadata": {},
   "outputs": [
    {
     "data": {
      "text/plain": [
       "(7370, 250)"
      ]
     },
     "execution_count": 227,
     "metadata": {},
     "output_type": "execute_result"
    }
   ],
   "source": [
    "co_ids_vec.to_parquet(f'data\\patent_co_vec_先进制造.parquet')#\n",
    "co_ids_vec.shape"
   ]
  },
  {
   "cell_type": "code",
   "execution_count": 74,
   "id": "7daba9e7-96cc-4f71-b321-a7a95c01b103",
   "metadata": {},
   "outputs": [
    {
     "data": {
      "text/plain": [
       "0.8795824828784314"
      ]
     },
     "execution_count": 74,
     "metadata": {},
     "output_type": "execute_result"
    }
   ],
   "source": [
    "arr=cosine_sim_arr(co_ids_vec)\n",
    "arr.mean()"
   ]
  },
  {
   "cell_type": "code",
   "execution_count": 5,
   "id": "75cf8b4a-7f8b-4b16-b842-7470fce5c73f",
   "metadata": {},
   "outputs": [],
   "source": [
    "import matplotlib.pyplot as plt"
   ]
  },
  {
   "cell_type": "code",
   "execution_count": 77,
   "id": "be4f511b-d673-46ef-a292-d143022c2023",
   "metadata": {},
   "outputs": [
    {
     "data": {
      "text/plain": [
       "[<matplotlib.lines.Line2D at 0x1e4ae3bfa90>]"
      ]
     },
     "execution_count": 77,
     "metadata": {},
     "output_type": "execute_result"
    },
    {
     "data": {
      "image/png": "[encoded data removed]",
      "text/plain": [
       "<Figure size 640x480 with 1 Axes>"
      ]
     },
     "metadata": {},
     "output_type": "display_data"
    }
   ],
   "source": [
    "plt.plot(np.sort(arr))"
   ]
  },
  {
   "cell_type": "code",
   "execution_count": 244,
   "id": "e0bc1d2f-b7a4-4cef-ad88-3355023a1e60",
   "metadata": {},
   "outputs": [
    {
     "data": {
      "text/plain": [
       "(1197859, 1)"
      ]
     },
     "execution_count": 244,
     "metadata": {},
     "output_type": "execute_result"
    }
   ],
   "source": [
    "df_lda_w2v_1 = pd.DataFrame(({'vec': [vec for vec in documents_vec]}, index=model.wd_data.index)\n",
    "df_lda_w2v_1  = df_lda_w2v_1[df_lda_w2v_1['vec'].apply(np.sum) != 0]\n",
    "df_lda_w2v_1['序号'] = wd_data.loc[df_lda_w2v_1.index,'序号']  # df_lda_w2v.merge(id_data[['序号']], left_index=True, right_index=True, how='left')\n",
    "df_lda_w2v_1.set_index('序号', inplace=True)\n",
    "df_lda_w2v_1.shape"
   ]
  },
  {
   "cell_type": "code",
   "execution_count": 246,
   "id": "37a7e269-a227-4fe2-99fb-f23ad719e7c0",
   "metadata": {},
   "outputs": [],
   "source": [
    "co_ids_vec = group_ids_1['序号'].apply(lambda x: df_lda_w2v_1.loc[df_lda_w2v_1.index.isin(x),'vec'].apply(pd.Series).mean(axis=0))"
   ]
  },
  {
   "cell_type": "code",
   "execution_count": 361,
   "id": "91c6b1cf-3d6e-41d8-bdc1-9c98d27f4c0a",
   "metadata": {},
   "outputs": [
    {
     "name": "stdout",
     "output_type": "stream",
     "text": [
      "2000 20 20 0.8410943360013077\n",
      "2001 36 36 0.8438048134920726\n",
      "2002 52 51 0.8358112164424675\n",
      "2003 68 67 0.8463742668463504\n",
      "2004 87 85 0.8418154024884938\n",
      "2005 108 105 0.8457371512802041\n",
      "2006 156 152 0.8431780898746148\n",
      "2007 228 223 0.8415669603593388\n",
      "2008 335 327 0.8444184256888474\n",
      "2009 453 450 0.8500302295190381\n",
      "2010 614 612 0.8541669108859301\n",
      "2011 820 818 0.8532844648311976\n",
      "2012 1040 1038 0.8522086440276844\n",
      "2013 1356 1354 0.8528266890283733\n",
      "2014 1748 1746 0.8514832728890968\n",
      "2015 2367 2366 0.8544592910140814\n",
      "2016 3109 3108 0.8596518346675455\n",
      "2017 3765 3765 0.8649895050464457\n",
      "2018 4289 4289 0.8680361436169658\n",
      "2019 4713 4713 0.8721550757551108\n",
      "2020 5082 5082 0.8758058559739526\n",
      "2021 6616 6616 0.874906331237934\n",
      "2022 7048 7048 0.8782115078094669\n",
      "2023 7362 7362 0.8794987219942204\n",
      "2024 7370 7370 0.8795824828784314\n"
     ]
    }
   ],
   "source": [
    "for i  in range(2000,2025):\n",
    "    group_ids_t=patent_co_1[patent_co_1['申请年']<=i].groupby('Co')['序号'].apply(lambda x: x.to_list()).reset_index()\n",
    "    co_ids_vec_t =group_ids_t['序号'].apply(lambda x: df_lda_w2v.loc[df_lda_w2v.index.isin(x)].mean(axis=0))\n",
    "    co_ids_vec_t.index = group_ids_t['Co']\n",
    "    co_ids_vec_t=co_ids_vec_t[co_ids_vec_t.sum(axis=1) != 0] \n",
    "    \n",
    "    print(i,len(group_ids_t),len(co_ids_vec_t), cosine_sim_arr(co_ids_vec_t).mean())\n",
    "    co_ids_vec_t.to_parquet(f'data\\patent_co_vec_先进制造_{i}.parquet')"
   ]
  },
  {
   "cell_type": "code",
   "execution_count": 15,
   "id": "fef060f6-237a-473e-90c9-7cff617b4e62",
   "metadata": {},
   "outputs": [
    {
     "data": {
      "text/plain": [
       "(7370, 250)"
      ]
     },
     "execution_count": 15,
     "metadata": {},
     "output_type": "execute_result"
    }
   ],
   "source": [
    "co_ids_vec=pd.read_parquet(f'data\\patent_co_vec_先进制造_{2024}.parquet')\n",
    "co_ids_vec.shape"
   ]
  },
  {
   "cell_type": "code",
   "execution_count": 23,
   "id": "d2d0b5d7-7865-41bd-99f0-a373eb182c59",
   "metadata": {},
   "outputs": [
    {
     "data": {
      "text/plain": [
       "[<matplotlib.lines.Line2D at 0x1e400062130>]"
      ]
     },
     "execution_count": 23,
     "metadata": {},
     "output_type": "execute_result"
    },
    {
     "data": {
      "image/png": "[encoded data removed]",
      "text/plain": [
       "<Figure size 640x480 with 1 Axes>"
      ]
     },
     "metadata": {},
     "output_type": "display_data"
    }
   ],
   "source": [
    "plt.plot(np.sort(cosine_sim_arr(topics_vec)))"
   ]
  },
  {
   "cell_type": "code",
   "execution_count": 36,
   "id": "69254792-2818-42be-ab87-83282992cddc",
   "metadata": {},
   "outputs": [
    {
     "data": {
      "text/plain": [
       "(7370, 50)"
      ]
     },
     "execution_count": 36,
     "metadata": {},
     "output_type": "execute_result"
    }
   ],
   "source": [
    "co_topics=co_ids_vec.values @ topics_vec.T\n",
    "co_topics.shape"
   ]
  },
  {
   "cell_type": "code",
   "execution_count": 82,
   "id": "8cd468fa-0e85-4faf-a713-21613ac85a96",
   "metadata": {},
   "outputs": [
    {
     "data": {
      "text/plain": [
       "count    368500.000000\n",
       "mean          3.352355\n",
       "std           0.455572\n",
       "min           2.064941\n",
       "25%           3.074439\n",
       "50%           3.271433\n",
       "75%           3.520770\n",
       "max           7.822679\n",
       "dtype: float64"
      ]
     },
     "execution_count": 82,
     "metadata": {},
     "output_type": "execute_result"
    }
   ],
   "source": [
    "pd.Series(co_topics.reshape(-1)).describe()"
   ]
  },
  {
   "cell_type": "code",
   "execution_count": 88,
   "id": "76a111f2-bdb4-4483-bbed-fb1c6474cf9a",
   "metadata": {},
   "outputs": [
    {
     "data": {
      "text/plain": [
       "(array([1.1000e+01, 8.9000e+01, 4.7200e+02, 1.6890e+03, 4.6000e+03,\n",
       "        9.1990e+03, 1.6515e+04, 2.8010e+04, 4.2445e+04, 5.4319e+04,\n",
       "        5.3843e+04, 4.3889e+04, 3.0910e+04, 2.0448e+04, 1.4043e+04,\n",
       "        1.0514e+04, 8.0450e+03, 6.4430e+03, 5.0670e+03, 3.9010e+03,\n",
       "        3.3100e+03, 2.5490e+03, 1.9720e+03, 1.5100e+03, 1.1690e+03,\n",
       "        8.9200e+02, 6.3000e+02, 4.8500e+02, 3.8400e+02, 2.7800e+02,\n",
       "        2.0000e+02, 1.2800e+02, 1.1400e+02, 8.6000e+01, 6.9000e+01,\n",
       "        6.5000e+01, 3.9000e+01, 3.7000e+01, 3.5000e+01, 2.6000e+01,\n",
       "        1.8000e+01, 1.7000e+01, 1.3000e+01, 7.0000e+00, 4.0000e+00,\n",
       "        5.0000e+00, 1.0000e+00, 4.0000e+00, 0.0000e+00, 1.0000e+00]),\n",
       " array([2.0649406 , 2.18009538, 2.29525015, 2.41040493, 2.5255597 ,\n",
       "        2.64071447, 2.75586925, 2.87102402, 2.9861788 , 3.10133357,\n",
       "        3.21648834, 3.33164312, 3.44679789, 3.56195267, 3.67710744,\n",
       "        3.79226221, 3.90741699, 4.02257176, 4.13772654, 4.25288131,\n",
       "        4.36803608, 4.48319086, 4.59834563, 4.71350041, 4.82865518,\n",
       "        4.94380995, 5.05896473, 5.1741195 , 5.28927428, 5.40442905,\n",
       "        5.51958382, 5.6347386 , 5.74989337, 5.86504815, 5.98020292,\n",
       "        6.09535769, 6.21051247, 6.32566724, 6.44082202, 6.55597679,\n",
       "        6.67113156, 6.78628634, 6.90144111, 7.01659588, 7.13175066,\n",
       "        7.24690543, 7.36206021, 7.47721498, 7.59236975, 7.70752453,\n",
       "        7.8226793 ]),\n",
       " <BarContainer object of 50 artists>)"
      ]
     },
     "execution_count": 88,
     "metadata": {},
     "output_type": "execute_result"
    },
    {
     "data": {
      "image/png": "[encoded data removed]",
      "text/plain": [
       "<Figure size 640x480 with 1 Axes>"
      ]
     },
     "metadata": {},
     "output_type": "display_data"
    }
   ],
   "source": [
    "plt.hist(co_topics.reshape(-1),bins=50)"
   ]
  },
  {
   "cell_type": "code",
   "execution_count": 38,
   "id": "44c4fba7-1f1c-4a65-8db0-12d6282d9044",
   "metadata": {},
   "outputs": [
    {
     "data": {
      "text/html": [
       "<div>\n",
       "<style scoped>\n",
       "    .dataframe tbody tr th:only-of-type {\n",
       "        vertical-align: middle;\n",
       "    }\n",
       "\n",
       "    .dataframe tbody tr th {\n",
       "        vertical-align: top;\n",
       "    }\n",
       "\n",
       "    .dataframe thead th {\n",
       "        text-align: right;\n",
       "    }\n",
       "</style>\n",
       "<table border=\"1\" class=\"dataframe\">\n",
       "  <thead>\n",
       "    <tr style=\"text-align: right;\">\n",
       "      <th></th>\n",
       "      <th>0</th>\n",
       "      <th>1</th>\n",
       "      <th>2</th>\n",
       "      <th>3</th>\n",
       "      <th>4</th>\n",
       "      <th>5</th>\n",
       "      <th>6</th>\n",
       "      <th>7</th>\n",
       "      <th>8</th>\n",
       "      <th>9</th>\n",
       "      <th>...</th>\n",
       "      <th>40</th>\n",
       "      <th>41</th>\n",
       "      <th>42</th>\n",
       "      <th>43</th>\n",
       "      <th>44</th>\n",
       "      <th>45</th>\n",
       "      <th>46</th>\n",
       "      <th>47</th>\n",
       "      <th>48</th>\n",
       "      <th>49</th>\n",
       "    </tr>\n",
       "    <tr>\n",
       "      <th>Co</th>\n",
       "      <th></th>\n",
       "      <th></th>\n",
       "      <th></th>\n",
       "      <th></th>\n",
       "      <th></th>\n",
       "      <th></th>\n",
       "      <th></th>\n",
       "      <th></th>\n",
       "      <th></th>\n",
       "      <th></th>\n",
       "      <th></th>\n",
       "      <th></th>\n",
       "      <th></th>\n",
       "      <th></th>\n",
       "      <th></th>\n",
       "      <th></th>\n",
       "      <th></th>\n",
       "      <th></th>\n",
       "      <th></th>\n",
       "      <th></th>\n",
       "      <th></th>\n",
       "    </tr>\n",
       "  </thead>\n",
       "  <tbody>\n",
       "    <tr>\n",
       "      <th>Dexta Robotics</th>\n",
       "      <td>0.739043</td>\n",
       "      <td>0.526914</td>\n",
       "      <td>0.746226</td>\n",
       "      <td>0.648772</td>\n",
       "      <td>0.700416</td>\n",
       "      <td>0.638908</td>\n",
       "      <td>0.577323</td>\n",
       "      <td>0.764137</td>\n",
       "      <td>0.588694</td>\n",
       "      <td>0.730758</td>\n",
       "      <td>...</td>\n",
       "      <td>0.511689</td>\n",
       "      <td>0.759001</td>\n",
       "      <td>0.634844</td>\n",
       "      <td>0.733174</td>\n",
       "      <td>0.795949</td>\n",
       "      <td>0.559348</td>\n",
       "      <td>0.564386</td>\n",
       "      <td>0.790428</td>\n",
       "      <td>0.757343</td>\n",
       "      <td>0.668402</td>\n",
       "    </tr>\n",
       "    <tr>\n",
       "      <th>TCL华星光电技术有限公司</th>\n",
       "      <td>0.695869</td>\n",
       "      <td>0.739076</td>\n",
       "      <td>0.738828</td>\n",
       "      <td>0.692714</td>\n",
       "      <td>0.849009</td>\n",
       "      <td>0.722517</td>\n",
       "      <td>0.709671</td>\n",
       "      <td>0.713045</td>\n",
       "      <td>0.680211</td>\n",
       "      <td>0.743885</td>\n",
       "      <td>...</td>\n",
       "      <td>0.695068</td>\n",
       "      <td>0.652561</td>\n",
       "      <td>0.814965</td>\n",
       "      <td>0.733867</td>\n",
       "      <td>0.696973</td>\n",
       "      <td>0.683842</td>\n",
       "      <td>0.675328</td>\n",
       "      <td>0.754451</td>\n",
       "      <td>0.717766</td>\n",
       "      <td>0.621930</td>\n",
       "    </tr>\n",
       "    <tr>\n",
       "      <th>TCL科技集团股份有限公司</th>\n",
       "      <td>0.703275</td>\n",
       "      <td>0.720896</td>\n",
       "      <td>0.710995</td>\n",
       "      <td>0.701465</td>\n",
       "      <td>0.837791</td>\n",
       "      <td>0.781507</td>\n",
       "      <td>0.759719</td>\n",
       "      <td>0.711789</td>\n",
       "      <td>0.788621</td>\n",
       "      <td>0.707181</td>\n",
       "      <td>...</td>\n",
       "      <td>0.773024</td>\n",
       "      <td>0.656050</td>\n",
       "      <td>0.826078</td>\n",
       "      <td>0.758151</td>\n",
       "      <td>0.681146</td>\n",
       "      <td>0.653901</td>\n",
       "      <td>0.684373</td>\n",
       "      <td>0.757966</td>\n",
       "      <td>0.664188</td>\n",
       "      <td>0.657162</td>\n",
       "    </tr>\n",
       "    <tr>\n",
       "      <th>一道新能源科技股份有限公司</th>\n",
       "      <td>0.675800</td>\n",
       "      <td>0.863493</td>\n",
       "      <td>0.665596</td>\n",
       "      <td>0.663891</td>\n",
       "      <td>0.793755</td>\n",
       "      <td>0.766248</td>\n",
       "      <td>0.820299</td>\n",
       "      <td>0.638908</td>\n",
       "      <td>0.694710</td>\n",
       "      <td>0.643554</td>\n",
       "      <td>...</td>\n",
       "      <td>0.782730</td>\n",
       "      <td>0.562666</td>\n",
       "      <td>0.803195</td>\n",
       "      <td>0.690564</td>\n",
       "      <td>0.611495</td>\n",
       "      <td>0.874698</td>\n",
       "      <td>0.755586</td>\n",
       "      <td>0.727479</td>\n",
       "      <td>0.584412</td>\n",
       "      <td>0.640316</td>\n",
       "    </tr>\n",
       "    <tr>\n",
       "      <th>七星电气股份有限公司</th>\n",
       "      <td>0.650250</td>\n",
       "      <td>0.917296</td>\n",
       "      <td>0.627181</td>\n",
       "      <td>0.598122</td>\n",
       "      <td>0.737906</td>\n",
       "      <td>0.743748</td>\n",
       "      <td>0.838272</td>\n",
       "      <td>0.580237</td>\n",
       "      <td>0.611189</td>\n",
       "      <td>0.619699</td>\n",
       "      <td>...</td>\n",
       "      <td>0.733328</td>\n",
       "      <td>0.511690</td>\n",
       "      <td>0.748424</td>\n",
       "      <td>0.661355</td>\n",
       "      <td>0.574008</td>\n",
       "      <td>0.930991</td>\n",
       "      <td>0.761210</td>\n",
       "      <td>0.701298</td>\n",
       "      <td>0.547456</td>\n",
       "      <td>0.595600</td>\n",
       "    </tr>\n",
       "    <tr>\n",
       "      <th>...</th>\n",
       "      <td>...</td>\n",
       "      <td>...</td>\n",
       "      <td>...</td>\n",
       "      <td>...</td>\n",
       "      <td>...</td>\n",
       "      <td>...</td>\n",
       "      <td>...</td>\n",
       "      <td>...</td>\n",
       "      <td>...</td>\n",
       "      <td>...</td>\n",
       "      <td>...</td>\n",
       "      <td>...</td>\n",
       "      <td>...</td>\n",
       "      <td>...</td>\n",
       "      <td>...</td>\n",
       "      <td>...</td>\n",
       "      <td>...</td>\n",
       "      <td>...</td>\n",
       "      <td>...</td>\n",
       "      <td>...</td>\n",
       "      <td>...</td>\n",
       "    </tr>\n",
       "    <tr>\n",
       "      <th>黑龙江省发现者机器人股份有限公司</th>\n",
       "      <td>0.644865</td>\n",
       "      <td>0.883346</td>\n",
       "      <td>0.624683</td>\n",
       "      <td>0.593116</td>\n",
       "      <td>0.724113</td>\n",
       "      <td>0.740904</td>\n",
       "      <td>0.823702</td>\n",
       "      <td>0.574001</td>\n",
       "      <td>0.604680</td>\n",
       "      <td>0.592326</td>\n",
       "      <td>...</td>\n",
       "      <td>0.721220</td>\n",
       "      <td>0.503658</td>\n",
       "      <td>0.732717</td>\n",
       "      <td>0.627790</td>\n",
       "      <td>0.556346</td>\n",
       "      <td>0.947253</td>\n",
       "      <td>0.778015</td>\n",
       "      <td>0.690445</td>\n",
       "      <td>0.528910</td>\n",
       "      <td>0.601221</td>\n",
       "    </tr>\n",
       "    <tr>\n",
       "      <th>鼎桥通信技术有限公司</th>\n",
       "      <td>0.717446</td>\n",
       "      <td>0.698844</td>\n",
       "      <td>0.760800</td>\n",
       "      <td>0.670770</td>\n",
       "      <td>0.783920</td>\n",
       "      <td>0.707748</td>\n",
       "      <td>0.686666</td>\n",
       "      <td>0.757351</td>\n",
       "      <td>0.626409</td>\n",
       "      <td>0.706046</td>\n",
       "      <td>...</td>\n",
       "      <td>0.623023</td>\n",
       "      <td>0.781164</td>\n",
       "      <td>0.708004</td>\n",
       "      <td>0.779060</td>\n",
       "      <td>0.832714</td>\n",
       "      <td>0.693009</td>\n",
       "      <td>0.661057</td>\n",
       "      <td>0.804143</td>\n",
       "      <td>0.714736</td>\n",
       "      <td>0.769840</td>\n",
       "    </tr>\n",
       "    <tr>\n",
       "      <th>龙微科技无锡有限公司</th>\n",
       "      <td>0.682853</td>\n",
       "      <td>0.869073</td>\n",
       "      <td>0.665417</td>\n",
       "      <td>0.671429</td>\n",
       "      <td>0.801297</td>\n",
       "      <td>0.781580</td>\n",
       "      <td>0.845082</td>\n",
       "      <td>0.628923</td>\n",
       "      <td>0.712162</td>\n",
       "      <td>0.663424</td>\n",
       "      <td>...</td>\n",
       "      <td>0.795193</td>\n",
       "      <td>0.552076</td>\n",
       "      <td>0.852214</td>\n",
       "      <td>0.708059</td>\n",
       "      <td>0.625534</td>\n",
       "      <td>0.845724</td>\n",
       "      <td>0.744749</td>\n",
       "      <td>0.733619</td>\n",
       "      <td>0.608678</td>\n",
       "      <td>0.631341</td>\n",
       "    </tr>\n",
       "    <tr>\n",
       "      <th>龙腾半导体股份有限公司</th>\n",
       "      <td>0.718856</td>\n",
       "      <td>0.749058</td>\n",
       "      <td>0.722494</td>\n",
       "      <td>0.687297</td>\n",
       "      <td>0.819513</td>\n",
       "      <td>0.762868</td>\n",
       "      <td>0.753632</td>\n",
       "      <td>0.671085</td>\n",
       "      <td>0.747717</td>\n",
       "      <td>0.814052</td>\n",
       "      <td>...</td>\n",
       "      <td>0.757523</td>\n",
       "      <td>0.589703</td>\n",
       "      <td>0.859128</td>\n",
       "      <td>0.761523</td>\n",
       "      <td>0.675879</td>\n",
       "      <td>0.672101</td>\n",
       "      <td>0.688953</td>\n",
       "      <td>0.728716</td>\n",
       "      <td>0.710424</td>\n",
       "      <td>0.631067</td>\n",
       "    </tr>\n",
       "    <tr>\n",
       "      <th>龙芯中科技术股份有限公司</th>\n",
       "      <td>0.771624</td>\n",
       "      <td>0.527413</td>\n",
       "      <td>0.802938</td>\n",
       "      <td>0.714072</td>\n",
       "      <td>0.748963</td>\n",
       "      <td>0.645200</td>\n",
       "      <td>0.582361</td>\n",
       "      <td>0.857762</td>\n",
       "      <td>0.627344</td>\n",
       "      <td>0.724172</td>\n",
       "      <td>...</td>\n",
       "      <td>0.548514</td>\n",
       "      <td>0.846708</td>\n",
       "      <td>0.643748</td>\n",
       "      <td>0.771142</td>\n",
       "      <td>0.783715</td>\n",
       "      <td>0.537683</td>\n",
       "      <td>0.586676</td>\n",
       "      <td>0.826932</td>\n",
       "      <td>0.784177</td>\n",
       "      <td>0.700689</td>\n",
       "    </tr>\n",
       "  </tbody>\n",
       "</table>\n",
       "<p>7370 rows × 50 columns</p>\n",
       "</div>"
      ],
      "text/plain": [
       "                        0         1         2         3         4         5   \\\n",
       "Co                                                                             \n",
       "Dexta Robotics    0.739043  0.526914  0.746226  0.648772  0.700416  0.638908   \n",
       "TCL华星光电技术有限公司     0.695869  0.739076  0.738828  0.692714  0.849009  0.722517   \n",
       "TCL科技集团股份有限公司     0.703275  0.720896  0.710995  0.701465  0.837791  0.781507   \n",
       "一道新能源科技股份有限公司     0.675800  0.863493  0.665596  0.663891  0.793755  0.766248   \n",
       "七星电气股份有限公司        0.650250  0.917296  0.627181  0.598122  0.737906  0.743748   \n",
       "...                    ...       ...       ...       ...       ...       ...   \n",
       "黑龙江省发现者机器人股份有限公司  0.644865  0.883346  0.624683  0.593116  0.724113  0.740904   \n",
       "鼎桥通信技术有限公司        0.717446  0.698844  0.760800  0.670770  0.783920  0.707748   \n",
       "龙微科技无锡有限公司        0.682853  0.869073  0.665417  0.671429  0.801297  0.781580   \n",
       "龙腾半导体股份有限公司       0.718856  0.749058  0.722494  0.687297  0.819513  0.762868   \n",
       "龙芯中科技术股份有限公司      0.771624  0.527413  0.802938  0.714072  0.748963  0.645200   \n",
       "\n",
       "                        6         7         8         9   ...        40  \\\n",
       "Co                                                        ...             \n",
       "Dexta Robotics    0.577323  0.764137  0.588694  0.730758  ...  0.511689   \n",
       "TCL华星光电技术有限公司     0.709671  0.713045  0.680211  0.743885  ...  0.695068   \n",
       "TCL科技集团股份有限公司     0.759719  0.711789  0.788621  0.707181  ...  0.773024   \n",
       "一道新能源科技股份有限公司     0.820299  0.638908  0.694710  0.643554  ...  0.782730   \n",
       "七星电气股份有限公司        0.838272  0.580237  0.611189  0.619699  ...  0.733328   \n",
       "...                    ...       ...       ...       ...  ...       ...   \n",
       "黑龙江省发现者机器人股份有限公司  0.823702  0.574001  0.604680  0.592326  ...  0.721220   \n",
       "鼎桥通信技术有限公司        0.686666  0.757351  0.626409  0.706046  ...  0.623023   \n",
       "龙微科技无锡有限公司        0.845082  0.628923  0.712162  0.663424  ...  0.795193   \n",
       "龙腾半导体股份有限公司       0.753632  0.671085  0.747717  0.814052  ...  0.757523   \n",
       "龙芯中科技术股份有限公司      0.582361  0.857762  0.627344  0.724172  ...  0.548514   \n",
       "\n",
       "                        41        42        43        44        45        46  \\\n",
       "Co                                                                             \n",
       "Dexta Robotics    0.759001  0.634844  0.733174  0.795949  0.559348  0.564386   \n",
       "TCL华星光电技术有限公司     0.652561  0.814965  0.733867  0.696973  0.683842  0.675328   \n",
       "TCL科技集团股份有限公司     0.656050  0.826078  0.758151  0.681146  0.653901  0.684373   \n",
       "一道新能源科技股份有限公司     0.562666  0.803195  0.690564  0.611495  0.874698  0.755586   \n",
       "七星电气股份有限公司        0.511690  0.748424  0.661355  0.574008  0.930991  0.761210   \n",
       "...                    ...       ...       ...       ...       ...       ...   \n",
       "黑龙江省发现者机器人股份有限公司  0.503658  0.732717  0.627790  0.556346  0.947253  0.778015   \n",
       "鼎桥通信技术有限公司        0.781164  0.708004  0.779060  0.832714  0.693009  0.661057   \n",
       "龙微科技无锡有限公司        0.552076  0.852214  0.708059  0.625534  0.845724  0.744749   \n",
       "龙腾半导体股份有限公司       0.589703  0.859128  0.761523  0.675879  0.672101  0.688953   \n",
       "龙芯中科技术股份有限公司      0.846708  0.643748  0.771142  0.783715  0.537683  0.586676   \n",
       "\n",
       "                        47        48        49  \n",
       "Co                                              \n",
       "Dexta Robotics    0.790428  0.757343  0.668402  \n",
       "TCL华星光电技术有限公司     0.754451  0.717766  0.621930  \n",
       "TCL科技集团股份有限公司     0.757966  0.664188  0.657162  \n",
       "一道新能源科技股份有限公司     0.727479  0.584412  0.640316  \n",
       "七星电气股份有限公司        0.701298  0.547456  0.595600  \n",
       "...                    ...       ...       ...  \n",
       "黑龙江省发现者机器人股份有限公司  0.690445  0.528910  0.601221  \n",
       "鼎桥通信技术有限公司        0.804143  0.714736  0.769840  \n",
       "龙微科技无锡有限公司        0.733619  0.608678  0.631341  \n",
       "龙腾半导体股份有限公司       0.728716  0.710424  0.631067  \n",
       "龙芯中科技术股份有限公司      0.826932  0.784177  0.700689  \n",
       "\n",
       "[7370 rows x 50 columns]"
      ]
     },
     "execution_count": 38,
     "metadata": {},
     "output_type": "execute_result"
    }
   ],
   "source": [
    "df_co_topics=pd.DataFrame(cosine_similarity(co_ids_vec.values, topics_vec),index=co_ids_vec.index)\n",
    "df_co_topics #表示两个向量方向的相似性"
   ]
  },
  {
   "cell_type": "code",
   "execution_count": 103,
   "id": "b14e95e2-5830-4156-9233-121f238d1f1b",
   "metadata": {},
   "outputs": [
    {
     "data": {
      "text/plain": [
       "(-0.5, 7369.5, 49.5, -0.5)"
      ]
     },
     "execution_count": 103,
     "metadata": {},
     "output_type": "execute_result"
    },
    {
     "data": {
      "image/png": "[encoded data removed]",
      "text/plain": [
       "<Figure size 5120x3840 with 1 Axes>"
      ]
     },
     "metadata": {},
     "output_type": "display_data"
    }
   ],
   "source": [
    "plt.figure(dpi=800) \n",
    "plt.imshow(df_co_topics.T, cmap='gray', interpolation='nearest' )\n",
    "plt.axis('off')\n",
    "#plt.colorbar()"
   ]
  },
  {
   "cell_type": "code",
   "execution_count": 54,
   "id": "30d719a2-840a-40ef-b17b-9be16a09e6fc",
   "metadata": {},
   "outputs": [
    {
     "data": {
      "text/plain": [
       "0     0.699002\n",
       "1     0.760923\n",
       "2     0.690696\n",
       "3     0.658679\n",
       "4     0.771884\n",
       "5     0.735717\n",
       "6     0.755048\n",
       "7     0.668616\n",
       "8     0.676886\n",
       "9     0.681841\n",
       "10    0.716701\n",
       "11    0.661273\n",
       "12    0.623235\n",
       "13    0.748566\n",
       "14    0.673517\n",
       "15    0.684834\n",
       "16    0.693977\n",
       "17    0.769681\n",
       "18    0.689150\n",
       "19    0.766400\n",
       "20    0.748283\n",
       "21    0.673780\n",
       "22    0.802683\n",
       "23    0.728674\n",
       "24    0.601050\n",
       "25    0.747167\n",
       "26    0.732719\n",
       "27    0.717275\n",
       "28    0.708394\n",
       "29    0.730279\n",
       "30    0.717960\n",
       "31    0.697542\n",
       "32    0.699134\n",
       "33    0.600705\n",
       "34    0.649368\n",
       "35    0.824142\n",
       "36    0.689896\n",
       "37    0.592837\n",
       "38    0.637816\n",
       "39    0.821049\n",
       "40    0.720517\n",
       "41    0.611176\n",
       "42    0.755615\n",
       "43    0.709081\n",
       "44    0.655316\n",
       "45    0.752467\n",
       "46    0.703830\n",
       "47    0.741850\n",
       "48    0.646452\n",
       "49    0.634977\n",
       "dtype: float64"
      ]
     },
     "execution_count": 54,
     "metadata": {},
     "output_type": "execute_result"
    }
   ],
   "source": [
    "df_co_topics.mean()"
   ]
  },
  {
   "cell_type": "code",
   "execution_count": 71,
   "id": "a33befd0-4c7e-4974-a784-3f99c25d2c37",
   "metadata": {},
   "outputs": [
    {
     "data": {
      "text/plain": [
       "[<matplotlib.lines.Line2D at 0x1e4ac294dc0>]"
      ]
     },
     "execution_count": 71,
     "metadata": {},
     "output_type": "execute_result"
    },
    {
     "data": {
      "image/png": "[encoded data removed]",
      "text/plain": [
       "<Figure size 640x480 with 1 Axes>"
      ]
     },
     "metadata": {},
     "output_type": "display_data"
    }
   ],
   "source": [
    "plt.plot(np.sort(df_co_topics.values.reshape(-1)))"
   ]
  },
  {
   "cell_type": "code",
   "execution_count": 52,
   "id": "d0821871-8ab3-4e74-98e5-6605edb50407",
   "metadata": {},
   "outputs": [
    {
     "data": {
      "text/plain": [
       "[<matplotlib.lines.Line2D at 0x1e45724d880>]"
      ]
     },
     "execution_count": 52,
     "metadata": {},
     "output_type": "execute_result"
    },
    {
     "data": {
      "image/png": "[encoded data removed]",
      "text/plain": [
       "<Figure size 640x480 with 1 Axes>"
      ]
     },
     "metadata": {},
     "output_type": "display_data"
    }
   ],
   "source": [
    "plt.plot(np.sort(df_co_topics.mean(axis=1)))#与 cosine_sim_arr(co_ids_vec)一样"
   ]
  },
  {
   "cell_type": "code",
   "execution_count": 364,
   "id": "50f86165-b76d-4681-8385-437bf735da90",
   "metadata": {},
   "outputs": [
    {
     "data": {
      "text/plain": [
       "[(5, 0.085509665),\n",
       " (6, 0.13498613),\n",
       " (18, 0.07216769),\n",
       " (20, 0.07651464),\n",
       " (28, 0.13089918),\n",
       " (30, 0.048437063),\n",
       " (39, 0.32319474)]"
      ]
     },
     "execution_count": 364,
     "metadata": {},
     "output_type": "execute_result"
    }
   ],
   "source": [
    "model.document_topics[5]"
   ]
  },
  {
   "cell_type": "code",
   "execution_count": 216,
   "id": "a1f2b80d-e1a0-440c-a6b0-22acb88e96e6",
   "metadata": {},
   "outputs": [
    {
     "data": {
      "text/plain": [
       "Co                                              珠海格力电器股份有限公司\n",
       "序号                                                       166\n",
       "标题 (中文)                                              电风扇摇头装置\n",
       "摘要 (中文)    一种电风扇摇头装置，其特征在于由两个同轴安 装的上传动盘和下传动盘组成，上传动盘的下表面设 ...\n",
       "申请人                                             珠海格力电器股份有限公司\n",
       "申请日                                               1994-08-31\n",
       "申请号                                             CN94219340.7\n",
       "公开（公告）号                                           CN2202815Y\n",
       "table                                           patent202210\n",
       "Name: 5, dtype: object"
      ]
     },
     "execution_count": 216,
     "metadata": {},
     "output_type": "execute_result"
    }
   ],
   "source": [
    "patent_co.iloc[5]"
   ]
  },
  {
   "cell_type": "code",
   "execution_count": 207,
   "id": "ded336c8-88a9-403b-899e-9f6c881119f0",
   "metadata": {
    "scrolled": true
   },
   "outputs": [
    {
     "data": {
      "text/plain": [
       "array([ 0.2030736 ,  0.0922246 , -0.03551455,  0.10449886, -0.12880572,\n",
       "        0.0290949 ,  0.1956326 ,  0.0983133 , -0.04207043, -0.06074722,\n",
       "        0.15017703,  0.02804194, -0.12025003, -0.01374512,  0.21799757,\n",
       "       -0.03157167, -0.04001462,  0.12498175,  0.24708626,  0.25752587,\n",
       "       -0.04233388, -0.18551781,  0.18448228, -0.09561135, -0.04206844,\n",
       "       -0.07635177, -0.02213457,  0.16615873, -0.11150866, -0.11551209,\n",
       "       -0.00463161,  0.22030113, -0.3450857 ,  0.00718615,  0.04204296,\n",
       "       -0.09287149, -0.33693223, -0.01812083, -0.01853391,  0.00887385,\n",
       "       -0.04125123,  0.36315763, -0.18440225, -0.09419965,  0.11346693,\n",
       "       -0.03405893,  0.1023463 ,  0.01687693,  0.15789835,  0.09382511,\n",
       "        0.2168681 ,  0.11375513,  0.18099242, -0.03308989,  0.03784247,\n",
       "        0.02288984, -0.02367583,  0.18434398, -0.01303859, -0.29882043,\n",
       "        0.03553789, -0.3125755 ,  0.01978779,  0.13846349,  0.03150993,\n",
       "        0.12231202,  0.10626524,  0.05516364,  0.1138864 ,  0.08923758,\n",
       "        0.1072093 , -0.12567354, -0.11515804, -0.04992928,  0.19684407,\n",
       "       -0.05517974, -0.0181318 , -0.04846059, -0.00293157,  0.00360786,\n",
       "       -0.16693094, -0.04813389, -0.13963882, -0.07268555, -0.10045317,\n",
       "       -0.07936153, -0.01867081, -0.20801274, -0.12735244, -0.0441258 ,\n",
       "       -0.05877807, -0.15979836, -0.20939514, -0.07177992,  0.03804093,\n",
       "       -0.11209774,  0.07692498,  0.18686059,  0.03889308,  0.24702855,\n",
       "       -0.05268219,  0.27869659, -0.04776653, -0.05836127, -0.1562458 ,\n",
       "        0.12043268,  0.14286087, -0.15267013,  0.0554989 , -0.22340783,\n",
       "       -0.26665037, -0.04787398, -0.04682718,  0.03258021, -0.1271714 ,\n",
       "        0.2487804 , -0.04308305, -0.14361579,  0.00712725, -0.09442217,\n",
       "        0.24179393, -0.0338035 , -0.04747262, -0.03101953, -0.33473447,\n",
       "       -0.16665635, -0.08669521,  0.06084555, -0.11426113,  0.01963504,\n",
       "        0.02193686, -0.03398762,  0.21815994,  0.07612664, -0.03205487,\n",
       "        0.14146711, -0.08846669,  0.00350692, -0.14585601, -0.22259458,\n",
       "       -0.10078668, -0.0463336 ,  0.05624869, -0.40131554,  0.0258267 ,\n",
       "       -0.00989775,  0.07215432,  0.0302083 , -0.00225026,  0.06274015,\n",
       "        0.03016389, -0.15760995, -0.00920197,  0.16762826, -0.20109209,\n",
       "       -0.1072726 ,  0.09651298,  0.03134695, -0.04426009,  0.24128518,\n",
       "        0.06246386,  0.04373071, -0.06164488, -0.23199033,  0.15389982,\n",
       "        0.16204292, -0.03975496,  0.21592113,  0.02230583,  0.05855725,\n",
       "        0.16094561,  0.12898217,  0.08263964, -0.10558334,  0.08949808,\n",
       "       -0.04380556, -0.05337225, -0.04989617, -0.1359114 , -0.15521929,\n",
       "       -0.01362605,  0.03362347, -0.07443852, -0.12802332,  0.11010457,\n",
       "       -0.03610389, -0.15983746,  0.08443475,  0.02043997,  0.07990023,\n",
       "        0.10646875, -0.22508343,  0.09159549, -0.07736491,  0.36249297,\n",
       "       -0.11522326, -0.01216142,  0.03492818, -0.131091  ,  0.19213731,\n",
       "       -0.05518988,  0.07622213,  0.12425078, -0.15579162,  0.16738042,\n",
       "        0.00341441, -0.06911544, -0.08075912,  0.07639812,  0.15708423,\n",
       "        0.04639169,  0.31618662, -0.24213908, -0.08831862, -0.00238076,\n",
       "       -0.2307159 , -0.1955539 , -0.1897459 , -0.03286665,  0.24858027,\n",
       "       -0.03500384,  0.13929947,  0.04342354, -0.0188433 ,  0.24748427,\n",
       "       -0.01879859,  0.3453143 , -0.01717364,  0.00144801, -0.1633612 ,\n",
       "       -0.04330805, -0.15501254, -0.05326304,  0.21567823,  0.06725079,\n",
       "        0.05125724,  0.29937754,  0.27462669,  0.12562652, -0.06543409,\n",
       "        0.05967733, -0.31697326,  0.03184707,  0.14894213,  0.23734041,\n",
       "        0.03788304, -0.1405821 , -0.19133257,  0.04118863, -0.13249789])"
      ]
     },
     "execution_count": 207,
     "metadata": {},
     "output_type": "execute_result"
    }
   ],
   "source": [
    "doc=patent_co.iloc[5]['标题 (中文)']+patent_co.iloc[5]['摘要 (中文)']\n",
    "processed_doc=[w.strip().lower() for w in jieba.lcut(clean_doc(doc))\n",
    "                             if not (len(w) < model.args.get('len_below', 2) or w.isdigit() \n",
    "                                     or re.match('\\d+\\.\\d+$', w) or w in  model.stop_words)]\n",
    "\n",
    "bow=model.dictionary.doc2bow(processed_doc)\n",
    "topic_distribution=model.lda.get_document_topics(bow)\n",
    "\n",
    "topic_n = sorted(topic_distribution, key=lambda x: x[1], reverse=True)[: model.args.get('top_n_topics', None)]\n",
    "distribute = np.array(topic_n)[:, 1]\n",
    "mask = distribute >=  model.args.get('weight_threshold_topics', 0.0)  # 主题权重大于阈值\n",
    "\n",
    "v_topics = np.array([topics_vec[t[0]] for t in topic_n])[mask]  # 主题向量\n",
    "\n",
    "w_distribute = (distribute[mask] / np.sum(distribute[mask])).reshape(-1, 1)  # 将归一化结果作为每个技术主题的权重\n",
    "v_doc = (w_distribute * v_topics).sum(axis=0) \n",
    "v_doc"
   ]
  },
  {
   "cell_type": "code",
   "execution_count": 208,
   "id": "ddfbb704-788b-4175-bd6d-74dae84ada73",
   "metadata": {},
   "outputs": [
    {
     "data": {
      "text/plain": [
       "array([0.99999999])"
      ]
     },
     "execution_count": 208,
     "metadata": {},
     "output_type": "execute_result"
    }
   ],
   "source": [
    "scores =cosine_similarity(documents_vec,v_doc.reshape(1, -1))\n",
    "max_index = np.argmax(scores)\n",
    "scores[max_index]"
   ]
  },
  {
   "cell_type": "code",
   "execution_count": null,
   "id": "0f43fe27-df7e-4e03-b22c-e3e4abae9a35",
   "metadata": {},
   "outputs": [],
   "source": [
    "scores =cosine_similarity(documents_vec,v_doc.reshape(1, -1))\n",
    "pd.Series(scores,index=self.sentences.index,name='score')"
   ]
  },
  {
   "cell_type": "code",
   "execution_count": 413,
   "id": "edb195ad-dc24-4675-9064-86f7417b6275",
   "metadata": {},
   "outputs": [
    {
     "data": {
      "text/plain": [
       "(4          [变幅, 摇头, 电风扇, 一种, 变幅, 摇头, 电风扇, 包括, 扇体, 扇体, 变幅,...\n",
       " 5          [电风扇, 摇头, 装置, 一种, 电风扇, 摇头, 装置, 两个, 同轴, 传动, 传动,...\n",
       " 6          [变幅, 摇摆, 电风扇, 一种, 变幅, 摇摆, 电风扇, 包括, 扇体, 扇体, 变幅,...\n",
       " 15               [彩色, 广播电视, 接收机, 小门, 打开, 状态, __, 小门, 打开, 状态]\n",
       " 18         [一种, 不开, 可拆卸, 喇叭, 窗盖, 电视, 接收机, 机壳, 一种, 不开, 可拆卸...\n",
       "                                  ...                        \n",
       " 1889957    [机器人, 标定, 方法, 系统, 机器人, 涉及, 机器人, 标定, 具体, 涉及, 一种...\n",
       " 1889958    [一种, 多普勒, 激光, 测风, 雷达, 径向, 风速, 标定, 方法, 旨在, 提供, ...\n",
       " 1889959    [一种, 晶圆, 激光, 开槽, 装置, 开槽, 方法, 旨在, 提供, 一种, 实现, 双...\n",
       " 1889960    [一种, 微型, 塑料件, 激光, 焊接, 系统, 焊接, 方法, 提供, 一种, 微型, ...\n",
       " 1889961    [可拆卸, 电池, 模块, 公开, 可拆卸, 电池, 模块, 涉及, 电池, 模块, 包括,...\n",
       " Name: 词语, Length: 1196876, dtype: object,\n",
       " Index([      4,       5,       6,      15,      18,      26,      28,      34,\n",
       "             57,      58,\n",
       "        ...\n",
       "        1889945, 1889950, 1889951, 1889953, 1889954, 1889957, 1889958, 1889959,\n",
       "        1889960, 1889961],\n",
       "       dtype='int64', length=1196876))"
      ]
     },
     "execution_count": 413,
     "metadata": {},
     "output_type": "execute_result"
    }
   ],
   "source": [
    "model.sentences,model.sentences.index"
   ]
  },
  {
   "cell_type": "code",
   "execution_count": 433,
   "id": "62d7c53f-b65e-4d15-8f41-d3875c015740",
   "metadata": {},
   "outputs": [
    {
     "data": {
      "text/plain": [
       "([(8, 0.63835466), (15, 0.03376332), (26, 0.092197396), (39, 0.11488729)],\n",
       " [(40, 1),\n",
       "  (87, 1),\n",
       "  (102, 1),\n",
       "  (110, 1),\n",
       "  (152, 1),\n",
       "  (165, 1),\n",
       "  (202, 2),\n",
       "  (211, 1),\n",
       "  (218, 4),\n",
       "  (233, 1),\n",
       "  (380, 1),\n",
       "  (399, 1),\n",
       "  (429, 1),\n",
       "  (679, 1),\n",
       "  (692, 1),\n",
       "  (809, 1),\n",
       "  (814, 2),\n",
       "  (850, 1),\n",
       "  (1240, 1),\n",
       "  (1723, 1),\n",
       "  (1736, 1),\n",
       "  (1774, 1),\n",
       "  (1781, 2),\n",
       "  (1807, 1),\n",
       "  (1854, 1),\n",
       "  (2509, 1),\n",
       "  (4822, 1),\n",
       "  (5592, 1),\n",
       "  (6125, 1),\n",
       "  (7088, 2),\n",
       "  (7389, 1),\n",
       "  (7390, 1),\n",
       "  (7391, 1),\n",
       "  (7392, 1),\n",
       "  (7393, 1),\n",
       "  (7394, 1),\n",
       "  (7395, 1),\n",
       "  (7396, 3)],\n",
       " ['铁基非',\n",
       "  '晶软',\n",
       "  '磁合金',\n",
       "  '属于',\n",
       "  '功能',\n",
       "  '材料',\n",
       "  '磁合金',\n",
       "  '制备',\n",
       "  '领域',\n",
       "  '特别',\n",
       "  '适合',\n",
       "  '制备',\n",
       "  '硼类',\n",
       "  '中高',\n",
       "  '饱和',\n",
       "  '磁感应强度',\n",
       "  '矩形',\n",
       "  '磁导率',\n",
       "  '综合性',\n",
       "  '新型',\n",
       "  '铁基非',\n",
       "  '软磁',\n",
       "  '合金材料',\n",
       "  '材料',\n",
       "  '具体',\n",
       "  '重量',\n",
       "  'fe',\n",
       "  'co',\n",
       "  'si',\n",
       "  '采用',\n",
       "  '铁基非',\n",
       "  '软磁',\n",
       "  '合金材料',\n",
       "  '比较',\n",
       "  '具有',\n",
       "  '成份',\n",
       "  '设计',\n",
       "  '简单',\n",
       "  '经济',\n",
       "  '材料',\n",
       "  '综合',\n",
       "  '磁性',\n",
       "  '机械性能',\n",
       "  '加工性',\n",
       "  '材料',\n",
       "  '使用',\n",
       "  '范围广',\n",
       "  '使用',\n",
       "  '成本低',\n",
       "  '特点',\n",
       "  '性能'])"
      ]
     },
     "execution_count": 433,
     "metadata": {},
     "output_type": "execute_result"
    }
   ],
   "source": [
    "model.document_topics[888],model.corpus[888],model.sentences.iloc[888]"
   ]
  },
  {
   "cell_type": "code",
   "execution_count": 437,
   "id": "455c2a60-9342-4d81-97d4-3d4d0356f16b",
   "metadata": {},
   "outputs": [
    {
     "data": {
      "text/plain": [
       "2053"
      ]
     },
     "execution_count": 437,
     "metadata": {},
     "output_type": "execute_result"
    }
   ],
   "source": [
    "model.sentences.index[888]"
   ]
  },
  {
   "cell_type": "code",
   "execution_count": 419,
   "id": "2720f878-33dc-46da-b96a-29f361956ab2",
   "metadata": {},
   "outputs": [],
   "source": [
    "jieba.load_userdict('data\\\\专利分词词库.txt') "
   ]
  },
  {
   "cell_type": "code",
   "execution_count": 440,
   "id": "bb1baa4d-598d-4d9b-b08b-75ec0c732938",
   "metadata": {},
   "outputs": [
    {
     "data": {
      "text/plain": [
       "'铁基非晶软磁合金本发明属于功能材料中软磁合金的制备领域。特别适合制备铁钴硅硼类中高饱和磁感应强度、高矩形比、高磁导率等综合性能好的新型铁基非晶软磁合金材料。该材料的具体化学成分为(重量％)：Fe：81～86％；Co：7-12％；Si：1-3％；B：3～5％。采用本发明铁基非晶软磁合金材料与现有技术相比较，具有成份设计简单、经济，材料综合磁性能和机械性能好，而且可加工性好的。该材料同时还有使用范围广、使用成本低等特点，其性能对比见实施例表。'"
      ]
     },
     "execution_count": 440,
     "metadata": {},
     "output_type": "execute_result"
    }
   ],
   "source": [
    "doc=patent_co.loc[2053]['标题 (中文)']+patent_co.loc[2053]['摘要 (中文)']\n",
    "doc"
   ]
  },
  {
   "cell_type": "code",
   "execution_count": 500,
   "id": "6624a085-d400-4d1d-87d0-b3c0b3b11087",
   "metadata": {},
   "outputs": [],
   "source": [
    "vec=model.topic_vec(doc,topics_vec)\n",
    "scores =cosine_similarity(documents_vec,vec.reshape(1, -1))\n",
    "scores_map= pd.DataFrame(scores,index=model.sentences.index,columns=['score'])"
   ]
  },
  {
   "cell_type": "code",
   "execution_count": 501,
   "id": "f23d696b-5e8d-458b-a5f2-a72a4c9b898b",
   "metadata": {},
   "outputs": [
    {
     "data": {
      "text/html": [
       "<div>\n",
       "<style scoped>\n",
       "    .dataframe tbody tr th:only-of-type {\n",
       "        vertical-align: middle;\n",
       "    }\n",
       "\n",
       "    .dataframe tbody tr th {\n",
       "        vertical-align: top;\n",
       "    }\n",
       "\n",
       "    .dataframe thead th {\n",
       "        text-align: right;\n",
       "    }\n",
       "</style>\n",
       "<table border=\"1\" class=\"dataframe\">\n",
       "  <thead>\n",
       "    <tr style=\"text-align: right;\">\n",
       "      <th></th>\n",
       "      <th>score</th>\n",
       "    </tr>\n",
       "    <tr>\n",
       "      <th>序号</th>\n",
       "      <th></th>\n",
       "    </tr>\n",
       "  </thead>\n",
       "  <tbody>\n",
       "    <tr>\n",
       "      <th>9580</th>\n",
       "      <td>1.000000</td>\n",
       "    </tr>\n",
       "    <tr>\n",
       "      <th>9581</th>\n",
       "      <td>0.999168</td>\n",
       "    </tr>\n",
       "    <tr>\n",
       "      <th>438430</th>\n",
       "      <td>0.998177</td>\n",
       "    </tr>\n",
       "    <tr>\n",
       "      <th>548002</th>\n",
       "      <td>0.997885</td>\n",
       "    </tr>\n",
       "    <tr>\n",
       "      <th>548060</th>\n",
       "      <td>0.997881</td>\n",
       "    </tr>\n",
       "    <tr>\n",
       "      <th>...</th>\n",
       "      <td>...</td>\n",
       "    </tr>\n",
       "    <tr>\n",
       "      <th>2243902</th>\n",
       "      <td>0.506801</td>\n",
       "    </tr>\n",
       "    <tr>\n",
       "      <th>910987</th>\n",
       "      <td>0.506801</td>\n",
       "    </tr>\n",
       "    <tr>\n",
       "      <th>1179887</th>\n",
       "      <td>0.506801</td>\n",
       "    </tr>\n",
       "    <tr>\n",
       "      <th>2072311</th>\n",
       "      <td>0.506801</td>\n",
       "    </tr>\n",
       "    <tr>\n",
       "      <th>2718082</th>\n",
       "      <td>0.506801</td>\n",
       "    </tr>\n",
       "  </tbody>\n",
       "</table>\n",
       "<p>1196876 rows × 1 columns</p>\n",
       "</div>"
      ],
      "text/plain": [
       "            score\n",
       "序号               \n",
       "9580     1.000000\n",
       "9581     0.999168\n",
       "438430   0.998177\n",
       "548002   0.997885\n",
       "548060   0.997881\n",
       "...           ...\n",
       "2243902  0.506801\n",
       "910987   0.506801\n",
       "1179887  0.506801\n",
       "2072311  0.506801\n",
       "2718082  0.506801\n",
       "\n",
       "[1196876 rows x 1 columns]"
      ]
     },
     "execution_count": 501,
     "metadata": {},
     "output_type": "execute_result"
    }
   ],
   "source": [
    "scores_map=scores_map.join(wd_data['序号']).set_index('序号')\n",
    "scores_map.sort_values(by='score', ascending=False)"
   ]
  },
  {
   "cell_type": "code",
   "execution_count": 533,
   "id": "4106cf33-717d-4e21-9f11-a900f179ea94",
   "metadata": {},
   "outputs": [
    {
     "data": {
      "text/plain": [
       "array([0.99328905])"
      ]
     },
     "execution_count": 533,
     "metadata": {},
     "output_type": "execute_result"
    }
   ],
   "source": [
    "doc1='功能材料中软磁合金,磁感应强度、高矩形比、高磁导率等综合性能好的新型铁基非晶软磁合金材料，材料综合磁性能和机械性能好，而且可加工性好'\n",
    "cosine_similarity(df_lda_w2v.values,model.topic_vec(doc1,topics_vec).reshape(1, -1))[888]"
   ]
  },
  {
   "cell_type": "code",
   "execution_count": 535,
   "id": "0ffbb41c-b010-468f-a67a-17514191797b",
   "metadata": {},
   "outputs": [],
   "source": [
    "def topic_search(model,doc,topics_vec,df_lda_w2v):\n",
    "    v_doc=model.topic_vec(doc,topics_vec)\n",
    "    scores_2d = cosine_similarity(df_lda_w2v.values,v_doc.reshape(1, -1))\n",
    "    scores = pd.DataFrame(scores_2d,index=df_lda_w2v.index,columns=['score'])\n",
    "    return scores.sort_values(by='score', ascending=False)"
   ]
  },
  {
   "cell_type": "code",
   "execution_count": 536,
   "id": "47d83458-50c5-4bc6-b0ac-005d023c90b3",
   "metadata": {},
   "outputs": [
    {
     "data": {
      "text/html": [
       "<div>\n",
       "<style scoped>\n",
       "    .dataframe tbody tr th:only-of-type {\n",
       "        vertical-align: middle;\n",
       "    }\n",
       "\n",
       "    .dataframe tbody tr th {\n",
       "        vertical-align: top;\n",
       "    }\n",
       "\n",
       "    .dataframe thead th {\n",
       "        text-align: right;\n",
       "    }\n",
       "</style>\n",
       "<table border=\"1\" class=\"dataframe\">\n",
       "  <thead>\n",
       "    <tr style=\"text-align: right;\">\n",
       "      <th></th>\n",
       "      <th>score</th>\n",
       "    </tr>\n",
       "    <tr>\n",
       "      <th>序号</th>\n",
       "      <th></th>\n",
       "    </tr>\n",
       "  </thead>\n",
       "  <tbody>\n",
       "    <tr>\n",
       "      <th>1532119</th>\n",
       "      <td>0.996259</td>\n",
       "    </tr>\n",
       "    <tr>\n",
       "      <th>1532204</th>\n",
       "      <td>0.996253</td>\n",
       "    </tr>\n",
       "    <tr>\n",
       "      <th>2075530</th>\n",
       "      <td>0.996132</td>\n",
       "    </tr>\n",
       "    <tr>\n",
       "      <th>2076610</th>\n",
       "      <td>0.996131</td>\n",
       "    </tr>\n",
       "    <tr>\n",
       "      <th>2075847</th>\n",
       "      <td>0.996130</td>\n",
       "    </tr>\n",
       "    <tr>\n",
       "      <th>...</th>\n",
       "      <td>...</td>\n",
       "    </tr>\n",
       "    <tr>\n",
       "      <th>1099942</th>\n",
       "      <td>0.543662</td>\n",
       "    </tr>\n",
       "    <tr>\n",
       "      <th>1533899</th>\n",
       "      <td>0.543662</td>\n",
       "    </tr>\n",
       "    <tr>\n",
       "      <th>1161761</th>\n",
       "      <td>0.543662</td>\n",
       "    </tr>\n",
       "    <tr>\n",
       "      <th>2663609</th>\n",
       "      <td>0.543662</td>\n",
       "    </tr>\n",
       "    <tr>\n",
       "      <th>1197876</th>\n",
       "      <td>0.543662</td>\n",
       "    </tr>\n",
       "  </tbody>\n",
       "</table>\n",
       "<p>1196876 rows × 1 columns</p>\n",
       "</div>"
      ],
      "text/plain": [
       "            score\n",
       "序号               \n",
       "1532119  0.996259\n",
       "1532204  0.996253\n",
       "2075530  0.996132\n",
       "2076610  0.996131\n",
       "2075847  0.996130\n",
       "...           ...\n",
       "1099942  0.543662\n",
       "1533899  0.543662\n",
       "1161761  0.543662\n",
       "2663609  0.543662\n",
       "1197876  0.543662\n",
       "\n",
       "[1196876 rows x 1 columns]"
      ]
     },
     "execution_count": 536,
     "metadata": {},
     "output_type": "execute_result"
    }
   ],
   "source": [
    "topic_search(model,doc1,topics_vec,df_lda_w2v)"
   ]
  },
  {
   "cell_type": "code",
   "execution_count": 518,
   "id": "c779c3fb-9038-49e2-8530-7e67c187ecba",
   "metadata": {},
   "outputs": [
    {
     "data": {
      "text/plain": [
       "array([0.98582042])"
      ]
     },
     "execution_count": 518,
     "metadata": {},
     "output_type": "execute_result"
    }
   ],
   "source": [
    "doc1='化学成分为(重量％)：Fe：81～86％；Co：7-12％；Si：1-3％；B：3～5％。成份设计简单、经济'\n",
    "cosine_similarity(documents_vec,model.topic_vec(doc1,topics_vec).reshape(1, -1))[888]"
   ]
  },
  {
   "cell_type": "code",
   "execution_count": 519,
   "id": "c3040a01-00f8-42d4-a343-9e2613e103e8",
   "metadata": {},
   "outputs": [
    {
     "data": {
      "text/plain": [
       "array([0.70949333])"
      ]
     },
     "execution_count": 519,
     "metadata": {},
     "output_type": "execute_result"
    }
   ],
   "source": [
    "doc1='返回类似字典的对象，通过数组名为键, 提取其中的数组'\n",
    "cosine_similarity(documents_vec,model.topic_vec(doc1,topics_vec).reshape(1, -1))[888]"
   ]
  },
  {
   "cell_type": "code",
   "execution_count": 522,
   "id": "348de00c-c804-4cac-ac9f-8a7f95d1e96f",
   "metadata": {},
   "outputs": [
    {
     "data": {
      "text/plain": [
       "208275"
      ]
     },
     "execution_count": 522,
     "metadata": {},
     "output_type": "execute_result"
    }
   ],
   "source": [
    "doc1='使用摘要技术，将早期对话内容压缩成简短的摘要，保留关键信息，以节省上下文空间'\n",
    "s=cosine_similarity(documents_vec,model.topic_vec(doc1,topics_vec).reshape(1, -1))\n",
    "s.argmax()"
   ]
  },
  {
   "cell_type": "code",
   "execution_count": 502,
   "id": "c8a06666-6d21-40f0-8f44-ac14fd6e5355",
   "metadata": {},
   "outputs": [
    {
     "data": {
      "text/plain": [
       "9580"
      ]
     },
     "execution_count": 502,
     "metadata": {},
     "output_type": "execute_result"
    }
   ],
   "source": [
    "patent_co.loc[2053]['序号']"
   ]
  },
  {
   "cell_type": "code",
   "execution_count": 503,
   "id": "4b14dacd-cc6d-4282-94d1-7d928e084a0a",
   "metadata": {},
   "outputs": [
    {
     "data": {
      "text/plain": [
       "(array([0.99999997]),\n",
       " score    1.0\n",
       " Name: 9580, dtype: float64)"
      ]
     },
     "execution_count": 503,
     "metadata": {},
     "output_type": "execute_result"
    }
   ],
   "source": [
    "scores[888],scores_map.loc[9580]#+分词和停用词"
   ]
  },
  {
   "cell_type": "code",
   "execution_count": 651,
   "id": "e60d6e29-abb1-4d48-a936-c4170f1da20f",
   "metadata": {},
   "outputs": [
    {
     "data": {
      "text/plain": [
       "[('预处理', 0.7108630537986755),\n",
       " ('处理过程', 0.672796905040741),\n",
       " ('待处理', 0.6448227763175964),\n",
       " ('处理场', 0.6012510061264038),\n",
       " ('微重床', 0.588450014591217),\n",
       " ('理后', 0.5811077356338501),\n",
       " ('非税', 0.5803319215774536),\n",
       " ('微轻床', 0.5797156691551208),\n",
       " ('控水式', 0.5758171677589417),\n",
       " ('抛账', 0.5749467611312866)]"
      ]
     },
     "execution_count": 651,
     "metadata": {},
     "output_type": "execute_result"
    }
   ],
   "source": [
    "model.wo.wv.most_similar('处理', topn=10)#similar_by_vector"
   ]
  },
  {
   "cell_type": "code",
   "execution_count": 657,
   "id": "6729b8bb-8459-41f2-a4fc-51d8c4a2fe8a",
   "metadata": {},
   "outputs": [
    {
     "data": {
      "text/plain": [
       "[('水洗', 0.07431413978338242),\n",
       " ('处理工艺', 0.06933602690696716),\n",
       " ('碱洗', 0.06922639906406403),\n",
       " ('除油', 0.06454973667860031),\n",
       " ('滤出', 0.06145534664392471),\n",
       " ('处理机', 0.06032261624932289),\n",
       " ('酸洗', 0.058835022151470184),\n",
       " ('dtro', 0.05745445936918259),\n",
       " ('经此', 0.05540516972541809),\n",
       " ('除酸', 0.05218887701630592)]"
      ]
     },
     "execution_count": 657,
     "metadata": {},
     "output_type": "execute_result"
    }
   ],
   "source": [
    "model.wo.wv.most_similar(positive='处理', negative=['西安','数据'], topn=10)"
   ]
  },
  {
   "cell_type": "code",
   "execution_count": 662,
   "id": "adcc58ee-6d14-4918-aae0-48d1a9dc8cbf",
   "metadata": {},
   "outputs": [
    {
     "data": {
      "text/plain": [
       "'西安'"
      ]
     },
     "execution_count": 662,
     "metadata": {},
     "output_type": "execute_result"
    }
   ],
   "source": [
    "model.wo.wv.most_similar_to_given('处理', ['西安','数据'])"
   ]
  },
  {
   "cell_type": "code",
   "execution_count": 653,
   "id": "575d1cfc-646a-4e4c-ba1f-e39e0d0b8bfe",
   "metadata": {},
   "outputs": [
    {
     "data": {
      "text/plain": [
       "[('处理', 1.0),\n",
       " ('预处理', 0.7108630537986755),\n",
       " ('处理过程', 0.672796905040741),\n",
       " ('待处理', 0.6448227763175964),\n",
       " ('处理场', 0.6012510061264038),\n",
       " ('微重床', 0.588450014591217),\n",
       " ('理后', 0.5811077356338501),\n",
       " ('非税', 0.5803319215774536),\n",
       " ('微轻床', 0.5797157287597656),\n",
       " ('控水式', 0.5758172273635864)]"
      ]
     },
     "execution_count": 653,
     "metadata": {},
     "output_type": "execute_result"
    }
   ],
   "source": [
    "model.wo.wv.similar_by_vector(model.wo.wv['处理'], topn=10)"
   ]
  },
  {
   "cell_type": "code",
   "execution_count": 512,
   "id": "5b3b9b1a-c054-4b13-9e0f-e3fdce02fd87",
   "metadata": {},
   "outputs": [
    {
     "data": {
      "text/plain": [
       "(0.9999999702969528, 0.0005123201951024175, 0.9999999702969528)"
      ]
     },
     "execution_count": 512,
     "metadata": {},
     "output_type": "execute_result"
    }
   ],
   "source": [
    "from scipy.stats import pearsonr\n",
    "from scipy.spatial.distance import euclidean, cosine, cityblock\n",
    "1-cosine(documents_vec[888],vec),euclidean(documents_vec[888],vec),cosine_similarity(documents_vec[888].reshape(1, -1),vec.reshape(1, -1))[0][0]"
   ]
  },
  {
   "cell_type": "code",
   "execution_count": 491,
   "id": "c66c3674-c1f1-44f0-a44e-d443dfb6c16f",
   "metadata": {},
   "outputs": [
    {
     "name": "stdout",
     "output_type": "stream",
     "text": [
      "CPU times: total: 3.11 s\n",
      "Wall time: 2.35 s\n"
     ]
    },
    {
     "data": {
      "text/plain": [
       "array([1.])"
      ]
     },
     "execution_count": 491,
     "metadata": {},
     "output_type": "execute_result"
    }
   ],
   "source": [
    "%%time\n",
    "scores_0=cosine_similarity(documents_vec, vec.reshape(1, -1))\n",
    "scores_0[888]"
   ]
  },
  {
   "cell_type": "code",
   "execution_count": 488,
   "id": "2b317a76-d46d-4451-931d-77daeb613b42",
   "metadata": {},
   "outputs": [
    {
     "name": "stdout",
     "output_type": "stream",
     "text": [
      "CPU times: total: 21.6 s\n",
      "Wall time: 21.6 s\n"
     ]
    },
    {
     "data": {
      "text/plain": [
       "0.0001104346293636575"
      ]
     },
     "execution_count": 488,
     "metadata": {},
     "output_type": "execute_result"
    }
   ],
   "source": [
    "%%time\n",
    "scores_1=np.apply_along_axis(lambda row: euclidean(row, vec), 1, documents_vec)\n",
    "scores_1[888]"
   ]
  },
  {
   "cell_type": "code",
   "execution_count": 489,
   "id": "dfc7d2d4-5879-4930-8296-2c4e38042fea",
   "metadata": {},
   "outputs": [
    {
     "name": "stdout",
     "output_type": "stream",
     "text": [
      "CPU times: total: 14.1 s\n",
      "Wall time: 14.1 s\n"
     ]
    },
    {
     "data": {
      "text/plain": [
       "0.0014140998316220753"
      ]
     },
     "execution_count": 489,
     "metadata": {},
     "output_type": "execute_result"
    }
   ],
   "source": [
    "%%time\n",
    "scores_2=np.apply_along_axis(lambda row: cityblock(row, vec), 1, documents_vec)\n",
    "scores_2[888]"
   ]
  },
  {
   "cell_type": "code",
   "execution_count": 463,
   "id": "942f300f-48c3-4870-be96-47e0120ebda0",
   "metadata": {},
   "outputs": [
    {
     "data": {
      "text/plain": [
       "['铁基非',\n",
       " '晶软',\n",
       " '磁合金',\n",
       " '属于',\n",
       " '功能',\n",
       " '材料',\n",
       " '磁合金',\n",
       " '制备',\n",
       " '领域',\n",
       " '特别',\n",
       " '适合',\n",
       " '制备',\n",
       " '硼类',\n",
       " '中高',\n",
       " '饱和',\n",
       " '磁感应强度',\n",
       " '矩形',\n",
       " '磁导率',\n",
       " '综合性',\n",
       " '新型',\n",
       " '铁基非',\n",
       " '软磁',\n",
       " '合金材料',\n",
       " '材料',\n",
       " '具体',\n",
       " '重量',\n",
       " 'fe',\n",
       " 'co',\n",
       " 'si',\n",
       " '铁基非',\n",
       " '软磁',\n",
       " '合金材料',\n",
       " '比较',\n",
       " '成份',\n",
       " '设计',\n",
       " '简单',\n",
       " '经济',\n",
       " '材料',\n",
       " '综合',\n",
       " '磁性',\n",
       " '机械性能',\n",
       " '加工性',\n",
       " '材料',\n",
       " '范围广',\n",
       " '成本低',\n",
       " '特点',\n",
       " '性能']"
      ]
     },
     "execution_count": 463,
     "metadata": {},
     "output_type": "execute_result"
    }
   ],
   "source": [
    "processed_doc=[w.strip().lower() for w in jieba.lcut(clean_doc(doc))\n",
    "                             if not (len(w) < model.args.get('len_below', 2) or w.isdigit() \n",
    "                                     or re.match('\\d+\\.\\d+$', w) or w in model.stop_words)]\n",
    "processed_doc"
   ]
  },
  {
   "cell_type": "code",
   "execution_count": 464,
   "id": "f50af5bd-4e0c-441b-ae51-c6bbf59bb78f",
   "metadata": {},
   "outputs": [
    {
     "data": {
      "text/plain": [
       "[(8, 0.6383487), (15, 0.033785224), (26, 0.09219677), (39, 0.11488639)]"
      ]
     },
     "execution_count": 464,
     "metadata": {},
     "output_type": "execute_result"
    }
   ],
   "source": [
    "model.lda.get_document_topics(model.dictionary.doc2bow(processed_doc),minimum_probability=model.args.get('minimum_probability',0.05))#[(8, 0.63835466), (15, 0.03376332), (26, 0.092197396), (39, 0.11488729)],"
   ]
  },
  {
   "cell_type": "code",
   "execution_count": 446,
   "id": "53654f03-8a42-4872-8e46-e24de69c679a",
   "metadata": {},
   "outputs": [
    {
     "data": {
      "text/plain": [
       "0"
      ]
     },
     "execution_count": 446,
     "metadata": {},
     "output_type": "execute_result"
    }
   ],
   "source": [
    "scores_map.index.isna().sum()"
   ]
  },
  {
   "cell_type": "code",
   "execution_count": 538,
   "id": "5b7aab3e-1f4e-4484-ba17-cd328822beb4",
   "metadata": {},
   "outputs": [
    {
     "data": {
      "text/plain": [
       "(array([[0.99999997],\n",
       "        [0.99916759],\n",
       "        [0.99817654],\n",
       "        [0.99788518],\n",
       "        [0.99788068]]),\n",
       " 2053      [铁基非, 晶软, 磁合金, 属于, 功能, 材料, 磁合金, 制备, 领域, 特别, 适合...\n",
       " 2054      [铁基非, 晶软, 磁合金, 属于, 功能, 材料, 磁合金, 制备, 领域, 适合, 制备...\n",
       " 226638    [一种, 稀土, 磁铁, 公开, 一种, 稀土, 磁铁, 所述, 稀土, 磁铁, 含有, r...\n",
       " 287803    [一种, 稀土, 磁铁, 公开, 一种, 稀土, 磁铁, 所述, 稀土, 磁铁, 含有, r...\n",
       " 287835    [一种, 稀土, 磁铁, 公开, 一种, 稀土, 磁铁, 所述, 稀土, 磁铁, 含有, r...\n",
       " Name: 词语, dtype: object)"
      ]
     },
     "execution_count": 538,
     "metadata": {},
     "output_type": "execute_result"
    }
   ],
   "source": [
    "largest_idx = np.argsort(scores.reshape(-1))[-5:][::-1]#flatten [:-6:-1]\n",
    "scores[largest_idx],model.sentences.iloc[largest_idx]"
   ]
  },
  {
   "cell_type": "code",
   "execution_count": 548,
   "id": "12c23ccc-8def-4822-af40-79fc7f4a10c0",
   "metadata": {},
   "outputs": [
    {
     "data": {
      "text/plain": [
       "(Index([2053, 2054, 226638, 287803, 287835], dtype='int64'),\n",
       " array([0.99999997, 0.99916759, 0.99817654, 0.99788518, 0.99788068]))"
      ]
     },
     "execution_count": 548,
     "metadata": {},
     "output_type": "execute_result"
    }
   ],
   "source": [
    "model.sentences.index[largest_idx],scores.reshape(-1)[largest_idx]"
   ]
  },
  {
   "cell_type": "code",
   "execution_count": 549,
   "id": "311cc3b8-a39d-4dc6-a8e2-eb78e265ba8f",
   "metadata": {},
   "outputs": [
    {
     "data": {
      "text/plain": [
       "[(2053, 0.9999999702969529),\n",
       " (2054, 0.9991675861115017),\n",
       " (226638, 0.9981765364897128),\n",
       " (287803, 0.9978851755451714),\n",
       " (287835, 0.9978806835128099)]"
      ]
     },
     "execution_count": 549,
     "metadata": {},
     "output_type": "execute_result"
    }
   ],
   "source": [
    "list(zip(model.sentences.index[largest_idx],scores.reshape(-1)[largest_idx]))"
   ]
  },
  {
   "cell_type": "code",
   "execution_count": 572,
   "id": "e6493160-da96-4b81-b38f-dac75331b1df",
   "metadata": {},
   "outputs": [
    {
     "data": {
      "text/plain": [
       "Co                 object\n",
       "序号                  int64\n",
       "标题 (中文)            object\n",
       "摘要 (中文)            object\n",
       "申请人                object\n",
       "申请日        datetime64[ns]\n",
       "申请号                object\n",
       "公开（公告）号            object\n",
       "table              object\n",
       "dtype: object"
      ]
     },
     "execution_count": 572,
     "metadata": {},
     "output_type": "execute_result"
    }
   ],
   "source": [
    "patent_co['申请日']=pd.to_datetime(patent_co['申请日'])\n",
    "patent_co.dtypes"
   ]
  },
  {
   "cell_type": "code",
   "execution_count": 695,
   "id": "34bc9ccb-d5f1-43aa-937c-9688a5168973",
   "metadata": {},
   "outputs": [
    {
     "data": {
      "text/plain": [
       "(1196876, 1196876)"
      ]
     },
     "execution_count": 695,
     "metadata": {},
     "output_type": "execute_result"
    }
   ],
   "source": [
    "df_lda_w2v.index.nunique(),len(df_lda_w2v)"
   ]
  },
  {
   "cell_type": "code",
   "execution_count": 706,
   "id": "382a6641-e36b-41b6-bf57-279ff35bc86b",
   "metadata": {},
   "outputs": [
    {
     "data": {
      "text/html": [
       "<div>\n",
       "<style scoped>\n",
       "    .dataframe tbody tr th:only-of-type {\n",
       "        vertical-align: middle;\n",
       "    }\n",
       "\n",
       "    .dataframe tbody tr th {\n",
       "        vertical-align: top;\n",
       "    }\n",
       "\n",
       "    .dataframe thead th {\n",
       "        text-align: right;\n",
       "    }\n",
       "</style>\n",
       "<table border=\"1\" class=\"dataframe\">\n",
       "  <thead>\n",
       "    <tr style=\"text-align: right;\">\n",
       "      <th></th>\n",
       "      <th>Co</th>\n",
       "      <th>标题 (中文)</th>\n",
       "      <th>申请日</th>\n",
       "      <th>申请号</th>\n",
       "      <th>公开（公告）号</th>\n",
       "      <th>table</th>\n",
       "      <th>文档长度</th>\n",
       "    </tr>\n",
       "    <tr>\n",
       "      <th>序号</th>\n",
       "      <th></th>\n",
       "      <th></th>\n",
       "      <th></th>\n",
       "      <th></th>\n",
       "      <th></th>\n",
       "      <th></th>\n",
       "      <th></th>\n",
       "    </tr>\n",
       "  </thead>\n",
       "  <tbody>\n",
       "    <tr>\n",
       "      <th>165</th>\n",
       "      <td>珠海格力电器股份有限公司</td>\n",
       "      <td>变幅摇头电风扇</td>\n",
       "      <td>1994-08-31</td>\n",
       "      <td>CN94219339.3</td>\n",
       "      <td>CN2201504Y</td>\n",
       "      <td>patent202210</td>\n",
       "      <td>60</td>\n",
       "    </tr>\n",
       "    <tr>\n",
       "      <th>166</th>\n",
       "      <td>珠海格力电器股份有限公司</td>\n",
       "      <td>电风扇摇头装置</td>\n",
       "      <td>1994-08-31</td>\n",
       "      <td>CN94219340.7</td>\n",
       "      <td>CN2202815Y</td>\n",
       "      <td>patent202210</td>\n",
       "      <td>36</td>\n",
       "    </tr>\n",
       "    <tr>\n",
       "      <th>167</th>\n",
       "      <td>珠海格力电器股份有限公司</td>\n",
       "      <td>变幅摇摆电风扇</td>\n",
       "      <td>1994-08-31</td>\n",
       "      <td>CN94109207.0</td>\n",
       "      <td>CN1118043A</td>\n",
       "      <td>patent202210</td>\n",
       "      <td>60</td>\n",
       "    </tr>\n",
       "    <tr>\n",
       "      <th>330</th>\n",
       "      <td>四川长虹电器股份有限公司</td>\n",
       "      <td>彩色广播电视接收机(1)</td>\n",
       "      <td>1995-10-16</td>\n",
       "      <td>CN95310371.4</td>\n",
       "      <td>CN3044990D</td>\n",
       "      <td>patent202210</td>\n",
       "      <td>10</td>\n",
       "    </tr>\n",
       "    <tr>\n",
       "      <th>344</th>\n",
       "      <td>四川长虹电器股份有限公司</td>\n",
       "      <td>一种不开后罩即可拆卸喇叭窗盖的电视接收机机壳</td>\n",
       "      <td>1995-11-24</td>\n",
       "      <td>CN95242445.2</td>\n",
       "      <td>CN2248433Y</td>\n",
       "      <td>patent202210</td>\n",
       "      <td>62</td>\n",
       "    </tr>\n",
       "    <tr>\n",
       "      <th>...</th>\n",
       "      <td>...</td>\n",
       "      <td>...</td>\n",
       "      <td>...</td>\n",
       "      <td>...</td>\n",
       "      <td>...</td>\n",
       "      <td>...</td>\n",
       "      <td>...</td>\n",
       "    </tr>\n",
       "    <tr>\n",
       "      <th>2781354</th>\n",
       "      <td>深圳市大寰机器人科技有限公司</td>\n",
       "      <td>机器人标定方法、系统及机器人</td>\n",
       "      <td>2024-03-01</td>\n",
       "      <td>CN202410231929.9</td>\n",
       "      <td>CN117798937A</td>\n",
       "      <td>patent202404</td>\n",
       "      <td>97</td>\n",
       "    </tr>\n",
       "    <tr>\n",
       "      <th>2781355</th>\n",
       "      <td>珠海光恒科技有限公司</td>\n",
       "      <td>一种多普勒激光测风雷达径向风速标定方法</td>\n",
       "      <td>2024-03-01</td>\n",
       "      <td>CN202410234087.2</td>\n",
       "      <td>CN117805792A</td>\n",
       "      <td>patent202404</td>\n",
       "      <td>71</td>\n",
       "    </tr>\n",
       "    <tr>\n",
       "      <th>2781356</th>\n",
       "      <td>珠海市申科谱工业科技有限公司</td>\n",
       "      <td>一种晶圆激光开槽装置及开槽方法</td>\n",
       "      <td>2024-03-01</td>\n",
       "      <td>CN202410233264.5</td>\n",
       "      <td>CN117798508A</td>\n",
       "      <td>patent202404</td>\n",
       "      <td>96</td>\n",
       "    </tr>\n",
       "    <tr>\n",
       "      <th>2781357</th>\n",
       "      <td>珠海市申科谱工业科技有限公司</td>\n",
       "      <td>一种微型塑料件激光焊接系统以及焊接方法</td>\n",
       "      <td>2024-03-01</td>\n",
       "      <td>CN202410233288.0</td>\n",
       "      <td>CN117799173A</td>\n",
       "      <td>patent202404</td>\n",
       "      <td>107</td>\n",
       "    </tr>\n",
       "    <tr>\n",
       "      <th>2781360</th>\n",
       "      <td>长安绿电科技有限公司</td>\n",
       "      <td>可拆卸式电池模块</td>\n",
       "      <td>2024-03-04</td>\n",
       "      <td>CN202420403622.8</td>\n",
       "      <td>CN220710520U</td>\n",
       "      <td>patent202404</td>\n",
       "      <td>88</td>\n",
       "    </tr>\n",
       "  </tbody>\n",
       "</table>\n",
       "<p>1196876 rows × 7 columns</p>\n",
       "</div>"
      ],
      "text/plain": [
       "                     Co                 标题 (中文)        申请日               申请号  \\\n",
       "序号                                                                             \n",
       "165        珠海格力电器股份有限公司                 变幅摇头电风扇 1994-08-31      CN94219339.3   \n",
       "166        珠海格力电器股份有限公司                 电风扇摇头装置 1994-08-31      CN94219340.7   \n",
       "167        珠海格力电器股份有限公司                 变幅摇摆电风扇 1994-08-31      CN94109207.0   \n",
       "330        四川长虹电器股份有限公司            彩色广播电视接收机(1) 1995-10-16      CN95310371.4   \n",
       "344        四川长虹电器股份有限公司  一种不开后罩即可拆卸喇叭窗盖的电视接收机机壳 1995-11-24      CN95242445.2   \n",
       "...                 ...                     ...        ...               ...   \n",
       "2781354  深圳市大寰机器人科技有限公司          机器人标定方法、系统及机器人 2024-03-01  CN202410231929.9   \n",
       "2781355      珠海光恒科技有限公司     一种多普勒激光测风雷达径向风速标定方法 2024-03-01  CN202410234087.2   \n",
       "2781356  珠海市申科谱工业科技有限公司         一种晶圆激光开槽装置及开槽方法 2024-03-01  CN202410233264.5   \n",
       "2781357  珠海市申科谱工业科技有限公司     一种微型塑料件激光焊接系统以及焊接方法 2024-03-01  CN202410233288.0   \n",
       "2781360      长安绿电科技有限公司                可拆卸式电池模块 2024-03-04  CN202420403622.8   \n",
       "\n",
       "              公开（公告）号         table  文档长度  \n",
       "序号                                         \n",
       "165        CN2201504Y  patent202210    60  \n",
       "166        CN2202815Y  patent202210    36  \n",
       "167        CN1118043A  patent202210    60  \n",
       "330        CN3044990D  patent202210    10  \n",
       "344        CN2248433Y  patent202210    62  \n",
       "...               ...           ...   ...  \n",
       "2781354  CN117798937A  patent202404    97  \n",
       "2781355  CN117805792A  patent202404    71  \n",
       "2781356  CN117798508A  patent202404    96  \n",
       "2781357  CN117799173A  patent202404   107  \n",
       "2781360  CN220710520U  patent202404    88  \n",
       "\n",
       "[1196876 rows x 7 columns]"
      ]
     },
     "execution_count": 706,
     "metadata": {},
     "output_type": "execute_result"
    }
   ],
   "source": [
    "#patent_co.loc[model.sentences.index]\n",
    "table=patent_co.drop_duplicates(['序号']).set_index('序号').loc[df_lda_w2v.index].drop(columns=['申请人','摘要 (中文)'])\n",
    "table['文档长度']=model.sentences.map(len).to_list()\n",
    "table"
   ]
  },
  {
   "cell_type": "code",
   "execution_count": 708,
   "id": "f1b8ae52-1332-4aa5-8a7e-4e5bc94d2cda",
   "metadata": {},
   "outputs": [
    {
     "data": {
      "text/plain": [
       "Index([    165,     166,     167,     330,     344,     496,     508,     557,\n",
       "           889,     898,\n",
       "       ...\n",
       "       2781340, 2781346, 2781347, 2781350, 2781351, 2781354, 2781355, 2781356,\n",
       "       2781357, 2781360],\n",
       "      dtype='int64', name='序号', length=1196876)"
      ]
     },
     "execution_count": 708,
     "metadata": {},
     "output_type": "execute_result"
    }
   ],
   "source": [
    "df_lda_w2v.index"
   ]
  },
  {
   "cell_type": "code",
   "execution_count": 713,
   "id": "81bf020d-fa7c-4bcc-846f-4c51a9e902c5",
   "metadata": {},
   "outputs": [
    {
     "data": {
      "text/plain": [
       "(60, 88)"
      ]
     },
     "execution_count": 713,
     "metadata": {},
     "output_type": "execute_result"
    }
   ],
   "source": [
    "len(model.sentences.iloc[0]),len(model.sentences.iloc[-1])"
   ]
  },
  {
   "cell_type": "code",
   "execution_count": 714,
   "id": "d55008a1-eaa1-480e-bd79-a4a2ce2bc325",
   "metadata": {},
   "outputs": [
    {
     "data": {
      "text/plain": [
       "count    1.196876e+06\n",
       "mean     8.521023e+01\n",
       "std      2.607785e+01\n",
       "min      1.000000e+01\n",
       "25%      7.200000e+01\n",
       "50%      9.100000e+01\n",
       "75%      1.030000e+02\n",
       "max      1.607000e+03\n",
       "Name: 文档长度, dtype: float64"
      ]
     },
     "execution_count": 714,
     "metadata": {},
     "output_type": "execute_result"
    }
   ],
   "source": [
    "table['文档长度'].describe()"
   ]
  },
  {
   "cell_type": "code",
   "execution_count": 715,
   "id": "61b4ccd9-d3d0-42ea-968b-2b24835fb904",
   "metadata": {},
   "outputs": [
    {
     "data": {
      "text/plain": [
       "(1196876, 1196876)"
      ]
     },
     "execution_count": 715,
     "metadata": {},
     "output_type": "execute_result"
    }
   ],
   "source": [
    "payload=table.to_dict(orient='records')\n",
    "len(payload),len(df_lda_w2v)"
   ]
  },
  {
   "cell_type": "code",
   "execution_count": 718,
   "id": "0fe046a0-6fd2-42ca-9bed-fe876185b34c",
   "metadata": {},
   "outputs": [
    {
     "data": {
      "text/plain": [
       "({'Co': '珠海格力电器股份有限公司',\n",
       "  '标题 (中文)': '变幅摇头电风扇',\n",
       "  '申请日': Timestamp('1994-08-31 00:00:00'),\n",
       "  '申请号': 'CN94219339.3',\n",
       "  '公开（公告）号': 'CN2201504Y',\n",
       "  'table': 'patent202210',\n",
       "  '文档长度': 60},\n",
       " {'Co': '长安绿电科技有限公司',\n",
       "  '标题 (中文)': '可拆卸式电池模块',\n",
       "  '申请日': Timestamp('2024-03-04 00:00:00'),\n",
       "  '申请号': 'CN202420403622.8',\n",
       "  '公开（公告）号': 'CN220710520U',\n",
       "  'table': 'patent202404',\n",
       "  '文档长度': 88})"
      ]
     },
     "execution_count": 718,
     "metadata": {},
     "output_type": "execute_result"
    }
   ],
   "source": [
    "payload[0],payload[-1]"
   ]
  },
  {
   "cell_type": "code",
   "execution_count": 717,
   "id": "4867c108-d2a9-4f9d-b4e6-18fd983a4ef8",
   "metadata": {},
   "outputs": [],
   "source": [
    "import pickle\n",
    "with open('data\\patent_payload_先进制造_2024.pkl', 'wb') as file:\n",
    "    pickle.dump(payload, file)"
   ]
  },
  {
   "cell_type": "code",
   "execution_count": 604,
   "id": "ac389c90-a042-4e12-bb1d-0d4a93ec59cb",
   "metadata": {},
   "outputs": [
    {
     "data": {
      "text/plain": [
       "Index(['Dexta Robotics', 'TCL华星光电技术有限公司', 'TCL科技集团股份有限公司', '一道新能源科技股份有限公司',\n",
       "       '七星电气股份有限公司', '七腾机器人有限公司', '万华新材料有限公司', '万向一二三股份公司', '万马科技股份有限公司',\n",
       "       '万鼎硅钢集团有限公司',\n",
       "       ...\n",
       "       '黄山富田精工智造股份有限公司', '黄山市光锐通信股份有限公司', '黄石晨信光电股份有限公司', '黑龙江哈工石墨科技有限公司',\n",
       "       '黑龙江林海华安新材料股份有限公司', '黑龙江省发现者机器人股份有限公司', '鼎桥通信技术有限公司', '龙微科技无锡有限公司',\n",
       "       '龙腾半导体股份有限公司', '龙芯中科技术股份有限公司'],\n",
       "      dtype='object', name='Co', length=7370)"
      ]
     },
     "execution_count": 604,
     "metadata": {},
     "output_type": "execute_result"
    }
   ],
   "source": [
    "co_ids_vec_t.index"
   ]
  },
  {
   "cell_type": "code",
   "execution_count": 614,
   "id": "6ba3fab2-64c9-4f4f-a3de-342d35fff05f",
   "metadata": {},
   "outputs": [
    {
     "data": {
      "text/plain": [
       "Index(['公司序号', '公司简称', '工商全称', '行业'], dtype='object')"
      ]
     },
     "execution_count": 614,
     "metadata": {},
     "output_type": "execute_result"
    }
   ],
   "source": [
    "df_co.columns"
   ]
  },
  {
   "cell_type": "code",
   "execution_count": 632,
   "id": "18b3d975-8aa7-4471-9b76-9a8dd5749eb3",
   "metadata": {},
   "outputs": [
    {
     "data": {
      "text/html": [
       "<div>\n",
       "<style scoped>\n",
       "    .dataframe tbody tr th:only-of-type {\n",
       "        vertical-align: middle;\n",
       "    }\n",
       "\n",
       "    .dataframe tbody tr th {\n",
       "        vertical-align: top;\n",
       "    }\n",
       "\n",
       "    .dataframe thead th {\n",
       "        text-align: right;\n",
       "    }\n",
       "</style>\n",
       "<table border=\"1\" class=\"dataframe\">\n",
       "  <thead>\n",
       "    <tr style=\"text-align: right;\">\n",
       "      <th></th>\n",
       "      <th>公司序号</th>\n",
       "      <th>公司简称</th>\n",
       "    </tr>\n",
       "    <tr>\n",
       "      <th>工商全称</th>\n",
       "      <th></th>\n",
       "      <th></th>\n",
       "    </tr>\n",
       "  </thead>\n",
       "  <tbody>\n",
       "    <tr>\n",
       "      <th>北京若愚智能设备有限公司</th>\n",
       "      <td>8651</td>\n",
       "      <td>WiPlug推</td>\n",
       "    </tr>\n",
       "    <tr>\n",
       "      <th>深圳市卡迪尔通讯技术有限公司</th>\n",
       "      <td>8652</td>\n",
       "      <td>21克手机</td>\n",
       "    </tr>\n",
       "    <tr>\n",
       "      <th>上海金卓科技有限公司</th>\n",
       "      <td>8653</td>\n",
       "      <td>金卓网络科技</td>\n",
       "    </tr>\n",
       "    <tr>\n",
       "      <th>深圳市百分之百数码科技有限公司</th>\n",
       "      <td>8654</td>\n",
       "      <td>百分之百数码</td>\n",
       "    </tr>\n",
       "    <tr>\n",
       "      <th>上海优爱宝智能机器人科技股份有限公司</th>\n",
       "      <td>8655</td>\n",
       "      <td>优爱宝机器人</td>\n",
       "    </tr>\n",
       "    <tr>\n",
       "      <th>...</th>\n",
       "      <td>...</td>\n",
       "      <td>...</td>\n",
       "    </tr>\n",
       "    <tr>\n",
       "      <th>佛山道善智能机器人有限公司</th>\n",
       "      <td>18708</td>\n",
       "      <td>道善智能</td>\n",
       "    </tr>\n",
       "    <tr>\n",
       "      <th>上海百功半导体有限公司</th>\n",
       "      <td>18709</td>\n",
       "      <td>百功半导体</td>\n",
       "    </tr>\n",
       "    <tr>\n",
       "      <th>浙江紫明低温科技有限公司</th>\n",
       "      <td>18710</td>\n",
       "      <td>紫明低温</td>\n",
       "    </tr>\n",
       "    <tr>\n",
       "      <th>安徽骆华生物科技有限公司</th>\n",
       "      <td>18711</td>\n",
       "      <td>骆华生物</td>\n",
       "    </tr>\n",
       "    <tr>\n",
       "      <th>合肥三利谱光电科技有限公司</th>\n",
       "      <td>18712</td>\n",
       "      <td>三利谱光电</td>\n",
       "    </tr>\n",
       "  </tbody>\n",
       "</table>\n",
       "<p>10028 rows × 2 columns</p>\n",
       "</div>"
      ],
      "text/plain": [
       "                     公司序号     公司简称\n",
       "工商全称                              \n",
       "北京若愚智能设备有限公司         8651  WiPlug推\n",
       "深圳市卡迪尔通讯技术有限公司       8652    21克手机\n",
       "上海金卓科技有限公司           8653   金卓网络科技\n",
       "深圳市百分之百数码科技有限公司      8654   百分之百数码\n",
       "上海优爱宝智能机器人科技股份有限公司   8655   优爱宝机器人\n",
       "...                   ...      ...\n",
       "佛山道善智能机器人有限公司       18708     道善智能\n",
       "上海百功半导体有限公司         18709    百功半导体\n",
       "浙江紫明低温科技有限公司        18710     紫明低温\n",
       "安徽骆华生物科技有限公司        18711     骆华生物\n",
       "合肥三利谱光电科技有限公司       18712    三利谱光电\n",
       "\n",
       "[10028 rows x 2 columns]"
      ]
     },
     "execution_count": 632,
     "metadata": {},
     "output_type": "execute_result"
    }
   ],
   "source": [
    "coinfo=df_co[df_co.行业=='先进制造'].drop_duplicates(['工商全称']).set_index('工商全称').drop(columns=['行业'])\n",
    "coinfo"
   ]
  },
  {
   "cell_type": "code",
   "execution_count": 720,
   "id": "4bc0b1f5-bb0f-4c51-acad-52527e943dde",
   "metadata": {},
   "outputs": [
    {
     "data": {
      "text/plain": [
       "(7370, 7370)"
      ]
     },
     "execution_count": 720,
     "metadata": {},
     "output_type": "execute_result"
    }
   ],
   "source": [
    "payload=coinfo.loc[co_ids_vec_t.index].reset_index().to_dict(orient='records')\n",
    "len(payload),len(co_ids_vec_t)"
   ]
  },
  {
   "cell_type": "code",
   "execution_count": 721,
   "id": "2960f3f0-55fb-41a1-a7f9-7b62b76ab074",
   "metadata": {},
   "outputs": [
    {
     "data": {
      "text/plain": [
       "({'Co': 'Dexta Robotics', '公司序号': 8872, '公司简称': 'Dexta Robotics'},\n",
       " 'Dexta Robotics')"
      ]
     },
     "execution_count": 721,
     "metadata": {},
     "output_type": "execute_result"
    }
   ],
   "source": [
    "payload[0],co_ids_vec_t.iloc[0].name"
   ]
  },
  {
   "cell_type": "code",
   "execution_count": 724,
   "id": "cad32ff8-e5d8-4041-a1df-cf59cb6fe1fa",
   "metadata": {},
   "outputs": [
    {
     "data": {
      "text/html": [
       "<div>\n",
       "<style scoped>\n",
       "    .dataframe tbody tr th:only-of-type {\n",
       "        vertical-align: middle;\n",
       "    }\n",
       "\n",
       "    .dataframe tbody tr th {\n",
       "        vertical-align: top;\n",
       "    }\n",
       "\n",
       "    .dataframe thead th {\n",
       "        text-align: right;\n",
       "    }\n",
       "</style>\n",
       "<table border=\"1\" class=\"dataframe\">\n",
       "  <thead>\n",
       "    <tr style=\"text-align: right;\">\n",
       "      <th>Co</th>\n",
       "      <th>上海贝岭股份有限公司</th>\n",
       "      <th>中兴通讯股份有限公司</th>\n",
       "      <th>南京熊猫电子股份有限公司</th>\n",
       "      <th>四川长虹电器股份有限公司</th>\n",
       "      <th>国电南京自动化股份有限公司</th>\n",
       "      <th>大连路明发光科技股份有限公司</th>\n",
       "      <th>安泰科技股份有限公司</th>\n",
       "      <th>广东风华高新科技股份有限公司</th>\n",
       "      <th>新源动力股份有限公司</th>\n",
       "      <th>新疆众和股份有限公司</th>\n",
       "      <th>江苏中天科技股份有限公司</th>\n",
       "      <th>江苏亨通光电股份有限公司</th>\n",
       "      <th>江苏海鸥冷却塔股份有限公司</th>\n",
       "      <th>江苏长电科技股份有限公司</th>\n",
       "      <th>沈阳新松机器人自动化股份有限公司</th>\n",
       "      <th>深圳市力可兴电池有限公司</th>\n",
       "      <th>烽火通信科技股份有限公司</th>\n",
       "      <th>珠海格力电器股份有限公司</th>\n",
       "      <th>福耀玻璃工业集团股份有限公司</th>\n",
       "      <th>贵研铂业股份有限公司</th>\n",
       "    </tr>\n",
       "    <tr>\n",
       "      <th>Co</th>\n",
       "      <th></th>\n",
       "      <th></th>\n",
       "      <th></th>\n",
       "      <th></th>\n",
       "      <th></th>\n",
       "      <th></th>\n",
       "      <th></th>\n",
       "      <th></th>\n",
       "      <th></th>\n",
       "      <th></th>\n",
       "      <th></th>\n",
       "      <th></th>\n",
       "      <th></th>\n",
       "      <th></th>\n",
       "      <th></th>\n",
       "      <th></th>\n",
       "      <th></th>\n",
       "      <th></th>\n",
       "      <th></th>\n",
       "      <th></th>\n",
       "    </tr>\n",
       "  </thead>\n",
       "  <tbody>\n",
       "    <tr>\n",
       "      <th>上海贝岭股份有限公司</th>\n",
       "      <td>NaN</td>\n",
       "      <td>NaN</td>\n",
       "      <td>NaN</td>\n",
       "      <td>NaN</td>\n",
       "      <td>NaN</td>\n",
       "      <td>NaN</td>\n",
       "      <td>NaN</td>\n",
       "      <td>NaN</td>\n",
       "      <td>NaN</td>\n",
       "      <td>NaN</td>\n",
       "      <td>NaN</td>\n",
       "      <td>NaN</td>\n",
       "      <td>NaN</td>\n",
       "      <td>NaN</td>\n",
       "      <td>NaN</td>\n",
       "      <td>NaN</td>\n",
       "      <td>NaN</td>\n",
       "      <td>NaN</td>\n",
       "      <td>NaN</td>\n",
       "      <td>NaN</td>\n",
       "    </tr>\n",
       "    <tr>\n",
       "      <th>中兴通讯股份有限公司</th>\n",
       "      <td>0.952813</td>\n",
       "      <td>NaN</td>\n",
       "      <td>NaN</td>\n",
       "      <td>NaN</td>\n",
       "      <td>NaN</td>\n",
       "      <td>NaN</td>\n",
       "      <td>NaN</td>\n",
       "      <td>NaN</td>\n",
       "      <td>NaN</td>\n",
       "      <td>NaN</td>\n",
       "      <td>NaN</td>\n",
       "      <td>NaN</td>\n",
       "      <td>NaN</td>\n",
       "      <td>NaN</td>\n",
       "      <td>NaN</td>\n",
       "      <td>NaN</td>\n",
       "      <td>NaN</td>\n",
       "      <td>NaN</td>\n",
       "      <td>NaN</td>\n",
       "      <td>NaN</td>\n",
       "    </tr>\n",
       "    <tr>\n",
       "      <th>南京熊猫电子股份有限公司</th>\n",
       "      <td>0.859238</td>\n",
       "      <td>0.890830</td>\n",
       "      <td>NaN</td>\n",
       "      <td>NaN</td>\n",
       "      <td>NaN</td>\n",
       "      <td>NaN</td>\n",
       "      <td>NaN</td>\n",
       "      <td>NaN</td>\n",
       "      <td>NaN</td>\n",
       "      <td>NaN</td>\n",
       "      <td>NaN</td>\n",
       "      <td>NaN</td>\n",
       "      <td>NaN</td>\n",
       "      <td>NaN</td>\n",
       "      <td>NaN</td>\n",
       "      <td>NaN</td>\n",
       "      <td>NaN</td>\n",
       "      <td>NaN</td>\n",
       "      <td>NaN</td>\n",
       "      <td>NaN</td>\n",
       "    </tr>\n",
       "    <tr>\n",
       "      <th>四川长虹电器股份有限公司</th>\n",
       "      <td>0.900869</td>\n",
       "      <td>0.957978</td>\n",
       "      <td>0.964147</td>\n",
       "      <td>NaN</td>\n",
       "      <td>NaN</td>\n",
       "      <td>NaN</td>\n",
       "      <td>NaN</td>\n",
       "      <td>NaN</td>\n",
       "      <td>NaN</td>\n",
       "      <td>NaN</td>\n",
       "      <td>NaN</td>\n",
       "      <td>NaN</td>\n",
       "      <td>NaN</td>\n",
       "      <td>NaN</td>\n",
       "      <td>NaN</td>\n",
       "      <td>NaN</td>\n",
       "      <td>NaN</td>\n",
       "      <td>NaN</td>\n",
       "      <td>NaN</td>\n",
       "      <td>NaN</td>\n",
       "    </tr>\n",
       "    <tr>\n",
       "      <th>国电南京自动化股份有限公司</th>\n",
       "      <td>0.885073</td>\n",
       "      <td>0.950877</td>\n",
       "      <td>0.824693</td>\n",
       "      <td>0.913801</td>\n",
       "      <td>NaN</td>\n",
       "      <td>NaN</td>\n",
       "      <td>NaN</td>\n",
       "      <td>NaN</td>\n",
       "      <td>NaN</td>\n",
       "      <td>NaN</td>\n",
       "      <td>NaN</td>\n",
       "      <td>NaN</td>\n",
       "      <td>NaN</td>\n",
       "      <td>NaN</td>\n",
       "      <td>NaN</td>\n",
       "      <td>NaN</td>\n",
       "      <td>NaN</td>\n",
       "      <td>NaN</td>\n",
       "      <td>NaN</td>\n",
       "      <td>NaN</td>\n",
       "    </tr>\n",
       "    <tr>\n",
       "      <th>大连路明发光科技股份有限公司</th>\n",
       "      <td>0.765322</td>\n",
       "      <td>0.760664</td>\n",
       "      <td>0.883618</td>\n",
       "      <td>0.826655</td>\n",
       "      <td>0.682253</td>\n",
       "      <td>NaN</td>\n",
       "      <td>NaN</td>\n",
       "      <td>NaN</td>\n",
       "      <td>NaN</td>\n",
       "      <td>NaN</td>\n",
       "      <td>NaN</td>\n",
       "      <td>NaN</td>\n",
       "      <td>NaN</td>\n",
       "      <td>NaN</td>\n",
       "      <td>NaN</td>\n",
       "      <td>NaN</td>\n",
       "      <td>NaN</td>\n",
       "      <td>NaN</td>\n",
       "      <td>NaN</td>\n",
       "      <td>NaN</td>\n",
       "    </tr>\n",
       "    <tr>\n",
       "      <th>安泰科技股份有限公司</th>\n",
       "      <td>0.768442</td>\n",
       "      <td>0.793406</td>\n",
       "      <td>0.959115</td>\n",
       "      <td>0.894475</td>\n",
       "      <td>0.722456</td>\n",
       "      <td>0.935773</td>\n",
       "      <td>NaN</td>\n",
       "      <td>NaN</td>\n",
       "      <td>NaN</td>\n",
       "      <td>NaN</td>\n",
       "      <td>NaN</td>\n",
       "      <td>NaN</td>\n",
       "      <td>NaN</td>\n",
       "      <td>NaN</td>\n",
       "      <td>NaN</td>\n",
       "      <td>NaN</td>\n",
       "      <td>NaN</td>\n",
       "      <td>NaN</td>\n",
       "      <td>NaN</td>\n",
       "      <td>NaN</td>\n",
       "    </tr>\n",
       "    <tr>\n",
       "      <th>广东风华高新科技股份有限公司</th>\n",
       "      <td>0.788513</td>\n",
       "      <td>0.826107</td>\n",
       "      <td>0.938977</td>\n",
       "      <td>0.901017</td>\n",
       "      <td>0.758293</td>\n",
       "      <td>0.812703</td>\n",
       "      <td>0.934231</td>\n",
       "      <td>NaN</td>\n",
       "      <td>NaN</td>\n",
       "      <td>NaN</td>\n",
       "      <td>NaN</td>\n",
       "      <td>NaN</td>\n",
       "      <td>NaN</td>\n",
       "      <td>NaN</td>\n",
       "      <td>NaN</td>\n",
       "      <td>NaN</td>\n",
       "      <td>NaN</td>\n",
       "      <td>NaN</td>\n",
       "      <td>NaN</td>\n",
       "      <td>NaN</td>\n",
       "    </tr>\n",
       "    <tr>\n",
       "      <th>新源动力股份有限公司</th>\n",
       "      <td>0.733053</td>\n",
       "      <td>0.753153</td>\n",
       "      <td>0.925773</td>\n",
       "      <td>0.857046</td>\n",
       "      <td>0.673836</td>\n",
       "      <td>0.923266</td>\n",
       "      <td>0.952314</td>\n",
       "      <td>0.869154</td>\n",
       "      <td>NaN</td>\n",
       "      <td>NaN</td>\n",
       "      <td>NaN</td>\n",
       "      <td>NaN</td>\n",
       "      <td>NaN</td>\n",
       "      <td>NaN</td>\n",
       "      <td>NaN</td>\n",
       "      <td>NaN</td>\n",
       "      <td>NaN</td>\n",
       "      <td>NaN</td>\n",
       "      <td>NaN</td>\n",
       "      <td>NaN</td>\n",
       "    </tr>\n",
       "    <tr>\n",
       "      <th>新疆众和股份有限公司</th>\n",
       "      <td>0.710348</td>\n",
       "      <td>0.733167</td>\n",
       "      <td>0.889783</td>\n",
       "      <td>0.841268</td>\n",
       "      <td>0.652417</td>\n",
       "      <td>0.892703</td>\n",
       "      <td>0.950820</td>\n",
       "      <td>0.882028</td>\n",
       "      <td>0.940120</td>\n",
       "      <td>NaN</td>\n",
       "      <td>NaN</td>\n",
       "      <td>NaN</td>\n",
       "      <td>NaN</td>\n",
       "      <td>NaN</td>\n",
       "      <td>NaN</td>\n",
       "      <td>NaN</td>\n",
       "      <td>NaN</td>\n",
       "      <td>NaN</td>\n",
       "      <td>NaN</td>\n",
       "      <td>NaN</td>\n",
       "    </tr>\n",
       "    <tr>\n",
       "      <th>江苏中天科技股份有限公司</th>\n",
       "      <td>0.837583</td>\n",
       "      <td>0.849146</td>\n",
       "      <td>0.934286</td>\n",
       "      <td>0.896943</td>\n",
       "      <td>0.754527</td>\n",
       "      <td>0.880733</td>\n",
       "      <td>0.905554</td>\n",
       "      <td>0.880540</td>\n",
       "      <td>0.893688</td>\n",
       "      <td>0.868204</td>\n",
       "      <td>NaN</td>\n",
       "      <td>NaN</td>\n",
       "      <td>NaN</td>\n",
       "      <td>NaN</td>\n",
       "      <td>NaN</td>\n",
       "      <td>NaN</td>\n",
       "      <td>NaN</td>\n",
       "      <td>NaN</td>\n",
       "      <td>NaN</td>\n",
       "      <td>NaN</td>\n",
       "    </tr>\n",
       "    <tr>\n",
       "      <th>江苏亨通光电股份有限公司</th>\n",
       "      <td>0.859530</td>\n",
       "      <td>0.857718</td>\n",
       "      <td>0.892129</td>\n",
       "      <td>0.888315</td>\n",
       "      <td>0.783726</td>\n",
       "      <td>0.817414</td>\n",
       "      <td>0.845080</td>\n",
       "      <td>0.798997</td>\n",
       "      <td>0.831350</td>\n",
       "      <td>0.780554</td>\n",
       "      <td>0.938639</td>\n",
       "      <td>NaN</td>\n",
       "      <td>NaN</td>\n",
       "      <td>NaN</td>\n",
       "      <td>NaN</td>\n",
       "      <td>NaN</td>\n",
       "      <td>NaN</td>\n",
       "      <td>NaN</td>\n",
       "      <td>NaN</td>\n",
       "      <td>NaN</td>\n",
       "    </tr>\n",
       "    <tr>\n",
       "      <th>江苏海鸥冷却塔股份有限公司</th>\n",
       "      <td>0.774899</td>\n",
       "      <td>0.820560</td>\n",
       "      <td>0.953775</td>\n",
       "      <td>0.918479</td>\n",
       "      <td>0.762792</td>\n",
       "      <td>0.834245</td>\n",
       "      <td>0.952538</td>\n",
       "      <td>0.922288</td>\n",
       "      <td>0.921819</td>\n",
       "      <td>0.919855</td>\n",
       "      <td>0.889252</td>\n",
       "      <td>0.859395</td>\n",
       "      <td>NaN</td>\n",
       "      <td>NaN</td>\n",
       "      <td>NaN</td>\n",
       "      <td>NaN</td>\n",
       "      <td>NaN</td>\n",
       "      <td>NaN</td>\n",
       "      <td>NaN</td>\n",
       "      <td>NaN</td>\n",
       "    </tr>\n",
       "    <tr>\n",
       "      <th>江苏长电科技股份有限公司</th>\n",
       "      <td>0.738849</td>\n",
       "      <td>0.835641</td>\n",
       "      <td>0.794667</td>\n",
       "      <td>0.857907</td>\n",
       "      <td>0.846461</td>\n",
       "      <td>0.728771</td>\n",
       "      <td>0.735812</td>\n",
       "      <td>0.752311</td>\n",
       "      <td>0.740626</td>\n",
       "      <td>0.694715</td>\n",
       "      <td>0.748233</td>\n",
       "      <td>0.748288</td>\n",
       "      <td>0.734487</td>\n",
       "      <td>NaN</td>\n",
       "      <td>NaN</td>\n",
       "      <td>NaN</td>\n",
       "      <td>NaN</td>\n",
       "      <td>NaN</td>\n",
       "      <td>NaN</td>\n",
       "      <td>NaN</td>\n",
       "    </tr>\n",
       "    <tr>\n",
       "      <th>沈阳新松机器人自动化股份有限公司</th>\n",
       "      <td>0.897061</td>\n",
       "      <td>0.952093</td>\n",
       "      <td>0.820406</td>\n",
       "      <td>0.901674</td>\n",
       "      <td>0.901795</td>\n",
       "      <td>0.686504</td>\n",
       "      <td>0.729945</td>\n",
       "      <td>0.774936</td>\n",
       "      <td>0.674942</td>\n",
       "      <td>0.664426</td>\n",
       "      <td>0.768122</td>\n",
       "      <td>0.800237</td>\n",
       "      <td>0.761473</td>\n",
       "      <td>0.768479</td>\n",
       "      <td>NaN</td>\n",
       "      <td>NaN</td>\n",
       "      <td>NaN</td>\n",
       "      <td>NaN</td>\n",
       "      <td>NaN</td>\n",
       "      <td>NaN</td>\n",
       "    </tr>\n",
       "    <tr>\n",
       "      <th>深圳市力可兴电池有限公司</th>\n",
       "      <td>0.708934</td>\n",
       "      <td>0.722097</td>\n",
       "      <td>0.871559</td>\n",
       "      <td>0.802806</td>\n",
       "      <td>0.626391</td>\n",
       "      <td>0.865762</td>\n",
       "      <td>0.885582</td>\n",
       "      <td>0.859908</td>\n",
       "      <td>0.936918</td>\n",
       "      <td>0.899090</td>\n",
       "      <td>0.876050</td>\n",
       "      <td>0.737917</td>\n",
       "      <td>0.833342</td>\n",
       "      <td>0.703875</td>\n",
       "      <td>0.638166</td>\n",
       "      <td>NaN</td>\n",
       "      <td>NaN</td>\n",
       "      <td>NaN</td>\n",
       "      <td>NaN</td>\n",
       "      <td>NaN</td>\n",
       "    </tr>\n",
       "    <tr>\n",
       "      <th>烽火通信科技股份有限公司</th>\n",
       "      <td>0.834269</td>\n",
       "      <td>0.854351</td>\n",
       "      <td>0.969347</td>\n",
       "      <td>0.933307</td>\n",
       "      <td>0.769579</td>\n",
       "      <td>0.891134</td>\n",
       "      <td>0.953540</td>\n",
       "      <td>0.945234</td>\n",
       "      <td>0.923893</td>\n",
       "      <td>0.902744</td>\n",
       "      <td>0.939847</td>\n",
       "      <td>0.867437</td>\n",
       "      <td>0.925042</td>\n",
       "      <td>0.767312</td>\n",
       "      <td>0.799939</td>\n",
       "      <td>0.905075</td>\n",
       "      <td>NaN</td>\n",
       "      <td>NaN</td>\n",
       "      <td>NaN</td>\n",
       "      <td>NaN</td>\n",
       "    </tr>\n",
       "    <tr>\n",
       "      <th>珠海格力电器股份有限公司</th>\n",
       "      <td>0.683689</td>\n",
       "      <td>0.734562</td>\n",
       "      <td>0.909492</td>\n",
       "      <td>0.864748</td>\n",
       "      <td>0.677827</td>\n",
       "      <td>0.793138</td>\n",
       "      <td>0.931546</td>\n",
       "      <td>0.895578</td>\n",
       "      <td>0.896174</td>\n",
       "      <td>0.911634</td>\n",
       "      <td>0.822287</td>\n",
       "      <td>0.801981</td>\n",
       "      <td>0.963251</td>\n",
       "      <td>0.694077</td>\n",
       "      <td>0.689962</td>\n",
       "      <td>0.790965</td>\n",
       "      <td>0.883203</td>\n",
       "      <td>NaN</td>\n",
       "      <td>NaN</td>\n",
       "      <td>NaN</td>\n",
       "    </tr>\n",
       "    <tr>\n",
       "      <th>福耀玻璃工业集团股份有限公司</th>\n",
       "      <td>0.749306</td>\n",
       "      <td>0.774526</td>\n",
       "      <td>0.953328</td>\n",
       "      <td>0.887754</td>\n",
       "      <td>0.694887</td>\n",
       "      <td>0.893622</td>\n",
       "      <td>0.985995</td>\n",
       "      <td>0.925975</td>\n",
       "      <td>0.933876</td>\n",
       "      <td>0.952700</td>\n",
       "      <td>0.900602</td>\n",
       "      <td>0.845770</td>\n",
       "      <td>0.953300</td>\n",
       "      <td>0.708336</td>\n",
       "      <td>0.711125</td>\n",
       "      <td>0.862610</td>\n",
       "      <td>0.946190</td>\n",
       "      <td>0.941260</td>\n",
       "      <td>NaN</td>\n",
       "      <td>NaN</td>\n",
       "    </tr>\n",
       "    <tr>\n",
       "      <th>贵研铂业股份有限公司</th>\n",
       "      <td>0.743863</td>\n",
       "      <td>0.752209</td>\n",
       "      <td>0.910153</td>\n",
       "      <td>0.841618</td>\n",
       "      <td>0.671794</td>\n",
       "      <td>0.972253</td>\n",
       "      <td>0.970654</td>\n",
       "      <td>0.863450</td>\n",
       "      <td>0.967731</td>\n",
       "      <td>0.954070</td>\n",
       "      <td>0.891200</td>\n",
       "      <td>0.814538</td>\n",
       "      <td>0.895069</td>\n",
       "      <td>0.711929</td>\n",
       "      <td>0.675660</td>\n",
       "      <td>0.920365</td>\n",
       "      <td>0.915579</td>\n",
       "      <td>0.860422</td>\n",
       "      <td>0.943646</td>\n",
       "      <td>NaN</td>\n",
       "    </tr>\n",
       "  </tbody>\n",
       "</table>\n",
       "</div>"
      ],
      "text/plain": [
       "Co                上海贝岭股份有限公司  中兴通讯股份有限公司  南京熊猫电子股份有限公司  四川长虹电器股份有限公司  \\\n",
       "Co                                                                     \n",
       "上海贝岭股份有限公司               NaN         NaN           NaN           NaN   \n",
       "中兴通讯股份有限公司          0.952813         NaN           NaN           NaN   \n",
       "南京熊猫电子股份有限公司        0.859238    0.890830           NaN           NaN   \n",
       "四川长虹电器股份有限公司        0.900869    0.957978      0.964147           NaN   \n",
       "国电南京自动化股份有限公司       0.885073    0.950877      0.824693      0.913801   \n",
       "大连路明发光科技股份有限公司      0.765322    0.760664      0.883618      0.826655   \n",
       "安泰科技股份有限公司          0.768442    0.793406      0.959115      0.894475   \n",
       "广东风华高新科技股份有限公司      0.788513    0.826107      0.938977      0.901017   \n",
       "新源动力股份有限公司          0.733053    0.753153      0.925773      0.857046   \n",
       "新疆众和股份有限公司          0.710348    0.733167      0.889783      0.841268   \n",
       "江苏中天科技股份有限公司        0.837583    0.849146      0.934286      0.896943   \n",
       "江苏亨通光电股份有限公司        0.859530    0.857718      0.892129      0.888315   \n",
       "江苏海鸥冷却塔股份有限公司       0.774899    0.820560      0.953775      0.918479   \n",
       "江苏长电科技股份有限公司        0.738849    0.835641      0.794667      0.857907   \n",
       "沈阳新松机器人自动化股份有限公司    0.897061    0.952093      0.820406      0.901674   \n",
       "深圳市力可兴电池有限公司        0.708934    0.722097      0.871559      0.802806   \n",
       "烽火通信科技股份有限公司        0.834269    0.854351      0.969347      0.933307   \n",
       "珠海格力电器股份有限公司        0.683689    0.734562      0.909492      0.864748   \n",
       "福耀玻璃工业集团股份有限公司      0.749306    0.774526      0.953328      0.887754   \n",
       "贵研铂业股份有限公司          0.743863    0.752209      0.910153      0.841618   \n",
       "\n",
       "Co                国电南京自动化股份有限公司  大连路明发光科技股份有限公司  安泰科技股份有限公司  广东风华高新科技股份有限公司  \\\n",
       "Co                                                                            \n",
       "上海贝岭股份有限公司                  NaN             NaN         NaN             NaN   \n",
       "中兴通讯股份有限公司                  NaN             NaN         NaN             NaN   \n",
       "南京熊猫电子股份有限公司                NaN             NaN         NaN             NaN   \n",
       "四川长虹电器股份有限公司                NaN             NaN         NaN             NaN   \n",
       "国电南京自动化股份有限公司               NaN             NaN         NaN             NaN   \n",
       "大连路明发光科技股份有限公司         0.682253             NaN         NaN             NaN   \n",
       "安泰科技股份有限公司             0.722456        0.935773         NaN             NaN   \n",
       "广东风华高新科技股份有限公司         0.758293        0.812703    0.934231             NaN   \n",
       "新源动力股份有限公司             0.673836        0.923266    0.952314        0.869154   \n",
       "新疆众和股份有限公司             0.652417        0.892703    0.950820        0.882028   \n",
       "江苏中天科技股份有限公司           0.754527        0.880733    0.905554        0.880540   \n",
       "江苏亨通光电股份有限公司           0.783726        0.817414    0.845080        0.798997   \n",
       "江苏海鸥冷却塔股份有限公司          0.762792        0.834245    0.952538        0.922288   \n",
       "江苏长电科技股份有限公司           0.846461        0.728771    0.735812        0.752311   \n",
       "沈阳新松机器人自动化股份有限公司       0.901795        0.686504    0.729945        0.774936   \n",
       "深圳市力可兴电池有限公司           0.626391        0.865762    0.885582        0.859908   \n",
       "烽火通信科技股份有限公司           0.769579        0.891134    0.953540        0.945234   \n",
       "珠海格力电器股份有限公司           0.677827        0.793138    0.931546        0.895578   \n",
       "福耀玻璃工业集团股份有限公司         0.694887        0.893622    0.985995        0.925975   \n",
       "贵研铂业股份有限公司             0.671794        0.972253    0.970654        0.863450   \n",
       "\n",
       "Co                新源动力股份有限公司  新疆众和股份有限公司  江苏中天科技股份有限公司  江苏亨通光电股份有限公司  \\\n",
       "Co                                                                     \n",
       "上海贝岭股份有限公司               NaN         NaN           NaN           NaN   \n",
       "中兴通讯股份有限公司               NaN         NaN           NaN           NaN   \n",
       "南京熊猫电子股份有限公司             NaN         NaN           NaN           NaN   \n",
       "四川长虹电器股份有限公司             NaN         NaN           NaN           NaN   \n",
       "国电南京自动化股份有限公司            NaN         NaN           NaN           NaN   \n",
       "大连路明发光科技股份有限公司           NaN         NaN           NaN           NaN   \n",
       "安泰科技股份有限公司               NaN         NaN           NaN           NaN   \n",
       "广东风华高新科技股份有限公司           NaN         NaN           NaN           NaN   \n",
       "新源动力股份有限公司               NaN         NaN           NaN           NaN   \n",
       "新疆众和股份有限公司          0.940120         NaN           NaN           NaN   \n",
       "江苏中天科技股份有限公司        0.893688    0.868204           NaN           NaN   \n",
       "江苏亨通光电股份有限公司        0.831350    0.780554      0.938639           NaN   \n",
       "江苏海鸥冷却塔股份有限公司       0.921819    0.919855      0.889252      0.859395   \n",
       "江苏长电科技股份有限公司        0.740626    0.694715      0.748233      0.748288   \n",
       "沈阳新松机器人自动化股份有限公司    0.674942    0.664426      0.768122      0.800237   \n",
       "深圳市力可兴电池有限公司        0.936918    0.899090      0.876050      0.737917   \n",
       "烽火通信科技股份有限公司        0.923893    0.902744      0.939847      0.867437   \n",
       "珠海格力电器股份有限公司        0.896174    0.911634      0.822287      0.801981   \n",
       "福耀玻璃工业集团股份有限公司      0.933876    0.952700      0.900602      0.845770   \n",
       "贵研铂业股份有限公司          0.967731    0.954070      0.891200      0.814538   \n",
       "\n",
       "Co                江苏海鸥冷却塔股份有限公司  江苏长电科技股份有限公司  沈阳新松机器人自动化股份有限公司  深圳市力可兴电池有限公司  \\\n",
       "Co                                                                              \n",
       "上海贝岭股份有限公司                  NaN           NaN               NaN           NaN   \n",
       "中兴通讯股份有限公司                  NaN           NaN               NaN           NaN   \n",
       "南京熊猫电子股份有限公司                NaN           NaN               NaN           NaN   \n",
       "四川长虹电器股份有限公司                NaN           NaN               NaN           NaN   \n",
       "国电南京自动化股份有限公司               NaN           NaN               NaN           NaN   \n",
       "大连路明发光科技股份有限公司              NaN           NaN               NaN           NaN   \n",
       "安泰科技股份有限公司                  NaN           NaN               NaN           NaN   \n",
       "广东风华高新科技股份有限公司              NaN           NaN               NaN           NaN   \n",
       "新源动力股份有限公司                  NaN           NaN               NaN           NaN   \n",
       "新疆众和股份有限公司                  NaN           NaN               NaN           NaN   \n",
       "江苏中天科技股份有限公司                NaN           NaN               NaN           NaN   \n",
       "江苏亨通光电股份有限公司                NaN           NaN               NaN           NaN   \n",
       "江苏海鸥冷却塔股份有限公司               NaN           NaN               NaN           NaN   \n",
       "江苏长电科技股份有限公司           0.734487           NaN               NaN           NaN   \n",
       "沈阳新松机器人自动化股份有限公司       0.761473      0.768479               NaN           NaN   \n",
       "深圳市力可兴电池有限公司           0.833342      0.703875          0.638166           NaN   \n",
       "烽火通信科技股份有限公司           0.925042      0.767312          0.799939      0.905075   \n",
       "珠海格力电器股份有限公司           0.963251      0.694077          0.689962      0.790965   \n",
       "福耀玻璃工业集团股份有限公司         0.953300      0.708336          0.711125      0.862610   \n",
       "贵研铂业股份有限公司             0.895069      0.711929          0.675660      0.920365   \n",
       "\n",
       "Co                烽火通信科技股份有限公司  珠海格力电器股份有限公司  福耀玻璃工业集团股份有限公司  贵研铂业股份有限公司  \n",
       "Co                                                                        \n",
       "上海贝岭股份有限公司                 NaN           NaN             NaN         NaN  \n",
       "中兴通讯股份有限公司                 NaN           NaN             NaN         NaN  \n",
       "南京熊猫电子股份有限公司               NaN           NaN             NaN         NaN  \n",
       "四川长虹电器股份有限公司               NaN           NaN             NaN         NaN  \n",
       "国电南京自动化股份有限公司              NaN           NaN             NaN         NaN  \n",
       "大连路明发光科技股份有限公司             NaN           NaN             NaN         NaN  \n",
       "安泰科技股份有限公司                 NaN           NaN             NaN         NaN  \n",
       "广东风华高新科技股份有限公司             NaN           NaN             NaN         NaN  \n",
       "新源动力股份有限公司                 NaN           NaN             NaN         NaN  \n",
       "新疆众和股份有限公司                 NaN           NaN             NaN         NaN  \n",
       "江苏中天科技股份有限公司               NaN           NaN             NaN         NaN  \n",
       "江苏亨通光电股份有限公司               NaN           NaN             NaN         NaN  \n",
       "江苏海鸥冷却塔股份有限公司              NaN           NaN             NaN         NaN  \n",
       "江苏长电科技股份有限公司               NaN           NaN             NaN         NaN  \n",
       "沈阳新松机器人自动化股份有限公司           NaN           NaN             NaN         NaN  \n",
       "深圳市力可兴电池有限公司               NaN           NaN             NaN         NaN  \n",
       "烽火通信科技股份有限公司               NaN           NaN             NaN         NaN  \n",
       "珠海格力电器股份有限公司          0.883203           NaN             NaN         NaN  \n",
       "福耀玻璃工业集团股份有限公司        0.946190      0.941260             NaN         NaN  \n",
       "贵研铂业股份有限公司            0.915579      0.860422        0.943646         NaN  "
      ]
     },
     "execution_count": 724,
     "metadata": {},
     "output_type": "execute_result"
    }
   ],
   "source": [
    "co_ids_vec_i=pd.read_parquet('data\\patent_co_vec_先进制造_2000.parquet')\n",
    "cosine_sim_df(co_ids_vec_i, triu=True)"
   ]
  },
  {
   "cell_type": "code",
   "execution_count": 727,
   "id": "014e4900-3e03-487c-818a-e22f4f3039c1",
   "metadata": {
    "scrolled": true
   },
   "outputs": [
    {
     "name": "stdout",
     "output_type": "stream",
     "text": [
      "2012 (1038, 1038)\n",
      "2013 (1354, 1354)\n",
      "2014 (1746, 1746)\n",
      "2015 (2366, 2366)\n",
      "2016 (3108, 3108)\n",
      "2017 (3765, 3765)\n",
      "2018 (4289, 4289)\n"
     ]
    },
    {
     "ename": "KeyboardInterrupt",
     "evalue": "",
     "output_type": "error",
     "traceback": [
      "\u001b[1;31m---------------------------------------------------------------------------\u001b[0m",
      "\u001b[1;31mKeyboardInterrupt\u001b[0m                         Traceback (most recent call last)",
      "Cell \u001b[1;32mIn[727], line 5\u001b[0m\n\u001b[0;32m      3\u001b[0m df_i\u001b[38;5;241m=\u001b[39mcosine_sim_df(co_ids_vec_i, triu\u001b[38;5;241m=\u001b[39m\u001b[38;5;28;01mTrue\u001b[39;00m)\n\u001b[0;32m      4\u001b[0m \u001b[38;5;28mprint\u001b[39m(i, df_i\u001b[38;5;241m.\u001b[39mshape)\n\u001b[1;32m----> 5\u001b[0m \u001b[43mdf_i\u001b[49m\u001b[38;5;241;43m.\u001b[39;49m\u001b[43mto_excel\u001b[49m\u001b[43m(\u001b[49m\u001b[38;5;124;43mf\u001b[39;49m\u001b[38;5;124;43m'\u001b[39;49m\u001b[38;5;124;43mdata\u001b[39;49m\u001b[38;5;124;43m\\\u001b[39;49m\u001b[38;5;124;43mpatent_co_vec_先进制造_\u001b[39;49m\u001b[38;5;132;43;01m{\u001b[39;49;00m\u001b[43mi\u001b[49m\u001b[38;5;132;43;01m}\u001b[39;49;00m\u001b[38;5;124;43m.xlsx\u001b[39;49m\u001b[38;5;124;43m'\u001b[39;49m\u001b[43m)\u001b[49m\n",
      "File \u001b[1;32m~\\AppData\\Roaming\\Python\\Python39\\site-packages\\pandas\\core\\generic.py:2252\u001b[0m, in \u001b[0;36mNDFrame.to_excel\u001b[1;34m(self, excel_writer, sheet_name, na_rep, float_format, columns, header, index, index_label, startrow, startcol, engine, merge_cells, inf_rep, freeze_panes, storage_options)\u001b[0m\n\u001b[0;32m   2239\u001b[0m \u001b[38;5;28;01mfrom\u001b[39;00m \u001b[38;5;21;01mpandas\u001b[39;00m\u001b[38;5;21;01m.\u001b[39;00m\u001b[38;5;21;01mio\u001b[39;00m\u001b[38;5;21;01m.\u001b[39;00m\u001b[38;5;21;01mformats\u001b[39;00m\u001b[38;5;21;01m.\u001b[39;00m\u001b[38;5;21;01mexcel\u001b[39;00m \u001b[38;5;28;01mimport\u001b[39;00m ExcelFormatter\n\u001b[0;32m   2241\u001b[0m formatter \u001b[38;5;241m=\u001b[39m ExcelFormatter(\n\u001b[0;32m   2242\u001b[0m     df,\n\u001b[0;32m   2243\u001b[0m     na_rep\u001b[38;5;241m=\u001b[39mna_rep,\n\u001b[1;32m   (...)\u001b[0m\n\u001b[0;32m   2250\u001b[0m     inf_rep\u001b[38;5;241m=\u001b[39minf_rep,\n\u001b[0;32m   2251\u001b[0m )\n\u001b[1;32m-> 2252\u001b[0m \u001b[43mformatter\u001b[49m\u001b[38;5;241;43m.\u001b[39;49m\u001b[43mwrite\u001b[49m\u001b[43m(\u001b[49m\n\u001b[0;32m   2253\u001b[0m \u001b[43m    \u001b[49m\u001b[43mexcel_writer\u001b[49m\u001b[43m,\u001b[49m\n\u001b[0;32m   2254\u001b[0m \u001b[43m    \u001b[49m\u001b[43msheet_name\u001b[49m\u001b[38;5;241;43m=\u001b[39;49m\u001b[43msheet_name\u001b[49m\u001b[43m,\u001b[49m\n\u001b[0;32m   2255\u001b[0m \u001b[43m    \u001b[49m\u001b[43mstartrow\u001b[49m\u001b[38;5;241;43m=\u001b[39;49m\u001b[43mstartrow\u001b[49m\u001b[43m,\u001b[49m\n\u001b[0;32m   2256\u001b[0m \u001b[43m    \u001b[49m\u001b[43mstartcol\u001b[49m\u001b[38;5;241;43m=\u001b[39;49m\u001b[43mstartcol\u001b[49m\u001b[43m,\u001b[49m\n\u001b[0;32m   2257\u001b[0m \u001b[43m    \u001b[49m\u001b[43mfreeze_panes\u001b[49m\u001b[38;5;241;43m=\u001b[39;49m\u001b[43mfreeze_panes\u001b[49m\u001b[43m,\u001b[49m\n\u001b[0;32m   2258\u001b[0m \u001b[43m    \u001b[49m\u001b[43mengine\u001b[49m\u001b[38;5;241;43m=\u001b[39;49m\u001b[43mengine\u001b[49m\u001b[43m,\u001b[49m\n\u001b[0;32m   2259\u001b[0m \u001b[43m    \u001b[49m\u001b[43mstorage_options\u001b[49m\u001b[38;5;241;43m=\u001b[39;49m\u001b[43mstorage_options\u001b[49m\u001b[43m,\u001b[49m\n\u001b[0;32m   2260\u001b[0m \u001b[43m\u001b[49m\u001b[43m)\u001b[49m\n",
      "File \u001b[1;32m~\\AppData\\Roaming\\Python\\Python39\\site-packages\\pandas\\io\\formats\\excel.py:940\u001b[0m, in \u001b[0;36mExcelFormatter.write\u001b[1;34m(self, writer, sheet_name, startrow, startcol, freeze_panes, engine, storage_options)\u001b[0m\n\u001b[0;32m    937\u001b[0m     need_save \u001b[38;5;241m=\u001b[39m \u001b[38;5;28;01mTrue\u001b[39;00m\n\u001b[0;32m    939\u001b[0m \u001b[38;5;28;01mtry\u001b[39;00m:\n\u001b[1;32m--> 940\u001b[0m     \u001b[43mwriter\u001b[49m\u001b[38;5;241;43m.\u001b[39;49m\u001b[43m_write_cells\u001b[49m\u001b[43m(\u001b[49m\n\u001b[0;32m    941\u001b[0m \u001b[43m        \u001b[49m\u001b[43mformatted_cells\u001b[49m\u001b[43m,\u001b[49m\n\u001b[0;32m    942\u001b[0m \u001b[43m        \u001b[49m\u001b[43msheet_name\u001b[49m\u001b[43m,\u001b[49m\n\u001b[0;32m    943\u001b[0m \u001b[43m        \u001b[49m\u001b[43mstartrow\u001b[49m\u001b[38;5;241;43m=\u001b[39;49m\u001b[43mstartrow\u001b[49m\u001b[43m,\u001b[49m\n\u001b[0;32m    944\u001b[0m \u001b[43m        \u001b[49m\u001b[43mstartcol\u001b[49m\u001b[38;5;241;43m=\u001b[39;49m\u001b[43mstartcol\u001b[49m\u001b[43m,\u001b[49m\n\u001b[0;32m    945\u001b[0m \u001b[43m        \u001b[49m\u001b[43mfreeze_panes\u001b[49m\u001b[38;5;241;43m=\u001b[39;49m\u001b[43mfreeze_panes\u001b[49m\u001b[43m,\u001b[49m\n\u001b[0;32m    946\u001b[0m \u001b[43m    \u001b[49m\u001b[43m)\u001b[49m\n\u001b[0;32m    947\u001b[0m \u001b[38;5;28;01mfinally\u001b[39;00m:\n\u001b[0;32m    948\u001b[0m     \u001b[38;5;66;03m# make sure to close opened file handles\u001b[39;00m\n\u001b[0;32m    949\u001b[0m     \u001b[38;5;28;01mif\u001b[39;00m need_save:\n",
      "File \u001b[1;32m~\\AppData\\Roaming\\Python\\Python39\\site-packages\\pandas\\io\\excel\\_openpyxl.py:487\u001b[0m, in \u001b[0;36mOpenpyxlWriter._write_cells\u001b[1;34m(self, cells, sheet_name, startrow, startcol, freeze_panes)\u001b[0m\n\u001b[0;32m    481\u001b[0m     wks\u001b[38;5;241m.\u001b[39mfreeze_panes \u001b[38;5;241m=\u001b[39m wks\u001b[38;5;241m.\u001b[39mcell(\n\u001b[0;32m    482\u001b[0m         row\u001b[38;5;241m=\u001b[39mfreeze_panes[\u001b[38;5;241m0\u001b[39m] \u001b[38;5;241m+\u001b[39m \u001b[38;5;241m1\u001b[39m, column\u001b[38;5;241m=\u001b[39mfreeze_panes[\u001b[38;5;241m1\u001b[39m] \u001b[38;5;241m+\u001b[39m \u001b[38;5;241m1\u001b[39m\n\u001b[0;32m    483\u001b[0m     )\n\u001b[0;32m    485\u001b[0m \u001b[38;5;28;01mfor\u001b[39;00m cell \u001b[38;5;129;01min\u001b[39;00m cells:\n\u001b[0;32m    486\u001b[0m     xcell \u001b[38;5;241m=\u001b[39m wks\u001b[38;5;241m.\u001b[39mcell(\n\u001b[1;32m--> 487\u001b[0m         row\u001b[38;5;241m=\u001b[39mstartrow \u001b[38;5;241m+\u001b[39m \u001b[43mcell\u001b[49m\u001b[38;5;241;43m.\u001b[39;49m\u001b[43mrow\u001b[49m \u001b[38;5;241m+\u001b[39m \u001b[38;5;241m1\u001b[39m, column\u001b[38;5;241m=\u001b[39mstartcol \u001b[38;5;241m+\u001b[39m cell\u001b[38;5;241m.\u001b[39mcol \u001b[38;5;241m+\u001b[39m \u001b[38;5;241m1\u001b[39m\n\u001b[0;32m    488\u001b[0m     )\n\u001b[0;32m    489\u001b[0m     xcell\u001b[38;5;241m.\u001b[39mvalue, fmt \u001b[38;5;241m=\u001b[39m \u001b[38;5;28mself\u001b[39m\u001b[38;5;241m.\u001b[39m_value_with_fmt(cell\u001b[38;5;241m.\u001b[39mval)\n\u001b[0;32m    490\u001b[0m     \u001b[38;5;28;01mif\u001b[39;00m fmt:\n",
      "\u001b[1;31mKeyboardInterrupt\u001b[0m: "
     ]
    }
   ],
   "source": [
    "for i  in range(2000,2025):\n",
    "    co_ids_vec_i=pd.read_parquet(f'data\\patent_co_vec_先进制造_{i}.parquet')\n",
    "    df_i=cosine_sim_df(co_ids_vec_i, triu=True)\n",
    "    print(i, df_i.shape)\n",
    "    df_i.to_excel(f'data\\patent_co_cosine_sim_先进制造_{i}.xlsx')"
   ]
  },
  {
   "cell_type": "code",
   "execution_count": 731,
   "id": "1954a434-0ed9-4658-b6d4-86ee27ccf955",
   "metadata": {},
   "outputs": [
    {
     "data": {
      "text/plain": [
       "6713056"
      ]
     },
     "execution_count": 731,
     "metadata": {},
     "output_type": "execute_result"
    }
   ],
   "source": [
    "import gc\n",
    "gc.collect()"
   ]
  },
  {
   "cell_type": "code",
   "execution_count": 3,
   "id": "4faa1f6e-62bc-4cb9-8e93-3d2f7e6ecc88",
   "metadata": {},
   "outputs": [],
   "source": [
    "import asyncio\n",
    "import nest_asyncio\n",
    "nest_asyncio.apply()"
   ]
  },
  {
   "cell_type": "code",
   "execution_count": 4,
   "id": "01e9a538-e725-4685-b350-7821d02d3fe9",
   "metadata": {},
   "outputs": [],
   "source": [
    "async def save_to_csv(df, year):\n",
    "    await asyncio.to_thread(df.to_csv, f'data/patent_co_cosine_sim_先进制造_{year}.csv', encoding=\"utf_8_sig\")#excel这个转换比较慢\n",
    "    \n",
    "async def process_year(i):\n",
    "    co_ids_vec_i = await asyncio.to_thread(pd.read_parquet,f'data/patent_co_vec_先进制造_{i}.parquet')\n",
    "    df_i =  await asyncio.to_thread(cosine_sim_df,co_ids_vec_i, True)\n",
    "    print(f'Start processing {i, df_i.shape}')\n",
    "    await save_to_csv(df_i, i)\n",
    "    print(f'Finished processing {i}')\n",
    "    del co_ids_vec_i, df_i\n",
    "    gc.collect()\n",
    "\n",
    "async def process_main(years, batch_size):\n",
    "    for i in range(0, len(years), batch_size):\n",
    "        tasks = [process_year(year) for year in years[i:i + batch_size]]\n",
    "        await asyncio.gather(*tasks)"
   ]
  },
  {
   "cell_type": "code",
   "execution_count": 5,
   "id": "9c6bde8a-482b-461f-909f-3c2bf380dc82",
   "metadata": {},
   "outputs": [
    {
     "name": "stdout",
     "output_type": "stream",
     "text": [
      "Start processing (2018, (4289, 4289))\n",
      "Start processing (2019, (4713, 4713))\n",
      "Start processing (2020, (5082, 5082))\n",
      "Finished processing 2018\n",
      "Finished processing 2019\n",
      "Finished processing 2020\n",
      "Start processing (2021, (6616, 6616))\n",
      "Start processing (2022, (7048, 7048))\n",
      "Start processing (2023, (7362, 7362))\n",
      "Finished processing 2021\n",
      "Finished processing 2022\n",
      "Finished processing 2023\n",
      "Start processing (2024, (7370, 7370))\n",
      "Finished processing 2024\n"
     ]
    }
   ],
   "source": [
    "years = range(2018,2025)\n",
    "batch_size = 3\n",
    "asyncio.run(process_main(years,batch_size))"
   ]
  },
  {
   "cell_type": "code",
   "execution_count": 645,
   "id": "6942614e-181a-4965-abc7-7fffb5467c4e",
   "metadata": {},
   "outputs": [
    {
     "name": "stdout",
     "output_type": "stream",
     "text": [
      "2000 20 20\n",
      "2001 56 56\n",
      "2002 107 107\n",
      "2003 174 174\n",
      "2004 259 259\n",
      "2005 364 364\n",
      "2006 516 516\n",
      "2007 739 739\n",
      "2008 1066 1066\n",
      "2009 1516 1516\n",
      "2010 2128 2128\n",
      "2011 2946 2946\n",
      "2012 3984 3984\n",
      "2013 5338 5338\n",
      "2014 7084 7084\n",
      "2015 9450 9450\n",
      "2016 12558 12558\n",
      "2017 16323 16323\n",
      "2018 20612 20612\n",
      "2019 25325 25325\n",
      "2020 30407 30407\n",
      "2021 37023 37023\n",
      "2022 44071 44071\n",
      "2023 51433 51433\n",
      "2024 58803 58803\n"
     ]
    }
   ],
   "source": [
    "payloads=[]\n",
    "vectors=[]\n",
    "for i  in range(2000,2025):\n",
    "    co_ids_vec_i=pd.read_parquet(f'data\\patent_co_vec_先进制造_{i}.parquet')\n",
    "    tmp=coinfo.loc[co_ids_vec_i.index]\n",
    "    tmp['观察年']=i\n",
    "    payloads+=tmp.reset_index().to_dict(orient='records')\n",
    "    vectors+=co_ids_vec_i.values.tolist()\n",
    "    print(i,len(payloads),len(vectors))"
   ]
  },
  {
   "cell_type": "code",
   "execution_count": 650,
   "id": "fd1571e3-4da1-4a4c-a4e9-3e71d59b1120",
   "metadata": {},
   "outputs": [
    {
     "data": {
      "text/plain": [
       "{'Co': '龙芯中科技术股份有限公司', '公司序号': 14927, '公司简称': '龙芯中科', '观察年': 2024}"
      ]
     },
     "execution_count": 650,
     "metadata": {},
     "output_type": "execute_result"
    }
   ],
   "source": [
    "payloads[-1]"
   ]
  },
  {
   "cell_type": "code",
   "execution_count": 646,
   "id": "d113720e-1aa8-42be-a59b-35e5d1dd24aa",
   "metadata": {},
   "outputs": [],
   "source": [
    "with open('data\\patent_co_payloads_先进制造.pkl', 'wb') as file:\n",
    "    pickle.dump(payloads, file)\n",
    "with open('data\\patent_co_vectors_先进制造.pkl', 'wb') as file:\n",
    "    pickle.dump(vectors, file)"
   ]
  },
  {
   "cell_type": "code",
   "execution_count": 627,
   "id": "42779460-1c82-4ca0-8945-17e34c224dde",
   "metadata": {},
   "outputs": [
    {
     "data": {
      "text/plain": [
       "50"
      ]
     },
     "execution_count": 627,
     "metadata": {},
     "output_type": "execute_result"
    }
   ],
   "source": [
    "len(model.topic_documents_dict)"
   ]
  },
  {
   "cell_type": "code",
   "execution_count": 628,
   "id": "90a827bf-cd7e-4875-a442-7a985130ad08",
   "metadata": {},
   "outputs": [
    {
     "name": "stdout",
     "output_type": "stream",
     "text": [
      "CPU times: total: 4min 23s\n",
      "Wall time: 4min 25s\n"
     ]
    },
    {
     "data": {
      "text/html": [
       "<div>\n",
       "<style scoped>\n",
       "    .dataframe tbody tr th:only-of-type {\n",
       "        vertical-align: middle;\n",
       "    }\n",
       "\n",
       "    .dataframe tbody tr th {\n",
       "        vertical-align: top;\n",
       "    }\n",
       "\n",
       "    .dataframe thead th {\n",
       "        text-align: right;\n",
       "    }\n",
       "</style>\n",
       "<table border=\"1\" class=\"dataframe\">\n",
       "  <thead>\n",
       "    <tr style=\"text-align: right;\">\n",
       "      <th></th>\n",
       "      <th>ebc</th>\n",
       "      <th>eic_sum</th>\n",
       "      <th>ec</th>\n",
       "      <th>word</th>\n",
       "    </tr>\n",
       "  </thead>\n",
       "  <tbody>\n",
       "    <tr>\n",
       "      <th>406</th>\n",
       "      <td>5.426343</td>\n",
       "      <td>733.771230</td>\n",
       "      <td>3981.694082</td>\n",
       "      <td>系统</td>\n",
       "    </tr>\n",
       "    <tr>\n",
       "      <th>744</th>\n",
       "      <td>5.436941</td>\n",
       "      <td>731.972858</td>\n",
       "      <td>3979.692944</td>\n",
       "      <td>控制</td>\n",
       "    </tr>\n",
       "    <tr>\n",
       "      <th>111</th>\n",
       "      <td>5.518216</td>\n",
       "      <td>717.666793</td>\n",
       "      <td>3960.240168</td>\n",
       "      <td>问题</td>\n",
       "    </tr>\n",
       "    <tr>\n",
       "      <th>109</th>\n",
       "      <td>5.524418</td>\n",
       "      <td>715.257235</td>\n",
       "      <td>3951.379757</td>\n",
       "      <td>解决</td>\n",
       "    </tr>\n",
       "    <tr>\n",
       "      <th>331</th>\n",
       "      <td>5.459413</td>\n",
       "      <td>723.168248</td>\n",
       "      <td>3948.074030</td>\n",
       "      <td>设备</td>\n",
       "    </tr>\n",
       "    <tr>\n",
       "      <th>112</th>\n",
       "      <td>5.458234</td>\n",
       "      <td>710.853541</td>\n",
       "      <td>3880.004633</td>\n",
       "      <td>降低</td>\n",
       "    </tr>\n",
       "    <tr>\n",
       "      <th>493</th>\n",
       "      <td>5.483613</td>\n",
       "      <td>706.678964</td>\n",
       "      <td>3875.154300</td>\n",
       "      <td>有效</td>\n",
       "    </tr>\n",
       "    <tr>\n",
       "      <th>1106</th>\n",
       "      <td>5.480125</td>\n",
       "      <td>703.694720</td>\n",
       "      <td>3856.335048</td>\n",
       "      <td>效率</td>\n",
       "    </tr>\n",
       "    <tr>\n",
       "      <th>920</th>\n",
       "      <td>5.462806</td>\n",
       "      <td>700.923821</td>\n",
       "      <td>3829.010799</td>\n",
       "      <td>避免</td>\n",
       "    </tr>\n",
       "    <tr>\n",
       "      <th>231</th>\n",
       "      <td>5.489151</td>\n",
       "      <td>691.777228</td>\n",
       "      <td>3797.269383</td>\n",
       "      <td>过程</td>\n",
       "    </tr>\n",
       "    <tr>\n",
       "      <th>961</th>\n",
       "      <td>5.433228</td>\n",
       "      <td>690.291762</td>\n",
       "      <td>3750.512368</td>\n",
       "      <td>检测</td>\n",
       "    </tr>\n",
       "    <tr>\n",
       "      <th>106</th>\n",
       "      <td>5.237219</td>\n",
       "      <td>713.468215</td>\n",
       "      <td>3736.589165</td>\n",
       "      <td>结构</td>\n",
       "    </tr>\n",
       "    <tr>\n",
       "      <th>1</th>\n",
       "      <td>5.521445</td>\n",
       "      <td>675.048266</td>\n",
       "      <td>3727.241810</td>\n",
       "      <td>不同</td>\n",
       "    </tr>\n",
       "    <tr>\n",
       "      <th>5</th>\n",
       "      <td>5.426346</td>\n",
       "      <td>686.345844</td>\n",
       "      <td>3724.350112</td>\n",
       "      <td>位置</td>\n",
       "    </tr>\n",
       "    <tr>\n",
       "      <th>115</th>\n",
       "      <td>5.469138</td>\n",
       "      <td>679.699263</td>\n",
       "      <td>3717.369382</td>\n",
       "      <td>保证</td>\n",
       "    </tr>\n",
       "    <tr>\n",
       "      <th>80</th>\n",
       "      <td>5.484018</td>\n",
       "      <td>676.971402</td>\n",
       "      <td>3712.523173</td>\n",
       "      <td>减少</td>\n",
       "    </tr>\n",
       "    <tr>\n",
       "      <th>627</th>\n",
       "      <td>5.487752</td>\n",
       "      <td>675.329510</td>\n",
       "      <td>3706.041023</td>\n",
       "      <td>操作</td>\n",
       "    </tr>\n",
       "    <tr>\n",
       "      <th>706</th>\n",
       "      <td>5.380391</td>\n",
       "      <td>684.108825</td>\n",
       "      <td>3680.772987</td>\n",
       "      <td>用户</td>\n",
       "    </tr>\n",
       "    <tr>\n",
       "      <th>991</th>\n",
       "      <td>5.526157</td>\n",
       "      <td>665.230357</td>\n",
       "      <td>3676.167586</td>\n",
       "      <td>方式</td>\n",
       "    </tr>\n",
       "    <tr>\n",
       "      <th>87</th>\n",
       "      <td>5.469157</td>\n",
       "      <td>671.772054</td>\n",
       "      <td>3674.026946</td>\n",
       "      <td>属于</td>\n",
       "    </tr>\n",
       "  </tbody>\n",
       "</table>\n",
       "</div>"
      ],
      "text/plain": [
       "           ebc     eic_sum           ec word\n",
       "406   5.426343  733.771230  3981.694082   系统\n",
       "744   5.436941  731.972858  3979.692944   控制\n",
       "111   5.518216  717.666793  3960.240168   问题\n",
       "109   5.524418  715.257235  3951.379757   解决\n",
       "331   5.459413  723.168248  3948.074030   设备\n",
       "112   5.458234  710.853541  3880.004633   降低\n",
       "493   5.483613  706.678964  3875.154300   有效\n",
       "1106  5.480125  703.694720  3856.335048   效率\n",
       "920   5.462806  700.923821  3829.010799   避免\n",
       "231   5.489151  691.777228  3797.269383   过程\n",
       "961   5.433228  690.291762  3750.512368   检测\n",
       "106   5.237219  713.468215  3736.589165   结构\n",
       "1     5.521445  675.048266  3727.241810   不同\n",
       "5     5.426346  686.345844  3724.350112   位置\n",
       "115   5.469138  679.699263  3717.369382   保证\n",
       "80    5.484018  676.971402  3712.523173   减少\n",
       "627   5.487752  675.329510  3706.041023   操作\n",
       "706   5.380391  684.108825  3680.772987   用户\n",
       "991   5.526157  665.230357  3676.167586   方式\n",
       "87    5.469157  671.772054  3674.026946   属于"
      ]
     },
     "execution_count": 628,
     "metadata": {},
     "output_type": "execute_result"
    }
   ],
   "source": [
    "%%time\n",
    "word_entropy=model.topic_word_entropy_corpus()\n",
    "word_entropy.head(20)"
   ]
  },
  {
   "cell_type": "code",
   "execution_count": 629,
   "id": "2aa4868a-a232-48c4-8210-ca3b51088316",
   "metadata": {},
   "outputs": [],
   "source": [
    "word_entropy.to_excel('data/patent_word_entropy_先进制造.xlsx')"
   ]
  },
  {
   "cell_type": "code",
   "execution_count": 209,
   "id": "1522f3d7-1934-437d-8d55-3e7eeb15e25c",
   "metadata": {},
   "outputs": [
    {
     "data": {
      "text/plain": [
       "0.0"
      ]
     },
     "execution_count": 209,
     "metadata": {},
     "output_type": "execute_result"
    }
   ],
   "source": [
    "(df_lda_w2v.iloc[max_index]-documents_vec[max_index]).sum()"
   ]
  },
  {
   "cell_type": "code",
   "execution_count": 210,
   "id": "0d756bea-dd27-4db6-9e90-aec0243f8776",
   "metadata": {},
   "outputs": [
    {
     "data": {
      "text/plain": [
       "166"
      ]
     },
     "execution_count": 210,
     "metadata": {},
     "output_type": "execute_result"
    }
   ],
   "source": [
    "df_lda_w2v.iloc[max_index].name"
   ]
  },
  {
   "cell_type": "code",
   "execution_count": 211,
   "id": "96e9bcf8-8f10-40cc-8df1-8b8ac658918e",
   "metadata": {},
   "outputs": [
    {
     "data": {
      "text/plain": [
       "5    一种电风扇摇头装置，其特征在于由两个同轴安 装的上传动盘和下传动盘组成，上传动盘的下表面设 ...\n",
       "Name: 摘要 (中文), dtype: object"
      ]
     },
     "execution_count": 211,
     "metadata": {},
     "output_type": "execute_result"
    }
   ],
   "source": [
    "patent_co.loc[patent_co.序号==166,'摘要 (中文)']"
   ]
  },
  {
   "cell_type": "code",
   "execution_count": 212,
   "id": "df76fec8-b5dc-42eb-b1e7-ef36730ef601",
   "metadata": {},
   "outputs": [
    {
     "data": {
      "text/plain": [
       "'电风扇摇头装置一种电风扇摇头装置，其特征在于由两个同轴安 装的上传动盘和下传动盘组成，上传动盘的下表面设 有凸起物，下传动盘的上表面设有供放置凸起物的径 向凹槽。该装置体积小，结构紧凑，为小型风扇的摇 头，特别是扇体的中心轴搭接在扇壳两端的这类电风 扇的变幅摇头摆动提供了可能性。'"
      ]
     },
     "execution_count": 212,
     "metadata": {},
     "output_type": "execute_result"
    }
   ],
   "source": [
    "doc#相似主题"
   ]
  },
  {
   "cell_type": "code",
   "execution_count": 321,
   "id": "b860d2b4-fd26-47e7-9e2d-9dedbcff4a86",
   "metadata": {},
   "outputs": [],
   "source": [
    "importlib.reload(w2v_lda)\n",
    "from w2v_lda import *\n",
    "tmp=W2vLda(sentences=None,wd_data=patent_co[:100],stop_words=Stopwords,suffix='111')"
   ]
  },
  {
   "cell_type": "code",
   "execution_count": 284,
   "id": "c5c2bba3-4cf5-4922-888c-a6046cf879c3",
   "metadata": {},
   "outputs": [
    {
     "data": {
      "text/plain": [
       "0     [竖式, 烧结, 冷却, 一种, 具有, 环形, 风道, 密闭, 结构, 竖式, 烧结, 冷...\n",
       "1     [具有, 抗静电, 轻垢, 液体, 洗衣, 洗涤剂, 提供, 一种, 透明, 半透明, 具有...\n",
       "2     [麦白, 霉素, 胃溶片, 生产工艺, 技术, 一种, 麦白, 霉素, 胃溶片, 生产工艺,...\n",
       "4     [变幅, 摇头, 电风扇, 一种, 变幅, 摇头, 电风扇, 包括, 扇体, 特征, 扇体,...\n",
       "5     [电风扇, 摇头, 装置, 一种, 电风扇, 摇头, 装置, 特征, 两个, 同轴, 传动,...\n",
       "                            ...                        \n",
       "92    [电池, 外观, 主创, 部分, 电池, 外包装, 图案, 色彩, 组合, 请求, 保护, 色彩]\n",
       "93    [挂板, 五号, 视图, 视图, 相同, 省略, 视图, 仰视, 相同, 省略, 仰视, 请...\n",
       "94    [挂板, 七号, 视图, 视图, 相同, 省略, 视图, 仰视, 相同, 省略, 仰视, 请...\n",
       "98    [带电, 车削, 加工, 装置, 一种, 带电, 车削, 加工, 装置, 可控硅, 供电, ...\n",
       "99    [影碟机, 包装盒, 相同, 故略, 视图, 仅为, 底色, 特殊, 设计, 要求, 故略,...\n",
       "Name: 标题 (中文), Length: 68, dtype: object"
      ]
     },
     "execution_count": 284,
     "metadata": {},
     "output_type": "execute_result"
    }
   ],
   "source": [
    "tmp.sentences"
   ]
  },
  {
   "cell_type": "code",
   "execution_count": 285,
   "id": "bb005f71-ba75-4958-b881-5690a4bccb07",
   "metadata": {},
   "outputs": [
    {
     "data": {
      "text/html": [
       "<div>\n",
       "<style scoped>\n",
       "    .dataframe tbody tr th:only-of-type {\n",
       "        vertical-align: middle;\n",
       "    }\n",
       "\n",
       "    .dataframe tbody tr th {\n",
       "        vertical-align: top;\n",
       "    }\n",
       "\n",
       "    .dataframe thead th {\n",
       "        text-align: right;\n",
       "    }\n",
       "</style>\n",
       "<table border=\"1\" class=\"dataframe\">\n",
       "  <thead>\n",
       "    <tr style=\"text-align: right;\">\n",
       "      <th></th>\n",
       "      <th>Co</th>\n",
       "      <th>序号</th>\n",
       "    </tr>\n",
       "  </thead>\n",
       "  <tbody>\n",
       "    <tr>\n",
       "      <th>0</th>\n",
       "      <td>云南铝业股份有限公司</td>\n",
       "      <td>[1106, 1213]</td>\n",
       "    </tr>\n",
       "    <tr>\n",
       "      <th>1</th>\n",
       "      <td>佛山电器照明股份有限公司</td>\n",
       "      <td>[174]</td>\n",
       "    </tr>\n",
       "    <tr>\n",
       "      <th>2</th>\n",
       "      <td>北京科技大学</td>\n",
       "      <td>[603]</td>\n",
       "    </tr>\n",
       "    <tr>\n",
       "      <th>3</th>\n",
       "      <td>南京熊猫电子股份有限公司</td>\n",
       "      <td>[557, 898, 1053, 1274]</td>\n",
       "    </tr>\n",
       "    <tr>\n",
       "      <th>4</th>\n",
       "      <td>唐山钢铁集团有限责任公司</td>\n",
       "      <td>[389, 393, 404, 470, 471, 472, 504, 521, 538, ...</td>\n",
       "    </tr>\n",
       "    <tr>\n",
       "      <th>5</th>\n",
       "      <td>四川长虹电器股份有限公司</td>\n",
       "      <td>[330, 344]</td>\n",
       "    </tr>\n",
       "    <tr>\n",
       "      <th>6</th>\n",
       "      <td>安阳钢铁股份有限公司</td>\n",
       "      <td>[603]</td>\n",
       "    </tr>\n",
       "    <tr>\n",
       "      <th>7</th>\n",
       "      <td>山东省药用玻璃股份有限公司</td>\n",
       "      <td>[271]</td>\n",
       "    </tr>\n",
       "    <tr>\n",
       "      <th>8</th>\n",
       "      <td>山东金泰集团股份有限公司</td>\n",
       "      <td>[142]</td>\n",
       "    </tr>\n",
       "    <tr>\n",
       "      <th>9</th>\n",
       "      <td>山东鲁抗医药股份有限公司</td>\n",
       "      <td>[154]</td>\n",
       "    </tr>\n",
       "    <tr>\n",
       "      <th>10</th>\n",
       "      <td>新疆众和股份有限公司</td>\n",
       "      <td>[496, 508]</td>\n",
       "    </tr>\n",
       "    <tr>\n",
       "      <th>11</th>\n",
       "      <td>珠海格力电器股份有限公司</td>\n",
       "      <td>[165, 166, 167, 575, 1063, 1227, 1229]</td>\n",
       "    </tr>\n",
       "    <tr>\n",
       "      <th>12</th>\n",
       "      <td>福建南平南孚电池有限公司</td>\n",
       "      <td>[1237, 1238, 1239]</td>\n",
       "    </tr>\n",
       "    <tr>\n",
       "      <th>13</th>\n",
       "      <td>贵研铂业股份有限公司</td>\n",
       "      <td>[889]</td>\n",
       "    </tr>\n",
       "    <tr>\n",
       "      <th>14</th>\n",
       "      <td>重庆钢铁股份有限公司</td>\n",
       "      <td>[123, 182, 312, 677, 801, 942, 1010, 1089, 110...</td>\n",
       "    </tr>\n",
       "  </tbody>\n",
       "</table>\n",
       "</div>"
      ],
      "text/plain": [
       "               Co                                                 序号\n",
       "0      云南铝业股份有限公司                                       [1106, 1213]\n",
       "1    佛山电器照明股份有限公司                                              [174]\n",
       "2          北京科技大学                                              [603]\n",
       "3    南京熊猫电子股份有限公司                             [557, 898, 1053, 1274]\n",
       "4    唐山钢铁集团有限责任公司  [389, 393, 404, 470, 471, 472, 504, 521, 538, ...\n",
       "5    四川长虹电器股份有限公司                                         [330, 344]\n",
       "6      安阳钢铁股份有限公司                                              [603]\n",
       "7   山东省药用玻璃股份有限公司                                              [271]\n",
       "8    山东金泰集团股份有限公司                                              [142]\n",
       "9    山东鲁抗医药股份有限公司                                              [154]\n",
       "10     新疆众和股份有限公司                                         [496, 508]\n",
       "11   珠海格力电器股份有限公司             [165, 166, 167, 575, 1063, 1227, 1229]\n",
       "12   福建南平南孚电池有限公司                                 [1237, 1238, 1239]\n",
       "13     贵研铂业股份有限公司                                              [889]\n",
       "14     重庆钢铁股份有限公司  [123, 182, 312, 677, 801, 942, 1010, 1089, 110..."
      ]
     },
     "execution_count": 285,
     "metadata": {},
     "output_type": "execute_result"
    }
   ],
   "source": [
    "tmp.group_ids"
   ]
  },
  {
   "cell_type": "code",
   "execution_count": 297,
   "id": "cc0c417a-1b55-4ba9-928e-07038bae58d2",
   "metadata": {},
   "outputs": [
    {
     "data": {
      "text/html": [
       "<div>\n",
       "<style scoped>\n",
       "    .dataframe tbody tr th:only-of-type {\n",
       "        vertical-align: middle;\n",
       "    }\n",
       "\n",
       "    .dataframe tbody tr th {\n",
       "        vertical-align: top;\n",
       "    }\n",
       "\n",
       "    .dataframe thead th {\n",
       "        text-align: right;\n",
       "    }\n",
       "</style>\n",
       "<table border=\"1\" class=\"dataframe\">\n",
       "  <thead>\n",
       "    <tr style=\"text-align: right;\">\n",
       "      <th></th>\n",
       "      <th>word</th>\n",
       "      <th>topic</th>\n",
       "    </tr>\n",
       "  </thead>\n",
       "  <tbody>\n",
       "    <tr>\n",
       "      <th>0</th>\n",
       "      <td>目标</td>\n",
       "      <td>0</td>\n",
       "    </tr>\n",
       "    <tr>\n",
       "      <th>1</th>\n",
       "      <td>测量</td>\n",
       "      <td>0</td>\n",
       "    </tr>\n",
       "    <tr>\n",
       "      <th>2</th>\n",
       "      <td>切换</td>\n",
       "      <td>0</td>\n",
       "    </tr>\n",
       "    <tr>\n",
       "      <th>3</th>\n",
       "      <td>沟槽</td>\n",
       "      <td>0</td>\n",
       "    </tr>\n",
       "    <tr>\n",
       "      <th>4</th>\n",
       "      <td>触发</td>\n",
       "      <td>0</td>\n",
       "    </tr>\n",
       "    <tr>\n",
       "      <th>...</th>\n",
       "      <td>...</td>\n",
       "      <td>...</td>\n",
       "    </tr>\n",
       "    <tr>\n",
       "      <th>1495</th>\n",
       "      <td>短路</td>\n",
       "      <td>49</td>\n",
       "    </tr>\n",
       "    <tr>\n",
       "      <th>1496</th>\n",
       "      <td>工作人员</td>\n",
       "      <td>49</td>\n",
       "    </tr>\n",
       "    <tr>\n",
       "      <th>1497</th>\n",
       "      <td>橡胶</td>\n",
       "      <td>49</td>\n",
       "    </tr>\n",
       "    <tr>\n",
       "      <th>1498</th>\n",
       "      <td>水流</td>\n",
       "      <td>49</td>\n",
       "    </tr>\n",
       "    <tr>\n",
       "      <th>1499</th>\n",
       "      <td>阻尼</td>\n",
       "      <td>49</td>\n",
       "    </tr>\n",
       "  </tbody>\n",
       "</table>\n",
       "<p>1500 rows × 2 columns</p>\n",
       "</div>"
      ],
      "text/plain": [
       "      word  topic\n",
       "0       目标      0\n",
       "1       测量      0\n",
       "2       切换      0\n",
       "3       沟槽      0\n",
       "4       触发      0\n",
       "...    ...    ...\n",
       "1495    短路     49\n",
       "1496  工作人员     49\n",
       "1497    橡胶     49\n",
       "1498    水流     49\n",
       "1499    阻尼     49\n",
       "\n",
       "[1500 rows x 2 columns]"
      ]
     },
     "execution_count": 297,
     "metadata": {},
     "output_type": "execute_result"
    }
   ],
   "source": [
    "words=[]\n",
    "for topic_id in range(model.lda.num_topics):\n",
    "    word_distribute=model.lda.show_topic(topicid=topic_id, topn=30)\n",
    "    words +=[(word,topic_id) for word, _ in word_distribute]\n",
    "    \n",
    "df_wt=pd.DataFrame(words,columns=['word','topic'])\n",
    "df_wt"
   ]
  },
  {
   "cell_type": "code",
   "execution_count": 307,
   "id": "f1487d09-9574-42e5-b14f-d38ce09c98cf",
   "metadata": {},
   "outputs": [
    {
     "data": {
      "text/plain": [
       "word\n",
       "一种    36\n",
       "包括    28\n",
       "进行    22\n",
       "用于    19\n",
       "公开    17\n",
       "提供    15\n",
       "涉及    13\n",
       "方法    12\n",
       "提高    12\n",
       "设置    10\n",
       "装置     9\n",
       "连接     8\n",
       "实现     8\n",
       "能够     8\n",
       "具有     8\n",
       "之间     7\n",
       "应用     5\n",
       "形成     5\n",
       "表面     5\n",
       "处理     5\n",
       "一个     4\n",
       "结构     4\n",
       "位于     4\n",
       "方向     4\n",
       "执行     4\n",
       "多个     4\n",
       "效率     4\n",
       "对应     4\n",
       "至少     4\n",
       "通信     4\n",
       "确定     4\n",
       "获取     4\n",
       "Name: count, dtype: int64"
      ]
     },
     "execution_count": 307,
     "metadata": {},
     "output_type": "execute_result"
    }
   ],
   "source": [
    "df_wt.value_counts()[:32]"
   ]
  },
  {
   "cell_type": "code",
   "execution_count": 353,
   "id": "fc391c15-b9f5-4a40-84af-547c392a2988",
   "metadata": {},
   "outputs": [
    {
     "data": {
      "text/plain": [
       "word\n",
       "效率    7\n",
       "接收    6\n",
       "输入    5\n",
       "情况    5\n",
       "生成    5\n",
       "过程    5\n",
       "结构    5\n",
       "位于    5\n",
       "输出    4\n",
       "性能    4\n",
       "不同    4\n",
       "配置    4\n",
       "执行    4\n",
       "计算    4\n",
       "指令    4\n",
       "实时    4\n",
       "需求    3\n",
       "类型    3\n",
       "一侧    3\n",
       "设有    3\n",
       "Name: count, dtype: int64"
      ]
     },
     "execution_count": 353,
     "metadata": {},
     "output_type": "execute_result"
    }
   ],
   "source": [
    "df_wt=model.topics_words(topn=30)\n",
    "df_wt.value_counts()[:20]"
   ]
  },
  {
   "cell_type": "code",
   "execution_count": 299,
   "id": "99d500d6-faa1-402c-a136-75933ac76c7a",
   "metadata": {},
   "outputs": [
    {
     "data": {
      "text/plain": [
       "False"
      ]
     },
     "execution_count": 299,
     "metadata": {},
     "output_type": "execute_result"
    }
   ],
   "source": [
    "'一种' in model.stop_words"
   ]
  },
  {
   "cell_type": "code",
   "execution_count": 300,
   "id": "2dff2440-a52c-4124-9b56-2bcbc84d3c17",
   "metadata": {},
   "outputs": [
    {
     "data": {
      "text/plain": [
       "False"
      ]
     },
     "execution_count": 300,
     "metadata": {},
     "output_type": "execute_result"
    }
   ],
   "source": [
    "'一种' in Stopwords"
   ]
  },
  {
   "cell_type": "code",
   "execution_count": 315,
   "id": "babe461b-936d-4598-b3af-c4d9c0f9bc6a",
   "metadata": {},
   "outputs": [],
   "source": [
    "stop_1=[\n",
    "'一种',\n",
    "'每种',\n",
    "'每次',\n",
    "'根据',\n",
    "'第一',\n",
    "'第二',\n",
    "'第三',\n",
    "'所述',\n",
    "'包括',\n",
    "'进行',\n",
    "'获取',\n",
    "'对应',\n",
    "'确定',\n",
    "'基于',\n",
    "'得到',\n",
    "'提供',\n",
    "'通过',\n",
    "'方法',\n",
    "'装置',\n",
    "'请求',\n",
    "'申请',\n",
    "'一个',\n",
    "'两个',\n",
    "'多个',\n",
    "\"公开\",\n",
    "'应用',\n",
    "\"用于\",\n",
    "\"使用\",\n",
    "\"能够\",\n",
    "\"实现\",\n",
    "\"用以\",\n",
    "\"上述\",\n",
    "\"提高\",\n",
    "'采用',\n",
    "'利用',\n",
    "'获得',\n",
    "'提升',\n",
    "'之间',\n",
    "'多笔',\n",
    "'多种',\n",
    "'是否',\n",
    "'涉及',\n",
    "'处理',\n",
    "'形成',\n",
    "'至少',\n",
    "'具有']\n",
    "stop_1+=df_wt.word.value_counts()[:16].index.tolist()"
   ]
  },
  {
   "cell_type": "code",
   "execution_count": 319,
   "id": "17dd478e-785f-4a90-bf27-7b6f1462d0b7",
   "metadata": {},
   "outputs": [
    {
     "data": {
      "text/plain": [
       "6956"
      ]
     },
     "execution_count": 319,
     "metadata": {},
     "output_type": "execute_result"
    }
   ],
   "source": [
    "Stopwords=sorted(set(i.strip() for i in Stopwords+stop_1)) \n",
    "len(Stopwords)"
   ]
  },
  {
   "cell_type": "code",
   "execution_count": 320,
   "id": "87f19c7e-9465-4e50-9c5e-2f26389de2a1",
   "metadata": {},
   "outputs": [],
   "source": [
    "with open('data\\\\专利停用词表2024.txt', \"w\",encoding='UTF-8') as file:\n",
    "    for item in Stopwords:\n",
    "        file.write((item) + \"\\n\")"
   ]
  }
 ],
 "metadata": {
  "kernelspec": {
   "display_name": "Python 3 (ipykernel)",
   "language": "python",
   "name": "python3"
  },
  "language_info": {
   "codemirror_mode": {
    "name": "ipython",
    "version": 3
   },
   "file_extension": ".py",
   "mimetype": "text/x-python",
   "name": "python",
   "nbconvert_exporter": "python",
   "pygments_lexer": "ipython3",
   "version": "3.9.13"
  }
 },
 "nbformat": 4,
 "nbformat_minor": 5
}
